{
 "cells": [
  {
   "cell_type": "markdown",
   "metadata": {},
   "source": [
    "# Table of Contents\n",
    "1. [Imports](#imports)\n",
    "2. [Import File](#importFile)\n",
    "    1. [Example Contents](#exampleContents)\n",
    "3. [Construction Full DataFrame](#fullDF)\n",
    "4. [DataaFrame to CSV](#CSV)"
   ]
  },
  {
   "cell_type": "markdown",
   "metadata": {},
   "source": [
    "# Imports <a name=\"imports\"></a>"
   ]
  },
  {
   "cell_type": "code",
   "execution_count": 1,
   "metadata": {},
   "outputs": [],
   "source": [
    "#Read JSON files\n",
    "import json\n",
    "import pandas as pd"
   ]
  },
  {
   "cell_type": "markdown",
   "metadata": {},
   "source": [
    "# Import Events file <a name=\"importFile\"></a>\n",
    "Import the open data file "
   ]
  },
  {
   "cell_type": "code",
   "execution_count": 22,
   "metadata": {},
   "outputs": [],
   "source": [
    "with open(\"../Data/Original/Evenementen.json\") as event_data:\n",
    "    events = json.load(event_data)"
   ]
  },
  {
   "cell_type": "markdown",
   "metadata": {},
   "source": [
    "## Example contents <a name=\"exampleContents\"></a>\n",
    "Below is an example snippet of an event in the file"
   ]
  },
  {
   "cell_type": "code",
   "execution_count": 23,
   "metadata": {},
   "outputs": [
    {
     "name": "stdout",
     "output_type": "stream",
     "text": [
      "Event:  Springsnow Festival\n",
      "City:  AMSTERDAM\n",
      "Adress:  Diverse locaties / Various locations\n",
      "Zipcode:  1012 JS\n",
      "Coordinates:  52,3726380 4,8941060\n",
      "Date:  {'startdate': '20-04-2018', 'enddate': '20-05-2018'}\n"
     ]
    }
   ],
   "source": [
    "#Return eventname\n",
    "print(\"Event: \", events[0][\"title\"])\n",
    "\n",
    "#Return exact location event in human terms\n",
    "print(\"City: \", events[0][\"location\"][\"city\"])\n",
    "print(\"Adress: \", events[0][\"location\"][\"adress\"])\n",
    "print(\"Zipcode: \", events[0][\"location\"][\"zipcode\"])\n",
    "\n",
    "#Check source crowdedness\n",
    "print(\"Coordinates: \", events[0][\"location\"][\"latitude\"], events[0][\"location\"][\"longitude\"]) \n",
    "\n",
    "#Check whether the data has an event\n",
    "print(\"Date: \", events[0][\"dates\"])"
   ]
  },
  {
   "cell_type": "markdown",
   "metadata": {},
   "source": [
    "# Full Dataset <a name=\"fullDF\"></a>\n",
    "As not all the variables are usable, we make a subset of the following variables:\n",
    "- *Event Name*: Show the event name\n",
    "- *Coordinates*: Show the coordinates of the event\n",
    "- *Data*: Show the event date(s)"
   ]
  },
  {
   "cell_type": "code",
   "execution_count": 24,
   "metadata": {},
   "outputs": [],
   "source": [
    "#Save all the events in the list\n",
    "events_dict = {}\n",
    "\n",
    "#Loop over all the events\n",
    "j = 0\n",
    "for event in events: \n",
    "    #Temporary save dates\n",
    "    dates = []\n",
    "    \n",
    "    #Check if saved in format one or two\n",
    "    if \"startdate\" in event[\"dates\"]: \n",
    "        dates.append(event[\"dates\"][\"startdate\"])\n",
    "        dates.append(event[\"dates\"][\"enddate\"])\n",
    "    elif \"singles\" in event[\"dates\"]:\n",
    "        for date in event[\"dates\"][\"singles\"]:\n",
    "                dates.append(date)\n",
    "    \n",
    "    #Dict with all data single event\n",
    "    event = {\"Event\": event[\"title\"], \"Latitude\": event[\"location\"][\"latitude\"], \"Longtitude\": \n",
    "             event[\"location\"][\"longitude\"], \"Data\": dates}\n",
    "    \n",
    "    #Append dict to list\n",
    "    events_dict[j] = event\n",
    "    j += 1"
   ]
  },
  {
   "cell_type": "code",
   "execution_count": 25,
   "metadata": {},
   "outputs": [],
   "source": [
    "df = pd.DataFrame.from_dict(events_dict, orient=\"index\")"
   ]
  },
  {
   "cell_type": "code",
   "execution_count": 26,
   "metadata": {},
   "outputs": [
    {
     "data": {
      "text/html": [
       "<div>\n",
       "<style scoped>\n",
       "    .dataframe tbody tr th:only-of-type {\n",
       "        vertical-align: middle;\n",
       "    }\n",
       "\n",
       "    .dataframe tbody tr th {\n",
       "        vertical-align: top;\n",
       "    }\n",
       "\n",
       "    .dataframe thead th {\n",
       "        text-align: right;\n",
       "    }\n",
       "</style>\n",
       "<table border=\"1\" class=\"dataframe\">\n",
       "  <thead>\n",
       "    <tr style=\"text-align: right;\">\n",
       "      <th></th>\n",
       "      <th>Event</th>\n",
       "      <th>Latitude</th>\n",
       "      <th>Longtitude</th>\n",
       "      <th>Data</th>\n",
       "    </tr>\n",
       "  </thead>\n",
       "  <tbody>\n",
       "    <tr>\n",
       "      <th>0</th>\n",
       "      <td>Springsnow Festival</td>\n",
       "      <td>52,3726380</td>\n",
       "      <td>4,8941060</td>\n",
       "      <td>[20-04-2018, 20-05-2018]</td>\n",
       "    </tr>\n",
       "    <tr>\n",
       "      <th>1</th>\n",
       "      <td>Vurige Tongen</td>\n",
       "      <td>52,4103320</td>\n",
       "      <td>4,7490690</td>\n",
       "      <td>[20-05-2018, 21-05-2018]</td>\n",
       "    </tr>\n",
       "    <tr>\n",
       "      <th>2</th>\n",
       "      <td>Sneakerness</td>\n",
       "      <td>52,3828340</td>\n",
       "      <td>4,9204560</td>\n",
       "      <td>[03-06-2018, 04-06-2018]</td>\n",
       "    </tr>\n",
       "    <tr>\n",
       "      <th>3</th>\n",
       "      <td>Dutch Raw Food Festival</td>\n",
       "      <td>52,4362550</td>\n",
       "      <td>4,8167080</td>\n",
       "      <td>[17-06-2018]</td>\n",
       "    </tr>\n",
       "    <tr>\n",
       "      <th>4</th>\n",
       "      <td>Holland Festival</td>\n",
       "      <td>52,3615820</td>\n",
       "      <td>4,8854790</td>\n",
       "      <td>[02-06-2018, 03-06-2018, 04-06-2018, 05-06-201...</td>\n",
       "    </tr>\n",
       "  </tbody>\n",
       "</table>\n",
       "</div>"
      ],
      "text/plain": [
       "                     Event    Latitude Longtitude  \\\n",
       "0      Springsnow Festival  52,3726380  4,8941060   \n",
       "1            Vurige Tongen  52,4103320  4,7490690   \n",
       "2              Sneakerness  52,3828340  4,9204560   \n",
       "3  Dutch Raw Food Festival  52,4362550  4,8167080   \n",
       "4         Holland Festival  52,3615820  4,8854790   \n",
       "\n",
       "                                                Data  \n",
       "0                           [20-04-2018, 20-05-2018]  \n",
       "1                           [20-05-2018, 21-05-2018]  \n",
       "2                           [03-06-2018, 04-06-2018]  \n",
       "3                                       [17-06-2018]  \n",
       "4  [02-06-2018, 03-06-2018, 04-06-2018, 05-06-201...  "
      ]
     },
     "execution_count": 26,
     "metadata": {},
     "output_type": "execute_result"
    }
   ],
   "source": [
    "df.head()"
   ]
  },
  {
   "cell_type": "markdown",
   "metadata": {},
   "source": [
    "# Save to file <a name=\"CSV\"></a>\n",
    "Save the list of subset events to file"
   ]
  },
  {
   "cell_type": "code",
   "execution_count": 27,
   "metadata": {},
   "outputs": [],
   "source": [
    "df.to_csv(\"../../../Data_thesis/Full_Datasets/Events.csv\", index=False)"
   ]
  }
 ],
 "metadata": {
  "kernelspec": {
   "display_name": "Python 3",
   "language": "python",
   "name": "python3"
  },
  "language_info": {
   "codemirror_mode": {
    "name": "ipython",
    "version": 3
   },
   "file_extension": ".py",
   "mimetype": "text/x-python",
   "name": "python",
   "nbconvert_exporter": "python",
   "pygments_lexer": "ipython3",
   "version": "3.7.1"
  }
 },
 "nbformat": 4,
 "nbformat_minor": 2
}
