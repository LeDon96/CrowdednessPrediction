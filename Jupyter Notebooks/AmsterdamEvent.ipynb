{
 "cells": [
  {
   "cell_type": "markdown",
   "metadata": {},
   "source": [
    "# Imports"
   ]
  },
  {
   "cell_type": "code",
   "execution_count": 2,
   "metadata": {},
   "outputs": [],
   "source": [
    "#Read JSON files\n",
    "import json"
   ]
  },
  {
   "cell_type": "markdown",
   "metadata": {},
   "source": [
    "# Data Exploration"
   ]
  },
  {
   "cell_type": "markdown",
   "metadata": {},
   "source": [
    "## Import Events file\n",
    "Import the open data file "
   ]
  },
  {
   "cell_type": "code",
   "execution_count": 5,
   "metadata": {},
   "outputs": [],
   "source": [
    "with open(\"../Data/Original/Evenementen.json\") as event_data:\n",
    "    events = json.load(event_data)"
   ]
  },
  {
   "cell_type": "markdown",
   "metadata": {},
   "source": [
    "## Example contents\n",
    "Below is an example snippet of an event in the file"
   ]
  },
  {
   "cell_type": "code",
   "execution_count": 6,
   "metadata": {},
   "outputs": [
    {
     "name": "stdout",
     "output_type": "stream",
     "text": [
      "Event:  Springsnow Festival\n",
      "City:  AMSTERDAM\n",
      "Adress:  Diverse locaties / Various locations\n",
      "Zipcode:  1012 JS\n",
      "Coordinates:  52,3726380 4,8941060\n",
      "Date:  {'startdate': '20-04-2018', 'enddate': '20-05-2018'}\n"
     ]
    }
   ],
   "source": [
    "#Return eventname\n",
    "print(\"Event: \", events[0][\"title\"])\n",
    "\n",
    "#Return exact location event in human terms\n",
    "print(\"City: \", events[0][\"location\"][\"city\"])\n",
    "print(\"Adress: \", events[0][\"location\"][\"adress\"])\n",
    "print(\"Zipcode: \", events[0][\"location\"][\"zipcode\"])\n",
    "\n",
    "#Check source crowdedness\n",
    "print(\"Coordinates: \", events[0][\"location\"][\"latitude\"], events[0][\"location\"][\"longitude\"]) \n",
    "\n",
    "#Check whether the data has an event\n",
    "print(\"Date: \", events[0][\"dates\"])"
   ]
  },
  {
   "cell_type": "markdown",
   "metadata": {},
   "source": [
    "## Subset\n",
    "As not all the variables are usable, we make a subset of the following variables:\n",
    "- *Event Name*: Show the event name\n",
    "- *Coordinates*: Show the coordinates of the event\n",
    "- *Data*: Show the event date(s)"
   ]
  },
  {
   "cell_type": "code",
   "execution_count": 9,
   "metadata": {},
   "outputs": [],
   "source": [
    "#Save all the events in the list\n",
    "events_list = []\n",
    "\n",
    "#Loop over all the events\n",
    "for event in events: \n",
    "    #Save the coordinates in a dict, as these are seperate in original file\n",
    "    coordinates = {\"Latitude\": event[\"location\"][\"latitude\"], \"Longtitude\": event[\"location\"][\"longitude\"]}\n",
    "\n",
    "    #Dict with all data single event\n",
    "    event_dict = {\"Event\": event[\"title\"], \"Coordinates\": coordinates, \"Data\": event[\"dates\"]}\n",
    "    \n",
    "    #Append dict to list\n",
    "    events_list.append(event_dict)"
   ]
  },
  {
   "cell_type": "code",
   "execution_count": 10,
   "metadata": {},
   "outputs": [
    {
     "name": "stdout",
     "output_type": "stream",
     "text": [
      "{'Event': 'Springsnow Festival', 'Coordinates': {'Latitude': '52,3726380', 'Longtitude': '4,8941060'}, 'Data': {'startdate': '20-04-2018', 'enddate': '20-05-2018'}}\n"
     ]
    }
   ],
   "source": [
    "#Example snippet\n",
    "print(events_list[0])"
   ]
  },
  {
   "cell_type": "markdown",
   "metadata": {},
   "source": [
    "## Save to file\n",
    "Save the list of subset events to file"
   ]
  },
  {
   "cell_type": "code",
   "execution_count": 11,
   "metadata": {},
   "outputs": [],
   "source": [
    "with open(\"../Data/Modified/Events.json\", \"a\") as writer:\n",
    "    json.dump(events_list, writer)"
   ]
  },
  {
   "cell_type": "markdown",
   "metadata": {},
   "source": [
    "## Check\n",
    "Check whether the file is correctly saved"
   ]
  },
  {
   "cell_type": "code",
   "execution_count": 13,
   "metadata": {},
   "outputs": [
    {
     "name": "stdout",
     "output_type": "stream",
     "text": [
      "{'Event': 'Springsnow Festival', 'Coordinates': {'Latitude': '52,3726380', 'Longtitude': '4,8941060'}, 'Data': {'startdate': '20-04-2018', 'enddate': '20-05-2018'}}\n"
     ]
    }
   ],
   "source": [
    "with open(\"../Data/Modified/Events.json\") as f:\n",
    "    events = json.load(f)\n",
    "    \n",
    "    print(events[0])"
   ]
  }
 ],
 "metadata": {
  "kernelspec": {
   "display_name": "Python 3",
   "language": "python",
   "name": "python3"
  },
  "language_info": {
   "codemirror_mode": {
    "name": "ipython",
    "version": 3
   },
   "file_extension": ".py",
   "mimetype": "text/x-python",
   "name": "python",
   "nbconvert_exporter": "python",
   "pygments_lexer": "ipython3",
   "version": "3.7.1"
  }
 },
 "nbformat": 4,
 "nbformat_minor": 2
}
