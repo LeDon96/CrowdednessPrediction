{
 "cells": [
  {
   "cell_type": "markdown",
   "metadata": {},
   "source": [
    "# Amsterdam Event Data"
   ]
  },
  {
   "cell_type": "markdown",
   "metadata": {},
   "source": [
    "## Table of Contents\n",
    "1. [Imports](#imports)\n",
    "2. [Import File](#importFile)\n",
    "    1. [Example Contents](#exampleContents)\n",
    "3. [Construction Full DataFrame](#fullDF)\n",
    "4. [DataaFrame to CSV](#CSV)"
   ]
  },
  {
   "cell_type": "markdown",
   "metadata": {},
   "source": [
    "## Imports <a name=\"imports\"></a>"
   ]
  },
  {
   "cell_type": "code",
   "execution_count": 9,
   "metadata": {},
   "outputs": [],
   "source": [
    "#Read JSON files\n",
    "import json\n",
    "import pandas as pd\n",
    "import matplotlib.pyplot as plt\n",
    "import datetime"
   ]
  },
  {
   "cell_type": "markdown",
   "metadata": {},
   "source": [
    "## Import Events file <a name=\"importFile\"></a>\n",
    "Import the open data file "
   ]
  },
  {
   "cell_type": "code",
   "execution_count": 4,
   "metadata": {},
   "outputs": [],
   "source": [
    "with open(\"../../../Data_thesis/Open_Data/Evenementen.json\") as event_data:\n",
    "    events = json.load(event_data)"
   ]
  },
  {
   "cell_type": "markdown",
   "metadata": {},
   "source": [
    "### Example contents <a name=\"exampleContents\"></a>\n",
    "Below is an example snippet of an event in the file"
   ]
  },
  {
   "cell_type": "code",
   "execution_count": 5,
   "metadata": {},
   "outputs": [
    {
     "name": "stdout",
     "output_type": "stream",
     "text": [
      "Event:  Springsnow Festival\n",
      "City:  AMSTERDAM\n",
      "Adress:  Diverse locaties / Various locations\n",
      "Zipcode:  1012 JS\n",
      "Coordinates:  52,3726380 4,8941060\n",
      "Date:  {'startdate': '20-04-2018', 'enddate': '20-05-2018'}\n"
     ]
    }
   ],
   "source": [
    "#Return eventname\n",
    "print(\"Event: \", events[0][\"title\"])\n",
    "\n",
    "#Return exact location event in human terms\n",
    "print(\"City: \", events[0][\"location\"][\"city\"])\n",
    "print(\"Adress: \", events[0][\"location\"][\"adress\"])\n",
    "print(\"Zipcode: \", events[0][\"location\"][\"zipcode\"])\n",
    "\n",
    "#Check source crowdedness\n",
    "print(\"Coordinates: \", events[0][\"location\"][\"latitude\"], events[0][\"location\"][\"longitude\"]) \n",
    "\n",
    "#Check whether the data has an event\n",
    "print(\"Date: \", events[0][\"dates\"])"
   ]
  },
  {
   "cell_type": "markdown",
   "metadata": {},
   "source": [
    "## Full Dataset <a name=\"fullDF\"></a>\n",
    "As not all the variables are usable, we make a subset of the following variables:\n",
    "- *Event Name*: Show the event name\n",
    "- *Coordinates*: Show the coordinates of the event\n",
    "- *Data*: Show the event date(s)"
   ]
  },
  {
   "cell_type": "code",
   "execution_count": 6,
   "metadata": {},
   "outputs": [],
   "source": [
    "#Save all the events in the list\n",
    "events_dict = {}\n",
    "\n",
    "#Loop over all the events\n",
    "j = 0\n",
    "for event in events: \n",
    "    #Temporary save dates\n",
    "    dates = []\n",
    "    \n",
    "    #Check if saved in format one or two\n",
    "    if \"startdate\" in event[\"dates\"]: \n",
    "        dates.append(event[\"dates\"][\"startdate\"])\n",
    "        dates.append(event[\"dates\"][\"enddate\"])\n",
    "    elif \"singles\" in event[\"dates\"]:\n",
    "        dates = event[\"dates\"][\"singles\"]\n",
    "                \n",
    "    for date in dates:\n",
    "        date = datetime.datetime.strptime(date, \"%d-%m-%Y\")\n",
    "        date = date.date()\n",
    "        \n",
    "        lat = float(event[\"location\"][\"latitude\"].replace(\",\", \".\"))\n",
    "        lon = float(event[\"location\"][\"longitude\"].replace(\",\", \".\"))\n",
    "        #Dict with all data single event\n",
    "        event_date = {\"Date\": date, \"Event\": event[\"title\"], \"Latitude\": lat,\"Longtitude\": lon}\n",
    "    \n",
    "        #Append dict to list\n",
    "        events_dict[j] = event_date\n",
    "        j += 1"
   ]
  },
  {
   "cell_type": "code",
   "execution_count": 7,
   "metadata": {},
   "outputs": [],
   "source": [
    "df = pd.DataFrame.from_dict(events_dict, orient=\"index\")"
   ]
  },
  {
   "cell_type": "code",
   "execution_count": 8,
   "metadata": {},
   "outputs": [
    {
     "data": {
      "text/html": [
       "<div>\n",
       "<style scoped>\n",
       "    .dataframe tbody tr th:only-of-type {\n",
       "        vertical-align: middle;\n",
       "    }\n",
       "\n",
       "    .dataframe tbody tr th {\n",
       "        vertical-align: top;\n",
       "    }\n",
       "\n",
       "    .dataframe thead th {\n",
       "        text-align: right;\n",
       "    }\n",
       "</style>\n",
       "<table border=\"1\" class=\"dataframe\">\n",
       "  <thead>\n",
       "    <tr style=\"text-align: right;\">\n",
       "      <th></th>\n",
       "      <th>Date</th>\n",
       "      <th>Event</th>\n",
       "      <th>Latitude</th>\n",
       "      <th>Longtitude</th>\n",
       "    </tr>\n",
       "  </thead>\n",
       "  <tbody>\n",
       "    <tr>\n",
       "      <th>0</th>\n",
       "      <td>2018-04-20</td>\n",
       "      <td>Springsnow Festival</td>\n",
       "      <td>52.372638</td>\n",
       "      <td>4.894106</td>\n",
       "    </tr>\n",
       "    <tr>\n",
       "      <th>1</th>\n",
       "      <td>2018-05-20</td>\n",
       "      <td>Springsnow Festival</td>\n",
       "      <td>52.372638</td>\n",
       "      <td>4.894106</td>\n",
       "    </tr>\n",
       "    <tr>\n",
       "      <th>2</th>\n",
       "      <td>2018-05-20</td>\n",
       "      <td>Vurige Tongen</td>\n",
       "      <td>52.410332</td>\n",
       "      <td>4.749069</td>\n",
       "    </tr>\n",
       "    <tr>\n",
       "      <th>3</th>\n",
       "      <td>2018-05-21</td>\n",
       "      <td>Vurige Tongen</td>\n",
       "      <td>52.410332</td>\n",
       "      <td>4.749069</td>\n",
       "    </tr>\n",
       "    <tr>\n",
       "      <th>4</th>\n",
       "      <td>2018-06-03</td>\n",
       "      <td>Sneakerness</td>\n",
       "      <td>52.382834</td>\n",
       "      <td>4.920456</td>\n",
       "    </tr>\n",
       "  </tbody>\n",
       "</table>\n",
       "</div>"
      ],
      "text/plain": [
       "         Date                Event   Latitude  Longtitude\n",
       "0  2018-04-20  Springsnow Festival  52.372638    4.894106\n",
       "1  2018-05-20  Springsnow Festival  52.372638    4.894106\n",
       "2  2018-05-20        Vurige Tongen  52.410332    4.749069\n",
       "3  2018-05-21        Vurige Tongen  52.410332    4.749069\n",
       "4  2018-06-03          Sneakerness  52.382834    4.920456"
      ]
     },
     "execution_count": 8,
     "metadata": {},
     "output_type": "execute_result"
    }
   ],
   "source": [
    "df.head()"
   ]
  },
  {
   "cell_type": "markdown",
   "metadata": {},
   "source": [
    "## Visualizations "
   ]
  },
  {
   "cell_type": "code",
   "execution_count": 11,
   "metadata": {},
   "outputs": [
    {
     "data": {
      "image/png": "[encoded data removed]",
      "text/plain": [
       "<Figure size 432x288 with 1 Axes>"
      ]
     },
     "metadata": {
      "needs_background": "light"
     },
     "output_type": "display_data"
    }
   ],
   "source": [
    "df.plot()\n",
    "plt.show()"
   ]
  },
  {
   "cell_type": "markdown",
   "metadata": {},
   "source": [
    "## Save to file <a name=\"CSV\"></a>\n",
    "Save the list of subset events to file"
   ]
  },
  {
   "cell_type": "code",
   "execution_count": 19,
   "metadata": {},
   "outputs": [],
   "source": [
    "df.to_csv(\"../../../Data_thesis/Full_Datasets/Events.csv\", index=False)"
   ]
  }
 ],
 "metadata": {
  "kernelspec": {
   "display_name": "Python 3",
   "language": "python",
   "name": "python3"
  },
  "language_info": {
   "codemirror_mode": {
    "name": "ipython",
    "version": 3
   },
   "file_extension": ".py",
   "mimetype": "text/x-python",
   "name": "python",
   "nbconvert_exporter": "python",
   "pygments_lexer": "ipython3",
   "version": "3.7.1"
  }
 },
 "nbformat": 4,
 "nbformat_minor": 2
}
