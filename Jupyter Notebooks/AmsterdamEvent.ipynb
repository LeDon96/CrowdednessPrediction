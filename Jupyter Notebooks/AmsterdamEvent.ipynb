{
 "cells": [
  {
   "cell_type": "markdown",
   "metadata": {},
   "source": [
    "# Imports"
   ]
  },
  {
   "cell_type": "code",
   "execution_count": 2,
   "metadata": {},
   "outputs": [],
   "source": [
    "#Read JSON files\n",
    "import json"
   ]
  },
  {
   "cell_type": "markdown",
   "metadata": {},
   "source": [
    "# Data Exploration"
   ]
  },
  {
   "cell_type": "code",
   "execution_count": 25,
   "metadata": {},
   "outputs": [
    {
     "name": "stdout",
     "output_type": "stream",
     "text": [
      "Event:  Springsnow Festival\n",
      "City:  AMSTERDAM\n",
      "Adress:  Diverse locaties / Various locations\n",
      "Zipcode:  1012 JS\n",
      "Coordinates:  52,3726380 4,8941060\n",
      "Date:  {'startdate': '20-04-2018', 'enddate': '20-05-2018'}\n"
     ]
    }
   ],
   "source": [
    "#Read JSON line by line\n",
    "\n",
    "with open(\"../Data/Original/Evenementen.json\") as event_data:\n",
    "    events = json.load(event_data)\n",
    "    \n",
    "    #Return eventname\n",
    "    print(\"Event: \", events[0][\"title\"])\n",
    "\n",
    "    #Return exact location event in human terms\n",
    "    print(\"City: \", events[0][\"location\"][\"city\"])\n",
    "    print(\"Adress: \", events[0][\"location\"][\"adress\"])\n",
    "    print(\"Zipcode: \", events[0][\"location\"][\"zipcode\"])\n",
    "\n",
    "    #Check source crowdedness\n",
    "    print(\"Coordinates: \", events[0][\"location\"][\"latitude\"], events[0][\"location\"][\"longitude\"]) \n",
    "\n",
    "    #Check whether the data has an event\n",
    "    print(\"Date: \", events[0][\"dates\"])     \n",
    "    \n",
    "    for event in events:        \n",
    "        coordinates = {\"Latitude\": event[\"location\"][\"latitude\"], \"Longtitude\": event[\"location\"][\"longitude\"]}\n",
    "        \n",
    "        event_dict = {\"Event\": event[\"title\"], \"Coordinates\": coordinates, \"Data\": event[\"dates\"]}\n",
    "        \n",
    "        with open(\"../Data/Modified/Events.json\", \"a\") as writer:\n",
    "            json.dump(event_dict, writer)"
   ]
  }
 ],
 "metadata": {
  "kernelspec": {
   "display_name": "Python 3",
   "language": "python",
   "name": "python3"
  },
  "language_info": {
   "codemirror_mode": {
    "name": "ipython",
    "version": 3
   },
   "file_extension": ".py",
   "mimetype": "text/x-python",
   "name": "python",
   "nbconvert_exporter": "python",
   "pygments_lexer": "ipython3",
   "version": "3.7.1"
  }
 },
 "nbformat": 4,
 "nbformat_minor": 2
}
