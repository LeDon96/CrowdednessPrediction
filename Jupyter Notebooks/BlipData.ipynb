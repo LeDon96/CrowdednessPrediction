{
 "cells": [
  {
   "cell_type": "markdown",
   "metadata": {},
   "source": [
    "# BlipData"
   ]
  },
  {
   "cell_type": "markdown",
   "metadata": {},
   "source": [
    "## Imports"
   ]
  },
  {
   "cell_type": "code",
   "execution_count": 1,
   "metadata": {},
   "outputs": [],
   "source": [
    "import pandas as pd\n",
    "from datetime import datetime\n",
    "\n",
    "import matplotlib.pyplot as plt\n",
    "%matplotlib inline"
   ]
  },
  {
   "cell_type": "markdown",
   "metadata": {},
   "source": [
    "## Import Files"
   ]
  },
  {
   "cell_type": "markdown",
   "metadata": {},
   "source": [
    "### GAWW-01"
   ]
  },
  {
   "cell_type": "code",
   "execution_count": 2,
   "metadata": {},
   "outputs": [],
   "source": [
    "blip01_df = pd.read_csv(\"../../../Data_thesis/CMSA/BlipTrack-01.csv\", sep=\",\")\n",
    "blip01_df = blip01_df[[\"Timestamp\", \"SampleCount\"]]\n",
    "blip01_df[\"Sensor\"] = \"GAWW-01\"\n",
    "\n",
    "blip01OCC_df = pd.read_csv(\"../../../Data_thesis/CMSA/BlipTrack-01OCC.csv\", sep=\",\")\n",
    "blip01OCC_df = blip01OCC_df[[\"Timestamp\", \"SampleCount\"]]\n",
    "blip01OCC_df[\"Sensor\"] = \"GAWW-01\"\n",
    "\n",
    "blip01R_df = pd.read_csv(\"../../../Data_thesis/CMSA/BlipTrack-01R.csv\", sep=\",\")\n",
    "blip01R_df = blip01R_df[[\"Timestamp\", \"SampleCount\"]]\n",
    "blip01R_df[\"Sensor\"] = \"GAWW-01\""
   ]
  },
  {
   "cell_type": "markdown",
   "metadata": {},
   "source": [
    "### GAWW-03"
   ]
  },
  {
   "cell_type": "code",
   "execution_count": 3,
   "metadata": {},
   "outputs": [],
   "source": [
    "blip03OCC_df = pd.read_csv(\"../../../Data_thesis/CMSA/BlipTrack-03OCC.csv\", sep=\",\")\n",
    "blip03OCC_df = blip03OCC_df[[\"Timestamp\", \"SampleCount\"]]\n",
    "blip03OCC_df[\"Sensor\"] = \"GAWW-03\""
   ]
  },
  {
   "cell_type": "markdown",
   "metadata": {},
   "source": [
    "### GAWW-04"
   ]
  },
  {
   "cell_type": "code",
   "execution_count": 4,
   "metadata": {},
   "outputs": [],
   "source": [
    "blip04_df = pd.read_csv(\"../../../Data_thesis/CMSA/BlipTrack-04.csv\", sep=\",\")\n",
    "blip04_df = blip04_df[[\"Timestamp\", \"SampleCount\"]]\n",
    "blip04_df[\"Sensor\"] = \"GAWW-04\"\n",
    "\n",
    "blip04OCC_df = pd.read_csv(\"../../../Data_thesis/CMSA/BlipTrack-04OCC.csv\", sep=\",\")\n",
    "blip04OCC_df = blip04OCC_df[[\"Timestamp\", \"SampleCount\"]]\n",
    "blip04OCC_df[\"Sensor\"] = \"GAWW-04\"\n",
    "\n",
    "blip04R_df = pd.read_csv(\"../../../Data_thesis/CMSA/BlipTrack-04R.csv\", sep=\",\")\n",
    "blip04R_df = blip04R_df[[\"Timestamp\", \"SampleCount\"]]\n",
    "blip04R_df[\"Sensor\"] = \"GAWW-04\""
   ]
  },
  {
   "cell_type": "markdown",
   "metadata": {},
   "source": [
    "### GAWW-05"
   ]
  },
  {
   "cell_type": "code",
   "execution_count": 5,
   "metadata": {},
   "outputs": [],
   "source": [
    "blip05_df = pd.read_csv(\"../../../Data_thesis/CMSA/BlipTrack-05.csv\", sep=\",\")\n",
    "blip05_df = blip05_df[[\"Timestamp\", \"SampleCount\"]]\n",
    "blip05_df[\"Sensor\"] = \"GAWW-05\"\n",
    "\n",
    "blip05R_df = pd.read_csv(\"../../../Data_thesis/CMSA/BlipTrack-05R.csv\", sep=\",\")\n",
    "blip05R_df = blip05R_df[[\"Timestamp\", \"SampleCount\"]]\n",
    "blip05R_df[\"Sensor\"] = \"GAWW-05\""
   ]
  },
  {
   "cell_type": "markdown",
   "metadata": {},
   "source": [
    "### GAWW-06"
   ]
  },
  {
   "cell_type": "code",
   "execution_count": 6,
   "metadata": {},
   "outputs": [],
   "source": [
    "blip06_df = pd.read_csv(\"../../../Data_thesis/CMSA/BlipTrack-06.csv\", sep=\",\")\n",
    "blip06_df = blip06_df[[\"Timestamp\", \"SampleCount\"]]\n",
    "blip06_df[\"Sensor\"] = \"GAWW-06\"\n",
    "\n",
    "blip06OCC_df = pd.read_csv(\"../../../Data_thesis/CMSA/BlipTrack-06OCC.csv\", sep=\",\")\n",
    "blip06OCC_df = blip06OCC_df[[\"Timestamp\", \"SampleCount\"]]\n",
    "blip06OCC_df[\"Sensor\"] = \"GAWW-06\"\n",
    "\n",
    "blip06R_df = pd.read_csv(\"../../../Data_thesis/CMSA/BlipTrack-06R.csv\", sep=\",\")\n",
    "blip06R_df = blip06R_df[[\"Timestamp\", \"SampleCount\"]]\n",
    "blip06R_df[\"Sensor\"] = \"GAWW-06\""
   ]
  },
  {
   "cell_type": "markdown",
   "metadata": {},
   "source": [
    "### GAWW-07"
   ]
  },
  {
   "cell_type": "code",
   "execution_count": 7,
   "metadata": {},
   "outputs": [],
   "source": [
    "blip07_df = pd.read_csv(\"../../../Data_thesis/CMSA/BlipTrack-07.csv\", sep=\",\")\n",
    "blip07_df = blip07_df[[\"Timestamp\", \"SampleCount\"]]\n",
    "blip07_df[\"Sensor\"] = \"GAWW-07\"\n",
    "\n",
    "blip07OCC_df = pd.read_csv(\"../../../Data_thesis/CMSA/BlipTrack-07OCC.csv\", sep=\",\")\n",
    "blip07OCC_df = blip07OCC_df[[\"Timestamp\", \"SampleCount\"]]\n",
    "blip07OCC_df[\"Sensor\"] = \"GAWW-07\"\n",
    "\n",
    "blip07R_df = pd.read_csv(\"../../../Data_thesis/CMSA/BlipTrack-07R.csv\", sep=\",\")\n",
    "blip07R_df = blip07R_df[[\"Timestamp\", \"SampleCount\"]]\n",
    "blip07R_df[\"Sensor\"] = \"GAWW-07\""
   ]
  },
  {
   "cell_type": "markdown",
   "metadata": {},
   "source": [
    "### GAWW-08"
   ]
  },
  {
   "cell_type": "code",
   "execution_count": 8,
   "metadata": {},
   "outputs": [],
   "source": [
    "blip08OCC_df = pd.read_csv(\"../../../Data_thesis/CMSA/BlipTrack-08OCC.csv\", sep=\",\")\n",
    "blip08OCC_df = blip08OCC_df[[\"Timestamp\", \"SampleCount\"]]\n",
    "blip08OCC_df[\"Sensor\"] = \"GAWW-08\""
   ]
  },
  {
   "cell_type": "markdown",
   "metadata": {},
   "source": [
    "### GAWW-09"
   ]
  },
  {
   "cell_type": "code",
   "execution_count": 9,
   "metadata": {},
   "outputs": [],
   "source": [
    "blip09OCC_df = pd.read_csv(\"../../../Data_thesis/CMSA/BlipTrack-09OCC.csv\", sep=\",\")\n",
    "blip09OCC_df = blip09OCC_df[[\"Timestamp\", \"SampleCount\"]]\n",
    "blip09OCC_df[\"Sensor\"] = \"GAWW-09\""
   ]
  },
  {
   "cell_type": "markdown",
   "metadata": {},
   "source": [
    "### GAWW-10"
   ]
  },
  {
   "cell_type": "code",
   "execution_count": 10,
   "metadata": {},
   "outputs": [],
   "source": [
    "blip10OCC_df = pd.read_csv(\"../../../Data_thesis/CMSA/BlipTrack-10OCC.csv\", sep=\",\")\n",
    "blip10OCC_df = blip10OCC_df[[\"Timestamp\", \"SampleCount\"]]\n",
    "blip10OCC_df[\"Sensor\"] = \"GAWW-10\""
   ]
  },
  {
   "cell_type": "markdown",
   "metadata": {},
   "source": [
    "## Concatenate Useful data to single DF per Sensor"
   ]
  },
  {
   "cell_type": "markdown",
   "metadata": {},
   "source": [
    "### GAWW-01"
   ]
  },
  {
   "cell_type": "code",
   "execution_count": 11,
   "metadata": {},
   "outputs": [],
   "source": [
    "gaww01_df = pd.merge(blip01_df, blip01OCC_df,on=[\"Timestamp\", \"Sensor\"], how=\"inner\")\n",
    "gaww01_df = pd.merge(gaww01_df, blip01R_df,on=[\"Timestamp\", \"Sensor\"], how=\"inner\")\n",
    "\n",
    "gaww01_df[\"CrowdednessCount\"] = gaww01_df[[\"SampleCount_x\", \"SampleCount_y\", \"SampleCount\"]].sum(axis=1)\n",
    "\n",
    "gaww01_df = gaww01_df[[\"Timestamp\", \"CrowdednessCount\", \"Sensor\"]]\n",
    "\n",
    "gaww01_df = gaww01_df.groupby([\"Timestamp\", \"Sensor\"])[\"CrowdednessCount\"].sum().reset_index()"
   ]
  },
  {
   "cell_type": "markdown",
   "metadata": {},
   "source": [
    "### GAWW-03"
   ]
  },
  {
   "cell_type": "code",
   "execution_count": 12,
   "metadata": {},
   "outputs": [],
   "source": [
    "blip03OCC_df = blip03OCC_df.rename(index=str, columns={\"SampleCount\": \"CrowdednessCount\"})\n",
    "\n",
    "gaww03_df = blip03OCC_df.groupby([\"Timestamp\", \"Sensor\"])[\"CrowdednessCount\"].sum().reset_index()"
   ]
  },
  {
   "cell_type": "markdown",
   "metadata": {},
   "source": [
    "### GAWW-04"
   ]
  },
  {
   "cell_type": "code",
   "execution_count": 13,
   "metadata": {},
   "outputs": [],
   "source": [
    "gaww04_df = pd.merge(blip04_df, blip04OCC_df,on=[\"Timestamp\", \"Sensor\"], how=\"inner\")\n",
    "gaww04_df = pd.merge(gaww04_df, blip04R_df,on=[\"Timestamp\", \"Sensor\"], how=\"inner\")\n",
    "\n",
    "gaww04_df[\"CrowdednessCount\"] = gaww04_df[[\"SampleCount_x\", \"SampleCount_y\", \"SampleCount\"]].sum(axis=1)\n",
    "\n",
    "gaww04_df = gaww04_df[[\"Timestamp\", \"CrowdednessCount\", \"Sensor\"]]\n",
    "\n",
    "gaww04_df = gaww04_df.groupby([\"Timestamp\", \"Sensor\"])[\"CrowdednessCount\"].sum().reset_index()"
   ]
  },
  {
   "cell_type": "markdown",
   "metadata": {},
   "source": [
    "### GAWW-05"
   ]
  },
  {
   "cell_type": "code",
   "execution_count": 14,
   "metadata": {},
   "outputs": [],
   "source": [
    "gaww05_df = pd.merge(blip05_df, blip05R_df,on=[\"Timestamp\", \"Sensor\"], how=\"inner\")\n",
    "\n",
    "gaww05_df[\"CrowdednessCount\"] = gaww05_df[[\"SampleCount_x\", \"SampleCount_y\"]].sum(axis=1)\n",
    "\n",
    "gaww05_df = gaww05_df[[\"Timestamp\", \"CrowdednessCount\", \"Sensor\"]]\n",
    "\n",
    "gaww05_df = gaww05_df.groupby([\"Timestamp\", \"Sensor\"])[\"CrowdednessCount\"].sum().reset_index()"
   ]
  },
  {
   "cell_type": "markdown",
   "metadata": {},
   "source": [
    "### GAWW-06"
   ]
  },
  {
   "cell_type": "code",
   "execution_count": 15,
   "metadata": {},
   "outputs": [],
   "source": [
    "gaww06_df = pd.merge(blip06_df, blip06OCC_df,on=[\"Timestamp\", \"Sensor\"], how=\"inner\")\n",
    "gaww06_df = pd.merge(gaww06_df, blip06R_df,on=[\"Timestamp\", \"Sensor\"], how=\"inner\")\n",
    "\n",
    "gaww06_df[\"CrowdednessCount\"] = gaww06_df[[\"SampleCount_x\", \"SampleCount_y\", \"SampleCount\"]].sum(axis=1)\n",
    "\n",
    "gaww06_df = gaww06_df[[\"Timestamp\", \"CrowdednessCount\", \"Sensor\"]]\n",
    "\n",
    "gaww06_df = gaww06_df.groupby([\"Timestamp\", \"Sensor\"])[\"CrowdednessCount\"].sum().reset_index()"
   ]
  },
  {
   "cell_type": "markdown",
   "metadata": {},
   "source": [
    "### GAWW-07"
   ]
  },
  {
   "cell_type": "code",
   "execution_count": 16,
   "metadata": {},
   "outputs": [],
   "source": [
    "gaww07_df = pd.merge(blip07_df, blip07OCC_df,on=[\"Timestamp\", \"Sensor\"], how=\"inner\")\n",
    "gaww07_df = pd.merge(gaww07_df, blip07R_df,on=[\"Timestamp\", \"Sensor\"], how=\"inner\")\n",
    "\n",
    "gaww07_df[\"CrowdednessCount\"] = gaww07_df[[\"SampleCount_x\", \"SampleCount_y\", \"SampleCount\"]].sum(axis=1)\n",
    "\n",
    "gaww07_df = gaww07_df[[\"Timestamp\", \"CrowdednessCount\", \"Sensor\"]]\n",
    "\n",
    "gaww07_df = gaww07_df.groupby([\"Timestamp\", \"Sensor\"])[\"CrowdednessCount\"].sum().reset_index()"
   ]
  },
  {
   "cell_type": "markdown",
   "metadata": {},
   "source": [
    "### GAWW-08"
   ]
  },
  {
   "cell_type": "code",
   "execution_count": 17,
   "metadata": {},
   "outputs": [],
   "source": [
    "blip08OCC_df = blip08OCC_df.rename(index=str, columns={\"SampleCount\": \"CrowdednessCount\"})\n",
    "\n",
    "gaww08_df = blip08OCC_df.groupby([\"Timestamp\", \"Sensor\"])[\"CrowdednessCount\"].sum().reset_index()"
   ]
  },
  {
   "cell_type": "markdown",
   "metadata": {},
   "source": [
    "### GAWW-09"
   ]
  },
  {
   "cell_type": "code",
   "execution_count": 18,
   "metadata": {},
   "outputs": [],
   "source": [
    "blip09OCC_df = blip09OCC_df.rename(index=str, columns={\"SampleCount\": \"CrowdednessCount\"})\n",
    "\n",
    "gaww09_df = blip09OCC_df.groupby([\"Timestamp\", \"Sensor\"])[\"CrowdednessCount\"].sum().reset_index()"
   ]
  },
  {
   "cell_type": "markdown",
   "metadata": {},
   "source": [
    "### GAWW-10"
   ]
  },
  {
   "cell_type": "code",
   "execution_count": 19,
   "metadata": {},
   "outputs": [],
   "source": [
    "blip10OCC_df = blip10OCC_df.rename(index=str, columns={\"SampleCount\": \"CrowdednessCount\"})\n",
    "\n",
    "gaww10_df = blip10OCC_df.groupby([\"Timestamp\", \"Sensor\"])[\"CrowdednessCount\"].sum().reset_index()"
   ]
  },
  {
   "cell_type": "markdown",
   "metadata": {},
   "source": [
    "## Concatenate individual Sensor DF's to Single DF"
   ]
  },
  {
   "cell_type": "code",
   "execution_count": 20,
   "metadata": {},
   "outputs": [],
   "source": [
    "blip_df = pd.concat([gaww01_df, gaww03_df]).reset_index().drop(columns={\"index\"})\n",
    "blip_df = pd.concat([blip_df, gaww04_df]).reset_index().drop(columns={\"index\"})\n",
    "blip_df = pd.concat([blip_df, gaww05_df]).reset_index().drop(columns={\"index\"})\n",
    "blip_df = pd.concat([blip_df, gaww06_df]).reset_index().drop(columns={\"index\"})\n",
    "blip_df = pd.concat([blip_df, gaww07_df]).reset_index().drop(columns={\"index\"})\n",
    "blip_df = pd.concat([blip_df, gaww08_df]).reset_index().drop(columns={\"index\"})\n",
    "blip_df = pd.concat([blip_df, gaww09_df]).reset_index().drop(columns={\"index\"})\n",
    "blip_df = pd.concat([blip_df, gaww10_df]).reset_index().drop(columns={\"index\"})"
   ]
  },
  {
   "cell_type": "markdown",
   "metadata": {},
   "source": [
    "### Divided the Timestamp into Columns Date and Hour"
   ]
  },
  {
   "cell_type": "code",
   "execution_count": 21,
   "metadata": {},
   "outputs": [],
   "source": [
    "blip_df[\"Hour\"] = 99\n",
    "blip_df = blip_df.rename(index=str, columns={\"Timestamp\": \"Date\"})"
   ]
  },
  {
   "cell_type": "code",
   "execution_count": 22,
   "metadata": {},
   "outputs": [],
   "source": [
    "#Datetime format\n",
    "date_format_1 = '%d-%b-%Y %H:%M:%S'\n",
    "date_format_2 = '%d-%B-%Y %H:%M:%S'\n",
    "\n",
    "#DF to Dict\n",
    "blip_dict = blip_df.to_dict(\"index\")\n",
    "\n",
    "#Loop over dict\n",
    "for k, v in blip_dict.items():    \n",
    "    try:\n",
    "        #Transform the date string to datatime.date object\n",
    "        date = datetime.strptime(v[\"Date\"], date_format_1)\n",
    "        v[\"Date\"] = date.date()\n",
    "        v[\"Hour\"] = date.time().hour\n",
    "        #Transfrom date to weekday number\n",
    "    except:\n",
    "        date = datetime.strptime(v[\"Date\"], date_format_2)\n",
    "        v[\"Date\"] = date.date()\n",
    "        v[\"Hour\"] = date.time().hour\n",
    "        \n",
    "#Dict to DF\n",
    "blip_df = pd.DataFrame.from_dict(blip_dict, orient=\"index\").reset_index().drop(columns={'index'})"
   ]
  },
  {
   "cell_type": "markdown",
   "metadata": {},
   "source": [
    "## Contents"
   ]
  },
  {
   "cell_type": "code",
   "execution_count": 23,
   "metadata": {},
   "outputs": [
    {
     "data": {
      "text/html": [
       "<div>\n",
       "<style scoped>\n",
       "    .dataframe tbody tr th:only-of-type {\n",
       "        vertical-align: middle;\n",
       "    }\n",
       "\n",
       "    .dataframe tbody tr th {\n",
       "        vertical-align: top;\n",
       "    }\n",
       "\n",
       "    .dataframe thead th {\n",
       "        text-align: right;\n",
       "    }\n",
       "</style>\n",
       "<table border=\"1\" class=\"dataframe\">\n",
       "  <thead>\n",
       "    <tr style=\"text-align: right;\">\n",
       "      <th></th>\n",
       "      <th>Date</th>\n",
       "      <th>Sensor</th>\n",
       "      <th>CrowdednessCount</th>\n",
       "      <th>Hour</th>\n",
       "    </tr>\n",
       "  </thead>\n",
       "  <tbody>\n",
       "    <tr>\n",
       "      <th>0</th>\n",
       "      <td>2018-04-01</td>\n",
       "      <td>GAWW-01</td>\n",
       "      <td>4271</td>\n",
       "      <td>0</td>\n",
       "    </tr>\n",
       "    <tr>\n",
       "      <th>1</th>\n",
       "      <td>2018-04-01</td>\n",
       "      <td>GAWW-01</td>\n",
       "      <td>3414</td>\n",
       "      <td>1</td>\n",
       "    </tr>\n",
       "    <tr>\n",
       "      <th>2</th>\n",
       "      <td>2018-04-01</td>\n",
       "      <td>GAWW-01</td>\n",
       "      <td>246</td>\n",
       "      <td>10</td>\n",
       "    </tr>\n",
       "    <tr>\n",
       "      <th>3</th>\n",
       "      <td>2019-01-01</td>\n",
       "      <td>GAWW-01</td>\n",
       "      <td>2788</td>\n",
       "      <td>3</td>\n",
       "    </tr>\n",
       "    <tr>\n",
       "      <th>4</th>\n",
       "      <td>2018-07-04</td>\n",
       "      <td>GAWW-01</td>\n",
       "      <td>1513</td>\n",
       "      <td>15</td>\n",
       "    </tr>\n",
       "  </tbody>\n",
       "</table>\n",
       "</div>"
      ],
      "text/plain": [
       "         Date   Sensor  CrowdednessCount  Hour\n",
       "0  2018-04-01  GAWW-01              4271     0\n",
       "1  2018-04-01  GAWW-01              3414     1\n",
       "2  2018-04-01  GAWW-01               246    10\n",
       "3  2019-01-01  GAWW-01              2788     3\n",
       "4  2018-07-04  GAWW-01              1513    15"
      ]
     },
     "execution_count": 23,
     "metadata": {},
     "output_type": "execute_result"
    }
   ],
   "source": [
    "blip_df.head()"
   ]
  },
  {
   "cell_type": "code",
   "execution_count": 24,
   "metadata": {},
   "outputs": [
    {
     "name": "stdout",
     "output_type": "stream",
     "text": [
      "Begin Date:  2018-03-11\n",
      "End Date:  2019-04-01\n"
     ]
    }
   ],
   "source": [
    "print(\"Begin Date: \", blip_df.Date.min())\n",
    "print(\"End Date: \", blip_df.Date.max())"
   ]
  },
  {
   "cell_type": "code",
   "execution_count": 25,
   "metadata": {},
   "outputs": [
    {
     "name": "stdout",
     "output_type": "stream",
     "text": [
      "Sensor:  GAWW-01\n",
      "Sensor:  GAWW-03\n",
      "Sensor:  GAWW-04\n",
      "Sensor:  GAWW-05\n",
      "Sensor:  GAWW-06\n",
      "Sensor:  GAWW-07\n",
      "Sensor:  GAWW-08\n",
      "Sensor:  GAWW-09\n",
      "Sensor:  GAWW-10\n"
     ]
    }
   ],
   "source": [
    "for sensor in blip_df.Sensor.unique():\n",
    "    print(\"Sensor: \", sensor)"
   ]
  },
  {
   "cell_type": "code",
   "execution_count": 26,
   "metadata": {},
   "outputs": [
    {
     "data": {
      "text/plain": [
       "<matplotlib.axes._subplots.AxesSubplot at 0x200cba62470>"
      ]
     },
     "execution_count": 26,
     "metadata": {},
     "output_type": "execute_result"
    },
    {
     "data": {
      "image/png": "[encoded data removed]",
      "text/plain": [
       "<Figure size 432x288 with 1 Axes>"
      ]
     },
     "metadata": {
      "needs_background": "light"
     },
     "output_type": "display_data"
    }
   ],
   "source": [
    "blip_df[\"CrowdednessCount\"].plot(kind=\"hist\")"
   ]
  },
  {
   "cell_type": "markdown",
   "metadata": {},
   "source": [
    "## Export DF as CSV File"
   ]
  },
  {
   "cell_type": "code",
   "execution_count": 27,
   "metadata": {},
   "outputs": [],
   "source": [
    "blip_df.to_csv(\"../../../Data_thesis/CMSA/BlipData.csv\", index=False)"
   ]
  }
 ],
 "metadata": {
  "kernelspec": {
   "display_name": "Python 3",
   "language": "python",
   "name": "python3"
  },
  "language_info": {
   "codemirror_mode": {
    "name": "ipython",
    "version": 3
   },
   "file_extension": ".py",
   "mimetype": "text/x-python",
   "name": "python",
   "nbconvert_exporter": "python",
   "pygments_lexer": "ipython3",
   "version": "3.7.1"
  }
 },
 "nbformat": 4,
 "nbformat_minor": 2
}
