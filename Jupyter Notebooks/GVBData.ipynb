{
 "cells": [
  {
   "cell_type": "markdown",
   "metadata": {},
   "source": [
    "# GVB Data"
   ]
  },
  {
   "cell_type": "markdown",
   "metadata": {},
   "source": [
    "## Imports <a name=\"imports\"></a>"
   ]
  },
  {
   "cell_type": "code",
   "execution_count": 9,
   "metadata": {},
   "outputs": [],
   "source": [
    "# For JSON imports\n",
    "import json\n",
    "\n",
    "#For DF, CSV, Excel\n",
    "import pandas as pd\n",
    "\n",
    "import re\n",
    "import datetime"
   ]
  },
  {
   "cell_type": "markdown",
   "metadata": {},
   "source": [
    "## Functions"
   ]
  },
  {
   "cell_type": "markdown",
   "metadata": {},
   "source": [
    "### Constrruct DF\n",
    "With number of arrivals and departures of each station on a single row. "
   ]
  },
  {
   "cell_type": "code",
   "execution_count": 5,
   "metadata": {},
   "outputs": [],
   "source": [
    "def stationData(arr_df, dep_df, stations):\n",
    "\n",
    "    #Dict to temp save DF's in\n",
    "    arr_dict = {}\n",
    "    dep_dict = {}\n",
    "\n",
    "    #for station in stations, construct a custom temp df\n",
    "    for station in stations:\n",
    "        temp_arr_df = arr_df[arr_df[\"AankomstHalteNaam\"] == station]\n",
    "\n",
    "        temp_arr_df = temp_arr_df.rename(index=str, columns={\"AantalReizen\": station + \" Arrivals\",\n",
    "                                                        \"UurgroepOmschrijving (van aankomst)\": \"Hour\", \"Datum\": \"Date\"})\n",
    "                                         \n",
    "        temp_arr_df = temp_arr_df.groupby([\"Date\", \"Hour\"]).agg({station + \" Arrivals\": 'sum'}).reset_index()\n",
    "\n",
    "        temp_dep_df = dep_df[dep_df[\"VertrekHalteNaam\"] == station]\n",
    "                                         \n",
    "        temp_dep_df = temp_dep_df.rename(\n",
    "            index=str, columns={\"AantalReizen\": station + \" Departures\", \"UurgroepOmschrijving (van vertrek)\": \"Hour\", \n",
    "                                \"Datum\": \"Date\"})\n",
    "\n",
    "        temp_dep_df = temp_dep_df.groupby([\"Date\", \"Hour\"]).agg(\n",
    "            {station + \" Departures\": 'sum'}).reset_index()\n",
    "\n",
    "        arr_dict[\"{0}\".format(station)] = temp_arr_df\n",
    "        dep_dict[\"{0}\".format(station)] = temp_dep_df\n",
    "\n",
    "    for i in range(len(stations)-1):\n",
    "        arr_dict[stations[i+1]] = pd.merge(arr_dict[stations[i]],\n",
    "                                           arr_dict[stations[i+1]], on=[\"Date\", \"Hour\"], how=\"outer\")\n",
    "\n",
    "        dep_dict[stations[i+1]] = pd.merge(dep_dict[stations[i]],\n",
    "                                           dep_dict[stations[i+1]], on=[\"Date\", \"Hour\"], how=\"outer\")\n",
    "\n",
    "    return pd.merge(arr_dict[stations[-1]], dep_dict[stations[-1]],\n",
    "             on=[\"Date\", \"Hour\"], how=\"outer\")"
   ]
  },
  {
   "cell_type": "markdown",
   "metadata": {},
   "source": [
    "### Convert Date String to Datetime"
   ]
  },
  {
   "cell_type": "code",
   "execution_count": 13,
   "metadata": {},
   "outputs": [],
   "source": [
    "def TransformData(df, stations):\n",
    "\n",
    "    #Variables\n",
    "    date_format_1 = '%d/%m/%Y %H:%M:%S'\n",
    "    date_format_2 = '%m/%d/%Y %H:%M:%S'\n",
    "    \n",
    "    #Fill NaN values with 0\n",
    "    df = df.fillna(0.0)\n",
    "\n",
    "    #Add column day numbers\n",
    "    df[\"weekday\"] = 99\n",
    "\n",
    "    #Add whether column to indicate whether it is weekend\n",
    "    df[\"is_weekend\"] = 0\n",
    "\n",
    "    #Dataframe to Dict\n",
    "    df_dict = df.to_dict(\"index\")\n",
    "\n",
    "    #Loop over dict\n",
    "    for k, v in df_dict.items():\n",
    "        #Replace time string with time blok\n",
    "        time_blok = v[\"Hour\"][:5]\n",
    "        time_blok = re.sub('[:]', '', time_blok)\n",
    "        v[\"Hour\"] = int(time_blok)\n",
    "\n",
    "        if v[\"Hour\"] == 0:\n",
    "            v[\"Hour\"] = 2400\n",
    "\n",
    "        #Remove AM/PM from string\n",
    "        v[\"Date\"] = v[\"Date\"][:-3]\n",
    "        try:\n",
    "            #Transform the date string to datatime.date object\n",
    "            date = pd.Timestamp.strptime(v[\"Date\"], date_format_1)\n",
    "            #Transfrom date to weekday number\n",
    "            v[\"weekday\"] = date.weekday()\n",
    "        except:\n",
    "            #Transform the date string to datatime.date object\n",
    "            date = pd.Timestamp.strptime(v[\"Date\"], date_format_2)\n",
    "\n",
    "            #Transfrom date to weekday number\n",
    "            v[\"weekday\"] = date.weekday()\n",
    "        \n",
    "        #Transform Date string to datetime object\n",
    "        v[\"Date\"] = date.date()\n",
    "\n",
    "        #Check if weekday is in the weekend\n",
    "        if date.weekday() == 5 or date.weekday() == 6:\n",
    "            v[\"is_weekend\"] = 1\n",
    "\n",
    "        v[\"Date\"] = date.date()\n",
    "\n",
    "    return pd.DataFrame.from_dict(df_dict, orient=\"index\")"
   ]
  },
  {
   "cell_type": "markdown",
   "metadata": {},
   "source": [
    "## Import Data"
   ]
  },
  {
   "cell_type": "code",
   "execution_count": 10,
   "metadata": {},
   "outputs": [],
   "source": [
    "arr_df = pd.read_csv(\"../../../Data_thesis/GVB/Datalab_Reis_Bestemming_Uur_20190402.csv\", sep=\";\")\n",
    "dep_df = pd.read_csv(\"../../../Data_thesis/GVB/Datalab_Reis_Herkomst_Uur_20190403.csv\", sep=\";\")"
   ]
  },
  {
   "cell_type": "markdown",
   "metadata": {},
   "source": [
    "## Run Functions"
   ]
  },
  {
   "cell_type": "code",
   "execution_count": 11,
   "metadata": {},
   "outputs": [],
   "source": [
    "stations = [\"Nieuwmarkt\", \"Nieuwezijds Kolk\", \"Dam\", \"Spui\"]"
   ]
  },
  {
   "cell_type": "code",
   "execution_count": 16,
   "metadata": {},
   "outputs": [],
   "source": [
    "full_df = stationData(arr_df, dep_df, stations)\n",
    "full_df = TransformData(full_df, stations)"
   ]
  },
  {
   "cell_type": "markdown",
   "metadata": {},
   "source": [
    "## Final DataFrame <a name=\"FinalDF\"></a>\n",
    "Make the model with the GVB data from *Dam* station\n",
    "\n",
    "Variables final df:\n",
    "- *Date*\n",
    "    - Date the contents was gathered\n",
    "    - Datetime object\n",
    "- *Hour*\n",
    "    - The hour the counts were gathered --> 100 means 01:00\n",
    "    - int\n",
    "- *weekday*\n",
    "    - Day of the week in numbers --> 0: Monday, 1: Tuesday,..., 6: Sunday\n",
    "    - int\n",
    "- *is_weekend*\n",
    "    - Whether is it is weekend or not\n",
    "    - binary\n",
    "- *Arrivals*\n",
    "    - Number of passengers that travelled to the station\n",
    "    - int\n",
    "- *Departures*\n",
    "    - Number of passengers that travelled from the station\n",
    "    - int "
   ]
  },
  {
   "cell_type": "code",
   "execution_count": 18,
   "metadata": {},
   "outputs": [
    {
     "data": {
      "text/html": [
       "<div>\n",
       "<style scoped>\n",
       "    .dataframe tbody tr th:only-of-type {\n",
       "        vertical-align: middle;\n",
       "    }\n",
       "\n",
       "    .dataframe tbody tr th {\n",
       "        vertical-align: top;\n",
       "    }\n",
       "\n",
       "    .dataframe thead th {\n",
       "        text-align: right;\n",
       "    }\n",
       "</style>\n",
       "<table border=\"1\" class=\"dataframe\">\n",
       "  <thead>\n",
       "    <tr style=\"text-align: right;\">\n",
       "      <th></th>\n",
       "      <th>Date</th>\n",
       "      <th>Hour</th>\n",
       "      <th>Nieuwmarkt Arrivals</th>\n",
       "      <th>Nieuwezijds Kolk Arrivals</th>\n",
       "      <th>Dam Arrivals</th>\n",
       "      <th>Spui Arrivals</th>\n",
       "      <th>Nieuwmarkt Departures</th>\n",
       "      <th>Nieuwezijds Kolk Departures</th>\n",
       "      <th>Dam Departures</th>\n",
       "      <th>Spui Departures</th>\n",
       "      <th>weekday</th>\n",
       "      <th>is_weekend</th>\n",
       "    </tr>\n",
       "  </thead>\n",
       "  <tbody>\n",
       "    <tr>\n",
       "      <th>0</th>\n",
       "      <td>2018-01-01</td>\n",
       "      <td>100</td>\n",
       "      <td>11.0</td>\n",
       "      <td>0.0</td>\n",
       "      <td>0.0</td>\n",
       "      <td>0.0</td>\n",
       "      <td>340.0</td>\n",
       "      <td>27.0</td>\n",
       "      <td>0.0</td>\n",
       "      <td>0.0</td>\n",
       "      <td>0</td>\n",
       "      <td>0</td>\n",
       "    </tr>\n",
       "    <tr>\n",
       "      <th>1</th>\n",
       "      <td>2018-01-01</td>\n",
       "      <td>200</td>\n",
       "      <td>48.0</td>\n",
       "      <td>0.0</td>\n",
       "      <td>21.0</td>\n",
       "      <td>0.0</td>\n",
       "      <td>175.0</td>\n",
       "      <td>130.0</td>\n",
       "      <td>39.0</td>\n",
       "      <td>0.0</td>\n",
       "      <td>0</td>\n",
       "      <td>0</td>\n",
       "    </tr>\n",
       "    <tr>\n",
       "      <th>2</th>\n",
       "      <td>2018-01-01</td>\n",
       "      <td>300</td>\n",
       "      <td>10.0</td>\n",
       "      <td>16.0</td>\n",
       "      <td>13.0</td>\n",
       "      <td>0.0</td>\n",
       "      <td>137.0</td>\n",
       "      <td>17.0</td>\n",
       "      <td>48.0</td>\n",
       "      <td>0.0</td>\n",
       "      <td>0</td>\n",
       "      <td>0</td>\n",
       "    </tr>\n",
       "    <tr>\n",
       "      <th>3</th>\n",
       "      <td>2018-01-01</td>\n",
       "      <td>400</td>\n",
       "      <td>16.0</td>\n",
       "      <td>0.0</td>\n",
       "      <td>0.0</td>\n",
       "      <td>0.0</td>\n",
       "      <td>48.0</td>\n",
       "      <td>46.0</td>\n",
       "      <td>34.0</td>\n",
       "      <td>0.0</td>\n",
       "      <td>0</td>\n",
       "      <td>0</td>\n",
       "    </tr>\n",
       "    <tr>\n",
       "      <th>4</th>\n",
       "      <td>2018-01-01</td>\n",
       "      <td>500</td>\n",
       "      <td>17.0</td>\n",
       "      <td>0.0</td>\n",
       "      <td>0.0</td>\n",
       "      <td>0.0</td>\n",
       "      <td>56.0</td>\n",
       "      <td>0.0</td>\n",
       "      <td>20.0</td>\n",
       "      <td>0.0</td>\n",
       "      <td>0</td>\n",
       "      <td>0</td>\n",
       "    </tr>\n",
       "  </tbody>\n",
       "</table>\n",
       "</div>"
      ],
      "text/plain": [
       "         Date  Hour  Nieuwmarkt Arrivals  Nieuwezijds Kolk Arrivals  \\\n",
       "0  2018-01-01   100                 11.0                        0.0   \n",
       "1  2018-01-01   200                 48.0                        0.0   \n",
       "2  2018-01-01   300                 10.0                       16.0   \n",
       "3  2018-01-01   400                 16.0                        0.0   \n",
       "4  2018-01-01   500                 17.0                        0.0   \n",
       "\n",
       "   Dam Arrivals  Spui Arrivals  Nieuwmarkt Departures  \\\n",
       "0           0.0            0.0                  340.0   \n",
       "1          21.0            0.0                  175.0   \n",
       "2          13.0            0.0                  137.0   \n",
       "3           0.0            0.0                   48.0   \n",
       "4           0.0            0.0                   56.0   \n",
       "\n",
       "   Nieuwezijds Kolk Departures  Dam Departures  Spui Departures  weekday  \\\n",
       "0                         27.0             0.0              0.0        0   \n",
       "1                        130.0            39.0              0.0        0   \n",
       "2                         17.0            48.0              0.0        0   \n",
       "3                         46.0            34.0              0.0        0   \n",
       "4                          0.0            20.0              0.0        0   \n",
       "\n",
       "   is_weekend  \n",
       "0           0  \n",
       "1           0  \n",
       "2           0  \n",
       "3           0  \n",
       "4           0  "
      ]
     },
     "execution_count": 18,
     "metadata": {},
     "output_type": "execute_result"
    }
   ],
   "source": [
    "full_df.head()"
   ]
  },
  {
   "cell_type": "markdown",
   "metadata": {},
   "source": [
    "## DF to File <a name=\"CSV\"></a>\n",
    "Save the dataframe in a file, so that it can be imported for other uses. Later this will be probably be removed as the dataframe can simple function as input to another funtion. "
   ]
  },
  {
   "cell_type": "code",
   "execution_count": 19,
   "metadata": {},
   "outputs": [],
   "source": [
    "full_df.to_csv(\"../../../Data_thesis/Full_Datasets/GVBData.csv\", index=False)"
   ]
  }
 ],
 "metadata": {
  "kernelspec": {
   "display_name": "Python 3",
   "language": "python",
   "name": "python3"
  },
  "language_info": {
   "codemirror_mode": {
    "name": "ipython",
    "version": 3
   },
   "file_extension": ".py",
   "mimetype": "text/x-python",
   "name": "python",
   "nbconvert_exporter": "python",
   "pygments_lexer": "ipython3",
   "version": "3.7.1"
  }
 },
 "nbformat": 4,
 "nbformat_minor": 2
}
