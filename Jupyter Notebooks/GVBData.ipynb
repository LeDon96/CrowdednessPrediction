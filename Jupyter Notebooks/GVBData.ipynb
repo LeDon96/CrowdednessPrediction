{
 "cells": [
  {
   "cell_type": "markdown",
   "metadata": {},
   "source": [
    "# Imports"
   ]
  },
  {
   "cell_type": "code",
   "execution_count": 13,
   "metadata": {},
   "outputs": [],
   "source": [
    "# For CSV files\n",
    "import json"
   ]
  },
  {
   "cell_type": "markdown",
   "metadata": {},
   "source": [
    "# Data Exploration"
   ]
  },
  {
   "cell_type": "code",
   "execution_count": 43,
   "metadata": {},
   "outputs": [
    {
     "name": "stdout",
     "output_type": "stream",
     "text": [
      "Lines:  02|11|12|13|17\n",
      "Coordinates:  [4.893349, 52.376064]\n"
     ]
    }
   ],
   "source": [
    "#Import JSON file\n",
    "with open(\"../Data/Original/TRAMMETRO_PUNTEN_2019.json\") as gvb_data:\n",
    "    stations = json.load(gvb_data)\n",
    "    stations = stations[\"features\"]\n",
    "   \n",
    "    #Lines that stop at the given station\n",
    "    print(\"Lines: \", stations[0][\"properties\"][\"Lijn_select\"])\n",
    "\n",
    "    #Coordinates of the station\n",
    "    print(\"Coordinates: \", stations[0][\"geometry\"][\"coordinates\"])\n",
    "\n",
    "    #Select Tramstations\n",
    "    for station in stations:\n",
    "        if station[\"properties\"][\"Modaliteit\"] == \"Tram\":\n",
    "            \n",
    "            tram_dict = {\"Lines\": station[\"properties\"][\"Lijn_select\"], \"Coordinates\": station[\"geometry\"][\"coordinates\"]}\n",
    "            \n",
    "            with open(\"../Data/Modified/TramStations.json\", \"a\") as f:\n",
    "                json.dump(tram_dict, f)\n",
    "            \n",
    "    \n",
    "    #Select Metrostations\n",
    "    for station in stations:\n",
    "        if station[\"properties\"][\"Modaliteit\"] == \"Metro\":\n",
    "            \n",
    "            metro_dict = {\"Lines\": station[\"properties\"][\"Lijn_select\"], \"Coordinates\": station[\"geometry\"][\"coordinates\"]}\n",
    "            \n",
    "            with open(\"../Data/Modified/MetroStations.json\", \"a\") as f:\n",
    "                json.dump(metro_dict, f)"
   ]
  }
 ],
 "metadata": {
  "kernelspec": {
   "display_name": "Python 3",
   "language": "python",
   "name": "python3"
  },
  "language_info": {
   "codemirror_mode": {
    "name": "ipython",
    "version": 3
   },
   "file_extension": ".py",
   "mimetype": "text/x-python",
   "name": "python",
   "nbconvert_exporter": "python",
   "pygments_lexer": "ipython3",
   "version": "3.7.1"
  }
 },
 "nbformat": 4,
 "nbformat_minor": 2
}
