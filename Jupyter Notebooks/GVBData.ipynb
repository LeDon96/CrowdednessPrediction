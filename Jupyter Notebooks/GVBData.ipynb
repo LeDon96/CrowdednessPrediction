{
 "cells": [
  {
   "cell_type": "markdown",
   "metadata": {},
   "source": [
    "# Imports"
   ]
  },
  {
   "cell_type": "code",
   "execution_count": 2,
   "metadata": {},
   "outputs": [],
   "source": [
    "# For CSV files\n",
    "import pandas as pd"
   ]
  },
  {
   "cell_type": "markdown",
   "metadata": {},
   "source": [
    "# Data Exploration"
   ]
  },
  {
   "cell_type": "code",
   "execution_count": 6,
   "metadata": {},
   "outputs": [],
   "source": [
    "#Import CSV file\n",
    "stations_df = pd.read_csv(\"../Data/ov_haltes.csv\", sep=\";\")"
   ]
  },
  {
   "cell_type": "code",
   "execution_count": 7,
   "metadata": {},
   "outputs": [
    {
     "data": {
      "text/html": [
       "<div>\n",
       "<style scoped>\n",
       "    .dataframe tbody tr th:only-of-type {\n",
       "        vertical-align: middle;\n",
       "    }\n",
       "\n",
       "    .dataframe tbody tr th {\n",
       "        vertical-align: top;\n",
       "    }\n",
       "\n",
       "    .dataframe thead th {\n",
       "        text-align: right;\n",
       "    }\n",
       "</style>\n",
       "<table border=\"1\" class=\"dataframe\">\n",
       "  <thead>\n",
       "    <tr style=\"text-align: right;\">\n",
       "      <th></th>\n",
       "      <th>OBJECTNUMMER</th>\n",
       "      <th>Modaliteit</th>\n",
       "      <th>Lijn</th>\n",
       "      <th>Lijn_select</th>\n",
       "      <th>RADIUS</th>\n",
       "      <th>WKT_LNG_LAT</th>\n",
       "      <th>WKT_LAT_LNG</th>\n",
       "      <th>LNG</th>\n",
       "      <th>LAT</th>\n",
       "      <th>Unnamed: 9</th>\n",
       "    </tr>\n",
       "  </thead>\n",
       "  <tbody>\n",
       "    <tr>\n",
       "      <th>0</th>\n",
       "      <td>1</td>\n",
       "      <td>Tram</td>\n",
       "      <td>2 | 11 | 12 | 13 | 17</td>\n",
       "      <td>02|11|12|13|17</td>\n",
       "      <td>3</td>\n",
       "      <td>POINT(4.893349,52.376064)</td>\n",
       "      <td>POINT(52.376064,4.893349)</td>\n",
       "      <td>4,893349</td>\n",
       "      <td>52,376064</td>\n",
       "      <td>NaN</td>\n",
       "    </tr>\n",
       "    <tr>\n",
       "      <th>1</th>\n",
       "      <td>2</td>\n",
       "      <td>Tram</td>\n",
       "      <td>1 | 11 | 17</td>\n",
       "      <td>01|11|17</td>\n",
       "      <td>3</td>\n",
       "      <td>POINT(4.853122,52.358377)</td>\n",
       "      <td>POINT(52.358377,4.853122)</td>\n",
       "      <td>4,853122</td>\n",
       "      <td>52,358377</td>\n",
       "      <td>NaN</td>\n",
       "    </tr>\n",
       "    <tr>\n",
       "      <th>2</th>\n",
       "      <td>3</td>\n",
       "      <td>Tram</td>\n",
       "      <td>1 | 17</td>\n",
       "      <td>01|17</td>\n",
       "      <td>3</td>\n",
       "      <td>POINT(4.82733,52.357809)</td>\n",
       "      <td>POINT(52.357809,4.82733)</td>\n",
       "      <td>4,82733</td>\n",
       "      <td>52,357809</td>\n",
       "      <td>NaN</td>\n",
       "    </tr>\n",
       "    <tr>\n",
       "      <th>3</th>\n",
       "      <td>4</td>\n",
       "      <td>Tram</td>\n",
       "      <td>2 | 11 | 12</td>\n",
       "      <td>02|11|12</td>\n",
       "      <td>3</td>\n",
       "      <td>POINT(4.889295,52.369254)</td>\n",
       "      <td>POINT(52.369254,4.889295)</td>\n",
       "      <td>4,889295</td>\n",
       "      <td>52,369254</td>\n",
       "      <td>NaN</td>\n",
       "    </tr>\n",
       "    <tr>\n",
       "      <th>4</th>\n",
       "      <td>5</td>\n",
       "      <td>Tram</td>\n",
       "      <td>2 | 11 | 12</td>\n",
       "      <td>02|11|12</td>\n",
       "      <td>3</td>\n",
       "      <td>POINT(4.884471,52.365017)</td>\n",
       "      <td>POINT(52.365017,4.884471)</td>\n",
       "      <td>4,884471</td>\n",
       "      <td>52,365017</td>\n",
       "      <td>NaN</td>\n",
       "    </tr>\n",
       "  </tbody>\n",
       "</table>\n",
       "</div>"
      ],
      "text/plain": [
       "   OBJECTNUMMER Modaliteit                   Lijn     Lijn_select  RADIUS  \\\n",
       "0             1       Tram  2 | 11 | 12 | 13 | 17  02|11|12|13|17       3   \n",
       "1             2       Tram            1 | 11 | 17        01|11|17       3   \n",
       "2             3       Tram                 1 | 17           01|17       3   \n",
       "3             4       Tram            2 | 11 | 12        02|11|12       3   \n",
       "4             5       Tram            2 | 11 | 12        02|11|12       3   \n",
       "\n",
       "                 WKT_LNG_LAT                WKT_LAT_LNG       LNG        LAT  \\\n",
       "0  POINT(4.893349,52.376064)  POINT(52.376064,4.893349)  4,893349  52,376064   \n",
       "1  POINT(4.853122,52.358377)  POINT(52.358377,4.853122)  4,853122  52,358377   \n",
       "2   POINT(4.82733,52.357809)   POINT(52.357809,4.82733)   4,82733  52,357809   \n",
       "3  POINT(4.889295,52.369254)  POINT(52.369254,4.889295)  4,889295  52,369254   \n",
       "4  POINT(4.884471,52.365017)  POINT(52.365017,4.884471)  4,884471  52,365017   \n",
       "\n",
       "   Unnamed: 9  \n",
       "0         NaN  \n",
       "1         NaN  \n",
       "2         NaN  \n",
       "3         NaN  \n",
       "4         NaN  "
      ]
     },
     "execution_count": 7,
     "metadata": {},
     "output_type": "execute_result"
    }
   ],
   "source": [
    "stations_df.head()"
   ]
  }
 ],
 "metadata": {
  "kernelspec": {
   "display_name": "Python 3",
   "language": "python",
   "name": "python3"
  },
  "language_info": {
   "codemirror_mode": {
    "name": "ipython",
    "version": 3
   },
   "file_extension": ".py",
   "mimetype": "text/x-python",
   "name": "python",
   "nbconvert_exporter": "python",
   "pygments_lexer": "ipython3",
   "version": "3.7.1"
  }
 },
 "nbformat": 4,
 "nbformat_minor": 2
}
