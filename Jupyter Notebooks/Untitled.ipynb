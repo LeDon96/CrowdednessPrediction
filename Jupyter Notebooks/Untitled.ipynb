{
 "cells": [
  {
   "cell_type": "markdown",
   "metadata": {},
   "source": [
    "# Timeseries "
   ]
  },
  {
   "cell_type": "markdown",
   "metadata": {},
   "source": [
    "## Imports"
   ]
  },
  {
   "cell_type": "code",
   "execution_count": 1,
   "metadata": {},
   "outputs": [],
   "source": [
    "import pandas as pd"
   ]
  },
  {
   "cell_type": "markdown",
   "metadata": {},
   "source": [
    "## Import file"
   ]
  },
  {
   "cell_type": "code",
   "execution_count": 9,
   "metadata": {},
   "outputs": [],
   "source": [
    "data = pd.read_csv(\"../../../Data_thesis/Full_Datasets/Full.csv\")"
   ]
  },
  {
   "cell_type": "code",
   "execution_count": 10,
   "metadata": {},
   "outputs": [
    {
     "data": {
      "text/plain": [
       "Index(['Date', 'Hour', 'weekday', 'is_weekend', 'Sensor', 'SensorLongitude',\n",
       "       'SensorLatitude', 'CrowdednessCount', 'Lon_4.8971927', 'Lon_4.8973336',\n",
       "       'Lon_4.8977166', 'Lon_4.8979076', 'Lon_4.8980531', 'Lon_4.8984795',\n",
       "       'Lon_4.8988079', 'Lon_4.8989027', 'Lon_4.8998471', 'Lon_4.9004405',\n",
       "       'Lat_52.3716503', 'Lat_52.3723534', 'Lat_52.372369', 'Lat_52.372416',\n",
       "       'Lat_52.3725237', 'Lat_52.373283', 'Lat_52.3737857', 'Lat_52.3744139',\n",
       "       'Lat_52.3746006', 'Lat_52.3750398', 'is_event', 'Year', 'month_sin',\n",
       "       'month_cos', 'day_sin', 'day_cos', 'hour_sin', 'hour_cos',\n",
       "       'Nieuwmarkt score', 'Nieuwezijds Kolk score', 'Dam score',\n",
       "       'Spui score'],\n",
       "      dtype='object')"
      ]
     },
     "execution_count": 10,
     "metadata": {},
     "output_type": "execute_result"
    }
   ],
   "source": [
    "data.columns"
   ]
  },
  {
   "cell_type": "markdown",
   "metadata": {},
   "source": [
    "## Setup"
   ]
  },
  {
   "cell_type": "code",
   "execution_count": 22,
   "metadata": {},
   "outputs": [],
   "source": [
    "x_col = \"SensorLongitude\"\n",
    "y_col = \"SensorLatitude\"\n",
    "z_col = \"Hour\"\n",
    "bubble_col = \"Sensor\"\n",
    "time_col = \"Date\"\n",
    "\n",
    "dates = pd.to_datetime(data[\"Date\"], format=\"%Y-%m-%d\")"
   ]
  },
  {
   "cell_type": "markdown",
   "metadata": {},
   "source": [
    "## Make the Grid"
   ]
  },
  {
   "cell_type": "code",
   "execution_count": null,
   "metadata": {},
   "outputs": [],
   "source": [
    "grid = pd.DataFrame()\n",
    "col_name_template = '{date}+{header}_grid'\n",
    "\n",
    "for date in dates:\n",
    "    data_by_date = data[(data['Date'] == date)]\n",
    "    \n",
    "    for col_name in [x_col, y_col, z_col, bubble_col]:\n",
    "        \n",
    "        #Make each column name unique\n",
    "        temp = col_name_template.format(\n",
    "            date=date, header=col_name\n",
    "        )\n",
    "        \n",
    "        if data_by_date[col_name].size != 0:\n",
    "            grid = grid.append({'value': list(data_by_date[col_name]), 'key': temp}, \n",
    "                               ignore_index=True)"
   ]
  },
  {
   "cell_type": "code",
   "execution_count": null,
   "metadata": {},
   "outputs": [],
   "source": [
    "grid.sample(10)"
   ]
  },
  {
   "cell_type": "markdown",
   "metadata": {},
   "source": [
    "## Make Figure"
   ]
  },
  {
   "cell_type": "code",
   "execution_count": null,
   "metadata": {},
   "outputs": [],
   "source": [
    "figure = {\n",
    "    'data': [],\n",
    "    'layout': {},\n",
    "    'frames': []\n",
    "}\n",
    "\n"
   ]
  }
 ],
 "metadata": {
  "kernelspec": {
   "display_name": "Python 3",
   "language": "python",
   "name": "python3"
  },
  "language_info": {
   "codemirror_mode": {
    "name": "ipython",
    "version": 3
   },
   "file_extension": ".py",
   "mimetype": "text/x-python",
   "name": "python",
   "nbconvert_exporter": "python",
   "pygments_lexer": "ipython3",
   "version": "3.7.1"
  }
 },
 "nbformat": 4,
 "nbformat_minor": 2
}
