{
 "cells": [
  {
   "cell_type": "markdown",
   "metadata": {},
   "source": [
    "# Model Results"
   ]
  },
  {
   "cell_type": "markdown",
   "metadata": {},
   "source": [
    "## Imports"
   ]
  },
  {
   "cell_type": "code",
   "execution_count": 1,
   "metadata": {},
   "outputs": [],
   "source": [
    "import pandas as pd\n",
    "import numpy as np\n",
    "from sklearn.metrics import r2_score\n",
    "from sklearn.metrics import mean_squared_error\n",
    "from sklearn.metrics import precision_score\n",
    "from sklearn.metrics import recall_score\n",
    "from sklearn.metrics import accuracy_score\n",
    "from sklearn.metrics import f1_score"
   ]
  },
  {
   "cell_type": "markdown",
   "metadata": {},
   "source": [
    "## Import Files"
   ]
  },
  {
   "cell_type": "code",
   "execution_count": 25,
   "metadata": {},
   "outputs": [],
   "source": [
    "rfg = pd.read_csv(\"../../../Data_thesis/Full_Datasets/rfg_eval.csv\")\n",
    "rfc = pd.read_csv(\"../../../Data_thesis/Full_Datasets/rfc_eval.csv\")\n",
    "xgbr = pd.read_csv(\"../../../Data_thesis/Full_Datasets/xgbr_eval.csv\")\n",
    "xgbc = pd.read_csv(\"../../../Data_thesis/Full_Datasets/xgbc_eval.csv\")"
   ]
  },
  {
   "cell_type": "code",
   "execution_count": 5,
   "metadata": {},
   "outputs": [],
   "source": [
    "full_df = pd.read_csv(\"../../../Data_thesis/Full_Datasets/Full.csv\")\n",
    "full_df[\"Date\"] = pd.to_datetime(full_df[\"Date\"], format=\"%Y-%m-%d\")\n",
    "full_df = full_df[full_df[\"Date\"] >= pd.Timestamp(2019,1,1)].reset_index().drop(columns=[\"index\"])\n",
    "full_df[\"Date\"] = full_df[\"Date\"].astype(str)\n",
    "full_df.rename(index=str, columns={\"CrowdednessCount\": \"TrueCounts\"}, inplace=True)"
   ]
  },
  {
   "cell_type": "code",
   "execution_count": 17,
   "metadata": {},
   "outputs": [
    {
     "data": {
      "text/plain": [
       "Index(['Date', 'Hour', 'Nieuwmarkt Lat', 'Nieuwmarkt Lon',\n",
       "       'Nieuwezijds Kolk Lat', 'Nieuwezijds Kolk Lon', 'Dam Lat', 'Dam Lon',\n",
       "       'Spui Lat', 'Spui Lon', 'Centraal Station Lat', 'Centraal Station Lon',\n",
       "       'weekday', 'is_weekend', 'Sensor', 'SensorLongitude', 'SensorLatitude',\n",
       "       'TrueCounts', 'LonScaled', 'LatScaled', 'is_event', 'Year', 'month_sin',\n",
       "       'month_cos', 'day_sin', 'day_cos', 'hour_sin', 'hour_cos',\n",
       "       'Nieuwmarkt score', 'Nieuwmarkt weight', 'Nieuwezijds Kolk score',\n",
       "       'Nieuwezijds Kolk weight', 'Dam score', 'Dam weight', 'Spui score',\n",
       "       'Spui weight', 'Centraal Station score', 'Centraal Station weight'],\n",
       "      dtype='object')"
      ]
     },
     "execution_count": 17,
     "metadata": {},
     "output_type": "execute_result"
    }
   ],
   "source": [
    "full_df.columns"
   ]
  },
  {
   "cell_type": "code",
   "execution_count": 19,
   "metadata": {},
   "outputs": [],
   "source": [
    "def classCrowdednessCounts(df):\n",
    "    low_split = df[\"True\"].quantile(.25)\n",
    "    mid_split = df[\"True\"].quantile(.5)\n",
    "    high_split = df[\"True\"].quantile(.75)\n",
    "\n",
    "    clas_dict = df.to_dict(\"index\")\n",
    "\n",
    "    for k, v in clas_dict.items():\n",
    "        if v[\"True\"] < low_split:\n",
    "            v[\"True\"] = 1\n",
    "        elif v[\"True\"] >= low_split and v[\"True\"] < mid_split:\n",
    "            v[\"True\"] = 2\n",
    "        elif v[\"True\"] >= mid_split and v[\"True\"] < high_split:\n",
    "            v[\"True\"] = 3\n",
    "        elif v[\"True\"] >= high_split:\n",
    "            v[\"True\"] = 4\n",
    "        else:\n",
    "            print(k, \" has class error as it fits in none\")\n",
    "\n",
    "    df = pd.DataFrame.from_dict(clas_dict, orient=\"index\")\n",
    "\n",
    "    return df"
   ]
  },
  {
   "cell_type": "code",
   "execution_count": 14,
   "metadata": {},
   "outputs": [],
   "source": [
    "def getSensor(df):\n",
    "    df[\"Sensor\"] = \"None\"\n",
    "    model_dict = df.to_dict(\"index\")\n",
    "    \n",
    "    for k, v in model_dict.items():\n",
    "        v[\"Sensor\"] = full_df[full_df[\"LonScaled\"] == v[\"SensLon\"]].reset_index()[\"Sensor\"][0]\n",
    "    \n",
    "    df = pd.DataFrame.from_dict(model_dict, orient=\"index\")\n",
    "    \n",
    "    return df"
   ]
  },
  {
   "cell_type": "code",
   "execution_count": 7,
   "metadata": {},
   "outputs": [],
   "source": [
    "clas_df = classCrowdednessCounts(full_df)"
   ]
  },
  {
   "cell_type": "code",
   "execution_count": 26,
   "metadata": {},
   "outputs": [
    {
     "data": {
      "text/html": [
       "<div>\n",
       "<style scoped>\n",
       "    .dataframe tbody tr th:only-of-type {\n",
       "        vertical-align: middle;\n",
       "    }\n",
       "\n",
       "    .dataframe tbody tr th {\n",
       "        vertical-align: top;\n",
       "    }\n",
       "\n",
       "    .dataframe thead th {\n",
       "        text-align: right;\n",
       "    }\n",
       "</style>\n",
       "<table border=\"1\" class=\"dataframe\">\n",
       "  <thead>\n",
       "    <tr style=\"text-align: right;\">\n",
       "      <th></th>\n",
       "      <th>SensLat</th>\n",
       "      <th>SensLon</th>\n",
       "      <th>True</th>\n",
       "      <th>Pred</th>\n",
       "    </tr>\n",
       "  </thead>\n",
       "  <tbody>\n",
       "    <tr>\n",
       "      <th>0</th>\n",
       "      <td>-0.925578</td>\n",
       "      <td>-1.170458</td>\n",
       "      <td>1</td>\n",
       "      <td>1</td>\n",
       "    </tr>\n",
       "    <tr>\n",
       "      <th>1</th>\n",
       "      <td>1.219034</td>\n",
       "      <td>1.700665</td>\n",
       "      <td>3</td>\n",
       "      <td>3</td>\n",
       "    </tr>\n",
       "    <tr>\n",
       "      <th>2</th>\n",
       "      <td>1.430863</td>\n",
       "      <td>1.152297</td>\n",
       "      <td>4</td>\n",
       "      <td>4</td>\n",
       "    </tr>\n",
       "    <tr>\n",
       "      <th>3</th>\n",
       "      <td>0.506281</td>\n",
       "      <td>0.279566</td>\n",
       "      <td>1</td>\n",
       "      <td>4</td>\n",
       "    </tr>\n",
       "    <tr>\n",
       "      <th>4</th>\n",
       "      <td>-0.925578</td>\n",
       "      <td>-1.170458</td>\n",
       "      <td>1</td>\n",
       "      <td>3</td>\n",
       "    </tr>\n",
       "  </tbody>\n",
       "</table>\n",
       "</div>"
      ],
      "text/plain": [
       "    SensLat   SensLon  True  Pred\n",
       "0 -0.925578 -1.170458     1     1\n",
       "1  1.219034  1.700665     3     3\n",
       "2  1.430863  1.152297     4     4\n",
       "3  0.506281  0.279566     1     4\n",
       "4 -0.925578 -1.170458     1     3"
      ]
     },
     "execution_count": 26,
     "metadata": {},
     "output_type": "execute_result"
    }
   ],
   "source": [
    "rfc.head()"
   ]
  },
  {
   "cell_type": "code",
   "execution_count": 23,
   "metadata": {},
   "outputs": [
    {
     "data": {
      "text/html": [
       "<div>\n",
       "<style scoped>\n",
       "    .dataframe tbody tr th:only-of-type {\n",
       "        vertical-align: middle;\n",
       "    }\n",
       "\n",
       "    .dataframe tbody tr th {\n",
       "        vertical-align: top;\n",
       "    }\n",
       "\n",
       "    .dataframe thead th {\n",
       "        text-align: right;\n",
       "    }\n",
       "</style>\n",
       "<table border=\"1\" class=\"dataframe\">\n",
       "  <thead>\n",
       "    <tr style=\"text-align: right;\">\n",
       "      <th></th>\n",
       "      <th>SensLat</th>\n",
       "      <th>SensLon</th>\n",
       "      <th>True</th>\n",
       "      <th>Pred</th>\n",
       "      <th>Sensor</th>\n",
       "    </tr>\n",
       "  </thead>\n",
       "  <tbody>\n",
       "    <tr>\n",
       "      <th>0</th>\n",
       "      <td>-0.925578</td>\n",
       "      <td>-1.170458</td>\n",
       "      <td>1</td>\n",
       "      <td>1</td>\n",
       "      <td>GAWW-03</td>\n",
       "    </tr>\n",
       "    <tr>\n",
       "      <th>1</th>\n",
       "      <td>1.219034</td>\n",
       "      <td>1.700665</td>\n",
       "      <td>3</td>\n",
       "      <td>3</td>\n",
       "      <td>GAWW-07</td>\n",
       "    </tr>\n",
       "    <tr>\n",
       "      <th>2</th>\n",
       "      <td>1.430863</td>\n",
       "      <td>1.152297</td>\n",
       "      <td>4</td>\n",
       "      <td>4</td>\n",
       "      <td>GAWW-01</td>\n",
       "    </tr>\n",
       "    <tr>\n",
       "      <th>3</th>\n",
       "      <td>0.506281</td>\n",
       "      <td>0.279566</td>\n",
       "      <td>1</td>\n",
       "      <td>4</td>\n",
       "      <td>GAWW-02</td>\n",
       "    </tr>\n",
       "    <tr>\n",
       "      <th>4</th>\n",
       "      <td>-0.925578</td>\n",
       "      <td>-1.170458</td>\n",
       "      <td>1</td>\n",
       "      <td>3</td>\n",
       "      <td>GAWW-03</td>\n",
       "    </tr>\n",
       "  </tbody>\n",
       "</table>\n",
       "</div>"
      ],
      "text/plain": [
       "    SensLat   SensLon  True  Pred   Sensor\n",
       "0 -0.925578 -1.170458     1     1  GAWW-03\n",
       "1  1.219034  1.700665     3     3  GAWW-07\n",
       "2  1.430863  1.152297     4     4  GAWW-01\n",
       "3  0.506281  0.279566     1     4  GAWW-02\n",
       "4 -0.925578 -1.170458     1     3  GAWW-03"
      ]
     },
     "execution_count": 23,
     "metadata": {},
     "output_type": "execute_result"
    }
   ],
   "source": [
    "df = getSensor(rfc)\n",
    "df.head()"
   ]
  },
  {
   "cell_type": "code",
   "execution_count": 8,
   "metadata": {},
   "outputs": [
    {
     "name": "stdout",
     "output_type": "stream",
     "text": [
      "0.869 376.76\n"
     ]
    }
   ],
   "source": [
    "full = full_df[[\"Date\", \"Hour\", \"Sensor\",\"TrueCounts\"]].copy()\n",
    "\n",
    "df = rfg.merge(full, how=\"outer\", on=[\"Date\", \"Hour\", \"Sensor\"], sort=True)\n",
    "\n",
    "r2 = round(r2_score(df[\"TrueCounts\"], df[\"CrowdednessCount\"]), 3)\n",
    "rmse = round(np.sqrt(mean_squared_error(df[\"TrueCounts\"], df[\"CrowdednessCount\"])), 2)\n",
    "\n",
    "print(r2, rmse)"
   ]
  },
  {
   "cell_type": "markdown",
   "metadata": {},
   "source": [
    "## Results"
   ]
  },
  {
   "cell_type": "markdown",
   "metadata": {},
   "source": [
    "### RFG"
   ]
  },
  {
   "cell_type": "code",
   "execution_count": 17,
   "metadata": {},
   "outputs": [
    {
     "data": {
      "text/plain": [
       "{'GAWW-03': {'R2': 0.907, 'RMSE': 235.94},\n",
       " 'GAWW-02': {'R2': 0.839, 'RMSE': 557.01},\n",
       " 'GAWW-01': {'R2': 0.814, 'RMSE': 487.46},\n",
       " 'GAWW-07': {'R2': 0.927, 'RMSE': 193.18},\n",
       " 'GAWW-06': {'R2': 0.759, 'RMSE': 501.13},\n",
       " 'GAWW-05': {'R2': 0.909, 'RMSE': 294.48},\n",
       " 'GAWW-04': {'R2': 0.852, 'RMSE': 124.83}}"
      ]
     },
     "execution_count": 17,
     "metadata": {},
     "output_type": "execute_result"
    }
   ],
   "source": [
    "rfg_dict = {}\n",
    "sensors = full_df[\"Sensor\"].unique()\n",
    "\n",
    "for sensor in sensors:\n",
    "    df = getSensor(rfg)\n",
    "    df = df[df[\"Sensor\"] == sensor].copy()\n",
    "    \n",
    "    r2 = round(r2_score(df[\"True\"], df[\"Pred\"]), 3)\n",
    "    rmse = round(np.sqrt(mean_squared_error(df[\"True\"], df[\"Pred\"])), 2)\n",
    "\n",
    "    rfg_dict[sensor] = {\"R2\": r2, \"RMSE\": rmse}\n",
    "    \n",
    "rfg_dict"
   ]
  },
  {
   "cell_type": "markdown",
   "metadata": {},
   "source": [
    "### XGBR"
   ]
  },
  {
   "cell_type": "code",
   "execution_count": 18,
   "metadata": {},
   "outputs": [
    {
     "data": {
      "text/plain": [
       "{'GAWW-03': {'R2': 0.734, 'RMSE': 399.68},\n",
       " 'GAWW-02': {'R2': 0.805, 'RMSE': 614.08},\n",
       " 'GAWW-01': {'R2': 0.775, 'RMSE': 535.9},\n",
       " 'GAWW-07': {'R2': 0.905, 'RMSE': 219.2},\n",
       " 'GAWW-06': {'R2': 0.698, 'RMSE': 561.78},\n",
       " 'GAWW-05': {'R2': 0.875, 'RMSE': 344.23},\n",
       " 'GAWW-04': {'R2': 0.62, 'RMSE': 199.8}}"
      ]
     },
     "execution_count": 18,
     "metadata": {},
     "output_type": "execute_result"
    }
   ],
   "source": [
    "xgbr_dict = {}\n",
    "sensors = full_df[\"Sensor\"].unique()\n",
    "\n",
    "for sensor in sensors:\n",
    "    df = getSensor(xgbr)\n",
    "    df = df[df[\"Sensor\"] == sensor].copy()\n",
    "    \n",
    "    r2 = round(r2_score(df[\"True\"], df[\"Pred\"]), 3)\n",
    "    rmse = round(np.sqrt(mean_squared_error(df[\"True\"], df[\"Pred\"])), 2)\n",
    "\n",
    "    xgbr_dict[sensor] = {\"R2\": r2, \"RMSE\": rmse}\n",
    "    \n",
    "xgbr_dict"
   ]
  },
  {
   "cell_type": "markdown",
   "metadata": {},
   "source": [
    "### RFC"
   ]
  },
  {
   "cell_type": "code",
   "execution_count": 27,
   "metadata": {},
   "outputs": [
    {
     "data": {
      "text/plain": [
       "{'GAWW-03': {'Accuracy': 0.89,\n",
       "  'Precision': array([0.9707149 , 0.8209607 , 0.70080863, 0.85217391]),\n",
       "  'Recall': array([0.96987952, 0.7148289 , 0.81761006, 0.79032258]),\n",
       "  'F1 Score': array([0.97029703, 0.76422764, 0.75471698, 0.82008368])},\n",
       " 'GAWW-02': {'Accuracy': 0.873,\n",
       "  'Precision': array([0.7877551 , 0.87362637, 0.82621083, 0.90891473]),\n",
       "  'Recall': array([0.80416667, 0.77750611, 0.7651715 , 0.97302905]),\n",
       "  'F1 Score': array([0.79587629, 0.82276843, 0.79452055, 0.93987976])},\n",
       " 'GAWW-01': {'Accuracy': 0.852,\n",
       "  'Precision': array([0.90939597, 0.85680751, 0.8248337 , 0.84436275]),\n",
       "  'Recall': array([0.67581047, 0.8902439 , 0.82666667, 0.94383562]),\n",
       "  'F1 Score': array([0.77539342, 0.87320574, 0.82574917, 0.89133247])},\n",
       " 'GAWW-07': {'Accuracy': 0.863,\n",
       "  'Precision': array([0.9375    , 0.8972332 , 0.85290148, 0.77941176]),\n",
       "  'Recall': array([0.91569767, 0.8647619 , 0.84832215, 0.84350133]),\n",
       "  'F1 Score': array([0.92647059, 0.88069835, 0.85060565, 0.81019108])},\n",
       " 'GAWW-06': {'Accuracy': 0.818,\n",
       "  'Precision': array([0.87830688, 0.84304933, 0.76950355, 0.80762852]),\n",
       "  'Recall': array([0.75454545, 0.8245614 , 0.79633028, 0.88545455]),\n",
       "  'F1 Score': array([0.81173594, 0.83370288, 0.78268711, 0.84475282])},\n",
       " 'GAWW-05': {'Accuracy': 0.865,\n",
       "  'Precision': array([0.94154489, 0.85302594, 0.8296796 , 0.84615385]),\n",
       "  'Recall': array([0.91295547, 0.80653951, 0.83248731, 0.89795918]),\n",
       "  'F1 Score': array([0.9270298 , 0.82913165, 0.83108108, 0.87128713])},\n",
       " 'GAWW-04': {'Accuracy': 0.865,\n",
       "  'Precision': array([0.94190141, 0.87418453, 0.71014493, 1.        ]),\n",
       "  'Recall': array([0.88429752, 0.89078822, 0.75617284, 0.55555556]),\n",
       "  'F1 Score': array([0.91219096, 0.88240828, 0.73243647, 0.71428571])}}"
      ]
     },
     "execution_count": 27,
     "metadata": {},
     "output_type": "execute_result"
    }
   ],
   "source": [
    "rfc_dict = {}\n",
    "sensors = full_df[\"Sensor\"].unique()\n",
    "\n",
    "for sensor in sensors:\n",
    "    df = getSensor(rfc)\n",
    "    df = df[df[\"Sensor\"] == sensor].copy()\n",
    "\n",
    "    acc = round(accuracy_score(df[\"True\"], df[\"Pred\"]),3)\n",
    "    prec = precision_score(df[\"True\"], df[\"Pred\"], average=None)\n",
    "    rec = recall_score(df[\"True\"], df[\"Pred\"], average=None)\n",
    "    f1 = f1_score(df[\"True\"], df[\"Pred\"], average=None)\n",
    "    \n",
    "    rfc_dict[sensor] = {\"Accuracy\": acc, \"Precision\": prec, \"Recall\": rec, \"F1 Score\": f1}\n",
    "    \n",
    "rfc_dict"
   ]
  },
  {
   "cell_type": "code",
   "execution_count": 28,
   "metadata": {},
   "outputs": [
    {
     "data": {
      "text/plain": [
       "{'GAWW-03': {'Accuracy': 0.812,\n",
       "  'Precision': array([0.896875  , 0.72254335, 0.5732899 , 0.72294372]),\n",
       "  'Recall': array([0.98795181, 0.47528517, 0.55345912, 0.6733871 ]),\n",
       "  'F1 Score': array([0.94021294, 0.5733945 , 0.5632    , 0.69728601])},\n",
       " 'GAWW-02': {'Accuracy': 0.783,\n",
       "  'Precision': array([0.64583333, 0.73816156, 0.66081871, 0.88035892]),\n",
       "  'Recall': array([0.775     , 0.64792176, 0.59630607, 0.9159751 ]),\n",
       "  'F1 Score': array([0.70454545, 0.69010417, 0.62690707, 0.89781393])},\n",
       " 'GAWW-01': {'Accuracy': 0.817,\n",
       "  'Precision': array([0.85185185, 0.8056872 , 0.78636364, 0.82572115]),\n",
       "  'Recall': array([0.63092269, 0.82926829, 0.76888889, 0.94109589]),\n",
       "  'F1 Score': array([0.72492837, 0.81730769, 0.77752809, 0.87964149])},\n",
       " 'GAWW-07': {'Accuracy': 0.798,\n",
       "  'Precision': array([0.98601399, 0.84855234, 0.74374255, 0.72422062]),\n",
       "  'Recall': array([0.81976744, 0.72571429, 0.83758389, 0.80106101]),\n",
       "  'F1 Score': array([0.8952381 , 0.78234086, 0.78787879, 0.76070529])},\n",
       " 'GAWW-06': {'Accuracy': 0.711,\n",
       "  'Precision': array([0.80895522, 0.7099768 , 0.63492063, 0.72644377]),\n",
       "  'Recall': array([0.61590909, 0.67105263, 0.66055046, 0.86909091]),\n",
       "  'F1 Score': array([0.69935484, 0.68996618, 0.64748201, 0.79139073])},\n",
       " 'GAWW-05': {'Accuracy': 0.818,\n",
       "  'Precision': array([0.90946502, 0.82724252, 0.77326565, 0.78466558]),\n",
       "  'Recall': array([0.89473684, 0.67847411, 0.77326565, 0.89239332]),\n",
       "  'F1 Score': array([0.90204082, 0.74550898, 0.77326565, 0.83506944])},\n",
       " 'GAWW-04': {'Accuracy': 0.801,\n",
       "  'Precision': array([0.89734513, 0.78433024, 0.65690377, 0.        ]),\n",
       "  'Recall': array([0.83801653, 0.88414055, 0.4845679 , 0.        ]),\n",
       "  'F1 Score': array([0.86666667, 0.83125   , 0.55772647, 0.        ])}}"
      ]
     },
     "execution_count": 28,
     "metadata": {},
     "output_type": "execute_result"
    }
   ],
   "source": [
    "xgbc_dict = {}\n",
    "sensors = full_df[\"Sensor\"].unique()\n",
    "\n",
    "for sensor in sensors:\n",
    "    df = getSensor(xgbc)\n",
    "    df = df[df[\"Sensor\"] == sensor].copy()\n",
    "\n",
    "    acc = round(accuracy_score(df[\"True\"], df[\"Pred\"]),3)\n",
    "    prec = precision_score(df[\"True\"], df[\"Pred\"], average=None)\n",
    "    rec = recall_score(df[\"True\"], df[\"Pred\"], average=None)\n",
    "    f1 = f1_score(df[\"True\"], df[\"Pred\"], average=None)\n",
    "    \n",
    "    xgbc_dict[sensor] = {\"Accuracy\": acc, \"Precision\": prec, \"Recall\": rec, \"F1 Score\": f1}\n",
    "    \n",
    "xgbc_dict"
   ]
  }
 ],
 "metadata": {
  "kernelspec": {
   "display_name": "Python 3",
   "language": "python",
   "name": "python3"
  },
  "language_info": {
   "codemirror_mode": {
    "name": "ipython",
    "version": 3
   },
   "file_extension": ".py",
   "mimetype": "text/x-python",
   "name": "python",
   "nbconvert_exporter": "python",
   "pygments_lexer": "ipython3",
   "version": "3.7.1"
  }
 },
 "nbformat": 4,
 "nbformat_minor": 2
}
