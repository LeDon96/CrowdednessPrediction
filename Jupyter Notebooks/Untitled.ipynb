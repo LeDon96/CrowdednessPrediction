{
 "cells": [
  {
   "cell_type": "markdown",
   "metadata": {},
   "source": [
    "# Time Series - GVB"
   ]
  },
  {
   "cell_type": "markdown",
   "metadata": {},
   "source": [
    "## Imports"
   ]
  },
  {
   "cell_type": "code",
   "execution_count": 16,
   "metadata": {},
   "outputs": [
    {
     "data": {
      "text/html": [
       "        <script type=\"text/javascript\">\n",
       "        window.PlotlyConfig = {MathJaxConfig: 'local'};\n",
       "        if (window.MathJax) {MathJax.Hub.Config({SVG: {font: \"STIX-Web\"}});}\n",
       "        if (typeof require !== 'undefined') {\n",
       "        require.undef(\"plotly\");\n",
       "        requirejs.config({\n",
       "            paths: {\n",
       "                'plotly': ['https://cdn.plot.ly/plotly-latest.min']\n",
       "            }\n",
       "        });\n",
       "        require(['plotly'], function(Plotly) {\n",
       "            window._Plotly = Plotly;\n",
       "        });\n",
       "        }\n",
       "        </script>\n",
       "        "
      ]
     },
     "metadata": {},
     "output_type": "display_data"
    }
   ],
   "source": [
    "import pandas as pd\n",
    "import plotly\n",
    "from bubbly import bubbleplot\n",
    "plotly.offline.init_notebook_mode(connected=True)"
   ]
  },
  {
   "cell_type": "markdown",
   "metadata": {},
   "source": [
    "## Import File"
   ]
  },
  {
   "cell_type": "code",
   "execution_count": 8,
   "metadata": {},
   "outputs": [],
   "source": [
    "dataset = pd.read_csv(\"../../../Data_thesis/Full_Datasets/TimeSeriesGVB.csv\")"
   ]
  },
  {
   "cell_type": "code",
   "execution_count": 9,
   "metadata": {},
   "outputs": [
    {
     "data": {
      "text/html": [
       "<div>\n",
       "<style scoped>\n",
       "    .dataframe tbody tr th:only-of-type {\n",
       "        vertical-align: middle;\n",
       "    }\n",
       "\n",
       "    .dataframe tbody tr th {\n",
       "        vertical-align: top;\n",
       "    }\n",
       "\n",
       "    .dataframe thead th {\n",
       "        text-align: right;\n",
       "    }\n",
       "</style>\n",
       "<table border=\"1\" class=\"dataframe\">\n",
       "  <thead>\n",
       "    <tr style=\"text-align: right;\">\n",
       "      <th></th>\n",
       "      <th>weekday</th>\n",
       "      <th>Latitude</th>\n",
       "      <th>Longitude</th>\n",
       "      <th>Station</th>\n",
       "      <th>Passengers</th>\n",
       "    </tr>\n",
       "  </thead>\n",
       "  <tbody>\n",
       "    <tr>\n",
       "      <th>0</th>\n",
       "      <td>0</td>\n",
       "      <td>52.371942</td>\n",
       "      <td>4.901239</td>\n",
       "      <td>Nieuwmarkt</td>\n",
       "      <td>359.128650</td>\n",
       "    </tr>\n",
       "    <tr>\n",
       "      <th>1</th>\n",
       "      <td>0</td>\n",
       "      <td>52.373127</td>\n",
       "      <td>4.890080</td>\n",
       "      <td>Dam</td>\n",
       "      <td>1009.629045</td>\n",
       "    </tr>\n",
       "    <tr>\n",
       "      <th>2</th>\n",
       "      <td>0</td>\n",
       "      <td>52.369097</td>\n",
       "      <td>4.889259</td>\n",
       "      <td>Spui</td>\n",
       "      <td>176.134175</td>\n",
       "    </tr>\n",
       "    <tr>\n",
       "      <th>3</th>\n",
       "      <td>0</td>\n",
       "      <td>52.376288</td>\n",
       "      <td>4.893731</td>\n",
       "      <td>Nieuwezijds Kolk</td>\n",
       "      <td>195.531965</td>\n",
       "    </tr>\n",
       "    <tr>\n",
       "      <th>4</th>\n",
       "      <td>0</td>\n",
       "      <td>52.377494</td>\n",
       "      <td>4.900781</td>\n",
       "      <td>Centraal Station</td>\n",
       "      <td>5056.005525</td>\n",
       "    </tr>\n",
       "  </tbody>\n",
       "</table>\n",
       "</div>"
      ],
      "text/plain": [
       "   weekday   Latitude  Longitude           Station   Passengers\n",
       "0        0  52.371942   4.901239        Nieuwmarkt   359.128650\n",
       "1        0  52.373127   4.890080               Dam  1009.629045\n",
       "2        0  52.369097   4.889259              Spui   176.134175\n",
       "3        0  52.376288   4.893731  Nieuwezijds Kolk   195.531965\n",
       "4        0  52.377494   4.900781  Centraal Station  5056.005525"
      ]
     },
     "execution_count": 9,
     "metadata": {},
     "output_type": "execute_result"
    }
   ],
   "source": [
    "dataset.head()"
   ]
  },
  {
   "cell_type": "markdown",
   "metadata": {},
   "source": [
    "## Functions"
   ]
  },
  {
   "cell_type": "code",
   "execution_count": 25,
   "metadata": {},
   "outputs": [],
   "source": [
    "def plotTimeSeries(df):\n",
    "    \n",
    "    #Variables\n",
    "    x_column = 'Longitude'\n",
    "    y_column = 'Latitude'\n",
    "    bubble_column = 'Station'\n",
    "    time_column = 'weekday'\n",
    "    size_column = 'Passengers'\n",
    "\n",
    "    #Initialize grid\n",
    "    grid = pd.DataFrame()\n",
    "    \n",
    "    figure = bubbleplot(dataset=dataset, x_column=x_column, y_column=y_column, \n",
    "        bubble_column=bubble_column, size_column=size_column, time_column=time_column, color_column=bubble_column,\n",
    "        x_title=\"Longitude\", y_title=\"Latitude\", title=\"Mean Passenger Counts GVB\",\n",
    "        x_logscale=False, scale_bubble=3, height=650, x_range=[min(dataset[x_column])-0.005, max(dataset[x_column])+0.005],\n",
    "                       y_range=[min(dataset[y_column])-0.005, max(dataset[y_column])+0.005])\n",
    "\n",
    "    plotly.offline.iplot(figure)"
   ]
  },
  {
   "cell_type": "code",
   "execution_count": 26,
   "metadata": {},
   "outputs": [
    {
     "data": {
      "application/vnd.plotly.v1+json": {
       "config": {
        "linkText": "Export to plot.ly",
        "plotlyServerURL": "https://plot.ly",
        "responsive": true,
        "showLink": false
       },
       "data": [
        {
         "marker": {
          "size": [
           359.12865035516967
          ],
          "sizemode": "area",
          "sizeref": 0.5966204260149572
         },
         "mode": "markers",
         "name": "Nieuwmarkt",
         "text": "Crowdedness Count: [359.12865035516967]",
         "type": "scatter",
         "uid": "96ba7c45-5a45-4832-abfa-c7975160ef0a",
         "x": [
          4.90123885
         ],
         "y": [
          52.37194169
         ]
        },
        {
         "marker": {
          "size": [
           1009.629044988161
          ],
          "sizemode": "area",
          "sizeref": 0.5966204260149572
         },
         "mode": "markers",
         "name": "Dam",
         "text": "Crowdedness Count: [1009.629044988161]",
         "type": "scatter",
         "uid": "5162a9fd-e2af-4097-8cca-1aa1e18ed4d9",
         "x": [
          4.89008027
         ],
         "y": [
          52.37312668
         ]
        },
        {
         "marker": {
          "size": [
           176.13417521704815
          ],
          "sizemode": "area",
          "sizeref": 0.5966204260149572
         },
         "mode": "markers",
         "name": "Spui",
         "text": "Crowdedness Count: [176.13417521704815]",
         "type": "scatter",
         "uid": "286d0d8f-68a4-44b6-91f2-a595d2bb941c",
         "x": [
          4.88925912
         ],
         "y": [
          52.36909673
         ]
        },
        {
         "marker": {
          "size": [
           195.53196527229682
          ],
          "sizemode": "area",
          "sizeref": 0.5966204260149572
         },
         "mode": "markers",
         "name": "Nieuwezijds Kolk",
         "text": "Crowdedness Count: [195.53196527229682]",
         "type": "scatter",
         "uid": "a020fe00-b0ca-4cfa-9122-12267bc56e1b",
         "x": [
          4.89373093
         ],
         "y": [
          52.37628765
         ]
        },
        {
         "marker": {
          "size": [
           5056.005524861878
          ],
          "sizemode": "area",
          "sizeref": 0.5966204260149572
         },
         "mode": "markers",
         "name": "Centraal Station",
         "text": "Crowdedness Count: [5056.005524861878]",
         "type": "scatter",
         "uid": "a0fe0e27-9a8d-4157-bef7-d3ae9c5450f7",
         "x": [
          4.90078149
         ],
         "y": [
          52.37749421
         ]
        }
       ],
       "frames": [
        {
         "data": [
          {
           "marker": {
            "size": [
             359.12865035516967
            ],
            "sizemode": "area",
            "sizeref": 0.5966204260149572
           },
           "mode": "markers",
           "name": "Nieuwmarkt",
           "text": "Crowdedness Count: [359.12865035516967]",
           "type": "scatter",
           "x": [
            4.90123885
           ],
           "y": [
            52.37194169
           ]
          },
          {
           "marker": {
            "size": [
             1009.629044988161
            ],
            "sizemode": "area",
            "sizeref": 0.5966204260149572
           },
           "mode": "markers",
           "name": "Dam",
           "text": "Crowdedness Count: [1009.629044988161]",
           "type": "scatter",
           "x": [
            4.89008027
           ],
           "y": [
            52.37312668
           ]
          },
          {
           "marker": {
            "size": [
             176.13417521704815
            ],
            "sizemode": "area",
            "sizeref": 0.5966204260149572
           },
           "mode": "markers",
           "name": "Spui",
           "text": "Crowdedness Count: [176.13417521704815]",
           "type": "scatter",
           "x": [
            4.88925912
           ],
           "y": [
            52.36909673
           ]
          },
          {
           "marker": {
            "size": [
             195.53196527229682
            ],
            "sizemode": "area",
            "sizeref": 0.5966204260149572
           },
           "mode": "markers",
           "name": "Nieuwezijds Kolk",
           "text": "Crowdedness Count: [195.53196527229682]",
           "type": "scatter",
           "x": [
            4.89373093
           ],
           "y": [
            52.37628765
           ]
          },
          {
           "marker": {
            "size": [
             5056.005524861878
            ],
            "sizemode": "area",
            "sizeref": 0.5966204260149572
           },
           "mode": "markers",
           "name": "Centraal Station",
           "text": "Crowdedness Count: [5056.005524861878]",
           "type": "scatter",
           "x": [
            4.90078149
           ],
           "y": [
            52.37749421
           ]
          }
         ],
         "name": "0"
        },
        {
         "data": [
          {
           "marker": {
            "size": [
             374.6
            ],
            "sizemode": "area",
            "sizeref": 0.5966204260149572
           },
           "mode": "markers",
           "name": "Nieuwmarkt",
           "text": "Crowdedness Count: [374.6]",
           "type": "scatter",
           "x": [
            4.90123885
           ],
           "y": [
            52.37194169
           ]
          },
          {
           "marker": {
            "size": [
             1025.4232931726908
            ],
            "sizemode": "area",
            "sizeref": 0.5966204260149572
           },
           "mode": "markers",
           "name": "Dam",
           "text": "Crowdedness Count: [1025.4232931726908]",
           "type": "scatter",
           "x": [
            4.89008027
           ],
           "y": [
            52.37312668
           ]
          },
          {
           "marker": {
            "size": [
             184.75823293172687
            ],
            "sizemode": "area",
            "sizeref": 0.5966204260149572
           },
           "mode": "markers",
           "name": "Spui",
           "text": "Crowdedness Count: [184.75823293172687]",
           "type": "scatter",
           "x": [
            4.88925912
           ],
           "y": [
            52.36909673
           ]
          },
          {
           "marker": {
            "size": [
             198.56787148594375
            ],
            "sizemode": "area",
            "sizeref": 0.5966204260149572
           },
           "mode": "markers",
           "name": "Nieuwezijds Kolk",
           "text": "Crowdedness Count: [198.56787148594375]",
           "type": "scatter",
           "x": [
            4.89373093
           ],
           "y": [
            52.37628765
           ]
          },
          {
           "marker": {
            "size": [
             5294.129317269078
            ],
            "sizemode": "area",
            "sizeref": 0.5966204260149572
           },
           "mode": "markers",
           "name": "Centraal Station",
           "text": "Crowdedness Count: [5294.129317269078]",
           "type": "scatter",
           "x": [
            4.90078149
           ],
           "y": [
            52.37749421
           ]
          }
         ],
         "name": "1"
        },
        {
         "data": [
          {
           "marker": {
            "size": [
             377.85301204819285
            ],
            "sizemode": "area",
            "sizeref": 0.5966204260149572
           },
           "mode": "markers",
           "name": "Nieuwmarkt",
           "text": "Crowdedness Count: [377.85301204819285]",
           "type": "scatter",
           "x": [
            4.90123885
           ],
           "y": [
            52.37194169
           ]
          },
          {
           "marker": {
            "size": [
             1061.2642570281123
            ],
            "sizemode": "area",
            "sizeref": 0.5966204260149572
           },
           "mode": "markers",
           "name": "Dam",
           "text": "Crowdedness Count: [1061.2642570281123]",
           "type": "scatter",
           "x": [
            4.89008027
           ],
           "y": [
            52.37312668
           ]
          },
          {
           "marker": {
            "size": [
             187.21445783132526
            ],
            "sizemode": "area",
            "sizeref": 0.5966204260149572
           },
           "mode": "markers",
           "name": "Spui",
           "text": "Crowdedness Count: [187.21445783132526]",
           "type": "scatter",
           "x": [
            4.88925912
           ],
           "y": [
            52.36909673
           ]
          },
          {
           "marker": {
            "size": [
             201.46907630522088
            ],
            "sizemode": "area",
            "sizeref": 0.5966204260149572
           },
           "mode": "markers",
           "name": "Nieuwezijds Kolk",
           "text": "Crowdedness Count: [201.46907630522088]",
           "type": "scatter",
           "x": [
            4.89373093
           ],
           "y": [
            52.37628765
           ]
          },
          {
           "marker": {
            "size": [
             5232.979919678715
            ],
            "sizemode": "area",
            "sizeref": 0.5966204260149572
           },
           "mode": "markers",
           "name": "Centraal Station",
           "text": "Crowdedness Count: [5232.979919678715]",
           "type": "scatter",
           "x": [
            4.90078149
           ],
           "y": [
            52.37749421
           ]
          }
         ],
         "name": "2"
        },
        {
         "data": [
          {
           "marker": {
            "size": [
             411.369391025641
            ],
            "sizemode": "area",
            "sizeref": 0.5966204260149572
           },
           "mode": "markers",
           "name": "Nieuwmarkt",
           "text": "Crowdedness Count: [411.369391025641]",
           "type": "scatter",
           "x": [
            4.90123885
           ],
           "y": [
            52.37194169
           ]
          },
          {
           "marker": {
            "size": [
             1148.2467948717951
            ],
            "sizemode": "area",
            "sizeref": 0.5966204260149572
           },
           "mode": "markers",
           "name": "Dam",
           "text": "Crowdedness Count: [1148.2467948717951]",
           "type": "scatter",
           "x": [
            4.89008027
           ],
           "y": [
            52.37312668
           ]
          },
          {
           "marker": {
            "size": [
             205.53044871794876
            ],
            "sizemode": "area",
            "sizeref": 0.5966204260149572
           },
           "mode": "markers",
           "name": "Spui",
           "text": "Crowdedness Count: [205.53044871794876]",
           "type": "scatter",
           "x": [
            4.88925912
           ],
           "y": [
            52.36909673
           ]
          },
          {
           "marker": {
            "size": [
             213.6842948717949
            ],
            "sizemode": "area",
            "sizeref": 0.5966204260149572
           },
           "mode": "markers",
           "name": "Nieuwezijds Kolk",
           "text": "Crowdedness Count: [213.6842948717949]",
           "type": "scatter",
           "x": [
            4.89373093
           ],
           "y": [
            52.37628765
           ]
          },
          {
           "marker": {
            "size": [
             5624.042467948719
            ],
            "sizemode": "area",
            "sizeref": 0.5966204260149572
           },
           "mode": "markers",
           "name": "Centraal Station",
           "text": "Crowdedness Count: [5624.042467948719]",
           "type": "scatter",
           "x": [
            4.90078149
           ],
           "y": [
            52.37749421
           ]
          }
         ],
         "name": "3"
        },
        {
         "data": [
          {
           "marker": {
            "size": [
             424.5616987179488
            ],
            "sizemode": "area",
            "sizeref": 0.5966204260149572
           },
           "mode": "markers",
           "name": "Nieuwmarkt",
           "text": "Crowdedness Count: [424.5616987179488]",
           "type": "scatter",
           "x": [
            4.90123885
           ],
           "y": [
            52.37194169
           ]
          },
          {
           "marker": {
            "size": [
             1174.3725961538462
            ],
            "sizemode": "area",
            "sizeref": 0.5966204260149572
           },
           "mode": "markers",
           "name": "Dam",
           "text": "Crowdedness Count: [1174.3725961538462]",
           "type": "scatter",
           "x": [
            4.89008027
           ],
           "y": [
            52.37312668
           ]
          },
          {
           "marker": {
            "size": [
             214.97435897435898
            ],
            "sizemode": "area",
            "sizeref": 0.5966204260149572
           },
           "mode": "markers",
           "name": "Spui",
           "text": "Crowdedness Count: [214.97435897435898]",
           "type": "scatter",
           "x": [
            4.88925912
           ],
           "y": [
            52.36909673
           ]
          },
          {
           "marker": {
            "size": [
             228.0809294871795
            ],
            "sizemode": "area",
            "sizeref": 0.5966204260149572
           },
           "mode": "markers",
           "name": "Nieuwezijds Kolk",
           "text": "Crowdedness Count: [228.0809294871795]",
           "type": "scatter",
           "x": [
            4.89373093
           ],
           "y": [
            52.37628765
           ]
          },
          {
           "marker": {
            "size": [
             5727.55608974359
            ],
            "sizemode": "area",
            "sizeref": 0.5966204260149572
           },
           "mode": "markers",
           "name": "Centraal Station",
           "text": "Crowdedness Count: [5727.55608974359]",
           "type": "scatter",
           "x": [
            4.90078149
           ],
           "y": [
            52.37749421
           ]
          }
         ],
         "name": "4"
        },
        {
         "data": [
          {
           "marker": {
            "size": [
             406.2996794871795
            ],
            "sizemode": "area",
            "sizeref": 0.5966204260149572
           },
           "mode": "markers",
           "name": "Nieuwmarkt",
           "text": "Crowdedness Count: [406.2996794871795]",
           "type": "scatter",
           "x": [
            4.90123885
           ],
           "y": [
            52.37194169
           ]
          },
          {
           "marker": {
            "size": [
             1330.8445512820513
            ],
            "sizemode": "area",
            "sizeref": 0.5966204260149572
           },
           "mode": "markers",
           "name": "Dam",
           "text": "Crowdedness Count: [1330.8445512820513]",
           "type": "scatter",
           "x": [
            4.89008027
           ],
           "y": [
            52.37312668
           ]
          },
          {
           "marker": {
            "size": [
             209.8076923076923
            ],
            "sizemode": "area",
            "sizeref": 0.5966204260149572
           },
           "mode": "markers",
           "name": "Spui",
           "text": "Crowdedness Count: [209.8076923076923]",
           "type": "scatter",
           "x": [
            4.88925912
           ],
           "y": [
            52.36909673
           ]
          },
          {
           "marker": {
            "size": [
             247.11538461538458
            ],
            "sizemode": "area",
            "sizeref": 0.5966204260149572
           },
           "mode": "markers",
           "name": "Nieuwezijds Kolk",
           "text": "Crowdedness Count: [247.11538461538458]",
           "type": "scatter",
           "x": [
            4.89373093
           ],
           "y": [
            52.37628765
           ]
          },
          {
           "marker": {
            "size": [
             4897.978365384615
            ],
            "sizemode": "area",
            "sizeref": 0.5966204260149572
           },
           "mode": "markers",
           "name": "Centraal Station",
           "text": "Crowdedness Count: [4897.978365384615]",
           "type": "scatter",
           "x": [
            4.90078149
           ],
           "y": [
            52.37749421
           ]
          }
         ],
         "name": "5"
        },
        {
         "data": [
          {
           "marker": {
            "size": [
             312.9831595829992
            ],
            "sizemode": "area",
            "sizeref": 0.5966204260149572
           },
           "mode": "markers",
           "name": "Nieuwmarkt",
           "text": "Crowdedness Count: [312.9831595829992]",
           "type": "scatter",
           "x": [
            4.90123885
           ],
           "y": [
            52.37194169
           ]
          },
          {
           "marker": {
            "size": [
             1084.5469125902164
            ],
            "sizemode": "area",
            "sizeref": 0.5966204260149572
           },
           "mode": "markers",
           "name": "Dam",
           "text": "Crowdedness Count: [1084.5469125902164]",
           "type": "scatter",
           "x": [
            4.89008027
           ],
           "y": [
            52.37312668
           ]
          },
          {
           "marker": {
            "size": [
             175.26222935044106
            ],
            "sizemode": "area",
            "sizeref": 0.5966204260149572
           },
           "mode": "markers",
           "name": "Spui",
           "text": "Crowdedness Count: [175.26222935044106]",
           "type": "scatter",
           "x": [
            4.88925912
           ],
           "y": [
            52.36909673
           ]
          },
          {
           "marker": {
            "size": [
             202.12590216519646
            ],
            "sizemode": "area",
            "sizeref": 0.5966204260149572
           },
           "mode": "markers",
           "name": "Nieuwezijds Kolk",
           "text": "Crowdedness Count: [202.12590216519646]",
           "type": "scatter",
           "x": [
            4.89373093
           ],
           "y": [
            52.37628765
           ]
          },
          {
           "marker": {
            "size": [
             4046.7674418604656
            ],
            "sizemode": "area",
            "sizeref": 0.5966204260149572
           },
           "mode": "markers",
           "name": "Centraal Station",
           "text": "Crowdedness Count: [4046.7674418604656]",
           "type": "scatter",
           "x": [
            4.90078149
           ],
           "y": [
            52.37749421
           ]
          }
         ],
         "name": "6"
        }
       ],
       "layout": {
        "height": 650,
        "hovermode": "closest",
        "margin": {
         "b": 50,
         "pad": 5,
         "t": 50
        },
        "showlegend": true,
        "sliders": [
         {
          "active": 0,
          "currentvalue": {
           "font": {
            "size": 20
           },
           "prefix": "Hour:",
           "visible": true,
           "xanchor": "right"
          },
          "len": 0.9,
          "pad": {
           "b": 10,
           "t": 50
          },
          "steps": [
           {
            "args": [
             [
              0
             ],
             {
              "frame": {
               "duration": 300,
               "redraw": false
              },
              "mode": "immediate",
              "transition": {
               "duration": 300
              }
             }
            ],
            "label": "0",
            "method": "animate"
           },
           {
            "args": [
             [
              1
             ],
             {
              "frame": {
               "duration": 300,
               "redraw": false
              },
              "mode": "immediate",
              "transition": {
               "duration": 300
              }
             }
            ],
            "label": "1",
            "method": "animate"
           },
           {
            "args": [
             [
              2
             ],
             {
              "frame": {
               "duration": 300,
               "redraw": false
              },
              "mode": "immediate",
              "transition": {
               "duration": 300
              }
             }
            ],
            "label": "2",
            "method": "animate"
           },
           {
            "args": [
             [
              3
             ],
             {
              "frame": {
               "duration": 300,
               "redraw": false
              },
              "mode": "immediate",
              "transition": {
               "duration": 300
              }
             }
            ],
            "label": "3",
            "method": "animate"
           },
           {
            "args": [
             [
              4
             ],
             {
              "frame": {
               "duration": 300,
               "redraw": false
              },
              "mode": "immediate",
              "transition": {
               "duration": 300
              }
             }
            ],
            "label": "4",
            "method": "animate"
           },
           {
            "args": [
             [
              5
             ],
             {
              "frame": {
               "duration": 300,
               "redraw": false
              },
              "mode": "immediate",
              "transition": {
               "duration": 300
              }
             }
            ],
            "label": "5",
            "method": "animate"
           },
           {
            "args": [
             [
              6
             ],
             {
              "frame": {
               "duration": 300,
               "redraw": false
              },
              "mode": "immediate",
              "transition": {
               "duration": 300
              }
             }
            ],
            "label": "6",
            "method": "animate"
           }
          ],
          "transition": {
           "duration": 300,
           "easing": "cubic-in-out"
          },
          "x": 0.1,
          "xanchor": "left",
          "y": 0,
          "yanchor": "top"
         }
        ],
        "title": {
         "text": "Mean Passenger Counts GVB"
        },
        "updatemenus": [
         {
          "buttons": [
           {
            "args": [
             null,
             {
              "frame": {
               "duration": 500,
               "redraw": false
              },
              "fromcurrent": true,
              "transition": {
               "duration": 300,
               "easing": "quadratic-in-out"
              }
             }
            ],
            "label": "Play",
            "method": "animate"
           },
           {
            "args": [
             [
              null
             ],
             {
              "frame": {
               "duration": 0,
               "redraw": false
              },
              "mode": "immediate",
              "transition": {
               "duration": 0
              }
             }
            ],
            "label": "Pause",
            "method": "animate"
           }
          ],
          "direction": "left",
          "pad": {
           "r": 10,
           "t": 87
          },
          "showactive": false,
          "type": "buttons",
          "x": 0.1,
          "xanchor": "right",
          "y": 0,
          "yanchor": "top"
         }
        ],
        "xaxis": {
         "autorange": false,
         "range": [
          4.88425912,
          4.90623885
         ],
         "title": {
          "text": "Longitude"
         }
        },
        "yaxis": {
         "autorange": false,
         "range": [
          52.36409673,
          52.382494210000004
         ],
         "title": {
          "text": "Latitude"
         }
        }
       }
      },
      "text/html": [
       "<div>\n",
       "        \n",
       "        \n",
       "            <div id=\"44f222a7-96ac-40b8-a994-6403b4fed9c2\" class=\"plotly-graph-div\" style=\"height:650px; width:100%;\"></div>\n",
       "            <script type=\"text/javascript\">\n",
       "                require([\"plotly\"], function(Plotly) {\n",
       "                    window.PLOTLYENV=window.PLOTLYENV || {};\n",
       "                    window.PLOTLYENV.BASE_URL='https://plot.ly';\n",
       "                    \n",
       "                if (document.getElementById(\"44f222a7-96ac-40b8-a994-6403b4fed9c2\")) {\n",
       "                    Plotly.newPlot(\n",
       "                        '44f222a7-96ac-40b8-a994-6403b4fed9c2',\n",
       "                        [{\"marker\": {\"size\": [359.12865035516967], \"sizemode\": \"area\", \"sizeref\": 0.5966204260149572}, \"mode\": \"markers\", \"name\": \"Nieuwmarkt\", \"text\": \"Crowdedness Count: [359.12865035516967]\", \"type\": \"scatter\", \"uid\": \"36bf6aa5-c7e3-4e69-be4f-541c657994cb\", \"x\": [4.90123885], \"y\": [52.37194169]}, {\"marker\": {\"size\": [1009.629044988161], \"sizemode\": \"area\", \"sizeref\": 0.5966204260149572}, \"mode\": \"markers\", \"name\": \"Dam\", \"text\": \"Crowdedness Count: [1009.629044988161]\", \"type\": \"scatter\", \"uid\": \"9cf19113-55c5-49b6-a70f-fd19e0378fcf\", \"x\": [4.89008027], \"y\": [52.37312668]}, {\"marker\": {\"size\": [176.13417521704815], \"sizemode\": \"area\", \"sizeref\": 0.5966204260149572}, \"mode\": \"markers\", \"name\": \"Spui\", \"text\": \"Crowdedness Count: [176.13417521704815]\", \"type\": \"scatter\", \"uid\": \"a06da2c9-693b-441f-83ef-429da430ce79\", \"x\": [4.88925912], \"y\": [52.36909673]}, {\"marker\": {\"size\": [195.53196527229682], \"sizemode\": \"area\", \"sizeref\": 0.5966204260149572}, \"mode\": \"markers\", \"name\": \"Nieuwezijds Kolk\", \"text\": \"Crowdedness Count: [195.53196527229682]\", \"type\": \"scatter\", \"uid\": \"8a585aac-cf3f-4195-a75f-ddfbb1250978\", \"x\": [4.89373093], \"y\": [52.37628765]}, {\"marker\": {\"size\": [5056.005524861878], \"sizemode\": \"area\", \"sizeref\": 0.5966204260149572}, \"mode\": \"markers\", \"name\": \"Centraal Station\", \"text\": \"Crowdedness Count: [5056.005524861878]\", \"type\": \"scatter\", \"uid\": \"6a372b50-e99b-4cb1-a714-dfc38b804372\", \"x\": [4.90078149], \"y\": [52.37749421]}],\n",
       "                        {\"height\": 650, \"hovermode\": \"closest\", \"margin\": {\"b\": 50, \"pad\": 5, \"t\": 50}, \"showlegend\": true, \"sliders\": [{\"active\": 0, \"currentvalue\": {\"font\": {\"size\": 20}, \"prefix\": \"Hour:\", \"visible\": true, \"xanchor\": \"right\"}, \"len\": 0.9, \"pad\": {\"b\": 10, \"t\": 50}, \"steps\": [{\"args\": [[0], {\"frame\": {\"duration\": 300, \"redraw\": false}, \"mode\": \"immediate\", \"transition\": {\"duration\": 300}}], \"label\": \"0\", \"method\": \"animate\"}, {\"args\": [[1], {\"frame\": {\"duration\": 300, \"redraw\": false}, \"mode\": \"immediate\", \"transition\": {\"duration\": 300}}], \"label\": \"1\", \"method\": \"animate\"}, {\"args\": [[2], {\"frame\": {\"duration\": 300, \"redraw\": false}, \"mode\": \"immediate\", \"transition\": {\"duration\": 300}}], \"label\": \"2\", \"method\": \"animate\"}, {\"args\": [[3], {\"frame\": {\"duration\": 300, \"redraw\": false}, \"mode\": \"immediate\", \"transition\": {\"duration\": 300}}], \"label\": \"3\", \"method\": \"animate\"}, {\"args\": [[4], {\"frame\": {\"duration\": 300, \"redraw\": false}, \"mode\": \"immediate\", \"transition\": {\"duration\": 300}}], \"label\": \"4\", \"method\": \"animate\"}, {\"args\": [[5], {\"frame\": {\"duration\": 300, \"redraw\": false}, \"mode\": \"immediate\", \"transition\": {\"duration\": 300}}], \"label\": \"5\", \"method\": \"animate\"}, {\"args\": [[6], {\"frame\": {\"duration\": 300, \"redraw\": false}, \"mode\": \"immediate\", \"transition\": {\"duration\": 300}}], \"label\": \"6\", \"method\": \"animate\"}], \"transition\": {\"duration\": 300, \"easing\": \"cubic-in-out\"}, \"x\": 0.1, \"xanchor\": \"left\", \"y\": 0, \"yanchor\": \"top\"}], \"title\": {\"text\": \"Mean Passenger Counts GVB\"}, \"updatemenus\": [{\"buttons\": [{\"args\": [null, {\"frame\": {\"duration\": 500, \"redraw\": false}, \"fromcurrent\": true, \"transition\": {\"duration\": 300, \"easing\": \"quadratic-in-out\"}}], \"label\": \"Play\", \"method\": \"animate\"}, {\"args\": [[null], {\"frame\": {\"duration\": 0, \"redraw\": false}, \"mode\": \"immediate\", \"transition\": {\"duration\": 0}}], \"label\": \"Pause\", \"method\": \"animate\"}], \"direction\": \"left\", \"pad\": {\"r\": 10, \"t\": 87}, \"showactive\": false, \"type\": \"buttons\", \"x\": 0.1, \"xanchor\": \"right\", \"y\": 0, \"yanchor\": \"top\"}], \"xaxis\": {\"autorange\": false, \"range\": [4.88425912, 4.90623885], \"title\": {\"text\": \"Longitude\"}}, \"yaxis\": {\"autorange\": false, \"range\": [52.36409673, 52.382494210000004], \"title\": {\"text\": \"Latitude\"}}},\n",
       "                        {\"showLink\": false, \"linkText\": \"Export to plot.ly\", \"plotlyServerURL\": \"https://plot.ly\", \"responsive\": true}\n",
       "                    ).then(function(){\n",
       "                            Plotly.addFrames('44f222a7-96ac-40b8-a994-6403b4fed9c2', [{\"data\": [{\"marker\": {\"size\": [359.12865035516967], \"sizemode\": \"area\", \"sizeref\": 0.5966204260149572}, \"mode\": \"markers\", \"name\": \"Nieuwmarkt\", \"text\": \"Crowdedness Count: [359.12865035516967]\", \"x\": [4.90123885], \"y\": [52.37194169], \"type\": \"scatter\"}, {\"marker\": {\"size\": [1009.629044988161], \"sizemode\": \"area\", \"sizeref\": 0.5966204260149572}, \"mode\": \"markers\", \"name\": \"Dam\", \"text\": \"Crowdedness Count: [1009.629044988161]\", \"x\": [4.89008027], \"y\": [52.37312668], \"type\": \"scatter\"}, {\"marker\": {\"size\": [176.13417521704815], \"sizemode\": \"area\", \"sizeref\": 0.5966204260149572}, \"mode\": \"markers\", \"name\": \"Spui\", \"text\": \"Crowdedness Count: [176.13417521704815]\", \"x\": [4.88925912], \"y\": [52.36909673], \"type\": \"scatter\"}, {\"marker\": {\"size\": [195.53196527229682], \"sizemode\": \"area\", \"sizeref\": 0.5966204260149572}, \"mode\": \"markers\", \"name\": \"Nieuwezijds Kolk\", \"text\": \"Crowdedness Count: [195.53196527229682]\", \"x\": [4.89373093], \"y\": [52.37628765], \"type\": \"scatter\"}, {\"marker\": {\"size\": [5056.005524861878], \"sizemode\": \"area\", \"sizeref\": 0.5966204260149572}, \"mode\": \"markers\", \"name\": \"Centraal Station\", \"text\": \"Crowdedness Count: [5056.005524861878]\", \"x\": [4.90078149], \"y\": [52.37749421], \"type\": \"scatter\"}], \"name\": \"0\"}, {\"data\": [{\"marker\": {\"size\": [374.6], \"sizemode\": \"area\", \"sizeref\": 0.5966204260149572}, \"mode\": \"markers\", \"name\": \"Nieuwmarkt\", \"text\": \"Crowdedness Count: [374.6]\", \"x\": [4.90123885], \"y\": [52.37194169], \"type\": \"scatter\"}, {\"marker\": {\"size\": [1025.4232931726908], \"sizemode\": \"area\", \"sizeref\": 0.5966204260149572}, \"mode\": \"markers\", \"name\": \"Dam\", \"text\": \"Crowdedness Count: [1025.4232931726908]\", \"x\": [4.89008027], \"y\": [52.37312668], \"type\": \"scatter\"}, {\"marker\": {\"size\": [184.75823293172687], \"sizemode\": \"area\", \"sizeref\": 0.5966204260149572}, \"mode\": \"markers\", \"name\": \"Spui\", \"text\": \"Crowdedness Count: [184.75823293172687]\", \"x\": [4.88925912], \"y\": [52.36909673], \"type\": \"scatter\"}, {\"marker\": {\"size\": [198.56787148594375], \"sizemode\": \"area\", \"sizeref\": 0.5966204260149572}, \"mode\": \"markers\", \"name\": \"Nieuwezijds Kolk\", \"text\": \"Crowdedness Count: [198.56787148594375]\", \"x\": [4.89373093], \"y\": [52.37628765], \"type\": \"scatter\"}, {\"marker\": {\"size\": [5294.129317269078], \"sizemode\": \"area\", \"sizeref\": 0.5966204260149572}, \"mode\": \"markers\", \"name\": \"Centraal Station\", \"text\": \"Crowdedness Count: [5294.129317269078]\", \"x\": [4.90078149], \"y\": [52.37749421], \"type\": \"scatter\"}], \"name\": \"1\"}, {\"data\": [{\"marker\": {\"size\": [377.85301204819285], \"sizemode\": \"area\", \"sizeref\": 0.5966204260149572}, \"mode\": \"markers\", \"name\": \"Nieuwmarkt\", \"text\": \"Crowdedness Count: [377.85301204819285]\", \"x\": [4.90123885], \"y\": [52.37194169], \"type\": \"scatter\"}, {\"marker\": {\"size\": [1061.2642570281123], \"sizemode\": \"area\", \"sizeref\": 0.5966204260149572}, \"mode\": \"markers\", \"name\": \"Dam\", \"text\": \"Crowdedness Count: [1061.2642570281123]\", \"x\": [4.89008027], \"y\": [52.37312668], \"type\": \"scatter\"}, {\"marker\": {\"size\": [187.21445783132526], \"sizemode\": \"area\", \"sizeref\": 0.5966204260149572}, \"mode\": \"markers\", \"name\": \"Spui\", \"text\": \"Crowdedness Count: [187.21445783132526]\", \"x\": [4.88925912], \"y\": [52.36909673], \"type\": \"scatter\"}, {\"marker\": {\"size\": [201.46907630522088], \"sizemode\": \"area\", \"sizeref\": 0.5966204260149572}, \"mode\": \"markers\", \"name\": \"Nieuwezijds Kolk\", \"text\": \"Crowdedness Count: [201.46907630522088]\", \"x\": [4.89373093], \"y\": [52.37628765], \"type\": \"scatter\"}, {\"marker\": {\"size\": [5232.979919678715], \"sizemode\": \"area\", \"sizeref\": 0.5966204260149572}, \"mode\": \"markers\", \"name\": \"Centraal Station\", \"text\": \"Crowdedness Count: [5232.979919678715]\", \"x\": [4.90078149], \"y\": [52.37749421], \"type\": \"scatter\"}], \"name\": \"2\"}, {\"data\": [{\"marker\": {\"size\": [411.369391025641], \"sizemode\": \"area\", \"sizeref\": 0.5966204260149572}, \"mode\": \"markers\", \"name\": \"Nieuwmarkt\", \"text\": \"Crowdedness Count: [411.369391025641]\", \"x\": [4.90123885], \"y\": [52.37194169], \"type\": \"scatter\"}, {\"marker\": {\"size\": [1148.2467948717951], \"sizemode\": \"area\", \"sizeref\": 0.5966204260149572}, \"mode\": \"markers\", \"name\": \"Dam\", \"text\": \"Crowdedness Count: [1148.2467948717951]\", \"x\": [4.89008027], \"y\": [52.37312668], \"type\": \"scatter\"}, {\"marker\": {\"size\": [205.53044871794876], \"sizemode\": \"area\", \"sizeref\": 0.5966204260149572}, \"mode\": \"markers\", \"name\": \"Spui\", \"text\": \"Crowdedness Count: [205.53044871794876]\", \"x\": [4.88925912], \"y\": [52.36909673], \"type\": \"scatter\"}, {\"marker\": {\"size\": [213.6842948717949], \"sizemode\": \"area\", \"sizeref\": 0.5966204260149572}, \"mode\": \"markers\", \"name\": \"Nieuwezijds Kolk\", \"text\": \"Crowdedness Count: [213.6842948717949]\", \"x\": [4.89373093], \"y\": [52.37628765], \"type\": \"scatter\"}, {\"marker\": {\"size\": [5624.042467948719], \"sizemode\": \"area\", \"sizeref\": 0.5966204260149572}, \"mode\": \"markers\", \"name\": \"Centraal Station\", \"text\": \"Crowdedness Count: [5624.042467948719]\", \"x\": [4.90078149], \"y\": [52.37749421], \"type\": \"scatter\"}], \"name\": \"3\"}, {\"data\": [{\"marker\": {\"size\": [424.5616987179488], \"sizemode\": \"area\", \"sizeref\": 0.5966204260149572}, \"mode\": \"markers\", \"name\": \"Nieuwmarkt\", \"text\": \"Crowdedness Count: [424.5616987179488]\", \"x\": [4.90123885], \"y\": [52.37194169], \"type\": \"scatter\"}, {\"marker\": {\"size\": [1174.3725961538462], \"sizemode\": \"area\", \"sizeref\": 0.5966204260149572}, \"mode\": \"markers\", \"name\": \"Dam\", \"text\": \"Crowdedness Count: [1174.3725961538462]\", \"x\": [4.89008027], \"y\": [52.37312668], \"type\": \"scatter\"}, {\"marker\": {\"size\": [214.97435897435898], \"sizemode\": \"area\", \"sizeref\": 0.5966204260149572}, \"mode\": \"markers\", \"name\": \"Spui\", \"text\": \"Crowdedness Count: [214.97435897435898]\", \"x\": [4.88925912], \"y\": [52.36909673], \"type\": \"scatter\"}, {\"marker\": {\"size\": [228.0809294871795], \"sizemode\": \"area\", \"sizeref\": 0.5966204260149572}, \"mode\": \"markers\", \"name\": \"Nieuwezijds Kolk\", \"text\": \"Crowdedness Count: [228.0809294871795]\", \"x\": [4.89373093], \"y\": [52.37628765], \"type\": \"scatter\"}, {\"marker\": {\"size\": [5727.55608974359], \"sizemode\": \"area\", \"sizeref\": 0.5966204260149572}, \"mode\": \"markers\", \"name\": \"Centraal Station\", \"text\": \"Crowdedness Count: [5727.55608974359]\", \"x\": [4.90078149], \"y\": [52.37749421], \"type\": \"scatter\"}], \"name\": \"4\"}, {\"data\": [{\"marker\": {\"size\": [406.2996794871795], \"sizemode\": \"area\", \"sizeref\": 0.5966204260149572}, \"mode\": \"markers\", \"name\": \"Nieuwmarkt\", \"text\": \"Crowdedness Count: [406.2996794871795]\", \"x\": [4.90123885], \"y\": [52.37194169], \"type\": \"scatter\"}, {\"marker\": {\"size\": [1330.8445512820513], \"sizemode\": \"area\", \"sizeref\": 0.5966204260149572}, \"mode\": \"markers\", \"name\": \"Dam\", \"text\": \"Crowdedness Count: [1330.8445512820513]\", \"x\": [4.89008027], \"y\": [52.37312668], \"type\": \"scatter\"}, {\"marker\": {\"size\": [209.8076923076923], \"sizemode\": \"area\", \"sizeref\": 0.5966204260149572}, \"mode\": \"markers\", \"name\": \"Spui\", \"text\": \"Crowdedness Count: [209.8076923076923]\", \"x\": [4.88925912], \"y\": [52.36909673], \"type\": \"scatter\"}, {\"marker\": {\"size\": [247.11538461538458], \"sizemode\": \"area\", \"sizeref\": 0.5966204260149572}, \"mode\": \"markers\", \"name\": \"Nieuwezijds Kolk\", \"text\": \"Crowdedness Count: [247.11538461538458]\", \"x\": [4.89373093], \"y\": [52.37628765], \"type\": \"scatter\"}, {\"marker\": {\"size\": [4897.978365384615], \"sizemode\": \"area\", \"sizeref\": 0.5966204260149572}, \"mode\": \"markers\", \"name\": \"Centraal Station\", \"text\": \"Crowdedness Count: [4897.978365384615]\", \"x\": [4.90078149], \"y\": [52.37749421], \"type\": \"scatter\"}], \"name\": \"5\"}, {\"data\": [{\"marker\": {\"size\": [312.9831595829992], \"sizemode\": \"area\", \"sizeref\": 0.5966204260149572}, \"mode\": \"markers\", \"name\": \"Nieuwmarkt\", \"text\": \"Crowdedness Count: [312.9831595829992]\", \"x\": [4.90123885], \"y\": [52.37194169], \"type\": \"scatter\"}, {\"marker\": {\"size\": [1084.5469125902164], \"sizemode\": \"area\", \"sizeref\": 0.5966204260149572}, \"mode\": \"markers\", \"name\": \"Dam\", \"text\": \"Crowdedness Count: [1084.5469125902164]\", \"x\": [4.89008027], \"y\": [52.37312668], \"type\": \"scatter\"}, {\"marker\": {\"size\": [175.26222935044106], \"sizemode\": \"area\", \"sizeref\": 0.5966204260149572}, \"mode\": \"markers\", \"name\": \"Spui\", \"text\": \"Crowdedness Count: [175.26222935044106]\", \"x\": [4.88925912], \"y\": [52.36909673], \"type\": \"scatter\"}, {\"marker\": {\"size\": [202.12590216519646], \"sizemode\": \"area\", \"sizeref\": 0.5966204260149572}, \"mode\": \"markers\", \"name\": \"Nieuwezijds Kolk\", \"text\": \"Crowdedness Count: [202.12590216519646]\", \"x\": [4.89373093], \"y\": [52.37628765], \"type\": \"scatter\"}, {\"marker\": {\"size\": [4046.7674418604656], \"sizemode\": \"area\", \"sizeref\": 0.5966204260149572}, \"mode\": \"markers\", \"name\": \"Centraal Station\", \"text\": \"Crowdedness Count: [4046.7674418604656]\", \"x\": [4.90078149], \"y\": [52.37749421], \"type\": \"scatter\"}], \"name\": \"6\"}]);\n",
       "                        }).then(function(){\n",
       "                            Plotly.animate('44f222a7-96ac-40b8-a994-6403b4fed9c2', null);\n",
       "                        }).then(function(){\n",
       "                            \n",
       "var gd = document.getElementById('44f222a7-96ac-40b8-a994-6403b4fed9c2');\n",
       "var x = new MutationObserver(function (mutations, observer) {{\n",
       "        var display = window.getComputedStyle(gd).display;\n",
       "        if (!display || display === 'none') {{\n",
       "            console.log([gd, 'removed!']);\n",
       "            Plotly.purge(gd);\n",
       "            observer.disconnect();\n",
       "        }}\n",
       "}});\n",
       "\n",
       "// Listen for the removal of the full notebook cells\n",
       "var notebookContainer = gd.closest('#notebook-container');\n",
       "if (notebookContainer) {{\n",
       "    x.observe(notebookContainer, {childList: true});\n",
       "}}\n",
       "\n",
       "// Listen for the clearing of the current output cell\n",
       "var outputEl = gd.closest('.output');\n",
       "if (outputEl) {{\n",
       "    x.observe(outputEl, {childList: true});\n",
       "}}\n",
       "\n",
       "                        })\n",
       "                };\n",
       "                });\n",
       "            </script>\n",
       "        </div>"
      ]
     },
     "metadata": {},
     "output_type": "display_data"
    }
   ],
   "source": [
    "plotTimeSeries(dataset)"
   ]
  }
 ],
 "metadata": {
  "kernelspec": {
   "display_name": "Python 3",
   "language": "python",
   "name": "python3"
  },
  "language_info": {
   "codemirror_mode": {
    "name": "ipython",
    "version": 3
   },
   "file_extension": ".py",
   "mimetype": "text/x-python",
   "name": "python",
   "nbconvert_exporter": "python",
   "pygments_lexer": "ipython3",
   "version": "3.7.1"
  }
 },
 "nbformat": 4,
 "nbformat_minor": 2
}
