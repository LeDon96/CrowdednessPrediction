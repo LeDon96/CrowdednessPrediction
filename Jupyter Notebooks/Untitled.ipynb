{
 "cells": [
  {
   "cell_type": "markdown",
   "metadata": {},
   "source": [
    "# Time Series - GVB"
   ]
  },
  {
   "cell_type": "markdown",
   "metadata": {},
   "source": [
    "## Imports"
   ]
  },
  {
   "cell_type": "code",
   "execution_count": 1,
   "metadata": {},
   "outputs": [],
   "source": [
    "import pandas as pd"
   ]
  },
  {
   "cell_type": "markdown",
   "metadata": {},
   "source": [
    "## Import File"
   ]
  },
  {
   "cell_type": "code",
   "execution_count": 2,
   "metadata": {},
   "outputs": [],
   "source": [
    "dataset = pd.read_csv(\"../../../Data_thesis/Full_Datasets/TimeSeriesGVB.csv\")"
   ]
  },
  {
   "cell_type": "code",
   "execution_count": 3,
   "metadata": {},
   "outputs": [
    {
     "data": {
      "text/html": [
       "<div>\n",
       "<style scoped>\n",
       "    .dataframe tbody tr th:only-of-type {\n",
       "        vertical-align: middle;\n",
       "    }\n",
       "\n",
       "    .dataframe tbody tr th {\n",
       "        vertical-align: top;\n",
       "    }\n",
       "\n",
       "    .dataframe thead th {\n",
       "        text-align: right;\n",
       "    }\n",
       "</style>\n",
       "<table border=\"1\" class=\"dataframe\">\n",
       "  <thead>\n",
       "    <tr style=\"text-align: right;\">\n",
       "      <th></th>\n",
       "      <th>Arrivals</th>\n",
       "      <th>Departures</th>\n",
       "      <th>Station</th>\n",
       "    </tr>\n",
       "  </thead>\n",
       "  <tbody>\n",
       "    <tr>\n",
       "      <th>0</th>\n",
       "      <td>189.810576</td>\n",
       "      <td>169.318074</td>\n",
       "      <td>Nieuwmarkt</td>\n",
       "    </tr>\n",
       "    <tr>\n",
       "      <th>1</th>\n",
       "      <td>485.702447</td>\n",
       "      <td>523.926598</td>\n",
       "      <td>Dam</td>\n",
       "    </tr>\n",
       "    <tr>\n",
       "      <th>2</th>\n",
       "      <td>82.026046</td>\n",
       "      <td>94.108129</td>\n",
       "      <td>Spui</td>\n",
       "    </tr>\n",
       "    <tr>\n",
       "      <th>3</th>\n",
       "      <td>100.131807</td>\n",
       "      <td>95.400158</td>\n",
       "      <td>Nieuwezijds Kolk</td>\n",
       "    </tr>\n",
       "    <tr>\n",
       "      <th>4</th>\n",
       "      <td>2401.857932</td>\n",
       "      <td>2654.147593</td>\n",
       "      <td>Centraal Station</td>\n",
       "    </tr>\n",
       "  </tbody>\n",
       "</table>\n",
       "</div>"
      ],
      "text/plain": [
       "      Arrivals   Departures           Station\n",
       "0   189.810576   169.318074        Nieuwmarkt\n",
       "1   485.702447   523.926598               Dam\n",
       "2    82.026046    94.108129              Spui\n",
       "3   100.131807    95.400158  Nieuwezijds Kolk\n",
       "4  2401.857932  2654.147593  Centraal Station"
      ]
     },
     "execution_count": 3,
     "metadata": {},
     "output_type": "execute_result"
    }
   ],
   "source": [
    "dataset.head()"
   ]
  },
  {
   "cell_type": "markdown",
   "metadata": {},
   "source": [
    "## Functions"
   ]
  },
  {
   "cell_type": "code",
   "execution_count": null,
   "metadata": {},
   "outputs": [],
   "source": [
    "def plotTimeSeries(df):\n",
    "    \n",
    "    #Variables\n",
    "    x_column = 'SensorLongitude'\n",
    "    y_column = 'SensorLatitude'\n",
    "    bubble_column = 'Sensor'\n",
    "    time_column = 'Hour'\n",
    "    size_column = 'CrowdednessCount' \n",
    "    date = pd.Timestamp.strftime(dataset[\"Date\"][0], format=\"%Y-%m-%d\")\n",
    "\n",
    "    #Initialize grid\n",
    "    grid = pd.DataFrame()\n",
    "    \n",
    "    figure = bubbleplot(dataset=dataset, x_column=x_column, y_column=y_column, \n",
    "        bubble_column=bubble_column, size_column=size_column, time_column=time_column, color_column=bubble_column,\n",
    "        x_title=\"Sensor Longitude\", y_title=\"Sensor Latitude\", title='Crowdedness Counts Amsterdam - ' + date,\n",
    "        x_logscale=False, scale_bubble=3, height=650, x_range=[min(dataset[x_column])-0.001, max(dataset[x_column])+0.001],\n",
    "                       y_range=[min(dataset[y_column])-0.001, max(dataset[y_column])+0.001])\n",
    "\n",
    "    plotly.offline.iplot(figure)"
   ]
  }
 ],
 "metadata": {
  "kernelspec": {
   "display_name": "Python 3",
   "language": "python",
   "name": "python3"
  },
  "language_info": {
   "codemirror_mode": {
    "name": "ipython",
    "version": 3
   },
   "file_extension": ".py",
   "mimetype": "text/x-python",
   "name": "python",
   "nbconvert_exporter": "python",
   "pygments_lexer": "ipython3",
   "version": "3.7.1"
  }
 },
 "nbformat": 4,
 "nbformat_minor": 2
}
