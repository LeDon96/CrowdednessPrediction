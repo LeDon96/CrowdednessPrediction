{
 "cells": [
  {
   "cell_type": "markdown",
   "metadata": {},
   "source": [
    "# Model Prediction"
   ]
  },
  {
   "cell_type": "markdown",
   "metadata": {},
   "source": [
    "## Imports"
   ]
  },
  {
   "cell_type": "code",
   "execution_count": 1,
   "metadata": {},
   "outputs": [],
   "source": [
    "import pandas as pd\n",
    "import pickle\n",
    "import numpy as np"
   ]
  },
  {
   "cell_type": "markdown",
   "metadata": {},
   "source": [
    "## Import Files"
   ]
  },
  {
   "cell_type": "code",
   "execution_count": 2,
   "metadata": {},
   "outputs": [],
   "source": [
    "full_df = pd.read_csv(\"../../../Data_thesis/Full_Datasets/Full.csv\")"
   ]
  },
  {
   "cell_type": "code",
   "execution_count": 3,
   "metadata": {},
   "outputs": [
    {
     "data": {
      "text/html": [
       "<div>\n",
       "<style scoped>\n",
       "    .dataframe tbody tr th:only-of-type {\n",
       "        vertical-align: middle;\n",
       "    }\n",
       "\n",
       "    .dataframe tbody tr th {\n",
       "        vertical-align: top;\n",
       "    }\n",
       "\n",
       "    .dataframe thead th {\n",
       "        text-align: right;\n",
       "    }\n",
       "</style>\n",
       "<table border=\"1\" class=\"dataframe\">\n",
       "  <thead>\n",
       "    <tr style=\"text-align: right;\">\n",
       "      <th></th>\n",
       "      <th>Date</th>\n",
       "      <th>Hour</th>\n",
       "      <th>weekday</th>\n",
       "      <th>is_weekend</th>\n",
       "      <th>Sensor</th>\n",
       "      <th>SensorLongitude</th>\n",
       "      <th>SensorLatitude</th>\n",
       "      <th>CrowdednessCount</th>\n",
       "      <th>LonScaled</th>\n",
       "      <th>LatScaled</th>\n",
       "      <th>...</th>\n",
       "      <th>Nieuwmarkt score</th>\n",
       "      <th>Nieuwmarkt weight</th>\n",
       "      <th>Nieuwezijds Kolk score</th>\n",
       "      <th>Nieuwezijds Kolk weight</th>\n",
       "      <th>Dam score</th>\n",
       "      <th>Dam weight</th>\n",
       "      <th>Spui score</th>\n",
       "      <th>Spui weight</th>\n",
       "      <th>Centraal Station score</th>\n",
       "      <th>Centraal Station weight</th>\n",
       "    </tr>\n",
       "  </thead>\n",
       "  <tbody>\n",
       "    <tr>\n",
       "      <th>0</th>\n",
       "      <td>2018-03-11</td>\n",
       "      <td>100</td>\n",
       "      <td>6.0</td>\n",
       "      <td>1.0</td>\n",
       "      <td>GAWW-04</td>\n",
       "      <td>4.897908</td>\n",
       "      <td>52.373283</td>\n",
       "      <td>886</td>\n",
       "      <td>-0.558826</td>\n",
       "      <td>0.035969</td>\n",
       "      <td>...</td>\n",
       "      <td>0.000000</td>\n",
       "      <td>0.978944</td>\n",
       "      <td>0.000000</td>\n",
       "      <td>0.616678</td>\n",
       "      <td>-32.179221</td>\n",
       "      <td>-0.312420</td>\n",
       "      <td>-0.000000</td>\n",
       "      <td>-1.140386</td>\n",
       "      <td>297.734037</td>\n",
       "      <td>0.629459</td>\n",
       "    </tr>\n",
       "    <tr>\n",
       "      <th>1</th>\n",
       "      <td>2018-03-11</td>\n",
       "      <td>2100</td>\n",
       "      <td>6.0</td>\n",
       "      <td>1.0</td>\n",
       "      <td>GAWW-07</td>\n",
       "      <td>4.900441</td>\n",
       "      <td>52.374414</td>\n",
       "      <td>1603</td>\n",
       "      <td>1.966352</td>\n",
       "      <td>1.066966</td>\n",
       "      <td>...</td>\n",
       "      <td>396.612265</td>\n",
       "      <td>1.142975</td>\n",
       "      <td>5.596253</td>\n",
       "      <td>0.028122</td>\n",
       "      <td>-2008.443214</td>\n",
       "      <td>-1.585196</td>\n",
       "      <td>-370.823855</td>\n",
       "      <td>-2.767342</td>\n",
       "      <td>4117.774978</td>\n",
       "      <td>1.066781</td>\n",
       "    </tr>\n",
       "    <tr>\n",
       "      <th>2</th>\n",
       "      <td>2018-03-11</td>\n",
       "      <td>2100</td>\n",
       "      <td>6.0</td>\n",
       "      <td>1.0</td>\n",
       "      <td>GAWW-08</td>\n",
       "      <td>4.897193</td>\n",
       "      <td>52.371650</td>\n",
       "      <td>21</td>\n",
       "      <td>-1.271546</td>\n",
       "      <td>-1.452500</td>\n",
       "      <td>...</td>\n",
       "      <td>306.731105</td>\n",
       "      <td>0.883951</td>\n",
       "      <td>85.461513</td>\n",
       "      <td>0.429455</td>\n",
       "      <td>-107.617256</td>\n",
       "      <td>-0.084939</td>\n",
       "      <td>-71.079754</td>\n",
       "      <td>-0.530446</td>\n",
       "      <td>262.901130</td>\n",
       "      <td>0.068109</td>\n",
       "    </tr>\n",
       "    <tr>\n",
       "      <th>3</th>\n",
       "      <td>2018-03-11</td>\n",
       "      <td>2100</td>\n",
       "      <td>6.0</td>\n",
       "      <td>1.0</td>\n",
       "      <td>GAWW-09</td>\n",
       "      <td>4.898479</td>\n",
       "      <td>52.375040</td>\n",
       "      <td>88</td>\n",
       "      <td>0.011331</td>\n",
       "      <td>1.637575</td>\n",
       "      <td>...</td>\n",
       "      <td>299.730494</td>\n",
       "      <td>0.863777</td>\n",
       "      <td>135.285034</td>\n",
       "      <td>0.679824</td>\n",
       "      <td>-832.481652</td>\n",
       "      <td>-0.657049</td>\n",
       "      <td>-252.977149</td>\n",
       "      <td>-1.887889</td>\n",
       "      <td>3940.747665</td>\n",
       "      <td>1.020919</td>\n",
       "    </tr>\n",
       "    <tr>\n",
       "      <th>4</th>\n",
       "      <td>2018-03-11</td>\n",
       "      <td>2100</td>\n",
       "      <td>6.0</td>\n",
       "      <td>1.0</td>\n",
       "      <td>GAWW-10</td>\n",
       "      <td>4.898808</td>\n",
       "      <td>52.372369</td>\n",
       "      <td>49</td>\n",
       "      <td>0.338729</td>\n",
       "      <td>-0.797289</td>\n",
       "      <td>...</td>\n",
       "      <td>402.696352</td>\n",
       "      <td>1.160508</td>\n",
       "      <td>44.878993</td>\n",
       "      <td>0.225523</td>\n",
       "      <td>-918.302668</td>\n",
       "      <td>-0.724785</td>\n",
       "      <td>-187.014683</td>\n",
       "      <td>-1.395632</td>\n",
       "      <td>2000.274786</td>\n",
       "      <td>0.518206</td>\n",
       "    </tr>\n",
       "  </tbody>\n",
       "</table>\n",
       "<p>5 rows × 28 columns</p>\n",
       "</div>"
      ],
      "text/plain": [
       "         Date  Hour  weekday  is_weekend   Sensor  SensorLongitude  \\\n",
       "0  2018-03-11   100      6.0         1.0  GAWW-04         4.897908   \n",
       "1  2018-03-11  2100      6.0         1.0  GAWW-07         4.900441   \n",
       "2  2018-03-11  2100      6.0         1.0  GAWW-08         4.897193   \n",
       "3  2018-03-11  2100      6.0         1.0  GAWW-09         4.898479   \n",
       "4  2018-03-11  2100      6.0         1.0  GAWW-10         4.898808   \n",
       "\n",
       "   SensorLatitude  CrowdednessCount  LonScaled  LatScaled  ...  \\\n",
       "0       52.373283               886  -0.558826   0.035969  ...   \n",
       "1       52.374414              1603   1.966352   1.066966  ...   \n",
       "2       52.371650                21  -1.271546  -1.452500  ...   \n",
       "3       52.375040                88   0.011331   1.637575  ...   \n",
       "4       52.372369                49   0.338729  -0.797289  ...   \n",
       "\n",
       "   Nieuwmarkt score  Nieuwmarkt weight  Nieuwezijds Kolk score  \\\n",
       "0          0.000000           0.978944                0.000000   \n",
       "1        396.612265           1.142975                5.596253   \n",
       "2        306.731105           0.883951               85.461513   \n",
       "3        299.730494           0.863777              135.285034   \n",
       "4        402.696352           1.160508               44.878993   \n",
       "\n",
       "   Nieuwezijds Kolk weight    Dam score  Dam weight  Spui score  Spui weight  \\\n",
       "0                 0.616678   -32.179221   -0.312420   -0.000000    -1.140386   \n",
       "1                 0.028122 -2008.443214   -1.585196 -370.823855    -2.767342   \n",
       "2                 0.429455  -107.617256   -0.084939  -71.079754    -0.530446   \n",
       "3                 0.679824  -832.481652   -0.657049 -252.977149    -1.887889   \n",
       "4                 0.225523  -918.302668   -0.724785 -187.014683    -1.395632   \n",
       "\n",
       "   Centraal Station score  Centraal Station weight  \n",
       "0              297.734037                 0.629459  \n",
       "1             4117.774978                 1.066781  \n",
       "2              262.901130                 0.068109  \n",
       "3             3940.747665                 1.020919  \n",
       "4             2000.274786                 0.518206  \n",
       "\n",
       "[5 rows x 28 columns]"
      ]
     },
     "execution_count": 3,
     "metadata": {},
     "output_type": "execute_result"
    }
   ],
   "source": [
    "full_df.head()"
   ]
  },
  {
   "cell_type": "markdown",
   "metadata": {},
   "source": [
    "## Predefine Data"
   ]
  },
  {
   "cell_type": "code",
   "execution_count": 5,
   "metadata": {},
   "outputs": [],
   "source": [
    "sensors = full_df[\"Sensor\"].unique()\n",
    "stations = [\"Nieuwmarkt\", \"Nieuwezijds Kolk\", \"Dam\", \"Spui\", \"Centraal Station\"]\n",
    "\n",
    "sensor_dict = {}\n",
    "station_dict = {}\n",
    "\n",
    "for sensor in sensors:\n",
    "    sensor_dict[sensor] = {\"Longitude\": full_df[full_df[\"Sensor\"] == sensor].reset_index()[\"LonScaled\"][0],\n",
    "                          \"Latitude\": full_df[full_df[\"Sensor\"] == sensor].reset_index()[\"LatScaled\"][0]}\n",
    "    temp_dict = {}\n",
    "    for station in stations:\n",
    "        temp_dict[station] = {\"Weight\": full_df[full_df[\"Sensor\"] == sensor].reset_index()[station + \" weight\"][0],\n",
    "                                \"Score\": full_df[full_df[\"Sensor\"] == sensor].reset_index()[station + \" score\"].mean()}\n",
    "        \n",
    "    station_dict[sensor] = temp_dict"
   ]
  },
  {
   "cell_type": "code",
   "execution_count": 18,
   "metadata": {},
   "outputs": [
    {
     "data": {
      "text/plain": [
       "{'GAWW-04': {'Longitude': -0.5588256618785936,\n",
       "  'Latitude': 0.035968802532961634},\n",
       " 'GAWW-07': {'Longitude': 1.9663517078482349, 'Latitude': 1.066966110212915},\n",
       " 'GAWW-08': {'Longitude': -1.2715459830985292,\n",
       "  'Latitude': -1.4524999429364545},\n",
       " 'GAWW-09': {'Longitude': 0.01133065607550914, 'Latitude': 1.6375746652398655},\n",
       " 'GAWW-10': {'Longitude': 0.33872938805078523,\n",
       "  'Latitude': -0.7972892567308134},\n",
       " 'GAWW-01': {'Longitude': 1.3747609418499522, 'Latitude': 1.2371731995615205},\n",
       " 'GAWW-02': {'Longitude': 0.4332403496554872, 'Latitude': 0.4942607351257707},\n",
       " 'GAWW-03': {'Longitude': -1.1310755770840049,\n",
       "  'Latitude': -0.6562553160629516},\n",
       " 'GAWW-05': {'Longitude': -0.7492433165897556,\n",
       "  'Latitude': -0.8115111667116233},\n",
       " 'GAWW-06': {'Longitude': -0.41376928093339016,\n",
       "  'Latitude': -0.7544411946005058}}"
      ]
     },
     "execution_count": 18,
     "metadata": {},
     "output_type": "execute_result"
    }
   ],
   "source": [
    "sensor_dict"
   ]
  },
  {
   "cell_type": "markdown",
   "metadata": {},
   "source": [
    "## Import Models"
   ]
  },
  {
   "cell_type": "markdown",
   "metadata": {},
   "source": [
    "### Regression"
   ]
  },
  {
   "cell_type": "code",
   "execution_count": 3,
   "metadata": {},
   "outputs": [],
   "source": [
    "#RFG Model\n",
    "rfg_filename = \"../../../Data_thesis/Models/rfg_model.sav\"\n",
    "\n",
    "#XGB Regressor\n",
    "xgbr_filename = \"../../../Data_thesis/Models/xgbr_model.sav\""
   ]
  },
  {
   "cell_type": "code",
   "execution_count": 4,
   "metadata": {},
   "outputs": [],
   "source": [
    "rfg = pickle.load(open(rfg_filename, 'rb'))\n",
    "xgbr = pickle.load(open(xgbr_filename, 'rb'))"
   ]
  },
  {
   "cell_type": "markdown",
   "metadata": {},
   "source": [
    "### Classification"
   ]
  },
  {
   "cell_type": "code",
   "execution_count": 10,
   "metadata": {},
   "outputs": [],
   "source": [
    "#RFG Model\n",
    "rfc_filename = \"../../../Data_thesis/Models/rfc_model.sav\"\n",
    "\n",
    "#XGB Regressor\n",
    "xgbc_filename = \"../../../Data_thesis/Models/xgbc_model.sav\""
   ]
  },
  {
   "cell_type": "code",
   "execution_count": 11,
   "metadata": {},
   "outputs": [],
   "source": [
    "rfc = pickle.load(open(rfc_filename, 'rb'))\n",
    "xgbc = pickle.load(open(xgbc_filename, 'rb'))"
   ]
  },
  {
   "cell_type": "markdown",
   "metadata": {},
   "source": [
    "## Functions"
   ]
  },
  {
   "cell_type": "code",
   "execution_count": 8,
   "metadata": {},
   "outputs": [],
   "source": [
    "def TransformDate(date):\n",
    "    date = pd.Timestamp.strptime(date, \"%d-%m-%Y\")\n",
    "    \n",
    "    weekday = date.weekday()\n",
    "    \n",
    "    if weekday == 5 or weekday == 6:\n",
    "        is_weekend = 1\n",
    "    else:\n",
    "        is_weekend = 0\n",
    "    \n",
    "    print(\"Date: \", date)\n",
    "    print(\"Day: \", weekday)\n",
    "    print(\"Is Weekend: \", is_weekend)\n",
    "    print(\"Timestuff: \", TransformTime(date))"
   ]
  },
  {
   "cell_type": "code",
   "execution_count": 10,
   "metadata": {},
   "outputs": [],
   "source": [
    "def TransformTime(date):\n",
    "    \n",
    "    month_sin = np.sin(2 * np.pi * date.month / 12)\n",
    "    month_cos = np.cos(2 * np.pi * date.month / 12)\n",
    "    \n",
    "    day_sin = np.sin(2 * np.pi * date.day / 365)\n",
    "    day_cos = np.cos(2 * np.pi * date.day / 365)\n",
    "    \n",
    "    hour_sin = []\n",
    "    hour_cos = []\n",
    "    \n",
    "    for hour in range(100, 2401, 100):\n",
    "        hour_sin.append(np.sin(2 * np.pi * hour / 2400))\n",
    "        hour_cos.append(np.cos(2 * np.pi * hour / 2400))\n",
    "        \n",
    "    return {\"Month Sin\": month_sin, \"Month Cos\": month_cos, \"Day Sin\": day_sin, \n",
    "          \"Day Cos\": day_cos, \"Hour Sin\": hour_sin, \"Hour Cos\": hour_cos}"
   ]
  },
  {
   "cell_type": "code",
   "execution_count": 26,
   "metadata": {},
   "outputs": [],
   "source": [
    "def SelectSensor(sensor):\n",
    "    \n",
    "    for k, v in sensor_dict[sensor].items():\n",
    "        print(v[\"Longitude\"])"
   ]
  },
  {
   "cell_type": "markdown",
   "metadata": {},
   "source": [
    "## Test Functions"
   ]
  },
  {
   "cell_type": "code",
   "execution_count": 11,
   "metadata": {},
   "outputs": [
    {
     "name": "stdout",
     "output_type": "stream",
     "text": [
      "Input the date in dd-mm-yyyy format: 11-10-1996\n",
      "Date:  1996-10-11 00:00:00\n",
      "Day:  4\n",
      "Is Weekend:  0\n",
      "Timestuff:  {'Month Sin': -0.8660254037844386, 'Month Cos': 0.5000000000000001, 'Day Sin': 0.1882267098432442, 'Day Cos': 0.9821256058680006, 'Hour Sin': [0.2588190451025208, 0.5, 0.7071067811865476, 0.8660254037844387, 0.9659258262890682, 1.0, 0.9659258262890683, 0.8660254037844386, 0.7071067811865476, 0.5000000000000003, 0.2588190451025206, 1.2246467991473532e-16, -0.25881904510252035, -0.4999999999999997, -0.7071067811865475, -0.8660254037844388, -0.9659258262890681, -1.0, -0.9659258262890682, -0.866025403784439, -0.7071067811865477, -0.49999999999999967, -0.25881904510252157, -2.4492935982947064e-16], 'Hour Cos': [0.9659258262890683, 0.8660254037844386, 0.7071067811865476, 0.4999999999999999, 0.25881904510252096, 6.123233995736766e-17, -0.25881904510252063, -0.5000000000000002, -0.7071067811865475, -0.8660254037844385, -0.9659258262890683, -1.0, -0.9659258262890684, -0.8660254037844388, -0.7071067811865477, -0.4999999999999996, -0.2588190451025215, -1.8369701987210297e-16, 0.25881904510252113, 0.49999999999999933, 0.7071067811865474, 0.8660254037844388, 0.9659258262890681, 1.0]}\n"
     ]
    }
   ],
   "source": [
    "date = input(\"Input the date in dd-mm-yyyy format: \")\n",
    "\n",
    "TransformDate(date)"
   ]
  },
  {
   "cell_type": "code",
   "execution_count": 27,
   "metadata": {},
   "outputs": [
    {
     "ename": "IndexError",
     "evalue": "invalid index to scalar variable.",
     "output_type": "error",
     "traceback": [
      "\u001b[1;31m---------------------------------------------------------------------------\u001b[0m",
      "\u001b[1;31mIndexError\u001b[0m                                Traceback (most recent call last)",
      "\u001b[1;32m<ipython-input-27-7bf151ce2175>\u001b[0m in \u001b[0;36m<module>\u001b[1;34m\u001b[0m\n\u001b[0;32m      3\u001b[0m \u001b[0msensor\u001b[0m \u001b[1;33m=\u001b[0m \u001b[1;34m\"GAWW-04\"\u001b[0m\u001b[1;33m\u001b[0m\u001b[1;33m\u001b[0m\u001b[0m\n\u001b[0;32m      4\u001b[0m \u001b[1;33m\u001b[0m\u001b[0m\n\u001b[1;32m----> 5\u001b[1;33m \u001b[0mSelectSensor\u001b[0m\u001b[1;33m(\u001b[0m\u001b[0msensor\u001b[0m\u001b[1;33m)\u001b[0m\u001b[1;33m\u001b[0m\u001b[1;33m\u001b[0m\u001b[0m\n\u001b[0m",
      "\u001b[1;32m<ipython-input-26-186aba055947>\u001b[0m in \u001b[0;36mSelectSensor\u001b[1;34m(sensor)\u001b[0m\n\u001b[0;32m      2\u001b[0m \u001b[1;33m\u001b[0m\u001b[0m\n\u001b[0;32m      3\u001b[0m     \u001b[1;32mfor\u001b[0m \u001b[0mk\u001b[0m\u001b[1;33m,\u001b[0m \u001b[0mv\u001b[0m \u001b[1;32min\u001b[0m \u001b[0msensor_dict\u001b[0m\u001b[1;33m[\u001b[0m\u001b[0msensor\u001b[0m\u001b[1;33m]\u001b[0m\u001b[1;33m.\u001b[0m\u001b[0mitems\u001b[0m\u001b[1;33m(\u001b[0m\u001b[1;33m)\u001b[0m\u001b[1;33m:\u001b[0m\u001b[1;33m\u001b[0m\u001b[1;33m\u001b[0m\u001b[0m\n\u001b[1;32m----> 4\u001b[1;33m         \u001b[0mprint\u001b[0m\u001b[1;33m(\u001b[0m\u001b[0mv\u001b[0m\u001b[1;33m[\u001b[0m\u001b[1;34m\"Longitude\"\u001b[0m\u001b[1;33m]\u001b[0m\u001b[1;33m)\u001b[0m\u001b[1;33m\u001b[0m\u001b[1;33m\u001b[0m\u001b[0m\n\u001b[0m",
      "\u001b[1;31mIndexError\u001b[0m: invalid index to scalar variable."
     ]
    }
   ],
   "source": [
    "# sensor = input(\"What sensor would you like to predict crowdedness for: \")\n",
    "\n",
    "sensor = \"GAWW-04\"\n",
    "\n",
    "SelectSensor(sensor)"
   ]
  },
  {
   "cell_type": "code",
   "execution_count": null,
   "metadata": {},
   "outputs": [],
   "source": []
  }
 ],
 "metadata": {
  "kernelspec": {
   "display_name": "Python 3",
   "language": "python",
   "name": "python3"
  },
  "language_info": {
   "codemirror_mode": {
    "name": "ipython",
    "version": 3
   },
   "file_extension": ".py",
   "mimetype": "text/x-python",
   "name": "python",
   "nbconvert_exporter": "python",
   "pygments_lexer": "ipython3",
   "version": "3.7.1"
  }
 },
 "nbformat": 4,
 "nbformat_minor": 2
}
