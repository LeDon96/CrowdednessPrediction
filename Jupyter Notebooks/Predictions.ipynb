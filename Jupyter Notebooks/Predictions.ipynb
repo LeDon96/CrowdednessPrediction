{
 "cells": [
  {
   "cell_type": "markdown",
   "metadata": {},
   "source": [
    "# Model Prediction"
   ]
  },
  {
   "cell_type": "markdown",
   "metadata": {},
   "source": [
    "## Imports"
   ]
  },
  {
   "cell_type": "code",
   "execution_count": 35,
   "metadata": {},
   "outputs": [],
   "source": [
    "import pandas as pd\n",
    "import pickle\n",
    "import numpy as np"
   ]
  },
  {
   "cell_type": "markdown",
   "metadata": {},
   "source": [
    "## Import Files"
   ]
  },
  {
   "cell_type": "code",
   "execution_count": 7,
   "metadata": {},
   "outputs": [
    {
     "data": {
      "text/html": [
       "<div>\n",
       "<style scoped>\n",
       "    .dataframe tbody tr th:only-of-type {\n",
       "        vertical-align: middle;\n",
       "    }\n",
       "\n",
       "    .dataframe tbody tr th {\n",
       "        vertical-align: top;\n",
       "    }\n",
       "\n",
       "    .dataframe thead th {\n",
       "        text-align: right;\n",
       "    }\n",
       "</style>\n",
       "<table border=\"1\" class=\"dataframe\">\n",
       "  <thead>\n",
       "    <tr style=\"text-align: right;\">\n",
       "      <th></th>\n",
       "      <th>Sensor</th>\n",
       "      <th>SensorLatitude</th>\n",
       "      <th>SensorLongitude</th>\n",
       "    </tr>\n",
       "  </thead>\n",
       "  <tbody>\n",
       "    <tr>\n",
       "      <th>0</th>\n",
       "      <td>GAWW-04</td>\n",
       "      <td>5</td>\n",
       "      <td>3</td>\n",
       "    </tr>\n",
       "    <tr>\n",
       "      <th>1</th>\n",
       "      <td>GAWW-07</td>\n",
       "      <td>7</td>\n",
       "      <td>9</td>\n",
       "    </tr>\n",
       "    <tr>\n",
       "      <th>2</th>\n",
       "      <td>GAWW-08</td>\n",
       "      <td>0</td>\n",
       "      <td>0</td>\n",
       "    </tr>\n",
       "    <tr>\n",
       "      <th>3</th>\n",
       "      <td>GAWW-09</td>\n",
       "      <td>9</td>\n",
       "      <td>5</td>\n",
       "    </tr>\n",
       "    <tr>\n",
       "      <th>4</th>\n",
       "      <td>GAWW-10</td>\n",
       "      <td>2</td>\n",
       "      <td>6</td>\n",
       "    </tr>\n",
       "  </tbody>\n",
       "</table>\n",
       "</div>"
      ],
      "text/plain": [
       "    Sensor  SensorLatitude  SensorLongitude\n",
       "0  GAWW-04               5                3\n",
       "1  GAWW-07               7                9\n",
       "2  GAWW-08               0                0\n",
       "3  GAWW-09               9                5\n",
       "4  GAWW-10               2                6"
      ]
     },
     "execution_count": 7,
     "metadata": {},
     "output_type": "execute_result"
    }
   ],
   "source": [
    "listSensors = pd.read_csv(\"../../../Data_thesis/Full_Datasets/listSensors.csv\")\n",
    "\n",
    "listSensors.head()"
   ]
  },
  {
   "cell_type": "code",
   "execution_count": 25,
   "metadata": {},
   "outputs": [
    {
     "data": {
      "text/plain": [
       "7"
      ]
     },
     "execution_count": 25,
     "metadata": {},
     "output_type": "execute_result"
    }
   ],
   "source": [
    "listSensors[listSensors[\"Sensor\"] == sensor].reset_index()[\"SensorLongitude\"][0] "
   ]
  },
  {
   "cell_type": "markdown",
   "metadata": {},
   "source": [
    "## Import Models"
   ]
  },
  {
   "cell_type": "markdown",
   "metadata": {},
   "source": [
    "### Regression"
   ]
  },
  {
   "cell_type": "code",
   "execution_count": 3,
   "metadata": {},
   "outputs": [],
   "source": [
    "#RFG Model\n",
    "rfg_filename = \"../../../Data_thesis/Models/rfg_model.sav\"\n",
    "\n",
    "#XGB Regressor\n",
    "xgbr_filename = \"../../../Data_thesis/Models/xgbr_model.sav\""
   ]
  },
  {
   "cell_type": "code",
   "execution_count": 4,
   "metadata": {},
   "outputs": [],
   "source": [
    "rfg = pickle.load(open(rfg_filename, 'rb'))\n",
    "xgbr = pickle.load(open(xgbr_filename, 'rb'))"
   ]
  },
  {
   "cell_type": "markdown",
   "metadata": {},
   "source": [
    "### Classification"
   ]
  },
  {
   "cell_type": "code",
   "execution_count": 10,
   "metadata": {},
   "outputs": [],
   "source": [
    "#RFG Model\n",
    "rfc_filename = \"../../../Data_thesis/Models/rfc_model.sav\"\n",
    "\n",
    "#XGB Regressor\n",
    "xgbc_filename = \"../../../Data_thesis/Models/xgbc_model.sav\""
   ]
  },
  {
   "cell_type": "code",
   "execution_count": 11,
   "metadata": {},
   "outputs": [],
   "source": [
    "rfc = pickle.load(open(rfc_filename, 'rb'))\n",
    "xgbc = pickle.load(open(xgbc_filename, 'rb'))"
   ]
  },
  {
   "cell_type": "markdown",
   "metadata": {},
   "source": [
    "## Functions"
   ]
  },
  {
   "cell_type": "code",
   "execution_count": 31,
   "metadata": {},
   "outputs": [],
   "source": [
    "def TransformDate(date):\n",
    "    date = pd.Timestamp.strptime(date, \"%d-%m-%Y\")\n",
    "    \n",
    "    weekday = date.weekday()\n",
    "    \n",
    "    if weekday == 5 or weekday == 6:\n",
    "        is_weekend = 1\n",
    "    else:\n",
    "        is_weekend = 0\n",
    "    \n",
    "    print(\"Date: \", date)\n",
    "    print(\"Day: \", weekday)\n",
    "    print(\"Is Weekend: \", is_weekend)\n",
    "    print(\"Timestuff: \", TransformTime(date))"
   ]
  },
  {
   "cell_type": "code",
   "execution_count": 32,
   "metadata": {},
   "outputs": [],
   "source": [
    "def selectSensor(df, sensor):\n",
    "    lat = df[df[\"Sensor\"] == sensor].reset_index()[\"SensorLatitude\"][0]\n",
    "    lon = df[df[\"Sensor\"] == sensor].reset_index()[\"SensorLongitude\"][0]   \n",
    "    \n",
    "    print(\"Latitude: \", lat)\n",
    "    print(\"Longitude: \", lon)"
   ]
  },
  {
   "cell_type": "code",
   "execution_count": 42,
   "metadata": {},
   "outputs": [],
   "source": [
    "def TransformTime(date):\n",
    "    \n",
    "    month_sin = np.sin(2 * np.pi * date.month / 12)\n",
    "    month_cos = np.cos(2 * np.pi * date.month / 12)\n",
    "    \n",
    "    day_sin = np.sin(2 * np.pi * date.day / 365)\n",
    "    day_cos = np.cos(2 * np.pi * date.day / 365)\n",
    "    \n",
    "    hour_sin = []\n",
    "    hour_cos = []\n",
    "    \n",
    "    for hour in range(100, 2401, 100):\n",
    "        hour_sin.append(np.sin(2 * np.pi * hour / 2400))\n",
    "        hour_cos.append(np.cos(2 * np.pi * hour / 2400))\n",
    "        \n",
    "    print(\"Month Sin: \", month_sin, \"\\n\", \"Month Cos: \", month_cos, \"\\n\", \"Day Sin: \", day_sin, \"\\n\", \n",
    "          \"Day Cos: \", day_cos, \"\\n\", \"Hour Sin: \", hour_sin, \"\\n\", \"Hour Cos:\", hour_cos)"
   ]
  },
  {
   "cell_type": "markdown",
   "metadata": {},
   "source": [
    "## Test Functions"
   ]
  },
  {
   "cell_type": "code",
   "execution_count": 43,
   "metadata": {},
   "outputs": [
    {
     "name": "stdout",
     "output_type": "stream",
     "text": [
      "Input the date in dd-mm-yyyy format: 11-10-1996\n",
      "Date:  1996-10-11 00:00:00\n",
      "Day:  4\n",
      "Is Weekend:  0\n",
      "Month Sin:  -0.8660254037844386 \n",
      " Month Cos:  0.5000000000000001 \n",
      " Day Sin:  0.1882267098432442 \n",
      " Day Cos:  0.9821256058680006 \n",
      " Hour Sin:  [0.2588190451025208, 0.5, 0.7071067811865476, 0.8660254037844387, 0.9659258262890682, 1.0, 0.9659258262890683, 0.8660254037844386, 0.7071067811865476, 0.5000000000000003, 0.2588190451025206, 1.2246467991473532e-16, -0.25881904510252035, -0.4999999999999997, -0.7071067811865475, -0.8660254037844388, -0.9659258262890681, -1.0, -0.9659258262890682, -0.866025403784439, -0.7071067811865477, -0.49999999999999967, -0.25881904510252157, -2.4492935982947064e-16] \n",
      " Hour Cos: [0.9659258262890683, 0.8660254037844386, 0.7071067811865476, 0.4999999999999999, 0.25881904510252096, 6.123233995736766e-17, -0.25881904510252063, -0.5000000000000002, -0.7071067811865475, -0.8660254037844385, -0.9659258262890683, -1.0, -0.9659258262890684, -0.8660254037844388, -0.7071067811865477, -0.4999999999999996, -0.2588190451025215, -1.8369701987210297e-16, 0.25881904510252113, 0.49999999999999933, 0.7071067811865474, 0.8660254037844388, 0.9659258262890681, 1.0]\n",
      "Timestuff:  None\n"
     ]
    }
   ],
   "source": [
    "date = input(\"Input the date in dd-mm-yyyy format: \")\n",
    "\n",
    "TransformDate(date)"
   ]
  },
  {
   "cell_type": "code",
   "execution_count": 27,
   "metadata": {},
   "outputs": [
    {
     "name": "stdout",
     "output_type": "stream",
     "text": [
      "What sensor would you like to predict crowdedness for: GAWW-02\n",
      "Latitude:  6\n",
      "Longitude:  7\n"
     ]
    }
   ],
   "source": [
    "sensor = input(\"What sensor would you like to predict crowdedness for: \")\n",
    "\n",
    "selectSensor(listSensors, sensor)"
   ]
  }
 ],
 "metadata": {
  "kernelspec": {
   "display_name": "Python 3",
   "language": "python",
   "name": "python3"
  },
  "language_info": {
   "codemirror_mode": {
    "name": "ipython",
    "version": 3
   },
   "file_extension": ".py",
   "mimetype": "text/x-python",
   "name": "python",
   "nbconvert_exporter": "python",
   "pygments_lexer": "ipython3",
   "version": "3.7.1"
  }
 },
 "nbformat": 4,
 "nbformat_minor": 2
}
