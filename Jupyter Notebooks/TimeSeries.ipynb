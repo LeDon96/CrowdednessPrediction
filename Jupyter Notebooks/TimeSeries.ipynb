{
 "cells": [
  {
   "cell_type": "markdown",
   "metadata": {},
   "source": [
    "# Time Series"
   ]
  },
  {
   "cell_type": "markdown",
   "metadata": {},
   "source": [
    "## Imports"
   ]
  },
  {
   "cell_type": "code",
   "execution_count": 27,
   "metadata": {},
   "outputs": [],
   "source": [
    "import pandas as pd\n",
    "import plotly\n",
    "from tqdm import tqdm\n",
    "from bubbly.bubbly import make_grid, set_layout, get_trace"
   ]
  },
  {
   "cell_type": "markdown",
   "metadata": {},
   "source": [
    "## Import File"
   ]
  },
  {
   "cell_type": "code",
   "execution_count": 45,
   "metadata": {},
   "outputs": [],
   "source": [
    "dataset = pd.read_csv(\"../../../Data_thesis/Full_Datasets/Full.csv\")\n",
    "dataset = dataset[[\"Date\", \"Hour\", \"Sensor\", \"SensorLongitude\", \"SensorLatitude\", \"CrowdednessCount\"]]"
   ]
  },
  {
   "cell_type": "code",
   "execution_count": 46,
   "metadata": {},
   "outputs": [
    {
     "name": "stderr",
     "output_type": "stream",
     "text": [
      "100%|████████████████████████████████████████████████████████████████████████| 103421/103421 [00:19<00:00, 5277.73it/s]\n"
     ]
    }
   ],
   "source": [
    "dataset_dict = dataset.to_dict(\"index\")\n",
    "\n",
    "for k, v in tqdm(dataset_dict.items()):\n",
    "    date = pd.to_datetime(v[\"Date\"], format=\"%Y-%m-%d\")\n",
    "    hour = pd.to_datetime(v[\"Hour\"]/100, unit=\"h\")\n",
    "    \n",
    "    v['Date'] = pd.Timestamp.combine(date, hour.time())\n",
    "    \n",
    "dataset = pd.DataFrame.from_dict(dataset_dict, orient=\"index\").drop(columns={\"Hour\"})"
   ]
  },
  {
   "cell_type": "code",
   "execution_count": null,
   "metadata": {},
   "outputs": [],
   "source": [
    "for date in dataset[\"Date\"].unique():\n",
    "    temp = dataset[dataset[\"Date\"] == date]\n",
    "    \n",
    "    for sensor in dataset[\"Sensor\"].unique():\n",
    "        \n",
    "        if sensor not in temp[\"Sensor\"]:\n",
    "            lon = dataset[dataset[\"Sensor\"] == sensor].reset_index()[\"SensorLongitude\"][0]\n",
    "            lat = dataset[dataset[\"Sensor\"] == sensor].reset_index()[\"SensorLatitude\"][0]\n",
    "            \n",
    "            dataset.append({\"Date\": date, \"Sensor\": sensor, \"SensorLongitude\": lon,\n",
    "                           \"SensorLatitude\": lat, \"CrowdednessCount\": 0}, ignore_index=True) "
   ]
  },
  {
   "cell_type": "code",
   "execution_count": 23,
   "metadata": {},
   "outputs": [
    {
     "data": {
      "text/html": [
       "<div>\n",
       "<style scoped>\n",
       "    .dataframe tbody tr th:only-of-type {\n",
       "        vertical-align: middle;\n",
       "    }\n",
       "\n",
       "    .dataframe tbody tr th {\n",
       "        vertical-align: top;\n",
       "    }\n",
       "\n",
       "    .dataframe thead th {\n",
       "        text-align: right;\n",
       "    }\n",
       "</style>\n",
       "<table border=\"1\" class=\"dataframe\">\n",
       "  <thead>\n",
       "    <tr style=\"text-align: right;\">\n",
       "      <th></th>\n",
       "      <th>Date</th>\n",
       "      <th>Sensor</th>\n",
       "      <th>SensorLongitude</th>\n",
       "      <th>SensorLatitude</th>\n",
       "      <th>CrowdednessCount</th>\n",
       "    </tr>\n",
       "  </thead>\n",
       "  <tbody>\n",
       "    <tr>\n",
       "      <th>0</th>\n",
       "      <td>2018-03-11 01:00:00</td>\n",
       "      <td>GAWW-04</td>\n",
       "      <td>4.897908</td>\n",
       "      <td>52.373283</td>\n",
       "      <td>886</td>\n",
       "    </tr>\n",
       "    <tr>\n",
       "      <th>1</th>\n",
       "      <td>2018-03-11 21:00:00</td>\n",
       "      <td>GAWW-07</td>\n",
       "      <td>4.900441</td>\n",
       "      <td>52.374414</td>\n",
       "      <td>1603</td>\n",
       "    </tr>\n",
       "    <tr>\n",
       "      <th>2</th>\n",
       "      <td>2018-03-11 21:00:00</td>\n",
       "      <td>GAWW-08</td>\n",
       "      <td>4.897193</td>\n",
       "      <td>52.371650</td>\n",
       "      <td>21</td>\n",
       "    </tr>\n",
       "    <tr>\n",
       "      <th>3</th>\n",
       "      <td>2018-03-11 21:00:00</td>\n",
       "      <td>GAWW-09</td>\n",
       "      <td>4.898479</td>\n",
       "      <td>52.375040</td>\n",
       "      <td>88</td>\n",
       "    </tr>\n",
       "    <tr>\n",
       "      <th>4</th>\n",
       "      <td>2018-03-11 21:00:00</td>\n",
       "      <td>GAWW-10</td>\n",
       "      <td>4.898808</td>\n",
       "      <td>52.372369</td>\n",
       "      <td>49</td>\n",
       "    </tr>\n",
       "  </tbody>\n",
       "</table>\n",
       "</div>"
      ],
      "text/plain": [
       "                 Date   Sensor  SensorLongitude  SensorLatitude  \\\n",
       "0 2018-03-11 01:00:00  GAWW-04         4.897908       52.373283   \n",
       "1 2018-03-11 21:00:00  GAWW-07         4.900441       52.374414   \n",
       "2 2018-03-11 21:00:00  GAWW-08         4.897193       52.371650   \n",
       "3 2018-03-11 21:00:00  GAWW-09         4.898479       52.375040   \n",
       "4 2018-03-11 21:00:00  GAWW-10         4.898808       52.372369   \n",
       "\n",
       "   CrowdednessCount  \n",
       "0               886  \n",
       "1              1603  \n",
       "2                21  \n",
       "3                88  \n",
       "4                49  "
      ]
     },
     "execution_count": 23,
     "metadata": {},
     "output_type": "execute_result"
    }
   ],
   "source": [
    "dataset.head()"
   ]
  },
  {
   "cell_type": "markdown",
   "metadata": {},
   "source": [
    "## TimeSeries Plot"
   ]
  },
  {
   "cell_type": "code",
   "execution_count": null,
   "metadata": {},
   "outputs": [],
   "source": [
    "x_column = 'SensorLongitude'\n",
    "y_column = 'SensorLatitude'\n",
    "bubble_column = 'Sensor'\n",
    "time_col = 'Date'\n",
    "size_column = 'CrowdednessCount' \n",
    "\n",
    "grid = pd.DataFrame()"
   ]
  },
  {
   "cell_type": "code",
   "execution_count": null,
   "metadata": {},
   "outputs": [],
   "source": [
    "# Make the grid\n",
    "dates = dataset[time_col].unique()\n",
    "col_name_template = '{}+{}_grid'\n",
    "col_names = [x_column, y_column, bubble_column, size_column]\n",
    "grid = make_grid(dataset, col_names, time_col, dates)\n",
    "    \n",
    "# Set the layout\n",
    "figure, sliders_dict = set_layout(x_title='Sensor Longitude', y_title='Sensor Latitude', \n",
    "            title='Crowdedness Counts Amsterdam', x_logscale=True, y_logscale=False, \n",
    "            show_slider=True, slider_scale=dates, show_button=True, show_legend=True, \n",
    "            height=650)\n",
    "\n",
    "# Add the base frame\n",
    "date = min(dates)\n",
    "col_name_template_date = col_name_template.format(date, {})\n",
    "trace = get_trace(grid=grid, col_name_template=col_name_template_date, \n",
    "                    x_column=x_column, y_column=y_column, \n",
    "                    bubble_column=bubble_column, size_column=size_column)\n",
    "figure['data'].append(trace)\n",
    "\n",
    "\n",
    "# Add time frames\n",
    "for date in tqdm(dates):\n",
    "    frame = {'data': [], 'name': date}\n",
    "    col_name_template_date = col_name_template.format(date, {})\n",
    "    trace = get_trace(grid=grid, col_name_template=col_name_template_date, \n",
    "                    x_column=x_col, y_column=y_col, \n",
    "                    bubble_column=bubble_col, size_column=size_col)\n",
    "    frame['data'].append(trace)\n",
    "    figure['frames'].append(frame) \n",
    "    add_slider_steps(sliders_dict, date)\n",
    "\n",
    "# Set the layout once more\n",
    "figure['layout']['xaxis']['autorange'] = True\n",
    "figure['layout']['yaxis']['range'] = [20, 100]\n",
    "figure['layout']['sliders'] = [sliders_dict]\n",
    "\n",
    "# Plot the animation\n",
    "plotly.offline.plot(figure, config={'scrollzoom': True})"
   ]
  }
 ],
 "metadata": {
  "kernelspec": {
   "display_name": "Python 3",
   "language": "python",
   "name": "python3"
  },
  "language_info": {
   "codemirror_mode": {
    "name": "ipython",
    "version": 3
   },
   "file_extension": ".py",
   "mimetype": "text/x-python",
   "name": "python",
   "nbconvert_exporter": "python",
   "pygments_lexer": "ipython3",
   "version": "3.7.1"
  }
 },
 "nbformat": 4,
 "nbformat_minor": 2
}
