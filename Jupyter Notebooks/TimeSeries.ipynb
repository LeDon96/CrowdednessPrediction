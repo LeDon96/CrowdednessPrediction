{
 "cells": [
  {
   "cell_type": "markdown",
   "metadata": {},
   "source": [
    "# Time Series"
   ]
  },
  {
   "cell_type": "markdown",
   "metadata": {},
   "source": [
    "## Imports"
   ]
  },
  {
   "cell_type": "code",
   "execution_count": 2,
   "metadata": {},
   "outputs": [
    {
     "data": {
      "text/html": [
       "        <script type=\"text/javascript\">\n",
       "        window.PlotlyConfig = {MathJaxConfig: 'local'};\n",
       "        if (window.MathJax) {MathJax.Hub.Config({SVG: {font: \"STIX-Web\"}});}\n",
       "        if (typeof require !== 'undefined') {\n",
       "        require.undef(\"plotly\");\n",
       "        requirejs.config({\n",
       "            paths: {\n",
       "                'plotly': ['https://cdn.plot.ly/plotly-latest.min']\n",
       "            }\n",
       "        });\n",
       "        require(['plotly'], function(Plotly) {\n",
       "            window._Plotly = Plotly;\n",
       "        });\n",
       "        }\n",
       "        </script>\n",
       "        "
      ]
     },
     "metadata": {},
     "output_type": "display_data"
    }
   ],
   "source": [
    "import pandas as pd\n",
    "import plotly\n",
    "from bubbly import bubbleplot\n",
    "plotly.offline.init_notebook_mode(connected=True)"
   ]
  },
  {
   "cell_type": "markdown",
   "metadata": {},
   "source": [
    "## Functions"
   ]
  },
  {
   "cell_type": "code",
   "execution_count": 12,
   "metadata": {},
   "outputs": [],
   "source": [
    "def subsetData(df, start_date, end_date):\n",
    "    df = df[(df[\"Date\"] >= start_date) & (\n",
    "    df[\"Date\"] <= end_date)].reset_index().drop(columns=[\"index\"])\n",
    "\n",
    "    df.replace(2400, 0, inplace=True)\n",
    "\n",
    "    df.sort_values(by=[\"Hour\", \"Sensor\"],inplace=True)\n",
    "    \n",
    "    return df"
   ]
  },
  {
   "cell_type": "code",
   "execution_count": 18,
   "metadata": {},
   "outputs": [],
   "source": [
    "def plotTimeSeries(df):\n",
    "    \n",
    "    #Variables\n",
    "    x_column = 'SensorLongitude'\n",
    "    y_column = 'SensorLatitude'\n",
    "    bubble_column = 'Sensor'\n",
    "    time_column = 'Hour'\n",
    "    size_column = 'CrowdednessCount' \n",
    "    date = pd.Timestamp.strftime(df[\"Date\"][0], format=\"%Y-%m-%d\")\n",
    "\n",
    "    #Initialize grid\n",
    "    grid = pd.DataFrame()\n",
    "    \n",
    "    figure = bubbleplot(dataset=df, x_column=x_column, y_column=y_column, \n",
    "        bubble_column=bubble_column, size_column=size_column, time_column=time_column, color_column=bubble_column,\n",
    "        x_title=\"Sensor Longitude\", y_title=\"Sensor Latitude\", title='Crowdedness Counts Amsterdam - ' + date,\n",
    "        x_logscale=False, scale_bubble=3, height=650, x_range=[min(df[x_column])-0.001, max(df[x_column])+0.001],\n",
    "                       y_range=[min(df[y_column])-0.001, max(df[y_column])+0.001])\n",
    "\n",
    "    plotly.offline.iplot(figure)"
   ]
  },
  {
   "cell_type": "markdown",
   "metadata": {},
   "source": [
    "## Import File"
   ]
  },
  {
   "cell_type": "code",
   "execution_count": 14,
   "metadata": {},
   "outputs": [],
   "source": [
    "dataset = pd.read_csv(\"../../../Data_thesis/Full_Datasets/Full.csv\")\n",
    "dataset = dataset[[\"Date\", \"Hour\", \"Sensor\", \"SensorLongitude\", \"SensorLatitude\", \"CrowdednessCount\"]]\n",
    "dataset[\"Date\"] = pd.to_datetime(dataset[\"Date\"], format=\"%Y-%m-%d\")"
   ]
  },
  {
   "cell_type": "markdown",
   "metadata": {},
   "source": [
    "## TimeSeries Plot"
   ]
  },
  {
   "cell_type": "code",
   "execution_count": 15,
   "metadata": {},
   "outputs": [],
   "source": [
    "start_date = pd.Timestamp(2019, 1, 1)\n",
    "end_date = pd.Timestamp(2019, 1, 1)"
   ]
  },
  {
   "cell_type": "code",
   "execution_count": 16,
   "metadata": {},
   "outputs": [
    {
     "data": {
      "application/vnd.plotly.v1+json": {
       "config": {
        "linkText": "Export to plot.ly",
        "plotlyServerURL": "https://plot.ly",
        "responsive": true,
        "showLink": false
       },
       "data": [
        {
         "marker": {
          "size": [
           3335
          ],
          "sizemode": "area",
          "sizeref": 0.3803125
         },
         "mode": "markers",
         "name": "GAWW-01",
         "text": "Crowdedness Count: [3335]",
         "type": "scatter",
         "uid": "f7fe5c3b-f7b1-44b7-a3c4-34dade9dcad3",
         "x": [
          4.8998471
         ],
         "y": [
          52.3746006
         ]
        },
        {
         "marker": {
          "size": [
           2247
          ],
          "sizemode": "area",
          "sizeref": 0.3803125
         },
         "mode": "markers",
         "name": "GAWW-02",
         "text": "Crowdedness Count: [2247]",
         "type": "scatter",
         "uid": "9685ac49-9726-45b7-92da-38530c289999",
         "x": [
          4.8989027
         ],
         "y": [
          52.3737857
         ]
        },
        {
         "marker": {
          "size": [
           1133
          ],
          "sizemode": "area",
          "sizeref": 0.3803125
         },
         "mode": "markers",
         "name": "GAWW-03",
         "text": "Crowdedness Count: [1133]",
         "type": "scatter",
         "uid": "794628f0-5fd0-4d44-bdb2-5adb4e78dd36",
         "x": [
          4.8973336
         ],
         "y": [
          52.3725237
         ]
        },
        {
         "marker": {
          "size": [
           1624
          ],
          "sizemode": "area",
          "sizeref": 0.3803125
         },
         "mode": "markers",
         "name": "GAWW-04",
         "text": "Crowdedness Count: [1624]",
         "type": "scatter",
         "uid": "05b3fc36-7d58-45a2-8525-7c5d7426527c",
         "x": [
          4.897907599999999
         ],
         "y": [
          52.373283
         ]
        },
        {
         "marker": {
          "size": [
           3279
          ],
          "sizemode": "area",
          "sizeref": 0.3803125
         },
         "mode": "markers",
         "name": "GAWW-05",
         "text": "Crowdedness Count: [3279]",
         "type": "scatter",
         "uid": "b2e69a68-2600-4e03-ad7b-25e3e9ffd9bc",
         "x": [
          4.8977166
         ],
         "y": [
          52.3723534
         ]
        },
        {
         "marker": {
          "size": [
           2003
          ],
          "sizemode": "area",
          "sizeref": 0.3803125
         },
         "mode": "markers",
         "name": "GAWW-06",
         "text": "Crowdedness Count: [2003]",
         "type": "scatter",
         "uid": "164e4baf-e68c-4131-97cf-8dce569a7291",
         "x": [
          4.8980530999999985
         ],
         "y": [
          52.372416
         ]
        },
        {
         "marker": {
          "size": [
           3138
          ],
          "sizemode": "area",
          "sizeref": 0.3803125
         },
         "mode": "markers",
         "name": "GAWW-07",
         "text": "Crowdedness Count: [3138]",
         "type": "scatter",
         "uid": "f69807fc-4c9d-469b-ab23-1201871d8f62",
         "x": [
          4.9004405
         ],
         "y": [
          52.37441389999999
         ]
        },
        {
         "marker": {
          "size": [
           44
          ],
          "sizemode": "area",
          "sizeref": 0.3803125
         },
         "mode": "markers",
         "name": "GAWW-08",
         "text": "Crowdedness Count: [44]",
         "type": "scatter",
         "uid": "6d3b2db8-23f3-4b4e-9973-741f2fe0d090",
         "x": [
          4.8971927000000015
         ],
         "y": [
          52.3716503
         ]
        },
        {
         "marker": {
          "size": [
           71
          ],
          "sizemode": "area",
          "sizeref": 0.3803125
         },
         "mode": "markers",
         "name": "GAWW-09",
         "text": "Crowdedness Count: [71]",
         "type": "scatter",
         "uid": "79067717-196f-44ef-9c19-b3d715102a3b",
         "x": [
          4.8984795
         ],
         "y": [
          52.3750398
         ]
        },
        {
         "marker": {
          "size": [
           59
          ],
          "sizemode": "area",
          "sizeref": 0.3803125
         },
         "mode": "markers",
         "name": "GAWW-10",
         "text": "Crowdedness Count: [59]",
         "type": "scatter",
         "uid": "15a9ed1a-0dbc-4767-8341-cee330f05dfe",
         "x": [
          4.8988079
         ],
         "y": [
          52.372369
         ]
        }
       ],
       "frames": [
        {
         "data": [
          {
           "marker": {
            "size": [
             3335
            ],
            "sizemode": "area",
            "sizeref": 0.3803125
           },
           "mode": "markers",
           "name": "GAWW-01",
           "text": "Crowdedness Count: [3335]",
           "type": "scatter",
           "x": [
            4.8998471
           ],
           "y": [
            52.3746006
           ]
          },
          {
           "marker": {
            "size": [
             2247
            ],
            "sizemode": "area",
            "sizeref": 0.3803125
           },
           "mode": "markers",
           "name": "GAWW-02",
           "text": "Crowdedness Count: [2247]",
           "type": "scatter",
           "x": [
            4.8989027
           ],
           "y": [
            52.3737857
           ]
          },
          {
           "marker": {
            "size": [
             1133
            ],
            "sizemode": "area",
            "sizeref": 0.3803125
           },
           "mode": "markers",
           "name": "GAWW-03",
           "text": "Crowdedness Count: [1133]",
           "type": "scatter",
           "x": [
            4.8973336
           ],
           "y": [
            52.3725237
           ]
          },
          {
           "marker": {
            "size": [
             1624
            ],
            "sizemode": "area",
            "sizeref": 0.3803125
           },
           "mode": "markers",
           "name": "GAWW-04",
           "text": "Crowdedness Count: [1624]",
           "type": "scatter",
           "x": [
            4.897907599999999
           ],
           "y": [
            52.373283
           ]
          },
          {
           "marker": {
            "size": [
             3279
            ],
            "sizemode": "area",
            "sizeref": 0.3803125
           },
           "mode": "markers",
           "name": "GAWW-05",
           "text": "Crowdedness Count: [3279]",
           "type": "scatter",
           "x": [
            4.8977166
           ],
           "y": [
            52.3723534
           ]
          },
          {
           "marker": {
            "size": [
             2003
            ],
            "sizemode": "area",
            "sizeref": 0.3803125
           },
           "mode": "markers",
           "name": "GAWW-06",
           "text": "Crowdedness Count: [2003]",
           "type": "scatter",
           "x": [
            4.8980530999999985
           ],
           "y": [
            52.372416
           ]
          },
          {
           "marker": {
            "size": [
             3138
            ],
            "sizemode": "area",
            "sizeref": 0.3803125
           },
           "mode": "markers",
           "name": "GAWW-07",
           "text": "Crowdedness Count: [3138]",
           "type": "scatter",
           "x": [
            4.9004405
           ],
           "y": [
            52.37441389999999
           ]
          },
          {
           "marker": {
            "size": [
             44
            ],
            "sizemode": "area",
            "sizeref": 0.3803125
           },
           "mode": "markers",
           "name": "GAWW-08",
           "text": "Crowdedness Count: [44]",
           "type": "scatter",
           "x": [
            4.8971927000000015
           ],
           "y": [
            52.3716503
           ]
          },
          {
           "marker": {
            "size": [
             71
            ],
            "sizemode": "area",
            "sizeref": 0.3803125
           },
           "mode": "markers",
           "name": "GAWW-09",
           "text": "Crowdedness Count: [71]",
           "type": "scatter",
           "x": [
            4.8984795
           ],
           "y": [
            52.3750398
           ]
          },
          {
           "marker": {
            "size": [
             59
            ],
            "sizemode": "area",
            "sizeref": 0.3803125
           },
           "mode": "markers",
           "name": "GAWW-10",
           "text": "Crowdedness Count: [59]",
           "type": "scatter",
           "x": [
            4.8988079
           ],
           "y": [
            52.372369
           ]
          }
         ],
         "name": "0"
        },
        {
         "data": [
          {
           "marker": {
            "size": [
             2847
            ],
            "sizemode": "area",
            "sizeref": 0.3803125
           },
           "mode": "markers",
           "name": "GAWW-01",
           "text": "Crowdedness Count: [2847]",
           "type": "scatter",
           "x": [
            4.8998471
           ],
           "y": [
            52.3746006
           ]
          },
          {
           "marker": {
            "size": [
             2184
            ],
            "sizemode": "area",
            "sizeref": 0.3803125
           },
           "mode": "markers",
           "name": "GAWW-02",
           "text": "Crowdedness Count: [2184]",
           "type": "scatter",
           "x": [
            4.8989027
           ],
           "y": [
            52.3737857
           ]
          },
          {
           "marker": {
            "size": [
             969
            ],
            "sizemode": "area",
            "sizeref": 0.3803125
           },
           "mode": "markers",
           "name": "GAWW-03",
           "text": "Crowdedness Count: [969]",
           "type": "scatter",
           "x": [
            4.8973336
           ],
           "y": [
            52.3725237
           ]
          },
          {
           "marker": {
            "size": [
             1647
            ],
            "sizemode": "area",
            "sizeref": 0.3803125
           },
           "mode": "markers",
           "name": "GAWW-04",
           "text": "Crowdedness Count: [1647]",
           "type": "scatter",
           "x": [
            4.897907599999999
           ],
           "y": [
            52.373283
           ]
          },
          {
           "marker": {
            "size": [
             2910
            ],
            "sizemode": "area",
            "sizeref": 0.3803125
           },
           "mode": "markers",
           "name": "GAWW-05",
           "text": "Crowdedness Count: [2910]",
           "type": "scatter",
           "x": [
            4.8977166
           ],
           "y": [
            52.3723534
           ]
          },
          {
           "marker": {
            "size": [
             1954
            ],
            "sizemode": "area",
            "sizeref": 0.3803125
           },
           "mode": "markers",
           "name": "GAWW-06",
           "text": "Crowdedness Count: [1954]",
           "type": "scatter",
           "x": [
            4.8980530999999985
           ],
           "y": [
            52.372416
           ]
          },
          {
           "marker": {
            "size": [
             3335
            ],
            "sizemode": "area",
            "sizeref": 0.3803125
           },
           "mode": "markers",
           "name": "GAWW-07",
           "text": "Crowdedness Count: [3335]",
           "type": "scatter",
           "x": [
            4.9004405
           ],
           "y": [
            52.37441389999999
           ]
          },
          {
           "marker": {
            "size": [
             51
            ],
            "sizemode": "area",
            "sizeref": 0.3803125
           },
           "mode": "markers",
           "name": "GAWW-08",
           "text": "Crowdedness Count: [51]",
           "type": "scatter",
           "x": [
            4.8971927000000015
           ],
           "y": [
            52.3716503
           ]
          },
          {
           "marker": {
            "size": [
             66
            ],
            "sizemode": "area",
            "sizeref": 0.3803125
           },
           "mode": "markers",
           "name": "GAWW-09",
           "text": "Crowdedness Count: [66]",
           "type": "scatter",
           "x": [
            4.8984795
           ],
           "y": [
            52.3750398
           ]
          },
          {
           "marker": {
            "size": [
             59
            ],
            "sizemode": "area",
            "sizeref": 0.3803125
           },
           "mode": "markers",
           "name": "GAWW-10",
           "text": "Crowdedness Count: [59]",
           "type": "scatter",
           "x": [
            4.8988079
           ],
           "y": [
            52.372369
           ]
          }
         ],
         "name": "100"
        },
        {
         "data": [
          {
           "marker": {
            "size": [
             3614
            ],
            "sizemode": "area",
            "sizeref": 0.3803125
           },
           "mode": "markers",
           "name": "GAWW-01",
           "text": "Crowdedness Count: [3614]",
           "type": "scatter",
           "x": [
            4.8998471
           ],
           "y": [
            52.3746006
           ]
          },
          {
           "marker": {
            "size": [
             2928
            ],
            "sizemode": "area",
            "sizeref": 0.3803125
           },
           "mode": "markers",
           "name": "GAWW-02",
           "text": "Crowdedness Count: [2928]",
           "type": "scatter",
           "x": [
            4.8989027
           ],
           "y": [
            52.3737857
           ]
          },
          {
           "marker": {
            "size": [
             1200
            ],
            "sizemode": "area",
            "sizeref": 0.3803125
           },
           "mode": "markers",
           "name": "GAWW-03",
           "text": "Crowdedness Count: [1200]",
           "type": "scatter",
           "x": [
            4.8973336
           ],
           "y": [
            52.3725237
           ]
          },
          {
           "marker": {
            "size": [
             2486
            ],
            "sizemode": "area",
            "sizeref": 0.3803125
           },
           "mode": "markers",
           "name": "GAWW-04",
           "text": "Crowdedness Count: [2486]",
           "type": "scatter",
           "x": [
            4.897907599999999
           ],
           "y": [
            52.373283
           ]
          },
          {
           "marker": {
            "size": [
             3334
            ],
            "sizemode": "area",
            "sizeref": 0.3803125
           },
           "mode": "markers",
           "name": "GAWW-05",
           "text": "Crowdedness Count: [3334]",
           "type": "scatter",
           "x": [
            4.8977166
           ],
           "y": [
            52.3723534
           ]
          },
          {
           "marker": {
            "size": [
             2373
            ],
            "sizemode": "area",
            "sizeref": 0.3803125
           },
           "mode": "markers",
           "name": "GAWW-06",
           "text": "Crowdedness Count: [2373]",
           "type": "scatter",
           "x": [
            4.8980530999999985
           ],
           "y": [
            52.372416
           ]
          },
          {
           "marker": {
            "size": [
             3651
            ],
            "sizemode": "area",
            "sizeref": 0.3803125
           },
           "mode": "markers",
           "name": "GAWW-07",
           "text": "Crowdedness Count: [3651]",
           "type": "scatter",
           "x": [
            4.9004405
           ],
           "y": [
            52.37441389999999
           ]
          },
          {
           "marker": {
            "size": [
             43
            ],
            "sizemode": "area",
            "sizeref": 0.3803125
           },
           "mode": "markers",
           "name": "GAWW-08",
           "text": "Crowdedness Count: [43]",
           "type": "scatter",
           "x": [
            4.8971927000000015
           ],
           "y": [
            52.3716503
           ]
          },
          {
           "marker": {
            "size": [
             70
            ],
            "sizemode": "area",
            "sizeref": 0.3803125
           },
           "mode": "markers",
           "name": "GAWW-09",
           "text": "Crowdedness Count: [70]",
           "type": "scatter",
           "x": [
            4.8984795
           ],
           "y": [
            52.3750398
           ]
          },
          {
           "marker": {
            "size": [
             56
            ],
            "sizemode": "area",
            "sizeref": 0.3803125
           },
           "mode": "markers",
           "name": "GAWW-10",
           "text": "Crowdedness Count: [56]",
           "type": "scatter",
           "x": [
            4.8988079
           ],
           "y": [
            52.372369
           ]
          }
         ],
         "name": "200"
        },
        {
         "data": [
          {
           "marker": {
            "size": [
             2788
            ],
            "sizemode": "area",
            "sizeref": 0.3803125
           },
           "mode": "markers",
           "name": "GAWW-01",
           "text": "Crowdedness Count: [2788]",
           "type": "scatter",
           "x": [
            4.8998471
           ],
           "y": [
            52.3746006
           ]
          },
          {
           "marker": {
            "size": [
             2771
            ],
            "sizemode": "area",
            "sizeref": 0.3803125
           },
           "mode": "markers",
           "name": "GAWW-02",
           "text": "Crowdedness Count: [2771]",
           "type": "scatter",
           "x": [
            4.8989027
           ],
           "y": [
            52.3737857
           ]
          },
          {
           "marker": {
            "size": [
             1067
            ],
            "sizemode": "area",
            "sizeref": 0.3803125
           },
           "mode": "markers",
           "name": "GAWW-03",
           "text": "Crowdedness Count: [1067]",
           "type": "scatter",
           "x": [
            4.8973336
           ],
           "y": [
            52.3725237
           ]
          },
          {
           "marker": {
            "size": [
             1306
            ],
            "sizemode": "area",
            "sizeref": 0.3803125
           },
           "mode": "markers",
           "name": "GAWW-04",
           "text": "Crowdedness Count: [1306]",
           "type": "scatter",
           "x": [
            4.897907599999999
           ],
           "y": [
            52.373283
           ]
          },
          {
           "marker": {
            "size": [
             2606
            ],
            "sizemode": "area",
            "sizeref": 0.3803125
           },
           "mode": "markers",
           "name": "GAWW-05",
           "text": "Crowdedness Count: [2606]",
           "type": "scatter",
           "x": [
            4.8977166
           ],
           "y": [
            52.3723534
           ]
          },
          {
           "marker": {
            "size": [
             1915
            ],
            "sizemode": "area",
            "sizeref": 0.3803125
           },
           "mode": "markers",
           "name": "GAWW-06",
           "text": "Crowdedness Count: [1915]",
           "type": "scatter",
           "x": [
            4.8980530999999985
           ],
           "y": [
            52.372416
           ]
          },
          {
           "marker": {
            "size": [
             2694
            ],
            "sizemode": "area",
            "sizeref": 0.3803125
           },
           "mode": "markers",
           "name": "GAWW-07",
           "text": "Crowdedness Count: [2694]",
           "type": "scatter",
           "x": [
            4.9004405
           ],
           "y": [
            52.37441389999999
           ]
          },
          {
           "marker": {
            "size": [
             33
            ],
            "sizemode": "area",
            "sizeref": 0.3803125
           },
           "mode": "markers",
           "name": "GAWW-08",
           "text": "Crowdedness Count: [33]",
           "type": "scatter",
           "x": [
            4.8971927000000015
           ],
           "y": [
            52.3716503
           ]
          },
          {
           "marker": {
            "size": [
             54
            ],
            "sizemode": "area",
            "sizeref": 0.3803125
           },
           "mode": "markers",
           "name": "GAWW-09",
           "text": "Crowdedness Count: [54]",
           "type": "scatter",
           "x": [
            4.8984795
           ],
           "y": [
            52.3750398
           ]
          },
          {
           "marker": {
            "size": [
             57
            ],
            "sizemode": "area",
            "sizeref": 0.3803125
           },
           "mode": "markers",
           "name": "GAWW-10",
           "text": "Crowdedness Count: [57]",
           "type": "scatter",
           "x": [
            4.8988079
           ],
           "y": [
            52.372369
           ]
          }
         ],
         "name": "300"
        },
        {
         "data": [
          {
           "marker": {
            "size": [
             2109
            ],
            "sizemode": "area",
            "sizeref": 0.3803125
           },
           "mode": "markers",
           "name": "GAWW-01",
           "text": "Crowdedness Count: [2109]",
           "type": "scatter",
           "x": [
            4.8998471
           ],
           "y": [
            52.3746006
           ]
          },
          {
           "marker": {
            "size": [
             1989
            ],
            "sizemode": "area",
            "sizeref": 0.3803125
           },
           "mode": "markers",
           "name": "GAWW-02",
           "text": "Crowdedness Count: [1989]",
           "type": "scatter",
           "x": [
            4.8989027
           ],
           "y": [
            52.3737857
           ]
          },
          {
           "marker": {
            "size": [
             632
            ],
            "sizemode": "area",
            "sizeref": 0.3803125
           },
           "mode": "markers",
           "name": "GAWW-03",
           "text": "Crowdedness Count: [632]",
           "type": "scatter",
           "x": [
            4.8973336
           ],
           "y": [
            52.3725237
           ]
          },
          {
           "marker": {
            "size": [
             935
            ],
            "sizemode": "area",
            "sizeref": 0.3803125
           },
           "mode": "markers",
           "name": "GAWW-04",
           "text": "Crowdedness Count: [935]",
           "type": "scatter",
           "x": [
            4.897907599999999
           ],
           "y": [
            52.373283
           ]
          },
          {
           "marker": {
            "size": [
             2055
            ],
            "sizemode": "area",
            "sizeref": 0.3803125
           },
           "mode": "markers",
           "name": "GAWW-05",
           "text": "Crowdedness Count: [2055]",
           "type": "scatter",
           "x": [
            4.8977166
           ],
           "y": [
            52.3723534
           ]
          },
          {
           "marker": {
            "size": [
             1511
            ],
            "sizemode": "area",
            "sizeref": 0.3803125
           },
           "mode": "markers",
           "name": "GAWW-06",
           "text": "Crowdedness Count: [1511]",
           "type": "scatter",
           "x": [
            4.8980530999999985
           ],
           "y": [
            52.372416
           ]
          },
          {
           "marker": {
            "size": [
             1927
            ],
            "sizemode": "area",
            "sizeref": 0.3803125
           },
           "mode": "markers",
           "name": "GAWW-07",
           "text": "Crowdedness Count: [1927]",
           "type": "scatter",
           "x": [
            4.9004405
           ],
           "y": [
            52.37441389999999
           ]
          },
          {
           "marker": {
            "size": [
             31
            ],
            "sizemode": "area",
            "sizeref": 0.3803125
           },
           "mode": "markers",
           "name": "GAWW-08",
           "text": "Crowdedness Count: [31]",
           "type": "scatter",
           "x": [
            4.8971927000000015
           ],
           "y": [
            52.3716503
           ]
          },
          {
           "marker": {
            "size": [
             45
            ],
            "sizemode": "area",
            "sizeref": 0.3803125
           },
           "mode": "markers",
           "name": "GAWW-09",
           "text": "Crowdedness Count: [45]",
           "type": "scatter",
           "x": [
            4.8984795
           ],
           "y": [
            52.3750398
           ]
          },
          {
           "marker": {
            "size": [
             45
            ],
            "sizemode": "area",
            "sizeref": 0.3803125
           },
           "mode": "markers",
           "name": "GAWW-10",
           "text": "Crowdedness Count: [45]",
           "type": "scatter",
           "x": [
            4.8988079
           ],
           "y": [
            52.372369
           ]
          }
         ],
         "name": "400"
        },
        {
         "data": [
          {
           "marker": {
            "size": [
             1496
            ],
            "sizemode": "area",
            "sizeref": 0.3803125
           },
           "mode": "markers",
           "name": "GAWW-01",
           "text": "Crowdedness Count: [1496]",
           "type": "scatter",
           "x": [
            4.8998471
           ],
           "y": [
            52.3746006
           ]
          },
          {
           "marker": {
            "size": [
             1404
            ],
            "sizemode": "area",
            "sizeref": 0.3803125
           },
           "mode": "markers",
           "name": "GAWW-02",
           "text": "Crowdedness Count: [1404]",
           "type": "scatter",
           "x": [
            4.8989027
           ],
           "y": [
            52.3737857
           ]
          },
          {
           "marker": {
            "size": [
             311
            ],
            "sizemode": "area",
            "sizeref": 0.3803125
           },
           "mode": "markers",
           "name": "GAWW-03",
           "text": "Crowdedness Count: [311]",
           "type": "scatter",
           "x": [
            4.8973336
           ],
           "y": [
            52.3725237
           ]
          },
          {
           "marker": {
            "size": [
             524
            ],
            "sizemode": "area",
            "sizeref": 0.3803125
           },
           "mode": "markers",
           "name": "GAWW-04",
           "text": "Crowdedness Count: [524]",
           "type": "scatter",
           "x": [
            4.897907599999999
           ],
           "y": [
            52.373283
           ]
          },
          {
           "marker": {
            "size": [
             1287
            ],
            "sizemode": "area",
            "sizeref": 0.3803125
           },
           "mode": "markers",
           "name": "GAWW-05",
           "text": "Crowdedness Count: [1287]",
           "type": "scatter",
           "x": [
            4.8977166
           ],
           "y": [
            52.3723534
           ]
          },
          {
           "marker": {
            "size": [
             1180
            ],
            "sizemode": "area",
            "sizeref": 0.3803125
           },
           "mode": "markers",
           "name": "GAWW-06",
           "text": "Crowdedness Count: [1180]",
           "type": "scatter",
           "x": [
            4.8980530999999985
           ],
           "y": [
            52.372416
           ]
          },
          {
           "marker": {
            "size": [
             1411
            ],
            "sizemode": "area",
            "sizeref": 0.3803125
           },
           "mode": "markers",
           "name": "GAWW-07",
           "text": "Crowdedness Count: [1411]",
           "type": "scatter",
           "x": [
            4.9004405
           ],
           "y": [
            52.37441389999999
           ]
          },
          {
           "marker": {
            "size": [
             25
            ],
            "sizemode": "area",
            "sizeref": 0.3803125
           },
           "mode": "markers",
           "name": "GAWW-08",
           "text": "Crowdedness Count: [25]",
           "type": "scatter",
           "x": [
            4.8971927000000015
           ],
           "y": [
            52.3716503
           ]
          },
          {
           "marker": {
            "size": [
             31
            ],
            "sizemode": "area",
            "sizeref": 0.3803125
           },
           "mode": "markers",
           "name": "GAWW-09",
           "text": "Crowdedness Count: [31]",
           "type": "scatter",
           "x": [
            4.8984795
           ],
           "y": [
            52.3750398
           ]
          },
          {
           "marker": {
            "size": [
             32
            ],
            "sizemode": "area",
            "sizeref": 0.3803125
           },
           "mode": "markers",
           "name": "GAWW-10",
           "text": "Crowdedness Count: [32]",
           "type": "scatter",
           "x": [
            4.8988079
           ],
           "y": [
            52.372369
           ]
          }
         ],
         "name": "500"
        },
        {
         "data": [
          {
           "marker": {
            "size": [
             863
            ],
            "sizemode": "area",
            "sizeref": 0.3803125
           },
           "mode": "markers",
           "name": "GAWW-01",
           "text": "Crowdedness Count: [863]",
           "type": "scatter",
           "x": [
            4.8998471
           ],
           "y": [
            52.3746006
           ]
          },
          {
           "marker": {
            "size": [
             425
            ],
            "sizemode": "area",
            "sizeref": 0.3803125
           },
           "mode": "markers",
           "name": "GAWW-02",
           "text": "Crowdedness Count: [425]",
           "type": "scatter",
           "x": [
            4.8989027
           ],
           "y": [
            52.3737857
           ]
          },
          {
           "marker": {
            "size": [
             170
            ],
            "sizemode": "area",
            "sizeref": 0.3803125
           },
           "mode": "markers",
           "name": "GAWW-03",
           "text": "Crowdedness Count: [170]",
           "type": "scatter",
           "x": [
            4.8973336
           ],
           "y": [
            52.3725237
           ]
          },
          {
           "marker": {
            "size": [
             398
            ],
            "sizemode": "area",
            "sizeref": 0.3803125
           },
           "mode": "markers",
           "name": "GAWW-04",
           "text": "Crowdedness Count: [398]",
           "type": "scatter",
           "x": [
            4.897907599999999
           ],
           "y": [
            52.373283
           ]
          },
          {
           "marker": {
            "size": [
             612
            ],
            "sizemode": "area",
            "sizeref": 0.3803125
           },
           "mode": "markers",
           "name": "GAWW-05",
           "text": "Crowdedness Count: [612]",
           "type": "scatter",
           "x": [
            4.8977166
           ],
           "y": [
            52.3723534
           ]
          },
          {
           "marker": {
            "size": [
             749
            ],
            "sizemode": "area",
            "sizeref": 0.3803125
           },
           "mode": "markers",
           "name": "GAWW-06",
           "text": "Crowdedness Count: [749]",
           "type": "scatter",
           "x": [
            4.8980530999999985
           ],
           "y": [
            52.372416
           ]
          },
          {
           "marker": {
            "size": [
             698
            ],
            "sizemode": "area",
            "sizeref": 0.3803125
           },
           "mode": "markers",
           "name": "GAWW-07",
           "text": "Crowdedness Count: [698]",
           "type": "scatter",
           "x": [
            4.9004405
           ],
           "y": [
            52.37441389999999
           ]
          },
          {
           "marker": {
            "size": [
             15
            ],
            "sizemode": "area",
            "sizeref": 0.3803125
           },
           "mode": "markers",
           "name": "GAWW-08",
           "text": "Crowdedness Count: [15]",
           "type": "scatter",
           "x": [
            4.8971927000000015
           ],
           "y": [
            52.3716503
           ]
          },
          {
           "marker": {
            "size": [
             32
            ],
            "sizemode": "area",
            "sizeref": 0.3803125
           },
           "mode": "markers",
           "name": "GAWW-09",
           "text": "Crowdedness Count: [32]",
           "type": "scatter",
           "x": [
            4.8984795
           ],
           "y": [
            52.3750398
           ]
          },
          {
           "marker": {
            "size": [
             25
            ],
            "sizemode": "area",
            "sizeref": 0.3803125
           },
           "mode": "markers",
           "name": "GAWW-10",
           "text": "Crowdedness Count: [25]",
           "type": "scatter",
           "x": [
            4.8988079
           ],
           "y": [
            52.372369
           ]
          }
         ],
         "name": "600"
        },
        {
         "data": [
          {
           "marker": {
            "size": [
             409
            ],
            "sizemode": "area",
            "sizeref": 0.3803125
           },
           "mode": "markers",
           "name": "GAWW-01",
           "text": "Crowdedness Count: [409]",
           "type": "scatter",
           "x": [
            4.8998471
           ],
           "y": [
            52.3746006
           ]
          },
          {
           "marker": {
            "size": [
             106
            ],
            "sizemode": "area",
            "sizeref": 0.3803125
           },
           "mode": "markers",
           "name": "GAWW-02",
           "text": "Crowdedness Count: [106]",
           "type": "scatter",
           "x": [
            4.8989027
           ],
           "y": [
            52.3737857
           ]
          },
          {
           "marker": {
            "size": [
             82
            ],
            "sizemode": "area",
            "sizeref": 0.3803125
           },
           "mode": "markers",
           "name": "GAWW-03",
           "text": "Crowdedness Count: [82]",
           "type": "scatter",
           "x": [
            4.8973336
           ],
           "y": [
            52.3725237
           ]
          },
          {
           "marker": {
            "size": [
             157
            ],
            "sizemode": "area",
            "sizeref": 0.3803125
           },
           "mode": "markers",
           "name": "GAWW-04",
           "text": "Crowdedness Count: [157]",
           "type": "scatter",
           "x": [
            4.897907599999999
           ],
           "y": [
            52.373283
           ]
          },
          {
           "marker": {
            "size": [
             376
            ],
            "sizemode": "area",
            "sizeref": 0.3803125
           },
           "mode": "markers",
           "name": "GAWW-05",
           "text": "Crowdedness Count: [376]",
           "type": "scatter",
           "x": [
            4.8977166
           ],
           "y": [
            52.3723534
           ]
          },
          {
           "marker": {
            "size": [
             225
            ],
            "sizemode": "area",
            "sizeref": 0.3803125
           },
           "mode": "markers",
           "name": "GAWW-06",
           "text": "Crowdedness Count: [225]",
           "type": "scatter",
           "x": [
            4.8980530999999985
           ],
           "y": [
            52.372416
           ]
          },
          {
           "marker": {
            "size": [
             330
            ],
            "sizemode": "area",
            "sizeref": 0.3803125
           },
           "mode": "markers",
           "name": "GAWW-07",
           "text": "Crowdedness Count: [330]",
           "type": "scatter",
           "x": [
            4.9004405
           ],
           "y": [
            52.37441389999999
           ]
          },
          {
           "marker": {
            "size": [
             13
            ],
            "sizemode": "area",
            "sizeref": 0.3803125
           },
           "mode": "markers",
           "name": "GAWW-08",
           "text": "Crowdedness Count: [13]",
           "type": "scatter",
           "x": [
            4.8971927000000015
           ],
           "y": [
            52.3716503
           ]
          },
          {
           "marker": {
            "size": [
             20
            ],
            "sizemode": "area",
            "sizeref": 0.3803125
           },
           "mode": "markers",
           "name": "GAWW-09",
           "text": "Crowdedness Count: [20]",
           "type": "scatter",
           "x": [
            4.8984795
           ],
           "y": [
            52.3750398
           ]
          },
          {
           "marker": {
            "size": [
             14
            ],
            "sizemode": "area",
            "sizeref": 0.3803125
           },
           "mode": "markers",
           "name": "GAWW-10",
           "text": "Crowdedness Count: [14]",
           "type": "scatter",
           "x": [
            4.8988079
           ],
           "y": [
            52.372369
           ]
          }
         ],
         "name": "700"
        },
        {
         "data": [
          {
           "marker": {
            "size": [
             178
            ],
            "sizemode": "area",
            "sizeref": 0.3803125
           },
           "mode": "markers",
           "name": "GAWW-01",
           "text": "Crowdedness Count: [178]",
           "type": "scatter",
           "x": [
            4.8998471
           ],
           "y": [
            52.3746006
           ]
          },
          {
           "marker": {
            "size": [
             99
            ],
            "sizemode": "area",
            "sizeref": 0.3803125
           },
           "mode": "markers",
           "name": "GAWW-02",
           "text": "Crowdedness Count: [99]",
           "type": "scatter",
           "x": [
            4.8989027
           ],
           "y": [
            52.3737857
           ]
          },
          {
           "marker": {
            "size": [
             44
            ],
            "sizemode": "area",
            "sizeref": 0.3803125
           },
           "mode": "markers",
           "name": "GAWW-03",
           "text": "Crowdedness Count: [44]",
           "type": "scatter",
           "x": [
            4.8973336
           ],
           "y": [
            52.3725237
           ]
          },
          {
           "marker": {
            "size": [
             72
            ],
            "sizemode": "area",
            "sizeref": 0.3803125
           },
           "mode": "markers",
           "name": "GAWW-04",
           "text": "Crowdedness Count: [72]",
           "type": "scatter",
           "x": [
            4.897907599999999
           ],
           "y": [
            52.373283
           ]
          },
          {
           "marker": {
            "size": [
             105
            ],
            "sizemode": "area",
            "sizeref": 0.3803125
           },
           "mode": "markers",
           "name": "GAWW-05",
           "text": "Crowdedness Count: [105]",
           "type": "scatter",
           "x": [
            4.8977166
           ],
           "y": [
            52.3723534
           ]
          },
          {
           "marker": {
            "size": [
             98
            ],
            "sizemode": "area",
            "sizeref": 0.3803125
           },
           "mode": "markers",
           "name": "GAWW-06",
           "text": "Crowdedness Count: [98]",
           "type": "scatter",
           "x": [
            4.8980530999999985
           ],
           "y": [
            52.372416
           ]
          },
          {
           "marker": {
            "size": [
             128
            ],
            "sizemode": "area",
            "sizeref": 0.3803125
           },
           "mode": "markers",
           "name": "GAWW-07",
           "text": "Crowdedness Count: [128]",
           "type": "scatter",
           "x": [
            4.9004405
           ],
           "y": [
            52.37441389999999
           ]
          },
          {
           "marker": {
            "size": [
             9
            ],
            "sizemode": "area",
            "sizeref": 0.3803125
           },
           "mode": "markers",
           "name": "GAWW-08",
           "text": "Crowdedness Count: [9]",
           "type": "scatter",
           "x": [
            4.8971927000000015
           ],
           "y": [
            52.3716503
           ]
          },
          {
           "marker": {
            "size": [
             17
            ],
            "sizemode": "area",
            "sizeref": 0.3803125
           },
           "mode": "markers",
           "name": "GAWW-09",
           "text": "Crowdedness Count: [17]",
           "type": "scatter",
           "x": [
            4.8984795
           ],
           "y": [
            52.3750398
           ]
          },
          {
           "marker": {
            "size": [
             11
            ],
            "sizemode": "area",
            "sizeref": 0.3803125
           },
           "mode": "markers",
           "name": "GAWW-10",
           "text": "Crowdedness Count: [11]",
           "type": "scatter",
           "x": [
            4.8988079
           ],
           "y": [
            52.372369
           ]
          }
         ],
         "name": "800"
        },
        {
         "data": [
          {
           "marker": {
            "size": [
             154
            ],
            "sizemode": "area",
            "sizeref": 0.3803125
           },
           "mode": "markers",
           "name": "GAWW-01",
           "text": "Crowdedness Count: [154]",
           "type": "scatter",
           "x": [
            4.8998471
           ],
           "y": [
            52.3746006
           ]
          },
          {
           "marker": {
            "size": [
             159
            ],
            "sizemode": "area",
            "sizeref": 0.3803125
           },
           "mode": "markers",
           "name": "GAWW-02",
           "text": "Crowdedness Count: [159]",
           "type": "scatter",
           "x": [
            4.8989027
           ],
           "y": [
            52.3737857
           ]
          },
          {
           "marker": {
            "size": [
             126
            ],
            "sizemode": "area",
            "sizeref": 0.3803125
           },
           "mode": "markers",
           "name": "GAWW-03",
           "text": "Crowdedness Count: [126]",
           "type": "scatter",
           "x": [
            4.8973336
           ],
           "y": [
            52.3725237
           ]
          },
          {
           "marker": {
            "size": [
             48
            ],
            "sizemode": "area",
            "sizeref": 0.3803125
           },
           "mode": "markers",
           "name": "GAWW-04",
           "text": "Crowdedness Count: [48]",
           "type": "scatter",
           "x": [
            4.897907599999999
           ],
           "y": [
            52.373283
           ]
          },
          {
           "marker": {
            "size": [
             86
            ],
            "sizemode": "area",
            "sizeref": 0.3803125
           },
           "mode": "markers",
           "name": "GAWW-05",
           "text": "Crowdedness Count: [86]",
           "type": "scatter",
           "x": [
            4.8977166
           ],
           "y": [
            52.3723534
           ]
          },
          {
           "marker": {
            "size": [
             78
            ],
            "sizemode": "area",
            "sizeref": 0.3803125
           },
           "mode": "markers",
           "name": "GAWW-06",
           "text": "Crowdedness Count: [78]",
           "type": "scatter",
           "x": [
            4.8980530999999985
           ],
           "y": [
            52.372416
           ]
          },
          {
           "marker": {
            "size": [
             116
            ],
            "sizemode": "area",
            "sizeref": 0.3803125
           },
           "mode": "markers",
           "name": "GAWW-07",
           "text": "Crowdedness Count: [116]",
           "type": "scatter",
           "x": [
            4.9004405
           ],
           "y": [
            52.37441389999999
           ]
          },
          {
           "marker": {
            "size": [
             12
            ],
            "sizemode": "area",
            "sizeref": 0.3803125
           },
           "mode": "markers",
           "name": "GAWW-08",
           "text": "Crowdedness Count: [12]",
           "type": "scatter",
           "x": [
            4.8971927000000015
           ],
           "y": [
            52.3716503
           ]
          },
          {
           "marker": {
            "size": [
             16
            ],
            "sizemode": "area",
            "sizeref": 0.3803125
           },
           "mode": "markers",
           "name": "GAWW-09",
           "text": "Crowdedness Count: [16]",
           "type": "scatter",
           "x": [
            4.8984795
           ],
           "y": [
            52.3750398
           ]
          },
          {
           "marker": {
            "size": [
             11
            ],
            "sizemode": "area",
            "sizeref": 0.3803125
           },
           "mode": "markers",
           "name": "GAWW-10",
           "text": "Crowdedness Count: [11]",
           "type": "scatter",
           "x": [
            4.8988079
           ],
           "y": [
            52.372369
           ]
          }
         ],
         "name": "900"
        },
        {
         "data": [
          {
           "marker": {
            "size": [
             128
            ],
            "sizemode": "area",
            "sizeref": 0.3803125
           },
           "mode": "markers",
           "name": "GAWW-01",
           "text": "Crowdedness Count: [128]",
           "type": "scatter",
           "x": [
            4.8998471
           ],
           "y": [
            52.3746006
           ]
          },
          {
           "marker": {
            "size": [
             382
            ],
            "sizemode": "area",
            "sizeref": 0.3803125
           },
           "mode": "markers",
           "name": "GAWW-02",
           "text": "Crowdedness Count: [382]",
           "type": "scatter",
           "x": [
            4.8989027
           ],
           "y": [
            52.3737857
           ]
          },
          {
           "marker": {
            "size": [
             148
            ],
            "sizemode": "area",
            "sizeref": 0.3803125
           },
           "mode": "markers",
           "name": "GAWW-03",
           "text": "Crowdedness Count: [148]",
           "type": "scatter",
           "x": [
            4.8973336
           ],
           "y": [
            52.3725237
           ]
          },
          {
           "marker": {
            "size": [
             64
            ],
            "sizemode": "area",
            "sizeref": 0.3803125
           },
           "mode": "markers",
           "name": "GAWW-04",
           "text": "Crowdedness Count: [64]",
           "type": "scatter",
           "x": [
            4.897907599999999
           ],
           "y": [
            52.373283
           ]
          },
          {
           "marker": {
            "size": [
             124
            ],
            "sizemode": "area",
            "sizeref": 0.3803125
           },
           "mode": "markers",
           "name": "GAWW-05",
           "text": "Crowdedness Count: [124]",
           "type": "scatter",
           "x": [
            4.8977166
           ],
           "y": [
            52.3723534
           ]
          },
          {
           "marker": {
            "size": [
             129
            ],
            "sizemode": "area",
            "sizeref": 0.3803125
           },
           "mode": "markers",
           "name": "GAWW-06",
           "text": "Crowdedness Count: [129]",
           "type": "scatter",
           "x": [
            4.8980530999999985
           ],
           "y": [
            52.372416
           ]
          },
          {
           "marker": {
            "size": [
             115
            ],
            "sizemode": "area",
            "sizeref": 0.3803125
           },
           "mode": "markers",
           "name": "GAWW-07",
           "text": "Crowdedness Count: [115]",
           "type": "scatter",
           "x": [
            4.9004405
           ],
           "y": [
            52.37441389999999
           ]
          },
          {
           "marker": {
            "size": [
             11
            ],
            "sizemode": "area",
            "sizeref": 0.3803125
           },
           "mode": "markers",
           "name": "GAWW-08",
           "text": "Crowdedness Count: [11]",
           "type": "scatter",
           "x": [
            4.8971927000000015
           ],
           "y": [
            52.3716503
           ]
          },
          {
           "marker": {
            "size": [
             16
            ],
            "sizemode": "area",
            "sizeref": 0.3803125
           },
           "mode": "markers",
           "name": "GAWW-09",
           "text": "Crowdedness Count: [16]",
           "type": "scatter",
           "x": [
            4.8984795
           ],
           "y": [
            52.3750398
           ]
          },
          {
           "marker": {
            "size": [
             12
            ],
            "sizemode": "area",
            "sizeref": 0.3803125
           },
           "mode": "markers",
           "name": "GAWW-10",
           "text": "Crowdedness Count: [12]",
           "type": "scatter",
           "x": [
            4.8988079
           ],
           "y": [
            52.372369
           ]
          }
         ],
         "name": "1000"
        },
        {
         "data": [
          {
           "marker": {
            "size": [
             315
            ],
            "sizemode": "area",
            "sizeref": 0.3803125
           },
           "mode": "markers",
           "name": "GAWW-01",
           "text": "Crowdedness Count: [315]",
           "type": "scatter",
           "x": [
            4.8998471
           ],
           "y": [
            52.3746006
           ]
          },
          {
           "marker": {
            "size": [
             565
            ],
            "sizemode": "area",
            "sizeref": 0.3803125
           },
           "mode": "markers",
           "name": "GAWW-02",
           "text": "Crowdedness Count: [565]",
           "type": "scatter",
           "x": [
            4.8989027
           ],
           "y": [
            52.3737857
           ]
          },
          {
           "marker": {
            "size": [
             295
            ],
            "sizemode": "area",
            "sizeref": 0.3803125
           },
           "mode": "markers",
           "name": "GAWW-03",
           "text": "Crowdedness Count: [295]",
           "type": "scatter",
           "x": [
            4.8973336
           ],
           "y": [
            52.3725237
           ]
          },
          {
           "marker": {
            "size": [
             92
            ],
            "sizemode": "area",
            "sizeref": 0.3803125
           },
           "mode": "markers",
           "name": "GAWW-04",
           "text": "Crowdedness Count: [92]",
           "type": "scatter",
           "x": [
            4.897907599999999
           ],
           "y": [
            52.373283
           ]
          },
          {
           "marker": {
            "size": [
             199
            ],
            "sizemode": "area",
            "sizeref": 0.3803125
           },
           "mode": "markers",
           "name": "GAWW-05",
           "text": "Crowdedness Count: [199]",
           "type": "scatter",
           "x": [
            4.8977166
           ],
           "y": [
            52.3723534
           ]
          },
          {
           "marker": {
            "size": [
             158
            ],
            "sizemode": "area",
            "sizeref": 0.3803125
           },
           "mode": "markers",
           "name": "GAWW-06",
           "text": "Crowdedness Count: [158]",
           "type": "scatter",
           "x": [
            4.8980530999999985
           ],
           "y": [
            52.372416
           ]
          },
          {
           "marker": {
            "size": [
             240
            ],
            "sizemode": "area",
            "sizeref": 0.3803125
           },
           "mode": "markers",
           "name": "GAWW-07",
           "text": "Crowdedness Count: [240]",
           "type": "scatter",
           "x": [
            4.9004405
           ],
           "y": [
            52.37441389999999
           ]
          },
          {
           "marker": {
            "size": [
             11
            ],
            "sizemode": "area",
            "sizeref": 0.3803125
           },
           "mode": "markers",
           "name": "GAWW-08",
           "text": "Crowdedness Count: [11]",
           "type": "scatter",
           "x": [
            4.8971927000000015
           ],
           "y": [
            52.3716503
           ]
          },
          {
           "marker": {
            "size": [
             20
            ],
            "sizemode": "area",
            "sizeref": 0.3803125
           },
           "mode": "markers",
           "name": "GAWW-09",
           "text": "Crowdedness Count: [20]",
           "type": "scatter",
           "x": [
            4.8984795
           ],
           "y": [
            52.3750398
           ]
          },
          {
           "marker": {
            "size": [
             16
            ],
            "sizemode": "area",
            "sizeref": 0.3803125
           },
           "mode": "markers",
           "name": "GAWW-10",
           "text": "Crowdedness Count: [16]",
           "type": "scatter",
           "x": [
            4.8988079
           ],
           "y": [
            52.372369
           ]
          }
         ],
         "name": "1100"
        },
        {
         "data": [
          {
           "marker": {
            "size": [
             778
            ],
            "sizemode": "area",
            "sizeref": 0.3803125
           },
           "mode": "markers",
           "name": "GAWW-01",
           "text": "Crowdedness Count: [778]",
           "type": "scatter",
           "x": [
            4.8998471
           ],
           "y": [
            52.3746006
           ]
          },
          {
           "marker": {
            "size": [
             1103
            ],
            "sizemode": "area",
            "sizeref": 0.3803125
           },
           "mode": "markers",
           "name": "GAWW-02",
           "text": "Crowdedness Count: [1103]",
           "type": "scatter",
           "x": [
            4.8989027
           ],
           "y": [
            52.3737857
           ]
          },
          {
           "marker": {
            "size": [
             667
            ],
            "sizemode": "area",
            "sizeref": 0.3803125
           },
           "mode": "markers",
           "name": "GAWW-03",
           "text": "Crowdedness Count: [667]",
           "type": "scatter",
           "x": [
            4.8973336
           ],
           "y": [
            52.3725237
           ]
          },
          {
           "marker": {
            "size": [
             197
            ],
            "sizemode": "area",
            "sizeref": 0.3803125
           },
           "mode": "markers",
           "name": "GAWW-04",
           "text": "Crowdedness Count: [197]",
           "type": "scatter",
           "x": [
            4.897907599999999
           ],
           "y": [
            52.373283
           ]
          },
          {
           "marker": {
            "size": [
             447
            ],
            "sizemode": "area",
            "sizeref": 0.3803125
           },
           "mode": "markers",
           "name": "GAWW-05",
           "text": "Crowdedness Count: [447]",
           "type": "scatter",
           "x": [
            4.8977166
           ],
           "y": [
            52.3723534
           ]
          },
          {
           "marker": {
            "size": [
             436
            ],
            "sizemode": "area",
            "sizeref": 0.3803125
           },
           "mode": "markers",
           "name": "GAWW-06",
           "text": "Crowdedness Count: [436]",
           "type": "scatter",
           "x": [
            4.8980530999999985
           ],
           "y": [
            52.372416
           ]
          },
          {
           "marker": {
            "size": [
             642
            ],
            "sizemode": "area",
            "sizeref": 0.3803125
           },
           "mode": "markers",
           "name": "GAWW-07",
           "text": "Crowdedness Count: [642]",
           "type": "scatter",
           "x": [
            4.9004405
           ],
           "y": [
            52.37441389999999
           ]
          },
          {
           "marker": {
            "size": [
             14
            ],
            "sizemode": "area",
            "sizeref": 0.3803125
           },
           "mode": "markers",
           "name": "GAWW-08",
           "text": "Crowdedness Count: [14]",
           "type": "scatter",
           "x": [
            4.8971927000000015
           ],
           "y": [
            52.3716503
           ]
          },
          {
           "marker": {
            "size": [
             23
            ],
            "sizemode": "area",
            "sizeref": 0.3803125
           },
           "mode": "markers",
           "name": "GAWW-09",
           "text": "Crowdedness Count: [23]",
           "type": "scatter",
           "x": [
            4.8984795
           ],
           "y": [
            52.3750398
           ]
          },
          {
           "marker": {
            "size": [
             17
            ],
            "sizemode": "area",
            "sizeref": 0.3803125
           },
           "mode": "markers",
           "name": "GAWW-10",
           "text": "Crowdedness Count: [17]",
           "type": "scatter",
           "x": [
            4.8988079
           ],
           "y": [
            52.372369
           ]
          }
         ],
         "name": "1200"
        },
        {
         "data": [
          {
           "marker": {
            "size": [
             1325
            ],
            "sizemode": "area",
            "sizeref": 0.3803125
           },
           "mode": "markers",
           "name": "GAWW-01",
           "text": "Crowdedness Count: [1325]",
           "type": "scatter",
           "x": [
            4.8998471
           ],
           "y": [
            52.3746006
           ]
          },
          {
           "marker": {
            "size": [
             1469
            ],
            "sizemode": "area",
            "sizeref": 0.3803125
           },
           "mode": "markers",
           "name": "GAWW-02",
           "text": "Crowdedness Count: [1469]",
           "type": "scatter",
           "x": [
            4.8989027
           ],
           "y": [
            52.3737857
           ]
          },
          {
           "marker": {
            "size": [
             830
            ],
            "sizemode": "area",
            "sizeref": 0.3803125
           },
           "mode": "markers",
           "name": "GAWW-03",
           "text": "Crowdedness Count: [830]",
           "type": "scatter",
           "x": [
            4.8973336
           ],
           "y": [
            52.3725237
           ]
          },
          {
           "marker": {
            "size": [
             296
            ],
            "sizemode": "area",
            "sizeref": 0.3803125
           },
           "mode": "markers",
           "name": "GAWW-04",
           "text": "Crowdedness Count: [296]",
           "type": "scatter",
           "x": [
            4.897907599999999
           ],
           "y": [
            52.373283
           ]
          },
          {
           "marker": {
            "size": [
             878
            ],
            "sizemode": "area",
            "sizeref": 0.3803125
           },
           "mode": "markers",
           "name": "GAWW-05",
           "text": "Crowdedness Count: [878]",
           "type": "scatter",
           "x": [
            4.8977166
           ],
           "y": [
            52.3723534
           ]
          },
          {
           "marker": {
            "size": [
             603
            ],
            "sizemode": "area",
            "sizeref": 0.3803125
           },
           "mode": "markers",
           "name": "GAWW-06",
           "text": "Crowdedness Count: [603]",
           "type": "scatter",
           "x": [
            4.8980530999999985
           ],
           "y": [
            52.372416
           ]
          },
          {
           "marker": {
            "size": [
             929
            ],
            "sizemode": "area",
            "sizeref": 0.3803125
           },
           "mode": "markers",
           "name": "GAWW-07",
           "text": "Crowdedness Count: [929]",
           "type": "scatter",
           "x": [
            4.9004405
           ],
           "y": [
            52.37441389999999
           ]
          },
          {
           "marker": {
            "size": [
             19
            ],
            "sizemode": "area",
            "sizeref": 0.3803125
           },
           "mode": "markers",
           "name": "GAWW-08",
           "text": "Crowdedness Count: [19]",
           "type": "scatter",
           "x": [
            4.8971927000000015
           ],
           "y": [
            52.3716503
           ]
          },
          {
           "marker": {
            "size": [
             36
            ],
            "sizemode": "area",
            "sizeref": 0.3803125
           },
           "mode": "markers",
           "name": "GAWW-09",
           "text": "Crowdedness Count: [36]",
           "type": "scatter",
           "x": [
            4.8984795
           ],
           "y": [
            52.3750398
           ]
          },
          {
           "marker": {
            "size": [
             24
            ],
            "sizemode": "area",
            "sizeref": 0.3803125
           },
           "mode": "markers",
           "name": "GAWW-10",
           "text": "Crowdedness Count: [24]",
           "type": "scatter",
           "x": [
            4.8988079
           ],
           "y": [
            52.372369
           ]
          }
         ],
         "name": "1300"
        },
        {
         "data": [
          {
           "marker": {
            "size": [
             1705
            ],
            "sizemode": "area",
            "sizeref": 0.3803125
           },
           "mode": "markers",
           "name": "GAWW-01",
           "text": "Crowdedness Count: [1705]",
           "type": "scatter",
           "x": [
            4.8998471
           ],
           "y": [
            52.3746006
           ]
          },
          {
           "marker": {
            "size": [
             1978
            ],
            "sizemode": "area",
            "sizeref": 0.3803125
           },
           "mode": "markers",
           "name": "GAWW-02",
           "text": "Crowdedness Count: [1978]",
           "type": "scatter",
           "x": [
            4.8989027
           ],
           "y": [
            52.3737857
           ]
          },
          {
           "marker": {
            "size": [
             1064
            ],
            "sizemode": "area",
            "sizeref": 0.3803125
           },
           "mode": "markers",
           "name": "GAWW-03",
           "text": "Crowdedness Count: [1064]",
           "type": "scatter",
           "x": [
            4.8973336
           ],
           "y": [
            52.3725237
           ]
          },
          {
           "marker": {
            "size": [
             422
            ],
            "sizemode": "area",
            "sizeref": 0.3803125
           },
           "mode": "markers",
           "name": "GAWW-04",
           "text": "Crowdedness Count: [422]",
           "type": "scatter",
           "x": [
            4.897907599999999
           ],
           "y": [
            52.373283
           ]
          },
          {
           "marker": {
            "size": [
             1300
            ],
            "sizemode": "area",
            "sizeref": 0.3803125
           },
           "mode": "markers",
           "name": "GAWW-05",
           "text": "Crowdedness Count: [1300]",
           "type": "scatter",
           "x": [
            4.8977166
           ],
           "y": [
            52.3723534
           ]
          },
          {
           "marker": {
            "size": [
             1002
            ],
            "sizemode": "area",
            "sizeref": 0.3803125
           },
           "mode": "markers",
           "name": "GAWW-06",
           "text": "Crowdedness Count: [1002]",
           "type": "scatter",
           "x": [
            4.8980530999999985
           ],
           "y": [
            52.372416
           ]
          },
          {
           "marker": {
            "size": [
             1218
            ],
            "sizemode": "area",
            "sizeref": 0.3803125
           },
           "mode": "markers",
           "name": "GAWW-07",
           "text": "Crowdedness Count: [1218]",
           "type": "scatter",
           "x": [
            4.9004405
           ],
           "y": [
            52.37441389999999
           ]
          },
          {
           "marker": {
            "size": [
             24
            ],
            "sizemode": "area",
            "sizeref": 0.3803125
           },
           "mode": "markers",
           "name": "GAWW-08",
           "text": "Crowdedness Count: [24]",
           "type": "scatter",
           "x": [
            4.8971927000000015
           ],
           "y": [
            52.3716503
           ]
          },
          {
           "marker": {
            "size": [
             40
            ],
            "sizemode": "area",
            "sizeref": 0.3803125
           },
           "mode": "markers",
           "name": "GAWW-09",
           "text": "Crowdedness Count: [40]",
           "type": "scatter",
           "x": [
            4.8984795
           ],
           "y": [
            52.3750398
           ]
          },
          {
           "marker": {
            "size": [
             24
            ],
            "sizemode": "area",
            "sizeref": 0.3803125
           },
           "mode": "markers",
           "name": "GAWW-10",
           "text": "Crowdedness Count: [24]",
           "type": "scatter",
           "x": [
            4.8988079
           ],
           "y": [
            52.372369
           ]
          }
         ],
         "name": "1400"
        },
        {
         "data": [
          {
           "marker": {
            "size": [
             1872
            ],
            "sizemode": "area",
            "sizeref": 0.3803125
           },
           "mode": "markers",
           "name": "GAWW-01",
           "text": "Crowdedness Count: [1872]",
           "type": "scatter",
           "x": [
            4.8998471
           ],
           "y": [
            52.3746006
           ]
          },
          {
           "marker": {
            "size": [
             2464
            ],
            "sizemode": "area",
            "sizeref": 0.3803125
           },
           "mode": "markers",
           "name": "GAWW-02",
           "text": "Crowdedness Count: [2464]",
           "type": "scatter",
           "x": [
            4.8989027
           ],
           "y": [
            52.3737857
           ]
          },
          {
           "marker": {
            "size": [
             1359
            ],
            "sizemode": "area",
            "sizeref": 0.3803125
           },
           "mode": "markers",
           "name": "GAWW-03",
           "text": "Crowdedness Count: [1359]",
           "type": "scatter",
           "x": [
            4.8973336
           ],
           "y": [
            52.3725237
           ]
          },
          {
           "marker": {
            "size": [
             493
            ],
            "sizemode": "area",
            "sizeref": 0.3803125
           },
           "mode": "markers",
           "name": "GAWW-04",
           "text": "Crowdedness Count: [493]",
           "type": "scatter",
           "x": [
            4.897907599999999
           ],
           "y": [
            52.373283
           ]
          },
          {
           "marker": {
            "size": [
             1572
            ],
            "sizemode": "area",
            "sizeref": 0.3803125
           },
           "mode": "markers",
           "name": "GAWW-05",
           "text": "Crowdedness Count: [1572]",
           "type": "scatter",
           "x": [
            4.8977166
           ],
           "y": [
            52.3723534
           ]
          },
          {
           "marker": {
            "size": [
             1061
            ],
            "sizemode": "area",
            "sizeref": 0.3803125
           },
           "mode": "markers",
           "name": "GAWW-06",
           "text": "Crowdedness Count: [1061]",
           "type": "scatter",
           "x": [
            4.8980530999999985
           ],
           "y": [
            52.372416
           ]
          },
          {
           "marker": {
            "size": [
             1566
            ],
            "sizemode": "area",
            "sizeref": 0.3803125
           },
           "mode": "markers",
           "name": "GAWW-07",
           "text": "Crowdedness Count: [1566]",
           "type": "scatter",
           "x": [
            4.9004405
           ],
           "y": [
            52.37441389999999
           ]
          },
          {
           "marker": {
            "size": [
             26
            ],
            "sizemode": "area",
            "sizeref": 0.3803125
           },
           "mode": "markers",
           "name": "GAWW-08",
           "text": "Crowdedness Count: [26]",
           "type": "scatter",
           "x": [
            4.8971927000000015
           ],
           "y": [
            52.3716503
           ]
          },
          {
           "marker": {
            "size": [
             52
            ],
            "sizemode": "area",
            "sizeref": 0.3803125
           },
           "mode": "markers",
           "name": "GAWW-09",
           "text": "Crowdedness Count: [52]",
           "type": "scatter",
           "x": [
            4.8984795
           ],
           "y": [
            52.3750398
           ]
          },
          {
           "marker": {
            "size": [
             29
            ],
            "sizemode": "area",
            "sizeref": 0.3803125
           },
           "mode": "markers",
           "name": "GAWW-10",
           "text": "Crowdedness Count: [29]",
           "type": "scatter",
           "x": [
            4.8988079
           ],
           "y": [
            52.372369
           ]
          }
         ],
         "name": "1500"
        },
        {
         "data": [
          {
           "marker": {
            "size": [
             2182
            ],
            "sizemode": "area",
            "sizeref": 0.3803125
           },
           "mode": "markers",
           "name": "GAWW-01",
           "text": "Crowdedness Count: [2182]",
           "type": "scatter",
           "x": [
            4.8998471
           ],
           "y": [
            52.3746006
           ]
          },
          {
           "marker": {
            "size": [
             2254
            ],
            "sizemode": "area",
            "sizeref": 0.3803125
           },
           "mode": "markers",
           "name": "GAWW-02",
           "text": "Crowdedness Count: [2254]",
           "type": "scatter",
           "x": [
            4.8989027
           ],
           "y": [
            52.3737857
           ]
          },
          {
           "marker": {
            "size": [
             1519
            ],
            "sizemode": "area",
            "sizeref": 0.3803125
           },
           "mode": "markers",
           "name": "GAWW-03",
           "text": "Crowdedness Count: [1519]",
           "type": "scatter",
           "x": [
            4.8973336
           ],
           "y": [
            52.3725237
           ]
          },
          {
           "marker": {
            "size": [
             570
            ],
            "sizemode": "area",
            "sizeref": 0.3803125
           },
           "mode": "markers",
           "name": "GAWW-04",
           "text": "Crowdedness Count: [570]",
           "type": "scatter",
           "x": [
            4.897907599999999
           ],
           "y": [
            52.373283
           ]
          },
          {
           "marker": {
            "size": [
             1811
            ],
            "sizemode": "area",
            "sizeref": 0.3803125
           },
           "mode": "markers",
           "name": "GAWW-05",
           "text": "Crowdedness Count: [1811]",
           "type": "scatter",
           "x": [
            4.8977166
           ],
           "y": [
            52.3723534
           ]
          },
          {
           "marker": {
            "size": [
             1304
            ],
            "sizemode": "area",
            "sizeref": 0.3803125
           },
           "mode": "markers",
           "name": "GAWW-06",
           "text": "Crowdedness Count: [1304]",
           "type": "scatter",
           "x": [
            4.8980530999999985
           ],
           "y": [
            52.372416
           ]
          },
          {
           "marker": {
            "size": [
             1556
            ],
            "sizemode": "area",
            "sizeref": 0.3803125
           },
           "mode": "markers",
           "name": "GAWW-07",
           "text": "Crowdedness Count: [1556]",
           "type": "scatter",
           "x": [
            4.9004405
           ],
           "y": [
            52.37441389999999
           ]
          },
          {
           "marker": {
            "size": [
             29
            ],
            "sizemode": "area",
            "sizeref": 0.3803125
           },
           "mode": "markers",
           "name": "GAWW-08",
           "text": "Crowdedness Count: [29]",
           "type": "scatter",
           "x": [
            4.8971927000000015
           ],
           "y": [
            52.3716503
           ]
          },
          {
           "marker": {
            "size": [
             62
            ],
            "sizemode": "area",
            "sizeref": 0.3803125
           },
           "mode": "markers",
           "name": "GAWW-09",
           "text": "Crowdedness Count: [62]",
           "type": "scatter",
           "x": [
            4.8984795
           ],
           "y": [
            52.3750398
           ]
          },
          {
           "marker": {
            "size": [
             24
            ],
            "sizemode": "area",
            "sizeref": 0.3803125
           },
           "mode": "markers",
           "name": "GAWW-10",
           "text": "Crowdedness Count: [24]",
           "type": "scatter",
           "x": [
            4.8988079
           ],
           "y": [
            52.372369
           ]
          }
         ],
         "name": "1600"
        },
        {
         "data": [
          {
           "marker": {
            "size": [
             2265
            ],
            "sizemode": "area",
            "sizeref": 0.3803125
           },
           "mode": "markers",
           "name": "GAWW-01",
           "text": "Crowdedness Count: [2265]",
           "type": "scatter",
           "x": [
            4.8998471
           ],
           "y": [
            52.3746006
           ]
          },
          {
           "marker": {
            "size": [
             2631
            ],
            "sizemode": "area",
            "sizeref": 0.3803125
           },
           "mode": "markers",
           "name": "GAWW-02",
           "text": "Crowdedness Count: [2631]",
           "type": "scatter",
           "x": [
            4.8989027
           ],
           "y": [
            52.3737857
           ]
          },
          {
           "marker": {
            "size": [
             1194
            ],
            "sizemode": "area",
            "sizeref": 0.3803125
           },
           "mode": "markers",
           "name": "GAWW-03",
           "text": "Crowdedness Count: [1194]",
           "type": "scatter",
           "x": [
            4.8973336
           ],
           "y": [
            52.3725237
           ]
          },
          {
           "marker": {
            "size": [
             625
            ],
            "sizemode": "area",
            "sizeref": 0.3803125
           },
           "mode": "markers",
           "name": "GAWW-04",
           "text": "Crowdedness Count: [625]",
           "type": "scatter",
           "x": [
            4.897907599999999
           ],
           "y": [
            52.373283
           ]
          },
          {
           "marker": {
            "size": [
             2055
            ],
            "sizemode": "area",
            "sizeref": 0.3803125
           },
           "mode": "markers",
           "name": "GAWW-05",
           "text": "Crowdedness Count: [2055]",
           "type": "scatter",
           "x": [
            4.8977166
           ],
           "y": [
            52.3723534
           ]
          },
          {
           "marker": {
            "size": [
             1306
            ],
            "sizemode": "area",
            "sizeref": 0.3803125
           },
           "mode": "markers",
           "name": "GAWW-06",
           "text": "Crowdedness Count: [1306]",
           "type": "scatter",
           "x": [
            4.8980530999999985
           ],
           "y": [
            52.372416
           ]
          },
          {
           "marker": {
            "size": [
             1824
            ],
            "sizemode": "area",
            "sizeref": 0.3803125
           },
           "mode": "markers",
           "name": "GAWW-07",
           "text": "Crowdedness Count: [1824]",
           "type": "scatter",
           "x": [
            4.9004405
           ],
           "y": [
            52.37441389999999
           ]
          },
          {
           "marker": {
            "size": [
             25
            ],
            "sizemode": "area",
            "sizeref": 0.3803125
           },
           "mode": "markers",
           "name": "GAWW-08",
           "text": "Crowdedness Count: [25]",
           "type": "scatter",
           "x": [
            4.8971927000000015
           ],
           "y": [
            52.3716503
           ]
          },
          {
           "marker": {
            "size": [
             56
            ],
            "sizemode": "area",
            "sizeref": 0.3803125
           },
           "mode": "markers",
           "name": "GAWW-09",
           "text": "Crowdedness Count: [56]",
           "type": "scatter",
           "x": [
            4.8984795
           ],
           "y": [
            52.3750398
           ]
          },
          {
           "marker": {
            "size": [
             27
            ],
            "sizemode": "area",
            "sizeref": 0.3803125
           },
           "mode": "markers",
           "name": "GAWW-10",
           "text": "Crowdedness Count: [27]",
           "type": "scatter",
           "x": [
            4.8988079
           ],
           "y": [
            52.372369
           ]
          }
         ],
         "name": "1700"
        },
        {
         "data": [
          {
           "marker": {
            "size": [
             2444
            ],
            "sizemode": "area",
            "sizeref": 0.3803125
           },
           "mode": "markers",
           "name": "GAWW-01",
           "text": "Crowdedness Count: [2444]",
           "type": "scatter",
           "x": [
            4.8998471
           ],
           "y": [
            52.3746006
           ]
          },
          {
           "marker": {
            "size": [
             3052
            ],
            "sizemode": "area",
            "sizeref": 0.3803125
           },
           "mode": "markers",
           "name": "GAWW-02",
           "text": "Crowdedness Count: [3052]",
           "type": "scatter",
           "x": [
            4.8989027
           ],
           "y": [
            52.3737857
           ]
          },
          {
           "marker": {
            "size": [
             1424
            ],
            "sizemode": "area",
            "sizeref": 0.3803125
           },
           "mode": "markers",
           "name": "GAWW-03",
           "text": "Crowdedness Count: [1424]",
           "type": "scatter",
           "x": [
            4.8973336
           ],
           "y": [
            52.3725237
           ]
          },
          {
           "marker": {
            "size": [
             631
            ],
            "sizemode": "area",
            "sizeref": 0.3803125
           },
           "mode": "markers",
           "name": "GAWW-04",
           "text": "Crowdedness Count: [631]",
           "type": "scatter",
           "x": [
            4.897907599999999
           ],
           "y": [
            52.373283
           ]
          },
          {
           "marker": {
            "size": [
             2679
            ],
            "sizemode": "area",
            "sizeref": 0.3803125
           },
           "mode": "markers",
           "name": "GAWW-05",
           "text": "Crowdedness Count: [2679]",
           "type": "scatter",
           "x": [
            4.8977166
           ],
           "y": [
            52.3723534
           ]
          },
          {
           "marker": {
            "size": [
             1311
            ],
            "sizemode": "area",
            "sizeref": 0.3803125
           },
           "mode": "markers",
           "name": "GAWW-06",
           "text": "Crowdedness Count: [1311]",
           "type": "scatter",
           "x": [
            4.8980530999999985
           ],
           "y": [
            52.372416
           ]
          },
          {
           "marker": {
            "size": [
             2118
            ],
            "sizemode": "area",
            "sizeref": 0.3803125
           },
           "mode": "markers",
           "name": "GAWW-07",
           "text": "Crowdedness Count: [2118]",
           "type": "scatter",
           "x": [
            4.9004405
           ],
           "y": [
            52.37441389999999
           ]
          },
          {
           "marker": {
            "size": [
             28
            ],
            "sizemode": "area",
            "sizeref": 0.3803125
           },
           "mode": "markers",
           "name": "GAWW-08",
           "text": "Crowdedness Count: [28]",
           "type": "scatter",
           "x": [
            4.8971927000000015
           ],
           "y": [
            52.3716503
           ]
          },
          {
           "marker": {
            "size": [
             51
            ],
            "sizemode": "area",
            "sizeref": 0.3803125
           },
           "mode": "markers",
           "name": "GAWW-09",
           "text": "Crowdedness Count: [51]",
           "type": "scatter",
           "x": [
            4.8984795
           ],
           "y": [
            52.3750398
           ]
          },
          {
           "marker": {
            "size": [
             33
            ],
            "sizemode": "area",
            "sizeref": 0.3803125
           },
           "mode": "markers",
           "name": "GAWW-10",
           "text": "Crowdedness Count: [33]",
           "type": "scatter",
           "x": [
            4.8988079
           ],
           "y": [
            52.372369
           ]
          }
         ],
         "name": "1800"
        },
        {
         "data": [
          {
           "marker": {
            "size": [
             2536
            ],
            "sizemode": "area",
            "sizeref": 0.3803125
           },
           "mode": "markers",
           "name": "GAWW-01",
           "text": "Crowdedness Count: [2536]",
           "type": "scatter",
           "x": [
            4.8998471
           ],
           "y": [
            52.3746006
           ]
          },
          {
           "marker": {
            "size": [
             1956
            ],
            "sizemode": "area",
            "sizeref": 0.3803125
           },
           "mode": "markers",
           "name": "GAWW-02",
           "text": "Crowdedness Count: [1956]",
           "type": "scatter",
           "x": [
            4.8989027
           ],
           "y": [
            52.3737857
           ]
          },
          {
           "marker": {
            "size": [
             1053
            ],
            "sizemode": "area",
            "sizeref": 0.3803125
           },
           "mode": "markers",
           "name": "GAWW-03",
           "text": "Crowdedness Count: [1053]",
           "type": "scatter",
           "x": [
            4.8973336
           ],
           "y": [
            52.3725237
           ]
          },
          {
           "marker": {
            "size": [
             600
            ],
            "sizemode": "area",
            "sizeref": 0.3803125
           },
           "mode": "markers",
           "name": "GAWW-04",
           "text": "Crowdedness Count: [600]",
           "type": "scatter",
           "x": [
            4.897907599999999
           ],
           "y": [
            52.373283
           ]
          },
          {
           "marker": {
            "size": [
             2764
            ],
            "sizemode": "area",
            "sizeref": 0.3803125
           },
           "mode": "markers",
           "name": "GAWW-05",
           "text": "Crowdedness Count: [2764]",
           "type": "scatter",
           "x": [
            4.8977166
           ],
           "y": [
            52.3723534
           ]
          },
          {
           "marker": {
            "size": [
             1414
            ],
            "sizemode": "area",
            "sizeref": 0.3803125
           },
           "mode": "markers",
           "name": "GAWW-06",
           "text": "Crowdedness Count: [1414]",
           "type": "scatter",
           "x": [
            4.8980530999999985
           ],
           "y": [
            52.372416
           ]
          },
          {
           "marker": {
            "size": [
             2087
            ],
            "sizemode": "area",
            "sizeref": 0.3803125
           },
           "mode": "markers",
           "name": "GAWW-07",
           "text": "Crowdedness Count: [2087]",
           "type": "scatter",
           "x": [
            4.9004405
           ],
           "y": [
            52.37441389999999
           ]
          },
          {
           "marker": {
            "size": [
             29
            ],
            "sizemode": "area",
            "sizeref": 0.3803125
           },
           "mode": "markers",
           "name": "GAWW-08",
           "text": "Crowdedness Count: [29]",
           "type": "scatter",
           "x": [
            4.8971927000000015
           ],
           "y": [
            52.3716503
           ]
          },
          {
           "marker": {
            "size": [
             51
            ],
            "sizemode": "area",
            "sizeref": 0.3803125
           },
           "mode": "markers",
           "name": "GAWW-09",
           "text": "Crowdedness Count: [51]",
           "type": "scatter",
           "x": [
            4.8984795
           ],
           "y": [
            52.3750398
           ]
          },
          {
           "marker": {
            "size": [
             34
            ],
            "sizemode": "area",
            "sizeref": 0.3803125
           },
           "mode": "markers",
           "name": "GAWW-10",
           "text": "Crowdedness Count: [34]",
           "type": "scatter",
           "x": [
            4.8988079
           ],
           "y": [
            52.372369
           ]
          }
         ],
         "name": "1900"
        },
        {
         "data": [
          {
           "marker": {
            "size": [
             2297
            ],
            "sizemode": "area",
            "sizeref": 0.3803125
           },
           "mode": "markers",
           "name": "GAWW-01",
           "text": "Crowdedness Count: [2297]",
           "type": "scatter",
           "x": [
            4.8998471
           ],
           "y": [
            52.3746006
           ]
          },
          {
           "marker": {
            "size": [
             2289
            ],
            "sizemode": "area",
            "sizeref": 0.3803125
           },
           "mode": "markers",
           "name": "GAWW-02",
           "text": "Crowdedness Count: [2289]",
           "type": "scatter",
           "x": [
            4.8989027
           ],
           "y": [
            52.3737857
           ]
          },
          {
           "marker": {
            "size": [
             1341
            ],
            "sizemode": "area",
            "sizeref": 0.3803125
           },
           "mode": "markers",
           "name": "GAWW-03",
           "text": "Crowdedness Count: [1341]",
           "type": "scatter",
           "x": [
            4.8973336
           ],
           "y": [
            52.3725237
           ]
          },
          {
           "marker": {
            "size": [
             494
            ],
            "sizemode": "area",
            "sizeref": 0.3803125
           },
           "mode": "markers",
           "name": "GAWW-04",
           "text": "Crowdedness Count: [494]",
           "type": "scatter",
           "x": [
            4.897907599999999
           ],
           "y": [
            52.373283
           ]
          },
          {
           "marker": {
            "size": [
             2297
            ],
            "sizemode": "area",
            "sizeref": 0.3803125
           },
           "mode": "markers",
           "name": "GAWW-05",
           "text": "Crowdedness Count: [2297]",
           "type": "scatter",
           "x": [
            4.8977166
           ],
           "y": [
            52.3723534
           ]
          },
          {
           "marker": {
            "size": [
             1332
            ],
            "sizemode": "area",
            "sizeref": 0.3803125
           },
           "mode": "markers",
           "name": "GAWW-06",
           "text": "Crowdedness Count: [1332]",
           "type": "scatter",
           "x": [
            4.8980530999999985
           ],
           "y": [
            52.372416
           ]
          },
          {
           "marker": {
            "size": [
             1828
            ],
            "sizemode": "area",
            "sizeref": 0.3803125
           },
           "mode": "markers",
           "name": "GAWW-07",
           "text": "Crowdedness Count: [1828]",
           "type": "scatter",
           "x": [
            4.9004405
           ],
           "y": [
            52.37441389999999
           ]
          },
          {
           "marker": {
            "size": [
             32
            ],
            "sizemode": "area",
            "sizeref": 0.3803125
           },
           "mode": "markers",
           "name": "GAWW-08",
           "text": "Crowdedness Count: [32]",
           "type": "scatter",
           "x": [
            4.8971927000000015
           ],
           "y": [
            52.3716503
           ]
          },
          {
           "marker": {
            "size": [
             56
            ],
            "sizemode": "area",
            "sizeref": 0.3803125
           },
           "mode": "markers",
           "name": "GAWW-09",
           "text": "Crowdedness Count: [56]",
           "type": "scatter",
           "x": [
            4.8984795
           ],
           "y": [
            52.3750398
           ]
          },
          {
           "marker": {
            "size": [
             25
            ],
            "sizemode": "area",
            "sizeref": 0.3803125
           },
           "mode": "markers",
           "name": "GAWW-10",
           "text": "Crowdedness Count: [25]",
           "type": "scatter",
           "x": [
            4.8988079
           ],
           "y": [
            52.372369
           ]
          }
         ],
         "name": "2000"
        },
        {
         "data": [
          {
           "marker": {
            "size": [
             2488
            ],
            "sizemode": "area",
            "sizeref": 0.3803125
           },
           "mode": "markers",
           "name": "GAWW-01",
           "text": "Crowdedness Count: [2488]",
           "type": "scatter",
           "x": [
            4.8998471
           ],
           "y": [
            52.3746006
           ]
          },
          {
           "marker": {
            "size": [
             2760
            ],
            "sizemode": "area",
            "sizeref": 0.3803125
           },
           "mode": "markers",
           "name": "GAWW-02",
           "text": "Crowdedness Count: [2760]",
           "type": "scatter",
           "x": [
            4.8989027
           ],
           "y": [
            52.3737857
           ]
          },
          {
           "marker": {
            "size": [
             1571
            ],
            "sizemode": "area",
            "sizeref": 0.3803125
           },
           "mode": "markers",
           "name": "GAWW-03",
           "text": "Crowdedness Count: [1571]",
           "type": "scatter",
           "x": [
            4.8973336
           ],
           "y": [
            52.3725237
           ]
          },
          {
           "marker": {
            "size": [
             739
            ],
            "sizemode": "area",
            "sizeref": 0.3803125
           },
           "mode": "markers",
           "name": "GAWW-04",
           "text": "Crowdedness Count: [739]",
           "type": "scatter",
           "x": [
            4.897907599999999
           ],
           "y": [
            52.373283
           ]
          },
          {
           "marker": {
            "size": [
             2722
            ],
            "sizemode": "area",
            "sizeref": 0.3803125
           },
           "mode": "markers",
           "name": "GAWW-05",
           "text": "Crowdedness Count: [2722]",
           "type": "scatter",
           "x": [
            4.8977166
           ],
           "y": [
            52.3723534
           ]
          },
          {
           "marker": {
            "size": [
             1755
            ],
            "sizemode": "area",
            "sizeref": 0.3803125
           },
           "mode": "markers",
           "name": "GAWW-06",
           "text": "Crowdedness Count: [1755]",
           "type": "scatter",
           "x": [
            4.8980530999999985
           ],
           "y": [
            52.372416
           ]
          },
          {
           "marker": {
            "size": [
             1876
            ],
            "sizemode": "area",
            "sizeref": 0.3803125
           },
           "mode": "markers",
           "name": "GAWW-07",
           "text": "Crowdedness Count: [1876]",
           "type": "scatter",
           "x": [
            4.9004405
           ],
           "y": [
            52.37441389999999
           ]
          },
          {
           "marker": {
            "size": [
             39
            ],
            "sizemode": "area",
            "sizeref": 0.3803125
           },
           "mode": "markers",
           "name": "GAWW-08",
           "text": "Crowdedness Count: [39]",
           "type": "scatter",
           "x": [
            4.8971927000000015
           ],
           "y": [
            52.3716503
           ]
          },
          {
           "marker": {
            "size": [
             62
            ],
            "sizemode": "area",
            "sizeref": 0.3803125
           },
           "mode": "markers",
           "name": "GAWW-09",
           "text": "Crowdedness Count: [62]",
           "type": "scatter",
           "x": [
            4.8984795
           ],
           "y": [
            52.3750398
           ]
          },
          {
           "marker": {
            "size": [
             23
            ],
            "sizemode": "area",
            "sizeref": 0.3803125
           },
           "mode": "markers",
           "name": "GAWW-10",
           "text": "Crowdedness Count: [23]",
           "type": "scatter",
           "x": [
            4.8988079
           ],
           "y": [
            52.372369
           ]
          }
         ],
         "name": "2100"
        },
        {
         "data": [
          {
           "marker": {
            "size": [
             2288
            ],
            "sizemode": "area",
            "sizeref": 0.3803125
           },
           "mode": "markers",
           "name": "GAWW-01",
           "text": "Crowdedness Count: [2288]",
           "type": "scatter",
           "x": [
            4.8998471
           ],
           "y": [
            52.3746006
           ]
          },
          {
           "marker": {
            "size": [
             2150
            ],
            "sizemode": "area",
            "sizeref": 0.3803125
           },
           "mode": "markers",
           "name": "GAWW-02",
           "text": "Crowdedness Count: [2150]",
           "type": "scatter",
           "x": [
            4.8989027
           ],
           "y": [
            52.3737857
           ]
          },
          {
           "marker": {
            "size": [
             1227
            ],
            "sizemode": "area",
            "sizeref": 0.3803125
           },
           "mode": "markers",
           "name": "GAWW-03",
           "text": "Crowdedness Count: [1227]",
           "type": "scatter",
           "x": [
            4.8973336
           ],
           "y": [
            52.3725237
           ]
          },
          {
           "marker": {
            "size": [
             687
            ],
            "sizemode": "area",
            "sizeref": 0.3803125
           },
           "mode": "markers",
           "name": "GAWW-04",
           "text": "Crowdedness Count: [687]",
           "type": "scatter",
           "x": [
            4.897907599999999
           ],
           "y": [
            52.373283
           ]
          },
          {
           "marker": {
            "size": [
             2705
            ],
            "sizemode": "area",
            "sizeref": 0.3803125
           },
           "mode": "markers",
           "name": "GAWW-05",
           "text": "Crowdedness Count: [2705]",
           "type": "scatter",
           "x": [
            4.8977166
           ],
           "y": [
            52.3723534
           ]
          },
          {
           "marker": {
            "size": [
             1704
            ],
            "sizemode": "area",
            "sizeref": 0.3803125
           },
           "mode": "markers",
           "name": "GAWW-06",
           "text": "Crowdedness Count: [1704]",
           "type": "scatter",
           "x": [
            4.8980530999999985
           ],
           "y": [
            52.372416
           ]
          },
          {
           "marker": {
            "size": [
             1649
            ],
            "sizemode": "area",
            "sizeref": 0.3803125
           },
           "mode": "markers",
           "name": "GAWW-07",
           "text": "Crowdedness Count: [1649]",
           "type": "scatter",
           "x": [
            4.9004405
           ],
           "y": [
            52.37441389999999
           ]
          },
          {
           "marker": {
            "size": [
             33
            ],
            "sizemode": "area",
            "sizeref": 0.3803125
           },
           "mode": "markers",
           "name": "GAWW-08",
           "text": "Crowdedness Count: [33]",
           "type": "scatter",
           "x": [
            4.8971927000000015
           ],
           "y": [
            52.3716503
           ]
          },
          {
           "marker": {
            "size": [
             58
            ],
            "sizemode": "area",
            "sizeref": 0.3803125
           },
           "mode": "markers",
           "name": "GAWW-09",
           "text": "Crowdedness Count: [58]",
           "type": "scatter",
           "x": [
            4.8984795
           ],
           "y": [
            52.3750398
           ]
          },
          {
           "marker": {
            "size": [
             32
            ],
            "sizemode": "area",
            "sizeref": 0.3803125
           },
           "mode": "markers",
           "name": "GAWW-10",
           "text": "Crowdedness Count: [32]",
           "type": "scatter",
           "x": [
            4.8988079
           ],
           "y": [
            52.372369
           ]
          }
         ],
         "name": "2200"
        },
        {
         "data": [
          {
           "marker": {
            "size": [
             2216
            ],
            "sizemode": "area",
            "sizeref": 0.3803125
           },
           "mode": "markers",
           "name": "GAWW-01",
           "text": "Crowdedness Count: [2216]",
           "type": "scatter",
           "x": [
            4.8998471
           ],
           "y": [
            52.3746006
           ]
          },
          {
           "marker": {
            "size": [
             2211
            ],
            "sizemode": "area",
            "sizeref": 0.3803125
           },
           "mode": "markers",
           "name": "GAWW-02",
           "text": "Crowdedness Count: [2211]",
           "type": "scatter",
           "x": [
            4.8989027
           ],
           "y": [
            52.3737857
           ]
          },
          {
           "marker": {
            "size": [
             1322
            ],
            "sizemode": "area",
            "sizeref": 0.3803125
           },
           "mode": "markers",
           "name": "GAWW-03",
           "text": "Crowdedness Count: [1322]",
           "type": "scatter",
           "x": [
            4.8973336
           ],
           "y": [
            52.3725237
           ]
          },
          {
           "marker": {
            "size": [
             814
            ],
            "sizemode": "area",
            "sizeref": 0.3803125
           },
           "mode": "markers",
           "name": "GAWW-04",
           "text": "Crowdedness Count: [814]",
           "type": "scatter",
           "x": [
            4.897907599999999
           ],
           "y": [
            52.373283
           ]
          },
          {
           "marker": {
            "size": [
             2613
            ],
            "sizemode": "area",
            "sizeref": 0.3803125
           },
           "mode": "markers",
           "name": "GAWW-05",
           "text": "Crowdedness Count: [2613]",
           "type": "scatter",
           "x": [
            4.8977166
           ],
           "y": [
            52.3723534
           ]
          },
          {
           "marker": {
            "size": [
             1646
            ],
            "sizemode": "area",
            "sizeref": 0.3803125
           },
           "mode": "markers",
           "name": "GAWW-06",
           "text": "Crowdedness Count: [1646]",
           "type": "scatter",
           "x": [
            4.8980530999999985
           ],
           "y": [
            52.372416
           ]
          },
          {
           "marker": {
            "size": [
             1488
            ],
            "sizemode": "area",
            "sizeref": 0.3803125
           },
           "mode": "markers",
           "name": "GAWW-07",
           "text": "Crowdedness Count: [1488]",
           "type": "scatter",
           "x": [
            4.9004405
           ],
           "y": [
            52.37441389999999
           ]
          },
          {
           "marker": {
            "size": [
             32
            ],
            "sizemode": "area",
            "sizeref": 0.3803125
           },
           "mode": "markers",
           "name": "GAWW-08",
           "text": "Crowdedness Count: [32]",
           "type": "scatter",
           "x": [
            4.8971927000000015
           ],
           "y": [
            52.3716503
           ]
          },
          {
           "marker": {
            "size": [
             53
            ],
            "sizemode": "area",
            "sizeref": 0.3803125
           },
           "mode": "markers",
           "name": "GAWW-09",
           "text": "Crowdedness Count: [53]",
           "type": "scatter",
           "x": [
            4.8984795
           ],
           "y": [
            52.3750398
           ]
          },
          {
           "marker": {
            "size": [
             27
            ],
            "sizemode": "area",
            "sizeref": 0.3803125
           },
           "mode": "markers",
           "name": "GAWW-10",
           "text": "Crowdedness Count: [27]",
           "type": "scatter",
           "x": [
            4.8988079
           ],
           "y": [
            52.372369
           ]
          }
         ],
         "name": "2300"
        }
       ],
       "layout": {
        "height": 650,
        "hovermode": "closest",
        "margin": {
         "b": 50,
         "pad": 5,
         "t": 50
        },
        "showlegend": true,
        "sliders": [
         {
          "active": 0,
          "currentvalue": {
           "font": {
            "size": 20
           },
           "prefix": "Hour:",
           "visible": true,
           "xanchor": "right"
          },
          "len": 0.9,
          "pad": {
           "b": 10,
           "t": 50
          },
          "steps": [
           {
            "args": [
             [
              0
             ],
             {
              "frame": {
               "duration": 300,
               "redraw": false
              },
              "mode": "immediate",
              "transition": {
               "duration": 300
              }
             }
            ],
            "label": "0",
            "method": "animate"
           },
           {
            "args": [
             [
              100
             ],
             {
              "frame": {
               "duration": 300,
               "redraw": false
              },
              "mode": "immediate",
              "transition": {
               "duration": 300
              }
             }
            ],
            "label": "100",
            "method": "animate"
           },
           {
            "args": [
             [
              200
             ],
             {
              "frame": {
               "duration": 300,
               "redraw": false
              },
              "mode": "immediate",
              "transition": {
               "duration": 300
              }
             }
            ],
            "label": "200",
            "method": "animate"
           },
           {
            "args": [
             [
              300
             ],
             {
              "frame": {
               "duration": 300,
               "redraw": false
              },
              "mode": "immediate",
              "transition": {
               "duration": 300
              }
             }
            ],
            "label": "300",
            "method": "animate"
           },
           {
            "args": [
             [
              400
             ],
             {
              "frame": {
               "duration": 300,
               "redraw": false
              },
              "mode": "immediate",
              "transition": {
               "duration": 300
              }
             }
            ],
            "label": "400",
            "method": "animate"
           },
           {
            "args": [
             [
              500
             ],
             {
              "frame": {
               "duration": 300,
               "redraw": false
              },
              "mode": "immediate",
              "transition": {
               "duration": 300
              }
             }
            ],
            "label": "500",
            "method": "animate"
           },
           {
            "args": [
             [
              600
             ],
             {
              "frame": {
               "duration": 300,
               "redraw": false
              },
              "mode": "immediate",
              "transition": {
               "duration": 300
              }
             }
            ],
            "label": "600",
            "method": "animate"
           },
           {
            "args": [
             [
              700
             ],
             {
              "frame": {
               "duration": 300,
               "redraw": false
              },
              "mode": "immediate",
              "transition": {
               "duration": 300
              }
             }
            ],
            "label": "700",
            "method": "animate"
           },
           {
            "args": [
             [
              800
             ],
             {
              "frame": {
               "duration": 300,
               "redraw": false
              },
              "mode": "immediate",
              "transition": {
               "duration": 300
              }
             }
            ],
            "label": "800",
            "method": "animate"
           },
           {
            "args": [
             [
              900
             ],
             {
              "frame": {
               "duration": 300,
               "redraw": false
              },
              "mode": "immediate",
              "transition": {
               "duration": 300
              }
             }
            ],
            "label": "900",
            "method": "animate"
           },
           {
            "args": [
             [
              1000
             ],
             {
              "frame": {
               "duration": 300,
               "redraw": false
              },
              "mode": "immediate",
              "transition": {
               "duration": 300
              }
             }
            ],
            "label": "1000",
            "method": "animate"
           },
           {
            "args": [
             [
              1100
             ],
             {
              "frame": {
               "duration": 300,
               "redraw": false
              },
              "mode": "immediate",
              "transition": {
               "duration": 300
              }
             }
            ],
            "label": "1100",
            "method": "animate"
           },
           {
            "args": [
             [
              1200
             ],
             {
              "frame": {
               "duration": 300,
               "redraw": false
              },
              "mode": "immediate",
              "transition": {
               "duration": 300
              }
             }
            ],
            "label": "1200",
            "method": "animate"
           },
           {
            "args": [
             [
              1300
             ],
             {
              "frame": {
               "duration": 300,
               "redraw": false
              },
              "mode": "immediate",
              "transition": {
               "duration": 300
              }
             }
            ],
            "label": "1300",
            "method": "animate"
           },
           {
            "args": [
             [
              1400
             ],
             {
              "frame": {
               "duration": 300,
               "redraw": false
              },
              "mode": "immediate",
              "transition": {
               "duration": 300
              }
             }
            ],
            "label": "1400",
            "method": "animate"
           },
           {
            "args": [
             [
              1500
             ],
             {
              "frame": {
               "duration": 300,
               "redraw": false
              },
              "mode": "immediate",
              "transition": {
               "duration": 300
              }
             }
            ],
            "label": "1500",
            "method": "animate"
           },
           {
            "args": [
             [
              1600
             ],
             {
              "frame": {
               "duration": 300,
               "redraw": false
              },
              "mode": "immediate",
              "transition": {
               "duration": 300
              }
             }
            ],
            "label": "1600",
            "method": "animate"
           },
           {
            "args": [
             [
              1700
             ],
             {
              "frame": {
               "duration": 300,
               "redraw": false
              },
              "mode": "immediate",
              "transition": {
               "duration": 300
              }
             }
            ],
            "label": "1700",
            "method": "animate"
           },
           {
            "args": [
             [
              1800
             ],
             {
              "frame": {
               "duration": 300,
               "redraw": false
              },
              "mode": "immediate",
              "transition": {
               "duration": 300
              }
             }
            ],
            "label": "1800",
            "method": "animate"
           },
           {
            "args": [
             [
              1900
             ],
             {
              "frame": {
               "duration": 300,
               "redraw": false
              },
              "mode": "immediate",
              "transition": {
               "duration": 300
              }
             }
            ],
            "label": "1900",
            "method": "animate"
           },
           {
            "args": [
             [
              2000
             ],
             {
              "frame": {
               "duration": 300,
               "redraw": false
              },
              "mode": "immediate",
              "transition": {
               "duration": 300
              }
             }
            ],
            "label": "2000",
            "method": "animate"
           },
           {
            "args": [
             [
              2100
             ],
             {
              "frame": {
               "duration": 300,
               "redraw": false
              },
              "mode": "immediate",
              "transition": {
               "duration": 300
              }
             }
            ],
            "label": "2100",
            "method": "animate"
           },
           {
            "args": [
             [
              2200
             ],
             {
              "frame": {
               "duration": 300,
               "redraw": false
              },
              "mode": "immediate",
              "transition": {
               "duration": 300
              }
             }
            ],
            "label": "2200",
            "method": "animate"
           },
           {
            "args": [
             [
              2300
             ],
             {
              "frame": {
               "duration": 300,
               "redraw": false
              },
              "mode": "immediate",
              "transition": {
               "duration": 300
              }
             }
            ],
            "label": "2300",
            "method": "animate"
           }
          ],
          "transition": {
           "duration": 300,
           "easing": "cubic-in-out"
          },
          "x": 0.1,
          "xanchor": "left",
          "y": 0,
          "yanchor": "top"
         }
        ],
        "title": {
         "text": "Crowdedness Counts Amsterdam - 2019-01-01"
        },
        "updatemenus": [
         {
          "buttons": [
           {
            "args": [
             null,
             {
              "frame": {
               "duration": 500,
               "redraw": false
              },
              "fromcurrent": true,
              "transition": {
               "duration": 300,
               "easing": "quadratic-in-out"
              }
             }
            ],
            "label": "Play",
            "method": "animate"
           },
           {
            "args": [
             [
              null
             ],
             {
              "frame": {
               "duration": 0,
               "redraw": false
              },
              "mode": "immediate",
              "transition": {
               "duration": 0
              }
             }
            ],
            "label": "Pause",
            "method": "animate"
           }
          ],
          "direction": "left",
          "pad": {
           "r": 10,
           "t": 87
          },
          "showactive": false,
          "type": "buttons",
          "x": 0.1,
          "xanchor": "right",
          "y": 0,
          "yanchor": "top"
         }
        ],
        "xaxis": {
         "autorange": false,
         "range": [
          4.896192700000001,
          4.9014405000000005
         ],
         "title": {
          "text": "Sensor Longitude"
         }
        },
        "yaxis": {
         "autorange": false,
         "range": [
          52.3706503,
          52.3760398
         ],
         "title": {
          "text": "Sensor Latitude"
         }
        }
       }
      },
      "text/html": [
       "<div>\n",
       "        \n",
       "        \n",
       "            <div id=\"badaf990-d734-4fb0-b130-b911e8f7ddcc\" class=\"plotly-graph-div\" style=\"height:650px; width:100%;\"></div>\n",
       "            <script type=\"text/javascript\">\n",
       "                require([\"plotly\"], function(Plotly) {\n",
       "                    window.PLOTLYENV=window.PLOTLYENV || {};\n",
       "                    window.PLOTLYENV.BASE_URL='https://plot.ly';\n",
       "                    \n",
       "                if (document.getElementById(\"badaf990-d734-4fb0-b130-b911e8f7ddcc\")) {\n",
       "                    Plotly.newPlot(\n",
       "                        'badaf990-d734-4fb0-b130-b911e8f7ddcc',\n",
       "                        [{\"marker\": {\"size\": [3335], \"sizemode\": \"area\", \"sizeref\": 0.3803125}, \"mode\": \"markers\", \"name\": \"GAWW-01\", \"text\": \"Crowdedness Count: [3335]\", \"type\": \"scatter\", \"uid\": \"0dfb1283-2844-4a17-af6f-ac7697c411b5\", \"x\": [4.8998471], \"y\": [52.3746006]}, {\"marker\": {\"size\": [2247], \"sizemode\": \"area\", \"sizeref\": 0.3803125}, \"mode\": \"markers\", \"name\": \"GAWW-02\", \"text\": \"Crowdedness Count: [2247]\", \"type\": \"scatter\", \"uid\": \"f4d0a5b7-5fb5-48b3-a5b4-20a688cf8ede\", \"x\": [4.8989027], \"y\": [52.3737857]}, {\"marker\": {\"size\": [1133], \"sizemode\": \"area\", \"sizeref\": 0.3803125}, \"mode\": \"markers\", \"name\": \"GAWW-03\", \"text\": \"Crowdedness Count: [1133]\", \"type\": \"scatter\", \"uid\": \"c33a2404-ccc3-4316-8ab2-c0c658c1c44a\", \"x\": [4.8973336], \"y\": [52.3725237]}, {\"marker\": {\"size\": [1624], \"sizemode\": \"area\", \"sizeref\": 0.3803125}, \"mode\": \"markers\", \"name\": \"GAWW-04\", \"text\": \"Crowdedness Count: [1624]\", \"type\": \"scatter\", \"uid\": \"d5db1711-0366-4d9c-9231-cfde8785aedb\", \"x\": [4.897907599999999], \"y\": [52.373283]}, {\"marker\": {\"size\": [3279], \"sizemode\": \"area\", \"sizeref\": 0.3803125}, \"mode\": \"markers\", \"name\": \"GAWW-05\", \"text\": \"Crowdedness Count: [3279]\", \"type\": \"scatter\", \"uid\": \"8f63ef82-d424-4927-894e-dcd5100dedf7\", \"x\": [4.8977166], \"y\": [52.3723534]}, {\"marker\": {\"size\": [2003], \"sizemode\": \"area\", \"sizeref\": 0.3803125}, \"mode\": \"markers\", \"name\": \"GAWW-06\", \"text\": \"Crowdedness Count: [2003]\", \"type\": \"scatter\", \"uid\": \"f355e59a-bb15-46dc-b235-6cd8139eda0b\", \"x\": [4.8980530999999985], \"y\": [52.372416]}, {\"marker\": {\"size\": [3138], \"sizemode\": \"area\", \"sizeref\": 0.3803125}, \"mode\": \"markers\", \"name\": \"GAWW-07\", \"text\": \"Crowdedness Count: [3138]\", \"type\": \"scatter\", \"uid\": \"b798ef25-e62b-42f5-99fe-be5f2b772a5e\", \"x\": [4.9004405], \"y\": [52.37441389999999]}, {\"marker\": {\"size\": [44], \"sizemode\": \"area\", \"sizeref\": 0.3803125}, \"mode\": \"markers\", \"name\": \"GAWW-08\", \"text\": \"Crowdedness Count: [44]\", \"type\": \"scatter\", \"uid\": \"9be1686a-61a6-445f-bceb-04fa5d13df32\", \"x\": [4.8971927000000015], \"y\": [52.3716503]}, {\"marker\": {\"size\": [71], \"sizemode\": \"area\", \"sizeref\": 0.3803125}, \"mode\": \"markers\", \"name\": \"GAWW-09\", \"text\": \"Crowdedness Count: [71]\", \"type\": \"scatter\", \"uid\": \"f8b478ef-22f4-4434-a6f3-f85ab602c63c\", \"x\": [4.8984795], \"y\": [52.3750398]}, {\"marker\": {\"size\": [59], \"sizemode\": \"area\", \"sizeref\": 0.3803125}, \"mode\": \"markers\", \"name\": \"GAWW-10\", \"text\": \"Crowdedness Count: [59]\", \"type\": \"scatter\", \"uid\": \"e1fccae2-f8b4-4c19-8e05-7b77877b9dee\", \"x\": [4.8988079], \"y\": [52.372369]}],\n",
       "                        {\"height\": 650, \"hovermode\": \"closest\", \"margin\": {\"b\": 50, \"pad\": 5, \"t\": 50}, \"showlegend\": true, \"sliders\": [{\"active\": 0, \"currentvalue\": {\"font\": {\"size\": 20}, \"prefix\": \"Hour:\", \"visible\": true, \"xanchor\": \"right\"}, \"len\": 0.9, \"pad\": {\"b\": 10, \"t\": 50}, \"steps\": [{\"args\": [[0], {\"frame\": {\"duration\": 300, \"redraw\": false}, \"mode\": \"immediate\", \"transition\": {\"duration\": 300}}], \"label\": \"0\", \"method\": \"animate\"}, {\"args\": [[100], {\"frame\": {\"duration\": 300, \"redraw\": false}, \"mode\": \"immediate\", \"transition\": {\"duration\": 300}}], \"label\": \"100\", \"method\": \"animate\"}, {\"args\": [[200], {\"frame\": {\"duration\": 300, \"redraw\": false}, \"mode\": \"immediate\", \"transition\": {\"duration\": 300}}], \"label\": \"200\", \"method\": \"animate\"}, {\"args\": [[300], {\"frame\": {\"duration\": 300, \"redraw\": false}, \"mode\": \"immediate\", \"transition\": {\"duration\": 300}}], \"label\": \"300\", \"method\": \"animate\"}, {\"args\": [[400], {\"frame\": {\"duration\": 300, \"redraw\": false}, \"mode\": \"immediate\", \"transition\": {\"duration\": 300}}], \"label\": \"400\", \"method\": \"animate\"}, {\"args\": [[500], {\"frame\": {\"duration\": 300, \"redraw\": false}, \"mode\": \"immediate\", \"transition\": {\"duration\": 300}}], \"label\": \"500\", \"method\": \"animate\"}, {\"args\": [[600], {\"frame\": {\"duration\": 300, \"redraw\": false}, \"mode\": \"immediate\", \"transition\": {\"duration\": 300}}], \"label\": \"600\", \"method\": \"animate\"}, {\"args\": [[700], {\"frame\": {\"duration\": 300, \"redraw\": false}, \"mode\": \"immediate\", \"transition\": {\"duration\": 300}}], \"label\": \"700\", \"method\": \"animate\"}, {\"args\": [[800], {\"frame\": {\"duration\": 300, \"redraw\": false}, \"mode\": \"immediate\", \"transition\": {\"duration\": 300}}], \"label\": \"800\", \"method\": \"animate\"}, {\"args\": [[900], {\"frame\": {\"duration\": 300, \"redraw\": false}, \"mode\": \"immediate\", \"transition\": {\"duration\": 300}}], \"label\": \"900\", \"method\": \"animate\"}, {\"args\": [[1000], {\"frame\": {\"duration\": 300, \"redraw\": false}, \"mode\": \"immediate\", \"transition\": {\"duration\": 300}}], \"label\": \"1000\", \"method\": \"animate\"}, {\"args\": [[1100], {\"frame\": {\"duration\": 300, \"redraw\": false}, \"mode\": \"immediate\", \"transition\": {\"duration\": 300}}], \"label\": \"1100\", \"method\": \"animate\"}, {\"args\": [[1200], {\"frame\": {\"duration\": 300, \"redraw\": false}, \"mode\": \"immediate\", \"transition\": {\"duration\": 300}}], \"label\": \"1200\", \"method\": \"animate\"}, {\"args\": [[1300], {\"frame\": {\"duration\": 300, \"redraw\": false}, \"mode\": \"immediate\", \"transition\": {\"duration\": 300}}], \"label\": \"1300\", \"method\": \"animate\"}, {\"args\": [[1400], {\"frame\": {\"duration\": 300, \"redraw\": false}, \"mode\": \"immediate\", \"transition\": {\"duration\": 300}}], \"label\": \"1400\", \"method\": \"animate\"}, {\"args\": [[1500], {\"frame\": {\"duration\": 300, \"redraw\": false}, \"mode\": \"immediate\", \"transition\": {\"duration\": 300}}], \"label\": \"1500\", \"method\": \"animate\"}, {\"args\": [[1600], {\"frame\": {\"duration\": 300, \"redraw\": false}, \"mode\": \"immediate\", \"transition\": {\"duration\": 300}}], \"label\": \"1600\", \"method\": \"animate\"}, {\"args\": [[1700], {\"frame\": {\"duration\": 300, \"redraw\": false}, \"mode\": \"immediate\", \"transition\": {\"duration\": 300}}], \"label\": \"1700\", \"method\": \"animate\"}, {\"args\": [[1800], {\"frame\": {\"duration\": 300, \"redraw\": false}, \"mode\": \"immediate\", \"transition\": {\"duration\": 300}}], \"label\": \"1800\", \"method\": \"animate\"}, {\"args\": [[1900], {\"frame\": {\"duration\": 300, \"redraw\": false}, \"mode\": \"immediate\", \"transition\": {\"duration\": 300}}], \"label\": \"1900\", \"method\": \"animate\"}, {\"args\": [[2000], {\"frame\": {\"duration\": 300, \"redraw\": false}, \"mode\": \"immediate\", \"transition\": {\"duration\": 300}}], \"label\": \"2000\", \"method\": \"animate\"}, {\"args\": [[2100], {\"frame\": {\"duration\": 300, \"redraw\": false}, \"mode\": \"immediate\", \"transition\": {\"duration\": 300}}], \"label\": \"2100\", \"method\": \"animate\"}, {\"args\": [[2200], {\"frame\": {\"duration\": 300, \"redraw\": false}, \"mode\": \"immediate\", \"transition\": {\"duration\": 300}}], \"label\": \"2200\", \"method\": \"animate\"}, {\"args\": [[2300], {\"frame\": {\"duration\": 300, \"redraw\": false}, \"mode\": \"immediate\", \"transition\": {\"duration\": 300}}], \"label\": \"2300\", \"method\": \"animate\"}], \"transition\": {\"duration\": 300, \"easing\": \"cubic-in-out\"}, \"x\": 0.1, \"xanchor\": \"left\", \"y\": 0, \"yanchor\": \"top\"}], \"title\": {\"text\": \"Crowdedness Counts Amsterdam - 2019-01-01\"}, \"updatemenus\": [{\"buttons\": [{\"args\": [null, {\"frame\": {\"duration\": 500, \"redraw\": false}, \"fromcurrent\": true, \"transition\": {\"duration\": 300, \"easing\": \"quadratic-in-out\"}}], \"label\": \"Play\", \"method\": \"animate\"}, {\"args\": [[null], {\"frame\": {\"duration\": 0, \"redraw\": false}, \"mode\": \"immediate\", \"transition\": {\"duration\": 0}}], \"label\": \"Pause\", \"method\": \"animate\"}], \"direction\": \"left\", \"pad\": {\"r\": 10, \"t\": 87}, \"showactive\": false, \"type\": \"buttons\", \"x\": 0.1, \"xanchor\": \"right\", \"y\": 0, \"yanchor\": \"top\"}], \"xaxis\": {\"autorange\": false, \"range\": [4.896192700000001, 4.9014405000000005], \"title\": {\"text\": \"Sensor Longitude\"}}, \"yaxis\": {\"autorange\": false, \"range\": [52.3706503, 52.3760398], \"title\": {\"text\": \"Sensor Latitude\"}}},\n",
       "                        {\"showLink\": false, \"linkText\": \"Export to plot.ly\", \"plotlyServerURL\": \"https://plot.ly\", \"responsive\": true}\n",
       "                    ).then(function(){\n",
       "                            Plotly.addFrames('badaf990-d734-4fb0-b130-b911e8f7ddcc', [{\"data\": [{\"marker\": {\"size\": [3335], \"sizemode\": \"area\", \"sizeref\": 0.3803125}, \"mode\": \"markers\", \"name\": \"GAWW-01\", \"text\": \"Crowdedness Count: [3335]\", \"x\": [4.8998471], \"y\": [52.3746006], \"type\": \"scatter\"}, {\"marker\": {\"size\": [2247], \"sizemode\": \"area\", \"sizeref\": 0.3803125}, \"mode\": \"markers\", \"name\": \"GAWW-02\", \"text\": \"Crowdedness Count: [2247]\", \"x\": [4.8989027], \"y\": [52.3737857], \"type\": \"scatter\"}, {\"marker\": {\"size\": [1133], \"sizemode\": \"area\", \"sizeref\": 0.3803125}, \"mode\": \"markers\", \"name\": \"GAWW-03\", \"text\": \"Crowdedness Count: [1133]\", \"x\": [4.8973336], \"y\": [52.3725237], \"type\": \"scatter\"}, {\"marker\": {\"size\": [1624], \"sizemode\": \"area\", \"sizeref\": 0.3803125}, \"mode\": \"markers\", \"name\": \"GAWW-04\", \"text\": \"Crowdedness Count: [1624]\", \"x\": [4.897907599999999], \"y\": [52.373283], \"type\": \"scatter\"}, {\"marker\": {\"size\": [3279], \"sizemode\": \"area\", \"sizeref\": 0.3803125}, \"mode\": \"markers\", \"name\": \"GAWW-05\", \"text\": \"Crowdedness Count: [3279]\", \"x\": [4.8977166], \"y\": [52.3723534], \"type\": \"scatter\"}, {\"marker\": {\"size\": [2003], \"sizemode\": \"area\", \"sizeref\": 0.3803125}, \"mode\": \"markers\", \"name\": \"GAWW-06\", \"text\": \"Crowdedness Count: [2003]\", \"x\": [4.8980530999999985], \"y\": [52.372416], \"type\": \"scatter\"}, {\"marker\": {\"size\": [3138], \"sizemode\": \"area\", \"sizeref\": 0.3803125}, \"mode\": \"markers\", \"name\": \"GAWW-07\", \"text\": \"Crowdedness Count: [3138]\", \"x\": [4.9004405], \"y\": [52.37441389999999], \"type\": \"scatter\"}, {\"marker\": {\"size\": [44], \"sizemode\": \"area\", \"sizeref\": 0.3803125}, \"mode\": \"markers\", \"name\": \"GAWW-08\", \"text\": \"Crowdedness Count: [44]\", \"x\": [4.8971927000000015], \"y\": [52.3716503], \"type\": \"scatter\"}, {\"marker\": {\"size\": [71], \"sizemode\": \"area\", \"sizeref\": 0.3803125}, \"mode\": \"markers\", \"name\": \"GAWW-09\", \"text\": \"Crowdedness Count: [71]\", \"x\": [4.8984795], \"y\": [52.3750398], \"type\": \"scatter\"}, {\"marker\": {\"size\": [59], \"sizemode\": \"area\", \"sizeref\": 0.3803125}, \"mode\": \"markers\", \"name\": \"GAWW-10\", \"text\": \"Crowdedness Count: [59]\", \"x\": [4.8988079], \"y\": [52.372369], \"type\": \"scatter\"}], \"name\": \"0\"}, {\"data\": [{\"marker\": {\"size\": [2847], \"sizemode\": \"area\", \"sizeref\": 0.3803125}, \"mode\": \"markers\", \"name\": \"GAWW-01\", \"text\": \"Crowdedness Count: [2847]\", \"x\": [4.8998471], \"y\": [52.3746006], \"type\": \"scatter\"}, {\"marker\": {\"size\": [2184], \"sizemode\": \"area\", \"sizeref\": 0.3803125}, \"mode\": \"markers\", \"name\": \"GAWW-02\", \"text\": \"Crowdedness Count: [2184]\", \"x\": [4.8989027], \"y\": [52.3737857], \"type\": \"scatter\"}, {\"marker\": {\"size\": [969], \"sizemode\": \"area\", \"sizeref\": 0.3803125}, \"mode\": \"markers\", \"name\": \"GAWW-03\", \"text\": \"Crowdedness Count: [969]\", \"x\": [4.8973336], \"y\": [52.3725237], \"type\": \"scatter\"}, {\"marker\": {\"size\": [1647], \"sizemode\": \"area\", \"sizeref\": 0.3803125}, \"mode\": \"markers\", \"name\": \"GAWW-04\", \"text\": \"Crowdedness Count: [1647]\", \"x\": [4.897907599999999], \"y\": [52.373283], \"type\": \"scatter\"}, {\"marker\": {\"size\": [2910], \"sizemode\": \"area\", \"sizeref\": 0.3803125}, \"mode\": \"markers\", \"name\": \"GAWW-05\", \"text\": \"Crowdedness Count: [2910]\", \"x\": [4.8977166], \"y\": [52.3723534], \"type\": \"scatter\"}, {\"marker\": {\"size\": [1954], \"sizemode\": \"area\", \"sizeref\": 0.3803125}, \"mode\": \"markers\", \"name\": \"GAWW-06\", \"text\": \"Crowdedness Count: [1954]\", \"x\": [4.8980530999999985], \"y\": [52.372416], \"type\": \"scatter\"}, {\"marker\": {\"size\": [3335], \"sizemode\": \"area\", \"sizeref\": 0.3803125}, \"mode\": \"markers\", \"name\": \"GAWW-07\", \"text\": \"Crowdedness Count: [3335]\", \"x\": [4.9004405], \"y\": [52.37441389999999], \"type\": \"scatter\"}, {\"marker\": {\"size\": [51], \"sizemode\": \"area\", \"sizeref\": 0.3803125}, \"mode\": \"markers\", \"name\": \"GAWW-08\", \"text\": \"Crowdedness Count: [51]\", \"x\": [4.8971927000000015], \"y\": [52.3716503], \"type\": \"scatter\"}, {\"marker\": {\"size\": [66], \"sizemode\": \"area\", \"sizeref\": 0.3803125}, \"mode\": \"markers\", \"name\": \"GAWW-09\", \"text\": \"Crowdedness Count: [66]\", \"x\": [4.8984795], \"y\": [52.3750398], \"type\": \"scatter\"}, {\"marker\": {\"size\": [59], \"sizemode\": \"area\", \"sizeref\": 0.3803125}, \"mode\": \"markers\", \"name\": \"GAWW-10\", \"text\": \"Crowdedness Count: [59]\", \"x\": [4.8988079], \"y\": [52.372369], \"type\": \"scatter\"}], \"name\": \"100\"}, {\"data\": [{\"marker\": {\"size\": [3614], \"sizemode\": \"area\", \"sizeref\": 0.3803125}, \"mode\": \"markers\", \"name\": \"GAWW-01\", \"text\": \"Crowdedness Count: [3614]\", \"x\": [4.8998471], \"y\": [52.3746006], \"type\": \"scatter\"}, {\"marker\": {\"size\": [2928], \"sizemode\": \"area\", \"sizeref\": 0.3803125}, \"mode\": \"markers\", \"name\": \"GAWW-02\", \"text\": \"Crowdedness Count: [2928]\", \"x\": [4.8989027], \"y\": [52.3737857], \"type\": \"scatter\"}, {\"marker\": {\"size\": [1200], \"sizemode\": \"area\", \"sizeref\": 0.3803125}, \"mode\": \"markers\", \"name\": \"GAWW-03\", \"text\": \"Crowdedness Count: [1200]\", \"x\": [4.8973336], \"y\": [52.3725237], \"type\": \"scatter\"}, {\"marker\": {\"size\": [2486], \"sizemode\": \"area\", \"sizeref\": 0.3803125}, \"mode\": \"markers\", \"name\": \"GAWW-04\", \"text\": \"Crowdedness Count: [2486]\", \"x\": [4.897907599999999], \"y\": [52.373283], \"type\": \"scatter\"}, {\"marker\": {\"size\": [3334], \"sizemode\": \"area\", \"sizeref\": 0.3803125}, \"mode\": \"markers\", \"name\": \"GAWW-05\", \"text\": \"Crowdedness Count: [3334]\", \"x\": [4.8977166], \"y\": [52.3723534], \"type\": \"scatter\"}, {\"marker\": {\"size\": [2373], \"sizemode\": \"area\", \"sizeref\": 0.3803125}, \"mode\": \"markers\", \"name\": \"GAWW-06\", \"text\": \"Crowdedness Count: [2373]\", \"x\": [4.8980530999999985], \"y\": [52.372416], \"type\": \"scatter\"}, {\"marker\": {\"size\": [3651], \"sizemode\": \"area\", \"sizeref\": 0.3803125}, \"mode\": \"markers\", \"name\": \"GAWW-07\", \"text\": \"Crowdedness Count: [3651]\", \"x\": [4.9004405], \"y\": [52.37441389999999], \"type\": \"scatter\"}, {\"marker\": {\"size\": [43], \"sizemode\": \"area\", \"sizeref\": 0.3803125}, \"mode\": \"markers\", \"name\": \"GAWW-08\", \"text\": \"Crowdedness Count: [43]\", \"x\": [4.8971927000000015], \"y\": [52.3716503], \"type\": \"scatter\"}, {\"marker\": {\"size\": [70], \"sizemode\": \"area\", \"sizeref\": 0.3803125}, \"mode\": \"markers\", \"name\": \"GAWW-09\", \"text\": \"Crowdedness Count: [70]\", \"x\": [4.8984795], \"y\": [52.3750398], \"type\": \"scatter\"}, {\"marker\": {\"size\": [56], \"sizemode\": \"area\", \"sizeref\": 0.3803125}, \"mode\": \"markers\", \"name\": \"GAWW-10\", \"text\": \"Crowdedness Count: [56]\", \"x\": [4.8988079], \"y\": [52.372369], \"type\": \"scatter\"}], \"name\": \"200\"}, {\"data\": [{\"marker\": {\"size\": [2788], \"sizemode\": \"area\", \"sizeref\": 0.3803125}, \"mode\": \"markers\", \"name\": \"GAWW-01\", \"text\": \"Crowdedness Count: [2788]\", \"x\": [4.8998471], \"y\": [52.3746006], \"type\": \"scatter\"}, {\"marker\": {\"size\": [2771], \"sizemode\": \"area\", \"sizeref\": 0.3803125}, \"mode\": \"markers\", \"name\": \"GAWW-02\", \"text\": \"Crowdedness Count: [2771]\", \"x\": [4.8989027], \"y\": [52.3737857], \"type\": \"scatter\"}, {\"marker\": {\"size\": [1067], \"sizemode\": \"area\", \"sizeref\": 0.3803125}, \"mode\": \"markers\", \"name\": \"GAWW-03\", \"text\": \"Crowdedness Count: [1067]\", \"x\": [4.8973336], \"y\": [52.3725237], \"type\": \"scatter\"}, {\"marker\": {\"size\": [1306], \"sizemode\": \"area\", \"sizeref\": 0.3803125}, \"mode\": \"markers\", \"name\": \"GAWW-04\", \"text\": \"Crowdedness Count: [1306]\", \"x\": [4.897907599999999], \"y\": [52.373283], \"type\": \"scatter\"}, {\"marker\": {\"size\": [2606], \"sizemode\": \"area\", \"sizeref\": 0.3803125}, \"mode\": \"markers\", \"name\": \"GAWW-05\", \"text\": \"Crowdedness Count: [2606]\", \"x\": [4.8977166], \"y\": [52.3723534], \"type\": \"scatter\"}, {\"marker\": {\"size\": [1915], \"sizemode\": \"area\", \"sizeref\": 0.3803125}, \"mode\": \"markers\", \"name\": \"GAWW-06\", \"text\": \"Crowdedness Count: [1915]\", \"x\": [4.8980530999999985], \"y\": [52.372416], \"type\": \"scatter\"}, {\"marker\": {\"size\": [2694], \"sizemode\": \"area\", \"sizeref\": 0.3803125}, \"mode\": \"markers\", \"name\": \"GAWW-07\", \"text\": \"Crowdedness Count: [2694]\", \"x\": [4.9004405], \"y\": [52.37441389999999], \"type\": \"scatter\"}, {\"marker\": {\"size\": [33], \"sizemode\": \"area\", \"sizeref\": 0.3803125}, \"mode\": \"markers\", \"name\": \"GAWW-08\", \"text\": \"Crowdedness Count: [33]\", \"x\": [4.8971927000000015], \"y\": [52.3716503], \"type\": \"scatter\"}, {\"marker\": {\"size\": [54], \"sizemode\": \"area\", \"sizeref\": 0.3803125}, \"mode\": \"markers\", \"name\": \"GAWW-09\", \"text\": \"Crowdedness Count: [54]\", \"x\": [4.8984795], \"y\": [52.3750398], \"type\": \"scatter\"}, {\"marker\": {\"size\": [57], \"sizemode\": \"area\", \"sizeref\": 0.3803125}, \"mode\": \"markers\", \"name\": \"GAWW-10\", \"text\": \"Crowdedness Count: [57]\", \"x\": [4.8988079], \"y\": [52.372369], \"type\": \"scatter\"}], \"name\": \"300\"}, {\"data\": [{\"marker\": {\"size\": [2109], \"sizemode\": \"area\", \"sizeref\": 0.3803125}, \"mode\": \"markers\", \"name\": \"GAWW-01\", \"text\": \"Crowdedness Count: [2109]\", \"x\": [4.8998471], \"y\": [52.3746006], \"type\": \"scatter\"}, {\"marker\": {\"size\": [1989], \"sizemode\": \"area\", \"sizeref\": 0.3803125}, \"mode\": \"markers\", \"name\": \"GAWW-02\", \"text\": \"Crowdedness Count: [1989]\", \"x\": [4.8989027], \"y\": [52.3737857], \"type\": \"scatter\"}, {\"marker\": {\"size\": [632], \"sizemode\": \"area\", \"sizeref\": 0.3803125}, \"mode\": \"markers\", \"name\": \"GAWW-03\", \"text\": \"Crowdedness Count: [632]\", \"x\": [4.8973336], \"y\": [52.3725237], \"type\": \"scatter\"}, {\"marker\": {\"size\": [935], \"sizemode\": \"area\", \"sizeref\": 0.3803125}, \"mode\": \"markers\", \"name\": \"GAWW-04\", \"text\": \"Crowdedness Count: [935]\", \"x\": [4.897907599999999], \"y\": [52.373283], \"type\": \"scatter\"}, {\"marker\": {\"size\": [2055], \"sizemode\": \"area\", \"sizeref\": 0.3803125}, \"mode\": \"markers\", \"name\": \"GAWW-05\", \"text\": \"Crowdedness Count: [2055]\", \"x\": [4.8977166], \"y\": [52.3723534], \"type\": \"scatter\"}, {\"marker\": {\"size\": [1511], \"sizemode\": \"area\", \"sizeref\": 0.3803125}, \"mode\": \"markers\", \"name\": \"GAWW-06\", \"text\": \"Crowdedness Count: [1511]\", \"x\": [4.8980530999999985], \"y\": [52.372416], \"type\": \"scatter\"}, {\"marker\": {\"size\": [1927], \"sizemode\": \"area\", \"sizeref\": 0.3803125}, \"mode\": \"markers\", \"name\": \"GAWW-07\", \"text\": \"Crowdedness Count: [1927]\", \"x\": [4.9004405], \"y\": [52.37441389999999], \"type\": \"scatter\"}, {\"marker\": {\"size\": [31], \"sizemode\": \"area\", \"sizeref\": 0.3803125}, \"mode\": \"markers\", \"name\": \"GAWW-08\", \"text\": \"Crowdedness Count: [31]\", \"x\": [4.8971927000000015], \"y\": [52.3716503], \"type\": \"scatter\"}, {\"marker\": {\"size\": [45], \"sizemode\": \"area\", \"sizeref\": 0.3803125}, \"mode\": \"markers\", \"name\": \"GAWW-09\", \"text\": \"Crowdedness Count: [45]\", \"x\": [4.8984795], \"y\": [52.3750398], \"type\": \"scatter\"}, {\"marker\": {\"size\": [45], \"sizemode\": \"area\", \"sizeref\": 0.3803125}, \"mode\": \"markers\", \"name\": \"GAWW-10\", \"text\": \"Crowdedness Count: [45]\", \"x\": [4.8988079], \"y\": [52.372369], \"type\": \"scatter\"}], \"name\": \"400\"}, {\"data\": [{\"marker\": {\"size\": [1496], \"sizemode\": \"area\", \"sizeref\": 0.3803125}, \"mode\": \"markers\", \"name\": \"GAWW-01\", \"text\": \"Crowdedness Count: [1496]\", \"x\": [4.8998471], \"y\": [52.3746006], \"type\": \"scatter\"}, {\"marker\": {\"size\": [1404], \"sizemode\": \"area\", \"sizeref\": 0.3803125}, \"mode\": \"markers\", \"name\": \"GAWW-02\", \"text\": \"Crowdedness Count: [1404]\", \"x\": [4.8989027], \"y\": [52.3737857], \"type\": \"scatter\"}, {\"marker\": {\"size\": [311], \"sizemode\": \"area\", \"sizeref\": 0.3803125}, \"mode\": \"markers\", \"name\": \"GAWW-03\", \"text\": \"Crowdedness Count: [311]\", \"x\": [4.8973336], \"y\": [52.3725237], \"type\": \"scatter\"}, {\"marker\": {\"size\": [524], \"sizemode\": \"area\", \"sizeref\": 0.3803125}, \"mode\": \"markers\", \"name\": \"GAWW-04\", \"text\": \"Crowdedness Count: [524]\", \"x\": [4.897907599999999], \"y\": [52.373283], \"type\": \"scatter\"}, {\"marker\": {\"size\": [1287], \"sizemode\": \"area\", \"sizeref\": 0.3803125}, \"mode\": \"markers\", \"name\": \"GAWW-05\", \"text\": \"Crowdedness Count: [1287]\", \"x\": [4.8977166], \"y\": [52.3723534], \"type\": \"scatter\"}, {\"marker\": {\"size\": [1180], \"sizemode\": \"area\", \"sizeref\": 0.3803125}, \"mode\": \"markers\", \"name\": \"GAWW-06\", \"text\": \"Crowdedness Count: [1180]\", \"x\": [4.8980530999999985], \"y\": [52.372416], \"type\": \"scatter\"}, {\"marker\": {\"size\": [1411], \"sizemode\": \"area\", \"sizeref\": 0.3803125}, \"mode\": \"markers\", \"name\": \"GAWW-07\", \"text\": \"Crowdedness Count: [1411]\", \"x\": [4.9004405], \"y\": [52.37441389999999], \"type\": \"scatter\"}, {\"marker\": {\"size\": [25], \"sizemode\": \"area\", \"sizeref\": 0.3803125}, \"mode\": \"markers\", \"name\": \"GAWW-08\", \"text\": \"Crowdedness Count: [25]\", \"x\": [4.8971927000000015], \"y\": [52.3716503], \"type\": \"scatter\"}, {\"marker\": {\"size\": [31], \"sizemode\": \"area\", \"sizeref\": 0.3803125}, \"mode\": \"markers\", \"name\": \"GAWW-09\", \"text\": \"Crowdedness Count: [31]\", \"x\": [4.8984795], \"y\": [52.3750398], \"type\": \"scatter\"}, {\"marker\": {\"size\": [32], \"sizemode\": \"area\", \"sizeref\": 0.3803125}, \"mode\": \"markers\", \"name\": \"GAWW-10\", \"text\": \"Crowdedness Count: [32]\", \"x\": [4.8988079], \"y\": [52.372369], \"type\": \"scatter\"}], \"name\": \"500\"}, {\"data\": [{\"marker\": {\"size\": [863], \"sizemode\": \"area\", \"sizeref\": 0.3803125}, \"mode\": \"markers\", \"name\": \"GAWW-01\", \"text\": \"Crowdedness Count: [863]\", \"x\": [4.8998471], \"y\": [52.3746006], \"type\": \"scatter\"}, {\"marker\": {\"size\": [425], \"sizemode\": \"area\", \"sizeref\": 0.3803125}, \"mode\": \"markers\", \"name\": \"GAWW-02\", \"text\": \"Crowdedness Count: [425]\", \"x\": [4.8989027], \"y\": [52.3737857], \"type\": \"scatter\"}, {\"marker\": {\"size\": [170], \"sizemode\": \"area\", \"sizeref\": 0.3803125}, \"mode\": \"markers\", \"name\": \"GAWW-03\", \"text\": \"Crowdedness Count: [170]\", \"x\": [4.8973336], \"y\": [52.3725237], \"type\": \"scatter\"}, {\"marker\": {\"size\": [398], \"sizemode\": \"area\", \"sizeref\": 0.3803125}, \"mode\": \"markers\", \"name\": \"GAWW-04\", \"text\": \"Crowdedness Count: [398]\", \"x\": [4.897907599999999], \"y\": [52.373283], \"type\": \"scatter\"}, {\"marker\": {\"size\": [612], \"sizemode\": \"area\", \"sizeref\": 0.3803125}, \"mode\": \"markers\", \"name\": \"GAWW-05\", \"text\": \"Crowdedness Count: [612]\", \"x\": [4.8977166], \"y\": [52.3723534], \"type\": \"scatter\"}, {\"marker\": {\"size\": [749], \"sizemode\": \"area\", \"sizeref\": 0.3803125}, \"mode\": \"markers\", \"name\": \"GAWW-06\", \"text\": \"Crowdedness Count: [749]\", \"x\": [4.8980530999999985], \"y\": [52.372416], \"type\": \"scatter\"}, {\"marker\": {\"size\": [698], \"sizemode\": \"area\", \"sizeref\": 0.3803125}, \"mode\": \"markers\", \"name\": \"GAWW-07\", \"text\": \"Crowdedness Count: [698]\", \"x\": [4.9004405], \"y\": [52.37441389999999], \"type\": \"scatter\"}, {\"marker\": {\"size\": [15], \"sizemode\": \"area\", \"sizeref\": 0.3803125}, \"mode\": \"markers\", \"name\": \"GAWW-08\", \"text\": \"Crowdedness Count: [15]\", \"x\": [4.8971927000000015], \"y\": [52.3716503], \"type\": \"scatter\"}, {\"marker\": {\"size\": [32], \"sizemode\": \"area\", \"sizeref\": 0.3803125}, \"mode\": \"markers\", \"name\": \"GAWW-09\", \"text\": \"Crowdedness Count: [32]\", \"x\": [4.8984795], \"y\": [52.3750398], \"type\": \"scatter\"}, {\"marker\": {\"size\": [25], \"sizemode\": \"area\", \"sizeref\": 0.3803125}, \"mode\": \"markers\", \"name\": \"GAWW-10\", \"text\": \"Crowdedness Count: [25]\", \"x\": [4.8988079], \"y\": [52.372369], \"type\": \"scatter\"}], \"name\": \"600\"}, {\"data\": [{\"marker\": {\"size\": [409], \"sizemode\": \"area\", \"sizeref\": 0.3803125}, \"mode\": \"markers\", \"name\": \"GAWW-01\", \"text\": \"Crowdedness Count: [409]\", \"x\": [4.8998471], \"y\": [52.3746006], \"type\": \"scatter\"}, {\"marker\": {\"size\": [106], \"sizemode\": \"area\", \"sizeref\": 0.3803125}, \"mode\": \"markers\", \"name\": \"GAWW-02\", \"text\": \"Crowdedness Count: [106]\", \"x\": [4.8989027], \"y\": [52.3737857], \"type\": \"scatter\"}, {\"marker\": {\"size\": [82], \"sizemode\": \"area\", \"sizeref\": 0.3803125}, \"mode\": \"markers\", \"name\": \"GAWW-03\", \"text\": \"Crowdedness Count: [82]\", \"x\": [4.8973336], \"y\": [52.3725237], \"type\": \"scatter\"}, {\"marker\": {\"size\": [157], \"sizemode\": \"area\", \"sizeref\": 0.3803125}, \"mode\": \"markers\", \"name\": \"GAWW-04\", \"text\": \"Crowdedness Count: [157]\", \"x\": [4.897907599999999], \"y\": [52.373283], \"type\": \"scatter\"}, {\"marker\": {\"size\": [376], \"sizemode\": \"area\", \"sizeref\": 0.3803125}, \"mode\": \"markers\", \"name\": \"GAWW-05\", \"text\": \"Crowdedness Count: [376]\", \"x\": [4.8977166], \"y\": [52.3723534], \"type\": \"scatter\"}, {\"marker\": {\"size\": [225], \"sizemode\": \"area\", \"sizeref\": 0.3803125}, \"mode\": \"markers\", \"name\": \"GAWW-06\", \"text\": \"Crowdedness Count: [225]\", \"x\": [4.8980530999999985], \"y\": [52.372416], \"type\": \"scatter\"}, {\"marker\": {\"size\": [330], \"sizemode\": \"area\", \"sizeref\": 0.3803125}, \"mode\": \"markers\", \"name\": \"GAWW-07\", \"text\": \"Crowdedness Count: [330]\", \"x\": [4.9004405], \"y\": [52.37441389999999], \"type\": \"scatter\"}, {\"marker\": {\"size\": [13], \"sizemode\": \"area\", \"sizeref\": 0.3803125}, \"mode\": \"markers\", \"name\": \"GAWW-08\", \"text\": \"Crowdedness Count: [13]\", \"x\": [4.8971927000000015], \"y\": [52.3716503], \"type\": \"scatter\"}, {\"marker\": {\"size\": [20], \"sizemode\": \"area\", \"sizeref\": 0.3803125}, \"mode\": \"markers\", \"name\": \"GAWW-09\", \"text\": \"Crowdedness Count: [20]\", \"x\": [4.8984795], \"y\": [52.3750398], \"type\": \"scatter\"}, {\"marker\": {\"size\": [14], \"sizemode\": \"area\", \"sizeref\": 0.3803125}, \"mode\": \"markers\", \"name\": \"GAWW-10\", \"text\": \"Crowdedness Count: [14]\", \"x\": [4.8988079], \"y\": [52.372369], \"type\": \"scatter\"}], \"name\": \"700\"}, {\"data\": [{\"marker\": {\"size\": [178], \"sizemode\": \"area\", \"sizeref\": 0.3803125}, \"mode\": \"markers\", \"name\": \"GAWW-01\", \"text\": \"Crowdedness Count: [178]\", \"x\": [4.8998471], \"y\": [52.3746006], \"type\": \"scatter\"}, {\"marker\": {\"size\": [99], \"sizemode\": \"area\", \"sizeref\": 0.3803125}, \"mode\": \"markers\", \"name\": \"GAWW-02\", \"text\": \"Crowdedness Count: [99]\", \"x\": [4.8989027], \"y\": [52.3737857], \"type\": \"scatter\"}, {\"marker\": {\"size\": [44], \"sizemode\": \"area\", \"sizeref\": 0.3803125}, \"mode\": \"markers\", \"name\": \"GAWW-03\", \"text\": \"Crowdedness Count: [44]\", \"x\": [4.8973336], \"y\": [52.3725237], \"type\": \"scatter\"}, {\"marker\": {\"size\": [72], \"sizemode\": \"area\", \"sizeref\": 0.3803125}, \"mode\": \"markers\", \"name\": \"GAWW-04\", \"text\": \"Crowdedness Count: [72]\", \"x\": [4.897907599999999], \"y\": [52.373283], \"type\": \"scatter\"}, {\"marker\": {\"size\": [105], \"sizemode\": \"area\", \"sizeref\": 0.3803125}, \"mode\": \"markers\", \"name\": \"GAWW-05\", \"text\": \"Crowdedness Count: [105]\", \"x\": [4.8977166], \"y\": [52.3723534], \"type\": \"scatter\"}, {\"marker\": {\"size\": [98], \"sizemode\": \"area\", \"sizeref\": 0.3803125}, \"mode\": \"markers\", \"name\": \"GAWW-06\", \"text\": \"Crowdedness Count: [98]\", \"x\": [4.8980530999999985], \"y\": [52.372416], \"type\": \"scatter\"}, {\"marker\": {\"size\": [128], \"sizemode\": \"area\", \"sizeref\": 0.3803125}, \"mode\": \"markers\", \"name\": \"GAWW-07\", \"text\": \"Crowdedness Count: [128]\", \"x\": [4.9004405], \"y\": [52.37441389999999], \"type\": \"scatter\"}, {\"marker\": {\"size\": [9], \"sizemode\": \"area\", \"sizeref\": 0.3803125}, \"mode\": \"markers\", \"name\": \"GAWW-08\", \"text\": \"Crowdedness Count: [9]\", \"x\": [4.8971927000000015], \"y\": [52.3716503], \"type\": \"scatter\"}, {\"marker\": {\"size\": [17], \"sizemode\": \"area\", \"sizeref\": 0.3803125}, \"mode\": \"markers\", \"name\": \"GAWW-09\", \"text\": \"Crowdedness Count: [17]\", \"x\": [4.8984795], \"y\": [52.3750398], \"type\": \"scatter\"}, {\"marker\": {\"size\": [11], \"sizemode\": \"area\", \"sizeref\": 0.3803125}, \"mode\": \"markers\", \"name\": \"GAWW-10\", \"text\": \"Crowdedness Count: [11]\", \"x\": [4.8988079], \"y\": [52.372369], \"type\": \"scatter\"}], \"name\": \"800\"}, {\"data\": [{\"marker\": {\"size\": [154], \"sizemode\": \"area\", \"sizeref\": 0.3803125}, \"mode\": \"markers\", \"name\": \"GAWW-01\", \"text\": \"Crowdedness Count: [154]\", \"x\": [4.8998471], \"y\": [52.3746006], \"type\": \"scatter\"}, {\"marker\": {\"size\": [159], \"sizemode\": \"area\", \"sizeref\": 0.3803125}, \"mode\": \"markers\", \"name\": \"GAWW-02\", \"text\": \"Crowdedness Count: [159]\", \"x\": [4.8989027], \"y\": [52.3737857], \"type\": \"scatter\"}, {\"marker\": {\"size\": [126], \"sizemode\": \"area\", \"sizeref\": 0.3803125}, \"mode\": \"markers\", \"name\": \"GAWW-03\", \"text\": \"Crowdedness Count: [126]\", \"x\": [4.8973336], \"y\": [52.3725237], \"type\": \"scatter\"}, {\"marker\": {\"size\": [48], \"sizemode\": \"area\", \"sizeref\": 0.3803125}, \"mode\": \"markers\", \"name\": \"GAWW-04\", \"text\": \"Crowdedness Count: [48]\", \"x\": [4.897907599999999], \"y\": [52.373283], \"type\": \"scatter\"}, {\"marker\": {\"size\": [86], \"sizemode\": \"area\", \"sizeref\": 0.3803125}, \"mode\": \"markers\", \"name\": \"GAWW-05\", \"text\": \"Crowdedness Count: [86]\", \"x\": [4.8977166], \"y\": [52.3723534], \"type\": \"scatter\"}, {\"marker\": {\"size\": [78], \"sizemode\": \"area\", \"sizeref\": 0.3803125}, \"mode\": \"markers\", \"name\": \"GAWW-06\", \"text\": \"Crowdedness Count: [78]\", \"x\": [4.8980530999999985], \"y\": [52.372416], \"type\": \"scatter\"}, {\"marker\": {\"size\": [116], \"sizemode\": \"area\", \"sizeref\": 0.3803125}, \"mode\": \"markers\", \"name\": \"GAWW-07\", \"text\": \"Crowdedness Count: [116]\", \"x\": [4.9004405], \"y\": [52.37441389999999], \"type\": \"scatter\"}, {\"marker\": {\"size\": [12], \"sizemode\": \"area\", \"sizeref\": 0.3803125}, \"mode\": \"markers\", \"name\": \"GAWW-08\", \"text\": \"Crowdedness Count: [12]\", \"x\": [4.8971927000000015], \"y\": [52.3716503], \"type\": \"scatter\"}, {\"marker\": {\"size\": [16], \"sizemode\": \"area\", \"sizeref\": 0.3803125}, \"mode\": \"markers\", \"name\": \"GAWW-09\", \"text\": \"Crowdedness Count: [16]\", \"x\": [4.8984795], \"y\": [52.3750398], \"type\": \"scatter\"}, {\"marker\": {\"size\": [11], \"sizemode\": \"area\", \"sizeref\": 0.3803125}, \"mode\": \"markers\", \"name\": \"GAWW-10\", \"text\": \"Crowdedness Count: [11]\", \"x\": [4.8988079], \"y\": [52.372369], \"type\": \"scatter\"}], \"name\": \"900\"}, {\"data\": [{\"marker\": {\"size\": [128], \"sizemode\": \"area\", \"sizeref\": 0.3803125}, \"mode\": \"markers\", \"name\": \"GAWW-01\", \"text\": \"Crowdedness Count: [128]\", \"x\": [4.8998471], \"y\": [52.3746006], \"type\": \"scatter\"}, {\"marker\": {\"size\": [382], \"sizemode\": \"area\", \"sizeref\": 0.3803125}, \"mode\": \"markers\", \"name\": \"GAWW-02\", \"text\": \"Crowdedness Count: [382]\", \"x\": [4.8989027], \"y\": [52.3737857], \"type\": \"scatter\"}, {\"marker\": {\"size\": [148], \"sizemode\": \"area\", \"sizeref\": 0.3803125}, \"mode\": \"markers\", \"name\": \"GAWW-03\", \"text\": \"Crowdedness Count: [148]\", \"x\": [4.8973336], \"y\": [52.3725237], \"type\": \"scatter\"}, {\"marker\": {\"size\": [64], \"sizemode\": \"area\", \"sizeref\": 0.3803125}, \"mode\": \"markers\", \"name\": \"GAWW-04\", \"text\": \"Crowdedness Count: [64]\", \"x\": [4.897907599999999], \"y\": [52.373283], \"type\": \"scatter\"}, {\"marker\": {\"size\": [124], \"sizemode\": \"area\", \"sizeref\": 0.3803125}, \"mode\": \"markers\", \"name\": \"GAWW-05\", \"text\": \"Crowdedness Count: [124]\", \"x\": [4.8977166], \"y\": [52.3723534], \"type\": \"scatter\"}, {\"marker\": {\"size\": [129], \"sizemode\": \"area\", \"sizeref\": 0.3803125}, \"mode\": \"markers\", \"name\": \"GAWW-06\", \"text\": \"Crowdedness Count: [129]\", \"x\": [4.8980530999999985], \"y\": [52.372416], \"type\": \"scatter\"}, {\"marker\": {\"size\": [115], \"sizemode\": \"area\", \"sizeref\": 0.3803125}, \"mode\": \"markers\", \"name\": \"GAWW-07\", \"text\": \"Crowdedness Count: [115]\", \"x\": [4.9004405], \"y\": [52.37441389999999], \"type\": \"scatter\"}, {\"marker\": {\"size\": [11], \"sizemode\": \"area\", \"sizeref\": 0.3803125}, \"mode\": \"markers\", \"name\": \"GAWW-08\", \"text\": \"Crowdedness Count: [11]\", \"x\": [4.8971927000000015], \"y\": [52.3716503], \"type\": \"scatter\"}, {\"marker\": {\"size\": [16], \"sizemode\": \"area\", \"sizeref\": 0.3803125}, \"mode\": \"markers\", \"name\": \"GAWW-09\", \"text\": \"Crowdedness Count: [16]\", \"x\": [4.8984795], \"y\": [52.3750398], \"type\": \"scatter\"}, {\"marker\": {\"size\": [12], \"sizemode\": \"area\", \"sizeref\": 0.3803125}, \"mode\": \"markers\", \"name\": \"GAWW-10\", \"text\": \"Crowdedness Count: [12]\", \"x\": [4.8988079], \"y\": [52.372369], \"type\": \"scatter\"}], \"name\": \"1000\"}, {\"data\": [{\"marker\": {\"size\": [315], \"sizemode\": \"area\", \"sizeref\": 0.3803125}, \"mode\": \"markers\", \"name\": \"GAWW-01\", \"text\": \"Crowdedness Count: [315]\", \"x\": [4.8998471], \"y\": [52.3746006], \"type\": \"scatter\"}, {\"marker\": {\"size\": [565], \"sizemode\": \"area\", \"sizeref\": 0.3803125}, \"mode\": \"markers\", \"name\": \"GAWW-02\", \"text\": \"Crowdedness Count: [565]\", \"x\": [4.8989027], \"y\": [52.3737857], \"type\": \"scatter\"}, {\"marker\": {\"size\": [295], \"sizemode\": \"area\", \"sizeref\": 0.3803125}, \"mode\": \"markers\", \"name\": \"GAWW-03\", \"text\": \"Crowdedness Count: [295]\", \"x\": [4.8973336], \"y\": [52.3725237], \"type\": \"scatter\"}, {\"marker\": {\"size\": [92], \"sizemode\": \"area\", \"sizeref\": 0.3803125}, \"mode\": \"markers\", \"name\": \"GAWW-04\", \"text\": \"Crowdedness Count: [92]\", \"x\": [4.897907599999999], \"y\": [52.373283], \"type\": \"scatter\"}, {\"marker\": {\"size\": [199], \"sizemode\": \"area\", \"sizeref\": 0.3803125}, \"mode\": \"markers\", \"name\": \"GAWW-05\", \"text\": \"Crowdedness Count: [199]\", \"x\": [4.8977166], \"y\": [52.3723534], \"type\": \"scatter\"}, {\"marker\": {\"size\": [158], \"sizemode\": \"area\", \"sizeref\": 0.3803125}, \"mode\": \"markers\", \"name\": \"GAWW-06\", \"text\": \"Crowdedness Count: [158]\", \"x\": [4.8980530999999985], \"y\": [52.372416], \"type\": \"scatter\"}, {\"marker\": {\"size\": [240], \"sizemode\": \"area\", \"sizeref\": 0.3803125}, \"mode\": \"markers\", \"name\": \"GAWW-07\", \"text\": \"Crowdedness Count: [240]\", \"x\": [4.9004405], \"y\": [52.37441389999999], \"type\": \"scatter\"}, {\"marker\": {\"size\": [11], \"sizemode\": \"area\", \"sizeref\": 0.3803125}, \"mode\": \"markers\", \"name\": \"GAWW-08\", \"text\": \"Crowdedness Count: [11]\", \"x\": [4.8971927000000015], \"y\": [52.3716503], \"type\": \"scatter\"}, {\"marker\": {\"size\": [20], \"sizemode\": \"area\", \"sizeref\": 0.3803125}, \"mode\": \"markers\", \"name\": \"GAWW-09\", \"text\": \"Crowdedness Count: [20]\", \"x\": [4.8984795], \"y\": [52.3750398], \"type\": \"scatter\"}, {\"marker\": {\"size\": [16], \"sizemode\": \"area\", \"sizeref\": 0.3803125}, \"mode\": \"markers\", \"name\": \"GAWW-10\", \"text\": \"Crowdedness Count: [16]\", \"x\": [4.8988079], \"y\": [52.372369], \"type\": \"scatter\"}], \"name\": \"1100\"}, {\"data\": [{\"marker\": {\"size\": [778], \"sizemode\": \"area\", \"sizeref\": 0.3803125}, \"mode\": \"markers\", \"name\": \"GAWW-01\", \"text\": \"Crowdedness Count: [778]\", \"x\": [4.8998471], \"y\": [52.3746006], \"type\": \"scatter\"}, {\"marker\": {\"size\": [1103], \"sizemode\": \"area\", \"sizeref\": 0.3803125}, \"mode\": \"markers\", \"name\": \"GAWW-02\", \"text\": \"Crowdedness Count: [1103]\", \"x\": [4.8989027], \"y\": [52.3737857], \"type\": \"scatter\"}, {\"marker\": {\"size\": [667], \"sizemode\": \"area\", \"sizeref\": 0.3803125}, \"mode\": \"markers\", \"name\": \"GAWW-03\", \"text\": \"Crowdedness Count: [667]\", \"x\": [4.8973336], \"y\": [52.3725237], \"type\": \"scatter\"}, {\"marker\": {\"size\": [197], \"sizemode\": \"area\", \"sizeref\": 0.3803125}, \"mode\": \"markers\", \"name\": \"GAWW-04\", \"text\": \"Crowdedness Count: [197]\", \"x\": [4.897907599999999], \"y\": [52.373283], \"type\": \"scatter\"}, {\"marker\": {\"size\": [447], \"sizemode\": \"area\", \"sizeref\": 0.3803125}, \"mode\": \"markers\", \"name\": \"GAWW-05\", \"text\": \"Crowdedness Count: [447]\", \"x\": [4.8977166], \"y\": [52.3723534], \"type\": \"scatter\"}, {\"marker\": {\"size\": [436], \"sizemode\": \"area\", \"sizeref\": 0.3803125}, \"mode\": \"markers\", \"name\": \"GAWW-06\", \"text\": \"Crowdedness Count: [436]\", \"x\": [4.8980530999999985], \"y\": [52.372416], \"type\": \"scatter\"}, {\"marker\": {\"size\": [642], \"sizemode\": \"area\", \"sizeref\": 0.3803125}, \"mode\": \"markers\", \"name\": \"GAWW-07\", \"text\": \"Crowdedness Count: [642]\", \"x\": [4.9004405], \"y\": [52.37441389999999], \"type\": \"scatter\"}, {\"marker\": {\"size\": [14], \"sizemode\": \"area\", \"sizeref\": 0.3803125}, \"mode\": \"markers\", \"name\": \"GAWW-08\", \"text\": \"Crowdedness Count: [14]\", \"x\": [4.8971927000000015], \"y\": [52.3716503], \"type\": \"scatter\"}, {\"marker\": {\"size\": [23], \"sizemode\": \"area\", \"sizeref\": 0.3803125}, \"mode\": \"markers\", \"name\": \"GAWW-09\", \"text\": \"Crowdedness Count: [23]\", \"x\": [4.8984795], \"y\": [52.3750398], \"type\": \"scatter\"}, {\"marker\": {\"size\": [17], \"sizemode\": \"area\", \"sizeref\": 0.3803125}, \"mode\": \"markers\", \"name\": \"GAWW-10\", \"text\": \"Crowdedness Count: [17]\", \"x\": [4.8988079], \"y\": [52.372369], \"type\": \"scatter\"}], \"name\": \"1200\"}, {\"data\": [{\"marker\": {\"size\": [1325], \"sizemode\": \"area\", \"sizeref\": 0.3803125}, \"mode\": \"markers\", \"name\": \"GAWW-01\", \"text\": \"Crowdedness Count: [1325]\", \"x\": [4.8998471], \"y\": [52.3746006], \"type\": \"scatter\"}, {\"marker\": {\"size\": [1469], \"sizemode\": \"area\", \"sizeref\": 0.3803125}, \"mode\": \"markers\", \"name\": \"GAWW-02\", \"text\": \"Crowdedness Count: [1469]\", \"x\": [4.8989027], \"y\": [52.3737857], \"type\": \"scatter\"}, {\"marker\": {\"size\": [830], \"sizemode\": \"area\", \"sizeref\": 0.3803125}, \"mode\": \"markers\", \"name\": \"GAWW-03\", \"text\": \"Crowdedness Count: [830]\", \"x\": [4.8973336], \"y\": [52.3725237], \"type\": \"scatter\"}, {\"marker\": {\"size\": [296], \"sizemode\": \"area\", \"sizeref\": 0.3803125}, \"mode\": \"markers\", \"name\": \"GAWW-04\", \"text\": \"Crowdedness Count: [296]\", \"x\": [4.897907599999999], \"y\": [52.373283], \"type\": \"scatter\"}, {\"marker\": {\"size\": [878], \"sizemode\": \"area\", \"sizeref\": 0.3803125}, \"mode\": \"markers\", \"name\": \"GAWW-05\", \"text\": \"Crowdedness Count: [878]\", \"x\": [4.8977166], \"y\": [52.3723534], \"type\": \"scatter\"}, {\"marker\": {\"size\": [603], \"sizemode\": \"area\", \"sizeref\": 0.3803125}, \"mode\": \"markers\", \"name\": \"GAWW-06\", \"text\": \"Crowdedness Count: [603]\", \"x\": [4.8980530999999985], \"y\": [52.372416], \"type\": \"scatter\"}, {\"marker\": {\"size\": [929], \"sizemode\": \"area\", \"sizeref\": 0.3803125}, \"mode\": \"markers\", \"name\": \"GAWW-07\", \"text\": \"Crowdedness Count: [929]\", \"x\": [4.9004405], \"y\": [52.37441389999999], \"type\": \"scatter\"}, {\"marker\": {\"size\": [19], \"sizemode\": \"area\", \"sizeref\": 0.3803125}, \"mode\": \"markers\", \"name\": \"GAWW-08\", \"text\": \"Crowdedness Count: [19]\", \"x\": [4.8971927000000015], \"y\": [52.3716503], \"type\": \"scatter\"}, {\"marker\": {\"size\": [36], \"sizemode\": \"area\", \"sizeref\": 0.3803125}, \"mode\": \"markers\", \"name\": \"GAWW-09\", \"text\": \"Crowdedness Count: [36]\", \"x\": [4.8984795], \"y\": [52.3750398], \"type\": \"scatter\"}, {\"marker\": {\"size\": [24], \"sizemode\": \"area\", \"sizeref\": 0.3803125}, \"mode\": \"markers\", \"name\": \"GAWW-10\", \"text\": \"Crowdedness Count: [24]\", \"x\": [4.8988079], \"y\": [52.372369], \"type\": \"scatter\"}], \"name\": \"1300\"}, {\"data\": [{\"marker\": {\"size\": [1705], \"sizemode\": \"area\", \"sizeref\": 0.3803125}, \"mode\": \"markers\", \"name\": \"GAWW-01\", \"text\": \"Crowdedness Count: [1705]\", \"x\": [4.8998471], \"y\": [52.3746006], \"type\": \"scatter\"}, {\"marker\": {\"size\": [1978], \"sizemode\": \"area\", \"sizeref\": 0.3803125}, \"mode\": \"markers\", \"name\": \"GAWW-02\", \"text\": \"Crowdedness Count: [1978]\", \"x\": [4.8989027], \"y\": [52.3737857], \"type\": \"scatter\"}, {\"marker\": {\"size\": [1064], \"sizemode\": \"area\", \"sizeref\": 0.3803125}, \"mode\": \"markers\", \"name\": \"GAWW-03\", \"text\": \"Crowdedness Count: [1064]\", \"x\": [4.8973336], \"y\": [52.3725237], \"type\": \"scatter\"}, {\"marker\": {\"size\": [422], \"sizemode\": \"area\", \"sizeref\": 0.3803125}, \"mode\": \"markers\", \"name\": \"GAWW-04\", \"text\": \"Crowdedness Count: [422]\", \"x\": [4.897907599999999], \"y\": [52.373283], \"type\": \"scatter\"}, {\"marker\": {\"size\": [1300], \"sizemode\": \"area\", \"sizeref\": 0.3803125}, \"mode\": \"markers\", \"name\": \"GAWW-05\", \"text\": \"Crowdedness Count: [1300]\", \"x\": [4.8977166], \"y\": [52.3723534], \"type\": \"scatter\"}, {\"marker\": {\"size\": [1002], \"sizemode\": \"area\", \"sizeref\": 0.3803125}, \"mode\": \"markers\", \"name\": \"GAWW-06\", \"text\": \"Crowdedness Count: [1002]\", \"x\": [4.8980530999999985], \"y\": [52.372416], \"type\": \"scatter\"}, {\"marker\": {\"size\": [1218], \"sizemode\": \"area\", \"sizeref\": 0.3803125}, \"mode\": \"markers\", \"name\": \"GAWW-07\", \"text\": \"Crowdedness Count: [1218]\", \"x\": [4.9004405], \"y\": [52.37441389999999], \"type\": \"scatter\"}, {\"marker\": {\"size\": [24], \"sizemode\": \"area\", \"sizeref\": 0.3803125}, \"mode\": \"markers\", \"name\": \"GAWW-08\", \"text\": \"Crowdedness Count: [24]\", \"x\": [4.8971927000000015], \"y\": [52.3716503], \"type\": \"scatter\"}, {\"marker\": {\"size\": [40], \"sizemode\": \"area\", \"sizeref\": 0.3803125}, \"mode\": \"markers\", \"name\": \"GAWW-09\", \"text\": \"Crowdedness Count: [40]\", \"x\": [4.8984795], \"y\": [52.3750398], \"type\": \"scatter\"}, {\"marker\": {\"size\": [24], \"sizemode\": \"area\", \"sizeref\": 0.3803125}, \"mode\": \"markers\", \"name\": \"GAWW-10\", \"text\": \"Crowdedness Count: [24]\", \"x\": [4.8988079], \"y\": [52.372369], \"type\": \"scatter\"}], \"name\": \"1400\"}, {\"data\": [{\"marker\": {\"size\": [1872], \"sizemode\": \"area\", \"sizeref\": 0.3803125}, \"mode\": \"markers\", \"name\": \"GAWW-01\", \"text\": \"Crowdedness Count: [1872]\", \"x\": [4.8998471], \"y\": [52.3746006], \"type\": \"scatter\"}, {\"marker\": {\"size\": [2464], \"sizemode\": \"area\", \"sizeref\": 0.3803125}, \"mode\": \"markers\", \"name\": \"GAWW-02\", \"text\": \"Crowdedness Count: [2464]\", \"x\": [4.8989027], \"y\": [52.3737857], \"type\": \"scatter\"}, {\"marker\": {\"size\": [1359], \"sizemode\": \"area\", \"sizeref\": 0.3803125}, \"mode\": \"markers\", \"name\": \"GAWW-03\", \"text\": \"Crowdedness Count: [1359]\", \"x\": [4.8973336], \"y\": [52.3725237], \"type\": \"scatter\"}, {\"marker\": {\"size\": [493], \"sizemode\": \"area\", \"sizeref\": 0.3803125}, \"mode\": \"markers\", \"name\": \"GAWW-04\", \"text\": \"Crowdedness Count: [493]\", \"x\": [4.897907599999999], \"y\": [52.373283], \"type\": \"scatter\"}, {\"marker\": {\"size\": [1572], \"sizemode\": \"area\", \"sizeref\": 0.3803125}, \"mode\": \"markers\", \"name\": \"GAWW-05\", \"text\": \"Crowdedness Count: [1572]\", \"x\": [4.8977166], \"y\": [52.3723534], \"type\": \"scatter\"}, {\"marker\": {\"size\": [1061], \"sizemode\": \"area\", \"sizeref\": 0.3803125}, \"mode\": \"markers\", \"name\": \"GAWW-06\", \"text\": \"Crowdedness Count: [1061]\", \"x\": [4.8980530999999985], \"y\": [52.372416], \"type\": \"scatter\"}, {\"marker\": {\"size\": [1566], \"sizemode\": \"area\", \"sizeref\": 0.3803125}, \"mode\": \"markers\", \"name\": \"GAWW-07\", \"text\": \"Crowdedness Count: [1566]\", \"x\": [4.9004405], \"y\": [52.37441389999999], \"type\": \"scatter\"}, {\"marker\": {\"size\": [26], \"sizemode\": \"area\", \"sizeref\": 0.3803125}, \"mode\": \"markers\", \"name\": \"GAWW-08\", \"text\": \"Crowdedness Count: [26]\", \"x\": [4.8971927000000015], \"y\": [52.3716503], \"type\": \"scatter\"}, {\"marker\": {\"size\": [52], \"sizemode\": \"area\", \"sizeref\": 0.3803125}, \"mode\": \"markers\", \"name\": \"GAWW-09\", \"text\": \"Crowdedness Count: [52]\", \"x\": [4.8984795], \"y\": [52.3750398], \"type\": \"scatter\"}, {\"marker\": {\"size\": [29], \"sizemode\": \"area\", \"sizeref\": 0.3803125}, \"mode\": \"markers\", \"name\": \"GAWW-10\", \"text\": \"Crowdedness Count: [29]\", \"x\": [4.8988079], \"y\": [52.372369], \"type\": \"scatter\"}], \"name\": \"1500\"}, {\"data\": [{\"marker\": {\"size\": [2182], \"sizemode\": \"area\", \"sizeref\": 0.3803125}, \"mode\": \"markers\", \"name\": \"GAWW-01\", \"text\": \"Crowdedness Count: [2182]\", \"x\": [4.8998471], \"y\": [52.3746006], \"type\": \"scatter\"}, {\"marker\": {\"size\": [2254], \"sizemode\": \"area\", \"sizeref\": 0.3803125}, \"mode\": \"markers\", \"name\": \"GAWW-02\", \"text\": \"Crowdedness Count: [2254]\", \"x\": [4.8989027], \"y\": [52.3737857], \"type\": \"scatter\"}, {\"marker\": {\"size\": [1519], \"sizemode\": \"area\", \"sizeref\": 0.3803125}, \"mode\": \"markers\", \"name\": \"GAWW-03\", \"text\": \"Crowdedness Count: [1519]\", \"x\": [4.8973336], \"y\": [52.3725237], \"type\": \"scatter\"}, {\"marker\": {\"size\": [570], \"sizemode\": \"area\", \"sizeref\": 0.3803125}, \"mode\": \"markers\", \"name\": \"GAWW-04\", \"text\": \"Crowdedness Count: [570]\", \"x\": [4.897907599999999], \"y\": [52.373283], \"type\": \"scatter\"}, {\"marker\": {\"size\": [1811], \"sizemode\": \"area\", \"sizeref\": 0.3803125}, \"mode\": \"markers\", \"name\": \"GAWW-05\", \"text\": \"Crowdedness Count: [1811]\", \"x\": [4.8977166], \"y\": [52.3723534], \"type\": \"scatter\"}, {\"marker\": {\"size\": [1304], \"sizemode\": \"area\", \"sizeref\": 0.3803125}, \"mode\": \"markers\", \"name\": \"GAWW-06\", \"text\": \"Crowdedness Count: [1304]\", \"x\": [4.8980530999999985], \"y\": [52.372416], \"type\": \"scatter\"}, {\"marker\": {\"size\": [1556], \"sizemode\": \"area\", \"sizeref\": 0.3803125}, \"mode\": \"markers\", \"name\": \"GAWW-07\", \"text\": \"Crowdedness Count: [1556]\", \"x\": [4.9004405], \"y\": [52.37441389999999], \"type\": \"scatter\"}, {\"marker\": {\"size\": [29], \"sizemode\": \"area\", \"sizeref\": 0.3803125}, \"mode\": \"markers\", \"name\": \"GAWW-08\", \"text\": \"Crowdedness Count: [29]\", \"x\": [4.8971927000000015], \"y\": [52.3716503], \"type\": \"scatter\"}, {\"marker\": {\"size\": [62], \"sizemode\": \"area\", \"sizeref\": 0.3803125}, \"mode\": \"markers\", \"name\": \"GAWW-09\", \"text\": \"Crowdedness Count: [62]\", \"x\": [4.8984795], \"y\": [52.3750398], \"type\": \"scatter\"}, {\"marker\": {\"size\": [24], \"sizemode\": \"area\", \"sizeref\": 0.3803125}, \"mode\": \"markers\", \"name\": \"GAWW-10\", \"text\": \"Crowdedness Count: [24]\", \"x\": [4.8988079], \"y\": [52.372369], \"type\": \"scatter\"}], \"name\": \"1600\"}, {\"data\": [{\"marker\": {\"size\": [2265], \"sizemode\": \"area\", \"sizeref\": 0.3803125}, \"mode\": \"markers\", \"name\": \"GAWW-01\", \"text\": \"Crowdedness Count: [2265]\", \"x\": [4.8998471], \"y\": [52.3746006], \"type\": \"scatter\"}, {\"marker\": {\"size\": [2631], \"sizemode\": \"area\", \"sizeref\": 0.3803125}, \"mode\": \"markers\", \"name\": \"GAWW-02\", \"text\": \"Crowdedness Count: [2631]\", \"x\": [4.8989027], \"y\": [52.3737857], \"type\": \"scatter\"}, {\"marker\": {\"size\": [1194], \"sizemode\": \"area\", \"sizeref\": 0.3803125}, \"mode\": \"markers\", \"name\": \"GAWW-03\", \"text\": \"Crowdedness Count: [1194]\", \"x\": [4.8973336], \"y\": [52.3725237], \"type\": \"scatter\"}, {\"marker\": {\"size\": [625], \"sizemode\": \"area\", \"sizeref\": 0.3803125}, \"mode\": \"markers\", \"name\": \"GAWW-04\", \"text\": \"Crowdedness Count: [625]\", \"x\": [4.897907599999999], \"y\": [52.373283], \"type\": \"scatter\"}, {\"marker\": {\"size\": [2055], \"sizemode\": \"area\", \"sizeref\": 0.3803125}, \"mode\": \"markers\", \"name\": \"GAWW-05\", \"text\": \"Crowdedness Count: [2055]\", \"x\": [4.8977166], \"y\": [52.3723534], \"type\": \"scatter\"}, {\"marker\": {\"size\": [1306], \"sizemode\": \"area\", \"sizeref\": 0.3803125}, \"mode\": \"markers\", \"name\": \"GAWW-06\", \"text\": \"Crowdedness Count: [1306]\", \"x\": [4.8980530999999985], \"y\": [52.372416], \"type\": \"scatter\"}, {\"marker\": {\"size\": [1824], \"sizemode\": \"area\", \"sizeref\": 0.3803125}, \"mode\": \"markers\", \"name\": \"GAWW-07\", \"text\": \"Crowdedness Count: [1824]\", \"x\": [4.9004405], \"y\": [52.37441389999999], \"type\": \"scatter\"}, {\"marker\": {\"size\": [25], \"sizemode\": \"area\", \"sizeref\": 0.3803125}, \"mode\": \"markers\", \"name\": \"GAWW-08\", \"text\": \"Crowdedness Count: [25]\", \"x\": [4.8971927000000015], \"y\": [52.3716503], \"type\": \"scatter\"}, {\"marker\": {\"size\": [56], \"sizemode\": \"area\", \"sizeref\": 0.3803125}, \"mode\": \"markers\", \"name\": \"GAWW-09\", \"text\": \"Crowdedness Count: [56]\", \"x\": [4.8984795], \"y\": [52.3750398], \"type\": \"scatter\"}, {\"marker\": {\"size\": [27], \"sizemode\": \"area\", \"sizeref\": 0.3803125}, \"mode\": \"markers\", \"name\": \"GAWW-10\", \"text\": \"Crowdedness Count: [27]\", \"x\": [4.8988079], \"y\": [52.372369], \"type\": \"scatter\"}], \"name\": \"1700\"}, {\"data\": [{\"marker\": {\"size\": [2444], \"sizemode\": \"area\", \"sizeref\": 0.3803125}, \"mode\": \"markers\", \"name\": \"GAWW-01\", \"text\": \"Crowdedness Count: [2444]\", \"x\": [4.8998471], \"y\": [52.3746006], \"type\": \"scatter\"}, {\"marker\": {\"size\": [3052], \"sizemode\": \"area\", \"sizeref\": 0.3803125}, \"mode\": \"markers\", \"name\": \"GAWW-02\", \"text\": \"Crowdedness Count: [3052]\", \"x\": [4.8989027], \"y\": [52.3737857], \"type\": \"scatter\"}, {\"marker\": {\"size\": [1424], \"sizemode\": \"area\", \"sizeref\": 0.3803125}, \"mode\": \"markers\", \"name\": \"GAWW-03\", \"text\": \"Crowdedness Count: [1424]\", \"x\": [4.8973336], \"y\": [52.3725237], \"type\": \"scatter\"}, {\"marker\": {\"size\": [631], \"sizemode\": \"area\", \"sizeref\": 0.3803125}, \"mode\": \"markers\", \"name\": \"GAWW-04\", \"text\": \"Crowdedness Count: [631]\", \"x\": [4.897907599999999], \"y\": [52.373283], \"type\": \"scatter\"}, {\"marker\": {\"size\": [2679], \"sizemode\": \"area\", \"sizeref\": 0.3803125}, \"mode\": \"markers\", \"name\": \"GAWW-05\", \"text\": \"Crowdedness Count: [2679]\", \"x\": [4.8977166], \"y\": [52.3723534], \"type\": \"scatter\"}, {\"marker\": {\"size\": [1311], \"sizemode\": \"area\", \"sizeref\": 0.3803125}, \"mode\": \"markers\", \"name\": \"GAWW-06\", \"text\": \"Crowdedness Count: [1311]\", \"x\": [4.8980530999999985], \"y\": [52.372416], \"type\": \"scatter\"}, {\"marker\": {\"size\": [2118], \"sizemode\": \"area\", \"sizeref\": 0.3803125}, \"mode\": \"markers\", \"name\": \"GAWW-07\", \"text\": \"Crowdedness Count: [2118]\", \"x\": [4.9004405], \"y\": [52.37441389999999], \"type\": \"scatter\"}, {\"marker\": {\"size\": [28], \"sizemode\": \"area\", \"sizeref\": 0.3803125}, \"mode\": \"markers\", \"name\": \"GAWW-08\", \"text\": \"Crowdedness Count: [28]\", \"x\": [4.8971927000000015], \"y\": [52.3716503], \"type\": \"scatter\"}, {\"marker\": {\"size\": [51], \"sizemode\": \"area\", \"sizeref\": 0.3803125}, \"mode\": \"markers\", \"name\": \"GAWW-09\", \"text\": \"Crowdedness Count: [51]\", \"x\": [4.8984795], \"y\": [52.3750398], \"type\": \"scatter\"}, {\"marker\": {\"size\": [33], \"sizemode\": \"area\", \"sizeref\": 0.3803125}, \"mode\": \"markers\", \"name\": \"GAWW-10\", \"text\": \"Crowdedness Count: [33]\", \"x\": [4.8988079], \"y\": [52.372369], \"type\": \"scatter\"}], \"name\": \"1800\"}, {\"data\": [{\"marker\": {\"size\": [2536], \"sizemode\": \"area\", \"sizeref\": 0.3803125}, \"mode\": \"markers\", \"name\": \"GAWW-01\", \"text\": \"Crowdedness Count: [2536]\", \"x\": [4.8998471], \"y\": [52.3746006], \"type\": \"scatter\"}, {\"marker\": {\"size\": [1956], \"sizemode\": \"area\", \"sizeref\": 0.3803125}, \"mode\": \"markers\", \"name\": \"GAWW-02\", \"text\": \"Crowdedness Count: [1956]\", \"x\": [4.8989027], \"y\": [52.3737857], \"type\": \"scatter\"}, {\"marker\": {\"size\": [1053], \"sizemode\": \"area\", \"sizeref\": 0.3803125}, \"mode\": \"markers\", \"name\": \"GAWW-03\", \"text\": \"Crowdedness Count: [1053]\", \"x\": [4.8973336], \"y\": [52.3725237], \"type\": \"scatter\"}, {\"marker\": {\"size\": [600], \"sizemode\": \"area\", \"sizeref\": 0.3803125}, \"mode\": \"markers\", \"name\": \"GAWW-04\", \"text\": \"Crowdedness Count: [600]\", \"x\": [4.897907599999999], \"y\": [52.373283], \"type\": \"scatter\"}, {\"marker\": {\"size\": [2764], \"sizemode\": \"area\", \"sizeref\": 0.3803125}, \"mode\": \"markers\", \"name\": \"GAWW-05\", \"text\": \"Crowdedness Count: [2764]\", \"x\": [4.8977166], \"y\": [52.3723534], \"type\": \"scatter\"}, {\"marker\": {\"size\": [1414], \"sizemode\": \"area\", \"sizeref\": 0.3803125}, \"mode\": \"markers\", \"name\": \"GAWW-06\", \"text\": \"Crowdedness Count: [1414]\", \"x\": [4.8980530999999985], \"y\": [52.372416], \"type\": \"scatter\"}, {\"marker\": {\"size\": [2087], \"sizemode\": \"area\", \"sizeref\": 0.3803125}, \"mode\": \"markers\", \"name\": \"GAWW-07\", \"text\": \"Crowdedness Count: [2087]\", \"x\": [4.9004405], \"y\": [52.37441389999999], \"type\": \"scatter\"}, {\"marker\": {\"size\": [29], \"sizemode\": \"area\", \"sizeref\": 0.3803125}, \"mode\": \"markers\", \"name\": \"GAWW-08\", \"text\": \"Crowdedness Count: [29]\", \"x\": [4.8971927000000015], \"y\": [52.3716503], \"type\": \"scatter\"}, {\"marker\": {\"size\": [51], \"sizemode\": \"area\", \"sizeref\": 0.3803125}, \"mode\": \"markers\", \"name\": \"GAWW-09\", \"text\": \"Crowdedness Count: [51]\", \"x\": [4.8984795], \"y\": [52.3750398], \"type\": \"scatter\"}, {\"marker\": {\"size\": [34], \"sizemode\": \"area\", \"sizeref\": 0.3803125}, \"mode\": \"markers\", \"name\": \"GAWW-10\", \"text\": \"Crowdedness Count: [34]\", \"x\": [4.8988079], \"y\": [52.372369], \"type\": \"scatter\"}], \"name\": \"1900\"}, {\"data\": [{\"marker\": {\"size\": [2297], \"sizemode\": \"area\", \"sizeref\": 0.3803125}, \"mode\": \"markers\", \"name\": \"GAWW-01\", \"text\": \"Crowdedness Count: [2297]\", \"x\": [4.8998471], \"y\": [52.3746006], \"type\": \"scatter\"}, {\"marker\": {\"size\": [2289], \"sizemode\": \"area\", \"sizeref\": 0.3803125}, \"mode\": \"markers\", \"name\": \"GAWW-02\", \"text\": \"Crowdedness Count: [2289]\", \"x\": [4.8989027], \"y\": [52.3737857], \"type\": \"scatter\"}, {\"marker\": {\"size\": [1341], \"sizemode\": \"area\", \"sizeref\": 0.3803125}, \"mode\": \"markers\", \"name\": \"GAWW-03\", \"text\": \"Crowdedness Count: [1341]\", \"x\": [4.8973336], \"y\": [52.3725237], \"type\": \"scatter\"}, {\"marker\": {\"size\": [494], \"sizemode\": \"area\", \"sizeref\": 0.3803125}, \"mode\": \"markers\", \"name\": \"GAWW-04\", \"text\": \"Crowdedness Count: [494]\", \"x\": [4.897907599999999], \"y\": [52.373283], \"type\": \"scatter\"}, {\"marker\": {\"size\": [2297], \"sizemode\": \"area\", \"sizeref\": 0.3803125}, \"mode\": \"markers\", \"name\": \"GAWW-05\", \"text\": \"Crowdedness Count: [2297]\", \"x\": [4.8977166], \"y\": [52.3723534], \"type\": \"scatter\"}, {\"marker\": {\"size\": [1332], \"sizemode\": \"area\", \"sizeref\": 0.3803125}, \"mode\": \"markers\", \"name\": \"GAWW-06\", \"text\": \"Crowdedness Count: [1332]\", \"x\": [4.8980530999999985], \"y\": [52.372416], \"type\": \"scatter\"}, {\"marker\": {\"size\": [1828], \"sizemode\": \"area\", \"sizeref\": 0.3803125}, \"mode\": \"markers\", \"name\": \"GAWW-07\", \"text\": \"Crowdedness Count: [1828]\", \"x\": [4.9004405], \"y\": [52.37441389999999], \"type\": \"scatter\"}, {\"marker\": {\"size\": [32], \"sizemode\": \"area\", \"sizeref\": 0.3803125}, \"mode\": \"markers\", \"name\": \"GAWW-08\", \"text\": \"Crowdedness Count: [32]\", \"x\": [4.8971927000000015], \"y\": [52.3716503], \"type\": \"scatter\"}, {\"marker\": {\"size\": [56], \"sizemode\": \"area\", \"sizeref\": 0.3803125}, \"mode\": \"markers\", \"name\": \"GAWW-09\", \"text\": \"Crowdedness Count: [56]\", \"x\": [4.8984795], \"y\": [52.3750398], \"type\": \"scatter\"}, {\"marker\": {\"size\": [25], \"sizemode\": \"area\", \"sizeref\": 0.3803125}, \"mode\": \"markers\", \"name\": \"GAWW-10\", \"text\": \"Crowdedness Count: [25]\", \"x\": [4.8988079], \"y\": [52.372369], \"type\": \"scatter\"}], \"name\": \"2000\"}, {\"data\": [{\"marker\": {\"size\": [2488], \"sizemode\": \"area\", \"sizeref\": 0.3803125}, \"mode\": \"markers\", \"name\": \"GAWW-01\", \"text\": \"Crowdedness Count: [2488]\", \"x\": [4.8998471], \"y\": [52.3746006], \"type\": \"scatter\"}, {\"marker\": {\"size\": [2760], \"sizemode\": \"area\", \"sizeref\": 0.3803125}, \"mode\": \"markers\", \"name\": \"GAWW-02\", \"text\": \"Crowdedness Count: [2760]\", \"x\": [4.8989027], \"y\": [52.3737857], \"type\": \"scatter\"}, {\"marker\": {\"size\": [1571], \"sizemode\": \"area\", \"sizeref\": 0.3803125}, \"mode\": \"markers\", \"name\": \"GAWW-03\", \"text\": \"Crowdedness Count: [1571]\", \"x\": [4.8973336], \"y\": [52.3725237], \"type\": \"scatter\"}, {\"marker\": {\"size\": [739], \"sizemode\": \"area\", \"sizeref\": 0.3803125}, \"mode\": \"markers\", \"name\": \"GAWW-04\", \"text\": \"Crowdedness Count: [739]\", \"x\": [4.897907599999999], \"y\": [52.373283], \"type\": \"scatter\"}, {\"marker\": {\"size\": [2722], \"sizemode\": \"area\", \"sizeref\": 0.3803125}, \"mode\": \"markers\", \"name\": \"GAWW-05\", \"text\": \"Crowdedness Count: [2722]\", \"x\": [4.8977166], \"y\": [52.3723534], \"type\": \"scatter\"}, {\"marker\": {\"size\": [1755], \"sizemode\": \"area\", \"sizeref\": 0.3803125}, \"mode\": \"markers\", \"name\": \"GAWW-06\", \"text\": \"Crowdedness Count: [1755]\", \"x\": [4.8980530999999985], \"y\": [52.372416], \"type\": \"scatter\"}, {\"marker\": {\"size\": [1876], \"sizemode\": \"area\", \"sizeref\": 0.3803125}, \"mode\": \"markers\", \"name\": \"GAWW-07\", \"text\": \"Crowdedness Count: [1876]\", \"x\": [4.9004405], \"y\": [52.37441389999999], \"type\": \"scatter\"}, {\"marker\": {\"size\": [39], \"sizemode\": \"area\", \"sizeref\": 0.3803125}, \"mode\": \"markers\", \"name\": \"GAWW-08\", \"text\": \"Crowdedness Count: [39]\", \"x\": [4.8971927000000015], \"y\": [52.3716503], \"type\": \"scatter\"}, {\"marker\": {\"size\": [62], \"sizemode\": \"area\", \"sizeref\": 0.3803125}, \"mode\": \"markers\", \"name\": \"GAWW-09\", \"text\": \"Crowdedness Count: [62]\", \"x\": [4.8984795], \"y\": [52.3750398], \"type\": \"scatter\"}, {\"marker\": {\"size\": [23], \"sizemode\": \"area\", \"sizeref\": 0.3803125}, \"mode\": \"markers\", \"name\": \"GAWW-10\", \"text\": \"Crowdedness Count: [23]\", \"x\": [4.8988079], \"y\": [52.372369], \"type\": \"scatter\"}], \"name\": \"2100\"}, {\"data\": [{\"marker\": {\"size\": [2288], \"sizemode\": \"area\", \"sizeref\": 0.3803125}, \"mode\": \"markers\", \"name\": \"GAWW-01\", \"text\": \"Crowdedness Count: [2288]\", \"x\": [4.8998471], \"y\": [52.3746006], \"type\": \"scatter\"}, {\"marker\": {\"size\": [2150], \"sizemode\": \"area\", \"sizeref\": 0.3803125}, \"mode\": \"markers\", \"name\": \"GAWW-02\", \"text\": \"Crowdedness Count: [2150]\", \"x\": [4.8989027], \"y\": [52.3737857], \"type\": \"scatter\"}, {\"marker\": {\"size\": [1227], \"sizemode\": \"area\", \"sizeref\": 0.3803125}, \"mode\": \"markers\", \"name\": \"GAWW-03\", \"text\": \"Crowdedness Count: [1227]\", \"x\": [4.8973336], \"y\": [52.3725237], \"type\": \"scatter\"}, {\"marker\": {\"size\": [687], \"sizemode\": \"area\", \"sizeref\": 0.3803125}, \"mode\": \"markers\", \"name\": \"GAWW-04\", \"text\": \"Crowdedness Count: [687]\", \"x\": [4.897907599999999], \"y\": [52.373283], \"type\": \"scatter\"}, {\"marker\": {\"size\": [2705], \"sizemode\": \"area\", \"sizeref\": 0.3803125}, \"mode\": \"markers\", \"name\": \"GAWW-05\", \"text\": \"Crowdedness Count: [2705]\", \"x\": [4.8977166], \"y\": [52.3723534], \"type\": \"scatter\"}, {\"marker\": {\"size\": [1704], \"sizemode\": \"area\", \"sizeref\": 0.3803125}, \"mode\": \"markers\", \"name\": \"GAWW-06\", \"text\": \"Crowdedness Count: [1704]\", \"x\": [4.8980530999999985], \"y\": [52.372416], \"type\": \"scatter\"}, {\"marker\": {\"size\": [1649], \"sizemode\": \"area\", \"sizeref\": 0.3803125}, \"mode\": \"markers\", \"name\": \"GAWW-07\", \"text\": \"Crowdedness Count: [1649]\", \"x\": [4.9004405], \"y\": [52.37441389999999], \"type\": \"scatter\"}, {\"marker\": {\"size\": [33], \"sizemode\": \"area\", \"sizeref\": 0.3803125}, \"mode\": \"markers\", \"name\": \"GAWW-08\", \"text\": \"Crowdedness Count: [33]\", \"x\": [4.8971927000000015], \"y\": [52.3716503], \"type\": \"scatter\"}, {\"marker\": {\"size\": [58], \"sizemode\": \"area\", \"sizeref\": 0.3803125}, \"mode\": \"markers\", \"name\": \"GAWW-09\", \"text\": \"Crowdedness Count: [58]\", \"x\": [4.8984795], \"y\": [52.3750398], \"type\": \"scatter\"}, {\"marker\": {\"size\": [32], \"sizemode\": \"area\", \"sizeref\": 0.3803125}, \"mode\": \"markers\", \"name\": \"GAWW-10\", \"text\": \"Crowdedness Count: [32]\", \"x\": [4.8988079], \"y\": [52.372369], \"type\": \"scatter\"}], \"name\": \"2200\"}, {\"data\": [{\"marker\": {\"size\": [2216], \"sizemode\": \"area\", \"sizeref\": 0.3803125}, \"mode\": \"markers\", \"name\": \"GAWW-01\", \"text\": \"Crowdedness Count: [2216]\", \"x\": [4.8998471], \"y\": [52.3746006], \"type\": \"scatter\"}, {\"marker\": {\"size\": [2211], \"sizemode\": \"area\", \"sizeref\": 0.3803125}, \"mode\": \"markers\", \"name\": \"GAWW-02\", \"text\": \"Crowdedness Count: [2211]\", \"x\": [4.8989027], \"y\": [52.3737857], \"type\": \"scatter\"}, {\"marker\": {\"size\": [1322], \"sizemode\": \"area\", \"sizeref\": 0.3803125}, \"mode\": \"markers\", \"name\": \"GAWW-03\", \"text\": \"Crowdedness Count: [1322]\", \"x\": [4.8973336], \"y\": [52.3725237], \"type\": \"scatter\"}, {\"marker\": {\"size\": [814], \"sizemode\": \"area\", \"sizeref\": 0.3803125}, \"mode\": \"markers\", \"name\": \"GAWW-04\", \"text\": \"Crowdedness Count: [814]\", \"x\": [4.897907599999999], \"y\": [52.373283], \"type\": \"scatter\"}, {\"marker\": {\"size\": [2613], \"sizemode\": \"area\", \"sizeref\": 0.3803125}, \"mode\": \"markers\", \"name\": \"GAWW-05\", \"text\": \"Crowdedness Count: [2613]\", \"x\": [4.8977166], \"y\": [52.3723534], \"type\": \"scatter\"}, {\"marker\": {\"size\": [1646], \"sizemode\": \"area\", \"sizeref\": 0.3803125}, \"mode\": \"markers\", \"name\": \"GAWW-06\", \"text\": \"Crowdedness Count: [1646]\", \"x\": [4.8980530999999985], \"y\": [52.372416], \"type\": \"scatter\"}, {\"marker\": {\"size\": [1488], \"sizemode\": \"area\", \"sizeref\": 0.3803125}, \"mode\": \"markers\", \"name\": \"GAWW-07\", \"text\": \"Crowdedness Count: [1488]\", \"x\": [4.9004405], \"y\": [52.37441389999999], \"type\": \"scatter\"}, {\"marker\": {\"size\": [32], \"sizemode\": \"area\", \"sizeref\": 0.3803125}, \"mode\": \"markers\", \"name\": \"GAWW-08\", \"text\": \"Crowdedness Count: [32]\", \"x\": [4.8971927000000015], \"y\": [52.3716503], \"type\": \"scatter\"}, {\"marker\": {\"size\": [53], \"sizemode\": \"area\", \"sizeref\": 0.3803125}, \"mode\": \"markers\", \"name\": \"GAWW-09\", \"text\": \"Crowdedness Count: [53]\", \"x\": [4.8984795], \"y\": [52.3750398], \"type\": \"scatter\"}, {\"marker\": {\"size\": [27], \"sizemode\": \"area\", \"sizeref\": 0.3803125}, \"mode\": \"markers\", \"name\": \"GAWW-10\", \"text\": \"Crowdedness Count: [27]\", \"x\": [4.8988079], \"y\": [52.372369], \"type\": \"scatter\"}], \"name\": \"2300\"}]);\n",
       "                        }).then(function(){\n",
       "                            Plotly.animate('badaf990-d734-4fb0-b130-b911e8f7ddcc', null);\n",
       "                        }).then(function(){\n",
       "                            \n",
       "var gd = document.getElementById('badaf990-d734-4fb0-b130-b911e8f7ddcc');\n",
       "var x = new MutationObserver(function (mutations, observer) {{\n",
       "        var display = window.getComputedStyle(gd).display;\n",
       "        if (!display || display === 'none') {{\n",
       "            console.log([gd, 'removed!']);\n",
       "            Plotly.purge(gd);\n",
       "            observer.disconnect();\n",
       "        }}\n",
       "}});\n",
       "\n",
       "// Listen for the removal of the full notebook cells\n",
       "var notebookContainer = gd.closest('#notebook-container');\n",
       "if (notebookContainer) {{\n",
       "    x.observe(notebookContainer, {childList: true});\n",
       "}}\n",
       "\n",
       "// Listen for the clearing of the current output cell\n",
       "var outputEl = gd.closest('.output');\n",
       "if (outputEl) {{\n",
       "    x.observe(outputEl, {childList: true});\n",
       "}}\n",
       "\n",
       "                        })\n",
       "                };\n",
       "                });\n",
       "            </script>\n",
       "        </div>"
      ]
     },
     "metadata": {},
     "output_type": "display_data"
    }
   ],
   "source": [
    "dataset = subsetData(dataset, start_date, end_date)\n",
    "plotTimeSeries(dataset)"
   ]
  }
 ],
 "metadata": {
  "kernelspec": {
   "display_name": "Python 3",
   "language": "python",
   "name": "python3"
  },
  "language_info": {
   "codemirror_mode": {
    "name": "ipython",
    "version": 3
   },
   "file_extension": ".py",
   "mimetype": "text/x-python",
   "name": "python",
   "nbconvert_exporter": "python",
   "pygments_lexer": "ipython3",
   "version": "3.7.1"
  }
 },
 "nbformat": 4,
 "nbformat_minor": 2
}
