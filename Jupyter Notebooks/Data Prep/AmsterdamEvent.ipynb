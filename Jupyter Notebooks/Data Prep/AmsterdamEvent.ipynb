{
 "cells": [
  {
   "cell_type": "markdown",
   "metadata": {},
   "source": [
    "# Amsterdam Event Data"
   ]
  },
  {
   "cell_type": "markdown",
   "metadata": {},
   "source": [
    "## Imports <a name=\"imports\"></a>"
   ]
  },
  {
   "cell_type": "code",
   "execution_count": 2,
   "metadata": {},
   "outputs": [],
   "source": [
    "#Read JSON files\n",
    "#Imports\n",
    "import pandas as pd\n",
    "import datetime\n",
    "import json"
   ]
  },
  {
   "cell_type": "markdown",
   "metadata": {},
   "source": [
    "## Import Events file <a name=\"importFile\"></a>\n",
    "Import the open data file "
   ]
  },
  {
   "cell_type": "code",
   "execution_count": 6,
   "metadata": {},
   "outputs": [],
   "source": [
    "with open(\"../../../Data_thesis/Open_Data/Evenementen.json\") as event_data:\n",
    "    events = json.load(event_data)"
   ]
  },
  {
   "cell_type": "markdown",
   "metadata": {},
   "source": [
    "### Example contents <a name=\"exampleContents\"></a>\n",
    "Below is an example snippet of an event in the file"
   ]
  },
  {
   "cell_type": "code",
   "execution_count": 7,
   "metadata": {},
   "outputs": [
    {
     "name": "stdout",
     "output_type": "stream",
     "text": [
      "Event:  Springsnow Festival\n",
      "City:  AMSTERDAM\n",
      "Adress:  Diverse locaties / Various locations\n",
      "Zipcode:  1012 JS\n",
      "Coordinates:  52,3726380 4,8941060\n",
      "Date:  {'startdate': '20-04-2018', 'enddate': '20-05-2018'}\n"
     ]
    }
   ],
   "source": [
    "#Return eventname\n",
    "print(\"Event: \", events[0][\"title\"])\n",
    "\n",
    "#Return exact location event in human terms\n",
    "print(\"City: \", events[0][\"location\"][\"city\"])\n",
    "print(\"Adress: \", events[0][\"location\"][\"adress\"])\n",
    "print(\"Zipcode: \", events[0][\"location\"][\"zipcode\"])\n",
    "\n",
    "#Check source crowdedness\n",
    "print(\"Coordinates: \", events[0][\"location\"][\"latitude\"], events[0][\"location\"][\"longitude\"]) \n",
    "\n",
    "#Check whether the data has an event\n",
    "print(\"Date: \", events[0][\"dates\"])"
   ]
  },
  {
   "cell_type": "markdown",
   "metadata": {},
   "source": [
    "## Full Dataset <a name=\"fullDF\"></a>\n",
    "As not all the variables are usable, we make a subset of the following variables:\n",
    "- *Event Name*: Show the event name\n",
    "- *Coordinates*: Show the coordinates of the event\n",
    "- *Data*: Show the event date(s)"
   ]
  },
  {
   "cell_type": "markdown",
   "metadata": {},
   "source": [
    "### Functions"
   ]
  },
  {
   "cell_type": "code",
   "execution_count": 3,
   "metadata": {},
   "outputs": [],
   "source": [
    "def transformData(events, lat_low, lat_high, lon_low, lon_high, start_date, end_date):\n",
    "    \"\"\"\n",
    "    This function transforms all present dates between start and end date in the following, given \n",
    "    that the coordinatees of the event fall between the given longitude and latitude borders:\n",
    "    - Date(datetime): date\n",
    "    - is_event(float): there is an event on the given date\n",
    "\n",
    "    Parameters:\n",
    "    - events (json): dataset events \n",
    "    - Coordinate borders:\n",
    "        - lon_low: min value longitude\n",
    "        - lon_high: max value longitude\n",
    "        - lat_low: min value Latitude\n",
    "        - lat_high: max value Latitude\n",
    "    - start_date: Start date of relevant events\n",
    "    - end_date: end date of relevant events\n",
    "\n",
    "    Returns:DF with relevant event data\n",
    "    \"\"\"\n",
    "\n",
    "    #Variables\n",
    "\n",
    "    #Dict where all the needed data from each instance will be saved\n",
    "    events_dict = {}\n",
    "\n",
    "    #Key for each instance in dict\n",
    "    key = 0\n",
    "\n",
    "    #################################################################################\n",
    "\n",
    "    #Loop over all events\n",
    "    for event in events:\n",
    "\n",
    "        #Save all the dates of each event in a list\n",
    "        dates = []\n",
    "\n",
    "        #Set the latitude and longitude of each date of the event to a float\n",
    "        lat = float(event[\"location\"][\"latitude\"].replace(\",\", \".\"))\n",
    "        lon = float(event[\"location\"][\"longitude\"].replace(\",\", \".\"))\n",
    "\n",
    "        #Check if Longitude and Latitude between specified parameters\n",
    "        if lon > lon_low and lon < lon_high and lat > lat_low and lat < lat_high:\n",
    "\n",
    "            #Check if saved in format one or two\n",
    "\n",
    "            #Format one --> {'startdate': 'dd-mm-yyyy', 'enddate': 'dd-mm-yyyy'}\n",
    "            if \"startdate\" in event[\"dates\"]:\n",
    "\n",
    "                #Append the events to the list\n",
    "                dates.append(event[\"dates\"][\"startdate\"])\n",
    "                dates.append(event[\"dates\"][\"enddate\"])\n",
    "\n",
    "            #Format two --> {'singles': ['dd-mm-yyyy',..., 'dd-mm-yyyy']}\n",
    "            elif \"singles\" in event[\"dates\"]:\n",
    "\n",
    "                #Save entire list to dates\n",
    "                dates = event[\"dates\"][\"singles\"]\n",
    "\n",
    "            #Change type from 'str' to 'datetime'\n",
    "            dates = [pd.Timestamp.strptime(date, \"%d-%m-%Y\") for date in dates]\n",
    "\n",
    "            #Save present date with confirmation that there is an event\n",
    "            for date in dates:\n",
    "                if start_date < date < end_date:\n",
    "\n",
    "                    #Dict with all data single event\n",
    "                    event_date = {\"Date\": date, \"is_event\": 1.0}\n",
    "\n",
    "                    #Append dict to list\n",
    "                    events_dict[key] = event_date\n",
    "                    key += 1\n",
    "\n",
    "    #Convert Dict object to DataFrame and return it\n",
    "    return pd.DataFrame.from_dict(events_dict, orient=\"index\")"
   ]
  },
  {
   "cell_type": "markdown",
   "metadata": {},
   "source": [
    "### Variables"
   ]
  },
  {
   "cell_type": "code",
   "execution_count": 8,
   "metadata": {},
   "outputs": [],
   "source": [
    "#Parameters for area to search in\n",
    "json_events_path = \"../../../../Data_thesis/Open_Data/Evenementen.json\"\n",
    "#longitude\n",
    "lon_low = 4.88\n",
    "lon_high = 4.92\n",
    "\n",
    "#Latitude\n",
    "lat_low = 52.36\n",
    "lat_high = 52.39\n",
    "\n",
    "#Start date for relevant events\n",
    "start_date = pd.Timestamp(2018, 3, 11)\n",
    "\n",
    "#End date for relevant events\n",
    "end_date = pd.Timestamp(2019, 4, 30)"
   ]
  },
  {
   "cell_type": "markdown",
   "metadata": {},
   "source": [
    "### Construct DF"
   ]
  },
  {
   "cell_type": "code",
   "execution_count": 15,
   "metadata": {},
   "outputs": [],
   "source": [
    "with open(json_events_path) as file_data:\n",
    "    #Save data as JSON object\n",
    "    events = json.load(file_data)\n",
    "\n",
    "#Transform data to desired format\n",
    "event_df = transformData(events, lat_low, lat_high, lon_low, lon_high, start_date, end_date)"
   ]
  },
  {
   "cell_type": "code",
   "execution_count": 16,
   "metadata": {},
   "outputs": [
    {
     "data": {
      "text/html": [
       "<div>\n",
       "<style scoped>\n",
       "    .dataframe tbody tr th:only-of-type {\n",
       "        vertical-align: middle;\n",
       "    }\n",
       "\n",
       "    .dataframe tbody tr th {\n",
       "        vertical-align: top;\n",
       "    }\n",
       "\n",
       "    .dataframe thead th {\n",
       "        text-align: right;\n",
       "    }\n",
       "</style>\n",
       "<table border=\"1\" class=\"dataframe\">\n",
       "  <thead>\n",
       "    <tr style=\"text-align: right;\">\n",
       "      <th></th>\n",
       "      <th>Date</th>\n",
       "      <th>is_event</th>\n",
       "    </tr>\n",
       "  </thead>\n",
       "  <tbody>\n",
       "    <tr>\n",
       "      <th>0</th>\n",
       "      <td>2018-04-20</td>\n",
       "      <td>1.0</td>\n",
       "    </tr>\n",
       "    <tr>\n",
       "      <th>1</th>\n",
       "      <td>2018-05-20</td>\n",
       "      <td>1.0</td>\n",
       "    </tr>\n",
       "    <tr>\n",
       "      <th>2</th>\n",
       "      <td>2018-06-02</td>\n",
       "      <td>1.0</td>\n",
       "    </tr>\n",
       "    <tr>\n",
       "      <th>3</th>\n",
       "      <td>2018-06-03</td>\n",
       "      <td>1.0</td>\n",
       "    </tr>\n",
       "    <tr>\n",
       "      <th>4</th>\n",
       "      <td>2018-06-04</td>\n",
       "      <td>1.0</td>\n",
       "    </tr>\n",
       "  </tbody>\n",
       "</table>\n",
       "</div>"
      ],
      "text/plain": [
       "        Date  is_event\n",
       "0 2018-04-20       1.0\n",
       "1 2018-05-20       1.0\n",
       "2 2018-06-02       1.0\n",
       "3 2018-06-03       1.0\n",
       "4 2018-06-04       1.0"
      ]
     },
     "execution_count": 16,
     "metadata": {},
     "output_type": "execute_result"
    }
   ],
   "source": [
    "event_df.head()"
   ]
  },
  {
   "cell_type": "markdown",
   "metadata": {},
   "source": [
    "## Save to file <a name=\"CSV\"></a>\n",
    "Save the list of subset events to file"
   ]
  },
  {
   "cell_type": "code",
   "execution_count": 12,
   "metadata": {},
   "outputs": [],
   "source": [
    "event_df.to_csv(\"../../../Data_thesis/Full_Datasets/Events.csv\", index=False)"
   ]
  }
 ],
 "metadata": {
  "kernelspec": {
   "display_name": "Python 3",
   "language": "python",
   "name": "python3"
  },
  "language_info": {
   "codemirror_mode": {
    "name": "ipython",
    "version": 3
   },
   "file_extension": ".py",
   "mimetype": "text/x-python",
   "name": "python",
   "nbconvert_exporter": "python",
   "pygments_lexer": "ipython3",
   "version": "3.7.1"
  }
 },
 "nbformat": 4,
 "nbformat_minor": 2
}
