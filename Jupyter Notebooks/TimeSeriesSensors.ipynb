{
 "cells": [
  {
   "cell_type": "markdown",
   "metadata": {},
   "source": [
    "# Time Series - Sensors"
   ]
  },
  {
   "cell_type": "markdown",
   "metadata": {},
   "source": [
    "## Imports"
   ]
  },
  {
   "cell_type": "code",
   "execution_count": 1,
   "metadata": {},
   "outputs": [
    {
     "data": {
      "text/html": [
       "        <script type=\"text/javascript\">\n",
       "        window.PlotlyConfig = {MathJaxConfig: 'local'};\n",
       "        if (window.MathJax) {MathJax.Hub.Config({SVG: {font: \"STIX-Web\"}});}\n",
       "        if (typeof require !== 'undefined') {\n",
       "        require.undef(\"plotly\");\n",
       "        requirejs.config({\n",
       "            paths: {\n",
       "                'plotly': ['https://cdn.plot.ly/plotly-latest.min']\n",
       "            }\n",
       "        });\n",
       "        require(['plotly'], function(Plotly) {\n",
       "            window._Plotly = Plotly;\n",
       "        });\n",
       "        }\n",
       "        </script>\n",
       "        "
      ]
     },
     "metadata": {},
     "output_type": "display_data"
    }
   ],
   "source": [
    "import pandas as pd\n",
    "import plotly\n",
    "from bubblyGVB import bubbleplot\n",
    "plotly.offline.init_notebook_mode(connected=True)"
   ]
  },
  {
   "cell_type": "markdown",
   "metadata": {},
   "source": [
    "## Import File"
   ]
  },
  {
   "cell_type": "code",
   "execution_count": 2,
   "metadata": {},
   "outputs": [],
   "source": [
    "dataset = pd.read_csv(\"../../../Data_thesis/Full_Datasets/TimeSeriesCrowdedness.csv\")"
   ]
  },
  {
   "cell_type": "code",
   "execution_count": 3,
   "metadata": {},
   "outputs": [
    {
     "data": {
      "text/html": [
       "<div>\n",
       "<style scoped>\n",
       "    .dataframe tbody tr th:only-of-type {\n",
       "        vertical-align: middle;\n",
       "    }\n",
       "\n",
       "    .dataframe tbody tr th {\n",
       "        vertical-align: top;\n",
       "    }\n",
       "\n",
       "    .dataframe thead th {\n",
       "        text-align: right;\n",
       "    }\n",
       "</style>\n",
       "<table border=\"1\" class=\"dataframe\">\n",
       "  <thead>\n",
       "    <tr style=\"text-align: right;\">\n",
       "      <th></th>\n",
       "      <th>Weekday</th>\n",
       "      <th>Sensor</th>\n",
       "      <th>CrowdednessCount</th>\n",
       "      <th>SensorLongitude</th>\n",
       "      <th>SensorLatitude</th>\n",
       "    </tr>\n",
       "  </thead>\n",
       "  <tbody>\n",
       "    <tr>\n",
       "      <th>0</th>\n",
       "      <td>0</td>\n",
       "      <td>GAWW-01</td>\n",
       "      <td>1104.517033</td>\n",
       "      <td>4.899847</td>\n",
       "      <td>52.374601</td>\n",
       "    </tr>\n",
       "    <tr>\n",
       "      <th>1</th>\n",
       "      <td>0</td>\n",
       "      <td>GAWW-02</td>\n",
       "      <td>1374.316427</td>\n",
       "      <td>4.898903</td>\n",
       "      <td>52.373786</td>\n",
       "    </tr>\n",
       "    <tr>\n",
       "      <th>2</th>\n",
       "      <td>0</td>\n",
       "      <td>GAWW-03</td>\n",
       "      <td>605.643452</td>\n",
       "      <td>4.897334</td>\n",
       "      <td>52.372524</td>\n",
       "    </tr>\n",
       "    <tr>\n",
       "      <th>3</th>\n",
       "      <td>0</td>\n",
       "      <td>GAWW-04</td>\n",
       "      <td>317.439061</td>\n",
       "      <td>4.897908</td>\n",
       "      <td>52.373283</td>\n",
       "    </tr>\n",
       "    <tr>\n",
       "      <th>4</th>\n",
       "      <td>0</td>\n",
       "      <td>GAWW-05</td>\n",
       "      <td>921.250568</td>\n",
       "      <td>4.897717</td>\n",
       "      <td>52.372353</td>\n",
       "    </tr>\n",
       "  </tbody>\n",
       "</table>\n",
       "</div>"
      ],
      "text/plain": [
       "   Weekday   Sensor  CrowdednessCount  SensorLongitude  SensorLatitude\n",
       "0        0  GAWW-01       1104.517033         4.899847       52.374601\n",
       "1        0  GAWW-02       1374.316427         4.898903       52.373786\n",
       "2        0  GAWW-03        605.643452         4.897334       52.372524\n",
       "3        0  GAWW-04        317.439061         4.897908       52.373283\n",
       "4        0  GAWW-05        921.250568         4.897717       52.372353"
      ]
     },
     "execution_count": 3,
     "metadata": {},
     "output_type": "execute_result"
    }
   ],
   "source": [
    "dataset.head()"
   ]
  },
  {
   "cell_type": "markdown",
   "metadata": {},
   "source": [
    "## Functions"
   ]
  },
  {
   "cell_type": "code",
   "execution_count": 10,
   "metadata": {},
   "outputs": [],
   "source": [
    "def plotTimeSeries(df):\n",
    "    \n",
    "    #Variables\n",
    "    x_column = 'SensorLongitude'\n",
    "    y_column = 'SensorLatitude'\n",
    "    bubble_column = 'Sensor'\n",
    "    time_column = 'Weekday'\n",
    "    size_column = 'CrowdednessCount'\n",
    "\n",
    "    #Initialize grid\n",
    "    grid = pd.DataFrame()\n",
    "    \n",
    "    figure = bubbleplot(dataset=dataset, x_column=x_column, y_column=y_column, \n",
    "        bubble_column=bubble_column, size_column=size_column, time_column=time_column, color_column=bubble_column,\n",
    "        x_title=\"Longitude\", y_title=\"Latitude\", title=\"Mean Crowdedness Sensor count\",\n",
    "        x_logscale=False, scale_bubble=3, height=650, x_range=[min(dataset[x_column])-0.001, max(dataset[x_column])+0.001],\n",
    "                       y_range=[min(dataset[y_column])-0.001, max(dataset[y_column])+0.001])\n",
    "\n",
    "    plotly.offline.plot(figure, filename=\"../../../Data_thesis/Full_Datasets/Plots/MeanSensorCount.html\",\n",
    "                       auto_open=True)"
   ]
  },
  {
   "cell_type": "code",
   "execution_count": 11,
   "metadata": {},
   "outputs": [],
   "source": [
    "plotTimeSeries(dataset)"
   ]
  }
 ],
 "metadata": {
  "kernelspec": {
   "display_name": "Python 3",
   "language": "python",
   "name": "python3"
  },
  "language_info": {
   "codemirror_mode": {
    "name": "ipython",
    "version": 3
   },
   "file_extension": ".py",
   "mimetype": "text/x-python",
   "name": "python",
   "nbconvert_exporter": "python",
   "pygments_lexer": "ipython3",
   "version": "3.7.1"
  }
 },
 "nbformat": 4,
 "nbformat_minor": 2
}
