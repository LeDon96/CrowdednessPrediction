{
 "cells": [
  {
   "cell_type": "markdown",
   "metadata": {},
   "source": [
    "# Crowdedness Data"
   ]
  },
  {
   "cell_type": "markdown",
   "metadata": {},
   "source": [
    "## Imports <a name=\"imports\"></a>"
   ]
  },
  {
   "cell_type": "code",
   "execution_count": 212,
   "metadata": {},
   "outputs": [],
   "source": [
    "import pandas as pd\n",
    "from datetime import datetime"
   ]
  },
  {
   "cell_type": "markdown",
   "metadata": {},
   "source": [
    "## Import Data <a name=\"importData\"></a>"
   ]
  },
  {
   "cell_type": "markdown",
   "metadata": {},
   "source": [
    "### Crowdedness Data <a name=\"crowdData\"></a>\n",
    "The crowdedness count per camera, per day, per hour"
   ]
  },
  {
   "cell_type": "code",
   "execution_count": 3,
   "metadata": {},
   "outputs": [],
   "source": [
    "#Load in the data\n",
    "crowd_df = pd.read_excel(\"../../../Data_thesis/CMSA/cmsa_data.xlsx\")"
   ]
  },
  {
   "cell_type": "code",
   "execution_count": 4,
   "metadata": {},
   "outputs": [],
   "source": [
    "#Group the counts per hour\n",
    "crowd_df = crowd_df.groupby([\"richting\", \"datum\", \"uur\"])[\"SampleCount\"].sum().reset_index()\n",
    "\n",
    "#Change names columns\n",
    "crowd_df = crowd_df.rename(index=str, columns={\"richting\": \"Sensor\", \"datum\": \"Date\", \"uur\": \"Hour\", \n",
    "                                               \"SampleCount\": \"CrowdednessCount\"})\n",
    "\n",
    "#Insert columns\n",
    "crowd_df.insert(3, \"SensorLongitude\", 0)\n",
    "crowd_df.insert(4, \"SensorLatitude\", 0)"
   ]
  },
  {
   "cell_type": "code",
   "execution_count": 5,
   "metadata": {},
   "outputs": [
    {
     "data": {
      "text/html": [
       "<div>\n",
       "<style scoped>\n",
       "    .dataframe tbody tr th:only-of-type {\n",
       "        vertical-align: middle;\n",
       "    }\n",
       "\n",
       "    .dataframe tbody tr th {\n",
       "        vertical-align: top;\n",
       "    }\n",
       "\n",
       "    .dataframe thead th {\n",
       "        text-align: right;\n",
       "    }\n",
       "</style>\n",
       "<table border=\"1\" class=\"dataframe\">\n",
       "  <thead>\n",
       "    <tr style=\"text-align: right;\">\n",
       "      <th></th>\n",
       "      <th>Sensor</th>\n",
       "      <th>Date</th>\n",
       "      <th>Hour</th>\n",
       "      <th>SensorLongitude</th>\n",
       "      <th>SensorLatitude</th>\n",
       "      <th>CrowdednessCount</th>\n",
       "    </tr>\n",
       "  </thead>\n",
       "  <tbody>\n",
       "    <tr>\n",
       "      <th>0</th>\n",
       "      <td>2</td>\n",
       "      <td>2018-03-11</td>\n",
       "      <td>0</td>\n",
       "      <td>0</td>\n",
       "      <td>0</td>\n",
       "      <td>0</td>\n",
       "    </tr>\n",
       "    <tr>\n",
       "      <th>1</th>\n",
       "      <td>2</td>\n",
       "      <td>2018-03-11</td>\n",
       "      <td>1</td>\n",
       "      <td>0</td>\n",
       "      <td>0</td>\n",
       "      <td>0</td>\n",
       "    </tr>\n",
       "    <tr>\n",
       "      <th>2</th>\n",
       "      <td>2</td>\n",
       "      <td>2018-03-11</td>\n",
       "      <td>2</td>\n",
       "      <td>0</td>\n",
       "      <td>0</td>\n",
       "      <td>0</td>\n",
       "    </tr>\n",
       "    <tr>\n",
       "      <th>3</th>\n",
       "      <td>2</td>\n",
       "      <td>2018-03-11</td>\n",
       "      <td>3</td>\n",
       "      <td>0</td>\n",
       "      <td>0</td>\n",
       "      <td>0</td>\n",
       "    </tr>\n",
       "    <tr>\n",
       "      <th>4</th>\n",
       "      <td>2</td>\n",
       "      <td>2018-03-11</td>\n",
       "      <td>4</td>\n",
       "      <td>0</td>\n",
       "      <td>0</td>\n",
       "      <td>0</td>\n",
       "    </tr>\n",
       "  </tbody>\n",
       "</table>\n",
       "</div>"
      ],
      "text/plain": [
       "  Sensor       Date  Hour  SensorLongitude  SensorLatitude  CrowdednessCount\n",
       "0      2 2018-03-11     0                0               0                 0\n",
       "1      2 2018-03-11     1                0               0                 0\n",
       "2      2 2018-03-11     2                0               0                 0\n",
       "3      2 2018-03-11     3                0               0                 0\n",
       "4      2 2018-03-11     4                0               0                 0"
      ]
     },
     "execution_count": 5,
     "metadata": {},
     "output_type": "execute_result"
    }
   ],
   "source": [
    "#Example Contents\n",
    "crowd_df.head()"
   ]
  },
  {
   "cell_type": "markdown",
   "metadata": {},
   "source": [
    "### Crowdedness Data (Without Sensor column)\n",
    "All the data resides in multiple files, where the filename equals the sensor number"
   ]
  },
  {
   "cell_type": "markdown",
   "metadata": {},
   "source": [
    "#### Import Data and concate to a single DF"
   ]
  },
  {
   "cell_type": "code",
   "execution_count": 220,
   "metadata": {},
   "outputs": [],
   "source": [
    "#GAWW-01\n",
    "blip01_df = pd.read_csv(\"../../../Data_thesis/CMSA/BlipTrack-01.csv\", sep=\",\")\n",
    "blip01_df = blip01_df[[\"Timestamp\", \"SampleCount\"]]\n",
    "blip01_df[\"Sensor\"] = \"GAWW-01\"\n",
    "\n",
    "blip01OCC_df = pd.read_csv(\"../../../Data_thesis/CMSA/BlipTrack-01OCC.csv\", sep=\",\")\n",
    "blip01OCC_df = blip01OCC_df[[\"Timestamp\", \"SampleCount\"]]\n",
    "blip01OCC_df[\"Sensor\"] = \"GAWW-01\"\n",
    "\n",
    "blip01R_df = pd.read_csv(\"../../../Data_thesis/CMSA/BlipTrack-01R.csv\", sep=\",\")\n",
    "blip01R_df = blip01R_df[[\"Timestamp\", \"SampleCount\"]]\n",
    "blip01R_df[\"Sensor\"] = \"GAWW-01\"\n",
    "\n",
    "gaww01_df = pd.merge(blip01_df, blip01OCC_df,on=[\"Timestamp\", \"Sensor\"], how=\"inner\")\n",
    "gaww01_df = pd.merge(gaww01_df, blip01R_df,on=[\"Timestamp\", \"Sensor\"], how=\"inner\")\n",
    "\n",
    "gaww01_df[\"CrowdednessCount\"] = gaww01_df[[\"SampleCount_x\", \"SampleCount_y\", \"SampleCount\"]].sum(axis=1)\n",
    "\n",
    "gaww01_df = gaww01_df[[\"Timestamp\", \"CrowdednessCount\", \"Sensor\"]]\n",
    "\n",
    "gaww01_df = gaww01_df.groupby([\"Timestamp\", \"Sensor\"])[\"CrowdednessCount\"].sum().reset_index()"
   ]
  },
  {
   "cell_type": "code",
   "execution_count": 221,
   "metadata": {},
   "outputs": [],
   "source": [
    "#GAWW-03\n",
    "blip03OCC_df = pd.read_csv(\"../../../Data_thesis/CMSA/BlipTrack-03OCC.csv\", sep=\",\")\n",
    "blip03OCC_df = blip03OCC_df[[\"Timestamp\", \"SampleCount\"]]\n",
    "blip03OCC_df[\"Sensor\"] = \"GAWW-03\"\n",
    "\n",
    "blip03OCC_df = blip03OCC_df.rename(index=str, columns={\"SampleCount\": \"CrowdednessCount\"})\n",
    "\n",
    "gaww03_df = blip03OCC_df.groupby([\"Timestamp\", \"Sensor\"])[\"CrowdednessCount\"].sum().reset_index()"
   ]
  },
  {
   "cell_type": "code",
   "execution_count": 222,
   "metadata": {},
   "outputs": [],
   "source": [
    "#Join the above given dataframes\n",
    "blip_df = pd.concat([gaww01_df, gaww03_df]).reset_index().drop(columns={\"index\"})"
   ]
  },
  {
   "cell_type": "code",
   "execution_count": 223,
   "metadata": {},
   "outputs": [],
   "source": [
    "#GAWW-04\n",
    "blip04_df = pd.read_csv(\"../../../Data_thesis/CMSA/BlipTrack-04.csv\", sep=\",\")\n",
    "blip04_df = blip04_df[[\"Timestamp\", \"SampleCount\"]]\n",
    "blip04_df[\"Sensor\"] = \"GAWW-04\"\n",
    "\n",
    "blip04OCC_df = pd.read_csv(\"../../../Data_thesis/CMSA/BlipTrack-04OCC.csv\", sep=\",\")\n",
    "blip04OCC_df = blip04OCC_df[[\"Timestamp\", \"SampleCount\"]]\n",
    "blip04OCC_df[\"Sensor\"] = \"GAWW-04\"\n",
    "\n",
    "blip04R_df = pd.read_csv(\"../../../Data_thesis/CMSA/BlipTrack-04R.csv\", sep=\",\")\n",
    "blip04R_df = blip04R_df[[\"Timestamp\", \"SampleCount\"]]\n",
    "blip04R_df[\"Sensor\"] = \"GAWW-04\"\n",
    "\n",
    "gaww04_df = pd.merge(blip04_df, blip04OCC_df,on=[\"Timestamp\", \"Sensor\"], how=\"inner\")\n",
    "gaww04_df = pd.merge(gaww04_df, blip04R_df,on=[\"Timestamp\", \"Sensor\"], how=\"inner\")\n",
    "\n",
    "gaww04_df[\"CrowdednessCount\"] = gaww04_df[[\"SampleCount_x\", \"SampleCount_y\", \"SampleCount\"]].sum(axis=1)\n",
    "\n",
    "gaww04_df = gaww04_df[[\"Timestamp\", \"CrowdednessCount\", \"Sensor\"]]\n",
    "\n",
    "gaww04_df = gaww04_df.groupby([\"Timestamp\", \"Sensor\"])[\"CrowdednessCount\"].sum().reset_index()"
   ]
  },
  {
   "cell_type": "code",
   "execution_count": 224,
   "metadata": {},
   "outputs": [],
   "source": [
    "#Join the above given dataframes\n",
    "blip_df = pd.concat([blip_df, gaww04_df]).reset_index().drop(columns={\"index\"})"
   ]
  },
  {
   "cell_type": "code",
   "execution_count": 225,
   "metadata": {},
   "outputs": [],
   "source": [
    "#GAWW-05\n",
    "blip05_df = pd.read_csv(\"../../../Data_thesis/CMSA/BlipTrack-05.csv\", sep=\",\")\n",
    "blip05_df = blip05_df[[\"Timestamp\", \"SampleCount\"]]\n",
    "blip05_df[\"Sensor\"] = \"GAWW-05\"\n",
    "\n",
    "blip05R_df = pd.read_csv(\"../../../Data_thesis/CMSA/BlipTrack-05R.csv\", sep=\",\")\n",
    "blip05R_df = blip05R_df[[\"Timestamp\", \"SampleCount\"]]\n",
    "blip05R_df[\"Sensor\"] = \"GAWW-05\"\n",
    "\n",
    "gaww05_df = pd.merge(blip05_df, blip05R_df,on=[\"Timestamp\", \"Sensor\"], how=\"inner\")\n",
    "\n",
    "gaww05_df[\"CrowdednessCount\"] = gaww05_df[[\"SampleCount_x\", \"SampleCount_y\"]].sum(axis=1)\n",
    "\n",
    "gaww05_df = gaww05_df[[\"Timestamp\", \"CrowdednessCount\", \"Sensor\"]]\n",
    "\n",
    "gaww05_df = gaww05_df.groupby([\"Timestamp\", \"Sensor\"])[\"CrowdednessCount\"].sum().reset_index()"
   ]
  },
  {
   "cell_type": "code",
   "execution_count": 226,
   "metadata": {},
   "outputs": [],
   "source": [
    "#Join the above given dataframes\n",
    "blip_df = pd.concat([blip_df, gaww05_df]).reset_index().drop(columns={\"index\"})"
   ]
  },
  {
   "cell_type": "code",
   "execution_count": 227,
   "metadata": {},
   "outputs": [],
   "source": [
    "#GAWW-06\n",
    "blip06_df = pd.read_csv(\"../../../Data_thesis/CMSA/BlipTrack-06.csv\", sep=\",\")\n",
    "blip06_df = blip06_df[[\"Timestamp\", \"SampleCount\"]]\n",
    "blip06_df[\"Sensor\"] = \"GAWW-06\"\n",
    "\n",
    "blip06OCC_df = pd.read_csv(\"../../../Data_thesis/CMSA/BlipTrack-06OCC.csv\", sep=\",\")\n",
    "blip06OCC_df = blip06OCC_df[[\"Timestamp\", \"SampleCount\"]]\n",
    "blip06OCC_df[\"Sensor\"] = \"GAWW-06\"\n",
    "\n",
    "blip06R_df = pd.read_csv(\"../../../Data_thesis/CMSA/BlipTrack-06R.csv\", sep=\",\")\n",
    "blip06R_df = blip06R_df[[\"Timestamp\", \"SampleCount\"]]\n",
    "blip06R_df[\"Sensor\"] = \"GAWW-06\"\n",
    "\n",
    "gaww06_df = pd.merge(blip06_df, blip06OCC_df,on=[\"Timestamp\", \"Sensor\"], how=\"inner\")\n",
    "gaww06_df = pd.merge(gaww06_df, blip06R_df,on=[\"Timestamp\", \"Sensor\"], how=\"inner\")\n",
    "\n",
    "gaww06_df[\"CrowdednessCount\"] = gaww06_df[[\"SampleCount_x\", \"SampleCount_y\", \"SampleCount\"]].sum(axis=1)\n",
    "\n",
    "gaww06_df = gaww06_df[[\"Timestamp\", \"CrowdednessCount\", \"Sensor\"]]\n",
    "\n",
    "gaww06_df = gaww06_df.groupby([\"Timestamp\", \"Sensor\"])[\"CrowdednessCount\"].sum().reset_index()"
   ]
  },
  {
   "cell_type": "code",
   "execution_count": 228,
   "metadata": {},
   "outputs": [],
   "source": [
    "blip_df = pd.concat([blip_df, gaww06_df]).reset_index().drop(columns={\"index\"})"
   ]
  },
  {
   "cell_type": "code",
   "execution_count": 229,
   "metadata": {},
   "outputs": [],
   "source": [
    "#GAWW-07\n",
    "blip07_df = pd.read_csv(\"../../../Data_thesis/CMSA/BlipTrack-07.csv\", sep=\",\")\n",
    "blip07_df = blip07_df[[\"Timestamp\", \"SampleCount\"]]\n",
    "blip07_df[\"Sensor\"] = \"GAWW-07\"\n",
    "\n",
    "blip07OCC_df = pd.read_csv(\"../../../Data_thesis/CMSA/BlipTrack-07OCC.csv\", sep=\",\")\n",
    "blip07OCC_df = blip07OCC_df[[\"Timestamp\", \"SampleCount\"]]\n",
    "blip07OCC_df[\"Sensor\"] = \"GAWW-07\"\n",
    "\n",
    "blip07R_df = pd.read_csv(\"../../../Data_thesis/CMSA/BlipTrack-07R.csv\", sep=\",\")\n",
    "blip07R_df = blip07R_df[[\"Timestamp\", \"SampleCount\"]]\n",
    "blip07R_df[\"Sensor\"] = \"GAWW-07\"\n",
    "\n",
    "gaww07_df = pd.merge(blip07_df, blip07OCC_df,on=[\"Timestamp\", \"Sensor\"], how=\"inner\")\n",
    "gaww07_df = pd.merge(gaww07_df, blip07R_df,on=[\"Timestamp\", \"Sensor\"], how=\"inner\")\n",
    "\n",
    "gaww07_df[\"CrowdednessCount\"] = gaww07_df[[\"SampleCount_x\", \"SampleCount_y\", \"SampleCount\"]].sum(axis=1)\n",
    "\n",
    "gaww07_df = gaww07_df[[\"Timestamp\", \"CrowdednessCount\", \"Sensor\"]]\n",
    "\n",
    "gaww07_df = gaww07_df.groupby([\"Timestamp\", \"Sensor\"])[\"CrowdednessCount\"].sum().reset_index()"
   ]
  },
  {
   "cell_type": "code",
   "execution_count": 230,
   "metadata": {},
   "outputs": [],
   "source": [
    "blip_df = pd.concat([blip_df, gaww07_df]).reset_index().drop(columns={\"index\"})"
   ]
  },
  {
   "cell_type": "code",
   "execution_count": 231,
   "metadata": {},
   "outputs": [],
   "source": [
    "blip08OCC_df = pd.read_csv(\"../../../Data_thesis/CMSA/BlipTrack-08OCC.csv\", sep=\",\")\n",
    "blip08OCC_df = blip08OCC_df[[\"Timestamp\", \"SampleCount\"]]\n",
    "blip08OCC_df[\"Sensor\"] = \"GAWW-08\"\n",
    "\n",
    "blip08OCC_df = blip08OCC_df.rename(index=str, columns={\"SampleCount\": \"CrowdednessCount\"})\n",
    "\n",
    "gaww08_df = blip08OCC_df.groupby([\"Timestamp\", \"Sensor\"])[\"CrowdednessCount\"].sum().reset_index()"
   ]
  },
  {
   "cell_type": "code",
   "execution_count": 232,
   "metadata": {},
   "outputs": [],
   "source": [
    "blip_df = pd.concat([blip_df, gaww08_df]).reset_index().drop(columns={\"index\"})"
   ]
  },
  {
   "cell_type": "code",
   "execution_count": 233,
   "metadata": {},
   "outputs": [],
   "source": [
    "blip09OCC_df = pd.read_csv(\"../../../Data_thesis/CMSA/BlipTrack-09OCC.csv\", sep=\",\")\n",
    "blip09OCC_df = blip09OCC_df[[\"Timestamp\", \"SampleCount\"]]\n",
    "blip09OCC_df[\"Sensor\"] = \"GAWW-09\"\n",
    "\n",
    "blip09OCC_df = blip09OCC_df.rename(index=str, columns={\"SampleCount\": \"CrowdednessCount\"})\n",
    "\n",
    "gaww09_df = blip09OCC_df.groupby([\"Timestamp\", \"Sensor\"])[\"CrowdednessCount\"].sum().reset_index()"
   ]
  },
  {
   "cell_type": "code",
   "execution_count": 234,
   "metadata": {},
   "outputs": [],
   "source": [
    "blip_df = pd.concat([blip_df, gaww09_df]).reset_index().drop(columns={\"index\"})"
   ]
  },
  {
   "cell_type": "code",
   "execution_count": 235,
   "metadata": {},
   "outputs": [],
   "source": [
    "blip10OCC_df = pd.read_csv(\"../../../Data_thesis/CMSA/BlipTrack-10OCC.csv\", sep=\",\")\n",
    "blip10OCC_df = blip10OCC_df[[\"Timestamp\", \"SampleCount\"]]\n",
    "blip10OCC_df[\"Sensor\"] = \"GAWW-10\"\n",
    "\n",
    "blip10OCC_df = blip10OCC_df.rename(index=str, columns={\"SampleCount\": \"CrowdednessCount\"})\n",
    "\n",
    "gaww10_df = blip10OCC_df.groupby([\"Timestamp\", \"Sensor\"])[\"CrowdednessCount\"].sum().reset_index()"
   ]
  },
  {
   "cell_type": "code",
   "execution_count": 236,
   "metadata": {},
   "outputs": [],
   "source": [
    "blip_df = pd.concat([blip_df, gaww10_df]).reset_index().drop(columns={\"index\"})"
   ]
  },
  {
   "cell_type": "code",
   "execution_count": 237,
   "metadata": {},
   "outputs": [],
   "source": [
    "blip_df[\"Hour\"] = 99\n",
    "blip_df = blip_df.rename(index=str, columns={\"Timestamp\": \"Date\"})"
   ]
  },
  {
   "cell_type": "code",
   "execution_count": 238,
   "metadata": {},
   "outputs": [
    {
     "data": {
      "text/html": [
       "<div>\n",
       "<style scoped>\n",
       "    .dataframe tbody tr th:only-of-type {\n",
       "        vertical-align: middle;\n",
       "    }\n",
       "\n",
       "    .dataframe tbody tr th {\n",
       "        vertical-align: top;\n",
       "    }\n",
       "\n",
       "    .dataframe thead th {\n",
       "        text-align: right;\n",
       "    }\n",
       "</style>\n",
       "<table border=\"1\" class=\"dataframe\">\n",
       "  <thead>\n",
       "    <tr style=\"text-align: right;\">\n",
       "      <th></th>\n",
       "      <th>Date</th>\n",
       "      <th>Sensor</th>\n",
       "      <th>CrowdednessCount</th>\n",
       "      <th>Hour</th>\n",
       "    </tr>\n",
       "  </thead>\n",
       "  <tbody>\n",
       "    <tr>\n",
       "      <th>0</th>\n",
       "      <td>01-Apr-2018 00:00:00</td>\n",
       "      <td>GAWW-01</td>\n",
       "      <td>4271</td>\n",
       "      <td>99</td>\n",
       "    </tr>\n",
       "    <tr>\n",
       "      <th>1</th>\n",
       "      <td>01-Apr-2018 01:00:00</td>\n",
       "      <td>GAWW-01</td>\n",
       "      <td>3414</td>\n",
       "      <td>99</td>\n",
       "    </tr>\n",
       "    <tr>\n",
       "      <th>2</th>\n",
       "      <td>01-Apr-2018 02:00:00</td>\n",
       "      <td>GAWW-01</td>\n",
       "      <td>2292</td>\n",
       "      <td>99</td>\n",
       "    </tr>\n",
       "    <tr>\n",
       "      <th>3</th>\n",
       "      <td>01-Apr-2018 03:00:00</td>\n",
       "      <td>GAWW-01</td>\n",
       "      <td>1630</td>\n",
       "      <td>99</td>\n",
       "    </tr>\n",
       "    <tr>\n",
       "      <th>4</th>\n",
       "      <td>01-Apr-2018 04:00:00</td>\n",
       "      <td>GAWW-01</td>\n",
       "      <td>1148</td>\n",
       "      <td>99</td>\n",
       "    </tr>\n",
       "  </tbody>\n",
       "</table>\n",
       "</div>"
      ],
      "text/plain": [
       "                   Date   Sensor  CrowdednessCount  Hour\n",
       "0  01-Apr-2018 00:00:00  GAWW-01              4271    99\n",
       "1  01-Apr-2018 01:00:00  GAWW-01              3414    99\n",
       "2  01-Apr-2018 02:00:00  GAWW-01              2292    99\n",
       "3  01-Apr-2018 03:00:00  GAWW-01              1630    99\n",
       "4  01-Apr-2018 04:00:00  GAWW-01              1148    99"
      ]
     },
     "execution_count": 238,
     "metadata": {},
     "output_type": "execute_result"
    }
   ],
   "source": [
    "blip_df.head()"
   ]
  },
  {
   "cell_type": "markdown",
   "metadata": {},
   "source": [
    "#### Change TimeStamp to Date and Hour"
   ]
  },
  {
   "cell_type": "code",
   "execution_count": 245,
   "metadata": {},
   "outputs": [],
   "source": [
    "blip_dict = blip_df.to_dict(\"index\")"
   ]
  },
  {
   "cell_type": "code",
   "execution_count": 249,
   "metadata": {},
   "outputs": [],
   "source": [
    "#Datetime format\n",
    "date_format_1 = '%d-%b-%Y %H:%M:%S'\n",
    "date_format_2 = '%d-%B-%Y %H:%M:%S'\n",
    "\n",
    "#Loop over dict\n",
    "for k, v in blip_dict.items():    \n",
    "    try:\n",
    "        #Transform the date string to datatime.date object\n",
    "        date = datetime.strptime(v[\"Date\"], date_format_1)\n",
    "        v[\"Date\"] = date.date()\n",
    "        v[\"Hour\"] = date.time().hour\n",
    "        #Transfrom date to weekday number\n",
    "    except:\n",
    "        date = datetime.strptime(v[\"Date\"], date_format_2)\n",
    "        v[\"Date\"] = date.date()\n",
    "        v[\"Hour\"] = date.time().hour"
   ]
  },
  {
   "cell_type": "code",
   "execution_count": 256,
   "metadata": {},
   "outputs": [],
   "source": [
    "blip_df = pd.DataFrame.from_dict(blip_dict, orient=\"index\").reset_index().drop(columns={'index'})"
   ]
  },
  {
   "cell_type": "code",
   "execution_count": 257,
   "metadata": {},
   "outputs": [
    {
     "data": {
      "text/html": [
       "<div>\n",
       "<style scoped>\n",
       "    .dataframe tbody tr th:only-of-type {\n",
       "        vertical-align: middle;\n",
       "    }\n",
       "\n",
       "    .dataframe tbody tr th {\n",
       "        vertical-align: top;\n",
       "    }\n",
       "\n",
       "    .dataframe thead th {\n",
       "        text-align: right;\n",
       "    }\n",
       "</style>\n",
       "<table border=\"1\" class=\"dataframe\">\n",
       "  <thead>\n",
       "    <tr style=\"text-align: right;\">\n",
       "      <th></th>\n",
       "      <th>Date</th>\n",
       "      <th>Sensor</th>\n",
       "      <th>CrowdednessCount</th>\n",
       "      <th>Hour</th>\n",
       "    </tr>\n",
       "  </thead>\n",
       "  <tbody>\n",
       "    <tr>\n",
       "      <th>0</th>\n",
       "      <td>2018-04-01</td>\n",
       "      <td>GAWW-01</td>\n",
       "      <td>4271</td>\n",
       "      <td>0</td>\n",
       "    </tr>\n",
       "    <tr>\n",
       "      <th>1</th>\n",
       "      <td>2018-04-01</td>\n",
       "      <td>GAWW-01</td>\n",
       "      <td>3414</td>\n",
       "      <td>1</td>\n",
       "    </tr>\n",
       "    <tr>\n",
       "      <th>2</th>\n",
       "      <td>2018-04-01</td>\n",
       "      <td>GAWW-01</td>\n",
       "      <td>246</td>\n",
       "      <td>10</td>\n",
       "    </tr>\n",
       "    <tr>\n",
       "      <th>3</th>\n",
       "      <td>2019-01-01</td>\n",
       "      <td>GAWW-01</td>\n",
       "      <td>2788</td>\n",
       "      <td>3</td>\n",
       "    </tr>\n",
       "    <tr>\n",
       "      <th>4</th>\n",
       "      <td>2018-07-04</td>\n",
       "      <td>GAWW-01</td>\n",
       "      <td>1513</td>\n",
       "      <td>15</td>\n",
       "    </tr>\n",
       "  </tbody>\n",
       "</table>\n",
       "</div>"
      ],
      "text/plain": [
       "         Date   Sensor  CrowdednessCount  Hour\n",
       "0  2018-04-01  GAWW-01              4271     0\n",
       "1  2018-04-01  GAWW-01              3414     1\n",
       "2  2018-04-01  GAWW-01               246    10\n",
       "3  2019-01-01  GAWW-01              2788     3\n",
       "4  2018-07-04  GAWW-01              1513    15"
      ]
     },
     "execution_count": 257,
     "metadata": {},
     "output_type": "execute_result"
    }
   ],
   "source": [
    "blip_df.head()"
   ]
  },
  {
   "cell_type": "markdown",
   "metadata": {},
   "source": [
    "### Sensor Locations <a name=\"senData\"></a>\n",
    "The location of the cameras"
   ]
  },
  {
   "cell_type": "code",
   "execution_count": 258,
   "metadata": {},
   "outputs": [],
   "source": [
    "#Load in the data\n",
    "loc_df = pd.read_csv(\"../../../Data_thesis/Open_Data/crowdedness_sensoren.csv\", sep=\";\")"
   ]
  },
  {
   "cell_type": "code",
   "execution_count": 259,
   "metadata": {},
   "outputs": [],
   "source": [
    "#Select columns to use\n",
    "loc_df = loc_df[[\"Objectnummer\", \"LNG\", \"LAT\"]]"
   ]
  },
  {
   "cell_type": "code",
   "execution_count": 260,
   "metadata": {},
   "outputs": [
    {
     "data": {
      "text/html": [
       "<div>\n",
       "<style scoped>\n",
       "    .dataframe tbody tr th:only-of-type {\n",
       "        vertical-align: middle;\n",
       "    }\n",
       "\n",
       "    .dataframe tbody tr th {\n",
       "        vertical-align: top;\n",
       "    }\n",
       "\n",
       "    .dataframe thead th {\n",
       "        text-align: right;\n",
       "    }\n",
       "</style>\n",
       "<table border=\"1\" class=\"dataframe\">\n",
       "  <thead>\n",
       "    <tr style=\"text-align: right;\">\n",
       "      <th></th>\n",
       "      <th>Objectnummer</th>\n",
       "      <th>LNG</th>\n",
       "      <th>LAT</th>\n",
       "    </tr>\n",
       "  </thead>\n",
       "  <tbody>\n",
       "    <tr>\n",
       "      <th>0</th>\n",
       "      <td>GAWW-03</td>\n",
       "      <td>4,8973932</td>\n",
       "      <td>52,3725037</td>\n",
       "    </tr>\n",
       "    <tr>\n",
       "      <th>1</th>\n",
       "      <td>GAWW-03</td>\n",
       "      <td>4,8973336</td>\n",
       "      <td>52,3725237</td>\n",
       "    </tr>\n",
       "    <tr>\n",
       "      <th>2</th>\n",
       "      <td>GAWW-02</td>\n",
       "      <td>4,8988705</td>\n",
       "      <td>52,3737982</td>\n",
       "    </tr>\n",
       "    <tr>\n",
       "      <th>3</th>\n",
       "      <td>GAWW-02</td>\n",
       "      <td>4,8989027</td>\n",
       "      <td>52,3737857</td>\n",
       "    </tr>\n",
       "    <tr>\n",
       "      <th>4</th>\n",
       "      <td>GAWW-01</td>\n",
       "      <td>4,8997667</td>\n",
       "      <td>52,374627</td>\n",
       "    </tr>\n",
       "  </tbody>\n",
       "</table>\n",
       "</div>"
      ],
      "text/plain": [
       "  Objectnummer        LNG         LAT\n",
       "0      GAWW-03  4,8973932  52,3725037\n",
       "1      GAWW-03  4,8973336  52,3725237\n",
       "2      GAWW-02  4,8988705  52,3737982\n",
       "3      GAWW-02  4,8989027  52,3737857\n",
       "4      GAWW-01  4,8997667   52,374627"
      ]
     },
     "execution_count": 260,
     "metadata": {},
     "output_type": "execute_result"
    }
   ],
   "source": [
    "#Example contents\n",
    "loc_df.head()"
   ]
  },
  {
   "cell_type": "markdown",
   "metadata": {},
   "source": [
    "## Save coordinates needed cameras <a name=\"cords\"></a>\n",
    "Save the coordinates of the cameras we will use as target values"
   ]
  },
  {
   "cell_type": "markdown",
   "metadata": {},
   "source": [
    "### Variables"
   ]
  },
  {
   "cell_type": "code",
   "execution_count": 261,
   "metadata": {},
   "outputs": [],
   "source": [
    "#List needed cameras\n",
    "needed_sensors = [\"GAWW-01\", \"GAWW-02\", \"GAWW-03\", \"GAWW-04\", \"GAWW-05\", \"GAWW-06\", \"GAWW-07\", \"GAWW-08\", \"GAWW-09\", \n",
    "                  \"GAWW-10\"]\n",
    "\n",
    "#change df into dict\n",
    "loc_dict = loc_df.to_dict(\"index\")\n",
    "\n",
    "#Dict to saved the needed locations in\n",
    "sensor_dict = {}"
   ]
  },
  {
   "cell_type": "markdown",
   "metadata": {},
   "source": [
    "### Saved coordinates to Sensor_dict"
   ]
  },
  {
   "cell_type": "code",
   "execution_count": 262,
   "metadata": {},
   "outputs": [],
   "source": [
    "for k, v in loc_dict.items():\n",
    "    \n",
    "    #Save only the cameras with the object nummer given above\n",
    "    if v[\"Objectnummer\"] in needed_sensors:\n",
    "        \n",
    "        #Replace the \".\" with \",\" to make sure the coordinates can be turned into floats\n",
    "        v[\"LNG\"] = float(v[\"LNG\"].replace(\",\", \".\"))\n",
    "        v[\"LAT\"] = float(v[\"LAT\"].replace(\",\", \".\"))\n",
    "        \n",
    "        #Save all contents in dict\n",
    "        sensor_dict[v[\"Objectnummer\"]] = {\"Longitude\": v[\"LNG\"], \"Latitude\": v[\"LAT\"]}"
   ]
  },
  {
   "cell_type": "markdown",
   "metadata": {},
   "source": [
    "## Merge Crowdedness and Blip"
   ]
  },
  {
   "cell_type": "code",
   "execution_count": 273,
   "metadata": {},
   "outputs": [],
   "source": [
    "crowd_df = pd.concat([crowd_df, blip_df], sort=True).reset_index().drop(columns={\"index\"})"
   ]
  },
  {
   "cell_type": "code",
   "execution_count": 274,
   "metadata": {},
   "outputs": [
    {
     "data": {
      "text/html": [
       "<div>\n",
       "<style scoped>\n",
       "    .dataframe tbody tr th:only-of-type {\n",
       "        vertical-align: middle;\n",
       "    }\n",
       "\n",
       "    .dataframe tbody tr th {\n",
       "        vertical-align: top;\n",
       "    }\n",
       "\n",
       "    .dataframe thead th {\n",
       "        text-align: right;\n",
       "    }\n",
       "</style>\n",
       "<table border=\"1\" class=\"dataframe\">\n",
       "  <thead>\n",
       "    <tr style=\"text-align: right;\">\n",
       "      <th></th>\n",
       "      <th>CrowdednessCount</th>\n",
       "      <th>Date</th>\n",
       "      <th>Hour</th>\n",
       "      <th>Sensor</th>\n",
       "      <th>SensorLatitude</th>\n",
       "      <th>SensorLongitude</th>\n",
       "    </tr>\n",
       "  </thead>\n",
       "  <tbody>\n",
       "    <tr>\n",
       "      <th>0</th>\n",
       "      <td>0</td>\n",
       "      <td>2018-03-11 00:00:00</td>\n",
       "      <td>0</td>\n",
       "      <td>GAWW-02</td>\n",
       "      <td>52.373786</td>\n",
       "      <td>4.898903</td>\n",
       "    </tr>\n",
       "    <tr>\n",
       "      <th>1</th>\n",
       "      <td>0</td>\n",
       "      <td>2018-03-11 00:00:00</td>\n",
       "      <td>10000</td>\n",
       "      <td>GAWW-02</td>\n",
       "      <td>52.373786</td>\n",
       "      <td>4.898903</td>\n",
       "    </tr>\n",
       "    <tr>\n",
       "      <th>2</th>\n",
       "      <td>0</td>\n",
       "      <td>2018-03-11 00:00:00</td>\n",
       "      <td>100000</td>\n",
       "      <td>GAWW-02</td>\n",
       "      <td>52.373786</td>\n",
       "      <td>4.898903</td>\n",
       "    </tr>\n",
       "    <tr>\n",
       "      <th>3</th>\n",
       "      <td>39</td>\n",
       "      <td>2018-03-15 00:00:00</td>\n",
       "      <td>40000</td>\n",
       "      <td>GAWW-02</td>\n",
       "      <td>52.373786</td>\n",
       "      <td>4.898903</td>\n",
       "    </tr>\n",
       "    <tr>\n",
       "      <th>4</th>\n",
       "      <td>1618</td>\n",
       "      <td>2018-04-21 00:00:00</td>\n",
       "      <td>170000</td>\n",
       "      <td>GAWW-02</td>\n",
       "      <td>52.373786</td>\n",
       "      <td>4.898903</td>\n",
       "    </tr>\n",
       "  </tbody>\n",
       "</table>\n",
       "</div>"
      ],
      "text/plain": [
       "   CrowdednessCount                 Date    Hour   Sensor  SensorLatitude  \\\n",
       "0                 0  2018-03-11 00:00:00       0  GAWW-02       52.373786   \n",
       "1                 0  2018-03-11 00:00:00   10000  GAWW-02       52.373786   \n",
       "2                 0  2018-03-11 00:00:00  100000  GAWW-02       52.373786   \n",
       "3                39  2018-03-15 00:00:00   40000  GAWW-02       52.373786   \n",
       "4              1618  2018-04-21 00:00:00  170000  GAWW-02       52.373786   \n",
       "\n",
       "   SensorLongitude  \n",
       "0         4.898903  \n",
       "1         4.898903  \n",
       "2         4.898903  \n",
       "3         4.898903  \n",
       "4         4.898903  "
      ]
     },
     "execution_count": 274,
     "metadata": {},
     "output_type": "execute_result"
    }
   ],
   "source": [
    "crowd_df.head()"
   ]
  },
  {
   "cell_type": "markdown",
   "metadata": {},
   "source": [
    "## Data to Dict <a name=\"dict\"></a>"
   ]
  },
  {
   "cell_type": "markdown",
   "metadata": {},
   "source": [
    "### Variables"
   ]
  },
  {
   "cell_type": "code",
   "execution_count": 275,
   "metadata": {},
   "outputs": [],
   "source": [
    "#Change df into dict\n",
    "crowd_dict = crowd_df.to_dict(\"index\")\n",
    "\n",
    "#Different camera names for given camera name\n",
    "gaww_02 = [2, \"02R\", \"2R\", \"Oude Kennissteeg Occ wifi\"]\n",
    "gaww_03 = [3, \"03R\"]"
   ]
  },
  {
   "cell_type": "markdown",
   "metadata": {},
   "source": [
    "### Combines coordinates with given camera"
   ]
  },
  {
   "cell_type": "code",
   "execution_count": 276,
   "metadata": {},
   "outputs": [],
   "source": [
    "#Loop over dict\n",
    "for k, v in crowd_dict.items():\n",
    "    \n",
    "    #Change camera name\n",
    "    if v[\"Sensor\"] in gaww_02:\n",
    "        v[\"Sensor\"] = \"GAWW-02\"\n",
    "        \n",
    "        #Change the ccordinates of the given camera to the correct ones\n",
    "        v[\"SensorLongitude\"] = sensor_dict[\"GAWW-02\"][\"Longitude\"]\n",
    "        v[\"SensorLatitude\"] = sensor_dict[\"GAWW-02\"][\"Latitude\"]\n",
    "        \n",
    "    elif v[\"Sensor\"] in gaww_03:\n",
    "        v[\"Sensor\"] = \"GAWW-03\"\n",
    "        v[\"SensorLongitude\"] = sensor_dict[\"GAWW-03\"][\"Longitude\"]\n",
    "        v[\"SensorLatitude\"] = sensor_dict[\"GAWW-03\"][\"Latitude\"]\n",
    "        \n",
    "    elif v[\"Sensor\"] == \"GAWW-01\":\n",
    "        v[\"SensorLongitude\"] = sensor_dict[\"GAWW-01\"][\"Longitude\"]\n",
    "        v[\"SensorLatitude\"] = sensor_dict[\"GAWW-01\"][\"Latitude\"]\n",
    "    \n",
    "    elif v[\"Sensor\"] == \"GAWW-04\":\n",
    "        v[\"SensorLongitude\"] = sensor_dict[\"GAWW-04\"][\"Longitude\"]\n",
    "        v[\"SensorLatitude\"] = sensor_dict[\"GAWW-04\"][\"Latitude\"]\n",
    "   \n",
    "    elif v[\"Sensor\"] == \"GAWW-05\":\n",
    "        v[\"SensorLongitude\"] = sensor_dict[\"GAWW-05\"][\"Longitude\"]\n",
    "        v[\"SensorLatitude\"] = sensor_dict[\"GAWW-05\"][\"Latitude\"]\n",
    "        \n",
    "    elif v[\"Sensor\"] == \"GAWW-06\":\n",
    "        v[\"SensorLongitude\"] = sensor_dict[\"GAWW-06\"][\"Longitude\"]\n",
    "        v[\"SensorLatitude\"] = sensor_dict[\"GAWW-06\"][\"Latitude\"]\n",
    "        \n",
    "    elif v[\"Sensor\"] == \"GAWW-07\":\n",
    "        v[\"SensorLongitude\"] = sensor_dict[\"GAWW-07\"][\"Longitude\"]\n",
    "        v[\"SensorLatitude\"] = sensor_dict[\"GAWW-07\"][\"Latitude\"]\n",
    "        \n",
    "    elif v[\"Sensor\"] == \"GAWW-08\":\n",
    "        v[\"SensorLongitude\"] = sensor_dict[\"GAWW-08\"][\"Longitude\"]\n",
    "        v[\"SensorLatitude\"] = sensor_dict[\"GAWW-08\"][\"Latitude\"]\n",
    "    \n",
    "    elif v[\"Sensor\"] == \"GAWW-09\":\n",
    "        v[\"SensorLongitude\"] = sensor_dict[\"GAWW-09\"][\"Longitude\"]\n",
    "        v[\"SensorLatitude\"] = sensor_dict[\"GAWW-09\"][\"Latitude\"]\n",
    "        \n",
    "    elif v[\"Sensor\"] == \"GAWW-10\":\n",
    "        v[\"SensorLongitude\"] = sensor_dict[\"GAWW-10\"][\"Longitude\"]\n",
    "        v[\"SensorLatitude\"] = sensor_dict[\"GAWW-10\"][\"Latitude\"]       \n",
    "        \n",
    "    v[\"Hour\"] *= 100"
   ]
  },
  {
   "cell_type": "code",
   "execution_count": 280,
   "metadata": {},
   "outputs": [],
   "source": [
    "#Return from Dict\n",
    "crowd_df = pd.DataFrame.from_dict(crowd_dict, orient=\"index\")\n",
    "\n",
    "#Onlt save the sensors for which the coordinates are known\n",
    "crowd_df = crowd_df[crowd_df[\"Sensor\"].isin(needed_sensors)]\n",
    "\n",
    "crowd_df = crowd_df.groupby([\"Sensor\", \"Date\", \"Hour\", \"SensorLongitude\", \n",
    "                             \"SensorLatitude\"])[\"CrowdednessCount\"].sum().reset_index()"
   ]
  },
  {
   "cell_type": "code",
   "execution_count": 281,
   "metadata": {},
   "outputs": [
    {
     "data": {
      "text/html": [
       "<div>\n",
       "<style scoped>\n",
       "    .dataframe tbody tr th:only-of-type {\n",
       "        vertical-align: middle;\n",
       "    }\n",
       "\n",
       "    .dataframe tbody tr th {\n",
       "        vertical-align: top;\n",
       "    }\n",
       "\n",
       "    .dataframe thead th {\n",
       "        text-align: right;\n",
       "    }\n",
       "</style>\n",
       "<table border=\"1\" class=\"dataframe\">\n",
       "  <thead>\n",
       "    <tr style=\"text-align: right;\">\n",
       "      <th></th>\n",
       "      <th>Sensor</th>\n",
       "      <th>Date</th>\n",
       "      <th>Hour</th>\n",
       "      <th>SensorLongitude</th>\n",
       "      <th>SensorLatitude</th>\n",
       "      <th>CrowdednessCount</th>\n",
       "    </tr>\n",
       "  </thead>\n",
       "  <tbody>\n",
       "    <tr>\n",
       "      <th>0</th>\n",
       "      <td>GAWW-01</td>\n",
       "      <td>2018-03-11</td>\n",
       "      <td>100</td>\n",
       "      <td>4.899847</td>\n",
       "      <td>52.374601</td>\n",
       "      <td>6266</td>\n",
       "    </tr>\n",
       "    <tr>\n",
       "      <th>1</th>\n",
       "      <td>GAWW-01</td>\n",
       "      <td>2018-03-11</td>\n",
       "      <td>200</td>\n",
       "      <td>4.899847</td>\n",
       "      <td>52.374601</td>\n",
       "      <td>4240</td>\n",
       "    </tr>\n",
       "    <tr>\n",
       "      <th>2</th>\n",
       "      <td>GAWW-01</td>\n",
       "      <td>2018-03-11</td>\n",
       "      <td>300</td>\n",
       "      <td>4.899847</td>\n",
       "      <td>52.374601</td>\n",
       "      <td>2838</td>\n",
       "    </tr>\n",
       "    <tr>\n",
       "      <th>3</th>\n",
       "      <td>GAWW-01</td>\n",
       "      <td>2018-03-11</td>\n",
       "      <td>400</td>\n",
       "      <td>4.899847</td>\n",
       "      <td>52.374601</td>\n",
       "      <td>2170</td>\n",
       "    </tr>\n",
       "    <tr>\n",
       "      <th>4</th>\n",
       "      <td>GAWW-01</td>\n",
       "      <td>2018-03-11</td>\n",
       "      <td>500</td>\n",
       "      <td>4.899847</td>\n",
       "      <td>52.374601</td>\n",
       "      <td>996</td>\n",
       "    </tr>\n",
       "  </tbody>\n",
       "</table>\n",
       "</div>"
      ],
      "text/plain": [
       "    Sensor       Date  Hour  SensorLongitude  SensorLatitude  CrowdednessCount\n",
       "0  GAWW-01 2018-03-11   100         4.899847       52.374601              6266\n",
       "1  GAWW-01 2018-03-11   200         4.899847       52.374601              4240\n",
       "2  GAWW-01 2018-03-11   300         4.899847       52.374601              2838\n",
       "3  GAWW-01 2018-03-11   400         4.899847       52.374601              2170\n",
       "4  GAWW-01 2018-03-11   500         4.899847       52.374601               996"
      ]
     },
     "execution_count": 281,
     "metadata": {},
     "output_type": "execute_result"
    }
   ],
   "source": [
    "#Example contents\n",
    "crowd_df.head()"
   ]
  },
  {
   "cell_type": "code",
   "execution_count": 282,
   "metadata": {},
   "outputs": [
    {
     "data": {
      "text/plain": [
       "array(['GAWW-01', 'GAWW-02', 'GAWW-03', 'GAWW-04', 'GAWW-05', 'GAWW-06',\n",
       "       'GAWW-07', 'GAWW-08', 'GAWW-09', 'GAWW-10'], dtype=object)"
      ]
     },
     "execution_count": 282,
     "metadata": {},
     "output_type": "execute_result"
    }
   ],
   "source": [
    "crowd_df.Sensor.unique()"
   ]
  },
  {
   "cell_type": "markdown",
   "metadata": {},
   "source": [
    "## DF to File <a name=\"CSV\"></a>"
   ]
  },
  {
   "cell_type": "code",
   "execution_count": 284,
   "metadata": {},
   "outputs": [],
   "source": [
    "crowd_df.to_csv(\"../../../Data_thesis/Full_Datasets/Crowdedness.csv\", index=False)"
   ]
  }
 ],
 "metadata": {
  "kernelspec": {
   "display_name": "Python 3",
   "language": "python",
   "name": "python3"
  },
  "language_info": {
   "codemirror_mode": {
    "name": "ipython",
    "version": 3
   },
   "file_extension": ".py",
   "mimetype": "text/x-python",
   "name": "python",
   "nbconvert_exporter": "python",
   "pygments_lexer": "ipython3",
   "version": "3.7.1"
  }
 },
 "nbformat": 4,
 "nbformat_minor": 2
}
