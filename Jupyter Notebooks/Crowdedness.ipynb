{
 "cells": [
  {
   "cell_type": "markdown",
   "metadata": {},
   "source": [
    "# Crowdedness Data"
   ]
  },
  {
   "cell_type": "markdown",
   "metadata": {},
   "source": [
    "## Imports <a name=\"imports\"></a>"
   ]
  },
  {
   "cell_type": "code",
   "execution_count": 55,
   "metadata": {},
   "outputs": [],
   "source": [
    "import pandas as pd\n",
    "from datetime import datetime\n",
    "import numpy as np\n",
    "\n",
    "from sklearn.preprocessing import LabelEncoder"
   ]
  },
  {
   "cell_type": "markdown",
   "metadata": {},
   "source": [
    "## Import Data <a name=\"importData\"></a>"
   ]
  },
  {
   "cell_type": "markdown",
   "metadata": {},
   "source": [
    "### Crowdedness Data <a name=\"crowdData\"></a>\n",
    "The crowdedness count per camera, per day, per hour"
   ]
  },
  {
   "cell_type": "code",
   "execution_count": null,
   "metadata": {},
   "outputs": [],
   "source": [
    "#Load in the data\n",
    "crowd_df = pd.read_excel(\"../../../Data_thesis/CMSA/cmsa_data.xlsx\")"
   ]
  },
  {
   "cell_type": "code",
   "execution_count": null,
   "metadata": {},
   "outputs": [],
   "source": [
    "#Example Contents\n",
    "crowd_df.head()"
   ]
  },
  {
   "cell_type": "markdown",
   "metadata": {},
   "source": [
    "### Crowdedness Data (Without Sensor column)\n",
    "All the data resides in multiple files, where the filename equals the sensor number"
   ]
  },
  {
   "cell_type": "code",
   "execution_count": null,
   "metadata": {},
   "outputs": [],
   "source": [
    "blip_df = pd.read_csv(\"../../../Data_thesis/CMSA/BlipData.csv\")"
   ]
  },
  {
   "cell_type": "code",
   "execution_count": null,
   "metadata": {},
   "outputs": [],
   "source": [
    "blip_df.head()"
   ]
  },
  {
   "cell_type": "markdown",
   "metadata": {},
   "source": [
    "### Sensor Locations <a name=\"senData\"></a>\n",
    "The location of the cameras"
   ]
  },
  {
   "cell_type": "code",
   "execution_count": null,
   "metadata": {},
   "outputs": [],
   "source": [
    "#Load in the data\n",
    "sensor_df = pd.read_csv(\"../../../Data_thesis/Open_Data/crowdedness_sensoren.csv\", sep=\";\")"
   ]
  },
  {
   "cell_type": "code",
   "execution_count": null,
   "metadata": {},
   "outputs": [],
   "source": [
    "#Example contents\n",
    "sensor_df.head()"
   ]
  },
  {
   "cell_type": "markdown",
   "metadata": {},
   "source": [
    "## Functions"
   ]
  },
  {
   "cell_type": "code",
   "execution_count": null,
   "metadata": {},
   "outputs": [],
   "source": [
    "def SensorCoordinates(sensor_df, needed_sensors):\n",
    "    \"\"\"\n",
    "    This function retrieves the Longitude and Latitude of the needed Sensors and returns these. \n",
    "\n",
    "    Input:\n",
    "        - Sensor_df: DF with longitude and latitude of all the sensors in Amsterdam\n",
    "        - needed_sensor (hyperparameter): List with all the sensors from which the location must be retrieved\n",
    "\n",
    "    Output:\n",
    "        - Dict file as follows --> SensorName = {\"Longitude\": <longitude>, \"Latitude\": <latitude>}\n",
    "    \"\"\"\n",
    "\n",
    "    #Dict to saved the needed locations in\n",
    "    locations_dict = {}\n",
    "\n",
    "    #Select columns to use\n",
    "    sensor_df = sensor_df[[\"Objectnummer\", \"LNG\", \"LAT\"]]\n",
    "\n",
    "    #Change Df into dict (Needed for operations on data)\n",
    "    sensor_dict = sensor_df.to_dict(\"index\")\n",
    "\n",
    "    for k, v in sensor_dict.items():\n",
    "\n",
    "        #Save only the cameras with the object nummer given above\n",
    "        if v[\"Objectnummer\"] in needed_sensors:\n",
    "\n",
    "            #Replace the \".\" with \",\" to make sure the coordinates can be turned into floats\n",
    "            v[\"LNG\"] = float(v[\"LNG\"].replace(\",\", \".\"))\n",
    "            v[\"LAT\"] = float(v[\"LAT\"].replace(\",\", \".\"))\n",
    "\n",
    "            #Save all contents in seperate dict\n",
    "            locations_dict[v[\"Objectnummer\"]] = {\n",
    "                \"Longitude\": v[\"LNG\"], \"Latitude\": v[\"LAT\"]}\n",
    "\n",
    "    return locations_dict"
   ]
  },
  {
   "cell_type": "code",
   "execution_count": null,
   "metadata": {},
   "outputs": [],
   "source": [
    "def CrowdednessData(crowd_df, blip_df, locations_dict, needed_sensors, gaww_02, gaww_03):\n",
    "    \"\"\"\n",
    "    This function takes the crowdedness data from all the sensors within Amsterdam. The data from sensors that roughly measure the same place is aggregated under the \n",
    "    same sensor name and combined with the latitude and longitude of the sensor's measure area (see function SensorCoordinates). \n",
    "\n",
    "    Input:\n",
    "        - crowd_df: Df with the crowdedness data of all the sensors\n",
    "        - locations_dict; Dict with the longitude and latitude of the relevant sensor (constructed in function SensorCoordinates)\n",
    "        - gaww_02/gaww_03: List with alternative sensor names \n",
    "    \"\"\"\n",
    "\n",
    "    crowd_df = pd.concat([crowd_df, blip_df],\n",
    "                         sort=True).reset_index().drop(columns={\"index\"})\n",
    "\n",
    "    #Group the counts of people per hour, per date, per camera\n",
    "    crowd_df = crowd_df.groupby([\"richting\", \"datum\", \"uur\"])[\n",
    "        \"SampleCount\"].sum().reset_index()\n",
    "    \n",
    "    #Rename the columns\n",
    "    crowd_df = crowd_df.rename(index=str, columns={\"richting\": \"Sensor\", \"datum\": \"Date\", \"uur\": \"Hour\",\n",
    "                                               \"SampleCount\": \"CrowdednessCount\"})\n",
    "    \n",
    "    #For the longitude number of the sensor\n",
    "    crowd_df.insert(3, \"SensorLongitude\", 0)\n",
    "\n",
    "    #For the latitude number of the sensor\n",
    "    crowd_df.insert(4, \"SensorLatitude\", 0)\n",
    "\n",
    "    #Change Df into dict\n",
    "    crowd_dict = crowd_df.to_dict(\"index\")\n",
    "\n",
    "    #Loop over dict\n",
    "    for k, v in crowd_dict.items():\n",
    "\n",
    "        #Change camera name\n",
    "        if v[\"Sensor\"] in gaww_02:\n",
    "            v[\"Sensor\"] = \"GAWW-02\"\n",
    "\n",
    "        #Change camera name\n",
    "        elif v[\"Sensor\"] in gaww_03:\n",
    "            v[\"Sensor\"] = \"GAWW-03\"\n",
    "\n",
    "        if v[\"Sensor\"] in needed_sensors:\n",
    "\n",
    "            v[\"SensorLongitude\"] = locations_dict[v[\"Sensor\"]][\"Longitude\"]\n",
    "            v[\"SensorLatitude\"] = locations_dict[v[\"Sensor\"]][\"Latitude\"]\n",
    "\n",
    "        #Mulitply hour with 100 (Same structure as the other files)\n",
    "        v[\"Hour\"] *= 100\n",
    "\n",
    "        if v[\"Hour\"] == 0:\n",
    "            v[\"Hour\"] = 2400\n",
    "\n",
    "    #Return from Dict\n",
    "    full_df = pd.DataFrame.from_dict(crowd_dict, orient=\"index\")\n",
    "\n",
    "    #Onlt save the sensors for which the coordinates are known\n",
    "    crowd_df = crowd_df[crowd_df[\"Sensor\"].isin(needed_sensors)]\n",
    "\n",
    "    #Group the multiple different sensor data from same date and hour together\n",
    "    full_df = full_df.groupby([\"Sensor\", \"Date\", \"Hour\", \"SensorLongitude\",\n",
    "                                 \"SensorLatitude\"])[\"CrowdednessCount\"].sum().reset_index()\n",
    "\n",
    "    crowd_df['SensorLongitude'] = LabelEncoder().fit_transform(crowd_df['SensorLongitude'])\n",
    "    crowd_df['SensorLatitude'] = LabelEncoder().fit_transform(crowd_df['SensorLatitude'])\n",
    "\n",
    "    return full_df"
   ]
  },
  {
   "cell_type": "markdown",
   "metadata": {},
   "source": [
    "### Variables"
   ]
  },
  {
   "cell_type": "code",
   "execution_count": null,
   "metadata": {},
   "outputs": [],
   "source": [
    "#Sensors to use in Sensor Data\n",
    "needed_sensors = [\"GAWW-01\", \"GAWW-02\", \"GAWW-03\", \"GAWW-04\", \"GAWW-05\", \"GAWW-06\", \"GAWW-07\", \"GAWW-08\", \"GAWW-09\",\n",
    "                  \"GAWW-10\"]\n",
    "\n",
    "#Alternative names Sensors\n",
    "gaww_02 = [2, \"02R\", \"2R\", \"Oude Kennissteeg Occ wifi\"]\n",
    "gaww_03 = [3, \"03R\"]"
   ]
  },
  {
   "cell_type": "markdown",
   "metadata": {},
   "source": [
    "### Transforms Sensor DF"
   ]
  },
  {
   "cell_type": "code",
   "execution_count": null,
   "metadata": {},
   "outputs": [],
   "source": [
    "#Transform Sensor df\n",
    "locations_dict = SensorCoordinates(sensor_df, needed_sensors)"
   ]
  },
  {
   "cell_type": "markdown",
   "metadata": {},
   "source": [
    "### Construct Full DF"
   ]
  },
  {
   "cell_type": "code",
   "execution_count": null,
   "metadata": {},
   "outputs": [],
   "source": [
    "full_df = CrowdednessData(crowd_df, blip_df, locations_dict, needed_sensors, gaww_02, gaww_03)"
   ]
  },
  {
   "cell_type": "code",
   "execution_count": null,
   "metadata": {},
   "outputs": [],
   "source": [
    "#Example contents\n",
    "full_df.head()"
   ]
  },
  {
   "cell_type": "markdown",
   "metadata": {},
   "source": [
    "## DF to File <a name=\"CSV\"></a>"
   ]
  },
  {
   "cell_type": "code",
   "execution_count": 89,
   "metadata": {},
   "outputs": [],
   "source": [
    "full_df.to_csv(\"../../../Data_thesis/Full_Datasets/Crowdedness.csv\", index=False)"
   ]
  }
 ],
 "metadata": {
  "kernelspec": {
   "display_name": "Python 3",
   "language": "python",
   "name": "python3"
  },
  "language_info": {
   "codemirror_mode": {
    "name": "ipython",
    "version": 3
   },
   "file_extension": ".py",
   "mimetype": "text/x-python",
   "name": "python",
   "nbconvert_exporter": "python",
   "pygments_lexer": "ipython3",
   "version": "3.7.1"
  }
 },
 "nbformat": 4,
 "nbformat_minor": 2
}
