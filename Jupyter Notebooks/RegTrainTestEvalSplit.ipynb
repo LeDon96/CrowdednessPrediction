{
 "cells": [
  {
   "cell_type": "markdown",
   "metadata": {},
   "source": [
    "# Regression Model Train/Test/Eval Split"
   ]
  },
  {
   "cell_type": "markdown",
   "metadata": {},
   "source": [
    "## Imports"
   ]
  },
  {
   "cell_type": "code",
   "execution_count": 4,
   "metadata": {},
   "outputs": [],
   "source": [
    "import pandas as pd\n",
    "import numpy as np"
   ]
  },
  {
   "cell_type": "markdown",
   "metadata": {},
   "source": [
    "## Import File"
   ]
  },
  {
   "cell_type": "code",
   "execution_count": 2,
   "metadata": {},
   "outputs": [
    {
     "data": {
      "text/html": [
       "<div>\n",
       "<style scoped>\n",
       "    .dataframe tbody tr th:only-of-type {\n",
       "        vertical-align: middle;\n",
       "    }\n",
       "\n",
       "    .dataframe tbody tr th {\n",
       "        vertical-align: top;\n",
       "    }\n",
       "\n",
       "    .dataframe thead th {\n",
       "        text-align: right;\n",
       "    }\n",
       "</style>\n",
       "<table border=\"1\" class=\"dataframe\">\n",
       "  <thead>\n",
       "    <tr style=\"text-align: right;\">\n",
       "      <th></th>\n",
       "      <th>Date</th>\n",
       "      <th>Hour</th>\n",
       "      <th>Nieuwmarkt Arrivals</th>\n",
       "      <th>Nieuwezijds Kolk Arrivals</th>\n",
       "      <th>Dam Arrivals</th>\n",
       "      <th>Spui Arrivals</th>\n",
       "      <th>Nieuwmarkt Departures</th>\n",
       "      <th>Nieuwezijds Kolk Departures</th>\n",
       "      <th>Dam Departures</th>\n",
       "      <th>Spui Departures</th>\n",
       "      <th>...</th>\n",
       "      <th>SensorLatitude</th>\n",
       "      <th>CrowdednessCount</th>\n",
       "      <th>is_event</th>\n",
       "      <th>Year</th>\n",
       "      <th>month_sin</th>\n",
       "      <th>month_cos</th>\n",
       "      <th>day_sin</th>\n",
       "      <th>day_cos</th>\n",
       "      <th>hour_sin</th>\n",
       "      <th>hour_cos</th>\n",
       "    </tr>\n",
       "  </thead>\n",
       "  <tbody>\n",
       "    <tr>\n",
       "      <th>0</th>\n",
       "      <td>2018-03-11</td>\n",
       "      <td>2400</td>\n",
       "      <td>77.0</td>\n",
       "      <td>38.0</td>\n",
       "      <td>187.0</td>\n",
       "      <td>40.0</td>\n",
       "      <td>198.0</td>\n",
       "      <td>63.0</td>\n",
       "      <td>411.0</td>\n",
       "      <td>87.0</td>\n",
       "      <td>...</td>\n",
       "      <td>6</td>\n",
       "      <td>0</td>\n",
       "      <td>0.0</td>\n",
       "      <td>2018</td>\n",
       "      <td>1.0</td>\n",
       "      <td>6.123234e-17</td>\n",
       "      <td>0.188227</td>\n",
       "      <td>0.982126</td>\n",
       "      <td>-2.449294e-16</td>\n",
       "      <td>1.000000</td>\n",
       "    </tr>\n",
       "    <tr>\n",
       "      <th>1</th>\n",
       "      <td>2018-03-11</td>\n",
       "      <td>2100</td>\n",
       "      <td>136.0</td>\n",
       "      <td>80.0</td>\n",
       "      <td>409.0</td>\n",
       "      <td>40.0</td>\n",
       "      <td>211.0</td>\n",
       "      <td>119.0</td>\n",
       "      <td>858.0</td>\n",
       "      <td>94.0</td>\n",
       "      <td>...</td>\n",
       "      <td>0</td>\n",
       "      <td>21</td>\n",
       "      <td>0.0</td>\n",
       "      <td>2018</td>\n",
       "      <td>1.0</td>\n",
       "      <td>6.123234e-17</td>\n",
       "      <td>0.188227</td>\n",
       "      <td>0.982126</td>\n",
       "      <td>-7.071068e-01</td>\n",
       "      <td>0.707107</td>\n",
       "    </tr>\n",
       "    <tr>\n",
       "      <th>2</th>\n",
       "      <td>2018-03-11</td>\n",
       "      <td>2100</td>\n",
       "      <td>136.0</td>\n",
       "      <td>80.0</td>\n",
       "      <td>409.0</td>\n",
       "      <td>40.0</td>\n",
       "      <td>211.0</td>\n",
       "      <td>119.0</td>\n",
       "      <td>858.0</td>\n",
       "      <td>94.0</td>\n",
       "      <td>...</td>\n",
       "      <td>9</td>\n",
       "      <td>88</td>\n",
       "      <td>0.0</td>\n",
       "      <td>2018</td>\n",
       "      <td>1.0</td>\n",
       "      <td>6.123234e-17</td>\n",
       "      <td>0.188227</td>\n",
       "      <td>0.982126</td>\n",
       "      <td>-7.071068e-01</td>\n",
       "      <td>0.707107</td>\n",
       "    </tr>\n",
       "    <tr>\n",
       "      <th>3</th>\n",
       "      <td>2018-03-11</td>\n",
       "      <td>2100</td>\n",
       "      <td>136.0</td>\n",
       "      <td>80.0</td>\n",
       "      <td>409.0</td>\n",
       "      <td>40.0</td>\n",
       "      <td>211.0</td>\n",
       "      <td>119.0</td>\n",
       "      <td>858.0</td>\n",
       "      <td>94.0</td>\n",
       "      <td>...</td>\n",
       "      <td>2</td>\n",
       "      <td>49</td>\n",
       "      <td>0.0</td>\n",
       "      <td>2018</td>\n",
       "      <td>1.0</td>\n",
       "      <td>6.123234e-17</td>\n",
       "      <td>0.188227</td>\n",
       "      <td>0.982126</td>\n",
       "      <td>-7.071068e-01</td>\n",
       "      <td>0.707107</td>\n",
       "    </tr>\n",
       "    <tr>\n",
       "      <th>4</th>\n",
       "      <td>2018-03-11</td>\n",
       "      <td>2200</td>\n",
       "      <td>116.0</td>\n",
       "      <td>64.0</td>\n",
       "      <td>288.0</td>\n",
       "      <td>21.0</td>\n",
       "      <td>210.0</td>\n",
       "      <td>103.0</td>\n",
       "      <td>732.0</td>\n",
       "      <td>98.0</td>\n",
       "      <td>...</td>\n",
       "      <td>8</td>\n",
       "      <td>2900</td>\n",
       "      <td>0.0</td>\n",
       "      <td>2018</td>\n",
       "      <td>1.0</td>\n",
       "      <td>6.123234e-17</td>\n",
       "      <td>0.188227</td>\n",
       "      <td>0.982126</td>\n",
       "      <td>-5.000000e-01</td>\n",
       "      <td>0.866025</td>\n",
       "    </tr>\n",
       "  </tbody>\n",
       "</table>\n",
       "<p>5 rows × 24 columns</p>\n",
       "</div>"
      ],
      "text/plain": [
       "        Date  Hour  Nieuwmarkt Arrivals  Nieuwezijds Kolk Arrivals  \\\n",
       "0 2018-03-11  2400                 77.0                       38.0   \n",
       "1 2018-03-11  2100                136.0                       80.0   \n",
       "2 2018-03-11  2100                136.0                       80.0   \n",
       "3 2018-03-11  2100                136.0                       80.0   \n",
       "4 2018-03-11  2200                116.0                       64.0   \n",
       "\n",
       "   Dam Arrivals  Spui Arrivals  Nieuwmarkt Departures  \\\n",
       "0         187.0           40.0                  198.0   \n",
       "1         409.0           40.0                  211.0   \n",
       "2         409.0           40.0                  211.0   \n",
       "3         409.0           40.0                  211.0   \n",
       "4         288.0           21.0                  210.0   \n",
       "\n",
       "   Nieuwezijds Kolk Departures  Dam Departures  Spui Departures  ...  \\\n",
       "0                         63.0           411.0             87.0  ...   \n",
       "1                        119.0           858.0             94.0  ...   \n",
       "2                        119.0           858.0             94.0  ...   \n",
       "3                        119.0           858.0             94.0  ...   \n",
       "4                        103.0           732.0             98.0  ...   \n",
       "\n",
       "   SensorLatitude  CrowdednessCount is_event  Year  month_sin     month_cos  \\\n",
       "0               6                 0      0.0  2018        1.0  6.123234e-17   \n",
       "1               0                21      0.0  2018        1.0  6.123234e-17   \n",
       "2               9                88      0.0  2018        1.0  6.123234e-17   \n",
       "3               2                49      0.0  2018        1.0  6.123234e-17   \n",
       "4               8              2900      0.0  2018        1.0  6.123234e-17   \n",
       "\n",
       "    day_sin   day_cos      hour_sin  hour_cos  \n",
       "0  0.188227  0.982126 -2.449294e-16  1.000000  \n",
       "1  0.188227  0.982126 -7.071068e-01  0.707107  \n",
       "2  0.188227  0.982126 -7.071068e-01  0.707107  \n",
       "3  0.188227  0.982126 -7.071068e-01  0.707107  \n",
       "4  0.188227  0.982126 -5.000000e-01  0.866025  \n",
       "\n",
       "[5 rows x 24 columns]"
      ]
     },
     "execution_count": 2,
     "metadata": {},
     "output_type": "execute_result"
    }
   ],
   "source": [
    "full_df = pd.read_csv(\"../../../Data_thesis/Full_Datasets/Full.csv\")\n",
    "full_df[\"Date\"] = pd.to_datetime(full_df[\"Date\"], format=\"%Y-%m-%d\")\n",
    "\n",
    "full_df.head()"
   ]
  },
  {
   "cell_type": "markdown",
   "metadata": {},
   "source": [
    "## Variables"
   ]
  },
  {
   "cell_type": "code",
   "execution_count": 37,
   "metadata": {},
   "outputs": [],
   "source": [
    "#Date to split the train/test and evaluation set on\n",
    "split_date = pd.Timestamp(2018, 12, 31)\n",
    "\n",
    "#Sensor used for test/train visualization\n",
    "sensor = \"GAWW-02\"\n",
    "\n",
    "#Start/End date evaluation visualization\n",
    "eval_start_date = pd.Timestamp(2019, 1, 1)\n",
    "eval_end_date = pd.Timestamp(2019, 1, 31)\n",
    "\n",
    "size=0.9"
   ]
  },
  {
   "cell_type": "markdown",
   "metadata": {},
   "source": [
    "## Functions"
   ]
  },
  {
   "cell_type": "markdown",
   "metadata": {},
   "source": [
    "### Test Sensor\n",
    "Select sensor used in the test and evaluation set"
   ]
  },
  {
   "cell_type": "code",
   "execution_count": 5,
   "metadata": {},
   "outputs": [
    {
     "name": "stdout",
     "output_type": "stream",
     "text": [
      "Sensor:  GAWW-01\n",
      "Sensor:  GAWW-02\n",
      "Sensor:  GAWW-03\n",
      "Sensor:  GAWW-04\n",
      "Sensor:  GAWW-05\n",
      "Sensor:  GAWW-06\n",
      "Sensor:  GAWW-07\n",
      "Sensor:  GAWW-08\n",
      "Sensor:  GAWW-09\n",
      "Sensor:  GAWW-10\n"
     ]
    }
   ],
   "source": [
    "# Possible sensors\n",
    "for sensor in np.sort(full_df.Sensor.unique()):\n",
    "    print(\"Sensor: \", sensor)"
   ]
  },
  {
   "cell_type": "code",
   "execution_count": 24,
   "metadata": {},
   "outputs": [],
   "source": [
    "def testSensorLat(df, sensor):\n",
    "    \"\"\"\n",
    "    Select the unique label of the latitude for the given sensor and return this\n",
    "    \"\"\"\n",
    "    return df[df[\"Sensor\"] == sensor].reset_index()[\"SensorLatitude\"][0]"
   ]
  },
  {
   "cell_type": "code",
   "execution_count": 35,
   "metadata": {},
   "outputs": [
    {
     "name": "stdout",
     "output_type": "stream",
     "text": [
      "Gaww-02\n"
     ]
    }
   ],
   "source": [
    "print(sensor)"
   ]
  },
  {
   "cell_type": "code",
   "execution_count": 40,
   "metadata": {},
   "outputs": [
    {
     "data": {
      "text/plain": [
       "6"
      ]
     },
     "execution_count": 40,
     "metadata": {},
     "output_type": "execute_result"
    }
   ],
   "source": [
    "full_df[full_df[\"Sensor\"] == sensor].reset_index()[\"SensorLatitude\"][0]"
   ]
  },
  {
   "cell_type": "markdown",
   "metadata": {},
   "source": [
    "### Train/Test split Dates\n",
    "Split the set based on given dates (so days won't get split up)"
   ]
  },
  {
   "cell_type": "code",
   "execution_count": 42,
   "metadata": {},
   "outputs": [],
   "source": [
    "def dateSplit(df, size):\n",
    "    \"\"\"\n",
    "    This function splits the given df based on given dates. \n",
    "    \n",
    "    Input:\n",
    "        - df: DataFrame that needs to be split into train/test\n",
    "        - size: Size of the training test between 0 and 1\n",
    "    \"\"\"\n",
    "    \n",
    "    dates = df[\"Date\"].values\n",
    "    np.random.shuffle(dates)\n",
    "    split = int(dates.size * size)\n",
    "    \n",
    "    train_dates = dates[:split]\n",
    "    test_dates = dates[split:]\n",
    "    \n",
    "    return train_dates, test_dates"
   ]
  },
  {
   "cell_type": "markdown",
   "metadata": {},
   "source": [
    "### Split Set in Train, Test, and Eval"
   ]
  },
  {
   "cell_type": "code",
   "execution_count": 28,
   "metadata": {},
   "outputs": [],
   "source": [
    "def trainTestSplit(df, size, split_date, sensor):\n",
    "    \n",
    "    TrainTest_df = df[df[\"Date\"] <= split_date].reset_index().drop(columns=[\"index\", \"Hour\", \"Sensor\", \"Year\"])\n",
    "    test_lat = testSensorLat(df, sensor)\n",
    "    \n",
    "    #Split Train/Test based on dates\n",
    "    train_dates, test_dates = dateSplit(TrainTest_df, size)\n",
    "    \n",
    "    train_df_reg = TrainTest_df[TrainTest_df[\"Date\"].isin(train_dates)].reset_index().drop(columns=[\"Date\",\"index\"])\n",
    "    test_df_reg = TrainTest_df[TrainTest_df[\"Date\"].isin(test_dates)].reset_index().drop(columns=[\"index\"])\n",
    "    \n",
    "    #Train\n",
    "    x_train_reg = train_df_reg.drop([\"CrowdednessCount\"], axis=1)\n",
    "    y_train_reg = train_df_reg[\"CrowdednessCount\"]\n",
    "\n",
    "    #Test\n",
    "    x_test_reg = test_df_reg.drop([\"CrowdednessCount\", \"Date\"], axis=1)\n",
    "    y_test_reg = test_df_reg[\"CrowdednessCount\"]\n",
    "\n",
    "    test_reg_series = test_df_reg[(test_df_reg[\"SensorLatitude\"] == test_lat) & \n",
    "                                  (test_df_reg[\"Date\"] == test_dates[0])].reset_index()\n",
    "    x_test_reg_series = test_reg_series.drop([\"CrowdednessCount\", \"Date\", \"index\"], axis=1)\n",
    "    y_test_reg_series = test_reg_series[\"CrowdednessCount\"]\n",
    "    \n",
    "    feature_labels = x_train_reg.columns.values\n",
    "    \n",
    "    return x_train_reg, y_train_reg, x_test_reg, y_test_reg, x_test_reg_series, y_test_reg_series, feature_labels"
   ]
  },
  {
   "cell_type": "code",
   "execution_count": 44,
   "metadata": {},
   "outputs": [],
   "source": [
    "def evalSplit(df, split_date, sensor, eval_start_date, eval_end_date):\n",
    "    \n",
    "    Eval_df = df[df[\"Date\"] > split_date].reset_index().drop(columns=[\"index\", \"Hour\", \"Sensor\", \"Year\"])\n",
    "    test_lat = testSensorLat(df, sensor)\n",
    "    \n",
    "    #Timeseries\n",
    "    x_eval_reg = df.drop([\"CrowdednessCount\", \"Date\"], axis=1)\n",
    "    y_eval_reg = df[\"CrowdednessCount\"]\n",
    "\n",
    "    #Subset timeseries\n",
    "    sub_series = Eval_df[(Eval_df[\"SensorLatitude\"] == test_lat) & \n",
    "                               (Eval_df[\"Date\"] >= eval_start_date) & \n",
    "                               (Eval_df[\"Date\"] <= eval_end_date)].reset_index()\n",
    "\n",
    "    #Time series\n",
    "    x_series_reg = sub_series.drop([\"Date\",\"CrowdednessCount\", \"index\"], axis=1)\n",
    "    y_series_reg = sub_series[\"CrowdednessCount\"]\n",
    "    \n",
    "    return x_eval_reg, y_eval_reg, x_series_reg, y_series_reg"
   ]
  },
  {
   "cell_type": "markdown",
   "metadata": {},
   "source": [
    "## Test"
   ]
  }
 ],
 "metadata": {
  "kernelspec": {
   "display_name": "Python 3",
   "language": "python",
   "name": "python3"
  },
  "language_info": {
   "codemirror_mode": {
    "name": "ipython",
    "version": 3
   },
   "file_extension": ".py",
   "mimetype": "text/x-python",
   "name": "python",
   "nbconvert_exporter": "python",
   "pygments_lexer": "ipython3",
   "version": "3.7.1"
  }
 },
 "nbformat": 4,
 "nbformat_minor": 2
}
