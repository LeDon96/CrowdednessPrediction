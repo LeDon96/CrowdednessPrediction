{
 "cells": [
  {
   "cell_type": "markdown",
   "metadata": {},
   "source": [
    "# Combine Data"
   ]
  },
  {
   "cell_type": "markdown",
   "metadata": {},
   "source": [
    "## Imports"
   ]
  },
  {
   "cell_type": "code",
   "execution_count": 2,
   "metadata": {},
   "outputs": [],
   "source": [
    "import pandas as pd\n",
    "import numpy as np\n",
    "import pickle\n",
    "\n",
    "from sklearn.metrics.pairwise import rbf_kernel\n",
    "from sklearn.preprocessing import StandardScaler\n",
    "from sklearn.preprocessing import scale"
   ]
  },
  {
   "cell_type": "markdown",
   "metadata": {},
   "source": [
    "## Import Files"
   ]
  },
  {
   "cell_type": "code",
   "execution_count": 3,
   "metadata": {},
   "outputs": [],
   "source": [
    "crowd_df = pd.read_csv(\"../../../Data_thesis/Full_Datasets/Crowdedness.csv\")\n",
    "gvb_df = pd.read_csv(\"../../../Data_thesis/Full_Datasets/GVBData.csv\")\n",
    "event_df = pd.read_csv(\"../../../Data_thesis/Full_Datasets/Events.csv\")"
   ]
  },
  {
   "cell_type": "markdown",
   "metadata": {},
   "source": [
    "## Functions"
   ]
  },
  {
   "cell_type": "code",
   "execution_count": 4,
   "metadata": {},
   "outputs": [],
   "source": [
    "def DateToDatetime(df, format):\n",
    "    \"\"\"\n",
    "    Convert column to datetime object\n",
    "    \"\"\"\n",
    "\n",
    "    return pd.to_datetime(df, format=format)"
   ]
  },
  {
   "cell_type": "code",
   "execution_count": 5,
   "metadata": {},
   "outputs": [],
   "source": [
    "def StartEndDate(df1, df2):\n",
    "    \"\"\"\n",
    "    Return the start and end date of a given df\n",
    "    \"\"\"\n",
    "\n",
    "    #Return the earliest and latest date in Date column of given dataframe\n",
    "    return df1.min().Date, df2.max().Date "
   ]
  },
  {
   "cell_type": "code",
   "execution_count": 6,
   "metadata": {},
   "outputs": [],
   "source": [
    "def importData(crowd_df, gvb_df, event_df):\n",
    "    \"\"\"\n",
    "    Import Data from given file location and save as DF. \n",
    "    Furhtermore, change date from string to datetime object\n",
    "    \"\"\"\n",
    "\n",
    "    #Format Datetime\n",
    "    date_format = \"%Y-%m-%d\"\n",
    "\n",
    "    #Crowdedness DF\n",
    "    crowd_df[\"Date\"] = DateToDatetime(crowd_df[\"Date\"], date_format)\n",
    "\n",
    "    #GVB DF\n",
    "    gvb_df[\"Date\"] = DateToDatetime(gvb_df[\"Date\"], date_format)\n",
    "\n",
    "    #Event Df\n",
    "    event_df[\"Date\"] = DateToDatetime(event_df[\"Date\"], date_format)\n",
    "\n",
    "    return crowd_df, gvb_df, event_df"
   ]
  },
  {
   "cell_type": "code",
   "execution_count": 7,
   "metadata": {},
   "outputs": [],
   "source": [
    "def changeStartEndDate(crowd_df, gvb_df, event_df):\n",
    "    \"\"\"\n",
    "    Change the start and end date of the GVB and Event Df's\n",
    "    \"\"\"\n",
    "    \n",
    "    #Select start and end date\n",
    "    start_date, end_date = StartEndDate(crowd_df, gvb_df)\n",
    "\n",
    "    crowd_df = crowd_df[(crowd_df[\"Date\"] >= start_date) & (\n",
    "        crowd_df[\"Date\"] <= end_date)].reset_index().drop(columns=[\"index\"])\n",
    "\n",
    "    gvb_df = gvb_df[(gvb_df[\"Date\"] >= start_date) & (\n",
    "        gvb_df[\"Date\"] <= end_date)].reset_index().drop(columns=[\"index\"])\n",
    "\n",
    "    event_df = event_df[(event_df[\"Date\"] >= start_date) & (\n",
    "        event_df[\"Date\"] <= end_date)].reset_index().drop(columns=[\"index\"])\n",
    "\n",
    "    return crowd_df, gvb_df, event_df"
   ]
  },
  {
   "cell_type": "code",
   "execution_count": 8,
   "metadata": {},
   "outputs": [],
   "source": [
    "def calculateWeights(stations, df):\n",
    "    \n",
    "    sensors  = df[\"Sensor\"].unique()\n",
    "    weights = []\n",
    "    scaler = StandardScaler()\n",
    "    \n",
    "    weights_dict = {}\n",
    "    \n",
    "    for sensor in sensors:\n",
    "        y = np.array([df[df[\"Sensor\"] == sensor].reset_index()[\"SensorLatitude\"][0], df[df[\"Sensor\"] == sensor].reset_index()[\"SensorLongitude\"][0]]).reshape(1, -1)\n",
    "        stations_dict = {}\n",
    "        \n",
    "        for station in stations:\n",
    "            x = np.array([df[station + \" Lat\"][0], df[station + \" Lon\"][0]]).reshape(1, -1)\n",
    "            weights.append(rbf_kernel(x, y)[0, 0])\n",
    "            stations_dict[station] = len(weights) - 1\n",
    "\n",
    "        weights_dict[sensor] = stations_dict\n",
    "\n",
    "    weights = np.asarray(weights)\n",
    "    weights = weights.reshape(-1, 1)\n",
    "\n",
    "    weights = scaler.fit_transform(weights)\n",
    "    filename = \"../../../Data_thesis/Models/station_scaler.sav\"\n",
    "    pickle.dump(scaler, open(filename, 'wb'))\n",
    "    \n",
    "    for k, v in weights_dict.items():\n",
    "        for station in stations:\n",
    "            v[station] = weights[v[station]]\n",
    "            \n",
    "    return weights_dict"
   ]
  },
  {
   "cell_type": "code",
   "execution_count": 9,
   "metadata": {},
   "outputs": [],
   "source": [
    "def formFullDF(crowd_df, gvb_df, event_df, stations):\n",
    "    \"\"\"\n",
    "    Construct Full DF \n",
    "    \"\"\"\n",
    "\n",
    "    #Combine DF's\n",
    "    gvb_crowd_df = pd.merge(gvb_df, crowd_df, on=[\"Date\", \"Hour\", \"weekday\"], how=\"outer\")\n",
    "    full_df = pd.merge(gvb_crowd_df, event_df, on=[\"Date\"], how=\"outer\")\n",
    "\n",
    "    #Sort keys on date\n",
    "    full_df = full_df.sort_values(\n",
    "        by=[\"Date\"]).reset_index().drop(columns=[\"index\"])\n",
    "\n",
    "    #Fill NaN values with 0.0\n",
    "    full_df = full_df.fillna(0.0)\n",
    "\n",
    "    #Add columns for the cos and sin of month, day and year\n",
    "    full_df = full_df.assign(Year=0, month_sin=0, month_cos=0,\n",
    "                            day_sin=0, day_cos=0, hour_sin=0, hour_cos=0)\n",
    "    \n",
    "    for station in stations:\n",
    "        full_df[station + \" score\"] = 0\n",
    "        full_df[station + \" weight\"] = 0\n",
    "        \n",
    "    weights = calculateWeights(stations, full_df)\n",
    "\n",
    "    #Transform DF to Dict\n",
    "    time_dict = full_df.to_dict(\"index\")\n",
    "\n",
    "    #Transform Date to seperate year, month, day and hour. And transform month, day, hour to cos/sin to make it circular\n",
    "    for k, v in time_dict.items():\n",
    "        v[\"Year\"] = v[\"Date\"].year\n",
    "        \n",
    "        v[\"month_sin\"] = np.sin(2 * np.pi * v[\"Date\"].month / 12)\n",
    "        v[\"month_cos\"] = np.cos(2 * np.pi * v[\"Date\"].month / 12)\n",
    "\n",
    "        v[\"day_sin\"] = np.sin(2 * np.pi * v[\"Date\"].day / 365)\n",
    "        v[\"day_cos\"] = np.cos(2 * np.pi * v[\"Date\"].day / 365)\n",
    "\n",
    "        v[\"hour_sin\"] = np.sin(2 * np.pi * v[\"Hour\"] / 2400)\n",
    "        v[\"hour_cos\"] = np.cos(2 * np.pi * v[\"Hour\"] / 2400)\n",
    "        \n",
    "        for station in stations:\n",
    "            v[station + \" score\"] = float(weights[v[\"Sensor\"]][station] * (v[station + \" Arrivals\"] + v[station + \" Departures\"]))    \n",
    "            v[station + \" weight\"] = float(weights[v[\"Sensor\"]][station])\n",
    "\n",
    "    #Transform dict back to DF\n",
    "    full_df = pd.DataFrame.from_dict(time_dict, orient=\"index\").reset_index().drop(columns=\"index\")\n",
    "    \n",
    "    for station in stations:    \n",
    "        full_df.drop(columns={station + \" Arrivals\",station + \" Departures\"}, inplace=True)\n",
    "    \n",
    "    return full_df"
   ]
  },
  {
   "cell_type": "markdown",
   "metadata": {},
   "source": [
    "## Construct needed DF"
   ]
  },
  {
   "cell_type": "code",
   "execution_count": 10,
   "metadata": {},
   "outputs": [],
   "source": [
    "crowd_df, gvb_df, event_df = importData(crowd_df, gvb_df, event_df)"
   ]
  },
  {
   "cell_type": "markdown",
   "metadata": {},
   "source": [
    "## Change Start and End Dates"
   ]
  },
  {
   "cell_type": "code",
   "execution_count": 11,
   "metadata": {},
   "outputs": [],
   "source": [
    "crowd_df, gvb_df, event_df = changeStartEndDate(crowd_df, gvb_df, event_df)"
   ]
  },
  {
   "cell_type": "markdown",
   "metadata": {},
   "source": [
    "## Construct Full DF"
   ]
  },
  {
   "cell_type": "code",
   "execution_count": 12,
   "metadata": {},
   "outputs": [],
   "source": [
    "stations = [\"Nieuwmarkt\", \"Nieuwezijds Kolk\", \"Dam\", \"Spui\", \"Centraal Station\"]\n",
    "\n",
    "full_df = formFullDF(crowd_df, gvb_df, event_df, stations)"
   ]
  },
  {
   "cell_type": "code",
   "execution_count": 13,
   "metadata": {},
   "outputs": [
    {
     "data": {
      "text/plain": [
       "Index(['Date', 'Hour', 'Nieuwmarkt Lat', 'Nieuwmarkt Lon',\n",
       "       'Nieuwezijds Kolk Lat', 'Nieuwezijds Kolk Lon', 'Dam Lat', 'Dam Lon',\n",
       "       'Spui Lat', 'Spui Lon', 'Centraal Station Lat', 'Centraal Station Lon',\n",
       "       'weekday', 'is_weekend', 'Sensor', 'SensorLongitude', 'SensorLatitude',\n",
       "       'CrowdednessCount', 'LonScaled', 'LatScaled', 'is_event', 'Year',\n",
       "       'month_sin', 'month_cos', 'day_sin', 'day_cos', 'hour_sin', 'hour_cos',\n",
       "       'Nieuwmarkt score', 'Nieuwmarkt weight', 'Nieuwezijds Kolk score',\n",
       "       'Nieuwezijds Kolk weight', 'Dam score', 'Dam weight', 'Spui score',\n",
       "       'Spui weight', 'Centraal Station score', 'Centraal Station weight'],\n",
       "      dtype='object')"
      ]
     },
     "execution_count": 13,
     "metadata": {},
     "output_type": "execute_result"
    }
   ],
   "source": [
    "full_df.columns"
   ]
  },
  {
   "cell_type": "markdown",
   "metadata": {},
   "source": [
    "### Contents"
   ]
  },
  {
   "cell_type": "code",
   "execution_count": 14,
   "metadata": {},
   "outputs": [
    {
     "data": {
      "text/html": [
       "<div>\n",
       "<style scoped>\n",
       "    .dataframe tbody tr th:only-of-type {\n",
       "        vertical-align: middle;\n",
       "    }\n",
       "\n",
       "    .dataframe tbody tr th {\n",
       "        vertical-align: top;\n",
       "    }\n",
       "\n",
       "    .dataframe thead th {\n",
       "        text-align: right;\n",
       "    }\n",
       "</style>\n",
       "<table border=\"1\" class=\"dataframe\">\n",
       "  <thead>\n",
       "    <tr style=\"text-align: right;\">\n",
       "      <th></th>\n",
       "      <th>Date</th>\n",
       "      <th>Hour</th>\n",
       "      <th>Nieuwmarkt Lat</th>\n",
       "      <th>Nieuwmarkt Lon</th>\n",
       "      <th>Nieuwezijds Kolk Lat</th>\n",
       "      <th>Nieuwezijds Kolk Lon</th>\n",
       "      <th>Dam Lat</th>\n",
       "      <th>Dam Lon</th>\n",
       "      <th>Spui Lat</th>\n",
       "      <th>Spui Lon</th>\n",
       "      <th>...</th>\n",
       "      <th>Nieuwmarkt score</th>\n",
       "      <th>Nieuwmarkt weight</th>\n",
       "      <th>Nieuwezijds Kolk score</th>\n",
       "      <th>Nieuwezijds Kolk weight</th>\n",
       "      <th>Dam score</th>\n",
       "      <th>Dam weight</th>\n",
       "      <th>Spui score</th>\n",
       "      <th>Spui weight</th>\n",
       "      <th>Centraal Station score</th>\n",
       "      <th>Centraal Station weight</th>\n",
       "    </tr>\n",
       "  </thead>\n",
       "  <tbody>\n",
       "    <tr>\n",
       "      <th>0</th>\n",
       "      <td>2018-03-11</td>\n",
       "      <td>100</td>\n",
       "      <td>52.371942</td>\n",
       "      <td>4.901239</td>\n",
       "      <td>52.376288</td>\n",
       "      <td>4.893731</td>\n",
       "      <td>52.373127</td>\n",
       "      <td>4.89008</td>\n",
       "      <td>52.369097</td>\n",
       "      <td>4.889259</td>\n",
       "      <td>...</td>\n",
       "      <td>0.000000</td>\n",
       "      <td>0.882141</td>\n",
       "      <td>0.000000</td>\n",
       "      <td>0.587521</td>\n",
       "      <td>-7.303229</td>\n",
       "      <td>-0.070905</td>\n",
       "      <td>-0.000000</td>\n",
       "      <td>-0.681885</td>\n",
       "      <td>163.979433</td>\n",
       "      <td>0.346680</td>\n",
       "    </tr>\n",
       "    <tr>\n",
       "      <th>1</th>\n",
       "      <td>2018-03-11</td>\n",
       "      <td>2100</td>\n",
       "      <td>52.371942</td>\n",
       "      <td>4.901239</td>\n",
       "      <td>52.376288</td>\n",
       "      <td>4.893731</td>\n",
       "      <td>52.373127</td>\n",
       "      <td>4.89008</td>\n",
       "      <td>52.369097</td>\n",
       "      <td>4.889259</td>\n",
       "      <td>...</td>\n",
       "      <td>352.242352</td>\n",
       "      <td>1.015108</td>\n",
       "      <td>83.818349</td>\n",
       "      <td>0.421198</td>\n",
       "      <td>-448.251607</td>\n",
       "      <td>-0.353790</td>\n",
       "      <td>-130.349894</td>\n",
       "      <td>-0.972760</td>\n",
       "      <td>1668.972876</td>\n",
       "      <td>0.432376</td>\n",
       "    </tr>\n",
       "    <tr>\n",
       "      <th>2</th>\n",
       "      <td>2018-03-11</td>\n",
       "      <td>2100</td>\n",
       "      <td>52.371942</td>\n",
       "      <td>4.901239</td>\n",
       "      <td>52.376288</td>\n",
       "      <td>4.893731</td>\n",
       "      <td>52.373127</td>\n",
       "      <td>4.89008</td>\n",
       "      <td>52.369097</td>\n",
       "      <td>4.889259</td>\n",
       "      <td>...</td>\n",
       "      <td>384.307874</td>\n",
       "      <td>1.107515</td>\n",
       "      <td>8.440208</td>\n",
       "      <td>0.042413</td>\n",
       "      <td>-1899.118956</td>\n",
       "      <td>-1.498910</td>\n",
       "      <td>-352.192566</td>\n",
       "      <td>-2.628303</td>\n",
       "      <td>3994.026557</td>\n",
       "      <td>1.034722</td>\n",
       "    </tr>\n",
       "    <tr>\n",
       "      <th>3</th>\n",
       "      <td>2018-03-11</td>\n",
       "      <td>2200</td>\n",
       "      <td>52.371942</td>\n",
       "      <td>4.901239</td>\n",
       "      <td>52.376288</td>\n",
       "      <td>4.893731</td>\n",
       "      <td>52.373127</td>\n",
       "      <td>4.89008</td>\n",
       "      <td>52.369097</td>\n",
       "      <td>4.889259</td>\n",
       "      <td>...</td>\n",
       "      <td>342.287656</td>\n",
       "      <td>1.049962</td>\n",
       "      <td>42.314730</td>\n",
       "      <td>0.253382</td>\n",
       "      <td>-1231.740804</td>\n",
       "      <td>-1.207589</td>\n",
       "      <td>-279.710090</td>\n",
       "      <td>-2.350505</td>\n",
       "      <td>3446.831547</td>\n",
       "      <td>1.043862</td>\n",
       "    </tr>\n",
       "    <tr>\n",
       "      <th>4</th>\n",
       "      <td>2018-03-11</td>\n",
       "      <td>2200</td>\n",
       "      <td>52.371942</td>\n",
       "      <td>4.901239</td>\n",
       "      <td>52.376288</td>\n",
       "      <td>4.893731</td>\n",
       "      <td>52.373127</td>\n",
       "      <td>4.89008</td>\n",
       "      <td>52.369097</td>\n",
       "      <td>4.889259</td>\n",
       "      <td>...</td>\n",
       "      <td>343.524310</td>\n",
       "      <td>1.053756</td>\n",
       "      <td>73.166332</td>\n",
       "      <td>0.438122</td>\n",
       "      <td>-730.059883</td>\n",
       "      <td>-0.715745</td>\n",
       "      <td>-196.552679</td>\n",
       "      <td>-1.651703</td>\n",
       "      <td>2770.301160</td>\n",
       "      <td>0.838977</td>\n",
       "    </tr>\n",
       "  </tbody>\n",
       "</table>\n",
       "<p>5 rows × 38 columns</p>\n",
       "</div>"
      ],
      "text/plain": [
       "        Date  Hour  Nieuwmarkt Lat  Nieuwmarkt Lon  Nieuwezijds Kolk Lat  \\\n",
       "0 2018-03-11   100       52.371942        4.901239             52.376288   \n",
       "1 2018-03-11  2100       52.371942        4.901239             52.376288   \n",
       "2 2018-03-11  2100       52.371942        4.901239             52.376288   \n",
       "3 2018-03-11  2200       52.371942        4.901239             52.376288   \n",
       "4 2018-03-11  2200       52.371942        4.901239             52.376288   \n",
       "\n",
       "   Nieuwezijds Kolk Lon    Dam Lat  Dam Lon   Spui Lat  Spui Lon  ...  \\\n",
       "0              4.893731  52.373127  4.89008  52.369097  4.889259  ...   \n",
       "1              4.893731  52.373127  4.89008  52.369097  4.889259  ...   \n",
       "2              4.893731  52.373127  4.89008  52.369097  4.889259  ...   \n",
       "3              4.893731  52.373127  4.89008  52.369097  4.889259  ...   \n",
       "4              4.893731  52.373127  4.89008  52.369097  4.889259  ...   \n",
       "\n",
       "   Nieuwmarkt score  Nieuwmarkt weight  Nieuwezijds Kolk score  \\\n",
       "0          0.000000           0.882141                0.000000   \n",
       "1        352.242352           1.015108               83.818349   \n",
       "2        384.307874           1.107515                8.440208   \n",
       "3        342.287656           1.049962               42.314730   \n",
       "4        343.524310           1.053756               73.166332   \n",
       "\n",
       "   Nieuwezijds Kolk weight    Dam score  Dam weight  Spui score  Spui weight  \\\n",
       "0                 0.587521    -7.303229   -0.070905   -0.000000    -0.681885   \n",
       "1                 0.421198  -448.251607   -0.353790 -130.349894    -0.972760   \n",
       "2                 0.042413 -1899.118956   -1.498910 -352.192566    -2.628303   \n",
       "3                 0.253382 -1231.740804   -1.207589 -279.710090    -2.350505   \n",
       "4                 0.438122  -730.059883   -0.715745 -196.552679    -1.651703   \n",
       "\n",
       "   Centraal Station score  Centraal Station weight  \n",
       "0              163.979433                 0.346680  \n",
       "1             1668.972876                 0.432376  \n",
       "2             3994.026557                 1.034722  \n",
       "3             3446.831547                 1.043862  \n",
       "4             2770.301160                 0.838977  \n",
       "\n",
       "[5 rows x 38 columns]"
      ]
     },
     "execution_count": 14,
     "metadata": {},
     "output_type": "execute_result"
    }
   ],
   "source": [
    "full_df.head()"
   ]
  },
  {
   "cell_type": "markdown",
   "metadata": {},
   "source": [
    "## From DF to CSV File"
   ]
  },
  {
   "cell_type": "code",
   "execution_count": 28,
   "metadata": {},
   "outputs": [],
   "source": [
    "full_df.to_csv(\"../../../Data_thesis/Full_Datasets/Full.csv\", index=False)"
   ]
  }
 ],
 "metadata": {
  "kernelspec": {
   "display_name": "Python 3",
   "language": "python",
   "name": "python3"
  },
  "language_info": {
   "codemirror_mode": {
    "name": "ipython",
    "version": 3
   },
   "file_extension": ".py",
   "mimetype": "text/x-python",
   "name": "python",
   "nbconvert_exporter": "python",
   "pygments_lexer": "ipython3",
   "version": "3.7.1"
  }
 },
 "nbformat": 4,
 "nbformat_minor": 2
}
