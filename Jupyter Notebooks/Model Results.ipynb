{
 "cells": [
  {
   "cell_type": "markdown",
   "metadata": {},
   "source": [
    "# Model Results"
   ]
  },
  {
   "cell_type": "markdown",
   "metadata": {},
   "source": [
    "## Imports"
   ]
  },
  {
   "cell_type": "code",
   "execution_count": 1,
   "metadata": {},
   "outputs": [],
   "source": [
    "import pandas as pd\n",
    "import numpy as np\n",
    "from sklearn.metrics import r2_score\n",
    "from sklearn.metrics import mean_squared_error\n",
    "from sklearn.metrics import precision_score\n",
    "from sklearn.metrics import recall_score\n",
    "from sklearn.metrics import accuracy_score\n",
    "from sklearn.metrics import f1_score"
   ]
  },
  {
   "cell_type": "markdown",
   "metadata": {},
   "source": [
    "## Import Files"
   ]
  },
  {
   "cell_type": "code",
   "execution_count": 2,
   "metadata": {},
   "outputs": [],
   "source": [
    "rfg = pd.read_csv(\"../../../Data_thesis/Full_Datasets/rfg_evalResults.csv\")\n",
    "rfc = pd.read_csv(\"../../../Data_thesis/Full_Datasets/rfc_evalResults.csv\")\n",
    "xgbr = pd.read_csv(\"../../../Data_thesis/Full_Datasets/xgbr_evalResults.csv\")\n",
    "xgbc = pd.read_csv(\"../../../Data_thesis/Full_Datasets/xgbc_evalResults.csv\")\n",
    "\n",
    "pred_rfg = pd.read_csv(\"../../../Data_thesis/Full_Datasets/rfg_Predictions.csv\")\n",
    "pred_rfg.sort_values(by=[\"Hour\", \"Sensor\"], inplace=True)\n",
    "pred_rfc = pd.read_csv(\"../../../Data_thesis/Full_Datasets/rfc_Predictions.csv\")\n",
    "pred_rfc.sort_values(by=[\"Hour\", \"Sensor\"], inplace=True)\n",
    "pred_xgbr = pd.read_csv(\"../../../Data_thesis/Full_Datasets/xgbr_Predictions.csv\")\n",
    "pred_xgbr.sort_values(by=[\"Hour\", \"Sensor\"], inplace=True)\n",
    "pred_xgbc = pd.read_csv(\"../../../Data_thesis/Full_Datasets/xgbc_Predictions.csv\")\n",
    "pred_xgbc.sort_values(by=[\"Hour\", \"Sensor\"], inplace=True)\n",
    "pred_lr = pd.read_csv(\"../../../Data_thesis/Full_Datasets/lr_Predictions.csv\")\n",
    "pred_lr.sort_values(by=[\"Hour\", \"Sensor\"], inplace=True)\n",
    "pred_dc = pd.read_csv(\"../../../Data_thesis/Full_Datasets/dc_Predictions.csv\")\n",
    "pred_dc.sort_values(by=[\"Hour\", \"Sensor\"], inplace=True)\n",
    "\n",
    "int_rfg = pd.read_csv(\"../../../Data_thesis/Full_Datasets/rfg_Interpolation.csv\")\n",
    "int_rfg.sort_values(by=[\"Hour\", \"Sensor\"], inplace=True)\n",
    "int_rfc = pd.read_csv(\"../../../Data_thesis/Full_Datasets/rfc_Interpolation.csv\")\n",
    "int_rfc.sort_values(by=[\"Hour\", \"Sensor\"], inplace=True)\n",
    "int_xgbr = pd.read_csv(\"../../../Data_thesis/Full_Datasets/xgbr_Interpolation.csv\")\n",
    "int_xgbr.sort_values(by=[\"Hour\", \"Sensor\"], inplace=True)\n",
    "int_xgbc = pd.read_csv(\"../../../Data_thesis/Full_Datasets/xgbc_Interpolation.csv\")\n",
    "int_xgbc.sort_values(by=[\"Hour\", \"Sensor\"], inplace=True)\n",
    "int_lr = pd.read_csv(\"../../../Data_thesis/Full_Datasets/lr_Interpolation.csv\")\n",
    "int_lr.sort_values(by=[\"Hour\", \"Sensor\"], inplace=True)\n",
    "int_dc = pd.read_csv(\"../../../Data_thesis/Full_Datasets/dc_Interpolation.csv\")\n",
    "int_dc.sort_values(by=[\"Hour\", \"Sensor\"], inplace=True)"
   ]
  },
  {
   "cell_type": "code",
   "execution_count": 3,
   "metadata": {},
   "outputs": [],
   "source": [
    "full_df = pd.read_csv(\"../../../Data_thesis/Full_Datasets/Full.csv\")\n",
    "full_df[\"Date\"] = pd.to_datetime(full_df[\"Date\"], format=\"%Y-%m-%d\")\n",
    "full_df = full_df[full_df[\"Date\"] == pd.Timestamp(2019, 3, 25)].reset_index().drop(columns=[\"index\"])\n",
    "full_df[\"Date\"] = full_df[\"Date\"].astype(str)\n",
    "full_df.rename(index=str, columns={\"CrowdednessCount\": \"TrueCounts\"}, inplace=True)\n",
    "full_df.sort_values(by=[\"Hour\", \"Sensor\"], inplace=True)\n",
    "full_df = full_df[[\"Date\", \"Hour\", \"Sensor\", \"LonScaled\", \"LatScaled\", \"TrueCounts\"]]"
   ]
  },
  {
   "cell_type": "code",
   "execution_count": 4,
   "metadata": {},
   "outputs": [],
   "source": [
    "int_df = full_df[full_df[\"Sensor\"] == \"GAWW-01\"]"
   ]
  },
  {
   "cell_type": "code",
   "execution_count": 5,
   "metadata": {},
   "outputs": [
    {
     "data": {
      "text/html": [
       "<div>\n",
       "<style scoped>\n",
       "    .dataframe tbody tr th:only-of-type {\n",
       "        vertical-align: middle;\n",
       "    }\n",
       "\n",
       "    .dataframe tbody tr th {\n",
       "        vertical-align: top;\n",
       "    }\n",
       "\n",
       "    .dataframe thead th {\n",
       "        text-align: right;\n",
       "    }\n",
       "</style>\n",
       "<table border=\"1\" class=\"dataframe\">\n",
       "  <thead>\n",
       "    <tr style=\"text-align: right;\">\n",
       "      <th></th>\n",
       "      <th>Date</th>\n",
       "      <th>Hour</th>\n",
       "      <th>Sensor</th>\n",
       "      <th>SensorLongitude</th>\n",
       "      <th>SensorLatitude</th>\n",
       "      <th>CrowdednessCount</th>\n",
       "    </tr>\n",
       "  </thead>\n",
       "  <tbody>\n",
       "    <tr>\n",
       "      <th>72</th>\n",
       "      <td>2019-03-25</td>\n",
       "      <td>100</td>\n",
       "      <td>GAWW-01</td>\n",
       "      <td>4.899847</td>\n",
       "      <td>52.374601</td>\n",
       "      <td>9.184583e+08</td>\n",
       "    </tr>\n",
       "    <tr>\n",
       "      <th>0</th>\n",
       "      <td>2019-03-25</td>\n",
       "      <td>100</td>\n",
       "      <td>GAWW-02</td>\n",
       "      <td>4.898903</td>\n",
       "      <td>52.373786</td>\n",
       "      <td>1.133812e+09</td>\n",
       "    </tr>\n",
       "    <tr>\n",
       "      <th>96</th>\n",
       "      <td>2019-03-25</td>\n",
       "      <td>100</td>\n",
       "      <td>GAWW-03</td>\n",
       "      <td>4.897334</td>\n",
       "      <td>52.372524</td>\n",
       "      <td>1.501142e+09</td>\n",
       "    </tr>\n",
       "    <tr>\n",
       "      <th>120</th>\n",
       "      <td>2019-03-25</td>\n",
       "      <td>100</td>\n",
       "      <td>GAWW-04</td>\n",
       "      <td>4.897908</td>\n",
       "      <td>52.373283</td>\n",
       "      <td>1.397605e+09</td>\n",
       "    </tr>\n",
       "    <tr>\n",
       "      <th>144</th>\n",
       "      <td>2019-03-25</td>\n",
       "      <td>100</td>\n",
       "      <td>GAWW-05</td>\n",
       "      <td>4.897717</td>\n",
       "      <td>52.372353</td>\n",
       "      <td>1.361921e+09</td>\n",
       "    </tr>\n",
       "  </tbody>\n",
       "</table>\n",
       "</div>"
      ],
      "text/plain": [
       "           Date  Hour   Sensor  SensorLongitude  SensorLatitude  \\\n",
       "72   2019-03-25   100  GAWW-01         4.899847       52.374601   \n",
       "0    2019-03-25   100  GAWW-02         4.898903       52.373786   \n",
       "96   2019-03-25   100  GAWW-03         4.897334       52.372524   \n",
       "120  2019-03-25   100  GAWW-04         4.897908       52.373283   \n",
       "144  2019-03-25   100  GAWW-05         4.897717       52.372353   \n",
       "\n",
       "     CrowdednessCount  \n",
       "72       9.184583e+08  \n",
       "0        1.133812e+09  \n",
       "96       1.501142e+09  \n",
       "120      1.397605e+09  \n",
       "144      1.361921e+09  "
      ]
     },
     "execution_count": 5,
     "metadata": {},
     "output_type": "execute_result"
    }
   ],
   "source": [
    "pred_lr.head()"
   ]
  },
  {
   "cell_type": "code",
   "execution_count": 6,
   "metadata": {},
   "outputs": [
    {
     "data": {
      "text/html": [
       "<div>\n",
       "<style scoped>\n",
       "    .dataframe tbody tr th:only-of-type {\n",
       "        vertical-align: middle;\n",
       "    }\n",
       "\n",
       "    .dataframe tbody tr th {\n",
       "        vertical-align: top;\n",
       "    }\n",
       "\n",
       "    .dataframe thead th {\n",
       "        text-align: right;\n",
       "    }\n",
       "</style>\n",
       "<table border=\"1\" class=\"dataframe\">\n",
       "  <thead>\n",
       "    <tr style=\"text-align: right;\">\n",
       "      <th></th>\n",
       "      <th>Date</th>\n",
       "      <th>Hour</th>\n",
       "      <th>Sensor</th>\n",
       "      <th>SensorLongitude</th>\n",
       "      <th>SensorLatitude</th>\n",
       "      <th>CrowdednessCount</th>\n",
       "    </tr>\n",
       "  </thead>\n",
       "  <tbody>\n",
       "    <tr>\n",
       "      <th>0</th>\n",
       "      <td>2019-03-25</td>\n",
       "      <td>100</td>\n",
       "      <td>Custom</td>\n",
       "      <td>4.899847</td>\n",
       "      <td>52.374601</td>\n",
       "      <td>877.851429</td>\n",
       "    </tr>\n",
       "    <tr>\n",
       "      <th>1</th>\n",
       "      <td>2019-03-25</td>\n",
       "      <td>200</td>\n",
       "      <td>Custom</td>\n",
       "      <td>4.899847</td>\n",
       "      <td>52.374601</td>\n",
       "      <td>596.351429</td>\n",
       "    </tr>\n",
       "    <tr>\n",
       "      <th>2</th>\n",
       "      <td>2019-03-25</td>\n",
       "      <td>300</td>\n",
       "      <td>Custom</td>\n",
       "      <td>4.899847</td>\n",
       "      <td>52.374601</td>\n",
       "      <td>321.228571</td>\n",
       "    </tr>\n",
       "    <tr>\n",
       "      <th>3</th>\n",
       "      <td>2019-03-25</td>\n",
       "      <td>400</td>\n",
       "      <td>Custom</td>\n",
       "      <td>4.899847</td>\n",
       "      <td>52.374601</td>\n",
       "      <td>178.591429</td>\n",
       "    </tr>\n",
       "    <tr>\n",
       "      <th>4</th>\n",
       "      <td>2019-03-25</td>\n",
       "      <td>500</td>\n",
       "      <td>Custom</td>\n",
       "      <td>4.899847</td>\n",
       "      <td>52.374601</td>\n",
       "      <td>60.480000</td>\n",
       "    </tr>\n",
       "  </tbody>\n",
       "</table>\n",
       "</div>"
      ],
      "text/plain": [
       "         Date  Hour  Sensor  SensorLongitude  SensorLatitude  CrowdednessCount\n",
       "0  2019-03-25   100  Custom         4.899847       52.374601        877.851429\n",
       "1  2019-03-25   200  Custom         4.899847       52.374601        596.351429\n",
       "2  2019-03-25   300  Custom         4.899847       52.374601        321.228571\n",
       "3  2019-03-25   400  Custom         4.899847       52.374601        178.591429\n",
       "4  2019-03-25   500  Custom         4.899847       52.374601         60.480000"
      ]
     },
     "execution_count": 6,
     "metadata": {},
     "output_type": "execute_result"
    }
   ],
   "source": [
    "int_rfg.head()"
   ]
  },
  {
   "cell_type": "code",
   "execution_count": 14,
   "metadata": {},
   "outputs": [
    {
     "data": {
      "text/html": [
       "<div>\n",
       "<style scoped>\n",
       "    .dataframe tbody tr th:only-of-type {\n",
       "        vertical-align: middle;\n",
       "    }\n",
       "\n",
       "    .dataframe tbody tr th {\n",
       "        vertical-align: top;\n",
       "    }\n",
       "\n",
       "    .dataframe thead th {\n",
       "        text-align: right;\n",
       "    }\n",
       "</style>\n",
       "<table border=\"1\" class=\"dataframe\">\n",
       "  <thead>\n",
       "    <tr style=\"text-align: right;\">\n",
       "      <th></th>\n",
       "      <th>Date</th>\n",
       "      <th>Hour</th>\n",
       "      <th>Sensor</th>\n",
       "      <th>LonScaled</th>\n",
       "      <th>LatScaled</th>\n",
       "      <th>TrueCounts</th>\n",
       "    </tr>\n",
       "  </thead>\n",
       "  <tbody>\n",
       "    <tr>\n",
       "      <th>111</th>\n",
       "      <td>2019-03-25</td>\n",
       "      <td>100</td>\n",
       "      <td>GAWW-01</td>\n",
       "      <td>1.152297</td>\n",
       "      <td>1.430863</td>\n",
       "      <td>1324</td>\n",
       "    </tr>\n",
       "    <tr>\n",
       "      <th>118</th>\n",
       "      <td>2019-03-25</td>\n",
       "      <td>200</td>\n",
       "      <td>GAWW-01</td>\n",
       "      <td>1.152297</td>\n",
       "      <td>1.430863</td>\n",
       "      <td>815</td>\n",
       "    </tr>\n",
       "    <tr>\n",
       "      <th>104</th>\n",
       "      <td>2019-03-25</td>\n",
       "      <td>300</td>\n",
       "      <td>GAWW-01</td>\n",
       "      <td>1.152297</td>\n",
       "      <td>1.430863</td>\n",
       "      <td>286</td>\n",
       "    </tr>\n",
       "    <tr>\n",
       "      <th>90</th>\n",
       "      <td>2019-03-25</td>\n",
       "      <td>400</td>\n",
       "      <td>GAWW-01</td>\n",
       "      <td>1.152297</td>\n",
       "      <td>1.430863</td>\n",
       "      <td>197</td>\n",
       "    </tr>\n",
       "    <tr>\n",
       "      <th>97</th>\n",
       "      <td>2019-03-25</td>\n",
       "      <td>500</td>\n",
       "      <td>GAWW-01</td>\n",
       "      <td>1.152297</td>\n",
       "      <td>1.430863</td>\n",
       "      <td>82</td>\n",
       "    </tr>\n",
       "  </tbody>\n",
       "</table>\n",
       "</div>"
      ],
      "text/plain": [
       "           Date  Hour   Sensor  LonScaled  LatScaled  TrueCounts\n",
       "111  2019-03-25   100  GAWW-01   1.152297   1.430863        1324\n",
       "118  2019-03-25   200  GAWW-01   1.152297   1.430863         815\n",
       "104  2019-03-25   300  GAWW-01   1.152297   1.430863         286\n",
       "90   2019-03-25   400  GAWW-01   1.152297   1.430863         197\n",
       "97   2019-03-25   500  GAWW-01   1.152297   1.430863          82"
      ]
     },
     "execution_count": 14,
     "metadata": {},
     "output_type": "execute_result"
    }
   ],
   "source": [
    "int_df.head()"
   ]
  },
  {
   "cell_type": "code",
   "execution_count": 13,
   "metadata": {},
   "outputs": [
    {
     "data": {
      "text/html": [
       "<div>\n",
       "<style scoped>\n",
       "    .dataframe tbody tr th:only-of-type {\n",
       "        vertical-align: middle;\n",
       "    }\n",
       "\n",
       "    .dataframe tbody tr th {\n",
       "        vertical-align: top;\n",
       "    }\n",
       "\n",
       "    .dataframe thead th {\n",
       "        text-align: right;\n",
       "    }\n",
       "</style>\n",
       "<table border=\"1\" class=\"dataframe\">\n",
       "  <thead>\n",
       "    <tr style=\"text-align: right;\">\n",
       "      <th></th>\n",
       "      <th>Date</th>\n",
       "      <th>Hour</th>\n",
       "      <th>Sensor</th>\n",
       "      <th>SensorLongitude</th>\n",
       "      <th>SensorLatitude</th>\n",
       "      <th>CrowdednessCount</th>\n",
       "    </tr>\n",
       "  </thead>\n",
       "  <tbody>\n",
       "    <tr>\n",
       "      <th>0</th>\n",
       "      <td>2019-03-25</td>\n",
       "      <td>100</td>\n",
       "      <td>Custom</td>\n",
       "      <td>4.899847</td>\n",
       "      <td>52.374601</td>\n",
       "      <td>668.52740</td>\n",
       "    </tr>\n",
       "    <tr>\n",
       "      <th>1</th>\n",
       "      <td>2019-03-25</td>\n",
       "      <td>200</td>\n",
       "      <td>Custom</td>\n",
       "      <td>4.899847</td>\n",
       "      <td>52.374601</td>\n",
       "      <td>476.23782</td>\n",
       "    </tr>\n",
       "    <tr>\n",
       "      <th>2</th>\n",
       "      <td>2019-03-25</td>\n",
       "      <td>300</td>\n",
       "      <td>Custom</td>\n",
       "      <td>4.899847</td>\n",
       "      <td>52.374601</td>\n",
       "      <td>284.42410</td>\n",
       "    </tr>\n",
       "    <tr>\n",
       "      <th>3</th>\n",
       "      <td>2019-03-25</td>\n",
       "      <td>400</td>\n",
       "      <td>Custom</td>\n",
       "      <td>4.899847</td>\n",
       "      <td>52.374601</td>\n",
       "      <td>148.09674</td>\n",
       "    </tr>\n",
       "    <tr>\n",
       "      <th>4</th>\n",
       "      <td>2019-03-25</td>\n",
       "      <td>500</td>\n",
       "      <td>Custom</td>\n",
       "      <td>4.899847</td>\n",
       "      <td>52.374601</td>\n",
       "      <td>76.49449</td>\n",
       "    </tr>\n",
       "  </tbody>\n",
       "</table>\n",
       "</div>"
      ],
      "text/plain": [
       "         Date  Hour  Sensor  SensorLongitude  SensorLatitude  CrowdednessCount\n",
       "0  2019-03-25   100  Custom         4.899847       52.374601         668.52740\n",
       "1  2019-03-25   200  Custom         4.899847       52.374601         476.23782\n",
       "2  2019-03-25   300  Custom         4.899847       52.374601         284.42410\n",
       "3  2019-03-25   400  Custom         4.899847       52.374601         148.09674\n",
       "4  2019-03-25   500  Custom         4.899847       52.374601          76.49449"
      ]
     },
     "execution_count": 13,
     "metadata": {},
     "output_type": "execute_result"
    }
   ],
   "source": [
    "int_xgbr.head()"
   ]
  },
  {
   "cell_type": "code",
   "execution_count": 6,
   "metadata": {},
   "outputs": [],
   "source": [
    "def classCrowdednessCounts(df):\n",
    "    low_split = df[\"TrueCounts\"].quantile(.25)\n",
    "    mid_split = df[\"TrueCounts\"].quantile(.5)\n",
    "    high_split = df[\"TrueCounts\"].quantile(.75)\n",
    "\n",
    "    clas_dict = df.to_dict(\"index\")\n",
    "\n",
    "    for k, v in clas_dict.items():\n",
    "        if v[\"TrueCounts\"] < low_split:\n",
    "            v[\"TrueCounts\"] = 1\n",
    "        elif v[\"TrueCounts\"] >= low_split and v[\"TrueCounts\"] < mid_split:\n",
    "            v[\"TrueCounts\"] = 2\n",
    "        elif v[\"TrueCounts\"] >= mid_split and v[\"TrueCounts\"] < high_split:\n",
    "            v[\"TrueCounts\"] = 3\n",
    "        elif v[\"TrueCounts\"] >= high_split:\n",
    "            v[\"TrueCounts\"] = 4\n",
    "        else:\n",
    "            print(k, \" has class error as it fits in none\")\n",
    "\n",
    "    df = pd.DataFrame.from_dict(clas_dict, orient=\"index\")\n",
    "\n",
    "    return df"
   ]
  },
  {
   "cell_type": "code",
   "execution_count": 7,
   "metadata": {},
   "outputs": [],
   "source": [
    "def getSensor(df):\n",
    "    df[\"Sensor\"] = \"None\"\n",
    "    model_dict = df.to_dict(\"index\")\n",
    "    \n",
    "    for k, v in model_dict.items():\n",
    "        v[\"Sensor\"] = full_df[full_df[\"LonScaled\"] == v[\"Lon\"]].reset_index()[\"Sensor\"][0]\n",
    "    \n",
    "    df = pd.DataFrame.from_dict(model_dict, orient=\"index\")\n",
    "    \n",
    "    return df"
   ]
  },
  {
   "cell_type": "code",
   "execution_count": 8,
   "metadata": {},
   "outputs": [],
   "source": [
    "clas_df = classCrowdednessCounts(full_df)\n",
    "int_clas = classCrowdednessCounts(int_df)\n",
    "clas_df.sort_values(by=[\"Hour\", \"Sensor\"], inplace=True)"
   ]
  },
  {
   "cell_type": "code",
   "execution_count": 12,
   "metadata": {},
   "outputs": [
    {
     "data": {
      "text/html": [
       "<div>\n",
       "<style scoped>\n",
       "    .dataframe tbody tr th:only-of-type {\n",
       "        vertical-align: middle;\n",
       "    }\n",
       "\n",
       "    .dataframe tbody tr th {\n",
       "        vertical-align: top;\n",
       "    }\n",
       "\n",
       "    .dataframe thead th {\n",
       "        text-align: right;\n",
       "    }\n",
       "</style>\n",
       "<table border=\"1\" class=\"dataframe\">\n",
       "  <thead>\n",
       "    <tr style=\"text-align: right;\">\n",
       "      <th></th>\n",
       "      <th>Date</th>\n",
       "      <th>Hour</th>\n",
       "      <th>Sensor</th>\n",
       "      <th>LonScaled</th>\n",
       "      <th>LatScaled</th>\n",
       "      <th>TrueCounts</th>\n",
       "    </tr>\n",
       "  </thead>\n",
       "  <tbody>\n",
       "    <tr>\n",
       "      <th>111</th>\n",
       "      <td>2019-03-25</td>\n",
       "      <td>100</td>\n",
       "      <td>GAWW-01</td>\n",
       "      <td>1.152297</td>\n",
       "      <td>1.430863</td>\n",
       "      <td>4</td>\n",
       "    </tr>\n",
       "    <tr>\n",
       "      <th>112</th>\n",
       "      <td>2019-03-25</td>\n",
       "      <td>100</td>\n",
       "      <td>GAWW-02</td>\n",
       "      <td>0.279566</td>\n",
       "      <td>0.506281</td>\n",
       "      <td>4</td>\n",
       "    </tr>\n",
       "    <tr>\n",
       "      <th>113</th>\n",
       "      <td>2019-03-25</td>\n",
       "      <td>100</td>\n",
       "      <td>GAWW-03</td>\n",
       "      <td>-1.170458</td>\n",
       "      <td>-0.925578</td>\n",
       "      <td>3</td>\n",
       "    </tr>\n",
       "    <tr>\n",
       "      <th>114</th>\n",
       "      <td>2019-03-25</td>\n",
       "      <td>100</td>\n",
       "      <td>GAWW-04</td>\n",
       "      <td>-0.640018</td>\n",
       "      <td>-0.064080</td>\n",
       "      <td>2</td>\n",
       "    </tr>\n",
       "    <tr>\n",
       "      <th>115</th>\n",
       "      <td>2019-03-25</td>\n",
       "      <td>100</td>\n",
       "      <td>GAWW-05</td>\n",
       "      <td>-0.816523</td>\n",
       "      <td>-1.118800</td>\n",
       "      <td>4</td>\n",
       "    </tr>\n",
       "  </tbody>\n",
       "</table>\n",
       "</div>"
      ],
      "text/plain": [
       "           Date  Hour   Sensor  LonScaled  LatScaled  TrueCounts\n",
       "111  2019-03-25   100  GAWW-01   1.152297   1.430863           4\n",
       "112  2019-03-25   100  GAWW-02   0.279566   0.506281           4\n",
       "113  2019-03-25   100  GAWW-03  -1.170458  -0.925578           3\n",
       "114  2019-03-25   100  GAWW-04  -0.640018  -0.064080           2\n",
       "115  2019-03-25   100  GAWW-05  -0.816523  -1.118800           4"
      ]
     },
     "execution_count": 12,
     "metadata": {},
     "output_type": "execute_result"
    }
   ],
   "source": [
    "clas_df.head()"
   ]
  },
  {
   "cell_type": "code",
   "execution_count": 13,
   "metadata": {},
   "outputs": [
    {
     "data": {
      "text/html": [
       "<div>\n",
       "<style scoped>\n",
       "    .dataframe tbody tr th:only-of-type {\n",
       "        vertical-align: middle;\n",
       "    }\n",
       "\n",
       "    .dataframe tbody tr th {\n",
       "        vertical-align: top;\n",
       "    }\n",
       "\n",
       "    .dataframe thead th {\n",
       "        text-align: right;\n",
       "    }\n",
       "</style>\n",
       "<table border=\"1\" class=\"dataframe\">\n",
       "  <thead>\n",
       "    <tr style=\"text-align: right;\">\n",
       "      <th></th>\n",
       "      <th>Date</th>\n",
       "      <th>Hour</th>\n",
       "      <th>Sensor</th>\n",
       "      <th>SensorLongitude</th>\n",
       "      <th>SensorLatitude</th>\n",
       "      <th>CrowdednessCount</th>\n",
       "    </tr>\n",
       "  </thead>\n",
       "  <tbody>\n",
       "    <tr>\n",
       "      <th>0</th>\n",
       "      <td>2019-03-25</td>\n",
       "      <td>100</td>\n",
       "      <td>Custom</td>\n",
       "      <td>4.899847</td>\n",
       "      <td>52.374601</td>\n",
       "      <td>3</td>\n",
       "    </tr>\n",
       "    <tr>\n",
       "      <th>1</th>\n",
       "      <td>2019-03-25</td>\n",
       "      <td>200</td>\n",
       "      <td>Custom</td>\n",
       "      <td>4.899847</td>\n",
       "      <td>52.374601</td>\n",
       "      <td>3</td>\n",
       "    </tr>\n",
       "    <tr>\n",
       "      <th>2</th>\n",
       "      <td>2019-03-25</td>\n",
       "      <td>300</td>\n",
       "      <td>Custom</td>\n",
       "      <td>4.899847</td>\n",
       "      <td>52.374601</td>\n",
       "      <td>3</td>\n",
       "    </tr>\n",
       "    <tr>\n",
       "      <th>3</th>\n",
       "      <td>2019-03-25</td>\n",
       "      <td>400</td>\n",
       "      <td>Custom</td>\n",
       "      <td>4.899847</td>\n",
       "      <td>52.374601</td>\n",
       "      <td>3</td>\n",
       "    </tr>\n",
       "    <tr>\n",
       "      <th>4</th>\n",
       "      <td>2019-03-25</td>\n",
       "      <td>500</td>\n",
       "      <td>Custom</td>\n",
       "      <td>4.899847</td>\n",
       "      <td>52.374601</td>\n",
       "      <td>3</td>\n",
       "    </tr>\n",
       "  </tbody>\n",
       "</table>\n",
       "</div>"
      ],
      "text/plain": [
       "         Date  Hour  Sensor  SensorLongitude  SensorLatitude  CrowdednessCount\n",
       "0  2019-03-25   100  Custom         4.899847       52.374601                 3\n",
       "1  2019-03-25   200  Custom         4.899847       52.374601                 3\n",
       "2  2019-03-25   300  Custom         4.899847       52.374601                 3\n",
       "3  2019-03-25   400  Custom         4.899847       52.374601                 3\n",
       "4  2019-03-25   500  Custom         4.899847       52.374601                 3"
      ]
     },
     "execution_count": 13,
     "metadata": {},
     "output_type": "execute_result"
    }
   ],
   "source": [
    "pred_dc.head()"
   ]
  },
  {
   "cell_type": "markdown",
   "metadata": {},
   "source": [
    "## Results"
   ]
  },
  {
   "cell_type": "code",
   "execution_count": 17,
   "metadata": {},
   "outputs": [
    {
     "name": "stdout",
     "output_type": "stream",
     "text": [
      "R2:  -2906013928247.174\n",
      "RMSE:  1212282852.55\n"
     ]
    }
   ],
   "source": [
    "r2 = round(r2_score(full_df[\"TrueCounts\"], pred_lr[\"CrowdednessCount\"]), 3)\n",
    "rmse = round(np.sqrt(mean_squared_error(full_df[\"TrueCounts\"], pred_lr[\"CrowdednessCount\"])), 2)\n",
    "print(\"R2: \", r2)\n",
    "print(\"RMSE: \", rmse)"
   ]
  },
  {
   "cell_type": "code",
   "execution_count": 26,
   "metadata": {},
   "outputs": [
    {
     "name": "stdout",
     "output_type": "stream",
     "text": [
      "R2:  -9728073758799.244\n",
      "RMSE:  2491508563.96\n"
     ]
    }
   ],
   "source": [
    "r2 = round(r2_score(int_df[\"TrueCounts\"], int_lr[\"CrowdednessCount\"]), 3)\n",
    "rmse = round(np.sqrt(mean_squared_error(int_df[\"TrueCounts\"], int_lr[\"CrowdednessCount\"])), 2)\n",
    "print(\"R2: \", r2)\n",
    "print(\"RMSE: \", rmse)"
   ]
  },
  {
   "cell_type": "code",
   "execution_count": 32,
   "metadata": {},
   "outputs": [
    {
     "name": "stdout",
     "output_type": "stream",
     "text": [
      "Accuracy:  0.25\n",
      "Precision:  [0.   0.   0.25 0.  ]\n",
      "Recall:  [0. 0. 1. 0.]\n",
      "F1 Score:  [0.  0.  0.4 0. ]\n"
     ]
    }
   ],
   "source": [
    "acc = round(accuracy_score(int_clas[\"TrueCounts\"], int_dc[\"CrowdednessCount\"]),3)\n",
    "prec = precision_score(int_clas[\"TrueCounts\"], int_dc[\"CrowdednessCount\"], average=None)\n",
    "rec = recall_score(int_clas[\"TrueCounts\"], int_dc[\"CrowdednessCount\"], average=None)\n",
    "f1 = f1_score(int_clas[\"TrueCounts\"], int_dc[\"CrowdednessCount\"], average=None)\n",
    "\n",
    "print(\"Accuracy: \", acc)\n",
    "print(\"Precision: \", prec)\n",
    "print(\"Recall: \", rec)\n",
    "print(\"F1 Score: \", f1)"
   ]
  },
  {
   "cell_type": "markdown",
   "metadata": {},
   "source": [
    "### RFG"
   ]
  },
  {
   "cell_type": "code",
   "execution_count": 20,
   "metadata": {},
   "outputs": [
    {
     "data": {
      "text/plain": [
       "{'GAWW-01': {'R2': 0.814, 'RMSE': 486.26},\n",
       " 'GAWW-02': {'R2': 0.839, 'RMSE': 557.4},\n",
       " 'GAWW-03': {'R2': 0.908, 'RMSE': 235.44},\n",
       " 'GAWW-04': {'R2': 0.852, 'RMSE': 124.56},\n",
       " 'GAWW-05': {'R2': 0.909, 'RMSE': 294.28},\n",
       " 'GAWW-06': {'R2': 0.759, 'RMSE': 501.56},\n",
       " 'GAWW-07': {'R2': 0.927, 'RMSE': 193.06}}"
      ]
     },
     "execution_count": 20,
     "metadata": {},
     "output_type": "execute_result"
    }
   ],
   "source": [
    "rfg_dict = {}\n",
    "sensors = full_df[\"Sensor\"].unique()\n",
    "\n",
    "for sensor in sensors:\n",
    "    df = getSensor(rfg)\n",
    "    df = df[df[\"Sensor\"] == sensor].copy()\n",
    "    \n",
    "    r2 = round(r2_score(df[\"True\"], df[\"Pred\"]), 3)\n",
    "    rmse = round(np.sqrt(mean_squared_error(df[\"True\"], df[\"Pred\"])), 2)\n",
    "\n",
    "    rfg_dict[sensor] = {\"R2\": r2, \"RMSE\": rmse}\n",
    "    \n",
    "rfg_dict"
   ]
  },
  {
   "cell_type": "code",
   "execution_count": 18,
   "metadata": {},
   "outputs": [
    {
     "name": "stdout",
     "output_type": "stream",
     "text": [
      "R2:  0.507\n",
      "RMSE:  499.28\n"
     ]
    }
   ],
   "source": [
    "r2 = round(r2_score(full_df[\"TrueCounts\"], pred_rfg[\"CrowdednessCount\"]), 3)\n",
    "rmse = round(np.sqrt(mean_squared_error(full_df[\"TrueCounts\"], pred_rfg[\"CrowdednessCount\"])), 2)\n",
    "print(\"R2: \", r2)\n",
    "print(\"RMSE: \", rmse)"
   ]
  },
  {
   "cell_type": "code",
   "execution_count": 9,
   "metadata": {},
   "outputs": [
    {
     "name": "stdout",
     "output_type": "stream",
     "text": [
      "R2:  0.588\n",
      "RMSE:  512.79\n"
     ]
    }
   ],
   "source": [
    "r2 = round(r2_score(int_df[\"TrueCounts\"], int_rfg[\"CrowdednessCount\"]), 3)\n",
    "rmse = round(np.sqrt(mean_squared_error(int_df[\"TrueCounts\"], int_rfg[\"CrowdednessCount\"])), 2)\n",
    "print(\"R2: \", r2)\n",
    "print(\"RMSE: \", rmse)"
   ]
  },
  {
   "cell_type": "markdown",
   "metadata": {},
   "source": [
    "### XGBR"
   ]
  },
  {
   "cell_type": "code",
   "execution_count": 11,
   "metadata": {},
   "outputs": [
    {
     "data": {
      "text/plain": [
       "{'GAWW-01': {'R2': 0.839, 'RMSE': 443.98},\n",
       " 'GAWW-02': {'R2': 0.804, 'RMSE': 594.52},\n",
       " 'GAWW-03': {'R2': 0.86, 'RMSE': 297.15},\n",
       " 'GAWW-04': {'R2': 0.806, 'RMSE': 134.28},\n",
       " 'GAWW-05': {'R2': 0.877, 'RMSE': 335.58},\n",
       " 'GAWW-06': {'R2': 0.688, 'RMSE': 552.19},\n",
       " 'GAWW-07': {'R2': 0.912, 'RMSE': 207.55}}"
      ]
     },
     "execution_count": 11,
     "metadata": {},
     "output_type": "execute_result"
    }
   ],
   "source": [
    "xgbr_dict = {}\n",
    "sensors = full_df[\"Sensor\"].unique()\n",
    "\n",
    "for sensor in sensors:\n",
    "    df = getSensor(xgbr)\n",
    "    df = df[df[\"Sensor\"] == sensor].copy()\n",
    "    \n",
    "    r2 = round(r2_score(df[\"True\"], df[\"Pred\"]), 3)\n",
    "    rmse = round(np.sqrt(mean_squared_error(df[\"True\"], df[\"Pred\"])), 2)\n",
    "\n",
    "    xgbr_dict[sensor] = {\"R2\": r2, \"RMSE\": rmse}\n",
    "    \n",
    "xgbr_dict"
   ]
  },
  {
   "cell_type": "code",
   "execution_count": 12,
   "metadata": {},
   "outputs": [
    {
     "name": "stdout",
     "output_type": "stream",
     "text": [
      "R2:  0.416\n",
      "RMSE:  543.57\n"
     ]
    }
   ],
   "source": [
    "r2 = round(r2_score(full_df[\"TrueCounts\"], pred_xgbr[\"CrowdednessCount\"]), 3)\n",
    "rmse = round(np.sqrt(mean_squared_error(full_df[\"TrueCounts\"], pred_xgbr[\"CrowdednessCount\"])), 2)\n",
    "print(\"R2: \", r2)\n",
    "print(\"RMSE: \", rmse)"
   ]
  },
  {
   "cell_type": "code",
   "execution_count": 12,
   "metadata": {},
   "outputs": [
    {
     "name": "stdout",
     "output_type": "stream",
     "text": [
      "R2:  0.061\n",
      "RMSE:  774.14\n"
     ]
    }
   ],
   "source": [
    "r2 = round(r2_score(int_df[\"TrueCounts\"], int_xgbr[\"CrowdednessCount\"]), 3)\n",
    "rmse = round(np.sqrt(mean_squared_error(int_df[\"TrueCounts\"], int_xgbr[\"CrowdednessCount\"])), 2)\n",
    "print(\"R2: \", r2)\n",
    "print(\"RMSE: \", rmse)"
   ]
  },
  {
   "cell_type": "markdown",
   "metadata": {},
   "source": [
    "### RFC"
   ]
  },
  {
   "cell_type": "code",
   "execution_count": 21,
   "metadata": {},
   "outputs": [
    {
     "data": {
      "text/plain": [
       "{'GAWW-01': {'Accuracy': 0.855,\n",
       "  'Precision': array([0.91776316, 0.84813084, 0.81898455, 0.85483871]),\n",
       "  'Recall': array([0.6957606 , 0.88536585, 0.82444444, 0.94383562]),\n",
       "  'F1 Score': array([0.79148936, 0.86634845, 0.82170543, 0.89713542])},\n",
       " 'GAWW-02': {'Accuracy': 0.871,\n",
       "  'Precision': array([0.7877551 , 0.87603306, 0.81741573, 0.90758755]),\n",
       "  'Recall': array([0.80416667, 0.77750611, 0.76781003, 0.96784232]),\n",
       "  'F1 Score': array([0.79587629, 0.8238342 , 0.79183673, 0.93674699])},\n",
       " 'GAWW-03': {'Accuracy': 0.891,\n",
       "  'Precision': array([0.9707401 , 0.82608696, 0.70026525, 0.86036036]),\n",
       "  'Recall': array([0.9707401 , 0.72243346, 0.83018868, 0.77016129]),\n",
       "  'F1 Score': array([0.9707401 , 0.77079108, 0.75971223, 0.81276596])},\n",
       " 'GAWW-04': {'Accuracy': 0.869,\n",
       "  'Precision': array([0.94727592, 0.87839102, 0.71181556, 1.        ]),\n",
       "  'Recall': array([0.89090909, 0.89173789, 0.76234568, 0.66666667]),\n",
       "  'F1 Score': array([0.91822828, 0.88501414, 0.73621461, 0.8       ])},\n",
       " 'GAWW-05': {'Accuracy': 0.86,\n",
       "  'Precision': array([0.94327731, 0.86217009, 0.81909548, 0.83188908]),\n",
       "  'Recall': array([0.90890688, 0.80108992, 0.82741117, 0.89053803]),\n",
       "  'F1 Score': array([0.9257732 , 0.83050847, 0.82323232, 0.86021505])},\n",
       " 'GAWW-06': {'Accuracy': 0.814,\n",
       "  'Precision': array([0.87267905, 0.83664459, 0.7654321 , 0.8047138 ]),\n",
       "  'Recall': array([0.74772727, 0.83114035, 0.79633028, 0.86909091]),\n",
       "  'F1 Score': array([0.80538556, 0.83388339, 0.78057554, 0.83566434])},\n",
       " 'GAWW-07': {'Accuracy': 0.869,\n",
       "  'Precision': array([0.9347181 , 0.89432485, 0.86314363, 0.79506173]),\n",
       "  'Recall': array([0.91569767, 0.87047619, 0.85503356, 0.85411141]),\n",
       "  'F1 Score': array([0.92511013, 0.88223938, 0.85906945, 0.82352941])}}"
      ]
     },
     "execution_count": 21,
     "metadata": {},
     "output_type": "execute_result"
    }
   ],
   "source": [
    "rfc_dict = {}\n",
    "sensors = full_df[\"Sensor\"].unique()\n",
    "\n",
    "for sensor in sensors:\n",
    "    df = getSensor(rfc)\n",
    "    df = df[df[\"Sensor\"] == sensor].copy()\n",
    "\n",
    "    acc = round(accuracy_score(df[\"True\"], df[\"Pred\"]),3)\n",
    "    prec = precision_score(df[\"True\"], df[\"Pred\"], average=None)\n",
    "    rec = recall_score(df[\"True\"], df[\"Pred\"], average=None)\n",
    "    f1 = f1_score(df[\"True\"], df[\"Pred\"], average=None)\n",
    "    \n",
    "    rfc_dict[sensor] = {\"Accuracy\": acc, \"Precision\": prec, \"Recall\": rec, \"F1 Score\": f1}\n",
    "    \n",
    "rfc_dict"
   ]
  },
  {
   "cell_type": "code",
   "execution_count": 20,
   "metadata": {},
   "outputs": [
    {
     "name": "stdout",
     "output_type": "stream",
     "text": [
      "Accuracy:  0.333\n",
      "Precision:  [0.51020408 0.19277108 0.41666667 0.        ]\n",
      "Recall:  [0.5952381  0.38095238 0.35714286 0.        ]\n",
      "F1 Score:  [0.54945055 0.256      0.38461538 0.        ]\n"
     ]
    },
    {
     "name": "stderr",
     "output_type": "stream",
     "text": [
      "D:\\Programs\\Anaconda\\envs\\Analytics\\lib\\site-packages\\sklearn\\metrics\\classification.py:1143: UndefinedMetricWarning: Precision is ill-defined and being set to 0.0 in labels with no predicted samples.\n",
      "  'precision', 'predicted', average, warn_for)\n",
      "D:\\Programs\\Anaconda\\envs\\Analytics\\lib\\site-packages\\sklearn\\metrics\\classification.py:1143: UndefinedMetricWarning: F-score is ill-defined and being set to 0.0 in labels with no predicted samples.\n",
      "  'precision', 'predicted', average, warn_for)\n"
     ]
    }
   ],
   "source": [
    "acc = round(accuracy_score(clas_df[\"TrueCounts\"], pred_rfc[\"CrowdednessCount\"]),3)\n",
    "prec = precision_score(clas_df[\"TrueCounts\"], pred_rfc[\"CrowdednessCount\"], average=None)\n",
    "rec = recall_score(clas_df[\"TrueCounts\"], pred_rfc[\"CrowdednessCount\"], average=None)\n",
    "f1 = f1_score(clas_df[\"TrueCounts\"], pred_rfc[\"CrowdednessCount\"], average=None)\n",
    "\n",
    "print(\"Accuracy: \", acc)\n",
    "print(\"Precision: \", prec)\n",
    "print(\"Recall: \", rec)\n",
    "print(\"F1 Score: \", f1)"
   ]
  },
  {
   "cell_type": "code",
   "execution_count": 35,
   "metadata": {},
   "outputs": [
    {
     "name": "stdout",
     "output_type": "stream",
     "text": [
      "Accuracy:  0.333\n",
      "Precision:  [0.5        0.21428571 0.5        0.        ]\n",
      "Recall:  [0.5        0.5        0.33333333 0.        ]\n",
      "F1 Score:  [0.5 0.3 0.4 0. ]\n"
     ]
    },
    {
     "name": "stderr",
     "output_type": "stream",
     "text": [
      "D:\\Programs\\Anaconda\\envs\\Analytics\\lib\\site-packages\\sklearn\\metrics\\classification.py:1143: UndefinedMetricWarning: Precision is ill-defined and being set to 0.0 in labels with no predicted samples.\n",
      "  'precision', 'predicted', average, warn_for)\n",
      "D:\\Programs\\Anaconda\\envs\\Analytics\\lib\\site-packages\\sklearn\\metrics\\classification.py:1143: UndefinedMetricWarning: F-score is ill-defined and being set to 0.0 in labels with no predicted samples.\n",
      "  'precision', 'predicted', average, warn_for)\n"
     ]
    }
   ],
   "source": [
    "acc = round(accuracy_score(int_clas[\"TrueCounts\"], int_rfc[\"CrowdednessCount\"]),3)\n",
    "prec = precision_score(int_clas[\"TrueCounts\"], int_rfc[\"CrowdednessCount\"], average=None)\n",
    "rec = recall_score(int_clas[\"TrueCounts\"], int_rfc[\"CrowdednessCount\"], average=None)\n",
    "f1 = f1_score(int_clas[\"TrueCounts\"], int_rfc[\"CrowdednessCount\"], average=None)\n",
    "\n",
    "print(\"Accuracy: \", acc)\n",
    "print(\"Precision: \", prec)\n",
    "print(\"Recall: \", rec)\n",
    "print(\"F1 Score: \", f1)"
   ]
  },
  {
   "cell_type": "markdown",
   "metadata": {},
   "source": [
    "### XGBC"
   ]
  },
  {
   "cell_type": "code",
   "execution_count": 13,
   "metadata": {},
   "outputs": [
    {
     "name": "stderr",
     "output_type": "stream",
     "text": [
      "D:\\Programs\\Anaconda\\envs\\Analytics\\lib\\site-packages\\sklearn\\metrics\\classification.py:1143: UndefinedMetricWarning: Precision is ill-defined and being set to 0.0 in labels with no predicted samples.\n",
      "  'precision', 'predicted', average, warn_for)\n",
      "D:\\Programs\\Anaconda\\envs\\Analytics\\lib\\site-packages\\sklearn\\metrics\\classification.py:1143: UndefinedMetricWarning: F-score is ill-defined and being set to 0.0 in labels with no predicted samples.\n",
      "  'precision', 'predicted', average, warn_for)\n"
     ]
    },
    {
     "data": {
      "text/plain": [
       "{'GAWW-01': {'Accuracy': 0.832,\n",
       "  'Precision': array([0.85765125, 0.83160622, 0.7925    , 0.84391534]),\n",
       "  'Recall': array([0.70467836, 0.83376623, 0.76019185, 0.93961708]),\n",
       "  'F1 Score': array([0.77367576, 0.83268482, 0.77600979, 0.88919861])},\n",
       " 'GAWW-02': {'Accuracy': 0.804,\n",
       "  'Precision': array([0.72030651, 0.75882353, 0.71283784, 0.87378641]),\n",
       "  'Recall': array([0.78008299, 0.70108696, 0.5960452 , 0.94076655]),\n",
       "  'F1 Score': array([0.74900398, 0.72881356, 0.64923077, 0.90604027])},\n",
       " 'GAWW-03': {'Accuracy': 0.807,\n",
       "  'Precision': array([0.88638413, 0.74096386, 0.59672131, 0.75308642]),\n",
       "  'Recall': array([0.9889336 , 0.48046875, 0.57413249, 0.71484375]),\n",
       "  'F1 Score': array([0.93485497, 0.58293839, 0.585209  , 0.73346693])},\n",
       " 'GAWW-04': {'Accuracy': 0.807,\n",
       "  'Precision': array([0.92664093, 0.77817531, 0.65240642, 0.        ]),\n",
       "  'Recall': array([0.83623693, 0.90719499, 0.42807018, 0.        ]),\n",
       "  'F1 Score': array([0.87912088, 0.83774675, 0.51694915, 0.        ])},\n",
       " 'GAWW-05': {'Accuracy': 0.827,\n",
       "  'Precision': array([0.91266376, 0.84328358, 0.77087034, 0.80524345]),\n",
       "  'Recall': array([0.90869565, 0.68277946, 0.8037037 , 0.87398374]),\n",
       "  'F1 Score': array([0.91067538, 0.75459098, 0.7869447 , 0.83820663])},\n",
       " 'GAWW-06': {'Accuracy': 0.709,\n",
       "  'Precision': array([0.81847134, 0.74734043, 0.62      , 0.71012007]),\n",
       "  'Recall': array([0.61045131, 0.66273585, 0.69591837, 0.84836066]),\n",
       "  'F1 Score': array([0.69931973, 0.7025    , 0.65576923, 0.77310924])},\n",
       " 'GAWW-07': {'Accuracy': 0.82,\n",
       "  'Precision': array([0.98591549, 0.88192771, 0.76416337, 0.7369863 ]),\n",
       "  'Recall': array([0.87774295, 0.7625    , 0.84548105, 0.79585799]),\n",
       "  'F1 Score': array([0.92868988, 0.81787709, 0.80276817, 0.76529161])}}"
      ]
     },
     "execution_count": 13,
     "metadata": {},
     "output_type": "execute_result"
    }
   ],
   "source": [
    "xgbc_dict = {}\n",
    "sensors = full_df[\"Sensor\"].unique()\n",
    "\n",
    "for sensor in sensors:\n",
    "    df = getSensor(xgbc)\n",
    "    df = df[df[\"Sensor\"] == sensor].copy()\n",
    "\n",
    "    acc = round(accuracy_score(df[\"True\"], df[\"Pred\"]),3)\n",
    "    prec = precision_score(df[\"True\"], df[\"Pred\"], average=None)\n",
    "    rec = recall_score(df[\"True\"], df[\"Pred\"], average=None)\n",
    "    f1 = f1_score(df[\"True\"], df[\"Pred\"], average=None)\n",
    "    \n",
    "    xgbc_dict[sensor] = {\"Accuracy\": acc, \"Precision\": prec, \"Recall\": rec, \"F1 Score\": f1}\n",
    "    \n",
    "xgbc_dict"
   ]
  },
  {
   "cell_type": "code",
   "execution_count": 14,
   "metadata": {},
   "outputs": [
    {
     "name": "stdout",
     "output_type": "stream",
     "text": [
      "Accuracy:  0.25\n",
      "Precision:  [0.41791045 0.12121212 0.         1.        ]\n",
      "Recall:  [0.66666667 0.28571429 0.         0.04761905]\n",
      "F1 Score:  [0.51376147 0.17021277 0.         0.09090909]\n"
     ]
    }
   ],
   "source": [
    "acc = round(accuracy_score(clas_df[\"TrueCounts\"], pred_xgbc[\"CrowdednessCount\"]),3)\n",
    "prec = precision_score(clas_df[\"TrueCounts\"], pred_xgbc[\"CrowdednessCount\"], average=None)\n",
    "rec = recall_score(clas_df[\"TrueCounts\"], pred_xgbc[\"CrowdednessCount\"], average=None)\n",
    "f1 = f1_score(clas_df[\"TrueCounts\"], pred_xgbc[\"CrowdednessCount\"], average=None)\n",
    "\n",
    "print(\"Accuracy: \", acc)\n",
    "print(\"Precision: \", prec)\n",
    "print(\"Recall: \", rec)\n",
    "print(\"F1 Score: \", f1)"
   ]
  },
  {
   "cell_type": "code",
   "execution_count": 11,
   "metadata": {},
   "outputs": [
    {
     "name": "stdout",
     "output_type": "stream",
     "text": [
      "Accuracy:  0.333\n",
      "Precision:  [0.5    0.1875 0.     1.    ]\n",
      "Recall:  [0.5        0.5        0.         0.33333333]\n",
      "F1 Score:  [0.5        0.27272727 0.         0.5       ]\n"
     ]
    },
    {
     "name": "stderr",
     "output_type": "stream",
     "text": [
      "D:\\Programs\\Anaconda\\envs\\Analytics\\lib\\site-packages\\sklearn\\metrics\\classification.py:1143: UndefinedMetricWarning: Precision is ill-defined and being set to 0.0 in labels with no predicted samples.\n",
      "  'precision', 'predicted', average, warn_for)\n",
      "D:\\Programs\\Anaconda\\envs\\Analytics\\lib\\site-packages\\sklearn\\metrics\\classification.py:1143: UndefinedMetricWarning: F-score is ill-defined and being set to 0.0 in labels with no predicted samples.\n",
      "  'precision', 'predicted', average, warn_for)\n"
     ]
    }
   ],
   "source": [
    "acc = round(accuracy_score(int_clas[\"TrueCounts\"], int_xgbc[\"CrowdednessCount\"]),3)\n",
    "prec = precision_score(int_clas[\"TrueCounts\"], int_xgbc[\"CrowdednessCount\"], average=None)\n",
    "rec = recall_score(int_clas[\"TrueCounts\"], int_xgbc[\"CrowdednessCount\"], average=None)\n",
    "f1 = f1_score(int_clas[\"TrueCounts\"], int_xgbc[\"CrowdednessCount\"], average=None)\n",
    "\n",
    "print(\"Accuracy: \", acc)\n",
    "print(\"Precision: \", prec)\n",
    "print(\"Recall: \", rec)\n",
    "print(\"F1 Score: \", f1)"
   ]
  }
 ],
 "metadata": {
  "kernelspec": {
   "display_name": "Python 3",
   "language": "python",
   "name": "python3"
  },
  "language_info": {
   "codemirror_mode": {
    "name": "ipython",
    "version": 3
   },
   "file_extension": ".py",
   "mimetype": "text/x-python",
   "name": "python",
   "nbconvert_exporter": "python",
   "pygments_lexer": "ipython3",
   "version": "3.7.1"
  }
 },
 "nbformat": 4,
 "nbformat_minor": 2
}
