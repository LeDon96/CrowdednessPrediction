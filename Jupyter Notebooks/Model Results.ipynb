{
 "cells": [
  {
   "cell_type": "markdown",
   "metadata": {},
   "source": [
    "# Model Results"
   ]
  },
  {
   "cell_type": "markdown",
   "metadata": {},
   "source": [
    "## Imports"
   ]
  },
  {
   "cell_type": "code",
   "execution_count": 2,
   "metadata": {},
   "outputs": [],
   "source": [
    "import pandas as pd\n",
    "import numpy as np\n",
    "from sklearn.metrics import r2_score\n",
    "from sklearn.metrics import mean_squared_error\n",
    "from sklearn.metrics import precision_score\n",
    "from sklearn.metrics import recall_score\n",
    "from sklearn.metrics import accuracy_score\n",
    "from sklearn.metrics import f1_score"
   ]
  },
  {
   "cell_type": "markdown",
   "metadata": {},
   "source": [
    "## Import Files"
   ]
  },
  {
   "cell_type": "code",
   "execution_count": 3,
   "metadata": {},
   "outputs": [],
   "source": [
    "rfg = pd.read_csv(\"../../../Data_thesis/Full_Datasets/rfg_evalResults.csv\")\n",
    "rfc = pd.read_csv(\"../../../Data_thesis/Full_Datasets/rfc_evalResults.csv\")\n",
    "xgbr = pd.read_csv(\"../../../Data_thesis/Full_Datasets/xgbr_evalResults.csv\")\n",
    "xgbc = pd.read_csv(\"../../../Data_thesis/Full_Datasets/xgbc_evalResults.csv\")\n",
    "\n",
    "pred_rfg = pd.read_csv(\"../../../Data_thesis/Full_Datasets/rfg_Predictions.csv\")\n",
    "pred_rfg.sort_values(by=[\"Hour\", \"Sensor\"], inplace=True)\n",
    "pred_rfc = pd.read_csv(\"../../../Data_thesis/Full_Datasets/rfc_Predictions.csv\")\n",
    "pred_rfc.sort_values(by=[\"Hour\", \"Sensor\"], inplace=True)\n",
    "pred_xgbr = pd.read_csv(\"../../../Data_thesis/Full_Datasets/xgbr_Predictions.csv\")\n",
    "pred_xgbr.sort_values(by=[\"Hour\", \"Sensor\"], inplace=True)\n",
    "pred_xgbc = pd.read_csv(\"../../../Data_thesis/Full_Datasets/xgbc_Predictions.csv\")\n",
    "pred_xgbc.sort_values(by=[\"Hour\", \"Sensor\"], inplace=True)\n",
    "pred_lr = pd.read_csv(\"../../../Data_thesis/Full_Datasets/lr_Predictions.csv\")\n",
    "pred_lr.sort_values(by=[\"Hour\", \"Sensor\"], inplace=True)\n",
    "pred_dc = pd.read_csv(\"../../../Data_thesis/Full_Datasets/dc_Predictions.csv\")\n",
    "pred_dc.sort_values(by=[\"Hour\", \"Sensor\"], inplace=True)"
   ]
  },
  {
   "cell_type": "code",
   "execution_count": 4,
   "metadata": {},
   "outputs": [],
   "source": [
    "full_df = pd.read_csv(\"../../../Data_thesis/Full_Datasets/Full.csv\")\n",
    "full_df[\"Date\"] = pd.to_datetime(full_df[\"Date\"], format=\"%Y-%m-%d\")\n",
    "full_df = full_df[full_df[\"Date\"] == pd.Timestamp(2019, 3, 25)].reset_index().drop(columns=[\"index\"])\n",
    "full_df[\"Date\"] = full_df[\"Date\"].astype(str)\n",
    "full_df.rename(index=str, columns={\"CrowdednessCount\": \"TrueCounts\"}, inplace=True)\n",
    "full_df.sort_values(by=[\"Hour\", \"Sensor\"], inplace=True)\n",
    "full_df = full_df[[\"Date\", \"Hour\", \"Sensor\", \"LonScaled\", \"LatScaled\", \"TrueCounts\"]]"
   ]
  },
  {
   "cell_type": "code",
   "execution_count": 11,
   "metadata": {},
   "outputs": [
    {
     "data": {
      "text/html": [
       "<div>\n",
       "<style scoped>\n",
       "    .dataframe tbody tr th:only-of-type {\n",
       "        vertical-align: middle;\n",
       "    }\n",
       "\n",
       "    .dataframe tbody tr th {\n",
       "        vertical-align: top;\n",
       "    }\n",
       "\n",
       "    .dataframe thead th {\n",
       "        text-align: right;\n",
       "    }\n",
       "</style>\n",
       "<table border=\"1\" class=\"dataframe\">\n",
       "  <thead>\n",
       "    <tr style=\"text-align: right;\">\n",
       "      <th></th>\n",
       "      <th>Date</th>\n",
       "      <th>Hour</th>\n",
       "      <th>Sensor</th>\n",
       "      <th>LonScaled</th>\n",
       "      <th>LatScaled</th>\n",
       "      <th>TrueCounts</th>\n",
       "    </tr>\n",
       "  </thead>\n",
       "  <tbody>\n",
       "    <tr>\n",
       "      <th>111</th>\n",
       "      <td>2019-03-25</td>\n",
       "      <td>100</td>\n",
       "      <td>GAWW-01</td>\n",
       "      <td>1.152297</td>\n",
       "      <td>1.430863</td>\n",
       "      <td>1324</td>\n",
       "    </tr>\n",
       "    <tr>\n",
       "      <th>112</th>\n",
       "      <td>2019-03-25</td>\n",
       "      <td>100</td>\n",
       "      <td>GAWW-02</td>\n",
       "      <td>0.279566</td>\n",
       "      <td>0.506281</td>\n",
       "      <td>1359</td>\n",
       "    </tr>\n",
       "    <tr>\n",
       "      <th>113</th>\n",
       "      <td>2019-03-25</td>\n",
       "      <td>100</td>\n",
       "      <td>GAWW-03</td>\n",
       "      <td>-1.170458</td>\n",
       "      <td>-0.925578</td>\n",
       "      <td>399</td>\n",
       "    </tr>\n",
       "    <tr>\n",
       "      <th>114</th>\n",
       "      <td>2019-03-25</td>\n",
       "      <td>100</td>\n",
       "      <td>GAWW-04</td>\n",
       "      <td>-0.640018</td>\n",
       "      <td>-0.064080</td>\n",
       "      <td>277</td>\n",
       "    </tr>\n",
       "    <tr>\n",
       "      <th>115</th>\n",
       "      <td>2019-03-25</td>\n",
       "      <td>100</td>\n",
       "      <td>GAWW-05</td>\n",
       "      <td>-0.816523</td>\n",
       "      <td>-1.118800</td>\n",
       "      <td>1300</td>\n",
       "    </tr>\n",
       "  </tbody>\n",
       "</table>\n",
       "</div>"
      ],
      "text/plain": [
       "           Date  Hour   Sensor  LonScaled  LatScaled  TrueCounts\n",
       "111  2019-03-25   100  GAWW-01   1.152297   1.430863        1324\n",
       "112  2019-03-25   100  GAWW-02   0.279566   0.506281        1359\n",
       "113  2019-03-25   100  GAWW-03  -1.170458  -0.925578         399\n",
       "114  2019-03-25   100  GAWW-04  -0.640018  -0.064080         277\n",
       "115  2019-03-25   100  GAWW-05  -0.816523  -1.118800        1300"
      ]
     },
     "execution_count": 11,
     "metadata": {},
     "output_type": "execute_result"
    }
   ],
   "source": [
    "full_df.head()"
   ]
  },
  {
   "cell_type": "code",
   "execution_count": 20,
   "metadata": {},
   "outputs": [
    {
     "data": {
      "text/html": [
       "<div>\n",
       "<style scoped>\n",
       "    .dataframe tbody tr th:only-of-type {\n",
       "        vertical-align: middle;\n",
       "    }\n",
       "\n",
       "    .dataframe tbody tr th {\n",
       "        vertical-align: top;\n",
       "    }\n",
       "\n",
       "    .dataframe thead th {\n",
       "        text-align: right;\n",
       "    }\n",
       "</style>\n",
       "<table border=\"1\" class=\"dataframe\">\n",
       "  <thead>\n",
       "    <tr style=\"text-align: right;\">\n",
       "      <th></th>\n",
       "      <th>Date</th>\n",
       "      <th>Hour</th>\n",
       "      <th>Sensor</th>\n",
       "      <th>SensorLongitude</th>\n",
       "      <th>SensorLatitude</th>\n",
       "      <th>CrowdednessCount</th>\n",
       "    </tr>\n",
       "  </thead>\n",
       "  <tbody>\n",
       "    <tr>\n",
       "      <th>48</th>\n",
       "      <td>2019-03-25</td>\n",
       "      <td>100</td>\n",
       "      <td>GAWW-01</td>\n",
       "      <td>4.899847</td>\n",
       "      <td>52.374601</td>\n",
       "      <td>2252.6520</td>\n",
       "    </tr>\n",
       "    <tr>\n",
       "      <th>72</th>\n",
       "      <td>2019-03-25</td>\n",
       "      <td>100</td>\n",
       "      <td>GAWW-02</td>\n",
       "      <td>4.898903</td>\n",
       "      <td>52.373786</td>\n",
       "      <td>2227.0378</td>\n",
       "    </tr>\n",
       "    <tr>\n",
       "      <th>0</th>\n",
       "      <td>2019-03-25</td>\n",
       "      <td>100</td>\n",
       "      <td>GAWW-03</td>\n",
       "      <td>4.897334</td>\n",
       "      <td>52.372524</td>\n",
       "      <td>1887.8135</td>\n",
       "    </tr>\n",
       "    <tr>\n",
       "      <th>96</th>\n",
       "      <td>2019-03-25</td>\n",
       "      <td>100</td>\n",
       "      <td>GAWW-04</td>\n",
       "      <td>4.897908</td>\n",
       "      <td>52.373283</td>\n",
       "      <td>2215.1257</td>\n",
       "    </tr>\n",
       "    <tr>\n",
       "      <th>120</th>\n",
       "      <td>2019-03-25</td>\n",
       "      <td>100</td>\n",
       "      <td>GAWW-05</td>\n",
       "      <td>4.897717</td>\n",
       "      <td>52.372353</td>\n",
       "      <td>2161.6350</td>\n",
       "    </tr>\n",
       "  </tbody>\n",
       "</table>\n",
       "</div>"
      ],
      "text/plain": [
       "           Date  Hour   Sensor  SensorLongitude  SensorLatitude  \\\n",
       "48   2019-03-25   100  GAWW-01         4.899847       52.374601   \n",
       "72   2019-03-25   100  GAWW-02         4.898903       52.373786   \n",
       "0    2019-03-25   100  GAWW-03         4.897334       52.372524   \n",
       "96   2019-03-25   100  GAWW-04         4.897908       52.373283   \n",
       "120  2019-03-25   100  GAWW-05         4.897717       52.372353   \n",
       "\n",
       "     CrowdednessCount  \n",
       "48          2252.6520  \n",
       "72          2227.0378  \n",
       "0           1887.8135  \n",
       "96          2215.1257  \n",
       "120         2161.6350  "
      ]
     },
     "execution_count": 20,
     "metadata": {},
     "output_type": "execute_result"
    }
   ],
   "source": [
    "pred_xgbr.head()"
   ]
  },
  {
   "cell_type": "code",
   "execution_count": 8,
   "metadata": {},
   "outputs": [],
   "source": [
    "def classCrowdednessCounts(df):\n",
    "    low_split = df[\"TrueCounts\"].quantile(.25)\n",
    "    mid_split = df[\"TrueCounts\"].quantile(.5)\n",
    "    high_split = df[\"TrueCounts\"].quantile(.75)\n",
    "\n",
    "    clas_dict = df.to_dict(\"index\")\n",
    "\n",
    "    for k, v in clas_dict.items():\n",
    "        if v[\"TrueCounts\"] < low_split:\n",
    "            v[\"TrueCounts\"] = 1\n",
    "        elif v[\"TrueCounts\"] >= low_split and v[\"TrueCounts\"] < mid_split:\n",
    "            v[\"TrueCounts\"] = 2\n",
    "        elif v[\"TrueCounts\"] >= mid_split and v[\"TrueCounts\"] < high_split:\n",
    "            v[\"TrueCounts\"] = 3\n",
    "        elif v[\"TrueCounts\"] >= high_split:\n",
    "            v[\"TrueCounts\"] = 4\n",
    "        else:\n",
    "            print(k, \" has class error as it fits in none\")\n",
    "\n",
    "    df = pd.DataFrame.from_dict(clas_dict, orient=\"index\")\n",
    "\n",
    "    return df"
   ]
  },
  {
   "cell_type": "code",
   "execution_count": 9,
   "metadata": {},
   "outputs": [],
   "source": [
    "def getSensor(df):\n",
    "    df[\"Sensor\"] = \"None\"\n",
    "    model_dict = df.to_dict(\"index\")\n",
    "    \n",
    "    for k, v in model_dict.items():\n",
    "        v[\"Sensor\"] = full_df[full_df[\"LonScaled\"] == v[\"Lon\"]].reset_index()[\"Sensor\"][0]\n",
    "    \n",
    "    df = pd.DataFrame.from_dict(model_dict, orient=\"index\")\n",
    "    \n",
    "    return df"
   ]
  },
  {
   "cell_type": "code",
   "execution_count": 16,
   "metadata": {},
   "outputs": [],
   "source": [
    "clas_df = classCrowdednessCounts(full_df)\n",
    "clas_df.sort_values(by=[\"Hour\", \"Sensor\"], inplace=True)"
   ]
  },
  {
   "cell_type": "code",
   "execution_count": 17,
   "metadata": {},
   "outputs": [
    {
     "data": {
      "text/html": [
       "<div>\n",
       "<style scoped>\n",
       "    .dataframe tbody tr th:only-of-type {\n",
       "        vertical-align: middle;\n",
       "    }\n",
       "\n",
       "    .dataframe tbody tr th {\n",
       "        vertical-align: top;\n",
       "    }\n",
       "\n",
       "    .dataframe thead th {\n",
       "        text-align: right;\n",
       "    }\n",
       "</style>\n",
       "<table border=\"1\" class=\"dataframe\">\n",
       "  <thead>\n",
       "    <tr style=\"text-align: right;\">\n",
       "      <th></th>\n",
       "      <th>Date</th>\n",
       "      <th>Hour</th>\n",
       "      <th>Sensor</th>\n",
       "      <th>LonScaled</th>\n",
       "      <th>LatScaled</th>\n",
       "      <th>TrueCounts</th>\n",
       "    </tr>\n",
       "  </thead>\n",
       "  <tbody>\n",
       "    <tr>\n",
       "      <th>111</th>\n",
       "      <td>2019-03-25</td>\n",
       "      <td>100</td>\n",
       "      <td>GAWW-01</td>\n",
       "      <td>1.152297</td>\n",
       "      <td>1.430863</td>\n",
       "      <td>4</td>\n",
       "    </tr>\n",
       "    <tr>\n",
       "      <th>112</th>\n",
       "      <td>2019-03-25</td>\n",
       "      <td>100</td>\n",
       "      <td>GAWW-02</td>\n",
       "      <td>0.279566</td>\n",
       "      <td>0.506281</td>\n",
       "      <td>4</td>\n",
       "    </tr>\n",
       "    <tr>\n",
       "      <th>113</th>\n",
       "      <td>2019-03-25</td>\n",
       "      <td>100</td>\n",
       "      <td>GAWW-03</td>\n",
       "      <td>-1.170458</td>\n",
       "      <td>-0.925578</td>\n",
       "      <td>3</td>\n",
       "    </tr>\n",
       "    <tr>\n",
       "      <th>114</th>\n",
       "      <td>2019-03-25</td>\n",
       "      <td>100</td>\n",
       "      <td>GAWW-04</td>\n",
       "      <td>-0.640018</td>\n",
       "      <td>-0.064080</td>\n",
       "      <td>2</td>\n",
       "    </tr>\n",
       "    <tr>\n",
       "      <th>115</th>\n",
       "      <td>2019-03-25</td>\n",
       "      <td>100</td>\n",
       "      <td>GAWW-05</td>\n",
       "      <td>-0.816523</td>\n",
       "      <td>-1.118800</td>\n",
       "      <td>4</td>\n",
       "    </tr>\n",
       "  </tbody>\n",
       "</table>\n",
       "</div>"
      ],
      "text/plain": [
       "           Date  Hour   Sensor  LonScaled  LatScaled  TrueCounts\n",
       "111  2019-03-25   100  GAWW-01   1.152297   1.430863           4\n",
       "112  2019-03-25   100  GAWW-02   0.279566   0.506281           4\n",
       "113  2019-03-25   100  GAWW-03  -1.170458  -0.925578           3\n",
       "114  2019-03-25   100  GAWW-04  -0.640018  -0.064080           2\n",
       "115  2019-03-25   100  GAWW-05  -0.816523  -1.118800           4"
      ]
     },
     "execution_count": 17,
     "metadata": {},
     "output_type": "execute_result"
    }
   ],
   "source": [
    "clas_df.head()"
   ]
  },
  {
   "cell_type": "code",
   "execution_count": 14,
   "metadata": {},
   "outputs": [
    {
     "data": {
      "text/html": [
       "<div>\n",
       "<style scoped>\n",
       "    .dataframe tbody tr th:only-of-type {\n",
       "        vertical-align: middle;\n",
       "    }\n",
       "\n",
       "    .dataframe tbody tr th {\n",
       "        vertical-align: top;\n",
       "    }\n",
       "\n",
       "    .dataframe thead th {\n",
       "        text-align: right;\n",
       "    }\n",
       "</style>\n",
       "<table border=\"1\" class=\"dataframe\">\n",
       "  <thead>\n",
       "    <tr style=\"text-align: right;\">\n",
       "      <th></th>\n",
       "      <th>Date</th>\n",
       "      <th>Hour</th>\n",
       "      <th>Sensor</th>\n",
       "      <th>SensorLongitude</th>\n",
       "      <th>SensorLatitude</th>\n",
       "      <th>CrowdednessCount</th>\n",
       "    </tr>\n",
       "  </thead>\n",
       "  <tbody>\n",
       "    <tr>\n",
       "      <th>48</th>\n",
       "      <td>2019-03-25</td>\n",
       "      <td>100</td>\n",
       "      <td>GAWW-01</td>\n",
       "      <td>4.899847</td>\n",
       "      <td>52.374601</td>\n",
       "      <td>3</td>\n",
       "    </tr>\n",
       "    <tr>\n",
       "      <th>72</th>\n",
       "      <td>2019-03-25</td>\n",
       "      <td>100</td>\n",
       "      <td>GAWW-02</td>\n",
       "      <td>4.898903</td>\n",
       "      <td>52.373786</td>\n",
       "      <td>3</td>\n",
       "    </tr>\n",
       "    <tr>\n",
       "      <th>0</th>\n",
       "      <td>2019-03-25</td>\n",
       "      <td>100</td>\n",
       "      <td>GAWW-03</td>\n",
       "      <td>4.897334</td>\n",
       "      <td>52.372524</td>\n",
       "      <td>3</td>\n",
       "    </tr>\n",
       "    <tr>\n",
       "      <th>96</th>\n",
       "      <td>2019-03-25</td>\n",
       "      <td>100</td>\n",
       "      <td>GAWW-04</td>\n",
       "      <td>4.897908</td>\n",
       "      <td>52.373283</td>\n",
       "      <td>3</td>\n",
       "    </tr>\n",
       "    <tr>\n",
       "      <th>120</th>\n",
       "      <td>2019-03-25</td>\n",
       "      <td>100</td>\n",
       "      <td>GAWW-05</td>\n",
       "      <td>4.897717</td>\n",
       "      <td>52.372353</td>\n",
       "      <td>3</td>\n",
       "    </tr>\n",
       "  </tbody>\n",
       "</table>\n",
       "</div>"
      ],
      "text/plain": [
       "           Date  Hour   Sensor  SensorLongitude  SensorLatitude  \\\n",
       "48   2019-03-25   100  GAWW-01         4.899847       52.374601   \n",
       "72   2019-03-25   100  GAWW-02         4.898903       52.373786   \n",
       "0    2019-03-25   100  GAWW-03         4.897334       52.372524   \n",
       "96   2019-03-25   100  GAWW-04         4.897908       52.373283   \n",
       "120  2019-03-25   100  GAWW-05         4.897717       52.372353   \n",
       "\n",
       "     CrowdednessCount  \n",
       "48                  3  \n",
       "72                  3  \n",
       "0                   3  \n",
       "96                  3  \n",
       "120                 3  "
      ]
     },
     "execution_count": 14,
     "metadata": {},
     "output_type": "execute_result"
    }
   ],
   "source": [
    "pred_dc.head()"
   ]
  },
  {
   "cell_type": "markdown",
   "metadata": {},
   "source": [
    "## Results"
   ]
  },
  {
   "cell_type": "code",
   "execution_count": 5,
   "metadata": {},
   "outputs": [
    {
     "name": "stdout",
     "output_type": "stream",
     "text": [
      "R2:  -3208789378017.918\n",
      "RMSE:  1273871795.59\n"
     ]
    }
   ],
   "source": [
    "r2 = round(r2_score(full_df[\"TrueCounts\"], pred_lr[\"CrowdednessCount\"]), 3)\n",
    "rmse = round(np.sqrt(mean_squared_error(full_df[\"TrueCounts\"], pred_lr[\"CrowdednessCount\"])), 2)\n",
    "print(\"R2: \", r2)\n",
    "print(\"RMSE: \", rmse)"
   ]
  },
  {
   "cell_type": "code",
   "execution_count": 18,
   "metadata": {},
   "outputs": [
    {
     "name": "stdout",
     "output_type": "stream",
     "text": [
      "Accuracy:  0.25\n",
      "Precision:  [0.   0.   0.25 0.  ]\n",
      "Recall:  [0. 0. 1. 0.]\n",
      "F1 Score:  [0.  0.  0.4 0. ]\n"
     ]
    }
   ],
   "source": [
    "acc = round(accuracy_score(clas_df[\"TrueCounts\"], pred_dc[\"CrowdednessCount\"]),3)\n",
    "prec = precision_score(clas_df[\"TrueCounts\"], pred_dc[\"CrowdednessCount\"], average=None)\n",
    "rec = recall_score(clas_df[\"TrueCounts\"], pred_dc[\"CrowdednessCount\"], average=None)\n",
    "f1 = f1_score(clas_df[\"TrueCounts\"], pred_dc[\"CrowdednessCount\"], average=None)\n",
    "\n",
    "print(\"Accuracy: \", acc)\n",
    "print(\"Precision: \", prec)\n",
    "print(\"Recall: \", rec)\n",
    "print(\"F1 Score: \", f1)"
   ]
  },
  {
   "cell_type": "markdown",
   "metadata": {},
   "source": [
    "### RFG"
   ]
  },
  {
   "cell_type": "code",
   "execution_count": 20,
   "metadata": {},
   "outputs": [
    {
     "data": {
      "text/plain": [
       "{'GAWW-01': {'R2': 0.814, 'RMSE': 486.26},\n",
       " 'GAWW-02': {'R2': 0.839, 'RMSE': 557.4},\n",
       " 'GAWW-03': {'R2': 0.908, 'RMSE': 235.44},\n",
       " 'GAWW-04': {'R2': 0.852, 'RMSE': 124.56},\n",
       " 'GAWW-05': {'R2': 0.909, 'RMSE': 294.28},\n",
       " 'GAWW-06': {'R2': 0.759, 'RMSE': 501.56},\n",
       " 'GAWW-07': {'R2': 0.927, 'RMSE': 193.06}}"
      ]
     },
     "execution_count": 20,
     "metadata": {},
     "output_type": "execute_result"
    }
   ],
   "source": [
    "rfg_dict = {}\n",
    "sensors = full_df[\"Sensor\"].unique()\n",
    "\n",
    "for sensor in sensors:\n",
    "    df = getSensor(rfg)\n",
    "    df = df[df[\"Sensor\"] == sensor].copy()\n",
    "    \n",
    "    r2 = round(r2_score(df[\"True\"], df[\"Pred\"]), 3)\n",
    "    rmse = round(np.sqrt(mean_squared_error(df[\"True\"], df[\"Pred\"])), 2)\n",
    "\n",
    "    rfg_dict[sensor] = {\"R2\": r2, \"RMSE\": rmse}\n",
    "    \n",
    "rfg_dict"
   ]
  },
  {
   "cell_type": "code",
   "execution_count": 8,
   "metadata": {},
   "outputs": [
    {
     "name": "stdout",
     "output_type": "stream",
     "text": [
      "R2:  0.207\n",
      "RMSE:  633.22\n"
     ]
    }
   ],
   "source": [
    "r2 = round(r2_score(full_df[\"TrueCounts\"], pred_rfg[\"CrowdednessCount\"]), 3)\n",
    "rmse = round(np.sqrt(mean_squared_error(full_df[\"TrueCounts\"], pred_rfg[\"CrowdednessCount\"])), 2)\n",
    "print(\"R2: \", r2)\n",
    "print(\"RMSE: \", rmse)"
   ]
  },
  {
   "cell_type": "markdown",
   "metadata": {},
   "source": [
    "### XGBR"
   ]
  },
  {
   "cell_type": "code",
   "execution_count": 13,
   "metadata": {},
   "outputs": [
    {
     "data": {
      "text/plain": [
       "{'GAWW-01': {'R2': 0.775, 'RMSE': 535.9},\n",
       " 'GAWW-02': {'R2': 0.805, 'RMSE': 614.08},\n",
       " 'GAWW-03': {'R2': 0.734, 'RMSE': 399.68},\n",
       " 'GAWW-04': {'R2': 0.62, 'RMSE': 199.8},\n",
       " 'GAWW-05': {'R2': 0.875, 'RMSE': 344.23},\n",
       " 'GAWW-06': {'R2': 0.698, 'RMSE': 561.78},\n",
       " 'GAWW-07': {'R2': 0.905, 'RMSE': 219.2}}"
      ]
     },
     "execution_count": 13,
     "metadata": {},
     "output_type": "execute_result"
    }
   ],
   "source": [
    "xgbr_dict = {}\n",
    "sensors = full_df[\"Sensor\"].unique()\n",
    "\n",
    "for sensor in sensors:\n",
    "    df = getSensor(xgbr)\n",
    "    df = df[df[\"Sensor\"] == sensor].copy()\n",
    "    \n",
    "    r2 = round(r2_score(df[\"True\"], df[\"Pred\"]), 3)\n",
    "    rmse = round(np.sqrt(mean_squared_error(df[\"True\"], df[\"Pred\"])), 2)\n",
    "\n",
    "    xgbr_dict[sensor] = {\"R2\": r2, \"RMSE\": rmse}\n",
    "    \n",
    "xgbr_dict"
   ]
  },
  {
   "cell_type": "code",
   "execution_count": 14,
   "metadata": {},
   "outputs": [
    {
     "name": "stdout",
     "output_type": "stream",
     "text": [
      "R2:  -0.783\n",
      "RMSE:  949.69\n"
     ]
    }
   ],
   "source": [
    "r2 = round(r2_score(full_df[\"TrueCounts\"], pred_xgbr[\"CrowdednessCount\"]), 3)\n",
    "rmse = round(np.sqrt(mean_squared_error(full_df[\"TrueCounts\"], pred_xgbr[\"CrowdednessCount\"])), 2)\n",
    "print(\"R2: \", r2)\n",
    "print(\"RMSE: \", rmse)"
   ]
  },
  {
   "cell_type": "markdown",
   "metadata": {},
   "source": [
    "### RFC"
   ]
  },
  {
   "cell_type": "code",
   "execution_count": 21,
   "metadata": {},
   "outputs": [
    {
     "data": {
      "text/plain": [
       "{'GAWW-01': {'Accuracy': 0.855,\n",
       "  'Precision': array([0.91776316, 0.84813084, 0.81898455, 0.85483871]),\n",
       "  'Recall': array([0.6957606 , 0.88536585, 0.82444444, 0.94383562]),\n",
       "  'F1 Score': array([0.79148936, 0.86634845, 0.82170543, 0.89713542])},\n",
       " 'GAWW-02': {'Accuracy': 0.871,\n",
       "  'Precision': array([0.7877551 , 0.87603306, 0.81741573, 0.90758755]),\n",
       "  'Recall': array([0.80416667, 0.77750611, 0.76781003, 0.96784232]),\n",
       "  'F1 Score': array([0.79587629, 0.8238342 , 0.79183673, 0.93674699])},\n",
       " 'GAWW-03': {'Accuracy': 0.891,\n",
       "  'Precision': array([0.9707401 , 0.82608696, 0.70026525, 0.86036036]),\n",
       "  'Recall': array([0.9707401 , 0.72243346, 0.83018868, 0.77016129]),\n",
       "  'F1 Score': array([0.9707401 , 0.77079108, 0.75971223, 0.81276596])},\n",
       " 'GAWW-04': {'Accuracy': 0.869,\n",
       "  'Precision': array([0.94727592, 0.87839102, 0.71181556, 1.        ]),\n",
       "  'Recall': array([0.89090909, 0.89173789, 0.76234568, 0.66666667]),\n",
       "  'F1 Score': array([0.91822828, 0.88501414, 0.73621461, 0.8       ])},\n",
       " 'GAWW-05': {'Accuracy': 0.86,\n",
       "  'Precision': array([0.94327731, 0.86217009, 0.81909548, 0.83188908]),\n",
       "  'Recall': array([0.90890688, 0.80108992, 0.82741117, 0.89053803]),\n",
       "  'F1 Score': array([0.9257732 , 0.83050847, 0.82323232, 0.86021505])},\n",
       " 'GAWW-06': {'Accuracy': 0.814,\n",
       "  'Precision': array([0.87267905, 0.83664459, 0.7654321 , 0.8047138 ]),\n",
       "  'Recall': array([0.74772727, 0.83114035, 0.79633028, 0.86909091]),\n",
       "  'F1 Score': array([0.80538556, 0.83388339, 0.78057554, 0.83566434])},\n",
       " 'GAWW-07': {'Accuracy': 0.869,\n",
       "  'Precision': array([0.9347181 , 0.89432485, 0.86314363, 0.79506173]),\n",
       "  'Recall': array([0.91569767, 0.87047619, 0.85503356, 0.85411141]),\n",
       "  'F1 Score': array([0.92511013, 0.88223938, 0.85906945, 0.82352941])}}"
      ]
     },
     "execution_count": 21,
     "metadata": {},
     "output_type": "execute_result"
    }
   ],
   "source": [
    "rfc_dict = {}\n",
    "sensors = full_df[\"Sensor\"].unique()\n",
    "\n",
    "for sensor in sensors:\n",
    "    df = getSensor(rfc)\n",
    "    df = df[df[\"Sensor\"] == sensor].copy()\n",
    "\n",
    "    acc = round(accuracy_score(df[\"True\"], df[\"Pred\"]),3)\n",
    "    prec = precision_score(df[\"True\"], df[\"Pred\"], average=None)\n",
    "    rec = recall_score(df[\"True\"], df[\"Pred\"], average=None)\n",
    "    f1 = f1_score(df[\"True\"], df[\"Pred\"], average=None)\n",
    "    \n",
    "    rfc_dict[sensor] = {\"Accuracy\": acc, \"Precision\": prec, \"Recall\": rec, \"F1 Score\": f1}\n",
    "    \n",
    "rfc_dict"
   ]
  },
  {
   "cell_type": "code",
   "execution_count": 19,
   "metadata": {},
   "outputs": [
    {
     "name": "stdout",
     "output_type": "stream",
     "text": [
      "Accuracy:  0.333\n",
      "Precision:  [0.46774194 0.15189873 0.36363636 0.6875    ]\n",
      "Recall:  [0.69047619 0.28571429 0.0952381  0.26190476]\n",
      "F1 Score:  [0.55769231 0.19834711 0.1509434  0.37931034]\n"
     ]
    }
   ],
   "source": [
    "acc = round(accuracy_score(clas_df[\"TrueCounts\"], pred_rfc[\"CrowdednessCount\"]),3)\n",
    "prec = precision_score(clas_df[\"TrueCounts\"], pred_rfc[\"CrowdednessCount\"], average=None)\n",
    "rec = recall_score(clas_df[\"TrueCounts\"], pred_rfc[\"CrowdednessCount\"], average=None)\n",
    "f1 = f1_score(clas_df[\"TrueCounts\"], pred_rfc[\"CrowdednessCount\"], average=None)\n",
    "\n",
    "print(\"Accuracy: \", acc)\n",
    "print(\"Precision: \", prec)\n",
    "print(\"Recall: \", rec)\n",
    "print(\"F1 Score: \", f1)"
   ]
  },
  {
   "cell_type": "markdown",
   "metadata": {},
   "source": [
    "### XGBC"
   ]
  },
  {
   "cell_type": "code",
   "execution_count": 22,
   "metadata": {},
   "outputs": [
    {
     "data": {
      "text/plain": [
       "{'GAWW-01': {'Accuracy': 0.817,\n",
       "  'Precision': array([0.85185185, 0.8056872 , 0.78636364, 0.82572115]),\n",
       "  'Recall': array([0.63092269, 0.82926829, 0.76888889, 0.94109589]),\n",
       "  'F1 Score': array([0.72492837, 0.81730769, 0.77752809, 0.87964149])},\n",
       " 'GAWW-02': {'Accuracy': 0.783,\n",
       "  'Precision': array([0.64583333, 0.73816156, 0.66081871, 0.88035892]),\n",
       "  'Recall': array([0.775     , 0.64792176, 0.59630607, 0.9159751 ]),\n",
       "  'F1 Score': array([0.70454545, 0.69010417, 0.62690707, 0.89781393])},\n",
       " 'GAWW-03': {'Accuracy': 0.812,\n",
       "  'Precision': array([0.896875  , 0.72254335, 0.5732899 , 0.72294372]),\n",
       "  'Recall': array([0.98795181, 0.47528517, 0.55345912, 0.6733871 ]),\n",
       "  'F1 Score': array([0.94021294, 0.5733945 , 0.5632    , 0.69728601])},\n",
       " 'GAWW-04': {'Accuracy': 0.801,\n",
       "  'Precision': array([0.89734513, 0.78433024, 0.65690377, 0.        ]),\n",
       "  'Recall': array([0.83801653, 0.88414055, 0.4845679 , 0.        ]),\n",
       "  'F1 Score': array([0.86666667, 0.83125   , 0.55772647, 0.        ])},\n",
       " 'GAWW-05': {'Accuracy': 0.818,\n",
       "  'Precision': array([0.90946502, 0.82724252, 0.77326565, 0.78466558]),\n",
       "  'Recall': array([0.89473684, 0.67847411, 0.77326565, 0.89239332]),\n",
       "  'F1 Score': array([0.90204082, 0.74550898, 0.77326565, 0.83506944])},\n",
       " 'GAWW-06': {'Accuracy': 0.711,\n",
       "  'Precision': array([0.80895522, 0.7099768 , 0.63492063, 0.72644377]),\n",
       "  'Recall': array([0.61590909, 0.67105263, 0.66055046, 0.86909091]),\n",
       "  'F1 Score': array([0.69935484, 0.68996618, 0.64748201, 0.79139073])},\n",
       " 'GAWW-07': {'Accuracy': 0.798,\n",
       "  'Precision': array([0.98601399, 0.84855234, 0.74374255, 0.72422062]),\n",
       "  'Recall': array([0.81976744, 0.72571429, 0.83758389, 0.80106101]),\n",
       "  'F1 Score': array([0.8952381 , 0.78234086, 0.78787879, 0.76070529])}}"
      ]
     },
     "execution_count": 22,
     "metadata": {},
     "output_type": "execute_result"
    }
   ],
   "source": [
    "xgbc_dict = {}\n",
    "sensors = full_df[\"Sensor\"].unique()\n",
    "\n",
    "for sensor in sensors:\n",
    "    df = getSensor(xgbc)\n",
    "    df = df[df[\"Sensor\"] == sensor].copy()\n",
    "\n",
    "    acc = round(accuracy_score(df[\"True\"], df[\"Pred\"]),3)\n",
    "    prec = precision_score(df[\"True\"], df[\"Pred\"], average=None)\n",
    "    rec = recall_score(df[\"True\"], df[\"Pred\"], average=None)\n",
    "    f1 = f1_score(df[\"True\"], df[\"Pred\"], average=None)\n",
    "    \n",
    "    xgbc_dict[sensor] = {\"Accuracy\": acc, \"Precision\": prec, \"Recall\": rec, \"F1 Score\": f1}\n",
    "    \n",
    "xgbc_dict"
   ]
  },
  {
   "cell_type": "code",
   "execution_count": 20,
   "metadata": {},
   "outputs": [
    {
     "name": "stdout",
     "output_type": "stream",
     "text": [
      "Accuracy:  0.226\n",
      "Precision:  [0.39705882 0.11       0.         0.        ]\n",
      "Recall:  [0.64285714 0.26190476 0.         0.        ]\n",
      "F1 Score:  [0.49090909 0.15492958 0.         0.        ]\n"
     ]
    }
   ],
   "source": [
    "acc = round(accuracy_score(clas_df[\"TrueCounts\"], pred_xgbc[\"CrowdednessCount\"]),3)\n",
    "prec = precision_score(clas_df[\"TrueCounts\"], pred_xgbc[\"CrowdednessCount\"], average=None)\n",
    "rec = recall_score(clas_df[\"TrueCounts\"], pred_xgbc[\"CrowdednessCount\"], average=None)\n",
    "f1 = f1_score(clas_df[\"TrueCounts\"], pred_xgbc[\"CrowdednessCount\"], average=None)\n",
    "\n",
    "print(\"Accuracy: \", acc)\n",
    "print(\"Precision: \", prec)\n",
    "print(\"Recall: \", rec)\n",
    "print(\"F1 Score: \", f1)"
   ]
  }
 ],
 "metadata": {
  "kernelspec": {
   "display_name": "Python 3",
   "language": "python",
   "name": "python3"
  },
  "language_info": {
   "codemirror_mode": {
    "name": "ipython",
    "version": 3
   },
   "file_extension": ".py",
   "mimetype": "text/x-python",
   "name": "python",
   "nbconvert_exporter": "python",
   "pygments_lexer": "ipython3",
   "version": "3.7.1"
  }
 },
 "nbformat": 4,
 "nbformat_minor": 2
}
