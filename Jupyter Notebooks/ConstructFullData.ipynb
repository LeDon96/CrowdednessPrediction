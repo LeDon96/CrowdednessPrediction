{
 "cells": [
  {
   "cell_type": "markdown",
   "metadata": {},
   "source": [
    "# Construction Full Dataset"
   ]
  },
  {
   "cell_type": "markdown",
   "metadata": {},
   "source": [
    "## Imports"
   ]
  },
  {
   "cell_type": "code",
   "execution_count": 28,
   "metadata": {},
   "outputs": [
    {
     "name": "stdout",
     "output_type": "stream",
     "text": [
      "Importing Jupyter notebook from CombineData.ipynb\n"
     ]
    }
   ],
   "source": [
    "#Imports\n",
    "import json\n",
    "import pandas as pd\n",
    "import re\n",
    "import numpy as np\n",
    "\n",
    "import nbimporter\n",
    "\n",
    "import Crowdedness\n",
    "import GVBData\n",
    "import AmsterdamEvent\n",
    "import CombineData"
   ]
  },
  {
   "cell_type": "markdown",
   "metadata": {},
   "source": [
    "## Import Data"
   ]
  },
  {
   "cell_type": "markdown",
   "metadata": {},
   "source": [
    "### Crowdedness "
   ]
  },
  {
   "cell_type": "code",
   "execution_count": 3,
   "metadata": {},
   "outputs": [],
   "source": [
    "crowd_df = pd.read_excel(\"../../../Data_thesis/CMSA/cmsa_data.xlsx\")"
   ]
  },
  {
   "cell_type": "code",
   "execution_count": 4,
   "metadata": {},
   "outputs": [],
   "source": [
    "blip_df = pd.read_csv(\"../../../Data_thesis/CMSA/BlipData.csv\")"
   ]
  },
  {
   "cell_type": "code",
   "execution_count": 5,
   "metadata": {},
   "outputs": [],
   "source": [
    "sensor_df = pd.read_csv(\"../../../Data_thesis/Open_Data/crowdedness_sensoren.csv\", sep=\";\")"
   ]
  },
  {
   "cell_type": "markdown",
   "metadata": {},
   "source": [
    "### GVB"
   ]
  },
  {
   "cell_type": "code",
   "execution_count": 16,
   "metadata": {},
   "outputs": [],
   "source": [
    "arr_df = pd.read_csv(\"../../../Data_thesis/GVB/Datalab_Reis_Bestemming_Uur_20190402.csv\", sep=\";\")\n",
    "dep_df = pd.read_csv(\"../../../Data_thesis/GVB/Datalab_Reis_Herkomst_Uur_20190403.csv\", sep=\";\")"
   ]
  },
  {
   "cell_type": "markdown",
   "metadata": {},
   "source": [
    "### Event"
   ]
  },
  {
   "cell_type": "code",
   "execution_count": 23,
   "metadata": {},
   "outputs": [],
   "source": [
    "with open(\"../../../Data_thesis/Open_Data/Evenementen.json\") as event_data:\n",
    "    events = json.load(event_data)"
   ]
  },
  {
   "cell_type": "markdown",
   "metadata": {},
   "source": [
    "## Variables"
   ]
  },
  {
   "cell_type": "markdown",
   "metadata": {},
   "source": [
    "### Crowdedness "
   ]
  },
  {
   "cell_type": "code",
   "execution_count": 9,
   "metadata": {},
   "outputs": [],
   "source": [
    "#Sensors to use in Sensor Data\n",
    "needed_sensors = [\"GAWW-01\", \"GAWW-02\", \"GAWW-03\", \"GAWW-04\", \"GAWW-05\", \"GAWW-06\", \"GAWW-07\", \"GAWW-08\", \"GAWW-09\",\n",
    "                  \"GAWW-10\"]\n",
    "\n",
    "#Alternative names Sensors\n",
    "gaww_02 = [2, \"02R\", \"2R\", \"Oude Kennissteeg Occ wifi\"]\n",
    "gaww_03 = [3, \"03R\"]"
   ]
  },
  {
   "cell_type": "markdown",
   "metadata": {},
   "source": [
    "### GVB"
   ]
  },
  {
   "cell_type": "code",
   "execution_count": 17,
   "metadata": {},
   "outputs": [],
   "source": [
    "stations = [\"Nieuwmarkt\", \"Nieuwezijds Kolk\", \"Dam\", \"Spui\"]"
   ]
  },
  {
   "cell_type": "markdown",
   "metadata": {},
   "source": [
    "### Event"
   ]
  },
  {
   "cell_type": "code",
   "execution_count": 24,
   "metadata": {},
   "outputs": [],
   "source": [
    "#Parameters for area to search in\n",
    "#longitude\n",
    "lon_low = 4.88\n",
    "lon_high = 4.92\n",
    "\n",
    "#Latitude\n",
    "lat_low = 52.36\n",
    "lat_high = 52.39\n",
    "\n",
    "#Start date for relevant events\n",
    "start_date = pd.Timestamp(2018, 3, 11)\n",
    "\n",
    "#End date for relevant events\n",
    "end_date = pd.Timestamp(2019, 4, 30)"
   ]
  },
  {
   "cell_type": "markdown",
   "metadata": {},
   "source": [
    "## Functions"
   ]
  },
  {
   "cell_type": "markdown",
   "metadata": {},
   "source": [
    "### Crowdedness"
   ]
  },
  {
   "cell_type": "code",
   "execution_count": 18,
   "metadata": {},
   "outputs": [
    {
     "data": {
      "text/html": [
       "<div>\n",
       "<style scoped>\n",
       "    .dataframe tbody tr th:only-of-type {\n",
       "        vertical-align: middle;\n",
       "    }\n",
       "\n",
       "    .dataframe tbody tr th {\n",
       "        vertical-align: top;\n",
       "    }\n",
       "\n",
       "    .dataframe thead th {\n",
       "        text-align: right;\n",
       "    }\n",
       "</style>\n",
       "<table border=\"1\" class=\"dataframe\">\n",
       "  <thead>\n",
       "    <tr style=\"text-align: right;\">\n",
       "      <th></th>\n",
       "      <th>Sensor</th>\n",
       "      <th>Date</th>\n",
       "      <th>Hour</th>\n",
       "      <th>SensorLongitude</th>\n",
       "      <th>SensorLatitude</th>\n",
       "      <th>CrowdednessCount</th>\n",
       "    </tr>\n",
       "  </thead>\n",
       "  <tbody>\n",
       "    <tr>\n",
       "      <th>0</th>\n",
       "      <td>GAWW-01</td>\n",
       "      <td>2018-03-11</td>\n",
       "      <td>100</td>\n",
       "      <td>8</td>\n",
       "      <td>8</td>\n",
       "      <td>3133</td>\n",
       "    </tr>\n",
       "    <tr>\n",
       "      <th>1</th>\n",
       "      <td>GAWW-01</td>\n",
       "      <td>2018-03-11</td>\n",
       "      <td>200</td>\n",
       "      <td>8</td>\n",
       "      <td>8</td>\n",
       "      <td>2120</td>\n",
       "    </tr>\n",
       "    <tr>\n",
       "      <th>2</th>\n",
       "      <td>GAWW-01</td>\n",
       "      <td>2018-03-11</td>\n",
       "      <td>300</td>\n",
       "      <td>8</td>\n",
       "      <td>8</td>\n",
       "      <td>1419</td>\n",
       "    </tr>\n",
       "    <tr>\n",
       "      <th>3</th>\n",
       "      <td>GAWW-01</td>\n",
       "      <td>2018-03-11</td>\n",
       "      <td>400</td>\n",
       "      <td>8</td>\n",
       "      <td>8</td>\n",
       "      <td>1085</td>\n",
       "    </tr>\n",
       "    <tr>\n",
       "      <th>4</th>\n",
       "      <td>GAWW-01</td>\n",
       "      <td>2018-03-11</td>\n",
       "      <td>500</td>\n",
       "      <td>8</td>\n",
       "      <td>8</td>\n",
       "      <td>498</td>\n",
       "    </tr>\n",
       "  </tbody>\n",
       "</table>\n",
       "</div>"
      ],
      "text/plain": [
       "    Sensor       Date  Hour  SensorLongitude  SensorLatitude  CrowdednessCount\n",
       "0  GAWW-01 2018-03-11   100                8               8              3133\n",
       "1  GAWW-01 2018-03-11   200                8               8              2120\n",
       "2  GAWW-01 2018-03-11   300                8               8              1419\n",
       "3  GAWW-01 2018-03-11   400                8               8              1085\n",
       "4  GAWW-01 2018-03-11   500                8               8               498"
      ]
     },
     "execution_count": 18,
     "metadata": {},
     "output_type": "execute_result"
    }
   ],
   "source": [
    "locations_dict = Crowdedness.SensorCoordinates(sensor_df, needed_sensors)\n",
    "full_crowd_df = Crowdedness.CrowdednessData(crowd_df, blip_df, locations_dict, needed_sensors, gaww_02, gaww_03)\n",
    "\n",
    "full_crowd_df.head()"
   ]
  },
  {
   "cell_type": "markdown",
   "metadata": {},
   "source": [
    "### GVB"
   ]
  },
  {
   "cell_type": "code",
   "execution_count": 20,
   "metadata": {},
   "outputs": [
    {
     "data": {
      "text/html": [
       "<div>\n",
       "<style scoped>\n",
       "    .dataframe tbody tr th:only-of-type {\n",
       "        vertical-align: middle;\n",
       "    }\n",
       "\n",
       "    .dataframe tbody tr th {\n",
       "        vertical-align: top;\n",
       "    }\n",
       "\n",
       "    .dataframe thead th {\n",
       "        text-align: right;\n",
       "    }\n",
       "</style>\n",
       "<table border=\"1\" class=\"dataframe\">\n",
       "  <thead>\n",
       "    <tr style=\"text-align: right;\">\n",
       "      <th></th>\n",
       "      <th>Date</th>\n",
       "      <th>Hour</th>\n",
       "      <th>Nieuwmarkt Arrivals</th>\n",
       "      <th>Nieuwezijds Kolk Arrivals</th>\n",
       "      <th>Dam Arrivals</th>\n",
       "      <th>Spui Arrivals</th>\n",
       "      <th>Nieuwmarkt Departures</th>\n",
       "      <th>Nieuwezijds Kolk Departures</th>\n",
       "      <th>Dam Departures</th>\n",
       "      <th>Spui Departures</th>\n",
       "      <th>weekday</th>\n",
       "      <th>is_weekend</th>\n",
       "    </tr>\n",
       "  </thead>\n",
       "  <tbody>\n",
       "    <tr>\n",
       "      <th>0</th>\n",
       "      <td>2018-01-01</td>\n",
       "      <td>100</td>\n",
       "      <td>11.0</td>\n",
       "      <td>0.0</td>\n",
       "      <td>0.0</td>\n",
       "      <td>0.0</td>\n",
       "      <td>340.0</td>\n",
       "      <td>27.0</td>\n",
       "      <td>0.0</td>\n",
       "      <td>0.0</td>\n",
       "      <td>0</td>\n",
       "      <td>0</td>\n",
       "    </tr>\n",
       "    <tr>\n",
       "      <th>1</th>\n",
       "      <td>2018-01-01</td>\n",
       "      <td>200</td>\n",
       "      <td>48.0</td>\n",
       "      <td>0.0</td>\n",
       "      <td>21.0</td>\n",
       "      <td>0.0</td>\n",
       "      <td>175.0</td>\n",
       "      <td>130.0</td>\n",
       "      <td>39.0</td>\n",
       "      <td>0.0</td>\n",
       "      <td>0</td>\n",
       "      <td>0</td>\n",
       "    </tr>\n",
       "    <tr>\n",
       "      <th>2</th>\n",
       "      <td>2018-01-01</td>\n",
       "      <td>300</td>\n",
       "      <td>10.0</td>\n",
       "      <td>16.0</td>\n",
       "      <td>13.0</td>\n",
       "      <td>0.0</td>\n",
       "      <td>137.0</td>\n",
       "      <td>17.0</td>\n",
       "      <td>48.0</td>\n",
       "      <td>0.0</td>\n",
       "      <td>0</td>\n",
       "      <td>0</td>\n",
       "    </tr>\n",
       "    <tr>\n",
       "      <th>3</th>\n",
       "      <td>2018-01-01</td>\n",
       "      <td>400</td>\n",
       "      <td>16.0</td>\n",
       "      <td>0.0</td>\n",
       "      <td>0.0</td>\n",
       "      <td>0.0</td>\n",
       "      <td>48.0</td>\n",
       "      <td>46.0</td>\n",
       "      <td>34.0</td>\n",
       "      <td>0.0</td>\n",
       "      <td>0</td>\n",
       "      <td>0</td>\n",
       "    </tr>\n",
       "    <tr>\n",
       "      <th>4</th>\n",
       "      <td>2018-01-01</td>\n",
       "      <td>500</td>\n",
       "      <td>17.0</td>\n",
       "      <td>0.0</td>\n",
       "      <td>0.0</td>\n",
       "      <td>0.0</td>\n",
       "      <td>56.0</td>\n",
       "      <td>0.0</td>\n",
       "      <td>20.0</td>\n",
       "      <td>0.0</td>\n",
       "      <td>0</td>\n",
       "      <td>0</td>\n",
       "    </tr>\n",
       "  </tbody>\n",
       "</table>\n",
       "</div>"
      ],
      "text/plain": [
       "         Date  Hour  Nieuwmarkt Arrivals  Nieuwezijds Kolk Arrivals  \\\n",
       "0  2018-01-01   100                 11.0                        0.0   \n",
       "1  2018-01-01   200                 48.0                        0.0   \n",
       "2  2018-01-01   300                 10.0                       16.0   \n",
       "3  2018-01-01   400                 16.0                        0.0   \n",
       "4  2018-01-01   500                 17.0                        0.0   \n",
       "\n",
       "   Dam Arrivals  Spui Arrivals  Nieuwmarkt Departures  \\\n",
       "0           0.0            0.0                  340.0   \n",
       "1          21.0            0.0                  175.0   \n",
       "2          13.0            0.0                  137.0   \n",
       "3           0.0            0.0                   48.0   \n",
       "4           0.0            0.0                   56.0   \n",
       "\n",
       "   Nieuwezijds Kolk Departures  Dam Departures  Spui Departures  weekday  \\\n",
       "0                         27.0             0.0              0.0        0   \n",
       "1                        130.0            39.0              0.0        0   \n",
       "2                         17.0            48.0              0.0        0   \n",
       "3                         46.0            34.0              0.0        0   \n",
       "4                          0.0            20.0              0.0        0   \n",
       "\n",
       "   is_weekend  \n",
       "0           0  \n",
       "1           0  \n",
       "2           0  \n",
       "3           0  \n",
       "4           0  "
      ]
     },
     "execution_count": 20,
     "metadata": {},
     "output_type": "execute_result"
    }
   ],
   "source": [
    "full_gvb_df = GVBData.stationData(arr_df, dep_df, stations)\n",
    "full_gvb_df = GVBData.TransformData(full_gvb_df, stations)\n",
    "\n",
    "full_gvb_df.head()"
   ]
  },
  {
   "cell_type": "markdown",
   "metadata": {},
   "source": [
    "### Event"
   ]
  },
  {
   "cell_type": "code",
   "execution_count": 26,
   "metadata": {},
   "outputs": [
    {
     "data": {
      "text/html": [
       "<div>\n",
       "<style scoped>\n",
       "    .dataframe tbody tr th:only-of-type {\n",
       "        vertical-align: middle;\n",
       "    }\n",
       "\n",
       "    .dataframe tbody tr th {\n",
       "        vertical-align: top;\n",
       "    }\n",
       "\n",
       "    .dataframe thead th {\n",
       "        text-align: right;\n",
       "    }\n",
       "</style>\n",
       "<table border=\"1\" class=\"dataframe\">\n",
       "  <thead>\n",
       "    <tr style=\"text-align: right;\">\n",
       "      <th></th>\n",
       "      <th>Date</th>\n",
       "      <th>is_event</th>\n",
       "    </tr>\n",
       "  </thead>\n",
       "  <tbody>\n",
       "    <tr>\n",
       "      <th>0</th>\n",
       "      <td>2018-04-20</td>\n",
       "      <td>1.0</td>\n",
       "    </tr>\n",
       "    <tr>\n",
       "      <th>1</th>\n",
       "      <td>2018-05-20</td>\n",
       "      <td>1.0</td>\n",
       "    </tr>\n",
       "    <tr>\n",
       "      <th>2</th>\n",
       "      <td>2018-06-02</td>\n",
       "      <td>1.0</td>\n",
       "    </tr>\n",
       "    <tr>\n",
       "      <th>3</th>\n",
       "      <td>2018-06-03</td>\n",
       "      <td>1.0</td>\n",
       "    </tr>\n",
       "    <tr>\n",
       "      <th>4</th>\n",
       "      <td>2018-06-04</td>\n",
       "      <td>1.0</td>\n",
       "    </tr>\n",
       "  </tbody>\n",
       "</table>\n",
       "</div>"
      ],
      "text/plain": [
       "        Date  is_event\n",
       "0 2018-04-20       1.0\n",
       "1 2018-05-20       1.0\n",
       "2 2018-06-02       1.0\n",
       "3 2018-06-03       1.0\n",
       "4 2018-06-04       1.0"
      ]
     },
     "execution_count": 26,
     "metadata": {},
     "output_type": "execute_result"
    }
   ],
   "source": [
    "full_event_df = AmsterdamEvent.transformData(events, lat_low, lat_high, lon_low, lon_high, start_date, end_date)\n",
    "\n",
    "full_event_df.head()"
   ]
  },
  {
   "cell_type": "markdown",
   "metadata": {},
   "source": [
    "### CombineData"
   ]
  },
  {
   "cell_type": "code",
   "execution_count": 29,
   "metadata": {},
   "outputs": [
    {
     "data": {
      "text/html": [
       "<div>\n",
       "<style scoped>\n",
       "    .dataframe tbody tr th:only-of-type {\n",
       "        vertical-align: middle;\n",
       "    }\n",
       "\n",
       "    .dataframe tbody tr th {\n",
       "        vertical-align: top;\n",
       "    }\n",
       "\n",
       "    .dataframe thead th {\n",
       "        text-align: right;\n",
       "    }\n",
       "</style>\n",
       "<table border=\"1\" class=\"dataframe\">\n",
       "  <thead>\n",
       "    <tr style=\"text-align: right;\">\n",
       "      <th></th>\n",
       "      <th>index</th>\n",
       "      <th>Date</th>\n",
       "      <th>Hour</th>\n",
       "      <th>Nieuwmarkt Arrivals</th>\n",
       "      <th>Nieuwezijds Kolk Arrivals</th>\n",
       "      <th>Dam Arrivals</th>\n",
       "      <th>Spui Arrivals</th>\n",
       "      <th>Nieuwmarkt Departures</th>\n",
       "      <th>Nieuwezijds Kolk Departures</th>\n",
       "      <th>Dam Departures</th>\n",
       "      <th>...</th>\n",
       "      <th>SensorLatitude</th>\n",
       "      <th>CrowdednessCount</th>\n",
       "      <th>is_event</th>\n",
       "      <th>Year</th>\n",
       "      <th>month_sin</th>\n",
       "      <th>month_cos</th>\n",
       "      <th>day_sin</th>\n",
       "      <th>day_cos</th>\n",
       "      <th>hour_sin</th>\n",
       "      <th>hour_cos</th>\n",
       "    </tr>\n",
       "  </thead>\n",
       "  <tbody>\n",
       "    <tr>\n",
       "      <th>0</th>\n",
       "      <td>0</td>\n",
       "      <td>2018-03-11</td>\n",
       "      <td>2300</td>\n",
       "      <td>488.0</td>\n",
       "      <td>87.0</td>\n",
       "      <td>359.0</td>\n",
       "      <td>35.0</td>\n",
       "      <td>532.0</td>\n",
       "      <td>177.0</td>\n",
       "      <td>892.0</td>\n",
       "      <td>...</td>\n",
       "      <td>5.0</td>\n",
       "      <td>759.0</td>\n",
       "      <td>0.0</td>\n",
       "      <td>2018</td>\n",
       "      <td>1.0</td>\n",
       "      <td>6.123234e-17</td>\n",
       "      <td>0.188227</td>\n",
       "      <td>0.982126</td>\n",
       "      <td>-0.258819</td>\n",
       "      <td>0.965926</td>\n",
       "    </tr>\n",
       "    <tr>\n",
       "      <th>1</th>\n",
       "      <td>1</td>\n",
       "      <td>2018-03-11</td>\n",
       "      <td>2000</td>\n",
       "      <td>332.0</td>\n",
       "      <td>194.0</td>\n",
       "      <td>627.0</td>\n",
       "      <td>115.0</td>\n",
       "      <td>600.0</td>\n",
       "      <td>193.0</td>\n",
       "      <td>1080.0</td>\n",
       "      <td>...</td>\n",
       "      <td>7.0</td>\n",
       "      <td>1771.0</td>\n",
       "      <td>0.0</td>\n",
       "      <td>2018</td>\n",
       "      <td>1.0</td>\n",
       "      <td>6.123234e-17</td>\n",
       "      <td>0.188227</td>\n",
       "      <td>0.982126</td>\n",
       "      <td>-0.866025</td>\n",
       "      <td>0.500000</td>\n",
       "    </tr>\n",
       "    <tr>\n",
       "      <th>2</th>\n",
       "      <td>2</td>\n",
       "      <td>2018-03-11</td>\n",
       "      <td>2000</td>\n",
       "      <td>332.0</td>\n",
       "      <td>194.0</td>\n",
       "      <td>627.0</td>\n",
       "      <td>115.0</td>\n",
       "      <td>600.0</td>\n",
       "      <td>193.0</td>\n",
       "      <td>1080.0</td>\n",
       "      <td>...</td>\n",
       "      <td>0.0</td>\n",
       "      <td>28.0</td>\n",
       "      <td>0.0</td>\n",
       "      <td>2018</td>\n",
       "      <td>1.0</td>\n",
       "      <td>6.123234e-17</td>\n",
       "      <td>0.188227</td>\n",
       "      <td>0.982126</td>\n",
       "      <td>-0.866025</td>\n",
       "      <td>0.500000</td>\n",
       "    </tr>\n",
       "    <tr>\n",
       "      <th>3</th>\n",
       "      <td>3</td>\n",
       "      <td>2018-03-11</td>\n",
       "      <td>2000</td>\n",
       "      <td>332.0</td>\n",
       "      <td>194.0</td>\n",
       "      <td>627.0</td>\n",
       "      <td>115.0</td>\n",
       "      <td>600.0</td>\n",
       "      <td>193.0</td>\n",
       "      <td>1080.0</td>\n",
       "      <td>...</td>\n",
       "      <td>9.0</td>\n",
       "      <td>80.0</td>\n",
       "      <td>0.0</td>\n",
       "      <td>2018</td>\n",
       "      <td>1.0</td>\n",
       "      <td>6.123234e-17</td>\n",
       "      <td>0.188227</td>\n",
       "      <td>0.982126</td>\n",
       "      <td>-0.866025</td>\n",
       "      <td>0.500000</td>\n",
       "    </tr>\n",
       "    <tr>\n",
       "      <th>4</th>\n",
       "      <td>4</td>\n",
       "      <td>2018-03-11</td>\n",
       "      <td>2000</td>\n",
       "      <td>332.0</td>\n",
       "      <td>194.0</td>\n",
       "      <td>627.0</td>\n",
       "      <td>115.0</td>\n",
       "      <td>600.0</td>\n",
       "      <td>193.0</td>\n",
       "      <td>1080.0</td>\n",
       "      <td>...</td>\n",
       "      <td>2.0</td>\n",
       "      <td>37.0</td>\n",
       "      <td>0.0</td>\n",
       "      <td>2018</td>\n",
       "      <td>1.0</td>\n",
       "      <td>6.123234e-17</td>\n",
       "      <td>0.188227</td>\n",
       "      <td>0.982126</td>\n",
       "      <td>-0.866025</td>\n",
       "      <td>0.500000</td>\n",
       "    </tr>\n",
       "  </tbody>\n",
       "</table>\n",
       "<p>5 rows × 25 columns</p>\n",
       "</div>"
      ],
      "text/plain": [
       "   index       Date  Hour  Nieuwmarkt Arrivals  Nieuwezijds Kolk Arrivals  \\\n",
       "0      0 2018-03-11  2300                488.0                       87.0   \n",
       "1      1 2018-03-11  2000                332.0                      194.0   \n",
       "2      2 2018-03-11  2000                332.0                      194.0   \n",
       "3      3 2018-03-11  2000                332.0                      194.0   \n",
       "4      4 2018-03-11  2000                332.0                      194.0   \n",
       "\n",
       "   Dam Arrivals  Spui Arrivals  Nieuwmarkt Departures  \\\n",
       "0         359.0           35.0                  532.0   \n",
       "1         627.0          115.0                  600.0   \n",
       "2         627.0          115.0                  600.0   \n",
       "3         627.0          115.0                  600.0   \n",
       "4         627.0          115.0                  600.0   \n",
       "\n",
       "   Nieuwezijds Kolk Departures  Dam Departures  ...  SensorLatitude  \\\n",
       "0                        177.0           892.0  ...             5.0   \n",
       "1                        193.0          1080.0  ...             7.0   \n",
       "2                        193.0          1080.0  ...             0.0   \n",
       "3                        193.0          1080.0  ...             9.0   \n",
       "4                        193.0          1080.0  ...             2.0   \n",
       "\n",
       "   CrowdednessCount  is_event  Year  month_sin     month_cos   day_sin  \\\n",
       "0             759.0       0.0  2018        1.0  6.123234e-17  0.188227   \n",
       "1            1771.0       0.0  2018        1.0  6.123234e-17  0.188227   \n",
       "2              28.0       0.0  2018        1.0  6.123234e-17  0.188227   \n",
       "3              80.0       0.0  2018        1.0  6.123234e-17  0.188227   \n",
       "4              37.0       0.0  2018        1.0  6.123234e-17  0.188227   \n",
       "\n",
       "    day_cos  hour_sin  hour_cos  \n",
       "0  0.982126 -0.258819  0.965926  \n",
       "1  0.982126 -0.866025  0.500000  \n",
       "2  0.982126 -0.866025  0.500000  \n",
       "3  0.982126 -0.866025  0.500000  \n",
       "4  0.982126 -0.866025  0.500000  \n",
       "\n",
       "[5 rows x 25 columns]"
      ]
     },
     "execution_count": 29,
     "metadata": {},
     "output_type": "execute_result"
    }
   ],
   "source": [
    "full_crowd_df, full_gvb_df, full_event_df = CombineData.importData(full_crowd_df, full_gvb_df, full_event_df)\n",
    "full_gvb_df, full_event_df = CombineData.changeStartEndDate(full_crowd_df, full_gvb_df, full_event_df)\n",
    "full_df = CombineData.formFullDF(full_crowd_df, full_gvb_df, full_event_df)\n",
    "\n",
    "full_df.head()"
   ]
  }
 ],
 "metadata": {
  "kernelspec": {
   "display_name": "Python 3",
   "language": "python",
   "name": "python3"
  },
  "language_info": {
   "codemirror_mode": {
    "name": "ipython",
    "version": 3
   },
   "file_extension": ".py",
   "mimetype": "text/x-python",
   "name": "python",
   "nbconvert_exporter": "python",
   "pygments_lexer": "ipython3",
   "version": "3.7.1"
  }
 },
 "nbformat": 4,
 "nbformat_minor": 2
}
