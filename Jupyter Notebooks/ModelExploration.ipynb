{
 "cells": [
  {
   "cell_type": "markdown",
   "metadata": {},
   "source": [
    "# Imports"
   ]
  },
  {
   "cell_type": "code",
   "execution_count": 4,
   "metadata": {},
   "outputs": [],
   "source": [
    "import pandas as pd\n",
    "\n",
    "#Train/Test section\n",
    "from sklearn.model_selection import train_test_split\n",
    "\n",
    "#Models\n",
    "from sklearn.ensemble import RandomForestRegressor"
   ]
  },
  {
   "cell_type": "markdown",
   "metadata": {},
   "source": [
    "# Import Data"
   ]
  },
  {
   "cell_type": "code",
   "execution_count": 29,
   "metadata": {},
   "outputs": [],
   "source": [
    "#Full GVB Dataset\n",
    "gvb_df = pd.read_csv(\"../../../Data_thesis/Full_Datasets/GVB.csv\")"
   ]
  },
  {
   "cell_type": "code",
   "execution_count": 30,
   "metadata": {},
   "outputs": [
    {
     "data": {
      "text/html": [
       "<div>\n",
       "<style scoped>\n",
       "    .dataframe tbody tr th:only-of-type {\n",
       "        vertical-align: middle;\n",
       "    }\n",
       "\n",
       "    .dataframe tbody tr th {\n",
       "        vertical-align: top;\n",
       "    }\n",
       "\n",
       "    .dataframe thead th {\n",
       "        text-align: right;\n",
       "    }\n",
       "</style>\n",
       "<table border=\"1\" class=\"dataframe\">\n",
       "  <thead>\n",
       "    <tr style=\"text-align: right;\">\n",
       "      <th></th>\n",
       "      <th>Unnamed: 0</th>\n",
       "      <th>Datum</th>\n",
       "      <th>UurgroepOmschrijving (van vertrek)</th>\n",
       "      <th>VertrekHalteNaam</th>\n",
       "      <th>VertrekLat</th>\n",
       "      <th>VertrekLon</th>\n",
       "      <th>AankomstHalteNaam</th>\n",
       "      <th>AankomstLat</th>\n",
       "      <th>AankomstLon</th>\n",
       "      <th>weekday</th>\n",
       "      <th>is_weekend</th>\n",
       "      <th>AantalRitten</th>\n",
       "    </tr>\n",
       "  </thead>\n",
       "  <tbody>\n",
       "    <tr>\n",
       "      <th>0</th>\n",
       "      <td>6</td>\n",
       "      <td>1/1/2018 12:00:00</td>\n",
       "      <td>100</td>\n",
       "      <td>Nieuwezijds Kolk</td>\n",
       "      <td>4.892841</td>\n",
       "      <td>52.375754</td>\n",
       "      <td>Overig</td>\n",
       "      <td>0.000000</td>\n",
       "      <td>0.000000</td>\n",
       "      <td>0</td>\n",
       "      <td>0</td>\n",
       "      <td>27</td>\n",
       "    </tr>\n",
       "    <tr>\n",
       "      <th>1</th>\n",
       "      <td>29</td>\n",
       "      <td>1/1/2018 12:00:00</td>\n",
       "      <td>100</td>\n",
       "      <td>Amstelstation</td>\n",
       "      <td>4.917514</td>\n",
       "      <td>52.346473</td>\n",
       "      <td>Nieuwmarkt</td>\n",
       "      <td>4.901239</td>\n",
       "      <td>52.371942</td>\n",
       "      <td>0</td>\n",
       "      <td>0</td>\n",
       "      <td>10</td>\n",
       "    </tr>\n",
       "    <tr>\n",
       "      <th>2</th>\n",
       "      <td>48</td>\n",
       "      <td>1/1/2018 12:00:00</td>\n",
       "      <td>100</td>\n",
       "      <td>Nieuwmarkt</td>\n",
       "      <td>4.901239</td>\n",
       "      <td>52.371942</td>\n",
       "      <td>Overig</td>\n",
       "      <td>0.000000</td>\n",
       "      <td>0.000000</td>\n",
       "      <td>0</td>\n",
       "      <td>0</td>\n",
       "      <td>44</td>\n",
       "    </tr>\n",
       "    <tr>\n",
       "      <th>3</th>\n",
       "      <td>49</td>\n",
       "      <td>1/1/2018 12:00:00</td>\n",
       "      <td>100</td>\n",
       "      <td>Nieuwmarkt</td>\n",
       "      <td>4.901239</td>\n",
       "      <td>52.371942</td>\n",
       "      <td>Amstelstation</td>\n",
       "      <td>4.917514</td>\n",
       "      <td>52.346473</td>\n",
       "      <td>0</td>\n",
       "      <td>0</td>\n",
       "      <td>30</td>\n",
       "    </tr>\n",
       "    <tr>\n",
       "      <th>4</th>\n",
       "      <td>50</td>\n",
       "      <td>1/1/2018 12:00:00</td>\n",
       "      <td>100</td>\n",
       "      <td>Nieuwmarkt</td>\n",
       "      <td>4.901239</td>\n",
       "      <td>52.371942</td>\n",
       "      <td>Bullewijk</td>\n",
       "      <td>4.952336</td>\n",
       "      <td>52.306422</td>\n",
       "      <td>0</td>\n",
       "      <td>0</td>\n",
       "      <td>29</td>\n",
       "    </tr>\n",
       "  </tbody>\n",
       "</table>\n",
       "</div>"
      ],
      "text/plain": [
       "   Unnamed: 0              Datum  UurgroepOmschrijving (van vertrek)  \\\n",
       "0           6  1/1/2018 12:00:00                                 100   \n",
       "1          29  1/1/2018 12:00:00                                 100   \n",
       "2          48  1/1/2018 12:00:00                                 100   \n",
       "3          49  1/1/2018 12:00:00                                 100   \n",
       "4          50  1/1/2018 12:00:00                                 100   \n",
       "\n",
       "   VertrekHalteNaam  VertrekLat  VertrekLon AankomstHalteNaam  AankomstLat  \\\n",
       "0  Nieuwezijds Kolk    4.892841   52.375754            Overig     0.000000   \n",
       "1     Amstelstation    4.917514   52.346473        Nieuwmarkt     4.901239   \n",
       "2        Nieuwmarkt    4.901239   52.371942            Overig     0.000000   \n",
       "3        Nieuwmarkt    4.901239   52.371942     Amstelstation     4.917514   \n",
       "4        Nieuwmarkt    4.901239   52.371942         Bullewijk     4.952336   \n",
       "\n",
       "   AankomstLon  weekday  is_weekend  AantalRitten  \n",
       "0     0.000000        0           0            27  \n",
       "1    52.371942        0           0            10  \n",
       "2     0.000000        0           0            44  \n",
       "3    52.346473        0           0            30  \n",
       "4    52.306422        0           0            29  "
      ]
     },
     "execution_count": 30,
     "metadata": {},
     "output_type": "execute_result"
    }
   ],
   "source": [
    "gvb_df.head()"
   ]
  },
  {
   "cell_type": "markdown",
   "metadata": {},
   "source": [
    "# Data Preperation"
   ]
  },
  {
   "cell_type": "markdown",
   "metadata": {},
   "source": [
    "## Train/Test Split\n",
    "Split the dataset into training and test data, using a [function from Sklearn](https://scikit-learn.org/stable/modules/generated/sklearn.model_selection.train_test_split.html)\n",
    "\n",
    "#### Train_Test_split Parameters\n",
    "- *input*: \n",
    "    - *x*: data used to predict laballed data\n",
    "        - Hour slot\n",
    "        - Weekday (int)\n",
    "        - Weekend (Binary)\n",
    "    - *y*: laballed data\n",
    "        - Number of rides (int)\n",
    "- *test_size*: Proportion of total data used as test data, rest is training data\n",
    "- *random_state*: Number used as seed by the *Random Number Generator* "
   ]
  },
  {
   "cell_type": "code",
   "execution_count": 31,
   "metadata": {},
   "outputs": [],
   "source": [
    "#Drop Unusable columns\n",
    "gvb_df = gvb_df.drop(columns=[\"Unnamed: 0\", \"Datum\", \"VertrekHalteNaam\", \"AankomstHalteNaam\"])\n",
    "\n",
    "#Select only the values from each row\n",
    "data = gvb_df.values\n",
    "\n",
    "#Split the labels from the rest\n",
    "x = data[:, :7]\n",
    "y = data[:, 7]\n",
    "\n",
    "x_train, x_test, y_train, y_test = train_test_split(x, y, test_size = 0.1, random_state = 42)"
   ]
  },
  {
   "cell_type": "code",
   "execution_count": 32,
   "metadata": {},
   "outputs": [
    {
     "data": {
      "text/plain": [
       "array([[1.30000000e+03, 4.88932991e+00, 5.23693307e+01, 4.89921803e+00,\n",
       "        5.23781079e+01, 5.00000000e+00, 1.00000000e+00],\n",
       "       [1.60000000e+03, 4.89373093e+00, 5.23762877e+01, 0.00000000e+00,\n",
       "        0.00000000e+00, 6.00000000e+00, 1.00000000e+00],\n",
       "       [1.80000000e+03, 4.89079364e+00, 5.23736779e+01, 4.86292316e+00,\n",
       "        5.23648757e+01, 0.00000000e+00, 0.00000000e+00]])"
      ]
     },
     "execution_count": 32,
     "metadata": {},
     "output_type": "execute_result"
    }
   ],
   "source": [
    "#First three rows explanatory variables of the training set\n",
    "x_train[:3]"
   ]
  },
  {
   "cell_type": "code",
   "execution_count": 33,
   "metadata": {},
   "outputs": [
    {
     "data": {
      "text/plain": [
       "array([32., 17., 10.])"
      ]
     },
     "execution_count": 33,
     "metadata": {},
     "output_type": "execute_result"
    }
   ],
   "source": [
    "#First three rows response variable training set\n",
    "y_train[:3]"
   ]
  },
  {
   "cell_type": "code",
   "execution_count": 34,
   "metadata": {},
   "outputs": [
    {
     "data": {
      "text/html": [
       "<div>\n",
       "<style scoped>\n",
       "    .dataframe tbody tr th:only-of-type {\n",
       "        vertical-align: middle;\n",
       "    }\n",
       "\n",
       "    .dataframe tbody tr th {\n",
       "        vertical-align: top;\n",
       "    }\n",
       "\n",
       "    .dataframe thead th {\n",
       "        text-align: right;\n",
       "    }\n",
       "</style>\n",
       "<table border=\"1\" class=\"dataframe\">\n",
       "  <thead>\n",
       "    <tr style=\"text-align: right;\">\n",
       "      <th></th>\n",
       "      <th>UurgroepOmschrijving (van vertrek)</th>\n",
       "      <th>VertrekLat</th>\n",
       "      <th>VertrekLon</th>\n",
       "      <th>AankomstLat</th>\n",
       "      <th>AankomstLon</th>\n",
       "      <th>weekday</th>\n",
       "      <th>is_weekend</th>\n",
       "      <th>AantalRitten</th>\n",
       "    </tr>\n",
       "  </thead>\n",
       "  <tbody>\n",
       "    <tr>\n",
       "      <th>0</th>\n",
       "      <td>100</td>\n",
       "      <td>4.892841</td>\n",
       "      <td>52.375754</td>\n",
       "      <td>0.000000</td>\n",
       "      <td>0.000000</td>\n",
       "      <td>0</td>\n",
       "      <td>0</td>\n",
       "      <td>27</td>\n",
       "    </tr>\n",
       "    <tr>\n",
       "      <th>1</th>\n",
       "      <td>100</td>\n",
       "      <td>4.917514</td>\n",
       "      <td>52.346473</td>\n",
       "      <td>4.901239</td>\n",
       "      <td>52.371942</td>\n",
       "      <td>0</td>\n",
       "      <td>0</td>\n",
       "      <td>10</td>\n",
       "    </tr>\n",
       "    <tr>\n",
       "      <th>2</th>\n",
       "      <td>100</td>\n",
       "      <td>4.901239</td>\n",
       "      <td>52.371942</td>\n",
       "      <td>0.000000</td>\n",
       "      <td>0.000000</td>\n",
       "      <td>0</td>\n",
       "      <td>0</td>\n",
       "      <td>44</td>\n",
       "    </tr>\n",
       "    <tr>\n",
       "      <th>3</th>\n",
       "      <td>100</td>\n",
       "      <td>4.901239</td>\n",
       "      <td>52.371942</td>\n",
       "      <td>4.917514</td>\n",
       "      <td>52.346473</td>\n",
       "      <td>0</td>\n",
       "      <td>0</td>\n",
       "      <td>30</td>\n",
       "    </tr>\n",
       "    <tr>\n",
       "      <th>4</th>\n",
       "      <td>100</td>\n",
       "      <td>4.901239</td>\n",
       "      <td>52.371942</td>\n",
       "      <td>4.952336</td>\n",
       "      <td>52.306422</td>\n",
       "      <td>0</td>\n",
       "      <td>0</td>\n",
       "      <td>29</td>\n",
       "    </tr>\n",
       "  </tbody>\n",
       "</table>\n",
       "</div>"
      ],
      "text/plain": [
       "   UurgroepOmschrijving (van vertrek)  VertrekLat  VertrekLon  AankomstLat  \\\n",
       "0                                 100    4.892841   52.375754     0.000000   \n",
       "1                                 100    4.917514   52.346473     4.901239   \n",
       "2                                 100    4.901239   52.371942     0.000000   \n",
       "3                                 100    4.901239   52.371942     4.917514   \n",
       "4                                 100    4.901239   52.371942     4.952336   \n",
       "\n",
       "   AankomstLon  weekday  is_weekend  AantalRitten  \n",
       "0     0.000000        0           0            27  \n",
       "1    52.371942        0           0            10  \n",
       "2     0.000000        0           0            44  \n",
       "3    52.346473        0           0            30  \n",
       "4    52.306422        0           0            29  "
      ]
     },
     "execution_count": 34,
     "metadata": {},
     "output_type": "execute_result"
    }
   ],
   "source": [
    "gvb_df.head()"
   ]
  },
  {
   "cell_type": "markdown",
   "metadata": {},
   "source": [
    "# Models"
   ]
  },
  {
   "cell_type": "markdown",
   "metadata": {},
   "source": [
    "## Random Forrest Regressor\n",
    "Implement the [Sklearn Version](https://scikit-learn.org/stable/modules/generated/sklearn.ensemble.RandomForestRegressor.html)\n",
    "\n",
    "Parameters\n",
    "- *N-Estimators*: Number of trees in the model\n",
    "- *criterion*: loss function\n",
    "- *n_jobs*: The number of jobs to run in parallel for both fit and predict\n",
    "- *random_state*: random_state is the seed used by the random number generator\n",
    "- *bootstrap*: Whether bootstrap samples are used when building trees"
   ]
  },
  {
   "cell_type": "code",
   "execution_count": 35,
   "metadata": {},
   "outputs": [],
   "source": [
    "#Set parameters model\n",
    "rfg = RandomForestRegressor(n_estimators=100, criterion=\"mse\", n_jobs=5, random_state=42, bootstrap=True)"
   ]
  },
  {
   "cell_type": "code",
   "execution_count": 36,
   "metadata": {},
   "outputs": [
    {
     "data": {
      "text/plain": [
       "RandomForestRegressor(bootstrap=True, criterion='mse', max_depth=None,\n",
       "           max_features='auto', max_leaf_nodes=None,\n",
       "           min_impurity_decrease=0.0, min_impurity_split=None,\n",
       "           min_samples_leaf=1, min_samples_split=2,\n",
       "           min_weight_fraction_leaf=0.0, n_estimators=100, n_jobs=5,\n",
       "           oob_score=False, random_state=42, verbose=0, warm_start=False)"
      ]
     },
     "execution_count": 36,
     "metadata": {},
     "output_type": "execute_result"
    }
   ],
   "source": [
    "#fit the model\n",
    "rfg.fit(x_train, y_train)"
   ]
  },
  {
   "cell_type": "code",
   "execution_count": 37,
   "metadata": {},
   "outputs": [
    {
     "name": "stdout",
     "output_type": "stream",
     "text": [
      "Accuracy:  0.8604274733629216\n"
     ]
    }
   ],
   "source": [
    "#Score the model\n",
    "rfg_score = rfg.score(x_test, y_test)\n",
    "print(\"Accuracy: \", rfg_score)"
   ]
  }
 ],
 "metadata": {
  "kernelspec": {
   "display_name": "Python 3",
   "language": "python",
   "name": "python3"
  },
  "language_info": {
   "codemirror_mode": {
    "name": "ipython",
    "version": 3
   },
   "file_extension": ".py",
   "mimetype": "text/x-python",
   "name": "python",
   "nbconvert_exporter": "python",
   "pygments_lexer": "ipython3",
   "version": "3.7.1"
  }
 },
 "nbformat": 4,
 "nbformat_minor": 2
}
