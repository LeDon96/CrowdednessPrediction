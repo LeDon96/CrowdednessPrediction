{
 "cells": [
  {
   "cell_type": "markdown",
   "metadata": {},
   "source": [
    "# Model Exploration"
   ]
  },
  {
   "cell_type": "markdown",
   "metadata": {},
   "source": [
    "## Table of Contents\n",
    "1. [Imports](#imports)\n",
    "2. [Import Data](#importData)\n",
    "    1. [GVB Data](#GVBData)\n",
    "    2. [Amsterdam Event Data](#EventData)\n",
    "    3. [Crowdedness Data](#CrowdData)\n",
    "3. [Data Preperation](#DataPrep)\n",
    "    1. [Combine Datasets](#CombData)\n",
    "    2. [Construct Model DataFrame](#testModel)\n",
    "    3. [Split Model DataFrame into Train and Test Data](#trainTestSplit)\n",
    "4. [Regression Models](#regModels)\n",
    "    1. [Baseline](#regBaseModel)\n",
    "    2. [Random Forrest Regressor](#regRFGModel)\n",
    "    3. [Gradient Boosting Regressor](#regGBRModel)\n",
    "    4. [Ada Boost Regressor](#regABRModel)\n",
    "    5. [Bagging Regressor](#regBRModel)"
   ]
  },
  {
   "cell_type": "markdown",
   "metadata": {},
   "source": [
    "## Imports <a name=\"imports\"></a>"
   ]
  },
  {
   "cell_type": "code",
   "execution_count": 163,
   "metadata": {},
   "outputs": [],
   "source": [
    "import pandas as pd\n",
    "import json\n",
    "\n",
    "#Train/Test section\n",
    "from sklearn.model_selection import train_test_split\n",
    "\n",
    "#Regression Models\n",
    "from sklearn.linear_model import LinearRegression\n",
    "from sklearn.ensemble import RandomForestRegressor\n",
    "from sklearn.ensemble import GradientBoostingRegressor\n",
    "from sklearn.ensemble import AdaBoostRegressor\n",
    "from sklearn.ensemble import BaggingRegressor"
   ]
  },
  {
   "cell_type": "markdown",
   "metadata": {},
   "source": [
    "## Import Data <a name=\"importData\"></a>"
   ]
  },
  {
   "cell_type": "markdown",
   "metadata": {},
   "source": [
    "### GVB Data <a name=\"GVBData\"></a>"
   ]
  },
  {
   "cell_type": "code",
   "execution_count": 2,
   "metadata": {},
   "outputs": [],
   "source": [
    "#Full GVB Dataset\n",
    "gvb_df = pd.read_csv(\"../../../Data_thesis/Full_Datasets/GVB.csv\")"
   ]
  },
  {
   "cell_type": "code",
   "execution_count": 3,
   "metadata": {},
   "outputs": [
    {
     "data": {
      "text/html": [
       "<div>\n",
       "<style scoped>\n",
       "    .dataframe tbody tr th:only-of-type {\n",
       "        vertical-align: middle;\n",
       "    }\n",
       "\n",
       "    .dataframe tbody tr th {\n",
       "        vertical-align: top;\n",
       "    }\n",
       "\n",
       "    .dataframe thead th {\n",
       "        text-align: right;\n",
       "    }\n",
       "</style>\n",
       "<table border=\"1\" class=\"dataframe\">\n",
       "  <thead>\n",
       "    <tr style=\"text-align: right;\">\n",
       "      <th></th>\n",
       "      <th>Date</th>\n",
       "      <th>Hour</th>\n",
       "      <th>NieuwmarktCode</th>\n",
       "      <th>NieuwmarktLat</th>\n",
       "      <th>NieuwmarktLon</th>\n",
       "      <th>NieuwmarktArrivals</th>\n",
       "      <th>NieuwmarktDepartures</th>\n",
       "      <th>NieuwezijdsCode</th>\n",
       "      <th>NieuwezijdsLat</th>\n",
       "      <th>NieuwezijdsLon</th>\n",
       "      <th>...</th>\n",
       "      <th>DamLon</th>\n",
       "      <th>DamArrivals</th>\n",
       "      <th>DamDepartures</th>\n",
       "      <th>SpuiCode</th>\n",
       "      <th>SpuiLat</th>\n",
       "      <th>SpuiLon</th>\n",
       "      <th>SpuiArrivals</th>\n",
       "      <th>SpuiDepartures</th>\n",
       "      <th>weekday</th>\n",
       "      <th>is_weekend</th>\n",
       "    </tr>\n",
       "  </thead>\n",
       "  <tbody>\n",
       "    <tr>\n",
       "      <th>0</th>\n",
       "      <td>2018-01-01</td>\n",
       "      <td>100</td>\n",
       "      <td>NMT</td>\n",
       "      <td>4.901239</td>\n",
       "      <td>52.371942</td>\n",
       "      <td>11.0</td>\n",
       "      <td>340.0</td>\n",
       "      <td>5069</td>\n",
       "      <td>4.893731</td>\n",
       "      <td>52.376288</td>\n",
       "      <td>...</td>\n",
       "      <td>52.373127</td>\n",
       "      <td>0.0</td>\n",
       "      <td>0.0</td>\n",
       "      <td>5062</td>\n",
       "      <td>4.889259</td>\n",
       "      <td>52.369097</td>\n",
       "      <td>0.0</td>\n",
       "      <td>0.0</td>\n",
       "      <td>0</td>\n",
       "      <td>0</td>\n",
       "    </tr>\n",
       "    <tr>\n",
       "      <th>1</th>\n",
       "      <td>2018-01-01</td>\n",
       "      <td>200</td>\n",
       "      <td>NMT</td>\n",
       "      <td>4.901239</td>\n",
       "      <td>52.371942</td>\n",
       "      <td>48.0</td>\n",
       "      <td>175.0</td>\n",
       "      <td>5069</td>\n",
       "      <td>4.893731</td>\n",
       "      <td>52.376288</td>\n",
       "      <td>...</td>\n",
       "      <td>52.373127</td>\n",
       "      <td>21.0</td>\n",
       "      <td>39.0</td>\n",
       "      <td>5062</td>\n",
       "      <td>4.889259</td>\n",
       "      <td>52.369097</td>\n",
       "      <td>0.0</td>\n",
       "      <td>0.0</td>\n",
       "      <td>0</td>\n",
       "      <td>0</td>\n",
       "    </tr>\n",
       "    <tr>\n",
       "      <th>2</th>\n",
       "      <td>2018-01-01</td>\n",
       "      <td>300</td>\n",
       "      <td>NMT</td>\n",
       "      <td>4.901239</td>\n",
       "      <td>52.371942</td>\n",
       "      <td>10.0</td>\n",
       "      <td>137.0</td>\n",
       "      <td>5069</td>\n",
       "      <td>4.893731</td>\n",
       "      <td>52.376288</td>\n",
       "      <td>...</td>\n",
       "      <td>52.373127</td>\n",
       "      <td>13.0</td>\n",
       "      <td>48.0</td>\n",
       "      <td>5062</td>\n",
       "      <td>4.889259</td>\n",
       "      <td>52.369097</td>\n",
       "      <td>0.0</td>\n",
       "      <td>0.0</td>\n",
       "      <td>0</td>\n",
       "      <td>0</td>\n",
       "    </tr>\n",
       "    <tr>\n",
       "      <th>3</th>\n",
       "      <td>2018-01-01</td>\n",
       "      <td>400</td>\n",
       "      <td>NMT</td>\n",
       "      <td>4.901239</td>\n",
       "      <td>52.371942</td>\n",
       "      <td>16.0</td>\n",
       "      <td>48.0</td>\n",
       "      <td>5069</td>\n",
       "      <td>4.893731</td>\n",
       "      <td>52.376288</td>\n",
       "      <td>...</td>\n",
       "      <td>52.373127</td>\n",
       "      <td>0.0</td>\n",
       "      <td>34.0</td>\n",
       "      <td>5062</td>\n",
       "      <td>4.889259</td>\n",
       "      <td>52.369097</td>\n",
       "      <td>0.0</td>\n",
       "      <td>0.0</td>\n",
       "      <td>0</td>\n",
       "      <td>0</td>\n",
       "    </tr>\n",
       "    <tr>\n",
       "      <th>4</th>\n",
       "      <td>2018-01-01</td>\n",
       "      <td>500</td>\n",
       "      <td>NMT</td>\n",
       "      <td>4.901239</td>\n",
       "      <td>52.371942</td>\n",
       "      <td>17.0</td>\n",
       "      <td>56.0</td>\n",
       "      <td>5069</td>\n",
       "      <td>4.893731</td>\n",
       "      <td>52.376288</td>\n",
       "      <td>...</td>\n",
       "      <td>52.373127</td>\n",
       "      <td>0.0</td>\n",
       "      <td>20.0</td>\n",
       "      <td>5062</td>\n",
       "      <td>4.889259</td>\n",
       "      <td>52.369097</td>\n",
       "      <td>0.0</td>\n",
       "      <td>0.0</td>\n",
       "      <td>0</td>\n",
       "      <td>0</td>\n",
       "    </tr>\n",
       "  </tbody>\n",
       "</table>\n",
       "<p>5 rows × 24 columns</p>\n",
       "</div>"
      ],
      "text/plain": [
       "         Date  Hour NieuwmarktCode  NieuwmarktLat  NieuwmarktLon  \\\n",
       "0  2018-01-01   100            NMT       4.901239      52.371942   \n",
       "1  2018-01-01   200            NMT       4.901239      52.371942   \n",
       "2  2018-01-01   300            NMT       4.901239      52.371942   \n",
       "3  2018-01-01   400            NMT       4.901239      52.371942   \n",
       "4  2018-01-01   500            NMT       4.901239      52.371942   \n",
       "\n",
       "   NieuwmarktArrivals  NieuwmarktDepartures  NieuwezijdsCode  NieuwezijdsLat  \\\n",
       "0                11.0                 340.0             5069        4.893731   \n",
       "1                48.0                 175.0             5069        4.893731   \n",
       "2                10.0                 137.0             5069        4.893731   \n",
       "3                16.0                  48.0             5069        4.893731   \n",
       "4                17.0                  56.0             5069        4.893731   \n",
       "\n",
       "   NieuwezijdsLon  ...     DamLon  DamArrivals  DamDepartures  SpuiCode  \\\n",
       "0       52.376288  ...  52.373127          0.0            0.0      5062   \n",
       "1       52.376288  ...  52.373127         21.0           39.0      5062   \n",
       "2       52.376288  ...  52.373127         13.0           48.0      5062   \n",
       "3       52.376288  ...  52.373127          0.0           34.0      5062   \n",
       "4       52.376288  ...  52.373127          0.0           20.0      5062   \n",
       "\n",
       "    SpuiLat    SpuiLon  SpuiArrivals  SpuiDepartures  weekday  is_weekend  \n",
       "0  4.889259  52.369097           0.0             0.0        0           0  \n",
       "1  4.889259  52.369097           0.0             0.0        0           0  \n",
       "2  4.889259  52.369097           0.0             0.0        0           0  \n",
       "3  4.889259  52.369097           0.0             0.0        0           0  \n",
       "4  4.889259  52.369097           0.0             0.0        0           0  \n",
       "\n",
       "[5 rows x 24 columns]"
      ]
     },
     "execution_count": 3,
     "metadata": {},
     "output_type": "execute_result"
    }
   ],
   "source": [
    "#Contents\n",
    "gvb_df.head()"
   ]
  },
  {
   "cell_type": "markdown",
   "metadata": {},
   "source": [
    "### Amsterdam Event Data <a name=\"EventData\"></a>"
   ]
  },
  {
   "cell_type": "code",
   "execution_count": 4,
   "metadata": {},
   "outputs": [],
   "source": [
    "#Full Events Dataset\n",
    "events_df = pd.read_csv(\"../../../Data_thesis/Full_Datasets/Events.csv\")"
   ]
  },
  {
   "cell_type": "code",
   "execution_count": 5,
   "metadata": {},
   "outputs": [
    {
     "data": {
      "text/html": [
       "<div>\n",
       "<style scoped>\n",
       "    .dataframe tbody tr th:only-of-type {\n",
       "        vertical-align: middle;\n",
       "    }\n",
       "\n",
       "    .dataframe tbody tr th {\n",
       "        vertical-align: top;\n",
       "    }\n",
       "\n",
       "    .dataframe thead th {\n",
       "        text-align: right;\n",
       "    }\n",
       "</style>\n",
       "<table border=\"1\" class=\"dataframe\">\n",
       "  <thead>\n",
       "    <tr style=\"text-align: right;\">\n",
       "      <th></th>\n",
       "      <th>Date</th>\n",
       "      <th>Event</th>\n",
       "      <th>Latitude</th>\n",
       "      <th>Longtitude</th>\n",
       "    </tr>\n",
       "  </thead>\n",
       "  <tbody>\n",
       "    <tr>\n",
       "      <th>0</th>\n",
       "      <td>2018-04-20</td>\n",
       "      <td>Springsnow Festival</td>\n",
       "      <td>52.372638</td>\n",
       "      <td>4.894106</td>\n",
       "    </tr>\n",
       "    <tr>\n",
       "      <th>1</th>\n",
       "      <td>2018-05-20</td>\n",
       "      <td>Springsnow Festival</td>\n",
       "      <td>52.372638</td>\n",
       "      <td>4.894106</td>\n",
       "    </tr>\n",
       "    <tr>\n",
       "      <th>2</th>\n",
       "      <td>2018-05-20</td>\n",
       "      <td>Vurige Tongen</td>\n",
       "      <td>52.410332</td>\n",
       "      <td>4.749069</td>\n",
       "    </tr>\n",
       "    <tr>\n",
       "      <th>3</th>\n",
       "      <td>2018-05-21</td>\n",
       "      <td>Vurige Tongen</td>\n",
       "      <td>52.410332</td>\n",
       "      <td>4.749069</td>\n",
       "    </tr>\n",
       "    <tr>\n",
       "      <th>4</th>\n",
       "      <td>2018-06-03</td>\n",
       "      <td>Sneakerness</td>\n",
       "      <td>52.382834</td>\n",
       "      <td>4.920456</td>\n",
       "    </tr>\n",
       "  </tbody>\n",
       "</table>\n",
       "</div>"
      ],
      "text/plain": [
       "         Date                Event   Latitude  Longtitude\n",
       "0  2018-04-20  Springsnow Festival  52.372638    4.894106\n",
       "1  2018-05-20  Springsnow Festival  52.372638    4.894106\n",
       "2  2018-05-20        Vurige Tongen  52.410332    4.749069\n",
       "3  2018-05-21        Vurige Tongen  52.410332    4.749069\n",
       "4  2018-06-03          Sneakerness  52.382834    4.920456"
      ]
     },
     "execution_count": 5,
     "metadata": {},
     "output_type": "execute_result"
    }
   ],
   "source": [
    "events_df.head()"
   ]
  },
  {
   "cell_type": "markdown",
   "metadata": {},
   "source": [
    "### Crowdedness Data <a name=\"CrowdData\"></a>"
   ]
  },
  {
   "cell_type": "code",
   "execution_count": 129,
   "metadata": {},
   "outputs": [],
   "source": [
    "#Full Crowdedness Dataset\n",
    "crowd_df = pd.read_csv(\"../../../Data_thesis/Full_Datasets/Crowdedness.csv\")"
   ]
  },
  {
   "cell_type": "code",
   "execution_count": 7,
   "metadata": {},
   "outputs": [],
   "source": [
    "#Only select one camera --> GAWW-02\n",
    "crowd_df = crowd_df[crowd_df[\"Sensor\"] == \"GAWW-02\"]"
   ]
  },
  {
   "cell_type": "code",
   "execution_count": 8,
   "metadata": {},
   "outputs": [
    {
     "data": {
      "text/html": [
       "<div>\n",
       "<style scoped>\n",
       "    .dataframe tbody tr th:only-of-type {\n",
       "        vertical-align: middle;\n",
       "    }\n",
       "\n",
       "    .dataframe tbody tr th {\n",
       "        vertical-align: top;\n",
       "    }\n",
       "\n",
       "    .dataframe thead th {\n",
       "        text-align: right;\n",
       "    }\n",
       "</style>\n",
       "<table border=\"1\" class=\"dataframe\">\n",
       "  <thead>\n",
       "    <tr style=\"text-align: right;\">\n",
       "      <th></th>\n",
       "      <th>Sensor</th>\n",
       "      <th>Date</th>\n",
       "      <th>Hour</th>\n",
       "      <th>SensorLongitude</th>\n",
       "      <th>SensorLatitude</th>\n",
       "      <th>CrowdednessCount</th>\n",
       "    </tr>\n",
       "  </thead>\n",
       "  <tbody>\n",
       "    <tr>\n",
       "      <th>0</th>\n",
       "      <td>GAWW-02</td>\n",
       "      <td>2018-03-11</td>\n",
       "      <td>0</td>\n",
       "      <td>4.898903</td>\n",
       "      <td>52.373786</td>\n",
       "      <td>0</td>\n",
       "    </tr>\n",
       "    <tr>\n",
       "      <th>1</th>\n",
       "      <td>GAWW-02</td>\n",
       "      <td>2018-03-11</td>\n",
       "      <td>1</td>\n",
       "      <td>4.898903</td>\n",
       "      <td>52.373786</td>\n",
       "      <td>0</td>\n",
       "    </tr>\n",
       "    <tr>\n",
       "      <th>2</th>\n",
       "      <td>GAWW-02</td>\n",
       "      <td>2018-03-11</td>\n",
       "      <td>10</td>\n",
       "      <td>4.898903</td>\n",
       "      <td>52.373786</td>\n",
       "      <td>0</td>\n",
       "    </tr>\n",
       "    <tr>\n",
       "      <th>3</th>\n",
       "      <td>GAWW-02</td>\n",
       "      <td>2018-03-15</td>\n",
       "      <td>4</td>\n",
       "      <td>4.898903</td>\n",
       "      <td>52.373786</td>\n",
       "      <td>39</td>\n",
       "    </tr>\n",
       "    <tr>\n",
       "      <th>4</th>\n",
       "      <td>GAWW-02</td>\n",
       "      <td>2018-04-21</td>\n",
       "      <td>17</td>\n",
       "      <td>4.898903</td>\n",
       "      <td>52.373786</td>\n",
       "      <td>1618</td>\n",
       "    </tr>\n",
       "  </tbody>\n",
       "</table>\n",
       "</div>"
      ],
      "text/plain": [
       "    Sensor        Date  Hour  SensorLongitude  SensorLatitude  \\\n",
       "0  GAWW-02  2018-03-11     0         4.898903       52.373786   \n",
       "1  GAWW-02  2018-03-11     1         4.898903       52.373786   \n",
       "2  GAWW-02  2018-03-11    10         4.898903       52.373786   \n",
       "3  GAWW-02  2018-03-15     4         4.898903       52.373786   \n",
       "4  GAWW-02  2018-04-21    17         4.898903       52.373786   \n",
       "\n",
       "   CrowdednessCount  \n",
       "0                 0  \n",
       "1                 0  \n",
       "2                 0  \n",
       "3                39  \n",
       "4              1618  "
      ]
     },
     "execution_count": 8,
     "metadata": {},
     "output_type": "execute_result"
    }
   ],
   "source": [
    "crowd_df.head()"
   ]
  },
  {
   "cell_type": "markdown",
   "metadata": {},
   "source": [
    "## Data Preperation <a name=\"DataPrep\"></a>"
   ]
  },
  {
   "cell_type": "markdown",
   "metadata": {},
   "source": [
    "### Combine datasets <a name=\"CombData\"></a>"
   ]
  },
  {
   "cell_type": "code",
   "execution_count": 130,
   "metadata": {},
   "outputs": [],
   "source": [
    "df = pd.merge(gvb_df, crowd_df, on=[\"Date\", \"Hour\"])"
   ]
  },
  {
   "cell_type": "code",
   "execution_count": 131,
   "metadata": {},
   "outputs": [],
   "source": [
    "full = pd.merge(events_df, df, on=[\"Date\"], how=\"outer\")\n",
    "full = full.rename(index=str, columns={\"Latitude\": \"event_lat\", \"Longtitude\": \"event_lon\", \"Event\": \"is_event\"})\n",
    "full = full.fillna(0.0)"
   ]
  },
  {
   "cell_type": "code",
   "execution_count": 132,
   "metadata": {},
   "outputs": [],
   "source": [
    "full_dict = full.to_dict(\"index\")"
   ]
  },
  {
   "cell_type": "code",
   "execution_count": 133,
   "metadata": {},
   "outputs": [],
   "source": [
    "for k, v in full_dict.items():\n",
    "    if v[\"is_event\"] != 0.0:\n",
    "        v[\"is_event\"] = 1.0"
   ]
  },
  {
   "cell_type": "code",
   "execution_count": 134,
   "metadata": {},
   "outputs": [],
   "source": [
    "full = pd.DataFrame.from_dict(full_dict, orient=\"index\")"
   ]
  },
  {
   "cell_type": "code",
   "execution_count": 135,
   "metadata": {},
   "outputs": [
    {
     "data": {
      "text/html": [
       "<div>\n",
       "<style scoped>\n",
       "    .dataframe tbody tr th:only-of-type {\n",
       "        vertical-align: middle;\n",
       "    }\n",
       "\n",
       "    .dataframe tbody tr th {\n",
       "        vertical-align: top;\n",
       "    }\n",
       "\n",
       "    .dataframe thead th {\n",
       "        text-align: right;\n",
       "    }\n",
       "</style>\n",
       "<table border=\"1\" class=\"dataframe\">\n",
       "  <thead>\n",
       "    <tr style=\"text-align: right;\">\n",
       "      <th></th>\n",
       "      <th>Date</th>\n",
       "      <th>is_event</th>\n",
       "      <th>event_lat</th>\n",
       "      <th>event_lon</th>\n",
       "      <th>Hour</th>\n",
       "      <th>NieuwmarktCode</th>\n",
       "      <th>NieuwmarktLat</th>\n",
       "      <th>NieuwmarktLon</th>\n",
       "      <th>NieuwmarktArrivals</th>\n",
       "      <th>NieuwmarktDepartures</th>\n",
       "      <th>...</th>\n",
       "      <th>SpuiLat</th>\n",
       "      <th>SpuiLon</th>\n",
       "      <th>SpuiArrivals</th>\n",
       "      <th>SpuiDepartures</th>\n",
       "      <th>weekday</th>\n",
       "      <th>is_weekend</th>\n",
       "      <th>Sensor</th>\n",
       "      <th>SensorLongitude</th>\n",
       "      <th>SensorLatitude</th>\n",
       "      <th>CrowdednessCount</th>\n",
       "    </tr>\n",
       "  </thead>\n",
       "  <tbody>\n",
       "    <tr>\n",
       "      <th>0</th>\n",
       "      <td>2018-04-20</td>\n",
       "      <td>1.0</td>\n",
       "      <td>52.372638</td>\n",
       "      <td>4.894106</td>\n",
       "      <td>0.0</td>\n",
       "      <td>NMT</td>\n",
       "      <td>4.901239</td>\n",
       "      <td>52.371942</td>\n",
       "      <td>44.0</td>\n",
       "      <td>143.0</td>\n",
       "      <td>...</td>\n",
       "      <td>4.889259</td>\n",
       "      <td>52.369097</td>\n",
       "      <td>13.0</td>\n",
       "      <td>40.0</td>\n",
       "      <td>4.0</td>\n",
       "      <td>0.0</td>\n",
       "      <td>GAWW-02</td>\n",
       "      <td>4.898903</td>\n",
       "      <td>52.373786</td>\n",
       "      <td>0.0</td>\n",
       "    </tr>\n",
       "    <tr>\n",
       "      <th>1</th>\n",
       "      <td>2018-04-20</td>\n",
       "      <td>1.0</td>\n",
       "      <td>52.372638</td>\n",
       "      <td>4.894106</td>\n",
       "      <td>0.0</td>\n",
       "      <td>NMT</td>\n",
       "      <td>4.901239</td>\n",
       "      <td>52.371942</td>\n",
       "      <td>44.0</td>\n",
       "      <td>143.0</td>\n",
       "      <td>...</td>\n",
       "      <td>4.889259</td>\n",
       "      <td>52.369097</td>\n",
       "      <td>13.0</td>\n",
       "      <td>40.0</td>\n",
       "      <td>4.0</td>\n",
       "      <td>0.0</td>\n",
       "      <td>GAWW-02</td>\n",
       "      <td>4.898903</td>\n",
       "      <td>52.373786</td>\n",
       "      <td>747.0</td>\n",
       "    </tr>\n",
       "    <tr>\n",
       "      <th>10</th>\n",
       "      <td>2018-05-20</td>\n",
       "      <td>1.0</td>\n",
       "      <td>52.358560</td>\n",
       "      <td>4.897830</td>\n",
       "      <td>0.0</td>\n",
       "      <td>NMT</td>\n",
       "      <td>4.901239</td>\n",
       "      <td>52.371942</td>\n",
       "      <td>83.0</td>\n",
       "      <td>225.0</td>\n",
       "      <td>...</td>\n",
       "      <td>4.889259</td>\n",
       "      <td>52.369097</td>\n",
       "      <td>0.0</td>\n",
       "      <td>70.0</td>\n",
       "      <td>6.0</td>\n",
       "      <td>1.0</td>\n",
       "      <td>GAWW-02</td>\n",
       "      <td>4.898903</td>\n",
       "      <td>52.373786</td>\n",
       "      <td>2263.0</td>\n",
       "    </tr>\n",
       "    <tr>\n",
       "      <th>100</th>\n",
       "      <td>2018-06-02</td>\n",
       "      <td>1.0</td>\n",
       "      <td>52.372638</td>\n",
       "      <td>4.894106</td>\n",
       "      <td>0.0</td>\n",
       "      <td>NMT</td>\n",
       "      <td>4.901239</td>\n",
       "      <td>52.371942</td>\n",
       "      <td>42.0</td>\n",
       "      <td>67.0</td>\n",
       "      <td>...</td>\n",
       "      <td>4.889259</td>\n",
       "      <td>52.369097</td>\n",
       "      <td>0.0</td>\n",
       "      <td>0.0</td>\n",
       "      <td>5.0</td>\n",
       "      <td>1.0</td>\n",
       "      <td>GAWW-02</td>\n",
       "      <td>4.898903</td>\n",
       "      <td>52.373786</td>\n",
       "      <td>1565.0</td>\n",
       "    </tr>\n",
       "    <tr>\n",
       "      <th>1000</th>\n",
       "      <td>2018-07-24</td>\n",
       "      <td>1.0</td>\n",
       "      <td>52.339047</td>\n",
       "      <td>4.891153</td>\n",
       "      <td>0.0</td>\n",
       "      <td>NMT</td>\n",
       "      <td>4.901239</td>\n",
       "      <td>52.371942</td>\n",
       "      <td>49.0</td>\n",
       "      <td>134.0</td>\n",
       "      <td>...</td>\n",
       "      <td>4.889259</td>\n",
       "      <td>52.369097</td>\n",
       "      <td>0.0</td>\n",
       "      <td>28.0</td>\n",
       "      <td>1.0</td>\n",
       "      <td>0.0</td>\n",
       "      <td>GAWW-03</td>\n",
       "      <td>4.897334</td>\n",
       "      <td>52.372524</td>\n",
       "      <td>1603.0</td>\n",
       "    </tr>\n",
       "  </tbody>\n",
       "</table>\n",
       "<p>5 rows × 31 columns</p>\n",
       "</div>"
      ],
      "text/plain": [
       "            Date  is_event  event_lat  event_lon  Hour NieuwmarktCode  \\\n",
       "0     2018-04-20       1.0  52.372638   4.894106   0.0            NMT   \n",
       "1     2018-04-20       1.0  52.372638   4.894106   0.0            NMT   \n",
       "10    2018-05-20       1.0  52.358560   4.897830   0.0            NMT   \n",
       "100   2018-06-02       1.0  52.372638   4.894106   0.0            NMT   \n",
       "1000  2018-07-24       1.0  52.339047   4.891153   0.0            NMT   \n",
       "\n",
       "      NieuwmarktLat  NieuwmarktLon  NieuwmarktArrivals  NieuwmarktDepartures  \\\n",
       "0          4.901239      52.371942                44.0                 143.0   \n",
       "1          4.901239      52.371942                44.0                 143.0   \n",
       "10         4.901239      52.371942                83.0                 225.0   \n",
       "100        4.901239      52.371942                42.0                  67.0   \n",
       "1000       4.901239      52.371942                49.0                 134.0   \n",
       "\n",
       "      ...   SpuiLat    SpuiLon  SpuiArrivals  SpuiDepartures  weekday  \\\n",
       "0     ...  4.889259  52.369097          13.0            40.0      4.0   \n",
       "1     ...  4.889259  52.369097          13.0            40.0      4.0   \n",
       "10    ...  4.889259  52.369097           0.0            70.0      6.0   \n",
       "100   ...  4.889259  52.369097           0.0             0.0      5.0   \n",
       "1000  ...  4.889259  52.369097           0.0            28.0      1.0   \n",
       "\n",
       "      is_weekend   Sensor  SensorLongitude  SensorLatitude  CrowdednessCount  \n",
       "0            0.0  GAWW-02         4.898903       52.373786               0.0  \n",
       "1            0.0  GAWW-02         4.898903       52.373786             747.0  \n",
       "10           1.0  GAWW-02         4.898903       52.373786            2263.0  \n",
       "100          1.0  GAWW-02         4.898903       52.373786            1565.0  \n",
       "1000         0.0  GAWW-03         4.897334       52.372524            1603.0  \n",
       "\n",
       "[5 rows x 31 columns]"
      ]
     },
     "execution_count": 135,
     "metadata": {},
     "output_type": "execute_result"
    }
   ],
   "source": [
    "full.head()"
   ]
  },
  {
   "cell_type": "markdown",
   "metadata": {},
   "source": [
    "### Construct Subset to train and test Model <a name=\"testModel\"></a>"
   ]
  },
  {
   "cell_type": "code",
   "execution_count": 136,
   "metadata": {},
   "outputs": [],
   "source": [
    "#Create dummy variables\n",
    "nm_code_df = pd.get_dummies(full[\"NieuwmarktCode\"])\n",
    "nz_code_df = pd.get_dummies(full[\"NieuwezijdsCode\"])\n",
    "dam_code_df = pd.get_dummies(full[\"DamCode\"])\n",
    "spui_code_df = pd.get_dummies(full[\"SpuiCode\"])\n",
    "sen_code_df = pd.get_dummies(full[\"Sensor\"])"
   ]
  },
  {
   "cell_type": "code",
   "execution_count": 137,
   "metadata": {},
   "outputs": [],
   "source": [
    "#Drop Unusable columns\n",
    "model_df = pd.concat([nm_code_df, nz_code_df, dam_code_df, spui_code_df, sen_code_df, full], axis=1)\n",
    "model_df = model_df.drop(columns=[\"Date\",\"NieuwmarktCode\", \"NieuwezijdsCode\", \"DamCode\", \"SpuiCode\", \"Sensor\"])"
   ]
  },
  {
   "cell_type": "code",
   "execution_count": 138,
   "metadata": {},
   "outputs": [
    {
     "data": {
      "text/html": [
       "<div>\n",
       "<style scoped>\n",
       "    .dataframe tbody tr th:only-of-type {\n",
       "        vertical-align: middle;\n",
       "    }\n",
       "\n",
       "    .dataframe tbody tr th {\n",
       "        vertical-align: top;\n",
       "    }\n",
       "\n",
       "    .dataframe thead th {\n",
       "        text-align: right;\n",
       "    }\n",
       "</style>\n",
       "<table border=\"1\" class=\"dataframe\">\n",
       "  <thead>\n",
       "    <tr style=\"text-align: right;\">\n",
       "      <th></th>\n",
       "      <th>0.0</th>\n",
       "      <th>NMT</th>\n",
       "      <th>0.0</th>\n",
       "      <th>5069.0</th>\n",
       "      <th>0.0</th>\n",
       "      <th>5055.0</th>\n",
       "      <th>0.0</th>\n",
       "      <th>5062.0</th>\n",
       "      <th>0.0</th>\n",
       "      <th>GAWW-02</th>\n",
       "      <th>...</th>\n",
       "      <th>DamDepartures</th>\n",
       "      <th>SpuiLat</th>\n",
       "      <th>SpuiLon</th>\n",
       "      <th>SpuiArrivals</th>\n",
       "      <th>SpuiDepartures</th>\n",
       "      <th>weekday</th>\n",
       "      <th>is_weekend</th>\n",
       "      <th>SensorLongitude</th>\n",
       "      <th>SensorLatitude</th>\n",
       "      <th>CrowdednessCount</th>\n",
       "    </tr>\n",
       "  </thead>\n",
       "  <tbody>\n",
       "    <tr>\n",
       "      <th>0</th>\n",
       "      <td>0</td>\n",
       "      <td>1</td>\n",
       "      <td>0</td>\n",
       "      <td>1</td>\n",
       "      <td>0</td>\n",
       "      <td>1</td>\n",
       "      <td>0</td>\n",
       "      <td>1</td>\n",
       "      <td>0</td>\n",
       "      <td>1</td>\n",
       "      <td>...</td>\n",
       "      <td>312.0</td>\n",
       "      <td>4.889259</td>\n",
       "      <td>52.369097</td>\n",
       "      <td>13.0</td>\n",
       "      <td>40.0</td>\n",
       "      <td>4.0</td>\n",
       "      <td>0.0</td>\n",
       "      <td>4.898903</td>\n",
       "      <td>52.373786</td>\n",
       "      <td>0.0</td>\n",
       "    </tr>\n",
       "    <tr>\n",
       "      <th>1</th>\n",
       "      <td>0</td>\n",
       "      <td>1</td>\n",
       "      <td>0</td>\n",
       "      <td>1</td>\n",
       "      <td>0</td>\n",
       "      <td>1</td>\n",
       "      <td>0</td>\n",
       "      <td>1</td>\n",
       "      <td>0</td>\n",
       "      <td>1</td>\n",
       "      <td>...</td>\n",
       "      <td>312.0</td>\n",
       "      <td>4.889259</td>\n",
       "      <td>52.369097</td>\n",
       "      <td>13.0</td>\n",
       "      <td>40.0</td>\n",
       "      <td>4.0</td>\n",
       "      <td>0.0</td>\n",
       "      <td>4.898903</td>\n",
       "      <td>52.373786</td>\n",
       "      <td>747.0</td>\n",
       "    </tr>\n",
       "    <tr>\n",
       "      <th>10</th>\n",
       "      <td>0</td>\n",
       "      <td>1</td>\n",
       "      <td>0</td>\n",
       "      <td>1</td>\n",
       "      <td>0</td>\n",
       "      <td>1</td>\n",
       "      <td>0</td>\n",
       "      <td>1</td>\n",
       "      <td>0</td>\n",
       "      <td>1</td>\n",
       "      <td>...</td>\n",
       "      <td>456.0</td>\n",
       "      <td>4.889259</td>\n",
       "      <td>52.369097</td>\n",
       "      <td>0.0</td>\n",
       "      <td>70.0</td>\n",
       "      <td>6.0</td>\n",
       "      <td>1.0</td>\n",
       "      <td>4.898903</td>\n",
       "      <td>52.373786</td>\n",
       "      <td>2263.0</td>\n",
       "    </tr>\n",
       "    <tr>\n",
       "      <th>100</th>\n",
       "      <td>0</td>\n",
       "      <td>1</td>\n",
       "      <td>0</td>\n",
       "      <td>1</td>\n",
       "      <td>0</td>\n",
       "      <td>1</td>\n",
       "      <td>0</td>\n",
       "      <td>1</td>\n",
       "      <td>0</td>\n",
       "      <td>1</td>\n",
       "      <td>...</td>\n",
       "      <td>152.0</td>\n",
       "      <td>4.889259</td>\n",
       "      <td>52.369097</td>\n",
       "      <td>0.0</td>\n",
       "      <td>0.0</td>\n",
       "      <td>5.0</td>\n",
       "      <td>1.0</td>\n",
       "      <td>4.898903</td>\n",
       "      <td>52.373786</td>\n",
       "      <td>1565.0</td>\n",
       "    </tr>\n",
       "    <tr>\n",
       "      <th>1000</th>\n",
       "      <td>0</td>\n",
       "      <td>1</td>\n",
       "      <td>0</td>\n",
       "      <td>1</td>\n",
       "      <td>0</td>\n",
       "      <td>1</td>\n",
       "      <td>0</td>\n",
       "      <td>1</td>\n",
       "      <td>0</td>\n",
       "      <td>0</td>\n",
       "      <td>...</td>\n",
       "      <td>301.0</td>\n",
       "      <td>4.889259</td>\n",
       "      <td>52.369097</td>\n",
       "      <td>0.0</td>\n",
       "      <td>28.0</td>\n",
       "      <td>1.0</td>\n",
       "      <td>0.0</td>\n",
       "      <td>4.897334</td>\n",
       "      <td>52.372524</td>\n",
       "      <td>1603.0</td>\n",
       "    </tr>\n",
       "  </tbody>\n",
       "</table>\n",
       "<p>5 rows × 38 columns</p>\n",
       "</div>"
      ],
      "text/plain": [
       "      0.0  NMT  0.0  5069.0  0.0  5055.0  0.0  5062.0  0.0  GAWW-02  ...  \\\n",
       "0       0    1    0       1    0       1    0       1    0        1  ...   \n",
       "1       0    1    0       1    0       1    0       1    0        1  ...   \n",
       "10      0    1    0       1    0       1    0       1    0        1  ...   \n",
       "100     0    1    0       1    0       1    0       1    0        1  ...   \n",
       "1000    0    1    0       1    0       1    0       1    0        0  ...   \n",
       "\n",
       "      DamDepartures   SpuiLat    SpuiLon  SpuiArrivals  SpuiDepartures  \\\n",
       "0             312.0  4.889259  52.369097          13.0            40.0   \n",
       "1             312.0  4.889259  52.369097          13.0            40.0   \n",
       "10            456.0  4.889259  52.369097           0.0            70.0   \n",
       "100           152.0  4.889259  52.369097           0.0             0.0   \n",
       "1000          301.0  4.889259  52.369097           0.0            28.0   \n",
       "\n",
       "      weekday  is_weekend  SensorLongitude  SensorLatitude  CrowdednessCount  \n",
       "0         4.0         0.0         4.898903       52.373786               0.0  \n",
       "1         4.0         0.0         4.898903       52.373786             747.0  \n",
       "10        6.0         1.0         4.898903       52.373786            2263.0  \n",
       "100       5.0         1.0         4.898903       52.373786            1565.0  \n",
       "1000      1.0         0.0         4.897334       52.372524            1603.0  \n",
       "\n",
       "[5 rows x 38 columns]"
      ]
     },
     "execution_count": 138,
     "metadata": {},
     "output_type": "execute_result"
    }
   ],
   "source": [
    "model_df.head()"
   ]
  },
  {
   "cell_type": "markdown",
   "metadata": {},
   "source": [
    "### Train/Test Split <a name=\"trainTestSplit\"></a>\n",
    "Split the dataset into training and test data, using a [function from Sklearn](https://scikit-learn.org/stable/modules/generated/sklearn.model_selection.train_test_split.html)\n",
    "\n",
    "#### Train_Test_split Parameters\n",
    "- *input*: \n",
    "    - *x*: data used to predict laballed data\n",
    "        - Hour slot\n",
    "        - Weekday (int)\n",
    "        - Weekend (Binary)\n",
    "    - *y*: laballed data\n",
    "        - Number of rides (int)\n",
    "- *test_size*: Proportion of total data used as test data, rest is training data\n",
    "- *random_state*: Number used as seed by the *Random Number Generator* "
   ]
  },
  {
   "cell_type": "code",
   "execution_count": 139,
   "metadata": {},
   "outputs": [],
   "source": [
    "#Split the labels from the rest\n",
    "x = model_df.drop([\"CrowdednessCount\"], axis=1)\n",
    "y = model_df[\"CrowdednessCount\"]\n",
    "\n",
    "x_train, x_test, y_train, y_test = train_test_split(x, y, test_size = 0.10, random_state = 42)"
   ]
  },
  {
   "cell_type": "markdown",
   "metadata": {},
   "source": [
    "## Regression Models <a name=\"regModels\"></a>"
   ]
  },
  {
   "cell_type": "code",
   "execution_count": 167,
   "metadata": {},
   "outputs": [
    {
     "name": "stdout",
     "output_type": "stream",
     "text": [
      "R^2 Scores\n",
      "Baseline:  0.5441365748772847\n",
      "Random Forrest Regressor:  0.3480229530920895\n",
      "Gradient Boosting Regressor:  0.5446640012852192\n",
      "Ada Boost Regressor:  0.4829848761266095\n",
      "Bagging Regressor:  0.3355916307717909\n"
     ]
    }
   ],
   "source": [
    "print(\"R^2 Scores\")\n",
    "print(\"Baseline: \", reg_base_score)\n",
    "print(\"Random Forrest Regressor: \", reg_rfg_score)\n",
    "print(\"Gradient Boosting Regressor: \", reg_gbr_score)\n",
    "print(\"Ada Boost Regressor: \", reg_abr_score)\n",
    "print(\"Bagging Regressor: \", reg_br_score)"
   ]
  },
  {
   "cell_type": "markdown",
   "metadata": {},
   "source": [
    "### Linear Regression <a name=\"regBaseModel\"></a>\n",
    "Implemented the [Sklearn Version](https://scikit-learn.org/stable/modules/generated/sklearn.linear_model.LinearRegression.html#sklearn.linear_model.LinearRegression)"
   ]
  },
  {
   "cell_type": "code",
   "execution_count": 164,
   "metadata": {},
   "outputs": [],
   "source": [
    "#Give parameters model\n",
    "reg_base = LinearRegression(n_jobs=5)"
   ]
  },
  {
   "cell_type": "code",
   "execution_count": 165,
   "metadata": {},
   "outputs": [
    {
     "data": {
      "text/plain": [
       "LinearRegression(copy_X=True, fit_intercept=True, n_jobs=5, normalize=False)"
      ]
     },
     "execution_count": 165,
     "metadata": {},
     "output_type": "execute_result"
    }
   ],
   "source": [
    "#Fit the model\n",
    "reg_base.fit(x_train, y_train)"
   ]
  },
  {
   "cell_type": "code",
   "execution_count": 166,
   "metadata": {},
   "outputs": [
    {
     "name": "stdout",
     "output_type": "stream",
     "text": [
      "R^2 Score:  0.5441365748772847\n"
     ]
    }
   ],
   "source": [
    "reg_base_score = reg_base.score(x_test, y_test)\n",
    "print(\"R^2 Score: \", reg_base_score)"
   ]
  },
  {
   "cell_type": "markdown",
   "metadata": {},
   "source": [
    "### Random Forrest Regressor <a name=\"regRFGModel\"></a>\n",
    "Implemented the [Sklearn Version](https://scikit-learn.org/stable/modules/generated/sklearn.ensemble.RandomForestRegressor.html)\n",
    "\n",
    "Parameters\n",
    "- *N-Estimators*: Number of trees in the model\n",
    "- *criterion*: loss function\n",
    "- *n_jobs*: The number of jobs to run in parallel for both fit and predict\n",
    "- *random_state*: random_state is the seed used by the random number generator\n",
    "- *bootstrap*: Whether bootstrap samples are used when building trees"
   ]
  },
  {
   "cell_type": "code",
   "execution_count": 143,
   "metadata": {},
   "outputs": [],
   "source": [
    "#Set parameters model\n",
    "reg_rfg = RandomForestRegressor(n_estimators=500, criterion=\"mse\", n_jobs=100, random_state=42, bootstrap=True)"
   ]
  },
  {
   "cell_type": "code",
   "execution_count": 144,
   "metadata": {},
   "outputs": [
    {
     "data": {
      "text/plain": [
       "RandomForestRegressor(bootstrap=True, criterion='mse', max_depth=None,\n",
       "           max_features='auto', max_leaf_nodes=None,\n",
       "           min_impurity_decrease=0.0, min_impurity_split=None,\n",
       "           min_samples_leaf=1, min_samples_split=2,\n",
       "           min_weight_fraction_leaf=0.0, n_estimators=500, n_jobs=100,\n",
       "           oob_score=False, random_state=42, verbose=0, warm_start=False)"
      ]
     },
     "execution_count": 144,
     "metadata": {},
     "output_type": "execute_result"
    }
   ],
   "source": [
    "#fit the model\n",
    "reg_rfg.fit(x_train, y_train)"
   ]
  },
  {
   "cell_type": "code",
   "execution_count": 145,
   "metadata": {},
   "outputs": [
    {
     "name": "stdout",
     "output_type": "stream",
     "text": [
      "R^2 Score:  0.3480229530920895\n"
     ]
    }
   ],
   "source": [
    "#Score the model\n",
    "reg_rfg_score = reg_rfg.score(x_test, y_test)\n",
    "print(\"R^2 Score: \", reg_rfg_score)"
   ]
  },
  {
   "cell_type": "markdown",
   "metadata": {},
   "source": [
    "### Gradient Boosting Regressor <a name=\"regGBRModel\"></a>\n",
    "Implemented the [Sklearn Version](https://scikit-learn.org/stable/modules/generated/sklearn.ensemble.GradientBoostingRegressor.html#sklearn.ensemble.GradientBoostingRegressor)\n",
    "\n",
    "Parameters\n",
    "- *Loss*: Loss function\n",
    "- *Learning_rate*: Learning rate shrinks the contribution of each tree by learning_rate\n",
    "- *n_estimators*: The number of boosting stages to perform\n",
    "- *Criterion*: The function to measure the quality of a split\n",
    "- *n_iter_no_change*: used to decide if early stopping will be used to terminate training when validation score is not improving\n",
    "- *validation_fraction*: The proportion of training data to set aside as validation set for early stopping"
   ]
  },
  {
   "cell_type": "code",
   "execution_count": 146,
   "metadata": {},
   "outputs": [],
   "source": [
    "reg_gbr = GradientBoostingRegressor(loss=\"ls\", learning_rate=0.05, n_estimators=300, criterion=\"friedman_mse\", \n",
    "                                    random_state=42, n_iter_no_change=20, validation_fraction=0.1)"
   ]
  },
  {
   "cell_type": "code",
   "execution_count": 147,
   "metadata": {},
   "outputs": [
    {
     "data": {
      "text/plain": [
       "GradientBoostingRegressor(alpha=0.9, criterion='friedman_mse', init=None,\n",
       "             learning_rate=0.05, loss='ls', max_depth=3, max_features=None,\n",
       "             max_leaf_nodes=None, min_impurity_decrease=0.0,\n",
       "             min_impurity_split=None, min_samples_leaf=1,\n",
       "             min_samples_split=2, min_weight_fraction_leaf=0.0,\n",
       "             n_estimators=300, n_iter_no_change=20, presort='auto',\n",
       "             random_state=42, subsample=1.0, tol=0.0001,\n",
       "             validation_fraction=0.1, verbose=0, warm_start=False)"
      ]
     },
     "execution_count": 147,
     "metadata": {},
     "output_type": "execute_result"
    }
   ],
   "source": [
    "reg_gbr.fit(x_train, y_train)"
   ]
  },
  {
   "cell_type": "code",
   "execution_count": 148,
   "metadata": {},
   "outputs": [
    {
     "name": "stdout",
     "output_type": "stream",
     "text": [
      "R^2 Score:  0.5446640012852192\n"
     ]
    }
   ],
   "source": [
    "reg_gbr_score = reg_gbr.score(x_test, y_test)\n",
    "print(\"R^2 Score: \", reg_gbr_score)"
   ]
  },
  {
   "cell_type": "markdown",
   "metadata": {},
   "source": [
    "### Ada Boost Regressor <a name=\"regABRModel\"></a>\n",
    "Implemented the [Sklearn Version](https://scikit-learn.org/stable/modules/generated/sklearn.ensemble.AdaBoostRegressor.html#sklearn.ensemble.AdaBoostRegressor)\n",
    "\n",
    "Parameters\n",
    "- *n_estimators*: The maximum number of estimators at which boosting is terminated\n",
    "- *learning_rate*: Learning rate shrinks the contribution of each regressor\n",
    "- *loss*: The loss function to use when updating the weights after each boosting iteration."
   ]
  },
  {
   "cell_type": "code",
   "execution_count": 149,
   "metadata": {},
   "outputs": [],
   "source": [
    "reg_abr = AdaBoostRegressor(n_estimators=100, learning_rate= 0.5, loss=\"square\", random_state=42)"
   ]
  },
  {
   "cell_type": "code",
   "execution_count": 150,
   "metadata": {},
   "outputs": [
    {
     "data": {
      "text/plain": [
       "AdaBoostRegressor(base_estimator=None, learning_rate=0.5, loss='square',\n",
       "         n_estimators=100, random_state=42)"
      ]
     },
     "execution_count": 150,
     "metadata": {},
     "output_type": "execute_result"
    }
   ],
   "source": [
    "reg_abr.fit(x_train, y_train)"
   ]
  },
  {
   "cell_type": "code",
   "execution_count": 151,
   "metadata": {},
   "outputs": [
    {
     "name": "stdout",
     "output_type": "stream",
     "text": [
      "R^2 Sore:  0.4829848761266095\n"
     ]
    }
   ],
   "source": [
    "reg_abr_score=reg_abr.score(x_test, y_test)\n",
    "print(\"R^2 Sore: \", reg_abr_score)"
   ]
  },
  {
   "cell_type": "markdown",
   "metadata": {},
   "source": [
    "### Bagging Regressor <a name=\"regBRModel\"></a>\n",
    "Implemented the [Sklearn Version](https://scikit-learn.org/stable/modules/generated/sklearn.ensemble.BaggingRegressor.html#sklearn.ensemble.BaggingRegressor.score)\n",
    "\n",
    "Parameters\n",
    "- *n_estimators*: The number of base estimators in the ensemble.\n",
    "- *n_jobs*: The number of jobs to run in parallel for both fit and predict."
   ]
  },
  {
   "cell_type": "code",
   "execution_count": 152,
   "metadata": {},
   "outputs": [],
   "source": [
    "reg_br = BaggingRegressor(n_estimators=50, n_jobs=20, random_state=42)"
   ]
  },
  {
   "cell_type": "code",
   "execution_count": 153,
   "metadata": {},
   "outputs": [
    {
     "data": {
      "text/plain": [
       "BaggingRegressor(base_estimator=None, bootstrap=True,\n",
       "         bootstrap_features=False, max_features=1.0, max_samples=1.0,\n",
       "         n_estimators=50, n_jobs=20, oob_score=False, random_state=42,\n",
       "         verbose=0, warm_start=False)"
      ]
     },
     "execution_count": 153,
     "metadata": {},
     "output_type": "execute_result"
    }
   ],
   "source": [
    "reg_br.fit(x_train, y_train)"
   ]
  },
  {
   "cell_type": "code",
   "execution_count": 154,
   "metadata": {},
   "outputs": [
    {
     "name": "stdout",
     "output_type": "stream",
     "text": [
      "R^2 Score:  0.3355916307717909\n"
     ]
    }
   ],
   "source": [
    "reg_br_score = reg_br.score(x_test, y_test)\n",
    "print(\"R^2 Score: \", reg_br_score)"
   ]
  }
 ],
 "metadata": {
  "kernelspec": {
   "display_name": "Python 3",
   "language": "python",
   "name": "python3"
  },
  "language_info": {
   "codemirror_mode": {
    "name": "ipython",
    "version": 3
   },
   "file_extension": ".py",
   "mimetype": "text/x-python",
   "name": "python",
   "nbconvert_exporter": "python",
   "pygments_lexer": "ipython3",
   "version": "3.7.1"
  }
 },
 "nbformat": 4,
 "nbformat_minor": 2
}
