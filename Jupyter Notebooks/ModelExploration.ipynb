{
 "cells": [
  {
   "cell_type": "markdown",
   "metadata": {},
   "source": [
    "# Imports"
   ]
  },
  {
   "cell_type": "code",
   "execution_count": 32,
   "metadata": {},
   "outputs": [],
   "source": [
    "import pandas as pd\n",
    "import json\n",
    "import datetime"
   ]
  },
  {
   "cell_type": "markdown",
   "metadata": {},
   "source": [
    "# Data\n",
    "Import the following data:\n",
    "- GVB: *Number of travelers per hour at given station coordinates*\n",
    "- Event Data: *Dates and locations for events in Amsterdam* --> **OUTLIERS**"
   ]
  },
  {
   "cell_type": "markdown",
   "metadata": {},
   "source": [
    "## GVB"
   ]
  },
  {
   "cell_type": "code",
   "execution_count": 18,
   "metadata": {},
   "outputs": [],
   "source": [
    "#Read from file\n",
    "gvb = pd.read_csv(\"../../../Data_thesis/Sample_data/GVB/ritten.csv\")"
   ]
  },
  {
   "cell_type": "code",
   "execution_count": 19,
   "metadata": {},
   "outputs": [
    {
     "data": {
      "text/html": [
       "<div>\n",
       "<style scoped>\n",
       "    .dataframe tbody tr th:only-of-type {\n",
       "        vertical-align: middle;\n",
       "    }\n",
       "\n",
       "    .dataframe tbody tr th {\n",
       "        vertical-align: top;\n",
       "    }\n",
       "\n",
       "    .dataframe thead th {\n",
       "        text-align: right;\n",
       "    }\n",
       "</style>\n",
       "<table border=\"1\" class=\"dataframe\">\n",
       "  <thead>\n",
       "    <tr style=\"text-align: right;\">\n",
       "      <th></th>\n",
       "      <th>Unnamed: 0</th>\n",
       "      <th>Datum</th>\n",
       "      <th>UurgroepOmschrijving (van vertrek)</th>\n",
       "      <th>VertrekHalteCode</th>\n",
       "      <th>VertrekHalteNaam</th>\n",
       "      <th>VertrekXCoord</th>\n",
       "      <th>VertrekYCoord</th>\n",
       "      <th>AantalRitten</th>\n",
       "    </tr>\n",
       "  </thead>\n",
       "  <tbody>\n",
       "    <tr>\n",
       "      <th>0</th>\n",
       "      <td>5</td>\n",
       "      <td>2018-12-24</td>\n",
       "      <td>01:00 - 01:59</td>\n",
       "      <td>5031</td>\n",
       "      <td>Dam</td>\n",
       "      <td>489348393.0</td>\n",
       "      <td>5.237341e+09</td>\n",
       "      <td>58.0</td>\n",
       "    </tr>\n",
       "    <tr>\n",
       "      <th>1</th>\n",
       "      <td>8</td>\n",
       "      <td>2018-12-24</td>\n",
       "      <td>01:00 - 01:59</td>\n",
       "      <td>5068</td>\n",
       "      <td>Dam</td>\n",
       "      <td>489124121.0</td>\n",
       "      <td>5.237436e+09</td>\n",
       "      <td>28.0</td>\n",
       "    </tr>\n",
       "    <tr>\n",
       "      <th>2</th>\n",
       "      <td>16</td>\n",
       "      <td>2018-12-24</td>\n",
       "      <td>02:00 - 02:59</td>\n",
       "      <td>5031</td>\n",
       "      <td>Dam</td>\n",
       "      <td>489348393.0</td>\n",
       "      <td>5.237341e+09</td>\n",
       "      <td>103.0</td>\n",
       "    </tr>\n",
       "    <tr>\n",
       "      <th>3</th>\n",
       "      <td>18</td>\n",
       "      <td>2018-12-24</td>\n",
       "      <td>02:00 - 02:59</td>\n",
       "      <td>5068</td>\n",
       "      <td>Dam</td>\n",
       "      <td>489124121.0</td>\n",
       "      <td>5.237436e+09</td>\n",
       "      <td>25.0</td>\n",
       "    </tr>\n",
       "    <tr>\n",
       "      <th>4</th>\n",
       "      <td>26</td>\n",
       "      <td>2018-12-24</td>\n",
       "      <td>03:00 - 03:59</td>\n",
       "      <td>5031</td>\n",
       "      <td>Dam</td>\n",
       "      <td>489348393.0</td>\n",
       "      <td>5.237341e+09</td>\n",
       "      <td>39.0</td>\n",
       "    </tr>\n",
       "  </tbody>\n",
       "</table>\n",
       "</div>"
      ],
      "text/plain": [
       "   Unnamed: 0       Datum UurgroepOmschrijving (van vertrek) VertrekHalteCode  \\\n",
       "0           5  2018-12-24                      01:00 - 01:59             5031   \n",
       "1           8  2018-12-24                      01:00 - 01:59             5068   \n",
       "2          16  2018-12-24                      02:00 - 02:59             5031   \n",
       "3          18  2018-12-24                      02:00 - 02:59             5068   \n",
       "4          26  2018-12-24                      03:00 - 03:59             5031   \n",
       "\n",
       "  VertrekHalteNaam  VertrekXCoord  VertrekYCoord  AantalRitten  \n",
       "0              Dam    489348393.0   5.237341e+09          58.0  \n",
       "1              Dam    489124121.0   5.237436e+09          28.0  \n",
       "2              Dam    489348393.0   5.237341e+09         103.0  \n",
       "3              Dam    489124121.0   5.237436e+09          25.0  \n",
       "4              Dam    489348393.0   5.237341e+09          39.0  "
      ]
     },
     "execution_count": 19,
     "metadata": {},
     "output_type": "execute_result"
    }
   ],
   "source": [
    "#Check contents\n",
    "gvb.head()"
   ]
  },
  {
   "cell_type": "markdown",
   "metadata": {},
   "source": [
    "### Descrive the dataframe\n",
    "- *Count*: Count number of non-NA/null observations\n",
    "- *Mean*: Mean of the values.\n",
    "- *STD*: Standard deviation of the obersvations.\n",
    "- *Min*: Minimum of the values in the object.\n",
    "- *25%, 50%, 75%*: Returns the given percentile\n",
    "- *Max*: Maximum of the values in the object."
   ]
  },
  {
   "cell_type": "code",
   "execution_count": 20,
   "metadata": {},
   "outputs": [
    {
     "data": {
      "text/html": [
       "<div>\n",
       "<style scoped>\n",
       "    .dataframe tbody tr th:only-of-type {\n",
       "        vertical-align: middle;\n",
       "    }\n",
       "\n",
       "    .dataframe tbody tr th {\n",
       "        vertical-align: top;\n",
       "    }\n",
       "\n",
       "    .dataframe thead th {\n",
       "        text-align: right;\n",
       "    }\n",
       "</style>\n",
       "<table border=\"1\" class=\"dataframe\">\n",
       "  <thead>\n",
       "    <tr style=\"text-align: right;\">\n",
       "      <th></th>\n",
       "      <th>Unnamed: 0</th>\n",
       "      <th>VertrekXCoord</th>\n",
       "      <th>VertrekYCoord</th>\n",
       "      <th>AantalRitten</th>\n",
       "    </tr>\n",
       "  </thead>\n",
       "  <tbody>\n",
       "    <tr>\n",
       "      <th>count</th>\n",
       "      <td>972.000000</td>\n",
       "      <td>9.720000e+02</td>\n",
       "      <td>9.720000e+02</td>\n",
       "      <td>972.000000</td>\n",
       "    </tr>\n",
       "    <tr>\n",
       "      <th>mean</th>\n",
       "      <td>24975.330247</td>\n",
       "      <td>4.892755e+08</td>\n",
       "      <td>5.237234e+09</td>\n",
       "      <td>203.260288</td>\n",
       "    </tr>\n",
       "    <tr>\n",
       "      <th>std</th>\n",
       "      <td>14484.601039</td>\n",
       "      <td>3.871362e+05</td>\n",
       "      <td>1.903516e+05</td>\n",
       "      <td>253.135267</td>\n",
       "    </tr>\n",
       "    <tr>\n",
       "      <th>min</th>\n",
       "      <td>5.000000</td>\n",
       "      <td>4.889259e+08</td>\n",
       "      <td>5.236910e+09</td>\n",
       "      <td>10.000000</td>\n",
       "    </tr>\n",
       "    <tr>\n",
       "      <th>25%</th>\n",
       "      <td>12567.750000</td>\n",
       "      <td>4.890271e+08</td>\n",
       "      <td>5.237194e+09</td>\n",
       "      <td>40.000000</td>\n",
       "    </tr>\n",
       "    <tr>\n",
       "      <th>50%</th>\n",
       "      <td>24419.500000</td>\n",
       "      <td>4.890794e+08</td>\n",
       "      <td>5.237318e+09</td>\n",
       "      <td>94.500000</td>\n",
       "    </tr>\n",
       "    <tr>\n",
       "      <th>75%</th>\n",
       "      <td>37513.250000</td>\n",
       "      <td>4.893484e+08</td>\n",
       "      <td>5.237368e+09</td>\n",
       "      <td>271.250000</td>\n",
       "    </tr>\n",
       "    <tr>\n",
       "      <th>max</th>\n",
       "      <td>49712.000000</td>\n",
       "      <td>4.901239e+08</td>\n",
       "      <td>5.237493e+09</td>\n",
       "      <td>1371.000000</td>\n",
       "    </tr>\n",
       "  </tbody>\n",
       "</table>\n",
       "</div>"
      ],
      "text/plain": [
       "         Unnamed: 0  VertrekXCoord  VertrekYCoord  AantalRitten\n",
       "count    972.000000   9.720000e+02   9.720000e+02    972.000000\n",
       "mean   24975.330247   4.892755e+08   5.237234e+09    203.260288\n",
       "std    14484.601039   3.871362e+05   1.903516e+05    253.135267\n",
       "min        5.000000   4.889259e+08   5.236910e+09     10.000000\n",
       "25%    12567.750000   4.890271e+08   5.237194e+09     40.000000\n",
       "50%    24419.500000   4.890794e+08   5.237318e+09     94.500000\n",
       "75%    37513.250000   4.893484e+08   5.237368e+09    271.250000\n",
       "max    49712.000000   4.901239e+08   5.237493e+09   1371.000000"
      ]
     },
     "execution_count": 20,
     "metadata": {},
     "output_type": "execute_result"
    }
   ],
   "source": [
    "gvb.describe()"
   ]
  },
  {
   "cell_type": "markdown",
   "metadata": {},
   "source": [
    "### Stations in GVB Dataset"
   ]
  },
  {
   "cell_type": "code",
   "execution_count": 26,
   "metadata": {},
   "outputs": [
    {
     "name": "stdout",
     "output_type": "stream",
     "text": [
      "Station:  Dam\n",
      "Station:  Nieuwmarkt\n",
      "Station:  Spui\n"
     ]
    }
   ],
   "source": [
    "stations = gvb.VertrekHalteNaam.unique()\n",
    "\n",
    "for station in stations:\n",
    "    print(\"Station: \", station)"
   ]
  },
  {
   "cell_type": "markdown",
   "metadata": {},
   "source": [
    "## Events"
   ]
  },
  {
   "cell_type": "code",
   "execution_count": 21,
   "metadata": {},
   "outputs": [],
   "source": [
    "with open(\"../Data/Modified/Events.json\") as f:\n",
    "    events = json.load(f)"
   ]
  },
  {
   "cell_type": "code",
   "execution_count": 22,
   "metadata": {},
   "outputs": [
    {
     "name": "stdout",
     "output_type": "stream",
     "text": [
      "{'Event': 'Springsnow Festival', 'Coordinates': {'Latitude': '52,3726380', 'Longtitude': '4,8941060'}, 'Data': {'startdate': '20-04-2018', 'enddate': '20-05-2018'}}\n"
     ]
    }
   ],
   "source": [
    "print(events[0])"
   ]
  },
  {
   "cell_type": "markdown",
   "metadata": {},
   "source": [
    "# Model\n",
    "Below a few models will be instantiated"
   ]
  },
  {
   "cell_type": "markdown",
   "metadata": {},
   "source": [
    "## GVB Data Only\n",
    "Below all the models use only the GVB data"
   ]
  },
  {
   "cell_type": "markdown",
   "metadata": {},
   "source": [
    "### Data Preperation\n",
    "Make the model with the GVB data from *Dam* station"
   ]
  },
  {
   "cell_type": "markdown",
   "metadata": {},
   "source": [
    "#### Dataframe formation"
   ]
  },
  {
   "cell_type": "code",
   "execution_count": 84,
   "metadata": {},
   "outputs": [],
   "source": [
    "#Select all rows with \"Dam\" as station\n",
    "dam_df = gvb.loc[gvb[\"VertrekHalteNaam\"] == \"Dam\"]\n",
    "\n",
    "#Select usable columns\n",
    "dam_df = dam_df[[\"Datum\", \"UurgroepOmschrijving (van vertrek)\", \"AantalRitten\"]]\n",
    "\n",
    "#Add columns\n",
    "#Gives day in numbers --> 0: Monday, 1: Tuesday,..., 6: Sunday\n",
    "dam_df.insert(2, \"weekday\", 99)\n",
    "\n",
    "#Adds whether day is weekend --> Day 5 and 6\n",
    "dam_df.insert(3, \"is_weekend\", 0)"
   ]
  },
  {
   "cell_type": "markdown",
   "metadata": {},
   "source": [
    "#### Transform DF"
   ]
  },
  {
   "cell_type": "code",
   "execution_count": 85,
   "metadata": {},
   "outputs": [],
   "source": [
    "#Dataframe to dict\n",
    "dam = dam_df.to_dict(\"index\")"
   ]
  },
  {
   "cell_type": "code",
   "execution_count": 86,
   "metadata": {},
   "outputs": [],
   "source": [
    "#Loop over dict\n",
    "for k, v in dam.items():\n",
    "    \n",
    "    #Transform the date string to datatime.date object\n",
    "    date = datetime.date.fromisoformat(v[\"Datum\"])\n",
    "    \n",
    "    #Transfrom date to weekday number\n",
    "    v[\"weekday\"] = date.weekday()\n",
    "    \n",
    "    #Check if weekday is in the weekend\n",
    "    if date.weekday() == 5 or date.weekday() == 6:\n",
    "        v[\"is_weekend\"] = 1"
   ]
  },
  {
   "cell_type": "code",
   "execution_count": 87,
   "metadata": {},
   "outputs": [],
   "source": [
    "#Return to dict\n",
    "dam_df = pd.DataFrame.from_dict(dam, orient=\"index\")\n",
    "\n",
    "#Remove the \"Datum\" columns\n",
    "dam_df = dam_df.drop(columns=[\"Datum\"])"
   ]
  },
  {
   "cell_type": "markdown",
   "metadata": {},
   "source": [
    "#### Show contents"
   ]
  },
  {
   "cell_type": "code",
   "execution_count": 88,
   "metadata": {},
   "outputs": [
    {
     "data": {
      "text/html": [
       "<div>\n",
       "<style scoped>\n",
       "    .dataframe tbody tr th:only-of-type {\n",
       "        vertical-align: middle;\n",
       "    }\n",
       "\n",
       "    .dataframe tbody tr th {\n",
       "        vertical-align: top;\n",
       "    }\n",
       "\n",
       "    .dataframe thead th {\n",
       "        text-align: right;\n",
       "    }\n",
       "</style>\n",
       "<table border=\"1\" class=\"dataframe\">\n",
       "  <thead>\n",
       "    <tr style=\"text-align: right;\">\n",
       "      <th></th>\n",
       "      <th>UurgroepOmschrijving (van vertrek)</th>\n",
       "      <th>weekday</th>\n",
       "      <th>is_weekend</th>\n",
       "      <th>AantalRitten</th>\n",
       "    </tr>\n",
       "  </thead>\n",
       "  <tbody>\n",
       "    <tr>\n",
       "      <th>0</th>\n",
       "      <td>01:00 - 01:59</td>\n",
       "      <td>0</td>\n",
       "      <td>0</td>\n",
       "      <td>58.0</td>\n",
       "    </tr>\n",
       "    <tr>\n",
       "      <th>1</th>\n",
       "      <td>01:00 - 01:59</td>\n",
       "      <td>0</td>\n",
       "      <td>0</td>\n",
       "      <td>28.0</td>\n",
       "    </tr>\n",
       "    <tr>\n",
       "      <th>2</th>\n",
       "      <td>02:00 - 02:59</td>\n",
       "      <td>0</td>\n",
       "      <td>0</td>\n",
       "      <td>103.0</td>\n",
       "    </tr>\n",
       "    <tr>\n",
       "      <th>3</th>\n",
       "      <td>02:00 - 02:59</td>\n",
       "      <td>0</td>\n",
       "      <td>0</td>\n",
       "      <td>25.0</td>\n",
       "    </tr>\n",
       "    <tr>\n",
       "      <th>4</th>\n",
       "      <td>03:00 - 03:59</td>\n",
       "      <td>0</td>\n",
       "      <td>0</td>\n",
       "      <td>39.0</td>\n",
       "    </tr>\n",
       "  </tbody>\n",
       "</table>\n",
       "</div>"
      ],
      "text/plain": [
       "  UurgroepOmschrijving (van vertrek)  weekday  is_weekend  AantalRitten\n",
       "0                      01:00 - 01:59        0           0          58.0\n",
       "1                      01:00 - 01:59        0           0          28.0\n",
       "2                      02:00 - 02:59        0           0         103.0\n",
       "3                      02:00 - 02:59        0           0          25.0\n",
       "4                      03:00 - 03:59        0           0          39.0"
      ]
     },
     "execution_count": 88,
     "metadata": {},
     "output_type": "execute_result"
    }
   ],
   "source": [
    "dam_df.head()"
   ]
  },
  {
   "cell_type": "markdown",
   "metadata": {},
   "source": [
    "### Training/Test\n",
    "Split the dataset into training and test data"
   ]
  },
  {
   "cell_type": "code",
   "execution_count": 93,
   "metadata": {},
   "outputs": [],
   "source": [
    "#Select only the values from each row\n",
    "data = dam_df.values\n",
    "\n",
    "#Split the labels from the rest\n",
    "x = data[:, :3]\n",
    "y = data[:, 3]"
   ]
  },
  {
   "cell_type": "code",
   "execution_count": 94,
   "metadata": {},
   "outputs": [
    {
     "data": {
      "text/plain": [
       "array([58.0, 28.0, 103.0, 25.0, 39.0, 10.0, 14.0, 12.0, 10.0, 13.0, 21.0,\n",
       "       24.0, 18.0, 21.0, 62.0, 62.0, 16.0, 16.0, 107.0, 135.0, 22.0, 28.0,\n",
       "       217.0, 12.0, 185.0, 54.0, 49.0, 292.0, 19.0, 338.0, 92.0, 75.0,\n",
       "       511.0, 22.0, 374.0, 134.0, 74.0, 668.0, 49.0, 521.0, 232.0, 99.0,\n",
       "       796.0, 49.0, 506.0, 293.0, 143.0, 1033.0, 46.0, 640.0, 358.0,\n",
       "       125.0, 1190.0, 65.0, 609.0, 415.0, 137.0, 1231.0, 64.0, 595.0,\n",
       "       349.0, 140.0, 1108.0, 48.0, 242.0, 138.0, 102.0, 644.0, 35.0,\n",
       "       268.0, 82.0, 52.0, 442.0, 37.0, 238.0, 77.0, 32.0, 403.0, 23.0,\n",
       "       170.0, 53.0, 17.0, 374.0, 27.0, 189.0, 88.0, 43.0, 427.0, 12.0,\n",
       "       104.0, 18.0, 201.0, 58.0, 27.0, 45.0, 23.0, 49.0, 11.0, 10.0, 10.0,\n",
       "       16.0, 27.0, 22.0, 74.0, 65.0, 11.0, 18.0, 133.0, 109.0, 17.0, 32.0,\n",
       "       225.0, 11.0, 150.0, 27.0, 47.0, 293.0, 20.0, 202.0, 39.0, 70.0,\n",
       "       434.0, 24.0, 219.0, 85.0, 85.0, 529.0, 27.0, 408.0, 79.0, 75.0,\n",
       "       607.0, 12.0, 362.0, 108.0, 74.0, 612.0, 16.0, 328.0, 103.0, 71.0,\n",
       "       651.0, 34.0, 270.0, 74.0, 50.0, 441.0, 26.0, 276.0, 58.0, 52.0,\n",
       "       561.0, 32.0, 206.0, 54.0, 49.0, 403.0, 157.0, 61.0, 45.0, 507.0,\n",
       "       19.0, 217.0, 44.0, 32.0, 382.0, 12.0, 155.0, 35.0, 15.0, 302.0,\n",
       "       47.0, 11.0, 180.0, 41.0, 32.0, 24.0, 50.0, 11.0, 18.0, 14.0, 11.0,\n",
       "       13.0, 14.0, 32.0, 16.0, 85.0, 65.0, 34.0, 27.0, 160.0, 146.0, 72.0,\n",
       "       52.0, 281.0, 16.0, 196.0, 95.0, 41.0, 382.0, 27.0, 314.0, 107.0,\n",
       "       59.0, 646.0, 39.0, 424.0, 161.0, 65.0, 843.0, 23.0, 522.0, 217.0,\n",
       "       104.0, 1153.0, 46.0, 571.0, 214.0, 83.0, 1183.0, 34.0, 555.0,\n",
       "       224.0, 117.0, 1219.0, 34.0, 535.0, 288.0, 126.0, 969.0, 28.0,\n",
       "       441.0, 158.0, 54.0, 807.0, 44.0, 341.0, 101.0, 55.0, 613.0, 20.0,\n",
       "       283.0, 88.0, 54.0, 533.0, 20.0, 205.0, 50.0, 43.0, 411.0, 10.0,\n",
       "       168.0, 22.0, 25.0, 298.0, 17.0, 74.0, 13.0, 18.0, 153.0, 73.0,\n",
       "       29.0, 31.0, 50.0, 23.0, 14.0, 15.0, 11.0, 11.0, 13.0, 24.0, 26.0,\n",
       "       49.0, 39.0, 17.0, 17.0, 94.0, 129.0, 35.0, 23.0, 198.0, 11.0,\n",
       "       179.0, 70.0, 35.0, 324.0, 318.0, 73.0, 49.0, 514.0, 21.0, 372.0,\n",
       "       114.0, 67.0, 670.0, 23.0, 456.0, 160.0, 94.0, 900.0, 20.0, 576.0,\n",
       "       239.0, 139.0, 1100.0, 48.0, 627.0, 440.0, 160.0, 1273.0, 50.0,\n",
       "       631.0, 373.0, 163.0, 1311.0, 76.0, 597.0, 311.0, 128.0, 1216.0,\n",
       "       61.0, 501.0, 286.0, 137.0, 998.0, 26.0, 455.0, 219.0, 124.0, 809.0,\n",
       "       32.0, 386.0, 226.0, 79.0, 961.0, 41.0, 361.0, 127.0, 84.0, 706.0,\n",
       "       24.0, 173.0, 70.0, 36.0, 415.0, 86.0, 35.0, 14.0, 181.0, 77.0,\n",
       "       51.0, 48.0, 11.0, 37.0, 13.0, 11.0, 23.0, 18.0, 12.0, 21.0, 17.0,\n",
       "       29.0, 15.0, 65.0, 65.0, 17.0, 20.0, 101.0, 130.0, 48.0, 31.0,\n",
       "       170.0, 218.0, 57.0, 44.0, 386.0, 30.0, 358.0, 76.0, 43.0, 598.0,\n",
       "       36.0, 470.0, 161.0, 68.0, 765.0, 28.0, 530.0, 186.0, 81.0, 840.0,\n",
       "       47.0, 615.0, 284.0, 127.0, 1161.0, 56.0, 686.0, 378.0, 159.0,\n",
       "       1252.0, 74.0, 656.0, 410.0, 153.0, 1371.0, 79.0, 486.0, 258.0,\n",
       "       153.0, 1210.0, 59.0, 525.0, 300.0, 150.0, 910.0, 42.0, 297.0,\n",
       "       165.0, 113.0, 772.0, 30.0, 359.0, 156.0, 91.0, 569.0, 21.0, 243.0,\n",
       "       135.0, 62.0, 594.0, 33.0, 194.0, 64.0, 44.0, 483.0, 94.0, 31.0,\n",
       "       22.0, 281.0, 101.0, 49.0, 96.0, 33.0, 72.0, 25.0, 59.0, 30.0, 10.0,\n",
       "       16.0, 15.0, 40.0, 42.0, 15.0, 86.0, 118.0, 37.0, 25.0, 164.0, 16.0,\n",
       "       216.0, 42.0, 42.0, 353.0, 37.0, 294.0, 69.0, 41.0, 461.0, 13.0,\n",
       "       459.0, 113.0, 69.0, 632.0, 30.0, 513.0, 196.0, 102.0, 858.0, 22.0,\n",
       "       550.0, 190.0, 113.0, 1152.0, 56.0, 673.0, 260.0, 144.0, 1280.0,\n",
       "       39.0, 704.0, 295.0, 166.0, 1223.0, 53.0, 607.0, 271.0, 177.0,\n",
       "       1138.0, 57.0, 493.0, 177.0, 105.0, 929.0, 35.0, 439.0, 172.0,\n",
       "       129.0, 814.0, 24.0, 273.0, 117.0, 85.0, 671.0, 35.0, 282.0, 102.0,\n",
       "       50.0, 737.0, 16.0, 201.0, 42.0, 71.0, 461.0, 13.0, 115.0, 25.0,\n",
       "       258.0, 160.0, 85.0, 98.0, 22.0, 84.0, 33.0, 54.0, 26.0, 45.0, 28.0,\n",
       "       20.0, 17.0, 18.0, 25.0, 32.0, 11.0, 16.0, 69.0, 61.0, 10.0, 10.0,\n",
       "       144.0, 130.0, 66.0, 40.0, 216.0, 14.0, 273.0, 56.0, 48.0, 388.0,\n",
       "       26.0, 300.0, 105.0, 74.0, 562.0, 41.0, 459.0, 137.0, 103.0, 902.0,\n",
       "       36.0, 574.0, 206.0, 113.0, 1123.0, 35.0, 733.0, 284.0, 129.0,\n",
       "       1344.0, 50.0, 675.0, 301.0, 173.0, 1312.0, 54.0, 656.0, 268.0,\n",
       "       99.0, 1059.0, 43.0, 489.0, 177.0, 106.0, 885.0, 49.0, 436.0, 164.0,\n",
       "       86.0, 750.0, 41.0, 285.0, 104.0, 59.0, 570.0, 30.0, 266.0, 76.0,\n",
       "       36.0, 517.0, 274.0, 67.0, 42.0, 490.0, 29.0, 143.0, 24.0, 320.0,\n",
       "       12.0], dtype=object)"
      ]
     },
     "execution_count": 94,
     "metadata": {},
     "output_type": "execute_result"
    }
   ],
   "source": [
    "y"
   ]
  }
 ],
 "metadata": {
  "kernelspec": {
   "display_name": "Python 3",
   "language": "python",
   "name": "python3"
  },
  "language_info": {
   "codemirror_mode": {
    "name": "ipython",
    "version": 3
   },
   "file_extension": ".py",
   "mimetype": "text/x-python",
   "name": "python",
   "nbconvert_exporter": "python",
   "pygments_lexer": "ipython3",
   "version": "3.7.1"
  }
 },
 "nbformat": 4,
 "nbformat_minor": 2
}
