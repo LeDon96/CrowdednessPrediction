{
 "cells": [
  {
   "cell_type": "markdown",
   "metadata": {},
   "source": [
    "# Imports"
   ]
  },
  {
   "cell_type": "code",
   "execution_count": 39,
   "metadata": {},
   "outputs": [],
   "source": [
    "import pandas as pd\n",
    "import json\n",
    "\n",
    "#Train/Test section\n",
    "from sklearn.model_selection import train_test_split\n",
    "\n",
    "#Models\n",
    "from sklearn.ensemble import RandomForestRegressor"
   ]
  },
  {
   "cell_type": "markdown",
   "metadata": {},
   "source": [
    "# Import Data"
   ]
  },
  {
   "cell_type": "markdown",
   "metadata": {},
   "source": [
    "## GVB Data"
   ]
  },
  {
   "cell_type": "code",
   "execution_count": 45,
   "metadata": {},
   "outputs": [],
   "source": [
    "#Full GVB Dataset\n",
    "gvb_df = pd.read_csv(\"../../../Data_thesis/Full_Datasets/GVB.csv\")"
   ]
  },
  {
   "cell_type": "code",
   "execution_count": 46,
   "metadata": {},
   "outputs": [
    {
     "data": {
      "text/html": [
       "<div>\n",
       "<style scoped>\n",
       "    .dataframe tbody tr th:only-of-type {\n",
       "        vertical-align: middle;\n",
       "    }\n",
       "\n",
       "    .dataframe tbody tr th {\n",
       "        vertical-align: top;\n",
       "    }\n",
       "\n",
       "    .dataframe thead th {\n",
       "        text-align: right;\n",
       "    }\n",
       "</style>\n",
       "<table border=\"1\" class=\"dataframe\">\n",
       "  <thead>\n",
       "    <tr style=\"text-align: right;\">\n",
       "      <th></th>\n",
       "      <th>Datum</th>\n",
       "      <th>UurgroepOmschrijving (van vertrek)</th>\n",
       "      <th>VertrekHalteNaam</th>\n",
       "      <th>VertrekLat</th>\n",
       "      <th>VertrekLon</th>\n",
       "      <th>AankomstHalteNaam</th>\n",
       "      <th>AankomstLat</th>\n",
       "      <th>AankomstLon</th>\n",
       "      <th>weekday</th>\n",
       "      <th>is_weekend</th>\n",
       "      <th>AantalRitten</th>\n",
       "    </tr>\n",
       "  </thead>\n",
       "  <tbody>\n",
       "    <tr>\n",
       "      <th>0</th>\n",
       "      <td>1/1/2018 12:00:00</td>\n",
       "      <td>100</td>\n",
       "      <td>Nieuwezijds Kolk</td>\n",
       "      <td>4.892841</td>\n",
       "      <td>52.375754</td>\n",
       "      <td>Overig</td>\n",
       "      <td>0.000000</td>\n",
       "      <td>0.000000</td>\n",
       "      <td>0</td>\n",
       "      <td>0</td>\n",
       "      <td>27</td>\n",
       "    </tr>\n",
       "    <tr>\n",
       "      <th>1</th>\n",
       "      <td>1/1/2018 12:00:00</td>\n",
       "      <td>100</td>\n",
       "      <td>Amstelstation</td>\n",
       "      <td>4.917514</td>\n",
       "      <td>52.346473</td>\n",
       "      <td>Nieuwmarkt</td>\n",
       "      <td>4.901239</td>\n",
       "      <td>52.371942</td>\n",
       "      <td>0</td>\n",
       "      <td>0</td>\n",
       "      <td>10</td>\n",
       "    </tr>\n",
       "    <tr>\n",
       "      <th>2</th>\n",
       "      <td>1/1/2018 12:00:00</td>\n",
       "      <td>100</td>\n",
       "      <td>Nieuwmarkt</td>\n",
       "      <td>4.901239</td>\n",
       "      <td>52.371942</td>\n",
       "      <td>Overig</td>\n",
       "      <td>0.000000</td>\n",
       "      <td>0.000000</td>\n",
       "      <td>0</td>\n",
       "      <td>0</td>\n",
       "      <td>44</td>\n",
       "    </tr>\n",
       "    <tr>\n",
       "      <th>3</th>\n",
       "      <td>1/1/2018 12:00:00</td>\n",
       "      <td>100</td>\n",
       "      <td>Nieuwmarkt</td>\n",
       "      <td>4.901239</td>\n",
       "      <td>52.371942</td>\n",
       "      <td>Amstelstation</td>\n",
       "      <td>4.917514</td>\n",
       "      <td>52.346473</td>\n",
       "      <td>0</td>\n",
       "      <td>0</td>\n",
       "      <td>30</td>\n",
       "    </tr>\n",
       "    <tr>\n",
       "      <th>4</th>\n",
       "      <td>1/1/2018 12:00:00</td>\n",
       "      <td>100</td>\n",
       "      <td>Nieuwmarkt</td>\n",
       "      <td>4.901239</td>\n",
       "      <td>52.371942</td>\n",
       "      <td>Bullewijk</td>\n",
       "      <td>4.952336</td>\n",
       "      <td>52.306422</td>\n",
       "      <td>0</td>\n",
       "      <td>0</td>\n",
       "      <td>29</td>\n",
       "    </tr>\n",
       "  </tbody>\n",
       "</table>\n",
       "</div>"
      ],
      "text/plain": [
       "               Datum  UurgroepOmschrijving (van vertrek)  VertrekHalteNaam  \\\n",
       "0  1/1/2018 12:00:00                                 100  Nieuwezijds Kolk   \n",
       "1  1/1/2018 12:00:00                                 100     Amstelstation   \n",
       "2  1/1/2018 12:00:00                                 100        Nieuwmarkt   \n",
       "3  1/1/2018 12:00:00                                 100        Nieuwmarkt   \n",
       "4  1/1/2018 12:00:00                                 100        Nieuwmarkt   \n",
       "\n",
       "   VertrekLat  VertrekLon AankomstHalteNaam  AankomstLat  AankomstLon  \\\n",
       "0    4.892841   52.375754            Overig     0.000000     0.000000   \n",
       "1    4.917514   52.346473        Nieuwmarkt     4.901239    52.371942   \n",
       "2    4.901239   52.371942            Overig     0.000000     0.000000   \n",
       "3    4.901239   52.371942     Amstelstation     4.917514    52.346473   \n",
       "4    4.901239   52.371942         Bullewijk     4.952336    52.306422   \n",
       "\n",
       "   weekday  is_weekend  AantalRitten  \n",
       "0        0           0            27  \n",
       "1        0           0            10  \n",
       "2        0           0            44  \n",
       "3        0           0            30  \n",
       "4        0           0            29  "
      ]
     },
     "execution_count": 46,
     "metadata": {},
     "output_type": "execute_result"
    }
   ],
   "source": [
    "#Contents\n",
    "gvb_df.head()"
   ]
  },
  {
   "cell_type": "markdown",
   "metadata": {},
   "source": [
    "## Amsterdam Event Data"
   ]
  },
  {
   "cell_type": "code",
   "execution_count": 43,
   "metadata": {},
   "outputs": [],
   "source": [
    "#Full Events Dataset\n",
    "events_df = pd.read_csv(\"../../../Data_thesis/Full_Datasets/Events.csv\")"
   ]
  },
  {
   "cell_type": "code",
   "execution_count": 44,
   "metadata": {},
   "outputs": [
    {
     "data": {
      "text/html": [
       "<div>\n",
       "<style scoped>\n",
       "    .dataframe tbody tr th:only-of-type {\n",
       "        vertical-align: middle;\n",
       "    }\n",
       "\n",
       "    .dataframe tbody tr th {\n",
       "        vertical-align: top;\n",
       "    }\n",
       "\n",
       "    .dataframe thead th {\n",
       "        text-align: right;\n",
       "    }\n",
       "</style>\n",
       "<table border=\"1\" class=\"dataframe\">\n",
       "  <thead>\n",
       "    <tr style=\"text-align: right;\">\n",
       "      <th></th>\n",
       "      <th>Event</th>\n",
       "      <th>Coordinates</th>\n",
       "      <th>Data</th>\n",
       "    </tr>\n",
       "  </thead>\n",
       "  <tbody>\n",
       "    <tr>\n",
       "      <th>0</th>\n",
       "      <td>Springsnow Festival</td>\n",
       "      <td>{'Latitude': '52,3726380', 'Longtitude': '4,89...</td>\n",
       "      <td>{'startdate': '20-04-2018', 'enddate': '20-05-...</td>\n",
       "    </tr>\n",
       "    <tr>\n",
       "      <th>1</th>\n",
       "      <td>Vurige Tongen</td>\n",
       "      <td>{'Latitude': '52,4103320', 'Longtitude': '4,74...</td>\n",
       "      <td>{'singles': ['20-05-2018', '21-05-2018']}</td>\n",
       "    </tr>\n",
       "    <tr>\n",
       "      <th>2</th>\n",
       "      <td>Sneakerness</td>\n",
       "      <td>{'Latitude': '52,3828340', 'Longtitude': '4,92...</td>\n",
       "      <td>{'singles': ['03-06-2018', '04-06-2018']}</td>\n",
       "    </tr>\n",
       "    <tr>\n",
       "      <th>3</th>\n",
       "      <td>Dutch Raw Food Festival</td>\n",
       "      <td>{'Latitude': '52,4362550', 'Longtitude': '4,81...</td>\n",
       "      <td>{'singles': ['17-06-2018']}</td>\n",
       "    </tr>\n",
       "    <tr>\n",
       "      <th>4</th>\n",
       "      <td>Holland Festival</td>\n",
       "      <td>{'Latitude': '52,3615820', 'Longtitude': '4,88...</td>\n",
       "      <td>{'singles': ['02-06-2018', '03-06-2018', '04-0...</td>\n",
       "    </tr>\n",
       "  </tbody>\n",
       "</table>\n",
       "</div>"
      ],
      "text/plain": [
       "                     Event                                        Coordinates  \\\n",
       "0      Springsnow Festival  {'Latitude': '52,3726380', 'Longtitude': '4,89...   \n",
       "1            Vurige Tongen  {'Latitude': '52,4103320', 'Longtitude': '4,74...   \n",
       "2              Sneakerness  {'Latitude': '52,3828340', 'Longtitude': '4,92...   \n",
       "3  Dutch Raw Food Festival  {'Latitude': '52,4362550', 'Longtitude': '4,81...   \n",
       "4         Holland Festival  {'Latitude': '52,3615820', 'Longtitude': '4,88...   \n",
       "\n",
       "                                                Data  \n",
       "0  {'startdate': '20-04-2018', 'enddate': '20-05-...  \n",
       "1          {'singles': ['20-05-2018', '21-05-2018']}  \n",
       "2          {'singles': ['03-06-2018', '04-06-2018']}  \n",
       "3                        {'singles': ['17-06-2018']}  \n",
       "4  {'singles': ['02-06-2018', '03-06-2018', '04-0...  "
      ]
     },
     "execution_count": 44,
     "metadata": {},
     "output_type": "execute_result"
    }
   ],
   "source": [
    "events_df.head()"
   ]
  },
  {
   "cell_type": "markdown",
   "metadata": {},
   "source": [
    "# Data Preperation"
   ]
  },
  {
   "cell_type": "markdown",
   "metadata": {},
   "source": [
    "## Train/Test Split\n",
    "Split the dataset into training and test data, using a [function from Sklearn](https://scikit-learn.org/stable/modules/generated/sklearn.model_selection.train_test_split.html)\n",
    "\n",
    "#### Train_Test_split Parameters\n",
    "- *input*: \n",
    "    - *x*: data used to predict laballed data\n",
    "        - Hour slot\n",
    "        - Weekday (int)\n",
    "        - Weekend (Binary)\n",
    "    - *y*: laballed data\n",
    "        - Number of rides (int)\n",
    "- *test_size*: Proportion of total data used as test data, rest is training data\n",
    "- *random_state*: Number used as seed by the *Random Number Generator* "
   ]
  },
  {
   "cell_type": "code",
   "execution_count": 47,
   "metadata": {},
   "outputs": [],
   "source": [
    "#Drop Unusable columns\n",
    "gvb_df = gvb_df.drop(columns=[\"Datum\", \"VertrekHalteNaam\", \"AankomstHalteNaam\"])\n",
    "\n",
    "#Select only the values from each row\n",
    "data = gvb_df.values\n",
    "\n",
    "#Split the labels from the rest\n",
    "x = data[:, :7]\n",
    "y = data[:, 7]\n",
    "\n",
    "x_train, x_test, y_train, y_test = train_test_split(x, y, test_size = 0.1, random_state = 42)"
   ]
  },
  {
   "cell_type": "code",
   "execution_count": 48,
   "metadata": {},
   "outputs": [
    {
     "data": {
      "text/plain": [
       "array([[1.30000000e+03, 4.88932991e+00, 5.23693307e+01, 4.89921803e+00,\n",
       "        5.23781079e+01, 5.00000000e+00, 1.00000000e+00],\n",
       "       [1.60000000e+03, 4.89373093e+00, 5.23762877e+01, 0.00000000e+00,\n",
       "        0.00000000e+00, 6.00000000e+00, 1.00000000e+00],\n",
       "       [1.80000000e+03, 4.89079364e+00, 5.23736779e+01, 4.86292316e+00,\n",
       "        5.23648757e+01, 0.00000000e+00, 0.00000000e+00]])"
      ]
     },
     "execution_count": 48,
     "metadata": {},
     "output_type": "execute_result"
    }
   ],
   "source": [
    "#First three rows explanatory variables of the training set\n",
    "x_train[:3]"
   ]
  },
  {
   "cell_type": "code",
   "execution_count": 49,
   "metadata": {},
   "outputs": [
    {
     "data": {
      "text/plain": [
       "array([32., 17., 10.])"
      ]
     },
     "execution_count": 49,
     "metadata": {},
     "output_type": "execute_result"
    }
   ],
   "source": [
    "#First three rows response variable training set\n",
    "y_train[:3]"
   ]
  },
  {
   "cell_type": "code",
   "execution_count": 50,
   "metadata": {},
   "outputs": [
    {
     "data": {
      "text/html": [
       "<div>\n",
       "<style scoped>\n",
       "    .dataframe tbody tr th:only-of-type {\n",
       "        vertical-align: middle;\n",
       "    }\n",
       "\n",
       "    .dataframe tbody tr th {\n",
       "        vertical-align: top;\n",
       "    }\n",
       "\n",
       "    .dataframe thead th {\n",
       "        text-align: right;\n",
       "    }\n",
       "</style>\n",
       "<table border=\"1\" class=\"dataframe\">\n",
       "  <thead>\n",
       "    <tr style=\"text-align: right;\">\n",
       "      <th></th>\n",
       "      <th>UurgroepOmschrijving (van vertrek)</th>\n",
       "      <th>VertrekLat</th>\n",
       "      <th>VertrekLon</th>\n",
       "      <th>AankomstLat</th>\n",
       "      <th>AankomstLon</th>\n",
       "      <th>weekday</th>\n",
       "      <th>is_weekend</th>\n",
       "      <th>AantalRitten</th>\n",
       "    </tr>\n",
       "  </thead>\n",
       "  <tbody>\n",
       "    <tr>\n",
       "      <th>0</th>\n",
       "      <td>100</td>\n",
       "      <td>4.892841</td>\n",
       "      <td>52.375754</td>\n",
       "      <td>0.000000</td>\n",
       "      <td>0.000000</td>\n",
       "      <td>0</td>\n",
       "      <td>0</td>\n",
       "      <td>27</td>\n",
       "    </tr>\n",
       "    <tr>\n",
       "      <th>1</th>\n",
       "      <td>100</td>\n",
       "      <td>4.917514</td>\n",
       "      <td>52.346473</td>\n",
       "      <td>4.901239</td>\n",
       "      <td>52.371942</td>\n",
       "      <td>0</td>\n",
       "      <td>0</td>\n",
       "      <td>10</td>\n",
       "    </tr>\n",
       "    <tr>\n",
       "      <th>2</th>\n",
       "      <td>100</td>\n",
       "      <td>4.901239</td>\n",
       "      <td>52.371942</td>\n",
       "      <td>0.000000</td>\n",
       "      <td>0.000000</td>\n",
       "      <td>0</td>\n",
       "      <td>0</td>\n",
       "      <td>44</td>\n",
       "    </tr>\n",
       "    <tr>\n",
       "      <th>3</th>\n",
       "      <td>100</td>\n",
       "      <td>4.901239</td>\n",
       "      <td>52.371942</td>\n",
       "      <td>4.917514</td>\n",
       "      <td>52.346473</td>\n",
       "      <td>0</td>\n",
       "      <td>0</td>\n",
       "      <td>30</td>\n",
       "    </tr>\n",
       "    <tr>\n",
       "      <th>4</th>\n",
       "      <td>100</td>\n",
       "      <td>4.901239</td>\n",
       "      <td>52.371942</td>\n",
       "      <td>4.952336</td>\n",
       "      <td>52.306422</td>\n",
       "      <td>0</td>\n",
       "      <td>0</td>\n",
       "      <td>29</td>\n",
       "    </tr>\n",
       "  </tbody>\n",
       "</table>\n",
       "</div>"
      ],
      "text/plain": [
       "   UurgroepOmschrijving (van vertrek)  VertrekLat  VertrekLon  AankomstLat  \\\n",
       "0                                 100    4.892841   52.375754     0.000000   \n",
       "1                                 100    4.917514   52.346473     4.901239   \n",
       "2                                 100    4.901239   52.371942     0.000000   \n",
       "3                                 100    4.901239   52.371942     4.917514   \n",
       "4                                 100    4.901239   52.371942     4.952336   \n",
       "\n",
       "   AankomstLon  weekday  is_weekend  AantalRitten  \n",
       "0     0.000000        0           0            27  \n",
       "1    52.371942        0           0            10  \n",
       "2     0.000000        0           0            44  \n",
       "3    52.346473        0           0            30  \n",
       "4    52.306422        0           0            29  "
      ]
     },
     "execution_count": 50,
     "metadata": {},
     "output_type": "execute_result"
    }
   ],
   "source": [
    "gvb_df.head()"
   ]
  },
  {
   "cell_type": "markdown",
   "metadata": {},
   "source": [
    "# Models"
   ]
  },
  {
   "cell_type": "markdown",
   "metadata": {},
   "source": [
    "## Random Forrest Regressor\n",
    "Implement the [Sklearn Version](https://scikit-learn.org/stable/modules/generated/sklearn.ensemble.RandomForestRegressor.html)\n",
    "\n",
    "Parameters\n",
    "- *N-Estimators*: Number of trees in the model\n",
    "- *criterion*: loss function\n",
    "- *n_jobs*: The number of jobs to run in parallel for both fit and predict\n",
    "- *random_state*: random_state is the seed used by the random number generator\n",
    "- *bootstrap*: Whether bootstrap samples are used when building trees"
   ]
  },
  {
   "cell_type": "code",
   "execution_count": 51,
   "metadata": {},
   "outputs": [],
   "source": [
    "#Set parameters model\n",
    "rfg = RandomForestRegressor(n_estimators=100, criterion=\"mse\", n_jobs=5, random_state=42, bootstrap=True)"
   ]
  },
  {
   "cell_type": "code",
   "execution_count": 52,
   "metadata": {},
   "outputs": [
    {
     "data": {
      "text/plain": [
       "RandomForestRegressor(bootstrap=True, criterion='mse', max_depth=None,\n",
       "           max_features='auto', max_leaf_nodes=None,\n",
       "           min_impurity_decrease=0.0, min_impurity_split=None,\n",
       "           min_samples_leaf=1, min_samples_split=2,\n",
       "           min_weight_fraction_leaf=0.0, n_estimators=100, n_jobs=5,\n",
       "           oob_score=False, random_state=42, verbose=0, warm_start=False)"
      ]
     },
     "execution_count": 52,
     "metadata": {},
     "output_type": "execute_result"
    }
   ],
   "source": [
    "#fit the model\n",
    "rfg.fit(x_train, y_train)"
   ]
  },
  {
   "cell_type": "code",
   "execution_count": 53,
   "metadata": {},
   "outputs": [
    {
     "name": "stdout",
     "output_type": "stream",
     "text": [
      "Accuracy:  0.8604274733629216\n"
     ]
    }
   ],
   "source": [
    "#Score the model\n",
    "rfg_score = rfg.score(x_test, y_test)\n",
    "print(\"Accuracy: \", rfg_score)"
   ]
  }
 ],
 "metadata": {
  "kernelspec": {
   "display_name": "Python 3",
   "language": "python",
   "name": "python3"
  },
  "language_info": {
   "codemirror_mode": {
    "name": "ipython",
    "version": 3
   },
   "file_extension": ".py",
   "mimetype": "text/x-python",
   "name": "python",
   "nbconvert_exporter": "python",
   "pygments_lexer": "ipython3",
   "version": "3.7.1"
  }
 },
 "nbformat": 4,
 "nbformat_minor": 2
}
