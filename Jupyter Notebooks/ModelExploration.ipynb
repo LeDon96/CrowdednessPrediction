{
 "cells": [
  {
   "cell_type": "markdown",
   "metadata": {},
   "source": [
    "# Model Exploration"
   ]
  },
  {
   "cell_type": "markdown",
   "metadata": {},
   "source": [
    "## Imports <a name=\"imports\"></a>"
   ]
  },
  {
   "cell_type": "code",
   "execution_count": 1,
   "metadata": {},
   "outputs": [],
   "source": [
    "#Regression Models\n",
    "from sklearn.linear_model import LinearRegression\n",
    "from sklearn.ensemble import RandomForestRegressor\n",
    "from sklearn.ensemble import GradientBoostingRegressor\n",
    "from sklearn.linear_model import LassoCV\n",
    "\n",
    "#Regression Metrics\n",
    "from sklearn.metrics import mean_squared_error\n",
    "\n",
    "#Classification Models\n",
    "from sklearn.cluster import KMeans\n",
    "from scipy.stats import norm\n",
    "from sklearn.dummy import DummyClassifier\n",
    "from sklearn.ensemble import RandomForestClassifier\n",
    "from sklearn.ensemble import GradientBoostingClassifier\n",
    "from sklearn.svm import SVC\n",
    "from sklearn.ensemble import VotingClassifier\n",
    "\n",
    "#XGBoost\n",
    "import xgboost as xgb\n",
    "\n",
    "#Classification Metrics\n",
    "from sklearn.metrics import classification_report\n",
    "from sklearn.metrics import accuracy_score\n",
    "\n",
    "import pandas as pd\n",
    "import json\n",
    "import numpy as np\n",
    "import matplotlib.pyplot as plt\n",
    "%matplotlib inline\n",
    "\n",
    "from yellowbrick.classifier import ClassPredictionError\n",
    "from yellowbrick.regressor import PredictionError\n",
    "from yellowbrick.features import Rank1D\n",
    "from yellowbrick.features import Rank2D\n",
    "from yellowbrick.features import RadViz\n",
    "\n",
    "import datetime"
   ]
  },
  {
   "cell_type": "markdown",
   "metadata": {},
   "source": [
    "## Import Data <a name=\"importData\"></a>"
   ]
  },
  {
   "cell_type": "code",
   "execution_count": 2,
   "metadata": {},
   "outputs": [],
   "source": [
    "full_df = pd.read_csv(\"../../../Data_thesis/Full_Datasets/Full.csv\")\n",
    "full_df[\"Date\"] = pd.to_datetime(full_df[\"Date\"], format=\"%Y-%m-%d\")"
   ]
  },
  {
   "cell_type": "code",
   "execution_count": 3,
   "metadata": {},
   "outputs": [
    {
     "data": {
      "text/html": [
       "<div>\n",
       "<style scoped>\n",
       "    .dataframe tbody tr th:only-of-type {\n",
       "        vertical-align: middle;\n",
       "    }\n",
       "\n",
       "    .dataframe tbody tr th {\n",
       "        vertical-align: top;\n",
       "    }\n",
       "\n",
       "    .dataframe thead th {\n",
       "        text-align: right;\n",
       "    }\n",
       "</style>\n",
       "<table border=\"1\" class=\"dataframe\">\n",
       "  <thead>\n",
       "    <tr style=\"text-align: right;\">\n",
       "      <th></th>\n",
       "      <th>Date</th>\n",
       "      <th>Hour</th>\n",
       "      <th>Nieuwmarkt Arrivals</th>\n",
       "      <th>Nieuwezijds Kolk Arrivals</th>\n",
       "      <th>Dam Arrivals</th>\n",
       "      <th>Spui Arrivals</th>\n",
       "      <th>Nieuwmarkt Departures</th>\n",
       "      <th>Nieuwezijds Kolk Departures</th>\n",
       "      <th>Dam Departures</th>\n",
       "      <th>Spui Departures</th>\n",
       "      <th>...</th>\n",
       "      <th>SensorLatitude</th>\n",
       "      <th>CrowdednessCount</th>\n",
       "      <th>is_event</th>\n",
       "      <th>Year</th>\n",
       "      <th>month_sin</th>\n",
       "      <th>month_cos</th>\n",
       "      <th>day_sin</th>\n",
       "      <th>day_cos</th>\n",
       "      <th>hour_sin</th>\n",
       "      <th>hour_cos</th>\n",
       "    </tr>\n",
       "  </thead>\n",
       "  <tbody>\n",
       "    <tr>\n",
       "      <th>0</th>\n",
       "      <td>2018-03-11</td>\n",
       "      <td>2400</td>\n",
       "      <td>77.0</td>\n",
       "      <td>38.0</td>\n",
       "      <td>187.0</td>\n",
       "      <td>40.0</td>\n",
       "      <td>198.0</td>\n",
       "      <td>63.0</td>\n",
       "      <td>411.0</td>\n",
       "      <td>87.0</td>\n",
       "      <td>...</td>\n",
       "      <td>6</td>\n",
       "      <td>0</td>\n",
       "      <td>0.0</td>\n",
       "      <td>2018</td>\n",
       "      <td>1.0</td>\n",
       "      <td>6.123234e-17</td>\n",
       "      <td>0.188227</td>\n",
       "      <td>0.982126</td>\n",
       "      <td>-2.449294e-16</td>\n",
       "      <td>1.000000</td>\n",
       "    </tr>\n",
       "    <tr>\n",
       "      <th>1</th>\n",
       "      <td>2018-03-11</td>\n",
       "      <td>2100</td>\n",
       "      <td>136.0</td>\n",
       "      <td>80.0</td>\n",
       "      <td>409.0</td>\n",
       "      <td>40.0</td>\n",
       "      <td>211.0</td>\n",
       "      <td>119.0</td>\n",
       "      <td>858.0</td>\n",
       "      <td>94.0</td>\n",
       "      <td>...</td>\n",
       "      <td>0</td>\n",
       "      <td>21</td>\n",
       "      <td>0.0</td>\n",
       "      <td>2018</td>\n",
       "      <td>1.0</td>\n",
       "      <td>6.123234e-17</td>\n",
       "      <td>0.188227</td>\n",
       "      <td>0.982126</td>\n",
       "      <td>-7.071068e-01</td>\n",
       "      <td>0.707107</td>\n",
       "    </tr>\n",
       "    <tr>\n",
       "      <th>2</th>\n",
       "      <td>2018-03-11</td>\n",
       "      <td>2100</td>\n",
       "      <td>136.0</td>\n",
       "      <td>80.0</td>\n",
       "      <td>409.0</td>\n",
       "      <td>40.0</td>\n",
       "      <td>211.0</td>\n",
       "      <td>119.0</td>\n",
       "      <td>858.0</td>\n",
       "      <td>94.0</td>\n",
       "      <td>...</td>\n",
       "      <td>9</td>\n",
       "      <td>88</td>\n",
       "      <td>0.0</td>\n",
       "      <td>2018</td>\n",
       "      <td>1.0</td>\n",
       "      <td>6.123234e-17</td>\n",
       "      <td>0.188227</td>\n",
       "      <td>0.982126</td>\n",
       "      <td>-7.071068e-01</td>\n",
       "      <td>0.707107</td>\n",
       "    </tr>\n",
       "    <tr>\n",
       "      <th>3</th>\n",
       "      <td>2018-03-11</td>\n",
       "      <td>2100</td>\n",
       "      <td>136.0</td>\n",
       "      <td>80.0</td>\n",
       "      <td>409.0</td>\n",
       "      <td>40.0</td>\n",
       "      <td>211.0</td>\n",
       "      <td>119.0</td>\n",
       "      <td>858.0</td>\n",
       "      <td>94.0</td>\n",
       "      <td>...</td>\n",
       "      <td>2</td>\n",
       "      <td>49</td>\n",
       "      <td>0.0</td>\n",
       "      <td>2018</td>\n",
       "      <td>1.0</td>\n",
       "      <td>6.123234e-17</td>\n",
       "      <td>0.188227</td>\n",
       "      <td>0.982126</td>\n",
       "      <td>-7.071068e-01</td>\n",
       "      <td>0.707107</td>\n",
       "    </tr>\n",
       "    <tr>\n",
       "      <th>4</th>\n",
       "      <td>2018-03-11</td>\n",
       "      <td>2200</td>\n",
       "      <td>116.0</td>\n",
       "      <td>64.0</td>\n",
       "      <td>288.0</td>\n",
       "      <td>21.0</td>\n",
       "      <td>210.0</td>\n",
       "      <td>103.0</td>\n",
       "      <td>732.0</td>\n",
       "      <td>98.0</td>\n",
       "      <td>...</td>\n",
       "      <td>8</td>\n",
       "      <td>2900</td>\n",
       "      <td>0.0</td>\n",
       "      <td>2018</td>\n",
       "      <td>1.0</td>\n",
       "      <td>6.123234e-17</td>\n",
       "      <td>0.188227</td>\n",
       "      <td>0.982126</td>\n",
       "      <td>-5.000000e-01</td>\n",
       "      <td>0.866025</td>\n",
       "    </tr>\n",
       "  </tbody>\n",
       "</table>\n",
       "<p>5 rows × 24 columns</p>\n",
       "</div>"
      ],
      "text/plain": [
       "        Date  Hour  Nieuwmarkt Arrivals  Nieuwezijds Kolk Arrivals  \\\n",
       "0 2018-03-11  2400                 77.0                       38.0   \n",
       "1 2018-03-11  2100                136.0                       80.0   \n",
       "2 2018-03-11  2100                136.0                       80.0   \n",
       "3 2018-03-11  2100                136.0                       80.0   \n",
       "4 2018-03-11  2200                116.0                       64.0   \n",
       "\n",
       "   Dam Arrivals  Spui Arrivals  Nieuwmarkt Departures  \\\n",
       "0         187.0           40.0                  198.0   \n",
       "1         409.0           40.0                  211.0   \n",
       "2         409.0           40.0                  211.0   \n",
       "3         409.0           40.0                  211.0   \n",
       "4         288.0           21.0                  210.0   \n",
       "\n",
       "   Nieuwezijds Kolk Departures  Dam Departures  Spui Departures  ...  \\\n",
       "0                         63.0           411.0             87.0  ...   \n",
       "1                        119.0           858.0             94.0  ...   \n",
       "2                        119.0           858.0             94.0  ...   \n",
       "3                        119.0           858.0             94.0  ...   \n",
       "4                        103.0           732.0             98.0  ...   \n",
       "\n",
       "   SensorLatitude  CrowdednessCount is_event  Year  month_sin     month_cos  \\\n",
       "0               6                 0      0.0  2018        1.0  6.123234e-17   \n",
       "1               0                21      0.0  2018        1.0  6.123234e-17   \n",
       "2               9                88      0.0  2018        1.0  6.123234e-17   \n",
       "3               2                49      0.0  2018        1.0  6.123234e-17   \n",
       "4               8              2900      0.0  2018        1.0  6.123234e-17   \n",
       "\n",
       "    day_sin   day_cos      hour_sin  hour_cos  \n",
       "0  0.188227  0.982126 -2.449294e-16  1.000000  \n",
       "1  0.188227  0.982126 -7.071068e-01  0.707107  \n",
       "2  0.188227  0.982126 -7.071068e-01  0.707107  \n",
       "3  0.188227  0.982126 -7.071068e-01  0.707107  \n",
       "4  0.188227  0.982126 -5.000000e-01  0.866025  \n",
       "\n",
       "[5 rows x 24 columns]"
      ]
     },
     "execution_count": 3,
     "metadata": {},
     "output_type": "execute_result"
    }
   ],
   "source": [
    "full_df.head()"
   ]
  },
  {
   "cell_type": "markdown",
   "metadata": {},
   "source": [
    "### Visualization"
   ]
  },
  {
   "cell_type": "code",
   "execution_count": 6,
   "metadata": {},
   "outputs": [],
   "source": [
    "x = full_df.drop([\"CrowdednessCount\", \"Date\", \"Hour\", \"Sensor\"], axis=1)\n",
    "y = full_df[\"CrowdednessCount\"]"
   ]
  },
  {
   "cell_type": "code",
   "execution_count": 7,
   "metadata": {},
   "outputs": [
    {
     "name": "stderr",
     "output_type": "stream",
     "text": [
      "D:\\Programs\\Anaconda\\envs\\Analytics\\lib\\site-packages\\yellowbrick\\features\\rankd.py:262: FutureWarning: Method .as_matrix will be removed in a future version. Use .values instead.\n",
      "  X = X.as_matrix()\n",
      "D:\\Programs\\Anaconda\\envs\\Analytics\\lib\\site-packages\\scipy\\stats\\morestats.py:1653: UserWarning: p-value may not be accurate for N > 5000.\n",
      "  warnings.warn(\"p-value may not be accurate for N > 5000.\")\n"
     ]
    },
    {
     "data": {
      "image/png": "[encoded data removed]",
      "text/plain": [
       "<Figure size 432x288 with 1 Axes>"
      ]
     },
     "metadata": {
      "needs_background": "light"
     },
     "output_type": "display_data"
    }
   ],
   "source": [
    "#Rank features - 1D\n",
    "visualizer = Rank1D(algorithm='shapiro')\n",
    "\n",
    "visualizer.fit(x, y)                # Fit the data to the visualizer\n",
    "visualizer.transform(x)             # Transform the data\n",
    "visualizer.poof() "
   ]
  },
  {
   "cell_type": "code",
   "execution_count": 8,
   "metadata": {},
   "outputs": [
    {
     "data": {
      "image/png": "[encoded data removed]",
      "text/plain": [
       "<Figure size 432x288 with 2 Axes>"
      ]
     },
     "metadata": {
      "needs_background": "light"
     },
     "output_type": "display_data"
    }
   ],
   "source": [
    "visualizer = Rank2D(algorithm='covariance')\n",
    "visualizer.fit(x, y)                # Fit the data to the visualizer\n",
    "visualizer.transform(x)             # Transform the data\n",
    "visualizer.poof() "
   ]
  },
  {
   "cell_type": "markdown",
   "metadata": {},
   "source": [
    "## Classification Models <a name=\"classification\"></a>"
   ]
  },
  {
   "cell_type": "markdown",
   "metadata": {},
   "source": [
    "### Change numerical labels to categorical labels <a name=\"classCatVar\"></a>"
   ]
  },
  {
   "cell_type": "code",
   "execution_count": null,
   "metadata": {},
   "outputs": [],
   "source": [
    "low_split = TrainTest_df[\"CrowdednessCount\"].quantile(.25)\n",
    "mid_split = TrainTest_df[\"CrowdednessCount\"].quantile(.5)\n",
    "high_split = TrainTest_df[\"CrowdednessCount\"].quantile(.75)"
   ]
  },
  {
   "cell_type": "code",
   "execution_count": null,
   "metadata": {},
   "outputs": [],
   "source": [
    "clas_dict = TrainTest_df.to_dict(\"index\")\n",
    "\n",
    "for k, v in clas_dict.items():\n",
    "    \n",
    "    if v[\"CrowdednessCount\"] < low_split:\n",
    "        v[\"CrowdednessCount\"] = 1\n",
    "    elif v[\"CrowdednessCount\"] >= low_split and v[\"CrowdednessCount\"] < mid_split:\n",
    "        v[\"CrowdednessCount\"] = 2\n",
    "    elif v[\"CrowdednessCount\"] >= mid_split and v[\"CrowdednessCount\"] < high_split:\n",
    "        v[\"CrowdednessCount\"] = 3\n",
    "    elif v[\"CrowdednessCount\"] >= high_split:\n",
    "        v[\"CrowdednessCount\"] = 4\n",
    "    else:\n",
    "        print (k, \" has class error as it fits in none\")\n",
    "    \n",
    "clas_model_df = pd.DataFrame.from_dict(clas_dict, orient=\"index\")"
   ]
  },
  {
   "cell_type": "code",
   "execution_count": null,
   "metadata": {},
   "outputs": [],
   "source": [
    "series_dict = TimeSeries_df.to_dict(\"index\")\n",
    "\n",
    "for k, v in series_dict.items():\n",
    "    \n",
    "    if v[\"CrowdednessCount\"] < low_split:\n",
    "        v[\"CrowdednessCount\"] = 1\n",
    "    elif v[\"CrowdednessCount\"] >= low_split and v[\"CrowdednessCount\"] < mid_split:\n",
    "        v[\"CrowdednessCount\"] = 2\n",
    "    elif v[\"CrowdednessCount\"] >= mid_split and v[\"CrowdednessCount\"] < high_split:\n",
    "        v[\"CrowdednessCount\"] = 3\n",
    "    elif v[\"CrowdednessCount\"] >= high_split:\n",
    "        v[\"CrowdednessCount\"] = 4\n",
    "    else:\n",
    "        print (k, \" has class error as it fits in none\")\n",
    "    \n",
    "TimeSeries_df_clas = pd.DataFrame.from_dict(series_dict, orient=\"index\")    "
   ]
  },
  {
   "cell_type": "code",
   "execution_count": null,
   "metadata": {},
   "outputs": [],
   "source": [
    "TimeSeries_df_clas.head()"
   ]
  },
  {
   "cell_type": "code",
   "execution_count": null,
   "metadata": {},
   "outputs": [],
   "source": [
    "train_df_clas = clas_model_df[clas_model_df[\"Date\"].isin(train_set_dates)].reset_index().drop(columns=[\"Date\",\"index\"])\n",
    "\n",
    "test_df_clas = clas_model_df[clas_model_df[\"Date\"].isin(test_set_dates)].reset_index().drop(columns=[\"index\"])"
   ]
  },
  {
   "cell_type": "code",
   "execution_count": null,
   "metadata": {},
   "outputs": [],
   "source": [
    "#Train\n",
    "x_train_clas = train_df_clas.drop([\"CrowdednessCount\"], axis=1)\n",
    "y_train_clas = train_df_clas[\"CrowdednessCount\"]\n",
    "\n",
    "#Test\n",
    "x_test_clas = test_df_clas.drop([\"CrowdednessCount\", \"Date\"], axis=1)\n",
    "y_test_clas = test_df_clas[\"CrowdednessCount\"]\n",
    "\n",
    "test_clas_series = test_df_clas[(test_df_clas[\"SensorLatitude\"] == test_lat) & \n",
    "                              (test_df_clas[\"Date\"] == test_set_dates[0])].reset_index()\n",
    "x_test_clas_series = test_clas_series.drop([\"CrowdednessCount\", \"Date\", \"index\"], axis=1)\n",
    "y_test_clas_series = test_clas_series[\"CrowdednessCount\"]\n",
    "\n",
    "#Time series\n",
    "x_eval_clas = TimeSeries_df_clas.drop([\"CrowdednessCount\", \"Date\"], axis=1)\n",
    "y_eval_clas = TimeSeries_df_clas[\"CrowdednessCount\"]\n",
    "\n",
    "sub_series_clas = TimeSeries_df_clas[(TimeSeries_df_clas[\"SensorLatitude\"] == test_lat) & \n",
    "                           (TimeSeries_df_clas[\"Date\"] >= eval_start_date) & \n",
    "                           (TimeSeries_df_clas[\"Date\"] <= eval_end_date)].reset_index()\n",
    "\n",
    "x_series_clas = sub_series_clas.drop([\"CrowdednessCount\", \"Date\",\"index\"], axis=1)\n",
    "y_series_clas = sub_series_clas[\"CrowdednessCount\"]"
   ]
  },
  {
   "cell_type": "markdown",
   "metadata": {},
   "source": [
    "### Baseline <a name=\"classBaseModel\"></a>\n",
    "Implemented the [Sklearn Version](https://scikit-learn.org/stable/modules/generated/sklearn.dummy.DummyClassifier.html#sklearn.dummy.DummyClassifier)\n",
    "\n",
    "Parameters\n",
    "- *strategy*: \"stratified” - generates predictions by respecting the training set’s class distribution."
   ]
  },
  {
   "cell_type": "markdown",
   "metadata": {},
   "source": [
    "#### Training"
   ]
  },
  {
   "cell_type": "code",
   "execution_count": null,
   "metadata": {},
   "outputs": [],
   "source": [
    "clas_bas = DummyClassifier(strategy=\"stratified\", random_state=42)"
   ]
  },
  {
   "cell_type": "code",
   "execution_count": null,
   "metadata": {},
   "outputs": [],
   "source": [
    "clas_bas.fit(x_train_clas, y_train_clas)"
   ]
  },
  {
   "cell_type": "markdown",
   "metadata": {},
   "source": [
    "#### Test"
   ]
  },
  {
   "cell_type": "code",
   "execution_count": null,
   "metadata": {},
   "outputs": [],
   "source": [
    "y_pred_clas_bas = clas_bas.predict(x_test_clas)\n",
    "\n",
    "print(\"Accuracy Score: \", accuracy_score(y_test_clas, y_pred_clas_bas))\n",
    "print(classification_report(y_test_clas, y_pred_clas_bas))"
   ]
  },
  {
   "cell_type": "code",
   "execution_count": null,
   "metadata": {},
   "outputs": [],
   "source": [
    "visualizer = ClassPredictionError(\n",
    "    clas_bas\n",
    ")\n",
    "\n",
    "visualizer.fit(x_train_clas, y_train_clas)\n",
    "visualizer.score(x_test_clas, y_test_clas)\n",
    "g = visualizer.poof()"
   ]
  },
  {
   "cell_type": "code",
   "execution_count": null,
   "metadata": {},
   "outputs": [],
   "source": [
    "#Time series\n",
    "time_pred_bas_clas = clas_bas.predict(x_test_clas_series)\n",
    "\n",
    "time_pred_series_bas_clas = pd.Series(time_pred_bas_clas)\n",
    "time_real_series_bas_clas = pd.Series(y_test_clas_series)"
   ]
  },
  {
   "cell_type": "code",
   "execution_count": null,
   "metadata": {},
   "outputs": [],
   "source": [
    "time_pred_series_bas_clas.plot(legend=True, title='Crowdedness Prediction - Baseline', label=\"Predicted\")\n",
    "time_real_series_bas_clas.plot(legend=True, label=\"Actual\")\n",
    "plt.show()"
   ]
  },
  {
   "cell_type": "markdown",
   "metadata": {},
   "source": [
    "#### Evaluation"
   ]
  },
  {
   "cell_type": "code",
   "execution_count": null,
   "metadata": {},
   "outputs": [],
   "source": [
    "y_pred_bas = clas_bas.predict(x_eval_clas)\n",
    "\n",
    "print(\"Accuracy Score: \", accuracy_score(y_eval_clas, y_pred_bas))\n",
    "print(classification_report(y_eval_clas, y_pred_bas))"
   ]
  },
  {
   "cell_type": "code",
   "execution_count": null,
   "metadata": {},
   "outputs": [],
   "source": [
    "visualizer = ClassPredictionError(\n",
    "    clas_bas\n",
    ")\n",
    "\n",
    "visualizer.fit(x_train_clas, y_train_clas)\n",
    "visualizer.score(x_eval_clas, y_eval_clas)\n",
    "g = visualizer.poof()"
   ]
  },
  {
   "cell_type": "code",
   "execution_count": null,
   "metadata": {},
   "outputs": [],
   "source": [
    "#Time series\n",
    "time_pred_bas = clas_bas.predict(x_series_clas)\n",
    "\n",
    "time_pred_series_bas = pd.Series(time_pred_bas)\n",
    "time_real_series_bas = pd.Series(y_series_clas)"
   ]
  },
  {
   "cell_type": "code",
   "execution_count": null,
   "metadata": {},
   "outputs": [],
   "source": [
    "time_pred_series_bas.plot(legend=True, title='Crowdedness Prediction - Baseline', label=\"Predicted\")\n",
    "time_real_series_bas.plot(legend=True, label=\"Actual\")\n",
    "plt.show()"
   ]
  },
  {
   "cell_type": "markdown",
   "metadata": {},
   "source": [
    "### Random Forrest Classifier <a name=\"classRFCModel\"></a>\n",
    "Implemented the [Sklearn Version](https://scikit-learn.org/stable/modules/generated/sklearn.ensemble.RandomForestClassifier.html#sklearn.ensemble.RandomForestClassifier)"
   ]
  },
  {
   "cell_type": "markdown",
   "metadata": {},
   "source": [
    "#### Train"
   ]
  },
  {
   "cell_type": "code",
   "execution_count": null,
   "metadata": {},
   "outputs": [],
   "source": [
    "clas_rfc = RandomForestClassifier(n_estimators=300, criterion=\"entropy\", n_jobs=50, random_state=42, \n",
    "                                  class_weight=\"balanced\", oob_score=\"True\")"
   ]
  },
  {
   "cell_type": "code",
   "execution_count": null,
   "metadata": {},
   "outputs": [],
   "source": [
    "clas_rfc.fit(x_train_clas, y_train_clas)"
   ]
  },
  {
   "cell_type": "markdown",
   "metadata": {},
   "source": [
    "#### Test"
   ]
  },
  {
   "cell_type": "code",
   "execution_count": null,
   "metadata": {},
   "outputs": [],
   "source": [
    "y_pred_clas_rfc = clas_rfc.predict(x_test_clas)\n",
    "\n",
    "print(\"Accuracy Score: \", accuracy_score(y_test_clas, y_pred_clas_rfc))\n",
    "print(classification_report(y_test_clas, y_pred_clas_rfc))"
   ]
  },
  {
   "cell_type": "code",
   "execution_count": null,
   "metadata": {},
   "outputs": [],
   "source": [
    "visualizer = ClassPredictionError(\n",
    "    clas_rfc\n",
    ")\n",
    "\n",
    "visualizer.fit(x_train_clas, y_train_clas)\n",
    "visualizer.score(x_test_clas, y_test_clas)\n",
    "g = visualizer.poof()"
   ]
  },
  {
   "cell_type": "code",
   "execution_count": null,
   "metadata": {},
   "outputs": [],
   "source": [
    "#Time series\n",
    "time_pred_rfc_clas = clas_rfc.predict(x_test_clas_series)\n",
    "\n",
    "time_pred_series_rfc_clas = pd.Series(time_pred_rfc_clas)\n",
    "time_real_series_rfc_clas = pd.Series(y_test_clas_series)"
   ]
  },
  {
   "cell_type": "code",
   "execution_count": null,
   "metadata": {},
   "outputs": [],
   "source": [
    "time_pred_series_rfc_clas.plot(legend=True, title='Crowdedness Prediction - RFC', label=\"Predicted\")\n",
    "time_real_series_rfc_clas.plot(legend=True, label=\"Actual\")\n",
    "plt.show()"
   ]
  },
  {
   "cell_type": "markdown",
   "metadata": {},
   "source": [
    "#### Evaluation"
   ]
  },
  {
   "cell_type": "code",
   "execution_count": null,
   "metadata": {},
   "outputs": [],
   "source": [
    "y_pred_rfc = clas_rfc.predict(x_eval_clas)\n",
    "\n",
    "print(\"Accuracy Score: \", accuracy_score(y_eval_clas, y_pred_rfc))\n",
    "print(classification_report(y_eval_clas, y_pred_rfc))"
   ]
  },
  {
   "cell_type": "code",
   "execution_count": null,
   "metadata": {},
   "outputs": [],
   "source": [
    "visualizer = ClassPredictionError(\n",
    "    clas_rfc\n",
    ")\n",
    "\n",
    "visualizer.fit(x_train_clas, y_train_clas)\n",
    "visualizer.score(x_eval_clas, y_eval_clas)\n",
    "g = visualizer.poof()"
   ]
  },
  {
   "cell_type": "code",
   "execution_count": null,
   "metadata": {},
   "outputs": [],
   "source": [
    "#Time series\n",
    "time_pred_rfc = clas_rfc.predict(x_series_clas)\n",
    "\n",
    "time_pred_series_rfc = pd.Series(time_pred_rfc)\n",
    "time_real_series_rfc = pd.Series(y_series_clas)"
   ]
  },
  {
   "cell_type": "code",
   "execution_count": null,
   "metadata": {},
   "outputs": [],
   "source": [
    "time_pred_series_rfc.plot(legend=True, title='Crowdedness Prediction - RFC', label=\"Predicted\")\n",
    "time_real_series_rfc.plot(legend=True, label=\"Actual\")\n",
    "plt.show()"
   ]
  },
  {
   "cell_type": "markdown",
   "metadata": {},
   "source": [
    "### XGBoost \n",
    "Implement [XGBoost](https://xgboost.readthedocs.io/en/latest/python/python_intro.html)"
   ]
  },
  {
   "cell_type": "markdown",
   "metadata": {},
   "source": [
    "#### Training"
   ]
  },
  {
   "cell_type": "code",
   "execution_count": null,
   "metadata": {},
   "outputs": [],
   "source": [
    "xgb_clas = xgb.XGBClassifier(random_state=42, n_estimators=300, max_depth=12, \n",
    "                              learning_rate=0.1, booster=\"gbtree\", n_jobs=50)"
   ]
  },
  {
   "cell_type": "code",
   "execution_count": null,
   "metadata": {},
   "outputs": [],
   "source": [
    "xgb_clas.fit(x_train_clas, y_train_clas)"
   ]
  },
  {
   "cell_type": "markdown",
   "metadata": {},
   "source": [
    "#### Test"
   ]
  },
  {
   "cell_type": "code",
   "execution_count": null,
   "metadata": {},
   "outputs": [],
   "source": [
    "y_pred_clas_xgb = xgb_clas.predict(x_test_clas)\n",
    "\n",
    "print(\"Accuracy Score: \", accuracy_score(y_test_clas, y_pred_clas_xgb))\n",
    "print(classification_report(y_test_clas, y_pred_clas_xgb))"
   ]
  },
  {
   "cell_type": "code",
   "execution_count": null,
   "metadata": {},
   "outputs": [],
   "source": [
    "visualizer = ClassPredictionError(\n",
    "    xgb_clas, \n",
    ")\n",
    "\n",
    "visualizer.fit(x_train_clas, y_train_clas)\n",
    "visualizer.score(x_test_clas, y_test_clas)\n",
    "g = visualizer.poof()"
   ]
  },
  {
   "cell_type": "code",
   "execution_count": null,
   "metadata": {},
   "outputs": [],
   "source": [
    "#Time series\n",
    "time_pred_clas_xgb = xgb_clas.predict(x_test_clas_series)\n",
    "\n",
    "time_pred_series_clas_xgb = pd.Series(time_pred_clas_xgb)\n",
    "time_real_series_clas_xgb = pd.Series(y_test_clas_series)"
   ]
  },
  {
   "cell_type": "code",
   "execution_count": null,
   "metadata": {},
   "outputs": [],
   "source": [
    "time_pred_series_clas_xgb.plot(legend=True, title='Crowdedness Prediction - XGBoost', label=\"Predicted\")\n",
    "time_real_series_clas_xgb.plot(legend=True, label=\"Actual\")\n",
    "plt.show()"
   ]
  },
  {
   "cell_type": "markdown",
   "metadata": {},
   "source": [
    "#### Evaluation"
   ]
  },
  {
   "cell_type": "code",
   "execution_count": null,
   "metadata": {},
   "outputs": [],
   "source": [
    "y_pred_xgb = xgb_clas.predict(x_series_clas)\n",
    "\n",
    "print(\"Accuracy Score: \", accuracy_score(y_series_clas, y_pred_xgb))\n",
    "print(classification_report(y_series_clas, y_pred_xgb))"
   ]
  },
  {
   "cell_type": "code",
   "execution_count": null,
   "metadata": {},
   "outputs": [],
   "source": [
    "visualizer = ClassPredictionError(\n",
    "    xgb_clas, \n",
    ")\n",
    "\n",
    "visualizer.fit(x_train_clas, y_train_clas)\n",
    "visualizer.score(x_series_clas, y_series_clas)\n",
    "g = visualizer.poof()"
   ]
  },
  {
   "cell_type": "code",
   "execution_count": null,
   "metadata": {},
   "outputs": [],
   "source": [
    "#Time series\n",
    "time_pred_xgb = xgb_clas.predict(x_series_clas)\n",
    "\n",
    "time_pred_series_xgb = pd.Series(time_pred_xgb)\n",
    "time_real_series_xgb = pd.Series(y_series_clas)"
   ]
  },
  {
   "cell_type": "code",
   "execution_count": null,
   "metadata": {},
   "outputs": [],
   "source": [
    "time_pred_series_xgb.plot(legend=True, title='Crowdedness Prediction - XGBoost', label=\"Predicted\")\n",
    "time_real_series_xgb.plot(legend=True, label=\"Actual\")\n",
    "plt.show()"
   ]
  },
  {
   "cell_type": "markdown",
   "metadata": {},
   "source": [
    "### SVC \n",
    "Implemented the [Sklearn Version](https://scikit-learn.org/stable/modules/generated/sklearn.svm.SVC.html)"
   ]
  },
  {
   "cell_type": "markdown",
   "metadata": {},
   "source": [
    "#### Training"
   ]
  },
  {
   "cell_type": "code",
   "execution_count": null,
   "metadata": {},
   "outputs": [],
   "source": [
    "clas_svc = SVC(kernel=\"rbf\", random_state=42, class_weight=\"balanced\", C=0.5, decision_function_shape=\"ovo\", gamma=\"auto\")"
   ]
  },
  {
   "cell_type": "code",
   "execution_count": null,
   "metadata": {},
   "outputs": [],
   "source": [
    "clas_svc.fit(x_train_clas, y_train_clas)"
   ]
  },
  {
   "cell_type": "markdown",
   "metadata": {},
   "source": [
    "#### Test"
   ]
  },
  {
   "cell_type": "code",
   "execution_count": null,
   "metadata": {},
   "outputs": [],
   "source": [
    "y_pred_clas_svc = clas_svc.predict(x_test_clas)\n",
    "\n",
    "print(\"Accuracy Score: \", accuracy_score(y_test_clas, y_pred_clas_svc))\n",
    "print(classification_report(y_test_clas, y_pred_clas_svc))"
   ]
  },
  {
   "cell_type": "code",
   "execution_count": null,
   "metadata": {},
   "outputs": [],
   "source": [
    "visualizer = ClassPredictionError(\n",
    "    clas_svc\n",
    ")\n",
    "\n",
    "visualizer.fit(x_train_clas, y_train_clas)\n",
    "visualizer.score(x_test_clas, y_test_clas)\n",
    "g = visualizer.poof()"
   ]
  },
  {
   "cell_type": "code",
   "execution_count": null,
   "metadata": {},
   "outputs": [],
   "source": [
    "#Time series\n",
    "time_pred_clas_svc = clas_svc.predict(x_test_clas_series)\n",
    "\n",
    "time_pred_series_clas_svc = pd.Series(time_pred_clas_svc)\n",
    "time_real_series_clas_svc = pd.Series(y_test_clas_series)"
   ]
  },
  {
   "cell_type": "code",
   "execution_count": null,
   "metadata": {},
   "outputs": [],
   "source": [
    "time_pred_series_clas_svc.plot(legend=True, title='Crowdedness Prediction - Baseline', label=\"Predicted\")\n",
    "time_real_series_clas_svc.plot(legend=True, label=\"Actual\")\n",
    "plt.show()"
   ]
  },
  {
   "cell_type": "markdown",
   "metadata": {},
   "source": [
    "#### Evaluation"
   ]
  },
  {
   "cell_type": "code",
   "execution_count": null,
   "metadata": {},
   "outputs": [],
   "source": [
    "y_pred_svc = clas_svc.predict(x_series_clas)\n",
    "\n",
    "print(\"Accuracy Score: \", accuracy_score(y_series_clas, y_pred_svc))\n",
    "print(classification_report(y_series_clas, y_pred_svc))"
   ]
  },
  {
   "cell_type": "code",
   "execution_count": null,
   "metadata": {},
   "outputs": [],
   "source": [
    "visualizer = ClassPredictionError(\n",
    "    clas_svc\n",
    ")\n",
    "\n",
    "visualizer.fit(x_train_clas, y_train_clas)\n",
    "visualizer.score(x_series_clas, y_series_clas)\n",
    "g = visualizer.poof()"
   ]
  },
  {
   "cell_type": "code",
   "execution_count": null,
   "metadata": {},
   "outputs": [],
   "source": [
    "#Time series\n",
    "time_pred_svc = clas_svc.predict(x_series_clas)\n",
    "\n",
    "time_pred_series_svc = pd.Series(time_pred_svc)\n",
    "time_real_series_svc = pd.Series(y_series_clas)"
   ]
  },
  {
   "cell_type": "code",
   "execution_count": null,
   "metadata": {},
   "outputs": [],
   "source": [
    "time_pred_series_svc.plot(legend=True, title='Crowdedness Prediction - Baseline', label=\"Predicted\")\n",
    "time_real_series_svc.plot(legend=True, label=\"Actual\")\n",
    "plt.show()"
   ]
  },
  {
   "cell_type": "markdown",
   "metadata": {},
   "source": [
    "### Logistic Regression\n",
    "Implemented the [Sklearn Version](https://scikit-learn.org/stable/modules/generated/sklearn.linear_model.LogisticRegression.html)"
   ]
  },
  {
   "cell_type": "markdown",
   "metadata": {},
   "source": [
    "#### Training"
   ]
  },
  {
   "cell_type": "markdown",
   "metadata": {},
   "source": [
    "#### Test"
   ]
  },
  {
   "cell_type": "markdown",
   "metadata": {},
   "source": [
    "#### Evaluation"
   ]
  }
 ],
 "metadata": {
  "kernelspec": {
   "display_name": "Python 3",
   "language": "python",
   "name": "python3"
  },
  "language_info": {
   "codemirror_mode": {
    "name": "ipython",
    "version": 3
   },
   "file_extension": ".py",
   "mimetype": "text/x-python",
   "name": "python",
   "nbconvert_exporter": "python",
   "pygments_lexer": "ipython3",
   "version": "3.7.1"
  }
 },
 "nbformat": 4,
 "nbformat_minor": 2
}
