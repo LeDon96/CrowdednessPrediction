{
 "cells": [
  {
   "cell_type": "markdown",
   "metadata": {},
   "source": [
    "# Imports"
   ]
  },
  {
   "cell_type": "code",
   "execution_count": 100,
   "metadata": {},
   "outputs": [],
   "source": [
    "import pandas as pd\n",
    "import json\n",
    "import datetime\n",
    "\n",
    "#Train/Test section\n",
    "from sklearn.model_selection import train_test_split\n",
    "\n",
    "#Scaling the data\n",
    "from sklearn.preprocessing import StandardScaler"
   ]
  },
  {
   "cell_type": "markdown",
   "metadata": {},
   "source": [
    "# Data\n",
    "Import the following data:\n",
    "- GVB: *Number of travelers per hour at given station coordinates*\n",
    "- Event Data: *Dates and locations for events in Amsterdam* --> **OUTLIERS**"
   ]
  },
  {
   "cell_type": "markdown",
   "metadata": {},
   "source": [
    "## GVB"
   ]
  },
  {
   "cell_type": "code",
   "execution_count": 18,
   "metadata": {},
   "outputs": [],
   "source": [
    "#Read from file\n",
    "gvb = pd.read_csv(\"../../../Data_thesis/Sample_data/GVB/ritten.csv\")"
   ]
  },
  {
   "cell_type": "code",
   "execution_count": 19,
   "metadata": {},
   "outputs": [
    {
     "data": {
      "text/html": [
       "<div>\n",
       "<style scoped>\n",
       "    .dataframe tbody tr th:only-of-type {\n",
       "        vertical-align: middle;\n",
       "    }\n",
       "\n",
       "    .dataframe tbody tr th {\n",
       "        vertical-align: top;\n",
       "    }\n",
       "\n",
       "    .dataframe thead th {\n",
       "        text-align: right;\n",
       "    }\n",
       "</style>\n",
       "<table border=\"1\" class=\"dataframe\">\n",
       "  <thead>\n",
       "    <tr style=\"text-align: right;\">\n",
       "      <th></th>\n",
       "      <th>Unnamed: 0</th>\n",
       "      <th>Datum</th>\n",
       "      <th>UurgroepOmschrijving (van vertrek)</th>\n",
       "      <th>VertrekHalteCode</th>\n",
       "      <th>VertrekHalteNaam</th>\n",
       "      <th>VertrekXCoord</th>\n",
       "      <th>VertrekYCoord</th>\n",
       "      <th>AantalRitten</th>\n",
       "    </tr>\n",
       "  </thead>\n",
       "  <tbody>\n",
       "    <tr>\n",
       "      <th>0</th>\n",
       "      <td>5</td>\n",
       "      <td>2018-12-24</td>\n",
       "      <td>01:00 - 01:59</td>\n",
       "      <td>5031</td>\n",
       "      <td>Dam</td>\n",
       "      <td>489348393.0</td>\n",
       "      <td>5.237341e+09</td>\n",
       "      <td>58.0</td>\n",
       "    </tr>\n",
       "    <tr>\n",
       "      <th>1</th>\n",
       "      <td>8</td>\n",
       "      <td>2018-12-24</td>\n",
       "      <td>01:00 - 01:59</td>\n",
       "      <td>5068</td>\n",
       "      <td>Dam</td>\n",
       "      <td>489124121.0</td>\n",
       "      <td>5.237436e+09</td>\n",
       "      <td>28.0</td>\n",
       "    </tr>\n",
       "    <tr>\n",
       "      <th>2</th>\n",
       "      <td>16</td>\n",
       "      <td>2018-12-24</td>\n",
       "      <td>02:00 - 02:59</td>\n",
       "      <td>5031</td>\n",
       "      <td>Dam</td>\n",
       "      <td>489348393.0</td>\n",
       "      <td>5.237341e+09</td>\n",
       "      <td>103.0</td>\n",
       "    </tr>\n",
       "    <tr>\n",
       "      <th>3</th>\n",
       "      <td>18</td>\n",
       "      <td>2018-12-24</td>\n",
       "      <td>02:00 - 02:59</td>\n",
       "      <td>5068</td>\n",
       "      <td>Dam</td>\n",
       "      <td>489124121.0</td>\n",
       "      <td>5.237436e+09</td>\n",
       "      <td>25.0</td>\n",
       "    </tr>\n",
       "    <tr>\n",
       "      <th>4</th>\n",
       "      <td>26</td>\n",
       "      <td>2018-12-24</td>\n",
       "      <td>03:00 - 03:59</td>\n",
       "      <td>5031</td>\n",
       "      <td>Dam</td>\n",
       "      <td>489348393.0</td>\n",
       "      <td>5.237341e+09</td>\n",
       "      <td>39.0</td>\n",
       "    </tr>\n",
       "  </tbody>\n",
       "</table>\n",
       "</div>"
      ],
      "text/plain": [
       "   Unnamed: 0       Datum UurgroepOmschrijving (van vertrek) VertrekHalteCode  \\\n",
       "0           5  2018-12-24                      01:00 - 01:59             5031   \n",
       "1           8  2018-12-24                      01:00 - 01:59             5068   \n",
       "2          16  2018-12-24                      02:00 - 02:59             5031   \n",
       "3          18  2018-12-24                      02:00 - 02:59             5068   \n",
       "4          26  2018-12-24                      03:00 - 03:59             5031   \n",
       "\n",
       "  VertrekHalteNaam  VertrekXCoord  VertrekYCoord  AantalRitten  \n",
       "0              Dam    489348393.0   5.237341e+09          58.0  \n",
       "1              Dam    489124121.0   5.237436e+09          28.0  \n",
       "2              Dam    489348393.0   5.237341e+09         103.0  \n",
       "3              Dam    489124121.0   5.237436e+09          25.0  \n",
       "4              Dam    489348393.0   5.237341e+09          39.0  "
      ]
     },
     "execution_count": 19,
     "metadata": {},
     "output_type": "execute_result"
    }
   ],
   "source": [
    "#Check contents\n",
    "gvb.head()"
   ]
  },
  {
   "cell_type": "markdown",
   "metadata": {},
   "source": [
    "### Descrive the dataframe\n",
    "- *Count*: Count number of non-NA/null observations\n",
    "- *Mean*: Mean of the values.\n",
    "- *STD*: Standard deviation of the obersvations.\n",
    "- *Min*: Minimum of the values in the object.\n",
    "- *25%, 50%, 75%*: Returns the given percentile\n",
    "- *Max*: Maximum of the values in the object."
   ]
  },
  {
   "cell_type": "code",
   "execution_count": 20,
   "metadata": {},
   "outputs": [
    {
     "data": {
      "text/html": [
       "<div>\n",
       "<style scoped>\n",
       "    .dataframe tbody tr th:only-of-type {\n",
       "        vertical-align: middle;\n",
       "    }\n",
       "\n",
       "    .dataframe tbody tr th {\n",
       "        vertical-align: top;\n",
       "    }\n",
       "\n",
       "    .dataframe thead th {\n",
       "        text-align: right;\n",
       "    }\n",
       "</style>\n",
       "<table border=\"1\" class=\"dataframe\">\n",
       "  <thead>\n",
       "    <tr style=\"text-align: right;\">\n",
       "      <th></th>\n",
       "      <th>Unnamed: 0</th>\n",
       "      <th>VertrekXCoord</th>\n",
       "      <th>VertrekYCoord</th>\n",
       "      <th>AantalRitten</th>\n",
       "    </tr>\n",
       "  </thead>\n",
       "  <tbody>\n",
       "    <tr>\n",
       "      <th>count</th>\n",
       "      <td>972.000000</td>\n",
       "      <td>9.720000e+02</td>\n",
       "      <td>9.720000e+02</td>\n",
       "      <td>972.000000</td>\n",
       "    </tr>\n",
       "    <tr>\n",
       "      <th>mean</th>\n",
       "      <td>24975.330247</td>\n",
       "      <td>4.892755e+08</td>\n",
       "      <td>5.237234e+09</td>\n",
       "      <td>203.260288</td>\n",
       "    </tr>\n",
       "    <tr>\n",
       "      <th>std</th>\n",
       "      <td>14484.601039</td>\n",
       "      <td>3.871362e+05</td>\n",
       "      <td>1.903516e+05</td>\n",
       "      <td>253.135267</td>\n",
       "    </tr>\n",
       "    <tr>\n",
       "      <th>min</th>\n",
       "      <td>5.000000</td>\n",
       "      <td>4.889259e+08</td>\n",
       "      <td>5.236910e+09</td>\n",
       "      <td>10.000000</td>\n",
       "    </tr>\n",
       "    <tr>\n",
       "      <th>25%</th>\n",
       "      <td>12567.750000</td>\n",
       "      <td>4.890271e+08</td>\n",
       "      <td>5.237194e+09</td>\n",
       "      <td>40.000000</td>\n",
       "    </tr>\n",
       "    <tr>\n",
       "      <th>50%</th>\n",
       "      <td>24419.500000</td>\n",
       "      <td>4.890794e+08</td>\n",
       "      <td>5.237318e+09</td>\n",
       "      <td>94.500000</td>\n",
       "    </tr>\n",
       "    <tr>\n",
       "      <th>75%</th>\n",
       "      <td>37513.250000</td>\n",
       "      <td>4.893484e+08</td>\n",
       "      <td>5.237368e+09</td>\n",
       "      <td>271.250000</td>\n",
       "    </tr>\n",
       "    <tr>\n",
       "      <th>max</th>\n",
       "      <td>49712.000000</td>\n",
       "      <td>4.901239e+08</td>\n",
       "      <td>5.237493e+09</td>\n",
       "      <td>1371.000000</td>\n",
       "    </tr>\n",
       "  </tbody>\n",
       "</table>\n",
       "</div>"
      ],
      "text/plain": [
       "         Unnamed: 0  VertrekXCoord  VertrekYCoord  AantalRitten\n",
       "count    972.000000   9.720000e+02   9.720000e+02    972.000000\n",
       "mean   24975.330247   4.892755e+08   5.237234e+09    203.260288\n",
       "std    14484.601039   3.871362e+05   1.903516e+05    253.135267\n",
       "min        5.000000   4.889259e+08   5.236910e+09     10.000000\n",
       "25%    12567.750000   4.890271e+08   5.237194e+09     40.000000\n",
       "50%    24419.500000   4.890794e+08   5.237318e+09     94.500000\n",
       "75%    37513.250000   4.893484e+08   5.237368e+09    271.250000\n",
       "max    49712.000000   4.901239e+08   5.237493e+09   1371.000000"
      ]
     },
     "execution_count": 20,
     "metadata": {},
     "output_type": "execute_result"
    }
   ],
   "source": [
    "gvb.describe()"
   ]
  },
  {
   "cell_type": "markdown",
   "metadata": {},
   "source": [
    "### Stations in GVB Dataset"
   ]
  },
  {
   "cell_type": "code",
   "execution_count": 26,
   "metadata": {},
   "outputs": [
    {
     "name": "stdout",
     "output_type": "stream",
     "text": [
      "Station:  Dam\n",
      "Station:  Nieuwmarkt\n",
      "Station:  Spui\n"
     ]
    }
   ],
   "source": [
    "stations = gvb.VertrekHalteNaam.unique()\n",
    "\n",
    "for station in stations:\n",
    "    print(\"Station: \", station)"
   ]
  },
  {
   "cell_type": "markdown",
   "metadata": {},
   "source": [
    "## Events"
   ]
  },
  {
   "cell_type": "code",
   "execution_count": 21,
   "metadata": {},
   "outputs": [],
   "source": [
    "with open(\"../Data/Modified/Events.json\") as f:\n",
    "    events = json.load(f)"
   ]
  },
  {
   "cell_type": "code",
   "execution_count": 22,
   "metadata": {},
   "outputs": [
    {
     "name": "stdout",
     "output_type": "stream",
     "text": [
      "{'Event': 'Springsnow Festival', 'Coordinates': {'Latitude': '52,3726380', 'Longtitude': '4,8941060'}, 'Data': {'startdate': '20-04-2018', 'enddate': '20-05-2018'}}\n"
     ]
    }
   ],
   "source": [
    "print(events[0])"
   ]
  },
  {
   "cell_type": "markdown",
   "metadata": {},
   "source": [
    "# Model\n",
    "Below a few models will be instantiated"
   ]
  },
  {
   "cell_type": "markdown",
   "metadata": {},
   "source": [
    "## GVB Data Only\n",
    "Below all the models use only the GVB data"
   ]
  },
  {
   "cell_type": "markdown",
   "metadata": {},
   "source": [
    "### Data Preperation\n",
    "Make the model with the GVB data from *Dam* station"
   ]
  },
  {
   "cell_type": "markdown",
   "metadata": {},
   "source": [
    "#### Dataframe formation"
   ]
  },
  {
   "cell_type": "code",
   "execution_count": 84,
   "metadata": {},
   "outputs": [],
   "source": [
    "#Select all rows with \"Dam\" as station\n",
    "dam_df = gvb.loc[gvb[\"VertrekHalteNaam\"] == \"Dam\"]\n",
    "\n",
    "#Select usable columns\n",
    "dam_df = dam_df[[\"Datum\", \"UurgroepOmschrijving (van vertrek)\", \"AantalRitten\"]]\n",
    "\n",
    "#Add columns\n",
    "#Gives day in numbers --> 0: Monday, 1: Tuesday,..., 6: Sunday\n",
    "dam_df.insert(2, \"weekday\", 99)\n",
    "\n",
    "#Adds whether day is weekend --> Day 5 and 6\n",
    "dam_df.insert(3, \"is_weekend\", 0)"
   ]
  },
  {
   "cell_type": "markdown",
   "metadata": {},
   "source": [
    "#### Transform DF"
   ]
  },
  {
   "cell_type": "code",
   "execution_count": 85,
   "metadata": {},
   "outputs": [],
   "source": [
    "#Dataframe to dict\n",
    "dam = dam_df.to_dict(\"index\")"
   ]
  },
  {
   "cell_type": "code",
   "execution_count": 86,
   "metadata": {},
   "outputs": [],
   "source": [
    "#Loop over dict\n",
    "for k, v in dam.items():\n",
    "    \n",
    "    #Transform the date string to datatime.date object\n",
    "    date = datetime.date.fromisoformat(v[\"Datum\"])\n",
    "    \n",
    "    #Transfrom date to weekday number\n",
    "    v[\"weekday\"] = date.weekday()\n",
    "    \n",
    "    #Check if weekday is in the weekend\n",
    "    if date.weekday() == 5 or date.weekday() == 6:\n",
    "        v[\"is_weekend\"] = 1"
   ]
  },
  {
   "cell_type": "code",
   "execution_count": 87,
   "metadata": {},
   "outputs": [],
   "source": [
    "#Return to dict\n",
    "dam_df = pd.DataFrame.from_dict(dam, orient=\"index\")\n",
    "\n",
    "#Remove the \"Datum\" columns\n",
    "dam_df = dam_df.drop(columns=[\"Datum\"])"
   ]
  },
  {
   "cell_type": "markdown",
   "metadata": {},
   "source": [
    "#### Show contents"
   ]
  },
  {
   "cell_type": "code",
   "execution_count": 88,
   "metadata": {},
   "outputs": [
    {
     "data": {
      "text/html": [
       "<div>\n",
       "<style scoped>\n",
       "    .dataframe tbody tr th:only-of-type {\n",
       "        vertical-align: middle;\n",
       "    }\n",
       "\n",
       "    .dataframe tbody tr th {\n",
       "        vertical-align: top;\n",
       "    }\n",
       "\n",
       "    .dataframe thead th {\n",
       "        text-align: right;\n",
       "    }\n",
       "</style>\n",
       "<table border=\"1\" class=\"dataframe\">\n",
       "  <thead>\n",
       "    <tr style=\"text-align: right;\">\n",
       "      <th></th>\n",
       "      <th>UurgroepOmschrijving (van vertrek)</th>\n",
       "      <th>weekday</th>\n",
       "      <th>is_weekend</th>\n",
       "      <th>AantalRitten</th>\n",
       "    </tr>\n",
       "  </thead>\n",
       "  <tbody>\n",
       "    <tr>\n",
       "      <th>0</th>\n",
       "      <td>01:00 - 01:59</td>\n",
       "      <td>0</td>\n",
       "      <td>0</td>\n",
       "      <td>58.0</td>\n",
       "    </tr>\n",
       "    <tr>\n",
       "      <th>1</th>\n",
       "      <td>01:00 - 01:59</td>\n",
       "      <td>0</td>\n",
       "      <td>0</td>\n",
       "      <td>28.0</td>\n",
       "    </tr>\n",
       "    <tr>\n",
       "      <th>2</th>\n",
       "      <td>02:00 - 02:59</td>\n",
       "      <td>0</td>\n",
       "      <td>0</td>\n",
       "      <td>103.0</td>\n",
       "    </tr>\n",
       "    <tr>\n",
       "      <th>3</th>\n",
       "      <td>02:00 - 02:59</td>\n",
       "      <td>0</td>\n",
       "      <td>0</td>\n",
       "      <td>25.0</td>\n",
       "    </tr>\n",
       "    <tr>\n",
       "      <th>4</th>\n",
       "      <td>03:00 - 03:59</td>\n",
       "      <td>0</td>\n",
       "      <td>0</td>\n",
       "      <td>39.0</td>\n",
       "    </tr>\n",
       "  </tbody>\n",
       "</table>\n",
       "</div>"
      ],
      "text/plain": [
       "  UurgroepOmschrijving (van vertrek)  weekday  is_weekend  AantalRitten\n",
       "0                      01:00 - 01:59        0           0          58.0\n",
       "1                      01:00 - 01:59        0           0          28.0\n",
       "2                      02:00 - 02:59        0           0         103.0\n",
       "3                      02:00 - 02:59        0           0          25.0\n",
       "4                      03:00 - 03:59        0           0          39.0"
      ]
     },
     "execution_count": 88,
     "metadata": {},
     "output_type": "execute_result"
    }
   ],
   "source": [
    "dam_df.head()"
   ]
  },
  {
   "cell_type": "markdown",
   "metadata": {},
   "source": [
    "### Training/Test\n",
    "Split the dataset into training and test data, using a [function from Sklearn](https://scikit-learn.org/stable/modules/generated/sklearn.model_selection.train_test_split.html)\n",
    "\n",
    "####Train_Test_split Parameters\n",
    "- *input*: \n",
    "    - *x*: data used to predict laballed data\n",
    "        - Hour slot\n",
    "        - Weekday (int)\n",
    "        - Weekend (Boolean)\n",
    "    - *y*: laballed data\n",
    "        - Number of rides (int)\n",
    "- *test_size*: Proportion of total data used as test data, rest is training data\n",
    "- *random_state*: Number used as seed by the *Random Number Generator* "
   ]
  },
  {
   "cell_type": "code",
   "execution_count": 97,
   "metadata": {},
   "outputs": [],
   "source": [
    "#Select only the values from each row\n",
    "data = dam_df.values\n",
    "\n",
    "#Split the labels from the rest\n",
    "x = data[:, :3]\n",
    "y = data[:, 3]\n",
    "\n",
    "x_train, x_test, y_train, y_test = train_test_split(x, y, test_size = 0.1, random_state = 42)"
   ]
  },
  {
   "cell_type": "code",
   "execution_count": 99,
   "metadata": {},
   "outputs": [
    {
     "data": {
      "text/plain": [
       "array([['16:00 - 16:59', 6, 1],\n",
       "       ['17:00 - 17:59', 0, 0],\n",
       "       ['23:00 - 23:59', 6, 1]], dtype=object)"
      ]
     },
     "execution_count": 99,
     "metadata": {},
     "output_type": "execute_result"
    }
   ],
   "source": [
    "#First three rows train set\n",
    "x_train[:3]"
   ]
  },
  {
   "cell_type": "markdown",
   "metadata": {},
   "source": [
    "### Scale the data\n",
    "For ML algorithms that use [Euclidean distance between points, large distances between points can pose a problem](https://medium.com/greyatom/why-how-and-when-to-scale-your-features-4b30ab09db5e). \n",
    "\n",
    "Scaling is done with the [Standard Scaler from Sklearn](https://scikit-learn.org/stable/modules/generated/sklearn.preprocessing.StandardScaler.html)"
   ]
  },
  {
   "cell_type": "code",
   "execution_count": 103,
   "metadata": {},
   "outputs": [
    {
     "name": "stderr",
     "output_type": "stream",
     "text": [
      "D:\\Programs\\Anaconda\\envs\\Analytics\\lib\\site-packages\\sklearn\\utils\\validation.py:595: DataConversionWarning: Data with input dtype object was converted to float64 by StandardScaler.\n",
      "  warnings.warn(msg, DataConversionWarning)\n",
      "D:\\Programs\\Anaconda\\envs\\Analytics\\lib\\site-packages\\sklearn\\utils\\validation.py:595: DataConversionWarning: Data with input dtype object was converted to float64 by StandardScaler.\n",
      "  warnings.warn(msg, DataConversionWarning)\n",
      "D:\\Programs\\Anaconda\\envs\\Analytics\\lib\\site-packages\\sklearn\\utils\\validation.py:595: DataConversionWarning: Data with input dtype object was converted to float64 by StandardScaler.\n",
      "  warnings.warn(msg, DataConversionWarning)\n"
     ]
    }
   ],
   "source": [
    "#Call on scaler\n",
    "scaler = StandardScaler()\n",
    "\n",
    "#Fit to training data\n",
    "scaler.fit(x_train[:, 1:])\n",
    "\n",
    "#Scale the actual data in the training and test set\n",
    "x_train[:, 1:] = scaler.transform(x_train[:, 1:])\n",
    "x_test[:, 1:] = scaler.transform(x_test[:, 1:])"
   ]
  },
  {
   "cell_type": "markdown",
   "metadata": {},
   "source": [
    "### Models\n",
    "train data on models"
   ]
  },
  {
   "cell_type": "markdown",
   "metadata": {},
   "source": [
    "#### Random Forrest Regressor\n",
    "Implement the [Sklearn Version](https://scikit-learn.org/stable/modules/generated/sklearn.ensemble.RandomForestRegressor.html)\n",
    "\n",
    "Parameters"
   ]
  },
  {
   "cell_type": "code",
   "execution_count": null,
   "metadata": {},
   "outputs": [],
   "source": []
  }
 ],
 "metadata": {
  "kernelspec": {
   "display_name": "Python 3",
   "language": "python",
   "name": "python3"
  },
  "language_info": {
   "codemirror_mode": {
    "name": "ipython",
    "version": 3
   },
   "file_extension": ".py",
   "mimetype": "text/x-python",
   "name": "python",
   "nbconvert_exporter": "python",
   "pygments_lexer": "ipython3",
   "version": "3.7.1"
  }
 },
 "nbformat": 4,
 "nbformat_minor": 2
}
