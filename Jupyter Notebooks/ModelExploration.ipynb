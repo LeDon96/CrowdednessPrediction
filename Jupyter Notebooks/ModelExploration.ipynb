{
 "cells": [
  {
   "cell_type": "markdown",
   "metadata": {},
   "source": [
    "# Model Exploration"
   ]
  },
  {
   "cell_type": "markdown",
   "metadata": {},
   "source": [
    "## Imports <a name=\"imports\"></a>"
   ]
  },
  {
   "cell_type": "code",
   "execution_count": 1,
   "metadata": {},
   "outputs": [],
   "source": [
    "#Regression Models\n",
    "from sklearn.linear_model import LinearRegression\n",
    "from sklearn.ensemble import RandomForestRegressor\n",
    "from sklearn.ensemble import GradientBoostingRegressor\n",
    "from sklearn.linear_model import LassoCV\n",
    "\n",
    "#Regression Metrics\n",
    "from sklearn.metrics import mean_squared_error\n",
    "\n",
    "#Classification Models\n",
    "from sklearn.cluster import KMeans\n",
    "from scipy.stats import norm\n",
    "from sklearn.dummy import DummyClassifier\n",
    "from sklearn.ensemble import RandomForestClassifier\n",
    "from sklearn.ensemble import GradientBoostingClassifier\n",
    "from sklearn.svm import SVC\n",
    "from sklearn.ensemble import VotingClassifier\n",
    "\n",
    "#XGBoost\n",
    "import xgboost as xgb\n",
    "\n",
    "#Classification Metrics\n",
    "from sklearn.metrics import classification_report\n",
    "from sklearn.metrics import accuracy_score\n",
    "\n",
    "import pandas as pd\n",
    "import json\n",
    "import numpy as np\n",
    "import matplotlib.pyplot as plt\n",
    "%matplotlib inline\n",
    "\n",
    "from yellowbrick.classifier import ClassPredictionError\n",
    "from yellowbrick.regressor import PredictionError\n",
    "from yellowbrick.features import Rank1D\n",
    "from yellowbrick.features import Rank2D\n",
    "from yellowbrick.features import RadViz\n",
    "\n",
    "import datetime"
   ]
  },
  {
   "cell_type": "markdown",
   "metadata": {},
   "source": [
    "## Import Data <a name=\"importData\"></a>"
   ]
  },
  {
   "cell_type": "code",
   "execution_count": 2,
   "metadata": {},
   "outputs": [],
   "source": [
    "full_df = pd.read_csv(\"../../../Data_thesis/Full_Datasets/Full.csv\")\n",
    "full_df[\"Date\"] = pd.to_datetime(full_df[\"Date\"], format=\"%Y-%m-%d\")"
   ]
  },
  {
   "cell_type": "code",
   "execution_count": 3,
   "metadata": {},
   "outputs": [
    {
     "data": {
      "text/html": [
       "<div>\n",
       "<style scoped>\n",
       "    .dataframe tbody tr th:only-of-type {\n",
       "        vertical-align: middle;\n",
       "    }\n",
       "\n",
       "    .dataframe tbody tr th {\n",
       "        vertical-align: top;\n",
       "    }\n",
       "\n",
       "    .dataframe thead th {\n",
       "        text-align: right;\n",
       "    }\n",
       "</style>\n",
       "<table border=\"1\" class=\"dataframe\">\n",
       "  <thead>\n",
       "    <tr style=\"text-align: right;\">\n",
       "      <th></th>\n",
       "      <th>Date</th>\n",
       "      <th>Hour</th>\n",
       "      <th>Nieuwmarkt Arrivals</th>\n",
       "      <th>Nieuwezijds Kolk Arrivals</th>\n",
       "      <th>Dam Arrivals</th>\n",
       "      <th>Spui Arrivals</th>\n",
       "      <th>Nieuwmarkt Departures</th>\n",
       "      <th>Nieuwezijds Kolk Departures</th>\n",
       "      <th>Dam Departures</th>\n",
       "      <th>Spui Departures</th>\n",
       "      <th>...</th>\n",
       "      <th>SensorLatitude</th>\n",
       "      <th>CrowdednessCount</th>\n",
       "      <th>is_event</th>\n",
       "      <th>Year</th>\n",
       "      <th>month_sin</th>\n",
       "      <th>month_cos</th>\n",
       "      <th>day_sin</th>\n",
       "      <th>day_cos</th>\n",
       "      <th>hour_sin</th>\n",
       "      <th>hour_cos</th>\n",
       "    </tr>\n",
       "  </thead>\n",
       "  <tbody>\n",
       "    <tr>\n",
       "      <th>0</th>\n",
       "      <td>2018-03-11</td>\n",
       "      <td>2400</td>\n",
       "      <td>77.0</td>\n",
       "      <td>38.0</td>\n",
       "      <td>187.0</td>\n",
       "      <td>40.0</td>\n",
       "      <td>198.0</td>\n",
       "      <td>63.0</td>\n",
       "      <td>411.0</td>\n",
       "      <td>87.0</td>\n",
       "      <td>...</td>\n",
       "      <td>6</td>\n",
       "      <td>0</td>\n",
       "      <td>0.0</td>\n",
       "      <td>2018</td>\n",
       "      <td>1.0</td>\n",
       "      <td>6.123234e-17</td>\n",
       "      <td>0.188227</td>\n",
       "      <td>0.982126</td>\n",
       "      <td>-2.449294e-16</td>\n",
       "      <td>1.000000</td>\n",
       "    </tr>\n",
       "    <tr>\n",
       "      <th>1</th>\n",
       "      <td>2018-03-11</td>\n",
       "      <td>2100</td>\n",
       "      <td>136.0</td>\n",
       "      <td>80.0</td>\n",
       "      <td>409.0</td>\n",
       "      <td>40.0</td>\n",
       "      <td>211.0</td>\n",
       "      <td>119.0</td>\n",
       "      <td>858.0</td>\n",
       "      <td>94.0</td>\n",
       "      <td>...</td>\n",
       "      <td>0</td>\n",
       "      <td>21</td>\n",
       "      <td>0.0</td>\n",
       "      <td>2018</td>\n",
       "      <td>1.0</td>\n",
       "      <td>6.123234e-17</td>\n",
       "      <td>0.188227</td>\n",
       "      <td>0.982126</td>\n",
       "      <td>-7.071068e-01</td>\n",
       "      <td>0.707107</td>\n",
       "    </tr>\n",
       "    <tr>\n",
       "      <th>2</th>\n",
       "      <td>2018-03-11</td>\n",
       "      <td>2100</td>\n",
       "      <td>136.0</td>\n",
       "      <td>80.0</td>\n",
       "      <td>409.0</td>\n",
       "      <td>40.0</td>\n",
       "      <td>211.0</td>\n",
       "      <td>119.0</td>\n",
       "      <td>858.0</td>\n",
       "      <td>94.0</td>\n",
       "      <td>...</td>\n",
       "      <td>9</td>\n",
       "      <td>88</td>\n",
       "      <td>0.0</td>\n",
       "      <td>2018</td>\n",
       "      <td>1.0</td>\n",
       "      <td>6.123234e-17</td>\n",
       "      <td>0.188227</td>\n",
       "      <td>0.982126</td>\n",
       "      <td>-7.071068e-01</td>\n",
       "      <td>0.707107</td>\n",
       "    </tr>\n",
       "    <tr>\n",
       "      <th>3</th>\n",
       "      <td>2018-03-11</td>\n",
       "      <td>2100</td>\n",
       "      <td>136.0</td>\n",
       "      <td>80.0</td>\n",
       "      <td>409.0</td>\n",
       "      <td>40.0</td>\n",
       "      <td>211.0</td>\n",
       "      <td>119.0</td>\n",
       "      <td>858.0</td>\n",
       "      <td>94.0</td>\n",
       "      <td>...</td>\n",
       "      <td>2</td>\n",
       "      <td>49</td>\n",
       "      <td>0.0</td>\n",
       "      <td>2018</td>\n",
       "      <td>1.0</td>\n",
       "      <td>6.123234e-17</td>\n",
       "      <td>0.188227</td>\n",
       "      <td>0.982126</td>\n",
       "      <td>-7.071068e-01</td>\n",
       "      <td>0.707107</td>\n",
       "    </tr>\n",
       "    <tr>\n",
       "      <th>4</th>\n",
       "      <td>2018-03-11</td>\n",
       "      <td>2200</td>\n",
       "      <td>116.0</td>\n",
       "      <td>64.0</td>\n",
       "      <td>288.0</td>\n",
       "      <td>21.0</td>\n",
       "      <td>210.0</td>\n",
       "      <td>103.0</td>\n",
       "      <td>732.0</td>\n",
       "      <td>98.0</td>\n",
       "      <td>...</td>\n",
       "      <td>8</td>\n",
       "      <td>2900</td>\n",
       "      <td>0.0</td>\n",
       "      <td>2018</td>\n",
       "      <td>1.0</td>\n",
       "      <td>6.123234e-17</td>\n",
       "      <td>0.188227</td>\n",
       "      <td>0.982126</td>\n",
       "      <td>-5.000000e-01</td>\n",
       "      <td>0.866025</td>\n",
       "    </tr>\n",
       "  </tbody>\n",
       "</table>\n",
       "<p>5 rows × 24 columns</p>\n",
       "</div>"
      ],
      "text/plain": [
       "        Date  Hour  Nieuwmarkt Arrivals  Nieuwezijds Kolk Arrivals  \\\n",
       "0 2018-03-11  2400                 77.0                       38.0   \n",
       "1 2018-03-11  2100                136.0                       80.0   \n",
       "2 2018-03-11  2100                136.0                       80.0   \n",
       "3 2018-03-11  2100                136.0                       80.0   \n",
       "4 2018-03-11  2200                116.0                       64.0   \n",
       "\n",
       "   Dam Arrivals  Spui Arrivals  Nieuwmarkt Departures  \\\n",
       "0         187.0           40.0                  198.0   \n",
       "1         409.0           40.0                  211.0   \n",
       "2         409.0           40.0                  211.0   \n",
       "3         409.0           40.0                  211.0   \n",
       "4         288.0           21.0                  210.0   \n",
       "\n",
       "   Nieuwezijds Kolk Departures  Dam Departures  Spui Departures  ...  \\\n",
       "0                         63.0           411.0             87.0  ...   \n",
       "1                        119.0           858.0             94.0  ...   \n",
       "2                        119.0           858.0             94.0  ...   \n",
       "3                        119.0           858.0             94.0  ...   \n",
       "4                        103.0           732.0             98.0  ...   \n",
       "\n",
       "   SensorLatitude  CrowdednessCount is_event  Year  month_sin     month_cos  \\\n",
       "0               6                 0      0.0  2018        1.0  6.123234e-17   \n",
       "1               0                21      0.0  2018        1.0  6.123234e-17   \n",
       "2               9                88      0.0  2018        1.0  6.123234e-17   \n",
       "3               2                49      0.0  2018        1.0  6.123234e-17   \n",
       "4               8              2900      0.0  2018        1.0  6.123234e-17   \n",
       "\n",
       "    day_sin   day_cos      hour_sin  hour_cos  \n",
       "0  0.188227  0.982126 -2.449294e-16  1.000000  \n",
       "1  0.188227  0.982126 -7.071068e-01  0.707107  \n",
       "2  0.188227  0.982126 -7.071068e-01  0.707107  \n",
       "3  0.188227  0.982126 -7.071068e-01  0.707107  \n",
       "4  0.188227  0.982126 -5.000000e-01  0.866025  \n",
       "\n",
       "[5 rows x 24 columns]"
      ]
     },
     "execution_count": 3,
     "metadata": {},
     "output_type": "execute_result"
    }
   ],
   "source": [
    "full_df.head()"
   ]
  },
  {
   "cell_type": "markdown",
   "metadata": {},
   "source": [
    "## Sensor Dict\n",
    "Dict with the labels of all the given sensors. This changes with each new DF construction"
   ]
  },
  {
   "cell_type": "code",
   "execution_count": 4,
   "metadata": {},
   "outputs": [],
   "source": [
    "sensor_dict = {}\n",
    "sensors = full_df.Sensor.unique()\n",
    "\n",
    "for sensor in sensors:\n",
    "    temp_df = full_df[full_df[\"Sensor\"] == sensor].reset_index()\n",
    "    \n",
    "    sensor_dict[sensor] = {\"Lat\": temp_df[\"SensorLatitude\"][0], \"Lon\": temp_df[\"SensorLongitude\"][0]}"
   ]
  },
  {
   "cell_type": "code",
   "execution_count": 5,
   "metadata": {},
   "outputs": [
    {
     "data": {
      "text/plain": [
       "{'GAWW-02': {'Lat': 6, 'Lon': 7},\n",
       " 'GAWW-08': {'Lat': 0, 'Lon': 0},\n",
       " 'GAWW-09': {'Lat': 9, 'Lon': 5},\n",
       " 'GAWW-10': {'Lat': 2, 'Lon': 6},\n",
       " 'GAWW-01': {'Lat': 8, 'Lon': 8},\n",
       " 'GAWW-03': {'Lat': 4, 'Lon': 1},\n",
       " 'GAWW-04': {'Lat': 5, 'Lon': 3},\n",
       " 'GAWW-05': {'Lat': 1, 'Lon': 2},\n",
       " 'GAWW-06': {'Lat': 3, 'Lon': 4},\n",
       " 'GAWW-07': {'Lat': 7, 'Lon': 9}}"
      ]
     },
     "execution_count": 5,
     "metadata": {},
     "output_type": "execute_result"
    }
   ],
   "source": [
    "sensor_dict"
   ]
  },
  {
   "cell_type": "markdown",
   "metadata": {},
   "source": [
    "### Visualization"
   ]
  },
  {
   "cell_type": "code",
   "execution_count": 6,
   "metadata": {},
   "outputs": [],
   "source": [
    "x = full_df.drop([\"CrowdednessCount\", \"Date\", \"Hour\", \"Sensor\"], axis=1)\n",
    "y = full_df[\"CrowdednessCount\"]"
   ]
  },
  {
   "cell_type": "code",
   "execution_count": 7,
   "metadata": {},
   "outputs": [
    {
     "name": "stderr",
     "output_type": "stream",
     "text": [
      "D:\\Programs\\Anaconda\\envs\\Analytics\\lib\\site-packages\\yellowbrick\\features\\rankd.py:262: FutureWarning: Method .as_matrix will be removed in a future version. Use .values instead.\n",
      "  X = X.as_matrix()\n",
      "D:\\Programs\\Anaconda\\envs\\Analytics\\lib\\site-packages\\scipy\\stats\\morestats.py:1653: UserWarning: p-value may not be accurate for N > 5000.\n",
      "  warnings.warn(\"p-value may not be accurate for N > 5000.\")\n"
     ]
    },
    {
     "data": {
      "image/png": "[encoded data removed]",
      "text/plain": [
       "<Figure size 432x288 with 1 Axes>"
      ]
     },
     "metadata": {
      "needs_background": "light"
     },
     "output_type": "display_data"
    }
   ],
   "source": [
    "#Rank features - 1D\n",
    "visualizer = Rank1D(algorithm='shapiro')\n",
    "\n",
    "visualizer.fit(x, y)                # Fit the data to the visualizer\n",
    "visualizer.transform(x)             # Transform the data\n",
    "visualizer.poof() "
   ]
  },
  {
   "cell_type": "code",
   "execution_count": 8,
   "metadata": {},
   "outputs": [
    {
     "data": {
      "image/png": "[encoded data removed]",
      "text/plain": [
       "<Figure size 432x288 with 2 Axes>"
      ]
     },
     "metadata": {
      "needs_background": "light"
     },
     "output_type": "display_data"
    }
   ],
   "source": [
    "visualizer = Rank2D(algorithm='covariance')\n",
    "visualizer.fit(x, y)                # Fit the data to the visualizer\n",
    "visualizer.transform(x)             # Transform the data\n",
    "visualizer.poof() "
   ]
  },
  {
   "cell_type": "markdown",
   "metadata": {},
   "source": [
    "### Split Data into Training/Test and Time Series data"
   ]
  },
  {
   "cell_type": "code",
   "execution_count": 9,
   "metadata": {},
   "outputs": [],
   "source": [
    "split_date = pd.Timestamp(2018, 12, 31)\n",
    "\n",
    "TrainTest_df = full_df[full_df[\"Date\"] <= split_date].reset_index().drop(columns=[\"index\", \"Hour\", \"Sensor\", \"Year\"])\n",
    "TimeSeries_df = full_df[full_df[\"Date\"] > split_date].reset_index().drop(columns=[\"index\", \"Hour\", \"Sensor\", \"Year\"])"
   ]
  },
  {
   "cell_type": "markdown",
   "metadata": {},
   "source": [
    "### Criteria for train and test Model <a name=\"testModel\"></a>\n",
    "Divide set based on dates"
   ]
  },
  {
   "cell_type": "code",
   "execution_count": 10,
   "metadata": {},
   "outputs": [],
   "source": [
    "all_dates = TrainTest_df[\"Date\"].values\n",
    "np.random.shuffle(all_dates)\n",
    "\n",
    "split_dates = int(all_dates.size * 0.9)\n",
    "train_set_dates = all_dates[:split_dates]\n",
    "test_set_dates = all_dates[split_dates:]"
   ]
  },
  {
   "cell_type": "markdown",
   "metadata": {},
   "source": [
    "Test only on selected sensor"
   ]
  },
  {
   "cell_type": "code",
   "execution_count": 11,
   "metadata": {},
   "outputs": [],
   "source": [
    "test_sensor = \"GAWW-02\"\n",
    "\n",
    "test_lat = sensor_dict[test_sensor][\"Lat\"]"
   ]
  },
  {
   "cell_type": "markdown",
   "metadata": {},
   "source": [
    "Select start and end period evaluation"
   ]
  },
  {
   "cell_type": "code",
   "execution_count": 12,
   "metadata": {},
   "outputs": [],
   "source": [
    "eval_start_date = pd.Timestamp(2019, 1, 1)\n",
    "eval_end_date = pd.Timestamp(2019, 1, 31)"
   ]
  },
  {
   "cell_type": "markdown",
   "metadata": {},
   "source": [
    "## Regression Models <a name=\"regModels\"></a>"
   ]
  },
  {
   "cell_type": "markdown",
   "metadata": {},
   "source": [
    "### Train, Test, Evaluation Split"
   ]
  },
  {
   "cell_type": "code",
   "execution_count": 13,
   "metadata": {},
   "outputs": [],
   "source": [
    "train_df_reg = TrainTest_df[TrainTest_df[\"Date\"].isin(train_set_dates)].reset_index().drop(columns=[\"Date\",\"index\"])\n",
    "\n",
    "test_df_reg = TrainTest_df[TrainTest_df[\"Date\"].isin(test_set_dates)].reset_index().drop(columns=[\"index\"])"
   ]
  },
  {
   "cell_type": "code",
   "execution_count": 14,
   "metadata": {},
   "outputs": [],
   "source": [
    "#Train\n",
    "x_train_reg = train_df_reg.drop([\"CrowdednessCount\"], axis=1)\n",
    "y_train_reg = train_df_reg[\"CrowdednessCount\"]\n",
    "\n",
    "#Test\n",
    "x_test_reg = test_df_reg.drop([\"CrowdednessCount\", \"Date\"], axis=1)\n",
    "y_test_reg = test_df_reg[\"CrowdednessCount\"]\n",
    "\n",
    "test_reg_series = test_df_reg[(test_df_reg[\"SensorLatitude\"] == test_lat) & \n",
    "                              (test_df_reg[\"Date\"] == test_set_dates[0])].reset_index()\n",
    "x_test_reg_series = test_reg_series.drop([\"CrowdednessCount\", \"Date\", \"index\"], axis=1)\n",
    "y_test_reg_series = test_reg_series[\"CrowdednessCount\"]\n",
    "\n",
    "#Timeseries\n",
    "x_eval_reg = TimeSeries_df.drop([\"CrowdednessCount\", \"Date\"], axis=1)\n",
    "y_eval_reg = TimeSeries_df[\"CrowdednessCount\"]\n",
    "\n",
    "#Subset timeseries\n",
    "sub_series = TimeSeries_df[(TimeSeries_df[\"SensorLatitude\"] == test_lat) & \n",
    "                           (TimeSeries_df[\"Date\"] >= eval_start_date) & \n",
    "                           (TimeSeries_df[\"Date\"] <= eval_end_date)].reset_index()\n",
    "\n",
    "#Time series\n",
    "x_series_reg = sub_series.drop([\"Date\",\"CrowdednessCount\", \"index\"], axis=1)\n",
    "y_series_reg = sub_series[\"CrowdednessCount\"]\n",
    "\n",
    "\n",
    "feature_labels_reg = train_df_reg.columns.values"
   ]
  },
  {
   "cell_type": "markdown",
   "metadata": {},
   "source": [
    "### Linear Regression <a name=\"regBaseModel\"></a>\n",
    "Implemented the [Sklearn Version](https://scikit-learn.org/stable/modules/generated/sklearn.linear_model.LinearRegression.html#sklearn.linear_model.LinearRegression)"
   ]
  },
  {
   "cell_type": "markdown",
   "metadata": {},
   "source": [
    "#### Training"
   ]
  },
  {
   "cell_type": "code",
   "execution_count": 15,
   "metadata": {},
   "outputs": [],
   "source": [
    "#Give parameters model\n",
    "reg_base = LinearRegression()"
   ]
  },
  {
   "cell_type": "code",
   "execution_count": 16,
   "metadata": {},
   "outputs": [
    {
     "data": {
      "text/plain": [
       "LinearRegression(copy_X=True, fit_intercept=True, n_jobs=None,\n",
       "         normalize=False)"
      ]
     },
     "execution_count": 16,
     "metadata": {},
     "output_type": "execute_result"
    }
   ],
   "source": [
    "#Fit the model\n",
    "reg_base.fit(x_train_reg, y_train_reg)"
   ]
  },
  {
   "cell_type": "markdown",
   "metadata": {},
   "source": [
    "#### Test"
   ]
  },
  {
   "cell_type": "code",
   "execution_count": 17,
   "metadata": {},
   "outputs": [
    {
     "name": "stdout",
     "output_type": "stream",
     "text": [
      "R^2 Score:  0.3284402553322785\n",
      "MSE:  720219.6879664841\n",
      "RMSE:  848.6575799263707\n"
     ]
    }
   ],
   "source": [
    "reg_base_score = reg_base.score(x_test_reg, y_test_reg)\n",
    "\n",
    "y_pred_reg_base = reg_base.predict(x_test_reg)\n",
    "base_reg_mse = mean_squared_error(y_pred_reg_base, y_test_reg)\n",
    "\n",
    "print(\"R^2 Score: \", reg_base_score)\n",
    "print(\"MSE: \", base_reg_mse)\n",
    "print(\"RMSE: \", np.sqrt(base_reg_mse))"
   ]
  },
  {
   "cell_type": "code",
   "execution_count": 18,
   "metadata": {},
   "outputs": [
    {
     "name": "stdout",
     "output_type": "stream",
     "text": [
      "Predicted:  1466.4916331120958 Real:  0\n",
      "Predicted:  1094.9989491650913 Real:  21\n",
      "Predicted:  1410.6060585435944 Real:  88\n",
      "Predicted:  1674.8963773348614 Real:  49\n",
      "Predicted:  1691.0787451287833 Real:  2900\n",
      "Predicted:  1632.5293436375268 Real:  0\n",
      "Predicted:  1052.6319154677572 Real:  83\n",
      "Predicted:  1238.3110242169391 Real:  822\n",
      "Predicted:  1225.4818265701301 Real:  2661\n",
      "Predicted:  1388.3008333970888 Real:  3291\n"
     ]
    }
   ],
   "source": [
    "for i in range(10):\n",
    "    print(\"Predicted: \", y_pred_reg_base[i], \"Real: \", y_test_reg[i])"
   ]
  },
  {
   "cell_type": "code",
   "execution_count": 19,
   "metadata": {},
   "outputs": [
    {
     "data": {
      "image/png": "[encoded data removed]",
      "text/plain": [
       "<Figure size 432x288 with 1 Axes>"
      ]
     },
     "metadata": {
      "needs_background": "light"
     },
     "output_type": "display_data"
    }
   ],
   "source": [
    "visualizer = PredictionError(reg_base)\n",
    "visualizer.fit(x_train_reg, y_train_reg)  # Fit the training data to the visualizer\n",
    "visualizer.score(x_test_reg, y_test_reg)  # Evaluate the model on the test data\n",
    "g = visualizer.poof() "
   ]
  },
  {
   "cell_type": "code",
   "execution_count": 20,
   "metadata": {},
   "outputs": [],
   "source": [
    "#Time series\n",
    "time_pred_reg_lr = reg_base.predict(x_test_reg_series)\n",
    "\n",
    "time_pred_series_reg_lr = pd.Series(time_pred_reg_lr)\n",
    "time_real_series_reg_lr = pd.Series(y_test_reg_series)"
   ]
  },
  {
   "cell_type": "code",
   "execution_count": 21,
   "metadata": {},
   "outputs": [
    {
     "data": {
      "image/png": "[encoded data removed]",
      "text/plain": [
       "<Figure size 432x288 with 1 Axes>"
      ]
     },
     "metadata": {
      "needs_background": "light"
     },
     "output_type": "display_data"
    }
   ],
   "source": [
    "time_pred_series_reg_lr.plot(legend=True, title='Crowdedness Prediction - Linear Regression', label=\"Predicted\")\n",
    "time_real_series_reg_lr.plot(legend=True, label=\"Actual\")\n",
    "plt.show()"
   ]
  },
  {
   "cell_type": "markdown",
   "metadata": {},
   "source": [
    "#### Evaluation"
   ]
  },
  {
   "cell_type": "code",
   "execution_count": 22,
   "metadata": {},
   "outputs": [
    {
     "name": "stdout",
     "output_type": "stream",
     "text": [
      "R^2 Score:  0.25444067395166337\n",
      "MSE:  460597.93438970414\n",
      "RMSE:  678.6736582406187\n"
     ]
    }
   ],
   "source": [
    "base_score = reg_base.score(x_eval_reg, y_eval_reg)\n",
    "\n",
    "y_pred_base = reg_base.predict(x_eval_reg)\n",
    "base_mse = mean_squared_error(y_pred_base, y_eval_reg)\n",
    "\n",
    "print(\"R^2 Score: \", base_score)\n",
    "print(\"MSE: \", base_mse)\n",
    "print(\"RMSE: \", np.sqrt(base_mse))"
   ]
  },
  {
   "cell_type": "code",
   "execution_count": 23,
   "metadata": {},
   "outputs": [
    {
     "data": {
      "image/png": "[encoded data removed]",
      "text/plain": [
       "<Figure size 432x288 with 1 Axes>"
      ]
     },
     "metadata": {
      "needs_background": "light"
     },
     "output_type": "display_data"
    }
   ],
   "source": [
    "visualizer = PredictionError(reg_base)\n",
    "visualizer.fit(x_train_reg, y_train_reg)  # Fit the training data to the visualizer\n",
    "visualizer.score(x_eval_reg, y_eval_reg)  # Evaluate the model on the test data\n",
    "g = visualizer.poof() "
   ]
  },
  {
   "cell_type": "code",
   "execution_count": 24,
   "metadata": {},
   "outputs": [],
   "source": [
    "#Time series\n",
    "time_pred_lr = reg_base.predict(x_series_reg)\n",
    "\n",
    "time_pred_series_lr = pd.Series(time_pred_lr)\n",
    "time_real_series_lr = pd.Series(y_series_reg)"
   ]
  },
  {
   "cell_type": "code",
   "execution_count": 25,
   "metadata": {},
   "outputs": [
    {
     "data": {
      "image/png": "[encoded data removed]",
      "text/plain": [
       "<Figure size 432x288 with 1 Axes>"
      ]
     },
     "metadata": {
      "needs_background": "light"
     },
     "output_type": "display_data"
    }
   ],
   "source": [
    "time_pred_series_lr.plot(legend=True, title='Crowdedness Prediction - Linear Regression', label=\"Predicted\")\n",
    "time_real_series_lr.plot(legend=True, label=\"Actual\")\n",
    "plt.show()"
   ]
  },
  {
   "cell_type": "markdown",
   "metadata": {},
   "source": [
    "### Random Forrest Regressor <a name=\"regRFGModel\"></a>\n",
    "Implemented the [Sklearn Version](https://scikit-learn.org/stable/modules/generated/sklearn.ensemble.RandomForestRegressor.html)\n",
    "\n",
    "Parameters\n",
    "- *N-Estimators*: Number of trees in the model\n",
    "- *criterion*: loss function\n",
    "- *n_jobs*: The number of jobs to run in parallel for both fit and predict\n",
    "- *random_state*: random_state is the seed used by the random number generator\n",
    "- *bootstrap*: Whether bootstrap samples are used when building trees"
   ]
  },
  {
   "cell_type": "markdown",
   "metadata": {},
   "source": [
    "#### Training"
   ]
  },
  {
   "cell_type": "code",
   "execution_count": 26,
   "metadata": {},
   "outputs": [],
   "source": [
    "#Set parameters model\n",
    "reg_rfg = RandomForestRegressor(n_estimators=500, criterion=\"mse\", n_jobs=100, random_state=42, bootstrap=True, \n",
    "                               oob_score=True)"
   ]
  },
  {
   "cell_type": "code",
   "execution_count": 27,
   "metadata": {},
   "outputs": [
    {
     "ename": "KeyboardInterrupt",
     "evalue": "",
     "output_type": "error",
     "traceback": [
      "\u001b[1;31m---------------------------------------------------------------------------\u001b[0m",
      "\u001b[1;31mKeyboardInterrupt\u001b[0m                         Traceback (most recent call last)",
      "\u001b[1;32m<ipython-input-27-825e7e0feae0>\u001b[0m in \u001b[0;36m<module>\u001b[1;34m\u001b[0m\n\u001b[0;32m      1\u001b[0m \u001b[1;31m#fit the model\u001b[0m\u001b[1;33m\u001b[0m\u001b[1;33m\u001b[0m\u001b[1;33m\u001b[0m\u001b[0m\n\u001b[1;32m----> 2\u001b[1;33m \u001b[0mreg_rfg\u001b[0m\u001b[1;33m.\u001b[0m\u001b[0mfit\u001b[0m\u001b[1;33m(\u001b[0m\u001b[0mx_train_reg\u001b[0m\u001b[1;33m,\u001b[0m \u001b[0my_train_reg\u001b[0m\u001b[1;33m)\u001b[0m\u001b[1;33m\u001b[0m\u001b[1;33m\u001b[0m\u001b[0m\n\u001b[0m",
      "\u001b[1;32mD:\\Programs\\Anaconda\\envs\\Analytics\\lib\\site-packages\\sklearn\\ensemble\\forest.py\u001b[0m in \u001b[0;36mfit\u001b[1;34m(self, X, y, sample_weight)\u001b[0m\n\u001b[0;32m    331\u001b[0m                     \u001b[0mt\u001b[0m\u001b[1;33m,\u001b[0m \u001b[0mself\u001b[0m\u001b[1;33m,\u001b[0m \u001b[0mX\u001b[0m\u001b[1;33m,\u001b[0m \u001b[0my\u001b[0m\u001b[1;33m,\u001b[0m \u001b[0msample_weight\u001b[0m\u001b[1;33m,\u001b[0m \u001b[0mi\u001b[0m\u001b[1;33m,\u001b[0m \u001b[0mlen\u001b[0m\u001b[1;33m(\u001b[0m\u001b[0mtrees\u001b[0m\u001b[1;33m)\u001b[0m\u001b[1;33m,\u001b[0m\u001b[1;33m\u001b[0m\u001b[1;33m\u001b[0m\u001b[0m\n\u001b[0;32m    332\u001b[0m                     verbose=self.verbose, class_weight=self.class_weight)\n\u001b[1;32m--> 333\u001b[1;33m                 for i, t in enumerate(trees))\n\u001b[0m\u001b[0;32m    334\u001b[0m \u001b[1;33m\u001b[0m\u001b[0m\n\u001b[0;32m    335\u001b[0m             \u001b[1;31m# Collect newly grown trees\u001b[0m\u001b[1;33m\u001b[0m\u001b[1;33m\u001b[0m\u001b[1;33m\u001b[0m\u001b[0m\n",
      "\u001b[1;32mD:\\Programs\\Anaconda\\envs\\Analytics\\lib\\site-packages\\sklearn\\externals\\joblib\\parallel.py\u001b[0m in \u001b[0;36m__call__\u001b[1;34m(self, iterable)\u001b[0m\n\u001b[0;32m    928\u001b[0m \u001b[1;33m\u001b[0m\u001b[0m\n\u001b[0;32m    929\u001b[0m             \u001b[1;32mwith\u001b[0m \u001b[0mself\u001b[0m\u001b[1;33m.\u001b[0m\u001b[0m_backend\u001b[0m\u001b[1;33m.\u001b[0m\u001b[0mretrieval_context\u001b[0m\u001b[1;33m(\u001b[0m\u001b[1;33m)\u001b[0m\u001b[1;33m:\u001b[0m\u001b[1;33m\u001b[0m\u001b[1;33m\u001b[0m\u001b[0m\n\u001b[1;32m--> 930\u001b[1;33m                 \u001b[0mself\u001b[0m\u001b[1;33m.\u001b[0m\u001b[0mretrieve\u001b[0m\u001b[1;33m(\u001b[0m\u001b[1;33m)\u001b[0m\u001b[1;33m\u001b[0m\u001b[1;33m\u001b[0m\u001b[0m\n\u001b[0m\u001b[0;32m    931\u001b[0m             \u001b[1;31m# Make sure that we get a last message telling us we are done\u001b[0m\u001b[1;33m\u001b[0m\u001b[1;33m\u001b[0m\u001b[1;33m\u001b[0m\u001b[0m\n\u001b[0;32m    932\u001b[0m             \u001b[0melapsed_time\u001b[0m \u001b[1;33m=\u001b[0m \u001b[0mtime\u001b[0m\u001b[1;33m.\u001b[0m\u001b[0mtime\u001b[0m\u001b[1;33m(\u001b[0m\u001b[1;33m)\u001b[0m \u001b[1;33m-\u001b[0m \u001b[0mself\u001b[0m\u001b[1;33m.\u001b[0m\u001b[0m_start_time\u001b[0m\u001b[1;33m\u001b[0m\u001b[1;33m\u001b[0m\u001b[0m\n",
      "\u001b[1;32mD:\\Programs\\Anaconda\\envs\\Analytics\\lib\\site-packages\\sklearn\\externals\\joblib\\parallel.py\u001b[0m in \u001b[0;36mretrieve\u001b[1;34m(self)\u001b[0m\n\u001b[0;32m    831\u001b[0m             \u001b[1;32mtry\u001b[0m\u001b[1;33m:\u001b[0m\u001b[1;33m\u001b[0m\u001b[1;33m\u001b[0m\u001b[0m\n\u001b[0;32m    832\u001b[0m                 \u001b[1;32mif\u001b[0m \u001b[0mgetattr\u001b[0m\u001b[1;33m(\u001b[0m\u001b[0mself\u001b[0m\u001b[1;33m.\u001b[0m\u001b[0m_backend\u001b[0m\u001b[1;33m,\u001b[0m \u001b[1;34m'supports_timeout'\u001b[0m\u001b[1;33m,\u001b[0m \u001b[1;32mFalse\u001b[0m\u001b[1;33m)\u001b[0m\u001b[1;33m:\u001b[0m\u001b[1;33m\u001b[0m\u001b[1;33m\u001b[0m\u001b[0m\n\u001b[1;32m--> 833\u001b[1;33m                     \u001b[0mself\u001b[0m\u001b[1;33m.\u001b[0m\u001b[0m_output\u001b[0m\u001b[1;33m.\u001b[0m\u001b[0mextend\u001b[0m\u001b[1;33m(\u001b[0m\u001b[0mjob\u001b[0m\u001b[1;33m.\u001b[0m\u001b[0mget\u001b[0m\u001b[1;33m(\u001b[0m\u001b[0mtimeout\u001b[0m\u001b[1;33m=\u001b[0m\u001b[0mself\u001b[0m\u001b[1;33m.\u001b[0m\u001b[0mtimeout\u001b[0m\u001b[1;33m)\u001b[0m\u001b[1;33m)\u001b[0m\u001b[1;33m\u001b[0m\u001b[1;33m\u001b[0m\u001b[0m\n\u001b[0m\u001b[0;32m    834\u001b[0m                 \u001b[1;32melse\u001b[0m\u001b[1;33m:\u001b[0m\u001b[1;33m\u001b[0m\u001b[1;33m\u001b[0m\u001b[0m\n\u001b[0;32m    835\u001b[0m                     \u001b[0mself\u001b[0m\u001b[1;33m.\u001b[0m\u001b[0m_output\u001b[0m\u001b[1;33m.\u001b[0m\u001b[0mextend\u001b[0m\u001b[1;33m(\u001b[0m\u001b[0mjob\u001b[0m\u001b[1;33m.\u001b[0m\u001b[0mget\u001b[0m\u001b[1;33m(\u001b[0m\u001b[1;33m)\u001b[0m\u001b[1;33m)\u001b[0m\u001b[1;33m\u001b[0m\u001b[1;33m\u001b[0m\u001b[0m\n",
      "\u001b[1;32mD:\\Programs\\Anaconda\\envs\\Analytics\\lib\\multiprocessing\\pool.py\u001b[0m in \u001b[0;36mget\u001b[1;34m(self, timeout)\u001b[0m\n\u001b[0;32m    675\u001b[0m \u001b[1;33m\u001b[0m\u001b[0m\n\u001b[0;32m    676\u001b[0m     \u001b[1;32mdef\u001b[0m \u001b[0mget\u001b[0m\u001b[1;33m(\u001b[0m\u001b[0mself\u001b[0m\u001b[1;33m,\u001b[0m \u001b[0mtimeout\u001b[0m\u001b[1;33m=\u001b[0m\u001b[1;32mNone\u001b[0m\u001b[1;33m)\u001b[0m\u001b[1;33m:\u001b[0m\u001b[1;33m\u001b[0m\u001b[1;33m\u001b[0m\u001b[0m\n\u001b[1;32m--> 677\u001b[1;33m         \u001b[0mself\u001b[0m\u001b[1;33m.\u001b[0m\u001b[0mwait\u001b[0m\u001b[1;33m(\u001b[0m\u001b[0mtimeout\u001b[0m\u001b[1;33m)\u001b[0m\u001b[1;33m\u001b[0m\u001b[1;33m\u001b[0m\u001b[0m\n\u001b[0m\u001b[0;32m    678\u001b[0m         \u001b[1;32mif\u001b[0m \u001b[1;32mnot\u001b[0m \u001b[0mself\u001b[0m\u001b[1;33m.\u001b[0m\u001b[0mready\u001b[0m\u001b[1;33m(\u001b[0m\u001b[1;33m)\u001b[0m\u001b[1;33m:\u001b[0m\u001b[1;33m\u001b[0m\u001b[1;33m\u001b[0m\u001b[0m\n\u001b[0;32m    679\u001b[0m             \u001b[1;32mraise\u001b[0m \u001b[0mTimeoutError\u001b[0m\u001b[1;33m\u001b[0m\u001b[1;33m\u001b[0m\u001b[0m\n",
      "\u001b[1;32mD:\\Programs\\Anaconda\\envs\\Analytics\\lib\\multiprocessing\\pool.py\u001b[0m in \u001b[0;36mwait\u001b[1;34m(self, timeout)\u001b[0m\n\u001b[0;32m    672\u001b[0m \u001b[1;33m\u001b[0m\u001b[0m\n\u001b[0;32m    673\u001b[0m     \u001b[1;32mdef\u001b[0m \u001b[0mwait\u001b[0m\u001b[1;33m(\u001b[0m\u001b[0mself\u001b[0m\u001b[1;33m,\u001b[0m \u001b[0mtimeout\u001b[0m\u001b[1;33m=\u001b[0m\u001b[1;32mNone\u001b[0m\u001b[1;33m)\u001b[0m\u001b[1;33m:\u001b[0m\u001b[1;33m\u001b[0m\u001b[1;33m\u001b[0m\u001b[0m\n\u001b[1;32m--> 674\u001b[1;33m         \u001b[0mself\u001b[0m\u001b[1;33m.\u001b[0m\u001b[0m_event\u001b[0m\u001b[1;33m.\u001b[0m\u001b[0mwait\u001b[0m\u001b[1;33m(\u001b[0m\u001b[0mtimeout\u001b[0m\u001b[1;33m)\u001b[0m\u001b[1;33m\u001b[0m\u001b[1;33m\u001b[0m\u001b[0m\n\u001b[0m\u001b[0;32m    675\u001b[0m \u001b[1;33m\u001b[0m\u001b[0m\n\u001b[0;32m    676\u001b[0m     \u001b[1;32mdef\u001b[0m \u001b[0mget\u001b[0m\u001b[1;33m(\u001b[0m\u001b[0mself\u001b[0m\u001b[1;33m,\u001b[0m \u001b[0mtimeout\u001b[0m\u001b[1;33m=\u001b[0m\u001b[1;32mNone\u001b[0m\u001b[1;33m)\u001b[0m\u001b[1;33m:\u001b[0m\u001b[1;33m\u001b[0m\u001b[1;33m\u001b[0m\u001b[0m\n",
      "\u001b[1;32mD:\\Programs\\Anaconda\\envs\\Analytics\\lib\\threading.py\u001b[0m in \u001b[0;36mwait\u001b[1;34m(self, timeout)\u001b[0m\n\u001b[0;32m    550\u001b[0m             \u001b[0msignaled\u001b[0m \u001b[1;33m=\u001b[0m \u001b[0mself\u001b[0m\u001b[1;33m.\u001b[0m\u001b[0m_flag\u001b[0m\u001b[1;33m\u001b[0m\u001b[1;33m\u001b[0m\u001b[0m\n\u001b[0;32m    551\u001b[0m             \u001b[1;32mif\u001b[0m \u001b[1;32mnot\u001b[0m \u001b[0msignaled\u001b[0m\u001b[1;33m:\u001b[0m\u001b[1;33m\u001b[0m\u001b[1;33m\u001b[0m\u001b[0m\n\u001b[1;32m--> 552\u001b[1;33m                 \u001b[0msignaled\u001b[0m \u001b[1;33m=\u001b[0m \u001b[0mself\u001b[0m\u001b[1;33m.\u001b[0m\u001b[0m_cond\u001b[0m\u001b[1;33m.\u001b[0m\u001b[0mwait\u001b[0m\u001b[1;33m(\u001b[0m\u001b[0mtimeout\u001b[0m\u001b[1;33m)\u001b[0m\u001b[1;33m\u001b[0m\u001b[1;33m\u001b[0m\u001b[0m\n\u001b[0m\u001b[0;32m    553\u001b[0m             \u001b[1;32mreturn\u001b[0m \u001b[0msignaled\u001b[0m\u001b[1;33m\u001b[0m\u001b[1;33m\u001b[0m\u001b[0m\n\u001b[0;32m    554\u001b[0m \u001b[1;33m\u001b[0m\u001b[0m\n",
      "\u001b[1;32mD:\\Programs\\Anaconda\\envs\\Analytics\\lib\\threading.py\u001b[0m in \u001b[0;36mwait\u001b[1;34m(self, timeout)\u001b[0m\n\u001b[0;32m    294\u001b[0m         \u001b[1;32mtry\u001b[0m\u001b[1;33m:\u001b[0m    \u001b[1;31m# restore state no matter what (e.g., KeyboardInterrupt)\u001b[0m\u001b[1;33m\u001b[0m\u001b[1;33m\u001b[0m\u001b[0m\n\u001b[0;32m    295\u001b[0m             \u001b[1;32mif\u001b[0m \u001b[0mtimeout\u001b[0m \u001b[1;32mis\u001b[0m \u001b[1;32mNone\u001b[0m\u001b[1;33m:\u001b[0m\u001b[1;33m\u001b[0m\u001b[1;33m\u001b[0m\u001b[0m\n\u001b[1;32m--> 296\u001b[1;33m                 \u001b[0mwaiter\u001b[0m\u001b[1;33m.\u001b[0m\u001b[0macquire\u001b[0m\u001b[1;33m(\u001b[0m\u001b[1;33m)\u001b[0m\u001b[1;33m\u001b[0m\u001b[1;33m\u001b[0m\u001b[0m\n\u001b[0m\u001b[0;32m    297\u001b[0m                 \u001b[0mgotit\u001b[0m \u001b[1;33m=\u001b[0m \u001b[1;32mTrue\u001b[0m\u001b[1;33m\u001b[0m\u001b[1;33m\u001b[0m\u001b[0m\n\u001b[0;32m    298\u001b[0m             \u001b[1;32melse\u001b[0m\u001b[1;33m:\u001b[0m\u001b[1;33m\u001b[0m\u001b[1;33m\u001b[0m\u001b[0m\n",
      "\u001b[1;31mKeyboardInterrupt\u001b[0m: "
     ]
    }
   ],
   "source": [
    "#fit the model\n",
    "reg_rfg.fit(x_train_reg, y_train_reg)"
   ]
  },
  {
   "cell_type": "markdown",
   "metadata": {},
   "source": [
    "#### Test"
   ]
  },
  {
   "cell_type": "code",
   "execution_count": null,
   "metadata": {},
   "outputs": [],
   "source": [
    "#Score the model\n",
    "reg_rfg_score = reg_rfg.score(x_test_reg, y_test_reg)\n",
    "\n",
    "#Test\n",
    "y_pred_reg_rfg = reg_rfg.predict(x_test_reg)\n",
    "reg_rfg_mse = mean_squared_error(y_pred_reg_rfg, y_test_reg)\n",
    "\n",
    "print(\"R^2 Score: \", reg_rfg_score)\n",
    "print(\"MSE Test: \", reg_rfg_mse)\n",
    "print(\"RMSE Test: \", np.sqrt(reg_rfg_mse))"
   ]
  },
  {
   "cell_type": "code",
   "execution_count": null,
   "metadata": {},
   "outputs": [],
   "source": [
    "for i in range(10):\n",
    "    print(\"Predicted: \", y_pred_reg_rfg[i], \"Real: \", y_test_reg[i])"
   ]
  },
  {
   "cell_type": "code",
   "execution_count": null,
   "metadata": {},
   "outputs": [],
   "source": [
    "#Feature importance\n",
    "importance = reg_rfg.feature_importances_\n",
    "feature_indexes_by_importance = importance.argsort()\n",
    "feature_indexes_by_importance = feature_indexes_by_importance[-5:]\n",
    "for index in feature_indexes_by_importance:\n",
    "    print('{}-{:.2f}%'.format(feature_labels_reg[index], (importance[index] *100.0)))"
   ]
  },
  {
   "cell_type": "code",
   "execution_count": null,
   "metadata": {
    "scrolled": false
   },
   "outputs": [],
   "source": [
    "visualizer = PredictionError(reg_rfg)\n",
    "visualizer.fit(x_train_reg, y_train_reg)  # Fit the training data to the visualizer\n",
    "visualizer.score(x_test_reg, y_test_reg)  # Evaluate the model on the test data\n",
    "g = visualizer.poof() "
   ]
  },
  {
   "cell_type": "code",
   "execution_count": null,
   "metadata": {},
   "outputs": [],
   "source": [
    "#Time series\n",
    "time_pred_reg_rfg = reg_rfg.predict(x_test_reg_series)\n",
    "\n",
    "time_pred_series_reg_rfg = pd.Series(time_pred_reg_rfg)\n",
    "time_real_series_reg_rfg = pd.Series(y_test_reg_series)"
   ]
  },
  {
   "cell_type": "code",
   "execution_count": null,
   "metadata": {},
   "outputs": [],
   "source": [
    "time_pred_series_reg_rfg.plot(legend=True, title='Crowdedness Prediction - RFG', label=\"Predicted\")\n",
    "time_real_series_reg_rfg.plot(legend=True, label=\"Actual\")\n",
    "plt.show()"
   ]
  },
  {
   "cell_type": "markdown",
   "metadata": {},
   "source": [
    "#### Evaluation"
   ]
  },
  {
   "cell_type": "code",
   "execution_count": null,
   "metadata": {},
   "outputs": [],
   "source": [
    "#Score the model\n",
    "rfg_score = reg_rfg.score(x_eval_reg, y_eval_reg)\n",
    "\n",
    "#Test\n",
    "y_pred_rfg = reg_rfg.predict(x_eval_reg)\n",
    "rfg_mse = mean_squared_error(y_pred_rfg, y_eval_reg)\n",
    "\n",
    "print(\"R^2 Score: \", rfg_score)\n",
    "print(\"MSE Test: \", rfg_mse)\n",
    "print(\"RMSE Test: \", np.sqrt(rfg_mse))"
   ]
  },
  {
   "cell_type": "code",
   "execution_count": null,
   "metadata": {},
   "outputs": [],
   "source": [
    "visualizer = PredictionError(reg_rfg)\n",
    "visualizer.fit(x_train_reg, y_train_reg)  # Fit the training data to the visualizer\n",
    "visualizer.score(x_eval_reg, y_eval_reg)  # Evaluate the model on the test data\n",
    "g = visualizer.poof()"
   ]
  },
  {
   "cell_type": "code",
   "execution_count": null,
   "metadata": {},
   "outputs": [],
   "source": [
    "#Time series\n",
    "time_pred_rfg = reg_rfg.predict(x_series_reg)\n",
    "\n",
    "time_pred_series_rfg = pd.Series(time_pred_rfg)\n",
    "time_real_series_rfg = pd.Series(y_series_reg)"
   ]
  },
  {
   "cell_type": "code",
   "execution_count": null,
   "metadata": {},
   "outputs": [],
   "source": [
    "time_pred_series_rfg.plot(legend=True, title='Crowdedness Prediction - RFG', label=\"Predicted\")\n",
    "time_real_series_rfg.plot(legend=True, label=\"Actual\")\n",
    "plt.show()"
   ]
  },
  {
   "cell_type": "markdown",
   "metadata": {},
   "source": [
    "### XGBoost Regressor\n",
    "Through [SciKit-Learn API](https://xgboost.readthedocs.io/en/latest/python/python_api.html) "
   ]
  },
  {
   "cell_type": "markdown",
   "metadata": {},
   "source": [
    "#### Training"
   ]
  },
  {
   "cell_type": "code",
   "execution_count": null,
   "metadata": {},
   "outputs": [],
   "source": [
    "xgb_reg = xgb.XGBRegressor(max_depth=6, learning_rate=0.1, n_estimators=300, verbosity=1,\n",
    "                          booster=\"gbtree\", n_jobs=20, random_state=42)"
   ]
  },
  {
   "cell_type": "code",
   "execution_count": null,
   "metadata": {},
   "outputs": [],
   "source": [
    "xgb_reg.fit(x_train_reg, y_train_reg)"
   ]
  },
  {
   "cell_type": "markdown",
   "metadata": {},
   "source": [
    "#### Test"
   ]
  },
  {
   "cell_type": "code",
   "execution_count": null,
   "metadata": {},
   "outputs": [],
   "source": [
    "reg_xgb_score = xgb_reg.score(x_test_reg, y_test_reg)\n",
    "\n",
    "#Training\n",
    "y_pred_reg_xgb = xgb_reg.predict(x_test_reg)\n",
    "reg_xgb_mse = mean_squared_error(y_pred_reg_xgb, y_test_reg)\n",
    "\n",
    "print(\"R^2 Score: \", reg_xgb_score)\n",
    "print(\"MSE Test: \", reg_xgb_mse)\n",
    "print(\"RMSE Test: \", np.sqrt(reg_xgb_mse))"
   ]
  },
  {
   "cell_type": "code",
   "execution_count": null,
   "metadata": {},
   "outputs": [],
   "source": [
    "for i in range(10):\n",
    "    print(\"Predicted: \", y_pred_reg_xgb[i], \"Real: \", y_test_reg[i])"
   ]
  },
  {
   "cell_type": "code",
   "execution_count": null,
   "metadata": {},
   "outputs": [],
   "source": [
    "#Feature importance\n",
    "importance = xgb_reg.feature_importances_\n",
    "feature_indexes_by_importance = importance.argsort()\n",
    "feature_indexes_by_importance = feature_indexes_by_importance[-5:]\n",
    "for index in feature_indexes_by_importance:\n",
    "    print('{}-{:.2f}%'.format(feature_labels_reg[index], (importance[index] *100.0)))"
   ]
  },
  {
   "cell_type": "code",
   "execution_count": null,
   "metadata": {},
   "outputs": [],
   "source": [
    "visualizer = PredictionError(xgb_reg)\n",
    "visualizer.fit(x_train_reg, y_train_reg)  # Fit the training data to the visualizer\n",
    "visualizer.score(x_test_reg, y_test_reg)  # Evaluate the model on the test data\n",
    "g = visualizer.poof() "
   ]
  },
  {
   "cell_type": "code",
   "execution_count": null,
   "metadata": {},
   "outputs": [],
   "source": [
    "#Time series\n",
    "time_pred_reg_xgb = xgb_reg.predict(x_test_reg_series)\n",
    "\n",
    "time_pred_series_reg_xgb = pd.Series(time_pred_reg_xgb)\n",
    "time_real_series_reg_xgb = pd.Series(y_test_reg_series)"
   ]
  },
  {
   "cell_type": "code",
   "execution_count": null,
   "metadata": {},
   "outputs": [],
   "source": [
    "time_pred_series_reg_xgb.plot(legend=True, title='Crowdedness Prediction - XGBoost', label=\"Predicted\")\n",
    "time_real_series_reg_xgb.plot(legend=True, label=\"Actual\")\n",
    "plt.show()"
   ]
  },
  {
   "cell_type": "markdown",
   "metadata": {},
   "source": [
    "#### Evaluation"
   ]
  },
  {
   "cell_type": "code",
   "execution_count": null,
   "metadata": {},
   "outputs": [],
   "source": [
    "xgb_score = xgb_reg.score(x_eval_reg, y_eval_reg)\n",
    "\n",
    "#Training\n",
    "y_pred_xgb = xgb_reg.predict(x_eval_reg)\n",
    "xgb_mse = mean_squared_error(y_pred_xgb, y_eval_reg)\n",
    "\n",
    "print(\"R^2 Score: \", xgb_score)\n",
    "print(\"MSE Test: \", xgb_mse)\n",
    "print(\"RMSE Test: \", np.sqrt(xgb_mse))"
   ]
  },
  {
   "cell_type": "code",
   "execution_count": null,
   "metadata": {},
   "outputs": [],
   "source": [
    "visualizer = PredictionError(xgb_reg)\n",
    "visualizer.fit(x_train_reg, y_train_reg)  # Fit the training data to the visualizer\n",
    "visualizer.score(x_eval_reg, y_eval_reg)  # Evaluate the model on the test data\n",
    "g = visualizer.poof()"
   ]
  },
  {
   "cell_type": "code",
   "execution_count": null,
   "metadata": {},
   "outputs": [],
   "source": [
    "#Time series\n",
    "time_pred_xgb = xgb_reg.predict(x_series_reg)\n",
    "\n",
    "time_pred_series_xgb = pd.Series(time_pred_xgb)\n",
    "time_real_series_xgb = pd.Series(y_series_reg)"
   ]
  },
  {
   "cell_type": "code",
   "execution_count": null,
   "metadata": {},
   "outputs": [],
   "source": [
    "time_pred_series_xgb.plot(legend=True, title='Crowdedness Prediction - XGBoost', label=\"Predicted\")\n",
    "time_real_series_xgb.plot(legend=True, label=\"Actual\")\n",
    "plt.show()"
   ]
  },
  {
   "cell_type": "markdown",
   "metadata": {},
   "source": [
    "### Lasso <a name=\"regABRModel\"></a>\n",
    "Implemented the [Sklearn Version](https://scikit-learn.org/stable/modules/generated/sklearn.linear_model.LassoCV.html#sklearn.linear_model.LassoCV)"
   ]
  },
  {
   "cell_type": "markdown",
   "metadata": {},
   "source": [
    "#### Training"
   ]
  },
  {
   "cell_type": "code",
   "execution_count": null,
   "metadata": {},
   "outputs": [],
   "source": [
    "lasso = LassoCV(n_jobs=50, random_state=42, n_alphas=5, normalize=True, precompute=\"auto\", selection=\"random\")"
   ]
  },
  {
   "cell_type": "code",
   "execution_count": null,
   "metadata": {},
   "outputs": [],
   "source": [
    "lasso.fit(x_train_reg, y_train_reg)"
   ]
  },
  {
   "cell_type": "markdown",
   "metadata": {},
   "source": [
    "#### Test"
   ]
  },
  {
   "cell_type": "code",
   "execution_count": null,
   "metadata": {},
   "outputs": [],
   "source": [
    "reg_lasso_score=lasso.score(x_test_reg, y_test_reg)\n",
    "\n",
    "y_pred_reg_lasso = lasso.predict(x_test_reg)\n",
    "reg_lasso_mse = mean_squared_error(y_pred_reg_lasso, y_test_reg)\n",
    "\n",
    "print(\"R^2 Sore: \", reg_lasso_score)\n",
    "print(\"MSE: \", reg_lasso_mse)\n",
    "print(\"RMSE: \", np.sqrt(reg_lasso_mse))"
   ]
  },
  {
   "cell_type": "code",
   "execution_count": null,
   "metadata": {},
   "outputs": [],
   "source": [
    "for i in range(10):\n",
    "    print(\"Predicted: \", y_pred_reg_lasso[i], \"Real: \", y_test_reg[i])"
   ]
  },
  {
   "cell_type": "code",
   "execution_count": null,
   "metadata": {},
   "outputs": [],
   "source": [
    "visualizer = PredictionError(lasso)\n",
    "visualizer.fit(x_train_reg, y_train_reg)  # Fit the training data to the visualizer\n",
    "visualizer.score(x_test_reg, y_test_reg)  # Evaluate the model on the test data\n",
    "g = visualizer.poof() "
   ]
  },
  {
   "cell_type": "code",
   "execution_count": null,
   "metadata": {},
   "outputs": [],
   "source": [
    "#Time series\n",
    "time_pred_reg_lasso = lasso.predict(x_test_reg_series)\n",
    "\n",
    "time_pred_series_reg_lasso = pd.Series(time_pred_reg_lasso)\n",
    "time_real_series_reg_lasso = pd.Series(y_test_reg_series)"
   ]
  },
  {
   "cell_type": "code",
   "execution_count": null,
   "metadata": {},
   "outputs": [],
   "source": [
    "time_pred_series_reg_lasso.plot(legend=True, title='Crowdedness Prediction - Lasso', label=\"Predicted\")\n",
    "time_real_series_reg_lasso.plot(legend=True, label=\"Actual\")\n",
    "plt.show()"
   ]
  },
  {
   "cell_type": "markdown",
   "metadata": {},
   "source": [
    "#### Evaluation"
   ]
  },
  {
   "cell_type": "code",
   "execution_count": null,
   "metadata": {},
   "outputs": [],
   "source": [
    "lasso_score=lasso.score(x_eval_reg, y_eval_reg)\n",
    "\n",
    "y_pred_lasso = lasso.predict(x_eval_reg)\n",
    "lasso_mse = mean_squared_error(y_pred_lasso, y_eval_reg)\n",
    "\n",
    "print(\"R^2 Sore: \", lasso_score)\n",
    "print(\"MSE: \", lasso_mse)\n",
    "print(\"RMSE: \", np.sqrt(lasso_mse))"
   ]
  },
  {
   "cell_type": "code",
   "execution_count": null,
   "metadata": {},
   "outputs": [],
   "source": [
    "visualizer = PredictionError(lasso)\n",
    "visualizer.fit(x_train_reg, y_train_reg)  # Fit the training data to the visualizer\n",
    "visualizer.score(x_eval_reg, y_eval_reg)  # Evaluate the model on the test data\n",
    "g = visualizer.poof()"
   ]
  },
  {
   "cell_type": "code",
   "execution_count": null,
   "metadata": {},
   "outputs": [],
   "source": [
    "#Time series\n",
    "time_pred_lasso = lasso.predict(x_series_reg)\n",
    "\n",
    "time_pred_series_lasso = pd.Series(time_pred_lasso)\n",
    "time_real_series_lasso = pd.Series(y_series_reg)"
   ]
  },
  {
   "cell_type": "code",
   "execution_count": null,
   "metadata": {},
   "outputs": [],
   "source": [
    "time_pred_series_lasso.plot(legend=True, title='Crowdedness Prediction - Lasso', label=\"Predicted\")\n",
    "time_real_series_lasso.plot(legend=True, label=\"Actual\")\n",
    "plt.show()"
   ]
  },
  {
   "cell_type": "markdown",
   "metadata": {},
   "source": [
    "## Classification Models <a name=\"classification\"></a>"
   ]
  },
  {
   "cell_type": "markdown",
   "metadata": {},
   "source": [
    "### Change numerical labels to categorical labels <a name=\"classCatVar\"></a>"
   ]
  },
  {
   "cell_type": "code",
   "execution_count": null,
   "metadata": {},
   "outputs": [],
   "source": [
    "low_split = TrainTest_df[\"CrowdednessCount\"].quantile(.25)\n",
    "mid_split = TrainTest_df[\"CrowdednessCount\"].quantile(.5)\n",
    "high_split = TrainTest_df[\"CrowdednessCount\"].quantile(.75)"
   ]
  },
  {
   "cell_type": "code",
   "execution_count": null,
   "metadata": {},
   "outputs": [],
   "source": [
    "clas_dict = TrainTest_df.to_dict(\"index\")\n",
    "\n",
    "for k, v in clas_dict.items():\n",
    "    \n",
    "    if v[\"CrowdednessCount\"] < low_split:\n",
    "        v[\"CrowdednessCount\"] = 1\n",
    "    elif v[\"CrowdednessCount\"] >= low_split and v[\"CrowdednessCount\"] < mid_split:\n",
    "        v[\"CrowdednessCount\"] = 2\n",
    "    elif v[\"CrowdednessCount\"] >= mid_split and v[\"CrowdednessCount\"] < high_split:\n",
    "        v[\"CrowdednessCount\"] = 3\n",
    "    elif v[\"CrowdednessCount\"] >= high_split:\n",
    "        v[\"CrowdednessCount\"] = 4\n",
    "    else:\n",
    "        print (k, \" has class error as it fits in none\")\n",
    "    \n",
    "clas_model_df = pd.DataFrame.from_dict(clas_dict, orient=\"index\")"
   ]
  },
  {
   "cell_type": "code",
   "execution_count": null,
   "metadata": {},
   "outputs": [],
   "source": [
    "series_dict = TimeSeries_df.to_dict(\"index\")\n",
    "\n",
    "for k, v in series_dict.items():\n",
    "    \n",
    "    if v[\"CrowdednessCount\"] < low_split:\n",
    "        v[\"CrowdednessCount\"] = 1\n",
    "    elif v[\"CrowdednessCount\"] >= low_split and v[\"CrowdednessCount\"] < mid_split:\n",
    "        v[\"CrowdednessCount\"] = 2\n",
    "    elif v[\"CrowdednessCount\"] >= mid_split and v[\"CrowdednessCount\"] < high_split:\n",
    "        v[\"CrowdednessCount\"] = 3\n",
    "    elif v[\"CrowdednessCount\"] >= high_split:\n",
    "        v[\"CrowdednessCount\"] = 4\n",
    "    else:\n",
    "        print (k, \" has class error as it fits in none\")\n",
    "    \n",
    "TimeSeries_df_clas = pd.DataFrame.from_dict(series_dict, orient=\"index\")    "
   ]
  },
  {
   "cell_type": "code",
   "execution_count": null,
   "metadata": {},
   "outputs": [],
   "source": [
    "TimeSeries_df_clas.head()"
   ]
  },
  {
   "cell_type": "code",
   "execution_count": null,
   "metadata": {},
   "outputs": [],
   "source": [
    "train_df_clas = clas_model_df[clas_model_df[\"Date\"].isin(train_set_dates)].reset_index().drop(columns=[\"Date\",\"index\"])\n",
    "\n",
    "test_df_clas = clas_model_df[clas_model_df[\"Date\"].isin(test_set_dates)].reset_index().drop(columns=[\"index\"])"
   ]
  },
  {
   "cell_type": "code",
   "execution_count": null,
   "metadata": {},
   "outputs": [],
   "source": [
    "#Train\n",
    "x_train_clas = train_df_clas.drop([\"CrowdednessCount\"], axis=1)\n",
    "y_train_clas = train_df_clas[\"CrowdednessCount\"]\n",
    "\n",
    "#Test\n",
    "x_test_clas = test_df_clas.drop([\"CrowdednessCount\", \"Date\"], axis=1)\n",
    "y_test_clas = test_df_clas[\"CrowdednessCount\"]\n",
    "\n",
    "test_clas_series = test_df_clas[(test_df_clas[\"SensorLatitude\"] == test_lat) & \n",
    "                              (test_df_clas[\"Date\"] == test_set_dates[0])].reset_index()\n",
    "x_test_clas_series = test_clas_series.drop([\"CrowdednessCount\", \"Date\", \"index\"], axis=1)\n",
    "y_test_clas_series = test_clas_series[\"CrowdednessCount\"]\n",
    "\n",
    "#Time series\n",
    "x_eval_clas = TimeSeries_df_clas.drop([\"CrowdednessCount\", \"Date\"], axis=1)\n",
    "y_eval_clas = TimeSeries_df_clas[\"CrowdednessCount\"]\n",
    "\n",
    "sub_series_clas = TimeSeries_df_clas[(TimeSeries_df_clas[\"SensorLatitude\"] == test_lat) & \n",
    "                           (TimeSeries_df_clas[\"Date\"] >= eval_start_date) & \n",
    "                           (TimeSeries_df_clas[\"Date\"] <= eval_end_date)].reset_index()\n",
    "\n",
    "x_series_clas = sub_series_clas.drop([\"CrowdednessCount\", \"Date\",\"index\"], axis=1)\n",
    "y_series_clas = sub_series_clas[\"CrowdednessCount\"]"
   ]
  },
  {
   "cell_type": "markdown",
   "metadata": {},
   "source": [
    "### Baseline <a name=\"classBaseModel\"></a>\n",
    "Implemented the [Sklearn Version](https://scikit-learn.org/stable/modules/generated/sklearn.dummy.DummyClassifier.html#sklearn.dummy.DummyClassifier)\n",
    "\n",
    "Parameters\n",
    "- *strategy*: \"stratified” - generates predictions by respecting the training set’s class distribution."
   ]
  },
  {
   "cell_type": "markdown",
   "metadata": {},
   "source": [
    "#### Training"
   ]
  },
  {
   "cell_type": "code",
   "execution_count": null,
   "metadata": {},
   "outputs": [],
   "source": [
    "clas_bas = DummyClassifier(strategy=\"stratified\", random_state=42)"
   ]
  },
  {
   "cell_type": "code",
   "execution_count": null,
   "metadata": {},
   "outputs": [],
   "source": [
    "clas_bas.fit(x_train_clas, y_train_clas)"
   ]
  },
  {
   "cell_type": "markdown",
   "metadata": {},
   "source": [
    "#### Test"
   ]
  },
  {
   "cell_type": "code",
   "execution_count": null,
   "metadata": {},
   "outputs": [],
   "source": [
    "y_pred_clas_bas = clas_bas.predict(x_test_clas)\n",
    "\n",
    "print(\"Accuracy Score: \", accuracy_score(y_test_clas, y_pred_clas_bas))\n",
    "print(classification_report(y_test_clas, y_pred_clas_bas))"
   ]
  },
  {
   "cell_type": "code",
   "execution_count": null,
   "metadata": {},
   "outputs": [],
   "source": [
    "visualizer = ClassPredictionError(\n",
    "    clas_bas\n",
    ")\n",
    "\n",
    "visualizer.fit(x_train_clas, y_train_clas)\n",
    "visualizer.score(x_test_clas, y_test_clas)\n",
    "g = visualizer.poof()"
   ]
  },
  {
   "cell_type": "code",
   "execution_count": null,
   "metadata": {},
   "outputs": [],
   "source": [
    "#Time series\n",
    "time_pred_bas_clas = clas_bas.predict(x_test_clas_series)\n",
    "\n",
    "time_pred_series_bas_clas = pd.Series(time_pred_bas_clas)\n",
    "time_real_series_bas_clas = pd.Series(y_test_clas_series)"
   ]
  },
  {
   "cell_type": "code",
   "execution_count": null,
   "metadata": {},
   "outputs": [],
   "source": [
    "time_pred_series_bas_clas.plot(legend=True, title='Crowdedness Prediction - Baseline', label=\"Predicted\")\n",
    "time_real_series_bas_clas.plot(legend=True, label=\"Actual\")\n",
    "plt.show()"
   ]
  },
  {
   "cell_type": "markdown",
   "metadata": {},
   "source": [
    "#### Evaluation"
   ]
  },
  {
   "cell_type": "code",
   "execution_count": null,
   "metadata": {},
   "outputs": [],
   "source": [
    "y_pred_bas = clas_bas.predict(x_eval_clas)\n",
    "\n",
    "print(\"Accuracy Score: \", accuracy_score(y_eval_clas, y_pred_bas))\n",
    "print(classification_report(y_eval_clas, y_pred_bas))"
   ]
  },
  {
   "cell_type": "code",
   "execution_count": null,
   "metadata": {},
   "outputs": [],
   "source": [
    "visualizer = ClassPredictionError(\n",
    "    clas_bas\n",
    ")\n",
    "\n",
    "visualizer.fit(x_train_clas, y_train_clas)\n",
    "visualizer.score(x_eval_clas, y_eval_clas)\n",
    "g = visualizer.poof()"
   ]
  },
  {
   "cell_type": "code",
   "execution_count": null,
   "metadata": {},
   "outputs": [],
   "source": [
    "#Time series\n",
    "time_pred_bas = clas_bas.predict(x_series_clas)\n",
    "\n",
    "time_pred_series_bas = pd.Series(time_pred_bas)\n",
    "time_real_series_bas = pd.Series(y_series_clas)"
   ]
  },
  {
   "cell_type": "code",
   "execution_count": null,
   "metadata": {},
   "outputs": [],
   "source": [
    "time_pred_series_bas.plot(legend=True, title='Crowdedness Prediction - Baseline', label=\"Predicted\")\n",
    "time_real_series_bas.plot(legend=True, label=\"Actual\")\n",
    "plt.show()"
   ]
  },
  {
   "cell_type": "markdown",
   "metadata": {},
   "source": [
    "### Random Forrest Classifier <a name=\"classRFCModel\"></a>\n",
    "Implemented the [Sklearn Version](https://scikit-learn.org/stable/modules/generated/sklearn.ensemble.RandomForestClassifier.html#sklearn.ensemble.RandomForestClassifier)"
   ]
  },
  {
   "cell_type": "markdown",
   "metadata": {},
   "source": [
    "#### Train"
   ]
  },
  {
   "cell_type": "code",
   "execution_count": null,
   "metadata": {},
   "outputs": [],
   "source": [
    "clas_rfc = RandomForestClassifier(n_estimators=300, criterion=\"entropy\", n_jobs=50, random_state=42, \n",
    "                                  class_weight=\"balanced\", oob_score=\"True\")"
   ]
  },
  {
   "cell_type": "code",
   "execution_count": null,
   "metadata": {},
   "outputs": [],
   "source": [
    "clas_rfc.fit(x_train_clas, y_train_clas)"
   ]
  },
  {
   "cell_type": "markdown",
   "metadata": {},
   "source": [
    "#### Test"
   ]
  },
  {
   "cell_type": "code",
   "execution_count": null,
   "metadata": {},
   "outputs": [],
   "source": [
    "y_pred_clas_rfc = clas_rfc.predict(x_test_clas)\n",
    "\n",
    "print(\"Accuracy Score: \", accuracy_score(y_test_clas, y_pred_clas_rfc))\n",
    "print(classification_report(y_test_clas, y_pred_clas_rfc))"
   ]
  },
  {
   "cell_type": "code",
   "execution_count": null,
   "metadata": {},
   "outputs": [],
   "source": [
    "visualizer = ClassPredictionError(\n",
    "    clas_rfc\n",
    ")\n",
    "\n",
    "visualizer.fit(x_train_clas, y_train_clas)\n",
    "visualizer.score(x_test_clas, y_test_clas)\n",
    "g = visualizer.poof()"
   ]
  },
  {
   "cell_type": "code",
   "execution_count": null,
   "metadata": {},
   "outputs": [],
   "source": [
    "#Time series\n",
    "time_pred_rfc_clas = clas_rfc.predict(x_test_clas_series)\n",
    "\n",
    "time_pred_series_rfc_clas = pd.Series(time_pred_rfc_clas)\n",
    "time_real_series_rfc_clas = pd.Series(y_test_clas_series)"
   ]
  },
  {
   "cell_type": "code",
   "execution_count": null,
   "metadata": {},
   "outputs": [],
   "source": [
    "time_pred_series_rfc_clas.plot(legend=True, title='Crowdedness Prediction - RFC', label=\"Predicted\")\n",
    "time_real_series_rfc_clas.plot(legend=True, label=\"Actual\")\n",
    "plt.show()"
   ]
  },
  {
   "cell_type": "markdown",
   "metadata": {},
   "source": [
    "#### Evaluation"
   ]
  },
  {
   "cell_type": "code",
   "execution_count": null,
   "metadata": {},
   "outputs": [],
   "source": [
    "y_pred_rfc = clas_rfc.predict(x_eval_clas)\n",
    "\n",
    "print(\"Accuracy Score: \", accuracy_score(y_eval_clas, y_pred_rfc))\n",
    "print(classification_report(y_eval_clas, y_pred_rfc))"
   ]
  },
  {
   "cell_type": "code",
   "execution_count": null,
   "metadata": {},
   "outputs": [],
   "source": [
    "visualizer = ClassPredictionError(\n",
    "    clas_rfc\n",
    ")\n",
    "\n",
    "visualizer.fit(x_train_clas, y_train_clas)\n",
    "visualizer.score(x_eval_clas, y_eval_clas)\n",
    "g = visualizer.poof()"
   ]
  },
  {
   "cell_type": "code",
   "execution_count": null,
   "metadata": {},
   "outputs": [],
   "source": [
    "#Time series\n",
    "time_pred_rfc = clas_rfc.predict(x_series_clas)\n",
    "\n",
    "time_pred_series_rfc = pd.Series(time_pred_rfc)\n",
    "time_real_series_rfc = pd.Series(y_series_clas)"
   ]
  },
  {
   "cell_type": "code",
   "execution_count": null,
   "metadata": {},
   "outputs": [],
   "source": [
    "time_pred_series_rfc.plot(legend=True, title='Crowdedness Prediction - RFC', label=\"Predicted\")\n",
    "time_real_series_rfc.plot(legend=True, label=\"Actual\")\n",
    "plt.show()"
   ]
  },
  {
   "cell_type": "markdown",
   "metadata": {},
   "source": [
    "### XGBoost \n",
    "Implement [XGBoost](https://xgboost.readthedocs.io/en/latest/python/python_intro.html)"
   ]
  },
  {
   "cell_type": "markdown",
   "metadata": {},
   "source": [
    "#### Training"
   ]
  },
  {
   "cell_type": "code",
   "execution_count": null,
   "metadata": {},
   "outputs": [],
   "source": [
    "xgb_clas = xgb.XGBClassifier(random_state=42, n_estimators=300, max_depth=12, \n",
    "                              learning_rate=0.1, booster=\"gbtree\", n_jobs=50)"
   ]
  },
  {
   "cell_type": "code",
   "execution_count": null,
   "metadata": {},
   "outputs": [],
   "source": [
    "xgb_clas.fit(x_train_clas, y_train_clas)"
   ]
  },
  {
   "cell_type": "markdown",
   "metadata": {},
   "source": [
    "#### Test"
   ]
  },
  {
   "cell_type": "code",
   "execution_count": null,
   "metadata": {},
   "outputs": [],
   "source": [
    "y_pred_clas_xgb = xgb_clas.predict(x_test_clas)\n",
    "\n",
    "print(\"Accuracy Score: \", accuracy_score(y_test_clas, y_pred_clas_xgb))\n",
    "print(classification_report(y_test_clas, y_pred_clas_xgb))"
   ]
  },
  {
   "cell_type": "code",
   "execution_count": null,
   "metadata": {},
   "outputs": [],
   "source": [
    "visualizer = ClassPredictionError(\n",
    "    xgb_clas, \n",
    ")\n",
    "\n",
    "visualizer.fit(x_train_clas, y_train_clas)\n",
    "visualizer.score(x_test_clas, y_test_clas)\n",
    "g = visualizer.poof()"
   ]
  },
  {
   "cell_type": "code",
   "execution_count": null,
   "metadata": {},
   "outputs": [],
   "source": [
    "#Time series\n",
    "time_pred_clas_xgb = xgb_clas.predict(x_test_clas_series)\n",
    "\n",
    "time_pred_series_clas_xgb = pd.Series(time_pred_clas_xgb)\n",
    "time_real_series_clas_xgb = pd.Series(y_test_clas_series)"
   ]
  },
  {
   "cell_type": "code",
   "execution_count": null,
   "metadata": {},
   "outputs": [],
   "source": [
    "time_pred_series_clas_xgb.plot(legend=True, title='Crowdedness Prediction - XGBoost', label=\"Predicted\")\n",
    "time_real_series_clas_xgb.plot(legend=True, label=\"Actual\")\n",
    "plt.show()"
   ]
  },
  {
   "cell_type": "markdown",
   "metadata": {},
   "source": [
    "#### Evaluation"
   ]
  },
  {
   "cell_type": "code",
   "execution_count": null,
   "metadata": {},
   "outputs": [],
   "source": [
    "y_pred_xgb = xgb_clas.predict(x_series_clas)\n",
    "\n",
    "print(\"Accuracy Score: \", accuracy_score(y_series_clas, y_pred_xgb))\n",
    "print(classification_report(y_series_clas, y_pred_xgb))"
   ]
  },
  {
   "cell_type": "code",
   "execution_count": null,
   "metadata": {},
   "outputs": [],
   "source": [
    "visualizer = ClassPredictionError(\n",
    "    xgb_clas, \n",
    ")\n",
    "\n",
    "visualizer.fit(x_train_clas, y_train_clas)\n",
    "visualizer.score(x_series_clas, y_series_clas)\n",
    "g = visualizer.poof()"
   ]
  },
  {
   "cell_type": "code",
   "execution_count": null,
   "metadata": {},
   "outputs": [],
   "source": [
    "#Time series\n",
    "time_pred_xgb = xgb_clas.predict(x_series_clas)\n",
    "\n",
    "time_pred_series_xgb = pd.Series(time_pred_xgb)\n",
    "time_real_series_xgb = pd.Series(y_series_clas)"
   ]
  },
  {
   "cell_type": "code",
   "execution_count": null,
   "metadata": {},
   "outputs": [],
   "source": [
    "time_pred_series_xgb.plot(legend=True, title='Crowdedness Prediction - XGBoost', label=\"Predicted\")\n",
    "time_real_series_xgb.plot(legend=True, label=\"Actual\")\n",
    "plt.show()"
   ]
  },
  {
   "cell_type": "markdown",
   "metadata": {},
   "source": [
    "### SVC \n",
    "Implemented the [Sklearn Version](https://scikit-learn.org/stable/modules/generated/sklearn.svm.SVC.html)"
   ]
  },
  {
   "cell_type": "markdown",
   "metadata": {},
   "source": [
    "#### Training"
   ]
  },
  {
   "cell_type": "code",
   "execution_count": null,
   "metadata": {},
   "outputs": [],
   "source": [
    "clas_svc = SVC(kernel=\"rbf\", random_state=42, class_weight=\"balanced\", C=0.5, decision_function_shape=\"ovo\", gamma=\"auto\")"
   ]
  },
  {
   "cell_type": "code",
   "execution_count": null,
   "metadata": {},
   "outputs": [],
   "source": [
    "clas_svc.fit(x_train_clas, y_train_clas)"
   ]
  },
  {
   "cell_type": "markdown",
   "metadata": {},
   "source": [
    "#### Test"
   ]
  },
  {
   "cell_type": "code",
   "execution_count": null,
   "metadata": {},
   "outputs": [],
   "source": [
    "y_pred_clas_svc = clas_svc.predict(x_test_clas)\n",
    "\n",
    "print(\"Accuracy Score: \", accuracy_score(y_test_clas, y_pred_clas_svc))\n",
    "print(classification_report(y_test_clas, y_pred_clas_svc))"
   ]
  },
  {
   "cell_type": "code",
   "execution_count": null,
   "metadata": {},
   "outputs": [],
   "source": [
    "visualizer = ClassPredictionError(\n",
    "    clas_svc\n",
    ")\n",
    "\n",
    "visualizer.fit(x_train_clas, y_train_clas)\n",
    "visualizer.score(x_test_clas, y_test_clas)\n",
    "g = visualizer.poof()"
   ]
  },
  {
   "cell_type": "code",
   "execution_count": null,
   "metadata": {},
   "outputs": [],
   "source": [
    "#Time series\n",
    "time_pred_clas_svc = clas_svc.predict(x_test_clas_series)\n",
    "\n",
    "time_pred_series_clas_svc = pd.Series(time_pred_clas_svc)\n",
    "time_real_series_clas_svc = pd.Series(y_test_clas_series)"
   ]
  },
  {
   "cell_type": "code",
   "execution_count": null,
   "metadata": {},
   "outputs": [],
   "source": [
    "time_pred_series_clas_svc.plot(legend=True, title='Crowdedness Prediction - Baseline', label=\"Predicted\")\n",
    "time_real_series_clas_svc.plot(legend=True, label=\"Actual\")\n",
    "plt.show()"
   ]
  },
  {
   "cell_type": "markdown",
   "metadata": {},
   "source": [
    "#### Evaluation"
   ]
  },
  {
   "cell_type": "code",
   "execution_count": null,
   "metadata": {},
   "outputs": [],
   "source": [
    "y_pred_svc = clas_svc.predict(x_series_clas)\n",
    "\n",
    "print(\"Accuracy Score: \", accuracy_score(y_series_clas, y_pred_svc))\n",
    "print(classification_report(y_series_clas, y_pred_svc))"
   ]
  },
  {
   "cell_type": "code",
   "execution_count": null,
   "metadata": {},
   "outputs": [],
   "source": [
    "visualizer = ClassPredictionError(\n",
    "    clas_svc\n",
    ")\n",
    "\n",
    "visualizer.fit(x_train_clas, y_train_clas)\n",
    "visualizer.score(x_series_clas, y_series_clas)\n",
    "g = visualizer.poof()"
   ]
  },
  {
   "cell_type": "code",
   "execution_count": null,
   "metadata": {},
   "outputs": [],
   "source": [
    "#Time series\n",
    "time_pred_svc = clas_svc.predict(x_series_clas)\n",
    "\n",
    "time_pred_series_svc = pd.Series(time_pred_svc)\n",
    "time_real_series_svc = pd.Series(y_series_clas)"
   ]
  },
  {
   "cell_type": "code",
   "execution_count": null,
   "metadata": {},
   "outputs": [],
   "source": [
    "time_pred_series_svc.plot(legend=True, title='Crowdedness Prediction - Baseline', label=\"Predicted\")\n",
    "time_real_series_svc.plot(legend=True, label=\"Actual\")\n",
    "plt.show()"
   ]
  },
  {
   "cell_type": "markdown",
   "metadata": {},
   "source": [
    "### Logistic Regression\n",
    "Implemented the [Sklearn Version](https://scikit-learn.org/stable/modules/generated/sklearn.linear_model.LogisticRegression.html)"
   ]
  },
  {
   "cell_type": "markdown",
   "metadata": {},
   "source": [
    "#### Training"
   ]
  },
  {
   "cell_type": "markdown",
   "metadata": {},
   "source": [
    "#### Test"
   ]
  },
  {
   "cell_type": "markdown",
   "metadata": {},
   "source": [
    "#### Evaluation"
   ]
  }
 ],
 "metadata": {
  "kernelspec": {
   "display_name": "Python 3",
   "language": "python",
   "name": "python3"
  },
  "language_info": {
   "codemirror_mode": {
    "name": "ipython",
    "version": 3
   },
   "file_extension": ".py",
   "mimetype": "text/x-python",
   "name": "python",
   "nbconvert_exporter": "python",
   "pygments_lexer": "ipython3",
   "version": "3.7.1"
  }
 },
 "nbformat": 4,
 "nbformat_minor": 2
}
