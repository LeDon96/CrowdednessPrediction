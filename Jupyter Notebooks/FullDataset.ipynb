{
 "cells": [
  {
   "cell_type": "markdown",
   "metadata": {},
   "source": [
    "# Full Dataset"
   ]
  },
  {
   "cell_type": "markdown",
   "metadata": {},
   "source": [
    "## Imports"
   ]
  },
  {
   "cell_type": "code",
   "execution_count": 1,
   "metadata": {},
   "outputs": [],
   "source": [
    "import pandas as pd\n",
    "import numpy as np"
   ]
  },
  {
   "cell_type": "markdown",
   "metadata": {},
   "source": [
    "## Import Files"
   ]
  },
  {
   "cell_type": "markdown",
   "metadata": {},
   "source": [
    "### Crowdedness Dataset\n",
    "Constructed in the [Crowdedness Notebook](Crowdedness.ipynb)"
   ]
  },
  {
   "cell_type": "code",
   "execution_count": 2,
   "metadata": {},
   "outputs": [],
   "source": [
    "crowd_df = pd.read_csv(\"../../../Data_thesis/Full_Datasets/Crowdedness.csv\")"
   ]
  },
  {
   "cell_type": "markdown",
   "metadata": {},
   "source": [
    "## Functions"
   ]
  },
  {
   "cell_type": "code",
   "execution_count": 3,
   "metadata": {},
   "outputs": [],
   "source": [
    "def DateToDatetime(df, format):\n",
    "    \"\"\"\n",
    "    Convert column to datetime object\n",
    "    \"\"\"\n",
    "\n",
    "    return pd.to_datetime(df, format=format)"
   ]
  },
  {
   "cell_type": "code",
   "execution_count": 4,
   "metadata": {},
   "outputs": [],
   "source": [
    "def StartEndDate(df):\n",
    "    \"\"\"\n",
    "    Return the start and end date of a given df\n",
    "    \"\"\"\n",
    "\n",
    "    #Return the earliest and latest date in Date column of given dataframe\n",
    "    return df.min().Date, df.max().Date "
   ]
  },
  {
   "cell_type": "code",
   "execution_count": 5,
   "metadata": {},
   "outputs": [],
   "source": [
    "def importData():\n",
    "    \"\"\"\n",
    "    Import Data from given file location and save as DF. \n",
    "    Furhtermore, change date from string to datetime object\n",
    "    \"\"\"\n",
    "\n",
    "    #Format Datetime\n",
    "    date_format = \"%Y-%m-%d\"\n",
    "\n",
    "    #Crowdedness DF\n",
    "    crowd_df = pd.read_csv(\"../../../Data_thesis/Full_Datasets/Crowdedness.csv\")\n",
    "    crowd_df[\"Date\"] = DateToDatetime(crowd_df[\"Date\"], date_format)\n",
    "\n",
    "    #GVB DF\n",
    "    gvb_df = pd.read_csv(\"../../../Data_thesis/Full_Datasets/GVBData.csv\")\n",
    "    gvb_df[\"Date\"] = DateToDatetime(gvb_df[\"Date\"], date_format)\n",
    "\n",
    "    #Event Df\n",
    "    event_df = pd.read_csv(\"../../../Data_thesis/Full_Datasets/Events.csv\")\n",
    "    event_df[\"Date\"] = DateToDatetime(event_df[\"Date\"], date_format)\n",
    "\n",
    "    return crowd_df, gvb_df, event_df"
   ]
  },
  {
   "cell_type": "code",
   "execution_count": 6,
   "metadata": {},
   "outputs": [],
   "source": [
    "def changeStartEndDate(crowd_df, gvb_df, event_df):\n",
    "    \"\"\"\n",
    "    Change the start and end date of the GVB and Event Df's\n",
    "    \"\"\"\n",
    "    \n",
    "    #Select start and end date\n",
    "    start_date, end_date = StartEndDate(crowd_df)\n",
    "\n",
    "    gvb_df = gvb_df[(gvb_df[\"Date\"] >= start_date) & (\n",
    "        gvb_df[\"Date\"] <= end_date)].reset_index().drop(columns=[\"index\"])\n",
    "\n",
    "    event_df = event_df[(event_df[\"Date\"] >= start_date) & (\n",
    "        event_df[\"Date\"] <= end_date)].reset_index().drop(columns=[\"index\"])\n",
    "\n",
    "    return gvb_df, event_df"
   ]
  },
  {
   "cell_type": "code",
   "execution_count": 7,
   "metadata": {},
   "outputs": [],
   "source": [
    "def formFullDF(crowd_df, gvb_df, event_df):\n",
    "    \"\"\"\n",
    "    Construct Full DF \n",
    "    \"\"\"\n",
    "\n",
    "    #Combine DF's\n",
    "    gvb_crowd_df = pd.merge(gvb_df, crowd_df, on=[\"Date\", \"Hour\"], how=\"outer\")\n",
    "    full_df = pd.merge(gvb_crowd_df, event_df, on=[\"Date\"], how=\"outer\")\n",
    "\n",
    "    #Sort keys on date\n",
    "    full_df = full_df.sort_values(\n",
    "        by=[\"Date\"]).reset_index().drop(columns=[\"index\"])\n",
    "\n",
    "    #Fill NaN values with 0.0\n",
    "    full_df = full_df.fillna(0.0)\n",
    "\n",
    "    #Add columns for the cos and sin of month, day and year\n",
    "    full_df = full_df.assign(Year=0, month_sin=0, month_cos=0,\n",
    "                            day_sin=0, day_cos=0, hour_sin=0, hour_cos=0)\n",
    "\n",
    "    #Transform DF to Dict\n",
    "    time_dict = full_df.to_dict(\"index\")\n",
    "\n",
    "    #Transform Date to seperate year, month, day and hour. And transform month, day, hour to cos/sin to make it circular\n",
    "    for k, v in time_dict.items():\n",
    "        v[\"Year\"] = v[\"Date\"].year\n",
    "\n",
    "        v[\"month_sin\"] = np.sin(2 * np.pi * v[\"Date\"].month / 12)\n",
    "        v[\"month_cos\"] = np.cos(2 * np.pi * v[\"Date\"].month / 12)\n",
    "\n",
    "        v[\"day_sin\"] = np.sin(2 * np.pi * v[\"Date\"].day / 365)\n",
    "        v[\"day_cos\"] = np.cos(2 * np.pi * v[\"Date\"].day / 365)\n",
    "\n",
    "        v[\"hour_sin\"] = np.sin(2 * np.pi * v[\"Hour\"] / 2400)\n",
    "        v[\"hour_cos\"] = np.cos(2 * np.pi * v[\"Hour\"] / 2400)\n",
    "\n",
    "    #Transform dict back to DF\n",
    "    return pd.DataFrame.from_dict(time_dict, orient=\"index\").reset_index()"
   ]
  },
  {
   "cell_type": "markdown",
   "metadata": {},
   "source": [
    "## Construct needed DF"
   ]
  },
  {
   "cell_type": "code",
   "execution_count": 8,
   "metadata": {},
   "outputs": [],
   "source": [
    "crowd_df, gvb_df, event_df = importData()"
   ]
  },
  {
   "cell_type": "markdown",
   "metadata": {},
   "source": [
    "## Change Start and End Dates"
   ]
  },
  {
   "cell_type": "code",
   "execution_count": 9,
   "metadata": {},
   "outputs": [],
   "source": [
    "gvb_df, event_df = changeStartEndDate(crowd_df, gvb_df, event_df)"
   ]
  },
  {
   "cell_type": "markdown",
   "metadata": {},
   "source": [
    "## Construct Full DF"
   ]
  },
  {
   "cell_type": "code",
   "execution_count": 10,
   "metadata": {},
   "outputs": [],
   "source": [
    "full_df = formFullDF(crowd_df, gvb_df, event_df)"
   ]
  },
  {
   "cell_type": "markdown",
   "metadata": {},
   "source": [
    "### Contents"
   ]
  },
  {
   "cell_type": "code",
   "execution_count": 11,
   "metadata": {},
   "outputs": [
    {
     "data": {
      "text/html": [
       "<div>\n",
       "<style scoped>\n",
       "    .dataframe tbody tr th:only-of-type {\n",
       "        vertical-align: middle;\n",
       "    }\n",
       "\n",
       "    .dataframe tbody tr th {\n",
       "        vertical-align: top;\n",
       "    }\n",
       "\n",
       "    .dataframe thead th {\n",
       "        text-align: right;\n",
       "    }\n",
       "</style>\n",
       "<table border=\"1\" class=\"dataframe\">\n",
       "  <thead>\n",
       "    <tr style=\"text-align: right;\">\n",
       "      <th></th>\n",
       "      <th>index</th>\n",
       "      <th>Date</th>\n",
       "      <th>Hour</th>\n",
       "      <th>Nieuwmarkt Arrivals</th>\n",
       "      <th>Nieuwezijds Kolk Arrivals</th>\n",
       "      <th>Dam Arrivals</th>\n",
       "      <th>Spui Arrivals</th>\n",
       "      <th>Nieuwmarkt Departures</th>\n",
       "      <th>Nieuwezijds Kolk Departures</th>\n",
       "      <th>Dam Departures</th>\n",
       "      <th>...</th>\n",
       "      <th>SensorLatitude</th>\n",
       "      <th>CrowdednessCount</th>\n",
       "      <th>is_event</th>\n",
       "      <th>Year</th>\n",
       "      <th>month_sin</th>\n",
       "      <th>month_cos</th>\n",
       "      <th>day_sin</th>\n",
       "      <th>day_cos</th>\n",
       "      <th>hour_sin</th>\n",
       "      <th>hour_cos</th>\n",
       "    </tr>\n",
       "  </thead>\n",
       "  <tbody>\n",
       "    <tr>\n",
       "      <th>0</th>\n",
       "      <td>0</td>\n",
       "      <td>2018-03-11</td>\n",
       "      <td>2300</td>\n",
       "      <td>488.0</td>\n",
       "      <td>87.0</td>\n",
       "      <td>359.0</td>\n",
       "      <td>35.0</td>\n",
       "      <td>532.0</td>\n",
       "      <td>177.0</td>\n",
       "      <td>892.0</td>\n",
       "      <td>...</td>\n",
       "      <td>5.0</td>\n",
       "      <td>759.0</td>\n",
       "      <td>0.0</td>\n",
       "      <td>2018</td>\n",
       "      <td>1.0</td>\n",
       "      <td>6.123234e-17</td>\n",
       "      <td>0.188227</td>\n",
       "      <td>0.982126</td>\n",
       "      <td>-0.258819</td>\n",
       "      <td>0.965926</td>\n",
       "    </tr>\n",
       "    <tr>\n",
       "      <th>1</th>\n",
       "      <td>1</td>\n",
       "      <td>2018-03-11</td>\n",
       "      <td>2000</td>\n",
       "      <td>332.0</td>\n",
       "      <td>194.0</td>\n",
       "      <td>627.0</td>\n",
       "      <td>115.0</td>\n",
       "      <td>600.0</td>\n",
       "      <td>193.0</td>\n",
       "      <td>1080.0</td>\n",
       "      <td>...</td>\n",
       "      <td>7.0</td>\n",
       "      <td>1771.0</td>\n",
       "      <td>0.0</td>\n",
       "      <td>2018</td>\n",
       "      <td>1.0</td>\n",
       "      <td>6.123234e-17</td>\n",
       "      <td>0.188227</td>\n",
       "      <td>0.982126</td>\n",
       "      <td>-0.866025</td>\n",
       "      <td>0.500000</td>\n",
       "    </tr>\n",
       "    <tr>\n",
       "      <th>2</th>\n",
       "      <td>2</td>\n",
       "      <td>2018-03-11</td>\n",
       "      <td>2000</td>\n",
       "      <td>332.0</td>\n",
       "      <td>194.0</td>\n",
       "      <td>627.0</td>\n",
       "      <td>115.0</td>\n",
       "      <td>600.0</td>\n",
       "      <td>193.0</td>\n",
       "      <td>1080.0</td>\n",
       "      <td>...</td>\n",
       "      <td>0.0</td>\n",
       "      <td>28.0</td>\n",
       "      <td>0.0</td>\n",
       "      <td>2018</td>\n",
       "      <td>1.0</td>\n",
       "      <td>6.123234e-17</td>\n",
       "      <td>0.188227</td>\n",
       "      <td>0.982126</td>\n",
       "      <td>-0.866025</td>\n",
       "      <td>0.500000</td>\n",
       "    </tr>\n",
       "    <tr>\n",
       "      <th>3</th>\n",
       "      <td>3</td>\n",
       "      <td>2018-03-11</td>\n",
       "      <td>2000</td>\n",
       "      <td>332.0</td>\n",
       "      <td>194.0</td>\n",
       "      <td>627.0</td>\n",
       "      <td>115.0</td>\n",
       "      <td>600.0</td>\n",
       "      <td>193.0</td>\n",
       "      <td>1080.0</td>\n",
       "      <td>...</td>\n",
       "      <td>9.0</td>\n",
       "      <td>80.0</td>\n",
       "      <td>0.0</td>\n",
       "      <td>2018</td>\n",
       "      <td>1.0</td>\n",
       "      <td>6.123234e-17</td>\n",
       "      <td>0.188227</td>\n",
       "      <td>0.982126</td>\n",
       "      <td>-0.866025</td>\n",
       "      <td>0.500000</td>\n",
       "    </tr>\n",
       "    <tr>\n",
       "      <th>4</th>\n",
       "      <td>4</td>\n",
       "      <td>2018-03-11</td>\n",
       "      <td>2000</td>\n",
       "      <td>332.0</td>\n",
       "      <td>194.0</td>\n",
       "      <td>627.0</td>\n",
       "      <td>115.0</td>\n",
       "      <td>600.0</td>\n",
       "      <td>193.0</td>\n",
       "      <td>1080.0</td>\n",
       "      <td>...</td>\n",
       "      <td>2.0</td>\n",
       "      <td>37.0</td>\n",
       "      <td>0.0</td>\n",
       "      <td>2018</td>\n",
       "      <td>1.0</td>\n",
       "      <td>6.123234e-17</td>\n",
       "      <td>0.188227</td>\n",
       "      <td>0.982126</td>\n",
       "      <td>-0.866025</td>\n",
       "      <td>0.500000</td>\n",
       "    </tr>\n",
       "  </tbody>\n",
       "</table>\n",
       "<p>5 rows × 25 columns</p>\n",
       "</div>"
      ],
      "text/plain": [
       "   index       Date  Hour  Nieuwmarkt Arrivals  Nieuwezijds Kolk Arrivals  \\\n",
       "0      0 2018-03-11  2300                488.0                       87.0   \n",
       "1      1 2018-03-11  2000                332.0                      194.0   \n",
       "2      2 2018-03-11  2000                332.0                      194.0   \n",
       "3      3 2018-03-11  2000                332.0                      194.0   \n",
       "4      4 2018-03-11  2000                332.0                      194.0   \n",
       "\n",
       "   Dam Arrivals  Spui Arrivals  Nieuwmarkt Departures  \\\n",
       "0         359.0           35.0                  532.0   \n",
       "1         627.0          115.0                  600.0   \n",
       "2         627.0          115.0                  600.0   \n",
       "3         627.0          115.0                  600.0   \n",
       "4         627.0          115.0                  600.0   \n",
       "\n",
       "   Nieuwezijds Kolk Departures  Dam Departures  ...  SensorLatitude  \\\n",
       "0                        177.0           892.0  ...             5.0   \n",
       "1                        193.0          1080.0  ...             7.0   \n",
       "2                        193.0          1080.0  ...             0.0   \n",
       "3                        193.0          1080.0  ...             9.0   \n",
       "4                        193.0          1080.0  ...             2.0   \n",
       "\n",
       "   CrowdednessCount  is_event  Year  month_sin     month_cos   day_sin  \\\n",
       "0             759.0       0.0  2018        1.0  6.123234e-17  0.188227   \n",
       "1            1771.0       0.0  2018        1.0  6.123234e-17  0.188227   \n",
       "2              28.0       0.0  2018        1.0  6.123234e-17  0.188227   \n",
       "3              80.0       0.0  2018        1.0  6.123234e-17  0.188227   \n",
       "4              37.0       0.0  2018        1.0  6.123234e-17  0.188227   \n",
       "\n",
       "    day_cos  hour_sin  hour_cos  \n",
       "0  0.982126 -0.258819  0.965926  \n",
       "1  0.982126 -0.866025  0.500000  \n",
       "2  0.982126 -0.866025  0.500000  \n",
       "3  0.982126 -0.866025  0.500000  \n",
       "4  0.982126 -0.866025  0.500000  \n",
       "\n",
       "[5 rows x 25 columns]"
      ]
     },
     "execution_count": 11,
     "metadata": {},
     "output_type": "execute_result"
    }
   ],
   "source": [
    "full_df.head()"
   ]
  },
  {
   "cell_type": "markdown",
   "metadata": {},
   "source": [
    "## From DF to CSV File"
   ]
  },
  {
   "cell_type": "code",
   "execution_count": 12,
   "metadata": {},
   "outputs": [],
   "source": [
    "full_df.to_csv(\"../../../Data_thesis/Full_Datasets/Full.csv\", index=False)"
   ]
  }
 ],
 "metadata": {
  "kernelspec": {
   "display_name": "Python 3",
   "language": "python",
   "name": "python3"
  },
  "language_info": {
   "codemirror_mode": {
    "name": "ipython",
    "version": 3
   },
   "file_extension": ".py",
   "mimetype": "text/x-python",
   "name": "python",
   "nbconvert_exporter": "python",
   "pygments_lexer": "ipython3",
   "version": "3.7.1"
  }
 },
 "nbformat": 4,
 "nbformat_minor": 2
}
