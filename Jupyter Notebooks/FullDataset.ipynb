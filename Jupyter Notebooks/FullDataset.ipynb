{
 "cells": [
  {
   "cell_type": "markdown",
   "metadata": {},
   "source": [
    "# Full Dataset"
   ]
  },
  {
   "cell_type": "markdown",
   "metadata": {},
   "source": [
    "## Imports"
   ]
  },
  {
   "cell_type": "code",
   "execution_count": 1,
   "metadata": {},
   "outputs": [],
   "source": [
    "import pandas as pd\n",
    "import numpy as np"
   ]
  },
  {
   "cell_type": "markdown",
   "metadata": {},
   "source": [
    "## Import Files"
   ]
  },
  {
   "cell_type": "markdown",
   "metadata": {},
   "source": [
    "### Crowdedness Dataset\n",
    "Constructed in the [Crowdedness Notebook](Crowdedness.ipynb)"
   ]
  },
  {
   "cell_type": "code",
   "execution_count": 2,
   "metadata": {},
   "outputs": [],
   "source": [
    "crowd_df = pd.read_csv(\"../../../Data_thesis/Full_Datasets/Crowdedness.csv\")"
   ]
  },
  {
   "cell_type": "markdown",
   "metadata": {},
   "source": [
    "## Functions"
   ]
  },
  {
   "cell_type": "code",
   "execution_count": 25,
   "metadata": {},
   "outputs": [],
   "source": [
    "def DateToDatetime(df, format):\n",
    "    \"\"\"\n",
    "    Convert column to datetime object\n",
    "    \"\"\"\n",
    "\n",
    "    return pd.to_datetime(df, format=format)"
   ]
  },
  {
   "cell_type": "code",
   "execution_count": 26,
   "metadata": {},
   "outputs": [],
   "source": [
    "def StartEndDate(df):\n",
    "    \"\"\"\n",
    "    Return the start and end date of a given df\n",
    "    \"\"\"\n",
    "\n",
    "    #Return the earliest and latest date in Date column of given dataframe\n",
    "    return df.min().Date, df.max().Date "
   ]
  },
  {
   "cell_type": "code",
   "execution_count": 35,
   "metadata": {},
   "outputs": [],
   "source": [
    "def importData():\n",
    "    \"\"\"\n",
    "    Import Data from given file location and save as DF. \n",
    "    Furhtermore, change date from string to datetime object\n",
    "    \"\"\"\n",
    "\n",
    "    #Format Datetime\n",
    "    date_format = \"%Y-%m-%d\"\n",
    "\n",
    "    #Crowdedness DF\n",
    "    crowd_df = pd.read_csv(\"../../../Data_thesis/Full_Datasets/Crowdedness.csv\")\n",
    "    crowd_df[\"Date\"] = DateToDatetime(crowd_df[\"Date\"], date_format)\n",
    "\n",
    "    #GVB DF\n",
    "    gvb_df = pd.read_csv(\"../../../Data_thesis/Full_Datasets/GVBData.csv\")\n",
    "    gvb_df[\"Date\"] = DateToDatetime(gvb_df[\"Date\"], date_format)\n",
    "\n",
    "    #Event Df\n",
    "    event_df = pd.read_csv(\"../../../Data_thesis/Full_Datasets/Events.csv\")\n",
    "    event_df[\"Date\"] = DateToDatetime(event_df[\"Date\"], date_format)\n",
    "\n",
    "    return crowd_df, gvb_df, event_df"
   ]
  },
  {
   "cell_type": "code",
   "execution_count": 28,
   "metadata": {},
   "outputs": [],
   "source": [
    "def changeStartEndDate(crowd_df, gvb_df, event_df):\n",
    "    \"\"\"\n",
    "    Change the start and end date of the GVB and Event Df's\n",
    "    \"\"\"\n",
    "    \n",
    "    #Select start and end date\n",
    "    start_date, end_date = StartEndDate(crowd_df)\n",
    "\n",
    "    gvb_df = gvb_df[(gvb_df[\"Date\"] >= start_date) & (\n",
    "        gvb_df[\"Date\"] <= end_date)].reset_index().drop(columns=[\"index\"])\n",
    "\n",
    "    event_df = event_df[(event_df[\"Date\"] >= start_date) & (\n",
    "        event_df[\"Date\"] <= end_date)].reset_index().drop(columns=[\"index\"])\n",
    "\n",
    "    return gvb_df, event_df"
   ]
  },
  {
   "cell_type": "code",
   "execution_count": 29,
   "metadata": {},
   "outputs": [],
   "source": [
    "def formFullDF(crowd_df, gvb_df, event_df):\n",
    "    \"\"\"\n",
    "    Construct Full DF \n",
    "    \"\"\"\n",
    "\n",
    "    #Combine DF's\n",
    "    gvb_crowd_df = pd.merge(gvb_df, crowd_df, on=[\"Date\", \"Hour\"], how=\"outer\")\n",
    "    full_df = pd.merge(gvb_crowd_df, event_df, on=[\"Date\"], how=\"outer\")\n",
    "\n",
    "    #Sort keys on date\n",
    "    full_df = full_df.sort_values(\n",
    "        by=[\"Date\"]).reset_index().drop(columns=[\"index\"])\n",
    "\n",
    "    #Fill NaN values with 0.0\n",
    "    full_df = full_df.fillna(0.0)\n",
    "\n",
    "    #Add columns for the cos and sin of month, day and year\n",
    "    full_df = full_df.assign(Year=0, month_sin=0, month_cos=0,\n",
    "                            day_sin=0, day_cos=0, hour_sin=0, hour_cos=0)\n",
    "\n",
    "    #Transform DF to Dict\n",
    "    time_dict = full_df.to_dict(\"index\")\n",
    "\n",
    "    #Transform Date to seperate year, month, day and hour. And transform month, day, hour to cos/sin to make it circular\n",
    "    for k, v in time_dict.items():\n",
    "        v[\"Year\"] = v[\"Date\"].year\n",
    "\n",
    "        v[\"month_sin\"] = np.sin(2 * np.pi * v[\"Date\"].month / 12)\n",
    "        v[\"month_cos\"] = np.cos(2 * np.pi * v[\"Date\"].month / 12)\n",
    "\n",
    "        v[\"day_sin\"] = np.sin(2 * np.pi * v[\"Date\"].day / 365)\n",
    "        v[\"day_cos\"] = np.cos(2 * np.pi * v[\"Date\"].day / 365)\n",
    "\n",
    "        v[\"hour_sin\"] = np.sin(2 * np.pi * v[\"Hour\"] / 2400)\n",
    "        v[\"hour_cos\"] = np.cos(2 * np.pi * v[\"Hour\"] / 2400)\n",
    "\n",
    "    #Transform dict back to DF\n",
    "    return pd.DataFrame.from_dict(time_dict, orient=\"index\").reset_index()"
   ]
  },
  {
   "cell_type": "markdown",
   "metadata": {},
   "source": [
    "## Construct needed DF"
   ]
  },
  {
   "cell_type": "code",
   "execution_count": 36,
   "metadata": {},
   "outputs": [],
   "source": [
    "crowd_df, gvb_df, event_df = importData()"
   ]
  },
  {
   "cell_type": "markdown",
   "metadata": {},
   "source": [
    "## Change Start en "
   ]
  },
  {
   "cell_type": "markdown",
   "metadata": {},
   "source": [
    "#### Convert Date from string to datetime object"
   ]
  },
  {
   "cell_type": "code",
   "execution_count": 3,
   "metadata": {},
   "outputs": [],
   "source": [
    "crowd_df[\"Date\"] = pd.to_datetime(crowd_df[\"Date\"], format=\"%Y-%m-%d\")"
   ]
  },
  {
   "cell_type": "markdown",
   "metadata": {},
   "source": [
    "#### Set Start and End Date\n",
    "Accroding to the ranges in the crowd_df, as these consist of the target values and represent the smallest range in dates"
   ]
  },
  {
   "cell_type": "code",
   "execution_count": 4,
   "metadata": {},
   "outputs": [],
   "source": [
    "# Start data\n",
    "start_date = crowd_df.min().Date\n",
    "\n",
    "# End date\n",
    "end_date = crowd_df.max().Date"
   ]
  },
  {
   "cell_type": "markdown",
   "metadata": {},
   "source": [
    "#### Contents"
   ]
  },
  {
   "cell_type": "code",
   "execution_count": 5,
   "metadata": {},
   "outputs": [
    {
     "data": {
      "text/html": [
       "<div>\n",
       "<style scoped>\n",
       "    .dataframe tbody tr th:only-of-type {\n",
       "        vertical-align: middle;\n",
       "    }\n",
       "\n",
       "    .dataframe tbody tr th {\n",
       "        vertical-align: top;\n",
       "    }\n",
       "\n",
       "    .dataframe thead th {\n",
       "        text-align: right;\n",
       "    }\n",
       "</style>\n",
       "<table border=\"1\" class=\"dataframe\">\n",
       "  <thead>\n",
       "    <tr style=\"text-align: right;\">\n",
       "      <th></th>\n",
       "      <th>Sensor</th>\n",
       "      <th>Date</th>\n",
       "      <th>Hour</th>\n",
       "      <th>SensorLongitude</th>\n",
       "      <th>SensorLatitude</th>\n",
       "      <th>CrowdednessCount</th>\n",
       "    </tr>\n",
       "  </thead>\n",
       "  <tbody>\n",
       "    <tr>\n",
       "      <th>0</th>\n",
       "      <td>GAWW-01</td>\n",
       "      <td>2018-03-11</td>\n",
       "      <td>100</td>\n",
       "      <td>8</td>\n",
       "      <td>8</td>\n",
       "      <td>3133</td>\n",
       "    </tr>\n",
       "    <tr>\n",
       "      <th>1</th>\n",
       "      <td>GAWW-01</td>\n",
       "      <td>2018-03-11</td>\n",
       "      <td>200</td>\n",
       "      <td>8</td>\n",
       "      <td>8</td>\n",
       "      <td>2120</td>\n",
       "    </tr>\n",
       "    <tr>\n",
       "      <th>2</th>\n",
       "      <td>GAWW-01</td>\n",
       "      <td>2018-03-11</td>\n",
       "      <td>300</td>\n",
       "      <td>8</td>\n",
       "      <td>8</td>\n",
       "      <td>1419</td>\n",
       "    </tr>\n",
       "    <tr>\n",
       "      <th>3</th>\n",
       "      <td>GAWW-01</td>\n",
       "      <td>2018-03-11</td>\n",
       "      <td>400</td>\n",
       "      <td>8</td>\n",
       "      <td>8</td>\n",
       "      <td>1085</td>\n",
       "    </tr>\n",
       "    <tr>\n",
       "      <th>4</th>\n",
       "      <td>GAWW-01</td>\n",
       "      <td>2018-03-11</td>\n",
       "      <td>500</td>\n",
       "      <td>8</td>\n",
       "      <td>8</td>\n",
       "      <td>498</td>\n",
       "    </tr>\n",
       "  </tbody>\n",
       "</table>\n",
       "</div>"
      ],
      "text/plain": [
       "    Sensor       Date  Hour  SensorLongitude  SensorLatitude  CrowdednessCount\n",
       "0  GAWW-01 2018-03-11   100                8               8              3133\n",
       "1  GAWW-01 2018-03-11   200                8               8              2120\n",
       "2  GAWW-01 2018-03-11   300                8               8              1419\n",
       "3  GAWW-01 2018-03-11   400                8               8              1085\n",
       "4  GAWW-01 2018-03-11   500                8               8               498"
      ]
     },
     "execution_count": 5,
     "metadata": {},
     "output_type": "execute_result"
    }
   ],
   "source": [
    "crowd_df.head()"
   ]
  },
  {
   "cell_type": "markdown",
   "metadata": {},
   "source": [
    "### GVB Dataset\n",
    "Constructed in the [GVBData Notebook](GVBData.ipynb)"
   ]
  },
  {
   "cell_type": "code",
   "execution_count": 7,
   "metadata": {},
   "outputs": [],
   "source": [
    "gvb_df = pd.read_csv(\"../../../Data_thesis/Full_Datasets/GVBData.csv\")"
   ]
  },
  {
   "cell_type": "markdown",
   "metadata": {},
   "source": [
    "#### Convert Date from string to datetime object"
   ]
  },
  {
   "cell_type": "code",
   "execution_count": 8,
   "metadata": {},
   "outputs": [],
   "source": [
    "gvb_df[\"Date\"] = pd.to_datetime(gvb_df[\"Date\"], format=\"%Y-%m-%d\")"
   ]
  },
  {
   "cell_type": "markdown",
   "metadata": {},
   "source": [
    "#### Only select date between start and end data"
   ]
  },
  {
   "cell_type": "code",
   "execution_count": 9,
   "metadata": {},
   "outputs": [],
   "source": [
    "gvb_df = gvb_df[(gvb_df[\"Date\"] > start_date) & (gvb_df[\"Date\"] < end_date)].reset_index().drop(columns=[\"index\"])"
   ]
  },
  {
   "cell_type": "markdown",
   "metadata": {},
   "source": [
    "#### Contents"
   ]
  },
  {
   "cell_type": "code",
   "execution_count": 10,
   "metadata": {},
   "outputs": [
    {
     "data": {
      "text/html": [
       "<div>\n",
       "<style scoped>\n",
       "    .dataframe tbody tr th:only-of-type {\n",
       "        vertical-align: middle;\n",
       "    }\n",
       "\n",
       "    .dataframe tbody tr th {\n",
       "        vertical-align: top;\n",
       "    }\n",
       "\n",
       "    .dataframe thead th {\n",
       "        text-align: right;\n",
       "    }\n",
       "</style>\n",
       "<table border=\"1\" class=\"dataframe\">\n",
       "  <thead>\n",
       "    <tr style=\"text-align: right;\">\n",
       "      <th></th>\n",
       "      <th>Date</th>\n",
       "      <th>Hour</th>\n",
       "      <th>Nieuwmarkt Arrivals</th>\n",
       "      <th>Nieuwezijds Kolk Arrivals</th>\n",
       "      <th>Dam Arrivals</th>\n",
       "      <th>Spui Arrivals</th>\n",
       "      <th>Nieuwmarkt Departures</th>\n",
       "      <th>Nieuwezijds Kolk Departures</th>\n",
       "      <th>Dam Departures</th>\n",
       "      <th>Spui Departures</th>\n",
       "      <th>weekday</th>\n",
       "      <th>is_weekend</th>\n",
       "    </tr>\n",
       "  </thead>\n",
       "  <tbody>\n",
       "    <tr>\n",
       "      <th>0</th>\n",
       "      <td>2019-01-01</td>\n",
       "      <td>2400</td>\n",
       "      <td>10.0</td>\n",
       "      <td>0.0</td>\n",
       "      <td>0.0</td>\n",
       "      <td>0.0</td>\n",
       "      <td>20.0</td>\n",
       "      <td>0.0</td>\n",
       "      <td>0.0</td>\n",
       "      <td>0.0</td>\n",
       "      <td>1</td>\n",
       "      <td>0</td>\n",
       "    </tr>\n",
       "    <tr>\n",
       "      <th>1</th>\n",
       "      <td>2019-01-01</td>\n",
       "      <td>100</td>\n",
       "      <td>25.0</td>\n",
       "      <td>0.0</td>\n",
       "      <td>0.0</td>\n",
       "      <td>0.0</td>\n",
       "      <td>531.0</td>\n",
       "      <td>27.0</td>\n",
       "      <td>17.0</td>\n",
       "      <td>0.0</td>\n",
       "      <td>1</td>\n",
       "      <td>0</td>\n",
       "    </tr>\n",
       "    <tr>\n",
       "      <th>2</th>\n",
       "      <td>2019-01-01</td>\n",
       "      <td>200</td>\n",
       "      <td>68.0</td>\n",
       "      <td>0.0</td>\n",
       "      <td>16.0</td>\n",
       "      <td>0.0</td>\n",
       "      <td>329.0</td>\n",
       "      <td>29.0</td>\n",
       "      <td>75.0</td>\n",
       "      <td>0.0</td>\n",
       "      <td>1</td>\n",
       "      <td>0</td>\n",
       "    </tr>\n",
       "    <tr>\n",
       "      <th>3</th>\n",
       "      <td>2019-01-01</td>\n",
       "      <td>300</td>\n",
       "      <td>19.0</td>\n",
       "      <td>0.0</td>\n",
       "      <td>0.0</td>\n",
       "      <td>0.0</td>\n",
       "      <td>151.0</td>\n",
       "      <td>43.0</td>\n",
       "      <td>85.0</td>\n",
       "      <td>0.0</td>\n",
       "      <td>1</td>\n",
       "      <td>0</td>\n",
       "    </tr>\n",
       "    <tr>\n",
       "      <th>4</th>\n",
       "      <td>2019-01-01</td>\n",
       "      <td>400</td>\n",
       "      <td>21.0</td>\n",
       "      <td>0.0</td>\n",
       "      <td>0.0</td>\n",
       "      <td>0.0</td>\n",
       "      <td>89.0</td>\n",
       "      <td>17.0</td>\n",
       "      <td>75.0</td>\n",
       "      <td>0.0</td>\n",
       "      <td>1</td>\n",
       "      <td>0</td>\n",
       "    </tr>\n",
       "  </tbody>\n",
       "</table>\n",
       "</div>"
      ],
      "text/plain": [
       "        Date  Hour  Nieuwmarkt Arrivals  Nieuwezijds Kolk Arrivals  \\\n",
       "0 2019-01-01  2400                 10.0                        0.0   \n",
       "1 2019-01-01   100                 25.0                        0.0   \n",
       "2 2019-01-01   200                 68.0                        0.0   \n",
       "3 2019-01-01   300                 19.0                        0.0   \n",
       "4 2019-01-01   400                 21.0                        0.0   \n",
       "\n",
       "   Dam Arrivals  Spui Arrivals  Nieuwmarkt Departures  \\\n",
       "0           0.0            0.0                   20.0   \n",
       "1           0.0            0.0                  531.0   \n",
       "2          16.0            0.0                  329.0   \n",
       "3           0.0            0.0                  151.0   \n",
       "4           0.0            0.0                   89.0   \n",
       "\n",
       "   Nieuwezijds Kolk Departures  Dam Departures  Spui Departures  weekday  \\\n",
       "0                          0.0             0.0              0.0        1   \n",
       "1                         27.0            17.0              0.0        1   \n",
       "2                         29.0            75.0              0.0        1   \n",
       "3                         43.0            85.0              0.0        1   \n",
       "4                         17.0            75.0              0.0        1   \n",
       "\n",
       "   is_weekend  \n",
       "0           0  \n",
       "1           0  \n",
       "2           0  \n",
       "3           0  \n",
       "4           0  "
      ]
     },
     "execution_count": 10,
     "metadata": {},
     "output_type": "execute_result"
    }
   ],
   "source": [
    "gvb_df.head()"
   ]
  },
  {
   "cell_type": "markdown",
   "metadata": {},
   "source": [
    "### Amsterdam Events\n",
    "Constructed in the [AmsterdamEvent Notebook](AmsterdamEvent.ipynb)"
   ]
  },
  {
   "cell_type": "code",
   "execution_count": 15,
   "metadata": {},
   "outputs": [],
   "source": [
    "events_df = pd.read_csv(\"../../../Data_thesis/Full_Datasets/Events.csv\")"
   ]
  },
  {
   "cell_type": "markdown",
   "metadata": {},
   "source": [
    "#### Convert Date from string to datetime object"
   ]
  },
  {
   "cell_type": "code",
   "execution_count": 16,
   "metadata": {},
   "outputs": [],
   "source": [
    "events_df[\"Date\"] = pd.to_datetime(events_df[\"Date\"], format=\"%Y-%m-%d\")"
   ]
  },
  {
   "cell_type": "markdown",
   "metadata": {},
   "source": [
    "#### Only select date between start and end data"
   ]
  },
  {
   "cell_type": "code",
   "execution_count": 17,
   "metadata": {},
   "outputs": [],
   "source": [
    "events_df = events_df[(events_df[\"Date\"] > start_date) & (events_df[\"Date\"] < end_date)].reset_index().drop(columns=[\"index\"])"
   ]
  },
  {
   "cell_type": "markdown",
   "metadata": {},
   "source": [
    "#### Contenst"
   ]
  },
  {
   "cell_type": "code",
   "execution_count": 18,
   "metadata": {},
   "outputs": [
    {
     "data": {
      "text/html": [
       "<div>\n",
       "<style scoped>\n",
       "    .dataframe tbody tr th:only-of-type {\n",
       "        vertical-align: middle;\n",
       "    }\n",
       "\n",
       "    .dataframe tbody tr th {\n",
       "        vertical-align: top;\n",
       "    }\n",
       "\n",
       "    .dataframe thead th {\n",
       "        text-align: right;\n",
       "    }\n",
       "</style>\n",
       "<table border=\"1\" class=\"dataframe\">\n",
       "  <thead>\n",
       "    <tr style=\"text-align: right;\">\n",
       "      <th></th>\n",
       "      <th>Date</th>\n",
       "      <th>is_event</th>\n",
       "    </tr>\n",
       "  </thead>\n",
       "  <tbody>\n",
       "    <tr>\n",
       "      <th>0</th>\n",
       "      <td>2018-04-20</td>\n",
       "      <td>1.0</td>\n",
       "    </tr>\n",
       "    <tr>\n",
       "      <th>1</th>\n",
       "      <td>2018-05-20</td>\n",
       "      <td>1.0</td>\n",
       "    </tr>\n",
       "    <tr>\n",
       "      <th>2</th>\n",
       "      <td>2018-06-02</td>\n",
       "      <td>1.0</td>\n",
       "    </tr>\n",
       "    <tr>\n",
       "      <th>3</th>\n",
       "      <td>2018-06-03</td>\n",
       "      <td>1.0</td>\n",
       "    </tr>\n",
       "    <tr>\n",
       "      <th>4</th>\n",
       "      <td>2018-06-04</td>\n",
       "      <td>1.0</td>\n",
       "    </tr>\n",
       "  </tbody>\n",
       "</table>\n",
       "</div>"
      ],
      "text/plain": [
       "        Date  is_event\n",
       "0 2018-04-20       1.0\n",
       "1 2018-05-20       1.0\n",
       "2 2018-06-02       1.0\n",
       "3 2018-06-03       1.0\n",
       "4 2018-06-04       1.0"
      ]
     },
     "execution_count": 18,
     "metadata": {},
     "output_type": "execute_result"
    }
   ],
   "source": [
    "events_df.head()"
   ]
  },
  {
   "cell_type": "markdown",
   "metadata": {},
   "source": [
    "## Combine Datasets"
   ]
  },
  {
   "cell_type": "code",
   "execution_count": 19,
   "metadata": {},
   "outputs": [],
   "source": [
    "gvb_crowd_df = pd.merge(gvb_df, crowd_df, on=[\"Date\", \"Hour\"], how=\"outer\")\n",
    "full_df = pd.merge(gvb_crowd_df, events_df, on=[\"Date\"], how=\"outer\")\n",
    "\n",
    "full_df = full_df.sort_values(by=[\"Date\"]).reset_index().drop(columns=[\"index\"])"
   ]
  },
  {
   "cell_type": "markdown",
   "metadata": {},
   "source": [
    "## Transform Df"
   ]
  },
  {
   "cell_type": "markdown",
   "metadata": {},
   "source": [
    "### Fill NaN with 0.0"
   ]
  },
  {
   "cell_type": "code",
   "execution_count": 20,
   "metadata": {},
   "outputs": [],
   "source": [
    "full_df = full_df.fillna(0.0)"
   ]
  },
  {
   "cell_type": "markdown",
   "metadata": {},
   "source": [
    "### Make Time Circular"
   ]
  },
  {
   "cell_type": "code",
   "execution_count": 21,
   "metadata": {},
   "outputs": [],
   "source": [
    "#Add columns for the cos and sin of month, day and year\n",
    "full_df = full_df.assign(Year=0, month_sin=0, month_cos=0, day_sin=0, day_cos=0, hour_sin=0, hour_cos=0)\n",
    "\n",
    "#Transform DF to Dict\n",
    "time_dict = full_df.to_dict(\"index\")\n",
    "\n",
    "#Transform Date to seperate year, month, day and hour. And transform month, day, hour to cos/sin to make it circular\n",
    "for k, v in time_dict.items():    \n",
    "    v[\"Year\"] = v[\"Date\"].year\n",
    "    \n",
    "    v[\"month_sin\"] = np.sin(2 * np.pi * v[\"Date\"].month / 12)\n",
    "    v[\"month_cos\"] = np.cos(2 * np.pi * v[\"Date\"].month / 12)\n",
    "    \n",
    "    v[\"day_sin\"] = np.sin(2 * np.pi * v[\"Date\"].day / 365)\n",
    "    v[\"day_cos\"] = np.cos(2 * np.pi * v[\"Date\"].day / 365)\n",
    "\n",
    "    v[\"hour_sin\"] = np.sin(2 * np.pi * v[\"Hour\"] / 2400)\n",
    "    v[\"hour_cos\"] = np.cos(2 * np.pi * v[\"Hour\"] / 2400)\n",
    "    \n",
    "#Transform dict back to DF    \n",
    "full_df = pd.DataFrame.from_dict(time_dict, orient=\"index\").reset_index()"
   ]
  },
  {
   "cell_type": "markdown",
   "metadata": {},
   "source": [
    "### Contents"
   ]
  },
  {
   "cell_type": "code",
   "execution_count": 23,
   "metadata": {},
   "outputs": [
    {
     "data": {
      "text/html": [
       "<div>\n",
       "<style scoped>\n",
       "    .dataframe tbody tr th:only-of-type {\n",
       "        vertical-align: middle;\n",
       "    }\n",
       "\n",
       "    .dataframe tbody tr th {\n",
       "        vertical-align: top;\n",
       "    }\n",
       "\n",
       "    .dataframe thead th {\n",
       "        text-align: right;\n",
       "    }\n",
       "</style>\n",
       "<table border=\"1\" class=\"dataframe\">\n",
       "  <thead>\n",
       "    <tr style=\"text-align: right;\">\n",
       "      <th></th>\n",
       "      <th>index</th>\n",
       "      <th>Date</th>\n",
       "      <th>Hour</th>\n",
       "      <th>Nieuwmarkt Arrivals</th>\n",
       "      <th>Nieuwezijds Kolk Arrivals</th>\n",
       "      <th>Dam Arrivals</th>\n",
       "      <th>Spui Arrivals</th>\n",
       "      <th>Nieuwmarkt Departures</th>\n",
       "      <th>Nieuwezijds Kolk Departures</th>\n",
       "      <th>Dam Departures</th>\n",
       "      <th>...</th>\n",
       "      <th>SensorLatitude</th>\n",
       "      <th>CrowdednessCount</th>\n",
       "      <th>is_event</th>\n",
       "      <th>Year</th>\n",
       "      <th>month_sin</th>\n",
       "      <th>month_cos</th>\n",
       "      <th>day_sin</th>\n",
       "      <th>day_cos</th>\n",
       "      <th>hour_sin</th>\n",
       "      <th>hour_cos</th>\n",
       "    </tr>\n",
       "  </thead>\n",
       "  <tbody>\n",
       "    <tr>\n",
       "      <th>0</th>\n",
       "      <td>0</td>\n",
       "      <td>2018-03-11</td>\n",
       "      <td>600</td>\n",
       "      <td>0.0</td>\n",
       "      <td>0.0</td>\n",
       "      <td>0.0</td>\n",
       "      <td>0.0</td>\n",
       "      <td>0.0</td>\n",
       "      <td>0.0</td>\n",
       "      <td>0.0</td>\n",
       "      <td>...</td>\n",
       "      <td>9.0</td>\n",
       "      <td>22.0</td>\n",
       "      <td>0.0</td>\n",
       "      <td>2018</td>\n",
       "      <td>1.0</td>\n",
       "      <td>6.123234e-17</td>\n",
       "      <td>0.188227</td>\n",
       "      <td>0.982126</td>\n",
       "      <td>1.000000</td>\n",
       "      <td>6.123234e-17</td>\n",
       "    </tr>\n",
       "    <tr>\n",
       "      <th>1</th>\n",
       "      <td>1</td>\n",
       "      <td>2018-03-11</td>\n",
       "      <td>900</td>\n",
       "      <td>0.0</td>\n",
       "      <td>0.0</td>\n",
       "      <td>0.0</td>\n",
       "      <td>0.0</td>\n",
       "      <td>0.0</td>\n",
       "      <td>0.0</td>\n",
       "      <td>0.0</td>\n",
       "      <td>...</td>\n",
       "      <td>5.0</td>\n",
       "      <td>40.0</td>\n",
       "      <td>0.0</td>\n",
       "      <td>2018</td>\n",
       "      <td>1.0</td>\n",
       "      <td>6.123234e-17</td>\n",
       "      <td>0.188227</td>\n",
       "      <td>0.982126</td>\n",
       "      <td>0.707107</td>\n",
       "      <td>-7.071068e-01</td>\n",
       "    </tr>\n",
       "    <tr>\n",
       "      <th>2</th>\n",
       "      <td>2</td>\n",
       "      <td>2018-03-11</td>\n",
       "      <td>900</td>\n",
       "      <td>0.0</td>\n",
       "      <td>0.0</td>\n",
       "      <td>0.0</td>\n",
       "      <td>0.0</td>\n",
       "      <td>0.0</td>\n",
       "      <td>0.0</td>\n",
       "      <td>0.0</td>\n",
       "      <td>...</td>\n",
       "      <td>4.0</td>\n",
       "      <td>14.0</td>\n",
       "      <td>0.0</td>\n",
       "      <td>2018</td>\n",
       "      <td>1.0</td>\n",
       "      <td>6.123234e-17</td>\n",
       "      <td>0.188227</td>\n",
       "      <td>0.982126</td>\n",
       "      <td>0.707107</td>\n",
       "      <td>-7.071068e-01</td>\n",
       "    </tr>\n",
       "    <tr>\n",
       "      <th>3</th>\n",
       "      <td>3</td>\n",
       "      <td>2018-03-11</td>\n",
       "      <td>900</td>\n",
       "      <td>0.0</td>\n",
       "      <td>0.0</td>\n",
       "      <td>0.0</td>\n",
       "      <td>0.0</td>\n",
       "      <td>0.0</td>\n",
       "      <td>0.0</td>\n",
       "      <td>0.0</td>\n",
       "      <td>...</td>\n",
       "      <td>6.0</td>\n",
       "      <td>0.0</td>\n",
       "      <td>0.0</td>\n",
       "      <td>2018</td>\n",
       "      <td>1.0</td>\n",
       "      <td>6.123234e-17</td>\n",
       "      <td>0.188227</td>\n",
       "      <td>0.982126</td>\n",
       "      <td>0.707107</td>\n",
       "      <td>-7.071068e-01</td>\n",
       "    </tr>\n",
       "    <tr>\n",
       "      <th>4</th>\n",
       "      <td>4</td>\n",
       "      <td>2018-03-11</td>\n",
       "      <td>900</td>\n",
       "      <td>0.0</td>\n",
       "      <td>0.0</td>\n",
       "      <td>0.0</td>\n",
       "      <td>0.0</td>\n",
       "      <td>0.0</td>\n",
       "      <td>0.0</td>\n",
       "      <td>0.0</td>\n",
       "      <td>...</td>\n",
       "      <td>8.0</td>\n",
       "      <td>125.0</td>\n",
       "      <td>0.0</td>\n",
       "      <td>2018</td>\n",
       "      <td>1.0</td>\n",
       "      <td>6.123234e-17</td>\n",
       "      <td>0.188227</td>\n",
       "      <td>0.982126</td>\n",
       "      <td>0.707107</td>\n",
       "      <td>-7.071068e-01</td>\n",
       "    </tr>\n",
       "  </tbody>\n",
       "</table>\n",
       "<p>5 rows × 25 columns</p>\n",
       "</div>"
      ],
      "text/plain": [
       "   index       Date  Hour  Nieuwmarkt Arrivals  Nieuwezijds Kolk Arrivals  \\\n",
       "0      0 2018-03-11   600                  0.0                        0.0   \n",
       "1      1 2018-03-11   900                  0.0                        0.0   \n",
       "2      2 2018-03-11   900                  0.0                        0.0   \n",
       "3      3 2018-03-11   900                  0.0                        0.0   \n",
       "4      4 2018-03-11   900                  0.0                        0.0   \n",
       "\n",
       "   Dam Arrivals  Spui Arrivals  Nieuwmarkt Departures  \\\n",
       "0           0.0            0.0                    0.0   \n",
       "1           0.0            0.0                    0.0   \n",
       "2           0.0            0.0                    0.0   \n",
       "3           0.0            0.0                    0.0   \n",
       "4           0.0            0.0                    0.0   \n",
       "\n",
       "   Nieuwezijds Kolk Departures  Dam Departures  ...  SensorLatitude  \\\n",
       "0                          0.0             0.0  ...             9.0   \n",
       "1                          0.0             0.0  ...             5.0   \n",
       "2                          0.0             0.0  ...             4.0   \n",
       "3                          0.0             0.0  ...             6.0   \n",
       "4                          0.0             0.0  ...             8.0   \n",
       "\n",
       "   CrowdednessCount  is_event  Year  month_sin     month_cos   day_sin  \\\n",
       "0              22.0       0.0  2018        1.0  6.123234e-17  0.188227   \n",
       "1              40.0       0.0  2018        1.0  6.123234e-17  0.188227   \n",
       "2              14.0       0.0  2018        1.0  6.123234e-17  0.188227   \n",
       "3               0.0       0.0  2018        1.0  6.123234e-17  0.188227   \n",
       "4             125.0       0.0  2018        1.0  6.123234e-17  0.188227   \n",
       "\n",
       "    day_cos  hour_sin      hour_cos  \n",
       "0  0.982126  1.000000  6.123234e-17  \n",
       "1  0.982126  0.707107 -7.071068e-01  \n",
       "2  0.982126  0.707107 -7.071068e-01  \n",
       "3  0.982126  0.707107 -7.071068e-01  \n",
       "4  0.982126  0.707107 -7.071068e-01  \n",
       "\n",
       "[5 rows x 25 columns]"
      ]
     },
     "execution_count": 23,
     "metadata": {},
     "output_type": "execute_result"
    }
   ],
   "source": [
    "full_df.head()"
   ]
  },
  {
   "cell_type": "markdown",
   "metadata": {},
   "source": [
    "## From DF to CSV File"
   ]
  },
  {
   "cell_type": "code",
   "execution_count": 24,
   "metadata": {},
   "outputs": [],
   "source": [
    "full_df.to_csv(\"../../../Data_thesis/Full_Datasets/Full.csv\", index=False)"
   ]
  }
 ],
 "metadata": {
  "kernelspec": {
   "display_name": "Python 3",
   "language": "python",
   "name": "python3"
  },
  "language_info": {
   "codemirror_mode": {
    "name": "ipython",
    "version": 3
   },
   "file_extension": ".py",
   "mimetype": "text/x-python",
   "name": "python",
   "nbconvert_exporter": "python",
   "pygments_lexer": "ipython3",
   "version": "3.7.1"
  }
 },
 "nbformat": 4,
 "nbformat_minor": 2
}
