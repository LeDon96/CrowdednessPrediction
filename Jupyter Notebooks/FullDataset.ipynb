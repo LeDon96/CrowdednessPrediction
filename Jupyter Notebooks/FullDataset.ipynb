{
 "cells": [
  {
   "cell_type": "markdown",
   "metadata": {},
   "source": [
    "# Full Dataset"
   ]
  },
  {
   "cell_type": "markdown",
   "metadata": {},
   "source": [
    "## Imports"
   ]
  },
  {
   "cell_type": "code",
   "execution_count": 1,
   "metadata": {},
   "outputs": [],
   "source": [
    "import pandas as pd\n",
    "import numpy as np"
   ]
  },
  {
   "cell_type": "markdown",
   "metadata": {},
   "source": [
    "## Import Files"
   ]
  },
  {
   "cell_type": "markdown",
   "metadata": {},
   "source": [
    "### Crowdedness Dataset\n",
    "Constructed in the [Crowdedness Notebook](Crowdedness.ipynb)"
   ]
  },
  {
   "cell_type": "code",
   "execution_count": 2,
   "metadata": {},
   "outputs": [],
   "source": [
    "crowd_df = pd.read_csv(\"../../../Data_thesis/Full_Datasets/Crowdedness.csv\")"
   ]
  },
  {
   "cell_type": "markdown",
   "metadata": {},
   "source": [
    "#### Convert Date from string to datetime object"
   ]
  },
  {
   "cell_type": "code",
   "execution_count": 3,
   "metadata": {},
   "outputs": [],
   "source": [
    "crowd_df[\"Date\"] = pd.to_datetime(crowd_df[\"Date\"], format=\"%Y-%m-%d\")"
   ]
  },
  {
   "cell_type": "markdown",
   "metadata": {},
   "source": [
    "#### Set Start and End Date\n",
    "Accroding to the ranges in the crowd_df, as these consist of the target values and represent the smallest range in dates"
   ]
  },
  {
   "cell_type": "code",
   "execution_count": 4,
   "metadata": {},
   "outputs": [],
   "source": [
    "# Start data\n",
    "start_date = crowd_df.min().Date\n",
    "\n",
    "# End date\n",
    "end_date = crowd_df.max().Date"
   ]
  },
  {
   "cell_type": "markdown",
   "metadata": {},
   "source": [
    "#### Contents"
   ]
  },
  {
   "cell_type": "code",
   "execution_count": 5,
   "metadata": {},
   "outputs": [
    {
     "data": {
      "text/html": [
       "<div>\n",
       "<style scoped>\n",
       "    .dataframe tbody tr th:only-of-type {\n",
       "        vertical-align: middle;\n",
       "    }\n",
       "\n",
       "    .dataframe tbody tr th {\n",
       "        vertical-align: top;\n",
       "    }\n",
       "\n",
       "    .dataframe thead th {\n",
       "        text-align: right;\n",
       "    }\n",
       "</style>\n",
       "<table border=\"1\" class=\"dataframe\">\n",
       "  <thead>\n",
       "    <tr style=\"text-align: right;\">\n",
       "      <th></th>\n",
       "      <th>Sensor</th>\n",
       "      <th>Date</th>\n",
       "      <th>Hour</th>\n",
       "      <th>SensorLongitude</th>\n",
       "      <th>SensorLatitude</th>\n",
       "      <th>CrowdednessCount</th>\n",
       "    </tr>\n",
       "  </thead>\n",
       "  <tbody>\n",
       "    <tr>\n",
       "      <th>0</th>\n",
       "      <td>GAWW-01</td>\n",
       "      <td>2018-03-11</td>\n",
       "      <td>100</td>\n",
       "      <td>4.899847</td>\n",
       "      <td>52.374601</td>\n",
       "      <td>3133</td>\n",
       "    </tr>\n",
       "    <tr>\n",
       "      <th>1</th>\n",
       "      <td>GAWW-01</td>\n",
       "      <td>2018-03-11</td>\n",
       "      <td>200</td>\n",
       "      <td>4.899847</td>\n",
       "      <td>52.374601</td>\n",
       "      <td>2120</td>\n",
       "    </tr>\n",
       "    <tr>\n",
       "      <th>2</th>\n",
       "      <td>GAWW-01</td>\n",
       "      <td>2018-03-11</td>\n",
       "      <td>300</td>\n",
       "      <td>4.899847</td>\n",
       "      <td>52.374601</td>\n",
       "      <td>1419</td>\n",
       "    </tr>\n",
       "    <tr>\n",
       "      <th>3</th>\n",
       "      <td>GAWW-01</td>\n",
       "      <td>2018-03-11</td>\n",
       "      <td>400</td>\n",
       "      <td>4.899847</td>\n",
       "      <td>52.374601</td>\n",
       "      <td>1085</td>\n",
       "    </tr>\n",
       "    <tr>\n",
       "      <th>4</th>\n",
       "      <td>GAWW-01</td>\n",
       "      <td>2018-03-11</td>\n",
       "      <td>500</td>\n",
       "      <td>4.899847</td>\n",
       "      <td>52.374601</td>\n",
       "      <td>498</td>\n",
       "    </tr>\n",
       "  </tbody>\n",
       "</table>\n",
       "</div>"
      ],
      "text/plain": [
       "    Sensor       Date  Hour  SensorLongitude  SensorLatitude  CrowdednessCount\n",
       "0  GAWW-01 2018-03-11   100         4.899847       52.374601              3133\n",
       "1  GAWW-01 2018-03-11   200         4.899847       52.374601              2120\n",
       "2  GAWW-01 2018-03-11   300         4.899847       52.374601              1419\n",
       "3  GAWW-01 2018-03-11   400         4.899847       52.374601              1085\n",
       "4  GAWW-01 2018-03-11   500         4.899847       52.374601               498"
      ]
     },
     "execution_count": 5,
     "metadata": {},
     "output_type": "execute_result"
    }
   ],
   "source": [
    "crowd_df.head()"
   ]
  },
  {
   "cell_type": "markdown",
   "metadata": {},
   "source": [
    "### GVB Dataset\n",
    "Constructed in the [GVBData Notebook](GVBData.ipynb)"
   ]
  },
  {
   "cell_type": "code",
   "execution_count": 6,
   "metadata": {},
   "outputs": [],
   "source": [
    "gvb_df = pd.read_csv(\"../../../Data_thesis/Full_Datasets/GVB.csv\")"
   ]
  },
  {
   "cell_type": "markdown",
   "metadata": {},
   "source": [
    "#### Convert Date from string to datetime object"
   ]
  },
  {
   "cell_type": "code",
   "execution_count": 7,
   "metadata": {},
   "outputs": [],
   "source": [
    "gvb_df[\"Date\"] = pd.to_datetime(gvb_df[\"Date\"], format=\"%Y-%m-%d\")"
   ]
  },
  {
   "cell_type": "markdown",
   "metadata": {},
   "source": [
    "#### Only select date between start and end data"
   ]
  },
  {
   "cell_type": "code",
   "execution_count": 8,
   "metadata": {},
   "outputs": [],
   "source": [
    "gvb_df = gvb_df[(gvb_df[\"Date\"] > start_date) & (gvb_df[\"Date\"] < end_date)].reset_index().drop(columns=[\"index\"])"
   ]
  },
  {
   "cell_type": "markdown",
   "metadata": {},
   "source": [
    "#### Contents"
   ]
  },
  {
   "cell_type": "code",
   "execution_count": 9,
   "metadata": {},
   "outputs": [
    {
     "data": {
      "text/html": [
       "<div>\n",
       "<style scoped>\n",
       "    .dataframe tbody tr th:only-of-type {\n",
       "        vertical-align: middle;\n",
       "    }\n",
       "\n",
       "    .dataframe tbody tr th {\n",
       "        vertical-align: top;\n",
       "    }\n",
       "\n",
       "    .dataframe thead th {\n",
       "        text-align: right;\n",
       "    }\n",
       "</style>\n",
       "<table border=\"1\" class=\"dataframe\">\n",
       "  <thead>\n",
       "    <tr style=\"text-align: right;\">\n",
       "      <th></th>\n",
       "      <th>Date</th>\n",
       "      <th>Hour</th>\n",
       "      <th>NieuwmarktCode</th>\n",
       "      <th>NieuwmarktLat</th>\n",
       "      <th>NieuwmarktLon</th>\n",
       "      <th>NieuwmarktArrivals</th>\n",
       "      <th>NieuwmarktDepartures</th>\n",
       "      <th>NieuwezijdsCode</th>\n",
       "      <th>NieuwezijdsLat</th>\n",
       "      <th>NieuwezijdsLon</th>\n",
       "      <th>...</th>\n",
       "      <th>DamLon</th>\n",
       "      <th>DamArrivals</th>\n",
       "      <th>DamDepartures</th>\n",
       "      <th>SpuiCode</th>\n",
       "      <th>SpuiLat</th>\n",
       "      <th>SpuiLon</th>\n",
       "      <th>SpuiArrivals</th>\n",
       "      <th>SpuiDepartures</th>\n",
       "      <th>weekday</th>\n",
       "      <th>is_weekend</th>\n",
       "    </tr>\n",
       "  </thead>\n",
       "  <tbody>\n",
       "    <tr>\n",
       "      <th>0</th>\n",
       "      <td>2018-04-01</td>\n",
       "      <td>2400</td>\n",
       "      <td>NMT</td>\n",
       "      <td>52.371942</td>\n",
       "      <td>4.901239</td>\n",
       "      <td>31.0</td>\n",
       "      <td>115.0</td>\n",
       "      <td>5069</td>\n",
       "      <td>52.376288</td>\n",
       "      <td>4.893731</td>\n",
       "      <td>...</td>\n",
       "      <td>4.89008</td>\n",
       "      <td>43.0</td>\n",
       "      <td>254.0</td>\n",
       "      <td>5062</td>\n",
       "      <td>52.369097</td>\n",
       "      <td>4.889259</td>\n",
       "      <td>0.0</td>\n",
       "      <td>46.0</td>\n",
       "      <td>6</td>\n",
       "      <td>1</td>\n",
       "    </tr>\n",
       "    <tr>\n",
       "      <th>1</th>\n",
       "      <td>2018-04-01</td>\n",
       "      <td>600</td>\n",
       "      <td>NMT</td>\n",
       "      <td>52.371942</td>\n",
       "      <td>4.901239</td>\n",
       "      <td>67.0</td>\n",
       "      <td>50.0</td>\n",
       "      <td>5069</td>\n",
       "      <td>52.376288</td>\n",
       "      <td>4.893731</td>\n",
       "      <td>...</td>\n",
       "      <td>4.89008</td>\n",
       "      <td>129.0</td>\n",
       "      <td>0.0</td>\n",
       "      <td>5062</td>\n",
       "      <td>52.369097</td>\n",
       "      <td>4.889259</td>\n",
       "      <td>11.0</td>\n",
       "      <td>0.0</td>\n",
       "      <td>6</td>\n",
       "      <td>1</td>\n",
       "    </tr>\n",
       "    <tr>\n",
       "      <th>2</th>\n",
       "      <td>2018-04-01</td>\n",
       "      <td>700</td>\n",
       "      <td>NMT</td>\n",
       "      <td>52.371942</td>\n",
       "      <td>4.901239</td>\n",
       "      <td>99.0</td>\n",
       "      <td>120.0</td>\n",
       "      <td>5069</td>\n",
       "      <td>52.376288</td>\n",
       "      <td>4.893731</td>\n",
       "      <td>...</td>\n",
       "      <td>4.89008</td>\n",
       "      <td>174.0</td>\n",
       "      <td>57.0</td>\n",
       "      <td>5062</td>\n",
       "      <td>52.369097</td>\n",
       "      <td>4.889259</td>\n",
       "      <td>54.0</td>\n",
       "      <td>17.0</td>\n",
       "      <td>6</td>\n",
       "      <td>1</td>\n",
       "    </tr>\n",
       "    <tr>\n",
       "      <th>3</th>\n",
       "      <td>2018-04-01</td>\n",
       "      <td>800</td>\n",
       "      <td>NMT</td>\n",
       "      <td>52.371942</td>\n",
       "      <td>4.901239</td>\n",
       "      <td>222.0</td>\n",
       "      <td>236.0</td>\n",
       "      <td>5069</td>\n",
       "      <td>52.376288</td>\n",
       "      <td>4.893731</td>\n",
       "      <td>...</td>\n",
       "      <td>4.89008</td>\n",
       "      <td>491.0</td>\n",
       "      <td>111.0</td>\n",
       "      <td>5062</td>\n",
       "      <td>52.369097</td>\n",
       "      <td>4.889259</td>\n",
       "      <td>139.0</td>\n",
       "      <td>64.0</td>\n",
       "      <td>6</td>\n",
       "      <td>1</td>\n",
       "    </tr>\n",
       "    <tr>\n",
       "      <th>4</th>\n",
       "      <td>2018-04-01</td>\n",
       "      <td>900</td>\n",
       "      <td>NMT</td>\n",
       "      <td>52.371942</td>\n",
       "      <td>4.901239</td>\n",
       "      <td>269.0</td>\n",
       "      <td>169.0</td>\n",
       "      <td>5069</td>\n",
       "      <td>52.376288</td>\n",
       "      <td>4.893731</td>\n",
       "      <td>...</td>\n",
       "      <td>4.89008</td>\n",
       "      <td>764.0</td>\n",
       "      <td>151.0</td>\n",
       "      <td>5062</td>\n",
       "      <td>52.369097</td>\n",
       "      <td>4.889259</td>\n",
       "      <td>215.0</td>\n",
       "      <td>61.0</td>\n",
       "      <td>6</td>\n",
       "      <td>1</td>\n",
       "    </tr>\n",
       "  </tbody>\n",
       "</table>\n",
       "<p>5 rows × 24 columns</p>\n",
       "</div>"
      ],
      "text/plain": [
       "        Date  Hour NieuwmarktCode  NieuwmarktLat  NieuwmarktLon  \\\n",
       "0 2018-04-01  2400            NMT      52.371942       4.901239   \n",
       "1 2018-04-01   600            NMT      52.371942       4.901239   \n",
       "2 2018-04-01   700            NMT      52.371942       4.901239   \n",
       "3 2018-04-01   800            NMT      52.371942       4.901239   \n",
       "4 2018-04-01   900            NMT      52.371942       4.901239   \n",
       "\n",
       "   NieuwmarktArrivals  NieuwmarktDepartures  NieuwezijdsCode  NieuwezijdsLat  \\\n",
       "0                31.0                 115.0             5069       52.376288   \n",
       "1                67.0                  50.0             5069       52.376288   \n",
       "2                99.0                 120.0             5069       52.376288   \n",
       "3               222.0                 236.0             5069       52.376288   \n",
       "4               269.0                 169.0             5069       52.376288   \n",
       "\n",
       "   NieuwezijdsLon  ...   DamLon  DamArrivals  DamDepartures  SpuiCode  \\\n",
       "0        4.893731  ...  4.89008         43.0          254.0      5062   \n",
       "1        4.893731  ...  4.89008        129.0            0.0      5062   \n",
       "2        4.893731  ...  4.89008        174.0           57.0      5062   \n",
       "3        4.893731  ...  4.89008        491.0          111.0      5062   \n",
       "4        4.893731  ...  4.89008        764.0          151.0      5062   \n",
       "\n",
       "     SpuiLat   SpuiLon  SpuiArrivals  SpuiDepartures  weekday  is_weekend  \n",
       "0  52.369097  4.889259           0.0            46.0        6           1  \n",
       "1  52.369097  4.889259          11.0             0.0        6           1  \n",
       "2  52.369097  4.889259          54.0            17.0        6           1  \n",
       "3  52.369097  4.889259         139.0            64.0        6           1  \n",
       "4  52.369097  4.889259         215.0            61.0        6           1  \n",
       "\n",
       "[5 rows x 24 columns]"
      ]
     },
     "execution_count": 9,
     "metadata": {},
     "output_type": "execute_result"
    }
   ],
   "source": [
    "gvb_df.head()"
   ]
  },
  {
   "cell_type": "markdown",
   "metadata": {},
   "source": [
    "### Amsterdam Events\n",
    "Constructed in the [AmsterdamEvent Notebook](AmsterdamEvent.ipynb)"
   ]
  },
  {
   "cell_type": "code",
   "execution_count": 10,
   "metadata": {},
   "outputs": [],
   "source": [
    "events_df = pd.read_csv(\"../../../Data_thesis/Full_Datasets/Events.csv\")"
   ]
  },
  {
   "cell_type": "markdown",
   "metadata": {},
   "source": [
    "#### Convert Date from string to datetime object"
   ]
  },
  {
   "cell_type": "code",
   "execution_count": 11,
   "metadata": {},
   "outputs": [],
   "source": [
    "events_df[\"Date\"] = pd.to_datetime(events_df[\"Date\"], format=\"%Y-%m-%d\")"
   ]
  },
  {
   "cell_type": "markdown",
   "metadata": {},
   "source": [
    "#### Only select date between start and end data"
   ]
  },
  {
   "cell_type": "code",
   "execution_count": 12,
   "metadata": {},
   "outputs": [],
   "source": [
    "events_df = events_df[(events_df[\"Date\"] > start_date) & (events_df[\"Date\"] < end_date)].reset_index().drop(columns=[\"index\"])"
   ]
  },
  {
   "cell_type": "markdown",
   "metadata": {},
   "source": [
    "#### Contenst"
   ]
  },
  {
   "cell_type": "code",
   "execution_count": 13,
   "metadata": {},
   "outputs": [
    {
     "data": {
      "text/html": [
       "<div>\n",
       "<style scoped>\n",
       "    .dataframe tbody tr th:only-of-type {\n",
       "        vertical-align: middle;\n",
       "    }\n",
       "\n",
       "    .dataframe tbody tr th {\n",
       "        vertical-align: top;\n",
       "    }\n",
       "\n",
       "    .dataframe thead th {\n",
       "        text-align: right;\n",
       "    }\n",
       "</style>\n",
       "<table border=\"1\" class=\"dataframe\">\n",
       "  <thead>\n",
       "    <tr style=\"text-align: right;\">\n",
       "      <th></th>\n",
       "      <th>Date</th>\n",
       "      <th>is_event</th>\n",
       "      <th>event_lat</th>\n",
       "      <th>event_lon</th>\n",
       "    </tr>\n",
       "  </thead>\n",
       "  <tbody>\n",
       "    <tr>\n",
       "      <th>0</th>\n",
       "      <td>2018-04-20</td>\n",
       "      <td>1.0</td>\n",
       "      <td>52.372638</td>\n",
       "      <td>4.894106</td>\n",
       "    </tr>\n",
       "    <tr>\n",
       "      <th>1</th>\n",
       "      <td>2018-05-20</td>\n",
       "      <td>1.0</td>\n",
       "      <td>52.372638</td>\n",
       "      <td>4.894106</td>\n",
       "    </tr>\n",
       "    <tr>\n",
       "      <th>2</th>\n",
       "      <td>2018-06-02</td>\n",
       "      <td>1.0</td>\n",
       "      <td>52.361582</td>\n",
       "      <td>4.885479</td>\n",
       "    </tr>\n",
       "    <tr>\n",
       "      <th>3</th>\n",
       "      <td>2018-06-03</td>\n",
       "      <td>1.0</td>\n",
       "      <td>52.361582</td>\n",
       "      <td>4.885479</td>\n",
       "    </tr>\n",
       "    <tr>\n",
       "      <th>4</th>\n",
       "      <td>2018-06-04</td>\n",
       "      <td>1.0</td>\n",
       "      <td>52.361582</td>\n",
       "      <td>4.885479</td>\n",
       "    </tr>\n",
       "  </tbody>\n",
       "</table>\n",
       "</div>"
      ],
      "text/plain": [
       "        Date  is_event  event_lat  event_lon\n",
       "0 2018-04-20       1.0  52.372638   4.894106\n",
       "1 2018-05-20       1.0  52.372638   4.894106\n",
       "2 2018-06-02       1.0  52.361582   4.885479\n",
       "3 2018-06-03       1.0  52.361582   4.885479\n",
       "4 2018-06-04       1.0  52.361582   4.885479"
      ]
     },
     "execution_count": 13,
     "metadata": {},
     "output_type": "execute_result"
    }
   ],
   "source": [
    "events_df.head()"
   ]
  },
  {
   "cell_type": "markdown",
   "metadata": {},
   "source": [
    "## Combine Datasets"
   ]
  },
  {
   "cell_type": "code",
   "execution_count": 14,
   "metadata": {},
   "outputs": [],
   "source": [
    "gvb_crowd_df = pd.merge(gvb_df, crowd_df, on=[\"Date\", \"Hour\"], how=\"outer\")\n",
    "full_df = pd.merge(gvb_crowd_df, events_df, on=[\"Date\"], how=\"outer\")\n",
    "\n",
    "full_df = full_df.sort_values(by=[\"Date\"]).reset_index().drop(columns=[\"index\"])"
   ]
  },
  {
   "cell_type": "markdown",
   "metadata": {},
   "source": [
    "## Transform Df"
   ]
  },
  {
   "cell_type": "markdown",
   "metadata": {},
   "source": [
    "### Fill NaN with 0.0"
   ]
  },
  {
   "cell_type": "code",
   "execution_count": 15,
   "metadata": {},
   "outputs": [],
   "source": [
    "full_df = full_df.fillna(0.0)"
   ]
  },
  {
   "cell_type": "markdown",
   "metadata": {},
   "source": [
    "### Make Time Circular"
   ]
  },
  {
   "cell_type": "code",
   "execution_count": 16,
   "metadata": {},
   "outputs": [],
   "source": [
    "#Add columns for the cos and sin of month, day and year\n",
    "full_df = full_df.assign(Year=0, month_sin=0, month_cos=0, day_sin=0, day_cos=0, hour_sin=0, hour_cos=0)\n",
    "\n",
    "#Transform DF to Dict\n",
    "time_dict = full_df.to_dict(\"index\")\n",
    "\n",
    "#Transform Date to seperate year, month, day and hour. And transform month, day, hour to cos/sin to make it circular\n",
    "for k, v in time_dict.items():    \n",
    "    v[\"Year\"] = v[\"Date\"].year\n",
    "    \n",
    "    v[\"month_sin\"] = np.sin(2 * np.pi * v[\"Date\"].month / 12)\n",
    "    v[\"month_cos\"] = np.cos(2 * np.pi * v[\"Date\"].month / 12)\n",
    "    \n",
    "    v[\"day_sin\"] = np.sin(2 * np.pi * v[\"Date\"].day / 365)\n",
    "    v[\"day_cos\"] = np.cos(2 * np.pi * v[\"Date\"].day / 365)\n",
    "\n",
    "    v[\"hour_sin\"] = np.sin(2 * np.pi * v[\"Hour\"] / 2400)\n",
    "    v[\"hour_cos\"] = np.cos(2 * np.pi * v[\"Hour\"] / 2400)\n",
    "    \n",
    "#Transform dict back to DF    \n",
    "full_df = pd.DataFrame.from_dict(time_dict, orient=\"index\").reset_index()"
   ]
  },
  {
   "cell_type": "markdown",
   "metadata": {},
   "source": [
    "### Change order columns"
   ]
  },
  {
   "cell_type": "code",
   "execution_count": 17,
   "metadata": {},
   "outputs": [],
   "source": [
    "cols = [\"Date\", \"Hour\",'is_event', 'event_lat', 'event_lon', 'NieuwmarktLat', 'NieuwmarktLon', \n",
    "        'NieuwmarktArrivals', 'NieuwmarktDepartures', 'NieuwezijdsLat', 'NieuwezijdsLon', \n",
    "        'NieuwezijdsArrivals', 'NieuwezijdsDepartures', 'DamLat', 'DamLon', 'DamArrivals', \n",
    "        'DamDepartures', 'SpuiLat', 'SpuiLon', 'SpuiArrivals', 'SpuiDepartures', 'weekday', 'is_weekend',\n",
    "        'SensorLongitude', 'SensorLatitude', 'Year', 'month_sin', 'month_cos', \n",
    "        'day_sin', 'day_cos', 'hour_sin', 'hour_cos', 'CrowdednessCount']\n",
    "\n",
    "full_df = full_df[cols]"
   ]
  },
  {
   "cell_type": "markdown",
   "metadata": {},
   "source": [
    "### Contents"
   ]
  },
  {
   "cell_type": "code",
   "execution_count": 18,
   "metadata": {},
   "outputs": [
    {
     "data": {
      "text/html": [
       "<div>\n",
       "<style scoped>\n",
       "    .dataframe tbody tr th:only-of-type {\n",
       "        vertical-align: middle;\n",
       "    }\n",
       "\n",
       "    .dataframe tbody tr th {\n",
       "        vertical-align: top;\n",
       "    }\n",
       "\n",
       "    .dataframe thead th {\n",
       "        text-align: right;\n",
       "    }\n",
       "</style>\n",
       "<table border=\"1\" class=\"dataframe\">\n",
       "  <thead>\n",
       "    <tr style=\"text-align: right;\">\n",
       "      <th></th>\n",
       "      <th>Date</th>\n",
       "      <th>Hour</th>\n",
       "      <th>is_event</th>\n",
       "      <th>event_lat</th>\n",
       "      <th>event_lon</th>\n",
       "      <th>NieuwmarktLat</th>\n",
       "      <th>NieuwmarktLon</th>\n",
       "      <th>NieuwmarktArrivals</th>\n",
       "      <th>NieuwmarktDepartures</th>\n",
       "      <th>NieuwezijdsLat</th>\n",
       "      <th>...</th>\n",
       "      <th>SensorLongitude</th>\n",
       "      <th>SensorLatitude</th>\n",
       "      <th>Year</th>\n",
       "      <th>month_sin</th>\n",
       "      <th>month_cos</th>\n",
       "      <th>day_sin</th>\n",
       "      <th>day_cos</th>\n",
       "      <th>hour_sin</th>\n",
       "      <th>hour_cos</th>\n",
       "      <th>CrowdednessCount</th>\n",
       "    </tr>\n",
       "  </thead>\n",
       "  <tbody>\n",
       "    <tr>\n",
       "      <th>0</th>\n",
       "      <td>2018-03-11</td>\n",
       "      <td>1200</td>\n",
       "      <td>0.0</td>\n",
       "      <td>0.0</td>\n",
       "      <td>0.0</td>\n",
       "      <td>0.0</td>\n",
       "      <td>0.0</td>\n",
       "      <td>0.0</td>\n",
       "      <td>0.0</td>\n",
       "      <td>0.0</td>\n",
       "      <td>...</td>\n",
       "      <td>4.898903</td>\n",
       "      <td>52.373786</td>\n",
       "      <td>2018</td>\n",
       "      <td>1.0</td>\n",
       "      <td>6.123234e-17</td>\n",
       "      <td>0.188227</td>\n",
       "      <td>0.982126</td>\n",
       "      <td>1.224647e-16</td>\n",
       "      <td>-1.000000</td>\n",
       "      <td>0.0</td>\n",
       "    </tr>\n",
       "    <tr>\n",
       "      <th>1</th>\n",
       "      <td>2018-03-11</td>\n",
       "      <td>1500</td>\n",
       "      <td>0.0</td>\n",
       "      <td>0.0</td>\n",
       "      <td>0.0</td>\n",
       "      <td>0.0</td>\n",
       "      <td>0.0</td>\n",
       "      <td>0.0</td>\n",
       "      <td>0.0</td>\n",
       "      <td>0.0</td>\n",
       "      <td>...</td>\n",
       "      <td>4.897193</td>\n",
       "      <td>52.371650</td>\n",
       "      <td>2018</td>\n",
       "      <td>1.0</td>\n",
       "      <td>6.123234e-17</td>\n",
       "      <td>0.188227</td>\n",
       "      <td>0.982126</td>\n",
       "      <td>-7.071068e-01</td>\n",
       "      <td>-0.707107</td>\n",
       "      <td>45.0</td>\n",
       "    </tr>\n",
       "    <tr>\n",
       "      <th>2</th>\n",
       "      <td>2018-03-11</td>\n",
       "      <td>1500</td>\n",
       "      <td>0.0</td>\n",
       "      <td>0.0</td>\n",
       "      <td>0.0</td>\n",
       "      <td>0.0</td>\n",
       "      <td>0.0</td>\n",
       "      <td>0.0</td>\n",
       "      <td>0.0</td>\n",
       "      <td>0.0</td>\n",
       "      <td>...</td>\n",
       "      <td>4.898479</td>\n",
       "      <td>52.375040</td>\n",
       "      <td>2018</td>\n",
       "      <td>1.0</td>\n",
       "      <td>6.123234e-17</td>\n",
       "      <td>0.188227</td>\n",
       "      <td>0.982126</td>\n",
       "      <td>-7.071068e-01</td>\n",
       "      <td>-0.707107</td>\n",
       "      <td>68.0</td>\n",
       "    </tr>\n",
       "    <tr>\n",
       "      <th>3</th>\n",
       "      <td>2018-03-11</td>\n",
       "      <td>1500</td>\n",
       "      <td>0.0</td>\n",
       "      <td>0.0</td>\n",
       "      <td>0.0</td>\n",
       "      <td>0.0</td>\n",
       "      <td>0.0</td>\n",
       "      <td>0.0</td>\n",
       "      <td>0.0</td>\n",
       "      <td>0.0</td>\n",
       "      <td>...</td>\n",
       "      <td>4.898808</td>\n",
       "      <td>52.372369</td>\n",
       "      <td>2018</td>\n",
       "      <td>1.0</td>\n",
       "      <td>6.123234e-17</td>\n",
       "      <td>0.188227</td>\n",
       "      <td>0.982126</td>\n",
       "      <td>-7.071068e-01</td>\n",
       "      <td>-0.707107</td>\n",
       "      <td>25.0</td>\n",
       "    </tr>\n",
       "    <tr>\n",
       "      <th>4</th>\n",
       "      <td>2018-03-11</td>\n",
       "      <td>1600</td>\n",
       "      <td>0.0</td>\n",
       "      <td>0.0</td>\n",
       "      <td>0.0</td>\n",
       "      <td>0.0</td>\n",
       "      <td>0.0</td>\n",
       "      <td>0.0</td>\n",
       "      <td>0.0</td>\n",
       "      <td>0.0</td>\n",
       "      <td>...</td>\n",
       "      <td>4.899847</td>\n",
       "      <td>52.374601</td>\n",
       "      <td>2018</td>\n",
       "      <td>1.0</td>\n",
       "      <td>6.123234e-17</td>\n",
       "      <td>0.188227</td>\n",
       "      <td>0.982126</td>\n",
       "      <td>-8.660254e-01</td>\n",
       "      <td>-0.500000</td>\n",
       "      <td>2404.0</td>\n",
       "    </tr>\n",
       "  </tbody>\n",
       "</table>\n",
       "<p>5 rows × 33 columns</p>\n",
       "</div>"
      ],
      "text/plain": [
       "        Date  Hour  is_event  event_lat  event_lon  NieuwmarktLat  \\\n",
       "0 2018-03-11  1200       0.0        0.0        0.0            0.0   \n",
       "1 2018-03-11  1500       0.0        0.0        0.0            0.0   \n",
       "2 2018-03-11  1500       0.0        0.0        0.0            0.0   \n",
       "3 2018-03-11  1500       0.0        0.0        0.0            0.0   \n",
       "4 2018-03-11  1600       0.0        0.0        0.0            0.0   \n",
       "\n",
       "   NieuwmarktLon  NieuwmarktArrivals  NieuwmarktDepartures  NieuwezijdsLat  \\\n",
       "0            0.0                 0.0                   0.0             0.0   \n",
       "1            0.0                 0.0                   0.0             0.0   \n",
       "2            0.0                 0.0                   0.0             0.0   \n",
       "3            0.0                 0.0                   0.0             0.0   \n",
       "4            0.0                 0.0                   0.0             0.0   \n",
       "\n",
       "   ...  SensorLongitude  SensorLatitude  Year  month_sin     month_cos  \\\n",
       "0  ...         4.898903       52.373786  2018        1.0  6.123234e-17   \n",
       "1  ...         4.897193       52.371650  2018        1.0  6.123234e-17   \n",
       "2  ...         4.898479       52.375040  2018        1.0  6.123234e-17   \n",
       "3  ...         4.898808       52.372369  2018        1.0  6.123234e-17   \n",
       "4  ...         4.899847       52.374601  2018        1.0  6.123234e-17   \n",
       "\n",
       "    day_sin   day_cos      hour_sin  hour_cos  CrowdednessCount  \n",
       "0  0.188227  0.982126  1.224647e-16 -1.000000               0.0  \n",
       "1  0.188227  0.982126 -7.071068e-01 -0.707107              45.0  \n",
       "2  0.188227  0.982126 -7.071068e-01 -0.707107              68.0  \n",
       "3  0.188227  0.982126 -7.071068e-01 -0.707107              25.0  \n",
       "4  0.188227  0.982126 -8.660254e-01 -0.500000            2404.0  \n",
       "\n",
       "[5 rows x 33 columns]"
      ]
     },
     "execution_count": 18,
     "metadata": {},
     "output_type": "execute_result"
    }
   ],
   "source": [
    "full_df.head()"
   ]
  },
  {
   "cell_type": "markdown",
   "metadata": {},
   "source": [
    "## From DF to CSV File"
   ]
  },
  {
   "cell_type": "code",
   "execution_count": 19,
   "metadata": {},
   "outputs": [],
   "source": [
    "full_df.to_csv(\"../../../Data_thesis/Full_Datasets/Full.csv\", index=False)"
   ]
  }
 ],
 "metadata": {
  "kernelspec": {
   "display_name": "Python 3",
   "language": "python",
   "name": "python3"
  },
  "language_info": {
   "codemirror_mode": {
    "name": "ipython",
    "version": 3
   },
   "file_extension": ".py",
   "mimetype": "text/x-python",
   "name": "python",
   "nbconvert_exporter": "python",
   "pygments_lexer": "ipython3",
   "version": "3.7.1"
  }
 },
 "nbformat": 4,
 "nbformat_minor": 2
}
