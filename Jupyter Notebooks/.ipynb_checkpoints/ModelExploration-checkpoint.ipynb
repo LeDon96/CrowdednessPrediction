{
 "cells": [
  {
   "cell_type": "markdown",
   "metadata": {},
   "source": [
    "# Model Exploration"
   ]
  },
  {
   "cell_type": "markdown",
   "metadata": {},
   "source": [
    "## Table of Contents\n",
    "1. [Imports](#imports)\n",
    "2. [Import_Data](#importData)\n",
    "    1. [GVB_Data](#GVBData)\n",
    "    2. [Amsterdam_Event_Data](#EventData)\n",
    "    3. [Crowdedness_Data](#CrowdData)\n",
    "3. [Data_Preperation](#DataPrep)\n",
    "    1. [Combine_Datasets](#CombData)\n",
    "    2. [Construct_Model_DataFrame](#testModel)\n",
    "4. [Regression_Models](#regModels)\n",
    "    1. [Split_Train_and_Test_Data](#trainTestSplit)\n",
    "    2. [Baseline](#regBaseModel)\n",
    "    3. [Random_Forrest_Regressor](#regRFGModel)\n",
    "    4. [Gradient_Boosting_Regressor](#regGBRModel)\n",
    "    5. [Lasso](#regABRModel)\n",
    "5. [Classification_Models](#classification)\n",
    "    1. [Numerical_Labels_to_Categorical_Labels](#classCatVar)\n",
    "    2. [Split_Train_and Test_Data](#classTrainSplit)\n",
    "    3. [Baseline](#classBaseModel)\n",
    "    4. [Random_Forrest_Classifier](#classRFCModel)\n",
    "    5. [Gradient_Boosting_Classification](#classGBCModel)\n",
    "    6. [SGD](#classSGDModel)\n",
    "    7. [Voting_Classification](#classVCModel)"
   ]
  },
  {
   "cell_type": "markdown",
   "metadata": {},
   "source": [
    "## Imports <a name=\"imports\"></a>"
   ]
  },
  {
   "cell_type": "code",
   "execution_count": 31,
   "metadata": {},
   "outputs": [],
   "source": [
    "#Train/Test section\n",
    "from sklearn.model_selection import train_test_split\n",
    "\n",
    "#Regression Models\n",
    "from sklearn.linear_model import LinearRegression\n",
    "from sklearn.ensemble import RandomForestRegressor\n",
    "from sklearn.ensemble import GradientBoostingRegressor\n",
    "from sklearn.linear_model import LassoCV\n",
    "\n",
    "#Regression Metrics\n",
    "from sklearn.metrics import mean_squared_error\n",
    "\n",
    "#Classification Models\n",
    "from scipy.stats import norm\n",
    "from sklearn.dummy import DummyClassifier\n",
    "from sklearn.ensemble import RandomForestClassifier\n",
    "from sklearn.ensemble import GradientBoostingClassifier\n",
    "from sklearn.linear_model import SGDClassifier\n",
    "from sklearn.ensemble import VotingClassifier\n",
    "\n",
    "#Classification Metrics\n",
    "from sklearn.metrics import classification_report\n",
    "from sklearn.metrics import accuracy_score\n",
    "\n",
    "import pandas as pd\n",
    "import json\n",
    "import numpy as np\n",
    "import matplotlib.pyplot as plt\n",
    "%matplotlib inline\n",
    "\n",
    "from yellowbrick.classifier import ClassPredictionError\n",
    "from yellowbrick.regressor import PredictionError\n",
    "from yellowbrick.features import Rank1D\n",
    "from yellowbrick.features import Rank2D\n",
    "from yellowbrick.features import RadViz\n",
    "\n",
    "import datetime"
   ]
  },
  {
   "cell_type": "markdown",
   "metadata": {},
   "source": [
    "## Import Data <a name=\"importData\"></a>"
   ]
  },
  {
   "cell_type": "markdown",
   "metadata": {},
   "source": [
    "### GVB Data <a name=\"GVBData\"></a>\n",
    "Import the GVB data and convert the Date column to [Pandas Timestamp](https://pandas.pydata.org/pandas-docs/stable/reference/api/pandas.Timestamp.html). Aftwerwards the dataset is split into the following two sets:\n",
    "- Training: All data before the given *series_date*\n",
    "    - Used for training and validating the model\n",
    "- Series: All data before the given *series_date*\n",
    "    - Used to construct a Time Series"
   ]
  },
  {
   "cell_type": "code",
   "execution_count": 44,
   "metadata": {},
   "outputs": [],
   "source": [
    "#Full GVB Dataset\n",
    "gvb_df = pd.read_csv(\"../../../Data_thesis/Full_Datasets/GVB.csv\")"
   ]
  },
  {
   "cell_type": "code",
   "execution_count": 45,
   "metadata": {},
   "outputs": [],
   "source": [
    "#Convert DF to Dict\n",
    "gvb_dict = gvb_df.to_dict(\"index\")\n",
    "\n",
    "#Transform date from string to datetime object\n",
    "for k, v in gvb_dict.items():\n",
    "    v[\"Date\"] = pd.Timestamp.strptime(v[\"Date\"], \"%Y-%m-%d\")\n",
    "    \n",
    "#Convert back to dict\n",
    "gvb_df = pd.DataFrame.from_dict(gvb_dict, orient=\"index\")"
   ]
  },
  {
   "cell_type": "code",
   "execution_count": 46,
   "metadata": {},
   "outputs": [
    {
     "data": {
      "text/html": [
       "<div>\n",
       "<style scoped>\n",
       "    .dataframe tbody tr th:only-of-type {\n",
       "        vertical-align: middle;\n",
       "    }\n",
       "\n",
       "    .dataframe tbody tr th {\n",
       "        vertical-align: top;\n",
       "    }\n",
       "\n",
       "    .dataframe thead th {\n",
       "        text-align: right;\n",
       "    }\n",
       "</style>\n",
       "<table border=\"1\" class=\"dataframe\">\n",
       "  <thead>\n",
       "    <tr style=\"text-align: right;\">\n",
       "      <th></th>\n",
       "      <th>Date</th>\n",
       "      <th>Hour</th>\n",
       "      <th>NieuwmarktCode</th>\n",
       "      <th>NieuwmarktLat</th>\n",
       "      <th>NieuwmarktLon</th>\n",
       "      <th>NieuwmarktArrivals</th>\n",
       "      <th>NieuwmarktDepartures</th>\n",
       "      <th>NieuwezijdsCode</th>\n",
       "      <th>NieuwezijdsLat</th>\n",
       "      <th>NieuwezijdsLon</th>\n",
       "      <th>...</th>\n",
       "      <th>DamLon</th>\n",
       "      <th>DamArrivals</th>\n",
       "      <th>DamDepartures</th>\n",
       "      <th>SpuiCode</th>\n",
       "      <th>SpuiLat</th>\n",
       "      <th>SpuiLon</th>\n",
       "      <th>SpuiArrivals</th>\n",
       "      <th>SpuiDepartures</th>\n",
       "      <th>weekday</th>\n",
       "      <th>is_weekend</th>\n",
       "    </tr>\n",
       "  </thead>\n",
       "  <tbody>\n",
       "    <tr>\n",
       "      <th>0</th>\n",
       "      <td>2018-01-01</td>\n",
       "      <td>100</td>\n",
       "      <td>NMT</td>\n",
       "      <td>52.371942</td>\n",
       "      <td>4.901239</td>\n",
       "      <td>11.0</td>\n",
       "      <td>340.0</td>\n",
       "      <td>5069</td>\n",
       "      <td>52.376288</td>\n",
       "      <td>4.893731</td>\n",
       "      <td>...</td>\n",
       "      <td>4.89008</td>\n",
       "      <td>0.0</td>\n",
       "      <td>0.0</td>\n",
       "      <td>5062</td>\n",
       "      <td>52.369097</td>\n",
       "      <td>4.889259</td>\n",
       "      <td>0.0</td>\n",
       "      <td>0.0</td>\n",
       "      <td>0</td>\n",
       "      <td>0</td>\n",
       "    </tr>\n",
       "    <tr>\n",
       "      <th>1</th>\n",
       "      <td>2018-01-01</td>\n",
       "      <td>200</td>\n",
       "      <td>NMT</td>\n",
       "      <td>52.371942</td>\n",
       "      <td>4.901239</td>\n",
       "      <td>48.0</td>\n",
       "      <td>175.0</td>\n",
       "      <td>5069</td>\n",
       "      <td>52.376288</td>\n",
       "      <td>4.893731</td>\n",
       "      <td>...</td>\n",
       "      <td>4.89008</td>\n",
       "      <td>21.0</td>\n",
       "      <td>39.0</td>\n",
       "      <td>5062</td>\n",
       "      <td>52.369097</td>\n",
       "      <td>4.889259</td>\n",
       "      <td>0.0</td>\n",
       "      <td>0.0</td>\n",
       "      <td>0</td>\n",
       "      <td>0</td>\n",
       "    </tr>\n",
       "    <tr>\n",
       "      <th>2</th>\n",
       "      <td>2018-01-01</td>\n",
       "      <td>300</td>\n",
       "      <td>NMT</td>\n",
       "      <td>52.371942</td>\n",
       "      <td>4.901239</td>\n",
       "      <td>10.0</td>\n",
       "      <td>137.0</td>\n",
       "      <td>5069</td>\n",
       "      <td>52.376288</td>\n",
       "      <td>4.893731</td>\n",
       "      <td>...</td>\n",
       "      <td>4.89008</td>\n",
       "      <td>13.0</td>\n",
       "      <td>48.0</td>\n",
       "      <td>5062</td>\n",
       "      <td>52.369097</td>\n",
       "      <td>4.889259</td>\n",
       "      <td>0.0</td>\n",
       "      <td>0.0</td>\n",
       "      <td>0</td>\n",
       "      <td>0</td>\n",
       "    </tr>\n",
       "    <tr>\n",
       "      <th>3</th>\n",
       "      <td>2018-01-01</td>\n",
       "      <td>400</td>\n",
       "      <td>NMT</td>\n",
       "      <td>52.371942</td>\n",
       "      <td>4.901239</td>\n",
       "      <td>16.0</td>\n",
       "      <td>48.0</td>\n",
       "      <td>5069</td>\n",
       "      <td>52.376288</td>\n",
       "      <td>4.893731</td>\n",
       "      <td>...</td>\n",
       "      <td>4.89008</td>\n",
       "      <td>0.0</td>\n",
       "      <td>34.0</td>\n",
       "      <td>5062</td>\n",
       "      <td>52.369097</td>\n",
       "      <td>4.889259</td>\n",
       "      <td>0.0</td>\n",
       "      <td>0.0</td>\n",
       "      <td>0</td>\n",
       "      <td>0</td>\n",
       "    </tr>\n",
       "    <tr>\n",
       "      <th>4</th>\n",
       "      <td>2018-01-01</td>\n",
       "      <td>500</td>\n",
       "      <td>NMT</td>\n",
       "      <td>52.371942</td>\n",
       "      <td>4.901239</td>\n",
       "      <td>17.0</td>\n",
       "      <td>56.0</td>\n",
       "      <td>5069</td>\n",
       "      <td>52.376288</td>\n",
       "      <td>4.893731</td>\n",
       "      <td>...</td>\n",
       "      <td>4.89008</td>\n",
       "      <td>0.0</td>\n",
       "      <td>20.0</td>\n",
       "      <td>5062</td>\n",
       "      <td>52.369097</td>\n",
       "      <td>4.889259</td>\n",
       "      <td>0.0</td>\n",
       "      <td>0.0</td>\n",
       "      <td>0</td>\n",
       "      <td>0</td>\n",
       "    </tr>\n",
       "  </tbody>\n",
       "</table>\n",
       "<p>5 rows × 24 columns</p>\n",
       "</div>"
      ],
      "text/plain": [
       "        Date  Hour NieuwmarktCode  NieuwmarktLat  NieuwmarktLon  \\\n",
       "0 2018-01-01   100            NMT      52.371942       4.901239   \n",
       "1 2018-01-01   200            NMT      52.371942       4.901239   \n",
       "2 2018-01-01   300            NMT      52.371942       4.901239   \n",
       "3 2018-01-01   400            NMT      52.371942       4.901239   \n",
       "4 2018-01-01   500            NMT      52.371942       4.901239   \n",
       "\n",
       "   NieuwmarktArrivals  NieuwmarktDepartures  NieuwezijdsCode  NieuwezijdsLat  \\\n",
       "0                11.0                 340.0             5069       52.376288   \n",
       "1                48.0                 175.0             5069       52.376288   \n",
       "2                10.0                 137.0             5069       52.376288   \n",
       "3                16.0                  48.0             5069       52.376288   \n",
       "4                17.0                  56.0             5069       52.376288   \n",
       "\n",
       "   NieuwezijdsLon  ...   DamLon  DamArrivals  DamDepartures  SpuiCode  \\\n",
       "0        4.893731  ...  4.89008          0.0            0.0      5062   \n",
       "1        4.893731  ...  4.89008         21.0           39.0      5062   \n",
       "2        4.893731  ...  4.89008         13.0           48.0      5062   \n",
       "3        4.893731  ...  4.89008          0.0           34.0      5062   \n",
       "4        4.893731  ...  4.89008          0.0           20.0      5062   \n",
       "\n",
       "     SpuiLat   SpuiLon  SpuiArrivals  SpuiDepartures  weekday  is_weekend  \n",
       "0  52.369097  4.889259           0.0             0.0        0           0  \n",
       "1  52.369097  4.889259           0.0             0.0        0           0  \n",
       "2  52.369097  4.889259           0.0             0.0        0           0  \n",
       "3  52.369097  4.889259           0.0             0.0        0           0  \n",
       "4  52.369097  4.889259           0.0             0.0        0           0  \n",
       "\n",
       "[5 rows x 24 columns]"
      ]
     },
     "execution_count": 46,
     "metadata": {},
     "output_type": "execute_result"
    }
   ],
   "source": [
    "#Contents\n",
    "gvb_df.head()"
   ]
  },
  {
   "cell_type": "markdown",
   "metadata": {},
   "source": [
    "### Amsterdam Event Data <a name=\"EventData\"></a>\n",
    "Import Amsterdam Event Data"
   ]
  },
  {
   "cell_type": "code",
   "execution_count": 19,
   "metadata": {},
   "outputs": [],
   "source": [
    "#Full Events Dataset\n",
    "events_df = pd.read_csv(\"../../../Data_thesis/Full_Datasets/Events.csv\")"
   ]
  },
  {
   "cell_type": "code",
   "execution_count": 47,
   "metadata": {},
   "outputs": [],
   "source": [
    "#Convert DF to Dict\n",
    "events_dict = events_df.to_dict(\"index\")\n",
    "\n",
    "#Transform date from string to datetime object\n",
    "for k, v in events_dict.items():\n",
    "    v[\"Date\"] = pd.Timestamp.strptime(v[\"Date\"], \"%Y-%m-%d\")\n",
    "    \n",
    "#Convert back to dict\n",
    "events_df = pd.DataFrame.from_dict(events_dict, orient=\"index\")"
   ]
  },
  {
   "cell_type": "code",
   "execution_count": 48,
   "metadata": {},
   "outputs": [
    {
     "data": {
      "text/html": [
       "<div>\n",
       "<style scoped>\n",
       "    .dataframe tbody tr th:only-of-type {\n",
       "        vertical-align: middle;\n",
       "    }\n",
       "\n",
       "    .dataframe tbody tr th {\n",
       "        vertical-align: top;\n",
       "    }\n",
       "\n",
       "    .dataframe thead th {\n",
       "        text-align: right;\n",
       "    }\n",
       "</style>\n",
       "<table border=\"1\" class=\"dataframe\">\n",
       "  <thead>\n",
       "    <tr style=\"text-align: right;\">\n",
       "      <th></th>\n",
       "      <th>Date</th>\n",
       "      <th>Event</th>\n",
       "      <th>Latitude</th>\n",
       "      <th>Longtitude</th>\n",
       "    </tr>\n",
       "  </thead>\n",
       "  <tbody>\n",
       "    <tr>\n",
       "      <th>0</th>\n",
       "      <td>2018-04-20</td>\n",
       "      <td>Springsnow Festival</td>\n",
       "      <td>52.372638</td>\n",
       "      <td>4.894106</td>\n",
       "    </tr>\n",
       "    <tr>\n",
       "      <th>1</th>\n",
       "      <td>2018-05-20</td>\n",
       "      <td>Springsnow Festival</td>\n",
       "      <td>52.372638</td>\n",
       "      <td>4.894106</td>\n",
       "    </tr>\n",
       "    <tr>\n",
       "      <th>2</th>\n",
       "      <td>2018-06-02</td>\n",
       "      <td>Holland Festival</td>\n",
       "      <td>52.361582</td>\n",
       "      <td>4.885479</td>\n",
       "    </tr>\n",
       "    <tr>\n",
       "      <th>3</th>\n",
       "      <td>2018-06-03</td>\n",
       "      <td>Holland Festival</td>\n",
       "      <td>52.361582</td>\n",
       "      <td>4.885479</td>\n",
       "    </tr>\n",
       "    <tr>\n",
       "      <th>4</th>\n",
       "      <td>2018-06-04</td>\n",
       "      <td>Holland Festival</td>\n",
       "      <td>52.361582</td>\n",
       "      <td>4.885479</td>\n",
       "    </tr>\n",
       "  </tbody>\n",
       "</table>\n",
       "</div>"
      ],
      "text/plain": [
       "        Date                Event   Latitude  Longtitude\n",
       "0 2018-04-20  Springsnow Festival  52.372638    4.894106\n",
       "1 2018-05-20  Springsnow Festival  52.372638    4.894106\n",
       "2 2018-06-02     Holland Festival  52.361582    4.885479\n",
       "3 2018-06-03     Holland Festival  52.361582    4.885479\n",
       "4 2018-06-04     Holland Festival  52.361582    4.885479"
      ]
     },
     "execution_count": 48,
     "metadata": {},
     "output_type": "execute_result"
    }
   ],
   "source": [
    "events_df.head()"
   ]
  },
  {
   "cell_type": "markdown",
   "metadata": {},
   "source": [
    "### Crowdedness Data <a name=\"CrowdData\"></a>"
   ]
  },
  {
   "cell_type": "code",
   "execution_count": 49,
   "metadata": {},
   "outputs": [],
   "source": [
    "#Full Crowdedness Dataset\n",
    "crowd_df = pd.read_csv(\"../../../Data_thesis/Full_Datasets/Crowdedness.csv\")"
   ]
  },
  {
   "cell_type": "code",
   "execution_count": 50,
   "metadata": {},
   "outputs": [],
   "source": [
    "#Convert DF to Dict\n",
    "crowd_dict = crowd_df.to_dict(\"index\")\n",
    "\n",
    "#Transform date from string to datetime object\n",
    "for k, v in crowd_dict.items():\n",
    "    v[\"Date\"] = pd.Timestamp.strptime(v[\"Date\"], \"%Y-%m-%d\")\n",
    "    \n",
    "#Convert back to dict\n",
    "crowd_df = pd.DataFrame.from_dict(crowd_dict, orient=\"index\")"
   ]
  },
  {
   "cell_type": "code",
   "execution_count": 51,
   "metadata": {},
   "outputs": [
    {
     "data": {
      "text/html": [
       "<div>\n",
       "<style scoped>\n",
       "    .dataframe tbody tr th:only-of-type {\n",
       "        vertical-align: middle;\n",
       "    }\n",
       "\n",
       "    .dataframe tbody tr th {\n",
       "        vertical-align: top;\n",
       "    }\n",
       "\n",
       "    .dataframe thead th {\n",
       "        text-align: right;\n",
       "    }\n",
       "</style>\n",
       "<table border=\"1\" class=\"dataframe\">\n",
       "  <thead>\n",
       "    <tr style=\"text-align: right;\">\n",
       "      <th></th>\n",
       "      <th>Sensor</th>\n",
       "      <th>Date</th>\n",
       "      <th>Hour</th>\n",
       "      <th>SensorLongitude</th>\n",
       "      <th>SensorLatitude</th>\n",
       "      <th>CrowdednessCount</th>\n",
       "    </tr>\n",
       "  </thead>\n",
       "  <tbody>\n",
       "    <tr>\n",
       "      <th>0</th>\n",
       "      <td>GAWW-02</td>\n",
       "      <td>2018-03-11</td>\n",
       "      <td>0</td>\n",
       "      <td>4.898903</td>\n",
       "      <td>52.373786</td>\n",
       "      <td>0</td>\n",
       "    </tr>\n",
       "    <tr>\n",
       "      <th>1</th>\n",
       "      <td>GAWW-02</td>\n",
       "      <td>2018-03-11</td>\n",
       "      <td>100</td>\n",
       "      <td>4.898903</td>\n",
       "      <td>52.373786</td>\n",
       "      <td>0</td>\n",
       "    </tr>\n",
       "    <tr>\n",
       "      <th>2</th>\n",
       "      <td>GAWW-02</td>\n",
       "      <td>2018-03-11</td>\n",
       "      <td>1000</td>\n",
       "      <td>4.898903</td>\n",
       "      <td>52.373786</td>\n",
       "      <td>0</td>\n",
       "    </tr>\n",
       "    <tr>\n",
       "      <th>3</th>\n",
       "      <td>GAWW-02</td>\n",
       "      <td>2018-03-15</td>\n",
       "      <td>400</td>\n",
       "      <td>4.898903</td>\n",
       "      <td>52.373786</td>\n",
       "      <td>39</td>\n",
       "    </tr>\n",
       "    <tr>\n",
       "      <th>4</th>\n",
       "      <td>GAWW-02</td>\n",
       "      <td>2018-04-21</td>\n",
       "      <td>1700</td>\n",
       "      <td>4.898903</td>\n",
       "      <td>52.373786</td>\n",
       "      <td>1618</td>\n",
       "    </tr>\n",
       "  </tbody>\n",
       "</table>\n",
       "</div>"
      ],
      "text/plain": [
       "    Sensor       Date  Hour  SensorLongitude  SensorLatitude  CrowdednessCount\n",
       "0  GAWW-02 2018-03-11     0         4.898903       52.373786                 0\n",
       "1  GAWW-02 2018-03-11   100         4.898903       52.373786                 0\n",
       "2  GAWW-02 2018-03-11  1000         4.898903       52.373786                 0\n",
       "3  GAWW-02 2018-03-15   400         4.898903       52.373786                39\n",
       "4  GAWW-02 2018-04-21  1700         4.898903       52.373786              1618"
      ]
     },
     "execution_count": 51,
     "metadata": {},
     "output_type": "execute_result"
    }
   ],
   "source": [
    "crowd_df.head()"
   ]
  },
  {
   "cell_type": "markdown",
   "metadata": {},
   "source": [
    "## Data Preperation <a name=\"DataPrep\"></a>"
   ]
  },
  {
   "cell_type": "markdown",
   "metadata": {},
   "source": [
    "### Combine datasets <a name=\"CombData\"></a>"
   ]
  },
  {
   "cell_type": "code",
   "execution_count": 121,
   "metadata": {},
   "outputs": [],
   "source": [
    "df = pd.merge(gvb_df, crowd_df, on=[\"Date\", \"Hour\"])"
   ]
  },
  {
   "cell_type": "code",
   "execution_count": 122,
   "metadata": {},
   "outputs": [],
   "source": [
    "full = pd.merge(events_df, df, on=[\"Date\"], how=\"outer\")\n",
    "full = full.rename(index=str, columns={\"Latitude\": \"event_lat\", \"Longtitude\": \"event_lon\", \"Event\": \"is_event\"})\n",
    "full = full.fillna(0.0)"
   ]
  },
  {
   "cell_type": "code",
   "execution_count": 123,
   "metadata": {},
   "outputs": [],
   "source": [
    "full_dict = full.to_dict(\"index\")"
   ]
  },
  {
   "cell_type": "code",
   "execution_count": 124,
   "metadata": {},
   "outputs": [],
   "source": [
    "for k, v in full_dict.items():\n",
    "    if v[\"is_event\"] != 0.0:\n",
    "        v[\"is_event\"] = 1.0\n",
    "    \n",
    "    if v[\"Hour\"] == 0:\n",
    "        v[\"Hour\"] = 24"
   ]
  },
  {
   "cell_type": "code",
   "execution_count": 125,
   "metadata": {},
   "outputs": [],
   "source": [
    "full = pd.DataFrame.from_dict(full_dict, orient=\"index\")"
   ]
  },
  {
   "cell_type": "code",
   "execution_count": 126,
   "metadata": {},
   "outputs": [
    {
     "data": {
      "text/html": [
       "<div>\n",
       "<style scoped>\n",
       "    .dataframe tbody tr th:only-of-type {\n",
       "        vertical-align: middle;\n",
       "    }\n",
       "\n",
       "    .dataframe tbody tr th {\n",
       "        vertical-align: top;\n",
       "    }\n",
       "\n",
       "    .dataframe thead th {\n",
       "        text-align: right;\n",
       "    }\n",
       "</style>\n",
       "<table border=\"1\" class=\"dataframe\">\n",
       "  <thead>\n",
       "    <tr style=\"text-align: right;\">\n",
       "      <th></th>\n",
       "      <th>Date</th>\n",
       "      <th>is_event</th>\n",
       "      <th>event_lat</th>\n",
       "      <th>event_lon</th>\n",
       "      <th>Hour</th>\n",
       "      <th>NieuwmarktCode</th>\n",
       "      <th>NieuwmarktLat</th>\n",
       "      <th>NieuwmarktLon</th>\n",
       "      <th>NieuwmarktArrivals</th>\n",
       "      <th>NieuwmarktDepartures</th>\n",
       "      <th>...</th>\n",
       "      <th>SpuiLat</th>\n",
       "      <th>SpuiLon</th>\n",
       "      <th>SpuiArrivals</th>\n",
       "      <th>SpuiDepartures</th>\n",
       "      <th>weekday</th>\n",
       "      <th>is_weekend</th>\n",
       "      <th>Sensor</th>\n",
       "      <th>SensorLongitude</th>\n",
       "      <th>SensorLatitude</th>\n",
       "      <th>CrowdednessCount</th>\n",
       "    </tr>\n",
       "  </thead>\n",
       "  <tbody>\n",
       "    <tr>\n",
       "      <th>0</th>\n",
       "      <td>2018-04-20</td>\n",
       "      <td>1.0</td>\n",
       "      <td>52.372638</td>\n",
       "      <td>4.894106</td>\n",
       "      <td>24</td>\n",
       "      <td>NMT</td>\n",
       "      <td>4.901239</td>\n",
       "      <td>52.371942</td>\n",
       "      <td>44.0</td>\n",
       "      <td>143.0</td>\n",
       "      <td>...</td>\n",
       "      <td>4.889259</td>\n",
       "      <td>52.369097</td>\n",
       "      <td>13.0</td>\n",
       "      <td>40.0</td>\n",
       "      <td>4</td>\n",
       "      <td>0</td>\n",
       "      <td>GAWW-02</td>\n",
       "      <td>4.898903</td>\n",
       "      <td>52.373786</td>\n",
       "      <td>0</td>\n",
       "    </tr>\n",
       "    <tr>\n",
       "      <th>1</th>\n",
       "      <td>2018-04-20</td>\n",
       "      <td>1.0</td>\n",
       "      <td>52.372638</td>\n",
       "      <td>4.894106</td>\n",
       "      <td>24</td>\n",
       "      <td>NMT</td>\n",
       "      <td>4.901239</td>\n",
       "      <td>52.371942</td>\n",
       "      <td>44.0</td>\n",
       "      <td>143.0</td>\n",
       "      <td>...</td>\n",
       "      <td>4.889259</td>\n",
       "      <td>52.369097</td>\n",
       "      <td>13.0</td>\n",
       "      <td>40.0</td>\n",
       "      <td>4</td>\n",
       "      <td>0</td>\n",
       "      <td>GAWW-02</td>\n",
       "      <td>4.898903</td>\n",
       "      <td>52.373786</td>\n",
       "      <td>747</td>\n",
       "    </tr>\n",
       "    <tr>\n",
       "      <th>10</th>\n",
       "      <td>2018-04-20</td>\n",
       "      <td>1.0</td>\n",
       "      <td>52.372638</td>\n",
       "      <td>4.894106</td>\n",
       "      <td>800</td>\n",
       "      <td>NMT</td>\n",
       "      <td>4.901239</td>\n",
       "      <td>52.371942</td>\n",
       "      <td>203.0</td>\n",
       "      <td>174.0</td>\n",
       "      <td>...</td>\n",
       "      <td>4.889259</td>\n",
       "      <td>52.369097</td>\n",
       "      <td>149.0</td>\n",
       "      <td>66.0</td>\n",
       "      <td>4</td>\n",
       "      <td>0</td>\n",
       "      <td>GAWW-02</td>\n",
       "      <td>4.898903</td>\n",
       "      <td>52.373786</td>\n",
       "      <td>131</td>\n",
       "    </tr>\n",
       "    <tr>\n",
       "      <th>100</th>\n",
       "      <td>2018-05-20</td>\n",
       "      <td>1.0</td>\n",
       "      <td>52.372638</td>\n",
       "      <td>4.894106</td>\n",
       "      <td>1500</td>\n",
       "      <td>NMT</td>\n",
       "      <td>4.901239</td>\n",
       "      <td>52.371942</td>\n",
       "      <td>263.0</td>\n",
       "      <td>210.0</td>\n",
       "      <td>...</td>\n",
       "      <td>4.889259</td>\n",
       "      <td>52.369097</td>\n",
       "      <td>184.0</td>\n",
       "      <td>277.0</td>\n",
       "      <td>6</td>\n",
       "      <td>1</td>\n",
       "      <td>GAWW-02</td>\n",
       "      <td>4.898903</td>\n",
       "      <td>52.373786</td>\n",
       "      <td>1942</td>\n",
       "    </tr>\n",
       "    <tr>\n",
       "      <th>1000</th>\n",
       "      <td>2018-06-07</td>\n",
       "      <td>1.0</td>\n",
       "      <td>52.389019</td>\n",
       "      <td>4.891250</td>\n",
       "      <td>1500</td>\n",
       "      <td>NMT</td>\n",
       "      <td>4.901239</td>\n",
       "      <td>52.371942</td>\n",
       "      <td>330.0</td>\n",
       "      <td>246.0</td>\n",
       "      <td>...</td>\n",
       "      <td>4.889259</td>\n",
       "      <td>52.369097</td>\n",
       "      <td>222.0</td>\n",
       "      <td>279.0</td>\n",
       "      <td>3</td>\n",
       "      <td>0</td>\n",
       "      <td>GAWW-02</td>\n",
       "      <td>4.898903</td>\n",
       "      <td>52.373786</td>\n",
       "      <td>806</td>\n",
       "    </tr>\n",
       "  </tbody>\n",
       "</table>\n",
       "<p>5 rows × 31 columns</p>\n",
       "</div>"
      ],
      "text/plain": [
       "            Date  is_event  event_lat  event_lon  Hour NieuwmarktCode  \\\n",
       "0     2018-04-20       1.0  52.372638   4.894106    24            NMT   \n",
       "1     2018-04-20       1.0  52.372638   4.894106    24            NMT   \n",
       "10    2018-04-20       1.0  52.372638   4.894106   800            NMT   \n",
       "100   2018-05-20       1.0  52.372638   4.894106  1500            NMT   \n",
       "1000  2018-06-07       1.0  52.389019   4.891250  1500            NMT   \n",
       "\n",
       "      NieuwmarktLat  NieuwmarktLon  NieuwmarktArrivals  NieuwmarktDepartures  \\\n",
       "0          4.901239      52.371942                44.0                 143.0   \n",
       "1          4.901239      52.371942                44.0                 143.0   \n",
       "10         4.901239      52.371942               203.0                 174.0   \n",
       "100        4.901239      52.371942               263.0                 210.0   \n",
       "1000       4.901239      52.371942               330.0                 246.0   \n",
       "\n",
       "      ...   SpuiLat    SpuiLon  SpuiArrivals  SpuiDepartures  weekday  \\\n",
       "0     ...  4.889259  52.369097          13.0            40.0        4   \n",
       "1     ...  4.889259  52.369097          13.0            40.0        4   \n",
       "10    ...  4.889259  52.369097         149.0            66.0        4   \n",
       "100   ...  4.889259  52.369097         184.0           277.0        6   \n",
       "1000  ...  4.889259  52.369097         222.0           279.0        3   \n",
       "\n",
       "      is_weekend   Sensor  SensorLongitude  SensorLatitude  CrowdednessCount  \n",
       "0              0  GAWW-02         4.898903       52.373786                 0  \n",
       "1              0  GAWW-02         4.898903       52.373786               747  \n",
       "10             0  GAWW-02         4.898903       52.373786               131  \n",
       "100            1  GAWW-02         4.898903       52.373786              1942  \n",
       "1000           0  GAWW-02         4.898903       52.373786               806  \n",
       "\n",
       "[5 rows x 31 columns]"
      ]
     },
     "execution_count": 126,
     "metadata": {},
     "output_type": "execute_result"
    }
   ],
   "source": [
    "full.head()"
   ]
  },
  {
   "cell_type": "markdown",
   "metadata": {},
   "source": [
    "### Make Time circular"
   ]
  },
  {
   "cell_type": "code",
   "execution_count": 127,
   "metadata": {},
   "outputs": [],
   "source": [
    "full = full.assign(Year=0, month_sin=0, month_cos=0, day_sin=0, day_cos=0, hour_sin=0, hour_cos=0)"
   ]
  },
  {
   "cell_type": "code",
   "execution_count": 128,
   "metadata": {},
   "outputs": [
    {
     "data": {
      "text/html": [
       "<div>\n",
       "<style scoped>\n",
       "    .dataframe tbody tr th:only-of-type {\n",
       "        vertical-align: middle;\n",
       "    }\n",
       "\n",
       "    .dataframe tbody tr th {\n",
       "        vertical-align: top;\n",
       "    }\n",
       "\n",
       "    .dataframe thead th {\n",
       "        text-align: right;\n",
       "    }\n",
       "</style>\n",
       "<table border=\"1\" class=\"dataframe\">\n",
       "  <thead>\n",
       "    <tr style=\"text-align: right;\">\n",
       "      <th></th>\n",
       "      <th>Date</th>\n",
       "      <th>is_event</th>\n",
       "      <th>event_lat</th>\n",
       "      <th>event_lon</th>\n",
       "      <th>Hour</th>\n",
       "      <th>NieuwmarktCode</th>\n",
       "      <th>NieuwmarktLat</th>\n",
       "      <th>NieuwmarktLon</th>\n",
       "      <th>NieuwmarktArrivals</th>\n",
       "      <th>NieuwmarktDepartures</th>\n",
       "      <th>...</th>\n",
       "      <th>SensorLongitude</th>\n",
       "      <th>SensorLatitude</th>\n",
       "      <th>CrowdednessCount</th>\n",
       "      <th>Year</th>\n",
       "      <th>month_sin</th>\n",
       "      <th>month_cos</th>\n",
       "      <th>day_sin</th>\n",
       "      <th>day_cos</th>\n",
       "      <th>hour_sin</th>\n",
       "      <th>hour_cos</th>\n",
       "    </tr>\n",
       "  </thead>\n",
       "  <tbody>\n",
       "    <tr>\n",
       "      <th>0</th>\n",
       "      <td>2018-04-20</td>\n",
       "      <td>1.0</td>\n",
       "      <td>52.372638</td>\n",
       "      <td>4.894106</td>\n",
       "      <td>24</td>\n",
       "      <td>NMT</td>\n",
       "      <td>4.901239</td>\n",
       "      <td>52.371942</td>\n",
       "      <td>44.0</td>\n",
       "      <td>143.0</td>\n",
       "      <td>...</td>\n",
       "      <td>4.898903</td>\n",
       "      <td>52.373786</td>\n",
       "      <td>0</td>\n",
       "      <td>0</td>\n",
       "      <td>0</td>\n",
       "      <td>0</td>\n",
       "      <td>0</td>\n",
       "      <td>0</td>\n",
       "      <td>0</td>\n",
       "      <td>0</td>\n",
       "    </tr>\n",
       "    <tr>\n",
       "      <th>1</th>\n",
       "      <td>2018-04-20</td>\n",
       "      <td>1.0</td>\n",
       "      <td>52.372638</td>\n",
       "      <td>4.894106</td>\n",
       "      <td>24</td>\n",
       "      <td>NMT</td>\n",
       "      <td>4.901239</td>\n",
       "      <td>52.371942</td>\n",
       "      <td>44.0</td>\n",
       "      <td>143.0</td>\n",
       "      <td>...</td>\n",
       "      <td>4.898903</td>\n",
       "      <td>52.373786</td>\n",
       "      <td>747</td>\n",
       "      <td>0</td>\n",
       "      <td>0</td>\n",
       "      <td>0</td>\n",
       "      <td>0</td>\n",
       "      <td>0</td>\n",
       "      <td>0</td>\n",
       "      <td>0</td>\n",
       "    </tr>\n",
       "    <tr>\n",
       "      <th>10</th>\n",
       "      <td>2018-04-20</td>\n",
       "      <td>1.0</td>\n",
       "      <td>52.372638</td>\n",
       "      <td>4.894106</td>\n",
       "      <td>800</td>\n",
       "      <td>NMT</td>\n",
       "      <td>4.901239</td>\n",
       "      <td>52.371942</td>\n",
       "      <td>203.0</td>\n",
       "      <td>174.0</td>\n",
       "      <td>...</td>\n",
       "      <td>4.898903</td>\n",
       "      <td>52.373786</td>\n",
       "      <td>131</td>\n",
       "      <td>0</td>\n",
       "      <td>0</td>\n",
       "      <td>0</td>\n",
       "      <td>0</td>\n",
       "      <td>0</td>\n",
       "      <td>0</td>\n",
       "      <td>0</td>\n",
       "    </tr>\n",
       "    <tr>\n",
       "      <th>100</th>\n",
       "      <td>2018-05-20</td>\n",
       "      <td>1.0</td>\n",
       "      <td>52.372638</td>\n",
       "      <td>4.894106</td>\n",
       "      <td>1500</td>\n",
       "      <td>NMT</td>\n",
       "      <td>4.901239</td>\n",
       "      <td>52.371942</td>\n",
       "      <td>263.0</td>\n",
       "      <td>210.0</td>\n",
       "      <td>...</td>\n",
       "      <td>4.898903</td>\n",
       "      <td>52.373786</td>\n",
       "      <td>1942</td>\n",
       "      <td>0</td>\n",
       "      <td>0</td>\n",
       "      <td>0</td>\n",
       "      <td>0</td>\n",
       "      <td>0</td>\n",
       "      <td>0</td>\n",
       "      <td>0</td>\n",
       "    </tr>\n",
       "    <tr>\n",
       "      <th>1000</th>\n",
       "      <td>2018-06-07</td>\n",
       "      <td>1.0</td>\n",
       "      <td>52.389019</td>\n",
       "      <td>4.891250</td>\n",
       "      <td>1500</td>\n",
       "      <td>NMT</td>\n",
       "      <td>4.901239</td>\n",
       "      <td>52.371942</td>\n",
       "      <td>330.0</td>\n",
       "      <td>246.0</td>\n",
       "      <td>...</td>\n",
       "      <td>4.898903</td>\n",
       "      <td>52.373786</td>\n",
       "      <td>806</td>\n",
       "      <td>0</td>\n",
       "      <td>0</td>\n",
       "      <td>0</td>\n",
       "      <td>0</td>\n",
       "      <td>0</td>\n",
       "      <td>0</td>\n",
       "      <td>0</td>\n",
       "    </tr>\n",
       "  </tbody>\n",
       "</table>\n",
       "<p>5 rows × 38 columns</p>\n",
       "</div>"
      ],
      "text/plain": [
       "            Date  is_event  event_lat  event_lon  Hour NieuwmarktCode  \\\n",
       "0     2018-04-20       1.0  52.372638   4.894106    24            NMT   \n",
       "1     2018-04-20       1.0  52.372638   4.894106    24            NMT   \n",
       "10    2018-04-20       1.0  52.372638   4.894106   800            NMT   \n",
       "100   2018-05-20       1.0  52.372638   4.894106  1500            NMT   \n",
       "1000  2018-06-07       1.0  52.389019   4.891250  1500            NMT   \n",
       "\n",
       "      NieuwmarktLat  NieuwmarktLon  NieuwmarktArrivals  NieuwmarktDepartures  \\\n",
       "0          4.901239      52.371942                44.0                 143.0   \n",
       "1          4.901239      52.371942                44.0                 143.0   \n",
       "10         4.901239      52.371942               203.0                 174.0   \n",
       "100        4.901239      52.371942               263.0                 210.0   \n",
       "1000       4.901239      52.371942               330.0                 246.0   \n",
       "\n",
       "      ...  SensorLongitude  SensorLatitude  CrowdednessCount  Year  month_sin  \\\n",
       "0     ...         4.898903       52.373786                 0     0          0   \n",
       "1     ...         4.898903       52.373786               747     0          0   \n",
       "10    ...         4.898903       52.373786               131     0          0   \n",
       "100   ...         4.898903       52.373786              1942     0          0   \n",
       "1000  ...         4.898903       52.373786               806     0          0   \n",
       "\n",
       "      month_cos  day_sin  day_cos  hour_sin  hour_cos  \n",
       "0             0        0        0         0         0  \n",
       "1             0        0        0         0         0  \n",
       "10            0        0        0         0         0  \n",
       "100           0        0        0         0         0  \n",
       "1000          0        0        0         0         0  \n",
       "\n",
       "[5 rows x 38 columns]"
      ]
     },
     "execution_count": 128,
     "metadata": {},
     "output_type": "execute_result"
    }
   ],
   "source": [
    "full.head()"
   ]
  },
  {
   "cell_type": "code",
   "execution_count": 129,
   "metadata": {},
   "outputs": [],
   "source": [
    "time_dict = full.to_dict(\"index\")"
   ]
  },
  {
   "cell_type": "code",
   "execution_count": 130,
   "metadata": {},
   "outputs": [],
   "source": [
    "for k, v in time_dict.items():\n",
    "    d = datetime.datetime.strptime(v[\"Date\"], \"%Y-%m-%d\")    \n",
    "    \n",
    "    v[\"Year\"] = d.year\n",
    "    \n",
    "    v[\"month_sin\"] = np.sin(2 * np.pi * d.month / 12)\n",
    "    v[\"month_cos\"] = np.cos(2 * np.pi * d.month / 12)\n",
    "    \n",
    "    v[\"day_sin\"] = np.sin(2 * np.pi * d.day / 365)\n",
    "    v[\"day_cos\"] = np.cos(2 * np.pi * d.day / 365)\n",
    "\n",
    "    v[\"hour_sin\"] = np.sin(2 * np.pi * v[\"Hour\"] / 24)\n",
    "    v[\"hour_cos\"] = np.cos(2 * np.pi * v[\"Hour\"] / 24)"
   ]
  },
  {
   "cell_type": "code",
   "execution_count": 131,
   "metadata": {},
   "outputs": [],
   "source": [
    "full = pd.DataFrame.from_dict(time_dict, orient=\"index\")"
   ]
  },
  {
   "cell_type": "code",
   "execution_count": 132,
   "metadata": {},
   "outputs": [],
   "source": [
    "cols = [\"Hour\", \"Date\",'is_event', 'event_lat', 'event_lon', 'NieuwmarktCode', 'NieuwmarktLat', 'NieuwmarktLon', \n",
    "        'NieuwmarktArrivals', 'NieuwmarktDepartures', 'NieuwezijdsCode', 'NieuwezijdsLat', 'NieuwezijdsLon', \n",
    "        'NieuwezijdsArrivals', 'NieuwezijdsDepartures', 'DamCode', 'DamLat', 'DamLon', 'DamArrivals', \n",
    "        'DamDepartures', 'SpuiCode', 'SpuiLat', 'SpuiLon', 'SpuiArrivals', 'SpuiDepartures', 'weekday', 'is_weekend', \n",
    "        'Sensor', 'SensorLongitude', 'SensorLatitude', 'Year', 'month_sin', 'month_cos', \n",
    "        'day_sin', 'day_cos', 'hour_sin', 'hour_cos', 'CrowdednessCount']\n",
    "\n",
    "full = full[cols]"
   ]
  },
  {
   "cell_type": "code",
   "execution_count": 133,
   "metadata": {},
   "outputs": [
    {
     "data": {
      "text/html": [
       "<div>\n",
       "<style scoped>\n",
       "    .dataframe tbody tr th:only-of-type {\n",
       "        vertical-align: middle;\n",
       "    }\n",
       "\n",
       "    .dataframe tbody tr th {\n",
       "        vertical-align: top;\n",
       "    }\n",
       "\n",
       "    .dataframe thead th {\n",
       "        text-align: right;\n",
       "    }\n",
       "</style>\n",
       "<table border=\"1\" class=\"dataframe\">\n",
       "  <thead>\n",
       "    <tr style=\"text-align: right;\">\n",
       "      <th></th>\n",
       "      <th>Hour</th>\n",
       "      <th>Date</th>\n",
       "      <th>is_event</th>\n",
       "      <th>event_lat</th>\n",
       "      <th>event_lon</th>\n",
       "      <th>NieuwmarktCode</th>\n",
       "      <th>NieuwmarktLat</th>\n",
       "      <th>NieuwmarktLon</th>\n",
       "      <th>NieuwmarktArrivals</th>\n",
       "      <th>NieuwmarktDepartures</th>\n",
       "      <th>...</th>\n",
       "      <th>SensorLongitude</th>\n",
       "      <th>SensorLatitude</th>\n",
       "      <th>Year</th>\n",
       "      <th>month_sin</th>\n",
       "      <th>month_cos</th>\n",
       "      <th>day_sin</th>\n",
       "      <th>day_cos</th>\n",
       "      <th>hour_sin</th>\n",
       "      <th>hour_cos</th>\n",
       "      <th>CrowdednessCount</th>\n",
       "    </tr>\n",
       "  </thead>\n",
       "  <tbody>\n",
       "    <tr>\n",
       "      <th>0</th>\n",
       "      <td>24</td>\n",
       "      <td>2018-04-20</td>\n",
       "      <td>1.0</td>\n",
       "      <td>52.372638</td>\n",
       "      <td>4.894106</td>\n",
       "      <td>NMT</td>\n",
       "      <td>4.901239</td>\n",
       "      <td>52.371942</td>\n",
       "      <td>44.0</td>\n",
       "      <td>143.0</td>\n",
       "      <td>...</td>\n",
       "      <td>4.898903</td>\n",
       "      <td>52.373786</td>\n",
       "      <td>2018</td>\n",
       "      <td>8.660254e-01</td>\n",
       "      <td>-0.500000</td>\n",
       "      <td>0.337523</td>\n",
       "      <td>0.941317</td>\n",
       "      <td>-2.449294e-16</td>\n",
       "      <td>1.0</td>\n",
       "      <td>0</td>\n",
       "    </tr>\n",
       "    <tr>\n",
       "      <th>1</th>\n",
       "      <td>24</td>\n",
       "      <td>2018-04-20</td>\n",
       "      <td>1.0</td>\n",
       "      <td>52.372638</td>\n",
       "      <td>4.894106</td>\n",
       "      <td>NMT</td>\n",
       "      <td>4.901239</td>\n",
       "      <td>52.371942</td>\n",
       "      <td>44.0</td>\n",
       "      <td>143.0</td>\n",
       "      <td>...</td>\n",
       "      <td>4.898903</td>\n",
       "      <td>52.373786</td>\n",
       "      <td>2018</td>\n",
       "      <td>8.660254e-01</td>\n",
       "      <td>-0.500000</td>\n",
       "      <td>0.337523</td>\n",
       "      <td>0.941317</td>\n",
       "      <td>-2.449294e-16</td>\n",
       "      <td>1.0</td>\n",
       "      <td>747</td>\n",
       "    </tr>\n",
       "    <tr>\n",
       "      <th>10</th>\n",
       "      <td>800</td>\n",
       "      <td>2018-04-20</td>\n",
       "      <td>1.0</td>\n",
       "      <td>52.372638</td>\n",
       "      <td>4.894106</td>\n",
       "      <td>NMT</td>\n",
       "      <td>4.901239</td>\n",
       "      <td>52.371942</td>\n",
       "      <td>203.0</td>\n",
       "      <td>174.0</td>\n",
       "      <td>...</td>\n",
       "      <td>4.898903</td>\n",
       "      <td>52.373786</td>\n",
       "      <td>2018</td>\n",
       "      <td>8.660254e-01</td>\n",
       "      <td>-0.500000</td>\n",
       "      <td>0.337523</td>\n",
       "      <td>0.941317</td>\n",
       "      <td>8.660254e-01</td>\n",
       "      <td>-0.5</td>\n",
       "      <td>131</td>\n",
       "    </tr>\n",
       "    <tr>\n",
       "      <th>100</th>\n",
       "      <td>1500</td>\n",
       "      <td>2018-05-20</td>\n",
       "      <td>1.0</td>\n",
       "      <td>52.372638</td>\n",
       "      <td>4.894106</td>\n",
       "      <td>NMT</td>\n",
       "      <td>4.901239</td>\n",
       "      <td>52.371942</td>\n",
       "      <td>263.0</td>\n",
       "      <td>210.0</td>\n",
       "      <td>...</td>\n",
       "      <td>4.898903</td>\n",
       "      <td>52.373786</td>\n",
       "      <td>2018</td>\n",
       "      <td>5.000000e-01</td>\n",
       "      <td>-0.866025</td>\n",
       "      <td>0.337523</td>\n",
       "      <td>0.941317</td>\n",
       "      <td>4.017708e-14</td>\n",
       "      <td>-1.0</td>\n",
       "      <td>1942</td>\n",
       "    </tr>\n",
       "    <tr>\n",
       "      <th>1000</th>\n",
       "      <td>1500</td>\n",
       "      <td>2018-06-07</td>\n",
       "      <td>1.0</td>\n",
       "      <td>52.389019</td>\n",
       "      <td>4.891250</td>\n",
       "      <td>NMT</td>\n",
       "      <td>4.901239</td>\n",
       "      <td>52.371942</td>\n",
       "      <td>330.0</td>\n",
       "      <td>246.0</td>\n",
       "      <td>...</td>\n",
       "      <td>4.898903</td>\n",
       "      <td>52.373786</td>\n",
       "      <td>2018</td>\n",
       "      <td>1.224647e-16</td>\n",
       "      <td>-1.000000</td>\n",
       "      <td>0.120208</td>\n",
       "      <td>0.992749</td>\n",
       "      <td>4.017708e-14</td>\n",
       "      <td>-1.0</td>\n",
       "      <td>806</td>\n",
       "    </tr>\n",
       "  </tbody>\n",
       "</table>\n",
       "<p>5 rows × 38 columns</p>\n",
       "</div>"
      ],
      "text/plain": [
       "      Hour        Date  is_event  event_lat  event_lon NieuwmarktCode  \\\n",
       "0       24  2018-04-20       1.0  52.372638   4.894106            NMT   \n",
       "1       24  2018-04-20       1.0  52.372638   4.894106            NMT   \n",
       "10     800  2018-04-20       1.0  52.372638   4.894106            NMT   \n",
       "100   1500  2018-05-20       1.0  52.372638   4.894106            NMT   \n",
       "1000  1500  2018-06-07       1.0  52.389019   4.891250            NMT   \n",
       "\n",
       "      NieuwmarktLat  NieuwmarktLon  NieuwmarktArrivals  NieuwmarktDepartures  \\\n",
       "0          4.901239      52.371942                44.0                 143.0   \n",
       "1          4.901239      52.371942                44.0                 143.0   \n",
       "10         4.901239      52.371942               203.0                 174.0   \n",
       "100        4.901239      52.371942               263.0                 210.0   \n",
       "1000       4.901239      52.371942               330.0                 246.0   \n",
       "\n",
       "      ...  SensorLongitude  SensorLatitude  Year     month_sin  month_cos  \\\n",
       "0     ...         4.898903       52.373786  2018  8.660254e-01  -0.500000   \n",
       "1     ...         4.898903       52.373786  2018  8.660254e-01  -0.500000   \n",
       "10    ...         4.898903       52.373786  2018  8.660254e-01  -0.500000   \n",
       "100   ...         4.898903       52.373786  2018  5.000000e-01  -0.866025   \n",
       "1000  ...         4.898903       52.373786  2018  1.224647e-16  -1.000000   \n",
       "\n",
       "       day_sin   day_cos      hour_sin  hour_cos  CrowdednessCount  \n",
       "0     0.337523  0.941317 -2.449294e-16       1.0                 0  \n",
       "1     0.337523  0.941317 -2.449294e-16       1.0               747  \n",
       "10    0.337523  0.941317  8.660254e-01      -0.5               131  \n",
       "100   0.337523  0.941317  4.017708e-14      -1.0              1942  \n",
       "1000  0.120208  0.992749  4.017708e-14      -1.0               806  \n",
       "\n",
       "[5 rows x 38 columns]"
      ]
     },
     "execution_count": 133,
     "metadata": {},
     "output_type": "execute_result"
    }
   ],
   "source": [
    "full.head()"
   ]
  },
  {
   "cell_type": "markdown",
   "metadata": {},
   "source": [
    "### Construct Subset to train and test Model <a name=\"testModel\"></a>"
   ]
  },
  {
   "cell_type": "code",
   "execution_count": 134,
   "metadata": {},
   "outputs": [],
   "source": [
    "dates = full[\"Date\"].values\n",
    "np.random.shuffle(dates)"
   ]
  },
  {
   "cell_type": "code",
   "execution_count": 135,
   "metadata": {},
   "outputs": [],
   "source": [
    "split = int(dates.size * 0.9)\n",
    "train_set = dates[:split]\n",
    "test_set = dates[split:]"
   ]
  },
  {
   "cell_type": "code",
   "execution_count": 137,
   "metadata": {},
   "outputs": [],
   "source": [
    "train_df = full[full[\"Date\"].isin(train_set)].drop(columns=[\"Date\",\"NieuwmarktCode\", \"Hour\",\n",
    "                                                            \"NieuwezijdsCode\", \"DamCode\", \"SpuiCode\", \"Sensor\"])\n",
    "\n",
    "test_df = full[full[\"Date\"].isin(test_set)].drop(columns=[\"Date\",\"NieuwmarktCode\", \"Hour\",\n",
    "                                                            \"NieuwezijdsCode\", \"DamCode\", \"SpuiCode\", \"Sensor\"])"
   ]
  },
  {
   "cell_type": "code",
   "execution_count": 138,
   "metadata": {},
   "outputs": [
    {
     "data": {
      "text/html": [
       "<div>\n",
       "<style scoped>\n",
       "    .dataframe tbody tr th:only-of-type {\n",
       "        vertical-align: middle;\n",
       "    }\n",
       "\n",
       "    .dataframe tbody tr th {\n",
       "        vertical-align: top;\n",
       "    }\n",
       "\n",
       "    .dataframe thead th {\n",
       "        text-align: right;\n",
       "    }\n",
       "</style>\n",
       "<table border=\"1\" class=\"dataframe\">\n",
       "  <thead>\n",
       "    <tr style=\"text-align: right;\">\n",
       "      <th></th>\n",
       "      <th>is_event</th>\n",
       "      <th>event_lat</th>\n",
       "      <th>event_lon</th>\n",
       "      <th>NieuwmarktLat</th>\n",
       "      <th>NieuwmarktLon</th>\n",
       "      <th>NieuwmarktArrivals</th>\n",
       "      <th>NieuwmarktDepartures</th>\n",
       "      <th>NieuwezijdsLat</th>\n",
       "      <th>NieuwezijdsLon</th>\n",
       "      <th>NieuwezijdsArrivals</th>\n",
       "      <th>...</th>\n",
       "      <th>SensorLongitude</th>\n",
       "      <th>SensorLatitude</th>\n",
       "      <th>Year</th>\n",
       "      <th>month_sin</th>\n",
       "      <th>month_cos</th>\n",
       "      <th>day_sin</th>\n",
       "      <th>day_cos</th>\n",
       "      <th>hour_sin</th>\n",
       "      <th>hour_cos</th>\n",
       "      <th>CrowdednessCount</th>\n",
       "    </tr>\n",
       "  </thead>\n",
       "  <tbody>\n",
       "    <tr>\n",
       "      <th>0</th>\n",
       "      <td>1.0</td>\n",
       "      <td>52.372638</td>\n",
       "      <td>4.894106</td>\n",
       "      <td>4.901239</td>\n",
       "      <td>52.371942</td>\n",
       "      <td>44.0</td>\n",
       "      <td>143.0</td>\n",
       "      <td>4.893731</td>\n",
       "      <td>52.376288</td>\n",
       "      <td>39.0</td>\n",
       "      <td>...</td>\n",
       "      <td>4.898903</td>\n",
       "      <td>52.373786</td>\n",
       "      <td>2018</td>\n",
       "      <td>8.660254e-01</td>\n",
       "      <td>-0.500000</td>\n",
       "      <td>0.337523</td>\n",
       "      <td>0.941317</td>\n",
       "      <td>-2.449294e-16</td>\n",
       "      <td>1.0</td>\n",
       "      <td>0</td>\n",
       "    </tr>\n",
       "    <tr>\n",
       "      <th>1</th>\n",
       "      <td>1.0</td>\n",
       "      <td>52.372638</td>\n",
       "      <td>4.894106</td>\n",
       "      <td>4.901239</td>\n",
       "      <td>52.371942</td>\n",
       "      <td>44.0</td>\n",
       "      <td>143.0</td>\n",
       "      <td>4.893731</td>\n",
       "      <td>52.376288</td>\n",
       "      <td>39.0</td>\n",
       "      <td>...</td>\n",
       "      <td>4.898903</td>\n",
       "      <td>52.373786</td>\n",
       "      <td>2018</td>\n",
       "      <td>8.660254e-01</td>\n",
       "      <td>-0.500000</td>\n",
       "      <td>0.337523</td>\n",
       "      <td>0.941317</td>\n",
       "      <td>-2.449294e-16</td>\n",
       "      <td>1.0</td>\n",
       "      <td>747</td>\n",
       "    </tr>\n",
       "    <tr>\n",
       "      <th>10</th>\n",
       "      <td>1.0</td>\n",
       "      <td>52.372638</td>\n",
       "      <td>4.894106</td>\n",
       "      <td>4.901239</td>\n",
       "      <td>52.371942</td>\n",
       "      <td>203.0</td>\n",
       "      <td>174.0</td>\n",
       "      <td>4.893731</td>\n",
       "      <td>52.376288</td>\n",
       "      <td>120.0</td>\n",
       "      <td>...</td>\n",
       "      <td>4.898903</td>\n",
       "      <td>52.373786</td>\n",
       "      <td>2018</td>\n",
       "      <td>8.660254e-01</td>\n",
       "      <td>-0.500000</td>\n",
       "      <td>0.337523</td>\n",
       "      <td>0.941317</td>\n",
       "      <td>8.660254e-01</td>\n",
       "      <td>-0.5</td>\n",
       "      <td>131</td>\n",
       "    </tr>\n",
       "    <tr>\n",
       "      <th>100</th>\n",
       "      <td>1.0</td>\n",
       "      <td>52.372638</td>\n",
       "      <td>4.894106</td>\n",
       "      <td>4.901239</td>\n",
       "      <td>52.371942</td>\n",
       "      <td>263.0</td>\n",
       "      <td>210.0</td>\n",
       "      <td>4.893731</td>\n",
       "      <td>52.376288</td>\n",
       "      <td>255.0</td>\n",
       "      <td>...</td>\n",
       "      <td>4.898903</td>\n",
       "      <td>52.373786</td>\n",
       "      <td>2018</td>\n",
       "      <td>5.000000e-01</td>\n",
       "      <td>-0.866025</td>\n",
       "      <td>0.337523</td>\n",
       "      <td>0.941317</td>\n",
       "      <td>4.017708e-14</td>\n",
       "      <td>-1.0</td>\n",
       "      <td>1942</td>\n",
       "    </tr>\n",
       "    <tr>\n",
       "      <th>1000</th>\n",
       "      <td>1.0</td>\n",
       "      <td>52.389019</td>\n",
       "      <td>4.891250</td>\n",
       "      <td>4.901239</td>\n",
       "      <td>52.371942</td>\n",
       "      <td>330.0</td>\n",
       "      <td>246.0</td>\n",
       "      <td>4.893731</td>\n",
       "      <td>52.376288</td>\n",
       "      <td>213.0</td>\n",
       "      <td>...</td>\n",
       "      <td>4.898903</td>\n",
       "      <td>52.373786</td>\n",
       "      <td>2018</td>\n",
       "      <td>1.224647e-16</td>\n",
       "      <td>-1.000000</td>\n",
       "      <td>0.120208</td>\n",
       "      <td>0.992749</td>\n",
       "      <td>4.017708e-14</td>\n",
       "      <td>-1.0</td>\n",
       "      <td>806</td>\n",
       "    </tr>\n",
       "  </tbody>\n",
       "</table>\n",
       "<p>5 rows × 31 columns</p>\n",
       "</div>"
      ],
      "text/plain": [
       "      is_event  event_lat  event_lon  NieuwmarktLat  NieuwmarktLon  \\\n",
       "0          1.0  52.372638   4.894106       4.901239      52.371942   \n",
       "1          1.0  52.372638   4.894106       4.901239      52.371942   \n",
       "10         1.0  52.372638   4.894106       4.901239      52.371942   \n",
       "100        1.0  52.372638   4.894106       4.901239      52.371942   \n",
       "1000       1.0  52.389019   4.891250       4.901239      52.371942   \n",
       "\n",
       "      NieuwmarktArrivals  NieuwmarktDepartures  NieuwezijdsLat  \\\n",
       "0                   44.0                 143.0        4.893731   \n",
       "1                   44.0                 143.0        4.893731   \n",
       "10                 203.0                 174.0        4.893731   \n",
       "100                263.0                 210.0        4.893731   \n",
       "1000               330.0                 246.0        4.893731   \n",
       "\n",
       "      NieuwezijdsLon  NieuwezijdsArrivals  ...  SensorLongitude  \\\n",
       "0          52.376288                 39.0  ...         4.898903   \n",
       "1          52.376288                 39.0  ...         4.898903   \n",
       "10         52.376288                120.0  ...         4.898903   \n",
       "100        52.376288                255.0  ...         4.898903   \n",
       "1000       52.376288                213.0  ...         4.898903   \n",
       "\n",
       "      SensorLatitude  Year     month_sin  month_cos   day_sin   day_cos  \\\n",
       "0          52.373786  2018  8.660254e-01  -0.500000  0.337523  0.941317   \n",
       "1          52.373786  2018  8.660254e-01  -0.500000  0.337523  0.941317   \n",
       "10         52.373786  2018  8.660254e-01  -0.500000  0.337523  0.941317   \n",
       "100        52.373786  2018  5.000000e-01  -0.866025  0.337523  0.941317   \n",
       "1000       52.373786  2018  1.224647e-16  -1.000000  0.120208  0.992749   \n",
       "\n",
       "          hour_sin  hour_cos  CrowdednessCount  \n",
       "0    -2.449294e-16       1.0                 0  \n",
       "1    -2.449294e-16       1.0               747  \n",
       "10    8.660254e-01      -0.5               131  \n",
       "100   4.017708e-14      -1.0              1942  \n",
       "1000  4.017708e-14      -1.0               806  \n",
       "\n",
       "[5 rows x 31 columns]"
      ]
     },
     "execution_count": 138,
     "metadata": {},
     "output_type": "execute_result"
    }
   ],
   "source": [
    "train_df.head()"
   ]
  },
  {
   "cell_type": "code",
   "execution_count": 139,
   "metadata": {},
   "outputs": [],
   "source": [
    "x = full_df.drop([\"CrowdednessCount\"], axis=1)\n",
    "y = full_df[\"CrowdednessCount\"]"
   ]
  },
  {
   "cell_type": "code",
   "execution_count": 142,
   "metadata": {},
   "outputs": [
    {
     "data": {
      "image/png": "[encoded data removed]",
      "text/plain": [
       "<Figure size 432x288 with 1 Axes>"
      ]
     },
     "metadata": {
      "needs_background": "light"
     },
     "output_type": "display_data"
    }
   ],
   "source": [
    "#Rank features - 1D\n",
    "visualizer = Rank1D(algorithm='shapiro')\n",
    "\n",
    "visualizer.fit(x, y)                # Fit the data to the visualizer\n",
    "visualizer.transform(x)             # Transform the data\n",
    "visualizer.poof() "
   ]
  },
  {
   "cell_type": "code",
   "execution_count": 143,
   "metadata": {},
   "outputs": [
    {
     "data": {
      "image/png": "[encoded data removed]",
      "text/plain": [
       "<Figure size 432x288 with 2 Axes>"
      ]
     },
     "metadata": {
      "needs_background": "light"
     },
     "output_type": "display_data"
    }
   ],
   "source": [
    "visualizer = Rank2D(algorithm='covariance')\n",
    "visualizer.fit(x, y)                # Fit the data to the visualizer\n",
    "visualizer.transform(x)             # Transform the data\n",
    "visualizer.poof() "
   ]
  },
  {
   "cell_type": "code",
   "execution_count": 144,
   "metadata": {},
   "outputs": [],
   "source": [
    "#Train\n",
    "x_train = train_df.drop([\"CrowdednessCount\"], axis=1)\n",
    "y_train = train_df[\"CrowdednessCount\"]\n",
    "\n",
    "#Test\n",
    "x_test = test_df.drop([\"CrowdednessCount\"], axis=1)\n",
    "y_test = test_df[\"CrowdednessCount\"]\n",
    "\n",
    "feature_labels = train_df.columns.values"
   ]
  },
  {
   "cell_type": "markdown",
   "metadata": {},
   "source": [
    "## Regression Models <a name=\"regModels\"></a>"
   ]
  },
  {
   "cell_type": "markdown",
   "metadata": {},
   "source": [
    "### Train/Test Split <a name=\"trainTestSplit\"></a>\n",
    "Split the dataset into training and test data, using a [function from Sklearn](https://scikit-learn.org/stable/modules/generated/sklearn.model_selection.train_test_split.html)\n",
    "\n",
    "#### Train_Test_split Parameters\n",
    "- *input*: \n",
    "    - *x*: data used to predict laballed data\n",
    "        - Hour slot\n",
    "        - Weekday (int)\n",
    "        - Weekend (Binary)\n",
    "    - *y*: laballed data\n",
    "        - Number of rides (int)\n",
    "- *test_size*: Proportion of total data used as test data, rest is training data\n",
    "- *random_state*: Number used as seed by the *Random Number Generator* "
   ]
  },
  {
   "cell_type": "markdown",
   "metadata": {},
   "source": [
    "### Linear Regression <a name=\"regBaseModel\"></a>\n",
    "Implemented the [Sklearn Version](https://scikit-learn.org/stable/modules/generated/sklearn.linear_model.LinearRegression.html#sklearn.linear_model.LinearRegression)"
   ]
  },
  {
   "cell_type": "code",
   "execution_count": 145,
   "metadata": {},
   "outputs": [],
   "source": [
    "#Give parameters model\n",
    "reg_base = LinearRegression(n_jobs=5)"
   ]
  },
  {
   "cell_type": "code",
   "execution_count": 146,
   "metadata": {},
   "outputs": [
    {
     "data": {
      "text/plain": [
       "LinearRegression(copy_X=True, fit_intercept=True, n_jobs=5, normalize=False)"
      ]
     },
     "execution_count": 146,
     "metadata": {},
     "output_type": "execute_result"
    }
   ],
   "source": [
    "#Fit the model\n",
    "reg_base.fit(x_train, y_train)"
   ]
  },
  {
   "cell_type": "code",
   "execution_count": 147,
   "metadata": {},
   "outputs": [
    {
     "name": "stdout",
     "output_type": "stream",
     "text": [
      "R^2 Score:  0.5052992403676014\n",
      "MSE:  193394.72038831617\n",
      "RMSE:  439.766665844873\n"
     ]
    }
   ],
   "source": [
    "reg_base_score = reg_base.score(x_test, y_test)\n",
    "\n",
    "y_pred = reg_base.predict(x_test)\n",
    "reg_mse = mean_squared_error(y_pred, y_test)\n",
    "\n",
    "print(\"R^2 Score: \", reg_base_score)\n",
    "print(\"MSE: \", reg_mse)\n",
    "print(\"RMSE: \", np.sqrt(reg_mse))"
   ]
  },
  {
   "cell_type": "code",
   "execution_count": 148,
   "metadata": {},
   "outputs": [
    {
     "data": {
      "image/png": "[encoded data removed]",
      "text/plain": [
       "<Figure size 432x288 with 1 Axes>"
      ]
     },
     "metadata": {
      "needs_background": "light"
     },
     "output_type": "display_data"
    }
   ],
   "source": [
    "visualizer = PredictionError(reg_base)\n",
    "visualizer.fit(x_train, y_train)  # Fit the training data to the visualizer\n",
    "visualizer.score(x_test, y_test)  # Evaluate the model on the test data\n",
    "g = visualizer.poof() "
   ]
  },
  {
   "cell_type": "markdown",
   "metadata": {},
   "source": [
    "### Random Forrest Regressor <a name=\"regRFGModel\"></a>\n",
    "Implemented the [Sklearn Version](https://scikit-learn.org/stable/modules/generated/sklearn.ensemble.RandomForestRegressor.html)\n",
    "\n",
    "Parameters\n",
    "- *N-Estimators*: Number of trees in the model\n",
    "- *criterion*: loss function\n",
    "- *n_jobs*: The number of jobs to run in parallel for both fit and predict\n",
    "- *random_state*: random_state is the seed used by the random number generator\n",
    "- *bootstrap*: Whether bootstrap samples are used when building trees"
   ]
  },
  {
   "cell_type": "code",
   "execution_count": 149,
   "metadata": {},
   "outputs": [],
   "source": [
    "#Set parameters model\n",
    "reg_rfg = RandomForestRegressor(n_estimators=500, criterion=\"mse\", n_jobs=100, random_state=42, bootstrap=True)"
   ]
  },
  {
   "cell_type": "code",
   "execution_count": 150,
   "metadata": {},
   "outputs": [
    {
     "data": {
      "text/plain": [
       "RandomForestRegressor(bootstrap=True, criterion='mse', max_depth=None,\n",
       "           max_features='auto', max_leaf_nodes=None,\n",
       "           min_impurity_decrease=0.0, min_impurity_split=None,\n",
       "           min_samples_leaf=1, min_samples_split=2,\n",
       "           min_weight_fraction_leaf=0.0, n_estimators=500, n_jobs=100,\n",
       "           oob_score=False, random_state=42, verbose=0, warm_start=False)"
      ]
     },
     "execution_count": 150,
     "metadata": {},
     "output_type": "execute_result"
    }
   ],
   "source": [
    "#fit the model\n",
    "reg_rfg.fit(x_train, y_train)"
   ]
  },
  {
   "cell_type": "code",
   "execution_count": 151,
   "metadata": {},
   "outputs": [
    {
     "name": "stdout",
     "output_type": "stream",
     "text": [
      "R^2 Score:  0.8399377684324303\n",
      "MSE Test:  62573.56576881388\n",
      "RMSE Test:  250.14708826771076\n"
     ]
    }
   ],
   "source": [
    "#Score the model\n",
    "reg_rfg_score = reg_rfg.score(x_test, y_test)\n",
    "\n",
    "#Test\n",
    "y_pred = reg_rfg.predict(x_test)\n",
    "reg_rfg_mse = mean_squared_error(y_pred, y_test)\n",
    "\n",
    "print(\"R^2 Score: \", reg_rfg_score)\n",
    "print(\"MSE Test: \", reg_rfg_mse)\n",
    "print(\"RMSE Test: \", np.sqrt(reg_rfg_mse))"
   ]
  },
  {
   "cell_type": "code",
   "execution_count": 152,
   "metadata": {},
   "outputs": [
    {
     "name": "stdout",
     "output_type": "stream",
     "text": [
      "weekday-5.24%\n",
      "month_sin-6.13%\n",
      "DamArrivals-6.20%\n",
      "SpuiArrivals-7.54%\n",
      "DamDepartures-53.18%\n"
     ]
    }
   ],
   "source": [
    "#Feature importance\n",
    "importance = reg_rfg.feature_importances_\n",
    "feature_indexes_by_importance = importance.argsort()\n",
    "feature_indexes_by_importance = feature_indexes_by_importance[-5:]\n",
    "for index in feature_indexes_by_importance:\n",
    "    print('{}-{:.2f}%'.format(feature_labels[index], (importance[index] *100.0)))"
   ]
  },
  {
   "cell_type": "code",
   "execution_count": 154,
   "metadata": {
    "scrolled": false
   },
   "outputs": [
    {
     "data": {
      "image/png": "[encoded data removed]",
      "text/plain": [
       "<Figure size 432x288 with 1 Axes>"
      ]
     },
     "metadata": {
      "needs_background": "light"
     },
     "output_type": "display_data"
    }
   ],
   "source": [
    "visualizer = PredictionError(reg_rfg)\n",
    "visualizer.fit(x_train, y_train)  # Fit the training data to the visualizer\n",
    "visualizer.score(x_test, y_test)  # Evaluate the model on the test data\n",
    "g = visualizer.poof() "
   ]
  },
  {
   "cell_type": "markdown",
   "metadata": {},
   "source": [
    "### Gradient Boosting Regressor <a name=\"regGBRModel\"></a>\n",
    "Implemented the [Sklearn Version](https://scikit-learn.org/stable/modules/generated/sklearn.ensemble.GradientBoostingRegressor.html#sklearn.ensemble.GradientBoostingRegressor)\n",
    "\n",
    "Parameters\n",
    "- *Loss*: Loss function\n",
    "- *Learning_rate*: Learning rate shrinks the contribution of each tree by learning_rate\n",
    "- *n_estimators*: The number of boosting stages to perform\n",
    "- *Criterion*: The function to measure the quality of a split\n",
    "- *n_iter_no_change*: used to decide if early stopping will be used to terminate training when validation score is not improving\n",
    "- *validation_fraction*: The proportion of training data to set aside as validation set for early stopping"
   ]
  },
  {
   "cell_type": "code",
   "execution_count": 155,
   "metadata": {},
   "outputs": [],
   "source": [
    "reg_gbr = GradientBoostingRegressor(loss=\"ls\", learning_rate=0.05, n_estimators=300, criterion=\"friedman_mse\", \n",
    "                                    random_state=42, n_iter_no_change=20, validation_fraction=0.1)"
   ]
  },
  {
   "cell_type": "code",
   "execution_count": 156,
   "metadata": {},
   "outputs": [
    {
     "data": {
      "text/plain": [
       "GradientBoostingRegressor(alpha=0.9, criterion='friedman_mse', init=None,\n",
       "             learning_rate=0.05, loss='ls', max_depth=3, max_features=None,\n",
       "             max_leaf_nodes=None, min_impurity_decrease=0.0,\n",
       "             min_impurity_split=None, min_samples_leaf=1,\n",
       "             min_samples_split=2, min_weight_fraction_leaf=0.0,\n",
       "             n_estimators=300, n_iter_no_change=20, presort='auto',\n",
       "             random_state=42, subsample=1.0, tol=0.0001,\n",
       "             validation_fraction=0.1, verbose=0, warm_start=False)"
      ]
     },
     "execution_count": 156,
     "metadata": {},
     "output_type": "execute_result"
    }
   ],
   "source": [
    "reg_gbr.fit(x_train, y_train)"
   ]
  },
  {
   "cell_type": "code",
   "execution_count": 157,
   "metadata": {},
   "outputs": [
    {
     "name": "stdout",
     "output_type": "stream",
     "text": [
      "R^2 Score:  0.7321985570453466\n",
      "MSE Test:  104692.35021649823\n",
      "RMSE Test:  323.56197276023994\n"
     ]
    }
   ],
   "source": [
    "reg_gbr_score = reg_gbr.score(x_test, y_test)\n",
    "\n",
    "#Training\n",
    "y_pred = reg_gbr.predict(x_test)\n",
    "reg_gbr_mse = mean_squared_error(y_pred, y_test)\n",
    "\n",
    "print(\"R^2 Score: \", reg_gbr_score)\n",
    "print(\"MSE Test: \", reg_gbr_mse)\n",
    "print(\"RMSE Test: \", np.sqrt(reg_gbr_mse))"
   ]
  },
  {
   "cell_type": "code",
   "execution_count": 158,
   "metadata": {},
   "outputs": [
    {
     "name": "stdout",
     "output_type": "stream",
     "text": [
      "weekday-5.36%\n",
      "month_sin-6.47%\n",
      "SpuiArrivals-7.69%\n",
      "DamArrivals-7.72%\n",
      "DamDepartures-58.68%\n"
     ]
    }
   ],
   "source": [
    "#Feature importance\n",
    "importance = reg_gbr.feature_importances_\n",
    "feature_indexes_by_importance = importance.argsort()\n",
    "feature_indexes_by_importance = feature_indexes_by_importance[-5:]\n",
    "for index in feature_indexes_by_importance:\n",
    "    print('{}-{:.2f}%'.format(feature_labels[index], (importance[index] *100.0)))"
   ]
  },
  {
   "cell_type": "code",
   "execution_count": 33,
   "metadata": {},
   "outputs": [
    {
     "data": {
      "image/png": "[encoded data removed]",
      "text/plain": [
       "<Figure size 432x288 with 1 Axes>"
      ]
     },
     "metadata": {
      "needs_background": "light"
     },
     "output_type": "display_data"
    }
   ],
   "source": [
    "visualizer = PredictionError(reg_gbr)\n",
    "visualizer.fit(x_train, y_train)  # Fit the training data to the visualizer\n",
    "visualizer.score(x_test, y_test)  # Evaluate the model on the test data\n",
    "g = visualizer.poof() "
   ]
  },
  {
   "cell_type": "markdown",
   "metadata": {},
   "source": [
    "### Lasso <a name=\"regABRModel\"></a>\n",
    "Implemented the [Sklearn Version](https://scikit-learn.org/stable/modules/generated/sklearn.linear_model.LassoCV.html#sklearn.linear_model.LassoCV)"
   ]
  },
  {
   "cell_type": "code",
   "execution_count": 159,
   "metadata": {},
   "outputs": [],
   "source": [
    "reg_en = LassoCV(n_jobs=5, random_state=42, selection=\"random\")"
   ]
  },
  {
   "cell_type": "code",
   "execution_count": 160,
   "metadata": {},
   "outputs": [
    {
     "name": "stderr",
     "output_type": "stream",
     "text": [
      "D:\\Programs\\Anaconda\\envs\\Analytics\\lib\\site-packages\\sklearn\\model_selection\\_split.py:2053: FutureWarning: You should specify a value for 'cv' instead of relying on the default value. The default value will change from 3 to 5 in version 0.22.\n",
      "  warnings.warn(CV_WARNING, FutureWarning)\n"
     ]
    },
    {
     "data": {
      "text/plain": [
       "LassoCV(alphas=None, copy_X=True, cv='warn', eps=0.001, fit_intercept=True,\n",
       "    max_iter=1000, n_alphas=100, n_jobs=5, normalize=False, positive=False,\n",
       "    precompute='auto', random_state=42, selection='random', tol=0.0001,\n",
       "    verbose=False)"
      ]
     },
     "execution_count": 160,
     "metadata": {},
     "output_type": "execute_result"
    }
   ],
   "source": [
    "reg_en.fit(x_train, y_train)"
   ]
  },
  {
   "cell_type": "code",
   "execution_count": 161,
   "metadata": {},
   "outputs": [
    {
     "name": "stdout",
     "output_type": "stream",
     "text": [
      "R^2 Sore:  0.44333260172081823\n",
      "MSE:  217619.50784043883\n",
      "RMSE:  466.4970609129696\n"
     ]
    }
   ],
   "source": [
    "reg_en_score=reg_en.score(x_test, y_test)\n",
    "\n",
    "y_pred = reg_en.predict(x_test)\n",
    "reg_en_mse = mean_squared_error(y_pred, y_test)\n",
    "\n",
    "print(\"R^2 Sore: \", reg_en_score)\n",
    "print(\"MSE: \", reg_en_mse)\n",
    "print(\"RMSE: \", np.sqrt(reg_en_mse))"
   ]
  },
  {
   "cell_type": "code",
   "execution_count": 162,
   "metadata": {},
   "outputs": [
    {
     "name": "stderr",
     "output_type": "stream",
     "text": [
      "D:\\Programs\\Anaconda\\envs\\Analytics\\lib\\site-packages\\sklearn\\model_selection\\_split.py:2053: FutureWarning: You should specify a value for 'cv' instead of relying on the default value. The default value will change from 3 to 5 in version 0.22.\n",
      "  warnings.warn(CV_WARNING, FutureWarning)\n"
     ]
    },
    {
     "data": {
      "image/png": "[encoded data removed]",
      "text/plain": [
       "<Figure size 432x288 with 1 Axes>"
      ]
     },
     "metadata": {
      "needs_background": "light"
     },
     "output_type": "display_data"
    }
   ],
   "source": [
    "visualizer = PredictionError(reg_en)\n",
    "visualizer.fit(x_train, y_train)  # Fit the training data to the visualizer\n",
    "visualizer.score(x_test, y_test)  # Evaluate the model on the test data\n",
    "g = visualizer.poof() "
   ]
  },
  {
   "cell_type": "markdown",
   "metadata": {},
   "source": [
    "## Classification Models <a name=\"classification\"></a>"
   ]
  },
  {
   "cell_type": "markdown",
   "metadata": {},
   "source": [
    "### Change numerical labels to categorical labels <a name=\"classCatVar\"></a>"
   ]
  },
  {
   "cell_type": "code",
   "execution_count": 225,
   "metadata": {},
   "outputs": [],
   "source": [
    "#Check distribution crowdedness\n",
    "counts = full[\"CrowdednessCount\"].values\n",
    "\n",
    "#Normal Distribute values, give mu and std\n",
    "mu, std = norm.fit(counts)"
   ]
  },
  {
   "cell_type": "code",
   "execution_count": 226,
   "metadata": {},
   "outputs": [],
   "source": [
    "clas_dict = full.to_dict(\"index\")"
   ]
  },
  {
   "cell_type": "code",
   "execution_count": 227,
   "metadata": {},
   "outputs": [],
   "source": [
    "for k, v in clas_dict.items():\n",
    "    \n",
    "    #Max crowdedness count for low level\n",
    "    low_level = mu - std\n",
    "    \n",
    "    #Max crowdedness medium level\n",
    "    high_level = mu + std\n",
    "    \n",
    "    #Assign class labels\n",
    "    if v[\"CrowdednessCount\"] < low_level:\n",
    "        v[\"CrowdednessCount\"] = 0\n",
    "    elif v[\"CrowdednessCount\"] > high_level:\n",
    "        v[\"CrowdednessCount\"] = 2\n",
    "    else:\n",
    "        v[\"CrowdednessCount\"] = 1"
   ]
  },
  {
   "cell_type": "code",
   "execution_count": 228,
   "metadata": {},
   "outputs": [],
   "source": [
    "clas_model_df = pd.DataFrame.from_dict(clas_dict, orient=\"index\")"
   ]
  },
  {
   "cell_type": "code",
   "execution_count": 229,
   "metadata": {},
   "outputs": [
    {
     "data": {
      "text/html": [
       "<div>\n",
       "<style scoped>\n",
       "    .dataframe tbody tr th:only-of-type {\n",
       "        vertical-align: middle;\n",
       "    }\n",
       "\n",
       "    .dataframe tbody tr th {\n",
       "        vertical-align: top;\n",
       "    }\n",
       "\n",
       "    .dataframe thead th {\n",
       "        text-align: right;\n",
       "    }\n",
       "</style>\n",
       "<table border=\"1\" class=\"dataframe\">\n",
       "  <thead>\n",
       "    <tr style=\"text-align: right;\">\n",
       "      <th></th>\n",
       "      <th>Hour</th>\n",
       "      <th>Date</th>\n",
       "      <th>is_event</th>\n",
       "      <th>event_lat</th>\n",
       "      <th>event_lon</th>\n",
       "      <th>NieuwmarktCode</th>\n",
       "      <th>NieuwmarktLat</th>\n",
       "      <th>NieuwmarktLon</th>\n",
       "      <th>NieuwmarktArrivals</th>\n",
       "      <th>NieuwmarktDepartures</th>\n",
       "      <th>...</th>\n",
       "      <th>SensorLongitude</th>\n",
       "      <th>SensorLatitude</th>\n",
       "      <th>Year</th>\n",
       "      <th>month_sin</th>\n",
       "      <th>month_cos</th>\n",
       "      <th>day_sin</th>\n",
       "      <th>day_cos</th>\n",
       "      <th>hour_sin</th>\n",
       "      <th>hour_cos</th>\n",
       "      <th>CrowdednessCount</th>\n",
       "    </tr>\n",
       "  </thead>\n",
       "  <tbody>\n",
       "    <tr>\n",
       "      <th>0</th>\n",
       "      <td>24</td>\n",
       "      <td>2018-08-16</td>\n",
       "      <td>1.0</td>\n",
       "      <td>52.372638</td>\n",
       "      <td>4.894106</td>\n",
       "      <td>NMT</td>\n",
       "      <td>4.901239</td>\n",
       "      <td>52.371942</td>\n",
       "      <td>44.0</td>\n",
       "      <td>143.0</td>\n",
       "      <td>...</td>\n",
       "      <td>4.898903</td>\n",
       "      <td>52.373786</td>\n",
       "      <td>2018</td>\n",
       "      <td>8.660254e-01</td>\n",
       "      <td>-0.500000</td>\n",
       "      <td>0.337523</td>\n",
       "      <td>0.941317</td>\n",
       "      <td>-2.449294e-16</td>\n",
       "      <td>1.0</td>\n",
       "      <td>0</td>\n",
       "    </tr>\n",
       "    <tr>\n",
       "      <th>1</th>\n",
       "      <td>24</td>\n",
       "      <td>2018-07-31</td>\n",
       "      <td>1.0</td>\n",
       "      <td>52.372638</td>\n",
       "      <td>4.894106</td>\n",
       "      <td>NMT</td>\n",
       "      <td>4.901239</td>\n",
       "      <td>52.371942</td>\n",
       "      <td>44.0</td>\n",
       "      <td>143.0</td>\n",
       "      <td>...</td>\n",
       "      <td>4.898903</td>\n",
       "      <td>52.373786</td>\n",
       "      <td>2018</td>\n",
       "      <td>8.660254e-01</td>\n",
       "      <td>-0.500000</td>\n",
       "      <td>0.337523</td>\n",
       "      <td>0.941317</td>\n",
       "      <td>-2.449294e-16</td>\n",
       "      <td>1.0</td>\n",
       "      <td>1</td>\n",
       "    </tr>\n",
       "    <tr>\n",
       "      <th>10</th>\n",
       "      <td>800</td>\n",
       "      <td>2018-06-23</td>\n",
       "      <td>1.0</td>\n",
       "      <td>52.372638</td>\n",
       "      <td>4.894106</td>\n",
       "      <td>NMT</td>\n",
       "      <td>4.901239</td>\n",
       "      <td>52.371942</td>\n",
       "      <td>203.0</td>\n",
       "      <td>174.0</td>\n",
       "      <td>...</td>\n",
       "      <td>4.898903</td>\n",
       "      <td>52.373786</td>\n",
       "      <td>2018</td>\n",
       "      <td>8.660254e-01</td>\n",
       "      <td>-0.500000</td>\n",
       "      <td>0.337523</td>\n",
       "      <td>0.941317</td>\n",
       "      <td>8.660254e-01</td>\n",
       "      <td>-0.5</td>\n",
       "      <td>1</td>\n",
       "    </tr>\n",
       "    <tr>\n",
       "      <th>100</th>\n",
       "      <td>1500</td>\n",
       "      <td>2018-04-05</td>\n",
       "      <td>1.0</td>\n",
       "      <td>52.372638</td>\n",
       "      <td>4.894106</td>\n",
       "      <td>NMT</td>\n",
       "      <td>4.901239</td>\n",
       "      <td>52.371942</td>\n",
       "      <td>263.0</td>\n",
       "      <td>210.0</td>\n",
       "      <td>...</td>\n",
       "      <td>4.898903</td>\n",
       "      <td>52.373786</td>\n",
       "      <td>2018</td>\n",
       "      <td>5.000000e-01</td>\n",
       "      <td>-0.866025</td>\n",
       "      <td>0.337523</td>\n",
       "      <td>0.941317</td>\n",
       "      <td>4.017708e-14</td>\n",
       "      <td>-1.0</td>\n",
       "      <td>2</td>\n",
       "    </tr>\n",
       "    <tr>\n",
       "      <th>1000</th>\n",
       "      <td>1500</td>\n",
       "      <td>2018-05-26</td>\n",
       "      <td>1.0</td>\n",
       "      <td>52.389019</td>\n",
       "      <td>4.891250</td>\n",
       "      <td>NMT</td>\n",
       "      <td>4.901239</td>\n",
       "      <td>52.371942</td>\n",
       "      <td>330.0</td>\n",
       "      <td>246.0</td>\n",
       "      <td>...</td>\n",
       "      <td>4.898903</td>\n",
       "      <td>52.373786</td>\n",
       "      <td>2018</td>\n",
       "      <td>1.224647e-16</td>\n",
       "      <td>-1.000000</td>\n",
       "      <td>0.120208</td>\n",
       "      <td>0.992749</td>\n",
       "      <td>4.017708e-14</td>\n",
       "      <td>-1.0</td>\n",
       "      <td>1</td>\n",
       "    </tr>\n",
       "  </tbody>\n",
       "</table>\n",
       "<p>5 rows × 38 columns</p>\n",
       "</div>"
      ],
      "text/plain": [
       "      Hour        Date  is_event  event_lat  event_lon NieuwmarktCode  \\\n",
       "0       24  2018-08-16       1.0  52.372638   4.894106            NMT   \n",
       "1       24  2018-07-31       1.0  52.372638   4.894106            NMT   \n",
       "10     800  2018-06-23       1.0  52.372638   4.894106            NMT   \n",
       "100   1500  2018-04-05       1.0  52.372638   4.894106            NMT   \n",
       "1000  1500  2018-05-26       1.0  52.389019   4.891250            NMT   \n",
       "\n",
       "      NieuwmarktLat  NieuwmarktLon  NieuwmarktArrivals  NieuwmarktDepartures  \\\n",
       "0          4.901239      52.371942                44.0                 143.0   \n",
       "1          4.901239      52.371942                44.0                 143.0   \n",
       "10         4.901239      52.371942               203.0                 174.0   \n",
       "100        4.901239      52.371942               263.0                 210.0   \n",
       "1000       4.901239      52.371942               330.0                 246.0   \n",
       "\n",
       "      ...  SensorLongitude  SensorLatitude  Year     month_sin  month_cos  \\\n",
       "0     ...         4.898903       52.373786  2018  8.660254e-01  -0.500000   \n",
       "1     ...         4.898903       52.373786  2018  8.660254e-01  -0.500000   \n",
       "10    ...         4.898903       52.373786  2018  8.660254e-01  -0.500000   \n",
       "100   ...         4.898903       52.373786  2018  5.000000e-01  -0.866025   \n",
       "1000  ...         4.898903       52.373786  2018  1.224647e-16  -1.000000   \n",
       "\n",
       "       day_sin   day_cos      hour_sin  hour_cos  CrowdednessCount  \n",
       "0     0.337523  0.941317 -2.449294e-16       1.0                 0  \n",
       "1     0.337523  0.941317 -2.449294e-16       1.0                 1  \n",
       "10    0.337523  0.941317  8.660254e-01      -0.5                 1  \n",
       "100   0.337523  0.941317  4.017708e-14      -1.0                 2  \n",
       "1000  0.120208  0.992749  4.017708e-14      -1.0                 1  \n",
       "\n",
       "[5 rows x 38 columns]"
      ]
     },
     "execution_count": 229,
     "metadata": {},
     "output_type": "execute_result"
    }
   ],
   "source": [
    "clas_model_df.head()"
   ]
  },
  {
   "cell_type": "code",
   "execution_count": 231,
   "metadata": {},
   "outputs": [],
   "source": [
    "train_df = clas_model_df[clas_model_df[\"Date\"].isin(train_set)].drop(columns=[\"Date\",\"NieuwmarktCode\", \"Hour\",\n",
    "                                                            \"NieuwezijdsCode\", \"DamCode\", \"SpuiCode\", \"Sensor\"])\n",
    "\n",
    "test_df = clas_model_df[clas_model_df[\"Date\"].isin(test_set)].drop(columns=[\"Date\",\"NieuwmarktCode\", \"Hour\",\n",
    "                                                            \"NieuwezijdsCode\", \"DamCode\", \"SpuiCode\", \"Sensor\"])"
   ]
  },
  {
   "cell_type": "code",
   "execution_count": 232,
   "metadata": {},
   "outputs": [],
   "source": [
    "#Train\n",
    "x_train = train_df.drop([\"CrowdednessCount\"], axis=1)\n",
    "y_train = train_df[\"CrowdednessCount\"]\n",
    "\n",
    "#Test\n",
    "x_test = test_df.drop([\"CrowdednessCount\"], axis=1)\n",
    "y_test = test_df[\"CrowdednessCount\"]\n",
    "\n",
    "feature_labels = train_df.columns.values"
   ]
  },
  {
   "cell_type": "code",
   "execution_count": 233,
   "metadata": {},
   "outputs": [
    {
     "data": {
      "text/plain": [
       "0       0\n",
       "1       1\n",
       "10      1\n",
       "100     2\n",
       "1000    1\n",
       "Name: CrowdednessCount, dtype: int64"
      ]
     },
     "execution_count": 233,
     "metadata": {},
     "output_type": "execute_result"
    }
   ],
   "source": [
    "y_train.head()"
   ]
  },
  {
   "cell_type": "code",
   "execution_count": 219,
   "metadata": {},
   "outputs": [],
   "source": [
    "classes = [\"Low\", \"Normal\", \"High\"]"
   ]
  },
  {
   "cell_type": "markdown",
   "metadata": {},
   "source": [
    "### Baseline <a name=\"classBaseModel\"></a>\n",
    "Implemented the [Sklearn Version](https://scikit-learn.org/stable/modules/generated/sklearn.dummy.DummyClassifier.html#sklearn.dummy.DummyClassifier)\n",
    "\n",
    "Parameters\n",
    "- *strategy*: \"stratified” - generates predictions by respecting the training set’s class distribution."
   ]
  },
  {
   "cell_type": "code",
   "execution_count": 234,
   "metadata": {},
   "outputs": [],
   "source": [
    "clas_bas = DummyClassifier(strategy=\"stratified\", random_state=42)"
   ]
  },
  {
   "cell_type": "code",
   "execution_count": 235,
   "metadata": {},
   "outputs": [
    {
     "data": {
      "text/plain": [
       "DummyClassifier(constant=None, random_state=42, strategy='stratified')"
      ]
     },
     "execution_count": 235,
     "metadata": {},
     "output_type": "execute_result"
    }
   ],
   "source": [
    "clas_bas.fit(x_train, y_train)"
   ]
  },
  {
   "cell_type": "code",
   "execution_count": 237,
   "metadata": {},
   "outputs": [
    {
     "name": "stdout",
     "output_type": "stream",
     "text": [
      "Accuracy Score:  0.46221379097366216\n",
      "              precision    recall  f1-score   support\n",
      "\n",
      "           0       0.22      0.22      0.22      4825\n",
      "           1       0.62      0.63      0.62     14132\n",
      "           2       0.16      0.16      0.16      3710\n",
      "\n",
      "   micro avg       0.46      0.46      0.46     22667\n",
      "   macro avg       0.33      0.33      0.33     22667\n",
      "weighted avg       0.46      0.46      0.46     22667\n",
      "\n"
     ]
    }
   ],
   "source": [
    "y_pred = clas_bas.predict(x_test)\n",
    "\n",
    "print(\"Accuracy Score: \", accuracy_score(y_test, y_pred))\n",
    "print(classification_report(y_test, y_pred))"
   ]
  },
  {
   "cell_type": "code",
   "execution_count": 238,
   "metadata": {},
   "outputs": [
    {
     "data": {
      "image/png": "[encoded data removed]",
      "text/plain": [
       "<Figure size 432x288 with 1 Axes>"
      ]
     },
     "metadata": {
      "needs_background": "light"
     },
     "output_type": "display_data"
    }
   ],
   "source": [
    "visualizer = ClassPredictionError(\n",
    "    clas_bas, classes=classes\n",
    ")\n",
    "\n",
    "visualizer.fit(x_train, y_train)\n",
    "visualizer.score(x_test, y_test)\n",
    "g = visualizer.poof()"
   ]
  },
  {
   "cell_type": "markdown",
   "metadata": {},
   "source": [
    "### Random Forrest Classifier <a name=\"classRFCModel\"></a>\n",
    "Implemented the [Sklearn Version](https://scikit-learn.org/stable/modules/generated/sklearn.ensemble.RandomForestClassifier.html#sklearn.ensemble.RandomForestClassifier)"
   ]
  },
  {
   "cell_type": "code",
   "execution_count": 239,
   "metadata": {},
   "outputs": [],
   "source": [
    "clas_rfc = RandomForestClassifier(n_estimators=300, criterion=\"entropy\", n_jobs=20, random_state=42, \n",
    "                                  class_weight=\"balanced\")"
   ]
  },
  {
   "cell_type": "code",
   "execution_count": 240,
   "metadata": {},
   "outputs": [
    {
     "data": {
      "text/plain": [
       "RandomForestClassifier(bootstrap=True, class_weight='balanced',\n",
       "            criterion='entropy', max_depth=None, max_features='auto',\n",
       "            max_leaf_nodes=None, min_impurity_decrease=0.0,\n",
       "            min_impurity_split=None, min_samples_leaf=1,\n",
       "            min_samples_split=2, min_weight_fraction_leaf=0.0,\n",
       "            n_estimators=300, n_jobs=20, oob_score=False, random_state=42,\n",
       "            verbose=0, warm_start=False)"
      ]
     },
     "execution_count": 240,
     "metadata": {},
     "output_type": "execute_result"
    }
   ],
   "source": [
    "clas_rfc.fit(x_train, y_train)"
   ]
  },
  {
   "cell_type": "code",
   "execution_count": 241,
   "metadata": {},
   "outputs": [
    {
     "name": "stdout",
     "output_type": "stream",
     "text": [
      "Accuracy Score:  0.8687078131203952\n",
      "              precision    recall  f1-score   support\n",
      "\n",
      "           0       0.90      0.89      0.90      4825\n",
      "           1       0.96      0.84      0.89     14132\n",
      "           2       0.64      0.95      0.77      3710\n",
      "\n",
      "   micro avg       0.87      0.87      0.87     22667\n",
      "   macro avg       0.83      0.89      0.85     22667\n",
      "weighted avg       0.89      0.87      0.87     22667\n",
      "\n"
     ]
    }
   ],
   "source": [
    "y_pred = clas_rfc.predict(x_test)\n",
    "\n",
    "print(\"Accuracy Score: \", accuracy_score(y_test, y_pred))\n",
    "print(classification_report(y_test, y_pred))"
   ]
  },
  {
   "cell_type": "code",
   "execution_count": 242,
   "metadata": {},
   "outputs": [
    {
     "data": {
      "image/png": "[encoded data removed]",
      "text/plain": [
       "<Figure size 432x288 with 1 Axes>"
      ]
     },
     "metadata": {
      "needs_background": "light"
     },
     "output_type": "display_data"
    }
   ],
   "source": [
    "visualizer = ClassPredictionError(\n",
    "    clas_rfc, classes=classes\n",
    ")\n",
    "\n",
    "visualizer.fit(x_train, y_train)\n",
    "visualizer.score(x_test, y_test)\n",
    "g = visualizer.poof()"
   ]
  },
  {
   "cell_type": "markdown",
   "metadata": {},
   "source": [
    "### Gradient Boosting Classifier <a name=\"classGBCModel\"></a>\n",
    "Implemented the [Sklearn Version](https://scikit-learn.org/stable/modules/generated/sklearn.ensemble.GradientBoostingClassifier.html#sklearn.ensemble.GradientBoostingClassifier)"
   ]
  },
  {
   "cell_type": "code",
   "execution_count": 243,
   "metadata": {},
   "outputs": [],
   "source": [
    "clas_gbc = GradientBoostingClassifier(learning_rate=0.05, n_estimators=300, random_state=42, n_iter_no_change=20, \n",
    "                                     validation_fraction=0.1)"
   ]
  },
  {
   "cell_type": "code",
   "execution_count": 244,
   "metadata": {},
   "outputs": [
    {
     "data": {
      "text/plain": [
       "GradientBoostingClassifier(criterion='friedman_mse', init=None,\n",
       "              learning_rate=0.05, loss='deviance', max_depth=3,\n",
       "              max_features=None, max_leaf_nodes=None,\n",
       "              min_impurity_decrease=0.0, min_impurity_split=None,\n",
       "              min_samples_leaf=1, min_samples_split=2,\n",
       "              min_weight_fraction_leaf=0.0, n_estimators=300,\n",
       "              n_iter_no_change=20, presort='auto', random_state=42,\n",
       "              subsample=1.0, tol=0.0001, validation_fraction=0.1,\n",
       "              verbose=0, warm_start=False)"
      ]
     },
     "execution_count": 244,
     "metadata": {},
     "output_type": "execute_result"
    }
   ],
   "source": [
    "clas_gbc.fit(x_train, y_train)"
   ]
  },
  {
   "cell_type": "code",
   "execution_count": 245,
   "metadata": {},
   "outputs": [
    {
     "name": "stdout",
     "output_type": "stream",
     "text": [
      "Accuracy Score:  0.8394141262628491\n",
      "              precision    recall  f1-score   support\n",
      "\n",
      "           0       0.90      0.78      0.84      4825\n",
      "           1       0.85      0.91      0.88     14132\n",
      "           2       0.71      0.64      0.67      3710\n",
      "\n",
      "   micro avg       0.84      0.84      0.84     22667\n",
      "   macro avg       0.82      0.78      0.80     22667\n",
      "weighted avg       0.84      0.84      0.84     22667\n",
      "\n"
     ]
    }
   ],
   "source": [
    "y_pred = clas_gbc.predict(x_test)\n",
    "\n",
    "print(\"Accuracy Score: \", accuracy_score(y_test, y_pred))\n",
    "print(classification_report(y_test, y_pred))"
   ]
  },
  {
   "cell_type": "code",
   "execution_count": 246,
   "metadata": {},
   "outputs": [
    {
     "data": {
      "image/png": "[encoded data removed]",
      "text/plain": [
       "<Figure size 432x288 with 1 Axes>"
      ]
     },
     "metadata": {
      "needs_background": "light"
     },
     "output_type": "display_data"
    }
   ],
   "source": [
    "visualizer = ClassPredictionError(\n",
    "    clas_gbc, classes=classes\n",
    ")\n",
    "\n",
    "visualizer.fit(x_train, y_train)\n",
    "visualizer.score(x_test, y_test)\n",
    "g = visualizer.poof()"
   ]
  },
  {
   "cell_type": "markdown",
   "metadata": {},
   "source": [
    "### SGD Classifier  <a name=\"classSGDModel\"></a>\n",
    "Implemented the [Sklearn Version](https://scikit-learn.org/stable/modules/generated/sklearn.linear_model.SGDClassifier.html#sklearn.linear_model.SGDClassifier)"
   ]
  },
  {
   "cell_type": "code",
   "execution_count": 247,
   "metadata": {},
   "outputs": [],
   "source": [
    "reg_sgd = SGDClassifier(n_jobs=50, random_state=42)"
   ]
  },
  {
   "cell_type": "code",
   "execution_count": 248,
   "metadata": {},
   "outputs": [
    {
     "name": "stderr",
     "output_type": "stream",
     "text": [
      "D:\\Programs\\Anaconda\\envs\\Analytics\\lib\\site-packages\\sklearn\\linear_model\\stochastic_gradient.py:166: FutureWarning: max_iter and tol parameters have been added in SGDClassifier in 0.19. If both are left unset, they default to max_iter=5 and tol=None. If tol is not None, max_iter defaults to max_iter=1000. From 0.21, default max_iter will be 1000, and default tol will be 1e-3.\n",
      "  FutureWarning)\n"
     ]
    },
    {
     "data": {
      "text/plain": [
       "SGDClassifier(alpha=0.0001, average=False, class_weight=None,\n",
       "       early_stopping=False, epsilon=0.1, eta0=0.0, fit_intercept=True,\n",
       "       l1_ratio=0.15, learning_rate='optimal', loss='hinge', max_iter=None,\n",
       "       n_iter=None, n_iter_no_change=5, n_jobs=50, penalty='l2',\n",
       "       power_t=0.5, random_state=42, shuffle=True, tol=None,\n",
       "       validation_fraction=0.1, verbose=0, warm_start=False)"
      ]
     },
     "execution_count": 248,
     "metadata": {},
     "output_type": "execute_result"
    }
   ],
   "source": [
    "reg_sgd.fit(x_train, y_train)"
   ]
  },
  {
   "cell_type": "code",
   "execution_count": 249,
   "metadata": {},
   "outputs": [
    {
     "name": "stdout",
     "output_type": "stream",
     "text": [
      "Accuracy Score:  0.2263643181717916\n",
      "              precision    recall  f1-score   support\n",
      "\n",
      "           0       0.22      0.99      0.36      4825\n",
      "           1       0.63      0.01      0.02     14132\n",
      "           2       0.46      0.06      0.10      3710\n",
      "\n",
      "   micro avg       0.23      0.23      0.23     22667\n",
      "   macro avg       0.44      0.35      0.16     22667\n",
      "weighted avg       0.52      0.23      0.11     22667\n",
      "\n"
     ]
    }
   ],
   "source": [
    "y_pred = reg_sgd.predict(x_test)\n",
    "\n",
    "print(\"Accuracy Score: \", accuracy_score(y_test, y_pred))\n",
    "print(classification_report(y_test, y_pred))"
   ]
  },
  {
   "cell_type": "code",
   "execution_count": 250,
   "metadata": {},
   "outputs": [
    {
     "name": "stderr",
     "output_type": "stream",
     "text": [
      "D:\\Programs\\Anaconda\\envs\\Analytics\\lib\\site-packages\\sklearn\\linear_model\\stochastic_gradient.py:166: FutureWarning: max_iter and tol parameters have been added in SGDClassifier in 0.19. If both are left unset, they default to max_iter=5 and tol=None. If tol is not None, max_iter defaults to max_iter=1000. From 0.21, default max_iter will be 1000, and default tol will be 1e-3.\n",
      "  FutureWarning)\n"
     ]
    },
    {
     "data": {
      "image/png": "[encoded data removed]",
      "text/plain": [
       "<Figure size 432x288 with 1 Axes>"
      ]
     },
     "metadata": {
      "needs_background": "light"
     },
     "output_type": "display_data"
    }
   ],
   "source": [
    "visualizer = ClassPredictionError(\n",
    "    reg_sgd, classes=classes\n",
    ")\n",
    "\n",
    "visualizer.fit(x_train, y_train)\n",
    "visualizer.score(x_test, y_test)\n",
    "g = visualizer.poof()"
   ]
  },
  {
   "cell_type": "markdown",
   "metadata": {},
   "source": [
    "### Voting Classifier <a name=\"classVCModel\"></a>\n",
    "Implemented the [Sklearn Version](https://scikit-learn.org/stable/modules/generated/sklearn.ensemble.VotingClassifier.html#sklearn.ensemble.VotingClassifier)\n",
    "\n",
    "This classifier combines the classifications of the [Random Forrest Classification](#classRFCModel) and [Gradient Boosting Classification](#classGBCModel) by classifying each instance with the one of the classes given by the models. "
   ]
  },
  {
   "cell_type": "code",
   "execution_count": 251,
   "metadata": {},
   "outputs": [],
   "source": [
    "#List estimator models\n",
    "estimators = [(\"rfc\", clas_rfc), (\"gbc\", clas_gbc)]\n",
    "\n",
    "clas_vc = VotingClassifier(estimators=estimators, voting=\"soft\", n_jobs=20,weights=[1, 2])"
   ]
  },
  {
   "cell_type": "code",
   "execution_count": 252,
   "metadata": {},
   "outputs": [
    {
     "data": {
      "text/plain": [
       "VotingClassifier(estimators=[('rfc', RandomForestClassifier(bootstrap=True, class_weight='balanced',\n",
       "            criterion='entropy', max_depth=None, max_features='auto',\n",
       "            max_leaf_nodes=None, min_impurity_decrease=0.0,\n",
       "            min_impurity_split=None, min_samples_leaf=1,\n",
       "            min_samples_split...    subsample=1.0, tol=0.0001, validation_fraction=0.1,\n",
       "              verbose=0, warm_start=False))],\n",
       "         flatten_transform=None, n_jobs=20, voting='soft', weights=[1, 2])"
      ]
     },
     "execution_count": 252,
     "metadata": {},
     "output_type": "execute_result"
    }
   ],
   "source": [
    "clas_vc.fit(x_train, y_train)"
   ]
  },
  {
   "cell_type": "code",
   "execution_count": 253,
   "metadata": {},
   "outputs": [
    {
     "name": "stdout",
     "output_type": "stream",
     "text": [
      "Accuracy Score:  0.8610755724180527\n",
      "              precision    recall  f1-score   support\n",
      "\n",
      "           0       0.91      0.83      0.87      4825\n",
      "           1       0.89      0.91      0.90     14132\n",
      "           2       0.72      0.73      0.72      3710\n",
      "\n",
      "   micro avg       0.86      0.86      0.86     22667\n",
      "   macro avg       0.84      0.82      0.83     22667\n",
      "weighted avg       0.86      0.86      0.86     22667\n",
      "\n"
     ]
    }
   ],
   "source": [
    "y_pred = clas_vc.predict(x_test)\n",
    "\n",
    "print(\"Accuracy Score: \", accuracy_score(y_test, y_pred))\n",
    "print(classification_report(y_test, y_pred))"
   ]
  }
 ],
 "metadata": {
  "kernelspec": {
   "display_name": "Python 3",
   "language": "python",
   "name": "python3"
  },
  "language_info": {
   "codemirror_mode": {
    "name": "ipython",
    "version": 3
   },
   "file_extension": ".py",
   "mimetype": "text/x-python",
   "name": "python",
   "nbconvert_exporter": "python",
   "pygments_lexer": "ipython3",
   "version": "3.7.1"
  }
 },
 "nbformat": 4,
 "nbformat_minor": 2
}
