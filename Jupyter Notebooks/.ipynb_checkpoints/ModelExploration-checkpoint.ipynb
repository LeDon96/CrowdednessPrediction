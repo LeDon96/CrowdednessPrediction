{
 "cells": [
  {
   "cell_type": "markdown",
   "metadata": {},
   "source": [
    "# Imports"
   ]
  },
  {
   "cell_type": "code",
   "execution_count": 1,
   "metadata": {},
   "outputs": [],
   "source": [
    "import pandas as pd\n",
    "import json\n",
    "\n",
    "#Train/Test section\n",
    "from sklearn.model_selection import train_test_split\n",
    "\n",
    "#Models\n",
    "from sklearn.ensemble import RandomForestRegressor"
   ]
  },
  {
   "cell_type": "markdown",
   "metadata": {},
   "source": [
    "# Import Data"
   ]
  },
  {
   "cell_type": "markdown",
   "metadata": {},
   "source": [
    "## GVB Data"
   ]
  },
  {
   "cell_type": "code",
   "execution_count": 10,
   "metadata": {},
   "outputs": [],
   "source": [
    "#Full GVB Dataset\n",
    "gvb_df = pd.read_csv(\"../../../Data_thesis/Full_Datasets/GVB.csv\")"
   ]
  },
  {
   "cell_type": "code",
   "execution_count": 11,
   "metadata": {},
   "outputs": [
    {
     "data": {
      "text/html": [
       "<div>\n",
       "<style scoped>\n",
       "    .dataframe tbody tr th:only-of-type {\n",
       "        vertical-align: middle;\n",
       "    }\n",
       "\n",
       "    .dataframe tbody tr th {\n",
       "        vertical-align: top;\n",
       "    }\n",
       "\n",
       "    .dataframe thead th {\n",
       "        text-align: right;\n",
       "    }\n",
       "</style>\n",
       "<table border=\"1\" class=\"dataframe\">\n",
       "  <thead>\n",
       "    <tr style=\"text-align: right;\">\n",
       "      <th></th>\n",
       "      <th>Datum</th>\n",
       "      <th>Uurgroep</th>\n",
       "      <th>AankomstHalteNaam</th>\n",
       "      <th>AankomstLat</th>\n",
       "      <th>AankomstLon</th>\n",
       "      <th>AantalAankomsten</th>\n",
       "      <th>VertrekHalteNaam</th>\n",
       "      <th>VertrekLat</th>\n",
       "      <th>VertrekLon</th>\n",
       "      <th>AantalVertrekken</th>\n",
       "      <th>weekday</th>\n",
       "      <th>is_weekend</th>\n",
       "      <th>AantalReizigers</th>\n",
       "    </tr>\n",
       "  </thead>\n",
       "  <tbody>\n",
       "    <tr>\n",
       "      <th>0</th>\n",
       "      <td>2018-02-05</td>\n",
       "      <td>0</td>\n",
       "      <td>Osdorpplein</td>\n",
       "      <td>4.803229</td>\n",
       "      <td>52.359132</td>\n",
       "      <td>19</td>\n",
       "      <td>Dam</td>\n",
       "      <td>4.891309</td>\n",
       "      <td>52.373554</td>\n",
       "      <td>87.0</td>\n",
       "      <td>0</td>\n",
       "      <td>0</td>\n",
       "      <td>106.0</td>\n",
       "    </tr>\n",
       "    <tr>\n",
       "      <th>1</th>\n",
       "      <td>2018-02-05</td>\n",
       "      <td>0</td>\n",
       "      <td>Meer en Vaart</td>\n",
       "      <td>4.809944</td>\n",
       "      <td>52.356369</td>\n",
       "      <td>42</td>\n",
       "      <td>Dam</td>\n",
       "      <td>4.891245</td>\n",
       "      <td>52.372727</td>\n",
       "      <td>72.0</td>\n",
       "      <td>0</td>\n",
       "      <td>0</td>\n",
       "      <td>114.0</td>\n",
       "    </tr>\n",
       "    <tr>\n",
       "      <th>2</th>\n",
       "      <td>2018-02-05</td>\n",
       "      <td>0</td>\n",
       "      <td>Dam</td>\n",
       "      <td>4.895494</td>\n",
       "      <td>52.374929</td>\n",
       "      <td>14</td>\n",
       "      <td>E. Wolffstraat</td>\n",
       "      <td>4.867279</td>\n",
       "      <td>52.370288</td>\n",
       "      <td>11.0</td>\n",
       "      <td>0</td>\n",
       "      <td>0</td>\n",
       "      <td>25.0</td>\n",
       "    </tr>\n",
       "    <tr>\n",
       "      <th>3</th>\n",
       "      <td>2018-02-05</td>\n",
       "      <td>0</td>\n",
       "      <td>Dam</td>\n",
       "      <td>4.890646</td>\n",
       "      <td>52.372446</td>\n",
       "      <td>22</td>\n",
       "      <td>Bilderdijkstraat</td>\n",
       "      <td>4.869857</td>\n",
       "      <td>52.370829</td>\n",
       "      <td>49.0</td>\n",
       "      <td>0</td>\n",
       "      <td>0</td>\n",
       "      <td>71.0</td>\n",
       "    </tr>\n",
       "    <tr>\n",
       "      <th>4</th>\n",
       "      <td>2018-02-05</td>\n",
       "      <td>0</td>\n",
       "      <td>Nieuwezijds Kolk</td>\n",
       "      <td>4.893731</td>\n",
       "      <td>52.376288</td>\n",
       "      <td>23</td>\n",
       "      <td>De Clercqstraat</td>\n",
       "      <td>4.870403</td>\n",
       "      <td>52.370616</td>\n",
       "      <td>49.0</td>\n",
       "      <td>0</td>\n",
       "      <td>0</td>\n",
       "      <td>72.0</td>\n",
       "    </tr>\n",
       "  </tbody>\n",
       "</table>\n",
       "</div>"
      ],
      "text/plain": [
       "        Datum  Uurgroep AankomstHalteNaam  AankomstLat  AankomstLon  \\\n",
       "0  2018-02-05         0       Osdorpplein     4.803229    52.359132   \n",
       "1  2018-02-05         0     Meer en Vaart     4.809944    52.356369   \n",
       "2  2018-02-05         0               Dam     4.895494    52.374929   \n",
       "3  2018-02-05         0               Dam     4.890646    52.372446   \n",
       "4  2018-02-05         0  Nieuwezijds Kolk     4.893731    52.376288   \n",
       "\n",
       "   AantalAankomsten  VertrekHalteNaam  VertrekLat  VertrekLon  \\\n",
       "0                19               Dam    4.891309   52.373554   \n",
       "1                42               Dam    4.891245   52.372727   \n",
       "2                14    E. Wolffstraat    4.867279   52.370288   \n",
       "3                22  Bilderdijkstraat    4.869857   52.370829   \n",
       "4                23   De Clercqstraat    4.870403   52.370616   \n",
       "\n",
       "   AantalVertrekken  weekday  is_weekend  AantalReizigers  \n",
       "0              87.0        0           0            106.0  \n",
       "1              72.0        0           0            114.0  \n",
       "2              11.0        0           0             25.0  \n",
       "3              49.0        0           0             71.0  \n",
       "4              49.0        0           0             72.0  "
      ]
     },
     "execution_count": 11,
     "metadata": {},
     "output_type": "execute_result"
    }
   ],
   "source": [
    "#Contents\n",
    "gvb_df.head()"
   ]
  },
  {
   "cell_type": "markdown",
   "metadata": {},
   "source": [
    "## Amsterdam Event Data"
   ]
  },
  {
   "cell_type": "code",
   "execution_count": 4,
   "metadata": {},
   "outputs": [],
   "source": [
    "#Full Events Dataset\n",
    "events_df = pd.read_csv(\"../../../Data_thesis/Full_Datasets/Events.csv\")"
   ]
  },
  {
   "cell_type": "code",
   "execution_count": 5,
   "metadata": {},
   "outputs": [
    {
     "data": {
      "text/html": [
       "<div>\n",
       "<style scoped>\n",
       "    .dataframe tbody tr th:only-of-type {\n",
       "        vertical-align: middle;\n",
       "    }\n",
       "\n",
       "    .dataframe tbody tr th {\n",
       "        vertical-align: top;\n",
       "    }\n",
       "\n",
       "    .dataframe thead th {\n",
       "        text-align: right;\n",
       "    }\n",
       "</style>\n",
       "<table border=\"1\" class=\"dataframe\">\n",
       "  <thead>\n",
       "    <tr style=\"text-align: right;\">\n",
       "      <th></th>\n",
       "      <th>Event</th>\n",
       "      <th>Latitude</th>\n",
       "      <th>Longtitude</th>\n",
       "      <th>Data</th>\n",
       "    </tr>\n",
       "  </thead>\n",
       "  <tbody>\n",
       "    <tr>\n",
       "      <th>0</th>\n",
       "      <td>Springsnow Festival</td>\n",
       "      <td>52,3726380</td>\n",
       "      <td>4,8941060</td>\n",
       "      <td>{'startdate': '20-04-2018', 'enddate': '20-05-...</td>\n",
       "    </tr>\n",
       "    <tr>\n",
       "      <th>1</th>\n",
       "      <td>Vurige Tongen</td>\n",
       "      <td>52,4103320</td>\n",
       "      <td>4,7490690</td>\n",
       "      <td>{'singles': ['20-05-2018', '21-05-2018']}</td>\n",
       "    </tr>\n",
       "    <tr>\n",
       "      <th>2</th>\n",
       "      <td>Sneakerness</td>\n",
       "      <td>52,3828340</td>\n",
       "      <td>4,9204560</td>\n",
       "      <td>{'singles': ['03-06-2018', '04-06-2018']}</td>\n",
       "    </tr>\n",
       "    <tr>\n",
       "      <th>3</th>\n",
       "      <td>Dutch Raw Food Festival</td>\n",
       "      <td>52,4362550</td>\n",
       "      <td>4,8167080</td>\n",
       "      <td>{'singles': ['17-06-2018']}</td>\n",
       "    </tr>\n",
       "    <tr>\n",
       "      <th>4</th>\n",
       "      <td>Holland Festival</td>\n",
       "      <td>52,3615820</td>\n",
       "      <td>4,8854790</td>\n",
       "      <td>{'singles': ['02-06-2018', '03-06-2018', '04-0...</td>\n",
       "    </tr>\n",
       "  </tbody>\n",
       "</table>\n",
       "</div>"
      ],
      "text/plain": [
       "                     Event    Latitude Longtitude  \\\n",
       "0      Springsnow Festival  52,3726380  4,8941060   \n",
       "1            Vurige Tongen  52,4103320  4,7490690   \n",
       "2              Sneakerness  52,3828340  4,9204560   \n",
       "3  Dutch Raw Food Festival  52,4362550  4,8167080   \n",
       "4         Holland Festival  52,3615820  4,8854790   \n",
       "\n",
       "                                                Data  \n",
       "0  {'startdate': '20-04-2018', 'enddate': '20-05-...  \n",
       "1          {'singles': ['20-05-2018', '21-05-2018']}  \n",
       "2          {'singles': ['03-06-2018', '04-06-2018']}  \n",
       "3                        {'singles': ['17-06-2018']}  \n",
       "4  {'singles': ['02-06-2018', '03-06-2018', '04-0...  "
      ]
     },
     "execution_count": 5,
     "metadata": {},
     "output_type": "execute_result"
    }
   ],
   "source": [
    "events_df.head()"
   ]
  },
  {
   "cell_type": "markdown",
   "metadata": {},
   "source": [
    "## Crowdedness Data"
   ]
  },
  {
   "cell_type": "code",
   "execution_count": 6,
   "metadata": {},
   "outputs": [],
   "source": [
    "#Full Crowdedness Dataset\n",
    "crowd_df = pd.read_csv(\"../../../Data_thesis/Full_Datasets/Crowdedness.csv\")"
   ]
  },
  {
   "cell_type": "code",
   "execution_count": 7,
   "metadata": {},
   "outputs": [
    {
     "data": {
      "text/html": [
       "<div>\n",
       "<style scoped>\n",
       "    .dataframe tbody tr th:only-of-type {\n",
       "        vertical-align: middle;\n",
       "    }\n",
       "\n",
       "    .dataframe tbody tr th {\n",
       "        vertical-align: top;\n",
       "    }\n",
       "\n",
       "    .dataframe thead th {\n",
       "        text-align: right;\n",
       "    }\n",
       "</style>\n",
       "<table border=\"1\" class=\"dataframe\">\n",
       "  <thead>\n",
       "    <tr style=\"text-align: right;\">\n",
       "      <th></th>\n",
       "      <th>richting</th>\n",
       "      <th>datum</th>\n",
       "      <th>jaar</th>\n",
       "      <th>maand</th>\n",
       "      <th>dag</th>\n",
       "      <th>uur</th>\n",
       "      <th>SampleCount</th>\n",
       "    </tr>\n",
       "  </thead>\n",
       "  <tbody>\n",
       "    <tr>\n",
       "      <th>0</th>\n",
       "      <td>2</td>\n",
       "      <td>2018-03-11</td>\n",
       "      <td>2018</td>\n",
       "      <td>3</td>\n",
       "      <td>11</td>\n",
       "      <td>0</td>\n",
       "      <td>0</td>\n",
       "    </tr>\n",
       "    <tr>\n",
       "      <th>1</th>\n",
       "      <td>2</td>\n",
       "      <td>2018-03-11</td>\n",
       "      <td>2018</td>\n",
       "      <td>3</td>\n",
       "      <td>11</td>\n",
       "      <td>1</td>\n",
       "      <td>0</td>\n",
       "    </tr>\n",
       "    <tr>\n",
       "      <th>2</th>\n",
       "      <td>2</td>\n",
       "      <td>2018-03-11</td>\n",
       "      <td>2018</td>\n",
       "      <td>3</td>\n",
       "      <td>11</td>\n",
       "      <td>2</td>\n",
       "      <td>0</td>\n",
       "    </tr>\n",
       "    <tr>\n",
       "      <th>3</th>\n",
       "      <td>2</td>\n",
       "      <td>2018-03-11</td>\n",
       "      <td>2018</td>\n",
       "      <td>3</td>\n",
       "      <td>11</td>\n",
       "      <td>3</td>\n",
       "      <td>0</td>\n",
       "    </tr>\n",
       "    <tr>\n",
       "      <th>4</th>\n",
       "      <td>2</td>\n",
       "      <td>2018-03-11</td>\n",
       "      <td>2018</td>\n",
       "      <td>3</td>\n",
       "      <td>11</td>\n",
       "      <td>4</td>\n",
       "      <td>0</td>\n",
       "    </tr>\n",
       "  </tbody>\n",
       "</table>\n",
       "</div>"
      ],
      "text/plain": [
       "  richting       datum  jaar  maand  dag  uur  SampleCount\n",
       "0        2  2018-03-11  2018      3   11    0            0\n",
       "1        2  2018-03-11  2018      3   11    1            0\n",
       "2        2  2018-03-11  2018      3   11    2            0\n",
       "3        2  2018-03-11  2018      3   11    3            0\n",
       "4        2  2018-03-11  2018      3   11    4            0"
      ]
     },
     "execution_count": 7,
     "metadata": {},
     "output_type": "execute_result"
    }
   ],
   "source": [
    "crowd_df.head()"
   ]
  },
  {
   "cell_type": "markdown",
   "metadata": {},
   "source": [
    "# Data Preperation"
   ]
  },
  {
   "cell_type": "markdown",
   "metadata": {},
   "source": [
    "## Train/Test Split\n",
    "Split the dataset into training and test data, using a [function from Sklearn](https://scikit-learn.org/stable/modules/generated/sklearn.model_selection.train_test_split.html)\n",
    "\n",
    "#### Train_Test_split Parameters\n",
    "- *input*: \n",
    "    - *x*: data used to predict laballed data\n",
    "        - Hour slot\n",
    "        - Weekday (int)\n",
    "        - Weekend (Binary)\n",
    "    - *y*: laballed data\n",
    "        - Number of rides (int)\n",
    "- *test_size*: Proportion of total data used as test data, rest is training data\n",
    "- *random_state*: Number used as seed by the *Random Number Generator* "
   ]
  },
  {
   "cell_type": "code",
   "execution_count": 8,
   "metadata": {},
   "outputs": [],
   "source": [
    "#Drop Unusable columns\n",
    "gvb_df = gvb_df.drop(columns=[\"Datum\", \"VertrekHalteNaam\", \"AankomstHalteNaam\", \"AantalAankomsten\", \"AantalVertrekken\"])\n",
    "\n",
    "#Select only the values from each row\n",
    "data = gvb_df.values\n",
    "\n",
    "#Split the labels from the rest\n",
    "x = data[:, :7]\n",
    "y = data[:, 7]\n",
    "\n",
    "x_train, x_test, y_train, y_test = train_test_split(x, y, test_size = 0.1, random_state = 42)"
   ]
  },
  {
   "cell_type": "code",
   "execution_count": 9,
   "metadata": {},
   "outputs": [
    {
     "data": {
      "text/plain": [
       "array([[1.50000000e+03, 4.91829259e+00, 5.23853212e+01, 4.88932991e+00,\n",
       "        5.23693307e+01, 0.00000000e+00, 0.00000000e+00],\n",
       "       [1.70000000e+03, 4.95544506e+00, 5.23350145e+01, 4.89373093e+00,\n",
       "        5.23762877e+01, 2.00000000e+00, 0.00000000e+00],\n",
       "       [2.10000000e+03, 4.78689401e+00, 5.23555627e+01, 4.89027056e+00,\n",
       "        5.23731814e+01, 2.00000000e+00, 0.00000000e+00]])"
      ]
     },
     "execution_count": 9,
     "metadata": {},
     "output_type": "execute_result"
    }
   ],
   "source": [
    "#First three rows explanatory variables of the training set\n",
    "x_train[:3]"
   ]
  },
  {
   "cell_type": "code",
   "execution_count": 10,
   "metadata": {},
   "outputs": [
    {
     "data": {
      "text/plain": [
       "array([34., 35., 62.])"
      ]
     },
     "execution_count": 10,
     "metadata": {},
     "output_type": "execute_result"
    }
   ],
   "source": [
    "#First three rows response variable training set\n",
    "y_train[:3]"
   ]
  },
  {
   "cell_type": "code",
   "execution_count": 11,
   "metadata": {},
   "outputs": [
    {
     "data": {
      "text/html": [
       "<div>\n",
       "<style scoped>\n",
       "    .dataframe tbody tr th:only-of-type {\n",
       "        vertical-align: middle;\n",
       "    }\n",
       "\n",
       "    .dataframe tbody tr th {\n",
       "        vertical-align: top;\n",
       "    }\n",
       "\n",
       "    .dataframe thead th {\n",
       "        text-align: right;\n",
       "    }\n",
       "</style>\n",
       "<table border=\"1\" class=\"dataframe\">\n",
       "  <thead>\n",
       "    <tr style=\"text-align: right;\">\n",
       "      <th></th>\n",
       "      <th>Uurgroep</th>\n",
       "      <th>AankomstLat</th>\n",
       "      <th>AankomstLon</th>\n",
       "      <th>VertrekLat</th>\n",
       "      <th>VertrekLon</th>\n",
       "      <th>weekday</th>\n",
       "      <th>is_weekend</th>\n",
       "      <th>AantalReizigers</th>\n",
       "    </tr>\n",
       "  </thead>\n",
       "  <tbody>\n",
       "    <tr>\n",
       "      <th>0</th>\n",
       "      <td>0</td>\n",
       "      <td>4.803229</td>\n",
       "      <td>52.359132</td>\n",
       "      <td>4.891309</td>\n",
       "      <td>52.373554</td>\n",
       "      <td>0</td>\n",
       "      <td>0</td>\n",
       "      <td>106.0</td>\n",
       "    </tr>\n",
       "    <tr>\n",
       "      <th>1</th>\n",
       "      <td>0</td>\n",
       "      <td>4.809944</td>\n",
       "      <td>52.356369</td>\n",
       "      <td>4.891245</td>\n",
       "      <td>52.372727</td>\n",
       "      <td>0</td>\n",
       "      <td>0</td>\n",
       "      <td>114.0</td>\n",
       "    </tr>\n",
       "    <tr>\n",
       "      <th>2</th>\n",
       "      <td>0</td>\n",
       "      <td>4.895494</td>\n",
       "      <td>52.374929</td>\n",
       "      <td>4.867279</td>\n",
       "      <td>52.370288</td>\n",
       "      <td>0</td>\n",
       "      <td>0</td>\n",
       "      <td>25.0</td>\n",
       "    </tr>\n",
       "    <tr>\n",
       "      <th>3</th>\n",
       "      <td>0</td>\n",
       "      <td>4.890646</td>\n",
       "      <td>52.372446</td>\n",
       "      <td>4.869857</td>\n",
       "      <td>52.370829</td>\n",
       "      <td>0</td>\n",
       "      <td>0</td>\n",
       "      <td>71.0</td>\n",
       "    </tr>\n",
       "    <tr>\n",
       "      <th>4</th>\n",
       "      <td>0</td>\n",
       "      <td>4.893731</td>\n",
       "      <td>52.376288</td>\n",
       "      <td>4.870403</td>\n",
       "      <td>52.370616</td>\n",
       "      <td>0</td>\n",
       "      <td>0</td>\n",
       "      <td>72.0</td>\n",
       "    </tr>\n",
       "  </tbody>\n",
       "</table>\n",
       "</div>"
      ],
      "text/plain": [
       "   Uurgroep  AankomstLat  AankomstLon  VertrekLat  VertrekLon  weekday  \\\n",
       "0         0     4.803229    52.359132    4.891309   52.373554        0   \n",
       "1         0     4.809944    52.356369    4.891245   52.372727        0   \n",
       "2         0     4.895494    52.374929    4.867279   52.370288        0   \n",
       "3         0     4.890646    52.372446    4.869857   52.370829        0   \n",
       "4         0     4.893731    52.376288    4.870403   52.370616        0   \n",
       "\n",
       "   is_weekend  AantalReizigers  \n",
       "0           0            106.0  \n",
       "1           0            114.0  \n",
       "2           0             25.0  \n",
       "3           0             71.0  \n",
       "4           0             72.0  "
      ]
     },
     "execution_count": 11,
     "metadata": {},
     "output_type": "execute_result"
    }
   ],
   "source": [
    "gvb_df.head()"
   ]
  },
  {
   "cell_type": "markdown",
   "metadata": {},
   "source": [
    "# Models"
   ]
  },
  {
   "cell_type": "markdown",
   "metadata": {},
   "source": [
    "## Random Forrest Regressor\n",
    "Implement the [Sklearn Version](https://scikit-learn.org/stable/modules/generated/sklearn.ensemble.RandomForestRegressor.html)\n",
    "\n",
    "Parameters\n",
    "- *N-Estimators*: Number of trees in the model\n",
    "- *criterion*: loss function\n",
    "- *n_jobs*: The number of jobs to run in parallel for both fit and predict\n",
    "- *random_state*: random_state is the seed used by the random number generator\n",
    "- *bootstrap*: Whether bootstrap samples are used when building trees"
   ]
  },
  {
   "cell_type": "code",
   "execution_count": 12,
   "metadata": {},
   "outputs": [],
   "source": [
    "#Set parameters model\n",
    "rfg = RandomForestRegressor(n_estimators=100, criterion=\"mse\", n_jobs=5, random_state=42, bootstrap=True)"
   ]
  },
  {
   "cell_type": "code",
   "execution_count": 13,
   "metadata": {},
   "outputs": [
    {
     "data": {
      "text/plain": [
       "RandomForestRegressor(bootstrap=True, criterion='mse', max_depth=None,\n",
       "           max_features='auto', max_leaf_nodes=None,\n",
       "           min_impurity_decrease=0.0, min_impurity_split=None,\n",
       "           min_samples_leaf=1, min_samples_split=2,\n",
       "           min_weight_fraction_leaf=0.0, n_estimators=100, n_jobs=5,\n",
       "           oob_score=False, random_state=42, verbose=0, warm_start=False)"
      ]
     },
     "execution_count": 13,
     "metadata": {},
     "output_type": "execute_result"
    }
   ],
   "source": [
    "#fit the model\n",
    "rfg.fit(x_train, y_train)"
   ]
  },
  {
   "cell_type": "code",
   "execution_count": 14,
   "metadata": {},
   "outputs": [
    {
     "name": "stdout",
     "output_type": "stream",
     "text": [
      "Accuracy:  0.6591519389178006\n"
     ]
    }
   ],
   "source": [
    "#Score the model\n",
    "rfg_score = rfg.score(x_test, y_test)\n",
    "print(\"Accuracy: \", rfg_score)"
   ]
  }
 ],
 "metadata": {
  "kernelspec": {
   "display_name": "Python 3",
   "language": "python",
   "name": "python3"
  },
  "language_info": {
   "codemirror_mode": {
    "name": "ipython",
    "version": 3
   },
   "file_extension": ".py",
   "mimetype": "text/x-python",
   "name": "python",
   "nbconvert_exporter": "python",
   "pygments_lexer": "ipython3",
   "version": "3.7.1"
  }
 },
 "nbformat": 4,
 "nbformat_minor": 2
}
