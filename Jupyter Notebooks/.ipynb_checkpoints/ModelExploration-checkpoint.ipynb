{
 "cells": [
  {
   "cell_type": "markdown",
   "metadata": {},
   "source": [
    "# Model Exploration"
   ]
  },
  {
   "cell_type": "markdown",
   "metadata": {},
   "source": [
    "## Table of Contents\n",
    "1. [Imports](#imports)\n",
    "2. [Import_Data](#importData)\n",
    "    1. [GVB_Data](#GVBData)\n",
    "    2. [Amsterdam_Event_Data](#EventData)\n",
    "    3. [Crowdedness_Data](#CrowdData)\n",
    "3. [Data_Preperation](#DataPrep)\n",
    "    1. [Combine_Datasets](#CombData)\n",
    "    2. [Construct_Model_DataFrame](#testModel)\n",
    "4. [Regression_Models](#regModels)\n",
    "    1. [Split_Train_and_Test_Data](#trainTestSplit)\n",
    "    2. [Baseline](#regBaseModel)\n",
    "    3. [Random_Forrest_Regressor](#regRFGModel)\n",
    "    4. [Gradient_Boosting_Regressor](#regGBRModel)\n",
    "    5. [Lasso](#regABRModel)\n",
    "5. [Classification_Models](#classification)\n",
    "    1. [Numerical_Labels_to_Categorical_Labels](#classCatVar)\n",
    "    2. [Split_Train_and Test_Data](#classTrainSplit)\n",
    "    3. [Baseline](#classBaseModel)\n",
    "    4. [Random_Forrest_Classifier](#classRFCModel)\n",
    "    5. [Gradient_Boosting_Classification](#classGBCModel)\n",
    "    6. [SGD](#classSGDModel)\n",
    "    7. [Voting_Classification](#classVCModel)"
   ]
  },
  {
   "cell_type": "markdown",
   "metadata": {},
   "source": [
    "## Imports <a name=\"imports\"></a>"
   ]
  },
  {
   "cell_type": "code",
   "execution_count": 31,
   "metadata": {},
   "outputs": [],
   "source": [
    "#Train/Test section\n",
    "from sklearn.model_selection import train_test_split\n",
    "\n",
    "#Regression Models\n",
    "from sklearn.linear_model import LinearRegression\n",
    "from sklearn.ensemble import RandomForestRegressor\n",
    "from sklearn.ensemble import GradientBoostingRegressor\n",
    "from sklearn.linear_model import LassoCV\n",
    "\n",
    "#Regression Metrics\n",
    "from sklearn.metrics import mean_squared_error\n",
    "\n",
    "#Classification Models\n",
    "from scipy.stats import norm\n",
    "from sklearn.dummy import DummyClassifier\n",
    "from sklearn.ensemble import RandomForestClassifier\n",
    "from sklearn.ensemble import GradientBoostingClassifier\n",
    "from sklearn.linear_model import SGDClassifier\n",
    "from sklearn.ensemble import VotingClassifier\n",
    "\n",
    "#Classification Metrics\n",
    "from sklearn.metrics import classification_report\n",
    "from sklearn.metrics import accuracy_score\n",
    "\n",
    "import pandas as pd\n",
    "import json\n",
    "import numpy as np\n",
    "import matplotlib.pyplot as plt\n",
    "%matplotlib inline\n",
    "\n",
    "from yellowbrick.classifier import ClassPredictionError\n",
    "from yellowbrick.regressor import PredictionError\n",
    "from yellowbrick.features import Rank1D\n",
    "from yellowbrick.features import Rank2D\n",
    "from yellowbrick.features import RadViz\n",
    "\n",
    "import datetime"
   ]
  },
  {
   "cell_type": "markdown",
   "metadata": {},
   "source": [
    "## Import Data <a name=\"importData\"></a>"
   ]
  },
  {
   "cell_type": "markdown",
   "metadata": {},
   "source": [
    "### Crowdedness Data <a name=\"CrowdData\"></a>"
   ]
  },
  {
   "cell_type": "code",
   "execution_count": 143,
   "metadata": {},
   "outputs": [],
   "source": [
    "#Full Crowdedness Dataset\n",
    "crowd_df = pd.read_csv(\"../../../Data_thesis/Full_Datasets/Crowdedness.csv\")"
   ]
  },
  {
   "cell_type": "code",
   "execution_count": 144,
   "metadata": {},
   "outputs": [],
   "source": [
    "#Convert DF to Dict\n",
    "crowd_dict = crowd_df.to_dict(\"index\")\n",
    "\n",
    "#Transform date from string to datetime object\n",
    "for k, v in crowd_dict.items():\n",
    "    v[\"Date\"] = pd.Timestamp.strptime(v[\"Date\"], \"%Y-%m-%d\")\n",
    "    \n",
    "#Convert back to dict\n",
    "crowd_df = pd.DataFrame.from_dict(crowd_dict, orient=\"index\")"
   ]
  },
  {
   "cell_type": "code",
   "execution_count": 145,
   "metadata": {},
   "outputs": [],
   "source": [
    "crowd_df = crowd_df.sort_values(by=[\"Date\"]).reset_index().drop(columns=[\"index\"])"
   ]
  },
  {
   "cell_type": "code",
   "execution_count": 146,
   "metadata": {},
   "outputs": [],
   "source": [
    "# Start data\n",
    "start_date = crowd_df.min().Date\n",
    "\n",
    "# End date\n",
    "end_date = crowd_df.max().Date"
   ]
  },
  {
   "cell_type": "code",
   "execution_count": 98,
   "metadata": {},
   "outputs": [
    {
     "data": {
      "text/html": [
       "<div>\n",
       "<style scoped>\n",
       "    .dataframe tbody tr th:only-of-type {\n",
       "        vertical-align: middle;\n",
       "    }\n",
       "\n",
       "    .dataframe tbody tr th {\n",
       "        vertical-align: top;\n",
       "    }\n",
       "\n",
       "    .dataframe thead th {\n",
       "        text-align: right;\n",
       "    }\n",
       "</style>\n",
       "<table border=\"1\" class=\"dataframe\">\n",
       "  <thead>\n",
       "    <tr style=\"text-align: right;\">\n",
       "      <th></th>\n",
       "      <th>Sensor</th>\n",
       "      <th>Date</th>\n",
       "      <th>Hour</th>\n",
       "      <th>SensorLongitude</th>\n",
       "      <th>SensorLatitude</th>\n",
       "      <th>CrowdednessCount</th>\n",
       "    </tr>\n",
       "  </thead>\n",
       "  <tbody>\n",
       "    <tr>\n",
       "      <th>0</th>\n",
       "      <td>GAWW-02</td>\n",
       "      <td>2018-03-11</td>\n",
       "      <td>0</td>\n",
       "      <td>4.898903</td>\n",
       "      <td>52.373786</td>\n",
       "      <td>0</td>\n",
       "    </tr>\n",
       "    <tr>\n",
       "      <th>1</th>\n",
       "      <td>GAWW-02</td>\n",
       "      <td>2018-03-11</td>\n",
       "      <td>400</td>\n",
       "      <td>4.898903</td>\n",
       "      <td>52.373786</td>\n",
       "      <td>0</td>\n",
       "    </tr>\n",
       "    <tr>\n",
       "      <th>2</th>\n",
       "      <td>GAWW-02</td>\n",
       "      <td>2018-03-11</td>\n",
       "      <td>1200</td>\n",
       "      <td>4.898903</td>\n",
       "      <td>52.373786</td>\n",
       "      <td>0</td>\n",
       "    </tr>\n",
       "    <tr>\n",
       "      <th>3</th>\n",
       "      <td>GAWW-02</td>\n",
       "      <td>2018-03-11</td>\n",
       "      <td>300</td>\n",
       "      <td>4.898903</td>\n",
       "      <td>52.373786</td>\n",
       "      <td>0</td>\n",
       "    </tr>\n",
       "    <tr>\n",
       "      <th>4</th>\n",
       "      <td>GAWW-02</td>\n",
       "      <td>2018-03-11</td>\n",
       "      <td>1000</td>\n",
       "      <td>4.898903</td>\n",
       "      <td>52.373786</td>\n",
       "      <td>0</td>\n",
       "    </tr>\n",
       "  </tbody>\n",
       "</table>\n",
       "</div>"
      ],
      "text/plain": [
       "    Sensor       Date  Hour  SensorLongitude  SensorLatitude  CrowdednessCount\n",
       "0  GAWW-02 2018-03-11     0         4.898903       52.373786                 0\n",
       "1  GAWW-02 2018-03-11   400         4.898903       52.373786                 0\n",
       "2  GAWW-02 2018-03-11  1200         4.898903       52.373786                 0\n",
       "3  GAWW-02 2018-03-11   300         4.898903       52.373786                 0\n",
       "4  GAWW-02 2018-03-11  1000         4.898903       52.373786                 0"
      ]
     },
     "execution_count": 98,
     "metadata": {},
     "output_type": "execute_result"
    }
   ],
   "source": [
    "crowd_df.head()"
   ]
  },
  {
   "cell_type": "markdown",
   "metadata": {},
   "source": [
    "### Amsterdam Event Data <a name=\"EventData\"></a>\n",
    "Import Amsterdam Event Data"
   ]
  },
  {
   "cell_type": "code",
   "execution_count": 148,
   "metadata": {},
   "outputs": [],
   "source": [
    "#Full Events Dataset\n",
    "events_df = pd.read_csv(\"../../../Data_thesis/Full_Datasets/Events.csv\")"
   ]
  },
  {
   "cell_type": "code",
   "execution_count": 149,
   "metadata": {},
   "outputs": [],
   "source": [
    "#Convert DF to Dict\n",
    "events_dict = events_df.to_dict(\"index\")\n",
    "\n",
    "#Transform date from string to datetime object\n",
    "for k, v in events_dict.items():\n",
    "    v[\"Date\"] = pd.Timestamp.strptime(v[\"Date\"], \"%Y-%m-%d\")\n",
    "    \n",
    "#Convert back to dict\n",
    "events_df = pd.DataFrame.from_dict(events_dict, orient=\"index\")"
   ]
  },
  {
   "cell_type": "code",
   "execution_count": 150,
   "metadata": {},
   "outputs": [],
   "source": [
    "events_df = events_df[(events_df[\"Date\"] > start_date) & (events_df[\"Date\"] < end_date)].reset_index().drop(columns=[\"index\"])"
   ]
  },
  {
   "cell_type": "code",
   "execution_count": 151,
   "metadata": {},
   "outputs": [
    {
     "data": {
      "text/html": [
       "<div>\n",
       "<style scoped>\n",
       "    .dataframe tbody tr th:only-of-type {\n",
       "        vertical-align: middle;\n",
       "    }\n",
       "\n",
       "    .dataframe tbody tr th {\n",
       "        vertical-align: top;\n",
       "    }\n",
       "\n",
       "    .dataframe thead th {\n",
       "        text-align: right;\n",
       "    }\n",
       "</style>\n",
       "<table border=\"1\" class=\"dataframe\">\n",
       "  <thead>\n",
       "    <tr style=\"text-align: right;\">\n",
       "      <th></th>\n",
       "      <th>Date</th>\n",
       "      <th>Event</th>\n",
       "      <th>Latitude</th>\n",
       "      <th>Longtitude</th>\n",
       "    </tr>\n",
       "  </thead>\n",
       "  <tbody>\n",
       "    <tr>\n",
       "      <th>0</th>\n",
       "      <td>2018-04-20</td>\n",
       "      <td>Springsnow Festival</td>\n",
       "      <td>52.372638</td>\n",
       "      <td>4.894106</td>\n",
       "    </tr>\n",
       "    <tr>\n",
       "      <th>1</th>\n",
       "      <td>2018-05-20</td>\n",
       "      <td>Springsnow Festival</td>\n",
       "      <td>52.372638</td>\n",
       "      <td>4.894106</td>\n",
       "    </tr>\n",
       "    <tr>\n",
       "      <th>2</th>\n",
       "      <td>2018-06-02</td>\n",
       "      <td>Holland Festival</td>\n",
       "      <td>52.361582</td>\n",
       "      <td>4.885479</td>\n",
       "    </tr>\n",
       "    <tr>\n",
       "      <th>3</th>\n",
       "      <td>2018-06-03</td>\n",
       "      <td>Holland Festival</td>\n",
       "      <td>52.361582</td>\n",
       "      <td>4.885479</td>\n",
       "    </tr>\n",
       "    <tr>\n",
       "      <th>4</th>\n",
       "      <td>2018-06-04</td>\n",
       "      <td>Holland Festival</td>\n",
       "      <td>52.361582</td>\n",
       "      <td>4.885479</td>\n",
       "    </tr>\n",
       "  </tbody>\n",
       "</table>\n",
       "</div>"
      ],
      "text/plain": [
       "        Date                Event   Latitude  Longtitude\n",
       "0 2018-04-20  Springsnow Festival  52.372638    4.894106\n",
       "1 2018-05-20  Springsnow Festival  52.372638    4.894106\n",
       "2 2018-06-02     Holland Festival  52.361582    4.885479\n",
       "3 2018-06-03     Holland Festival  52.361582    4.885479\n",
       "4 2018-06-04     Holland Festival  52.361582    4.885479"
      ]
     },
     "execution_count": 151,
     "metadata": {},
     "output_type": "execute_result"
    }
   ],
   "source": [
    "events_df.head()"
   ]
  },
  {
   "cell_type": "markdown",
   "metadata": {},
   "source": [
    "### GVB Data <a name=\"GVBData\"></a>\n",
    "Import the GVB data and convert the Date column to [Pandas Timestamp](https://pandas.pydata.org/pandas-docs/stable/reference/api/pandas.Timestamp.html). Aftwerwards the dataset is split into the following two sets:\n",
    "- Training: All data before the given *series_date*\n",
    "    - Used for training and validating the model\n",
    "- Series: All data before the given *series_date*\n",
    "    - Used to construct a Time Series"
   ]
  },
  {
   "cell_type": "code",
   "execution_count": 152,
   "metadata": {},
   "outputs": [],
   "source": [
    "#Full GVB Dataset\n",
    "gvb_df = pd.read_csv(\"../../../Data_thesis/Full_Datasets/GVB.csv\")"
   ]
  },
  {
   "cell_type": "code",
   "execution_count": 153,
   "metadata": {},
   "outputs": [],
   "source": [
    "#Convert DF to Dict\n",
    "gvb_dict = gvb_df.to_dict(\"index\")\n",
    "\n",
    "#Transform date from string to datetime object\n",
    "for k, v in gvb_dict.items():\n",
    "    v[\"Date\"] = pd.Timestamp.strptime(v[\"Date\"], \"%Y-%m-%d\")\n",
    "    \n",
    "#Convert back to dict\n",
    "gvb_df = pd.DataFrame.from_dict(gvb_dict, orient=\"index\")"
   ]
  },
  {
   "cell_type": "code",
   "execution_count": 154,
   "metadata": {},
   "outputs": [],
   "source": [
    "gvb_df = gvb_df[(gvb_df[\"Date\"] > start_date) & (gvb_df[\"Date\"] < end_date)].reset_index().drop(columns=[\"index\"])"
   ]
  },
  {
   "cell_type": "code",
   "execution_count": 155,
   "metadata": {},
   "outputs": [
    {
     "data": {
      "text/html": [
       "<div>\n",
       "<style scoped>\n",
       "    .dataframe tbody tr th:only-of-type {\n",
       "        vertical-align: middle;\n",
       "    }\n",
       "\n",
       "    .dataframe tbody tr th {\n",
       "        vertical-align: top;\n",
       "    }\n",
       "\n",
       "    .dataframe thead th {\n",
       "        text-align: right;\n",
       "    }\n",
       "</style>\n",
       "<table border=\"1\" class=\"dataframe\">\n",
       "  <thead>\n",
       "    <tr style=\"text-align: right;\">\n",
       "      <th></th>\n",
       "      <th>Date</th>\n",
       "      <th>Hour</th>\n",
       "      <th>NieuwmarktCode</th>\n",
       "      <th>NieuwmarktLat</th>\n",
       "      <th>NieuwmarktLon</th>\n",
       "      <th>NieuwmarktArrivals</th>\n",
       "      <th>NieuwmarktDepartures</th>\n",
       "      <th>NieuwezijdsCode</th>\n",
       "      <th>NieuwezijdsLat</th>\n",
       "      <th>NieuwezijdsLon</th>\n",
       "      <th>...</th>\n",
       "      <th>DamLon</th>\n",
       "      <th>DamArrivals</th>\n",
       "      <th>DamDepartures</th>\n",
       "      <th>SpuiCode</th>\n",
       "      <th>SpuiLat</th>\n",
       "      <th>SpuiLon</th>\n",
       "      <th>SpuiArrivals</th>\n",
       "      <th>SpuiDepartures</th>\n",
       "      <th>weekday</th>\n",
       "      <th>is_weekend</th>\n",
       "    </tr>\n",
       "  </thead>\n",
       "  <tbody>\n",
       "    <tr>\n",
       "      <th>0</th>\n",
       "      <td>2018-04-01</td>\n",
       "      <td>0</td>\n",
       "      <td>NMT</td>\n",
       "      <td>52.371942</td>\n",
       "      <td>4.901239</td>\n",
       "      <td>31.0</td>\n",
       "      <td>115.0</td>\n",
       "      <td>5069</td>\n",
       "      <td>52.376288</td>\n",
       "      <td>4.893731</td>\n",
       "      <td>...</td>\n",
       "      <td>4.89008</td>\n",
       "      <td>43.0</td>\n",
       "      <td>254.0</td>\n",
       "      <td>5062</td>\n",
       "      <td>52.369097</td>\n",
       "      <td>4.889259</td>\n",
       "      <td>0.0</td>\n",
       "      <td>46.0</td>\n",
       "      <td>6</td>\n",
       "      <td>1</td>\n",
       "    </tr>\n",
       "    <tr>\n",
       "      <th>1</th>\n",
       "      <td>2018-04-01</td>\n",
       "      <td>600</td>\n",
       "      <td>NMT</td>\n",
       "      <td>52.371942</td>\n",
       "      <td>4.901239</td>\n",
       "      <td>67.0</td>\n",
       "      <td>50.0</td>\n",
       "      <td>5069</td>\n",
       "      <td>52.376288</td>\n",
       "      <td>4.893731</td>\n",
       "      <td>...</td>\n",
       "      <td>4.89008</td>\n",
       "      <td>129.0</td>\n",
       "      <td>0.0</td>\n",
       "      <td>5062</td>\n",
       "      <td>52.369097</td>\n",
       "      <td>4.889259</td>\n",
       "      <td>11.0</td>\n",
       "      <td>0.0</td>\n",
       "      <td>6</td>\n",
       "      <td>1</td>\n",
       "    </tr>\n",
       "    <tr>\n",
       "      <th>2</th>\n",
       "      <td>2018-04-01</td>\n",
       "      <td>700</td>\n",
       "      <td>NMT</td>\n",
       "      <td>52.371942</td>\n",
       "      <td>4.901239</td>\n",
       "      <td>99.0</td>\n",
       "      <td>120.0</td>\n",
       "      <td>5069</td>\n",
       "      <td>52.376288</td>\n",
       "      <td>4.893731</td>\n",
       "      <td>...</td>\n",
       "      <td>4.89008</td>\n",
       "      <td>174.0</td>\n",
       "      <td>57.0</td>\n",
       "      <td>5062</td>\n",
       "      <td>52.369097</td>\n",
       "      <td>4.889259</td>\n",
       "      <td>54.0</td>\n",
       "      <td>17.0</td>\n",
       "      <td>6</td>\n",
       "      <td>1</td>\n",
       "    </tr>\n",
       "    <tr>\n",
       "      <th>3</th>\n",
       "      <td>2018-04-01</td>\n",
       "      <td>800</td>\n",
       "      <td>NMT</td>\n",
       "      <td>52.371942</td>\n",
       "      <td>4.901239</td>\n",
       "      <td>222.0</td>\n",
       "      <td>236.0</td>\n",
       "      <td>5069</td>\n",
       "      <td>52.376288</td>\n",
       "      <td>4.893731</td>\n",
       "      <td>...</td>\n",
       "      <td>4.89008</td>\n",
       "      <td>491.0</td>\n",
       "      <td>111.0</td>\n",
       "      <td>5062</td>\n",
       "      <td>52.369097</td>\n",
       "      <td>4.889259</td>\n",
       "      <td>139.0</td>\n",
       "      <td>64.0</td>\n",
       "      <td>6</td>\n",
       "      <td>1</td>\n",
       "    </tr>\n",
       "    <tr>\n",
       "      <th>4</th>\n",
       "      <td>2018-04-01</td>\n",
       "      <td>900</td>\n",
       "      <td>NMT</td>\n",
       "      <td>52.371942</td>\n",
       "      <td>4.901239</td>\n",
       "      <td>269.0</td>\n",
       "      <td>169.0</td>\n",
       "      <td>5069</td>\n",
       "      <td>52.376288</td>\n",
       "      <td>4.893731</td>\n",
       "      <td>...</td>\n",
       "      <td>4.89008</td>\n",
       "      <td>764.0</td>\n",
       "      <td>151.0</td>\n",
       "      <td>5062</td>\n",
       "      <td>52.369097</td>\n",
       "      <td>4.889259</td>\n",
       "      <td>215.0</td>\n",
       "      <td>61.0</td>\n",
       "      <td>6</td>\n",
       "      <td>1</td>\n",
       "    </tr>\n",
       "  </tbody>\n",
       "</table>\n",
       "<p>5 rows × 24 columns</p>\n",
       "</div>"
      ],
      "text/plain": [
       "        Date  Hour NieuwmarktCode  NieuwmarktLat  NieuwmarktLon  \\\n",
       "0 2018-04-01     0            NMT      52.371942       4.901239   \n",
       "1 2018-04-01   600            NMT      52.371942       4.901239   \n",
       "2 2018-04-01   700            NMT      52.371942       4.901239   \n",
       "3 2018-04-01   800            NMT      52.371942       4.901239   \n",
       "4 2018-04-01   900            NMT      52.371942       4.901239   \n",
       "\n",
       "   NieuwmarktArrivals  NieuwmarktDepartures  NieuwezijdsCode  NieuwezijdsLat  \\\n",
       "0                31.0                 115.0             5069       52.376288   \n",
       "1                67.0                  50.0             5069       52.376288   \n",
       "2                99.0                 120.0             5069       52.376288   \n",
       "3               222.0                 236.0             5069       52.376288   \n",
       "4               269.0                 169.0             5069       52.376288   \n",
       "\n",
       "   NieuwezijdsLon  ...   DamLon  DamArrivals  DamDepartures  SpuiCode  \\\n",
       "0        4.893731  ...  4.89008         43.0          254.0      5062   \n",
       "1        4.893731  ...  4.89008        129.0            0.0      5062   \n",
       "2        4.893731  ...  4.89008        174.0           57.0      5062   \n",
       "3        4.893731  ...  4.89008        491.0          111.0      5062   \n",
       "4        4.893731  ...  4.89008        764.0          151.0      5062   \n",
       "\n",
       "     SpuiLat   SpuiLon  SpuiArrivals  SpuiDepartures  weekday  is_weekend  \n",
       "0  52.369097  4.889259           0.0            46.0        6           1  \n",
       "1  52.369097  4.889259          11.0             0.0        6           1  \n",
       "2  52.369097  4.889259          54.0            17.0        6           1  \n",
       "3  52.369097  4.889259         139.0            64.0        6           1  \n",
       "4  52.369097  4.889259         215.0            61.0        6           1  \n",
       "\n",
       "[5 rows x 24 columns]"
      ]
     },
     "execution_count": 155,
     "metadata": {},
     "output_type": "execute_result"
    }
   ],
   "source": [
    "#Contents\n",
    "gvb_df.head()"
   ]
  },
  {
   "cell_type": "markdown",
   "metadata": {},
   "source": [
    "## Data Preperation <a name=\"DataPrep\"></a>"
   ]
  },
  {
   "cell_type": "markdown",
   "metadata": {},
   "source": [
    "### Combine datasets <a name=\"CombData\"></a>"
   ]
  },
  {
   "cell_type": "code",
   "execution_count": 156,
   "metadata": {},
   "outputs": [],
   "source": [
    "gvb_crowd_df = pd.merge(gvb_df, crowd_df, on=[\"Date\", \"Hour\"], how=\"outer\")"
   ]
  },
  {
   "cell_type": "code",
   "execution_count": 157,
   "metadata": {},
   "outputs": [
    {
     "data": {
      "text/html": [
       "<div>\n",
       "<style scoped>\n",
       "    .dataframe tbody tr th:only-of-type {\n",
       "        vertical-align: middle;\n",
       "    }\n",
       "\n",
       "    .dataframe tbody tr th {\n",
       "        vertical-align: top;\n",
       "    }\n",
       "\n",
       "    .dataframe thead th {\n",
       "        text-align: right;\n",
       "    }\n",
       "</style>\n",
       "<table border=\"1\" class=\"dataframe\">\n",
       "  <thead>\n",
       "    <tr style=\"text-align: right;\">\n",
       "      <th></th>\n",
       "      <th>Date</th>\n",
       "      <th>Hour</th>\n",
       "      <th>NieuwmarktCode</th>\n",
       "      <th>NieuwmarktLat</th>\n",
       "      <th>NieuwmarktLon</th>\n",
       "      <th>NieuwmarktArrivals</th>\n",
       "      <th>NieuwmarktDepartures</th>\n",
       "      <th>NieuwezijdsCode</th>\n",
       "      <th>NieuwezijdsLat</th>\n",
       "      <th>NieuwezijdsLon</th>\n",
       "      <th>...</th>\n",
       "      <th>SpuiLat</th>\n",
       "      <th>SpuiLon</th>\n",
       "      <th>SpuiArrivals</th>\n",
       "      <th>SpuiDepartures</th>\n",
       "      <th>weekday</th>\n",
       "      <th>is_weekend</th>\n",
       "      <th>Sensor</th>\n",
       "      <th>SensorLongitude</th>\n",
       "      <th>SensorLatitude</th>\n",
       "      <th>CrowdednessCount</th>\n",
       "    </tr>\n",
       "  </thead>\n",
       "  <tbody>\n",
       "    <tr>\n",
       "      <th>0</th>\n",
       "      <td>2018-04-01</td>\n",
       "      <td>0</td>\n",
       "      <td>NMT</td>\n",
       "      <td>52.371942</td>\n",
       "      <td>4.901239</td>\n",
       "      <td>31.0</td>\n",
       "      <td>115.0</td>\n",
       "      <td>5069.0</td>\n",
       "      <td>52.376288</td>\n",
       "      <td>4.893731</td>\n",
       "      <td>...</td>\n",
       "      <td>52.369097</td>\n",
       "      <td>4.889259</td>\n",
       "      <td>0.0</td>\n",
       "      <td>46.0</td>\n",
       "      <td>6.0</td>\n",
       "      <td>1.0</td>\n",
       "      <td>GAWW-02</td>\n",
       "      <td>4.898903</td>\n",
       "      <td>52.373786</td>\n",
       "      <td>3813</td>\n",
       "    </tr>\n",
       "    <tr>\n",
       "      <th>1</th>\n",
       "      <td>2018-04-01</td>\n",
       "      <td>600</td>\n",
       "      <td>NMT</td>\n",
       "      <td>52.371942</td>\n",
       "      <td>4.901239</td>\n",
       "      <td>67.0</td>\n",
       "      <td>50.0</td>\n",
       "      <td>5069.0</td>\n",
       "      <td>52.376288</td>\n",
       "      <td>4.893731</td>\n",
       "      <td>...</td>\n",
       "      <td>52.369097</td>\n",
       "      <td>4.889259</td>\n",
       "      <td>11.0</td>\n",
       "      <td>0.0</td>\n",
       "      <td>6.0</td>\n",
       "      <td>1.0</td>\n",
       "      <td>GAWW-02</td>\n",
       "      <td>4.898903</td>\n",
       "      <td>52.373786</td>\n",
       "      <td>105</td>\n",
       "    </tr>\n",
       "    <tr>\n",
       "      <th>2</th>\n",
       "      <td>2018-04-01</td>\n",
       "      <td>700</td>\n",
       "      <td>NMT</td>\n",
       "      <td>52.371942</td>\n",
       "      <td>4.901239</td>\n",
       "      <td>99.0</td>\n",
       "      <td>120.0</td>\n",
       "      <td>5069.0</td>\n",
       "      <td>52.376288</td>\n",
       "      <td>4.893731</td>\n",
       "      <td>...</td>\n",
       "      <td>52.369097</td>\n",
       "      <td>4.889259</td>\n",
       "      <td>54.0</td>\n",
       "      <td>17.0</td>\n",
       "      <td>6.0</td>\n",
       "      <td>1.0</td>\n",
       "      <td>GAWW-02</td>\n",
       "      <td>4.898903</td>\n",
       "      <td>52.373786</td>\n",
       "      <td>72</td>\n",
       "    </tr>\n",
       "    <tr>\n",
       "      <th>3</th>\n",
       "      <td>2018-04-01</td>\n",
       "      <td>800</td>\n",
       "      <td>NMT</td>\n",
       "      <td>52.371942</td>\n",
       "      <td>4.901239</td>\n",
       "      <td>222.0</td>\n",
       "      <td>236.0</td>\n",
       "      <td>5069.0</td>\n",
       "      <td>52.376288</td>\n",
       "      <td>4.893731</td>\n",
       "      <td>...</td>\n",
       "      <td>52.369097</td>\n",
       "      <td>4.889259</td>\n",
       "      <td>139.0</td>\n",
       "      <td>64.0</td>\n",
       "      <td>6.0</td>\n",
       "      <td>1.0</td>\n",
       "      <td>GAWW-02</td>\n",
       "      <td>4.898903</td>\n",
       "      <td>52.373786</td>\n",
       "      <td>71</td>\n",
       "    </tr>\n",
       "    <tr>\n",
       "      <th>4</th>\n",
       "      <td>2018-04-01</td>\n",
       "      <td>900</td>\n",
       "      <td>NMT</td>\n",
       "      <td>52.371942</td>\n",
       "      <td>4.901239</td>\n",
       "      <td>269.0</td>\n",
       "      <td>169.0</td>\n",
       "      <td>5069.0</td>\n",
       "      <td>52.376288</td>\n",
       "      <td>4.893731</td>\n",
       "      <td>...</td>\n",
       "      <td>52.369097</td>\n",
       "      <td>4.889259</td>\n",
       "      <td>215.0</td>\n",
       "      <td>61.0</td>\n",
       "      <td>6.0</td>\n",
       "      <td>1.0</td>\n",
       "      <td>GAWW-02</td>\n",
       "      <td>4.898903</td>\n",
       "      <td>52.373786</td>\n",
       "      <td>187</td>\n",
       "    </tr>\n",
       "  </tbody>\n",
       "</table>\n",
       "<p>5 rows × 28 columns</p>\n",
       "</div>"
      ],
      "text/plain": [
       "        Date  Hour NieuwmarktCode  NieuwmarktLat  NieuwmarktLon  \\\n",
       "0 2018-04-01     0            NMT      52.371942       4.901239   \n",
       "1 2018-04-01   600            NMT      52.371942       4.901239   \n",
       "2 2018-04-01   700            NMT      52.371942       4.901239   \n",
       "3 2018-04-01   800            NMT      52.371942       4.901239   \n",
       "4 2018-04-01   900            NMT      52.371942       4.901239   \n",
       "\n",
       "   NieuwmarktArrivals  NieuwmarktDepartures  NieuwezijdsCode  NieuwezijdsLat  \\\n",
       "0                31.0                 115.0           5069.0       52.376288   \n",
       "1                67.0                  50.0           5069.0       52.376288   \n",
       "2                99.0                 120.0           5069.0       52.376288   \n",
       "3               222.0                 236.0           5069.0       52.376288   \n",
       "4               269.0                 169.0           5069.0       52.376288   \n",
       "\n",
       "   NieuwezijdsLon  ...    SpuiLat   SpuiLon  SpuiArrivals  SpuiDepartures  \\\n",
       "0        4.893731  ...  52.369097  4.889259           0.0            46.0   \n",
       "1        4.893731  ...  52.369097  4.889259          11.0             0.0   \n",
       "2        4.893731  ...  52.369097  4.889259          54.0            17.0   \n",
       "3        4.893731  ...  52.369097  4.889259         139.0            64.0   \n",
       "4        4.893731  ...  52.369097  4.889259         215.0            61.0   \n",
       "\n",
       "   weekday  is_weekend   Sensor  SensorLongitude  SensorLatitude  \\\n",
       "0      6.0         1.0  GAWW-02         4.898903       52.373786   \n",
       "1      6.0         1.0  GAWW-02         4.898903       52.373786   \n",
       "2      6.0         1.0  GAWW-02         4.898903       52.373786   \n",
       "3      6.0         1.0  GAWW-02         4.898903       52.373786   \n",
       "4      6.0         1.0  GAWW-02         4.898903       52.373786   \n",
       "\n",
       "   CrowdednessCount  \n",
       "0              3813  \n",
       "1               105  \n",
       "2                72  \n",
       "3                71  \n",
       "4               187  \n",
       "\n",
       "[5 rows x 28 columns]"
      ]
     },
     "execution_count": 157,
     "metadata": {},
     "output_type": "execute_result"
    }
   ],
   "source": [
    "gvb_crowd_df.head()"
   ]
  },
  {
   "cell_type": "code",
   "execution_count": 158,
   "metadata": {},
   "outputs": [],
   "source": [
    "full = pd.merge(gvb_crowd_df, events_df, on=[\"Date\"], how=\"outer\")\n",
    "full = full.rename(index=str, columns={\"Latitude\": \"event_lat\", \"Longtitude\": \"event_lon\", \"Event\": \"is_event\"})\n",
    "full = full.fillna(0.0)"
   ]
  },
  {
   "cell_type": "code",
   "execution_count": 159,
   "metadata": {},
   "outputs": [],
   "source": [
    "full_dict = full.to_dict(\"index\")\n",
    "\n",
    "for k, v in full_dict.items():\n",
    "    if v[\"is_event\"] != 0.0:\n",
    "        v[\"is_event\"] = 1.0\n",
    "    \n",
    "    if v[\"Hour\"] == 0:\n",
    "        v[\"Hour\"] = 2400\n",
    "\n",
    "full = pd.DataFrame.from_dict(full_dict, orient=\"index\").reset_index().drop(columns=[\"index\"])"
   ]
  },
  {
   "cell_type": "markdown",
   "metadata": {},
   "source": [
    "### Make Time circular"
   ]
  },
  {
   "cell_type": "code",
   "execution_count": 163,
   "metadata": {},
   "outputs": [],
   "source": [
    "full = full.assign(Year=0, month_sin=0, month_cos=0, day_sin=0, day_cos=0, hour_sin=0, hour_cos=0)"
   ]
  },
  {
   "cell_type": "code",
   "execution_count": 164,
   "metadata": {},
   "outputs": [
    {
     "data": {
      "text/html": [
       "<div>\n",
       "<style scoped>\n",
       "    .dataframe tbody tr th:only-of-type {\n",
       "        vertical-align: middle;\n",
       "    }\n",
       "\n",
       "    .dataframe tbody tr th {\n",
       "        vertical-align: top;\n",
       "    }\n",
       "\n",
       "    .dataframe thead th {\n",
       "        text-align: right;\n",
       "    }\n",
       "</style>\n",
       "<table border=\"1\" class=\"dataframe\">\n",
       "  <thead>\n",
       "    <tr style=\"text-align: right;\">\n",
       "      <th></th>\n",
       "      <th>Date</th>\n",
       "      <th>Hour</th>\n",
       "      <th>NieuwmarktCode</th>\n",
       "      <th>NieuwmarktLat</th>\n",
       "      <th>NieuwmarktLon</th>\n",
       "      <th>NieuwmarktArrivals</th>\n",
       "      <th>NieuwmarktDepartures</th>\n",
       "      <th>NieuwezijdsCode</th>\n",
       "      <th>NieuwezijdsLat</th>\n",
       "      <th>NieuwezijdsLon</th>\n",
       "      <th>...</th>\n",
       "      <th>is_event</th>\n",
       "      <th>event_lat</th>\n",
       "      <th>event_lon</th>\n",
       "      <th>Year</th>\n",
       "      <th>month_sin</th>\n",
       "      <th>month_cos</th>\n",
       "      <th>day_sin</th>\n",
       "      <th>day_cos</th>\n",
       "      <th>hour_sin</th>\n",
       "      <th>hour_cos</th>\n",
       "    </tr>\n",
       "  </thead>\n",
       "  <tbody>\n",
       "    <tr>\n",
       "      <th>0</th>\n",
       "      <td>2018-04-01</td>\n",
       "      <td>2400</td>\n",
       "      <td>NMT</td>\n",
       "      <td>52.371942</td>\n",
       "      <td>4.901239</td>\n",
       "      <td>31.0</td>\n",
       "      <td>115.0</td>\n",
       "      <td>5069.0</td>\n",
       "      <td>52.376288</td>\n",
       "      <td>4.893731</td>\n",
       "      <td>...</td>\n",
       "      <td>0.0</td>\n",
       "      <td>0.0</td>\n",
       "      <td>0.0</td>\n",
       "      <td>0</td>\n",
       "      <td>0</td>\n",
       "      <td>0</td>\n",
       "      <td>0</td>\n",
       "      <td>0</td>\n",
       "      <td>0</td>\n",
       "      <td>0</td>\n",
       "    </tr>\n",
       "    <tr>\n",
       "      <th>1</th>\n",
       "      <td>2018-04-01</td>\n",
       "      <td>600</td>\n",
       "      <td>NMT</td>\n",
       "      <td>52.371942</td>\n",
       "      <td>4.901239</td>\n",
       "      <td>67.0</td>\n",
       "      <td>50.0</td>\n",
       "      <td>5069.0</td>\n",
       "      <td>52.376288</td>\n",
       "      <td>4.893731</td>\n",
       "      <td>...</td>\n",
       "      <td>0.0</td>\n",
       "      <td>0.0</td>\n",
       "      <td>0.0</td>\n",
       "      <td>0</td>\n",
       "      <td>0</td>\n",
       "      <td>0</td>\n",
       "      <td>0</td>\n",
       "      <td>0</td>\n",
       "      <td>0</td>\n",
       "      <td>0</td>\n",
       "    </tr>\n",
       "    <tr>\n",
       "      <th>2</th>\n",
       "      <td>2018-04-01</td>\n",
       "      <td>1500</td>\n",
       "      <td>NMT</td>\n",
       "      <td>52.371942</td>\n",
       "      <td>4.901239</td>\n",
       "      <td>362.0</td>\n",
       "      <td>407.0</td>\n",
       "      <td>5069.0</td>\n",
       "      <td>52.376288</td>\n",
       "      <td>4.893731</td>\n",
       "      <td>...</td>\n",
       "      <td>0.0</td>\n",
       "      <td>0.0</td>\n",
       "      <td>0.0</td>\n",
       "      <td>0</td>\n",
       "      <td>0</td>\n",
       "      <td>0</td>\n",
       "      <td>0</td>\n",
       "      <td>0</td>\n",
       "      <td>0</td>\n",
       "      <td>0</td>\n",
       "    </tr>\n",
       "    <tr>\n",
       "      <th>3</th>\n",
       "      <td>2018-07-01</td>\n",
       "      <td>800</td>\n",
       "      <td>NMT</td>\n",
       "      <td>52.371942</td>\n",
       "      <td>4.901239</td>\n",
       "      <td>90.0</td>\n",
       "      <td>40.0</td>\n",
       "      <td>5069.0</td>\n",
       "      <td>52.376288</td>\n",
       "      <td>4.893731</td>\n",
       "      <td>...</td>\n",
       "      <td>0.0</td>\n",
       "      <td>0.0</td>\n",
       "      <td>0.0</td>\n",
       "      <td>0</td>\n",
       "      <td>0</td>\n",
       "      <td>0</td>\n",
       "      <td>0</td>\n",
       "      <td>0</td>\n",
       "      <td>0</td>\n",
       "      <td>0</td>\n",
       "    </tr>\n",
       "    <tr>\n",
       "      <th>4</th>\n",
       "      <td>2018-08-03</td>\n",
       "      <td>1300</td>\n",
       "      <td>NMT</td>\n",
       "      <td>52.371942</td>\n",
       "      <td>4.901239</td>\n",
       "      <td>360.0</td>\n",
       "      <td>210.0</td>\n",
       "      <td>5069.0</td>\n",
       "      <td>52.376288</td>\n",
       "      <td>4.893731</td>\n",
       "      <td>...</td>\n",
       "      <td>0.0</td>\n",
       "      <td>0.0</td>\n",
       "      <td>0.0</td>\n",
       "      <td>0</td>\n",
       "      <td>0</td>\n",
       "      <td>0</td>\n",
       "      <td>0</td>\n",
       "      <td>0</td>\n",
       "      <td>0</td>\n",
       "      <td>0</td>\n",
       "    </tr>\n",
       "  </tbody>\n",
       "</table>\n",
       "<p>5 rows × 38 columns</p>\n",
       "</div>"
      ],
      "text/plain": [
       "        Date  Hour NieuwmarktCode  NieuwmarktLat  NieuwmarktLon  \\\n",
       "0 2018-04-01  2400            NMT      52.371942       4.901239   \n",
       "1 2018-04-01   600            NMT      52.371942       4.901239   \n",
       "2 2018-04-01  1500            NMT      52.371942       4.901239   \n",
       "3 2018-07-01   800            NMT      52.371942       4.901239   \n",
       "4 2018-08-03  1300            NMT      52.371942       4.901239   \n",
       "\n",
       "   NieuwmarktArrivals  NieuwmarktDepartures  NieuwezijdsCode  NieuwezijdsLat  \\\n",
       "0                31.0                 115.0           5069.0       52.376288   \n",
       "1                67.0                  50.0           5069.0       52.376288   \n",
       "2               362.0                 407.0           5069.0       52.376288   \n",
       "3                90.0                  40.0           5069.0       52.376288   \n",
       "4               360.0                 210.0           5069.0       52.376288   \n",
       "\n",
       "   NieuwezijdsLon  ...  is_event  event_lat  event_lon  Year  month_sin  \\\n",
       "0        4.893731  ...       0.0        0.0        0.0     0          0   \n",
       "1        4.893731  ...       0.0        0.0        0.0     0          0   \n",
       "2        4.893731  ...       0.0        0.0        0.0     0          0   \n",
       "3        4.893731  ...       0.0        0.0        0.0     0          0   \n",
       "4        4.893731  ...       0.0        0.0        0.0     0          0   \n",
       "\n",
       "   month_cos  day_sin  day_cos  hour_sin  hour_cos  \n",
       "0          0        0        0         0         0  \n",
       "1          0        0        0         0         0  \n",
       "2          0        0        0         0         0  \n",
       "3          0        0        0         0         0  \n",
       "4          0        0        0         0         0  \n",
       "\n",
       "[5 rows x 38 columns]"
      ]
     },
     "execution_count": 164,
     "metadata": {},
     "output_type": "execute_result"
    }
   ],
   "source": [
    "full.head()"
   ]
  },
  {
   "cell_type": "code",
   "execution_count": 165,
   "metadata": {},
   "outputs": [],
   "source": [
    "time_dict = full.to_dict(\"index\")\n",
    "\n",
    "for k, v in time_dict.items():    \n",
    "    v[\"Year\"] = v[\"Date\"].year\n",
    "    \n",
    "    v[\"month_sin\"] = np.sin(2 * np.pi * v[\"Date\"].month / 12)\n",
    "    v[\"month_cos\"] = np.cos(2 * np.pi * v[\"Date\"].month / 12)\n",
    "    \n",
    "    v[\"day_sin\"] = np.sin(2 * np.pi * v[\"Date\"].day / 365)\n",
    "    v[\"day_cos\"] = np.cos(2 * np.pi * v[\"Date\"].day / 365)\n",
    "\n",
    "    v[\"hour_sin\"] = np.sin(2 * np.pi * v[\"Hour\"] / 2400)\n",
    "    v[\"hour_cos\"] = np.cos(2 * np.pi * v[\"Hour\"] / 2400)\n",
    "    \n",
    "full = pd.DataFrame.from_dict(time_dict, orient=\"index\").reset_index()"
   ]
  },
  {
   "cell_type": "code",
   "execution_count": 187,
   "metadata": {},
   "outputs": [],
   "source": [
    "cols = [\"Date\",'is_event', 'event_lat', 'event_lon', 'NieuwmarktLat', 'NieuwmarktLon', \n",
    "        'NieuwmarktArrivals', 'NieuwmarktDepartures', 'NieuwezijdsLat', 'NieuwezijdsLon', \n",
    "        'NieuwezijdsArrivals', 'NieuwezijdsDepartures', 'DamLat', 'DamLon', 'DamArrivals', \n",
    "        'DamDepartures', 'SpuiLat', 'SpuiLon', 'SpuiArrivals', 'SpuiDepartures', 'weekday', 'is_weekend',\n",
    "        'SensorLongitude', 'SensorLatitude', 'Year', 'month_sin', 'month_cos', \n",
    "        'day_sin', 'day_cos', 'hour_sin', 'hour_cos', 'CrowdednessCount']\n",
    "\n",
    "full = full[cols]"
   ]
  },
  {
   "cell_type": "code",
   "execution_count": 188,
   "metadata": {},
   "outputs": [
    {
     "data": {
      "text/html": [
       "<div>\n",
       "<style scoped>\n",
       "    .dataframe tbody tr th:only-of-type {\n",
       "        vertical-align: middle;\n",
       "    }\n",
       "\n",
       "    .dataframe tbody tr th {\n",
       "        vertical-align: top;\n",
       "    }\n",
       "\n",
       "    .dataframe thead th {\n",
       "        text-align: right;\n",
       "    }\n",
       "</style>\n",
       "<table border=\"1\" class=\"dataframe\">\n",
       "  <thead>\n",
       "    <tr style=\"text-align: right;\">\n",
       "      <th></th>\n",
       "      <th>Date</th>\n",
       "      <th>is_event</th>\n",
       "      <th>event_lat</th>\n",
       "      <th>event_lon</th>\n",
       "      <th>NieuwmarktLat</th>\n",
       "      <th>NieuwmarktLon</th>\n",
       "      <th>NieuwmarktArrivals</th>\n",
       "      <th>NieuwmarktDepartures</th>\n",
       "      <th>NieuwezijdsLat</th>\n",
       "      <th>NieuwezijdsLon</th>\n",
       "      <th>...</th>\n",
       "      <th>SensorLongitude</th>\n",
       "      <th>SensorLatitude</th>\n",
       "      <th>Year</th>\n",
       "      <th>month_sin</th>\n",
       "      <th>month_cos</th>\n",
       "      <th>day_sin</th>\n",
       "      <th>day_cos</th>\n",
       "      <th>hour_sin</th>\n",
       "      <th>hour_cos</th>\n",
       "      <th>CrowdednessCount</th>\n",
       "    </tr>\n",
       "  </thead>\n",
       "  <tbody>\n",
       "    <tr>\n",
       "      <th>0</th>\n",
       "      <td>2019-03-26</td>\n",
       "      <td>0.0</td>\n",
       "      <td>0.0</td>\n",
       "      <td>0.0</td>\n",
       "      <td>52.371942</td>\n",
       "      <td>4.901239</td>\n",
       "      <td>31.0</td>\n",
       "      <td>115.0</td>\n",
       "      <td>52.376288</td>\n",
       "      <td>4.893731</td>\n",
       "      <td>...</td>\n",
       "      <td>4.898903</td>\n",
       "      <td>52.373786</td>\n",
       "      <td>2018</td>\n",
       "      <td>0.866025</td>\n",
       "      <td>-0.500000</td>\n",
       "      <td>0.017213</td>\n",
       "      <td>0.999852</td>\n",
       "      <td>-2.449294e-16</td>\n",
       "      <td>1.000000e+00</td>\n",
       "      <td>3813</td>\n",
       "    </tr>\n",
       "    <tr>\n",
       "      <th>1</th>\n",
       "      <td>2019-03-16</td>\n",
       "      <td>0.0</td>\n",
       "      <td>0.0</td>\n",
       "      <td>0.0</td>\n",
       "      <td>52.371942</td>\n",
       "      <td>4.901239</td>\n",
       "      <td>67.0</td>\n",
       "      <td>50.0</td>\n",
       "      <td>52.376288</td>\n",
       "      <td>4.893731</td>\n",
       "      <td>...</td>\n",
       "      <td>4.898903</td>\n",
       "      <td>52.373786</td>\n",
       "      <td>2018</td>\n",
       "      <td>0.866025</td>\n",
       "      <td>-0.500000</td>\n",
       "      <td>0.017213</td>\n",
       "      <td>0.999852</td>\n",
       "      <td>1.000000e+00</td>\n",
       "      <td>6.123234e-17</td>\n",
       "      <td>105</td>\n",
       "    </tr>\n",
       "    <tr>\n",
       "      <th>2</th>\n",
       "      <td>2018-09-16</td>\n",
       "      <td>0.0</td>\n",
       "      <td>0.0</td>\n",
       "      <td>0.0</td>\n",
       "      <td>52.371942</td>\n",
       "      <td>4.901239</td>\n",
       "      <td>362.0</td>\n",
       "      <td>407.0</td>\n",
       "      <td>52.376288</td>\n",
       "      <td>4.893731</td>\n",
       "      <td>...</td>\n",
       "      <td>4.898903</td>\n",
       "      <td>52.373786</td>\n",
       "      <td>2018</td>\n",
       "      <td>0.866025</td>\n",
       "      <td>-0.500000</td>\n",
       "      <td>0.017213</td>\n",
       "      <td>0.999852</td>\n",
       "      <td>-7.071068e-01</td>\n",
       "      <td>-7.071068e-01</td>\n",
       "      <td>3669</td>\n",
       "    </tr>\n",
       "    <tr>\n",
       "      <th>3</th>\n",
       "      <td>2019-03-19</td>\n",
       "      <td>0.0</td>\n",
       "      <td>0.0</td>\n",
       "      <td>0.0</td>\n",
       "      <td>52.371942</td>\n",
       "      <td>4.901239</td>\n",
       "      <td>90.0</td>\n",
       "      <td>40.0</td>\n",
       "      <td>52.376288</td>\n",
       "      <td>4.893731</td>\n",
       "      <td>...</td>\n",
       "      <td>4.897334</td>\n",
       "      <td>52.372524</td>\n",
       "      <td>2018</td>\n",
       "      <td>-0.500000</td>\n",
       "      <td>-0.866025</td>\n",
       "      <td>0.017213</td>\n",
       "      <td>0.999852</td>\n",
       "      <td>8.660254e-01</td>\n",
       "      <td>-5.000000e-01</td>\n",
       "      <td>79</td>\n",
       "    </tr>\n",
       "    <tr>\n",
       "      <th>4</th>\n",
       "      <td>2018-12-13</td>\n",
       "      <td>0.0</td>\n",
       "      <td>0.0</td>\n",
       "      <td>0.0</td>\n",
       "      <td>52.371942</td>\n",
       "      <td>4.901239</td>\n",
       "      <td>360.0</td>\n",
       "      <td>210.0</td>\n",
       "      <td>52.376288</td>\n",
       "      <td>4.893731</td>\n",
       "      <td>...</td>\n",
       "      <td>4.898903</td>\n",
       "      <td>52.373786</td>\n",
       "      <td>2018</td>\n",
       "      <td>-0.866025</td>\n",
       "      <td>-0.500000</td>\n",
       "      <td>0.051620</td>\n",
       "      <td>0.998667</td>\n",
       "      <td>-2.588190e-01</td>\n",
       "      <td>-9.659258e-01</td>\n",
       "      <td>1465</td>\n",
       "    </tr>\n",
       "  </tbody>\n",
       "</table>\n",
       "<p>5 rows × 32 columns</p>\n",
       "</div>"
      ],
      "text/plain": [
       "        Date  is_event  event_lat  event_lon  NieuwmarktLat  NieuwmarktLon  \\\n",
       "0 2019-03-26       0.0        0.0        0.0      52.371942       4.901239   \n",
       "1 2019-03-16       0.0        0.0        0.0      52.371942       4.901239   \n",
       "2 2018-09-16       0.0        0.0        0.0      52.371942       4.901239   \n",
       "3 2019-03-19       0.0        0.0        0.0      52.371942       4.901239   \n",
       "4 2018-12-13       0.0        0.0        0.0      52.371942       4.901239   \n",
       "\n",
       "   NieuwmarktArrivals  NieuwmarktDepartures  NieuwezijdsLat  NieuwezijdsLon  \\\n",
       "0                31.0                 115.0       52.376288        4.893731   \n",
       "1                67.0                  50.0       52.376288        4.893731   \n",
       "2               362.0                 407.0       52.376288        4.893731   \n",
       "3                90.0                  40.0       52.376288        4.893731   \n",
       "4               360.0                 210.0       52.376288        4.893731   \n",
       "\n",
       "   ...  SensorLongitude  SensorLatitude  Year  month_sin  month_cos   day_sin  \\\n",
       "0  ...         4.898903       52.373786  2018   0.866025  -0.500000  0.017213   \n",
       "1  ...         4.898903       52.373786  2018   0.866025  -0.500000  0.017213   \n",
       "2  ...         4.898903       52.373786  2018   0.866025  -0.500000  0.017213   \n",
       "3  ...         4.897334       52.372524  2018  -0.500000  -0.866025  0.017213   \n",
       "4  ...         4.898903       52.373786  2018  -0.866025  -0.500000  0.051620   \n",
       "\n",
       "    day_cos      hour_sin      hour_cos  CrowdednessCount  \n",
       "0  0.999852 -2.449294e-16  1.000000e+00              3813  \n",
       "1  0.999852  1.000000e+00  6.123234e-17               105  \n",
       "2  0.999852 -7.071068e-01 -7.071068e-01              3669  \n",
       "3  0.999852  8.660254e-01 -5.000000e-01                79  \n",
       "4  0.998667 -2.588190e-01 -9.659258e-01              1465  \n",
       "\n",
       "[5 rows x 32 columns]"
      ]
     },
     "execution_count": 188,
     "metadata": {},
     "output_type": "execute_result"
    }
   ],
   "source": [
    "full.head()"
   ]
  },
  {
   "cell_type": "markdown",
   "metadata": {},
   "source": [
    "### Visualization"
   ]
  },
  {
   "cell_type": "code",
   "execution_count": 189,
   "metadata": {},
   "outputs": [],
   "source": [
    "x = full.drop([\"CrowdednessCount\", \"Date\", ], axis=1)\n",
    "y = full[\"CrowdednessCount\"]"
   ]
  },
  {
   "cell_type": "code",
   "execution_count": 190,
   "metadata": {},
   "outputs": [
    {
     "data": {
      "image/png": "[encoded data removed]",
      "text/plain": [
       "<Figure size 432x288 with 1 Axes>"
      ]
     },
     "metadata": {
      "needs_background": "light"
     },
     "output_type": "display_data"
    }
   ],
   "source": [
    "#Rank features - 1D\n",
    "visualizer = Rank1D(algorithm='shapiro')\n",
    "\n",
    "visualizer.fit(x, y)                # Fit the data to the visualizer\n",
    "visualizer.transform(x)             # Transform the data\n",
    "visualizer.poof() "
   ]
  },
  {
   "cell_type": "code",
   "execution_count": 191,
   "metadata": {},
   "outputs": [
    {
     "data": {
      "image/png": "[encoded data removed]",
      "text/plain": [
       "<Figure size 432x288 with 2 Axes>"
      ]
     },
     "metadata": {
      "needs_background": "light"
     },
     "output_type": "display_data"
    }
   ],
   "source": [
    "visualizer = Rank2D(algorithm='covariance')\n",
    "visualizer.fit(x, y)                # Fit the data to the visualizer\n",
    "visualizer.transform(x)             # Transform the data\n",
    "visualizer.poof() "
   ]
  },
  {
   "cell_type": "markdown",
   "metadata": {},
   "source": [
    "### Criteria for train and test Model <a name=\"testModel\"></a>\n",
    "Based on the dates."
   ]
  },
  {
   "cell_type": "code",
   "execution_count": 176,
   "metadata": {},
   "outputs": [],
   "source": [
    "all_dates = full[\"Date\"].values\n",
    "np.random.shuffle(all_dates)"
   ]
  },
  {
   "cell_type": "code",
   "execution_count": 177,
   "metadata": {},
   "outputs": [],
   "source": [
    "split_dates = int(all_dates.size * 0.9)\n",
    "train_set_dates = all_dates[:split]\n",
    "test_set_dates = all_dates[split:]"
   ]
  },
  {
   "cell_type": "code",
   "execution_count": null,
   "metadata": {},
   "outputs": [],
   "source": []
  },
  {
   "cell_type": "markdown",
   "metadata": {},
   "source": [
    "## Regression Models <a name=\"regModels\"></a>"
   ]
  },
  {
   "cell_type": "markdown",
   "metadata": {},
   "source": [
    "### Train and Test split"
   ]
  },
  {
   "cell_type": "code",
   "execution_count": 192,
   "metadata": {},
   "outputs": [],
   "source": [
    "train_df_reg = full[full[\"Date\"].isin(train_set_dates)].drop(columns=[\"Date\"])\n",
    "\n",
    "test_df_reg = full[full[\"Date\"].isin(test_set_dates)].drop(columns=[\"Date\"])"
   ]
  },
  {
   "cell_type": "code",
   "execution_count": 193,
   "metadata": {},
   "outputs": [
    {
     "data": {
      "text/html": [
       "<div>\n",
       "<style scoped>\n",
       "    .dataframe tbody tr th:only-of-type {\n",
       "        vertical-align: middle;\n",
       "    }\n",
       "\n",
       "    .dataframe tbody tr th {\n",
       "        vertical-align: top;\n",
       "    }\n",
       "\n",
       "    .dataframe thead th {\n",
       "        text-align: right;\n",
       "    }\n",
       "</style>\n",
       "<table border=\"1\" class=\"dataframe\">\n",
       "  <thead>\n",
       "    <tr style=\"text-align: right;\">\n",
       "      <th></th>\n",
       "      <th>is_event</th>\n",
       "      <th>event_lat</th>\n",
       "      <th>event_lon</th>\n",
       "      <th>NieuwmarktLat</th>\n",
       "      <th>NieuwmarktLon</th>\n",
       "      <th>NieuwmarktArrivals</th>\n",
       "      <th>NieuwmarktDepartures</th>\n",
       "      <th>NieuwezijdsLat</th>\n",
       "      <th>NieuwezijdsLon</th>\n",
       "      <th>NieuwezijdsArrivals</th>\n",
       "      <th>...</th>\n",
       "      <th>SensorLongitude</th>\n",
       "      <th>SensorLatitude</th>\n",
       "      <th>Year</th>\n",
       "      <th>month_sin</th>\n",
       "      <th>month_cos</th>\n",
       "      <th>day_sin</th>\n",
       "      <th>day_cos</th>\n",
       "      <th>hour_sin</th>\n",
       "      <th>hour_cos</th>\n",
       "      <th>CrowdednessCount</th>\n",
       "    </tr>\n",
       "  </thead>\n",
       "  <tbody>\n",
       "    <tr>\n",
       "      <th>0</th>\n",
       "      <td>0.0</td>\n",
       "      <td>0.0</td>\n",
       "      <td>0.0</td>\n",
       "      <td>52.371942</td>\n",
       "      <td>4.901239</td>\n",
       "      <td>31.0</td>\n",
       "      <td>115.0</td>\n",
       "      <td>52.376288</td>\n",
       "      <td>4.893731</td>\n",
       "      <td>20.0</td>\n",
       "      <td>...</td>\n",
       "      <td>4.898903</td>\n",
       "      <td>52.373786</td>\n",
       "      <td>2018</td>\n",
       "      <td>0.866025</td>\n",
       "      <td>-0.500000</td>\n",
       "      <td>0.017213</td>\n",
       "      <td>0.999852</td>\n",
       "      <td>-2.449294e-16</td>\n",
       "      <td>1.000000e+00</td>\n",
       "      <td>3813</td>\n",
       "    </tr>\n",
       "    <tr>\n",
       "      <th>1</th>\n",
       "      <td>0.0</td>\n",
       "      <td>0.0</td>\n",
       "      <td>0.0</td>\n",
       "      <td>52.371942</td>\n",
       "      <td>4.901239</td>\n",
       "      <td>67.0</td>\n",
       "      <td>50.0</td>\n",
       "      <td>52.376288</td>\n",
       "      <td>4.893731</td>\n",
       "      <td>14.0</td>\n",
       "      <td>...</td>\n",
       "      <td>4.898903</td>\n",
       "      <td>52.373786</td>\n",
       "      <td>2018</td>\n",
       "      <td>0.866025</td>\n",
       "      <td>-0.500000</td>\n",
       "      <td>0.017213</td>\n",
       "      <td>0.999852</td>\n",
       "      <td>1.000000e+00</td>\n",
       "      <td>6.123234e-17</td>\n",
       "      <td>105</td>\n",
       "    </tr>\n",
       "    <tr>\n",
       "      <th>2</th>\n",
       "      <td>0.0</td>\n",
       "      <td>0.0</td>\n",
       "      <td>0.0</td>\n",
       "      <td>52.371942</td>\n",
       "      <td>4.901239</td>\n",
       "      <td>362.0</td>\n",
       "      <td>407.0</td>\n",
       "      <td>52.376288</td>\n",
       "      <td>4.893731</td>\n",
       "      <td>300.0</td>\n",
       "      <td>...</td>\n",
       "      <td>4.898903</td>\n",
       "      <td>52.373786</td>\n",
       "      <td>2018</td>\n",
       "      <td>0.866025</td>\n",
       "      <td>-0.500000</td>\n",
       "      <td>0.017213</td>\n",
       "      <td>0.999852</td>\n",
       "      <td>-7.071068e-01</td>\n",
       "      <td>-7.071068e-01</td>\n",
       "      <td>3669</td>\n",
       "    </tr>\n",
       "    <tr>\n",
       "      <th>3</th>\n",
       "      <td>0.0</td>\n",
       "      <td>0.0</td>\n",
       "      <td>0.0</td>\n",
       "      <td>52.371942</td>\n",
       "      <td>4.901239</td>\n",
       "      <td>90.0</td>\n",
       "      <td>40.0</td>\n",
       "      <td>52.376288</td>\n",
       "      <td>4.893731</td>\n",
       "      <td>32.0</td>\n",
       "      <td>...</td>\n",
       "      <td>4.897334</td>\n",
       "      <td>52.372524</td>\n",
       "      <td>2018</td>\n",
       "      <td>-0.500000</td>\n",
       "      <td>-0.866025</td>\n",
       "      <td>0.017213</td>\n",
       "      <td>0.999852</td>\n",
       "      <td>8.660254e-01</td>\n",
       "      <td>-5.000000e-01</td>\n",
       "      <td>79</td>\n",
       "    </tr>\n",
       "    <tr>\n",
       "      <th>4</th>\n",
       "      <td>0.0</td>\n",
       "      <td>0.0</td>\n",
       "      <td>0.0</td>\n",
       "      <td>52.371942</td>\n",
       "      <td>4.901239</td>\n",
       "      <td>360.0</td>\n",
       "      <td>210.0</td>\n",
       "      <td>52.376288</td>\n",
       "      <td>4.893731</td>\n",
       "      <td>208.0</td>\n",
       "      <td>...</td>\n",
       "      <td>4.898903</td>\n",
       "      <td>52.373786</td>\n",
       "      <td>2018</td>\n",
       "      <td>-0.866025</td>\n",
       "      <td>-0.500000</td>\n",
       "      <td>0.051620</td>\n",
       "      <td>0.998667</td>\n",
       "      <td>-2.588190e-01</td>\n",
       "      <td>-9.659258e-01</td>\n",
       "      <td>1465</td>\n",
       "    </tr>\n",
       "  </tbody>\n",
       "</table>\n",
       "<p>5 rows × 31 columns</p>\n",
       "</div>"
      ],
      "text/plain": [
       "   is_event  event_lat  event_lon  NieuwmarktLat  NieuwmarktLon  \\\n",
       "0       0.0        0.0        0.0      52.371942       4.901239   \n",
       "1       0.0        0.0        0.0      52.371942       4.901239   \n",
       "2       0.0        0.0        0.0      52.371942       4.901239   \n",
       "3       0.0        0.0        0.0      52.371942       4.901239   \n",
       "4       0.0        0.0        0.0      52.371942       4.901239   \n",
       "\n",
       "   NieuwmarktArrivals  NieuwmarktDepartures  NieuwezijdsLat  NieuwezijdsLon  \\\n",
       "0                31.0                 115.0       52.376288        4.893731   \n",
       "1                67.0                  50.0       52.376288        4.893731   \n",
       "2               362.0                 407.0       52.376288        4.893731   \n",
       "3                90.0                  40.0       52.376288        4.893731   \n",
       "4               360.0                 210.0       52.376288        4.893731   \n",
       "\n",
       "   NieuwezijdsArrivals  ...  SensorLongitude  SensorLatitude  Year  month_sin  \\\n",
       "0                 20.0  ...         4.898903       52.373786  2018   0.866025   \n",
       "1                 14.0  ...         4.898903       52.373786  2018   0.866025   \n",
       "2                300.0  ...         4.898903       52.373786  2018   0.866025   \n",
       "3                 32.0  ...         4.897334       52.372524  2018  -0.500000   \n",
       "4                208.0  ...         4.898903       52.373786  2018  -0.866025   \n",
       "\n",
       "   month_cos   day_sin   day_cos      hour_sin      hour_cos  CrowdednessCount  \n",
       "0  -0.500000  0.017213  0.999852 -2.449294e-16  1.000000e+00              3813  \n",
       "1  -0.500000  0.017213  0.999852  1.000000e+00  6.123234e-17               105  \n",
       "2  -0.500000  0.017213  0.999852 -7.071068e-01 -7.071068e-01              3669  \n",
       "3  -0.866025  0.017213  0.999852  8.660254e-01 -5.000000e-01                79  \n",
       "4  -0.500000  0.051620  0.998667 -2.588190e-01 -9.659258e-01              1465  \n",
       "\n",
       "[5 rows x 31 columns]"
      ]
     },
     "execution_count": 193,
     "metadata": {},
     "output_type": "execute_result"
    }
   ],
   "source": [
    "train_df_reg.head()"
   ]
  },
  {
   "cell_type": "code",
   "execution_count": 194,
   "metadata": {},
   "outputs": [],
   "source": [
    "#Train\n",
    "x_train_reg = train_df_reg.drop([\"CrowdednessCount\"], axis=1)\n",
    "y_train_reg = train_df_reg[\"CrowdednessCount\"]\n",
    "\n",
    "#Test\n",
    "x_test_reg = test_df_reg.drop([\"CrowdednessCount\"], axis=1)\n",
    "y_test_reg = test_df_reg[\"CrowdednessCount\"]\n",
    "\n",
    "feature_labels_reg = train_df_reg.columns.values"
   ]
  },
  {
   "cell_type": "markdown",
   "metadata": {},
   "source": [
    "### Linear Regression <a name=\"regBaseModel\"></a>\n",
    "Implemented the [Sklearn Version](https://scikit-learn.org/stable/modules/generated/sklearn.linear_model.LinearRegression.html#sklearn.linear_model.LinearRegression)"
   ]
  },
  {
   "cell_type": "code",
   "execution_count": 311,
   "metadata": {},
   "outputs": [],
   "source": [
    "#Give parameters model\n",
    "reg_base = LinearRegression(n_jobs=5)"
   ]
  },
  {
   "cell_type": "code",
   "execution_count": 312,
   "metadata": {},
   "outputs": [
    {
     "data": {
      "text/plain": [
       "LinearRegression(copy_X=True, fit_intercept=True, n_jobs=5, normalize=False)"
      ]
     },
     "execution_count": 312,
     "metadata": {},
     "output_type": "execute_result"
    }
   ],
   "source": [
    "#Fit the model\n",
    "reg_base.fit(x_train_reg, y_train_reg)"
   ]
  },
  {
   "cell_type": "code",
   "execution_count": 314,
   "metadata": {},
   "outputs": [
    {
     "name": "stdout",
     "output_type": "stream",
     "text": [
      "R^2 Score:  0.7121222300695358\n",
      "MSE:  455469.2004130946\n",
      "RMSE:  674.8845830311244\n"
     ]
    }
   ],
   "source": [
    "reg_base_score = reg_base.score(x_test_reg, y_test_reg)\n",
    "\n",
    "y_pred_lr = reg_base.predict(x_test_reg)\n",
    "reg_mse = mean_squared_error(y_pred_lr, y_test_reg)\n",
    "\n",
    "print(\"R^2 Score: \", reg_base_score)\n",
    "print(\"MSE: \", reg_mse)\n",
    "print(\"RMSE: \", np.sqrt(reg_mse))"
   ]
  },
  {
   "cell_type": "code",
   "execution_count": 315,
   "metadata": {},
   "outputs": [
    {
     "name": "stdout",
     "output_type": "stream",
     "text": [
      "Predicted:  2660.233517218381 Real:  3813\n",
      "Predicted:  1018.0669073052704 Real:  105\n",
      "Predicted:  3505.685758424923 Real:  3669\n",
      "Predicted:  424.7801530472934 Real:  79\n",
      "Predicted:  1591.4217583928257 Real:  1465\n",
      "Predicted:  1444.5748474951833 Real:  1935\n",
      "Predicted:  1118.7200377415866 Real:  1497\n",
      "Predicted:  1712.8018122836947 Real:  2383\n",
      "Predicted:  1590.6992174107581 Real:  1769\n",
      "Predicted:  2184.780991954729 Real:  2534\n"
     ]
    }
   ],
   "source": [
    "for i in range(10):\n",
    "    print(\"Predicted: \", y_pred_lr[i], \"Real: \", y_test_reg[i])"
   ]
  },
  {
   "cell_type": "code",
   "execution_count": 316,
   "metadata": {},
   "outputs": [
    {
     "data": {
      "image/png": "[encoded data removed]",
      "text/plain": [
       "<Figure size 432x288 with 1 Axes>"
      ]
     },
     "metadata": {
      "needs_background": "light"
     },
     "output_type": "display_data"
    }
   ],
   "source": [
    "visualizer = PredictionError(reg_base)\n",
    "visualizer.fit(x_train_reg, y_train_reg)  # Fit the training data to the visualizer\n",
    "visualizer.score(x_test_reg, y_test_reg)  # Evaluate the model on the test data\n",
    "g = visualizer.poof() "
   ]
  },
  {
   "cell_type": "markdown",
   "metadata": {},
   "source": [
    "### Random Forrest Regressor <a name=\"regRFGModel\"></a>\n",
    "Implemented the [Sklearn Version](https://scikit-learn.org/stable/modules/generated/sklearn.ensemble.RandomForestRegressor.html)\n",
    "\n",
    "Parameters\n",
    "- *N-Estimators*: Number of trees in the model\n",
    "- *criterion*: loss function\n",
    "- *n_jobs*: The number of jobs to run in parallel for both fit and predict\n",
    "- *random_state*: random_state is the seed used by the random number generator\n",
    "- *bootstrap*: Whether bootstrap samples are used when building trees"
   ]
  },
  {
   "cell_type": "code",
   "execution_count": 317,
   "metadata": {},
   "outputs": [],
   "source": [
    "#Set parameters model\n",
    "reg_rfg = RandomForestRegressor(n_estimators=500, criterion=\"mse\", n_jobs=100, random_state=42, bootstrap=True)"
   ]
  },
  {
   "cell_type": "code",
   "execution_count": 318,
   "metadata": {},
   "outputs": [
    {
     "data": {
      "text/plain": [
       "RandomForestRegressor(bootstrap=True, criterion='mse', max_depth=None,\n",
       "           max_features='auto', max_leaf_nodes=None,\n",
       "           min_impurity_decrease=0.0, min_impurity_split=None,\n",
       "           min_samples_leaf=1, min_samples_split=2,\n",
       "           min_weight_fraction_leaf=0.0, n_estimators=500, n_jobs=100,\n",
       "           oob_score=False, random_state=42, verbose=0, warm_start=False)"
      ]
     },
     "execution_count": 318,
     "metadata": {},
     "output_type": "execute_result"
    }
   ],
   "source": [
    "#fit the model\n",
    "reg_rfg.fit(x_train_reg, y_train_reg)"
   ]
  },
  {
   "cell_type": "code",
   "execution_count": 319,
   "metadata": {},
   "outputs": [
    {
     "name": "stdout",
     "output_type": "stream",
     "text": [
      "R^2 Score:  0.9900502250849548\n",
      "MSE Test:  15742.1534352603\n",
      "RMSE Test:  125.46773862336205\n"
     ]
    }
   ],
   "source": [
    "#Score the model\n",
    "reg_rfg_score = reg_rfg.score(x_test_reg, y_test_reg)\n",
    "\n",
    "#Test\n",
    "y_pred_rfg = reg_rfg.predict(x_test_reg)\n",
    "reg_rfg_mse = mean_squared_error(y_pred_rfg, y_test_reg)\n",
    "\n",
    "print(\"R^2 Score: \", reg_rfg_score)\n",
    "print(\"MSE Test: \", reg_rfg_mse)\n",
    "print(\"RMSE Test: \", np.sqrt(reg_rfg_mse))"
   ]
  },
  {
   "cell_type": "code",
   "execution_count": 320,
   "metadata": {},
   "outputs": [
    {
     "name": "stdout",
     "output_type": "stream",
     "text": [
      "Predicted:  3730.56 Real:  3813\n",
      "Predicted:  97.152 Real:  105\n",
      "Predicted:  3592.606 Real:  3669\n",
      "Predicted:  84.146 Real:  79\n",
      "Predicted:  1545.744 Real:  1465\n",
      "Predicted:  1861.952 Real:  1935\n",
      "Predicted:  1473.546 Real:  1497\n",
      "Predicted:  2343.16 Real:  2383\n",
      "Predicted:  1665.266 Real:  1769\n",
      "Predicted:  2430.276 Real:  2534\n"
     ]
    }
   ],
   "source": [
    "for i in range(10):\n",
    "    print(\"Predicted: \", y_pred_rfg[i], \"Real: \", y_test_reg[i])"
   ]
  },
  {
   "cell_type": "code",
   "execution_count": 321,
   "metadata": {},
   "outputs": [
    {
     "name": "stdout",
     "output_type": "stream",
     "text": [
      "SensorLatitude-5.14%\n",
      "SensorLongitude-5.21%\n",
      "weekday-6.83%\n",
      "hour_cos-7.53%\n",
      "hour_sin-50.31%\n"
     ]
    }
   ],
   "source": [
    "#Feature importance\n",
    "importance = reg_rfg.feature_importances_\n",
    "feature_indexes_by_importance = importance.argsort()\n",
    "feature_indexes_by_importance = feature_indexes_by_importance[-5:]\n",
    "for index in feature_indexes_by_importance:\n",
    "    print('{}-{:.2f}%'.format(feature_labels_reg[index], (importance[index] *100.0)))"
   ]
  },
  {
   "cell_type": "code",
   "execution_count": 322,
   "metadata": {
    "scrolled": false
   },
   "outputs": [
    {
     "data": {
      "image/png": "[encoded data removed]",
      "text/plain": [
       "<Figure size 432x288 with 1 Axes>"
      ]
     },
     "metadata": {
      "needs_background": "light"
     },
     "output_type": "display_data"
    }
   ],
   "source": [
    "visualizer = PredictionError(reg_rfg)\n",
    "visualizer.fit(x_train_reg, y_train_reg)  # Fit the training data to the visualizer\n",
    "visualizer.score(x_test_reg, y_test_reg)  # Evaluate the model on the test data\n",
    "g = visualizer.poof() "
   ]
  },
  {
   "cell_type": "markdown",
   "metadata": {},
   "source": [
    "### Gradient Boosting Regressor <a name=\"regGBRModel\"></a>\n",
    "Implemented the [Sklearn Version](https://scikit-learn.org/stable/modules/generated/sklearn.ensemble.GradientBoostingRegressor.html#sklearn.ensemble.GradientBoostingRegressor)\n",
    "\n",
    "Parameters\n",
    "- *Loss*: Loss function\n",
    "- *Learning_rate*: Learning rate shrinks the contribution of each tree by learning_rate\n",
    "- *n_estimators*: The number of boosting stages to perform\n",
    "- *Criterion*: The function to measure the quality of a split\n",
    "- *n_iter_no_change*: used to decide if early stopping will be used to terminate training when validation score is not improving\n",
    "- *validation_fraction*: The proportion of training data to set aside as validation set for early stopping"
   ]
  },
  {
   "cell_type": "code",
   "execution_count": 323,
   "metadata": {},
   "outputs": [],
   "source": [
    "reg_gbr = GradientBoostingRegressor(loss=\"ls\", learning_rate=0.05, n_estimators=300, criterion=\"friedman_mse\", \n",
    "                                    random_state=42, n_iter_no_change=20, validation_fraction=0.1)"
   ]
  },
  {
   "cell_type": "code",
   "execution_count": 324,
   "metadata": {},
   "outputs": [
    {
     "data": {
      "text/plain": [
       "GradientBoostingRegressor(alpha=0.9, criterion='friedman_mse', init=None,\n",
       "             learning_rate=0.05, loss='ls', max_depth=3, max_features=None,\n",
       "             max_leaf_nodes=None, min_impurity_decrease=0.0,\n",
       "             min_impurity_split=None, min_samples_leaf=1,\n",
       "             min_samples_split=2, min_weight_fraction_leaf=0.0,\n",
       "             n_estimators=300, n_iter_no_change=20, presort='auto',\n",
       "             random_state=42, subsample=1.0, tol=0.0001,\n",
       "             validation_fraction=0.1, verbose=0, warm_start=False)"
      ]
     },
     "execution_count": 324,
     "metadata": {},
     "output_type": "execute_result"
    }
   ],
   "source": [
    "reg_gbr.fit(x_train_reg, y_train_reg)"
   ]
  },
  {
   "cell_type": "code",
   "execution_count": 325,
   "metadata": {},
   "outputs": [
    {
     "name": "stdout",
     "output_type": "stream",
     "text": [
      "R^2 Score:  0.8877744564273584\n",
      "MSE Test:  177558.96403290424\n",
      "RMSE Test:  421.37746028104567\n"
     ]
    }
   ],
   "source": [
    "reg_gbr_score = reg_gbr.score(x_test_reg, y_test_reg)\n",
    "\n",
    "#Training\n",
    "y_pred_gbr = reg_gbr.predict(x_test_reg)\n",
    "reg_gbr_mse = mean_squared_error(y_pred_gbr, y_test_reg)\n",
    "\n",
    "print(\"R^2 Score: \", reg_gbr_score)\n",
    "print(\"MSE Test: \", reg_gbr_mse)\n",
    "print(\"RMSE Test: \", np.sqrt(reg_gbr_mse))"
   ]
  },
  {
   "cell_type": "code",
   "execution_count": 326,
   "metadata": {},
   "outputs": [
    {
     "name": "stdout",
     "output_type": "stream",
     "text": [
      "Predicted:  3580.665586989369 Real:  3813\n",
      "Predicted:  343.24294233245655 Real:  105\n",
      "Predicted:  3462.693254725102 Real:  3669\n",
      "Predicted:  103.80595921566027 Real:  79\n",
      "Predicted:  2036.2243469418388 Real:  1465\n",
      "Predicted:  1757.5308126475184 Real:  1935\n",
      "Predicted:  1442.107019898937 Real:  1497\n",
      "Predicted:  1992.3554871755252 Real:  2383\n",
      "Predicted:  1738.4534174500338 Real:  1769\n",
      "Predicted:  2383.266868192598 Real:  2534\n"
     ]
    }
   ],
   "source": [
    "for i in range(10):\n",
    "    print(\"Predicted: \", y_pred_gbr[i], \"Real: \", y_test_reg[i])"
   ]
  },
  {
   "cell_type": "code",
   "execution_count": 327,
   "metadata": {},
   "outputs": [
    {
     "name": "stdout",
     "output_type": "stream",
     "text": [
      "weekday-5.79%\n",
      "DamDepartures-5.99%\n",
      "month_cos-7.01%\n",
      "hour_cos-11.53%\n",
      "hour_sin-51.49%\n"
     ]
    }
   ],
   "source": [
    "#Feature importance\n",
    "importance = reg_gbr.feature_importances_\n",
    "feature_indexes_by_importance = importance.argsort()\n",
    "feature_indexes_by_importance = feature_indexes_by_importance[-5:]\n",
    "for index in feature_indexes_by_importance:\n",
    "    print('{}-{:.2f}%'.format(feature_labels_reg[index], (importance[index] *100.0)))"
   ]
  },
  {
   "cell_type": "code",
   "execution_count": 328,
   "metadata": {},
   "outputs": [
    {
     "data": {
      "image/png": "[encoded data removed]",
      "text/plain": [
       "<Figure size 432x288 with 1 Axes>"
      ]
     },
     "metadata": {
      "needs_background": "light"
     },
     "output_type": "display_data"
    }
   ],
   "source": [
    "visualizer = PredictionError(reg_gbr)\n",
    "visualizer.fit(x_train_reg, y_train_reg)  # Fit the training data to the visualizer\n",
    "visualizer.score(x_test_reg, y_test_reg)  # Evaluate the model on the test data\n",
    "g = visualizer.poof() "
   ]
  },
  {
   "cell_type": "markdown",
   "metadata": {},
   "source": [
    "### Lasso <a name=\"regABRModel\"></a>\n",
    "Implemented the [Sklearn Version](https://scikit-learn.org/stable/modules/generated/sklearn.linear_model.LassoCV.html#sklearn.linear_model.LassoCV)"
   ]
  },
  {
   "cell_type": "code",
   "execution_count": 329,
   "metadata": {},
   "outputs": [],
   "source": [
    "reg_en = LassoCV(n_jobs=5, random_state=42, selection=\"random\")"
   ]
  },
  {
   "cell_type": "code",
   "execution_count": 330,
   "metadata": {},
   "outputs": [
    {
     "name": "stderr",
     "output_type": "stream",
     "text": [
      "D:\\Programs\\Anaconda\\envs\\Analytics\\lib\\site-packages\\sklearn\\model_selection\\_split.py:2053: FutureWarning: You should specify a value for 'cv' instead of relying on the default value. The default value will change from 3 to 5 in version 0.22.\n",
      "  warnings.warn(CV_WARNING, FutureWarning)\n"
     ]
    },
    {
     "data": {
      "text/plain": [
       "LassoCV(alphas=None, copy_X=True, cv='warn', eps=0.001, fit_intercept=True,\n",
       "    max_iter=1000, n_alphas=100, n_jobs=5, normalize=False, positive=False,\n",
       "    precompute='auto', random_state=42, selection='random', tol=0.0001,\n",
       "    verbose=False)"
      ]
     },
     "execution_count": 330,
     "metadata": {},
     "output_type": "execute_result"
    }
   ],
   "source": [
    "reg_en.fit(x_train_reg, y_train_reg)"
   ]
  },
  {
   "cell_type": "code",
   "execution_count": 331,
   "metadata": {},
   "outputs": [
    {
     "name": "stdout",
     "output_type": "stream",
     "text": [
      "R^2 Sore:  0.4289240487330177\n",
      "MSE:  903534.534679589\n",
      "RMSE:  950.5443359883793\n"
     ]
    }
   ],
   "source": [
    "reg_en_score=reg_en.score(x_test_reg, y_test_reg)\n",
    "\n",
    "y_pred_las = reg_en.predict(x_test_reg)\n",
    "reg_en_mse = mean_squared_error(y_pred_las, y_test_reg)\n",
    "\n",
    "print(\"R^2 Sore: \", reg_en_score)\n",
    "print(\"MSE: \", reg_en_mse)\n",
    "print(\"RMSE: \", np.sqrt(reg_en_mse))"
   ]
  },
  {
   "cell_type": "code",
   "execution_count": 332,
   "metadata": {},
   "outputs": [
    {
     "name": "stdout",
     "output_type": "stream",
     "text": [
      "Predicted:  1245.523204092644 Real:  3813\n",
      "Predicted:  680.0309740538916 Real:  105\n",
      "Predicted:  3095.8067194672885 Real:  3669\n",
      "Predicted:  676.6774327165199 Real:  79\n",
      "Predicted:  1694.1717773376809 Real:  1465\n",
      "Predicted:  1495.3966595603854 Real:  1935\n",
      "Predicted:  2132.0774552489133 Real:  1497\n",
      "Predicted:  2132.0774552489133 Real:  2383\n",
      "Predicted:  2182.278762952723 Real:  1769\n",
      "Predicted:  2182.278762952723 Real:  2534\n"
     ]
    }
   ],
   "source": [
    "for i in range(10):\n",
    "    print(\"Predicted: \", y_pred_las[i], \"Real: \", y_test_reg[i])"
   ]
  },
  {
   "cell_type": "code",
   "execution_count": 333,
   "metadata": {},
   "outputs": [
    {
     "name": "stderr",
     "output_type": "stream",
     "text": [
      "D:\\Programs\\Anaconda\\envs\\Analytics\\lib\\site-packages\\sklearn\\model_selection\\_split.py:2053: FutureWarning: You should specify a value for 'cv' instead of relying on the default value. The default value will change from 3 to 5 in version 0.22.\n",
      "  warnings.warn(CV_WARNING, FutureWarning)\n"
     ]
    },
    {
     "data": {
      "image/png": "[encoded data removed]",
      "text/plain": [
       "<Figure size 432x288 with 1 Axes>"
      ]
     },
     "metadata": {
      "needs_background": "light"
     },
     "output_type": "display_data"
    }
   ],
   "source": [
    "visualizer = PredictionError(reg_en)\n",
    "visualizer.fit(x_train_reg, y_train_reg)  # Fit the training data to the visualizer\n",
    "visualizer.score(x_test_reg, y_test_reg)  # Evaluate the model on the test data\n",
    "g = visualizer.poof() "
   ]
  },
  {
   "cell_type": "markdown",
   "metadata": {},
   "source": [
    "## Classification Models <a name=\"classification\"></a>"
   ]
  },
  {
   "cell_type": "code",
   "execution_count": 334,
   "metadata": {},
   "outputs": [],
   "source": [
    "classes = [\"Level 1\", \"Level 2\", \"Level 3\", \"Level 4\"]"
   ]
  },
  {
   "cell_type": "markdown",
   "metadata": {},
   "source": [
    "### Change numerical labels to categorical labels <a name=\"classCatVar\"></a>"
   ]
  },
  {
   "cell_type": "code",
   "execution_count": 335,
   "metadata": {},
   "outputs": [],
   "source": [
    "#Check distribution crowdedness\n",
    "clas_counts = full[\"CrowdednessCount\"].values\n",
    "\n",
    "#Normal Distribute values, give mu and std\n",
    "clas_mu, clas_std = norm.fit(clas_counts)"
   ]
  },
  {
   "cell_type": "code",
   "execution_count": 336,
   "metadata": {},
   "outputs": [],
   "source": [
    "clas_dict = full.to_dict(\"index\")\n",
    "\n",
    "for k, v in clas_dict.items():\n",
    "    \n",
    "    #Max crowdedness count for low level\n",
    "    low_level = clas_mu - clas_std\n",
    "    \n",
    "    #Max crowdedness medium level\n",
    "    high_level = clas_mu + clas_std\n",
    "    \n",
    "    #Assign class labels\n",
    "    if v[\"CrowdednessCount\"] < low_level:\n",
    "        v[\"CrowdednessCount\"] = 0\n",
    "    elif v[\"CrowdednessCount\"] >= high_level:\n",
    "        v[\"CrowdednessCount\"] = 3\n",
    "    elif v[\"CrowdednessCount\"] >= low_level and v[\"CrowdednessCount\"] < clas_mu:\n",
    "        v[\"CrowdednessCount\"] = 1\n",
    "    elif v[\"CrowdednessCount\"] >= clas_mu and v[\"CrowdednessCount\"] < high_level:\n",
    "        v[\"CrowdednessCount\"] = 2\n",
    "        \n",
    "clas_model_df = pd.DataFrame.from_dict(clas_dict, orient=\"index\")"
   ]
  },
  {
   "cell_type": "code",
   "execution_count": 337,
   "metadata": {},
   "outputs": [
    {
     "data": {
      "text/html": [
       "<div>\n",
       "<style scoped>\n",
       "    .dataframe tbody tr th:only-of-type {\n",
       "        vertical-align: middle;\n",
       "    }\n",
       "\n",
       "    .dataframe tbody tr th {\n",
       "        vertical-align: top;\n",
       "    }\n",
       "\n",
       "    .dataframe thead th {\n",
       "        text-align: right;\n",
       "    }\n",
       "</style>\n",
       "<table border=\"1\" class=\"dataframe\">\n",
       "  <thead>\n",
       "    <tr style=\"text-align: right;\">\n",
       "      <th></th>\n",
       "      <th>Date</th>\n",
       "      <th>is_event</th>\n",
       "      <th>event_lat</th>\n",
       "      <th>event_lon</th>\n",
       "      <th>NieuwmarktLat</th>\n",
       "      <th>NieuwmarktLon</th>\n",
       "      <th>NieuwmarktArrivals</th>\n",
       "      <th>NieuwmarktDepartures</th>\n",
       "      <th>NieuwezijdsLat</th>\n",
       "      <th>NieuwezijdsLon</th>\n",
       "      <th>...</th>\n",
       "      <th>SensorLongitude</th>\n",
       "      <th>SensorLatitude</th>\n",
       "      <th>Year</th>\n",
       "      <th>month_sin</th>\n",
       "      <th>month_cos</th>\n",
       "      <th>day_sin</th>\n",
       "      <th>day_cos</th>\n",
       "      <th>hour_sin</th>\n",
       "      <th>hour_cos</th>\n",
       "      <th>CrowdednessCount</th>\n",
       "    </tr>\n",
       "  </thead>\n",
       "  <tbody>\n",
       "    <tr>\n",
       "      <th>0</th>\n",
       "      <td>2019-03-26</td>\n",
       "      <td>0.0</td>\n",
       "      <td>0.0</td>\n",
       "      <td>0.0</td>\n",
       "      <td>52.371942</td>\n",
       "      <td>4.901239</td>\n",
       "      <td>31.0</td>\n",
       "      <td>115.0</td>\n",
       "      <td>52.376288</td>\n",
       "      <td>4.893731</td>\n",
       "      <td>...</td>\n",
       "      <td>4.898903</td>\n",
       "      <td>52.373786</td>\n",
       "      <td>2018</td>\n",
       "      <td>0.866025</td>\n",
       "      <td>-0.500000</td>\n",
       "      <td>0.017213</td>\n",
       "      <td>0.999852</td>\n",
       "      <td>-2.449294e-16</td>\n",
       "      <td>1.000000e+00</td>\n",
       "      <td>3</td>\n",
       "    </tr>\n",
       "    <tr>\n",
       "      <th>1</th>\n",
       "      <td>2019-03-16</td>\n",
       "      <td>0.0</td>\n",
       "      <td>0.0</td>\n",
       "      <td>0.0</td>\n",
       "      <td>52.371942</td>\n",
       "      <td>4.901239</td>\n",
       "      <td>67.0</td>\n",
       "      <td>50.0</td>\n",
       "      <td>52.376288</td>\n",
       "      <td>4.893731</td>\n",
       "      <td>...</td>\n",
       "      <td>4.898903</td>\n",
       "      <td>52.373786</td>\n",
       "      <td>2018</td>\n",
       "      <td>0.866025</td>\n",
       "      <td>-0.500000</td>\n",
       "      <td>0.017213</td>\n",
       "      <td>0.999852</td>\n",
       "      <td>1.000000e+00</td>\n",
       "      <td>6.123234e-17</td>\n",
       "      <td>0</td>\n",
       "    </tr>\n",
       "    <tr>\n",
       "      <th>2</th>\n",
       "      <td>2018-09-16</td>\n",
       "      <td>0.0</td>\n",
       "      <td>0.0</td>\n",
       "      <td>0.0</td>\n",
       "      <td>52.371942</td>\n",
       "      <td>4.901239</td>\n",
       "      <td>362.0</td>\n",
       "      <td>407.0</td>\n",
       "      <td>52.376288</td>\n",
       "      <td>4.893731</td>\n",
       "      <td>...</td>\n",
       "      <td>4.898903</td>\n",
       "      <td>52.373786</td>\n",
       "      <td>2018</td>\n",
       "      <td>0.866025</td>\n",
       "      <td>-0.500000</td>\n",
       "      <td>0.017213</td>\n",
       "      <td>0.999852</td>\n",
       "      <td>-7.071068e-01</td>\n",
       "      <td>-7.071068e-01</td>\n",
       "      <td>3</td>\n",
       "    </tr>\n",
       "    <tr>\n",
       "      <th>3</th>\n",
       "      <td>2019-03-19</td>\n",
       "      <td>0.0</td>\n",
       "      <td>0.0</td>\n",
       "      <td>0.0</td>\n",
       "      <td>52.371942</td>\n",
       "      <td>4.901239</td>\n",
       "      <td>90.0</td>\n",
       "      <td>40.0</td>\n",
       "      <td>52.376288</td>\n",
       "      <td>4.893731</td>\n",
       "      <td>...</td>\n",
       "      <td>4.897334</td>\n",
       "      <td>52.372524</td>\n",
       "      <td>2018</td>\n",
       "      <td>-0.500000</td>\n",
       "      <td>-0.866025</td>\n",
       "      <td>0.017213</td>\n",
       "      <td>0.999852</td>\n",
       "      <td>8.660254e-01</td>\n",
       "      <td>-5.000000e-01</td>\n",
       "      <td>0</td>\n",
       "    </tr>\n",
       "    <tr>\n",
       "      <th>4</th>\n",
       "      <td>2018-12-13</td>\n",
       "      <td>0.0</td>\n",
       "      <td>0.0</td>\n",
       "      <td>0.0</td>\n",
       "      <td>52.371942</td>\n",
       "      <td>4.901239</td>\n",
       "      <td>360.0</td>\n",
       "      <td>210.0</td>\n",
       "      <td>52.376288</td>\n",
       "      <td>4.893731</td>\n",
       "      <td>...</td>\n",
       "      <td>4.898903</td>\n",
       "      <td>52.373786</td>\n",
       "      <td>2018</td>\n",
       "      <td>-0.866025</td>\n",
       "      <td>-0.500000</td>\n",
       "      <td>0.051620</td>\n",
       "      <td>0.998667</td>\n",
       "      <td>-2.588190e-01</td>\n",
       "      <td>-9.659258e-01</td>\n",
       "      <td>2</td>\n",
       "    </tr>\n",
       "  </tbody>\n",
       "</table>\n",
       "<p>5 rows × 32 columns</p>\n",
       "</div>"
      ],
      "text/plain": [
       "        Date  is_event  event_lat  event_lon  NieuwmarktLat  NieuwmarktLon  \\\n",
       "0 2019-03-26       0.0        0.0        0.0      52.371942       4.901239   \n",
       "1 2019-03-16       0.0        0.0        0.0      52.371942       4.901239   \n",
       "2 2018-09-16       0.0        0.0        0.0      52.371942       4.901239   \n",
       "3 2019-03-19       0.0        0.0        0.0      52.371942       4.901239   \n",
       "4 2018-12-13       0.0        0.0        0.0      52.371942       4.901239   \n",
       "\n",
       "   NieuwmarktArrivals  NieuwmarktDepartures  NieuwezijdsLat  NieuwezijdsLon  \\\n",
       "0                31.0                 115.0       52.376288        4.893731   \n",
       "1                67.0                  50.0       52.376288        4.893731   \n",
       "2               362.0                 407.0       52.376288        4.893731   \n",
       "3                90.0                  40.0       52.376288        4.893731   \n",
       "4               360.0                 210.0       52.376288        4.893731   \n",
       "\n",
       "   ...  SensorLongitude  SensorLatitude  Year  month_sin  month_cos   day_sin  \\\n",
       "0  ...         4.898903       52.373786  2018   0.866025  -0.500000  0.017213   \n",
       "1  ...         4.898903       52.373786  2018   0.866025  -0.500000  0.017213   \n",
       "2  ...         4.898903       52.373786  2018   0.866025  -0.500000  0.017213   \n",
       "3  ...         4.897334       52.372524  2018  -0.500000  -0.866025  0.017213   \n",
       "4  ...         4.898903       52.373786  2018  -0.866025  -0.500000  0.051620   \n",
       "\n",
       "    day_cos      hour_sin      hour_cos  CrowdednessCount  \n",
       "0  0.999852 -2.449294e-16  1.000000e+00                 3  \n",
       "1  0.999852  1.000000e+00  6.123234e-17                 0  \n",
       "2  0.999852 -7.071068e-01 -7.071068e-01                 3  \n",
       "3  0.999852  8.660254e-01 -5.000000e-01                 0  \n",
       "4  0.998667 -2.588190e-01 -9.659258e-01                 2  \n",
       "\n",
       "[5 rows x 32 columns]"
      ]
     },
     "execution_count": 337,
     "metadata": {},
     "output_type": "execute_result"
    }
   ],
   "source": [
    "clas_model_df.head()"
   ]
  },
  {
   "cell_type": "code",
   "execution_count": 338,
   "metadata": {},
   "outputs": [],
   "source": [
    "train_df_clas = clas_model_df[class_model_df[\"Date\"].isin(train_set_dates)].drop(columns=[\"Date\"])\n",
    "\n",
    "test_df_clas = clas_model_df[class_model_df[\"Date\"].isin(test_set_dates)].drop(columns=[\"Date\"])"
   ]
  },
  {
   "cell_type": "code",
   "execution_count": 339,
   "metadata": {},
   "outputs": [
    {
     "data": {
      "text/html": [
       "<div>\n",
       "<style scoped>\n",
       "    .dataframe tbody tr th:only-of-type {\n",
       "        vertical-align: middle;\n",
       "    }\n",
       "\n",
       "    .dataframe tbody tr th {\n",
       "        vertical-align: top;\n",
       "    }\n",
       "\n",
       "    .dataframe thead th {\n",
       "        text-align: right;\n",
       "    }\n",
       "</style>\n",
       "<table border=\"1\" class=\"dataframe\">\n",
       "  <thead>\n",
       "    <tr style=\"text-align: right;\">\n",
       "      <th></th>\n",
       "      <th>is_event</th>\n",
       "      <th>event_lat</th>\n",
       "      <th>event_lon</th>\n",
       "      <th>NieuwmarktLat</th>\n",
       "      <th>NieuwmarktLon</th>\n",
       "      <th>NieuwmarktArrivals</th>\n",
       "      <th>NieuwmarktDepartures</th>\n",
       "      <th>NieuwezijdsLat</th>\n",
       "      <th>NieuwezijdsLon</th>\n",
       "      <th>NieuwezijdsArrivals</th>\n",
       "      <th>...</th>\n",
       "      <th>SensorLongitude</th>\n",
       "      <th>SensorLatitude</th>\n",
       "      <th>Year</th>\n",
       "      <th>month_sin</th>\n",
       "      <th>month_cos</th>\n",
       "      <th>day_sin</th>\n",
       "      <th>day_cos</th>\n",
       "      <th>hour_sin</th>\n",
       "      <th>hour_cos</th>\n",
       "      <th>CrowdednessCount</th>\n",
       "    </tr>\n",
       "  </thead>\n",
       "  <tbody>\n",
       "    <tr>\n",
       "      <th>0</th>\n",
       "      <td>0.0</td>\n",
       "      <td>0.0</td>\n",
       "      <td>0.0</td>\n",
       "      <td>52.371942</td>\n",
       "      <td>4.901239</td>\n",
       "      <td>31.0</td>\n",
       "      <td>115.0</td>\n",
       "      <td>52.376288</td>\n",
       "      <td>4.893731</td>\n",
       "      <td>20.0</td>\n",
       "      <td>...</td>\n",
       "      <td>4.898903</td>\n",
       "      <td>52.373786</td>\n",
       "      <td>2018</td>\n",
       "      <td>0.866025</td>\n",
       "      <td>-0.500000</td>\n",
       "      <td>0.017213</td>\n",
       "      <td>0.999852</td>\n",
       "      <td>-2.449294e-16</td>\n",
       "      <td>1.000000e+00</td>\n",
       "      <td>3</td>\n",
       "    </tr>\n",
       "    <tr>\n",
       "      <th>1</th>\n",
       "      <td>0.0</td>\n",
       "      <td>0.0</td>\n",
       "      <td>0.0</td>\n",
       "      <td>52.371942</td>\n",
       "      <td>4.901239</td>\n",
       "      <td>67.0</td>\n",
       "      <td>50.0</td>\n",
       "      <td>52.376288</td>\n",
       "      <td>4.893731</td>\n",
       "      <td>14.0</td>\n",
       "      <td>...</td>\n",
       "      <td>4.898903</td>\n",
       "      <td>52.373786</td>\n",
       "      <td>2018</td>\n",
       "      <td>0.866025</td>\n",
       "      <td>-0.500000</td>\n",
       "      <td>0.017213</td>\n",
       "      <td>0.999852</td>\n",
       "      <td>1.000000e+00</td>\n",
       "      <td>6.123234e-17</td>\n",
       "      <td>0</td>\n",
       "    </tr>\n",
       "    <tr>\n",
       "      <th>2</th>\n",
       "      <td>0.0</td>\n",
       "      <td>0.0</td>\n",
       "      <td>0.0</td>\n",
       "      <td>52.371942</td>\n",
       "      <td>4.901239</td>\n",
       "      <td>362.0</td>\n",
       "      <td>407.0</td>\n",
       "      <td>52.376288</td>\n",
       "      <td>4.893731</td>\n",
       "      <td>300.0</td>\n",
       "      <td>...</td>\n",
       "      <td>4.898903</td>\n",
       "      <td>52.373786</td>\n",
       "      <td>2018</td>\n",
       "      <td>0.866025</td>\n",
       "      <td>-0.500000</td>\n",
       "      <td>0.017213</td>\n",
       "      <td>0.999852</td>\n",
       "      <td>-7.071068e-01</td>\n",
       "      <td>-7.071068e-01</td>\n",
       "      <td>3</td>\n",
       "    </tr>\n",
       "    <tr>\n",
       "      <th>3</th>\n",
       "      <td>0.0</td>\n",
       "      <td>0.0</td>\n",
       "      <td>0.0</td>\n",
       "      <td>52.371942</td>\n",
       "      <td>4.901239</td>\n",
       "      <td>90.0</td>\n",
       "      <td>40.0</td>\n",
       "      <td>52.376288</td>\n",
       "      <td>4.893731</td>\n",
       "      <td>32.0</td>\n",
       "      <td>...</td>\n",
       "      <td>4.897334</td>\n",
       "      <td>52.372524</td>\n",
       "      <td>2018</td>\n",
       "      <td>-0.500000</td>\n",
       "      <td>-0.866025</td>\n",
       "      <td>0.017213</td>\n",
       "      <td>0.999852</td>\n",
       "      <td>8.660254e-01</td>\n",
       "      <td>-5.000000e-01</td>\n",
       "      <td>0</td>\n",
       "    </tr>\n",
       "    <tr>\n",
       "      <th>4</th>\n",
       "      <td>0.0</td>\n",
       "      <td>0.0</td>\n",
       "      <td>0.0</td>\n",
       "      <td>52.371942</td>\n",
       "      <td>4.901239</td>\n",
       "      <td>360.0</td>\n",
       "      <td>210.0</td>\n",
       "      <td>52.376288</td>\n",
       "      <td>4.893731</td>\n",
       "      <td>208.0</td>\n",
       "      <td>...</td>\n",
       "      <td>4.898903</td>\n",
       "      <td>52.373786</td>\n",
       "      <td>2018</td>\n",
       "      <td>-0.866025</td>\n",
       "      <td>-0.500000</td>\n",
       "      <td>0.051620</td>\n",
       "      <td>0.998667</td>\n",
       "      <td>-2.588190e-01</td>\n",
       "      <td>-9.659258e-01</td>\n",
       "      <td>2</td>\n",
       "    </tr>\n",
       "  </tbody>\n",
       "</table>\n",
       "<p>5 rows × 31 columns</p>\n",
       "</div>"
      ],
      "text/plain": [
       "   is_event  event_lat  event_lon  NieuwmarktLat  NieuwmarktLon  \\\n",
       "0       0.0        0.0        0.0      52.371942       4.901239   \n",
       "1       0.0        0.0        0.0      52.371942       4.901239   \n",
       "2       0.0        0.0        0.0      52.371942       4.901239   \n",
       "3       0.0        0.0        0.0      52.371942       4.901239   \n",
       "4       0.0        0.0        0.0      52.371942       4.901239   \n",
       "\n",
       "   NieuwmarktArrivals  NieuwmarktDepartures  NieuwezijdsLat  NieuwezijdsLon  \\\n",
       "0                31.0                 115.0       52.376288        4.893731   \n",
       "1                67.0                  50.0       52.376288        4.893731   \n",
       "2               362.0                 407.0       52.376288        4.893731   \n",
       "3                90.0                  40.0       52.376288        4.893731   \n",
       "4               360.0                 210.0       52.376288        4.893731   \n",
       "\n",
       "   NieuwezijdsArrivals  ...  SensorLongitude  SensorLatitude  Year  month_sin  \\\n",
       "0                 20.0  ...         4.898903       52.373786  2018   0.866025   \n",
       "1                 14.0  ...         4.898903       52.373786  2018   0.866025   \n",
       "2                300.0  ...         4.898903       52.373786  2018   0.866025   \n",
       "3                 32.0  ...         4.897334       52.372524  2018  -0.500000   \n",
       "4                208.0  ...         4.898903       52.373786  2018  -0.866025   \n",
       "\n",
       "   month_cos   day_sin   day_cos      hour_sin      hour_cos  CrowdednessCount  \n",
       "0  -0.500000  0.017213  0.999852 -2.449294e-16  1.000000e+00                 3  \n",
       "1  -0.500000  0.017213  0.999852  1.000000e+00  6.123234e-17                 0  \n",
       "2  -0.500000  0.017213  0.999852 -7.071068e-01 -7.071068e-01                 3  \n",
       "3  -0.866025  0.017213  0.999852  8.660254e-01 -5.000000e-01                 0  \n",
       "4  -0.500000  0.051620  0.998667 -2.588190e-01 -9.659258e-01                 2  \n",
       "\n",
       "[5 rows x 31 columns]"
      ]
     },
     "execution_count": 339,
     "metadata": {},
     "output_type": "execute_result"
    }
   ],
   "source": [
    "train_df_clas.head()"
   ]
  },
  {
   "cell_type": "code",
   "execution_count": 340,
   "metadata": {},
   "outputs": [],
   "source": [
    "#Train\n",
    "x_train_clas = train_df_clas.drop([\"CrowdednessCount\"], axis=1)\n",
    "y_train_clas = train_df_clas[\"CrowdednessCount\"]\n",
    "\n",
    "#Test\n",
    "x_test_clas = test_df_clas.drop([\"CrowdednessCount\"], axis=1)\n",
    "y_test_clas = test_df_clas[\"CrowdednessCount\"]\n",
    "\n",
    "feature_labels_clas = train_df_clas.columns.values"
   ]
  },
  {
   "cell_type": "markdown",
   "metadata": {},
   "source": [
    "### Baseline <a name=\"classBaseModel\"></a>\n",
    "Implemented the [Sklearn Version](https://scikit-learn.org/stable/modules/generated/sklearn.dummy.DummyClassifier.html#sklearn.dummy.DummyClassifier)\n",
    "\n",
    "Parameters\n",
    "- *strategy*: \"stratified” - generates predictions by respecting the training set’s class distribution."
   ]
  },
  {
   "cell_type": "code",
   "execution_count": 341,
   "metadata": {},
   "outputs": [],
   "source": [
    "clas_bas = DummyClassifier(strategy=\"most_frequent\", random_state=42)"
   ]
  },
  {
   "cell_type": "code",
   "execution_count": 342,
   "metadata": {},
   "outputs": [
    {
     "data": {
      "text/plain": [
       "DummyClassifier(constant=None, random_state=42, strategy='most_frequent')"
      ]
     },
     "execution_count": 342,
     "metadata": {},
     "output_type": "execute_result"
    }
   ],
   "source": [
    "clas_bas.fit(x_train_clas, y_train_clas)"
   ]
  },
  {
   "cell_type": "code",
   "execution_count": 343,
   "metadata": {},
   "outputs": [
    {
     "name": "stdout",
     "output_type": "stream",
     "text": [
      "Accuracy Score:  0.38315456303850887\n",
      "              precision    recall  f1-score   support\n",
      "\n",
      "           0       0.00      0.00      0.00      3089\n",
      "           1       0.38      1.00      0.55      6537\n",
      "           2       0.00      0.00      0.00      4587\n",
      "           3       0.00      0.00      0.00      2848\n",
      "\n",
      "   micro avg       0.38      0.38      0.38     17061\n",
      "   macro avg       0.10      0.25      0.14     17061\n",
      "weighted avg       0.15      0.38      0.21     17061\n",
      "\n"
     ]
    },
    {
     "name": "stderr",
     "output_type": "stream",
     "text": [
      "D:\\Programs\\Anaconda\\envs\\Analytics\\lib\\site-packages\\sklearn\\metrics\\classification.py:1143: UndefinedMetricWarning: Precision and F-score are ill-defined and being set to 0.0 in labels with no predicted samples.\n",
      "  'precision', 'predicted', average, warn_for)\n"
     ]
    }
   ],
   "source": [
    "y_pred_clas_bas = clas_bas.predict(x_test_clas)\n",
    "\n",
    "print(\"Accuracy Score: \", accuracy_score(y_test_clas, y_pred_clas_bas))\n",
    "print(classification_report(y_test_clas, y_pred_clas_bas))"
   ]
  },
  {
   "cell_type": "code",
   "execution_count": 344,
   "metadata": {},
   "outputs": [
    {
     "data": {
      "image/png": "[encoded data removed]",
      "text/plain": [
       "<Figure size 432x288 with 1 Axes>"
      ]
     },
     "metadata": {
      "needs_background": "light"
     },
     "output_type": "display_data"
    }
   ],
   "source": [
    "visualizer = ClassPredictionError(\n",
    "    clas_bas, classes=classes\n",
    ")\n",
    "\n",
    "visualizer.fit(x_train_clas, y_train_clas)\n",
    "visualizer.score(x_test_clas, y_test_clas)\n",
    "g = visualizer.poof()"
   ]
  },
  {
   "cell_type": "markdown",
   "metadata": {},
   "source": [
    "### Random Forrest Classifier <a name=\"classRFCModel\"></a>\n",
    "Implemented the [Sklearn Version](https://scikit-learn.org/stable/modules/generated/sklearn.ensemble.RandomForestClassifier.html#sklearn.ensemble.RandomForestClassifier)"
   ]
  },
  {
   "cell_type": "code",
   "execution_count": 345,
   "metadata": {},
   "outputs": [],
   "source": [
    "clas_rfc = RandomForestClassifier(n_estimators=300, criterion=\"entropy\", n_jobs=20, random_state=42, \n",
    "                                  class_weight=\"balanced\")"
   ]
  },
  {
   "cell_type": "code",
   "execution_count": 346,
   "metadata": {},
   "outputs": [
    {
     "data": {
      "text/plain": [
       "RandomForestClassifier(bootstrap=True, class_weight='balanced',\n",
       "            criterion='entropy', max_depth=None, max_features='auto',\n",
       "            max_leaf_nodes=None, min_impurity_decrease=0.0,\n",
       "            min_impurity_split=None, min_samples_leaf=1,\n",
       "            min_samples_split=2, min_weight_fraction_leaf=0.0,\n",
       "            n_estimators=300, n_jobs=20, oob_score=False, random_state=42,\n",
       "            verbose=0, warm_start=False)"
      ]
     },
     "execution_count": 346,
     "metadata": {},
     "output_type": "execute_result"
    }
   ],
   "source": [
    "clas_rfc.fit(x_train_clas, y_train_clas)"
   ]
  },
  {
   "cell_type": "code",
   "execution_count": 347,
   "metadata": {},
   "outputs": [
    {
     "name": "stdout",
     "output_type": "stream",
     "text": [
      "Accuracy Score:  1.0\n",
      "              precision    recall  f1-score   support\n",
      "\n",
      "           0       1.00      1.00      1.00      3089\n",
      "           1       1.00      1.00      1.00      6537\n",
      "           2       1.00      1.00      1.00      4587\n",
      "           3       1.00      1.00      1.00      2848\n",
      "\n",
      "   micro avg       1.00      1.00      1.00     17061\n",
      "   macro avg       1.00      1.00      1.00     17061\n",
      "weighted avg       1.00      1.00      1.00     17061\n",
      "\n"
     ]
    }
   ],
   "source": [
    "y_pred_rfc = clas_rfc.predict(x_test_clas)\n",
    "\n",
    "print(\"Accuracy Score: \", accuracy_score(y_test_clas, y_pred_rfc))\n",
    "print(classification_report(y_test_clas, y_pred_rfc))"
   ]
  },
  {
   "cell_type": "code",
   "execution_count": 348,
   "metadata": {},
   "outputs": [
    {
     "data": {
      "image/png": "[encoded data removed]",
      "text/plain": [
       "<Figure size 432x288 with 1 Axes>"
      ]
     },
     "metadata": {
      "needs_background": "light"
     },
     "output_type": "display_data"
    }
   ],
   "source": [
    "visualizer = ClassPredictionError(\n",
    "    clas_rfc, classes=classes\n",
    ")\n",
    "\n",
    "visualizer.fit(x_train_clas, y_train_clas)\n",
    "visualizer.score(x_test_clas, y_test_clas)\n",
    "g = visualizer.poof()"
   ]
  },
  {
   "cell_type": "markdown",
   "metadata": {},
   "source": [
    "### Gradient Boosting Classifier <a name=\"classGBCModel\"></a>\n",
    "Implemented the [Sklearn Version](https://scikit-learn.org/stable/modules/generated/sklearn.ensemble.GradientBoostingClassifier.html#sklearn.ensemble.GradientBoostingClassifier)"
   ]
  },
  {
   "cell_type": "code",
   "execution_count": 349,
   "metadata": {},
   "outputs": [],
   "source": [
    "clas_gbc = GradientBoostingClassifier(learning_rate=0.05, n_estimators=300, random_state=42, n_iter_no_change=20, \n",
    "                                     validation_fraction=0.1)"
   ]
  },
  {
   "cell_type": "code",
   "execution_count": 350,
   "metadata": {},
   "outputs": [
    {
     "data": {
      "text/plain": [
       "GradientBoostingClassifier(criterion='friedman_mse', init=None,\n",
       "              learning_rate=0.05, loss='deviance', max_depth=3,\n",
       "              max_features=None, max_leaf_nodes=None,\n",
       "              min_impurity_decrease=0.0, min_impurity_split=None,\n",
       "              min_samples_leaf=1, min_samples_split=2,\n",
       "              min_weight_fraction_leaf=0.0, n_estimators=300,\n",
       "              n_iter_no_change=20, presort='auto', random_state=42,\n",
       "              subsample=1.0, tol=0.0001, validation_fraction=0.1,\n",
       "              verbose=0, warm_start=False)"
      ]
     },
     "execution_count": 350,
     "metadata": {},
     "output_type": "execute_result"
    }
   ],
   "source": [
    "clas_gbc.fit(x_train_clas, y_train_clas)"
   ]
  },
  {
   "cell_type": "code",
   "execution_count": 351,
   "metadata": {},
   "outputs": [
    {
     "name": "stdout",
     "output_type": "stream",
     "text": [
      "Accuracy Score:  0.8525291600726804\n",
      "              precision    recall  f1-score   support\n",
      "\n",
      "           0       0.91      0.91      0.91      3089\n",
      "           1       0.88      0.87      0.87      6537\n",
      "           2       0.78      0.82      0.80      4587\n",
      "           3       0.86      0.81      0.83      2848\n",
      "\n",
      "   micro avg       0.85      0.85      0.85     17061\n",
      "   macro avg       0.86      0.85      0.85     17061\n",
      "weighted avg       0.85      0.85      0.85     17061\n",
      "\n"
     ]
    }
   ],
   "source": [
    "y_pred_gbc = clas_gbc.predict(x_test_clas)\n",
    "\n",
    "print(\"Accuracy Score: \", accuracy_score(y_test_clas, y_pred_gbc))\n",
    "print(classification_report(y_test_clas, y_pred_gbc))"
   ]
  },
  {
   "cell_type": "code",
   "execution_count": 352,
   "metadata": {},
   "outputs": [
    {
     "data": {
      "image/png": "[encoded data removed]",
      "text/plain": [
       "<Figure size 432x288 with 1 Axes>"
      ]
     },
     "metadata": {
      "needs_background": "light"
     },
     "output_type": "display_data"
    }
   ],
   "source": [
    "visualizer = ClassPredictionError(\n",
    "    clas_gbc, classes=classes\n",
    ")\n",
    "\n",
    "visualizer.fit(x_train_clas, y_train_clas)\n",
    "visualizer.score(x_test_clas, y_test_clas)\n",
    "g = visualizer.poof()"
   ]
  },
  {
   "cell_type": "markdown",
   "metadata": {},
   "source": [
    "### SGD Classifier  <a name=\"classSGDModel\"></a>\n",
    "Implemented the [Sklearn Version](https://scikit-learn.org/stable/modules/generated/sklearn.linear_model.SGDClassifier.html#sklearn.linear_model.SGDClassifier)"
   ]
  },
  {
   "cell_type": "code",
   "execution_count": 353,
   "metadata": {},
   "outputs": [],
   "source": [
    "reg_sgd = SGDClassifier(n_jobs=50, random_state=42)"
   ]
  },
  {
   "cell_type": "code",
   "execution_count": 354,
   "metadata": {},
   "outputs": [
    {
     "name": "stderr",
     "output_type": "stream",
     "text": [
      "D:\\Programs\\Anaconda\\envs\\Analytics\\lib\\site-packages\\sklearn\\linear_model\\stochastic_gradient.py:166: FutureWarning: max_iter and tol parameters have been added in SGDClassifier in 0.19. If both are left unset, they default to max_iter=5 and tol=None. If tol is not None, max_iter defaults to max_iter=1000. From 0.21, default max_iter will be 1000, and default tol will be 1e-3.\n",
      "  FutureWarning)\n"
     ]
    },
    {
     "data": {
      "text/plain": [
       "SGDClassifier(alpha=0.0001, average=False, class_weight=None,\n",
       "       early_stopping=False, epsilon=0.1, eta0=0.0, fit_intercept=True,\n",
       "       l1_ratio=0.15, learning_rate='optimal', loss='hinge', max_iter=None,\n",
       "       n_iter=None, n_iter_no_change=5, n_jobs=50, penalty='l2',\n",
       "       power_t=0.5, random_state=42, shuffle=True, tol=None,\n",
       "       validation_fraction=0.1, verbose=0, warm_start=False)"
      ]
     },
     "execution_count": 354,
     "metadata": {},
     "output_type": "execute_result"
    }
   ],
   "source": [
    "reg_sgd.fit(x_train_clas, y_train_clas)"
   ]
  },
  {
   "cell_type": "code",
   "execution_count": 355,
   "metadata": {},
   "outputs": [
    {
     "name": "stdout",
     "output_type": "stream",
     "text": [
      "Accuracy Score:  0.5315046011370963\n",
      "              precision    recall  f1-score   support\n",
      "\n",
      "           0       0.80      0.46      0.59      3089\n",
      "           1       0.58      0.79      0.67      6537\n",
      "           2       1.00      0.00      0.00      4587\n",
      "           3       0.39      0.87      0.54      2848\n",
      "\n",
      "   micro avg       0.53      0.53      0.53     17061\n",
      "   macro avg       0.69      0.53      0.45     17061\n",
      "weighted avg       0.70      0.53      0.45     17061\n",
      "\n"
     ]
    }
   ],
   "source": [
    "y_pred_sgd = reg_sgd.predict(x_test_clas)\n",
    "\n",
    "print(\"Accuracy Score: \", accuracy_score(y_test_clas, y_pred_sgd))\n",
    "print(classification_report(y_test_clas, y_pred_sgd))"
   ]
  },
  {
   "cell_type": "code",
   "execution_count": 356,
   "metadata": {},
   "outputs": [
    {
     "name": "stderr",
     "output_type": "stream",
     "text": [
      "D:\\Programs\\Anaconda\\envs\\Analytics\\lib\\site-packages\\sklearn\\linear_model\\stochastic_gradient.py:166: FutureWarning: max_iter and tol parameters have been added in SGDClassifier in 0.19. If both are left unset, they default to max_iter=5 and tol=None. If tol is not None, max_iter defaults to max_iter=1000. From 0.21, default max_iter will be 1000, and default tol will be 1e-3.\n",
      "  FutureWarning)\n"
     ]
    },
    {
     "data": {
      "image/png": "[encoded data removed]",
      "text/plain": [
       "<Figure size 432x288 with 1 Axes>"
      ]
     },
     "metadata": {
      "needs_background": "light"
     },
     "output_type": "display_data"
    }
   ],
   "source": [
    "visualizer = ClassPredictionError(\n",
    "    reg_sgd, classes=classes\n",
    ")\n",
    "\n",
    "visualizer.fit(x_train_clas, y_train_clas)\n",
    "visualizer.score(x_test_clas, y_test_clas)\n",
    "g = visualizer.poof()"
   ]
  },
  {
   "cell_type": "markdown",
   "metadata": {},
   "source": [
    "### Voting Classifier <a name=\"classVCModel\"></a>\n",
    "Implemented the [Sklearn Version](https://scikit-learn.org/stable/modules/generated/sklearn.ensemble.VotingClassifier.html#sklearn.ensemble.VotingClassifier)\n",
    "\n",
    "This classifier combines the classifications of the [Random Forrest Classification](#classRFCModel) and [Gradient Boosting Classification](#classGBCModel) by classifying each instance with the one of the classes given by the models. "
   ]
  },
  {
   "cell_type": "code",
   "execution_count": 357,
   "metadata": {},
   "outputs": [],
   "source": [
    "#List estimator models\n",
    "estimators = [(\"rfc\", clas_rfc), (\"gbc\", clas_gbc)]\n",
    "\n",
    "clas_vc = VotingClassifier(estimators=estimators, voting=\"soft\", n_jobs=20,weights=[1, 1])"
   ]
  },
  {
   "cell_type": "code",
   "execution_count": 358,
   "metadata": {},
   "outputs": [
    {
     "data": {
      "text/plain": [
       "VotingClassifier(estimators=[('rfc', RandomForestClassifier(bootstrap=True, class_weight='balanced',\n",
       "            criterion='entropy', max_depth=None, max_features='auto',\n",
       "            max_leaf_nodes=None, min_impurity_decrease=0.0,\n",
       "            min_impurity_split=None, min_samples_leaf=1,\n",
       "            min_samples_split...    subsample=1.0, tol=0.0001, validation_fraction=0.1,\n",
       "              verbose=0, warm_start=False))],\n",
       "         flatten_transform=None, n_jobs=20, voting='soft', weights=[1, 1])"
      ]
     },
     "execution_count": 358,
     "metadata": {},
     "output_type": "execute_result"
    }
   ],
   "source": [
    "clas_vc.fit(x_train_clas, y_train_clas)"
   ]
  },
  {
   "cell_type": "code",
   "execution_count": 359,
   "metadata": {},
   "outputs": [
    {
     "name": "stdout",
     "output_type": "stream",
     "text": [
      "Accuracy Score:  0.9650079127835414\n",
      "              precision    recall  f1-score   support\n",
      "\n",
      "           0       0.97      0.97      0.97      3089\n",
      "           1       0.97      0.96      0.97      6537\n",
      "           2       0.95      0.97      0.96      4587\n",
      "           3       0.96      0.97      0.97      2848\n",
      "\n",
      "   micro avg       0.97      0.97      0.97     17061\n",
      "   macro avg       0.96      0.97      0.97     17061\n",
      "weighted avg       0.97      0.97      0.97     17061\n",
      "\n"
     ]
    }
   ],
   "source": [
    "y_pred_vc = clas_vc.predict(x_test_clas)\n",
    "\n",
    "print(\"Accuracy Score: \", accuracy_score(y_test_clas, y_pred_vc))\n",
    "print(classification_report(y_test_clas, y_pred_vc))"
   ]
  }
 ],
 "metadata": {
  "kernelspec": {
   "display_name": "Python 3",
   "language": "python",
   "name": "python3"
  },
  "language_info": {
   "codemirror_mode": {
    "name": "ipython",
    "version": 3
   },
   "file_extension": ".py",
   "mimetype": "text/x-python",
   "name": "python",
   "nbconvert_exporter": "python",
   "pygments_lexer": "ipython3",
   "version": "3.7.1"
  }
 },
 "nbformat": 4,
 "nbformat_minor": 2
}
