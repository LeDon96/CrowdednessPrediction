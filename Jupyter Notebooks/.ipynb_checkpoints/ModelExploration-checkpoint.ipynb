{
 "cells": [
  {
   "cell_type": "markdown",
   "metadata": {},
   "source": [
    "# Imports"
   ]
  },
  {
   "cell_type": "code",
   "execution_count": 2,
   "metadata": {},
   "outputs": [],
   "source": [
    "import pandas as pd\n",
    "import json\n",
    "\n",
    "#Train/Test section\n",
    "from sklearn.model_selection import train_test_split\n",
    "\n",
    "#Models\n",
    "from sklearn.ensemble import RandomForestRegressor"
   ]
  },
  {
   "cell_type": "markdown",
   "metadata": {},
   "source": [
    "# Import Data"
   ]
  },
  {
   "cell_type": "markdown",
   "metadata": {},
   "source": [
    "## GVB Data"
   ]
  },
  {
   "cell_type": "code",
   "execution_count": 19,
   "metadata": {},
   "outputs": [],
   "source": [
    "#Full GVB Dataset\n",
    "gvb_df = pd.read_csv(\"../../../Data_thesis/Full_Datasets/GVB.csv\")"
   ]
  },
  {
   "cell_type": "code",
   "execution_count": 20,
   "metadata": {},
   "outputs": [
    {
     "data": {
      "text/html": [
       "<div>\n",
       "<style scoped>\n",
       "    .dataframe tbody tr th:only-of-type {\n",
       "        vertical-align: middle;\n",
       "    }\n",
       "\n",
       "    .dataframe tbody tr th {\n",
       "        vertical-align: top;\n",
       "    }\n",
       "\n",
       "    .dataframe thead th {\n",
       "        text-align: right;\n",
       "    }\n",
       "</style>\n",
       "<table border=\"1\" class=\"dataframe\">\n",
       "  <thead>\n",
       "    <tr style=\"text-align: right;\">\n",
       "      <th></th>\n",
       "      <th>Date</th>\n",
       "      <th>Hour</th>\n",
       "      <th>ArrivalStationCode</th>\n",
       "      <th>ArrivalStation</th>\n",
       "      <th>ArrivalLat</th>\n",
       "      <th>ArrivalLon</th>\n",
       "      <th>NumberOfArrivals</th>\n",
       "      <th>DepartureStationCode</th>\n",
       "      <th>DepartureStation</th>\n",
       "      <th>DepartureLat</th>\n",
       "      <th>DepartureLon</th>\n",
       "      <th>NumberOfDepartures</th>\n",
       "      <th>weekday</th>\n",
       "      <th>is_weekend</th>\n",
       "      <th>NumberOfPassengers</th>\n",
       "    </tr>\n",
       "  </thead>\n",
       "  <tbody>\n",
       "    <tr>\n",
       "      <th>0</th>\n",
       "      <td>2018-02-05</td>\n",
       "      <td>0</td>\n",
       "      <td>04021</td>\n",
       "      <td>Osdorpplein</td>\n",
       "      <td>4.803229</td>\n",
       "      <td>52.359132</td>\n",
       "      <td>19</td>\n",
       "      <td>05138</td>\n",
       "      <td>Dam</td>\n",
       "      <td>4.891309</td>\n",
       "      <td>52.373554</td>\n",
       "      <td>87.0</td>\n",
       "      <td>0</td>\n",
       "      <td>0</td>\n",
       "      <td>106.0</td>\n",
       "    </tr>\n",
       "    <tr>\n",
       "      <th>1</th>\n",
       "      <td>2018-02-05</td>\n",
       "      <td>0</td>\n",
       "      <td>04050</td>\n",
       "      <td>Meer en Vaart</td>\n",
       "      <td>4.809944</td>\n",
       "      <td>52.356369</td>\n",
       "      <td>42</td>\n",
       "      <td>05139</td>\n",
       "      <td>Dam</td>\n",
       "      <td>4.891245</td>\n",
       "      <td>52.372727</td>\n",
       "      <td>72.0</td>\n",
       "      <td>0</td>\n",
       "      <td>0</td>\n",
       "      <td>114.0</td>\n",
       "    </tr>\n",
       "    <tr>\n",
       "      <th>2</th>\n",
       "      <td>2018-02-05</td>\n",
       "      <td>0</td>\n",
       "      <td>05032</td>\n",
       "      <td>Dam</td>\n",
       "      <td>4.895494</td>\n",
       "      <td>52.374929</td>\n",
       "      <td>14</td>\n",
       "      <td>06031</td>\n",
       "      <td>E. Wolffstraat</td>\n",
       "      <td>4.867279</td>\n",
       "      <td>52.370288</td>\n",
       "      <td>11.0</td>\n",
       "      <td>0</td>\n",
       "      <td>0</td>\n",
       "      <td>25.0</td>\n",
       "    </tr>\n",
       "    <tr>\n",
       "      <th>3</th>\n",
       "      <td>2018-02-05</td>\n",
       "      <td>0</td>\n",
       "      <td>05063</td>\n",
       "      <td>Dam</td>\n",
       "      <td>4.890646</td>\n",
       "      <td>52.372446</td>\n",
       "      <td>22</td>\n",
       "      <td>06037</td>\n",
       "      <td>Bilderdijkstraat</td>\n",
       "      <td>4.869857</td>\n",
       "      <td>52.370829</td>\n",
       "      <td>49.0</td>\n",
       "      <td>0</td>\n",
       "      <td>0</td>\n",
       "      <td>71.0</td>\n",
       "    </tr>\n",
       "    <tr>\n",
       "      <th>4</th>\n",
       "      <td>2018-02-05</td>\n",
       "      <td>0</td>\n",
       "      <td>05069</td>\n",
       "      <td>Nieuwezijds Kolk</td>\n",
       "      <td>4.893731</td>\n",
       "      <td>52.376288</td>\n",
       "      <td>23</td>\n",
       "      <td>06038</td>\n",
       "      <td>De Clercqstraat</td>\n",
       "      <td>4.870403</td>\n",
       "      <td>52.370616</td>\n",
       "      <td>49.0</td>\n",
       "      <td>0</td>\n",
       "      <td>0</td>\n",
       "      <td>72.0</td>\n",
       "    </tr>\n",
       "  </tbody>\n",
       "</table>\n",
       "</div>"
      ],
      "text/plain": [
       "         Date  Hour ArrivalStationCode    ArrivalStation  ArrivalLat  \\\n",
       "0  2018-02-05     0              04021       Osdorpplein    4.803229   \n",
       "1  2018-02-05     0              04050     Meer en Vaart    4.809944   \n",
       "2  2018-02-05     0              05032               Dam    4.895494   \n",
       "3  2018-02-05     0              05063               Dam    4.890646   \n",
       "4  2018-02-05     0              05069  Nieuwezijds Kolk    4.893731   \n",
       "\n",
       "   ArrivalLon  NumberOfArrivals DepartureStationCode  DepartureStation  \\\n",
       "0   52.359132                19                05138               Dam   \n",
       "1   52.356369                42                05139               Dam   \n",
       "2   52.374929                14                06031    E. Wolffstraat   \n",
       "3   52.372446                22                06037  Bilderdijkstraat   \n",
       "4   52.376288                23                06038   De Clercqstraat   \n",
       "\n",
       "   DepartureLat  DepartureLon  NumberOfDepartures  weekday  is_weekend  \\\n",
       "0      4.891309     52.373554                87.0        0           0   \n",
       "1      4.891245     52.372727                72.0        0           0   \n",
       "2      4.867279     52.370288                11.0        0           0   \n",
       "3      4.869857     52.370829                49.0        0           0   \n",
       "4      4.870403     52.370616                49.0        0           0   \n",
       "\n",
       "   NumberOfPassengers  \n",
       "0               106.0  \n",
       "1               114.0  \n",
       "2                25.0  \n",
       "3                71.0  \n",
       "4                72.0  "
      ]
     },
     "execution_count": 20,
     "metadata": {},
     "output_type": "execute_result"
    }
   ],
   "source": [
    "#Contents\n",
    "gvb_df.head()"
   ]
  },
  {
   "cell_type": "markdown",
   "metadata": {},
   "source": [
    "## Amsterdam Event Data"
   ]
  },
  {
   "cell_type": "code",
   "execution_count": 80,
   "metadata": {},
   "outputs": [],
   "source": [
    "#Full Events Dataset\n",
    "events_df = pd.read_csv(\"../../../Data_thesis/Full_Datasets/Events.csv\")"
   ]
  },
  {
   "cell_type": "code",
   "execution_count": 82,
   "metadata": {},
   "outputs": [],
   "source": [
    "events_df[\"Data\"] = events_df[\"Data\"].astype(str).values.tolist()"
   ]
  },
  {
   "cell_type": "code",
   "execution_count": 83,
   "metadata": {},
   "outputs": [
    {
     "data": {
      "text/html": [
       "<div>\n",
       "<style scoped>\n",
       "    .dataframe tbody tr th:only-of-type {\n",
       "        vertical-align: middle;\n",
       "    }\n",
       "\n",
       "    .dataframe tbody tr th {\n",
       "        vertical-align: top;\n",
       "    }\n",
       "\n",
       "    .dataframe thead th {\n",
       "        text-align: right;\n",
       "    }\n",
       "</style>\n",
       "<table border=\"1\" class=\"dataframe\">\n",
       "  <thead>\n",
       "    <tr style=\"text-align: right;\">\n",
       "      <th></th>\n",
       "      <th>Event</th>\n",
       "      <th>Latitude</th>\n",
       "      <th>Longtitude</th>\n",
       "      <th>Data</th>\n",
       "    </tr>\n",
       "  </thead>\n",
       "  <tbody>\n",
       "    <tr>\n",
       "      <th>0</th>\n",
       "      <td>Springsnow Festival</td>\n",
       "      <td>52,3726380</td>\n",
       "      <td>4,8941060</td>\n",
       "      <td>['20-04-2018', '20-05-2018']</td>\n",
       "    </tr>\n",
       "    <tr>\n",
       "      <th>1</th>\n",
       "      <td>Vurige Tongen</td>\n",
       "      <td>52,4103320</td>\n",
       "      <td>4,7490690</td>\n",
       "      <td>['20-05-2018', '21-05-2018']</td>\n",
       "    </tr>\n",
       "    <tr>\n",
       "      <th>2</th>\n",
       "      <td>Sneakerness</td>\n",
       "      <td>52,3828340</td>\n",
       "      <td>4,9204560</td>\n",
       "      <td>['03-06-2018', '04-06-2018']</td>\n",
       "    </tr>\n",
       "    <tr>\n",
       "      <th>3</th>\n",
       "      <td>Dutch Raw Food Festival</td>\n",
       "      <td>52,4362550</td>\n",
       "      <td>4,8167080</td>\n",
       "      <td>['17-06-2018']</td>\n",
       "    </tr>\n",
       "    <tr>\n",
       "      <th>4</th>\n",
       "      <td>Holland Festival</td>\n",
       "      <td>52,3615820</td>\n",
       "      <td>4,8854790</td>\n",
       "      <td>['02-06-2018', '03-06-2018', '04-06-2018', '05...</td>\n",
       "    </tr>\n",
       "  </tbody>\n",
       "</table>\n",
       "</div>"
      ],
      "text/plain": [
       "                     Event    Latitude Longtitude  \\\n",
       "0      Springsnow Festival  52,3726380  4,8941060   \n",
       "1            Vurige Tongen  52,4103320  4,7490690   \n",
       "2              Sneakerness  52,3828340  4,9204560   \n",
       "3  Dutch Raw Food Festival  52,4362550  4,8167080   \n",
       "4         Holland Festival  52,3615820  4,8854790   \n",
       "\n",
       "                                                Data  \n",
       "0                       ['20-04-2018', '20-05-2018']  \n",
       "1                       ['20-05-2018', '21-05-2018']  \n",
       "2                       ['03-06-2018', '04-06-2018']  \n",
       "3                                     ['17-06-2018']  \n",
       "4  ['02-06-2018', '03-06-2018', '04-06-2018', '05...  "
      ]
     },
     "execution_count": 83,
     "metadata": {},
     "output_type": "execute_result"
    }
   ],
   "source": [
    "events_df.head()"
   ]
  },
  {
   "cell_type": "markdown",
   "metadata": {},
   "source": [
    "## Crowdedness Data"
   ]
  },
  {
   "cell_type": "code",
   "execution_count": 29,
   "metadata": {},
   "outputs": [],
   "source": [
    "#Full Crowdedness Dataset\n",
    "crowd_df = pd.read_csv(\"../../../Data_thesis/Full_Datasets/Crowdedness.csv\")"
   ]
  },
  {
   "cell_type": "code",
   "execution_count": 30,
   "metadata": {},
   "outputs": [
    {
     "data": {
      "text/html": [
       "<div>\n",
       "<style scoped>\n",
       "    .dataframe tbody tr th:only-of-type {\n",
       "        vertical-align: middle;\n",
       "    }\n",
       "\n",
       "    .dataframe tbody tr th {\n",
       "        vertical-align: top;\n",
       "    }\n",
       "\n",
       "    .dataframe thead th {\n",
       "        text-align: right;\n",
       "    }\n",
       "</style>\n",
       "<table border=\"1\" class=\"dataframe\">\n",
       "  <thead>\n",
       "    <tr style=\"text-align: right;\">\n",
       "      <th></th>\n",
       "      <th>Sensor</th>\n",
       "      <th>Date</th>\n",
       "      <th>Hour</th>\n",
       "      <th>SensorLongitude</th>\n",
       "      <th>SensorLatitude</th>\n",
       "      <th>CrowdednessCount</th>\n",
       "    </tr>\n",
       "  </thead>\n",
       "  <tbody>\n",
       "    <tr>\n",
       "      <th>0</th>\n",
       "      <td>GAWW-02</td>\n",
       "      <td>2018-03-11</td>\n",
       "      <td>0</td>\n",
       "      <td>4.898903</td>\n",
       "      <td>52.373786</td>\n",
       "      <td>0</td>\n",
       "    </tr>\n",
       "    <tr>\n",
       "      <th>1</th>\n",
       "      <td>GAWW-02</td>\n",
       "      <td>2018-03-11</td>\n",
       "      <td>1</td>\n",
       "      <td>4.898903</td>\n",
       "      <td>52.373786</td>\n",
       "      <td>0</td>\n",
       "    </tr>\n",
       "    <tr>\n",
       "      <th>2</th>\n",
       "      <td>GAWW-02</td>\n",
       "      <td>2018-03-11</td>\n",
       "      <td>10</td>\n",
       "      <td>4.898903</td>\n",
       "      <td>52.373786</td>\n",
       "      <td>0</td>\n",
       "    </tr>\n",
       "    <tr>\n",
       "      <th>3</th>\n",
       "      <td>GAWW-02</td>\n",
       "      <td>2018-03-15</td>\n",
       "      <td>4</td>\n",
       "      <td>4.898903</td>\n",
       "      <td>52.373786</td>\n",
       "      <td>39</td>\n",
       "    </tr>\n",
       "    <tr>\n",
       "      <th>4</th>\n",
       "      <td>GAWW-02</td>\n",
       "      <td>2018-04-21</td>\n",
       "      <td>17</td>\n",
       "      <td>4.898903</td>\n",
       "      <td>52.373786</td>\n",
       "      <td>1618</td>\n",
       "    </tr>\n",
       "  </tbody>\n",
       "</table>\n",
       "</div>"
      ],
      "text/plain": [
       "    Sensor        Date  Hour  SensorLongitude  SensorLatitude  \\\n",
       "0  GAWW-02  2018-03-11     0         4.898903       52.373786   \n",
       "1  GAWW-02  2018-03-11     1         4.898903       52.373786   \n",
       "2  GAWW-02  2018-03-11    10         4.898903       52.373786   \n",
       "3  GAWW-02  2018-03-15     4         4.898903       52.373786   \n",
       "4  GAWW-02  2018-04-21    17         4.898903       52.373786   \n",
       "\n",
       "   CrowdednessCount  \n",
       "0                 0  \n",
       "1                 0  \n",
       "2                 0  \n",
       "3                39  \n",
       "4              1618  "
      ]
     },
     "execution_count": 30,
     "metadata": {},
     "output_type": "execute_result"
    }
   ],
   "source": [
    "crowd_df.head()"
   ]
  },
  {
   "cell_type": "markdown",
   "metadata": {},
   "source": [
    "# Data Preperation"
   ]
  },
  {
   "cell_type": "markdown",
   "metadata": {},
   "source": [
    "## Combine datasets"
   ]
  },
  {
   "cell_type": "code",
   "execution_count": 77,
   "metadata": {},
   "outputs": [],
   "source": [
    "full = pd.merge(gvb_df, crowd_df, on=[\"Date\", \"Hour\"])"
   ]
  },
  {
   "cell_type": "code",
   "execution_count": 78,
   "metadata": {},
   "outputs": [],
   "source": [
    "full.insert(18, \"is_event\", 0)\n",
    "full.insert(19, \"event_lon\", 0)\n",
    "full.insert(20, \"event_lat\", 0)"
   ]
  },
  {
   "cell_type": "code",
   "execution_count": 79,
   "metadata": {},
   "outputs": [
    {
     "data": {
      "text/html": [
       "<div>\n",
       "<style scoped>\n",
       "    .dataframe tbody tr th:only-of-type {\n",
       "        vertical-align: middle;\n",
       "    }\n",
       "\n",
       "    .dataframe tbody tr th {\n",
       "        vertical-align: top;\n",
       "    }\n",
       "\n",
       "    .dataframe thead th {\n",
       "        text-align: right;\n",
       "    }\n",
       "</style>\n",
       "<table border=\"1\" class=\"dataframe\">\n",
       "  <thead>\n",
       "    <tr style=\"text-align: right;\">\n",
       "      <th></th>\n",
       "      <th>Date</th>\n",
       "      <th>Hour</th>\n",
       "      <th>ArrivalStationCode</th>\n",
       "      <th>ArrivalStation</th>\n",
       "      <th>ArrivalLat</th>\n",
       "      <th>ArrivalLon</th>\n",
       "      <th>NumberOfArrivals</th>\n",
       "      <th>DepartureStationCode</th>\n",
       "      <th>DepartureStation</th>\n",
       "      <th>DepartureLat</th>\n",
       "      <th>...</th>\n",
       "      <th>weekday</th>\n",
       "      <th>is_weekend</th>\n",
       "      <th>NumberOfPassengers</th>\n",
       "      <th>Sensor</th>\n",
       "      <th>SensorLongitude</th>\n",
       "      <th>SensorLatitude</th>\n",
       "      <th>is_event</th>\n",
       "      <th>event_lon</th>\n",
       "      <th>event_lat</th>\n",
       "      <th>CrowdednessCount</th>\n",
       "    </tr>\n",
       "  </thead>\n",
       "  <tbody>\n",
       "    <tr>\n",
       "      <th>0</th>\n",
       "      <td>2018-04-05</td>\n",
       "      <td>0</td>\n",
       "      <td>04279</td>\n",
       "      <td>Kasterleepark</td>\n",
       "      <td>4.811042</td>\n",
       "      <td>52.346389</td>\n",
       "      <td>18</td>\n",
       "      <td>NMT</td>\n",
       "      <td>Nieuwmarkt</td>\n",
       "      <td>4.901239</td>\n",
       "      <td>...</td>\n",
       "      <td>3</td>\n",
       "      <td>0</td>\n",
       "      <td>270.0</td>\n",
       "      <td>GAWW-02</td>\n",
       "      <td>4.898903</td>\n",
       "      <td>52.373786</td>\n",
       "      <td>0</td>\n",
       "      <td>0</td>\n",
       "      <td>0</td>\n",
       "      <td>1241</td>\n",
       "    </tr>\n",
       "    <tr>\n",
       "      <th>1</th>\n",
       "      <td>2018-04-05</td>\n",
       "      <td>0</td>\n",
       "      <td>04279</td>\n",
       "      <td>Kasterleepark</td>\n",
       "      <td>4.811042</td>\n",
       "      <td>52.346389</td>\n",
       "      <td>18</td>\n",
       "      <td>NMT</td>\n",
       "      <td>Nieuwmarkt</td>\n",
       "      <td>4.901239</td>\n",
       "      <td>...</td>\n",
       "      <td>3</td>\n",
       "      <td>0</td>\n",
       "      <td>270.0</td>\n",
       "      <td>GAWW-02</td>\n",
       "      <td>4.898903</td>\n",
       "      <td>52.373786</td>\n",
       "      <td>0</td>\n",
       "      <td>0</td>\n",
       "      <td>0</td>\n",
       "      <td>0</td>\n",
       "    </tr>\n",
       "    <tr>\n",
       "      <th>2</th>\n",
       "      <td>2018-04-05</td>\n",
       "      <td>0</td>\n",
       "      <td>04279</td>\n",
       "      <td>Kasterleepark</td>\n",
       "      <td>4.811042</td>\n",
       "      <td>52.346389</td>\n",
       "      <td>18</td>\n",
       "      <td>NMT</td>\n",
       "      <td>Nieuwmarkt</td>\n",
       "      <td>4.901239</td>\n",
       "      <td>...</td>\n",
       "      <td>3</td>\n",
       "      <td>0</td>\n",
       "      <td>270.0</td>\n",
       "      <td>GAWW-02</td>\n",
       "      <td>4.898903</td>\n",
       "      <td>52.373786</td>\n",
       "      <td>0</td>\n",
       "      <td>0</td>\n",
       "      <td>0</td>\n",
       "      <td>811</td>\n",
       "    </tr>\n",
       "    <tr>\n",
       "      <th>3</th>\n",
       "      <td>2018-04-05</td>\n",
       "      <td>0</td>\n",
       "      <td>05032</td>\n",
       "      <td>Dam</td>\n",
       "      <td>4.895494</td>\n",
       "      <td>52.374929</td>\n",
       "      <td>23</td>\n",
       "      <td>USD</td>\n",
       "      <td>Uilenstede</td>\n",
       "      <td>4.869097</td>\n",
       "      <td>...</td>\n",
       "      <td>3</td>\n",
       "      <td>0</td>\n",
       "      <td>50.0</td>\n",
       "      <td>GAWW-02</td>\n",
       "      <td>4.898903</td>\n",
       "      <td>52.373786</td>\n",
       "      <td>0</td>\n",
       "      <td>0</td>\n",
       "      <td>0</td>\n",
       "      <td>1241</td>\n",
       "    </tr>\n",
       "    <tr>\n",
       "      <th>4</th>\n",
       "      <td>2018-04-05</td>\n",
       "      <td>0</td>\n",
       "      <td>05032</td>\n",
       "      <td>Dam</td>\n",
       "      <td>4.895494</td>\n",
       "      <td>52.374929</td>\n",
       "      <td>23</td>\n",
       "      <td>USD</td>\n",
       "      <td>Uilenstede</td>\n",
       "      <td>4.869097</td>\n",
       "      <td>...</td>\n",
       "      <td>3</td>\n",
       "      <td>0</td>\n",
       "      <td>50.0</td>\n",
       "      <td>GAWW-02</td>\n",
       "      <td>4.898903</td>\n",
       "      <td>52.373786</td>\n",
       "      <td>0</td>\n",
       "      <td>0</td>\n",
       "      <td>0</td>\n",
       "      <td>0</td>\n",
       "    </tr>\n",
       "  </tbody>\n",
       "</table>\n",
       "<p>5 rows × 22 columns</p>\n",
       "</div>"
      ],
      "text/plain": [
       "         Date  Hour ArrivalStationCode ArrivalStation  ArrivalLat  ArrivalLon  \\\n",
       "0  2018-04-05     0              04279  Kasterleepark    4.811042   52.346389   \n",
       "1  2018-04-05     0              04279  Kasterleepark    4.811042   52.346389   \n",
       "2  2018-04-05     0              04279  Kasterleepark    4.811042   52.346389   \n",
       "3  2018-04-05     0              05032            Dam    4.895494   52.374929   \n",
       "4  2018-04-05     0              05032            Dam    4.895494   52.374929   \n",
       "\n",
       "   NumberOfArrivals DepartureStationCode DepartureStation  DepartureLat  ...  \\\n",
       "0                18                  NMT       Nieuwmarkt      4.901239  ...   \n",
       "1                18                  NMT       Nieuwmarkt      4.901239  ...   \n",
       "2                18                  NMT       Nieuwmarkt      4.901239  ...   \n",
       "3                23                  USD       Uilenstede      4.869097  ...   \n",
       "4                23                  USD       Uilenstede      4.869097  ...   \n",
       "\n",
       "   weekday  is_weekend  NumberOfPassengers   Sensor  SensorLongitude  \\\n",
       "0        3           0               270.0  GAWW-02         4.898903   \n",
       "1        3           0               270.0  GAWW-02         4.898903   \n",
       "2        3           0               270.0  GAWW-02         4.898903   \n",
       "3        3           0                50.0  GAWW-02         4.898903   \n",
       "4        3           0                50.0  GAWW-02         4.898903   \n",
       "\n",
       "  SensorLatitude  is_event  event_lon  event_lat  CrowdednessCount  \n",
       "0      52.373786         0          0          0              1241  \n",
       "1      52.373786         0          0          0                 0  \n",
       "2      52.373786         0          0          0               811  \n",
       "3      52.373786         0          0          0              1241  \n",
       "4      52.373786         0          0          0                 0  \n",
       "\n",
       "[5 rows x 22 columns]"
      ]
     },
     "execution_count": 79,
     "metadata": {},
     "output_type": "execute_result"
    }
   ],
   "source": [
    "full.head()"
   ]
  },
  {
   "cell_type": "markdown",
   "metadata": {},
   "source": [
    "## DF to Dict\n",
    "In order to check whether any events are on the given date"
   ]
  },
  {
   "cell_type": "code",
   "execution_count": 84,
   "metadata": {},
   "outputs": [],
   "source": [
    "full_dict = full.to_dict(\"index\")\n",
    "events_dict = events_df.to_dict(\"index\")"
   ]
  },
  {
   "cell_type": "code",
   "execution_count": null,
   "metadata": {},
   "outputs": [],
   "source": [
    "for k,v in full_dict.items():\n",
    "    if v[\"Date\"] in "
   ]
  },
  {
   "cell_type": "markdown",
   "metadata": {},
   "source": [
    "## Construct Subset to train and test Model"
   ]
  },
  {
   "cell_type": "code",
   "execution_count": 42,
   "metadata": {},
   "outputs": [],
   "source": [
    "#Drop Unusable columns\n",
    "model_df = full.drop(columns=[\"Date\", \"ArrivalStationCode\", \"ArrivalStation\", \"DepartureStationCode\", \"DepartureStation\", \"Sensor\",\n",
    "                             \"NumberOfPassengers\"])"
   ]
  },
  {
   "cell_type": "code",
   "execution_count": 43,
   "metadata": {},
   "outputs": [
    {
     "data": {
      "text/html": [
       "<div>\n",
       "<style scoped>\n",
       "    .dataframe tbody tr th:only-of-type {\n",
       "        vertical-align: middle;\n",
       "    }\n",
       "\n",
       "    .dataframe tbody tr th {\n",
       "        vertical-align: top;\n",
       "    }\n",
       "\n",
       "    .dataframe thead th {\n",
       "        text-align: right;\n",
       "    }\n",
       "</style>\n",
       "<table border=\"1\" class=\"dataframe\">\n",
       "  <thead>\n",
       "    <tr style=\"text-align: right;\">\n",
       "      <th></th>\n",
       "      <th>Hour</th>\n",
       "      <th>ArrivalLat</th>\n",
       "      <th>ArrivalLon</th>\n",
       "      <th>NumberOfArrivals</th>\n",
       "      <th>DepartureLat</th>\n",
       "      <th>DepartureLon</th>\n",
       "      <th>NumberOfDepartures</th>\n",
       "      <th>weekday</th>\n",
       "      <th>is_weekend</th>\n",
       "      <th>SensorLongitude</th>\n",
       "      <th>SensorLatitude</th>\n",
       "      <th>CrowdednessCount</th>\n",
       "    </tr>\n",
       "  </thead>\n",
       "  <tbody>\n",
       "    <tr>\n",
       "      <th>0</th>\n",
       "      <td>0</td>\n",
       "      <td>4.811042</td>\n",
       "      <td>52.346389</td>\n",
       "      <td>18</td>\n",
       "      <td>4.901239</td>\n",
       "      <td>52.371942</td>\n",
       "      <td>252.0</td>\n",
       "      <td>3</td>\n",
       "      <td>0</td>\n",
       "      <td>4.898903</td>\n",
       "      <td>52.373786</td>\n",
       "      <td>1241</td>\n",
       "    </tr>\n",
       "    <tr>\n",
       "      <th>1</th>\n",
       "      <td>0</td>\n",
       "      <td>4.811042</td>\n",
       "      <td>52.346389</td>\n",
       "      <td>18</td>\n",
       "      <td>4.901239</td>\n",
       "      <td>52.371942</td>\n",
       "      <td>252.0</td>\n",
       "      <td>3</td>\n",
       "      <td>0</td>\n",
       "      <td>4.898903</td>\n",
       "      <td>52.373786</td>\n",
       "      <td>0</td>\n",
       "    </tr>\n",
       "    <tr>\n",
       "      <th>2</th>\n",
       "      <td>0</td>\n",
       "      <td>4.811042</td>\n",
       "      <td>52.346389</td>\n",
       "      <td>18</td>\n",
       "      <td>4.901239</td>\n",
       "      <td>52.371942</td>\n",
       "      <td>252.0</td>\n",
       "      <td>3</td>\n",
       "      <td>0</td>\n",
       "      <td>4.898903</td>\n",
       "      <td>52.373786</td>\n",
       "      <td>811</td>\n",
       "    </tr>\n",
       "    <tr>\n",
       "      <th>3</th>\n",
       "      <td>0</td>\n",
       "      <td>4.895494</td>\n",
       "      <td>52.374929</td>\n",
       "      <td>23</td>\n",
       "      <td>4.869097</td>\n",
       "      <td>52.321510</td>\n",
       "      <td>27.0</td>\n",
       "      <td>3</td>\n",
       "      <td>0</td>\n",
       "      <td>4.898903</td>\n",
       "      <td>52.373786</td>\n",
       "      <td>1241</td>\n",
       "    </tr>\n",
       "    <tr>\n",
       "      <th>4</th>\n",
       "      <td>0</td>\n",
       "      <td>4.895494</td>\n",
       "      <td>52.374929</td>\n",
       "      <td>23</td>\n",
       "      <td>4.869097</td>\n",
       "      <td>52.321510</td>\n",
       "      <td>27.0</td>\n",
       "      <td>3</td>\n",
       "      <td>0</td>\n",
       "      <td>4.898903</td>\n",
       "      <td>52.373786</td>\n",
       "      <td>0</td>\n",
       "    </tr>\n",
       "  </tbody>\n",
       "</table>\n",
       "</div>"
      ],
      "text/plain": [
       "   Hour  ArrivalLat  ArrivalLon  NumberOfArrivals  DepartureLat  DepartureLon  \\\n",
       "0     0    4.811042   52.346389                18      4.901239     52.371942   \n",
       "1     0    4.811042   52.346389                18      4.901239     52.371942   \n",
       "2     0    4.811042   52.346389                18      4.901239     52.371942   \n",
       "3     0    4.895494   52.374929                23      4.869097     52.321510   \n",
       "4     0    4.895494   52.374929                23      4.869097     52.321510   \n",
       "\n",
       "   NumberOfDepartures  weekday  is_weekend  SensorLongitude  SensorLatitude  \\\n",
       "0               252.0        3           0         4.898903       52.373786   \n",
       "1               252.0        3           0         4.898903       52.373786   \n",
       "2               252.0        3           0         4.898903       52.373786   \n",
       "3                27.0        3           0         4.898903       52.373786   \n",
       "4                27.0        3           0         4.898903       52.373786   \n",
       "\n",
       "   CrowdednessCount  \n",
       "0              1241  \n",
       "1                 0  \n",
       "2               811  \n",
       "3              1241  \n",
       "4                 0  "
      ]
     },
     "execution_count": 43,
     "metadata": {},
     "output_type": "execute_result"
    }
   ],
   "source": [
    "model_df.head()"
   ]
  },
  {
   "cell_type": "markdown",
   "metadata": {},
   "source": [
    "## Train/Test Split\n",
    "Split the dataset into training and test data, using a [function from Sklearn](https://scikit-learn.org/stable/modules/generated/sklearn.model_selection.train_test_split.html)\n",
    "\n",
    "#### Train_Test_split Parameters\n",
    "- *input*: \n",
    "    - *x*: data used to predict laballed data\n",
    "        - Hour slot\n",
    "        - Weekday (int)\n",
    "        - Weekend (Binary)\n",
    "    - *y*: laballed data\n",
    "        - Number of rides (int)\n",
    "- *test_size*: Proportion of total data used as test data, rest is training data\n",
    "- *random_state*: Number used as seed by the *Random Number Generator* "
   ]
  },
  {
   "cell_type": "code",
   "execution_count": 45,
   "metadata": {},
   "outputs": [],
   "source": [
    "#Select only the values from each row\n",
    "data = model_df.values\n",
    "\n",
    "#Split the labels from the rest\n",
    "x = data[:, :11]\n",
    "y = data[:, 11]\n",
    "\n",
    "x_train, x_test, y_train, y_test = train_test_split(x, y, test_size = 0.1, random_state = 42)"
   ]
  },
  {
   "cell_type": "code",
   "execution_count": 46,
   "metadata": {},
   "outputs": [
    {
     "data": {
      "text/plain": [
       "array([[ 0.        ,  4.90123885, 52.37194169, 99.        ,  4.90127481,\n",
       "        52.37938365, 55.        ,  4.        ,  0.        ,  4.8989027 ,\n",
       "        52.3737857 ],\n",
       "       [ 0.        ,  4.89373093, 52.37628765, 41.        ,  4.8688049 ,\n",
       "        52.33394768, 21.        ,  0.        ,  0.        ,  4.8989027 ,\n",
       "        52.3737857 ],\n",
       "       [ 0.        ,  4.86909673, 52.32150984, 41.        ,  4.89549359,\n",
       "        52.37492885, 41.        ,  6.        ,  1.        ,  4.8973336 ,\n",
       "        52.3725237 ]])"
      ]
     },
     "execution_count": 46,
     "metadata": {},
     "output_type": "execute_result"
    }
   ],
   "source": [
    "#First three rows explanatory variables of the training set\n",
    "x_train[:3]"
   ]
  },
  {
   "cell_type": "code",
   "execution_count": 47,
   "metadata": {},
   "outputs": [
    {
     "data": {
      "text/plain": [
       "array([1641., 1112., 1869.])"
      ]
     },
     "execution_count": 47,
     "metadata": {},
     "output_type": "execute_result"
    }
   ],
   "source": [
    "#First three rows response variable training set\n",
    "y_train[:3]"
   ]
  },
  {
   "cell_type": "markdown",
   "metadata": {},
   "source": [
    "# Models"
   ]
  },
  {
   "cell_type": "markdown",
   "metadata": {},
   "source": [
    "## Random Forrest Regressor\n",
    "Implement the [Sklearn Version](https://scikit-learn.org/stable/modules/generated/sklearn.ensemble.RandomForestRegressor.html)\n",
    "\n",
    "Parameters\n",
    "- *N-Estimators*: Number of trees in the model\n",
    "- *criterion*: loss function\n",
    "- *n_jobs*: The number of jobs to run in parallel for both fit and predict\n",
    "- *random_state*: random_state is the seed used by the random number generator\n",
    "- *bootstrap*: Whether bootstrap samples are used when building trees"
   ]
  },
  {
   "cell_type": "code",
   "execution_count": 48,
   "metadata": {},
   "outputs": [],
   "source": [
    "#Set parameters model\n",
    "rfg = RandomForestRegressor(n_estimators=100, criterion=\"mse\", n_jobs=5, random_state=42, bootstrap=True)"
   ]
  },
  {
   "cell_type": "code",
   "execution_count": 49,
   "metadata": {},
   "outputs": [
    {
     "data": {
      "text/plain": [
       "RandomForestRegressor(bootstrap=True, criterion='mse', max_depth=None,\n",
       "           max_features='auto', max_leaf_nodes=None,\n",
       "           min_impurity_decrease=0.0, min_impurity_split=None,\n",
       "           min_samples_leaf=1, min_samples_split=2,\n",
       "           min_weight_fraction_leaf=0.0, n_estimators=100, n_jobs=5,\n",
       "           oob_score=False, random_state=42, verbose=0, warm_start=False)"
      ]
     },
     "execution_count": 49,
     "metadata": {},
     "output_type": "execute_result"
    }
   ],
   "source": [
    "#fit the model\n",
    "rfg.fit(x_train, y_train)"
   ]
  },
  {
   "cell_type": "code",
   "execution_count": 50,
   "metadata": {},
   "outputs": [
    {
     "name": "stdout",
     "output_type": "stream",
     "text": [
      "Accuracy:  0.31116267957390065\n"
     ]
    }
   ],
   "source": [
    "#Score the model\n",
    "rfg_score = rfg.score(x_test, y_test)\n",
    "print(\"Accuracy: \", rfg_score)"
   ]
  }
 ],
 "metadata": {
  "kernelspec": {
   "display_name": "Python 3",
   "language": "python",
   "name": "python3"
  },
  "language_info": {
   "codemirror_mode": {
    "name": "ipython",
    "version": 3
   },
   "file_extension": ".py",
   "mimetype": "text/x-python",
   "name": "python",
   "nbconvert_exporter": "python",
   "pygments_lexer": "ipython3",
   "version": "3.7.1"
  }
 },
 "nbformat": 4,
 "nbformat_minor": 2
}
