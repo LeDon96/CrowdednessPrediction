{
 "cells": [
  {
   "cell_type": "markdown",
   "metadata": {},
   "source": [
    "# Table of Contents\n",
    "1. [Imports](#imports)\n",
    "2. [Import Data](#importData)\n",
    "    1. [Crowdedness Data](#crowdData)\n",
    "    2. [Sensor Data](#senData)\n",
    "3. [Save coordinates Cameras](#cords)\n",
    "4. [Data to Dict](#dict)\n",
    "5. [DataFrame to File](#CSV)"
   ]
  },
  {
   "cell_type": "markdown",
   "metadata": {},
   "source": [
    "# Imports <a name=\"imports\"></a>"
   ]
  },
  {
   "cell_type": "code",
   "execution_count": 65,
   "metadata": {},
   "outputs": [],
   "source": [
    "import pandas as pd"
   ]
  },
  {
   "cell_type": "markdown",
   "metadata": {},
   "source": [
    "# Import Data <a name=\"importData\"></a>"
   ]
  },
  {
   "cell_type": "markdown",
   "metadata": {},
   "source": [
    "## Crowdedness Data <a name=\"crowdData\"></a>\n",
    "The crowdedness count per camera, per day, per hour"
   ]
  },
  {
   "cell_type": "code",
   "execution_count": 66,
   "metadata": {},
   "outputs": [],
   "source": [
    "#Load in the data\n",
    "crowd_df = pd.read_excel(\"../../../Data_thesis/CMSA/cmsa_data.xlsx\")"
   ]
  },
  {
   "cell_type": "code",
   "execution_count": 67,
   "metadata": {},
   "outputs": [],
   "source": [
    "#Group the counts per hour\n",
    "crowd_df = crowd_df.groupby([\"richting\", \"datum\", \"uur\"])[\"SampleCount\"].sum().reset_index()"
   ]
  },
  {
   "cell_type": "code",
   "execution_count": 68,
   "metadata": {},
   "outputs": [],
   "source": [
    "#Change names columns\n",
    "crowd_df = crowd_df.rename(index=str, columns={\"richting\": \"Sensor\", \"datum\": \"Date\", \"uur\": \"Hour\", \n",
    "                                               \"SampleCount\": \"CrowdednessCount\"})"
   ]
  },
  {
   "cell_type": "code",
   "execution_count": 69,
   "metadata": {},
   "outputs": [],
   "source": [
    "#Insert columns\n",
    "crowd_df.insert(3, \"SensorLongitude\", 0)\n",
    "crowd_df.insert(4, \"SensorLatitude\", 0)"
   ]
  },
  {
   "cell_type": "code",
   "execution_count": 70,
   "metadata": {},
   "outputs": [
    {
     "data": {
      "text/html": [
       "<div>\n",
       "<style scoped>\n",
       "    .dataframe tbody tr th:only-of-type {\n",
       "        vertical-align: middle;\n",
       "    }\n",
       "\n",
       "    .dataframe tbody tr th {\n",
       "        vertical-align: top;\n",
       "    }\n",
       "\n",
       "    .dataframe thead th {\n",
       "        text-align: right;\n",
       "    }\n",
       "</style>\n",
       "<table border=\"1\" class=\"dataframe\">\n",
       "  <thead>\n",
       "    <tr style=\"text-align: right;\">\n",
       "      <th></th>\n",
       "      <th>Sensor</th>\n",
       "      <th>Date</th>\n",
       "      <th>Hour</th>\n",
       "      <th>SensorLongitude</th>\n",
       "      <th>SensorLatitude</th>\n",
       "      <th>CrowdednessCount</th>\n",
       "    </tr>\n",
       "  </thead>\n",
       "  <tbody>\n",
       "    <tr>\n",
       "      <th>0</th>\n",
       "      <td>2</td>\n",
       "      <td>2018-03-11</td>\n",
       "      <td>0</td>\n",
       "      <td>0</td>\n",
       "      <td>0</td>\n",
       "      <td>0</td>\n",
       "    </tr>\n",
       "    <tr>\n",
       "      <th>1</th>\n",
       "      <td>2</td>\n",
       "      <td>2018-03-11</td>\n",
       "      <td>1</td>\n",
       "      <td>0</td>\n",
       "      <td>0</td>\n",
       "      <td>0</td>\n",
       "    </tr>\n",
       "    <tr>\n",
       "      <th>2</th>\n",
       "      <td>2</td>\n",
       "      <td>2018-03-11</td>\n",
       "      <td>2</td>\n",
       "      <td>0</td>\n",
       "      <td>0</td>\n",
       "      <td>0</td>\n",
       "    </tr>\n",
       "    <tr>\n",
       "      <th>3</th>\n",
       "      <td>2</td>\n",
       "      <td>2018-03-11</td>\n",
       "      <td>3</td>\n",
       "      <td>0</td>\n",
       "      <td>0</td>\n",
       "      <td>0</td>\n",
       "    </tr>\n",
       "    <tr>\n",
       "      <th>4</th>\n",
       "      <td>2</td>\n",
       "      <td>2018-03-11</td>\n",
       "      <td>4</td>\n",
       "      <td>0</td>\n",
       "      <td>0</td>\n",
       "      <td>0</td>\n",
       "    </tr>\n",
       "  </tbody>\n",
       "</table>\n",
       "</div>"
      ],
      "text/plain": [
       "  Sensor       Date  Hour  SensorLongitude  SensorLatitude  CrowdednessCount\n",
       "0      2 2018-03-11     0                0               0                 0\n",
       "1      2 2018-03-11     1                0               0                 0\n",
       "2      2 2018-03-11     2                0               0                 0\n",
       "3      2 2018-03-11     3                0               0                 0\n",
       "4      2 2018-03-11     4                0               0                 0"
      ]
     },
     "execution_count": 70,
     "metadata": {},
     "output_type": "execute_result"
    }
   ],
   "source": [
    "#Example Contents\n",
    "crowd_df.head()"
   ]
  },
  {
   "cell_type": "markdown",
   "metadata": {},
   "source": [
    "## Sensor Locations <a name=\"senData\"></a>\n",
    "The location of the cameras"
   ]
  },
  {
   "cell_type": "code",
   "execution_count": 71,
   "metadata": {},
   "outputs": [],
   "source": [
    "#Load in the data\n",
    "loc_df = pd.read_csv(\"../../../Data_thesis/Open Data/crowdedness_sensoren.csv\", sep=\";\")"
   ]
  },
  {
   "cell_type": "code",
   "execution_count": 72,
   "metadata": {},
   "outputs": [],
   "source": [
    "#Select columns to use\n",
    "loc_df = loc_df[[\"Objectnummer\", \"LNG\", \"LAT\"]]"
   ]
  },
  {
   "cell_type": "code",
   "execution_count": 73,
   "metadata": {},
   "outputs": [
    {
     "data": {
      "text/html": [
       "<div>\n",
       "<style scoped>\n",
       "    .dataframe tbody tr th:only-of-type {\n",
       "        vertical-align: middle;\n",
       "    }\n",
       "\n",
       "    .dataframe tbody tr th {\n",
       "        vertical-align: top;\n",
       "    }\n",
       "\n",
       "    .dataframe thead th {\n",
       "        text-align: right;\n",
       "    }\n",
       "</style>\n",
       "<table border=\"1\" class=\"dataframe\">\n",
       "  <thead>\n",
       "    <tr style=\"text-align: right;\">\n",
       "      <th></th>\n",
       "      <th>Objectnummer</th>\n",
       "      <th>LNG</th>\n",
       "      <th>LAT</th>\n",
       "    </tr>\n",
       "  </thead>\n",
       "  <tbody>\n",
       "    <tr>\n",
       "      <th>0</th>\n",
       "      <td>GAWW-03</td>\n",
       "      <td>4,8973932</td>\n",
       "      <td>52,3725037</td>\n",
       "    </tr>\n",
       "    <tr>\n",
       "      <th>1</th>\n",
       "      <td>GAWW-03</td>\n",
       "      <td>4,8973336</td>\n",
       "      <td>52,3725237</td>\n",
       "    </tr>\n",
       "    <tr>\n",
       "      <th>2</th>\n",
       "      <td>GAWW-02</td>\n",
       "      <td>4,8988705</td>\n",
       "      <td>52,3737982</td>\n",
       "    </tr>\n",
       "    <tr>\n",
       "      <th>3</th>\n",
       "      <td>GAWW-02</td>\n",
       "      <td>4,8989027</td>\n",
       "      <td>52,3737857</td>\n",
       "    </tr>\n",
       "    <tr>\n",
       "      <th>4</th>\n",
       "      <td>GAWW-01</td>\n",
       "      <td>4,8997667</td>\n",
       "      <td>52,374627</td>\n",
       "    </tr>\n",
       "  </tbody>\n",
       "</table>\n",
       "</div>"
      ],
      "text/plain": [
       "  Objectnummer        LNG         LAT\n",
       "0      GAWW-03  4,8973932  52,3725037\n",
       "1      GAWW-03  4,8973336  52,3725237\n",
       "2      GAWW-02  4,8988705  52,3737982\n",
       "3      GAWW-02  4,8989027  52,3737857\n",
       "4      GAWW-01  4,8997667   52,374627"
      ]
     },
     "execution_count": 73,
     "metadata": {},
     "output_type": "execute_result"
    }
   ],
   "source": [
    "#Example contents\n",
    "loc_df.head()"
   ]
  },
  {
   "cell_type": "markdown",
   "metadata": {},
   "source": [
    "# Save coordinates needed cameras <a name=\"cords\"></a>\n",
    "Save the coordinates of the cameras we will use as target values"
   ]
  },
  {
   "cell_type": "code",
   "execution_count": 74,
   "metadata": {},
   "outputs": [],
   "source": [
    "#List needed cameras\n",
    "needed_sensors = [\"GAWW-02\", \"GAWW-03\"]\n",
    "\n",
    "#change df into dict\n",
    "loc_dict = loc_df.to_dict(\"index\")"
   ]
  },
  {
   "cell_type": "code",
   "execution_count": 75,
   "metadata": {},
   "outputs": [],
   "source": [
    "#Dict to saved the needed locations in\n",
    "sensor_dict = {}\n",
    "\n",
    "for k, v in loc_dict.items():\n",
    "    \n",
    "    #Save only the cameras with the object nummer given above\n",
    "    if v[\"Objectnummer\"] in needed_cameras:\n",
    "        \n",
    "        #Replace the \".\" with \",\" to make sure the coordinates can be turned into floats\n",
    "        v[\"LNG\"] = float(v[\"LNG\"].replace(\",\", \".\"))\n",
    "        v[\"LAT\"] = float(v[\"LAT\"].replace(\",\", \".\"))\n",
    "        \n",
    "        #Save all contents in dict\n",
    "        sensor_dict[v[\"Objectnummer\"]] = {\"Longitude\": v[\"LNG\"], \"Latitude\": v[\"LAT\"]}"
   ]
  },
  {
   "cell_type": "markdown",
   "metadata": {},
   "source": [
    "# Data to Dict <a name=\"dict\"></a>"
   ]
  },
  {
   "cell_type": "code",
   "execution_count": 77,
   "metadata": {},
   "outputs": [],
   "source": [
    "#Change df into dict\n",
    "crowd_dict = crowd_df.to_dict(\"index\")"
   ]
  },
  {
   "cell_type": "code",
   "execution_count": 78,
   "metadata": {},
   "outputs": [],
   "source": [
    "#Different camera names for given camera name\n",
    "gaww_02 = [2, \"02R\", \"2R\", \"Oude Kennissteeg Occ wifi\"]\n",
    "gaww_03 = [3, \"03R\"]\n",
    "\n",
    "#Loop over dict\n",
    "for k, v in crowd_dict.items():\n",
    "    \n",
    "    #Change camera name\n",
    "    if v[\"Sensor\"] in gaww_02:\n",
    "        v[\"Sensor\"] = \"GAWW-02\"\n",
    "        \n",
    "        #Change the ccordinates of the given camera to the correct ones\n",
    "        v[\"SensorLongitude\"] = sensor_dict[\"GAWW-02\"][\"Longitude\"]\n",
    "        v[\"SensorLatitude\"] = sensor_dict[\"GAWW-02\"][\"Latitude\"]\n",
    "        \n",
    "    elif v[\"Sensor\"] in gaww_03:\n",
    "        v[\"Sensor\"] = \"GAWW-03\"\n",
    "        v[\"SensorLongitude\"] = sensor_dict[\"GAWW-03\"][\"Longitude\"]\n",
    "        v[\"SensorLatitude\"] = sensor_dict[\"GAWW-03\"][\"Latitude\"]"
   ]
  },
  {
   "cell_type": "code",
   "execution_count": 79,
   "metadata": {},
   "outputs": [],
   "source": [
    "#Return from Dict\n",
    "crowd_df = pd.DataFrame.from_dict(crowd_dict, orient=\"index\")"
   ]
  },
  {
   "cell_type": "code",
   "execution_count": 80,
   "metadata": {},
   "outputs": [
    {
     "data": {
      "text/html": [
       "<div>\n",
       "<style scoped>\n",
       "    .dataframe tbody tr th:only-of-type {\n",
       "        vertical-align: middle;\n",
       "    }\n",
       "\n",
       "    .dataframe tbody tr th {\n",
       "        vertical-align: top;\n",
       "    }\n",
       "\n",
       "    .dataframe thead th {\n",
       "        text-align: right;\n",
       "    }\n",
       "</style>\n",
       "<table border=\"1\" class=\"dataframe\">\n",
       "  <thead>\n",
       "    <tr style=\"text-align: right;\">\n",
       "      <th></th>\n",
       "      <th>Sensor</th>\n",
       "      <th>Date</th>\n",
       "      <th>Hour</th>\n",
       "      <th>SensorLongitude</th>\n",
       "      <th>SensorLatitude</th>\n",
       "      <th>CrowdednessCount</th>\n",
       "    </tr>\n",
       "  </thead>\n",
       "  <tbody>\n",
       "    <tr>\n",
       "      <th>0</th>\n",
       "      <td>GAWW-02</td>\n",
       "      <td>2018-03-11</td>\n",
       "      <td>0</td>\n",
       "      <td>4.898903</td>\n",
       "      <td>52.373786</td>\n",
       "      <td>0</td>\n",
       "    </tr>\n",
       "    <tr>\n",
       "      <th>1</th>\n",
       "      <td>GAWW-02</td>\n",
       "      <td>2018-03-11</td>\n",
       "      <td>1</td>\n",
       "      <td>4.898903</td>\n",
       "      <td>52.373786</td>\n",
       "      <td>0</td>\n",
       "    </tr>\n",
       "    <tr>\n",
       "      <th>10</th>\n",
       "      <td>GAWW-02</td>\n",
       "      <td>2018-03-11</td>\n",
       "      <td>10</td>\n",
       "      <td>4.898903</td>\n",
       "      <td>52.373786</td>\n",
       "      <td>0</td>\n",
       "    </tr>\n",
       "    <tr>\n",
       "      <th>100</th>\n",
       "      <td>GAWW-02</td>\n",
       "      <td>2018-03-15</td>\n",
       "      <td>4</td>\n",
       "      <td>4.898903</td>\n",
       "      <td>52.373786</td>\n",
       "      <td>39</td>\n",
       "    </tr>\n",
       "    <tr>\n",
       "      <th>1000</th>\n",
       "      <td>GAWW-02</td>\n",
       "      <td>2018-04-21</td>\n",
       "      <td>17</td>\n",
       "      <td>4.898903</td>\n",
       "      <td>52.373786</td>\n",
       "      <td>1618</td>\n",
       "    </tr>\n",
       "  </tbody>\n",
       "</table>\n",
       "</div>"
      ],
      "text/plain": [
       "       Sensor       Date  Hour  SensorLongitude  SensorLatitude  \\\n",
       "0     GAWW-02 2018-03-11     0         4.898903       52.373786   \n",
       "1     GAWW-02 2018-03-11     1         4.898903       52.373786   \n",
       "10    GAWW-02 2018-03-11    10         4.898903       52.373786   \n",
       "100   GAWW-02 2018-03-15     4         4.898903       52.373786   \n",
       "1000  GAWW-02 2018-04-21    17         4.898903       52.373786   \n",
       "\n",
       "      CrowdednessCount  \n",
       "0                    0  \n",
       "1                    0  \n",
       "10                   0  \n",
       "100                 39  \n",
       "1000              1618  "
      ]
     },
     "execution_count": 80,
     "metadata": {},
     "output_type": "execute_result"
    }
   ],
   "source": [
    "#Example contents\n",
    "crowd_df.head()"
   ]
  },
  {
   "cell_type": "markdown",
   "metadata": {},
   "source": [
    "# DF to File <a name=\"CSV\"></a>"
   ]
  },
  {
   "cell_type": "code",
   "execution_count": 81,
   "metadata": {},
   "outputs": [],
   "source": [
    "crowd_df.to_csv(\"../../../Data_thesis/Full_Datasets/Crowdedness.csv\", index=False)"
   ]
  }
 ],
 "metadata": {
  "kernelspec": {
   "display_name": "Python 3",
   "language": "python",
   "name": "python3"
  },
  "language_info": {
   "codemirror_mode": {
    "name": "ipython",
    "version": 3
   },
   "file_extension": ".py",
   "mimetype": "text/x-python",
   "name": "python",
   "nbconvert_exporter": "python",
   "pygments_lexer": "ipython3",
   "version": "3.7.1"
  }
 },
 "nbformat": 4,
 "nbformat_minor": 2
}
