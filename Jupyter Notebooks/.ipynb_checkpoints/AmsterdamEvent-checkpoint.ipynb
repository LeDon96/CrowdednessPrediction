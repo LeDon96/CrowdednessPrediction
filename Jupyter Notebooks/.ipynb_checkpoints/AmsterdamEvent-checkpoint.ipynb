{
 "cells": [
  {
   "cell_type": "markdown",
   "metadata": {},
   "source": [
    "# Imports"
   ]
  },
  {
   "cell_type": "code",
   "execution_count": 2,
   "metadata": {},
   "outputs": [],
   "source": [
    "#Read JSON files\n",
    "import json"
   ]
  },
  {
   "cell_type": "markdown",
   "metadata": {},
   "source": [
    "# Data Exploration"
   ]
  },
  {
   "cell_type": "code",
   "execution_count": 3,
   "metadata": {},
   "outputs": [
    {
     "name": "stdout",
     "output_type": "stream",
     "text": [
      "Event:  Springsnow Festival\n",
      "City:  AMSTERDAM\n",
      "Adress:  Diverse locaties / Various locations\n",
      "Zipcode:  1012 JS\n",
      "Coordinates:  52,3726380 4,8941060\n",
      "Date:  {'startdate': '20-04-2018', 'enddate': '20-05-2018'}\n",
      "{'Event': 'Springsnow Festival', 'Coordinates': {'Latitude': '52,3726380', 'Longtitude': '4,8941060'}, 'Data': {'startdate': '20-04-2018', 'enddate': '20-05-2018'}}\n",
      "{'Event': 'Vurige Tongen', 'Coordinates': {'Latitude': '52,4103320', 'Longtitude': '4,7490690'}, 'Data': {'singles': ['20-05-2018', '21-05-2018']}}\n",
      "{'Event': 'Sneakerness', 'Coordinates': {'Latitude': '52,3828340', 'Longtitude': '4,9204560'}, 'Data': {'singles': ['03-06-2018', '04-06-2018']}}\n",
      "{'Event': 'Dutch Raw Food Festival', 'Coordinates': {'Latitude': '52,4362550', 'Longtitude': '4,8167080'}, 'Data': {'singles': ['17-06-2018']}}\n",
      "{'Event': 'Holland Festival', 'Coordinates': {'Latitude': '52,3615820', 'Longtitude': '4,8854790'}, 'Data': {'singles': ['02-06-2018', '03-06-2018', '04-06-2018', '05-06-2018', '06-06-2018', '07-06-2018', '08-06-2018', '09-06-2018', '10-06-2018', '11-06-2018', '12-06-2018', '13-06-2018', '14-06-2018', '15-06-2018', '16-06-2018', '17-06-2018', '18-06-2018', '19-06-2018', '20-06-2018', '21-06-2018', '22-06-2018', '23-06-2018', '24-06-2018']}}\n",
      "{'Event': 'Kerkennacht', 'Coordinates': {'Latitude': '52,3702150', 'Longtitude': '4,8951670'}, 'Data': {'singles': ['22-06-2018', '23-06-2018', '24-06-2018']}}\n",
      "{'Event': 'Festival Sunsation', 'Coordinates': {'Latitude': '52,5496850', 'Longtitude': '5,4867500'}, 'Data': {'singles': ['22-06-2018', '23-06-2018']}}\n",
      "{'Event': 'Stadspleinfestival', 'Coordinates': {'Latitude': '52,3031270', 'Longtitude': '4,8588840'}, 'Data': {'singles': ['17-06-2018']}}\n",
      "{'Event': 'Havenfestival IJmond', 'Coordinates': {'Latitude': '52,4600720', 'Longtitude': '4,5870580'}, 'Data': {'singles': ['16-06-2018', '17-06-2018']}}\n",
      "{'Event': 'Keti Koti Festival', 'Coordinates': {'Latitude': '52,3599580', 'Longtitude': '4,9203280'}, 'Data': {'singles': ['01-07-2018']}}\n",
      "{'Event': 'WESTwaARTS', 'Coordinates': {'Latitude': '52,3744440', 'Longtitude': '4,8511110'}, 'Data': {'singles': ['30-06-2018', '01-07-2018', '07-07-2018', '08-07-2018']}}\n",
      "{'Event': 'Smaakboulevard 2018', 'Coordinates': {'Latitude': '52,3588080', 'Longtitude': '4,8071670'}, 'Data': {'singles': ['30-06-2018']}}\n",
      "{'Event': 'Mercedes-Benz FashionWeek Amsterdam', 'Coordinates': {'Latitude': '52,3860440', 'Longtitude': '4,8661220'}, 'Data': {'singles': ['12-07-2018', '13-07-2018', '14-07-2018', '15-07-2018']}}\n",
      "{'Event': 'Houtfestival', 'Coordinates': {'Latitude': '52,3671110', 'Longtitude': '4,6249070'}, 'Data': {'singles': ['17-06-2018']}}\n",
      "{'Event': 'FotoFestival Naarden', 'Coordinates': {'Latitude': '52,2936390', 'Longtitude': '5,1622380'}, 'Data': {'startdate': '19-05-2018', 'enddate': '17-06-2018'}}\n",
      "{'Event': 'Julidans', 'Coordinates': {'Latitude': '52,3615820', 'Longtitude': '4,8854790'}, 'Data': {'singles': ['03-07-2018', '04-07-2018', '05-07-2018', '06-07-2018', '07-07-2018', '08-07-2018', '09-07-2018', '10-07-2018', '11-07-2018', '13-07-2018', '14-07-2018']}}\n",
      "{'Event': 'EdelWise Festival', 'Coordinates': {'Latitude': '52,3685000', 'Longtitude': '4,8491630'}, 'Data': {'singles': ['28-07-2018']}}\n",
      "{'Event': 'Kwaku Summer Festival', 'Coordinates': {'Latitude': '52,3161730', 'Longtitude': '4,9576200'}, 'Data': {'singles': ['14-07-2018', '15-07-2018', '21-07-2018', '22-07-2018', '28-07-2018', '29-07-2018', '04-08-2018', '05-08-2018']}}\n",
      "{'Event': 'Vitamine Z Festival', 'Coordinates': {'Latitude': '52,3840890', 'Longtitude': '4,9052590'}, 'Data': {'singles': ['11-08-2018']}}\n",
      "{'Event': 'Amsterdam Spanish Film Festival', 'Coordinates': {'Latitude': '52,3726380', 'Longtitude': '4,8941060'}, 'Data': {'singles': ['29-05-2018', '30-05-2018', '31-05-2018', '01-06-2018', '02-06-2018', '03-06-2018']}}\n",
      "{'Event': 'Cineblend Festival', 'Coordinates': {'Latitude': '52,3837450', 'Longtitude': '4,9022790'}, 'Data': {'singles': ['12-06-2018', '13-06-2018', '14-06-2018', '15-06-2018', '16-06-2018', '17-06-2018', '18-06-2018', '19-06-2018', '20-06-2018', '21-06-2018', '22-06-2018', '23-06-2018']}}\n",
      "{'Event': 'Cello Biënnale', 'Coordinates': {'Latitude': '52,3782500', 'Longtitude': '4,9134350'}, 'Data': {'startdate': '18-10-2018', 'enddate': '27-10-2018'}}\n",
      "{'Event': 'Festival De Muze van Zuid', 'Coordinates': {'Latitude': '52,3726380', 'Longtitude': '4,8941060'}, 'Data': {'singles': ['25-05-2018', '26-05-2018', '27-05-2018']}}\n",
      "{'Event': '22fest', 'Coordinates': {'Latitude': '52,3959400', 'Longtitude': '4,8551870'}, 'Data': {'singles': ['19-05-2018']}}\n",
      "{'Event': 'Amsterdam Open Air', 'Coordinates': {'Latitude': '52,3132560', 'Longtitude': '4,9905430'}, 'Data': {'singles': ['02-06-2018', '03-06-2018']}}\n",
      "{'Event': 'Red Light Jazz Festival', 'Coordinates': {'Latitude': '52,3726380', 'Longtitude': '4,8941060'}, 'Data': {'singles': ['01-06-2018', '02-06-2018', '03-06-2018']}}\n",
      "{'Event': 'De Zon', 'Coordinates': {'Latitude': '52,3516360', 'Longtitude': '5,0060410'}, 'Data': {'singles': ['03-06-2018']}}\n",
      "{'Event': 'Het Lente Kabinet', 'Coordinates': {'Latitude': '52,4405690', 'Longtitude': '4,8903210'}, 'Data': {'singles': ['27-05-2018']}}\n",
      "{'Event': '909 Festival', 'Coordinates': {'Latitude': '52,3288500', 'Longtitude': '4,8487640'}, 'Data': {'singles': ['26-05-2018']}}\n",
      "{'Event': 'The Flying Dutch', 'Coordinates': {'Latitude': '52,3430480', 'Longtitude': '4,8543140'}, 'Data': {'singles': ['03-06-2018']}}\n",
      "{'Event': 'DIYnamic Festival', 'Coordinates': {'Latitude': '52,3259690', 'Longtitude': '4,8395190'}, 'Data': {'singles': ['25-05-2018']}}\n",
      "{'Event': 'Mystic Garden Festival', 'Coordinates': {'Latitude': '52,3657700', 'Longtitude': '4,8197120'}, 'Data': {'singles': ['16-06-2018']}}\n",
      "{'Event': 'Amsterdam Roots Festival', 'Coordinates': {'Latitude': '52,3599580', 'Longtitude': '4,9203280'}, 'Data': {'startdate': '18-06-2018', 'enddate': '24-06-2018'}}\n",
      "{'Event': 'Nomads Festival', 'Coordinates': {'Latitude': '52,3630800', 'Longtitude': '4,8439290'}, 'Data': {'singles': ['23-06-2018']}}\n",
      "{'Event': 'Solstice Festival', 'Coordinates': {'Latitude': '52,4103320', 'Longtitude': '4,7490690'}, 'Data': {'singles': ['23-06-2018', '24-06-2018']}}\n",
      "{'Event': 'Awakenings Festival', 'Coordinates': {'Latitude': '52,4371000', 'Longtitude': '4,6809290'}, 'Data': {'singles': ['30-06-2018', '01-07-2018']}}\n",
      "{'Event': 'Defqon.1', 'Coordinates': {'Latitude': '52,4473880', 'Longtitude': '5,7920500'}, 'Data': {'singles': ['22-06-2018', '23-06-2018', '24-06-2018']}}\n",
      "{'Event': 'Luminosity Beach Festival', 'Coordinates': {'Latitude': '52,4012630', 'Longtitude': '4,5443030'}, 'Data': {'singles': ['21-06-2018', '22-06-2018', '23-06-2018', '24-06-2018']}}\n",
      "{'Event': 'Festifest', 'Coordinates': {'Latitude': '52,4017310', 'Longtitude': '4,8903930'}, 'Data': {'singles': ['16-06-2018']}}\n",
      "{'Event': 'Pitch Festival', 'Coordinates': {'Latitude': '52,4012110', 'Longtitude': '4,8951540'}, 'Data': {'singles': ['30-06-2018']}}\n",
      "{'Event': 'Electronic Picnic', 'Coordinates': {'Latitude': '52,5026530', 'Longtitude': '4,9743650'}, 'Data': {'singles': ['07-07-2018']}}\n",
      "{'Event': 'Buiten Westen', 'Coordinates': {'Latitude': '52,2859290', 'Longtitude': '4,9133830'}, 'Data': {'singles': ['14-07-2018']}}\n",
      "{'Event': 'Milkshake Festival', 'Coordinates': {'Latitude': '52,3897220', 'Longtitude': '4,8750000'}, 'Data': {'singles': ['28-07-2018', '29-07-2018']}}\n",
      "{'Event': 'Welcome to the Future', 'Coordinates': {'Latitude': '52,4376260', 'Longtitude': '4,9025440'}, 'Data': {'singles': ['21-07-2018']}}\n",
      "{'Event': 'Gaasper Pleasure', 'Coordinates': {'Latitude': '52,3065610', 'Longtitude': '4,9933600'}, 'Data': {'singles': ['28-07-2018']}}\n",
      "{'Event': 'Vunzige Deuntjes Festival', 'Coordinates': {'Latitude': '52,3974820', 'Longtitude': '4,8777040'}, 'Data': {'singles': ['28-07-2018', '29-07-2018']}}\n",
      "{'Event': 'Dekmantel Festival', 'Coordinates': {'Latitude': '52,3288500', 'Longtitude': '4,8487640'}, 'Data': {'singles': ['01-08-2018', '02-08-2018', '03-08-2018', '04-08-2018', '05-08-2018']}}\n",
      "{'Event': 'Appelsap Fresh Music Festival', 'Coordinates': {'Latitude': '52,3623010', 'Longtitude': '4,9458490'}, 'Data': {'singles': ['11-08-2018']}}\n",
      "{'Event': 'Dance Valley', 'Coordinates': {'Latitude': '52,4371000', 'Longtitude': '4,6809290'}, 'Data': {'singles': ['11-08-2018']}}\n",
      "{'Event': 'Loveland Festival', 'Coordinates': {'Latitude': '52,3657700', 'Longtitude': '4,8197120'}, 'Data': {'singles': ['11-08-2018']}}\n",
      "{'Event': 'Opera in de Grachtentuin', 'Coordinates': {'Latitude': '52,3634770', 'Longtitude': '4,8933720'}, 'Data': {'singles': ['09-08-2018', '11-08-2018', '11-08-2018', '12-08-2018', '12-08-2018', '13-08-2018', '13-08-2018', '14-08-2018', '14-08-2018']}}\n",
      "{'Event': 'LatinVillage', 'Coordinates': {'Latitude': '52,4328420', 'Longtitude': '4,6792870'}, 'Data': {'singles': ['19-08-2018']}}\n",
      "{'Event': 'Encore Festival', 'Coordinates': {'Latitude': '52,4012110', 'Longtitude': '4,8951540'}, 'Data': {'singles': ['18-08-2018']}}\n",
      "{'Event': 'Haarlem Jazz & More', 'Coordinates': {'Latitude': '52,3812850', 'Longtitude': '4,6363320'}, 'Data': {'singles': ['15-08-2018', '16-08-2018', '17-08-2018', '18-08-2018', '19-08-2018']}}\n"
     ]
    },
    {
     "name": "stdout",
     "output_type": "stream",
     "text": [
      "{'Event': 'STRAF_WERK Festival', 'Coordinates': {'Latitude': '52,3516360', 'Longtitude': '5,0060410'}, 'Data': {'singles': ['18-08-2018']}}\n",
      "{'Event': 'Dutch Valley', 'Coordinates': {'Latitude': '52,4371000', 'Longtitude': '4,6809290'}, 'Data': {'singles': ['18-08-2018']}}\n",
      "{'Event': 'Junior Grachtenfestival', 'Coordinates': {'Latitude': '52,3639260', 'Longtitude': '4,8807110'}, 'Data': {'startdate': '10-08-2018', 'enddate': '19-08-2018'}}\n",
      "{'Event': 'Grachtenfestival Amsterdam', 'Coordinates': {'Latitude': '52,3648660', 'Longtitude': '4,8797300'}, 'Data': {'singles': ['10-08-2018', '11-08-2018', '12-08-2018', '13-08-2018', '14-08-2018', '15-08-2018', '16-08-2018', '17-08-2018', '18-08-2018', '19-08-2018']}}\n",
      "{'Event': 'ITs Festival', 'Coordinates': {'Latitude': '52,3726380', 'Longtitude': '4,8941060'}, 'Data': {'singles': ['20-06-2018', '21-06-2018', '22-06-2018', '23-06-2018', '24-06-2018']}}\n",
      "{'Event': 'ITs Festival', 'Coordinates': {'Latitude': '52,3696240', 'Longtitude': '4,8932770'}, 'Data': {'singles': ['20-06-2018', '21-06-2018', '22-06-2018', '23-06-2018', '24-06-2018']}}\n",
      "{'Event': 'Over het IJ Festival', 'Coordinates': {'Latitude': '52,4010810', 'Longtitude': '4,8955830'}, 'Data': {'singles': ['13-07-2018', '14-07-2018', '15-07-2018', '16-07-2018', '17-07-2018', '18-07-2018', '19-07-2018', '20-07-2018', '21-07-2018', '22-07-2018']}}\n",
      "{'Event': 'Comedytrain International Summer Festival', 'Coordinates': {'Latitude': '52,3514800', 'Longtitude': '4,8728260'}, 'Data': {'startdate': '13-07-2018', 'enddate': '04-08-2018'}}\n",
      "{'Event': 'Vondelfestival', 'Coordinates': {'Latitude': '52,3659490', 'Longtitude': '4,8941710'}, 'Data': {'singles': ['02-06-2018']}}\n",
      "{'Event': 'ITs Festival', 'Coordinates': {'Latitude': '52,3703790', 'Longtitude': '4,8976700'}, 'Data': {'singles': ['20-06-2018', '21-06-2018', '22-06-2018', '23-06-2018', '24-06-2018']}}\n",
      "{'Event': 'Amsterdam Art Fair', 'Coordinates': {'Latitude': '52,3585600', 'Longtitude': '4,8978300'}, 'Data': {'startdate': '16-05-2018', 'enddate': '20-05-2018'}}\n",
      "{'Event': 'Tattoo, Art en Street Art Conventie', 'Coordinates': {'Latitude': '52,3410090', 'Longtitude': '4,8896750'}, 'Data': {'singles': ['26-05-2018', '27-05-2018', '28-05-2018']}}\n",
      "{'Event': 'Job Fair for Internationals', 'Coordinates': {'Latitude': '52,3402590', 'Longtitude': '4,8739720'}, 'Data': {'singles': ['20-05-2018']}}\n",
      "{'Event': 'Bloemenmarkt Amsterdam', 'Coordinates': {'Latitude': '52,3732870', 'Longtitude': '4,8891560'}, 'Data': {'startdate': '06-06-2016', 'enddate': '31-12-2018'}}\n",
      "{'Event': 'Open Tuinen Dagen', 'Coordinates': {'Latitude': '52,3653200', 'Longtitude': '4,8930150'}, 'Data': {'singles': ['15-06-2018', '16-06-2018', '17-06-2018']}}\n",
      "{'Event': 'Friday Night Skate', 'Coordinates': {'Latitude': '52,3594350', 'Longtitude': '4,8710580'}, 'Data': {'startdate': '01-01-2015', 'enddate': '31-12-2018'}}\n",
      "{'Event': 'Next Gen Series', 'Coordinates': {'Latitude': '52,3430490', 'Longtitude': '4,8543150'}, 'Data': {'singles': ['05-06-2018', '04-06-2018']}}\n",
      "{'Event': 'Amsterdam Sevens Rugby', 'Coordinates': {'Latitude': '52,3782530', 'Longtitude': '4,7876990'}, 'Data': {'singles': ['25-05-2018', '26-05-2018', '27-05-2018']}}\n",
      "{'Event': 'The Color Run', 'Coordinates': {'Latitude': '52,3700280', 'Longtitude': '4,8171500'}, 'Data': {'singles': ['27-05-2018']}}\n",
      "{'Event': 'Zuidas Run', 'Coordinates': {'Latitude': '52,3374080', 'Longtitude': '4,8715050'}, 'Data': {'singles': ['10-06-2018']}}\n",
      "{'Event': 'Cycle Tour Amsterdam', 'Coordinates': {'Latitude': '52,3689050', 'Longtitude': '4,9482120'}, 'Data': {'singles': ['10-06-2018']}}\n",
      "{'Event': 'Gaasperplasrun', 'Coordinates': {'Latitude': '52,3094970', 'Longtitude': '4,9600120'}, 'Data': {'singles': ['10-06-2018']}}\n",
      "{'Event': 'Van Gogh & Japan', 'Coordinates': {'Latitude': '52,3564290', 'Longtitude': '4,8798010'}, 'Data': {'startdate': '23-03-2018', 'enddate': '24-06-2018'}}\n",
      "{'Event': 'Retrospectief Sottsass', 'Coordinates': {'Latitude': '52,3580110', 'Longtitude': '4,8797550'}, 'Data': {'startdate': '01-04-2018', 'enddate': '01-10-2018'}}\n",
      "{'Event': 'Charlotte Salomon, Leven? of Theater? en de overwinning op de angst', 'Coordinates': {'Latitude': '52,3671710', 'Longtitude': '4,9038100'}, 'Data': []}\n",
      "{'Event': 'Ondertussen', 'Coordinates': {'Latitude': '52,3671710', 'Longtitude': '4,9038100'}, 'Data': []}\n",
      "{'Event': 'Masterclass: oude fotografische technieken 15/12 / cyanotypie & gomdruk, met Adriaan Heijboer', 'Coordinates': {'Latitude': '52,3676370', 'Longtitude': '4,8848230'}, 'Data': []}\n",
      "{'Event': 'Masterclass: oude fotografische technieken, II 10/11 / cyanotypie & zoutdruk, met Adriaan Heijboer', 'Coordinates': {'Latitude': '52,3676370', 'Longtitude': '4,8848230'}, 'Data': []}\n",
      "{'Event': 'Eddo Hartmann / Setting the Stage: Pyongyang, North Korea, Part 2', 'Coordinates': {'Latitude': '52,3676370', 'Longtitude': '4,8848230'}, 'Data': []}\n",
      "{'Event': 'Hollandse Meesters uit de Hermitage', 'Coordinates': {'Latitude': '52,3653120', 'Longtitude': '4,9025420'}, 'Data': {'startdate': '07-10-2017', 'enddate': '27-05-2018'}}\n",
      "{'Event': 'Te gast uit Leiden: Het Laatse Oordeel van Lucas van Leyden', 'Coordinates': {'Latitude': '52,3600070', 'Longtitude': '4,8851850'}, 'Data': []}\n",
      "{'Event': 'Tocht naar Chatham', 'Coordinates': {'Latitude': '52,3600070', 'Longtitude': '4,8851850'}, 'Data': []}\n",
      "{'Event': 'Lente in het Aziatisch Paviljoen', 'Coordinates': {'Latitude': '52,3600070', 'Longtitude': '4,8851850'}, 'Data': []}\n",
      "{'Event': 'Vernieuwde Schatkamer', 'Coordinates': {'Latitude': '52,3645800', 'Longtitude': '4,8921970'}, 'Data': {'startdate': '10-03-2017', 'enddate': '08-06-2019'}}\n",
      "{'Event': 'Brutal Vitality: CoBrA in handen van Bank & Rau', 'Coordinates': {'Latitude': '52,3039720', 'Longtitude': '4,8576730'}, 'Data': []}\n",
      "{'Event': 'Brutal Vitality: CoBrA in handen van Bank & Rau', 'Coordinates': {'Latitude': '52,3039720', 'Longtitude': '4,8576730'}, 'Data': []}\n",
      "{'Event': '“Legendary Trunks – The Exhibition”', 'Coordinates': {'Latitude': '52,3751760', 'Longtitude': '4,8960590'}, 'Data': []}\n",
      "{'Event': 'Landscape with Tree / by Jamie Hawkesworth', 'Coordinates': {'Latitude': '52,3676370', 'Longtitude': '4,8848230'}, 'Data': []}\n",
      "{'Event': 'Tours & Tickets - Red Light Secrets', 'Coordinates': {'Latitude': '52,3736880', 'Longtitude': '4,8989070'}, 'Data': {'startdate': '24-03-2016', 'enddate': '31-12-2018'}}\n",
      "{'Event': 'Ik ben een geboren buitenlander', 'Coordinates': {'Latitude': '52,3580110', 'Longtitude': '4,8797550'}, 'Data': {'startdate': '23-09-2017', 'enddate': '03-06-2018'}}\n",
      "{'Event': 'De Dageraad', 'Coordinates': {'Latitude': '52,3501050', 'Longtitude': '4,8995780'}, 'Data': {'startdate': '01-01-2017', 'enddate': '01-01-2030'}}\n",
      "{'Event': 'nl', 'Coordinates': {'Latitude': '52,3764180', 'Longtitude': '4,9243900'}, 'Data': {'startdate': '20-06-2017', 'enddate': '31-12-2019'}}\n",
      "{'Event': 'de Appel arts centre - Vaste collectie', 'Coordinates': {'Latitude': '52,3733530', 'Longtitude': '4,9063160'}, 'Data': {'startdate': '08-06-2012', 'enddate': '31-12-2020'}}\n",
      "{'Event': 'De Cromhouthuizen - Vaste collectie', 'Coordinates': {'Latitude': '52,3685340', 'Longtitude': '4,8863550'}, 'Data': {'startdate': '01-05-2013', 'enddate': '31-12-2020'}}\n",
      "{'Event': 'Rijksmuseum - Vaste collectie', 'Coordinates': {'Latitude': '52,3604580', 'Longtitude': '4,8840370'}, 'Data': {'startdate': '13-04-2013', 'enddate': '31-12-2020'}}\n",
      "{'Event': 'Tassenmuseum Hendrikje - Vaste collectie', 'Coordinates': {'Latitude': '52,3651080', 'Longtitude': '4,8967460'}, 'Data': {'startdate': '01-03-2012', 'enddate': '31-12-2020'}}\n",
      "{'Event': 'Verzetsmuseum - Vaste collectie', 'Coordinates': {'Latitude': '52,3673320', 'Longtitude': '4,9125450'}, 'Data': {'startdate': '01-03-2012', 'enddate': '31-12-2020'}}\n",
      "{'Event': 'Stedelijk Museum Bureau Amsterdam - Vaste collectie', 'Coordinates': {'Latitude': '52,3728370', 'Longtitude': '4,8812240'}, 'Data': {'startdate': '01-03-2012', 'enddate': '31-12-2020'}}\n",
      "{'Event': 'Stadsarchief Amsterdam - Vaste collectie', 'Coordinates': {'Latitude': '52,3646200', 'Longtitude': '4,8923060'}, 'Data': {'startdate': '01-03-2012', 'enddate': '31-12-2020'}}\n"
     ]
    },
    {
     "name": "stdout",
     "output_type": "stream",
     "text": [
      "{'Event': 'Museum Willet-Holthuysen - Vaste collectie', 'Coordinates': {'Latitude': '52,3654780', 'Longtitude': '4,8986160'}, 'Data': {'startdate': '01-03-2012', 'enddate': '31-12-2020'}}\n",
      "{'Event': 'Museum het Rembrandthuis - Vaste collectie', 'Coordinates': {'Latitude': '52,3694830', 'Longtitude': '4,9013410'}, 'Data': {'startdate': '01-03-2012', 'enddate': '31-12-2020'}}\n",
      "{'Event': 'Museum Jan van der Togt - Vaste collectie', 'Coordinates': {'Latitude': '52,3023940', 'Longtitude': '4,8466120'}, 'Data': {'startdate': '01-03-2012', 'enddate': '31-12-2020'}}\n",
      "{'Event': 'Pijpenkabinet & Smokiana - Vaste collectie', 'Coordinates': {'Latitude': '52,3641770', 'Longtitude': '4,8853680'}, 'Data': {'startdate': '01-03-2012', 'enddate': '31-12-2020'}}\n",
      "{'Event': 'Persmuseum - Vaste collectie', 'Coordinates': {'Latitude': '52,3692810', 'Longtitude': '4,9399770'}, 'Data': {'startdate': '01-01-2012', 'enddate': '31-12-2020'}}\n",
      "{'Event': 'Museum Het Schip - Vaste collectie', 'Coordinates': {'Latitude': '52,3899260', 'Longtitude': '4,8744980'}, 'Data': {'startdate': '01-03-2012', 'enddate': '31-12-2020'}}\n",
      "{'Event': 'De Dageraad - Vaste collectie', 'Coordinates': {'Latitude': '52,3498740', 'Longtitude': '4,8989820'}, 'Data': {'startdate': '28-07-2012', 'enddate': '31-12-2020'}}\n",
      "{'Event': 'Stedelijk Museum - Vaste collectie', 'Coordinates': {'Latitude': '52,3564290', 'Longtitude': '4,8798010'}, 'Data': {'startdate': '01-03-2012', 'enddate': '31-12-2020'}}\n",
      "{'Event': 'Nederlands Uitvaart Museum Tot Zover - Vaste collectie', 'Coordinates': {'Latitude': '52,3459200', 'Longtitude': '4,9371610'}, 'Data': {'startdate': '01-03-2012', 'enddate': '31-12-2020'}}\n",
      "{'Event': 'Spant Bussum: Trijntje Oosterhuis -theatertournee', 'Coordinates': {'Latitude': '52,2701790', 'Longtitude': '5,1750520'}, 'Data': {'singles': ['01-06-2018']}}\n",
      "{'Event': \"Spant Bussum Ali B 'Koorts'\", 'Coordinates': {'Latitude': '52,2701790', 'Longtitude': '5,1750520'}, 'Data': {'singles': ['26-05-2018']}}\n",
      "{'Event': 'SAIL Amsterdam', 'Coordinates': {'Latitude': '52,3775460', 'Longtitude': '4,9138540'}, 'Data': {'startdate': '19-08-2020', 'enddate': '23-08-2020'}}\n",
      "{'Event': 'Aalsmeer Flower Festival', 'Coordinates': {'Latitude': '52,2694410', 'Longtitude': '4,7463140'}, 'Data': {'singles': ['16-06-2018', '17-06-2018']}}\n",
      "{'Event': 'International AIDS Conferentie 2018', 'Coordinates': {'Latitude': '52,3390470', 'Longtitude': '4,8911530'}, 'Data': {'singles': ['22-07-2018', '23-07-2018', '24-07-2018', '25-07-2018', '26-07-2018', '27-07-2018']}}\n",
      "{'Event': 'TNW Conference 2018', 'Coordinates': {'Latitude': '52,3859370', 'Longtitude': '4,8714400'}, 'Data': {'singles': ['18-05-2018', '19-05-2018']}}\n",
      "{'Event': 'Money20/20 Europe', 'Coordinates': {'Latitude': '52,3390470', 'Longtitude': '4,8911530'}, 'Data': {'singles': ['04-06-2018', '05-06-2018', '06-06-2018']}}\n",
      "{'Event': 'Taste of Amsterdam', 'Coordinates': {'Latitude': '52,3324330', 'Longtitude': '4,8913550'}, 'Data': {'startdate': '31-05-2018', 'enddate': '03-06-2018'}}\n",
      "{'Event': 'Restaurant Week', 'Coordinates': {'Latitude': '52,3731270', 'Longtitude': '4,8900800'}, 'Data': {'singles': ['08-05-2018', '09-05-2018', '10-05-2018', '11-05-2018', '12-05-2018', '13-05-2018', '14-05-2018', '15-05-2018', '16-05-2018', '17-05-2018', '18-05-2018', '19-05-2018', '20-05-2018', '21-05-2018']}}\n",
      "{'Event': 'Sloten Bier Festival', 'Coordinates': {'Latitude': '52,3466390', 'Longtitude': '4,8245770'}, 'Data': {'singles': ['24-06-2018']}}\n",
      "{'Event': 'Het Hoofdgerecht', 'Coordinates': {'Latitude': '52,3890190', 'Longtitude': '4,8912500'}, 'Data': {'startdate': '07-06-2018', 'enddate': '10-06-2018'}}\n",
      "{'Event': 'TREK Food Truck Festival', 'Coordinates': {'Latitude': '52,3320700', 'Longtitude': '4,8757050'}, 'Data': {'singles': ['13-07-2018', '14-07-2018', '15-07-2018']}}\n",
      "{'Event': 'Het Bacchus Wijnfestival', 'Coordinates': {'Latitude': '52,3236690', 'Longtitude': '4,8494770'}, 'Data': {'singles': ['08-06-2018', '09-06-2018', '10-06-2018', '15-06-2018', '16-06-2018', '17-06-2018']}}\n",
      "{'Event': 'Juni Gedicht', 'Coordinates': {'Latitude': '52,3862260', 'Longtitude': '4,8744250'}, 'Data': {'singles': ['10-06-2018']}}\n",
      "{'Event': 'De Nieuwe Mens - Paradisolezing door Prof. dr. Gurszti Eiben', 'Coordinates': {'Latitude': '52,3622770', 'Longtitude': '4,8839450'}, 'Data': {'singles': ['27-05-2018']}}\n",
      "{'Event': 'De Nieuwe Mens - Paradisolezing door Prof. dr. Frans W. Saris', 'Coordinates': {'Latitude': '52,3622770', 'Longtitude': '4,8839450'}, 'Data': {'singles': ['17-06-2018']}}\n"
     ]
    }
   ],
   "source": [
    "#Read JSON line by line\n",
    "\n",
    "with open(\"../Data/Original/Evenementen.json\") as event_data:\n",
    "    events = json.load(event_data)\n",
    "    \n",
    "    #Return eventname\n",
    "    print(\"Event: \", events[0][\"title\"])\n",
    "\n",
    "    #Return exact location event in human terms\n",
    "    print(\"City: \", events[0][\"location\"][\"city\"])\n",
    "    print(\"Adress: \", events[0][\"location\"][\"adress\"])\n",
    "    print(\"Zipcode: \", events[0][\"location\"][\"zipcode\"])\n",
    "\n",
    "    #Check source crowdedness\n",
    "    print(\"Coordinates: \", events[0][\"location\"][\"latitude\"], events[0][\"location\"][\"longitude\"]) \n",
    "\n",
    "    #Check whether the data has an event\n",
    "    print(\"Date: \", events[0][\"dates\"])     \n",
    "    \n",
    "    for event in events:        \n",
    "        coordinates = {\"Latitude\": event[\"location\"][\"latitude\"], \"Longtitude\": event[\"location\"][\"longitude\"]}\n",
    "        \n",
    "        event_dict = {\"Event\": event[\"title\"], \"Coordinates\": coordinates, \"Data\": event[\"dates\"]}\n",
    "        print(event_dict)\n",
    "        \n",
    "        with open(\"../Data/Modified/Events.json\", \"a\") as writer:\n",
    "            json.dump(event_dict, writer)"
   ]
  },
  {
   "cell_type": "code",
   "execution_count": 4,
   "metadata": {},
   "outputs": [
    {
     "ename": "JSONDecodeError",
     "evalue": "Extra data: line 1 column 165 (char 164)",
     "output_type": "error",
     "traceback": [
      "\u001b[1;31m---------------------------------------------------------------------------\u001b[0m",
      "\u001b[1;31mJSONDecodeError\u001b[0m                           Traceback (most recent call last)",
      "\u001b[1;32m<ipython-input-4-a995f1ec13a0>\u001b[0m in \u001b[0;36m<module>\u001b[1;34m\u001b[0m\n\u001b[0;32m      1\u001b[0m \u001b[1;32mwith\u001b[0m \u001b[0mopen\u001b[0m\u001b[1;33m(\u001b[0m\u001b[1;34m\"../Data/Modified/Events.json\"\u001b[0m\u001b[1;33m)\u001b[0m \u001b[1;32mas\u001b[0m \u001b[0mf\u001b[0m\u001b[1;33m:\u001b[0m\u001b[1;33m\u001b[0m\u001b[1;33m\u001b[0m\u001b[0m\n\u001b[1;32m----> 2\u001b[1;33m     \u001b[0mevents\u001b[0m \u001b[1;33m=\u001b[0m \u001b[0mjson\u001b[0m\u001b[1;33m.\u001b[0m\u001b[0mload\u001b[0m\u001b[1;33m(\u001b[0m\u001b[0mf\u001b[0m\u001b[1;33m)\u001b[0m\u001b[1;33m\u001b[0m\u001b[1;33m\u001b[0m\u001b[0m\n\u001b[0m",
      "\u001b[1;32mD:\\Programs\\Anaconda\\envs\\Analytics\\lib\\json\\__init__.py\u001b[0m in \u001b[0;36mload\u001b[1;34m(fp, cls, object_hook, parse_float, parse_int, parse_constant, object_pairs_hook, **kw)\u001b[0m\n\u001b[0;32m    294\u001b[0m         \u001b[0mcls\u001b[0m\u001b[1;33m=\u001b[0m\u001b[0mcls\u001b[0m\u001b[1;33m,\u001b[0m \u001b[0mobject_hook\u001b[0m\u001b[1;33m=\u001b[0m\u001b[0mobject_hook\u001b[0m\u001b[1;33m,\u001b[0m\u001b[1;33m\u001b[0m\u001b[1;33m\u001b[0m\u001b[0m\n\u001b[0;32m    295\u001b[0m         \u001b[0mparse_float\u001b[0m\u001b[1;33m=\u001b[0m\u001b[0mparse_float\u001b[0m\u001b[1;33m,\u001b[0m \u001b[0mparse_int\u001b[0m\u001b[1;33m=\u001b[0m\u001b[0mparse_int\u001b[0m\u001b[1;33m,\u001b[0m\u001b[1;33m\u001b[0m\u001b[1;33m\u001b[0m\u001b[0m\n\u001b[1;32m--> 296\u001b[1;33m         parse_constant=parse_constant, object_pairs_hook=object_pairs_hook, **kw)\n\u001b[0m\u001b[0;32m    297\u001b[0m \u001b[1;33m\u001b[0m\u001b[0m\n\u001b[0;32m    298\u001b[0m \u001b[1;33m\u001b[0m\u001b[0m\n",
      "\u001b[1;32mD:\\Programs\\Anaconda\\envs\\Analytics\\lib\\json\\__init__.py\u001b[0m in \u001b[0;36mloads\u001b[1;34m(s, encoding, cls, object_hook, parse_float, parse_int, parse_constant, object_pairs_hook, **kw)\u001b[0m\n\u001b[0;32m    346\u001b[0m             \u001b[0mparse_int\u001b[0m \u001b[1;32mis\u001b[0m \u001b[1;32mNone\u001b[0m \u001b[1;32mand\u001b[0m \u001b[0mparse_float\u001b[0m \u001b[1;32mis\u001b[0m \u001b[1;32mNone\u001b[0m \u001b[1;32mand\u001b[0m\u001b[1;33m\u001b[0m\u001b[1;33m\u001b[0m\u001b[0m\n\u001b[0;32m    347\u001b[0m             parse_constant is None and object_pairs_hook is None and not kw):\n\u001b[1;32m--> 348\u001b[1;33m         \u001b[1;32mreturn\u001b[0m \u001b[0m_default_decoder\u001b[0m\u001b[1;33m.\u001b[0m\u001b[0mdecode\u001b[0m\u001b[1;33m(\u001b[0m\u001b[0ms\u001b[0m\u001b[1;33m)\u001b[0m\u001b[1;33m\u001b[0m\u001b[1;33m\u001b[0m\u001b[0m\n\u001b[0m\u001b[0;32m    349\u001b[0m     \u001b[1;32mif\u001b[0m \u001b[0mcls\u001b[0m \u001b[1;32mis\u001b[0m \u001b[1;32mNone\u001b[0m\u001b[1;33m:\u001b[0m\u001b[1;33m\u001b[0m\u001b[1;33m\u001b[0m\u001b[0m\n\u001b[0;32m    350\u001b[0m         \u001b[0mcls\u001b[0m \u001b[1;33m=\u001b[0m \u001b[0mJSONDecoder\u001b[0m\u001b[1;33m\u001b[0m\u001b[1;33m\u001b[0m\u001b[0m\n",
      "\u001b[1;32mD:\\Programs\\Anaconda\\envs\\Analytics\\lib\\json\\decoder.py\u001b[0m in \u001b[0;36mdecode\u001b[1;34m(self, s, _w)\u001b[0m\n\u001b[0;32m    338\u001b[0m         \u001b[0mend\u001b[0m \u001b[1;33m=\u001b[0m \u001b[0m_w\u001b[0m\u001b[1;33m(\u001b[0m\u001b[0ms\u001b[0m\u001b[1;33m,\u001b[0m \u001b[0mend\u001b[0m\u001b[1;33m)\u001b[0m\u001b[1;33m.\u001b[0m\u001b[0mend\u001b[0m\u001b[1;33m(\u001b[0m\u001b[1;33m)\u001b[0m\u001b[1;33m\u001b[0m\u001b[1;33m\u001b[0m\u001b[0m\n\u001b[0;32m    339\u001b[0m         \u001b[1;32mif\u001b[0m \u001b[0mend\u001b[0m \u001b[1;33m!=\u001b[0m \u001b[0mlen\u001b[0m\u001b[1;33m(\u001b[0m\u001b[0ms\u001b[0m\u001b[1;33m)\u001b[0m\u001b[1;33m:\u001b[0m\u001b[1;33m\u001b[0m\u001b[1;33m\u001b[0m\u001b[0m\n\u001b[1;32m--> 340\u001b[1;33m             \u001b[1;32mraise\u001b[0m \u001b[0mJSONDecodeError\u001b[0m\u001b[1;33m(\u001b[0m\u001b[1;34m\"Extra data\"\u001b[0m\u001b[1;33m,\u001b[0m \u001b[0ms\u001b[0m\u001b[1;33m,\u001b[0m \u001b[0mend\u001b[0m\u001b[1;33m)\u001b[0m\u001b[1;33m\u001b[0m\u001b[1;33m\u001b[0m\u001b[0m\n\u001b[0m\u001b[0;32m    341\u001b[0m         \u001b[1;32mreturn\u001b[0m \u001b[0mobj\u001b[0m\u001b[1;33m\u001b[0m\u001b[1;33m\u001b[0m\u001b[0m\n\u001b[0;32m    342\u001b[0m \u001b[1;33m\u001b[0m\u001b[0m\n",
      "\u001b[1;31mJSONDecodeError\u001b[0m: Extra data: line 1 column 165 (char 164)"
     ]
    }
   ],
   "source": [
    "with open(\"../Data/Modified/Events.json\") as f:\n",
    "    events = json.load(f)"
   ]
  }
 ],
 "metadata": {
  "kernelspec": {
   "display_name": "Python 3",
   "language": "python",
   "name": "python3"
  },
  "language_info": {
   "codemirror_mode": {
    "name": "ipython",
    "version": 3
   },
   "file_extension": ".py",
   "mimetype": "text/x-python",
   "name": "python",
   "nbconvert_exporter": "python",
   "pygments_lexer": "ipython3",
   "version": "3.7.1"
  }
 },
 "nbformat": 4,
 "nbformat_minor": 2
}
