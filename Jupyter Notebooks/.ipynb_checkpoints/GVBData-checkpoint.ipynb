{
 "cells": [
  {
   "cell_type": "markdown",
   "metadata": {},
   "source": [
    "# Imports"
   ]
  },
  {
   "cell_type": "code",
   "execution_count": 2,
   "metadata": {},
   "outputs": [],
   "source": [
    "# For CSV files\n",
    "import json\n",
    "import pandas as pd"
   ]
  },
  {
   "cell_type": "markdown",
   "metadata": {},
   "source": [
    "# Open Data"
   ]
  },
  {
   "cell_type": "markdown",
   "metadata": {},
   "source": [
    "## Data Exploration"
   ]
  },
  {
   "cell_type": "code",
   "execution_count": 43,
   "metadata": {},
   "outputs": [
    {
     "name": "stdout",
     "output_type": "stream",
     "text": [
      "Lines:  02|11|12|13|17\n",
      "Coordinates:  [4.893349, 52.376064]\n"
     ]
    }
   ],
   "source": [
    "#Import JSON file\n",
    "with open(\"../Data/Original/TRAMMETRO_PUNTEN_2019.json\") as gvb_data:\n",
    "    stations = json.load(gvb_data)\n",
    "    stations = stations[\"features\"]\n",
    "   \n",
    "    #Lines that stop at the given station\n",
    "    print(\"Lines: \", stations[0][\"properties\"][\"Lijn_select\"])\n",
    "\n",
    "    #Coordinates of the station\n",
    "    print(\"Coordinates: \", stations[0][\"geometry\"][\"coordinates\"])\n",
    "\n",
    "    #Select Tramstations\n",
    "    for station in stations:\n",
    "        if station[\"properties\"][\"Modaliteit\"] == \"Tram\":\n",
    "            \n",
    "            tram_dict = {\"Lines\": station[\"properties\"][\"Lijn_select\"], \"Coordinates\": station[\"geometry\"][\"coordinates\"]}\n",
    "            \n",
    "            with open(\"../Data/Modified/TramStations.json\", \"a\") as f:\n",
    "                json.dump(tram_dict, f)\n",
    "            \n",
    "    \n",
    "    #Select Metrostations\n",
    "    for station in stations:\n",
    "        if station[\"properties\"][\"Modaliteit\"] == \"Metro\":\n",
    "            \n",
    "            metro_dict = {\"Lines\": station[\"properties\"][\"Lijn_select\"], \"Coordinates\": station[\"geometry\"][\"coordinates\"]}\n",
    "            \n",
    "            with open(\"../Data/Modified/MetroStations.json\", \"a\") as f:\n",
    "                json.dump(metro_dict, f)"
   ]
  },
  {
   "cell_type": "markdown",
   "metadata": {},
   "source": [
    "# Sample Data"
   ]
  },
  {
   "cell_type": "markdown",
   "metadata": {},
   "source": [
    "## Data Exploration"
   ]
  },
  {
   "cell_type": "markdown",
   "metadata": {},
   "source": [
    "### Ritten"
   ]
  },
  {
   "cell_type": "code",
   "execution_count": 20,
   "metadata": {},
   "outputs": [],
   "source": [
    "ritten = pd.read_excel(\"../../../Data_thesis/Sample_data/GVB/full.xlsx\")"
   ]
  },
  {
   "cell_type": "code",
   "execution_count": 21,
   "metadata": {},
   "outputs": [
    {
     "data": {
      "text/html": [
       "<div>\n",
       "<style scoped>\n",
       "    .dataframe tbody tr th:only-of-type {\n",
       "        vertical-align: middle;\n",
       "    }\n",
       "\n",
       "    .dataframe tbody tr th {\n",
       "        vertical-align: top;\n",
       "    }\n",
       "\n",
       "    .dataframe thead th {\n",
       "        text-align: right;\n",
       "    }\n",
       "</style>\n",
       "<table border=\"1\" class=\"dataframe\">\n",
       "  <thead>\n",
       "    <tr style=\"text-align: right;\">\n",
       "      <th></th>\n",
       "      <th>Datum</th>\n",
       "      <th>UurgroepOmschrijving (van vertrek)</th>\n",
       "      <th>VertrekHalteCode</th>\n",
       "      <th>VertrekHalteNaam</th>\n",
       "      <th>VertrekXCoord</th>\n",
       "      <th>VertrekYCoord</th>\n",
       "      <th>AantalRitten</th>\n",
       "    </tr>\n",
       "  </thead>\n",
       "  <tbody>\n",
       "    <tr>\n",
       "      <th>0</th>\n",
       "      <td>2018-12-24</td>\n",
       "      <td>00:00 - 00:59</td>\n",
       "      <td>0</td>\n",
       "      <td>Overig</td>\n",
       "      <td>0.0</td>\n",
       "      <td>0.000000e+00</td>\n",
       "      <td>77.0</td>\n",
       "    </tr>\n",
       "    <tr>\n",
       "      <th>1</th>\n",
       "      <td>2018-12-24</td>\n",
       "      <td>00:00 - 00:59</td>\n",
       "      <td>5046</td>\n",
       "      <td>Rembrandtplein</td>\n",
       "      <td>489627975.0</td>\n",
       "      <td>5.236626e+09</td>\n",
       "      <td>13.0</td>\n",
       "    </tr>\n",
       "    <tr>\n",
       "      <th>2</th>\n",
       "      <td>2018-12-24</td>\n",
       "      <td>00:00 - 00:59</td>\n",
       "      <td>5096</td>\n",
       "      <td>Centraal Station</td>\n",
       "      <td>490049319.0</td>\n",
       "      <td>5.237968e+09</td>\n",
       "      <td>10.0</td>\n",
       "    </tr>\n",
       "    <tr>\n",
       "      <th>3</th>\n",
       "      <td>2018-12-24</td>\n",
       "      <td>00:00 - 00:59</td>\n",
       "      <td>6063</td>\n",
       "      <td>Leidseplein</td>\n",
       "      <td>488064547.0</td>\n",
       "      <td>5.236476e+09</td>\n",
       "      <td>10.0</td>\n",
       "    </tr>\n",
       "    <tr>\n",
       "      <th>4</th>\n",
       "      <td>2018-12-24</td>\n",
       "      <td>01:00 - 01:59</td>\n",
       "      <td>0</td>\n",
       "      <td>Overig</td>\n",
       "      <td>0.0</td>\n",
       "      <td>0.000000e+00</td>\n",
       "      <td>132.0</td>\n",
       "    </tr>\n",
       "  </tbody>\n",
       "</table>\n",
       "</div>"
      ],
      "text/plain": [
       "       Datum UurgroepOmschrijving (van vertrek) VertrekHalteCode  \\\n",
       "0 2018-12-24                      00:00 - 00:59                0   \n",
       "1 2018-12-24                      00:00 - 00:59             5046   \n",
       "2 2018-12-24                      00:00 - 00:59             5096   \n",
       "3 2018-12-24                      00:00 - 00:59             6063   \n",
       "4 2018-12-24                      01:00 - 01:59                0   \n",
       "\n",
       "   VertrekHalteNaam  VertrekXCoord  VertrekYCoord  AantalRitten  \n",
       "0            Overig            0.0   0.000000e+00          77.0  \n",
       "1    Rembrandtplein    489627975.0   5.236626e+09          13.0  \n",
       "2  Centraal Station    490049319.0   5.237968e+09          10.0  \n",
       "3       Leidseplein    488064547.0   5.236476e+09          10.0  \n",
       "4            Overig            0.0   0.000000e+00         132.0  "
      ]
     },
     "execution_count": 21,
     "metadata": {},
     "output_type": "execute_result"
    }
   ],
   "source": [
    "ritten.head()"
   ]
  },
  {
   "cell_type": "code",
   "execution_count": 22,
   "metadata": {},
   "outputs": [],
   "source": [
    "niew_ritten = ritten.loc[ritten[\"VertrekHalteNaam\"] == \"Nieuwmarkt\"]\n",
    "rok_ritten = ritten.loc[ritten[\"VertrekHalteNaam\"] == \"Rokin\"]"
   ]
  },
  {
   "cell_type": "code",
   "execution_count": 23,
   "metadata": {},
   "outputs": [
    {
     "data": {
      "text/html": [
       "<div>\n",
       "<style scoped>\n",
       "    .dataframe tbody tr th:only-of-type {\n",
       "        vertical-align: middle;\n",
       "    }\n",
       "\n",
       "    .dataframe tbody tr th {\n",
       "        vertical-align: top;\n",
       "    }\n",
       "\n",
       "    .dataframe thead th {\n",
       "        text-align: right;\n",
       "    }\n",
       "</style>\n",
       "<table border=\"1\" class=\"dataframe\">\n",
       "  <thead>\n",
       "    <tr style=\"text-align: right;\">\n",
       "      <th></th>\n",
       "      <th>Datum</th>\n",
       "      <th>UurgroepOmschrijving (van vertrek)</th>\n",
       "      <th>VertrekHalteCode</th>\n",
       "      <th>VertrekHalteNaam</th>\n",
       "      <th>VertrekXCoord</th>\n",
       "      <th>VertrekYCoord</th>\n",
       "      <th>AantalRitten</th>\n",
       "    </tr>\n",
       "  </thead>\n",
       "  <tbody>\n",
       "    <tr>\n",
       "      <th>230</th>\n",
       "      <td>2018-12-24</td>\n",
       "      <td>06:00 - 06:59</td>\n",
       "      <td>NMT</td>\n",
       "      <td>Nieuwmarkt</td>\n",
       "      <td>490123885.0</td>\n",
       "      <td>5.237194e+09</td>\n",
       "      <td>28.0</td>\n",
       "    </tr>\n",
       "    <tr>\n",
       "      <th>542</th>\n",
       "      <td>2018-12-24</td>\n",
       "      <td>07:00 - 07:59</td>\n",
       "      <td>NMT</td>\n",
       "      <td>Nieuwmarkt</td>\n",
       "      <td>490123885.0</td>\n",
       "      <td>5.237194e+09</td>\n",
       "      <td>76.0</td>\n",
       "    </tr>\n",
       "    <tr>\n",
       "      <th>966</th>\n",
       "      <td>2018-12-24</td>\n",
       "      <td>08:00 - 08:59</td>\n",
       "      <td>NMT</td>\n",
       "      <td>Nieuwmarkt</td>\n",
       "      <td>490123885.0</td>\n",
       "      <td>5.237194e+09</td>\n",
       "      <td>115.0</td>\n",
       "    </tr>\n",
       "    <tr>\n",
       "      <th>1424</th>\n",
       "      <td>2018-12-24</td>\n",
       "      <td>09:00 - 09:59</td>\n",
       "      <td>NMT</td>\n",
       "      <td>Nieuwmarkt</td>\n",
       "      <td>490123885.0</td>\n",
       "      <td>5.237194e+09</td>\n",
       "      <td>119.0</td>\n",
       "    </tr>\n",
       "    <tr>\n",
       "      <th>1921</th>\n",
       "      <td>2018-12-24</td>\n",
       "      <td>10:00 - 10:59</td>\n",
       "      <td>NMT</td>\n",
       "      <td>Nieuwmarkt</td>\n",
       "      <td>490123885.0</td>\n",
       "      <td>5.237194e+09</td>\n",
       "      <td>166.0</td>\n",
       "    </tr>\n",
       "  </tbody>\n",
       "</table>\n",
       "</div>"
      ],
      "text/plain": [
       "          Datum UurgroepOmschrijving (van vertrek) VertrekHalteCode  \\\n",
       "230  2018-12-24                      06:00 - 06:59              NMT   \n",
       "542  2018-12-24                      07:00 - 07:59              NMT   \n",
       "966  2018-12-24                      08:00 - 08:59              NMT   \n",
       "1424 2018-12-24                      09:00 - 09:59              NMT   \n",
       "1921 2018-12-24                      10:00 - 10:59              NMT   \n",
       "\n",
       "     VertrekHalteNaam  VertrekXCoord  VertrekYCoord  AantalRitten  \n",
       "230        Nieuwmarkt    490123885.0   5.237194e+09          28.0  \n",
       "542        Nieuwmarkt    490123885.0   5.237194e+09          76.0  \n",
       "966        Nieuwmarkt    490123885.0   5.237194e+09         115.0  \n",
       "1424       Nieuwmarkt    490123885.0   5.237194e+09         119.0  \n",
       "1921       Nieuwmarkt    490123885.0   5.237194e+09         166.0  "
      ]
     },
     "execution_count": 23,
     "metadata": {},
     "output_type": "execute_result"
    }
   ],
   "source": [
    "niew_ritten.head()"
   ]
  },
  {
   "cell_type": "markdown",
   "metadata": {},
   "source": [
    "### Herkomst"
   ]
  },
  {
   "cell_type": "code",
   "execution_count": 24,
   "metadata": {},
   "outputs": [],
   "source": [
    "herkomst = pd.read_excel(\"../../../Data_thesis/Sample_data/GVB/herkomst.xlsx\")"
   ]
  },
  {
   "cell_type": "code",
   "execution_count": 25,
   "metadata": {},
   "outputs": [
    {
     "data": {
      "text/html": [
       "<div>\n",
       "<style scoped>\n",
       "    .dataframe tbody tr th:only-of-type {\n",
       "        vertical-align: middle;\n",
       "    }\n",
       "\n",
       "    .dataframe tbody tr th {\n",
       "        vertical-align: top;\n",
       "    }\n",
       "\n",
       "    .dataframe thead th {\n",
       "        text-align: right;\n",
       "    }\n",
       "</style>\n",
       "<table border=\"1\" class=\"dataframe\">\n",
       "  <thead>\n",
       "    <tr style=\"text-align: right;\">\n",
       "      <th></th>\n",
       "      <th>Datum</th>\n",
       "      <th>VertrekHalteCode</th>\n",
       "      <th>VertrekHalteNaam</th>\n",
       "      <th>VertrekXCoord</th>\n",
       "      <th>VertrekYCoord</th>\n",
       "      <th>AantalReizen</th>\n",
       "    </tr>\n",
       "  </thead>\n",
       "  <tbody>\n",
       "    <tr>\n",
       "      <th>0</th>\n",
       "      <td>2018-12-24</td>\n",
       "      <td>0</td>\n",
       "      <td>Overig</td>\n",
       "      <td>0.0</td>\n",
       "      <td>0.000000e+00</td>\n",
       "      <td>6228.0</td>\n",
       "    </tr>\n",
       "    <tr>\n",
       "      <th>1</th>\n",
       "      <td>2018-12-24</td>\n",
       "      <td>1</td>\n",
       "      <td>Muiderpoortstation</td>\n",
       "      <td>493287450.0</td>\n",
       "      <td>5.236133e+09</td>\n",
       "      <td>133.0</td>\n",
       "    </tr>\n",
       "    <tr>\n",
       "      <th>2</th>\n",
       "      <td>2018-12-24</td>\n",
       "      <td>5</td>\n",
       "      <td>Muiderpoortstation</td>\n",
       "      <td>493280219.0</td>\n",
       "      <td>5.236122e+09</td>\n",
       "      <td>531.0</td>\n",
       "    </tr>\n",
       "    <tr>\n",
       "      <th>3</th>\n",
       "      <td>2018-12-24</td>\n",
       "      <td>6</td>\n",
       "      <td>Muiderpoortstation</td>\n",
       "      <td>493368466.0</td>\n",
       "      <td>5.236106e+09</td>\n",
       "      <td>240.0</td>\n",
       "    </tr>\n",
       "    <tr>\n",
       "      <th>4</th>\n",
       "      <td>2018-12-24</td>\n",
       "      <td>7</td>\n",
       "      <td>Muiderpoortstation</td>\n",
       "      <td>493356602.0</td>\n",
       "      <td>5.236118e+09</td>\n",
       "      <td>297.0</td>\n",
       "    </tr>\n",
       "  </tbody>\n",
       "</table>\n",
       "</div>"
      ],
      "text/plain": [
       "       Datum VertrekHalteCode    VertrekHalteNaam  VertrekXCoord  \\\n",
       "0 2018-12-24                0              Overig            0.0   \n",
       "1 2018-12-24                1  Muiderpoortstation    493287450.0   \n",
       "2 2018-12-24                5  Muiderpoortstation    493280219.0   \n",
       "3 2018-12-24                6  Muiderpoortstation    493368466.0   \n",
       "4 2018-12-24                7  Muiderpoortstation    493356602.0   \n",
       "\n",
       "   VertrekYCoord  AantalReizen  \n",
       "0   0.000000e+00        6228.0  \n",
       "1   5.236133e+09         133.0  \n",
       "2   5.236122e+09         531.0  \n",
       "3   5.236106e+09         240.0  \n",
       "4   5.236118e+09         297.0  "
      ]
     },
     "execution_count": 25,
     "metadata": {},
     "output_type": "execute_result"
    }
   ],
   "source": [
    "herkomst.head()"
   ]
  },
  {
   "cell_type": "code",
   "execution_count": 26,
   "metadata": {},
   "outputs": [],
   "source": [
    "niew_herkomst = herkomst.loc[herkomst[\"VertrekHalteNaam\"] == \"Nieuwmarkt\"]\n",
    "rok_herkomst = herkomst.loc[herkomst[\"VertrekHalteNaam\"] == \"Rokin\"]"
   ]
  },
  {
   "cell_type": "code",
   "execution_count": 28,
   "metadata": {},
   "outputs": [
    {
     "data": {
      "text/html": [
       "<div>\n",
       "<style scoped>\n",
       "    .dataframe tbody tr th:only-of-type {\n",
       "        vertical-align: middle;\n",
       "    }\n",
       "\n",
       "    .dataframe tbody tr th {\n",
       "        vertical-align: top;\n",
       "    }\n",
       "\n",
       "    .dataframe thead th {\n",
       "        text-align: right;\n",
       "    }\n",
       "</style>\n",
       "<table border=\"1\" class=\"dataframe\">\n",
       "  <thead>\n",
       "    <tr style=\"text-align: right;\">\n",
       "      <th></th>\n",
       "      <th>Datum</th>\n",
       "      <th>VertrekHalteCode</th>\n",
       "      <th>VertrekHalteNaam</th>\n",
       "      <th>VertrekXCoord</th>\n",
       "      <th>VertrekYCoord</th>\n",
       "      <th>AantalReizen</th>\n",
       "    </tr>\n",
       "  </thead>\n",
       "  <tbody>\n",
       "    <tr>\n",
       "      <th>943</th>\n",
       "      <td>2018-12-24</td>\n",
       "      <td>NMT</td>\n",
       "      <td>Nieuwmarkt</td>\n",
       "      <td>NaN</td>\n",
       "      <td>NaN</td>\n",
       "      <td>4580.0</td>\n",
       "    </tr>\n",
       "    <tr>\n",
       "      <th>1760</th>\n",
       "      <td>2018-12-25</td>\n",
       "      <td>NMT</td>\n",
       "      <td>Nieuwmarkt</td>\n",
       "      <td>NaN</td>\n",
       "      <td>NaN</td>\n",
       "      <td>3331.0</td>\n",
       "    </tr>\n",
       "    <tr>\n",
       "      <th>2617</th>\n",
       "      <td>2018-12-26</td>\n",
       "      <td>NMT</td>\n",
       "      <td>Nieuwmarkt</td>\n",
       "      <td>NaN</td>\n",
       "      <td>NaN</td>\n",
       "      <td>4375.0</td>\n",
       "    </tr>\n",
       "    <tr>\n",
       "      <th>3586</th>\n",
       "      <td>2018-12-27</td>\n",
       "      <td>NMT</td>\n",
       "      <td>Nieuwmarkt</td>\n",
       "      <td>NaN</td>\n",
       "      <td>NaN</td>\n",
       "      <td>5771.0</td>\n",
       "    </tr>\n",
       "    <tr>\n",
       "      <th>4569</th>\n",
       "      <td>2018-12-28</td>\n",
       "      <td>NMT</td>\n",
       "      <td>Nieuwmarkt</td>\n",
       "      <td>NaN</td>\n",
       "      <td>NaN</td>\n",
       "      <td>6695.0</td>\n",
       "    </tr>\n",
       "  </tbody>\n",
       "</table>\n",
       "</div>"
      ],
      "text/plain": [
       "          Datum VertrekHalteCode VertrekHalteNaam  VertrekXCoord  \\\n",
       "943  2018-12-24              NMT       Nieuwmarkt            NaN   \n",
       "1760 2018-12-25              NMT       Nieuwmarkt            NaN   \n",
       "2617 2018-12-26              NMT       Nieuwmarkt            NaN   \n",
       "3586 2018-12-27              NMT       Nieuwmarkt            NaN   \n",
       "4569 2018-12-28              NMT       Nieuwmarkt            NaN   \n",
       "\n",
       "      VertrekYCoord  AantalReizen  \n",
       "943             NaN        4580.0  \n",
       "1760            NaN        3331.0  \n",
       "2617            NaN        4375.0  \n",
       "3586            NaN        5771.0  \n",
       "4569            NaN        6695.0  "
      ]
     },
     "execution_count": 28,
     "metadata": {},
     "output_type": "execute_result"
    }
   ],
   "source": [
    "niew_herkomst.head()"
   ]
  },
  {
   "cell_type": "markdown",
   "metadata": {},
   "source": [
    "### Bestemming"
   ]
  },
  {
   "cell_type": "code",
   "execution_count": null,
   "metadata": {},
   "outputs": [],
   "source": [
    "bestemming = pd.read_excel(\"../../../Data_thesis/Sample_data/GVB/bestemming.xlsx\")"
   ]
  },
  {
   "cell_type": "code",
   "execution_count": null,
   "metadata": {},
   "outputs": [],
   "source": []
  },
  {
   "cell_type": "code",
   "execution_count": null,
   "metadata": {},
   "outputs": [],
   "source": []
  }
 ],
 "metadata": {
  "kernelspec": {
   "display_name": "Python 3",
   "language": "python",
   "name": "python3"
  },
  "language_info": {
   "codemirror_mode": {
    "name": "ipython",
    "version": 3
   },
   "file_extension": ".py",
   "mimetype": "text/x-python",
   "name": "python",
   "nbconvert_exporter": "python",
   "pygments_lexer": "ipython3",
   "version": "3.7.1"
  }
 },
 "nbformat": 4,
 "nbformat_minor": 2
}
