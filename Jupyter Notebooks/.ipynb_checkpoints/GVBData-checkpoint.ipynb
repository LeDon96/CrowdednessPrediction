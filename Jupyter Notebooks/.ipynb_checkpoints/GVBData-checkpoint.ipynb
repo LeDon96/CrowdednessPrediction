{
 "cells": [
  {
   "cell_type": "markdown",
   "metadata": {},
   "source": [
    "# Imports"
   ]
  },
  {
   "cell_type": "code",
   "execution_count": 45,
   "metadata": {},
   "outputs": [],
   "source": [
    "# For JSON imports\n",
    "import json\n",
    "\n",
    "#For DF, CSV, Excel\n",
    "import pandas as pd\n",
    "\n",
    "import re\n",
    "import datetime"
   ]
  },
  {
   "cell_type": "markdown",
   "metadata": {},
   "source": [
    "# Open Data\n",
    "Contains the coordinates and metro lines that stop at those coordinates. Could be used in the explanation of nieuwmarkt."
   ]
  },
  {
   "cell_type": "markdown",
   "metadata": {},
   "source": [
    "## Data Exploration"
   ]
  },
  {
   "cell_type": "code",
   "execution_count": 43,
   "metadata": {},
   "outputs": [
    {
     "name": "stdout",
     "output_type": "stream",
     "text": [
      "Lines:  02|11|12|13|17\n",
      "Coordinates:  [4.893349, 52.376064]\n"
     ]
    }
   ],
   "source": [
    "#Import JSON file\n",
    "with open(\"../Data/Original/TRAMMETRO_PUNTEN_2019.json\") as gvb_data:\n",
    "    stations = json.load(gvb_data)\n",
    "    stations = stations[\"features\"]\n",
    "    \n",
    "    #Example line in file:\n",
    "    #Lines that stop at the given station\n",
    "    print(\"Lines: \", stations[0][\"properties\"][\"Lijn_select\"])\n",
    "\n",
    "    #Coordinates of the station\n",
    "    print(\"Coordinates: \", stations[0][\"geometry\"][\"coordinates\"])\n",
    "    \n",
    "    #Construct actual file\n",
    "\n",
    "    #Loop over all stations in file\n",
    "    for station in stations:\n",
    "        #Select only stations where the tram stops\n",
    "        if station[\"properties\"][\"Modaliteit\"] == \"Tram\":\n",
    "            \n",
    "            #Per station, select which lines stop there and the coordinates of the station            \n",
    "            tram_dict = {\"Lines\": station[\"properties\"][\"Lijn_select\"], \"Coordinates\": station[\"geometry\"][\"coordinates\"]}\n",
    "            \n",
    "            #Append the given results to the file and save it            \n",
    "            with open(\"../Data/Modified/TramStations.json\", \"a\") as f:\n",
    "                json.dump(tram_dict, f)\n",
    "        \n",
    "        #Select only stations where the metro stops\n",
    "        elif station[\"properties\"][\"Modaliteit\"] == \"Metro\":\n",
    "            \n",
    "            #Per station, select which lines stop there and the coordinates of the station            \n",
    "            metro_dict = {\"Lines\": station[\"properties\"][\"Lijn_select\"], \"Coordinates\": station[\"geometry\"][\"coordinates\"]}\n",
    "            \n",
    "            #Append the given results to the file and save it\n",
    "            with open(\"../Data/Modified/MetroStations.json\", \"a\") as f:\n",
    "                json.dump(metro_dict, f)"
   ]
  },
  {
   "cell_type": "markdown",
   "metadata": {},
   "source": [
    "# Sample Data\n",
    "Old version of the data, used to make a start in the data prep"
   ]
  },
  {
   "cell_type": "markdown",
   "metadata": {},
   "source": [
    "## Data Exploration"
   ]
  },
  {
   "cell_type": "markdown",
   "metadata": {},
   "source": [
    "### Ritten\n",
    "Contains the \"Ritten\" data for each station. Can be used to count the number of people that originated from the station on an hourly basis"
   ]
  },
  {
   "cell_type": "markdown",
   "metadata": {},
   "source": [
    "#### Import the Dataset\n",
    "First we'll import the dataset and check what it contains"
   ]
  },
  {
   "cell_type": "code",
   "execution_count": 3,
   "metadata": {},
   "outputs": [],
   "source": [
    "#Import the full dataset\n",
    "ritten = pd.read_excel(\"../../../Data_thesis/Sample_data/GVB/full.xlsx\")"
   ]
  },
  {
   "cell_type": "code",
   "execution_count": 4,
   "metadata": {},
   "outputs": [
    {
     "data": {
      "text/html": [
       "<div>\n",
       "<style scoped>\n",
       "    .dataframe tbody tr th:only-of-type {\n",
       "        vertical-align: middle;\n",
       "    }\n",
       "\n",
       "    .dataframe tbody tr th {\n",
       "        vertical-align: top;\n",
       "    }\n",
       "\n",
       "    .dataframe thead th {\n",
       "        text-align: right;\n",
       "    }\n",
       "</style>\n",
       "<table border=\"1\" class=\"dataframe\">\n",
       "  <thead>\n",
       "    <tr style=\"text-align: right;\">\n",
       "      <th></th>\n",
       "      <th>Datum</th>\n",
       "      <th>UurgroepOmschrijving (van vertrek)</th>\n",
       "      <th>VertrekHalteCode</th>\n",
       "      <th>VertrekHalteNaam</th>\n",
       "      <th>VertrekXCoord</th>\n",
       "      <th>VertrekYCoord</th>\n",
       "      <th>AantalRitten</th>\n",
       "    </tr>\n",
       "  </thead>\n",
       "  <tbody>\n",
       "    <tr>\n",
       "      <th>0</th>\n",
       "      <td>2018-12-24</td>\n",
       "      <td>00:00 - 00:59</td>\n",
       "      <td>0</td>\n",
       "      <td>Overig</td>\n",
       "      <td>0.0</td>\n",
       "      <td>0.000000e+00</td>\n",
       "      <td>77.0</td>\n",
       "    </tr>\n",
       "    <tr>\n",
       "      <th>1</th>\n",
       "      <td>2018-12-24</td>\n",
       "      <td>00:00 - 00:59</td>\n",
       "      <td>5046</td>\n",
       "      <td>Rembrandtplein</td>\n",
       "      <td>489627975.0</td>\n",
       "      <td>5.236626e+09</td>\n",
       "      <td>13.0</td>\n",
       "    </tr>\n",
       "    <tr>\n",
       "      <th>2</th>\n",
       "      <td>2018-12-24</td>\n",
       "      <td>00:00 - 00:59</td>\n",
       "      <td>5096</td>\n",
       "      <td>Centraal Station</td>\n",
       "      <td>490049319.0</td>\n",
       "      <td>5.237968e+09</td>\n",
       "      <td>10.0</td>\n",
       "    </tr>\n",
       "    <tr>\n",
       "      <th>3</th>\n",
       "      <td>2018-12-24</td>\n",
       "      <td>00:00 - 00:59</td>\n",
       "      <td>6063</td>\n",
       "      <td>Leidseplein</td>\n",
       "      <td>488064547.0</td>\n",
       "      <td>5.236476e+09</td>\n",
       "      <td>10.0</td>\n",
       "    </tr>\n",
       "    <tr>\n",
       "      <th>4</th>\n",
       "      <td>2018-12-24</td>\n",
       "      <td>01:00 - 01:59</td>\n",
       "      <td>0</td>\n",
       "      <td>Overig</td>\n",
       "      <td>0.0</td>\n",
       "      <td>0.000000e+00</td>\n",
       "      <td>132.0</td>\n",
       "    </tr>\n",
       "  </tbody>\n",
       "</table>\n",
       "</div>"
      ],
      "text/plain": [
       "       Datum UurgroepOmschrijving (van vertrek) VertrekHalteCode  \\\n",
       "0 2018-12-24                      00:00 - 00:59                0   \n",
       "1 2018-12-24                      00:00 - 00:59             5046   \n",
       "2 2018-12-24                      00:00 - 00:59             5096   \n",
       "3 2018-12-24                      00:00 - 00:59             6063   \n",
       "4 2018-12-24                      01:00 - 01:59                0   \n",
       "\n",
       "   VertrekHalteNaam  VertrekXCoord  VertrekYCoord  AantalRitten  \n",
       "0            Overig            0.0   0.000000e+00          77.0  \n",
       "1    Rembrandtplein    489627975.0   5.236626e+09          13.0  \n",
       "2  Centraal Station    490049319.0   5.237968e+09          10.0  \n",
       "3       Leidseplein    488064547.0   5.236476e+09          10.0  \n",
       "4            Overig            0.0   0.000000e+00         132.0  "
      ]
     },
     "execution_count": 4,
     "metadata": {},
     "output_type": "execute_result"
    }
   ],
   "source": [
    "#Check contents\n",
    "ritten.head()"
   ]
  },
  {
   "cell_type": "markdown",
   "metadata": {},
   "source": [
    "#### Construct Dataframes\n",
    "Now that the contents is clear, we construct Dataframes for each station that is of interest to us. \n",
    "\n",
    "##### Metro\n",
    "- *Nieuwmarkt*\n",
    "- *Rokin*\n",
    "\n",
    "##### Tram\n",
    "- *Niewezijdse Kolk*\n",
    "- *Dam*\n",
    "- *Spui*\n",
    "- *Rokin*"
   ]
  },
  {
   "cell_type": "code",
   "execution_count": 12,
   "metadata": {},
   "outputs": [],
   "source": [
    "#List al stations\n",
    "stations = [\"Nieuwmarkt\", \"Niewezijdse Kolk\", \"Dam\", \"Spui\"]\n",
    "\n",
    "#Select all the rows that have the station name in departure station\n",
    "ritten_df = ritten[ritten[\"VertrekHalteNaam\"].isin(stations)]"
   ]
  },
  {
   "cell_type": "code",
   "execution_count": 13,
   "metadata": {},
   "outputs": [
    {
     "data": {
      "text/html": [
       "<div>\n",
       "<style scoped>\n",
       "    .dataframe tbody tr th:only-of-type {\n",
       "        vertical-align: middle;\n",
       "    }\n",
       "\n",
       "    .dataframe tbody tr th {\n",
       "        vertical-align: top;\n",
       "    }\n",
       "\n",
       "    .dataframe thead th {\n",
       "        text-align: right;\n",
       "    }\n",
       "</style>\n",
       "<table border=\"1\" class=\"dataframe\">\n",
       "  <thead>\n",
       "    <tr style=\"text-align: right;\">\n",
       "      <th></th>\n",
       "      <th>Datum</th>\n",
       "      <th>UurgroepOmschrijving (van vertrek)</th>\n",
       "      <th>VertrekHalteCode</th>\n",
       "      <th>VertrekHalteNaam</th>\n",
       "      <th>VertrekXCoord</th>\n",
       "      <th>VertrekYCoord</th>\n",
       "      <th>AantalRitten</th>\n",
       "    </tr>\n",
       "  </thead>\n",
       "  <tbody>\n",
       "    <tr>\n",
       "      <th>5</th>\n",
       "      <td>2018-12-24</td>\n",
       "      <td>01:00 - 01:59</td>\n",
       "      <td>5031</td>\n",
       "      <td>Dam</td>\n",
       "      <td>489348393.0</td>\n",
       "      <td>5.237341e+09</td>\n",
       "      <td>58.0</td>\n",
       "    </tr>\n",
       "    <tr>\n",
       "      <th>8</th>\n",
       "      <td>2018-12-24</td>\n",
       "      <td>01:00 - 01:59</td>\n",
       "      <td>5068</td>\n",
       "      <td>Dam</td>\n",
       "      <td>489124121.0</td>\n",
       "      <td>5.237436e+09</td>\n",
       "      <td>28.0</td>\n",
       "    </tr>\n",
       "    <tr>\n",
       "      <th>16</th>\n",
       "      <td>2018-12-24</td>\n",
       "      <td>02:00 - 02:59</td>\n",
       "      <td>5031</td>\n",
       "      <td>Dam</td>\n",
       "      <td>489348393.0</td>\n",
       "      <td>5.237341e+09</td>\n",
       "      <td>103.0</td>\n",
       "    </tr>\n",
       "    <tr>\n",
       "      <th>18</th>\n",
       "      <td>2018-12-24</td>\n",
       "      <td>02:00 - 02:59</td>\n",
       "      <td>5068</td>\n",
       "      <td>Dam</td>\n",
       "      <td>489124121.0</td>\n",
       "      <td>5.237436e+09</td>\n",
       "      <td>25.0</td>\n",
       "    </tr>\n",
       "    <tr>\n",
       "      <th>26</th>\n",
       "      <td>2018-12-24</td>\n",
       "      <td>03:00 - 03:59</td>\n",
       "      <td>5031</td>\n",
       "      <td>Dam</td>\n",
       "      <td>489348393.0</td>\n",
       "      <td>5.237341e+09</td>\n",
       "      <td>39.0</td>\n",
       "    </tr>\n",
       "  </tbody>\n",
       "</table>\n",
       "</div>"
      ],
      "text/plain": [
       "        Datum UurgroepOmschrijving (van vertrek) VertrekHalteCode  \\\n",
       "5  2018-12-24                      01:00 - 01:59             5031   \n",
       "8  2018-12-24                      01:00 - 01:59             5068   \n",
       "16 2018-12-24                      02:00 - 02:59             5031   \n",
       "18 2018-12-24                      02:00 - 02:59             5068   \n",
       "26 2018-12-24                      03:00 - 03:59             5031   \n",
       "\n",
       "   VertrekHalteNaam  VertrekXCoord  VertrekYCoord  AantalRitten  \n",
       "5               Dam    489348393.0   5.237341e+09          58.0  \n",
       "8               Dam    489124121.0   5.237436e+09          28.0  \n",
       "16              Dam    489348393.0   5.237341e+09         103.0  \n",
       "18              Dam    489124121.0   5.237436e+09          25.0  \n",
       "26              Dam    489348393.0   5.237341e+09          39.0  "
      ]
     },
     "execution_count": 13,
     "metadata": {},
     "output_type": "execute_result"
    }
   ],
   "source": [
    "#Example\n",
    "ritten_df.head()"
   ]
  },
  {
   "cell_type": "markdown",
   "metadata": {},
   "source": [
    "#### DF to File\n",
    "Save the dataframe in a file, so that it can be imported for other uses. Later this will be probably be removed as the dataframe can simple function as input to another funtion. "
   ]
  },
  {
   "cell_type": "code",
   "execution_count": 14,
   "metadata": {},
   "outputs": [],
   "source": [
    "ritten_df.to_csv(\"../../../Data_thesis/Sample_data/GVB/ritten.csv\")"
   ]
  },
  {
   "cell_type": "markdown",
   "metadata": {},
   "source": [
    "### Official Dataset"
   ]
  },
  {
   "cell_type": "markdown",
   "metadata": {},
   "source": [
    "#### Import the data"
   ]
  },
  {
   "cell_type": "code",
   "execution_count": 37,
   "metadata": {},
   "outputs": [],
   "source": [
    "#Import dataset\n",
    "full = pd.read_csv(\"../../../Data_thesis/GVB/Datalab_Rit_Herkomst_Bestemming_Uur_20190403.csv\", sep=\";\")"
   ]
  },
  {
   "cell_type": "markdown",
   "metadata": {},
   "source": [
    "#### Select usable data"
   ]
  },
  {
   "cell_type": "code",
   "execution_count": 39,
   "metadata": {},
   "outputs": [],
   "source": [
    "#Selection of stations to use\n",
    "stations = [\"Nieuwmarkt\", \"Nieuwezijds Kolk\", \"Dam\", \"Spui\"]\n",
    "\n",
    "#Select rows that contain one of the listed stations in either 'Aankomst' or 'Vertrek'\n",
    "df = full[(full[\"AankomstHalteNaam\"].isin(stations)) | (full[\"VertrekHalteNaam\"].isin(stations))]\n",
    "\n",
    "#Drop unusable columns\n",
    "df = df.drop(columns=[\"VertrekHalteCode\", \"AankomstHalteCode\"])\n",
    "\n",
    "#Replace the NaN value with 0\n",
    "df = df.fillna(0.0)\n",
    "\n",
    "#Add columns\n",
    "#Gives day in numbers --> 0: Monday, 1: Tuesday,..., 6: Sunday\n",
    "df.insert(3, \"weekday\", 99)\n",
    "\n",
    "#Adds whether day is weekend --> Day 5 and 6\n",
    "df.insert(4, \"is_weekend\", 0)"
   ]
  },
  {
   "cell_type": "code",
   "execution_count": 40,
   "metadata": {},
   "outputs": [
    {
     "data": {
      "text/html": [
       "<div>\n",
       "<style scoped>\n",
       "    .dataframe tbody tr th:only-of-type {\n",
       "        vertical-align: middle;\n",
       "    }\n",
       "\n",
       "    .dataframe tbody tr th {\n",
       "        vertical-align: top;\n",
       "    }\n",
       "\n",
       "    .dataframe thead th {\n",
       "        text-align: right;\n",
       "    }\n",
       "</style>\n",
       "<table border=\"1\" class=\"dataframe\">\n",
       "  <thead>\n",
       "    <tr style=\"text-align: right;\">\n",
       "      <th></th>\n",
       "      <th>weekday</th>\n",
       "      <th>is_weekend</th>\n",
       "      <th>VertrekLat</th>\n",
       "      <th>VertrekLon</th>\n",
       "      <th>AankomstLat</th>\n",
       "      <th>AankomstLon</th>\n",
       "      <th>AantalRitten</th>\n",
       "    </tr>\n",
       "  </thead>\n",
       "  <tbody>\n",
       "    <tr>\n",
       "      <th>count</th>\n",
       "      <td>611318.0</td>\n",
       "      <td>611318.0</td>\n",
       "      <td>611318.000000</td>\n",
       "      <td>611318.000000</td>\n",
       "      <td>611318.000000</td>\n",
       "      <td>611318.000000</td>\n",
       "      <td>611318.000000</td>\n",
       "    </tr>\n",
       "    <tr>\n",
       "      <th>mean</th>\n",
       "      <td>99.0</td>\n",
       "      <td>0.0</td>\n",
       "      <td>4.892896</td>\n",
       "      <td>52.367332</td>\n",
       "      <td>4.347220</td>\n",
       "      <td>46.530006</td>\n",
       "      <td>30.753835</td>\n",
       "    </tr>\n",
       "    <tr>\n",
       "      <th>std</th>\n",
       "      <td>0.0</td>\n",
       "      <td>0.0</td>\n",
       "      <td>0.020426</td>\n",
       "      <td>0.013493</td>\n",
       "      <td>1.539859</td>\n",
       "      <td>16.480242</td>\n",
       "      <td>35.057023</td>\n",
       "    </tr>\n",
       "    <tr>\n",
       "      <th>min</th>\n",
       "      <td>99.0</td>\n",
       "      <td>0.0</td>\n",
       "      <td>4.774780</td>\n",
       "      <td>52.274346</td>\n",
       "      <td>0.000000</td>\n",
       "      <td>0.000000</td>\n",
       "      <td>10.000000</td>\n",
       "    </tr>\n",
       "    <tr>\n",
       "      <th>25%</th>\n",
       "      <td>99.0</td>\n",
       "      <td>0.0</td>\n",
       "      <td>4.889330</td>\n",
       "      <td>52.366048</td>\n",
       "      <td>4.880855</td>\n",
       "      <td>52.358685</td>\n",
       "      <td>12.000000</td>\n",
       "    </tr>\n",
       "    <tr>\n",
       "      <th>50%</th>\n",
       "      <td>99.0</td>\n",
       "      <td>0.0</td>\n",
       "      <td>4.891309</td>\n",
       "      <td>52.371942</td>\n",
       "      <td>4.890658</td>\n",
       "      <td>52.371942</td>\n",
       "      <td>18.000000</td>\n",
       "    </tr>\n",
       "    <tr>\n",
       "      <th>75%</th>\n",
       "      <td>99.0</td>\n",
       "      <td>0.0</td>\n",
       "      <td>4.900781</td>\n",
       "      <td>52.373678</td>\n",
       "      <td>4.899218</td>\n",
       "      <td>52.373411</td>\n",
       "      <td>32.000000</td>\n",
       "    </tr>\n",
       "    <tr>\n",
       "      <th>max</th>\n",
       "      <td>99.0</td>\n",
       "      <td>0.0</td>\n",
       "      <td>4.989523</td>\n",
       "      <td>52.401172</td>\n",
       "      <td>5.006931</td>\n",
       "      <td>52.401172</td>\n",
       "      <td>548.000000</td>\n",
       "    </tr>\n",
       "  </tbody>\n",
       "</table>\n",
       "</div>"
      ],
      "text/plain": [
       "        weekday  is_weekend     VertrekLat     VertrekLon    AankomstLat  \\\n",
       "count  611318.0    611318.0  611318.000000  611318.000000  611318.000000   \n",
       "mean       99.0         0.0       4.892896      52.367332       4.347220   \n",
       "std         0.0         0.0       0.020426       0.013493       1.539859   \n",
       "min        99.0         0.0       4.774780      52.274346       0.000000   \n",
       "25%        99.0         0.0       4.889330      52.366048       4.880855   \n",
       "50%        99.0         0.0       4.891309      52.371942       4.890658   \n",
       "75%        99.0         0.0       4.900781      52.373678       4.899218   \n",
       "max        99.0         0.0       4.989523      52.401172       5.006931   \n",
       "\n",
       "         AankomstLon   AantalRitten  \n",
       "count  611318.000000  611318.000000  \n",
       "mean       46.530006      30.753835  \n",
       "std        16.480242      35.057023  \n",
       "min         0.000000      10.000000  \n",
       "25%        52.358685      12.000000  \n",
       "50%        52.371942      18.000000  \n",
       "75%        52.373411      32.000000  \n",
       "max        52.401172     548.000000  "
      ]
     },
     "execution_count": 40,
     "metadata": {},
     "output_type": "execute_result"
    }
   ],
   "source": [
    "#Describe the dataset\n",
    "df.describe()"
   ]
  },
  {
   "cell_type": "markdown",
   "metadata": {},
   "source": [
    "#### Data to Dict"
   ]
  },
  {
   "cell_type": "code",
   "execution_count": 41,
   "metadata": {},
   "outputs": [],
   "source": [
    "full_dict = df.to_dict(\"index\")"
   ]
  },
  {
   "cell_type": "code",
   "execution_count": 51,
   "metadata": {},
   "outputs": [
    {
     "ename": "NameError",
     "evalue": "name 'date' is not defined",
     "output_type": "error",
     "traceback": [
      "\u001b[1;31m---------------------------------------------------------------------------\u001b[0m",
      "\u001b[1;31mNameError\u001b[0m                                 Traceback (most recent call last)",
      "\u001b[1;32m<ipython-input-51-41c5e27fddcd>\u001b[0m in \u001b[0;36m<module>\u001b[1;34m\u001b[0m\n\u001b[0;32m      7\u001b[0m \u001b[1;33m\u001b[0m\u001b[0m\n\u001b[0;32m      8\u001b[0m     \u001b[1;31m#Transfrom date to weekday number\u001b[0m\u001b[1;33m\u001b[0m\u001b[1;33m\u001b[0m\u001b[1;33m\u001b[0m\u001b[0m\n\u001b[1;32m----> 9\u001b[1;33m     \u001b[0mv\u001b[0m\u001b[1;33m[\u001b[0m\u001b[1;34m\"weekday\"\u001b[0m\u001b[1;33m]\u001b[0m \u001b[1;33m=\u001b[0m \u001b[0mdate\u001b[0m\u001b[1;33m.\u001b[0m\u001b[0mweekday\u001b[0m\u001b[1;33m(\u001b[0m\u001b[1;33m)\u001b[0m\u001b[1;33m\u001b[0m\u001b[1;33m\u001b[0m\u001b[0m\n\u001b[0m\u001b[0;32m     10\u001b[0m \u001b[1;33m\u001b[0m\u001b[0m\n\u001b[0;32m     11\u001b[0m     \u001b[1;31m#Check if weekday is in the weekend\u001b[0m\u001b[1;33m\u001b[0m\u001b[1;33m\u001b[0m\u001b[1;33m\u001b[0m\u001b[0m\n",
      "\u001b[1;31mNameError\u001b[0m: name 'date' is not defined"
     ]
    }
   ],
   "source": [
    "#Loop over dict\n",
    "for k, v in full_dict.items():\n",
    "    \n",
    "    #Replace time string with time blok\n",
    "    time_blok = v[\"UurgroepOmschrijving (van vertrek)\"]\n",
    "    v[\"UurgroepOmschrijving (van vertrek)\"] = int(time_blok)\n",
    "    \n",
    "    #Transform the date string to datatime.date object\n",
    "    date = datetime.date.fromisoformat(v[\"Datum\"])\n",
    "    \n",
    "    #Transfrom date to weekday number\n",
    "    v[\"weekday\"] = date.weekday()\n",
    "    \n",
    "    #Check if weekday is in the weekend\n",
    "    if date.weekday() == 5 or date.weekday() == 6:\n",
    "        v[\"is_weekend\"] = 1"
   ]
  },
  {
   "cell_type": "code",
   "execution_count": 47,
   "metadata": {},
   "outputs": [
    {
     "data": {
      "text/html": [
       "<div>\n",
       "<style scoped>\n",
       "    .dataframe tbody tr th:only-of-type {\n",
       "        vertical-align: middle;\n",
       "    }\n",
       "\n",
       "    .dataframe tbody tr th {\n",
       "        vertical-align: top;\n",
       "    }\n",
       "\n",
       "    .dataframe thead th {\n",
       "        text-align: right;\n",
       "    }\n",
       "</style>\n",
       "<table border=\"1\" class=\"dataframe\">\n",
       "  <thead>\n",
       "    <tr style=\"text-align: right;\">\n",
       "      <th></th>\n",
       "      <th>Datum</th>\n",
       "      <th>UurgroepOmschrijving (van vertrek)</th>\n",
       "      <th>VertrekHalteNaam</th>\n",
       "      <th>weekday</th>\n",
       "      <th>is_weekend</th>\n",
       "      <th>VertrekLat</th>\n",
       "      <th>VertrekLon</th>\n",
       "      <th>AankomstHalteNaam</th>\n",
       "      <th>AankomstLat</th>\n",
       "      <th>AankomstLon</th>\n",
       "      <th>AantalRitten</th>\n",
       "    </tr>\n",
       "  </thead>\n",
       "  <tbody>\n",
       "    <tr>\n",
       "      <th>6</th>\n",
       "      <td>1/1/2018 12:00:00 AM</td>\n",
       "      <td>01:00 - 01:59</td>\n",
       "      <td>Nieuwezijds Kolk</td>\n",
       "      <td>99</td>\n",
       "      <td>0</td>\n",
       "      <td>4.892841</td>\n",
       "      <td>52.375754</td>\n",
       "      <td>Overig</td>\n",
       "      <td>0.000000</td>\n",
       "      <td>0.000000</td>\n",
       "      <td>27</td>\n",
       "    </tr>\n",
       "    <tr>\n",
       "      <th>29</th>\n",
       "      <td>1/1/2018 12:00:00 AM</td>\n",
       "      <td>01:00 - 01:59</td>\n",
       "      <td>Amstelstation</td>\n",
       "      <td>99</td>\n",
       "      <td>0</td>\n",
       "      <td>4.917514</td>\n",
       "      <td>52.346473</td>\n",
       "      <td>Nieuwmarkt</td>\n",
       "      <td>4.901239</td>\n",
       "      <td>52.371942</td>\n",
       "      <td>10</td>\n",
       "    </tr>\n",
       "    <tr>\n",
       "      <th>48</th>\n",
       "      <td>1/1/2018 12:00:00 AM</td>\n",
       "      <td>01:00 - 01:59</td>\n",
       "      <td>Nieuwmarkt</td>\n",
       "      <td>99</td>\n",
       "      <td>0</td>\n",
       "      <td>4.901239</td>\n",
       "      <td>52.371942</td>\n",
       "      <td>Overig</td>\n",
       "      <td>0.000000</td>\n",
       "      <td>0.000000</td>\n",
       "      <td>44</td>\n",
       "    </tr>\n",
       "    <tr>\n",
       "      <th>49</th>\n",
       "      <td>1/1/2018 12:00:00 AM</td>\n",
       "      <td>01:00 - 01:59</td>\n",
       "      <td>Nieuwmarkt</td>\n",
       "      <td>99</td>\n",
       "      <td>0</td>\n",
       "      <td>4.901239</td>\n",
       "      <td>52.371942</td>\n",
       "      <td>Amstelstation</td>\n",
       "      <td>4.917514</td>\n",
       "      <td>52.346473</td>\n",
       "      <td>30</td>\n",
       "    </tr>\n",
       "    <tr>\n",
       "      <th>50</th>\n",
       "      <td>1/1/2018 12:00:00 AM</td>\n",
       "      <td>01:00 - 01:59</td>\n",
       "      <td>Nieuwmarkt</td>\n",
       "      <td>99</td>\n",
       "      <td>0</td>\n",
       "      <td>4.901239</td>\n",
       "      <td>52.371942</td>\n",
       "      <td>Bullewijk</td>\n",
       "      <td>4.952336</td>\n",
       "      <td>52.306422</td>\n",
       "      <td>29</td>\n",
       "    </tr>\n",
       "  </tbody>\n",
       "</table>\n",
       "</div>"
      ],
      "text/plain": [
       "                   Datum UurgroepOmschrijving (van vertrek)  VertrekHalteNaam  \\\n",
       "6   1/1/2018 12:00:00 AM                      01:00 - 01:59  Nieuwezijds Kolk   \n",
       "29  1/1/2018 12:00:00 AM                      01:00 - 01:59     Amstelstation   \n",
       "48  1/1/2018 12:00:00 AM                      01:00 - 01:59        Nieuwmarkt   \n",
       "49  1/1/2018 12:00:00 AM                      01:00 - 01:59        Nieuwmarkt   \n",
       "50  1/1/2018 12:00:00 AM                      01:00 - 01:59        Nieuwmarkt   \n",
       "\n",
       "    weekday  is_weekend  VertrekLat  VertrekLon AankomstHalteNaam  \\\n",
       "6        99           0    4.892841   52.375754            Overig   \n",
       "29       99           0    4.917514   52.346473        Nieuwmarkt   \n",
       "48       99           0    4.901239   52.371942            Overig   \n",
       "49       99           0    4.901239   52.371942     Amstelstation   \n",
       "50       99           0    4.901239   52.371942         Bullewijk   \n",
       "\n",
       "    AankomstLat  AankomstLon  AantalRitten  \n",
       "6      0.000000     0.000000            27  \n",
       "29     4.901239    52.371942            10  \n",
       "48     0.000000     0.000000            44  \n",
       "49     4.917514    52.346473            30  \n",
       "50     4.952336    52.306422            29  "
      ]
     },
     "execution_count": 47,
     "metadata": {},
     "output_type": "execute_result"
    }
   ],
   "source": [
    "df.head()"
   ]
  },
  {
   "cell_type": "code",
   "execution_count": 27,
   "metadata": {},
   "outputs": [],
   "source": [
    "df.to_csv(\"../../../Data_thesis/Full_Datasets/GVB_Bestemming_20190402\")"
   ]
  }
 ],
 "metadata": {
  "kernelspec": {
   "display_name": "Python 3",
   "language": "python",
   "name": "python3"
  },
  "language_info": {
   "codemirror_mode": {
    "name": "ipython",
    "version": 3
   },
   "file_extension": ".py",
   "mimetype": "text/x-python",
   "name": "python",
   "nbconvert_exporter": "python",
   "pygments_lexer": "ipython3",
   "version": "3.7.1"
  }
 },
 "nbformat": 4,
 "nbformat_minor": 2
}
