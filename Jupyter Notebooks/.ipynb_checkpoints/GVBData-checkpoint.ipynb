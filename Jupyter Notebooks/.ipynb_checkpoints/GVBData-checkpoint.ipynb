{
 "cells": [
  {
   "cell_type": "markdown",
   "metadata": {},
   "source": [
    "# Imports"
   ]
  },
  {
   "cell_type": "code",
   "execution_count": 2,
   "metadata": {},
   "outputs": [],
   "source": [
    "# For JSON imports\n",
    "import json\n",
    "\n",
    "#For DF, CSV, Excel\n",
    "import pandas as pd"
   ]
  },
  {
   "cell_type": "markdown",
   "metadata": {},
   "source": [
    "# Open Data\n",
    "Contains the coordinates and metro lines that stop at those coordinates. Could be used in the explanation of nieuwmarkt."
   ]
  },
  {
   "cell_type": "markdown",
   "metadata": {},
   "source": [
    "## Data Exploration"
   ]
  },
  {
   "cell_type": "code",
   "execution_count": 43,
   "metadata": {},
   "outputs": [
    {
     "name": "stdout",
     "output_type": "stream",
     "text": [
      "Lines:  02|11|12|13|17\n",
      "Coordinates:  [4.893349, 52.376064]\n"
     ]
    }
   ],
   "source": [
    "#Import JSON file\n",
    "with open(\"../Data/Original/TRAMMETRO_PUNTEN_2019.json\") as gvb_data:\n",
    "    stations = json.load(gvb_data)\n",
    "    stations = stations[\"features\"]\n",
    "    \n",
    "    #Example line in file:\n",
    "    #Lines that stop at the given station\n",
    "    print(\"Lines: \", stations[0][\"properties\"][\"Lijn_select\"])\n",
    "\n",
    "    #Coordinates of the station\n",
    "    print(\"Coordinates: \", stations[0][\"geometry\"][\"coordinates\"])\n",
    "    \n",
    "    #Construct actual file\n",
    "\n",
    "    #Loop over all stations in file\n",
    "    for station in stations:\n",
    "        #Select only stations where the tram stops\n",
    "        if station[\"properties\"][\"Modaliteit\"] == \"Tram\":\n",
    "            \n",
    "            #Per station, select which lines stop there and the coordinates of the station            \n",
    "            tram_dict = {\"Lines\": station[\"properties\"][\"Lijn_select\"], \"Coordinates\": station[\"geometry\"][\"coordinates\"]}\n",
    "            \n",
    "            #Append the given results to the file and save it            \n",
    "            with open(\"../Data/Modified/TramStations.json\", \"a\") as f:\n",
    "                json.dump(tram_dict, f)\n",
    "        \n",
    "        #Select only stations where the metro stops\n",
    "        elif station[\"properties\"][\"Modaliteit\"] == \"Metro\":\n",
    "            \n",
    "            #Per station, select which lines stop there and the coordinates of the station            \n",
    "            metro_dict = {\"Lines\": station[\"properties\"][\"Lijn_select\"], \"Coordinates\": station[\"geometry\"][\"coordinates\"]}\n",
    "            \n",
    "            #Append the given results to the file and save it\n",
    "            with open(\"../Data/Modified/MetroStations.json\", \"a\") as f:\n",
    "                json.dump(metro_dict, f)"
   ]
  },
  {
   "cell_type": "markdown",
   "metadata": {},
   "source": [
    "# Sample Data\n",
    "Old version of the data, used to make a start in the data prep"
   ]
  },
  {
   "cell_type": "markdown",
   "metadata": {},
   "source": [
    "## Data Exploration"
   ]
  },
  {
   "cell_type": "markdown",
   "metadata": {},
   "source": [
    "### Ritten\n",
    "Contains the \"Ritten\" data for each station. Can be used to count the number of people that originated from the station on an hourly basis"
   ]
  },
  {
   "cell_type": "markdown",
   "metadata": {},
   "source": [
    "#### Import the Dataset\n",
    "First we'll import the dataset and check what it contains"
   ]
  },
  {
   "cell_type": "code",
   "execution_count": 3,
   "metadata": {},
   "outputs": [],
   "source": [
    "#Import the full dataset\n",
    "ritten = pd.read_excel(\"../../../Data_thesis/Sample_data/GVB/full.xlsx\")"
   ]
  },
  {
   "cell_type": "code",
   "execution_count": 4,
   "metadata": {},
   "outputs": [
    {
     "data": {
      "text/html": [
       "<div>\n",
       "<style scoped>\n",
       "    .dataframe tbody tr th:only-of-type {\n",
       "        vertical-align: middle;\n",
       "    }\n",
       "\n",
       "    .dataframe tbody tr th {\n",
       "        vertical-align: top;\n",
       "    }\n",
       "\n",
       "    .dataframe thead th {\n",
       "        text-align: right;\n",
       "    }\n",
       "</style>\n",
       "<table border=\"1\" class=\"dataframe\">\n",
       "  <thead>\n",
       "    <tr style=\"text-align: right;\">\n",
       "      <th></th>\n",
       "      <th>Datum</th>\n",
       "      <th>UurgroepOmschrijving (van vertrek)</th>\n",
       "      <th>VertrekHalteCode</th>\n",
       "      <th>VertrekHalteNaam</th>\n",
       "      <th>VertrekXCoord</th>\n",
       "      <th>VertrekYCoord</th>\n",
       "      <th>AantalRitten</th>\n",
       "    </tr>\n",
       "  </thead>\n",
       "  <tbody>\n",
       "    <tr>\n",
       "      <th>0</th>\n",
       "      <td>2018-12-24</td>\n",
       "      <td>00:00 - 00:59</td>\n",
       "      <td>0</td>\n",
       "      <td>Overig</td>\n",
       "      <td>0.0</td>\n",
       "      <td>0.000000e+00</td>\n",
       "      <td>77.0</td>\n",
       "    </tr>\n",
       "    <tr>\n",
       "      <th>1</th>\n",
       "      <td>2018-12-24</td>\n",
       "      <td>00:00 - 00:59</td>\n",
       "      <td>5046</td>\n",
       "      <td>Rembrandtplein</td>\n",
       "      <td>489627975.0</td>\n",
       "      <td>5.236626e+09</td>\n",
       "      <td>13.0</td>\n",
       "    </tr>\n",
       "    <tr>\n",
       "      <th>2</th>\n",
       "      <td>2018-12-24</td>\n",
       "      <td>00:00 - 00:59</td>\n",
       "      <td>5096</td>\n",
       "      <td>Centraal Station</td>\n",
       "      <td>490049319.0</td>\n",
       "      <td>5.237968e+09</td>\n",
       "      <td>10.0</td>\n",
       "    </tr>\n",
       "    <tr>\n",
       "      <th>3</th>\n",
       "      <td>2018-12-24</td>\n",
       "      <td>00:00 - 00:59</td>\n",
       "      <td>6063</td>\n",
       "      <td>Leidseplein</td>\n",
       "      <td>488064547.0</td>\n",
       "      <td>5.236476e+09</td>\n",
       "      <td>10.0</td>\n",
       "    </tr>\n",
       "    <tr>\n",
       "      <th>4</th>\n",
       "      <td>2018-12-24</td>\n",
       "      <td>01:00 - 01:59</td>\n",
       "      <td>0</td>\n",
       "      <td>Overig</td>\n",
       "      <td>0.0</td>\n",
       "      <td>0.000000e+00</td>\n",
       "      <td>132.0</td>\n",
       "    </tr>\n",
       "  </tbody>\n",
       "</table>\n",
       "</div>"
      ],
      "text/plain": [
       "       Datum UurgroepOmschrijving (van vertrek) VertrekHalteCode  \\\n",
       "0 2018-12-24                      00:00 - 00:59                0   \n",
       "1 2018-12-24                      00:00 - 00:59             5046   \n",
       "2 2018-12-24                      00:00 - 00:59             5096   \n",
       "3 2018-12-24                      00:00 - 00:59             6063   \n",
       "4 2018-12-24                      01:00 - 01:59                0   \n",
       "\n",
       "   VertrekHalteNaam  VertrekXCoord  VertrekYCoord  AantalRitten  \n",
       "0            Overig            0.0   0.000000e+00          77.0  \n",
       "1    Rembrandtplein    489627975.0   5.236626e+09          13.0  \n",
       "2  Centraal Station    490049319.0   5.237968e+09          10.0  \n",
       "3       Leidseplein    488064547.0   5.236476e+09          10.0  \n",
       "4            Overig            0.0   0.000000e+00         132.0  "
      ]
     },
     "execution_count": 4,
     "metadata": {},
     "output_type": "execute_result"
    }
   ],
   "source": [
    "#Check contents\n",
    "ritten.head()"
   ]
  },
  {
   "cell_type": "markdown",
   "metadata": {},
   "source": [
    "#### Construct Dataframes\n",
    "Now that the contents is clear, we construct Dataframes for each station that is of interest to us. \n",
    "\n",
    "##### Metro\n",
    "- *Nieuwmarkt*\n",
    "- *Rokin*\n",
    "\n",
    "##### Tram\n",
    "- *Niewezijdse Kolk*\n",
    "- *Dam*\n",
    "- *Spui*\n",
    "- *Rokin*"
   ]
  },
  {
   "cell_type": "code",
   "execution_count": 12,
   "metadata": {},
   "outputs": [],
   "source": [
    "#List al stations\n",
    "stations = [\"Nieuwmarkt\", \"Niewezijdse Kolk\", \"Dam\", \"Spui\"]\n",
    "\n",
    "#Select all the rows that have the station name in departure station\n",
    "ritten_df = ritten[ritten[\"VertrekHalteNaam\"].isin(stations)]"
   ]
  },
  {
   "cell_type": "code",
   "execution_count": 13,
   "metadata": {},
   "outputs": [
    {
     "data": {
      "text/html": [
       "<div>\n",
       "<style scoped>\n",
       "    .dataframe tbody tr th:only-of-type {\n",
       "        vertical-align: middle;\n",
       "    }\n",
       "\n",
       "    .dataframe tbody tr th {\n",
       "        vertical-align: top;\n",
       "    }\n",
       "\n",
       "    .dataframe thead th {\n",
       "        text-align: right;\n",
       "    }\n",
       "</style>\n",
       "<table border=\"1\" class=\"dataframe\">\n",
       "  <thead>\n",
       "    <tr style=\"text-align: right;\">\n",
       "      <th></th>\n",
       "      <th>Datum</th>\n",
       "      <th>UurgroepOmschrijving (van vertrek)</th>\n",
       "      <th>VertrekHalteCode</th>\n",
       "      <th>VertrekHalteNaam</th>\n",
       "      <th>VertrekXCoord</th>\n",
       "      <th>VertrekYCoord</th>\n",
       "      <th>AantalRitten</th>\n",
       "    </tr>\n",
       "  </thead>\n",
       "  <tbody>\n",
       "    <tr>\n",
       "      <th>5</th>\n",
       "      <td>2018-12-24</td>\n",
       "      <td>01:00 - 01:59</td>\n",
       "      <td>5031</td>\n",
       "      <td>Dam</td>\n",
       "      <td>489348393.0</td>\n",
       "      <td>5.237341e+09</td>\n",
       "      <td>58.0</td>\n",
       "    </tr>\n",
       "    <tr>\n",
       "      <th>8</th>\n",
       "      <td>2018-12-24</td>\n",
       "      <td>01:00 - 01:59</td>\n",
       "      <td>5068</td>\n",
       "      <td>Dam</td>\n",
       "      <td>489124121.0</td>\n",
       "      <td>5.237436e+09</td>\n",
       "      <td>28.0</td>\n",
       "    </tr>\n",
       "    <tr>\n",
       "      <th>16</th>\n",
       "      <td>2018-12-24</td>\n",
       "      <td>02:00 - 02:59</td>\n",
       "      <td>5031</td>\n",
       "      <td>Dam</td>\n",
       "      <td>489348393.0</td>\n",
       "      <td>5.237341e+09</td>\n",
       "      <td>103.0</td>\n",
       "    </tr>\n",
       "    <tr>\n",
       "      <th>18</th>\n",
       "      <td>2018-12-24</td>\n",
       "      <td>02:00 - 02:59</td>\n",
       "      <td>5068</td>\n",
       "      <td>Dam</td>\n",
       "      <td>489124121.0</td>\n",
       "      <td>5.237436e+09</td>\n",
       "      <td>25.0</td>\n",
       "    </tr>\n",
       "    <tr>\n",
       "      <th>26</th>\n",
       "      <td>2018-12-24</td>\n",
       "      <td>03:00 - 03:59</td>\n",
       "      <td>5031</td>\n",
       "      <td>Dam</td>\n",
       "      <td>489348393.0</td>\n",
       "      <td>5.237341e+09</td>\n",
       "      <td>39.0</td>\n",
       "    </tr>\n",
       "  </tbody>\n",
       "</table>\n",
       "</div>"
      ],
      "text/plain": [
       "        Datum UurgroepOmschrijving (van vertrek) VertrekHalteCode  \\\n",
       "5  2018-12-24                      01:00 - 01:59             5031   \n",
       "8  2018-12-24                      01:00 - 01:59             5068   \n",
       "16 2018-12-24                      02:00 - 02:59             5031   \n",
       "18 2018-12-24                      02:00 - 02:59             5068   \n",
       "26 2018-12-24                      03:00 - 03:59             5031   \n",
       "\n",
       "   VertrekHalteNaam  VertrekXCoord  VertrekYCoord  AantalRitten  \n",
       "5               Dam    489348393.0   5.237341e+09          58.0  \n",
       "8               Dam    489124121.0   5.237436e+09          28.0  \n",
       "16              Dam    489348393.0   5.237341e+09         103.0  \n",
       "18              Dam    489124121.0   5.237436e+09          25.0  \n",
       "26              Dam    489348393.0   5.237341e+09          39.0  "
      ]
     },
     "execution_count": 13,
     "metadata": {},
     "output_type": "execute_result"
    }
   ],
   "source": [
    "#Example\n",
    "ritten_df.head()"
   ]
  },
  {
   "cell_type": "markdown",
   "metadata": {},
   "source": [
    "#### DF to File\n",
    "Save the dataframe in a file, so that it can be imported for other uses. Later this will be probably be removed as the dataframe can simple function as input to another funtion. "
   ]
  },
  {
   "cell_type": "code",
   "execution_count": 14,
   "metadata": {},
   "outputs": [],
   "source": [
    "ritten_df.to_csv(\"../../../Data_thesis/Sample_data/GVB/ritten.csv\")"
   ]
  }
 ],
 "metadata": {
  "kernelspec": {
   "display_name": "Python 3",
   "language": "python",
   "name": "python3"
  },
  "language_info": {
   "codemirror_mode": {
    "name": "ipython",
    "version": 3
   },
   "file_extension": ".py",
   "mimetype": "text/x-python",
   "name": "python",
   "nbconvert_exporter": "python",
   "pygments_lexer": "ipython3",
   "version": "3.7.1"
  }
 },
 "nbformat": 4,
 "nbformat_minor": 2
}
