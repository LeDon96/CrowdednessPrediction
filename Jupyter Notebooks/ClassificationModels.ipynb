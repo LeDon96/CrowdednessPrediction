{
 "cells": [
  {
   "cell_type": "markdown",
   "metadata": {},
   "source": [
    "# Classification Models"
   ]
  },
  {
   "cell_type": "markdown",
   "metadata": {},
   "source": [
    "## Imports"
   ]
  },
  {
   "cell_type": "code",
   "execution_count": 39,
   "metadata": {},
   "outputs": [],
   "source": [
    "import pandas as pd\n",
    "import numpy as np\n",
    "import matplotlib.pyplot as plt\n",
    "%matplotlib inline\n",
    "import nbimporter\n",
    "\n",
    "import TrainTestEvalSplit as split\n",
    "\n",
    "from sklearn.dummy import DummyClassifier\n",
    "from sklearn.ensemble import RandomForestClassifier\n",
    "import xgboost as xgb\n",
    "\n",
    "#Classification Metrics\n",
    "from sklearn.metrics import precision_score\n",
    "from sklearn.metrics import recall_score\n",
    "from sklearn.metrics import accuracy_score\n",
    "from sklearn.metrics import f1_score\n",
    "\n",
    "from yellowbrick.classifier import ClassPredictionError\n",
    "\n",
    "import pickle\n",
    "\n",
    "from sklearn.model_selection import KFold\n",
    "from sklearn.utils import check_X_y"
   ]
  },
  {
   "cell_type": "markdown",
   "metadata": {},
   "source": [
    "## Import File"
   ]
  },
  {
   "cell_type": "code",
   "execution_count": 2,
   "metadata": {},
   "outputs": [
    {
     "data": {
      "text/html": [
       "<div>\n",
       "<style scoped>\n",
       "    .dataframe tbody tr th:only-of-type {\n",
       "        vertical-align: middle;\n",
       "    }\n",
       "\n",
       "    .dataframe tbody tr th {\n",
       "        vertical-align: top;\n",
       "    }\n",
       "\n",
       "    .dataframe thead th {\n",
       "        text-align: right;\n",
       "    }\n",
       "</style>\n",
       "<table border=\"1\" class=\"dataframe\">\n",
       "  <thead>\n",
       "    <tr style=\"text-align: right;\">\n",
       "      <th></th>\n",
       "      <th>Date</th>\n",
       "      <th>Hour</th>\n",
       "      <th>Nieuwmarkt Arrivals</th>\n",
       "      <th>Nieuwezijds Kolk Arrivals</th>\n",
       "      <th>Dam Arrivals</th>\n",
       "      <th>Spui Arrivals</th>\n",
       "      <th>Nieuwmarkt Departures</th>\n",
       "      <th>Nieuwezijds Kolk Departures</th>\n",
       "      <th>Dam Departures</th>\n",
       "      <th>Spui Departures</th>\n",
       "      <th>...</th>\n",
       "      <th>SensorLatitude</th>\n",
       "      <th>CrowdednessCount</th>\n",
       "      <th>is_event</th>\n",
       "      <th>Year</th>\n",
       "      <th>month_sin</th>\n",
       "      <th>month_cos</th>\n",
       "      <th>day_sin</th>\n",
       "      <th>day_cos</th>\n",
       "      <th>hour_sin</th>\n",
       "      <th>hour_cos</th>\n",
       "    </tr>\n",
       "  </thead>\n",
       "  <tbody>\n",
       "    <tr>\n",
       "      <th>0</th>\n",
       "      <td>2018-03-11</td>\n",
       "      <td>100</td>\n",
       "      <td>0.0</td>\n",
       "      <td>0.0</td>\n",
       "      <td>13.0</td>\n",
       "      <td>0.0</td>\n",
       "      <td>0.0</td>\n",
       "      <td>0.0</td>\n",
       "      <td>90.0</td>\n",
       "      <td>0.0</td>\n",
       "      <td>...</td>\n",
       "      <td>5</td>\n",
       "      <td>886</td>\n",
       "      <td>0.0</td>\n",
       "      <td>2018</td>\n",
       "      <td>1.0</td>\n",
       "      <td>6.123234e-17</td>\n",
       "      <td>0.188227</td>\n",
       "      <td>0.982126</td>\n",
       "      <td>0.258819</td>\n",
       "      <td>0.965926</td>\n",
       "    </tr>\n",
       "    <tr>\n",
       "      <th>1</th>\n",
       "      <td>2018-03-11</td>\n",
       "      <td>2100</td>\n",
       "      <td>136.0</td>\n",
       "      <td>80.0</td>\n",
       "      <td>409.0</td>\n",
       "      <td>40.0</td>\n",
       "      <td>211.0</td>\n",
       "      <td>119.0</td>\n",
       "      <td>858.0</td>\n",
       "      <td>94.0</td>\n",
       "      <td>...</td>\n",
       "      <td>7</td>\n",
       "      <td>1603</td>\n",
       "      <td>0.0</td>\n",
       "      <td>2018</td>\n",
       "      <td>1.0</td>\n",
       "      <td>6.123234e-17</td>\n",
       "      <td>0.188227</td>\n",
       "      <td>0.982126</td>\n",
       "      <td>-0.707107</td>\n",
       "      <td>0.707107</td>\n",
       "    </tr>\n",
       "    <tr>\n",
       "      <th>2</th>\n",
       "      <td>2018-03-11</td>\n",
       "      <td>2100</td>\n",
       "      <td>136.0</td>\n",
       "      <td>80.0</td>\n",
       "      <td>409.0</td>\n",
       "      <td>40.0</td>\n",
       "      <td>211.0</td>\n",
       "      <td>119.0</td>\n",
       "      <td>858.0</td>\n",
       "      <td>94.0</td>\n",
       "      <td>...</td>\n",
       "      <td>0</td>\n",
       "      <td>21</td>\n",
       "      <td>0.0</td>\n",
       "      <td>2018</td>\n",
       "      <td>1.0</td>\n",
       "      <td>6.123234e-17</td>\n",
       "      <td>0.188227</td>\n",
       "      <td>0.982126</td>\n",
       "      <td>-0.707107</td>\n",
       "      <td>0.707107</td>\n",
       "    </tr>\n",
       "    <tr>\n",
       "      <th>3</th>\n",
       "      <td>2018-03-11</td>\n",
       "      <td>2100</td>\n",
       "      <td>136.0</td>\n",
       "      <td>80.0</td>\n",
       "      <td>409.0</td>\n",
       "      <td>40.0</td>\n",
       "      <td>211.0</td>\n",
       "      <td>119.0</td>\n",
       "      <td>858.0</td>\n",
       "      <td>94.0</td>\n",
       "      <td>...</td>\n",
       "      <td>9</td>\n",
       "      <td>88</td>\n",
       "      <td>0.0</td>\n",
       "      <td>2018</td>\n",
       "      <td>1.0</td>\n",
       "      <td>6.123234e-17</td>\n",
       "      <td>0.188227</td>\n",
       "      <td>0.982126</td>\n",
       "      <td>-0.707107</td>\n",
       "      <td>0.707107</td>\n",
       "    </tr>\n",
       "    <tr>\n",
       "      <th>4</th>\n",
       "      <td>2018-03-11</td>\n",
       "      <td>2100</td>\n",
       "      <td>136.0</td>\n",
       "      <td>80.0</td>\n",
       "      <td>409.0</td>\n",
       "      <td>40.0</td>\n",
       "      <td>211.0</td>\n",
       "      <td>119.0</td>\n",
       "      <td>858.0</td>\n",
       "      <td>94.0</td>\n",
       "      <td>...</td>\n",
       "      <td>2</td>\n",
       "      <td>49</td>\n",
       "      <td>0.0</td>\n",
       "      <td>2018</td>\n",
       "      <td>1.0</td>\n",
       "      <td>6.123234e-17</td>\n",
       "      <td>0.188227</td>\n",
       "      <td>0.982126</td>\n",
       "      <td>-0.707107</td>\n",
       "      <td>0.707107</td>\n",
       "    </tr>\n",
       "  </tbody>\n",
       "</table>\n",
       "<p>5 rows × 24 columns</p>\n",
       "</div>"
      ],
      "text/plain": [
       "        Date  Hour  Nieuwmarkt Arrivals  Nieuwezijds Kolk Arrivals  \\\n",
       "0 2018-03-11   100                  0.0                        0.0   \n",
       "1 2018-03-11  2100                136.0                       80.0   \n",
       "2 2018-03-11  2100                136.0                       80.0   \n",
       "3 2018-03-11  2100                136.0                       80.0   \n",
       "4 2018-03-11  2100                136.0                       80.0   \n",
       "\n",
       "   Dam Arrivals  Spui Arrivals  Nieuwmarkt Departures  \\\n",
       "0          13.0            0.0                    0.0   \n",
       "1         409.0           40.0                  211.0   \n",
       "2         409.0           40.0                  211.0   \n",
       "3         409.0           40.0                  211.0   \n",
       "4         409.0           40.0                  211.0   \n",
       "\n",
       "   Nieuwezijds Kolk Departures  Dam Departures  Spui Departures  ...  \\\n",
       "0                          0.0            90.0              0.0  ...   \n",
       "1                        119.0           858.0             94.0  ...   \n",
       "2                        119.0           858.0             94.0  ...   \n",
       "3                        119.0           858.0             94.0  ...   \n",
       "4                        119.0           858.0             94.0  ...   \n",
       "\n",
       "   SensorLatitude  CrowdednessCount is_event  Year  month_sin     month_cos  \\\n",
       "0               5               886      0.0  2018        1.0  6.123234e-17   \n",
       "1               7              1603      0.0  2018        1.0  6.123234e-17   \n",
       "2               0                21      0.0  2018        1.0  6.123234e-17   \n",
       "3               9                88      0.0  2018        1.0  6.123234e-17   \n",
       "4               2                49      0.0  2018        1.0  6.123234e-17   \n",
       "\n",
       "    day_sin   day_cos  hour_sin  hour_cos  \n",
       "0  0.188227  0.982126  0.258819  0.965926  \n",
       "1  0.188227  0.982126 -0.707107  0.707107  \n",
       "2  0.188227  0.982126 -0.707107  0.707107  \n",
       "3  0.188227  0.982126 -0.707107  0.707107  \n",
       "4  0.188227  0.982126 -0.707107  0.707107  \n",
       "\n",
       "[5 rows x 24 columns]"
      ]
     },
     "execution_count": 2,
     "metadata": {},
     "output_type": "execute_result"
    }
   ],
   "source": [
    "full_df = pd.read_csv(\"../../../Data_thesis/Full_Datasets/Full.csv\")\n",
    "full_df[\"Date\"] = pd.to_datetime(full_df[\"Date\"], format=\"%Y-%m-%d\")\n",
    "\n",
    "full_df.head()"
   ]
  },
  {
   "cell_type": "markdown",
   "metadata": {},
   "source": [
    "## Train/Test/Eval"
   ]
  },
  {
   "cell_type": "code",
   "execution_count": 3,
   "metadata": {},
   "outputs": [],
   "source": [
    "size = 0.9\n",
    "sensor = \"GAWW-02\"\n",
    "kf = KFold(n_splits=10, shuffle=True, random_state=42)"
   ]
  },
  {
   "cell_type": "code",
   "execution_count": 4,
   "metadata": {},
   "outputs": [],
   "source": [
    "full_df = split.clasCrowdednessCounts(full_df)"
   ]
  },
  {
   "cell_type": "code",
   "execution_count": 5,
   "metadata": {},
   "outputs": [],
   "source": [
    "x_train, y_train, x_test, y_test, x_test_series, y_test_series, feature_labels, train_dates = split.trainTestSplit(full_df, size, sensor)"
   ]
  },
  {
   "cell_type": "markdown",
   "metadata": {},
   "source": [
    "## Models"
   ]
  },
  {
   "cell_type": "markdown",
   "metadata": {},
   "source": [
    "### Baseline\n",
    "Implemented the [Sklearn Version](https://scikit-learn.org/stable/modules/generated/sklearn.dummy.DummyClassifier.html#sklearn.dummy.DummyClassifier)"
   ]
  },
  {
   "cell_type": "markdown",
   "metadata": {},
   "source": [
    "#### Training"
   ]
  },
  {
   "cell_type": "code",
   "execution_count": 56,
   "metadata": {},
   "outputs": [],
   "source": [
    "base = DummyClassifier(strategy=\"stratified\", random_state=42)"
   ]
  },
  {
   "cell_type": "code",
   "execution_count": 57,
   "metadata": {},
   "outputs": [
    {
     "name": "stdout",
     "output_type": "stream",
     "text": [
      "Mean Accuracy Score:  24.87 \n",
      "\n",
      "For label 1\n",
      "Mean Precision Score:  24.74\n",
      "Mean Recall Score:  24.46\n",
      "Mean F1 Score:  24.57 \n",
      "\n",
      "For label 2\n",
      "Mean Precision Score:  25.08\n",
      "Mean Recall Score:  25.49\n",
      "Mean F1 Score:  25.27 \n",
      "\n",
      "For label 3\n",
      "Mean Precision Score:  24.93\n",
      "Mean Recall Score:  24.27\n",
      "Mean F1 Score:  24.52 \n",
      "\n",
      "For label 4\n",
      "Mean Precision Score:  24.93\n",
      "Mean Recall Score:  25.43\n",
      "Mean F1 Score:  25.05 \n",
      "\n"
     ]
    }
   ],
   "source": [
    "labels = [1, 2, 3, 4]\n",
    "\n",
    "mean_acc = 0\n",
    "\n",
    "mean_precision = 0\n",
    "mean_recall = 0\n",
    "mean_f1_score = 0\n",
    "\n",
    "for train_index, val_index in kf.split(train_dates):\n",
    "    \n",
    "    x_train_con, y_train_con = check_X_y(X=x_train[x_train[\"Date\"].isin(train_dates[train_index])].drop(columns={\"Date\"}),\n",
    "                                        y=y_train[y_train[\"Date\"].isin(train_dates[train_index])][\"CrowdednessCount\"])\n",
    "    base.fit(x_train_con,y_train_con)\n",
    "    \n",
    "    x_val_con, y_val_con = check_X_y(X=x_train[x_train[\"Date\"].isin(train_dates[val_index])].drop(columns={\"Date\"}),\n",
    "                                    y=y_train[y_train[\"Date\"].isin(train_dates[val_index])][\"CrowdednessCount\"])\n",
    "    \n",
    "    y_pred_base = base.predict(x_val_con)\n",
    "    \n",
    "    mean_acc += accuracy_score(y_val_con, y_pred_base)\n",
    "\n",
    "    mean_precision += precision_score(y_val_con, y_pred_base, average=None)\n",
    "    mean_recall += recall_score(y_val_con, y_pred_base, average=None)\n",
    "    mean_f1_score += f1_score(y_val_con, y_pred_base, average=None)\n",
    "\n",
    "mean_acc = round(((mean_acc / 10) * 100),2)\n",
    "mean_precision = (mean_precision / 10) * 100\n",
    "mean_recall = (mean_recall / 10) * 100\n",
    "mean_f1_score = (mean_f1_score / 10) * 100\n",
    "\n",
    "print(\"Mean Accuracy Score: \", mean_acc, \"\\n\")\n",
    "\n",
    "for i in range(len(labels)):\n",
    "    print(\"For label {0}\".format(labels[i]))\n",
    "    print(\"Mean Precision Score: \", round(mean_precision[i], 2))\n",
    "    print(\"Mean Recall Score: \", round(mean_recall[i], 2))\n",
    "    print(\"Mean F1 Score: \", round(mean_f1_score[i], 2), \"\\n\")"
   ]
  },
  {
   "cell_type": "markdown",
   "metadata": {},
   "source": [
    "#### Test"
   ]
  },
  {
   "cell_type": "code",
   "execution_count": 59,
   "metadata": {},
   "outputs": [
    {
     "name": "stdout",
     "output_type": "stream",
     "text": [
      "Accuracy Score:  0.24525866348922648\n",
      "              precision    recall  f1-score   support\n",
      "\n",
      "           1       0.25      0.24      0.25      2525\n",
      "           2       0.25      0.25      0.25      2562\n",
      "           3       0.24      0.23      0.24      2539\n",
      "           4       0.24      0.25      0.25      2445\n",
      "\n",
      "   micro avg       0.25      0.25      0.25     10071\n",
      "   macro avg       0.25      0.25      0.25     10071\n",
      "weighted avg       0.25      0.25      0.25     10071\n",
      "\n"
     ]
    },
    {
     "data": {
      "image/png": "[encoded data removed]",
      "text/plain": [
       "<Figure size 432x288 with 1 Axes>"
      ]
     },
     "metadata": {
      "needs_background": "light"
     },
     "output_type": "display_data"
    }
   ],
   "source": [
    "y_pred_test_base = base.predict(x_test)\n",
    "print(\"Accuracy Score: \", accuracy_score(y_test, y_pred_test_base))\n",
    "print(classification_report(y_test, y_pred_test_base))\n",
    "\n",
    "visualizer = ClassPredictionError(\n",
    "    base\n",
    ")\n",
    "\n",
    "visualizer.fit(x_train.drop(columns={\"Date\"}), y_train[\"CrowdednessCount\"])\n",
    "visualizer.score(x_test, y_test)\n",
    "g = visualizer.poof()"
   ]
  },
  {
   "cell_type": "code",
   "execution_count": 61,
   "metadata": {},
   "outputs": [
    {
     "data": {
      "image/png": "[encoded data removed]",
      "text/plain": [
       "<Figure size 432x288 with 1 Axes>"
      ]
     },
     "metadata": {
      "needs_background": "light"
     },
     "output_type": "display_data"
    }
   ],
   "source": [
    "#Time series\n",
    "time_pred_test_bas = base.predict(x_test_series)\n",
    "\n",
    "time_pred_series_test_bas = pd.Series(time_pred_test_bas)\n",
    "time_real_series_test_bas = pd.Series(y_test_series)\n",
    "\n",
    "time_real_series_test_bas.plot(legend=True, label=\"Actual\")\n",
    "time_pred_series_test_bas.plot(legend=True, title='Crowdedness Prediction - Baseline', label=\"Predicted\")\n",
    "plt.show()"
   ]
  },
  {
   "cell_type": "markdown",
   "metadata": {},
   "source": [
    "### Random Forrest Classifier \n",
    "Implemented the [Sklearn Version](https://scikit-learn.org/stable/modules/generated/sklearn.ensemble.RandomForestClassifier.html#sklearn.ensemble.RandomForestClassifier)"
   ]
  },
  {
   "cell_type": "markdown",
   "metadata": {},
   "source": [
    "#### Training"
   ]
  },
  {
   "cell_type": "code",
   "execution_count": 62,
   "metadata": {},
   "outputs": [],
   "source": [
    "rfc = RandomForestClassifier(n_estimators=300, criterion=\"entropy\", n_jobs=50, random_state=42, \n",
    "                                  class_weight=\"balanced\", oob_score=\"True\")"
   ]
  },
  {
   "cell_type": "code",
   "execution_count": 63,
   "metadata": {},
   "outputs": [
    {
     "name": "stdout",
     "output_type": "stream",
     "text": [
      "Mean Accuracy Score:  87.0 \n",
      "\n",
      "For label 1\n",
      "Mean Precision Score:  87.44\n",
      "Mean Recall Score:  83.24\n",
      "Mean F1 Score:  85.27 \n",
      "\n",
      "For label 2\n",
      "Mean Precision Score:  83.37\n",
      "Mean Recall Score:  82.42\n",
      "Mean F1 Score:  82.88 \n",
      "\n",
      "For label 3\n",
      "Mean Precision Score:  88.02\n",
      "Mean Recall Score:  88.5\n",
      "Mean F1 Score:  88.25 \n",
      "\n",
      "For label 4\n",
      "Mean Precision Score:  88.88\n",
      "Mean Recall Score:  93.88\n",
      "Mean F1 Score:  91.28 \n",
      "\n"
     ]
    }
   ],
   "source": [
    "labels = [1, 2, 3, 4]\n",
    "\n",
    "mean_acc = 0\n",
    "\n",
    "mean_precision = 0\n",
    "mean_recall = 0\n",
    "mean_f1_score = 0\n",
    "\n",
    "for train_index, val_index in kf.split(train_dates):\n",
    "    \n",
    "    x_train_con, y_train_con = check_X_y(X=x_train[x_train[\"Date\"].isin(train_dates[train_index])].drop(columns={\"Date\"}),\n",
    "                                        y=y_train[y_train[\"Date\"].isin(train_dates[train_index])][\"CrowdednessCount\"])\n",
    "    rfc.fit(x_train_con,y_train_con)\n",
    "    \n",
    "    x_val_con, y_val_con = check_X_y(X=x_train[x_train[\"Date\"].isin(train_dates[val_index])].drop(columns={\"Date\"}),\n",
    "                                    y=y_train[y_train[\"Date\"].isin(train_dates[val_index])][\"CrowdednessCount\"])\n",
    "    \n",
    "    y_pred_base = rfc.predict(x_val_con)\n",
    "    \n",
    "    mean_acc += accuracy_score(y_val_con, y_pred_base)\n",
    "\n",
    "    mean_precision += precision_score(y_val_con, y_pred_base, average=None)\n",
    "    mean_recall += recall_score(y_val_con, y_pred_base, average=None)\n",
    "    mean_f1_score += f1_score(y_val_con, y_pred_base, average=None)\n",
    "\n",
    "mean_acc = round(((mean_acc / 10) * 100),2)\n",
    "mean_precision = (mean_precision / 10) * 100\n",
    "mean_recall = (mean_recall / 10) * 100\n",
    "mean_f1_score = (mean_f1_score / 10) * 100\n",
    "\n",
    "print(\"Mean Accuracy Score: \", mean_acc, \"\\n\")\n",
    "\n",
    "for i in range(len(labels)):\n",
    "    print(\"For label {0}\".format(labels[i]))\n",
    "    print(\"Mean Precision Score: \", round(mean_precision[i], 2))\n",
    "    print(\"Mean Recall Score: \", round(mean_recall[i], 2))\n",
    "    print(\"Mean F1 Score: \", round(mean_f1_score[i], 2), \"\\n\")"
   ]
  },
  {
   "cell_type": "markdown",
   "metadata": {},
   "source": [
    "#### Test"
   ]
  },
  {
   "cell_type": "code",
   "execution_count": 65,
   "metadata": {},
   "outputs": [
    {
     "name": "stdout",
     "output_type": "stream",
     "text": [
      "Accuracy Score:  0.8659517426273459\n",
      "              precision    recall  f1-score   support\n",
      "\n",
      "           1       0.86      0.83      0.85      2525\n",
      "           2       0.82      0.81      0.82      2562\n",
      "           3       0.88      0.89      0.88      2539\n",
      "           4       0.90      0.93      0.92      2445\n",
      "\n",
      "   micro avg       0.87      0.87      0.87     10071\n",
      "   macro avg       0.87      0.87      0.87     10071\n",
      "weighted avg       0.87      0.87      0.87     10071\n",
      "\n"
     ]
    },
    {
     "data": {
      "image/png": "[encoded data removed]",
      "text/plain": [
       "<Figure size 432x288 with 1 Axes>"
      ]
     },
     "metadata": {
      "needs_background": "light"
     },
     "output_type": "display_data"
    }
   ],
   "source": [
    "y_pred_test_rfc = rfc.predict(x_test)\n",
    "\n",
    "print(\"Accuracy Score: \", accuracy_score(y_test, y_pred_test_rfc))\n",
    "print(classification_report(y_test, y_pred_test_rfc))\n",
    "\n",
    "visualizer = ClassPredictionError(\n",
    "    rfc\n",
    ")\n",
    "\n",
    "visualizer.fit(x_train.drop(columns={\"Date\"}), y_train[\"CrowdednessCount\"])\n",
    "visualizer.score(x_test, y_test)\n",
    "g = visualizer.poof()"
   ]
  },
  {
   "cell_type": "code",
   "execution_count": 35,
   "metadata": {},
   "outputs": [
    {
     "data": {
      "image/png": "[encoded data removed]",
      "text/plain": [
       "<Figure size 432x288 with 1 Axes>"
      ]
     },
     "metadata": {
      "needs_background": "light"
     },
     "output_type": "display_data"
    }
   ],
   "source": [
    "#Time series\n",
    "time_pred_test_rfc = rfc.predict(x_test_series)\n",
    "\n",
    "time_pred_series_test_rfc = pd.Series(time_pred_test_rfc)\n",
    "time_real_series_test_rfc = pd.Series(y_test_series)\n",
    "\n",
    "time_real_series_test_rfc.plot(legend=True, label=\"Actual\")\n",
    "time_pred_series_test_rfc.plot(legend=True, title='Crowdedness Prediction - RFC', label=\"Predicted\")\n",
    "plt.show()"
   ]
  },
  {
   "cell_type": "markdown",
   "metadata": {},
   "source": [
    "#### Save Model to File"
   ]
  },
  {
   "cell_type": "code",
   "execution_count": 50,
   "metadata": {},
   "outputs": [],
   "source": [
    "filename = \"../../../Data_thesis/Models/rfc_model.sav\"\n",
    "\n",
    "pickle.dump(rfc, open(filename, 'wb'))"
   ]
  },
  {
   "cell_type": "markdown",
   "metadata": {},
   "source": [
    "### XGBoost \n",
    "Implement [XGBoost](https://xgboost.readthedocs.io/en/latest/python/python_intro.html)"
   ]
  },
  {
   "cell_type": "markdown",
   "metadata": {},
   "source": [
    "#### Training"
   ]
  },
  {
   "cell_type": "code",
   "execution_count": 66,
   "metadata": {},
   "outputs": [],
   "source": [
    "xgb = xgb.XGBClassifier(random_state=42, n_estimators=300, max_depth=12, \n",
    "                              learning_rate=0.1, booster=\"gbtree\", n_jobs=50)"
   ]
  },
  {
   "cell_type": "code",
   "execution_count": 71,
   "metadata": {},
   "outputs": [
    {
     "name": "stdout",
     "output_type": "stream",
     "text": [
      "Mean Accuracy Score:  87.09 \n",
      "\n",
      "For label 1\n",
      "Mean Precision Score:  86.75\n",
      "Mean Recall Score:  84.48\n",
      "Mean F1 Score:  85.59 \n",
      "\n",
      "For label 2\n",
      "Mean Precision Score:  83.62\n",
      "Mean Recall Score:  82.48\n",
      "Mean F1 Score:  83.04 \n",
      "\n",
      "For label 3\n",
      "Mean Precision Score:  88.05\n",
      "Mean Recall Score:  88.52\n",
      "Mean F1 Score:  88.27 \n",
      "\n",
      "For label 4\n",
      "Mean Precision Score:  89.66\n",
      "Mean Recall Score:  92.89\n",
      "Mean F1 Score:  91.23 \n",
      "\n"
     ]
    }
   ],
   "source": [
    "labels = [1, 2, 3, 4]\n",
    "\n",
    "mean_acc = 0\n",
    "\n",
    "mean_precision = 0\n",
    "mean_recall = 0\n",
    "mean_f1_score = 0\n",
    "\n",
    "for train_index, val_index in kf.split(train_dates):\n",
    "    \n",
    "    xgb.fit(x_train[x_train[\"Date\"].isin(train_dates[train_index])].drop(columns={\"Date\"}),\n",
    "            y_train[y_train[\"Date\"].isin(train_dates[train_index])][\"CrowdednessCount\"])\n",
    "    \n",
    "    y_pred_base = xgb.predict(x_train[x_train[\"Date\"].isin(train_dates[val_index])].drop(columns={\"Date\"}))\n",
    "    \n",
    "    mean_acc += accuracy_score(y_train[y_train[\"Date\"].isin(train_dates[val_index])][\"CrowdednessCount\"], y_pred_base)\n",
    "\n",
    "    mean_precision += precision_score(y_train[y_train[\"Date\"].isin(train_dates[val_index])][\"CrowdednessCount\"], y_pred_base, average=None)\n",
    "    mean_recall += recall_score(y_train[y_train[\"Date\"].isin(train_dates[val_index])][\"CrowdednessCount\"], y_pred_base, average=None)\n",
    "    mean_f1_score += f1_score(y_train[y_train[\"Date\"].isin(train_dates[val_index])][\"CrowdednessCount\"], y_pred_base, average=None)\n",
    "\n",
    "mean_acc = round(((mean_acc / 10) * 100),2)\n",
    "mean_precision = (mean_precision / 10) * 100\n",
    "mean_recall = (mean_recall / 10) * 100\n",
    "mean_f1_score = (mean_f1_score / 10) * 100\n",
    "\n",
    "print(\"Mean Accuracy Score: \", mean_acc, \"\\n\")\n",
    "\n",
    "for i in range(len(labels)):\n",
    "    print(\"For label {0}\".format(labels[i]))\n",
    "    print(\"Mean Precision Score: \", round(mean_precision[i], 2))\n",
    "    print(\"Mean Recall Score: \", round(mean_recall[i], 2))\n",
    "    print(\"Mean F1 Score: \", round(mean_f1_score[i], 2), \"\\n\")"
   ]
  },
  {
   "cell_type": "markdown",
   "metadata": {},
   "source": [
    "#### Test"
   ]
  },
  {
   "cell_type": "code",
   "execution_count": 72,
   "metadata": {},
   "outputs": [
    {
     "name": "stdout",
     "output_type": "stream",
     "text": [
      "Accuracy Score:  0.870420017873101\n",
      "              precision    recall  f1-score   support\n",
      "\n",
      "           1       0.86      0.85      0.85      2525\n",
      "           2       0.83      0.82      0.82      2562\n",
      "           3       0.88      0.89      0.89      2539\n",
      "           4       0.91      0.92      0.92      2445\n",
      "\n",
      "   micro avg       0.87      0.87      0.87     10071\n",
      "   macro avg       0.87      0.87      0.87     10071\n",
      "weighted avg       0.87      0.87      0.87     10071\n",
      "\n"
     ]
    },
    {
     "data": {
      "image/png": "[encoded data removed]",
      "text/plain": [
       "<Figure size 432x288 with 1 Axes>"
      ]
     },
     "metadata": {
      "needs_background": "light"
     },
     "output_type": "display_data"
    }
   ],
   "source": [
    "y_pred_test_xgb = xgb.predict(x_test)\n",
    "\n",
    "print(\"Accuracy Score: \", accuracy_score(y_test, y_pred_test_xgb))\n",
    "print(classification_report(y_test, y_pred_test_xgb))\n",
    "\n",
    "visualizer = ClassPredictionError(\n",
    "    xgb\n",
    ")\n",
    "\n",
    "visualizer.fit(x_train.drop(columns={\"Date\"}), y_train[\"CrowdednessCount\"])\n",
    "visualizer.score(x_test, y_test)\n",
    "g = visualizer.poof()"
   ]
  },
  {
   "cell_type": "code",
   "execution_count": 73,
   "metadata": {},
   "outputs": [
    {
     "data": {
      "image/png": "[encoded data removed]",
      "text/plain": [
       "<Figure size 432x288 with 1 Axes>"
      ]
     },
     "metadata": {
      "needs_background": "light"
     },
     "output_type": "display_data"
    }
   ],
   "source": [
    "#Time series\n",
    "time_pred_test_xgb = xgb.predict(x_test_series)\n",
    "\n",
    "time_pred_series_test_xgb = pd.Series(time_pred_test_xgb)\n",
    "time_real_series_test_xgb = pd.Series(y_test_series)\n",
    "\n",
    "time_real_series_test_xgb.plot(legend=True, label=\"Actual\")\n",
    "time_pred_series_test_xgb.plot(legend=True, title='Crowdedness Prediction - XGB', label=\"Predicted\")\n",
    "plt.show()"
   ]
  },
  {
   "cell_type": "markdown",
   "metadata": {},
   "source": [
    "#### Save Model to File"
   ]
  },
  {
   "cell_type": "code",
   "execution_count": 53,
   "metadata": {},
   "outputs": [],
   "source": [
    "filename = \"../../../Data_thesis/Models/xgbc_model.sav\"\n",
    "\n",
    "pickle.dump(xgb, open(filename, 'wb'))"
   ]
  }
 ],
 "metadata": {
  "kernelspec": {
   "display_name": "Python 3",
   "language": "python",
   "name": "python3"
  },
  "language_info": {
   "codemirror_mode": {
    "name": "ipython",
    "version": 3
   },
   "file_extension": ".py",
   "mimetype": "text/x-python",
   "name": "python",
   "nbconvert_exporter": "python",
   "pygments_lexer": "ipython3",
   "version": "3.7.1"
  }
 },
 "nbformat": 4,
 "nbformat_minor": 2
}
