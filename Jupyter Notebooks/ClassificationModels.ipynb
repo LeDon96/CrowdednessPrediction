{
 "cells": [
  {
   "cell_type": "markdown",
   "metadata": {},
   "source": [
    "# Classification Models"
   ]
  },
  {
   "cell_type": "markdown",
   "metadata": {},
   "source": [
    "## Imports"
   ]
  },
  {
   "cell_type": "code",
   "execution_count": 40,
   "metadata": {},
   "outputs": [],
   "source": [
    "import pandas as pd\n",
    "import numpy as np\n",
    "import matplotlib.pyplot as plt\n",
    "%matplotlib inline\n",
    "import nbimporter\n",
    "\n",
    "import TrainTestEvalSplit as split\n",
    "\n",
    "from sklearn.dummy import DummyClassifier\n",
    "from sklearn.ensemble import RandomForestClassifier\n",
    "import xgboost as xgb\n",
    "\n",
    "#Classification Metrics\n",
    "from sklearn.metrics import precision_score\n",
    "from sklearn.metrics import recall_score\n",
    "from sklearn.metrics import accuracy_score\n",
    "from sklearn.metrics import f1_score\n",
    "from sklearn.metrics import classification_report\n",
    "\n",
    "from yellowbrick.classifier import ClassPredictionError\n",
    "\n",
    "import pickle\n",
    "\n",
    "from sklearn.model_selection import KFold\n",
    "from sklearn.utils import check_X_y\n",
    "from sklearn.model_selection import RandomizedSearchCV"
   ]
  },
  {
   "cell_type": "markdown",
   "metadata": {},
   "source": [
    "## Import File"
   ]
  },
  {
   "cell_type": "code",
   "execution_count": 28,
   "metadata": {},
   "outputs": [
    {
     "data": {
      "text/html": [
       "<div>\n",
       "<style scoped>\n",
       "    .dataframe tbody tr th:only-of-type {\n",
       "        vertical-align: middle;\n",
       "    }\n",
       "\n",
       "    .dataframe tbody tr th {\n",
       "        vertical-align: top;\n",
       "    }\n",
       "\n",
       "    .dataframe thead th {\n",
       "        text-align: right;\n",
       "    }\n",
       "</style>\n",
       "<table border=\"1\" class=\"dataframe\">\n",
       "  <thead>\n",
       "    <tr style=\"text-align: right;\">\n",
       "      <th></th>\n",
       "      <th>Date</th>\n",
       "      <th>Hour</th>\n",
       "      <th>weekday</th>\n",
       "      <th>is_weekend</th>\n",
       "      <th>Sensor</th>\n",
       "      <th>SensorLongitude</th>\n",
       "      <th>SensorLatitude</th>\n",
       "      <th>CrowdednessCount</th>\n",
       "      <th>LonScaled</th>\n",
       "      <th>LatScaled</th>\n",
       "      <th>...</th>\n",
       "      <th>Nieuwmarkt score</th>\n",
       "      <th>Nieuwmarkt weight</th>\n",
       "      <th>Nieuwezijds Kolk score</th>\n",
       "      <th>Nieuwezijds Kolk weight</th>\n",
       "      <th>Dam score</th>\n",
       "      <th>Dam weight</th>\n",
       "      <th>Spui score</th>\n",
       "      <th>Spui weight</th>\n",
       "      <th>Centraal Station score</th>\n",
       "      <th>Centraal Station weight</th>\n",
       "    </tr>\n",
       "  </thead>\n",
       "  <tbody>\n",
       "    <tr>\n",
       "      <th>0</th>\n",
       "      <td>2018-03-11</td>\n",
       "      <td>100</td>\n",
       "      <td>6.0</td>\n",
       "      <td>1.0</td>\n",
       "      <td>GAWW-04</td>\n",
       "      <td>4.897908</td>\n",
       "      <td>52.373283</td>\n",
       "      <td>886</td>\n",
       "      <td>-0.558826</td>\n",
       "      <td>0.035969</td>\n",
       "      <td>...</td>\n",
       "      <td>0.000000</td>\n",
       "      <td>0.999994</td>\n",
       "      <td>0.000000</td>\n",
       "      <td>0.999987</td>\n",
       "      <td>102.996844</td>\n",
       "      <td>0.999969</td>\n",
       "      <td>0.000000</td>\n",
       "      <td>0.999954</td>\n",
       "      <td>472.993853</td>\n",
       "      <td>0.999987</td>\n",
       "    </tr>\n",
       "    <tr>\n",
       "      <th>1</th>\n",
       "      <td>2018-03-11</td>\n",
       "      <td>2100</td>\n",
       "      <td>6.0</td>\n",
       "      <td>1.0</td>\n",
       "      <td>GAWW-07</td>\n",
       "      <td>4.900441</td>\n",
       "      <td>52.374414</td>\n",
       "      <td>1603</td>\n",
       "      <td>1.966352</td>\n",
       "      <td>1.066966</td>\n",
       "      <td>...</td>\n",
       "      <td>346.998829</td>\n",
       "      <td>0.999997</td>\n",
       "      <td>198.995171</td>\n",
       "      <td>0.999976</td>\n",
       "      <td>1266.930956</td>\n",
       "      <td>0.999946</td>\n",
       "      <td>133.989730</td>\n",
       "      <td>0.999923</td>\n",
       "      <td>3859.981463</td>\n",
       "      <td>0.999995</td>\n",
       "    </tr>\n",
       "    <tr>\n",
       "      <th>2</th>\n",
       "      <td>2018-03-11</td>\n",
       "      <td>2100</td>\n",
       "      <td>6.0</td>\n",
       "      <td>1.0</td>\n",
       "      <td>GAWW-08</td>\n",
       "      <td>4.897193</td>\n",
       "      <td>52.371650</td>\n",
       "      <td>21</td>\n",
       "      <td>-1.271546</td>\n",
       "      <td>-1.452500</td>\n",
       "      <td>...</td>\n",
       "      <td>346.997145</td>\n",
       "      <td>0.999992</td>\n",
       "      <td>198.996668</td>\n",
       "      <td>0.999983</td>\n",
       "      <td>1266.966573</td>\n",
       "      <td>0.999974</td>\n",
       "      <td>133.995346</td>\n",
       "      <td>0.999965</td>\n",
       "      <td>3859.909232</td>\n",
       "      <td>0.999976</td>\n",
       "    </tr>\n",
       "    <tr>\n",
       "      <th>3</th>\n",
       "      <td>2018-03-11</td>\n",
       "      <td>2100</td>\n",
       "      <td>6.0</td>\n",
       "      <td>1.0</td>\n",
       "      <td>GAWW-09</td>\n",
       "      <td>4.898479</td>\n",
       "      <td>52.375040</td>\n",
       "      <td>88</td>\n",
       "      <td>0.011331</td>\n",
       "      <td>1.637575</td>\n",
       "      <td>...</td>\n",
       "      <td>346.997014</td>\n",
       "      <td>0.999991</td>\n",
       "      <td>198.997601</td>\n",
       "      <td>0.999988</td>\n",
       "      <td>1266.952991</td>\n",
       "      <td>0.999963</td>\n",
       "      <td>133.991938</td>\n",
       "      <td>0.999940</td>\n",
       "      <td>3859.978146</td>\n",
       "      <td>0.999994</td>\n",
       "    </tr>\n",
       "    <tr>\n",
       "      <th>4</th>\n",
       "      <td>2018-03-11</td>\n",
       "      <td>2100</td>\n",
       "      <td>6.0</td>\n",
       "      <td>1.0</td>\n",
       "      <td>GAWW-10</td>\n",
       "      <td>4.898808</td>\n",
       "      <td>52.372369</td>\n",
       "      <td>49</td>\n",
       "      <td>0.338729</td>\n",
       "      <td>-0.797289</td>\n",
       "      <td>...</td>\n",
       "      <td>346.998943</td>\n",
       "      <td>0.999997</td>\n",
       "      <td>198.995907</td>\n",
       "      <td>0.999979</td>\n",
       "      <td>1266.951383</td>\n",
       "      <td>0.999962</td>\n",
       "      <td>133.993174</td>\n",
       "      <td>0.999949</td>\n",
       "      <td>3859.941786</td>\n",
       "      <td>0.999985</td>\n",
       "    </tr>\n",
       "  </tbody>\n",
       "</table>\n",
       "<p>5 rows × 28 columns</p>\n",
       "</div>"
      ],
      "text/plain": [
       "        Date  Hour  weekday  is_weekend   Sensor  SensorLongitude  \\\n",
       "0 2018-03-11   100      6.0         1.0  GAWW-04         4.897908   \n",
       "1 2018-03-11  2100      6.0         1.0  GAWW-07         4.900441   \n",
       "2 2018-03-11  2100      6.0         1.0  GAWW-08         4.897193   \n",
       "3 2018-03-11  2100      6.0         1.0  GAWW-09         4.898479   \n",
       "4 2018-03-11  2100      6.0         1.0  GAWW-10         4.898808   \n",
       "\n",
       "   SensorLatitude  CrowdednessCount  LonScaled  LatScaled  ...  \\\n",
       "0       52.373283               886  -0.558826   0.035969  ...   \n",
       "1       52.374414              1603   1.966352   1.066966  ...   \n",
       "2       52.371650                21  -1.271546  -1.452500  ...   \n",
       "3       52.375040                88   0.011331   1.637575  ...   \n",
       "4       52.372369                49   0.338729  -0.797289  ...   \n",
       "\n",
       "   Nieuwmarkt score  Nieuwmarkt weight  Nieuwezijds Kolk score  \\\n",
       "0          0.000000           0.999994                0.000000   \n",
       "1        346.998829           0.999997              198.995171   \n",
       "2        346.997145           0.999992              198.996668   \n",
       "3        346.997014           0.999991              198.997601   \n",
       "4        346.998943           0.999997              198.995907   \n",
       "\n",
       "   Nieuwezijds Kolk weight    Dam score  Dam weight  Spui score  Spui weight  \\\n",
       "0                 0.999987   102.996844    0.999969    0.000000     0.999954   \n",
       "1                 0.999976  1266.930956    0.999946  133.989730     0.999923   \n",
       "2                 0.999983  1266.966573    0.999974  133.995346     0.999965   \n",
       "3                 0.999988  1266.952991    0.999963  133.991938     0.999940   \n",
       "4                 0.999979  1266.951383    0.999962  133.993174     0.999949   \n",
       "\n",
       "   Centraal Station score  Centraal Station weight  \n",
       "0              472.993853                 0.999987  \n",
       "1             3859.981463                 0.999995  \n",
       "2             3859.909232                 0.999976  \n",
       "3             3859.978146                 0.999994  \n",
       "4             3859.941786                 0.999985  \n",
       "\n",
       "[5 rows x 28 columns]"
      ]
     },
     "execution_count": 28,
     "metadata": {},
     "output_type": "execute_result"
    }
   ],
   "source": [
    "full_df = pd.read_csv(\"../../../Data_thesis/Full_Datasets/Full.csv\")\n",
    "full_df[\"Date\"] = pd.to_datetime(full_df[\"Date\"], format=\"%Y-%m-%d\")\n",
    "\n",
    "full_df.head()"
   ]
  },
  {
   "cell_type": "markdown",
   "metadata": {},
   "source": [
    "## Train/Test/Eval"
   ]
  },
  {
   "cell_type": "code",
   "execution_count": 29,
   "metadata": {},
   "outputs": [],
   "source": [
    "size = 0.8\n",
    "kf = KFold(n_splits=10, shuffle=True, random_state=42)"
   ]
  },
  {
   "cell_type": "code",
   "execution_count": 30,
   "metadata": {},
   "outputs": [],
   "source": [
    "full_df = split.clasCrowdednessCounts(full_df)"
   ]
  },
  {
   "cell_type": "code",
   "execution_count": 31,
   "metadata": {},
   "outputs": [],
   "source": [
    "x_train, y_train, x_test, y_test, x_eval, y_eval, train_dates = split.trainTestSplit(full_df, size)"
   ]
  },
  {
   "cell_type": "markdown",
   "metadata": {},
   "source": [
    "## Models"
   ]
  },
  {
   "cell_type": "markdown",
   "metadata": {},
   "source": [
    "### Baseline\n",
    "Implemented the [Sklearn Version](https://scikit-learn.org/stable/modules/generated/sklearn.dummy.DummyClassifier.html#sklearn.dummy.DummyClassifier)"
   ]
  },
  {
   "cell_type": "markdown",
   "metadata": {},
   "source": [
    "#### Training"
   ]
  },
  {
   "cell_type": "code",
   "execution_count": 32,
   "metadata": {},
   "outputs": [],
   "source": [
    "base = DummyClassifier(strategy=\"stratified\", random_state=42)"
   ]
  },
  {
   "cell_type": "code",
   "execution_count": 33,
   "metadata": {},
   "outputs": [
    {
     "name": "stdout",
     "output_type": "stream",
     "text": [
      "Mean Accuracy Score:  24.87 \n",
      "\n",
      "For label 1\n",
      "Mean Precision Score:  24.3\n",
      "Mean Recall Score:  24.0\n",
      "Mean F1 Score:  24.14 \n",
      "\n",
      "For label 2\n",
      "Mean Precision Score:  25.0\n",
      "Mean Recall Score:  25.31\n",
      "Mean F1 Score:  25.15 \n",
      "\n",
      "For label 3\n",
      "Mean Precision Score:  25.11\n",
      "Mean Recall Score:  24.81\n",
      "Mean F1 Score:  24.89 \n",
      "\n",
      "For label 4\n",
      "Mean Precision Score:  25.19\n",
      "Mean Recall Score:  25.51\n",
      "Mean F1 Score:  25.27 \n",
      "\n"
     ]
    }
   ],
   "source": [
    "labels = [1, 2, 3, 4]\n",
    "\n",
    "mean_acc = 0\n",
    "\n",
    "mean_precision = 0\n",
    "mean_recall = 0\n",
    "mean_f1_score = 0\n",
    "\n",
    "for train_index, val_index in kf.split(train_dates):\n",
    "    \n",
    "    x_train_con, y_train_con = check_X_y(X=x_train[x_train[\"Date\"].isin(train_dates[train_index])].drop(columns={\"Date\"}),\n",
    "                                        y=y_train[y_train[\"Date\"].isin(train_dates[train_index])][\"CrowdednessCount\"])\n",
    "    base.fit(x_train_con,y_train_con)\n",
    "    \n",
    "    x_val_con, y_val_con = check_X_y(X=x_train[x_train[\"Date\"].isin(train_dates[val_index])].drop(columns={\"Date\"}),\n",
    "                                    y=y_train[y_train[\"Date\"].isin(train_dates[val_index])][\"CrowdednessCount\"])\n",
    "    \n",
    "    y_pred_base = base.predict(x_val_con)\n",
    "    \n",
    "    mean_acc += accuracy_score(y_val_con, y_pred_base)\n",
    "\n",
    "    mean_precision += precision_score(y_val_con, y_pred_base, average=None)\n",
    "    mean_recall += recall_score(y_val_con, y_pred_base, average=None)\n",
    "    mean_f1_score += f1_score(y_val_con, y_pred_base, average=None)\n",
    "\n",
    "mean_acc = round(((mean_acc / 10) * 100),2)\n",
    "mean_precision = (mean_precision / 10) * 100\n",
    "mean_recall = (mean_recall / 10) * 100\n",
    "mean_f1_score = (mean_f1_score / 10) * 100\n",
    "\n",
    "print(\"Mean Accuracy Score: \", mean_acc, \"\\n\")\n",
    "\n",
    "for i in range(len(labels)):\n",
    "    print(\"For label {0}\".format(labels[i]))\n",
    "    print(\"Mean Precision Score: \", round(mean_precision[i], 2))\n",
    "    print(\"Mean Recall Score: \", round(mean_recall[i], 2))\n",
    "    print(\"Mean F1 Score: \", round(mean_f1_score[i], 2), \"\\n\")"
   ]
  },
  {
   "cell_type": "markdown",
   "metadata": {},
   "source": [
    "#### Test"
   ]
  },
  {
   "cell_type": "code",
   "execution_count": 34,
   "metadata": {},
   "outputs": [
    {
     "name": "stdout",
     "output_type": "stream",
     "text": [
      "Accuracy Score:  0.24746376811594203\n",
      "              precision    recall  f1-score   support\n",
      "\n",
      "           1       0.24      0.24      0.24      2767\n",
      "           2       0.25      0.25      0.25      2781\n",
      "           3       0.24      0.25      0.25      2662\n",
      "           4       0.26      0.25      0.25      2830\n",
      "\n",
      "   micro avg       0.25      0.25      0.25     11040\n",
      "   macro avg       0.25      0.25      0.25     11040\n",
      "weighted avg       0.25      0.25      0.25     11040\n",
      "\n"
     ]
    },
    {
     "data": {
      "image/png": "[encoded data removed]",
      "text/plain": [
       "<Figure size 432x288 with 1 Axes>"
      ]
     },
     "metadata": {
      "needs_background": "light"
     },
     "output_type": "display_data"
    }
   ],
   "source": [
    "y_pred_test_base = base.predict(x_test)\n",
    "print(\"Accuracy Score: \", accuracy_score(y_test, y_pred_test_base))\n",
    "print(classification_report(y_test, y_pred_test_base))\n",
    "\n",
    "visualizer = ClassPredictionError(\n",
    "    base\n",
    ")\n",
    "\n",
    "visualizer.fit(x_train.drop(columns={\"Date\"}), y_train[\"CrowdednessCount\"])\n",
    "visualizer.score(x_test, y_test)\n",
    "g = visualizer.poof()"
   ]
  },
  {
   "cell_type": "markdown",
   "metadata": {},
   "source": [
    "### Random Forrest Classifier \n",
    "Implemented the [Sklearn Version](https://scikit-learn.org/stable/modules/generated/sklearn.ensemble.RandomForestClassifier.html#sklearn.ensemble.RandomForestClassifier)"
   ]
  },
  {
   "cell_type": "markdown",
   "metadata": {},
   "source": [
    "#### Training"
   ]
  },
  {
   "cell_type": "code",
   "execution_count": 35,
   "metadata": {},
   "outputs": [],
   "source": [
    "rfc = RandomForestClassifier(bootstrap=True, class_weight=None, criterion='entropy',\n",
    "            max_depth=None, max_features='auto', max_leaf_nodes=None,\n",
    "            min_impurity_decrease=0.0, min_impurity_split=None,\n",
    "            min_samples_leaf=1, min_samples_split=2,\n",
    "            min_weight_fraction_leaf=0.0, n_estimators=325, n_jobs=2,\n",
    "            oob_score=False, random_state=None, verbose=0,\n",
    "            warm_start=False)"
   ]
  },
  {
   "cell_type": "code",
   "execution_count": 36,
   "metadata": {},
   "outputs": [
    {
     "name": "stdout",
     "output_type": "stream",
     "text": [
      "Mean Accuracy Score:  87.1 \n",
      "\n",
      "For label 1\n",
      "Mean Precision Score:  87.73\n",
      "Mean Recall Score:  83.67\n",
      "Mean F1 Score:  85.64 \n",
      "\n",
      "For label 2\n",
      "Mean Precision Score:  83.69\n",
      "Mean Recall Score:  82.84\n",
      "Mean F1 Score:  83.25 \n",
      "\n",
      "For label 3\n",
      "Mean Precision Score:  87.99\n",
      "Mean Recall Score:  88.16\n",
      "Mean F1 Score:  88.06 \n",
      "\n",
      "For label 4\n",
      "Mean Precision Score:  88.88\n",
      "Mean Recall Score:  93.71\n",
      "Mean F1 Score:  91.21 \n",
      "\n"
     ]
    }
   ],
   "source": [
    "labels = [1, 2, 3, 4]\n",
    "\n",
    "mean_acc = 0\n",
    "\n",
    "mean_precision = 0\n",
    "mean_recall = 0\n",
    "mean_f1_score = 0\n",
    "\n",
    "for train_index, val_index in kf.split(train_dates):\n",
    "    \n",
    "    x_train_con, y_train_con = check_X_y(X=x_train[x_train[\"Date\"].isin(train_dates[train_index])].drop(columns={\"Date\"}),\n",
    "                                        y=y_train[y_train[\"Date\"].isin(train_dates[train_index])][\"CrowdednessCount\"])\n",
    "    rfc.fit(x_train_con,y_train_con)\n",
    "    \n",
    "    x_val_con, y_val_con = check_X_y(X=x_train[x_train[\"Date\"].isin(train_dates[val_index])].drop(columns={\"Date\"}),\n",
    "                                    y=y_train[y_train[\"Date\"].isin(train_dates[val_index])][\"CrowdednessCount\"])\n",
    "    \n",
    "    y_pred_base = rfc.predict(x_val_con)\n",
    "    \n",
    "    mean_acc += accuracy_score(y_val_con, y_pred_base)\n",
    "\n",
    "    mean_precision += precision_score(y_val_con, y_pred_base, average=None)\n",
    "    mean_recall += recall_score(y_val_con, y_pred_base, average=None)\n",
    "    mean_f1_score += f1_score(y_val_con, y_pred_base, average=None)\n",
    "\n",
    "mean_acc = round(((mean_acc / 10) * 100),2)\n",
    "mean_precision = (mean_precision / 10) * 100\n",
    "mean_recall = (mean_recall / 10) * 100\n",
    "mean_f1_score = (mean_f1_score / 10) * 100\n",
    "\n",
    "print(\"Mean Accuracy Score: \", mean_acc, \"\\n\")\n",
    "\n",
    "for i in range(len(labels)):\n",
    "    print(\"For label {0}\".format(labels[i]))\n",
    "    print(\"Mean Precision Score: \", round(mean_precision[i], 2))\n",
    "    print(\"Mean Recall Score: \", round(mean_recall[i], 2))\n",
    "    print(\"Mean F1 Score: \", round(mean_f1_score[i], 2), \"\\n\")"
   ]
  },
  {
   "cell_type": "markdown",
   "metadata": {},
   "source": [
    "#### Hyperparameter Tuning"
   ]
  },
  {
   "cell_type": "code",
   "execution_count": 14,
   "metadata": {},
   "outputs": [],
   "source": [
    "rfc = RandomForestClassifier()\n",
    "\n",
    "n_estimators = [325, 350, 375]\n",
    "criterion = [\"gini\", \"entropy\"]\n",
    "max_features = [\"log2\", \"auto\", None]\n",
    "bootstrap = [True]\n",
    "oob_score = [True, False]\n",
    "class_weight = [\"balanced\", \"balanced_subsample\", None]\n",
    "\n",
    "params = {\"n_estimators\": n_estimators,\n",
    "         \"criterion\": criterion,\n",
    "         \"max_features\": max_features,\n",
    "         \"bootstrap\": bootstrap,\n",
    "         \"class_weight\": class_weight}\n",
    "\n",
    "scores = [\"accuracy\", \"precision_weighted\", \"recall_weighted\", \"f1_weighted\"]\n",
    "\n",
    "hyp = RandomizedSearchCV(estimator=rfc, param_distributions=params, n_iter=10, scoring=scores, n_jobs=-1, cv=10,\n",
    "                        random_state=42, refit=\"f1_weighted\")\n",
    "\n",
    "rfc_model = hyp.fit(x_eval, y_eval)"
   ]
  },
  {
   "cell_type": "code",
   "execution_count": 15,
   "metadata": {},
   "outputs": [
    {
     "name": "stdout",
     "output_type": "stream",
     "text": [
      "Best estimator:  RandomForestClassifier(bootstrap=True, class_weight=None, criterion='entropy',\n",
      "            max_depth=None, max_features='auto', max_leaf_nodes=None,\n",
      "            min_impurity_decrease=0.0, min_impurity_split=None,\n",
      "            min_samples_leaf=1, min_samples_split=2,\n",
      "            min_weight_fraction_leaf=0.0, n_estimators=325, n_jobs=None,\n",
      "            oob_score=False, random_state=None, verbose=0,\n",
      "            warm_start=False)\n",
      "Best F1 score:  0.8002185258582875\n"
     ]
    }
   ],
   "source": [
    "print(\"Best estimator: \", rfc_model.best_estimator_)\n",
    "print(\"Best F1 score: \", rfc_model.best_score_)"
   ]
  },
  {
   "cell_type": "markdown",
   "metadata": {},
   "source": [
    "#### Test"
   ]
  },
  {
   "cell_type": "code",
   "execution_count": 37,
   "metadata": {},
   "outputs": [
    {
     "name": "stdout",
     "output_type": "stream",
     "text": [
      "Accuracy Score:  0.8735507246376811\n",
      "              precision    recall  f1-score   support\n",
      "\n",
      "           1       0.88      0.82      0.85      2767\n",
      "           2       0.81      0.84      0.82      2781\n",
      "           3       0.89      0.89      0.89      2662\n",
      "           4       0.91      0.95      0.93      2830\n",
      "\n",
      "   micro avg       0.87      0.87      0.87     11040\n",
      "   macro avg       0.87      0.87      0.87     11040\n",
      "weighted avg       0.87      0.87      0.87     11040\n",
      "\n"
     ]
    },
    {
     "data": {
      "image/png": "[encoded data removed]",
      "text/plain": [
       "<Figure size 432x288 with 1 Axes>"
      ]
     },
     "metadata": {
      "needs_background": "light"
     },
     "output_type": "display_data"
    }
   ],
   "source": [
    "y_pred_test_rfc = rfc.predict(x_test)\n",
    "\n",
    "print(\"Accuracy Score: \", accuracy_score(y_test, y_pred_test_rfc))\n",
    "print(classification_report(y_test, y_pred_test_rfc))\n",
    "\n",
    "visualizer = ClassPredictionError(\n",
    "    rfc\n",
    ")\n",
    "\n",
    "visualizer.fit(x_train.drop(columns={\"Date\"}), y_train[\"CrowdednessCount\"])\n",
    "visualizer.score(x_test, y_test)\n",
    "g = visualizer.poof()"
   ]
  },
  {
   "cell_type": "markdown",
   "metadata": {},
   "source": [
    "#### Save Model to File"
   ]
  },
  {
   "cell_type": "code",
   "execution_count": 50,
   "metadata": {},
   "outputs": [],
   "source": [
    "filename = \"../../../Data_thesis/Models/rfc_model.sav\"\n",
    "\n",
    "pickle.dump(rfc, open(filename, 'wb'))"
   ]
  },
  {
   "cell_type": "markdown",
   "metadata": {},
   "source": [
    "### XGBoost \n",
    "Implement [XGBoost](https://xgboost.readthedocs.io/en/latest/python/python_intro.html)"
   ]
  },
  {
   "cell_type": "markdown",
   "metadata": {},
   "source": [
    "#### Training"
   ]
  },
  {
   "cell_type": "code",
   "execution_count": 47,
   "metadata": {},
   "outputs": [],
   "source": [
    "xgbc = xgb.XGBClassifier(base_score=0.5, booster='gbtree', colsample_bylevel=1,\n",
    "       colsample_bytree=1, gamma=0, learning_rate=0.05, max_delta_step=0,\n",
    "       max_depth=3, min_child_weight=1, missing=None, n_estimators=100,\n",
    "       n_jobs=2, nthread=None, objective='multi:softprob', random_state=42,\n",
    "       reg_alpha=0, reg_lambda=1, scale_pos_weight=1, seed=None,\n",
    "       silent=True, subsample=1)"
   ]
  },
  {
   "cell_type": "code",
   "execution_count": 48,
   "metadata": {},
   "outputs": [
    {
     "name": "stdout",
     "output_type": "stream",
     "text": [
      "Mean Accuracy Score:  76.35 \n",
      "\n",
      "For label 1\n",
      "Mean Precision Score:  82.36\n",
      "Mean Recall Score:  76.65\n",
      "Mean F1 Score:  79.4 \n",
      "\n",
      "For label 2\n",
      "Mean Precision Score:  72.83\n",
      "Mean Recall Score:  66.74\n",
      "Mean F1 Score:  69.63 \n",
      "\n",
      "For label 3\n",
      "Mean Precision Score:  75.3\n",
      "Mean Recall Score:  70.4\n",
      "Mean F1 Score:  72.73 \n",
      "\n",
      "For label 4\n",
      "Mean Precision Score:  75.28\n",
      "Mean Recall Score:  91.99\n",
      "Mean F1 Score:  82.75 \n",
      "\n"
     ]
    }
   ],
   "source": [
    "labels = [1, 2, 3, 4]\n",
    "\n",
    "mean_acc = 0\n",
    "\n",
    "mean_precision = 0\n",
    "mean_recall = 0\n",
    "mean_f1_score = 0\n",
    "\n",
    "for train_index, val_index in kf.split(train_dates):\n",
    "    \n",
    "    xgbc.fit(x_train[x_train[\"Date\"].isin(train_dates[train_index])].drop(columns={\"Date\"}),\n",
    "            y_train[y_train[\"Date\"].isin(train_dates[train_index])][\"CrowdednessCount\"])\n",
    "    \n",
    "    y_pred_base = xgbc.predict(x_train[x_train[\"Date\"].isin(train_dates[val_index])].drop(columns={\"Date\"}))\n",
    "    \n",
    "    mean_acc += accuracy_score(y_train[y_train[\"Date\"].isin(train_dates[val_index])][\"CrowdednessCount\"], y_pred_base)\n",
    "\n",
    "    mean_precision += precision_score(y_train[y_train[\"Date\"].isin(train_dates[val_index])][\"CrowdednessCount\"], y_pred_base, average=None)\n",
    "    mean_recall += recall_score(y_train[y_train[\"Date\"].isin(train_dates[val_index])][\"CrowdednessCount\"], y_pred_base, average=None)\n",
    "    mean_f1_score += f1_score(y_train[y_train[\"Date\"].isin(train_dates[val_index])][\"CrowdednessCount\"], y_pred_base, average=None)\n",
    "\n",
    "mean_acc = round(((mean_acc / 10) * 100),2)\n",
    "mean_precision = (mean_precision / 10) * 100\n",
    "mean_recall = (mean_recall / 10) * 100\n",
    "mean_f1_score = (mean_f1_score / 10) * 100\n",
    "\n",
    "print(\"Mean Accuracy Score: \", mean_acc, \"\\n\")\n",
    "\n",
    "for i in range(len(labels)):\n",
    "    print(\"For label {0}\".format(labels[i]))\n",
    "    print(\"Mean Precision Score: \", round(mean_precision[i], 2))\n",
    "    print(\"Mean Recall Score: \", round(mean_recall[i], 2))\n",
    "    print(\"Mean F1 Score: \", round(mean_f1_score[i], 2), \"\\n\")"
   ]
  },
  {
   "cell_type": "markdown",
   "metadata": {},
   "source": [
    "#### Hyperparameter Tuning"
   ]
  },
  {
   "cell_type": "code",
   "execution_count": 45,
   "metadata": {},
   "outputs": [],
   "source": [
    "xgbc = xgb.XGBClassifier()\n",
    "\n",
    "learning_rate = [0.05, 0.1, 0.25, 0.5]\n",
    "n_estimators = [100, 150, 200, 300, 500]\n",
    "booster = [\"gbtree\"]\n",
    "objective = [\"multi:softmax\", \"multi:softprob\"]\n",
    "\n",
    "params = {\"learning_rate\": learning_rate,\n",
    "         \"n_estimators\": n_estimators,\n",
    "         \"booster\": booster}\n",
    "\n",
    "scores = [\"accuracy\", \"precision_weighted\", \"recall_weighted\", \"f1_weighted\"]\n",
    "\n",
    "hyp = RandomizedSearchCV(estimator=xgbc, param_distributions=params, n_iter=10, scoring=scores, n_jobs=2, cv=10,\n",
    "                        random_state=42, refit=\"f1_weighted\")\n",
    "\n",
    "xgbc_model = hyp.fit(x_eval, y_eval)"
   ]
  },
  {
   "cell_type": "code",
   "execution_count": 46,
   "metadata": {},
   "outputs": [
    {
     "name": "stdout",
     "output_type": "stream",
     "text": [
      "Best estimator:  XGBClassifier(base_score=0.5, booster='gbtree', colsample_bylevel=1,\n",
      "       colsample_bytree=1, gamma=0, learning_rate=0.05, max_delta_step=0,\n",
      "       max_depth=3, min_child_weight=1, missing=None, n_estimators=100,\n",
      "       n_jobs=1, nthread=None, objective='multi:softprob', random_state=0,\n",
      "       reg_alpha=0, reg_lambda=1, scale_pos_weight=1, seed=None,\n",
      "       silent=True, subsample=1)\n",
      "Best F1 score:  0.6994682813509744\n"
     ]
    }
   ],
   "source": [
    "print(\"Best estimator: \", xgbc_model.best_estimator_)\n",
    "print(\"Best F1 score: \", xgbc_model.best_score_)"
   ]
  },
  {
   "cell_type": "markdown",
   "metadata": {},
   "source": [
    "#### Test"
   ]
  },
  {
   "cell_type": "code",
   "execution_count": 49,
   "metadata": {},
   "outputs": [
    {
     "name": "stdout",
     "output_type": "stream",
     "text": [
      "Accuracy Score:  0.7510869565217392\n",
      "              precision    recall  f1-score   support\n",
      "\n",
      "           1       0.81      0.75      0.78      2767\n",
      "           2       0.70      0.63      0.66      2781\n",
      "           3       0.73      0.72      0.72      2662\n",
      "           4       0.76      0.91      0.83      2830\n",
      "\n",
      "   micro avg       0.75      0.75      0.75     11040\n",
      "   macro avg       0.75      0.75      0.75     11040\n",
      "weighted avg       0.75      0.75      0.75     11040\n",
      "\n"
     ]
    },
    {
     "data": {
      "image/png": "[encoded data removed]",
      "text/plain": [
       "<Figure size 432x288 with 1 Axes>"
      ]
     },
     "metadata": {
      "needs_background": "light"
     },
     "output_type": "display_data"
    }
   ],
   "source": [
    "y_pred_test_xgbc = xgbc.predict(x_test)\n",
    "\n",
    "print(\"Accuracy Score: \", accuracy_score(y_test, y_pred_test_xgbc))\n",
    "print(classification_report(y_test, y_pred_test_xgbc))\n",
    "\n",
    "visualizer = ClassPredictionError(\n",
    "    xgbc\n",
    ")\n",
    "\n",
    "visualizer.fit(x_train.drop(columns={\"Date\"}), y_train[\"CrowdednessCount\"])\n",
    "visualizer.score(x_test, y_test)\n",
    "g = visualizer.poof()"
   ]
  },
  {
   "cell_type": "markdown",
   "metadata": {},
   "source": [
    "#### Save Model to File"
   ]
  },
  {
   "cell_type": "code",
   "execution_count": 53,
   "metadata": {},
   "outputs": [],
   "source": [
    "filename = \"../../../Data_thesis/Models/xgbc_model.sav\"\n",
    "\n",
    "pickle.dump(xgb, open(filename, 'wb'))"
   ]
  }
 ],
 "metadata": {
  "kernelspec": {
   "display_name": "Python 3",
   "language": "python",
   "name": "python3"
  },
  "language_info": {
   "codemirror_mode": {
    "name": "ipython",
    "version": 3
   },
   "file_extension": ".py",
   "mimetype": "text/x-python",
   "name": "python",
   "nbconvert_exporter": "python",
   "pygments_lexer": "ipython3",
   "version": "3.7.1"
  }
 },
 "nbformat": 4,
 "nbformat_minor": 2
}
