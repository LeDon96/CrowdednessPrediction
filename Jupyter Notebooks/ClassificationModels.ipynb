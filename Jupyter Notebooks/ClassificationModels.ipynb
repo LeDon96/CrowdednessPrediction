{
 "cells": [
  {
   "cell_type": "markdown",
   "metadata": {},
   "source": [
    "# Classification Models"
   ]
  },
  {
   "cell_type": "markdown",
   "metadata": {},
   "source": [
    "## Imports"
   ]
  },
  {
   "cell_type": "code",
   "execution_count": 1,
   "metadata": {},
   "outputs": [
    {
     "name": "stdout",
     "output_type": "stream",
     "text": [
      "Importing Jupyter notebook from TrainTestEvalSplit.ipynb\n"
     ]
    }
   ],
   "source": [
    "import pandas as pd\n",
    "import numpy as np\n",
    "import matplotlib.pyplot as plt\n",
    "%matplotlib inline\n",
    "import nbimporter\n",
    "\n",
    "import TrainTestEvalSplit as split\n",
    "\n",
    "from sklearn.dummy import DummyClassifier\n",
    "from sklearn.ensemble import RandomForestClassifier\n",
    "import xgboost as xgb\n",
    "\n",
    "#Classification Metrics\n",
    "from sklearn.metrics import precision_score\n",
    "from sklearn.metrics import recall_score\n",
    "from sklearn.metrics import accuracy_score\n",
    "from sklearn.metrics import f1_score\n",
    "from sklearn.metrics import classification_report\n",
    "\n",
    "from yellowbrick.classifier import ClassPredictionError\n",
    "\n",
    "import pickle\n",
    "\n",
    "from sklearn.model_selection import KFold\n",
    "from sklearn.utils import check_X_y\n",
    "from sklearn.model_selection import RandomizedSearchCV\n",
    "\n",
    "from sklearn.feature_selection import SelectFromModel"
   ]
  },
  {
   "cell_type": "markdown",
   "metadata": {},
   "source": [
    "## Import File"
   ]
  },
  {
   "cell_type": "code",
   "execution_count": 2,
   "metadata": {},
   "outputs": [
    {
     "data": {
      "text/html": [
       "<div>\n",
       "<style scoped>\n",
       "    .dataframe tbody tr th:only-of-type {\n",
       "        vertical-align: middle;\n",
       "    }\n",
       "\n",
       "    .dataframe tbody tr th {\n",
       "        vertical-align: top;\n",
       "    }\n",
       "\n",
       "    .dataframe thead th {\n",
       "        text-align: right;\n",
       "    }\n",
       "</style>\n",
       "<table border=\"1\" class=\"dataframe\">\n",
       "  <thead>\n",
       "    <tr style=\"text-align: right;\">\n",
       "      <th></th>\n",
       "      <th>Date</th>\n",
       "      <th>Hour</th>\n",
       "      <th>Nieuwmarkt Lat</th>\n",
       "      <th>Nieuwmarkt Lon</th>\n",
       "      <th>Nieuwezijds Kolk Lat</th>\n",
       "      <th>Nieuwezijds Kolk Lon</th>\n",
       "      <th>Dam Lat</th>\n",
       "      <th>Dam Lon</th>\n",
       "      <th>Spui Lat</th>\n",
       "      <th>Spui Lon</th>\n",
       "      <th>...</th>\n",
       "      <th>Nieuwmarkt score</th>\n",
       "      <th>Nieuwmarkt weight</th>\n",
       "      <th>Nieuwezijds Kolk score</th>\n",
       "      <th>Nieuwezijds Kolk weight</th>\n",
       "      <th>Dam score</th>\n",
       "      <th>Dam weight</th>\n",
       "      <th>Spui score</th>\n",
       "      <th>Spui weight</th>\n",
       "      <th>Centraal Station score</th>\n",
       "      <th>Centraal Station weight</th>\n",
       "    </tr>\n",
       "  </thead>\n",
       "  <tbody>\n",
       "    <tr>\n",
       "      <th>0</th>\n",
       "      <td>2018-03-11</td>\n",
       "      <td>100</td>\n",
       "      <td>52.371942</td>\n",
       "      <td>4.901239</td>\n",
       "      <td>52.376288</td>\n",
       "      <td>4.893731</td>\n",
       "      <td>52.373127</td>\n",
       "      <td>4.89008</td>\n",
       "      <td>52.369097</td>\n",
       "      <td>4.889259</td>\n",
       "      <td>...</td>\n",
       "      <td>0.000000</td>\n",
       "      <td>0.882141</td>\n",
       "      <td>0.000000</td>\n",
       "      <td>0.587521</td>\n",
       "      <td>-7.303229</td>\n",
       "      <td>-0.070905</td>\n",
       "      <td>-0.000000</td>\n",
       "      <td>-0.681885</td>\n",
       "      <td>163.979432</td>\n",
       "      <td>0.346680</td>\n",
       "    </tr>\n",
       "    <tr>\n",
       "      <th>1</th>\n",
       "      <td>2018-03-11</td>\n",
       "      <td>2100</td>\n",
       "      <td>52.371942</td>\n",
       "      <td>4.901239</td>\n",
       "      <td>52.376288</td>\n",
       "      <td>4.893731</td>\n",
       "      <td>52.373127</td>\n",
       "      <td>4.89008</td>\n",
       "      <td>52.369097</td>\n",
       "      <td>4.889259</td>\n",
       "      <td>...</td>\n",
       "      <td>352.242355</td>\n",
       "      <td>1.015108</td>\n",
       "      <td>83.818351</td>\n",
       "      <td>0.421198</td>\n",
       "      <td>-448.251594</td>\n",
       "      <td>-0.353790</td>\n",
       "      <td>-130.349893</td>\n",
       "      <td>-0.972760</td>\n",
       "      <td>1668.972914</td>\n",
       "      <td>0.432376</td>\n",
       "    </tr>\n",
       "    <tr>\n",
       "      <th>2</th>\n",
       "      <td>2018-03-11</td>\n",
       "      <td>2100</td>\n",
       "      <td>52.371942</td>\n",
       "      <td>4.901239</td>\n",
       "      <td>52.376288</td>\n",
       "      <td>4.893731</td>\n",
       "      <td>52.373127</td>\n",
       "      <td>4.89008</td>\n",
       "      <td>52.369097</td>\n",
       "      <td>4.889259</td>\n",
       "      <td>...</td>\n",
       "      <td>384.307873</td>\n",
       "      <td>1.107515</td>\n",
       "      <td>8.440208</td>\n",
       "      <td>0.042413</td>\n",
       "      <td>-1899.118958</td>\n",
       "      <td>-1.498910</td>\n",
       "      <td>-352.192566</td>\n",
       "      <td>-2.628303</td>\n",
       "      <td>3994.026550</td>\n",
       "      <td>1.034722</td>\n",
       "    </tr>\n",
       "    <tr>\n",
       "      <th>3</th>\n",
       "      <td>2018-03-11</td>\n",
       "      <td>2200</td>\n",
       "      <td>52.371942</td>\n",
       "      <td>4.901239</td>\n",
       "      <td>52.376288</td>\n",
       "      <td>4.893731</td>\n",
       "      <td>52.373127</td>\n",
       "      <td>4.89008</td>\n",
       "      <td>52.369097</td>\n",
       "      <td>4.889259</td>\n",
       "      <td>...</td>\n",
       "      <td>342.287655</td>\n",
       "      <td>1.049962</td>\n",
       "      <td>42.314730</td>\n",
       "      <td>0.253382</td>\n",
       "      <td>-1231.740805</td>\n",
       "      <td>-1.207589</td>\n",
       "      <td>-279.710090</td>\n",
       "      <td>-2.350505</td>\n",
       "      <td>3446.831541</td>\n",
       "      <td>1.043862</td>\n",
       "    </tr>\n",
       "    <tr>\n",
       "      <th>4</th>\n",
       "      <td>2018-03-11</td>\n",
       "      <td>2200</td>\n",
       "      <td>52.371942</td>\n",
       "      <td>4.901239</td>\n",
       "      <td>52.376288</td>\n",
       "      <td>4.893731</td>\n",
       "      <td>52.373127</td>\n",
       "      <td>4.89008</td>\n",
       "      <td>52.369097</td>\n",
       "      <td>4.889259</td>\n",
       "      <td>...</td>\n",
       "      <td>343.524310</td>\n",
       "      <td>1.053756</td>\n",
       "      <td>73.166332</td>\n",
       "      <td>0.438122</td>\n",
       "      <td>-730.059884</td>\n",
       "      <td>-0.715745</td>\n",
       "      <td>-196.552679</td>\n",
       "      <td>-1.651703</td>\n",
       "      <td>2770.301154</td>\n",
       "      <td>0.838977</td>\n",
       "    </tr>\n",
       "  </tbody>\n",
       "</table>\n",
       "<p>5 rows × 38 columns</p>\n",
       "</div>"
      ],
      "text/plain": [
       "        Date  Hour  Nieuwmarkt Lat  Nieuwmarkt Lon  Nieuwezijds Kolk Lat  \\\n",
       "0 2018-03-11   100       52.371942        4.901239             52.376288   \n",
       "1 2018-03-11  2100       52.371942        4.901239             52.376288   \n",
       "2 2018-03-11  2100       52.371942        4.901239             52.376288   \n",
       "3 2018-03-11  2200       52.371942        4.901239             52.376288   \n",
       "4 2018-03-11  2200       52.371942        4.901239             52.376288   \n",
       "\n",
       "   Nieuwezijds Kolk Lon    Dam Lat  Dam Lon   Spui Lat  Spui Lon  ...  \\\n",
       "0              4.893731  52.373127  4.89008  52.369097  4.889259  ...   \n",
       "1              4.893731  52.373127  4.89008  52.369097  4.889259  ...   \n",
       "2              4.893731  52.373127  4.89008  52.369097  4.889259  ...   \n",
       "3              4.893731  52.373127  4.89008  52.369097  4.889259  ...   \n",
       "4              4.893731  52.373127  4.89008  52.369097  4.889259  ...   \n",
       "\n",
       "   Nieuwmarkt score  Nieuwmarkt weight  Nieuwezijds Kolk score  \\\n",
       "0          0.000000           0.882141                0.000000   \n",
       "1        352.242355           1.015108               83.818351   \n",
       "2        384.307873           1.107515                8.440208   \n",
       "3        342.287655           1.049962               42.314730   \n",
       "4        343.524310           1.053756               73.166332   \n",
       "\n",
       "   Nieuwezijds Kolk weight    Dam score  Dam weight  Spui score  Spui weight  \\\n",
       "0                 0.587521    -7.303229   -0.070905   -0.000000    -0.681885   \n",
       "1                 0.421198  -448.251594   -0.353790 -130.349893    -0.972760   \n",
       "2                 0.042413 -1899.118958   -1.498910 -352.192566    -2.628303   \n",
       "3                 0.253382 -1231.740805   -1.207589 -279.710090    -2.350505   \n",
       "4                 0.438122  -730.059884   -0.715745 -196.552679    -1.651703   \n",
       "\n",
       "   Centraal Station score  Centraal Station weight  \n",
       "0              163.979432                 0.346680  \n",
       "1             1668.972914                 0.432376  \n",
       "2             3994.026550                 1.034722  \n",
       "3             3446.831541                 1.043862  \n",
       "4             2770.301154                 0.838977  \n",
       "\n",
       "[5 rows x 38 columns]"
      ]
     },
     "execution_count": 2,
     "metadata": {},
     "output_type": "execute_result"
    }
   ],
   "source": [
    "full_df = pd.read_csv(\"../../../Data_thesis/Full_Datasets/Full.csv\")\n",
    "full_df[\"Date\"] = pd.to_datetime(full_df[\"Date\"], format=\"%Y-%m-%d\")\n",
    "\n",
    "full_df.head()"
   ]
  },
  {
   "cell_type": "markdown",
   "metadata": {},
   "source": [
    "## Train/Test/Eval"
   ]
  },
  {
   "cell_type": "code",
   "execution_count": 12,
   "metadata": {},
   "outputs": [],
   "source": [
    "size = 0.8\n",
    "kf = KFold(n_splits=2, shuffle=True, random_state=42)\n",
    "stations = [\"Nieuwmarkt\", \"Nieuwezijds Kolk\", \"Dam\", \"Spui\", \"Centraal Station\"]"
   ]
  },
  {
   "cell_type": "code",
   "execution_count": 4,
   "metadata": {},
   "outputs": [],
   "source": [
    "full_df = split.clasCrowdednessCounts(full_df)"
   ]
  },
  {
   "cell_type": "code",
   "execution_count": 5,
   "metadata": {},
   "outputs": [],
   "source": [
    "x_train, y_train, x_eval, y_eval, train_dates = split.trainTestSplit(full_df, size, stations)"
   ]
  },
  {
   "cell_type": "markdown",
   "metadata": {},
   "source": [
    "## Feature Selection"
   ]
  },
  {
   "cell_type": "code",
   "execution_count": 30,
   "metadata": {},
   "outputs": [
    {
     "name": "stdout",
     "output_type": "stream",
     "text": [
      "Index(['hour_sin', 'hour_cos', 'Nieuwmarkt score', 'Nieuwmarkt weight',\n",
      "       'Nieuwezijds Kolk score', 'Dam score', 'Centraal Station score'],\n",
      "      dtype='object')\n"
     ]
    }
   ],
   "source": [
    "X=x_train.drop(columns={\"Date\"})\n",
    "y=y_train[\"CrowdednessCount\"]\n",
    "\n",
    "feature_model = SelectFromModel(RandomForestClassifier(n_estimators=250, random_state=42))\n",
    "feature_model.fit(X, y)\n",
    "\n",
    "selected_feat= X.columns[(feature_model.get_support())]\n",
    "\n",
    "print(selected_feat)"
   ]
  },
  {
   "cell_type": "markdown",
   "metadata": {},
   "source": [
    "## Models"
   ]
  },
  {
   "cell_type": "markdown",
   "metadata": {},
   "source": [
    "### Baseline\n",
    "Implemented the [Sklearn Version](https://scikit-learn.org/stable/modules/generated/sklearn.dummy.DummyClassifier.html#sklearn.dummy.DummyClassifier)"
   ]
  },
  {
   "cell_type": "markdown",
   "metadata": {},
   "source": [
    "#### Training"
   ]
  },
  {
   "cell_type": "code",
   "execution_count": 11,
   "metadata": {},
   "outputs": [],
   "source": [
    "base = DummyClassifier(strategy=\"stratified\", random_state=42)"
   ]
  },
  {
   "cell_type": "code",
   "execution_count": 12,
   "metadata": {},
   "outputs": [
    {
     "name": "stdout",
     "output_type": "stream",
     "text": [
      "Mean Accuracy Score:  24.7 \n",
      "\n",
      "For label 1\n",
      "Mean Precision Score:  24.67\n",
      "Mean Recall Score:  24.39\n",
      "Mean F1 Score:  24.52 \n",
      "\n",
      "For label 2\n",
      "Mean Precision Score:  24.76\n",
      "Mean Recall Score:  24.73\n",
      "Mean F1 Score:  24.72 \n",
      "\n",
      "For label 3\n",
      "Mean Precision Score:  24.86\n",
      "Mean Recall Score:  24.71\n",
      "Mean F1 Score:  24.74 \n",
      "\n",
      "For label 4\n",
      "Mean Precision Score:  24.65\n",
      "Mean Recall Score:  25.14\n",
      "Mean F1 Score:  24.77 \n",
      "\n"
     ]
    }
   ],
   "source": [
    "labels = [1, 2, 3, 4]\n",
    "\n",
    "mean_acc = 0\n",
    "\n",
    "mean_precision = 0\n",
    "mean_recall = 0\n",
    "mean_f1_score = 0\n",
    "\n",
    "for train_index, test_index in kf.split(train_dates):\n",
    "\n",
    "    x = x_train[x_train[\"Date\"].isin(train_dates[train_index])].drop(columns={\"Date\"})\n",
    "    y = y_train[y_train[\"Date\"].isin(train_dates[train_index])][\"CrowdednessCount\"]\n",
    "    \n",
    "    base.fit(x, y)\n",
    "\n",
    "    x_test = x_train[x_train[\"Date\"].isin(train_dates[test_index])].drop(columns={\"Date\"})\n",
    "    y_test = y_train[y_train[\"Date\"].isin(train_dates[test_index])][\"CrowdednessCount\"]\n",
    "    \n",
    "    y_pred_base = base.predict(x_test)\n",
    "    \n",
    "    mean_acc += accuracy_score(y_test, y_pred_base)\n",
    "\n",
    "    mean_precision += precision_score(y_test, y_pred_base, average=None)\n",
    "    mean_recall += recall_score(y_test, y_pred_base, average=None)\n",
    "    mean_f1_score += f1_score(y_test, y_pred_base, average=None)\n",
    "\n",
    "mean_acc = round(((mean_acc / 10) * 100),2)\n",
    "mean_precision = (mean_precision / 10) * 100\n",
    "mean_recall = (mean_recall / 10) * 100\n",
    "mean_f1_score = (mean_f1_score / 10) * 100\n",
    "\n",
    "print(\"Mean Accuracy Score: \", mean_acc, \"\\n\")\n",
    "\n",
    "for i in range(len(labels)):\n",
    "    print(\"For label {0}\".format(labels[i]))\n",
    "    print(\"Mean Precision Score: \", round(mean_precision[i], 2))\n",
    "    print(\"Mean Recall Score: \", round(mean_recall[i], 2))\n",
    "    print(\"Mean F1 Score: \", round(mean_f1_score[i], 2), \"\\n\")"
   ]
  },
  {
   "cell_type": "markdown",
   "metadata": {},
   "source": [
    "#### Test"
   ]
  },
  {
   "cell_type": "code",
   "execution_count": 13,
   "metadata": {},
   "outputs": [
    {
     "name": "stdout",
     "output_type": "stream",
     "text": [
      "Accuracy Score:  0.24675498461126724\n",
      "              precision    recall  f1-score   support\n",
      "\n",
      "           1       0.26      0.24      0.25      3963\n",
      "           2       0.25      0.25      0.25      3724\n",
      "           3       0.24      0.25      0.25      3623\n",
      "           4       0.23      0.24      0.24      3636\n",
      "\n",
      "   micro avg       0.25      0.25      0.25     14946\n",
      "   macro avg       0.25      0.25      0.25     14946\n",
      "weighted avg       0.25      0.25      0.25     14946\n",
      "\n"
     ]
    },
    {
     "data": {
      "image/png": "[encoded data removed]",
      "text/plain": [
       "<Figure size 432x288 with 1 Axes>"
      ]
     },
     "metadata": {
      "needs_background": "light"
     },
     "output_type": "display_data"
    }
   ],
   "source": [
    "y_pred_eval_base = base.predict(x_eval)\n",
    "print(\"Accuracy Score: \", accuracy_score(y_eval, y_pred_eval_base))\n",
    "print(classification_report(y_eval, y_pred_eval_base))\n",
    "\n",
    "visualizer = ClassPredictionError(\n",
    "    base\n",
    ")\n",
    "\n",
    "visualizer.fit(x_train.drop(columns={\"Date\"}), y_train[\"CrowdednessCount\"])\n",
    "visualizer.score(x_eval, y_eval)\n",
    "g = visualizer.poof()"
   ]
  },
  {
   "cell_type": "markdown",
   "metadata": {},
   "source": [
    "### Random Forrest Classifier \n",
    "Implemented the [Sklearn Version](https://scikit-learn.org/stable/modules/generated/sklearn.ensemble.RandomForestClassifier.html#sklearn.ensemble.RandomForestClassifier)"
   ]
  },
  {
   "cell_type": "code",
   "execution_count": 6,
   "metadata": {},
   "outputs": [
    {
     "ename": "TypeError",
     "evalue": "__init__() got an unexpected keyword argument 'subsample'",
     "output_type": "error",
     "traceback": [
      "\u001b[1;31m---------------------------------------------------------------------------\u001b[0m",
      "\u001b[1;31mTypeError\u001b[0m                                 Traceback (most recent call last)",
      "\u001b[1;32m<ipython-input-6-1cf3c2dcca9a>\u001b[0m in \u001b[0;36m<module>\u001b[1;34m\u001b[0m\n\u001b[0;32m      1\u001b[0m rfc = RandomForestClassifier(n_estimators=350, criterion='gini', max_features='auto', bootstrap=True,\n\u001b[1;32m----> 2\u001b[1;33m                             class_weight=\"balanced_subsample\", max_depth=7, subsample=0.9, colsample_bytree=0.85, gamma=1)\n\u001b[0m",
      "\u001b[1;31mTypeError\u001b[0m: __init__() got an unexpected keyword argument 'subsample'"
     ]
    }
   ],
   "source": [
    "rfc = RandomForestClassifier(n_estimators=350, criterion='gini', max_features='auto', bootstrap=True,\n",
    "                            class_weight=\"balanced_subsample\")"
   ]
  },
  {
   "cell_type": "markdown",
   "metadata": {},
   "source": [
    "#### Training"
   ]
  },
  {
   "cell_type": "code",
   "execution_count": 7,
   "metadata": {},
   "outputs": [
    {
     "name": "stdout",
     "output_type": "stream",
     "text": [
      "Mean Accuracy Score:  85.24 \n",
      "\n",
      "For label 1\n",
      "Mean Precision Score:  92.45\n",
      "Mean Recall Score:  86.57\n",
      "Mean F1 Score:  89.4 \n",
      "\n",
      "For label 2\n",
      "Mean Precision Score:  85.41\n",
      "Mean Recall Score:  84.97\n",
      "Mean F1 Score:  85.18 \n",
      "\n",
      "For label 3\n",
      "Mean Precision Score:  79.24\n",
      "Mean Recall Score:  80.69\n",
      "Mean F1 Score:  79.94 \n",
      "\n",
      "For label 4\n",
      "Mean Precision Score:  84.6\n",
      "Mean Recall Score:  88.73\n",
      "Mean F1 Score:  86.59 \n",
      "\n"
     ]
    }
   ],
   "source": [
    "labels = [1, 2, 3, 4]\n",
    "\n",
    "mean_acc = 0\n",
    "\n",
    "mean_precision = 0\n",
    "mean_recall = 0\n",
    "mean_f1_score = 0\n",
    "\n",
    "for train_index, test_index in kf.split(train_dates):\n",
    "    \n",
    "    x = x_train[x_train[\"Date\"].isin(train_dates[train_index])].drop(columns={\"Date\"})\n",
    "    y = y_train[y_train[\"Date\"].isin(train_dates[train_index])][\"CrowdednessCount\"]\n",
    "    \n",
    "    rfc.fit(x, y)\n",
    "    \n",
    "    x_test = x_train[x_train[\"Date\"].isin(train_dates[test_index])].drop(columns={\"Date\"})\n",
    "    y_test = y_train[y_train[\"Date\"].isin(train_dates[test_index])][\"CrowdednessCount\"]\n",
    "    \n",
    "    y_pred_base = rfc.predict(x_test)\n",
    "    \n",
    "    mean_acc += accuracy_score(y_test, y_pred_base)\n",
    "\n",
    "    mean_precision += precision_score(y_test, y_pred_base, average=None)\n",
    "    mean_recall += recall_score(y_test, y_pred_base, average=None)\n",
    "    mean_f1_score += f1_score(y_test, y_pred_base, average=None)\n",
    "\n",
    "mean_acc = round(((mean_acc / 10) * 100),2)\n",
    "mean_precision = (mean_precision / 10) * 100\n",
    "mean_recall = (mean_recall / 10) * 100\n",
    "mean_f1_score = (mean_f1_score / 10) * 100\n",
    "\n",
    "print(\"Mean Accuracy Score: \", mean_acc, \"\\n\")\n",
    "\n",
    "for i in range(len(labels)):\n",
    "    print(\"For label {0}\".format(labels[i]))\n",
    "    print(\"Mean Precision Score: \", round(mean_precision[i], 2))\n",
    "    print(\"Mean Recall Score: \", round(mean_recall[i], 2))\n",
    "    print(\"Mean F1 Score: \", round(mean_f1_score[i], 2), \"\\n\")"
   ]
  },
  {
   "cell_type": "markdown",
   "metadata": {},
   "source": [
    "#### Hyperparameter Tuning"
   ]
  },
  {
   "cell_type": "code",
   "execution_count": 14,
   "metadata": {},
   "outputs": [],
   "source": [
    "rfc = RandomForestClassifier()\n",
    "\n",
    "n_estimators = [325, 350, 375]\n",
    "criterion = [\"gini\", \"entropy\"]\n",
    "max_features = [\"log2\", \"auto\", None]\n",
    "bootstrap = [True]\n",
    "oob_score = [True, False]\n",
    "class_weight = [\"balanced\", \"balanced_subsample\", None]\n",
    "\n",
    "params = {\"n_estimators\": n_estimators,\n",
    "         \"criterion\": criterion,\n",
    "         \"max_features\": max_features,\n",
    "         \"bootstrap\": bootstrap,\n",
    "          \"oob_score\": oob_score,\n",
    "         \"class_weight\": class_weight}\n",
    "\n",
    "scores = [\"accuracy\", \"precision_weighted\", \"recall_weighted\", \"f1_weighted\"]\n",
    "\n",
    "hyp = RandomizedSearchCV(estimator=rfc, param_distributions=params, n_iter=10, scoring=scores, n_jobs=4, cv=10,\n",
    "                        random_state=42, refit=\"f1_weighted\")\n",
    "\n",
    "rfc_model = hyp.fit(x_train.drop(columns={\"Date\"}), y_train[\"CrowdednessCount\"])"
   ]
  },
  {
   "cell_type": "code",
   "execution_count": 15,
   "metadata": {},
   "outputs": [
    {
     "name": "stdout",
     "output_type": "stream",
     "text": [
      "Best estimator:  RandomForestClassifier(bootstrap=True, class_weight='balanced_subsample',\n",
      "            criterion='gini', max_depth=None, max_features='auto',\n",
      "            max_leaf_nodes=None, min_impurity_decrease=0.0,\n",
      "            min_impurity_split=None, min_samples_leaf=1,\n",
      "            min_samples_split=2, min_weight_fraction_leaf=0.0,\n",
      "            n_estimators=350, n_jobs=None, oob_score=False,\n",
      "            random_state=None, verbose=0, warm_start=False)\n",
      "Best F1 score:  0.768739470722851\n"
     ]
    }
   ],
   "source": [
    "print(\"Best estimator: \", rfc_model.best_estimator_)\n",
    "print(\"Best F1 score: \", rfc_model.best_score_)"
   ]
  },
  {
   "cell_type": "markdown",
   "metadata": {},
   "source": [
    "#### Test"
   ]
  },
  {
   "cell_type": "code",
   "execution_count": 8,
   "metadata": {},
   "outputs": [
    {
     "name": "stdout",
     "output_type": "stream",
     "text": [
      "Accuracy Score:  0.8634417235380704\n",
      "              precision    recall  f1-score   support\n",
      "\n",
      "           1       0.94      0.88      0.90      3963\n",
      "           2       0.87      0.85      0.86      3724\n",
      "           3       0.80      0.82      0.81      3623\n",
      "           4       0.85      0.91      0.88      3636\n",
      "\n",
      "   micro avg       0.86      0.86      0.86     14946\n",
      "   macro avg       0.86      0.86      0.86     14946\n",
      "weighted avg       0.87      0.86      0.86     14946\n",
      "\n"
     ]
    },
    {
     "data": {
      "image/png": "[encoded data removed]",
      "text/plain": [
       "<Figure size 432x288 with 1 Axes>"
      ]
     },
     "metadata": {
      "needs_background": "light"
     },
     "output_type": "display_data"
    }
   ],
   "source": [
    "y_pred_eval_rfc = rfc.predict(x_eval)\n",
    "\n",
    "print(\"Accuracy Score: \", accuracy_score(y_eval, y_pred_eval_rfc))\n",
    "print(classification_report(y_eval, y_pred_eval_rfc))\n",
    "\n",
    "visualizer = ClassPredictionError(\n",
    "    rfc\n",
    ")\n",
    "\n",
    "visualizer.fit(x_train.drop(columns={\"Date\"}), y_train[\"CrowdednessCount\"])\n",
    "visualizer.score(x_eval, y_eval)\n",
    "g = visualizer.poof()"
   ]
  },
  {
   "cell_type": "markdown",
   "metadata": {},
   "source": [
    "#### Save Model to File"
   ]
  },
  {
   "cell_type": "code",
   "execution_count": 12,
   "metadata": {},
   "outputs": [],
   "source": [
    "filename = \"../../../Data_thesis/Models/rfc_model.sav\"\n",
    "\n",
    "pickle.dump(rfc, open(filename, 'wb'))"
   ]
  },
  {
   "cell_type": "markdown",
   "metadata": {},
   "source": [
    "### XGBoost \n",
    "Implement [XGBoost](https://xgboost.readthedocs.io/en/latest/python/python_intro.html)"
   ]
  },
  {
   "cell_type": "markdown",
   "metadata": {},
   "source": [
    "#### Training"
   ]
  },
  {
   "cell_type": "code",
   "execution_count": 18,
   "metadata": {},
   "outputs": [],
   "source": [
    "xgbc = xgb.XGBClassifier(learning_rate=0.01, n_estimators=1000, booster='gbtree', objective='multi:softmax',\n",
    "                        random_state=42, n_jobs=-1, max_depth=10, subsample=0.9, colsample_bytree=0.85, gamma=5,\n",
    "                        min_child_weight=1)"
   ]
  },
  {
   "cell_type": "code",
   "execution_count": 19,
   "metadata": {},
   "outputs": [
    {
     "name": "stdout",
     "output_type": "stream",
     "text": [
      "Mean Accuracy Score:  83.86 \n",
      "\n",
      "For label 1\n",
      "Mean Precision Score:  90.88\n",
      "Mean Recall Score:  85.7\n",
      "Mean F1 Score:  88.21 \n",
      "\n",
      "For label 2\n",
      "Mean Precision Score:  84.24\n",
      "Mean Recall Score:  83.55\n",
      "Mean F1 Score:  83.88 \n",
      "\n",
      "For label 3\n",
      "Mean Precision Score:  77.12\n",
      "Mean Recall Score:  78.95\n",
      "Mean F1 Score:  78.02 \n",
      "\n",
      "For label 4\n",
      "Mean Precision Score:  83.99\n",
      "Mean Recall Score:  87.34\n",
      "Mean F1 Score:  85.62 \n",
      "\n"
     ]
    }
   ],
   "source": [
    "labels = [1, 2, 3, 4]\n",
    "\n",
    "mean_acc = 0\n",
    "\n",
    "mean_precision = 0\n",
    "mean_recall = 0\n",
    "mean_f1_score = 0\n",
    "\n",
    "for train_index, test_index in kf.split(train_dates):\n",
    "    \n",
    "    x = x_train[x_train[\"Date\"].isin(train_dates[train_index])].drop(columns={\"Date\"})\n",
    "    y = y_train[y_train[\"Date\"].isin(train_dates[train_index])][\"CrowdednessCount\"]\n",
    "    \n",
    "    xgbc.fit(x, y)\n",
    "    \n",
    "    x_test = x_train[x_train[\"Date\"].isin(train_dates[test_index])].drop(columns={\"Date\"})\n",
    "    y_test = y_train[y_train[\"Date\"].isin(train_dates[test_index])][\"CrowdednessCount\"]\n",
    "    \n",
    "    y_pred_base = xgbc.predict(x_test)\n",
    "    \n",
    "    mean_acc += accuracy_score(y_test, y_pred_base)\n",
    "\n",
    "    mean_precision += precision_score(y_test, y_pred_base, average=None)\n",
    "    mean_recall += recall_score(y_test, y_pred_base, average=None)\n",
    "    mean_f1_score += f1_score(y_test, y_pred_base, average=None)\n",
    "\n",
    "mean_acc = round(((mean_acc / 2) * 100),2)\n",
    "mean_precision = (mean_precision / 2) * 100\n",
    "mean_recall = (mean_recall / 2) * 100\n",
    "mean_f1_score = (mean_f1_score / 2) * 100\n",
    "\n",
    "print(\"Mean Accuracy Score: \", mean_acc, \"\\n\")\n",
    "\n",
    "for i in range(len(labels)):\n",
    "    print(\"For label {0}\".format(labels[i]))\n",
    "    print(\"Mean Precision Score: \", round(mean_precision[i], 2))\n",
    "    print(\"Mean Recall Score: \", round(mean_recall[i], 2))\n",
    "    print(\"Mean F1 Score: \", round(mean_f1_score[i], 2), \"\\n\")"
   ]
  },
  {
   "cell_type": "markdown",
   "metadata": {},
   "source": [
    "#### Hyperparameter Tuning"
   ]
  },
  {
   "cell_type": "code",
   "execution_count": 16,
   "metadata": {},
   "outputs": [
    {
     "name": "stderr",
     "output_type": "stream",
     "text": [
      "D:\\Programs\\Anaconda\\envs\\Analytics\\lib\\site-packages\\sklearn\\externals\\joblib\\externals\\loky\\process_executor.py:706: UserWarning: A worker stopped while some jobs were given to the executor. This can be caused by a too short worker timeout or by a memory leak.\n",
      "  \"timeout or by a memory leak.\", UserWarning\n"
     ]
    }
   ],
   "source": [
    "xgbc = xgb.XGBClassifier()\n",
    "\n",
    "learning_rate = [0.05, 0.1, 0.25, 0.5]\n",
    "n_estimators = [175, 225, 200]\n",
    "booster = [\"gbtree\"]\n",
    "objective = [\"multi:softmax\", \"multi:softprob\"]\n",
    "\n",
    "params = {\"learning_rate\": learning_rate,\n",
    "         \"n_estimators\": n_estimators,\n",
    "         \"booster\": booster,\n",
    "         \"objective\": objective}\n",
    "\n",
    "scores = [\"accuracy\", \"precision_weighted\", \"recall_weighted\", \"f1_weighted\"]\n",
    "\n",
    "hyp = RandomizedSearchCV(estimator=xgbc, param_distributions=params, n_iter=10, scoring=scores, n_jobs=4, cv=10,\n",
    "                        random_state=42, refit=\"f1_weighted\")\n",
    "\n",
    "xgbc_model = hyp.fit(x_train.drop(columns={\"Date\"}).values, y_train[\"CrowdednessCount\"].values)"
   ]
  },
  {
   "cell_type": "code",
   "execution_count": 17,
   "metadata": {},
   "outputs": [
    {
     "name": "stdout",
     "output_type": "stream",
     "text": [
      "Best estimator:  XGBClassifier(base_score=0.5, booster='gbtree', colsample_bylevel=1,\n",
      "       colsample_bytree=1, gamma=0, learning_rate=0.05, max_delta_step=0,\n",
      "       max_depth=3, min_child_weight=1, missing=None, n_estimators=175,\n",
      "       n_jobs=1, nthread=None, objective='multi:softprob', random_state=0,\n",
      "       reg_alpha=0, reg_lambda=1, scale_pos_weight=1, seed=None,\n",
      "       silent=True, subsample=1)\n",
      "Best F1 score:  0.706366969259074\n"
     ]
    }
   ],
   "source": [
    "print(\"Best estimator: \", xgbc_model.best_estimator_)\n",
    "print(\"Best F1 score: \", xgbc_model.best_score_)"
   ]
  },
  {
   "cell_type": "markdown",
   "metadata": {},
   "source": [
    "#### Test"
   ]
  },
  {
   "cell_type": "code",
   "execution_count": 20,
   "metadata": {},
   "outputs": [
    {
     "name": "stdout",
     "output_type": "stream",
     "text": [
      "Accuracy Score:  0.8390873812391275\n",
      "              precision    recall  f1-score   support\n",
      "\n",
      "           1       0.91      0.85      0.88      3963\n",
      "           2       0.86      0.81      0.83      3724\n",
      "           3       0.76      0.80      0.78      3623\n",
      "           4       0.83      0.89      0.86      3636\n",
      "\n",
      "   micro avg       0.84      0.84      0.84     14946\n",
      "   macro avg       0.84      0.84      0.84     14946\n",
      "weighted avg       0.84      0.84      0.84     14946\n",
      "\n"
     ]
    },
    {
     "data": {
      "image/png": "[encoded data removed]",
      "text/plain": [
       "<Figure size 432x288 with 1 Axes>"
      ]
     },
     "metadata": {
      "needs_background": "light"
     },
     "output_type": "display_data"
    }
   ],
   "source": [
    "y_pred_eval_xgbc = xgbc.predict(x_eval)\n",
    "\n",
    "print(\"Accuracy Score: \", accuracy_score(y_eval, y_pred_eval_xgbc))\n",
    "print(classification_report(y_eval, y_pred_eval_xgbc))\n",
    "\n",
    "visualizer = ClassPredictionError(\n",
    "    xgbc\n",
    ")\n",
    "\n",
    "visualizer.fit(x_train.drop(columns={\"Date\"}), y_train[\"CrowdednessCount\"])\n",
    "visualizer.score(x_eval, y_eval)\n",
    "g = visualizer.poof()"
   ]
  },
  {
   "cell_type": "markdown",
   "metadata": {},
   "source": [
    "#### Save Model to File"
   ]
  },
  {
   "cell_type": "code",
   "execution_count": 13,
   "metadata": {},
   "outputs": [],
   "source": [
    "filename = \"../../../Data_thesis/Models/xgbc_model.sav\"\n",
    "\n",
    "pickle.dump(xgbc, open(filename, 'wb'))"
   ]
  }
 ],
 "metadata": {
  "kernelspec": {
   "display_name": "Python 3",
   "language": "python",
   "name": "python3"
  },
  "language_info": {
   "codemirror_mode": {
    "name": "ipython",
    "version": 3
   },
   "file_extension": ".py",
   "mimetype": "text/x-python",
   "name": "python",
   "nbconvert_exporter": "python",
   "pygments_lexer": "ipython3",
   "version": "3.7.1"
  }
 },
 "nbformat": 4,
 "nbformat_minor": 2
}
