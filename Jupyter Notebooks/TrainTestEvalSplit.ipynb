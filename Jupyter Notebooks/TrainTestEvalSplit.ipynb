{
 "cells": [
  {
   "cell_type": "markdown",
   "metadata": {},
   "source": [
    "# Model Train/Test Split"
   ]
  },
  {
   "cell_type": "markdown",
   "metadata": {},
   "source": [
    "## Imports"
   ]
  },
  {
   "cell_type": "code",
   "execution_count": 1,
   "metadata": {},
   "outputs": [],
   "source": [
    "import pandas as pd\n",
    "import numpy as np\n",
    "\n",
    "from sklearn.model_selection import train_test_split"
   ]
  },
  {
   "cell_type": "markdown",
   "metadata": {},
   "source": [
    "## Import File"
   ]
  },
  {
   "cell_type": "code",
   "execution_count": 6,
   "metadata": {},
   "outputs": [
    {
     "data": {
      "text/html": [
       "<div>\n",
       "<style scoped>\n",
       "    .dataframe tbody tr th:only-of-type {\n",
       "        vertical-align: middle;\n",
       "    }\n",
       "\n",
       "    .dataframe tbody tr th {\n",
       "        vertical-align: top;\n",
       "    }\n",
       "\n",
       "    .dataframe thead th {\n",
       "        text-align: right;\n",
       "    }\n",
       "</style>\n",
       "<table border=\"1\" class=\"dataframe\">\n",
       "  <thead>\n",
       "    <tr style=\"text-align: right;\">\n",
       "      <th></th>\n",
       "      <th>Date</th>\n",
       "      <th>Hour</th>\n",
       "      <th>weekday</th>\n",
       "      <th>is_weekend</th>\n",
       "      <th>Sensor</th>\n",
       "      <th>SensorLongitude</th>\n",
       "      <th>SensorLatitude</th>\n",
       "      <th>CrowdednessCount</th>\n",
       "      <th>Lon_4.8971927</th>\n",
       "      <th>Lon_4.8973336</th>\n",
       "      <th>...</th>\n",
       "      <th>Nieuwmarkt score</th>\n",
       "      <th>Nieuwmarkt weight</th>\n",
       "      <th>Nieuwezijds Kolk score</th>\n",
       "      <th>Nieuwezijds Kolk weight</th>\n",
       "      <th>Dam score</th>\n",
       "      <th>Dam weight</th>\n",
       "      <th>Spui score</th>\n",
       "      <th>Spui weight</th>\n",
       "      <th>Centraal Station score</th>\n",
       "      <th>Centraal Station weight</th>\n",
       "    </tr>\n",
       "  </thead>\n",
       "  <tbody>\n",
       "    <tr>\n",
       "      <th>0</th>\n",
       "      <td>2018-03-11</td>\n",
       "      <td>100</td>\n",
       "      <td>6.0</td>\n",
       "      <td>1.0</td>\n",
       "      <td>GAWW-04</td>\n",
       "      <td>4.897908</td>\n",
       "      <td>52.373283</td>\n",
       "      <td>886</td>\n",
       "      <td>0</td>\n",
       "      <td>0</td>\n",
       "      <td>...</td>\n",
       "      <td>0.000000</td>\n",
       "      <td>0.999994</td>\n",
       "      <td>0.000000</td>\n",
       "      <td>0.999987</td>\n",
       "      <td>102.996844</td>\n",
       "      <td>0.999969</td>\n",
       "      <td>0.000000</td>\n",
       "      <td>0.999954</td>\n",
       "      <td>472.993853</td>\n",
       "      <td>0.999987</td>\n",
       "    </tr>\n",
       "    <tr>\n",
       "      <th>1</th>\n",
       "      <td>2018-03-11</td>\n",
       "      <td>2100</td>\n",
       "      <td>6.0</td>\n",
       "      <td>1.0</td>\n",
       "      <td>GAWW-07</td>\n",
       "      <td>4.900441</td>\n",
       "      <td>52.374414</td>\n",
       "      <td>1603</td>\n",
       "      <td>0</td>\n",
       "      <td>0</td>\n",
       "      <td>...</td>\n",
       "      <td>346.998829</td>\n",
       "      <td>0.999997</td>\n",
       "      <td>198.995171</td>\n",
       "      <td>0.999976</td>\n",
       "      <td>1266.930956</td>\n",
       "      <td>0.999946</td>\n",
       "      <td>133.989730</td>\n",
       "      <td>0.999923</td>\n",
       "      <td>3859.981463</td>\n",
       "      <td>0.999995</td>\n",
       "    </tr>\n",
       "    <tr>\n",
       "      <th>2</th>\n",
       "      <td>2018-03-11</td>\n",
       "      <td>2100</td>\n",
       "      <td>6.0</td>\n",
       "      <td>1.0</td>\n",
       "      <td>GAWW-08</td>\n",
       "      <td>4.897193</td>\n",
       "      <td>52.371650</td>\n",
       "      <td>21</td>\n",
       "      <td>1</td>\n",
       "      <td>0</td>\n",
       "      <td>...</td>\n",
       "      <td>346.997145</td>\n",
       "      <td>0.999992</td>\n",
       "      <td>198.996668</td>\n",
       "      <td>0.999983</td>\n",
       "      <td>1266.966573</td>\n",
       "      <td>0.999974</td>\n",
       "      <td>133.995346</td>\n",
       "      <td>0.999965</td>\n",
       "      <td>3859.909232</td>\n",
       "      <td>0.999976</td>\n",
       "    </tr>\n",
       "    <tr>\n",
       "      <th>3</th>\n",
       "      <td>2018-03-11</td>\n",
       "      <td>2100</td>\n",
       "      <td>6.0</td>\n",
       "      <td>1.0</td>\n",
       "      <td>GAWW-09</td>\n",
       "      <td>4.898479</td>\n",
       "      <td>52.375040</td>\n",
       "      <td>88</td>\n",
       "      <td>0</td>\n",
       "      <td>0</td>\n",
       "      <td>...</td>\n",
       "      <td>346.997014</td>\n",
       "      <td>0.999991</td>\n",
       "      <td>198.997601</td>\n",
       "      <td>0.999988</td>\n",
       "      <td>1266.952991</td>\n",
       "      <td>0.999963</td>\n",
       "      <td>133.991938</td>\n",
       "      <td>0.999940</td>\n",
       "      <td>3859.978146</td>\n",
       "      <td>0.999994</td>\n",
       "    </tr>\n",
       "    <tr>\n",
       "      <th>4</th>\n",
       "      <td>2018-03-11</td>\n",
       "      <td>2100</td>\n",
       "      <td>6.0</td>\n",
       "      <td>1.0</td>\n",
       "      <td>GAWW-10</td>\n",
       "      <td>4.898808</td>\n",
       "      <td>52.372369</td>\n",
       "      <td>49</td>\n",
       "      <td>0</td>\n",
       "      <td>0</td>\n",
       "      <td>...</td>\n",
       "      <td>346.998943</td>\n",
       "      <td>0.999997</td>\n",
       "      <td>198.995907</td>\n",
       "      <td>0.999979</td>\n",
       "      <td>1266.951383</td>\n",
       "      <td>0.999962</td>\n",
       "      <td>133.993174</td>\n",
       "      <td>0.999949</td>\n",
       "      <td>3859.941786</td>\n",
       "      <td>0.999985</td>\n",
       "    </tr>\n",
       "  </tbody>\n",
       "</table>\n",
       "<p>5 rows × 48 columns</p>\n",
       "</div>"
      ],
      "text/plain": [
       "        Date  Hour  weekday  is_weekend   Sensor  SensorLongitude  \\\n",
       "0 2018-03-11   100      6.0         1.0  GAWW-04         4.897908   \n",
       "1 2018-03-11  2100      6.0         1.0  GAWW-07         4.900441   \n",
       "2 2018-03-11  2100      6.0         1.0  GAWW-08         4.897193   \n",
       "3 2018-03-11  2100      6.0         1.0  GAWW-09         4.898479   \n",
       "4 2018-03-11  2100      6.0         1.0  GAWW-10         4.898808   \n",
       "\n",
       "   SensorLatitude  CrowdednessCount  Lon_4.8971927  Lon_4.8973336  ...  \\\n",
       "0       52.373283               886              0              0  ...   \n",
       "1       52.374414              1603              0              0  ...   \n",
       "2       52.371650                21              1              0  ...   \n",
       "3       52.375040                88              0              0  ...   \n",
       "4       52.372369                49              0              0  ...   \n",
       "\n",
       "   Nieuwmarkt score  Nieuwmarkt weight  Nieuwezijds Kolk score  \\\n",
       "0          0.000000           0.999994                0.000000   \n",
       "1        346.998829           0.999997              198.995171   \n",
       "2        346.997145           0.999992              198.996668   \n",
       "3        346.997014           0.999991              198.997601   \n",
       "4        346.998943           0.999997              198.995907   \n",
       "\n",
       "   Nieuwezijds Kolk weight    Dam score  Dam weight  Spui score  Spui weight  \\\n",
       "0                 0.999987   102.996844    0.999969    0.000000     0.999954   \n",
       "1                 0.999976  1266.930956    0.999946  133.989730     0.999923   \n",
       "2                 0.999983  1266.966573    0.999974  133.995346     0.999965   \n",
       "3                 0.999988  1266.952991    0.999963  133.991938     0.999940   \n",
       "4                 0.999979  1266.951383    0.999962  133.993174     0.999949   \n",
       "\n",
       "   Centraal Station score  Centraal Station weight  \n",
       "0              472.993853                 0.999987  \n",
       "1             3859.981463                 0.999995  \n",
       "2             3859.909232                 0.999976  \n",
       "3             3859.978146                 0.999994  \n",
       "4             3859.941786                 0.999985  \n",
       "\n",
       "[5 rows x 48 columns]"
      ]
     },
     "execution_count": 6,
     "metadata": {},
     "output_type": "execute_result"
    }
   ],
   "source": [
    "full_df = pd.read_csv(\"../../../Data_thesis/Full_Datasets/Full.csv\")\n",
    "full_df[\"Date\"] = pd.to_datetime(full_df[\"Date\"], format=\"%Y-%m-%d\")\n",
    "\n",
    "full_df.head()"
   ]
  },
  {
   "cell_type": "code",
   "execution_count": 7,
   "metadata": {},
   "outputs": [
    {
     "data": {
      "text/plain": [
       "Index(['Date', 'Hour', 'weekday', 'is_weekend', 'Sensor', 'SensorLongitude',\n",
       "       'SensorLatitude', 'CrowdednessCount', 'Lon_4.8971927', 'Lon_4.8973336',\n",
       "       'Lon_4.8977166', 'Lon_4.8979076', 'Lon_4.8980531', 'Lon_4.8984795',\n",
       "       'Lon_4.8988079', 'Lon_4.8989027', 'Lon_4.8998471', 'Lon_4.9004405',\n",
       "       'Lat_52.3716503', 'Lat_52.3723534', 'Lat_52.372369', 'Lat_52.372416',\n",
       "       'Lat_52.3725237', 'Lat_52.373283', 'Lat_52.3737857', 'Lat_52.3744139',\n",
       "       'Lat_52.3746006', 'Lat_52.3750398', 'LonScaled', 'LatScaled',\n",
       "       'is_event', 'Year', 'month_sin', 'month_cos', 'day_sin', 'day_cos',\n",
       "       'hour_sin', 'hour_cos', 'Nieuwmarkt score', 'Nieuwmarkt weight',\n",
       "       'Nieuwezijds Kolk score', 'Nieuwezijds Kolk weight', 'Dam score',\n",
       "       'Dam weight', 'Spui score', 'Spui weight', 'Centraal Station score',\n",
       "       'Centraal Station weight'],\n",
       "      dtype='object')"
      ]
     },
     "execution_count": 7,
     "metadata": {},
     "output_type": "execute_result"
    }
   ],
   "source": [
    "full_df.columns"
   ]
  },
  {
   "cell_type": "markdown",
   "metadata": {},
   "source": [
    "## Variables"
   ]
  },
  {
   "cell_type": "code",
   "execution_count": 5,
   "metadata": {},
   "outputs": [],
   "source": [
    "size=0.9"
   ]
  },
  {
   "cell_type": "markdown",
   "metadata": {},
   "source": [
    "## Functions"
   ]
  },
  {
   "cell_type": "markdown",
   "metadata": {},
   "source": [
    "### Classification Crowdedness Count\n",
    "Divide the numerical values into four percintile classes"
   ]
  },
  {
   "cell_type": "code",
   "execution_count": 6,
   "metadata": {},
   "outputs": [],
   "source": [
    "def clasCrowdednessCounts(df):\n",
    "    \"\"\"\n",
    "    Divide the numerical counts of crowdedness into 4 classes. These classes asre based on the quantiles taken \n",
    "    over all the values. \n",
    "    \"\"\"\n",
    "    \n",
    "    #Quantile splits\n",
    "    low_split = df[\"CrowdednessCount\"].quantile(.25)\n",
    "    mid_split = df[\"CrowdednessCount\"].quantile(.5)\n",
    "    high_split = df[\"CrowdednessCount\"].quantile(.75)\n",
    "    \n",
    "    clas_dict = df.to_dict(\"index\")\n",
    "\n",
    "    for k, v in clas_dict.items():\n",
    "\n",
    "        if v[\"CrowdednessCount\"] < low_split:\n",
    "            v[\"CrowdednessCount\"] = 1\n",
    "        elif v[\"CrowdednessCount\"] >= low_split and v[\"CrowdednessCount\"] < mid_split:\n",
    "            v[\"CrowdednessCount\"] = 2\n",
    "        elif v[\"CrowdednessCount\"] >= mid_split and v[\"CrowdednessCount\"] < high_split:\n",
    "            v[\"CrowdednessCount\"] = 3\n",
    "        elif v[\"CrowdednessCount\"] >= high_split:\n",
    "            v[\"CrowdednessCount\"] = 4\n",
    "        else:\n",
    "            print (k, \" has class error as it fits in none\")\n",
    "            \n",
    "    df = pd.DataFrame.from_dict(clas_dict, orient=\"index\")\n",
    "\n",
    "    return df"
   ]
  },
  {
   "cell_type": "markdown",
   "metadata": {},
   "source": [
    "### Train/Test split Dates\n",
    "Split the set based on given dates (so days won't get split up)"
   ]
  },
  {
   "cell_type": "code",
   "execution_count": 7,
   "metadata": {},
   "outputs": [],
   "source": [
    "def dateSplit(df, size):\n",
    "    \"\"\"\n",
    "    This function splits the given df based on given dates. \n",
    "    \n",
    "    Input:\n",
    "        - df: DataFrame that needs to be split into train/test\n",
    "        - size: Size of the training test between 0 and 1\n",
    "    \"\"\"\n",
    "    \n",
    "    #Duplicate\n",
    "    dates = df[\"Date\"].unique()\n",
    "    train_dates, test_dates = train_test_split(dates, train_size=size, test_size=1-size, random_state=42) \n",
    "    eval_dates, test_dates = train_test_split(test_dates, train_size=0.5, test_size=0.5, random_state=42) \n",
    "    \n",
    "    return train_dates, test_dates, eval_dates"
   ]
  },
  {
   "cell_type": "markdown",
   "metadata": {},
   "source": [
    "### Split Set in Train and Test"
   ]
  },
  {
   "cell_type": "code",
   "execution_count": 3,
   "metadata": {},
   "outputs": [],
   "source": [
    "def trainTestSplit(df, size):\n",
    "    \n",
    "    df = df.drop(columns=[\"Hour\", \"Sensor\", \"Year\", \"SensorLongitude\", \"SensorLatitude\"])\n",
    "    \n",
    "    #Split Train/Test based on dates\n",
    "    train_dates, test_dates, eval_dates = dateSplit(df, size)\n",
    "    \n",
    "    train_df = df[df[\"Date\"].isin(train_dates)].reset_index().drop(columns=[\"index\"])\n",
    "    test_df = df[df[\"Date\"].isin(test_dates)].reset_index().drop(columns=[\"index\"])\n",
    "    eval_df = df[df[\"Date\"].isin(eval_dates)].reset_index().drop(columns=[\"index\"])\n",
    "\n",
    "    #Train\n",
    "    x_train = train_df.drop([\"CrowdednessCount\"], axis=1)\n",
    "    y_train = train_df[[\"Date\", \"CrowdednessCount\"]]\n",
    "\n",
    "    #Test\n",
    "    x_test = test_df.drop([\"CrowdednessCount\", \"Date\"], axis=1)\n",
    "    y_test = test_df[\"CrowdednessCount\"]\n",
    "    \n",
    "    #Evaluation\n",
    "    x_eval = eval_df.drop([\"Date\", \"CrowdednessCount\"], axis=1)\n",
    "    y_eval = eval_df[\"CrowdednessCount\"]\n",
    "    \n",
    "    \n",
    "    return x_train, y_train, x_test, y_test, x_eval, y_eval, train_dates"
   ]
  },
  {
   "cell_type": "markdown",
   "metadata": {},
   "source": [
    "## Test"
   ]
  }
 ],
 "metadata": {
  "kernelspec": {
   "display_name": "Python 3",
   "language": "python",
   "name": "python3"
  },
  "language_info": {
   "codemirror_mode": {
    "name": "ipython",
    "version": 3
   },
   "file_extension": ".py",
   "mimetype": "text/x-python",
   "name": "python",
   "nbconvert_exporter": "python",
   "pygments_lexer": "ipython3",
   "version": "3.7.1"
  }
 },
 "nbformat": 4,
 "nbformat_minor": 2
}
