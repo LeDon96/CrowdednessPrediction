{
 "cells": [
  {
   "cell_type": "markdown",
   "metadata": {},
   "source": [
    "# Model Train/Test Split"
   ]
  },
  {
   "cell_type": "markdown",
   "metadata": {},
   "source": [
    "## Imports"
   ]
  },
  {
   "cell_type": "code",
   "execution_count": 41,
   "metadata": {},
   "outputs": [],
   "source": [
    "import pandas as pd\n",
    "import numpy as np\n",
    "\n",
    "from sklearn.model_selection import train_test_split"
   ]
  },
  {
   "cell_type": "markdown",
   "metadata": {},
   "source": [
    "## Import File"
   ]
  },
  {
   "cell_type": "code",
   "execution_count": 2,
   "metadata": {},
   "outputs": [
    {
     "data": {
      "text/html": [
       "<div>\n",
       "<style scoped>\n",
       "    .dataframe tbody tr th:only-of-type {\n",
       "        vertical-align: middle;\n",
       "    }\n",
       "\n",
       "    .dataframe tbody tr th {\n",
       "        vertical-align: top;\n",
       "    }\n",
       "\n",
       "    .dataframe thead th {\n",
       "        text-align: right;\n",
       "    }\n",
       "</style>\n",
       "<table border=\"1\" class=\"dataframe\">\n",
       "  <thead>\n",
       "    <tr style=\"text-align: right;\">\n",
       "      <th></th>\n",
       "      <th>Date</th>\n",
       "      <th>Hour</th>\n",
       "      <th>Nieuwmarkt Arrivals</th>\n",
       "      <th>Nieuwezijds Kolk Arrivals</th>\n",
       "      <th>Dam Arrivals</th>\n",
       "      <th>Spui Arrivals</th>\n",
       "      <th>Nieuwmarkt Departures</th>\n",
       "      <th>Nieuwezijds Kolk Departures</th>\n",
       "      <th>Dam Departures</th>\n",
       "      <th>Spui Departures</th>\n",
       "      <th>...</th>\n",
       "      <th>SensorLatitude</th>\n",
       "      <th>CrowdednessCount</th>\n",
       "      <th>is_event</th>\n",
       "      <th>Year</th>\n",
       "      <th>month_sin</th>\n",
       "      <th>month_cos</th>\n",
       "      <th>day_sin</th>\n",
       "      <th>day_cos</th>\n",
       "      <th>hour_sin</th>\n",
       "      <th>hour_cos</th>\n",
       "    </tr>\n",
       "  </thead>\n",
       "  <tbody>\n",
       "    <tr>\n",
       "      <th>0</th>\n",
       "      <td>2018-03-11</td>\n",
       "      <td>100</td>\n",
       "      <td>0.0</td>\n",
       "      <td>0.0</td>\n",
       "      <td>13.0</td>\n",
       "      <td>0.0</td>\n",
       "      <td>0.0</td>\n",
       "      <td>0.0</td>\n",
       "      <td>90.0</td>\n",
       "      <td>0.0</td>\n",
       "      <td>...</td>\n",
       "      <td>5</td>\n",
       "      <td>886</td>\n",
       "      <td>0.0</td>\n",
       "      <td>2018</td>\n",
       "      <td>1.0</td>\n",
       "      <td>6.123234e-17</td>\n",
       "      <td>0.188227</td>\n",
       "      <td>0.982126</td>\n",
       "      <td>0.258819</td>\n",
       "      <td>0.965926</td>\n",
       "    </tr>\n",
       "    <tr>\n",
       "      <th>1</th>\n",
       "      <td>2018-03-11</td>\n",
       "      <td>2100</td>\n",
       "      <td>136.0</td>\n",
       "      <td>80.0</td>\n",
       "      <td>409.0</td>\n",
       "      <td>40.0</td>\n",
       "      <td>211.0</td>\n",
       "      <td>119.0</td>\n",
       "      <td>858.0</td>\n",
       "      <td>94.0</td>\n",
       "      <td>...</td>\n",
       "      <td>7</td>\n",
       "      <td>1603</td>\n",
       "      <td>0.0</td>\n",
       "      <td>2018</td>\n",
       "      <td>1.0</td>\n",
       "      <td>6.123234e-17</td>\n",
       "      <td>0.188227</td>\n",
       "      <td>0.982126</td>\n",
       "      <td>-0.707107</td>\n",
       "      <td>0.707107</td>\n",
       "    </tr>\n",
       "    <tr>\n",
       "      <th>2</th>\n",
       "      <td>2018-03-11</td>\n",
       "      <td>2100</td>\n",
       "      <td>136.0</td>\n",
       "      <td>80.0</td>\n",
       "      <td>409.0</td>\n",
       "      <td>40.0</td>\n",
       "      <td>211.0</td>\n",
       "      <td>119.0</td>\n",
       "      <td>858.0</td>\n",
       "      <td>94.0</td>\n",
       "      <td>...</td>\n",
       "      <td>0</td>\n",
       "      <td>21</td>\n",
       "      <td>0.0</td>\n",
       "      <td>2018</td>\n",
       "      <td>1.0</td>\n",
       "      <td>6.123234e-17</td>\n",
       "      <td>0.188227</td>\n",
       "      <td>0.982126</td>\n",
       "      <td>-0.707107</td>\n",
       "      <td>0.707107</td>\n",
       "    </tr>\n",
       "    <tr>\n",
       "      <th>3</th>\n",
       "      <td>2018-03-11</td>\n",
       "      <td>2100</td>\n",
       "      <td>136.0</td>\n",
       "      <td>80.0</td>\n",
       "      <td>409.0</td>\n",
       "      <td>40.0</td>\n",
       "      <td>211.0</td>\n",
       "      <td>119.0</td>\n",
       "      <td>858.0</td>\n",
       "      <td>94.0</td>\n",
       "      <td>...</td>\n",
       "      <td>9</td>\n",
       "      <td>88</td>\n",
       "      <td>0.0</td>\n",
       "      <td>2018</td>\n",
       "      <td>1.0</td>\n",
       "      <td>6.123234e-17</td>\n",
       "      <td>0.188227</td>\n",
       "      <td>0.982126</td>\n",
       "      <td>-0.707107</td>\n",
       "      <td>0.707107</td>\n",
       "    </tr>\n",
       "    <tr>\n",
       "      <th>4</th>\n",
       "      <td>2018-03-11</td>\n",
       "      <td>2100</td>\n",
       "      <td>136.0</td>\n",
       "      <td>80.0</td>\n",
       "      <td>409.0</td>\n",
       "      <td>40.0</td>\n",
       "      <td>211.0</td>\n",
       "      <td>119.0</td>\n",
       "      <td>858.0</td>\n",
       "      <td>94.0</td>\n",
       "      <td>...</td>\n",
       "      <td>2</td>\n",
       "      <td>49</td>\n",
       "      <td>0.0</td>\n",
       "      <td>2018</td>\n",
       "      <td>1.0</td>\n",
       "      <td>6.123234e-17</td>\n",
       "      <td>0.188227</td>\n",
       "      <td>0.982126</td>\n",
       "      <td>-0.707107</td>\n",
       "      <td>0.707107</td>\n",
       "    </tr>\n",
       "  </tbody>\n",
       "</table>\n",
       "<p>5 rows × 24 columns</p>\n",
       "</div>"
      ],
      "text/plain": [
       "        Date  Hour  Nieuwmarkt Arrivals  Nieuwezijds Kolk Arrivals  \\\n",
       "0 2018-03-11   100                  0.0                        0.0   \n",
       "1 2018-03-11  2100                136.0                       80.0   \n",
       "2 2018-03-11  2100                136.0                       80.0   \n",
       "3 2018-03-11  2100                136.0                       80.0   \n",
       "4 2018-03-11  2100                136.0                       80.0   \n",
       "\n",
       "   Dam Arrivals  Spui Arrivals  Nieuwmarkt Departures  \\\n",
       "0          13.0            0.0                    0.0   \n",
       "1         409.0           40.0                  211.0   \n",
       "2         409.0           40.0                  211.0   \n",
       "3         409.0           40.0                  211.0   \n",
       "4         409.0           40.0                  211.0   \n",
       "\n",
       "   Nieuwezijds Kolk Departures  Dam Departures  Spui Departures  ...  \\\n",
       "0                          0.0            90.0              0.0  ...   \n",
       "1                        119.0           858.0             94.0  ...   \n",
       "2                        119.0           858.0             94.0  ...   \n",
       "3                        119.0           858.0             94.0  ...   \n",
       "4                        119.0           858.0             94.0  ...   \n",
       "\n",
       "   SensorLatitude  CrowdednessCount is_event  Year  month_sin     month_cos  \\\n",
       "0               5               886      0.0  2018        1.0  6.123234e-17   \n",
       "1               7              1603      0.0  2018        1.0  6.123234e-17   \n",
       "2               0                21      0.0  2018        1.0  6.123234e-17   \n",
       "3               9                88      0.0  2018        1.0  6.123234e-17   \n",
       "4               2                49      0.0  2018        1.0  6.123234e-17   \n",
       "\n",
       "    day_sin   day_cos  hour_sin  hour_cos  \n",
       "0  0.188227  0.982126  0.258819  0.965926  \n",
       "1  0.188227  0.982126 -0.707107  0.707107  \n",
       "2  0.188227  0.982126 -0.707107  0.707107  \n",
       "3  0.188227  0.982126 -0.707107  0.707107  \n",
       "4  0.188227  0.982126 -0.707107  0.707107  \n",
       "\n",
       "[5 rows x 24 columns]"
      ]
     },
     "execution_count": 2,
     "metadata": {},
     "output_type": "execute_result"
    }
   ],
   "source": [
    "full_df = pd.read_csv(\"../../../Data_thesis/Full_Datasets/Full.csv\")\n",
    "full_df[\"Date\"] = pd.to_datetime(full_df[\"Date\"], format=\"%Y-%m-%d\")\n",
    "\n",
    "full_df.head()"
   ]
  },
  {
   "cell_type": "markdown",
   "metadata": {},
   "source": [
    "## Variables"
   ]
  },
  {
   "cell_type": "code",
   "execution_count": 42,
   "metadata": {},
   "outputs": [],
   "source": [
    "#Date to split the train/test and evaluation set on\n",
    "split_date = pd.Timestamp(2018, 12, 31)\n",
    "\n",
    "#Sensor used for test/train visualization\n",
    "sensor = \"GAWW-02\"\n",
    "\n",
    "#Start/End date evaluation visualization\n",
    "eval_start_date = pd.Timestamp(2019, 1, 1)\n",
    "eval_end_date = pd.Timestamp(2019, 1, 31)\n",
    "\n",
    "size=0.9"
   ]
  },
  {
   "cell_type": "markdown",
   "metadata": {},
   "source": [
    "## Functions"
   ]
  },
  {
   "cell_type": "markdown",
   "metadata": {},
   "source": [
    "### Classification Crowdedness Count\n",
    "Divide the numerical values into four percintile classes"
   ]
  },
  {
   "cell_type": "code",
   "execution_count": 4,
   "metadata": {},
   "outputs": [],
   "source": [
    "def clasCrowdednessCounts(df):\n",
    "    \"\"\"\n",
    "    Divide the numerical counts of crowdedness into 4 classes. These classes asre based on the quantiles taken \n",
    "    over all the values. \n",
    "    \"\"\"\n",
    "    \n",
    "    #Quantile splits\n",
    "    low_split = df[\"CrowdednessCount\"].quantile(.25)\n",
    "    mid_split = df[\"CrowdednessCount\"].quantile(.5)\n",
    "    high_split = df[\"CrowdednessCount\"].quantile(.75)\n",
    "    \n",
    "    clas_dict = df.to_dict(\"index\")\n",
    "\n",
    "    for k, v in clas_dict.items():\n",
    "\n",
    "        if v[\"CrowdednessCount\"] < low_split:\n",
    "            v[\"CrowdednessCount\"] = 1\n",
    "        elif v[\"CrowdednessCount\"] >= low_split and v[\"CrowdednessCount\"] < mid_split:\n",
    "            v[\"CrowdednessCount\"] = 2\n",
    "        elif v[\"CrowdednessCount\"] >= mid_split and v[\"CrowdednessCount\"] < high_split:\n",
    "            v[\"CrowdednessCount\"] = 3\n",
    "        elif v[\"CrowdednessCount\"] >= high_split:\n",
    "            v[\"CrowdednessCount\"] = 4\n",
    "        else:\n",
    "            print (k, \" has class error as it fits in none\")\n",
    "            \n",
    "    df = pd.DataFrame.from_dict(clas_dict, orient=\"index\")\n",
    "\n",
    "    return df"
   ]
  },
  {
   "cell_type": "markdown",
   "metadata": {},
   "source": [
    "### Test Sensor\n",
    "Select sensor used in the test and evaluation set"
   ]
  },
  {
   "cell_type": "code",
   "execution_count": 11,
   "metadata": {},
   "outputs": [],
   "source": [
    "def listSensors(df, path):\n",
    "    df = df.drop_duplicates(subset=\"Sensor\").reset_index()\n",
    "    df = df[[\"Sensor\", \"SensorLatitude\", \"SensorLongitude\"]]\n",
    "    \n",
    "    df.to_csv(path, index=False)"
   ]
  },
  {
   "cell_type": "code",
   "execution_count": 12,
   "metadata": {},
   "outputs": [
    {
     "name": "stdout",
     "output_type": "stream",
     "text": [
      "Sensor:  GAWW-01\n",
      "Sensor:  GAWW-02\n",
      "Sensor:  GAWW-03\n",
      "Sensor:  GAWW-04\n",
      "Sensor:  GAWW-05\n",
      "Sensor:  GAWW-06\n",
      "Sensor:  GAWW-07\n",
      "Sensor:  GAWW-08\n",
      "Sensor:  GAWW-09\n",
      "Sensor:  GAWW-10\n"
     ]
    }
   ],
   "source": [
    "# Possible sensors\n",
    "for sensor in np.sort(full_df.Sensor.unique()):\n",
    "    print(\"Sensor: \", sensor)"
   ]
  },
  {
   "cell_type": "code",
   "execution_count": 13,
   "metadata": {},
   "outputs": [],
   "source": [
    "def testSensorLat(df, sensor):\n",
    "    \"\"\"\n",
    "    Select the unique label of the latitude for the given sensor and return this\n",
    "    \"\"\"\n",
    "    return df[df[\"Sensor\"] == sensor].reset_index()[\"SensorLatitude\"][0]"
   ]
  },
  {
   "cell_type": "markdown",
   "metadata": {},
   "source": [
    "### Train/Test split Dates\n",
    "Split the set based on given dates (so days won't get split up)"
   ]
  },
  {
   "cell_type": "code",
   "execution_count": 1,
   "metadata": {},
   "outputs": [],
   "source": [
    "def dateSplit(df, size):\n",
    "    \"\"\"\n",
    "    This function splits the given df based on given dates. \n",
    "    \n",
    "    Input:\n",
    "        - df: DataFrame that needs to be split into train/test\n",
    "        - size: Size of the training test between 0 and 1\n",
    "    \"\"\"\n",
    "    \n",
    "    #Duplicate\n",
    "    dates = df[\"Date\"].unique()\n",
    "    train_dates, test_dates = train_test_split(dates, train_size=size, test_size=1-size, random_state=42) \n",
    "    \n",
    "    return train_dates, test_dates"
   ]
  },
  {
   "cell_type": "markdown",
   "metadata": {},
   "source": [
    "### Split Set in Train and Test"
   ]
  },
  {
   "cell_type": "code",
   "execution_count": 1,
   "metadata": {},
   "outputs": [],
   "source": [
    "def trainTestSplit(df, size):\n",
    "    \n",
    "    df = df.drop(columns=[\"Hour\", \"Sensor\", \"Year\"])\n",
    "    \n",
    "    #Split Train/Test based on dates\n",
    "    train_dates, test_dates = dateSplit(df, size)\n",
    "    \n",
    "    train_df = df[df[\"Date\"].isin(train_dates)].reset_index().drop(columns=[\"index\"])\n",
    "    test_df = df[df[\"Date\"].isin(test_dates)].reset_index().drop(columns=[\"index\"])\n",
    "\n",
    "    #Train\n",
    "    x_train = train_df.drop([\"CrowdednessCount\"], axis=1)\n",
    "    y_train = train_df[[\"Date\", \"CrowdednessCount\"]]\n",
    "\n",
    "    #Test\n",
    "    x_test = test_df.drop([\"CrowdednessCount\", \"Date\"], axis=1)\n",
    "    y_test = test_df[\"CrowdednessCount\"]\n",
    "    \n",
    "    \n",
    "    return x_train, y_train, x_test, y_test, train_dates"
   ]
  },
  {
   "cell_type": "markdown",
   "metadata": {},
   "source": [
    "## Test"
   ]
  }
 ],
 "metadata": {
  "kernelspec": {
   "display_name": "Python 3",
   "language": "python",
   "name": "python3"
  },
  "language_info": {
   "codemirror_mode": {
    "name": "ipython",
    "version": 3
   },
   "file_extension": ".py",
   "mimetype": "text/x-python",
   "name": "python",
   "nbconvert_exporter": "python",
   "pygments_lexer": "ipython3",
   "version": "3.7.1"
  }
 },
 "nbformat": 4,
 "nbformat_minor": 2
}
