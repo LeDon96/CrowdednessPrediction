{
 "cells": [
  {
   "cell_type": "markdown",
   "metadata": {},
   "source": [
    "# Twitter Data"
   ]
  },
  {
   "cell_type": "markdown",
   "metadata": {},
   "source": [
    "## Imports"
   ]
  },
  {
   "cell_type": "code",
   "execution_count": 17,
   "metadata": {},
   "outputs": [],
   "source": [
    "import tweepy\n",
    "import pandas as pd"
   ]
  },
  {
   "cell_type": "markdown",
   "metadata": {},
   "source": [
    "## Streaming Data"
   ]
  },
  {
   "cell_type": "markdown",
   "metadata": {},
   "source": [
    "### Setup"
   ]
  },
  {
   "cell_type": "code",
   "execution_count": 29,
   "metadata": {},
   "outputs": [],
   "source": [
    "consumer_token = \"gIvSwKtU9niMSt9ExgDUj5EJq\"\n",
    "consumer_secret = \"qhohs5pWWgmgRSIRMQbhGtukZo9HfSqxNL5JvPArWBM3vI6ChA\"\n",
    "access_token = \"1042493065607487488-VnFnQlaPgOXPEvZKlYZrBgdNFRhDNP\"\n",
    "access_token_secret = \"rpASAYed8Pu2JNr2uBdlhE1LXrKl7E5Vzsrblf1DVltSz\""
   ]
  },
  {
   "cell_type": "code",
   "execution_count": 30,
   "metadata": {},
   "outputs": [],
   "source": [
    "auth = tweepy.OAuthHandler(consumer_token, consumer_secret)\n",
    "auth.set_access_token(access_token, access_token_secret)\n",
    "api = tweepy.API(auth,wait_on_rate_limit=True)"
   ]
  },
  {
   "cell_type": "code",
   "execution_count": 54,
   "metadata": {},
   "outputs": [],
   "source": [
    "tweet_dict = {}"
   ]
  },
  {
   "cell_type": "markdown",
   "metadata": {},
   "source": [
    "### Count Tweets"
   ]
  },
  {
   "cell_type": "code",
   "execution_count": 58,
   "metadata": {},
   "outputs": [],
   "source": [
    "queries = [\"#Amsterdam\",\"kings day amsterdam\", \"grachtengordel\", \"420 amsterdam\",\"weed amsterdam\"]\n",
    "j = 1\n",
    "\n",
    "for q in queries:\n",
    "    for tweet in tweepy.Cursor(api.search,q=q,count=100,lang=\"en\",since=\"2018-03-11\").items():\n",
    "        tweet_dict[j] = {\"Created\": tweet.created_at, \"Test\": tweet.text}\n",
    "        j += 1"
   ]
  },
  {
   "cell_type": "code",
   "execution_count": 59,
   "metadata": {},
   "outputs": [],
   "source": [
    "tweet_df = pd.DataFrame.from_dict(tweet_dict, orient=\"index\")"
   ]
  },
  {
   "cell_type": "code",
   "execution_count": 72,
   "metadata": {},
   "outputs": [],
   "source": [
    "tweet_df[\"Created\"] = pd.to_datetime(tweet_df[\"Created\"], format=\"%Y-%m-%d\")"
   ]
  },
  {
   "cell_type": "markdown",
   "metadata": {},
   "source": [
    "### Aggregate counts"
   ]
  },
  {
   "cell_type": "code",
   "execution_count": 77,
   "metadata": {},
   "outputs": [],
   "source": [
    "tweet_df = tweet_df.groupby(tweet_df.Created.dt.date).count()"
   ]
  },
  {
   "cell_type": "code",
   "execution_count": 79,
   "metadata": {},
   "outputs": [
    {
     "data": {
      "text/html": [
       "<div>\n",
       "<style scoped>\n",
       "    .dataframe tbody tr th:only-of-type {\n",
       "        vertical-align: middle;\n",
       "    }\n",
       "\n",
       "    .dataframe tbody tr th {\n",
       "        vertical-align: top;\n",
       "    }\n",
       "\n",
       "    .dataframe thead th {\n",
       "        text-align: right;\n",
       "    }\n",
       "</style>\n",
       "<table border=\"1\" class=\"dataframe\">\n",
       "  <thead>\n",
       "    <tr style=\"text-align: right;\">\n",
       "      <th></th>\n",
       "      <th>Created</th>\n",
       "      <th>Test</th>\n",
       "    </tr>\n",
       "    <tr>\n",
       "      <th>Created</th>\n",
       "      <th></th>\n",
       "      <th></th>\n",
       "    </tr>\n",
       "  </thead>\n",
       "  <tbody>\n",
       "    <tr>\n",
       "      <th>2019-04-23</th>\n",
       "      <td>694</td>\n",
       "      <td>694</td>\n",
       "    </tr>\n",
       "    <tr>\n",
       "      <th>2019-04-24</th>\n",
       "      <td>2597</td>\n",
       "      <td>2597</td>\n",
       "    </tr>\n",
       "    <tr>\n",
       "      <th>2019-04-25</th>\n",
       "      <td>1235</td>\n",
       "      <td>1235</td>\n",
       "    </tr>\n",
       "    <tr>\n",
       "      <th>2019-04-26</th>\n",
       "      <td>976</td>\n",
       "      <td>976</td>\n",
       "    </tr>\n",
       "    <tr>\n",
       "      <th>2019-04-27</th>\n",
       "      <td>1036</td>\n",
       "      <td>1036</td>\n",
       "    </tr>\n",
       "  </tbody>\n",
       "</table>\n",
       "</div>"
      ],
      "text/plain": [
       "            Created  Test\n",
       "Created                  \n",
       "2019-04-23      694   694\n",
       "2019-04-24     2597  2597\n",
       "2019-04-25     1235  1235\n",
       "2019-04-26      976   976\n",
       "2019-04-27     1036  1036"
      ]
     },
     "execution_count": 79,
     "metadata": {},
     "output_type": "execute_result"
    }
   ],
   "source": [
    "tweet_df.head()"
   ]
  },
  {
   "cell_type": "markdown",
   "metadata": {},
   "source": [
    "## File Data"
   ]
  },
  {
   "cell_type": "markdown",
   "metadata": {},
   "source": [
    "### Import File"
   ]
  },
  {
   "cell_type": "code",
   "execution_count": 84,
   "metadata": {},
   "outputs": [
    {
     "name": "stderr",
     "output_type": "stream",
     "text": [
      "b'Skipping line 481: expected 10 fields, saw 11\\nSkipping line 1031: expected 10 fields, saw 12\\nSkipping line 1604: expected 10 fields, saw 11\\nSkipping line 2831: expected 10 fields, saw 11\\nSkipping line 3052: expected 10 fields, saw 11\\n'\n"
     ]
    }
   ],
   "source": [
    "tweets_df = pd.read_csv(\"../../../Data_thesis/Twitter_Data/#amsterdam.csv\", sep=\";\", error_bad_lines=False, encoding = \"ISO-8859-1\")"
   ]
  },
  {
   "cell_type": "code",
   "execution_count": 85,
   "metadata": {},
   "outputs": [
    {
     "data": {
      "text/html": [
       "<div>\n",
       "<style scoped>\n",
       "    .dataframe tbody tr th:only-of-type {\n",
       "        vertical-align: middle;\n",
       "    }\n",
       "\n",
       "    .dataframe tbody tr th {\n",
       "        vertical-align: top;\n",
       "    }\n",
       "\n",
       "    .dataframe thead th {\n",
       "        text-align: right;\n",
       "    }\n",
       "</style>\n",
       "<table border=\"1\" class=\"dataframe\">\n",
       "  <thead>\n",
       "    <tr style=\"text-align: right;\">\n",
       "      <th></th>\n",
       "      <th>username</th>\n",
       "      <th>date</th>\n",
       "      <th>retweets</th>\n",
       "      <th>favorites</th>\n",
       "      <th>text</th>\n",
       "      <th>geo</th>\n",
       "      <th>mentions</th>\n",
       "      <th>hashtags</th>\n",
       "      <th>id</th>\n",
       "      <th>permalink</th>\n",
       "    </tr>\n",
       "  </thead>\n",
       "  <tbody>\n",
       "    <tr>\n",
       "      <th>0</th>\n",
       "      <td>NaN</td>\n",
       "      <td>2019/05/02 13:50</td>\n",
       "      <td>0</td>\n",
       "      <td>0</td>\n",
       "      <td>Toerist uithangen in #amsterdam pic.twitter.co...</td>\n",
       "      <td>NaN</td>\n",
       "      <td>NaN</td>\n",
       "      <td>#amsterdam</td>\n",
       "      <td>1.123918e+18</td>\n",
       "      <td>https://twitter.com/EstherGruppen/status/11239...</td>\n",
       "    </tr>\n",
       "    <tr>\n",
       "      <th>1</th>\n",
       "      <td>NaN</td>\n",
       "      <td>2019/05/02 13:36</td>\n",
       "      <td>0</td>\n",
       "      <td>1</td>\n",
       "      <td>Wederom in #Amsterdam een vrachtauto staande w...</td>\n",
       "      <td>NaN</td>\n",
       "      <td>NaN</td>\n",
       "      <td>#Amsterdam</td>\n",
       "      <td>1.123914e+18</td>\n",
       "      <td>https://twitter.com/osvaldobongers/status/1123...</td>\n",
       "    </tr>\n",
       "    <tr>\n",
       "      <th>2</th>\n",
       "      <td>NaN</td>\n",
       "      <td>2019/05/02 10:21</td>\n",
       "      <td>5</td>\n",
       "      <td>13</td>\n",
       "      <td>De StreetScooter Work: een elektrisch bezorgvo...</td>\n",
       "      <td>NaN</td>\n",
       "      <td>NaN</td>\n",
       "      <td>#Amsterdam #Baarsjes</td>\n",
       "      <td>1.123865e+18</td>\n",
       "      <td>https://twitter.com/schlijper/status/112386512...</td>\n",
       "    </tr>\n",
       "    <tr>\n",
       "      <th>3</th>\n",
       "      <td>NaN</td>\n",
       "      <td>2019/05/02 08:00</td>\n",
       "      <td>1</td>\n",
       "      <td>3</td>\n",
       "      <td>Elke dinsdagavond rijden wij (afhankelijk van ...</td>\n",
       "      <td>NaN</td>\n",
       "      <td>NaN</td>\n",
       "      <td>#wielrennen #vrouwenwielrennen #amsterdam #cyc...</td>\n",
       "      <td>1.123829e+18</td>\n",
       "      <td>https://twitter.com/fietsbelles/status/1123829...</td>\n",
       "    </tr>\n",
       "    <tr>\n",
       "      <th>4</th>\n",
       "      <td>NaN</td>\n",
       "      <td>2019/05/02 06:52</td>\n",
       "      <td>2</td>\n",
       "      <td>25</td>\n",
       "      <td>Goedemorgen vanuit mijn kantoortje #Cruquiusei...</td>\n",
       "      <td>NaN</td>\n",
       "      <td>NaN</td>\n",
       "      <td>#Cruquiuseiland #Amsterdam</td>\n",
       "      <td>1.123812e+18</td>\n",
       "      <td>https://twitter.com/GeurtRoekel/status/1123812...</td>\n",
       "    </tr>\n",
       "  </tbody>\n",
       "</table>\n",
       "</div>"
      ],
      "text/plain": [
       "   username              date  retweets  favorites  \\\n",
       "0       NaN  2019/05/02 13:50         0          0   \n",
       "1       NaN  2019/05/02 13:36         0          1   \n",
       "2       NaN  2019/05/02 10:21         5         13   \n",
       "3       NaN  2019/05/02 08:00         1          3   \n",
       "4       NaN  2019/05/02 06:52         2         25   \n",
       "\n",
       "                                                text  geo mentions  \\\n",
       "0  Toerist uithangen in #amsterdam pic.twitter.co...  NaN      NaN   \n",
       "1  Wederom in #Amsterdam een vrachtauto staande w...  NaN      NaN   \n",
       "2  De StreetScooter Work: een elektrisch bezorgvo...  NaN      NaN   \n",
       "3  Elke dinsdagavond rijden wij (afhankelijk van ...  NaN      NaN   \n",
       "4  Goedemorgen vanuit mijn kantoortje #Cruquiusei...  NaN      NaN   \n",
       "\n",
       "                                            hashtags            id  \\\n",
       "0                                         #amsterdam  1.123918e+18   \n",
       "1                                         #Amsterdam  1.123914e+18   \n",
       "2                               #Amsterdam #Baarsjes  1.123865e+18   \n",
       "3  #wielrennen #vrouwenwielrennen #amsterdam #cyc...  1.123829e+18   \n",
       "4                         #Cruquiuseiland #Amsterdam  1.123812e+18   \n",
       "\n",
       "                                           permalink  \n",
       "0  https://twitter.com/EstherGruppen/status/11239...  \n",
       "1  https://twitter.com/osvaldobongers/status/1123...  \n",
       "2  https://twitter.com/schlijper/status/112386512...  \n",
       "3  https://twitter.com/fietsbelles/status/1123829...  \n",
       "4  https://twitter.com/GeurtRoekel/status/1123812...  "
      ]
     },
     "execution_count": 85,
     "metadata": {},
     "output_type": "execute_result"
    }
   ],
   "source": [
    "tweets_df.head()"
   ]
  },
  {
   "cell_type": "code",
   "execution_count": 89,
   "metadata": {},
   "outputs": [],
   "source": [
    "tweets_df[\"date\"] = pd.to_datetime(tweets_df[\"date\"], format=\"%Y-%m-%d\")\n",
    "tweet_counts = tweets_df.groupby(tweets_df.date.dt.date).count()"
   ]
  },
  {
   "cell_type": "code",
   "execution_count": 91,
   "metadata": {},
   "outputs": [
    {
     "data": {
      "text/html": [
       "<div>\n",
       "<style scoped>\n",
       "    .dataframe tbody tr th:only-of-type {\n",
       "        vertical-align: middle;\n",
       "    }\n",
       "\n",
       "    .dataframe tbody tr th {\n",
       "        vertical-align: top;\n",
       "    }\n",
       "\n",
       "    .dataframe thead th {\n",
       "        text-align: right;\n",
       "    }\n",
       "</style>\n",
       "<table border=\"1\" class=\"dataframe\">\n",
       "  <thead>\n",
       "    <tr style=\"text-align: right;\">\n",
       "      <th></th>\n",
       "      <th>username</th>\n",
       "      <th>date</th>\n",
       "      <th>retweets</th>\n",
       "      <th>favorites</th>\n",
       "      <th>text</th>\n",
       "      <th>geo</th>\n",
       "      <th>mentions</th>\n",
       "      <th>hashtags</th>\n",
       "      <th>id</th>\n",
       "      <th>permalink</th>\n",
       "    </tr>\n",
       "    <tr>\n",
       "      <th>date</th>\n",
       "      <th></th>\n",
       "      <th></th>\n",
       "      <th></th>\n",
       "      <th></th>\n",
       "      <th></th>\n",
       "      <th></th>\n",
       "      <th></th>\n",
       "      <th></th>\n",
       "      <th></th>\n",
       "      <th></th>\n",
       "    </tr>\n",
       "  </thead>\n",
       "  <tbody>\n",
       "    <tr>\n",
       "      <th>2018-03-11</th>\n",
       "      <td>0</td>\n",
       "      <td>39</td>\n",
       "      <td>39</td>\n",
       "      <td>39</td>\n",
       "      <td>39</td>\n",
       "      <td>0</td>\n",
       "      <td>17</td>\n",
       "      <td>39</td>\n",
       "      <td>39</td>\n",
       "      <td>39</td>\n",
       "    </tr>\n",
       "    <tr>\n",
       "      <th>2018-03-12</th>\n",
       "      <td>0</td>\n",
       "      <td>9</td>\n",
       "      <td>9</td>\n",
       "      <td>9</td>\n",
       "      <td>9</td>\n",
       "      <td>0</td>\n",
       "      <td>4</td>\n",
       "      <td>9</td>\n",
       "      <td>9</td>\n",
       "      <td>9</td>\n",
       "    </tr>\n",
       "    <tr>\n",
       "      <th>2018-03-13</th>\n",
       "      <td>0</td>\n",
       "      <td>14</td>\n",
       "      <td>14</td>\n",
       "      <td>14</td>\n",
       "      <td>14</td>\n",
       "      <td>0</td>\n",
       "      <td>7</td>\n",
       "      <td>14</td>\n",
       "      <td>14</td>\n",
       "      <td>14</td>\n",
       "    </tr>\n",
       "    <tr>\n",
       "      <th>2018-03-14</th>\n",
       "      <td>0</td>\n",
       "      <td>19</td>\n",
       "      <td>19</td>\n",
       "      <td>19</td>\n",
       "      <td>19</td>\n",
       "      <td>0</td>\n",
       "      <td>8</td>\n",
       "      <td>19</td>\n",
       "      <td>19</td>\n",
       "      <td>19</td>\n",
       "    </tr>\n",
       "    <tr>\n",
       "      <th>2018-03-15</th>\n",
       "      <td>0</td>\n",
       "      <td>15</td>\n",
       "      <td>15</td>\n",
       "      <td>15</td>\n",
       "      <td>15</td>\n",
       "      <td>0</td>\n",
       "      <td>5</td>\n",
       "      <td>15</td>\n",
       "      <td>15</td>\n",
       "      <td>15</td>\n",
       "    </tr>\n",
       "  </tbody>\n",
       "</table>\n",
       "</div>"
      ],
      "text/plain": [
       "            username  date  retweets  favorites  text  geo  mentions  \\\n",
       "date                                                                   \n",
       "2018-03-11         0    39        39         39    39    0        17   \n",
       "2018-03-12         0     9         9          9     9    0         4   \n",
       "2018-03-13         0    14        14         14    14    0         7   \n",
       "2018-03-14         0    19        19         19    19    0         8   \n",
       "2018-03-15         0    15        15         15    15    0         5   \n",
       "\n",
       "            hashtags  id  permalink  \n",
       "date                                 \n",
       "2018-03-11        39  39         39  \n",
       "2018-03-12         9   9          9  \n",
       "2018-03-13        14  14         14  \n",
       "2018-03-14        19  19         19  \n",
       "2018-03-15        15  15         15  "
      ]
     },
     "execution_count": 91,
     "metadata": {},
     "output_type": "execute_result"
    }
   ],
   "source": [
    "tweet_counts.head()"
   ]
  }
 ],
 "metadata": {
  "kernelspec": {
   "display_name": "Python 3",
   "language": "python",
   "name": "python3"
  },
  "language_info": {
   "codemirror_mode": {
    "name": "ipython",
    "version": 3
   },
   "file_extension": ".py",
   "mimetype": "text/x-python",
   "name": "python",
   "nbconvert_exporter": "python",
   "pygments_lexer": "ipython3",
   "version": "3.7.1"
  }
 },
 "nbformat": 4,
 "nbformat_minor": 2
}
