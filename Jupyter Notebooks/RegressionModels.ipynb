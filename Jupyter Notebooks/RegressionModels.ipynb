{
 "cells": [
  {
   "cell_type": "markdown",
   "metadata": {},
   "source": [
    "# Regression Models"
   ]
  },
  {
   "cell_type": "markdown",
   "metadata": {},
   "source": [
    "## Imports"
   ]
  },
  {
   "cell_type": "code",
   "execution_count": 17,
   "metadata": {},
   "outputs": [],
   "source": [
    "from sklearn.linear_model import LinearRegression\n",
    "from sklearn.ensemble import RandomForestRegressor\n",
    "\n",
    "import xgboost as xgb\n",
    "\n",
    "from sklearn.metrics import mean_squared_error\n",
    "from sklearn.metrics import make_scorer\n",
    "\n",
    "from yellowbrick.regressor import PredictionError\n",
    "\n",
    "import pandas as pd\n",
    "import numpy as np\n",
    "import matplotlib.pyplot as plt\n",
    "%matplotlib inline\n",
    "import nbimporter\n",
    "\n",
    "import TrainTestEvalSplit as split\n",
    "from sklearn.model_selection import KFold\n",
    "\n",
    "import pickle\n",
    "from sklearn.utils import check_X_y\n",
    "from sklearn.model_selection import RandomizedSearchCV\n",
    "\n",
    "from sklearn.feature_selection import SelectFromModel"
   ]
  },
  {
   "cell_type": "markdown",
   "metadata": {},
   "source": [
    "## Import File"
   ]
  },
  {
   "cell_type": "code",
   "execution_count": 19,
   "metadata": {},
   "outputs": [
    {
     "data": {
      "text/html": [
       "<div>\n",
       "<style scoped>\n",
       "    .dataframe tbody tr th:only-of-type {\n",
       "        vertical-align: middle;\n",
       "    }\n",
       "\n",
       "    .dataframe tbody tr th {\n",
       "        vertical-align: top;\n",
       "    }\n",
       "\n",
       "    .dataframe thead th {\n",
       "        text-align: right;\n",
       "    }\n",
       "</style>\n",
       "<table border=\"1\" class=\"dataframe\">\n",
       "  <thead>\n",
       "    <tr style=\"text-align: right;\">\n",
       "      <th></th>\n",
       "      <th>Date</th>\n",
       "      <th>Hour</th>\n",
       "      <th>weekday</th>\n",
       "      <th>is_weekend</th>\n",
       "      <th>Sensor</th>\n",
       "      <th>SensorLongitude</th>\n",
       "      <th>SensorLatitude</th>\n",
       "      <th>CrowdednessCount</th>\n",
       "      <th>LonScaled</th>\n",
       "      <th>LatScaled</th>\n",
       "      <th>...</th>\n",
       "      <th>Nieuwmarkt score</th>\n",
       "      <th>Nieuwmarkt weight</th>\n",
       "      <th>Nieuwezijds Kolk score</th>\n",
       "      <th>Nieuwezijds Kolk weight</th>\n",
       "      <th>Dam score</th>\n",
       "      <th>Dam weight</th>\n",
       "      <th>Spui score</th>\n",
       "      <th>Spui weight</th>\n",
       "      <th>Centraal Station score</th>\n",
       "      <th>Centraal Station weight</th>\n",
       "    </tr>\n",
       "  </thead>\n",
       "  <tbody>\n",
       "    <tr>\n",
       "      <th>0</th>\n",
       "      <td>2018-03-11</td>\n",
       "      <td>100</td>\n",
       "      <td>6.0</td>\n",
       "      <td>1.0</td>\n",
       "      <td>GAWW-04</td>\n",
       "      <td>4.897908</td>\n",
       "      <td>52.373283</td>\n",
       "      <td>886</td>\n",
       "      <td>-0.558826</td>\n",
       "      <td>0.035969</td>\n",
       "      <td>...</td>\n",
       "      <td>0.000000</td>\n",
       "      <td>0.978944</td>\n",
       "      <td>0.000000</td>\n",
       "      <td>0.616678</td>\n",
       "      <td>-32.179221</td>\n",
       "      <td>-0.312420</td>\n",
       "      <td>-0.000000</td>\n",
       "      <td>-1.140386</td>\n",
       "      <td>297.734037</td>\n",
       "      <td>0.629459</td>\n",
       "    </tr>\n",
       "    <tr>\n",
       "      <th>1</th>\n",
       "      <td>2018-03-11</td>\n",
       "      <td>2100</td>\n",
       "      <td>6.0</td>\n",
       "      <td>1.0</td>\n",
       "      <td>GAWW-07</td>\n",
       "      <td>4.900441</td>\n",
       "      <td>52.374414</td>\n",
       "      <td>1603</td>\n",
       "      <td>1.966352</td>\n",
       "      <td>1.066966</td>\n",
       "      <td>...</td>\n",
       "      <td>396.612265</td>\n",
       "      <td>1.142975</td>\n",
       "      <td>5.596253</td>\n",
       "      <td>0.028122</td>\n",
       "      <td>-2008.443214</td>\n",
       "      <td>-1.585196</td>\n",
       "      <td>-370.823855</td>\n",
       "      <td>-2.767342</td>\n",
       "      <td>4117.774978</td>\n",
       "      <td>1.066781</td>\n",
       "    </tr>\n",
       "    <tr>\n",
       "      <th>2</th>\n",
       "      <td>2018-03-11</td>\n",
       "      <td>2100</td>\n",
       "      <td>6.0</td>\n",
       "      <td>1.0</td>\n",
       "      <td>GAWW-08</td>\n",
       "      <td>4.897193</td>\n",
       "      <td>52.371650</td>\n",
       "      <td>21</td>\n",
       "      <td>-1.271546</td>\n",
       "      <td>-1.452500</td>\n",
       "      <td>...</td>\n",
       "      <td>306.731105</td>\n",
       "      <td>0.883951</td>\n",
       "      <td>85.461513</td>\n",
       "      <td>0.429455</td>\n",
       "      <td>-107.617256</td>\n",
       "      <td>-0.084939</td>\n",
       "      <td>-71.079754</td>\n",
       "      <td>-0.530446</td>\n",
       "      <td>262.901130</td>\n",
       "      <td>0.068109</td>\n",
       "    </tr>\n",
       "    <tr>\n",
       "      <th>3</th>\n",
       "      <td>2018-03-11</td>\n",
       "      <td>2100</td>\n",
       "      <td>6.0</td>\n",
       "      <td>1.0</td>\n",
       "      <td>GAWW-09</td>\n",
       "      <td>4.898479</td>\n",
       "      <td>52.375040</td>\n",
       "      <td>88</td>\n",
       "      <td>0.011331</td>\n",
       "      <td>1.637575</td>\n",
       "      <td>...</td>\n",
       "      <td>299.730494</td>\n",
       "      <td>0.863777</td>\n",
       "      <td>135.285034</td>\n",
       "      <td>0.679824</td>\n",
       "      <td>-832.481652</td>\n",
       "      <td>-0.657049</td>\n",
       "      <td>-252.977149</td>\n",
       "      <td>-1.887889</td>\n",
       "      <td>3940.747665</td>\n",
       "      <td>1.020919</td>\n",
       "    </tr>\n",
       "    <tr>\n",
       "      <th>4</th>\n",
       "      <td>2018-03-11</td>\n",
       "      <td>2100</td>\n",
       "      <td>6.0</td>\n",
       "      <td>1.0</td>\n",
       "      <td>GAWW-10</td>\n",
       "      <td>4.898808</td>\n",
       "      <td>52.372369</td>\n",
       "      <td>49</td>\n",
       "      <td>0.338729</td>\n",
       "      <td>-0.797289</td>\n",
       "      <td>...</td>\n",
       "      <td>402.696352</td>\n",
       "      <td>1.160508</td>\n",
       "      <td>44.878993</td>\n",
       "      <td>0.225523</td>\n",
       "      <td>-918.302668</td>\n",
       "      <td>-0.724785</td>\n",
       "      <td>-187.014683</td>\n",
       "      <td>-1.395632</td>\n",
       "      <td>2000.274786</td>\n",
       "      <td>0.518206</td>\n",
       "    </tr>\n",
       "  </tbody>\n",
       "</table>\n",
       "<p>5 rows × 28 columns</p>\n",
       "</div>"
      ],
      "text/plain": [
       "        Date  Hour  weekday  is_weekend   Sensor  SensorLongitude  \\\n",
       "0 2018-03-11   100      6.0         1.0  GAWW-04         4.897908   \n",
       "1 2018-03-11  2100      6.0         1.0  GAWW-07         4.900441   \n",
       "2 2018-03-11  2100      6.0         1.0  GAWW-08         4.897193   \n",
       "3 2018-03-11  2100      6.0         1.0  GAWW-09         4.898479   \n",
       "4 2018-03-11  2100      6.0         1.0  GAWW-10         4.898808   \n",
       "\n",
       "   SensorLatitude  CrowdednessCount  LonScaled  LatScaled  ...  \\\n",
       "0       52.373283               886  -0.558826   0.035969  ...   \n",
       "1       52.374414              1603   1.966352   1.066966  ...   \n",
       "2       52.371650                21  -1.271546  -1.452500  ...   \n",
       "3       52.375040                88   0.011331   1.637575  ...   \n",
       "4       52.372369                49   0.338729  -0.797289  ...   \n",
       "\n",
       "   Nieuwmarkt score  Nieuwmarkt weight  Nieuwezijds Kolk score  \\\n",
       "0          0.000000           0.978944                0.000000   \n",
       "1        396.612265           1.142975                5.596253   \n",
       "2        306.731105           0.883951               85.461513   \n",
       "3        299.730494           0.863777              135.285034   \n",
       "4        402.696352           1.160508               44.878993   \n",
       "\n",
       "   Nieuwezijds Kolk weight    Dam score  Dam weight  Spui score  Spui weight  \\\n",
       "0                 0.616678   -32.179221   -0.312420   -0.000000    -1.140386   \n",
       "1                 0.028122 -2008.443214   -1.585196 -370.823855    -2.767342   \n",
       "2                 0.429455  -107.617256   -0.084939  -71.079754    -0.530446   \n",
       "3                 0.679824  -832.481652   -0.657049 -252.977149    -1.887889   \n",
       "4                 0.225523  -918.302668   -0.724785 -187.014683    -1.395632   \n",
       "\n",
       "   Centraal Station score  Centraal Station weight  \n",
       "0              297.734037                 0.629459  \n",
       "1             4117.774978                 1.066781  \n",
       "2              262.901130                 0.068109  \n",
       "3             3940.747665                 1.020919  \n",
       "4             2000.274786                 0.518206  \n",
       "\n",
       "[5 rows x 28 columns]"
      ]
     },
     "execution_count": 19,
     "metadata": {},
     "output_type": "execute_result"
    }
   ],
   "source": [
    "full_df = pd.read_csv(\"../../../Data_thesis/Full_Datasets/Full.csv\")\n",
    "full_df[\"Date\"] = pd.to_datetime(full_df[\"Date\"], format=\"%Y-%m-%d\")\n",
    "\n",
    "full_df.head()"
   ]
  },
  {
   "cell_type": "markdown",
   "metadata": {},
   "source": [
    "## Train/Test/Eval split"
   ]
  },
  {
   "cell_type": "code",
   "execution_count": 20,
   "metadata": {},
   "outputs": [],
   "source": [
    "size = 0.8\n",
    "kf = KFold(n_splits=10, shuffle=True, random_state=42)"
   ]
  },
  {
   "cell_type": "code",
   "execution_count": 21,
   "metadata": {},
   "outputs": [],
   "source": [
    "x_train, y_train, x_test, y_test, x_eval, y_eval, train_dates = split.trainTestSplit(full_df, size)"
   ]
  },
  {
   "cell_type": "markdown",
   "metadata": {},
   "source": [
    "## Feature Selection"
   ]
  },
  {
   "cell_type": "code",
   "execution_count": 22,
   "metadata": {},
   "outputs": [
    {
     "name": "stdout",
     "output_type": "stream",
     "text": [
      "Index(['LonScaled', 'hour_sin', 'hour_cos', 'Nieuwmarkt weight', 'Dam weight',\n",
      "       'Spui weight'],\n",
      "      dtype='object')\n"
     ]
    }
   ],
   "source": [
    "X=x_train.drop(columns={\"Date\"})\n",
    "y=y_train[\"CrowdednessCount\"]\n",
    "\n",
    "feature_model = SelectFromModel(RandomForestRegressor(n_estimators=250, random_state=42))\n",
    "feature_model.fit(X, y)\n",
    "\n",
    "selected_feat= X.columns[(feature_model.get_support())]\n",
    "\n",
    "print(selected_feat)"
   ]
  },
  {
   "cell_type": "markdown",
   "metadata": {},
   "source": [
    "## Models"
   ]
  },
  {
   "cell_type": "markdown",
   "metadata": {},
   "source": [
    "### Baseline: Linear Regression\n",
    "Implemented the [Sklearn Version](https://scikit-learn.org/stable/modules/generated/sklearn.linear_model.LinearRegression.html#sklearn.linear_model.LinearRegression)"
   ]
  },
  {
   "cell_type": "markdown",
   "metadata": {},
   "source": [
    "#### Training"
   ]
  },
  {
   "cell_type": "code",
   "execution_count": 38,
   "metadata": {},
   "outputs": [],
   "source": [
    "base = LinearRegression(copy_X=True, fit_intercept=False, normalize=True, n_jobs=4)"
   ]
  },
  {
   "cell_type": "code",
   "execution_count": 39,
   "metadata": {},
   "outputs": [
    {
     "name": "stdout",
     "output_type": "stream",
     "text": [
      "Average R^2 Score:  0.5488066314260026\n",
      "Average RMSE Score:  660.9346557516661\n"
     ]
    }
   ],
   "source": [
    "mean_score = 0\n",
    "mean_rmse = 0\n",
    "\n",
    "for train_index, val_index in kf.split(train_dates):\n",
    "    base.fit(x_train[x_train[\"Date\"].isin(train_dates[train_index])].drop(columns={\"Date\"}),\n",
    "             y_train[y_train[\"Date\"].isin(train_dates[train_index])][\"CrowdednessCount\"])\n",
    "    \n",
    "    mean_score += base.score(x_train[x_train[\"Date\"].isin(train_dates[val_index])].drop(columns={\"Date\"}),\n",
    "             y_train[y_train[\"Date\"].isin(train_dates[val_index])][\"CrowdednessCount\"])\n",
    "    \n",
    "    y_pred_base = base.predict(x_train[x_train[\"Date\"].isin(train_dates[val_index])].drop(columns={\"Date\"}))\n",
    "    mean_rmse += np.sqrt(mean_squared_error(y_pred_base, \n",
    "                                            y_train[y_train[\"Date\"].isin(train_dates[val_index])][\"CrowdednessCount\"]))\n",
    "\n",
    "mean_score /= 10\n",
    "mean_rmse /= 10\n",
    "\n",
    "print(\"Average R^2 Score: \", mean_score)\n",
    "print(\"Average RMSE Score: \", mean_rmse)"
   ]
  },
  {
   "cell_type": "markdown",
   "metadata": {},
   "source": [
    "#### Hyperparameter Testing"
   ]
  },
  {
   "cell_type": "code",
   "execution_count": 32,
   "metadata": {},
   "outputs": [
    {
     "name": "stderr",
     "output_type": "stream",
     "text": [
      "D:\\Programs\\Anaconda\\envs\\Analytics\\lib\\site-packages\\sklearn\\model_selection\\_search.py:271: UserWarning: The total space of parameters 8 is smaller than n_iter=10. Running 8 iterations. For exhaustive searches, use GridSearchCV.\n",
      "  % (grid_size, self.n_iter, grid_size), UserWarning)\n"
     ]
    }
   ],
   "source": [
    "base = LinearRegression()\n",
    "\n",
    "fit_intercept = [True, False]\n",
    "normalize = [True, False]\n",
    "copy_X = [True, False]\n",
    "\n",
    "params = {\"fit_intercept\": fit_intercept,\n",
    "         \"normalize\": normalize,\n",
    "         \"copy_X\": copy_X}\n",
    "\n",
    "scores = [\"r2\", \"neg_mean_squared_error\"]\n",
    "\n",
    "hyp = RandomizedSearchCV(estimator=base, param_distributions=params, n_iter=10, scoring=scores, n_jobs=2, cv=10,\n",
    "                        random_state=42, refit=\"r2\")\n",
    "\n",
    "base_model = hyp.fit(x_eval, y_eval)"
   ]
  },
  {
   "cell_type": "code",
   "execution_count": 33,
   "metadata": {},
   "outputs": [
    {
     "name": "stdout",
     "output_type": "stream",
     "text": [
      "Best estimator:  LinearRegression(copy_X=True, fit_intercept=False, n_jobs=None,\n",
      "         normalize=True)\n",
      "Best R2 score:  0.49621485695006273\n"
     ]
    }
   ],
   "source": [
    "print(\"Best estimator: \", base_model.best_estimator_)\n",
    "print(\"Best R2 score: \", base_model.best_score_)"
   ]
  },
  {
   "cell_type": "markdown",
   "metadata": {},
   "source": [
    "#### Test"
   ]
  },
  {
   "cell_type": "code",
   "execution_count": 40,
   "metadata": {},
   "outputs": [
    {
     "name": "stdout",
     "output_type": "stream",
     "text": [
      "R^2 Score:  0.5549948578792075\n",
      "RMSE:  686.3058324607819\n"
     ]
    },
    {
     "data": {
      "image/png": "[encoded data removed]",
      "text/plain": [
       "<Figure size 432x288 with 1 Axes>"
      ]
     },
     "metadata": {
      "needs_background": "light"
     },
     "output_type": "display_data"
    }
   ],
   "source": [
    "test_base_score = base.score(x_test, y_test)\n",
    "\n",
    "y_pred_test_base = base.predict(x_test)\n",
    "test_base_mse = mean_squared_error(y_pred_test_base, y_test)\n",
    "\n",
    "print(\"R^2 Score: \", test_base_score)\n",
    "print(\"RMSE: \", np.sqrt(test_base_mse))\n",
    "\n",
    "visualizer = PredictionError(base)\n",
    "visualizer.fit(x_train.drop(columns={\"Date\"}), y_train[\"CrowdednessCount\"])  # Fit the training data to the visualizer\n",
    "visualizer.score(x_test, y_test)  # Evaluate the model on the test data\n",
    "g = visualizer.poof() "
   ]
  },
  {
   "cell_type": "markdown",
   "metadata": {},
   "source": [
    "### Random Forrest Regressor \n",
    "Implemented the [Sklearn Version](https://scikit-learn.org/stable/modules/generated/sklearn.ensemble.RandomForestRegressor.html)"
   ]
  },
  {
   "cell_type": "markdown",
   "metadata": {},
   "source": [
    "#### Training"
   ]
  },
  {
   "cell_type": "code",
   "execution_count": 41,
   "metadata": {},
   "outputs": [],
   "source": [
    "rfg = RandomForestRegressor(n_estimators=400, criterion='mse', max_features=None, bootstrap=True, random_state=42,\n",
    "                           n_jobs=4)"
   ]
  },
  {
   "cell_type": "code",
   "execution_count": 42,
   "metadata": {},
   "outputs": [
    {
     "name": "stdout",
     "output_type": "stream",
     "text": [
      "Average R^2 Score:  0.8846369904308009\n",
      "Average RMSE Score:  330.08088206455756\n"
     ]
    }
   ],
   "source": [
    "mean_score = 0\n",
    "mean_rmse = 0\n",
    "\n",
    "for train_index, val_index in kf.split(train_dates):\n",
    "    rfg.fit(x_train[x_train[\"Date\"].isin(train_dates[train_index])].drop(columns={\"Date\"}),\n",
    "             y_train[y_train[\"Date\"].isin(train_dates[train_index])][\"CrowdednessCount\"])\n",
    "    \n",
    "    mean_score += rfg.score(x_train[x_train[\"Date\"].isin(train_dates[val_index])].drop(columns={\"Date\"}),\n",
    "             y_train[y_train[\"Date\"].isin(train_dates[val_index])][\"CrowdednessCount\"])\n",
    "    \n",
    "    y_pred_rfg = rfg.predict(x_train[x_train[\"Date\"].isin(train_dates[val_index])].drop(columns={\"Date\"}))\n",
    "    mean_rmse += np.sqrt(mean_squared_error(y_pred_rfg, \n",
    "                                            y_train[y_train[\"Date\"].isin(train_dates[val_index])][\"CrowdednessCount\"]))\n",
    "\n",
    "mean_score /= 10\n",
    "mean_rmse /= 10\n",
    "\n",
    "print(\"Average R^2 Score: \", mean_score)\n",
    "print(\"Average RMSE Score: \", mean_rmse)"
   ]
  },
  {
   "cell_type": "markdown",
   "metadata": {},
   "source": [
    "#### Hyperparameter Tuning"
   ]
  },
  {
   "cell_type": "code",
   "execution_count": 34,
   "metadata": {},
   "outputs": [
    {
     "name": "stderr",
     "output_type": "stream",
     "text": [
      "D:\\Programs\\Anaconda\\envs\\Analytics\\lib\\site-packages\\sklearn\\model_selection\\_search.py:841: DeprecationWarning: The default of the `iid` parameter will change from True to False in version 0.22 and will be removed in 0.24. This will change numeric results when test-set sizes are unequal.\n",
      "  DeprecationWarning)\n"
     ]
    }
   ],
   "source": [
    "rfg = RandomForestRegressor()\n",
    "\n",
    "n_estimators = [350, 400, 450]\n",
    "criterion = [\"mse\"]\n",
    "max_features = [\"log2\", \"auto\", None]\n",
    "bootstrap = [True]\n",
    "oob_score = [True, False]\n",
    "\n",
    "params = {\"n_estimators\": n_estimators,\n",
    "         \"criterion\": criterion,\n",
    "         \"max_features\": max_features,\n",
    "         \"bootstrap\": bootstrap,\n",
    "         \"oob_score\": oob_score}\n",
    "\n",
    "scores = [\"r2\", \"neg_mean_squared_error\"]\n",
    "\n",
    "hyp = RandomizedSearchCV(estimator=rfg, param_distributions=params, n_iter=10, scoring=scores, n_jobs=2, cv=10,\n",
    "                        random_state=42, refit=\"r2\")\n",
    "\n",
    "best_model = hyp.fit(x_eval, y_eval)"
   ]
  },
  {
   "cell_type": "code",
   "execution_count": 35,
   "metadata": {},
   "outputs": [
    {
     "name": "stdout",
     "output_type": "stream",
     "text": [
      "Best estimator:  RandomForestRegressor(bootstrap=True, criterion='mse', max_depth=None,\n",
      "           max_features=None, max_leaf_nodes=None,\n",
      "           min_impurity_decrease=0.0, min_impurity_split=None,\n",
      "           min_samples_leaf=1, min_samples_split=2,\n",
      "           min_weight_fraction_leaf=0.0, n_estimators=400, n_jobs=None,\n",
      "           oob_score=False, random_state=None, verbose=0, warm_start=False)\n",
      "Best R2 score:  0.7999450844367254\n"
     ]
    }
   ],
   "source": [
    "print(\"Best estimator: \", best_model.best_estimator_)\n",
    "print(\"Best R2 score: \", best_model.best_score_)"
   ]
  },
  {
   "cell_type": "markdown",
   "metadata": {},
   "source": [
    "#### Test"
   ]
  },
  {
   "cell_type": "code",
   "execution_count": 43,
   "metadata": {},
   "outputs": [
    {
     "name": "stdout",
     "output_type": "stream",
     "text": [
      "R^2 Score:  0.9170291770645919\n",
      "RMSE:  296.3451840233386\n"
     ]
    },
    {
     "data": {
      "image/png": "[encoded data removed]",
      "text/plain": [
       "<Figure size 432x288 with 1 Axes>"
      ]
     },
     "metadata": {
      "needs_background": "light"
     },
     "output_type": "display_data"
    }
   ],
   "source": [
    "test_rfg_score = rfg.score(x_test, y_test)\n",
    "\n",
    "y_pred_test_rfg = rfg.predict(x_test)\n",
    "test_rfg_mse = mean_squared_error(y_pred_test_rfg, y_test)\n",
    "\n",
    "print(\"R^2 Score: \", test_rfg_score)\n",
    "print(\"RMSE: \", np.sqrt(test_rfg_mse))\n",
    "\n",
    "visualizer = PredictionError(rfg)\n",
    "visualizer.fit(x_train.drop(columns={\"Date\"}), y_train[\"CrowdednessCount\"])  # Fit the training data to the visualizer\n",
    "visualizer.score(x_test, y_test)  # Evaluate the model on the test data\n",
    "g = visualizer.poof() "
   ]
  },
  {
   "cell_type": "markdown",
   "metadata": {},
   "source": [
    "#### Save Model"
   ]
  },
  {
   "cell_type": "code",
   "execution_count": 16,
   "metadata": {},
   "outputs": [],
   "source": [
    "filename = \"../../../Data_thesis/Models/rfg_model.sav\"\n",
    "\n",
    "pickle.dump(rfg, open(filename, 'wb'))"
   ]
  },
  {
   "cell_type": "markdown",
   "metadata": {},
   "source": [
    "### XGBoost Regressor\n",
    "Through [SciKit-Learn API](https://xgboost.readthedocs.io/en/latest/python/python_api.html) "
   ]
  },
  {
   "cell_type": "markdown",
   "metadata": {},
   "source": [
    "#### Training"
   ]
  },
  {
   "cell_type": "code",
   "execution_count": 53,
   "metadata": {},
   "outputs": [],
   "source": [
    "xgbr = xgb.XGBRegressor(learning_rate=0.1, n_estimators=275, booster='gbtree', objective='reg:tweedie',\n",
    "                       random_state=42, n_jobs=4)"
   ]
  },
  {
   "cell_type": "code",
   "execution_count": 54,
   "metadata": {},
   "outputs": [
    {
     "name": "stdout",
     "output_type": "stream",
     "text": [
      "Average R^2 Score:  0.8617029497445676\n",
      "Average RMSE Score:  362.83176965049745\n"
     ]
    }
   ],
   "source": [
    "mean_score = 0\n",
    "mean_rmse = 0\n",
    "\n",
    "for train_index, val_index in kf.split(train_dates):\n",
    "    \n",
    "    x_train_con, y_train_con = check_X_y(X=x_train[x_train[\"Date\"].isin(train_dates[train_index])].drop(columns={\"Date\"}),\n",
    "                                        y=y_train[y_train[\"Date\"].isin(train_dates[train_index])][\"CrowdednessCount\"])\n",
    "    \n",
    "    xgbr.fit(x_train_con,y_train_con)\n",
    "    \n",
    "    x_val_con, y_val_con = check_X_y(X=x_train[x_train[\"Date\"].isin(train_dates[val_index])].drop(columns={\"Date\"}),\n",
    "                                        y=y_train[y_train[\"Date\"].isin(train_dates[val_index])][\"CrowdednessCount\"])\n",
    "    \n",
    "    mean_score += xgbr.score(x_val_con,y_val_con)\n",
    "    \n",
    "    y_pred_xgbr = xgbr.predict(x_val_con)\n",
    "    mean_rmse += np.sqrt(mean_squared_error(y_pred_xgbr,y_val_con))\n",
    "\n",
    "mean_score /= 10\n",
    "mean_rmse /= 10\n",
    "\n",
    "print(\"Average R^2 Score: \", mean_score)\n",
    "print(\"Average RMSE Score: \", mean_rmse)"
   ]
  },
  {
   "cell_type": "markdown",
   "metadata": {},
   "source": [
    "#### Hyperparameter Tuning"
   ]
  },
  {
   "cell_type": "code",
   "execution_count": 51,
   "metadata": {},
   "outputs": [
    {
     "name": "stderr",
     "output_type": "stream",
     "text": [
      "D:\\Programs\\Anaconda\\envs\\Analytics\\lib\\site-packages\\xgboost\\core.py:587: FutureWarning: Series.base is deprecated and will be removed in a future version\n",
      "  if getattr(data, 'base', None) is not None and \\\n",
      "D:\\Programs\\Anaconda\\envs\\Analytics\\lib\\site-packages\\xgboost\\core.py:588: FutureWarning: Series.base is deprecated and will be removed in a future version\n",
      "  data.base is not None and isinstance(data, np.ndarray) \\\n"
     ]
    }
   ],
   "source": [
    "xgbr = xgb.XGBRegressor()\n",
    "\n",
    "learning_rate = [0.05, 0.1, 0.25, 0.5]\n",
    "n_estimators = [250, 275]\n",
    "booster = [\"gbtree\"]\n",
    "objective = [\"reg:linear\", \"reg:gamma\", \"reg:tweedie\"]\n",
    "\n",
    "params = {\"learning_rate\": learning_rate,\n",
    "         \"n_estimators\": n_estimators,\n",
    "         \"booster\": booster,\n",
    "         \"objective\": objective}\n",
    "\n",
    "scores = [\"r2\", \"neg_mean_squared_error\"]\n",
    "\n",
    "hyp = RandomizedSearchCV(estimator=xgbr, param_distributions=params, n_iter=10, scoring=scores, n_jobs=2, cv=10,\n",
    "                        random_state=42, refit=\"r2\")\n",
    "\n",
    "xgbr_model = hyp.fit(x_eval, y_eval)"
   ]
  },
  {
   "cell_type": "code",
   "execution_count": 52,
   "metadata": {},
   "outputs": [
    {
     "name": "stdout",
     "output_type": "stream",
     "text": [
      "Best estimator:  XGBRegressor(base_score=0.5, booster='gbtree', colsample_bylevel=1,\n",
      "       colsample_bytree=1, gamma=0, importance_type='gain',\n",
      "       learning_rate=0.1, max_delta_step=0, max_depth=3,\n",
      "       min_child_weight=1, missing=None, n_estimators=275, n_jobs=1,\n",
      "       nthread=None, objective='reg:tweedie', random_state=0, reg_alpha=0,\n",
      "       reg_lambda=1, scale_pos_weight=1, seed=None, silent=True,\n",
      "       subsample=1)\n",
      "Best R2 score:  0.7903799172112594\n"
     ]
    }
   ],
   "source": [
    "print(\"Best estimator: \", xgbr_model.best_estimator_)\n",
    "print(\"Best R2 score: \", xgbr_model.best_score_)"
   ]
  },
  {
   "cell_type": "markdown",
   "metadata": {},
   "source": [
    "#### Test"
   ]
  },
  {
   "cell_type": "code",
   "execution_count": 55,
   "metadata": {},
   "outputs": [
    {
     "name": "stdout",
     "output_type": "stream",
     "text": [
      "R^2 Score:  0.8917887702793477\n",
      "RMSE:  338.4319382466268\n"
     ]
    },
    {
     "name": "stderr",
     "output_type": "stream",
     "text": [
      "D:\\Programs\\Anaconda\\envs\\Analytics\\lib\\site-packages\\xgboost\\core.py:587: FutureWarning: Series.base is deprecated and will be removed in a future version\n",
      "  if getattr(data, 'base', None) is not None and \\\n",
      "D:\\Programs\\Anaconda\\envs\\Analytics\\lib\\site-packages\\xgboost\\core.py:588: FutureWarning: Series.base is deprecated and will be removed in a future version\n",
      "  data.base is not None and isinstance(data, np.ndarray) \\\n"
     ]
    },
    {
     "data": {
      "image/png": "[encoded data removed]",
      "text/plain": [
       "<Figure size 432x288 with 1 Axes>"
      ]
     },
     "metadata": {
      "needs_background": "light"
     },
     "output_type": "display_data"
    }
   ],
   "source": [
    "x_test_con, y_test_con = check_X_y(X=x_test, y=y_test)\n",
    "\n",
    "test_xgbr_score = xgbr.score(x_test_con, y_test_con)\n",
    "\n",
    "y_pred_test_xgbr = xgbr.predict(x_test_con)\n",
    "test_xgbr_mse = mean_squared_error(y_pred_test_xgbr, y_test_con)\n",
    "\n",
    "print(\"R^2 Score: \", test_xgbr_score)\n",
    "print(\"RMSE: \", np.sqrt(test_xgbr_mse))\n",
    "\n",
    "visualizer = PredictionError(xgbr)\n",
    "visualizer.fit(x_train.drop(columns={\"Date\"}), y_train[\"CrowdednessCount\"]) # Fit the training data to the visualizer\n",
    "visualizer.score(x_test, y_test)  # Evaluate the model on the test data\n",
    "g = visualizer.poof() "
   ]
  },
  {
   "cell_type": "markdown",
   "metadata": {},
   "source": [
    "#### Save model to File"
   ]
  },
  {
   "cell_type": "code",
   "execution_count": 18,
   "metadata": {},
   "outputs": [],
   "source": [
    "filename = \"../../../Data_thesis/Models/xgbr_model.sav\"\n",
    "\n",
    "pickle.dump(xgbr, open(filename, 'wb'))"
   ]
  }
 ],
 "metadata": {
  "kernelspec": {
   "display_name": "Python 3",
   "language": "python",
   "name": "python3"
  },
  "language_info": {
   "codemirror_mode": {
    "name": "ipython",
    "version": 3
   },
   "file_extension": ".py",
   "mimetype": "text/x-python",
   "name": "python",
   "nbconvert_exporter": "python",
   "pygments_lexer": "ipython3",
   "version": "3.7.1"
  }
 },
 "nbformat": 4,
 "nbformat_minor": 2
}
