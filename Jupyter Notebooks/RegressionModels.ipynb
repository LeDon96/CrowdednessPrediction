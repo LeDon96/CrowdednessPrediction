{
 "cells": [
  {
   "cell_type": "markdown",
   "metadata": {},
   "source": [
    "# Regression Models"
   ]
  },
  {
   "cell_type": "markdown",
   "metadata": {},
   "source": [
    "## Imports"
   ]
  },
  {
   "cell_type": "code",
   "execution_count": 1,
   "metadata": {},
   "outputs": [
    {
     "name": "stdout",
     "output_type": "stream",
     "text": [
      "Importing Jupyter notebook from TrainTestEvalSplit.ipynb\n"
     ]
    }
   ],
   "source": [
    "from sklearn.linear_model import LinearRegression\n",
    "from sklearn.ensemble import RandomForestRegressor\n",
    "\n",
    "import xgboost as xgb\n",
    "\n",
    "from sklearn.metrics import mean_squared_error\n",
    "from sklearn.metrics import make_scorer\n",
    "\n",
    "from yellowbrick.regressor import PredictionError\n",
    "\n",
    "import pandas as pd\n",
    "import numpy as np\n",
    "import matplotlib.pyplot as plt\n",
    "%matplotlib inline\n",
    "import nbimporter\n",
    "\n",
    "import TrainTestEvalSplit as split\n",
    "from sklearn.model_selection import KFold\n",
    "\n",
    "import pickle\n",
    "from sklearn.utils import check_X_y\n",
    "from sklearn.model_selection import RandomizedSearchCV\n",
    "\n",
    "from sklearn.feature_selection import SelectFromModel"
   ]
  },
  {
   "cell_type": "markdown",
   "metadata": {},
   "source": [
    "## Import File"
   ]
  },
  {
   "cell_type": "code",
   "execution_count": 2,
   "metadata": {},
   "outputs": [
    {
     "data": {
      "text/html": [
       "<div>\n",
       "<style scoped>\n",
       "    .dataframe tbody tr th:only-of-type {\n",
       "        vertical-align: middle;\n",
       "    }\n",
       "\n",
       "    .dataframe tbody tr th {\n",
       "        vertical-align: top;\n",
       "    }\n",
       "\n",
       "    .dataframe thead th {\n",
       "        text-align: right;\n",
       "    }\n",
       "</style>\n",
       "<table border=\"1\" class=\"dataframe\">\n",
       "  <thead>\n",
       "    <tr style=\"text-align: right;\">\n",
       "      <th></th>\n",
       "      <th>Date</th>\n",
       "      <th>Hour</th>\n",
       "      <th>Nieuwmarkt Lat</th>\n",
       "      <th>Nieuwmarkt Lon</th>\n",
       "      <th>Nieuwezijds Kolk Lat</th>\n",
       "      <th>Nieuwezijds Kolk Lon</th>\n",
       "      <th>Dam Lat</th>\n",
       "      <th>Dam Lon</th>\n",
       "      <th>Spui Lat</th>\n",
       "      <th>Spui Lon</th>\n",
       "      <th>...</th>\n",
       "      <th>Nieuwmarkt score</th>\n",
       "      <th>Nieuwmarkt weight</th>\n",
       "      <th>Nieuwezijds Kolk score</th>\n",
       "      <th>Nieuwezijds Kolk weight</th>\n",
       "      <th>Dam score</th>\n",
       "      <th>Dam weight</th>\n",
       "      <th>Spui score</th>\n",
       "      <th>Spui weight</th>\n",
       "      <th>Centraal Station score</th>\n",
       "      <th>Centraal Station weight</th>\n",
       "    </tr>\n",
       "  </thead>\n",
       "  <tbody>\n",
       "    <tr>\n",
       "      <th>0</th>\n",
       "      <td>2018-01-01</td>\n",
       "      <td>100</td>\n",
       "      <td>52.371942</td>\n",
       "      <td>4.901239</td>\n",
       "      <td>52.376288</td>\n",
       "      <td>4.893731</td>\n",
       "      <td>52.373127</td>\n",
       "      <td>4.89008</td>\n",
       "      <td>52.369097</td>\n",
       "      <td>4.889259</td>\n",
       "      <td>...</td>\n",
       "      <td>-928.658709</td>\n",
       "      <td>-2.645751</td>\n",
       "      <td>-71.435285</td>\n",
       "      <td>-2.645751</td>\n",
       "      <td>-0.000000</td>\n",
       "      <td>-2.645751</td>\n",
       "      <td>-0.000000</td>\n",
       "      <td>-2.645751</td>\n",
       "      <td>-5193.609816</td>\n",
       "      <td>-2.645751</td>\n",
       "    </tr>\n",
       "    <tr>\n",
       "      <th>1</th>\n",
       "      <td>2018-01-01</td>\n",
       "      <td>2200</td>\n",
       "      <td>52.371942</td>\n",
       "      <td>4.901239</td>\n",
       "      <td>52.376288</td>\n",
       "      <td>4.893731</td>\n",
       "      <td>52.373127</td>\n",
       "      <td>4.89008</td>\n",
       "      <td>52.369097</td>\n",
       "      <td>4.889259</td>\n",
       "      <td>...</td>\n",
       "      <td>-1108.569798</td>\n",
       "      <td>-2.645751</td>\n",
       "      <td>-627.043060</td>\n",
       "      <td>-2.645751</td>\n",
       "      <td>-3529.432244</td>\n",
       "      <td>-2.645751</td>\n",
       "      <td>-285.741141</td>\n",
       "      <td>-2.645751</td>\n",
       "      <td>-9884.526883</td>\n",
       "      <td>-2.645751</td>\n",
       "    </tr>\n",
       "    <tr>\n",
       "      <th>2</th>\n",
       "      <td>2018-01-01</td>\n",
       "      <td>2100</td>\n",
       "      <td>52.371942</td>\n",
       "      <td>4.901239</td>\n",
       "      <td>52.376288</td>\n",
       "      <td>4.893731</td>\n",
       "      <td>52.373127</td>\n",
       "      <td>4.89008</td>\n",
       "      <td>52.369097</td>\n",
       "      <td>4.889259</td>\n",
       "      <td>...</td>\n",
       "      <td>-1338.750161</td>\n",
       "      <td>-2.645751</td>\n",
       "      <td>-679.958086</td>\n",
       "      <td>-2.645751</td>\n",
       "      <td>-3211.942087</td>\n",
       "      <td>-2.645751</td>\n",
       "      <td>-452.423473</td>\n",
       "      <td>-2.645751</td>\n",
       "      <td>-11323.815594</td>\n",
       "      <td>-2.645751</td>\n",
       "    </tr>\n",
       "    <tr>\n",
       "      <th>3</th>\n",
       "      <td>2018-01-01</td>\n",
       "      <td>2000</td>\n",
       "      <td>52.371942</td>\n",
       "      <td>4.901239</td>\n",
       "      <td>52.376288</td>\n",
       "      <td>4.893731</td>\n",
       "      <td>52.373127</td>\n",
       "      <td>4.89008</td>\n",
       "      <td>52.369097</td>\n",
       "      <td>4.889259</td>\n",
       "      <td>...</td>\n",
       "      <td>-1307.001146</td>\n",
       "      <td>-2.645751</td>\n",
       "      <td>-902.201196</td>\n",
       "      <td>-2.645751</td>\n",
       "      <td>-4013.604733</td>\n",
       "      <td>-2.645751</td>\n",
       "      <td>-444.486220</td>\n",
       "      <td>-2.645751</td>\n",
       "      <td>-12501.174926</td>\n",
       "      <td>-2.645751</td>\n",
       "    </tr>\n",
       "    <tr>\n",
       "      <th>4</th>\n",
       "      <td>2018-01-01</td>\n",
       "      <td>1900</td>\n",
       "      <td>52.371942</td>\n",
       "      <td>4.901239</td>\n",
       "      <td>52.376288</td>\n",
       "      <td>4.893731</td>\n",
       "      <td>52.373127</td>\n",
       "      <td>4.89008</td>\n",
       "      <td>52.369097</td>\n",
       "      <td>4.889259</td>\n",
       "      <td>...</td>\n",
       "      <td>-1373.144928</td>\n",
       "      <td>-2.645751</td>\n",
       "      <td>-931.304460</td>\n",
       "      <td>-2.645751</td>\n",
       "      <td>-5093.071266</td>\n",
       "      <td>-2.645751</td>\n",
       "      <td>-658.792075</td>\n",
       "      <td>-2.645751</td>\n",
       "      <td>-14586.026955</td>\n",
       "      <td>-2.645751</td>\n",
       "    </tr>\n",
       "  </tbody>\n",
       "</table>\n",
       "<p>5 rows × 38 columns</p>\n",
       "</div>"
      ],
      "text/plain": [
       "        Date  Hour  Nieuwmarkt Lat  Nieuwmarkt Lon  Nieuwezijds Kolk Lat  \\\n",
       "0 2018-01-01   100       52.371942        4.901239             52.376288   \n",
       "1 2018-01-01  2200       52.371942        4.901239             52.376288   \n",
       "2 2018-01-01  2100       52.371942        4.901239             52.376288   \n",
       "3 2018-01-01  2000       52.371942        4.901239             52.376288   \n",
       "4 2018-01-01  1900       52.371942        4.901239             52.376288   \n",
       "\n",
       "   Nieuwezijds Kolk Lon    Dam Lat  Dam Lon   Spui Lat  Spui Lon  ...  \\\n",
       "0              4.893731  52.373127  4.89008  52.369097  4.889259  ...   \n",
       "1              4.893731  52.373127  4.89008  52.369097  4.889259  ...   \n",
       "2              4.893731  52.373127  4.89008  52.369097  4.889259  ...   \n",
       "3              4.893731  52.373127  4.89008  52.369097  4.889259  ...   \n",
       "4              4.893731  52.373127  4.89008  52.369097  4.889259  ...   \n",
       "\n",
       "   Nieuwmarkt score  Nieuwmarkt weight  Nieuwezijds Kolk score  \\\n",
       "0       -928.658709          -2.645751              -71.435285   \n",
       "1      -1108.569798          -2.645751             -627.043060   \n",
       "2      -1338.750161          -2.645751             -679.958086   \n",
       "3      -1307.001146          -2.645751             -902.201196   \n",
       "4      -1373.144928          -2.645751             -931.304460   \n",
       "\n",
       "   Nieuwezijds Kolk weight    Dam score  Dam weight  Spui score  Spui weight  \\\n",
       "0                -2.645751    -0.000000   -2.645751   -0.000000    -2.645751   \n",
       "1                -2.645751 -3529.432244   -2.645751 -285.741141    -2.645751   \n",
       "2                -2.645751 -3211.942087   -2.645751 -452.423473    -2.645751   \n",
       "3                -2.645751 -4013.604733   -2.645751 -444.486220    -2.645751   \n",
       "4                -2.645751 -5093.071266   -2.645751 -658.792075    -2.645751   \n",
       "\n",
       "   Centraal Station score  Centraal Station weight  \n",
       "0            -5193.609816                -2.645751  \n",
       "1            -9884.526883                -2.645751  \n",
       "2           -11323.815594                -2.645751  \n",
       "3           -12501.174926                -2.645751  \n",
       "4           -14586.026955                -2.645751  \n",
       "\n",
       "[5 rows x 38 columns]"
      ]
     },
     "execution_count": 2,
     "metadata": {},
     "output_type": "execute_result"
    }
   ],
   "source": [
    "full_df = pd.read_csv(\"../../../Data_thesis/Full_Datasets/Full.csv\")\n",
    "full_df[\"Date\"] = pd.to_datetime(full_df[\"Date\"], format=\"%Y-%m-%d\")\n",
    "\n",
    "full_df.head()"
   ]
  },
  {
   "cell_type": "markdown",
   "metadata": {},
   "source": [
    "## Train/Test/Eval split"
   ]
  },
  {
   "cell_type": "code",
   "execution_count": 3,
   "metadata": {},
   "outputs": [],
   "source": [
    "size = 0.8\n",
    "kf = KFold(n_splits=10, shuffle=True, random_state=42)\n",
    "stations = [\"Nieuwmarkt\", \"Nieuwezijds Kolk\", \"Dam\", \"Spui\", \"Centraal Station\"]"
   ]
  },
  {
   "cell_type": "code",
   "execution_count": 4,
   "metadata": {},
   "outputs": [],
   "source": [
    "x_train, y_train, x_eval, y_eval, train_dates = split.trainTestSplit(full_df, size, stations)"
   ]
  },
  {
   "cell_type": "markdown",
   "metadata": {},
   "source": [
    "## Feature Selection"
   ]
  },
  {
   "cell_type": "code",
   "execution_count": 22,
   "metadata": {},
   "outputs": [
    {
     "name": "stdout",
     "output_type": "stream",
     "text": [
      "Index(['LonScaled', 'hour_sin', 'hour_cos', 'Nieuwmarkt weight', 'Dam weight',\n",
      "       'Spui weight'],\n",
      "      dtype='object')\n"
     ]
    }
   ],
   "source": [
    "X=x_train.drop(columns={\"Date\"})\n",
    "y=y_train[\"CrowdednessCount\"]\n",
    "\n",
    "feature_model = SelectFromModel(RandomForestRegressor(n_estimators=250, random_state=42))\n",
    "feature_model.fit(X, y)\n",
    "\n",
    "selected_feat= X.columns[(feature_model.get_support())]\n",
    "\n",
    "print(selected_feat)"
   ]
  },
  {
   "cell_type": "markdown",
   "metadata": {},
   "source": [
    "## Models"
   ]
  },
  {
   "cell_type": "markdown",
   "metadata": {},
   "source": [
    "### Baseline: Linear Regression\n",
    "Implemented the [Sklearn Version](https://scikit-learn.org/stable/modules/generated/sklearn.linear_model.LinearRegression.html#sklearn.linear_model.LinearRegression)"
   ]
  },
  {
   "cell_type": "markdown",
   "metadata": {},
   "source": [
    "#### Training"
   ]
  },
  {
   "cell_type": "code",
   "execution_count": 5,
   "metadata": {},
   "outputs": [],
   "source": [
    "base = LinearRegression(copy_X=True, fit_intercept=False, normalize=True, n_jobs=4)"
   ]
  },
  {
   "cell_type": "code",
   "execution_count": 6,
   "metadata": {},
   "outputs": [
    {
     "name": "stdout",
     "output_type": "stream",
     "text": [
      "Average R^2 Score:  0.619193626802775\n",
      "Average RMSE Score:  641.7991649893813\n"
     ]
    }
   ],
   "source": [
    "mean_score = 0\n",
    "mean_rmse = 0\n",
    "\n",
    "for train_index, test_index in kf.split(train_dates):\n",
    "    base.fit(x_train[x_train[\"Date\"].isin(train_dates[train_index])].drop(columns={\"Date\"}),\n",
    "             y_train[y_train[\"Date\"].isin(train_dates[train_index])][\"CrowdednessCount\"])\n",
    "    \n",
    "    mean_score += base.score(x_train[x_train[\"Date\"].isin(train_dates[test_index])].drop(columns={\"Date\"}),\n",
    "             y_train[y_train[\"Date\"].isin(train_dates[test_index])][\"CrowdednessCount\"])\n",
    "    \n",
    "    y_pred_base = base.predict(x_train[x_train[\"Date\"].isin(train_dates[test_index])].drop(columns={\"Date\"}))\n",
    "    mean_rmse += np.sqrt(mean_squared_error(y_pred_base, \n",
    "                                            y_train[y_train[\"Date\"].isin(train_dates[test_index])][\"CrowdednessCount\"]))\n",
    "\n",
    "mean_score /= 10\n",
    "mean_rmse /= 10\n",
    "\n",
    "print(\"Average R^2 Score: \", mean_score)\n",
    "print(\"Average RMSE Score: \", mean_rmse)"
   ]
  },
  {
   "cell_type": "markdown",
   "metadata": {},
   "source": [
    "#### Hyperparameter Testing"
   ]
  },
  {
   "cell_type": "code",
   "execution_count": 10,
   "metadata": {},
   "outputs": [],
   "source": [
    "base = LinearRegression()\n",
    "\n",
    "fit_intercept = [True, False]\n",
    "normalize = [True, False]\n",
    "copy_X = [True, False]\n",
    "\n",
    "params = {\"fit_intercept\": fit_intercept,\n",
    "         \"normalize\": normalize,\n",
    "         \"copy_X\": copy_X}\n",
    "\n",
    "scores = [\"r2\", \"neg_mean_squared_error\"]\n",
    "\n",
    "hyp = RandomizedSearchCV(estimator=base, param_distributions=params, n_iter=8, scoring=scores, n_jobs=2, cv=10,\n",
    "                        random_state=42, refit=\"r2\")\n",
    "\n",
    "base_model = hyp.fit(x_train.drop(columns={\"Date\"}), y_train[\"CrowdednessCount\"])"
   ]
  },
  {
   "cell_type": "code",
   "execution_count": 11,
   "metadata": {},
   "outputs": [
    {
     "name": "stdout",
     "output_type": "stream",
     "text": [
      "Best estimator:  {'normalize': True, 'fit_intercept': False, 'copy_X': True}\n",
      "Best R2 score:  -214521155025.2449\n"
     ]
    }
   ],
   "source": [
    "print(\"Best estimator: \", base_model.best_params_)\n",
    "print(\"Best R2 score: \", base_model.best_score_)"
   ]
  },
  {
   "cell_type": "markdown",
   "metadata": {},
   "source": [
    "#### Test"
   ]
  },
  {
   "cell_type": "code",
   "execution_count": 7,
   "metadata": {},
   "outputs": [
    {
     "name": "stdout",
     "output_type": "stream",
     "text": [
      "R^2 Score:  0.6192630677935976\n",
      "RMSE:  651.9503132972302\n"
     ]
    },
    {
     "data": {
      "image/png": "[encoded data removed]",
      "text/plain": [
       "<Figure size 432x288 with 1 Axes>"
      ]
     },
     "metadata": {
      "needs_background": "light"
     },
     "output_type": "display_data"
    }
   ],
   "source": [
    "eval_base_score = base.score(x_eval, y_eval)\n",
    "\n",
    "y_pred_eval_base = base.predict(x_eval)\n",
    "eval_base_mse = mean_squared_error(y_pred_eval_base, y_eval)\n",
    "\n",
    "print(\"R^2 Score: \", eval_base_score)\n",
    "print(\"RMSE: \", np.sqrt(eval_base_mse))\n",
    "\n",
    "visualizer = PredictionError(base)\n",
    "visualizer.fit(x_train.drop(columns={\"Date\"}), y_train[\"CrowdednessCount\"])  # Fit the training data to the visualizer\n",
    "visualizer.score(x_eval, y_eval)  # Evaluate the model on the test data\n",
    "g = visualizer.poof() "
   ]
  },
  {
   "cell_type": "markdown",
   "metadata": {},
   "source": [
    "### Random Forrest Regressor \n",
    "Implemented the [Sklearn Version](https://scikit-learn.org/stable/modules/generated/sklearn.ensemble.RandomForestRegressor.html)"
   ]
  },
  {
   "cell_type": "markdown",
   "metadata": {},
   "source": [
    "#### Training"
   ]
  },
  {
   "cell_type": "code",
   "execution_count": 8,
   "metadata": {},
   "outputs": [],
   "source": [
    "rfg = RandomForestRegressor(n_estimators=350, criterion='mse', max_features=\"log2\", bootstrap=True, random_state=42,\n",
    "                           n_jobs=4)"
   ]
  },
  {
   "cell_type": "code",
   "execution_count": 9,
   "metadata": {},
   "outputs": [
    {
     "name": "stdout",
     "output_type": "stream",
     "text": [
      "Average R^2 Score:  0.8564900794985968\n",
      "Average RMSE Score:  390.2443038238378\n"
     ]
    }
   ],
   "source": [
    "mean_score = 0\n",
    "mean_rmse = 0\n",
    "\n",
    "for train_index, test_index in kf.split(train_dates):\n",
    "    rfg.fit(x_train[x_train[\"Date\"].isin(train_dates[train_index])].drop(columns={\"Date\"}),\n",
    "             y_train[y_train[\"Date\"].isin(train_dates[train_index])][\"CrowdednessCount\"])\n",
    "    \n",
    "    mean_score += rfg.score(x_train[x_train[\"Date\"].isin(train_dates[test_index])].drop(columns={\"Date\"}),\n",
    "             y_train[y_train[\"Date\"].isin(train_dates[test_index])][\"CrowdednessCount\"])\n",
    "    \n",
    "    y_pred_rfg = rfg.predict(x_train[x_train[\"Date\"].isin(train_dates[test_index])].drop(columns={\"Date\"}))\n",
    "    mean_rmse += np.sqrt(mean_squared_error(y_pred_rfg, \n",
    "                                            y_train[y_train[\"Date\"].isin(train_dates[test_index])][\"CrowdednessCount\"]))\n",
    "\n",
    "mean_score /= 10\n",
    "mean_rmse /= 10\n",
    "\n",
    "print(\"Average R^2 Score: \", mean_score)\n",
    "print(\"Average RMSE Score: \", mean_rmse)"
   ]
  },
  {
   "cell_type": "markdown",
   "metadata": {},
   "source": [
    "#### Hyperparameter Tuning"
   ]
  },
  {
   "cell_type": "code",
   "execution_count": 11,
   "metadata": {},
   "outputs": [],
   "source": [
    "rfg = RandomForestRegressor()\n",
    "\n",
    "n_estimators = [300, 325, 350]\n",
    "criterion = [\"mse\"]\n",
    "max_features = [\"log2\", \"auto\", None]\n",
    "bootstrap = [True]\n",
    "oob_score = [True, False]\n",
    "\n",
    "params = {\"n_estimators\": n_estimators,\n",
    "         \"criterion\": criterion,\n",
    "         \"max_features\": max_features,\n",
    "         \"bootstrap\": bootstrap,\n",
    "         \"oob_score\": oob_score}\n",
    "\n",
    "scores = [\"r2\", \"neg_mean_squared_error\"]\n",
    "\n",
    "hyp = RandomizedSearchCV(estimator=rfg, param_distributions=params, n_iter=10, scoring=scores, n_jobs=4, cv=10,\n",
    "                        random_state=42, refit=\"r2\")\n",
    "\n",
    "best_model = hyp.fit(x_train.drop(columns={\"Date\"}), y_train[\"CrowdednessCount\"])"
   ]
  },
  {
   "cell_type": "code",
   "execution_count": 12,
   "metadata": {},
   "outputs": [
    {
     "name": "stdout",
     "output_type": "stream",
     "text": [
      "Best estimator:  RandomForestRegressor(bootstrap=True, criterion='mse', max_depth=None,\n",
      "           max_features='log2', max_leaf_nodes=None,\n",
      "           min_impurity_decrease=0.0, min_impurity_split=None,\n",
      "           min_samples_leaf=1, min_samples_split=2,\n",
      "           min_weight_fraction_leaf=0.0, n_estimators=350, n_jobs=None,\n",
      "           oob_score=False, random_state=None, verbose=0, warm_start=False)\n",
      "Best R2 score:  0.7750248106640863\n"
     ]
    }
   ],
   "source": [
    "print(\"Best estimator: \", best_model.best_estimator_)\n",
    "print(\"Best R2 score: \", best_model.best_score_)"
   ]
  },
  {
   "cell_type": "markdown",
   "metadata": {},
   "source": [
    "#### Test"
   ]
  },
  {
   "cell_type": "code",
   "execution_count": 10,
   "metadata": {},
   "outputs": [
    {
     "name": "stdout",
     "output_type": "stream",
     "text": [
      "R^2 Score:  0.8794478276575658\n",
      "RMSE:  366.85083811701304\n"
     ]
    },
    {
     "data": {
      "image/png": "[encoded data removed]",
      "text/plain": [
       "<Figure size 432x288 with 1 Axes>"
      ]
     },
     "metadata": {
      "needs_background": "light"
     },
     "output_type": "display_data"
    }
   ],
   "source": [
    "eval_rfg_score = rfg.score(x_eval, y_eval)\n",
    "\n",
    "y_pred_eval_rfg = rfg.predict(x_eval)\n",
    "eval_rfg_mse = mean_squared_error(y_pred_eval_rfg, y_eval)\n",
    "\n",
    "print(\"R^2 Score: \", eval_rfg_score)\n",
    "print(\"RMSE: \", np.sqrt(eval_rfg_mse))\n",
    "\n",
    "visualizer = PredictionError(rfg)\n",
    "visualizer.fit(x_train.drop(columns={\"Date\"}), y_train[\"CrowdednessCount\"])  # Fit the training data to the visualizer\n",
    "visualizer.score(x_eval, y_eval)  # Evaluate the model on the test data\n",
    "g = visualizer.poof() "
   ]
  },
  {
   "cell_type": "markdown",
   "metadata": {},
   "source": [
    "#### Save Model"
   ]
  },
  {
   "cell_type": "code",
   "execution_count": 14,
   "metadata": {},
   "outputs": [],
   "source": [
    "filename = \"../../../Data_thesis/Models/rfg_model.sav\"\n",
    "\n",
    "pickle.dump(rfg, open(filename, 'wb'))"
   ]
  },
  {
   "cell_type": "markdown",
   "metadata": {},
   "source": [
    "### XGBoost Regressor\n",
    "Through [SciKit-Learn API](https://xgboost.readthedocs.io/en/latest/python/python_api.html) "
   ]
  },
  {
   "cell_type": "markdown",
   "metadata": {},
   "source": [
    "#### Training"
   ]
  },
  {
   "cell_type": "code",
   "execution_count": 3,
   "metadata": {},
   "outputs": [],
   "source": [
    "xgbr = xgb.XGBRegressor(learning_rate=0.1, n_estimators=275, booster='gbtree', objective='reg:linear',\n",
    "                       random_state=42, n_jobs=4)"
   ]
  },
  {
   "cell_type": "code",
   "execution_count": 7,
   "metadata": {},
   "outputs": [
    {
     "name": "stdout",
     "output_type": "stream",
     "text": [
      "Average R^2 Score:  0.8143045871479682\n",
      "Average RMSE Score:  445.9703428164218\n"
     ]
    }
   ],
   "source": [
    "mean_score = 0\n",
    "mean_rmse = 0\n",
    "\n",
    "for train_index, test_index in kf.split(train_dates):\n",
    "    \n",
    "    x = x_train[x_train[\"Date\"].isin(train_dates[train_index])].drop(columns={\"Date\"}).values\n",
    "    y = y_train[y_train[\"Date\"].isin(train_dates[train_index])][\"CrowdednessCount\"].values\n",
    "    \n",
    "    xgbr.fit(x, y)\n",
    "    \n",
    "    x_text = x_train[x_train[\"Date\"].isin(train_dates[test_index])].drop(columns={\"Date\"}).values\n",
    "    y_test = y_train[y_train[\"Date\"].isin(train_dates[test_index])][\"CrowdednessCount\"].values\n",
    "    \n",
    "    mean_score += xgbr.score(x_text,y_test)\n",
    "    \n",
    "    y_pred_xgbr = xgbr.predict(x_text)\n",
    "    mean_rmse += np.sqrt(mean_squared_error(y_pred_xgbr,y_test))\n",
    "\n",
    "mean_score /= 10\n",
    "mean_rmse /= 10\n",
    "\n",
    "print(\"Average R^2 Score: \", mean_score)\n",
    "print(\"Average RMSE Score: \", mean_rmse)"
   ]
  },
  {
   "cell_type": "markdown",
   "metadata": {},
   "source": [
    "#### Hyperparameter Tuning"
   ]
  },
  {
   "cell_type": "code",
   "execution_count": 13,
   "metadata": {},
   "outputs": [
    {
     "name": "stderr",
     "output_type": "stream",
     "text": [
      "D:\\Programs\\Anaconda\\envs\\Analytics\\lib\\site-packages\\sklearn\\externals\\joblib\\externals\\loky\\process_executor.py:706: UserWarning: A worker stopped while some jobs were given to the executor. This can be caused by a too short worker timeout or by a memory leak.\n",
      "  \"timeout or by a memory leak.\", UserWarning\n"
     ]
    }
   ],
   "source": [
    "xgbr = xgb.XGBRegressor()\n",
    "\n",
    "learning_rate = [0.05, 0.1, 0.25, 0.5]\n",
    "n_estimators = [250, 275, 300]\n",
    "booster = [\"gbtree\"]\n",
    "objective = [\"reg:linear\", \"reg:gamma\", \"reg:tweedie\"]\n",
    "\n",
    "params = {\"learning_rate\": learning_rate,\n",
    "         \"n_estimators\": n_estimators,\n",
    "         \"booster\": booster,\n",
    "         \"objective\": objective}\n",
    "\n",
    "scores = [\"r2\", \"neg_mean_squared_error\"]\n",
    "\n",
    "hyp = RandomizedSearchCV(estimator=xgbr, param_distributions=params, n_iter=10, scoring=scores, n_jobs=2, cv=10,\n",
    "                        random_state=42, refit=\"r2\")\n",
    "\n",
    "xgbr_model = hyp.fit(x_train.drop(columns={\"Date\"}).values, y_train[\"CrowdednessCount\"].values)"
   ]
  },
  {
   "cell_type": "code",
   "execution_count": 14,
   "metadata": {},
   "outputs": [
    {
     "name": "stdout",
     "output_type": "stream",
     "text": [
      "Best estimator:  XGBRegressor(base_score=0.5, booster='gbtree', colsample_bylevel=1,\n",
      "       colsample_bytree=1, gamma=0, importance_type='gain',\n",
      "       learning_rate=0.1, max_delta_step=0, max_depth=3,\n",
      "       min_child_weight=1, missing=None, n_estimators=275, n_jobs=1,\n",
      "       nthread=None, objective='reg:linear', random_state=0, reg_alpha=0,\n",
      "       reg_lambda=1, scale_pos_weight=1, seed=None, silent=True,\n",
      "       subsample=1)\n",
      "Best R2 score:  0.7554229501884095\n"
     ]
    }
   ],
   "source": [
    "print(\"Best estimator: \", xgbr_model.best_estimator_)\n",
    "print(\"Best R2 score: \", xgbr_model.best_score_)"
   ]
  },
  {
   "cell_type": "markdown",
   "metadata": {},
   "source": [
    "#### Test"
   ]
  },
  {
   "cell_type": "code",
   "execution_count": 8,
   "metadata": {},
   "outputs": [
    {
     "name": "stdout",
     "output_type": "stream",
     "text": [
      "R^2 Score:  0.8280708446626357\n",
      "RMSE:  438.10353758486866\n"
     ]
    },
    {
     "data": {
      "image/png": "[encoded data removed]",
      "text/plain": [
       "<Figure size 432x288 with 1 Axes>"
      ]
     },
     "metadata": {
      "needs_background": "light"
     },
     "output_type": "display_data"
    }
   ],
   "source": [
    "eval_xgbr_score = xgbr.score(x_eval.values, y_eval.values)\n",
    "\n",
    "y_pred_eval_xgbr = xgbr.predict(x_eval.values)\n",
    "eval_xgbr_mse = mean_squared_error(y_pred_eval_xgbr, y_eval.values)\n",
    "\n",
    "print(\"R^2 Score: \", eval_xgbr_score)\n",
    "print(\"RMSE: \", np.sqrt(eval_xgbr_mse))\n",
    "\n",
    "visualizer = PredictionError(xgbr)\n",
    "visualizer.fit(x_train.drop(columns={\"Date\"}).values, y_train[\"CrowdednessCount\"].values) # Fit the training data to the visualizer\n",
    "visualizer.score(x_eval.values, y_eval.values)  # Evaluate the model on the test data\n",
    "g = visualizer.poof() "
   ]
  },
  {
   "cell_type": "markdown",
   "metadata": {},
   "source": [
    "#### Save model to File"
   ]
  },
  {
   "cell_type": "code",
   "execution_count": 9,
   "metadata": {},
   "outputs": [],
   "source": [
    "filename = \"../../../Data_thesis/Models/xgbr_model.sav\"\n",
    "\n",
    "pickle.dump(xgbr, open(filename, 'wb'))"
   ]
  }
 ],
 "metadata": {
  "kernelspec": {
   "display_name": "Python 3",
   "language": "python",
   "name": "python3"
  },
  "language_info": {
   "codemirror_mode": {
    "name": "ipython",
    "version": 3
   },
   "file_extension": ".py",
   "mimetype": "text/x-python",
   "name": "python",
   "nbconvert_exporter": "python",
   "pygments_lexer": "ipython3",
   "version": "3.7.1"
  }
 },
 "nbformat": 4,
 "nbformat_minor": 2
}
