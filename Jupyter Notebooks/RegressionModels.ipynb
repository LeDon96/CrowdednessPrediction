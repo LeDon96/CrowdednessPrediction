{
 "cells": [
  {
   "cell_type": "markdown",
   "metadata": {},
   "source": [
    "# Regression Models"
   ]
  },
  {
   "cell_type": "markdown",
   "metadata": {},
   "source": [
    "## Imports"
   ]
  },
  {
   "cell_type": "code",
   "execution_count": 8,
   "metadata": {},
   "outputs": [],
   "source": [
    "from sklearn.linear_model import LinearRegression\n",
    "from sklearn.ensemble import RandomForestRegressor\n",
    "\n",
    "import xgboost as xgb\n",
    "\n",
    "from sklearn.metrics import mean_squared_error\n",
    "\n",
    "from yellowbrick.regressor import PredictionError\n",
    "\n",
    "import pandas as pd\n",
    "import numpy as np\n",
    "import matplotlib.pyplot as plt\n",
    "%matplotlib inline\n",
    "import nbimporter\n",
    "\n",
    "import TrainTestEvalSplit as split\n",
    "from sklearn.model_selection import KFold\n",
    "\n",
    "import pickle"
   ]
  },
  {
   "cell_type": "markdown",
   "metadata": {},
   "source": [
    "## Import File"
   ]
  },
  {
   "cell_type": "code",
   "execution_count": 9,
   "metadata": {},
   "outputs": [
    {
     "data": {
      "text/html": [
       "<div>\n",
       "<style scoped>\n",
       "    .dataframe tbody tr th:only-of-type {\n",
       "        vertical-align: middle;\n",
       "    }\n",
       "\n",
       "    .dataframe tbody tr th {\n",
       "        vertical-align: top;\n",
       "    }\n",
       "\n",
       "    .dataframe thead th {\n",
       "        text-align: right;\n",
       "    }\n",
       "</style>\n",
       "<table border=\"1\" class=\"dataframe\">\n",
       "  <thead>\n",
       "    <tr style=\"text-align: right;\">\n",
       "      <th></th>\n",
       "      <th>Date</th>\n",
       "      <th>Hour</th>\n",
       "      <th>Nieuwmarkt Arrivals</th>\n",
       "      <th>Nieuwezijds Kolk Arrivals</th>\n",
       "      <th>Dam Arrivals</th>\n",
       "      <th>Spui Arrivals</th>\n",
       "      <th>Nieuwmarkt Departures</th>\n",
       "      <th>Nieuwezijds Kolk Departures</th>\n",
       "      <th>Dam Departures</th>\n",
       "      <th>Spui Departures</th>\n",
       "      <th>...</th>\n",
       "      <th>SensorLatitude</th>\n",
       "      <th>CrowdednessCount</th>\n",
       "      <th>is_event</th>\n",
       "      <th>Year</th>\n",
       "      <th>month_sin</th>\n",
       "      <th>month_cos</th>\n",
       "      <th>day_sin</th>\n",
       "      <th>day_cos</th>\n",
       "      <th>hour_sin</th>\n",
       "      <th>hour_cos</th>\n",
       "    </tr>\n",
       "  </thead>\n",
       "  <tbody>\n",
       "    <tr>\n",
       "      <th>0</th>\n",
       "      <td>2018-03-11</td>\n",
       "      <td>100</td>\n",
       "      <td>0.0</td>\n",
       "      <td>0.0</td>\n",
       "      <td>13.0</td>\n",
       "      <td>0.0</td>\n",
       "      <td>0.0</td>\n",
       "      <td>0.0</td>\n",
       "      <td>90.0</td>\n",
       "      <td>0.0</td>\n",
       "      <td>...</td>\n",
       "      <td>5</td>\n",
       "      <td>886</td>\n",
       "      <td>0.0</td>\n",
       "      <td>2018</td>\n",
       "      <td>1.0</td>\n",
       "      <td>6.123234e-17</td>\n",
       "      <td>0.188227</td>\n",
       "      <td>0.982126</td>\n",
       "      <td>0.258819</td>\n",
       "      <td>0.965926</td>\n",
       "    </tr>\n",
       "    <tr>\n",
       "      <th>1</th>\n",
       "      <td>2018-03-11</td>\n",
       "      <td>2100</td>\n",
       "      <td>136.0</td>\n",
       "      <td>80.0</td>\n",
       "      <td>409.0</td>\n",
       "      <td>40.0</td>\n",
       "      <td>211.0</td>\n",
       "      <td>119.0</td>\n",
       "      <td>858.0</td>\n",
       "      <td>94.0</td>\n",
       "      <td>...</td>\n",
       "      <td>7</td>\n",
       "      <td>1603</td>\n",
       "      <td>0.0</td>\n",
       "      <td>2018</td>\n",
       "      <td>1.0</td>\n",
       "      <td>6.123234e-17</td>\n",
       "      <td>0.188227</td>\n",
       "      <td>0.982126</td>\n",
       "      <td>-0.707107</td>\n",
       "      <td>0.707107</td>\n",
       "    </tr>\n",
       "    <tr>\n",
       "      <th>2</th>\n",
       "      <td>2018-03-11</td>\n",
       "      <td>2100</td>\n",
       "      <td>136.0</td>\n",
       "      <td>80.0</td>\n",
       "      <td>409.0</td>\n",
       "      <td>40.0</td>\n",
       "      <td>211.0</td>\n",
       "      <td>119.0</td>\n",
       "      <td>858.0</td>\n",
       "      <td>94.0</td>\n",
       "      <td>...</td>\n",
       "      <td>0</td>\n",
       "      <td>21</td>\n",
       "      <td>0.0</td>\n",
       "      <td>2018</td>\n",
       "      <td>1.0</td>\n",
       "      <td>6.123234e-17</td>\n",
       "      <td>0.188227</td>\n",
       "      <td>0.982126</td>\n",
       "      <td>-0.707107</td>\n",
       "      <td>0.707107</td>\n",
       "    </tr>\n",
       "    <tr>\n",
       "      <th>3</th>\n",
       "      <td>2018-03-11</td>\n",
       "      <td>2100</td>\n",
       "      <td>136.0</td>\n",
       "      <td>80.0</td>\n",
       "      <td>409.0</td>\n",
       "      <td>40.0</td>\n",
       "      <td>211.0</td>\n",
       "      <td>119.0</td>\n",
       "      <td>858.0</td>\n",
       "      <td>94.0</td>\n",
       "      <td>...</td>\n",
       "      <td>9</td>\n",
       "      <td>88</td>\n",
       "      <td>0.0</td>\n",
       "      <td>2018</td>\n",
       "      <td>1.0</td>\n",
       "      <td>6.123234e-17</td>\n",
       "      <td>0.188227</td>\n",
       "      <td>0.982126</td>\n",
       "      <td>-0.707107</td>\n",
       "      <td>0.707107</td>\n",
       "    </tr>\n",
       "    <tr>\n",
       "      <th>4</th>\n",
       "      <td>2018-03-11</td>\n",
       "      <td>2100</td>\n",
       "      <td>136.0</td>\n",
       "      <td>80.0</td>\n",
       "      <td>409.0</td>\n",
       "      <td>40.0</td>\n",
       "      <td>211.0</td>\n",
       "      <td>119.0</td>\n",
       "      <td>858.0</td>\n",
       "      <td>94.0</td>\n",
       "      <td>...</td>\n",
       "      <td>2</td>\n",
       "      <td>49</td>\n",
       "      <td>0.0</td>\n",
       "      <td>2018</td>\n",
       "      <td>1.0</td>\n",
       "      <td>6.123234e-17</td>\n",
       "      <td>0.188227</td>\n",
       "      <td>0.982126</td>\n",
       "      <td>-0.707107</td>\n",
       "      <td>0.707107</td>\n",
       "    </tr>\n",
       "  </tbody>\n",
       "</table>\n",
       "<p>5 rows × 24 columns</p>\n",
       "</div>"
      ],
      "text/plain": [
       "        Date  Hour  Nieuwmarkt Arrivals  Nieuwezijds Kolk Arrivals  \\\n",
       "0 2018-03-11   100                  0.0                        0.0   \n",
       "1 2018-03-11  2100                136.0                       80.0   \n",
       "2 2018-03-11  2100                136.0                       80.0   \n",
       "3 2018-03-11  2100                136.0                       80.0   \n",
       "4 2018-03-11  2100                136.0                       80.0   \n",
       "\n",
       "   Dam Arrivals  Spui Arrivals  Nieuwmarkt Departures  \\\n",
       "0          13.0            0.0                    0.0   \n",
       "1         409.0           40.0                  211.0   \n",
       "2         409.0           40.0                  211.0   \n",
       "3         409.0           40.0                  211.0   \n",
       "4         409.0           40.0                  211.0   \n",
       "\n",
       "   Nieuwezijds Kolk Departures  Dam Departures  Spui Departures  ...  \\\n",
       "0                          0.0            90.0              0.0  ...   \n",
       "1                        119.0           858.0             94.0  ...   \n",
       "2                        119.0           858.0             94.0  ...   \n",
       "3                        119.0           858.0             94.0  ...   \n",
       "4                        119.0           858.0             94.0  ...   \n",
       "\n",
       "   SensorLatitude  CrowdednessCount is_event  Year  month_sin     month_cos  \\\n",
       "0               5               886      0.0  2018        1.0  6.123234e-17   \n",
       "1               7              1603      0.0  2018        1.0  6.123234e-17   \n",
       "2               0                21      0.0  2018        1.0  6.123234e-17   \n",
       "3               9                88      0.0  2018        1.0  6.123234e-17   \n",
       "4               2                49      0.0  2018        1.0  6.123234e-17   \n",
       "\n",
       "    day_sin   day_cos  hour_sin  hour_cos  \n",
       "0  0.188227  0.982126  0.258819  0.965926  \n",
       "1  0.188227  0.982126 -0.707107  0.707107  \n",
       "2  0.188227  0.982126 -0.707107  0.707107  \n",
       "3  0.188227  0.982126 -0.707107  0.707107  \n",
       "4  0.188227  0.982126 -0.707107  0.707107  \n",
       "\n",
       "[5 rows x 24 columns]"
      ]
     },
     "execution_count": 9,
     "metadata": {},
     "output_type": "execute_result"
    }
   ],
   "source": [
    "full_df = pd.read_csv(\"../../../Data_thesis/Full_Datasets/Full.csv\")\n",
    "full_df[\"Date\"] = pd.to_datetime(full_df[\"Date\"], format=\"%Y-%m-%d\")\n",
    "\n",
    "full_df.head()"
   ]
  },
  {
   "cell_type": "markdown",
   "metadata": {},
   "source": [
    "## Train/Test/Eval split"
   ]
  },
  {
   "cell_type": "code",
   "execution_count": 10,
   "metadata": {},
   "outputs": [],
   "source": [
    "size = 0.9\n",
    "sensor = \"GAWW-02\"\n",
    "kf = KFold(n_splits=10, shuffle=True, random_state=42)"
   ]
  },
  {
   "cell_type": "code",
   "execution_count": 11,
   "metadata": {},
   "outputs": [],
   "source": [
    "x_train, y_train, x_test, y_test, x_test_series, y_test_series, feature_labels, train_dates = split.trainTestSplit(full_df, size, sensor)"
   ]
  },
  {
   "cell_type": "markdown",
   "metadata": {},
   "source": [
    "## Models"
   ]
  },
  {
   "cell_type": "markdown",
   "metadata": {},
   "source": [
    "### Baseline: Linear Regression\n",
    "Implemented the [Sklearn Version](https://scikit-learn.org/stable/modules/generated/sklearn.linear_model.LinearRegression.html#sklearn.linear_model.LinearRegression)"
   ]
  },
  {
   "cell_type": "markdown",
   "metadata": {},
   "source": [
    "#### Training"
   ]
  },
  {
   "cell_type": "code",
   "execution_count": 12,
   "metadata": {},
   "outputs": [],
   "source": [
    "base = LinearRegression(n_jobs=10, normalize=True)"
   ]
  },
  {
   "cell_type": "code",
   "execution_count": 13,
   "metadata": {},
   "outputs": [
    {
     "name": "stdout",
     "output_type": "stream",
     "text": [
      "Average R^2 Score:  0.32209681209379165\n",
      "Average RMSE Score:  809.486009035834\n"
     ]
    }
   ],
   "source": [
    "mean_score = 0\n",
    "mean_rmse = 0\n",
    "\n",
    "for train_index, val_index in kf.split(train_dates):\n",
    "    base.fit(x_train[x_train[\"Date\"].isin(train_dates[train_index])].drop(columns={\"Date\"}),\n",
    "             y_train[y_train[\"Date\"].isin(train_dates[train_index])][\"CrowdednessCount\"])\n",
    "    \n",
    "    mean_score += base.score(x_train[x_train[\"Date\"].isin(train_dates[val_index])].drop(columns={\"Date\"}),\n",
    "             y_train[y_train[\"Date\"].isin(train_dates[val_index])][\"CrowdednessCount\"])\n",
    "    \n",
    "    y_pred_base = base.predict(x_train[x_train[\"Date\"].isin(train_dates[val_index])].drop(columns={\"Date\"}))\n",
    "    mean_rmse += np.sqrt(mean_squared_error(y_pred_base, \n",
    "                                            y_train[y_train[\"Date\"].isin(train_dates[val_index])][\"CrowdednessCount\"]))\n",
    "\n",
    "mean_score /= 10\n",
    "mean_rmse /= 10\n",
    "\n",
    "print(\"Average R^2 Score: \", mean_score)\n",
    "print(\"Average RMSE Score: \", mean_rmse)"
   ]
  },
  {
   "cell_type": "markdown",
   "metadata": {},
   "source": [
    "#### Test"
   ]
  },
  {
   "cell_type": "code",
   "execution_count": 14,
   "metadata": {},
   "outputs": [
    {
     "name": "stdout",
     "output_type": "stream",
     "text": [
      "R^2 Score:  0.32413885294730216\n",
      "RMSE:  792.6173203962392\n"
     ]
    },
    {
     "data": {
      "image/png": "[encoded data removed]",
      "text/plain": [
       "<Figure size 432x288 with 1 Axes>"
      ]
     },
     "metadata": {
      "needs_background": "light"
     },
     "output_type": "display_data"
    }
   ],
   "source": [
    "test_base_score = base.score(x_test, y_test)\n",
    "\n",
    "y_pred_test_base = base.predict(x_test)\n",
    "test_base_mse = mean_squared_error(y_pred_test_base, y_test)\n",
    "\n",
    "print(\"R^2 Score: \", test_base_score)\n",
    "print(\"RMSE: \", np.sqrt(test_base_mse))\n",
    "\n",
    "visualizer = PredictionError(base)\n",
    "visualizer.fit(x_train.drop(columns={\"Date\"}), y_train[\"CrowdednessCount\"])  # Fit the training data to the visualizer\n",
    "visualizer.score(x_test, y_test)  # Evaluate the model on the test data\n",
    "g = visualizer.poof() "
   ]
  },
  {
   "cell_type": "code",
   "execution_count": 15,
   "metadata": {},
   "outputs": [
    {
     "data": {
      "image/png": "[encoded data removed]",
      "text/plain": [
       "<Figure size 432x288 with 1 Axes>"
      ]
     },
     "metadata": {
      "needs_background": "light"
     },
     "output_type": "display_data"
    }
   ],
   "source": [
    "#Time series\n",
    "time_pred_test_base = base.predict(x_test_series)\n",
    "\n",
    "time_pred_series_test_base = pd.Series(time_pred_test_base)\n",
    "time_real_series_test_base = pd.Series(y_test_series)\n",
    "\n",
    "time_real_series_test_base.plot(legend=True, label=\"Actual\")\n",
    "time_pred_series_test_base.plot(legend=True, title='Crowdedness Prediction - Linear Regression', label=\"Predicted\")\n",
    "plt.show()"
   ]
  },
  {
   "cell_type": "markdown",
   "metadata": {},
   "source": [
    "### Random Forrest Regressor \n",
    "Implemented the [Sklearn Version](https://scikit-learn.org/stable/modules/generated/sklearn.ensemble.RandomForestRegressor.html)"
   ]
  },
  {
   "cell_type": "markdown",
   "metadata": {},
   "source": [
    "#### Training"
   ]
  },
  {
   "cell_type": "code",
   "execution_count": 16,
   "metadata": {},
   "outputs": [],
   "source": [
    "rfg = RandomForestRegressor(n_estimators=500, criterion=\"mse\", n_jobs=100, random_state=42, bootstrap=True, \n",
    "                               oob_score=True)"
   ]
  },
  {
   "cell_type": "code",
   "execution_count": null,
   "metadata": {},
   "outputs": [],
   "source": [
    "mean_score = 0\n",
    "mean_rmse = 0\n",
    "\n",
    "for train_index, val_index in kf.split(train_dates):\n",
    "    rfg.fit(x_train[x_train[\"Date\"].isin(train_dates[train_index])].drop(columns={\"Date\"}),\n",
    "             y_train[y_train[\"Date\"].isin(train_dates[train_index])][\"CrowdednessCount\"])\n",
    "    \n",
    "    mean_score += rfg.score(x_train[x_train[\"Date\"].isin(train_dates[val_index])].drop(columns={\"Date\"}),\n",
    "             y_train[y_train[\"Date\"].isin(train_dates[val_index])][\"CrowdednessCount\"])\n",
    "    \n",
    "    y_pred_rfg = rfg.predict(x_train[x_train[\"Date\"].isin(train_dates[val_index])].drop(columns={\"Date\"}))\n",
    "    mean_rmse += np.sqrt(mean_squared_error(y_pred_rfg, \n",
    "                                            y_train[y_train[\"Date\"].isin(train_dates[val_index])][\"CrowdednessCount\"]))\n",
    "\n",
    "mean_score /= 10\n",
    "mean_rmse /= 10\n",
    "\n",
    "print(\"Average R^2 Score: \", mean_score)\n",
    "print(\"Average RMSE Score: \", mean_rmse)"
   ]
  },
  {
   "cell_type": "markdown",
   "metadata": {},
   "source": [
    "#### Test"
   ]
  },
  {
   "cell_type": "code",
   "execution_count": null,
   "metadata": {},
   "outputs": [],
   "source": [
    "test_rfg_score = rfg.score(x_test, y_test)\n",
    "\n",
    "y_pred_test_rfg = rfg.predict(x_test)\n",
    "test_rfg_mse = mean_squared_error(y_pred_test_rfg, y_test)\n",
    "\n",
    "print(\"R^2 Score: \", test_rfg_score)\n",
    "print(\"RMSE: \", np.sqrt(test_rfg_mse))\n",
    "\n",
    "visualizer = PredictionError(rfg)\n",
    "visualizer.fit(x_train.drop(columns={\"Date\"}), y_train[\"CrowdednessCount\"])  # Fit the training data to the visualizer\n",
    "visualizer.score(x_test, y_test)  # Evaluate the model on the test data\n",
    "g = visualizer.poof() "
   ]
  },
  {
   "cell_type": "code",
   "execution_count": null,
   "metadata": {},
   "outputs": [],
   "source": [
    "#Time series\n",
    "time_pred_test_rfg = rfg.predict(x_test_series)\n",
    "\n",
    "time_pred_series_test_rfg = pd.Series(time_pred_test_rfg)\n",
    "time_real_series_test_rfg = pd.Series(y_test_series)\n",
    "\n",
    "time_real_series_test_rfg.plot(legend=True, label=\"Actual\")\n",
    "time_pred_series_test_rfg.plot(legend=True, title='Crowdedness Prediction - Random Forrest Regressor', label=\"Predicted\")\n",
    "plt.show()"
   ]
  },
  {
   "cell_type": "markdown",
   "metadata": {},
   "source": [
    "#### Save Model"
   ]
  },
  {
   "cell_type": "code",
   "execution_count": 16,
   "metadata": {},
   "outputs": [],
   "source": [
    "filename = \"../../../Data_thesis/Models/rfg_model.sav\"\n",
    "\n",
    "pickle.dump(rfg, open(filename, 'wb'))"
   ]
  },
  {
   "cell_type": "markdown",
   "metadata": {},
   "source": [
    "### XGBoost Regressor\n",
    "Through [SciKit-Learn API](https://xgboost.readthedocs.io/en/latest/python/python_api.html) "
   ]
  },
  {
   "cell_type": "markdown",
   "metadata": {},
   "source": [
    "#### Training"
   ]
  },
  {
   "cell_type": "code",
   "execution_count": null,
   "metadata": {},
   "outputs": [],
   "source": [
    "xgbr = xgb.XGBRegressor(max_depth=6, learning_rate=0.08, n_estimators=500, verbosity=1,\n",
    "                          booster=\"gbtree\", n_jobs=50, random_state=42)"
   ]
  },
  {
   "cell_type": "code",
   "execution_count": null,
   "metadata": {},
   "outputs": [],
   "source": [
    "mean_score = 0\n",
    "mean_rmse = 0\n",
    "\n",
    "for train_index, val_index in kf.split(train_dates):\n",
    "    xgbr.fit(x_train[x_train[\"Date\"].isin(train_dates[train_index])].drop(columns={\"Date\"}),\n",
    "             y_train[y_train[\"Date\"].isin(train_dates[train_index])][\"CrowdednessCount\"])\n",
    "    \n",
    "    mean_score += xgbr.score(x_train[x_train[\"Date\"].isin(train_dates[val_index])].drop(columns={\"Date\"}),\n",
    "             y_train[y_train[\"Date\"].isin(train_dates[val_index])][\"CrowdednessCount\"])\n",
    "    \n",
    "    y_pred_xgbr = xgbr.predict(x_train[x_train[\"Date\"].isin(train_dates[val_index])].drop(columns={\"Date\"}))\n",
    "    mean_rmse += np.sqrt(mean_squared_error(y_pred_xgbr, \n",
    "                                            y_train[y_train[\"Date\"].isin(train_dates[val_index])][\"CrowdednessCount\"]))\n",
    "\n",
    "mean_score /= 10\n",
    "mean_rmse /= 10\n",
    "\n",
    "print(\"Average R^2 Score: \", mean_score)\n",
    "print(\"Average RMSE Score: \", mean_rmse)"
   ]
  },
  {
   "cell_type": "markdown",
   "metadata": {},
   "source": [
    "#### Test"
   ]
  },
  {
   "cell_type": "code",
   "execution_count": null,
   "metadata": {},
   "outputs": [],
   "source": [
    "test_xgbr_score = xgbr.score(x_test, y_test)\n",
    "\n",
    "y_pred_test_xgbr = xgbr.predict(x_test)\n",
    "test_xgbr_mse = mean_squared_error(y_pred_test_xgbr, y_test)\n",
    "\n",
    "print(\"R^2 Score: \", test_xgbr_score)\n",
    "print(\"RMSE: \", np.sqrt(test_xgbr_mse))\n",
    "\n",
    "visualizer = PredictionError(xgbr)\n",
    "visualizer.fit(x_train.drop(columns={\"Date\"}), y_train[\"CrowdednessCount\"]) # Fit the training data to the visualizer\n",
    "visualizer.score(x_test, y_test)  # Evaluate the model on the test data\n",
    "g = visualizer.poof() "
   ]
  },
  {
   "cell_type": "code",
   "execution_count": null,
   "metadata": {},
   "outputs": [],
   "source": [
    "#Time series\n",
    "time_pred_test_xgbr = xgbr.predict(x_test_series)\n",
    "\n",
    "time_pred_series_test_xgbr = pd.Series(time_pred_test_xgbr)\n",
    "time_real_series_test_xgbr = pd.Series(y_test_series)\n",
    "\n",
    "time_real_series_test_xgbr.plot(legend=True, label=\"Actual\")\n",
    "time_pred_series_test_xgbr.plot(legend=True, title='Crowdedness Prediction - XGBoost Regressor', label=\"Predicted\")\n",
    "plt.show()"
   ]
  },
  {
   "cell_type": "markdown",
   "metadata": {},
   "source": [
    "#### Save model to File"
   ]
  },
  {
   "cell_type": "code",
   "execution_count": 18,
   "metadata": {},
   "outputs": [],
   "source": [
    "filename = \"../../../Data_thesis/Models/xgbr_model.sav\"\n",
    "\n",
    "pickle.dump(xgbr, open(filename, 'wb'))"
   ]
  }
 ],
 "metadata": {
  "kernelspec": {
   "display_name": "Python 3",
   "language": "python",
   "name": "python3"
  },
  "language_info": {
   "codemirror_mode": {
    "name": "ipython",
    "version": 3
   },
   "file_extension": ".py",
   "mimetype": "text/x-python",
   "name": "python",
   "nbconvert_exporter": "python",
   "pygments_lexer": "ipython3",
   "version": "3.7.1"
  }
 },
 "nbformat": 4,
 "nbformat_minor": 2
}
