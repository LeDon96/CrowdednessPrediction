{
 "cells": [
  {
   "cell_type": "markdown",
   "metadata": {},
   "source": [
    "# Regression Models"
   ]
  },
  {
   "cell_type": "markdown",
   "metadata": {},
   "source": [
    "## Imports"
   ]
  },
  {
   "cell_type": "code",
   "execution_count": 1,
   "metadata": {},
   "outputs": [
    {
     "name": "stdout",
     "output_type": "stream",
     "text": [
      "Importing Jupyter notebook from TrainTestEvalSplit.ipynb\n"
     ]
    }
   ],
   "source": [
    "from sklearn.linear_model import LinearRegression\n",
    "from sklearn.ensemble import RandomForestRegressor\n",
    "\n",
    "import xgboost as xgb\n",
    "\n",
    "from sklearn.metrics import mean_squared_error\n",
    "\n",
    "from yellowbrick.regressor import PredictionError\n",
    "\n",
    "import pandas as pd\n",
    "import numpy as np\n",
    "import matplotlib.pyplot as plt\n",
    "%matplotlib inline\n",
    "import nbimporter\n",
    "\n",
    "import TrainTestEvalSplit as split\n",
    "from sklearn.model_selection import KFold\n",
    "\n",
    "import pickle\n",
    "from sklearn.utils import check_X_y"
   ]
  },
  {
   "cell_type": "markdown",
   "metadata": {},
   "source": [
    "## Import File"
   ]
  },
  {
   "cell_type": "code",
   "execution_count": 2,
   "metadata": {},
   "outputs": [
    {
     "data": {
      "text/html": [
       "<div>\n",
       "<style scoped>\n",
       "    .dataframe tbody tr th:only-of-type {\n",
       "        vertical-align: middle;\n",
       "    }\n",
       "\n",
       "    .dataframe tbody tr th {\n",
       "        vertical-align: top;\n",
       "    }\n",
       "\n",
       "    .dataframe thead th {\n",
       "        text-align: right;\n",
       "    }\n",
       "</style>\n",
       "<table border=\"1\" class=\"dataframe\">\n",
       "  <thead>\n",
       "    <tr style=\"text-align: right;\">\n",
       "      <th></th>\n",
       "      <th>Date</th>\n",
       "      <th>Hour</th>\n",
       "      <th>weekday</th>\n",
       "      <th>is_weekend</th>\n",
       "      <th>Sensor</th>\n",
       "      <th>SensorLongitude</th>\n",
       "      <th>SensorLatitude</th>\n",
       "      <th>CrowdednessCount</th>\n",
       "      <th>Lon_4.8971927</th>\n",
       "      <th>Lon_4.8973336</th>\n",
       "      <th>...</th>\n",
       "      <th>month_cos</th>\n",
       "      <th>day_sin</th>\n",
       "      <th>day_cos</th>\n",
       "      <th>hour_sin</th>\n",
       "      <th>hour_cos</th>\n",
       "      <th>Nieuwmarkt score</th>\n",
       "      <th>Nieuwezijds Kolk score</th>\n",
       "      <th>Dam score</th>\n",
       "      <th>Spui score</th>\n",
       "      <th>Centraal Station score</th>\n",
       "    </tr>\n",
       "  </thead>\n",
       "  <tbody>\n",
       "    <tr>\n",
       "      <th>0</th>\n",
       "      <td>2018-03-11</td>\n",
       "      <td>100</td>\n",
       "      <td>6.0</td>\n",
       "      <td>1.0</td>\n",
       "      <td>GAWW-04</td>\n",
       "      <td>4.897908</td>\n",
       "      <td>52.373283</td>\n",
       "      <td>886</td>\n",
       "      <td>0</td>\n",
       "      <td>0</td>\n",
       "      <td>...</td>\n",
       "      <td>0</td>\n",
       "      <td>0.188227</td>\n",
       "      <td>0.982126</td>\n",
       "      <td>0.258819</td>\n",
       "      <td>0.965926</td>\n",
       "      <td>0.000000</td>\n",
       "      <td>0.000000</td>\n",
       "      <td>102.996844</td>\n",
       "      <td>0.000000</td>\n",
       "      <td>472.993853</td>\n",
       "    </tr>\n",
       "    <tr>\n",
       "      <th>1</th>\n",
       "      <td>2018-03-11</td>\n",
       "      <td>2100</td>\n",
       "      <td>6.0</td>\n",
       "      <td>1.0</td>\n",
       "      <td>GAWW-07</td>\n",
       "      <td>4.900441</td>\n",
       "      <td>52.374414</td>\n",
       "      <td>1603</td>\n",
       "      <td>0</td>\n",
       "      <td>0</td>\n",
       "      <td>...</td>\n",
       "      <td>0</td>\n",
       "      <td>0.188227</td>\n",
       "      <td>0.982126</td>\n",
       "      <td>-0.707107</td>\n",
       "      <td>0.707107</td>\n",
       "      <td>346.998829</td>\n",
       "      <td>198.995171</td>\n",
       "      <td>1266.930956</td>\n",
       "      <td>133.989730</td>\n",
       "      <td>3859.981463</td>\n",
       "    </tr>\n",
       "    <tr>\n",
       "      <th>2</th>\n",
       "      <td>2018-03-11</td>\n",
       "      <td>2100</td>\n",
       "      <td>6.0</td>\n",
       "      <td>1.0</td>\n",
       "      <td>GAWW-08</td>\n",
       "      <td>4.897193</td>\n",
       "      <td>52.371650</td>\n",
       "      <td>21</td>\n",
       "      <td>1</td>\n",
       "      <td>0</td>\n",
       "      <td>...</td>\n",
       "      <td>0</td>\n",
       "      <td>0.188227</td>\n",
       "      <td>0.982126</td>\n",
       "      <td>-0.707107</td>\n",
       "      <td>0.707107</td>\n",
       "      <td>346.997145</td>\n",
       "      <td>198.996668</td>\n",
       "      <td>1266.966573</td>\n",
       "      <td>133.995346</td>\n",
       "      <td>3859.909232</td>\n",
       "    </tr>\n",
       "    <tr>\n",
       "      <th>3</th>\n",
       "      <td>2018-03-11</td>\n",
       "      <td>2100</td>\n",
       "      <td>6.0</td>\n",
       "      <td>1.0</td>\n",
       "      <td>GAWW-09</td>\n",
       "      <td>4.898479</td>\n",
       "      <td>52.375040</td>\n",
       "      <td>88</td>\n",
       "      <td>0</td>\n",
       "      <td>0</td>\n",
       "      <td>...</td>\n",
       "      <td>0</td>\n",
       "      <td>0.188227</td>\n",
       "      <td>0.982126</td>\n",
       "      <td>-0.707107</td>\n",
       "      <td>0.707107</td>\n",
       "      <td>346.997014</td>\n",
       "      <td>198.997601</td>\n",
       "      <td>1266.952991</td>\n",
       "      <td>133.991938</td>\n",
       "      <td>3859.978146</td>\n",
       "    </tr>\n",
       "    <tr>\n",
       "      <th>4</th>\n",
       "      <td>2018-03-11</td>\n",
       "      <td>2100</td>\n",
       "      <td>6.0</td>\n",
       "      <td>1.0</td>\n",
       "      <td>GAWW-10</td>\n",
       "      <td>4.898808</td>\n",
       "      <td>52.372369</td>\n",
       "      <td>49</td>\n",
       "      <td>0</td>\n",
       "      <td>0</td>\n",
       "      <td>...</td>\n",
       "      <td>0</td>\n",
       "      <td>0.188227</td>\n",
       "      <td>0.982126</td>\n",
       "      <td>-0.707107</td>\n",
       "      <td>0.707107</td>\n",
       "      <td>346.998943</td>\n",
       "      <td>198.995907</td>\n",
       "      <td>1266.951383</td>\n",
       "      <td>133.993174</td>\n",
       "      <td>3859.941786</td>\n",
       "    </tr>\n",
       "  </tbody>\n",
       "</table>\n",
       "<p>5 rows × 41 columns</p>\n",
       "</div>"
      ],
      "text/plain": [
       "        Date  Hour  weekday  is_weekend   Sensor  SensorLongitude  \\\n",
       "0 2018-03-11   100      6.0         1.0  GAWW-04         4.897908   \n",
       "1 2018-03-11  2100      6.0         1.0  GAWW-07         4.900441   \n",
       "2 2018-03-11  2100      6.0         1.0  GAWW-08         4.897193   \n",
       "3 2018-03-11  2100      6.0         1.0  GAWW-09         4.898479   \n",
       "4 2018-03-11  2100      6.0         1.0  GAWW-10         4.898808   \n",
       "\n",
       "   SensorLatitude  CrowdednessCount  Lon_4.8971927  Lon_4.8973336  ...  \\\n",
       "0       52.373283               886              0              0  ...   \n",
       "1       52.374414              1603              0              0  ...   \n",
       "2       52.371650                21              1              0  ...   \n",
       "3       52.375040                88              0              0  ...   \n",
       "4       52.372369                49              0              0  ...   \n",
       "\n",
       "   month_cos   day_sin   day_cos  hour_sin  hour_cos  Nieuwmarkt score  \\\n",
       "0          0  0.188227  0.982126  0.258819  0.965926          0.000000   \n",
       "1          0  0.188227  0.982126 -0.707107  0.707107        346.998829   \n",
       "2          0  0.188227  0.982126 -0.707107  0.707107        346.997145   \n",
       "3          0  0.188227  0.982126 -0.707107  0.707107        346.997014   \n",
       "4          0  0.188227  0.982126 -0.707107  0.707107        346.998943   \n",
       "\n",
       "   Nieuwezijds Kolk score    Dam score  Spui score  Centraal Station score  \n",
       "0                0.000000   102.996844    0.000000              472.993853  \n",
       "1              198.995171  1266.930956  133.989730             3859.981463  \n",
       "2              198.996668  1266.966573  133.995346             3859.909232  \n",
       "3              198.997601  1266.952991  133.991938             3859.978146  \n",
       "4              198.995907  1266.951383  133.993174             3859.941786  \n",
       "\n",
       "[5 rows x 41 columns]"
      ]
     },
     "execution_count": 2,
     "metadata": {},
     "output_type": "execute_result"
    }
   ],
   "source": [
    "full_df = pd.read_csv(\"../../../Data_thesis/Full_Datasets/Full.csv\")\n",
    "full_df[\"Date\"] = pd.to_datetime(full_df[\"Date\"], format=\"%Y-%m-%d\")\n",
    "\n",
    "full_df.head()"
   ]
  },
  {
   "cell_type": "markdown",
   "metadata": {},
   "source": [
    "## Train/Test/Eval split"
   ]
  },
  {
   "cell_type": "code",
   "execution_count": 3,
   "metadata": {},
   "outputs": [],
   "source": [
    "size = 0.9\n",
    "kf = KFold(n_splits=10, shuffle=True, random_state=42)"
   ]
  },
  {
   "cell_type": "code",
   "execution_count": 4,
   "metadata": {},
   "outputs": [],
   "source": [
    "x_train, y_train, x_test, y_test, train_dates = split.trainTestSplit(full_df, size)"
   ]
  },
  {
   "cell_type": "markdown",
   "metadata": {},
   "source": [
    "## Models"
   ]
  },
  {
   "cell_type": "markdown",
   "metadata": {},
   "source": [
    "### Baseline: Linear Regression\n",
    "Implemented the [Sklearn Version](https://scikit-learn.org/stable/modules/generated/sklearn.linear_model.LinearRegression.html#sklearn.linear_model.LinearRegression)"
   ]
  },
  {
   "cell_type": "markdown",
   "metadata": {},
   "source": [
    "#### Training"
   ]
  },
  {
   "cell_type": "code",
   "execution_count": 5,
   "metadata": {},
   "outputs": [],
   "source": [
    "base = LinearRegression(n_jobs=10, normalize=True)"
   ]
  },
  {
   "cell_type": "code",
   "execution_count": 6,
   "metadata": {},
   "outputs": [
    {
     "name": "stdout",
     "output_type": "stream",
     "text": [
      "Average R^2 Score:  0.5681423716386805\n",
      "Average RMSE Score:  645.0485377510405\n"
     ]
    }
   ],
   "source": [
    "mean_score = 0\n",
    "mean_rmse = 0\n",
    "\n",
    "for train_index, val_index in kf.split(train_dates):\n",
    "    base.fit(x_train[x_train[\"Date\"].isin(train_dates[train_index])].drop(columns={\"Date\"}),\n",
    "             y_train[y_train[\"Date\"].isin(train_dates[train_index])][\"CrowdednessCount\"])\n",
    "    \n",
    "    mean_score += base.score(x_train[x_train[\"Date\"].isin(train_dates[val_index])].drop(columns={\"Date\"}),\n",
    "             y_train[y_train[\"Date\"].isin(train_dates[val_index])][\"CrowdednessCount\"])\n",
    "    \n",
    "    y_pred_base = base.predict(x_train[x_train[\"Date\"].isin(train_dates[val_index])].drop(columns={\"Date\"}))\n",
    "    mean_rmse += np.sqrt(mean_squared_error(y_pred_base, \n",
    "                                            y_train[y_train[\"Date\"].isin(train_dates[val_index])][\"CrowdednessCount\"]))\n",
    "\n",
    "mean_score /= 10\n",
    "mean_rmse /= 10\n",
    "\n",
    "print(\"Average R^2 Score: \", mean_score)\n",
    "print(\"Average RMSE Score: \", mean_rmse)"
   ]
  },
  {
   "cell_type": "markdown",
   "metadata": {},
   "source": [
    "#### Test"
   ]
  },
  {
   "cell_type": "code",
   "execution_count": 7,
   "metadata": {},
   "outputs": [
    {
     "name": "stdout",
     "output_type": "stream",
     "text": [
      "R^2 Score:  0.574708972905425\n",
      "RMSE:  628.7498983015735\n"
     ]
    },
    {
     "data": {
      "image/png": "[encoded data removed]",
      "text/plain": [
       "<Figure size 432x288 with 1 Axes>"
      ]
     },
     "metadata": {
      "needs_background": "light"
     },
     "output_type": "display_data"
    }
   ],
   "source": [
    "test_base_score = base.score(x_test, y_test)\n",
    "\n",
    "y_pred_test_base = base.predict(x_test)\n",
    "test_base_mse = mean_squared_error(y_pred_test_base, y_test)\n",
    "\n",
    "print(\"R^2 Score: \", test_base_score)\n",
    "print(\"RMSE: \", np.sqrt(test_base_mse))\n",
    "\n",
    "visualizer = PredictionError(base)\n",
    "visualizer.fit(x_train.drop(columns={\"Date\"}), y_train[\"CrowdednessCount\"])  # Fit the training data to the visualizer\n",
    "visualizer.score(x_test, y_test)  # Evaluate the model on the test data\n",
    "g = visualizer.poof() "
   ]
  },
  {
   "cell_type": "markdown",
   "metadata": {},
   "source": [
    "### Random Forrest Regressor \n",
    "Implemented the [Sklearn Version](https://scikit-learn.org/stable/modules/generated/sklearn.ensemble.RandomForestRegressor.html)"
   ]
  },
  {
   "cell_type": "markdown",
   "metadata": {},
   "source": [
    "#### Training"
   ]
  },
  {
   "cell_type": "code",
   "execution_count": 8,
   "metadata": {},
   "outputs": [],
   "source": [
    "rfg = RandomForestRegressor(n_estimators=500, criterion=\"mse\", n_jobs=100, random_state=42, bootstrap=True, \n",
    "                               oob_score=True)"
   ]
  },
  {
   "cell_type": "code",
   "execution_count": 9,
   "metadata": {},
   "outputs": [
    {
     "name": "stdout",
     "output_type": "stream",
     "text": [
      "Average R^2 Score:  0.817449461669667\n",
      "Average RMSE Score:  416.3461300158524\n"
     ]
    }
   ],
   "source": [
    "mean_score = 0\n",
    "mean_rmse = 0\n",
    "\n",
    "for train_index, val_index in kf.split(train_dates):\n",
    "    rfg.fit(x_train[x_train[\"Date\"].isin(train_dates[train_index])].drop(columns={\"Date\"}),\n",
    "             y_train[y_train[\"Date\"].isin(train_dates[train_index])][\"CrowdednessCount\"])\n",
    "    \n",
    "    mean_score += rfg.score(x_train[x_train[\"Date\"].isin(train_dates[val_index])].drop(columns={\"Date\"}),\n",
    "             y_train[y_train[\"Date\"].isin(train_dates[val_index])][\"CrowdednessCount\"])\n",
    "    \n",
    "    y_pred_rfg = rfg.predict(x_train[x_train[\"Date\"].isin(train_dates[val_index])].drop(columns={\"Date\"}))\n",
    "    mean_rmse += np.sqrt(mean_squared_error(y_pred_rfg, \n",
    "                                            y_train[y_train[\"Date\"].isin(train_dates[val_index])][\"CrowdednessCount\"]))\n",
    "\n",
    "mean_score /= 10\n",
    "mean_rmse /= 10\n",
    "\n",
    "print(\"Average R^2 Score: \", mean_score)\n",
    "print(\"Average RMSE Score: \", mean_rmse)"
   ]
  },
  {
   "cell_type": "markdown",
   "metadata": {},
   "source": [
    "#### Test"
   ]
  },
  {
   "cell_type": "code",
   "execution_count": 10,
   "metadata": {},
   "outputs": [
    {
     "name": "stdout",
     "output_type": "stream",
     "text": [
      "R^2 Score:  0.8313023644791802\n",
      "RMSE:  395.99464734106687\n"
     ]
    },
    {
     "data": {
      "image/png": "[encoded data removed]",
      "text/plain": [
       "<Figure size 432x288 with 1 Axes>"
      ]
     },
     "metadata": {
      "needs_background": "light"
     },
     "output_type": "display_data"
    }
   ],
   "source": [
    "test_rfg_score = rfg.score(x_test, y_test)\n",
    "\n",
    "y_pred_test_rfg = rfg.predict(x_test)\n",
    "test_rfg_mse = mean_squared_error(y_pred_test_rfg, y_test)\n",
    "\n",
    "print(\"R^2 Score: \", test_rfg_score)\n",
    "print(\"RMSE: \", np.sqrt(test_rfg_mse))\n",
    "\n",
    "visualizer = PredictionError(rfg)\n",
    "visualizer.fit(x_train.drop(columns={\"Date\"}), y_train[\"CrowdednessCount\"])  # Fit the training data to the visualizer\n",
    "visualizer.score(x_test, y_test)  # Evaluate the model on the test data\n",
    "g = visualizer.poof() "
   ]
  },
  {
   "cell_type": "markdown",
   "metadata": {},
   "source": [
    "#### Save Model"
   ]
  },
  {
   "cell_type": "code",
   "execution_count": 16,
   "metadata": {},
   "outputs": [],
   "source": [
    "filename = \"../../../Data_thesis/Models/rfg_model.sav\"\n",
    "\n",
    "pickle.dump(rfg, open(filename, 'wb'))"
   ]
  },
  {
   "cell_type": "markdown",
   "metadata": {},
   "source": [
    "### XGBoost Regressor\n",
    "Through [SciKit-Learn API](https://xgboost.readthedocs.io/en/latest/python/python_api.html) "
   ]
  },
  {
   "cell_type": "markdown",
   "metadata": {},
   "source": [
    "#### Training"
   ]
  },
  {
   "cell_type": "code",
   "execution_count": 11,
   "metadata": {},
   "outputs": [],
   "source": [
    "xgbr = xgb.XGBRegressor(max_depth=6, learning_rate=0.08, n_estimators=500, verbosity=1,\n",
    "                          booster=\"gbtree\", n_jobs=50, random_state=42)"
   ]
  },
  {
   "cell_type": "code",
   "execution_count": 12,
   "metadata": {},
   "outputs": [
    {
     "name": "stdout",
     "output_type": "stream",
     "text": [
      "Average R^2 Score:  0.8266354773156328\n",
      "Average RMSE Score:  404.7650130646047\n"
     ]
    }
   ],
   "source": [
    "mean_score = 0\n",
    "mean_rmse = 0\n",
    "\n",
    "for train_index, val_index in kf.split(train_dates):\n",
    "    \n",
    "    x_train_con, y_train_con = check_X_y(X=x_train[x_train[\"Date\"].isin(train_dates[train_index])].drop(columns={\"Date\"}),\n",
    "                                        y=y_train[y_train[\"Date\"].isin(train_dates[train_index])][\"CrowdednessCount\"])\n",
    "    \n",
    "    xgbr.fit(x_train_con,y_train_con)\n",
    "    \n",
    "    x_val_con, y_val_con = check_X_y(X=x_train[x_train[\"Date\"].isin(train_dates[val_index])].drop(columns={\"Date\"}),\n",
    "                                        y=y_train[y_train[\"Date\"].isin(train_dates[val_index])][\"CrowdednessCount\"])\n",
    "    \n",
    "    mean_score += xgbr.score(x_val_con,y_val_con)\n",
    "    \n",
    "    y_pred_xgbr = xgbr.predict(x_val_con)\n",
    "    mean_rmse += np.sqrt(mean_squared_error(y_pred_xgbr,y_val_con))\n",
    "\n",
    "mean_score /= 10\n",
    "mean_rmse /= 10\n",
    "\n",
    "print(\"Average R^2 Score: \", mean_score)\n",
    "print(\"Average RMSE Score: \", mean_rmse)"
   ]
  },
  {
   "cell_type": "markdown",
   "metadata": {},
   "source": [
    "#### Test"
   ]
  },
  {
   "cell_type": "code",
   "execution_count": 13,
   "metadata": {},
   "outputs": [
    {
     "name": "stdout",
     "output_type": "stream",
     "text": [
      "R^2 Score:  0.8199316630685494\n",
      "RMSE:  409.1226225694469\n"
     ]
    },
    {
     "name": "stderr",
     "output_type": "stream",
     "text": [
      "D:\\Programs\\Anaconda\\envs\\Analytics\\lib\\site-packages\\xgboost\\core.py:587: FutureWarning: Series.base is deprecated and will be removed in a future version\n",
      "  if getattr(data, 'base', None) is not None and \\\n",
      "D:\\Programs\\Anaconda\\envs\\Analytics\\lib\\site-packages\\xgboost\\core.py:588: FutureWarning: Series.base is deprecated and will be removed in a future version\n",
      "  data.base is not None and isinstance(data, np.ndarray) \\\n"
     ]
    },
    {
     "data": {
      "image/png": "[encoded data removed]",
      "text/plain": [
       "<Figure size 432x288 with 1 Axes>"
      ]
     },
     "metadata": {
      "needs_background": "light"
     },
     "output_type": "display_data"
    }
   ],
   "source": [
    "x_test_con, y_test_con = check_X_y(X=x_test, y=y_test)\n",
    "\n",
    "test_xgbr_score = xgbr.score(x_test_con, y_test_con)\n",
    "\n",
    "y_pred_test_xgbr = xgbr.predict(x_test_con)\n",
    "test_xgbr_mse = mean_squared_error(y_pred_test_xgbr, y_test_con)\n",
    "\n",
    "print(\"R^2 Score: \", test_xgbr_score)\n",
    "print(\"RMSE: \", np.sqrt(test_xgbr_mse))\n",
    "\n",
    "visualizer = PredictionError(xgbr)\n",
    "visualizer.fit(x_train.drop(columns={\"Date\"}), y_train[\"CrowdednessCount\"]) # Fit the training data to the visualizer\n",
    "visualizer.score(x_test, y_test)  # Evaluate the model on the test data\n",
    "g = visualizer.poof() "
   ]
  },
  {
   "cell_type": "markdown",
   "metadata": {},
   "source": [
    "#### Save model to File"
   ]
  },
  {
   "cell_type": "code",
   "execution_count": 18,
   "metadata": {},
   "outputs": [],
   "source": [
    "filename = \"../../../Data_thesis/Models/xgbr_model.sav\"\n",
    "\n",
    "pickle.dump(xgbr, open(filename, 'wb'))"
   ]
  }
 ],
 "metadata": {
  "kernelspec": {
   "display_name": "Python 3",
   "language": "python",
   "name": "python3"
  },
  "language_info": {
   "codemirror_mode": {
    "name": "ipython",
    "version": 3
   },
   "file_extension": ".py",
   "mimetype": "text/x-python",
   "name": "python",
   "nbconvert_exporter": "python",
   "pygments_lexer": "ipython3",
   "version": "3.7.1"
  }
 },
 "nbformat": 4,
 "nbformat_minor": 2
}
